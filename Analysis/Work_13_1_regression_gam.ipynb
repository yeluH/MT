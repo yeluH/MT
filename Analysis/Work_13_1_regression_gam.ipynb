{
 "cells": [
  {
   "cell_type": "code",
   "execution_count": 1,
   "id": "7e9f75d8-3be9-45ef-b9ae-ad72fefb7ce1",
   "metadata": {
    "execution": {
     "iopub.execute_input": "2024-04-26T11:14:19.064984Z",
     "iopub.status.busy": "2024-04-26T11:14:19.064216Z",
     "iopub.status.idle": "2024-04-26T11:14:22.504197Z",
     "shell.execute_reply": "2024-04-26T11:14:22.503321Z",
     "shell.execute_reply.started": "2024-04-26T11:14:19.064949Z"
    }
   },
   "outputs": [],
   "source": [
    "import torch\n",
    "torch.cuda.empty_cache() "
   ]
  },
  {
   "cell_type": "code",
   "execution_count": 2,
   "id": "f3e5fa71-37bd-4efe-b8ee-ae3c362b2a1b",
   "metadata": {
    "execution": {
     "iopub.execute_input": "2024-04-26T11:14:22.506583Z",
     "iopub.status.busy": "2024-04-26T11:14:22.505977Z",
     "iopub.status.idle": "2024-04-26T11:14:23.105796Z",
     "shell.execute_reply": "2024-04-26T11:14:23.105296Z",
     "shell.execute_reply.started": "2024-04-26T11:14:22.506553Z"
    }
   },
   "outputs": [],
   "source": [
    "import os \n",
    "os.environ['MPLCONFIGDIR'] = os.getcwd() + \"/configs/\"\n",
    "import matplotlib\n",
    "from matplotlib import pyplot as plt\n",
    "import numpy as np\n",
    "import cv2\n",
    "import urllib.request\n",
    "from PIL import Image"
   ]
  },
  {
   "cell_type": "code",
   "execution_count": 3,
   "id": "132db61a-9aa6-4936-8ab4-054288d07d2e",
   "metadata": {
    "execution": {
     "iopub.execute_input": "2024-04-26T11:14:23.107196Z",
     "iopub.status.busy": "2024-04-26T11:14:23.106766Z",
     "iopub.status.idle": "2024-04-26T11:14:23.806518Z",
     "shell.execute_reply": "2024-04-26T11:14:23.806041Z",
     "shell.execute_reply.started": "2024-04-26T11:14:23.107170Z"
    }
   },
   "outputs": [],
   "source": [
    "import pandas as pd\n",
    "import pyproj"
   ]
  },
  {
   "cell_type": "code",
   "execution_count": 4,
   "id": "80d61825-dc8d-4005-9362-cf497e771695",
   "metadata": {
    "execution": {
     "iopub.execute_input": "2024-04-26T11:14:23.808776Z",
     "iopub.status.busy": "2024-04-26T11:14:23.808220Z",
     "iopub.status.idle": "2024-04-26T11:14:23.812196Z",
     "shell.execute_reply": "2024-04-26T11:14:23.811653Z",
     "shell.execute_reply.started": "2024-04-26T11:14:23.808746Z"
    }
   },
   "outputs": [],
   "source": [
    "import os \n",
    "os.environ['MPLCONFIGDIR'] = os.getcwd() + \"/configs/\"\n",
    "import matplotlib\n",
    "from matplotlib import pyplot as plt\n",
    "import numpy as np\n",
    "import cv2"
   ]
  },
  {
   "cell_type": "code",
   "execution_count": 5,
   "id": "e6000c92-6b7e-4ee5-9c30-ac0dfed91840",
   "metadata": {
    "execution": {
     "iopub.execute_input": "2024-04-26T11:14:23.813750Z",
     "iopub.status.busy": "2024-04-26T11:14:23.813345Z",
     "iopub.status.idle": "2024-04-26T11:14:23.820390Z",
     "shell.execute_reply": "2024-04-26T11:14:23.819848Z",
     "shell.execute_reply.started": "2024-04-26T11:14:23.813722Z"
    }
   },
   "outputs": [],
   "source": [
    "from pathlib import Path"
   ]
  },
  {
   "cell_type": "code",
   "execution_count": 6,
   "id": "59dfb1fc-7192-4ae1-9df9-596320cc4875",
   "metadata": {
    "execution": {
     "iopub.execute_input": "2024-04-26T11:14:23.821954Z",
     "iopub.status.busy": "2024-04-26T11:14:23.821556Z",
     "iopub.status.idle": "2024-04-26T11:14:23.846886Z",
     "shell.execute_reply": "2024-04-26T11:14:23.846421Z",
     "shell.execute_reply.started": "2024-04-26T11:14:23.821930Z"
    }
   },
   "outputs": [],
   "source": [
    "import joblib"
   ]
  },
  {
   "cell_type": "code",
   "execution_count": 7,
   "id": "923fac26-61e2-49dd-9099-e31ff4079430",
   "metadata": {
    "execution": {
     "iopub.execute_input": "2024-04-26T11:14:23.848243Z",
     "iopub.status.busy": "2024-04-26T11:14:23.847824Z",
     "iopub.status.idle": "2024-04-26T11:14:24.223450Z",
     "shell.execute_reply": "2024-04-26T11:14:24.222729Z",
     "shell.execute_reply.started": "2024-04-26T11:14:23.848218Z"
    }
   },
   "outputs": [],
   "source": [
    "from mt_function_yl import *"
   ]
  },
  {
   "cell_type": "code",
   "execution_count": 8,
   "id": "8376ffe7-7aec-4e11-9f86-32619931952f",
   "metadata": {
    "execution": {
     "iopub.execute_input": "2024-04-26T11:14:24.224668Z",
     "iopub.status.busy": "2024-04-26T11:14:24.224347Z",
     "iopub.status.idle": "2024-04-26T11:14:24.320934Z",
     "shell.execute_reply": "2024-04-26T11:14:24.320279Z",
     "shell.execute_reply.started": "2024-04-26T11:14:24.224647Z"
    }
   },
   "outputs": [],
   "source": [
    "import seaborn as sn"
   ]
  },
  {
   "cell_type": "code",
   "execution_count": 9,
   "id": "78c65919-07d0-4aba-a8dc-87298c4b96d6",
   "metadata": {
    "execution": {
     "iopub.execute_input": "2024-04-26T11:14:24.322354Z",
     "iopub.status.busy": "2024-04-26T11:14:24.321990Z",
     "iopub.status.idle": "2024-04-26T11:14:24.325546Z",
     "shell.execute_reply": "2024-04-26T11:14:24.324711Z",
     "shell.execute_reply.started": "2024-04-26T11:14:24.322330Z"
    }
   },
   "outputs": [],
   "source": [
    "from scipy import stats"
   ]
  },
  {
   "cell_type": "code",
   "execution_count": 10,
   "id": "37ca928e-82c3-4ae7-a6c6-3f18c1c233ba",
   "metadata": {
    "execution": {
     "iopub.execute_input": "2024-04-26T11:14:24.327951Z",
     "iopub.status.busy": "2024-04-26T11:14:24.327708Z",
     "iopub.status.idle": "2024-04-26T11:14:24.342638Z",
     "shell.execute_reply": "2024-04-26T11:14:24.342057Z",
     "shell.execute_reply.started": "2024-04-26T11:14:24.327930Z"
    }
   },
   "outputs": [],
   "source": [
    "from tabulate import tabulate"
   ]
  },
  {
   "cell_type": "code",
   "execution_count": 11,
   "id": "b46d5518-dab4-4896-a3f7-7aa74a012e35",
   "metadata": {
    "execution": {
     "iopub.execute_input": "2024-04-26T11:14:24.343626Z",
     "iopub.status.busy": "2024-04-26T11:14:24.343394Z",
     "iopub.status.idle": "2024-04-26T11:14:24.665605Z",
     "shell.execute_reply": "2024-04-26T11:14:24.664921Z",
     "shell.execute_reply.started": "2024-04-26T11:14:24.343604Z"
    }
   },
   "outputs": [],
   "source": [
    "import statsmodels.api as sm"
   ]
  },
  {
   "cell_type": "code",
   "execution_count": 12,
   "id": "e1804d06-b69a-4709-ac5c-1970d29c38a2",
   "metadata": {
    "execution": {
     "iopub.execute_input": "2024-04-26T11:14:24.666707Z",
     "iopub.status.busy": "2024-04-26T11:14:24.666412Z",
     "iopub.status.idle": "2024-04-26T11:14:24.818758Z",
     "shell.execute_reply": "2024-04-26T11:14:24.818019Z",
     "shell.execute_reply.started": "2024-04-26T11:14:24.666689Z"
    }
   },
   "outputs": [],
   "source": [
    "from sklearn import tree\n",
    "from sklearn.tree import DecisionTreeClassifier\n",
    "\n",
    "from sklearn.cluster import AgglomerativeClustering\n",
    "from sklearn.cluster import DBSCAN\n",
    "from sklearn.cluster import HDBSCAN\n",
    "from sklearn.cluster import KMeans\n",
    "from sklearn.model_selection import train_test_split\n",
    "\n",
    "from sklearn import metrics\n",
    "from sklearn.metrics import accuracy_score\n",
    "from sklearn.metrics import accuracy_score, confusion_matrix, roc_auc_score, roc_curve\n",
    "\n",
    "from sklearn import linear_model\n",
    "\n",
    "from sklearn.neighbors import KNeighborsClassifier\n",
    "\n",
    "from sklearn.ensemble import RandomForestClassifier\n",
    "\n",
    "from sklearn.preprocessing import LabelEncoder\n",
    "\n",
    "from sklearn import svm\n",
    "\n",
    "import seaborn as sn\n",
    "\n",
    "\n",
    "# For regression\n",
    "from sklearn.ensemble import RandomForestRegressor\n",
    "from sklearn.metrics import PredictionErrorDisplay"
   ]
  },
  {
   "cell_type": "markdown",
   "id": "11486eff-60e0-460e-a14b-9a0ab0628a50",
   "metadata": {},
   "source": [
    "### Data loading"
   ]
  },
  {
   "cell_type": "code",
   "execution_count": 80,
   "id": "bd1de1e5-d842-482d-9027-047b5690f2c0",
   "metadata": {
    "execution": {
     "iopub.execute_input": "2024-04-26T13:03:09.001209Z",
     "iopub.status.busy": "2024-04-26T13:03:09.000458Z",
     "iopub.status.idle": "2024-04-26T13:03:09.013707Z",
     "shell.execute_reply": "2024-04-26T13:03:09.013077Z",
     "shell.execute_reply.started": "2024-04-26T13:03:09.001183Z"
    }
   },
   "outputs": [],
   "source": [
    "aa = pd.read_csv('/home/yelhe/script/mt/dataraw/dfaa.csv')"
   ]
  },
  {
   "cell_type": "code",
   "execution_count": 81,
   "id": "81878c3e-4db4-46cf-bff2-e3655f317434",
   "metadata": {
    "execution": {
     "iopub.execute_input": "2024-04-26T13:03:09.146609Z",
     "iopub.status.busy": "2024-04-26T13:03:09.146241Z",
     "iopub.status.idle": "2024-04-26T13:03:09.178595Z",
     "shell.execute_reply": "2024-04-26T13:03:09.177961Z",
     "shell.execute_reply.started": "2024-04-26T13:03:09.146588Z"
    }
   },
   "outputs": [],
   "source": [
    "acv = pd.read_csv('/home/yelhe/script/mt/model/allvariable_accident.csv')\n",
    "rpv = pd.read_csv('/home/yelhe/script/mt/model/allvariable_rp.csv')"
   ]
  },
  {
   "cell_type": "code",
   "execution_count": 82,
   "id": "5c7a0a48-f8f2-41eb-bed3-b3a34871af2d",
   "metadata": {
    "execution": {
     "iopub.execute_input": "2024-04-26T13:03:09.302199Z",
     "iopub.status.busy": "2024-04-26T13:03:09.301763Z",
     "iopub.status.idle": "2024-04-26T13:03:09.308141Z",
     "shell.execute_reply": "2024-04-26T13:03:09.307505Z",
     "shell.execute_reply.started": "2024-04-26T13:03:09.302178Z"
    }
   },
   "outputs": [],
   "source": [
    "# personal injusry presence\n",
    "acv = acv.assign(inp = 1)\n",
    "acv.loc[(acv['SV'] == 0) & (acv['LV'] == 0), 'inp'] = 0"
   ]
  },
  {
   "cell_type": "code",
   "execution_count": 83,
   "id": "e7247db1-73e1-4e56-9535-14e51d6bdc86",
   "metadata": {
    "execution": {
     "iopub.execute_input": "2024-04-26T13:03:09.666798Z",
     "iopub.status.busy": "2024-04-26T13:03:09.666092Z",
     "iopub.status.idle": "2024-04-26T13:03:09.670616Z",
     "shell.execute_reply": "2024-04-26T13:03:09.669966Z",
     "shell.execute_reply.started": "2024-04-26T13:03:09.666773Z"
    }
   },
   "outputs": [
    {
     "name": "stdout",
     "output_type": "stream",
     "text": [
      "['Nr' 'cp' 'ie' 'iemin' 'iemax' 'mew' 'mewmin' 'mewmax' 'meg' 'megmin'\n",
      " 'megmax' 'cmean' 'cmin' 'cmax' 'dbusl' 'dtraml' 'dtrainl' 'dplight'\n",
      " 'dstation' 'dparkcar' 'dparktw' 'dpedcro' 'dstopsign' 'dcurb'\n",
      " 'dtrafficarea' 'droad' 'droad_sl' 'dvfpath' 'd_bicyclecount' 'd_carcount'\n",
      " 'gvm_dwv' 'gvm_msp' 'gvm_asp' 'bicyclecount' 'carcount' 'r_width_value'\n",
      " 'speedlimit_value' 'curbtype' 'z_qnr' 'z_knr' 'trafficarea' 'r_width'\n",
      " 'r_surface' 'speedlimit' 'curbtype_1' 'curbtype_2' 'z_qnr_1' 'z_qnr_2'\n",
      " 'z_qnr_3' 'z_qnr_4' 'z_qnr_5' 'z_qnr_6' 'z_qnr_7' 'z_qnr_8' 'z_qnr_9'\n",
      " 'z_qnr_10' 'z_qnr_11' 'z_qnr_12' 'z_qnr_13' 'z_qnr_14' 'z_qnr_15'\n",
      " 'z_qnr_16' 'z_qnr_17' 'z_qnr_18' 'z_qnr_19' 'z_qnr_20' 'z_qnr_21'\n",
      " 'z_qnr_22' 'z_qnr_23' 'z_qnr_24' 'z_qnr_25' 'z_qnr_26' 'z_qnr_27'\n",
      " 'z_qnr_28' 'z_qnr_29' 'z_qnr_30' 'z_qnr_31' 'z_qnr_32' 'z_qnr_33'\n",
      " 'z_knr_1' 'z_knr_2' 'z_knr_3' 'z_knr_4' 'z_knr_5' 'z_knr_6' 'z_knr_7'\n",
      " 'z_knr_8' 'z_knr_9' 'z_knr_10' 'z_knr_11' 'z_knr_12' 'trafficarea_1'\n",
      " 'trafficarea_2' 'trafficarea_3' 'r_width_1' 'r_width_2' 'r_width_3'\n",
      " 'r_width_4' 'r_width_5' 'r_width_6' 'r_width_7' 'r_surface_1'\n",
      " 'r_surface_2' 'speedlimit_1' 'speedlimit_2' 'speedlimit_3' 'speedlimit_4'\n",
      " 'speedlimit_5' 'speedlimit_6' 'SV' 'LV' 'pd' 'svp' 'lvp' 'pdp' 'inp']\n"
     ]
    }
   ],
   "source": [
    "print(acv.columns.values)"
   ]
  },
  {
   "cell_type": "code",
   "execution_count": 84,
   "id": "86d1d00b-b48c-4a59-8177-ddca1f0e0411",
   "metadata": {
    "execution": {
     "iopub.execute_input": "2024-04-26T13:03:09.908436Z",
     "iopub.status.busy": "2024-04-26T13:03:09.907658Z",
     "iopub.status.idle": "2024-04-26T13:03:09.911813Z",
     "shell.execute_reply": "2024-04-26T13:03:09.911139Z",
     "shell.execute_reply.started": "2024-04-26T13:03:09.908413Z"
    }
   },
   "outputs": [
    {
     "name": "stdout",
     "output_type": "stream",
     "text": [
      "['id' 'cp' 'ie' 'iemin' 'iemax' 'mew' 'mewmin' 'mewmax' 'meg' 'megmin'\n",
      " 'megmax' 'cmean' 'cmin' 'cmax' 'dbusl' 'dtraml' 'dtrainl' 'dplight'\n",
      " 'dstation' 'dparkcar' 'dparktw' 'dpedcro' 'dstopsign' 'dcurb'\n",
      " 'dtrafficarea' 'droad' 'droad_sl' 'dvfpath' 'd_bicyclecount' 'd_carcount'\n",
      " 'gvm_dwv' 'gvm_msp' 'gvm_asp' 'bicyclecount' 'carcount' 'r_width_value'\n",
      " 'speedlimit_value' 'curbtype' 'z_qnr' 'z_knr' 'trafficarea' 'r_width'\n",
      " 'r_surface' 'speedlimit' 'curbtype_1' 'curbtype_2' 'z_qnr_1' 'z_qnr_2'\n",
      " 'z_qnr_3' 'z_qnr_4' 'z_qnr_5' 'z_qnr_6' 'z_qnr_7' 'z_qnr_8' 'z_qnr_9'\n",
      " 'z_qnr_10' 'z_qnr_11' 'z_qnr_12' 'z_qnr_13' 'z_qnr_14' 'z_qnr_15'\n",
      " 'z_qnr_16' 'z_qnr_17' 'z_qnr_18' 'z_qnr_19' 'z_qnr_20' 'z_qnr_21'\n",
      " 'z_qnr_22' 'z_qnr_23' 'z_qnr_24' 'z_qnr_25' 'z_qnr_26' 'z_qnr_27'\n",
      " 'z_qnr_28' 'z_qnr_29' 'z_qnr_30' 'z_qnr_31' 'z_qnr_32' 'z_qnr_33'\n",
      " 'z_qnr_34' 'z_knr_1' 'z_knr_2' 'z_knr_3' 'z_knr_4' 'z_knr_5' 'z_knr_6'\n",
      " 'z_knr_7' 'z_knr_8' 'z_knr_9' 'z_knr_10' 'z_knr_11' 'z_knr_12'\n",
      " 'trafficarea_1' 'trafficarea_2' 'trafficarea_3' 'r_width_1' 'r_width_2'\n",
      " 'r_width_3' 'r_width_4' 'r_width_5' 'r_width_6' 'r_width_7' 'r_surface_1'\n",
      " 'r_surface_2' 'speedlimit_1' 'speedlimit_2' 'speedlimit_3' 'speedlimit_4'\n",
      " 'speedlimit_5' 'speedlimit_6' 'speedlimit_7']\n"
     ]
    }
   ],
   "source": [
    "print(rpv.columns.values)"
   ]
  },
  {
   "cell_type": "code",
   "execution_count": 85,
   "id": "5350531d-d89c-4452-8052-9a706f0d77aa",
   "metadata": {
    "execution": {
     "iopub.execute_input": "2024-04-26T13:03:10.217925Z",
     "iopub.status.busy": "2024-04-26T13:03:10.217562Z",
     "iopub.status.idle": "2024-04-26T13:03:10.224699Z",
     "shell.execute_reply": "2024-04-26T13:03:10.224039Z",
     "shell.execute_reply.started": "2024-04-26T13:03:10.217904Z"
    }
   },
   "outputs": [
    {
     "data": {
      "text/plain": [
       "svp\n",
       "0    246\n",
       "1     49\n",
       "dtype: int64"
      ]
     },
     "execution_count": 85,
     "metadata": {},
     "output_type": "execute_result"
    }
   ],
   "source": [
    "acv.groupby(['svp']).size()"
   ]
  },
  {
   "cell_type": "markdown",
   "id": "b20ae04a-dcf4-47cd-a9e1-aa6b93277da0",
   "metadata": {},
   "source": [
    "### Regression"
   ]
  },
  {
   "cell_type": "code",
   "execution_count": 86,
   "id": "e1b481ac-d28a-4332-972c-57f2bda4d506",
   "metadata": {
    "execution": {
     "iopub.execute_input": "2024-04-26T13:03:12.687977Z",
     "iopub.status.busy": "2024-04-26T13:03:12.687666Z",
     "iopub.status.idle": "2024-04-26T13:03:12.693418Z",
     "shell.execute_reply": "2024-04-26T13:03:12.692699Z",
     "shell.execute_reply.started": "2024-04-26T13:03:12.687959Z"
    }
   },
   "outputs": [],
   "source": [
    "# Remove 'd_bicyclecount' 'd_carcount''droad_sl'\n",
    "cn = ['cp', 'ie', 'iemin', 'iemax', 'mew', 'mewmin', 'mewmax', 'meg', \n",
    "      'megmin', 'megmax', 'cmean', 'cmin', 'cmax', 'dbusl', 'dtraml', \n",
    "      'dtrainl', 'dplight', 'dstation', 'dparkcar', 'dparktw', 'dpedcro', 'dstopsign', 'dcurb',\n",
    "      'dtrafficarea', 'droad', 'dvfpath', 'gvm_dwv', 'gvm_msp', 'gvm_asp', 'r_width_value',\n",
    "      'speedlimit_value', 'curbtype_1', 'curbtype_2', 'z_qnr_1', 'z_qnr_2', 'z_qnr_3', 'z_qnr_4', 'z_qnr_5',\n",
    "      'z_qnr_6', 'z_qnr_7', 'z_qnr_8', 'z_qnr_9', 'z_qnr_10', 'z_qnr_11', 'z_qnr_12', 'z_qnr_13',\n",
    "      'z_qnr_14', 'z_qnr_15', 'z_qnr_16', 'z_qnr_17', 'z_qnr_18',\n",
    "      'z_qnr_19', 'z_qnr_20', 'z_qnr_21', 'z_qnr_22', 'z_qnr_23', 'z_qnr_24',\n",
    "       'z_qnr_25', 'z_qnr_26', 'z_qnr_27', 'z_qnr_28', 'z_qnr_29', 'z_qnr_30',\n",
    "       'z_qnr_31', 'z_qnr_32', 'z_qnr_33', 'z_knr_1', 'z_knr_2', 'z_knr_3',\n",
    "       'z_knr_4', 'z_knr_5', 'z_knr_6', 'z_knr_7', 'z_knr_8', 'z_knr_9',\n",
    "       'z_knr_10', 'z_knr_11', 'z_knr_12', 'trafficarea_1', 'trafficarea_2',\n",
    "       'trafficarea_3', 'r_width_1', 'r_width_2', 'r_width_3', 'r_width_4',\n",
    "       'r_width_5', 'r_width_6', 'r_width_7', 'r_surface_1', 'r_surface_2',\n",
    "       'speedlimit_1', 'speedlimit_2', 'speedlimit_3', 'speedlimit_4',\n",
    "       'speedlimit_5', 'speedlimit_6', 'bicyclecount', 'carcount']"
   ]
  },
  {
   "cell_type": "code",
   "execution_count": 87,
   "id": "04ed1bef-22fb-4cc7-bf2d-ec11de01e03a",
   "metadata": {
    "execution": {
     "iopub.execute_input": "2024-04-26T13:03:13.126542Z",
     "iopub.status.busy": "2024-04-26T13:03:13.125802Z",
     "iopub.status.idle": "2024-04-26T13:03:13.130351Z",
     "shell.execute_reply": "2024-04-26T13:03:13.129761Z",
     "shell.execute_reply.started": "2024-04-26T13:03:13.126519Z"
    }
   },
   "outputs": [
    {
     "data": {
      "text/plain": [
       "98"
      ]
     },
     "execution_count": 87,
     "metadata": {},
     "output_type": "execute_result"
    }
   ],
   "source": [
    "len(cn)"
   ]
  },
  {
   "cell_type": "code",
   "execution_count": 88,
   "id": "1d505ab9-176f-4e06-b466-950ace00a113",
   "metadata": {
    "execution": {
     "iopub.execute_input": "2024-04-26T13:03:13.418733Z",
     "iopub.status.busy": "2024-04-26T13:03:13.418134Z",
     "iopub.status.idle": "2024-04-26T13:03:13.421998Z",
     "shell.execute_reply": "2024-04-26T13:03:13.421290Z",
     "shell.execute_reply.started": "2024-04-26T13:03:13.418706Z"
    }
   },
   "outputs": [],
   "source": [
    "from statsmodels.gam.api import GLMGam, BSplines"
   ]
  },
  {
   "cell_type": "code",
   "execution_count": 89,
   "id": "18f1f0a7-6903-452c-86b5-74db1ac9a6bc",
   "metadata": {
    "execution": {
     "iopub.execute_input": "2024-04-26T13:03:15.296038Z",
     "iopub.status.busy": "2024-04-26T13:03:15.295452Z",
     "iopub.status.idle": "2024-04-26T13:03:15.298720Z",
     "shell.execute_reply": "2024-04-26T13:03:15.298154Z",
     "shell.execute_reply.started": "2024-04-26T13:03:15.296016Z"
    }
   },
   "outputs": [],
   "source": [
    "# pip install pygam\n",
    "import pygam"
   ]
  },
  {
   "cell_type": "code",
   "execution_count": 226,
   "id": "f7cfc74b-0007-4416-9563-bf915ce701d2",
   "metadata": {
    "execution": {
     "iopub.execute_input": "2024-04-26T14:54:45.180842Z",
     "iopub.status.busy": "2024-04-26T14:54:45.180405Z",
     "iopub.status.idle": "2024-04-26T14:54:45.204675Z",
     "shell.execute_reply": "2024-04-26T14:54:45.203784Z",
     "shell.execute_reply.started": "2024-04-26T14:54:45.180820Z"
    }
   },
   "outputs": [
    {
     "ename": "NameError",
     "evalue": "name 's' is not defined",
     "output_type": "error",
     "traceback": [
      "\u001b[0;31m---------------------------------------------------------------------------\u001b[0m",
      "\u001b[0;31mNameError\u001b[0m                                 Traceback (most recent call last)",
      "Cell \u001b[0;32mIn[226], line 3\u001b[0m\n\u001b[1;32m      1\u001b[0m \u001b[38;5;66;03m# y1 = acv['svp']\u001b[39;00m\n\u001b[1;32m      2\u001b[0m \u001b[38;5;66;03m# x = acv[cn]\u001b[39;00m\n\u001b[0;32m----> 3\u001b[0m gamtry \u001b[38;5;241m=\u001b[39m pygam\u001b[38;5;241m.\u001b[39mLinearGAM(\u001b[43ms\u001b[49m(\u001b[38;5;241m0\u001b[39m, n_splines\u001b[38;5;241m=\u001b[39m\u001b[38;5;241m1\u001b[39m) \u001b[38;5;241m+\u001b[39m s(\u001b[38;5;241m1\u001b[39m) \u001b[38;5;241m+\u001b[39m s(\u001b[38;5;241m2\u001b[39m))\u001b[38;5;241m.\u001b[39mfit(x, y1)\n\u001b[1;32m      4\u001b[0m \u001b[38;5;66;03m# gamtr = pygam.LinearGAM(nsplines = 1).fit(x, y1)\u001b[39;00m\n",
      "\u001b[0;31mNameError\u001b[0m: name 's' is not defined"
     ]
    }
   ],
   "source": [
    "# y1 = acv['svp']\n",
    "# x = acv[cn]\n",
    "gamtry = pygam.LinearGAM(s(0, n_splines=1) + s(1) + s(2)).fit(x, y1)\n",
    "# gamtr = pygam.LinearGAM(nsplines = 1).fit(x, y1)"
   ]
  },
  {
   "cell_type": "code",
   "execution_count": 90,
   "id": "2c6ba868-e633-4072-b4a9-b5e36986a3a9",
   "metadata": {
    "execution": {
     "iopub.execute_input": "2024-04-26T13:03:15.589381Z",
     "iopub.status.busy": "2024-04-26T13:03:15.588899Z",
     "iopub.status.idle": "2024-04-26T13:03:26.557990Z",
     "shell.execute_reply": "2024-04-26T13:03:26.556855Z",
     "shell.execute_reply.started": "2024-04-26T13:03:15.589359Z"
    }
   },
   "outputs": [],
   "source": [
    "y1 = acv['svp']\n",
    "x = acv[cn]\n",
    "gam1 = pygam.LinearGAM().fit(x, y1)"
   ]
  },
  {
   "cell_type": "code",
   "execution_count": 91,
   "id": "6cd37d07-3aa1-47f6-a9a6-dda168a50976",
   "metadata": {
    "execution": {
     "iopub.execute_input": "2024-04-26T13:03:26.560220Z",
     "iopub.status.busy": "2024-04-26T13:03:26.559936Z",
     "iopub.status.idle": "2024-04-26T13:03:26.574845Z",
     "shell.execute_reply": "2024-04-26T13:03:26.574216Z",
     "shell.execute_reply.started": "2024-04-26T13:03:26.560198Z"
    }
   },
   "outputs": [
    {
     "name": "stdout",
     "output_type": "stream",
     "text": [
      "LinearGAM                                                                                                 \n",
      "=============================================== ==========================================================\n",
      "Distribution:                        NormalDist Effective DoF:                                    125.4164\n",
      "Link Function:                     IdentityLink Log Likelihood:                                  -377.0746\n",
      "Number of Samples:                          295 AIC:                                              1006.982\n",
      "                                                AICc:                                            1199.2146\n",
      "                                                GCV:                                                0.3974\n",
      "                                                Scale:                                              0.1133\n",
      "                                                Pseudo R-Squared:                                   0.5298\n",
      "==========================================================================================================\n",
      "Feature Function                  Lambda               Rank         EDoF         P > x        Sig. Code   \n",
      "================================= ==================== ============ ============ ============ ============\n",
      "s(0)                              [0.6]                20                        1.11e-16     ***         \n",
      "s(1)                              [0.6]                20                        8.01e-02     .           \n",
      "s(2)                              [0.6]                20                        5.30e-01                 \n",
      "s(3)                              [0.6]                20                        3.92e-01                 \n",
      "s(4)                              [0.6]                20                        3.59e-01                 \n",
      "s(5)                              [0.6]                20                        8.59e-01                 \n",
      "s(6)                              [0.6]                20                        1.71e-01                 \n",
      "s(7)                              [0.6]                20                        3.70e-02     *           \n",
      "s(8)                              [0.6]                20                        2.67e-01                 \n",
      "s(9)                              [0.6]                20                        1.12e-01                 \n",
      "s(10)                             [0.6]                20                        1.11e-16     ***         \n",
      "s(11)                             [0.6]                20                        1.11e-16     ***         \n",
      "s(12)                             [0.6]                20                        1.11e-16     ***         \n",
      "s(13)                             [0.6]                20                        3.45e-01                 \n",
      "s(14)                             [0.6]                20                        6.33e-02     .           \n",
      "s(15)                             [0.6]                20                        8.66e-02     .           \n",
      "s(16)                             [0.6]                20                        2.90e-02     *           \n",
      "s(17)                             [0.6]                20                        3.03e-01                 \n",
      "s(18)                             [0.6]                20                        3.72e-01                 \n",
      "s(19)                             [0.6]                20                        1.85e-01                 \n",
      "s(20)                             [0.6]                20                        5.09e-02     .           \n",
      "s(21)                             [0.6]                20                        5.98e-01                 \n",
      "s(22)                             [0.6]                20                        8.11e-02     .           \n",
      "s(23)                             [0.6]                20                        3.53e-01                 \n",
      "s(24)                             [0.6]                20                        1.35e-01                 \n",
      "s(25)                             [0.6]                20                        4.01e-01                 \n",
      "s(26)                             [0.6]                20                        6.55e-01                 \n",
      "s(27)                             [0.6]                20                        4.92e-01                 \n",
      "s(28)                             [0.6]                20                        2.80e-01                 \n",
      "s(29)                             [0.6]                20                        1.11e-16     ***         \n",
      "s(30)                             [0.6]                20                        1.11e-16     ***         \n",
      "s(31)                             [0.6]                20                        1.11e-16     ***         \n",
      "s(32)                             [0.6]                20                        1.11e-16     ***         \n",
      "s(33)                             [0.6]                20                        1.11e-16     ***         \n",
      "s(34)                             [0.6]                20                        1.11e-16     ***         \n",
      "s(35)                             [0.6]                20                        1.11e-16     ***         \n",
      "s(36)                             [0.6]                20                        1.11e-16     ***         \n",
      "s(37)                             [0.6]                20                        1.11e-16     ***         \n",
      "s(38)                             [0.6]                20                        1.11e-16     ***         \n",
      "s(39)                             [0.6]                20                        1.11e-16     ***         \n",
      "s(40)                             [0.6]                20                        1.11e-16     ***         \n",
      "s(41)                             [0.6]                20                        1.11e-16     ***         \n",
      "s(42)                             [0.6]                20                        1.11e-16     ***         \n",
      "s(43)                             [0.6]                20                        1.11e-16     ***         \n",
      "s(44)                             [0.6]                20                        1.11e-16     ***         \n",
      "s(45)                             [0.6]                20                        1.11e-16     ***         \n",
      "s(46)                             [0.6]                20                        1.11e-16     ***         \n",
      "s(47)                             [0.6]                20                        1.11e-16     ***         \n",
      "s(48)                             [0.6]                20                        1.11e-16     ***         \n",
      "s(49)                             [0.6]                20                        1.11e-16     ***         \n",
      "s(50)                             [0.6]                20                        1.11e-16     ***         \n",
      "s(51)                             [0.6]                20                        1.11e-16     ***         \n",
      "s(52)                             [0.6]                20                        1.11e-16     ***         \n",
      "s(53)                             [0.6]                20                        1.11e-16     ***         \n",
      "s(54)                             [0.6]                20                        1.11e-16     ***         \n",
      "s(55)                             [0.6]                20                        1.11e-16     ***         \n",
      "s(56)                             [0.6]                20                        1.11e-16     ***         \n",
      "s(57)                             [0.6]                20                        1.11e-16     ***         \n",
      "s(58)                             [0.6]                20                        1.11e-16     ***         \n",
      "s(59)                             [0.6]                20                        1.11e-16     ***         \n",
      "s(60)                             [0.6]                20                        1.11e-16     ***         \n",
      "s(61)                             [0.6]                20                        1.11e-16     ***         \n",
      "s(62)                             [0.6]                20                        1.11e-16     ***         \n",
      "s(63)                             [0.6]                20                        1.11e-16     ***         \n",
      "s(64)                             [0.6]                20                        1.11e-16     ***         \n",
      "s(65)                             [0.6]                20                        1.11e-16     ***         \n",
      "s(66)                             [0.6]                20                        1.11e-16     ***         \n",
      "s(67)                             [0.6]                20                        1.11e-16     ***         \n",
      "s(68)                             [0.6]                20                        1.11e-16     ***         \n",
      "s(69)                             [0.6]                20                        1.11e-16     ***         \n",
      "s(70)                             [0.6]                20                        1.11e-16     ***         \n",
      "s(71)                             [0.6]                20                        1.11e-16     ***         \n",
      "s(72)                             [0.6]                20                        1.11e-16     ***         \n",
      "s(73)                             [0.6]                20                        1.11e-16     ***         \n",
      "s(74)                             [0.6]                20                        1.11e-16     ***         \n",
      "s(75)                             [0.6]                20                        1.11e-16     ***         \n",
      "s(76)                             [0.6]                20                        1.11e-16     ***         \n",
      "s(77)                             [0.6]                20                        1.11e-16     ***         \n",
      "s(78)                             [0.6]                20                        1.11e-16     ***         \n",
      "s(79)                             [0.6]                20                        1.11e-16     ***         \n",
      "s(80)                             [0.6]                20                        1.11e-16     ***         \n",
      "s(81)                             [0.6]                20                        1.11e-16     ***         \n",
      "s(82)                             [0.6]                20                        1.11e-16     ***         \n",
      "s(83)                             [0.6]                20                        1.11e-16     ***         \n",
      "s(84)                             [0.6]                20                        1.11e-16     ***         \n",
      "s(85)                             [0.6]                20                        1.11e-16     ***         \n",
      "s(86)                             [0.6]                20                        1.11e-16     ***         \n",
      "s(87)                             [0.6]                20                        1.11e-16     ***         \n",
      "s(88)                             [0.6]                20                        1.11e-16     ***         \n",
      "s(89)                             [0.6]                20                        1.11e-16     ***         \n",
      "s(90)                             [0.6]                20                        1.11e-16     ***         \n",
      "s(91)                             [0.6]                20                        1.11e-16     ***         \n",
      "s(92)                             [0.6]                20                        1.11e-16     ***         \n",
      "s(93)                             [0.6]                20                        1.11e-16     ***         \n",
      "s(94)                             [0.6]                20                        1.11e-16     ***         \n",
      "s(95)                             [0.6]                20                        1.11e-16     ***         \n",
      "s(96)                             [0.6]                20                        3.86e-01                 \n",
      "s(97)                             [0.6]                20                        4.30e-01                 \n",
      "intercept                                              1                         4.69e-06     ***         \n",
      "==========================================================================================================\n",
      "Significance codes:  0 '***' 0.001 '**' 0.01 '*' 0.05 '.' 0.1 ' ' 1\n",
      "\n",
      "WARNING: Fitting splines and a linear function to a feature introduces a model identifiability problem\n",
      "         which can cause p-values to appear significant when they are not.\n",
      "\n",
      "WARNING: p-values calculated in this manner behave correctly for un-penalized models or models with\n",
      "         known smoothing parameters, but when smoothing parameters have been estimated, the p-values\n",
      "         are typically lower than they should be, meaning that the tests reject the null too readily.\n"
     ]
    },
    {
     "name": "stderr",
     "output_type": "stream",
     "text": [
      "/sctmp/yelhe/ipykernel_4188251/1772604297.py:1: UserWarning: KNOWN BUG: p-values computed in this summary are likely much smaller than they should be. \n",
      " \n",
      "Please do not make inferences based on these values! \n",
      "\n",
      "Collaborate on a solution, and stay up to date at: \n",
      "github.com/dswah/pyGAM/issues/163 \n",
      "\n",
      "  gam1.summary()\n"
     ]
    }
   ],
   "source": [
    "gam1.summary()"
   ]
  },
  {
   "cell_type": "code",
   "execution_count": 214,
   "id": "4199c919-053c-4675-a2f0-247f16dc8004",
   "metadata": {
    "execution": {
     "iopub.execute_input": "2024-04-26T14:28:33.742486Z",
     "iopub.status.busy": "2024-04-26T14:28:33.742150Z",
     "iopub.status.idle": "2024-04-26T14:28:33.747269Z",
     "shell.execute_reply": "2024-04-26T14:28:33.746403Z",
     "shell.execute_reply.started": "2024-04-26T14:28:33.742465Z"
    }
   },
   "outputs": [
    {
     "data": {
      "text/plain": [
       "1961"
      ]
     },
     "execution_count": 214,
     "metadata": {},
     "output_type": "execute_result"
    }
   ],
   "source": [
    "len(gam1.coef_)"
   ]
  },
  {
   "cell_type": "code",
   "execution_count": 202,
   "id": "85e09403-3faa-481b-865c-1cc0e02817f9",
   "metadata": {
    "execution": {
     "iopub.execute_input": "2024-04-26T14:21:30.973296Z",
     "iopub.status.busy": "2024-04-26T14:21:30.972938Z",
     "iopub.status.idle": "2024-04-26T14:21:30.978846Z",
     "shell.execute_reply": "2024-04-26T14:21:30.978140Z",
     "shell.execute_reply.started": "2024-04-26T14:21:30.973277Z"
    }
   },
   "outputs": [
    {
     "data": {
      "text/plain": [
       "array([[ 8.23422802e-06,  3.86043215e-05,  7.52034764e-06, ...,\n",
       "        -1.79406428e-06,  1.19308057e-07, -9.08621927e-07],\n",
       "       [ 3.86043215e-05,  1.97459346e-04,  3.18958318e-05, ...,\n",
       "        -1.32329546e-05,  1.17004501e-06, -5.95670759e-06],\n",
       "       [ 7.52034764e-06,  3.18958318e-05,  7.60032981e-06, ...,\n",
       "        -7.22099095e-07, -4.96634176e-08, -5.35875938e-07],\n",
       "       ...,\n",
       "       [-1.79406428e-06, -1.32329546e-05, -7.22099095e-07, ...,\n",
       "         1.50455315e-04,  1.10669006e-06, -1.09900209e-06],\n",
       "       [ 1.19308057e-07,  1.17004501e-06, -4.96634176e-08, ...,\n",
       "         1.10669006e-06,  3.38113346e-06,  2.61465444e-08],\n",
       "       [-9.08621927e-07, -5.95670759e-06, -5.35875938e-07, ...,\n",
       "        -1.09900209e-06,  2.61465444e-08,  3.59495917e-06]])"
      ]
     },
     "execution_count": 202,
     "metadata": {},
     "output_type": "execute_result"
    }
   ],
   "source": [
    "gam1.statistics_['cov']"
   ]
  },
  {
   "cell_type": "code",
   "execution_count": 93,
   "id": "a84be9a4-7bf7-4a11-9015-e612e472ad51",
   "metadata": {
    "execution": {
     "iopub.execute_input": "2024-04-26T13:03:26.585233Z",
     "iopub.status.busy": "2024-04-26T13:03:26.584890Z",
     "iopub.status.idle": "2024-04-26T13:03:26.597501Z",
     "shell.execute_reply": "2024-04-26T13:03:26.596831Z",
     "shell.execute_reply.started": "2024-04-26T13:03:26.585201Z"
    }
   },
   "outputs": [
    {
     "data": {
      "text/plain": [
       "{'n_samples': 295,\n",
       " 'm_features': 98,\n",
       " 'edof_per_coef': array([0.99549741, 0.50953153, 0.61150435, 0.55031447, 0.44797126,\n",
       "        0.35411097, 0.45362347, 0.44928155, 0.51090971, 0.55329826,\n",
       "        0.44678193, 0.42158071, 0.43834499, 0.39666791, 0.44064081,\n",
       "        0.38863148, 0.46086998, 0.96380308, 0.33366173, 0.37977304,\n",
       "        0.50415413, 0.48442697, 0.61137356, 0.64796018, 0.65417891,\n",
       "        0.70161761, 0.72972482, 0.73850194, 0.68283252, 0.73540747,\n",
       "        0.70510137, 0.7539453 , 0.73031977, 0.73213768, 0.73086819,\n",
       "        0.68666581, 0.54235408, 0.45176094, 0.45150703, 0.4219329 ,\n",
       "        0.43417556, 0.40427349, 0.50678766, 0.52401196, 0.52786159,\n",
       "        0.59968584, 0.64569349, 0.60504137, 0.63345018, 0.66667505,\n",
       "        0.63048235, 0.6691811 , 0.57670349, 0.47832733, 0.45782064,\n",
       "        0.46486726, 0.52646709, 0.37493441, 0.40844174, 0.38940821,\n",
       "        0.40607499, 0.44412588, 0.38551939, 0.49820396, 0.52901616,\n",
       "        0.51386124, 0.53082236, 0.5690693 , 0.54437554, 0.54155042,\n",
       "        0.57573319, 0.55612563, 0.64117954, 0.60846224, 0.54095419,\n",
       "        0.47463666, 0.40285285, 0.41116106, 0.38104078, 0.41006342,\n",
       "        0.47670028, 0.44390221, 0.55567958, 0.63873355, 0.62329725,\n",
       "        0.67421505, 0.65134805, 0.67287412, 0.646985  , 0.6830284 ,\n",
       "        0.6401665 , 0.61503661, 0.53934949, 0.49009393, 0.42339737,\n",
       "        0.40851552, 0.3673675 , 0.3393685 , 0.35525336, 0.33578742,\n",
       "        0.32051927, 0.35878054, 0.41303375, 0.46764238, 0.53942512,\n",
       "        0.5659953 , 0.52751369, 0.61209901, 0.54677947, 0.65855015,\n",
       "        0.63799922, 0.55766969, 0.53002299, 0.51625117, 0.50411553,\n",
       "        0.44179039, 0.39136582, 0.37058306, 0.31165083, 0.3927898 ,\n",
       "        0.34754739, 0.40334951, 0.41043036, 0.4225089 , 0.38148902,\n",
       "        0.55484631, 0.57665652, 0.53564375, 0.5341826 , 0.57672509,\n",
       "        0.48164064, 0.48822905, 0.48434251, 0.35893558, 0.3214892 ,\n",
       "        0.34581666, 0.32196551, 0.29264996, 0.41826859, 0.326402  ,\n",
       "        0.40715259, 0.35224704, 0.45085481, 0.49493337, 0.40330018,\n",
       "        0.46552856, 0.52016013, 0.51555012, 0.57757497, 0.56663051,\n",
       "        0.51228321, 0.57316253, 0.55419301, 0.47507442, 0.39581493,\n",
       "        0.40934842, 0.28534055, 0.40425243, 0.35803009, 0.32306242,\n",
       "        0.39894324, 0.30859567, 0.38578481, 0.37818489, 0.5059728 ,\n",
       "        0.40022287, 0.55771207, 0.52037756, 0.49817692, 0.50033445,\n",
       "        0.46158967, 0.39921926, 0.34670431, 0.3296627 , 0.32804104,\n",
       "        0.30232382, 0.28284161, 0.29029722, 0.36255774, 0.2889634 ,\n",
       "        0.31772813, 0.32180985, 0.35331019, 0.32372517, 0.38850116,\n",
       "        0.37022467, 0.4303474 , 0.45137759, 0.48927088, 0.46106347,\n",
       "        0.47018518, 0.4124178 , 0.43795192, 0.4473098 , 0.33292183,\n",
       "        0.37155682, 0.32966295, 0.3244026 , 0.34472517, 0.25234233,\n",
       "        0.38575469, 0.26790389, 0.26431191, 0.3020648 , 0.35133793,\n",
       "        0.29827259, 0.30716649, 0.30139707, 0.46360994, 0.25569683,\n",
       "        0.31850582, 0.28952118, 0.40431101, 0.33450055, 0.28065845,\n",
       "        0.32136121, 0.33425574, 0.27720479, 0.29625389, 0.31651663,\n",
       "        0.35431874, 0.28546147, 0.31497418, 0.27533456, 0.28906621,\n",
       "        0.30738383, 0.33243768, 0.29930358, 0.31213979, 0.21724793,\n",
       "        0.29149601, 0.28078635, 0.3063383 , 0.24086059, 0.21371911,\n",
       "        0.31815301, 0.28330387, 0.32701093, 0.31449089, 0.2675012 ,\n",
       "        0.33754451, 0.3684677 , 0.3447422 , 0.29702615, 0.28103344,\n",
       "        0.36618813, 0.27245867, 0.33277104, 0.31104849, 0.27576321,\n",
       "        0.36309148, 0.36380097, 0.31958138, 0.25307534, 0.33623199,\n",
       "        0.26199454, 0.24513945, 0.39774014, 0.35251785, 0.29472312,\n",
       "        0.23676458, 0.28660719, 0.34642387, 0.28553401, 0.32395416,\n",
       "        0.33746711, 0.37024677, 0.33391828, 0.28982932, 0.324894  ,\n",
       "        0.31919353, 0.32157139, 0.25664414, 0.32708962, 0.27025807,\n",
       "        0.28396033, 0.29829746, 0.29316611, 0.29711344, 0.2534573 ,\n",
       "        0.26343101, 0.2601678 , 0.25045464, 0.28856133, 0.3934112 ,\n",
       "        0.31831263, 0.27602999, 0.24583195, 0.21741487, 0.25738809,\n",
       "        0.26001   , 0.24535279, 0.26235879, 0.30492075, 0.29615116]),\n",
       " 'edof': 125.41638076301805,\n",
       " 'scale': 0.11329228236921135,\n",
       " 'cov': array([[ 8.23422802e-06,  3.86043215e-05,  7.52034764e-06, ...,\n",
       "         -1.79406428e-06,  1.19308057e-07, -9.08621927e-07],\n",
       "        [ 3.86043215e-05,  1.97459346e-04,  3.18958318e-05, ...,\n",
       "         -1.32329546e-05,  1.17004501e-06, -5.95670759e-06],\n",
       "        [ 7.52034764e-06,  3.18958318e-05,  7.60032981e-06, ...,\n",
       "         -7.22099095e-07, -4.96634176e-08, -5.35875938e-07],\n",
       "        ...,\n",
       "        [-1.79406428e-06, -1.32329546e-05, -7.22099095e-07, ...,\n",
       "          1.50455315e-04,  1.10669006e-06, -1.09900209e-06],\n",
       "        [ 1.19308057e-07,  1.17004501e-06, -4.96634176e-08, ...,\n",
       "          1.10669006e-06,  3.38113346e-06,  2.61465444e-08],\n",
       "        [-9.08621927e-07, -5.95670759e-06, -5.35875938e-07, ...,\n",
       "         -1.09900209e-06,  2.61465444e-08,  3.59495917e-06]]),\n",
       " 'se': array([0.00286953, 0.01405202, 0.00275687, ..., 0.01226602, 0.00183879,\n",
       "        0.00189604]),\n",
       " 'AIC': 1006.9820396965417,\n",
       " 'AICc': 1199.214643089664,\n",
       " 'pseudo_r2': OrderedDict([('explained_deviance', 0.5298081959218723),\n",
       "              ('McFadden', 0.3089752689766944),\n",
       "              ('McFadden_adj', 0.5882584456153497)]),\n",
       " 'GCV': 0.3974417090895202,\n",
       " 'UBRE': None,\n",
       " 'loglikelihood': -377.0746390852528,\n",
       " 'deviance': 169.58361923698195,\n",
       " 'p_values': [1.1102230246251565e-16,\n",
       "  0.08005123323932417,\n",
       "  0.5297181290845473,\n",
       "  0.39174303107553865,\n",
       "  0.3589469113995454,\n",
       "  0.8592138798949471,\n",
       "  0.17088845612225434,\n",
       "  0.03698355403591347,\n",
       "  0.2672307383163367,\n",
       "  0.11221499438362059,\n",
       "  1.1102230246251565e-16,\n",
       "  1.1102230246251565e-16,\n",
       "  1.1102230246251565e-16,\n",
       "  0.34465862678892967,\n",
       "  0.06331815124107443,\n",
       "  0.0865579961472448,\n",
       "  0.029017564143875463,\n",
       "  0.3032740321941283,\n",
       "  0.37183244273710714,\n",
       "  0.18478385251563023,\n",
       "  0.05085300109036894,\n",
       "  0.5981904718342548,\n",
       "  0.08113038445160214,\n",
       "  0.35273143867569234,\n",
       "  0.13544459437026402,\n",
       "  0.4012021973604618,\n",
       "  0.6549564900550047,\n",
       "  0.4920273075516022,\n",
       "  0.27995809951860395,\n",
       "  1.1102230246251565e-16,\n",
       "  1.1102230246251565e-16,\n",
       "  1.1102230246251565e-16,\n",
       "  1.1102230246251565e-16,\n",
       "  1.1102230246251565e-16,\n",
       "  1.1102230246251565e-16,\n",
       "  1.1102230246251565e-16,\n",
       "  1.1102230246251565e-16,\n",
       "  1.1102230246251565e-16,\n",
       "  1.1102230246251565e-16,\n",
       "  1.1102230246251565e-16,\n",
       "  1.1102230246251565e-16,\n",
       "  1.1102230246251565e-16,\n",
       "  1.1102230246251565e-16,\n",
       "  1.1102230246251565e-16,\n",
       "  1.1102230246251565e-16,\n",
       "  1.1102230246251565e-16,\n",
       "  1.1102230246251565e-16,\n",
       "  1.1102230246251565e-16,\n",
       "  1.1102230246251565e-16,\n",
       "  1.1102230246251565e-16,\n",
       "  1.1102230246251565e-16,\n",
       "  1.1102230246251565e-16,\n",
       "  1.1102230246251565e-16,\n",
       "  1.1102230246251565e-16,\n",
       "  1.1102230246251565e-16,\n",
       "  1.1102230246251565e-16,\n",
       "  1.1102230246251565e-16,\n",
       "  1.1102230246251565e-16,\n",
       "  1.1102230246251565e-16,\n",
       "  1.1102230246251565e-16,\n",
       "  1.1102230246251565e-16,\n",
       "  1.1102230246251565e-16,\n",
       "  1.1102230246251565e-16,\n",
       "  1.1102230246251565e-16,\n",
       "  1.1102230246251565e-16,\n",
       "  1.1102230246251565e-16,\n",
       "  1.1102230246251565e-16,\n",
       "  1.1102230246251565e-16,\n",
       "  1.1102230246251565e-16,\n",
       "  1.1102230246251565e-16,\n",
       "  1.1102230246251565e-16,\n",
       "  1.1102230246251565e-16,\n",
       "  1.1102230246251565e-16,\n",
       "  1.1102230246251565e-16,\n",
       "  1.1102230246251565e-16,\n",
       "  1.1102230246251565e-16,\n",
       "  1.1102230246251565e-16,\n",
       "  1.1102230246251565e-16,\n",
       "  1.1102230246251565e-16,\n",
       "  1.1102230246251565e-16,\n",
       "  1.1102230246251565e-16,\n",
       "  1.1102230246251565e-16,\n",
       "  1.1102230246251565e-16,\n",
       "  1.1102230246251565e-16,\n",
       "  1.1102230246251565e-16,\n",
       "  1.1102230246251565e-16,\n",
       "  1.1102230246251565e-16,\n",
       "  1.1102230246251565e-16,\n",
       "  1.1102230246251565e-16,\n",
       "  1.1102230246251565e-16,\n",
       "  1.1102230246251565e-16,\n",
       "  1.1102230246251565e-16,\n",
       "  1.1102230246251565e-16,\n",
       "  1.1102230246251565e-16,\n",
       "  1.1102230246251565e-16,\n",
       "  1.1102230246251565e-16,\n",
       "  0.3859719074433521,\n",
       "  0.43026977016648504,\n",
       "  4.688502594829558e-06]}"
      ]
     },
     "execution_count": 93,
     "metadata": {},
     "output_type": "execute_result"
    }
   ],
   "source": [
    "gam1.statistics_"
   ]
  },
  {
   "cell_type": "code",
   "execution_count": 188,
   "id": "7673dee7-10c7-44e0-ad8a-7eff88c03d4b",
   "metadata": {
    "execution": {
     "iopub.execute_input": "2024-04-26T14:06:11.964144Z",
     "iopub.status.busy": "2024-04-26T14:06:11.963742Z",
     "iopub.status.idle": "2024-04-26T14:06:11.968842Z",
     "shell.execute_reply": "2024-04-26T14:06:11.968188Z",
     "shell.execute_reply.started": "2024-04-26T14:06:11.964123Z"
    }
   },
   "outputs": [
    {
     "data": {
      "text/plain": [
       "defaultdict(list,\n",
       "            {'deviance': [48.9998554295761, 19.21251527578898],\n",
       "             'diffs': [0.9999999850345022, 0.0]})"
      ]
     },
     "execution_count": 188,
     "metadata": {},
     "output_type": "execute_result"
    }
   ],
   "source": [
    "gam1.logs_"
   ]
  },
  {
   "cell_type": "code",
   "execution_count": 194,
   "id": "a1bc9d22-a713-4dc0-8836-1bb504b39ac0",
   "metadata": {
    "execution": {
     "iopub.execute_input": "2024-04-26T14:09:04.284097Z",
     "iopub.status.busy": "2024-04-26T14:09:04.283224Z",
     "iopub.status.idle": "2024-04-26T14:09:04.290817Z",
     "shell.execute_reply": "2024-04-26T14:09:04.290180Z",
     "shell.execute_reply.started": "2024-04-26T14:09:04.284062Z"
    }
   },
   "outputs": [],
   "source": [
    "cnlist = ['cp', 'ie', 'iemin', 'iemax', 'mew', 'mewmin', 'mewmax', 'meg', \n",
    "      'megmin', 'megmax', 'cmean', 'cmin', 'cmax', 'dbusl', 'dtraml', \n",
    "      'dtrainl', 'dplight', 'dstation', 'dparkcar', 'dparktw', 'dpedcro', 'dstopsign', 'dcurb',\n",
    "      'dtrafficarea', 'droad', 'dvfpath', 'gvm_dwv', 'gvm_msp', 'gvm_asp', 'r_width_value',\n",
    "      'speedlimit_value', 'curbtype_1', 'curbtype_2', 'z_qnr_1', 'z_qnr_2', 'z_qnr_3', 'z_qnr_4', 'z_qnr_5',\n",
    "      'z_qnr_6', 'z_qnr_7', 'z_qnr_8', 'z_qnr_9', 'z_qnr_10', 'z_qnr_11', 'z_qnr_12', 'z_qnr_13',\n",
    "      'z_qnr_14', 'z_qnr_15', 'z_qnr_16', 'z_qnr_17', 'z_qnr_18',\n",
    "      'z_qnr_19', 'z_qnr_20', 'z_qnr_21', 'z_qnr_22', 'z_qnr_23', 'z_qnr_24',\n",
    "       'z_qnr_25', 'z_qnr_26', 'z_qnr_27', 'z_qnr_28', 'z_qnr_29', 'z_qnr_30',\n",
    "       'z_qnr_31', 'z_qnr_32', 'z_qnr_33', 'z_knr_1', 'z_knr_2', 'z_knr_3',\n",
    "       'z_knr_4', 'z_knr_5', 'z_knr_6', 'z_knr_7', 'z_knr_8', 'z_knr_9',\n",
    "       'z_knr_10', 'z_knr_11', 'z_knr_12', 'trafficarea_1', 'trafficarea_2',\n",
    "       'trafficarea_3', 'r_width_1', 'r_width_2', 'r_width_3', 'r_width_4',\n",
    "       'r_width_5', 'r_width_6', 'r_width_7', 'r_surface_1', 'r_surface_2',\n",
    "       'speedlimit_1', 'speedlimit_2', 'speedlimit_3', 'speedlimit_4',\n",
    "       'speedlimit_5', 'speedlimit_6', 'bicyclecount', 'carcount', 'intercept']"
   ]
  },
  {
   "cell_type": "code",
   "execution_count": 215,
   "id": "2413df29-1af6-43bb-9282-015335dfaa08",
   "metadata": {
    "execution": {
     "iopub.execute_input": "2024-04-26T14:30:22.652782Z",
     "iopub.status.busy": "2024-04-26T14:30:22.652445Z",
     "iopub.status.idle": "2024-04-26T14:30:22.659034Z",
     "shell.execute_reply": "2024-04-26T14:30:22.658288Z",
     "shell.execute_reply.started": "2024-04-26T14:30:22.652762Z"
    }
   },
   "outputs": [],
   "source": [
    "df1 = pd.DataFrame()\n",
    "df1['feature'] = cnlist\n",
    "# df1['coef'] = gam1.coef_\n",
    "df1['svp_pv'] = gam1.statistics_['p_values']"
   ]
  },
  {
   "cell_type": "code",
   "execution_count": 224,
   "id": "8682411f-98cb-4588-a0ff-7281709f4a5c",
   "metadata": {
    "execution": {
     "iopub.execute_input": "2024-04-26T14:52:04.096500Z",
     "iopub.status.busy": "2024-04-26T14:52:04.095966Z",
     "iopub.status.idle": "2024-04-26T14:52:04.101109Z",
     "shell.execute_reply": "2024-04-26T14:52:04.100240Z",
     "shell.execute_reply.started": "2024-04-26T14:52:04.096479Z"
    }
   },
   "outputs": [
    {
     "data": {
      "text/plain": [
       "(1961,)"
      ]
     },
     "execution_count": 224,
     "metadata": {},
     "output_type": "execute_result"
    }
   ],
   "source": [
    "gam1.coef_.shape"
   ]
  },
  {
   "cell_type": "code",
   "execution_count": 227,
   "id": "69c1daaf-4169-4e34-a245-d1fce09c97b9",
   "metadata": {
    "execution": {
     "iopub.execute_input": "2024-04-26T15:05:39.164728Z",
     "iopub.status.busy": "2024-04-26T15:05:39.164159Z",
     "iopub.status.idle": "2024-04-26T15:05:39.170438Z",
     "shell.execute_reply": "2024-04-26T15:05:39.169759Z",
     "shell.execute_reply.started": "2024-04-26T15:05:39.164706Z"
    }
   },
   "outputs": [
    {
     "data": {
      "text/plain": [
       "{'scale': None,\n",
       " 'max_iter': 100,\n",
       " 'tol': 0.0001,\n",
       " 'callbacks': [Deviance(), Diffs()],\n",
       " 'verbose': False,\n",
       " 'terms': s(0) + s(1) + s(2) + s(3) + s(4) + s(5) + s(6) + s(7) + s(8) + s(9) + s(10) + s(11) + s(12) + s(13) + s(14) + s(15) + s(16) + s(17) + s(18) + s(19) + s(20) + s(21) + s(22) + s(23) + s(24) + s(25) + s(26) + s(27) + s(28) + s(29) + s(30) + s(31) + s(32) + s(33) + s(34) + s(35) + s(36) + s(37) + s(38) + s(39) + s(40) + s(41) + s(42) + s(43) + s(44) + s(45) + s(46) + s(47) + s(48) + s(49) + s(50) + s(51) + s(52) + s(53) + s(54) + s(55) + s(56) + s(57) + s(58) + s(59) + s(60) + s(61) + s(62) + s(63) + s(64) + s(65) + s(66) + s(67) + s(68) + s(69) + s(70) + s(71) + s(72) + s(73) + s(74) + s(75) + s(76) + s(77) + s(78) + s(79) + s(80) + s(81) + s(82) + s(83) + s(84) + s(85) + s(86) + s(87) + s(88) + s(89) + s(90) + s(91) + s(92) + s(93) + s(94) + s(95) + s(96) + s(97) + intercept,\n",
       " 'fit_intercept': True}"
      ]
     },
     "execution_count": 227,
     "metadata": {},
     "output_type": "execute_result"
    }
   ],
   "source": [
    "gam1.get_params(deep=False)"
   ]
  },
  {
   "cell_type": "code",
   "execution_count": null,
   "id": "e2ff2ec8-8269-4662-98a0-8c2574183205",
   "metadata": {},
   "outputs": [],
   "source": []
  },
  {
   "cell_type": "code",
   "execution_count": 213,
   "id": "4c6fc0e0-aa8a-4ad0-8b72-fa7e42b95ce3",
   "metadata": {
    "execution": {
     "iopub.execute_input": "2024-04-26T14:25:22.005618Z",
     "iopub.status.busy": "2024-04-26T14:25:22.005273Z",
     "iopub.status.idle": "2024-04-26T14:25:22.010484Z",
     "shell.execute_reply": "2024-04-26T14:25:22.009794Z",
     "shell.execute_reply.started": "2024-04-26T14:25:22.005598Z"
    }
   },
   "outputs": [],
   "source": [
    "# df1.to_csv('/home/yelhe/script/mt/model/gam_1p.csv', index = False)"
   ]
  },
  {
   "cell_type": "code",
   "execution_count": 95,
   "id": "b1fc2d9b-4723-4ef9-91d3-32d03dd3d42c",
   "metadata": {
    "execution": {
     "iopub.execute_input": "2024-04-26T13:03:26.606936Z",
     "iopub.status.busy": "2024-04-26T13:03:26.606647Z",
     "iopub.status.idle": "2024-04-26T13:03:26.614388Z",
     "shell.execute_reply": "2024-04-26T13:03:26.613575Z",
     "shell.execute_reply.started": "2024-04-26T13:03:26.606912Z"
    }
   },
   "outputs": [],
   "source": [
    "xrp = rpv[cn]"
   ]
  },
  {
   "cell_type": "code",
   "execution_count": 96,
   "id": "cc8bf1cd-7835-4911-ba5d-fffe4e7c3cfd",
   "metadata": {
    "execution": {
     "iopub.execute_input": "2024-04-26T13:03:26.615809Z",
     "iopub.status.busy": "2024-04-26T13:03:26.615472Z",
     "iopub.status.idle": "2024-04-26T13:03:26.773069Z",
     "shell.execute_reply": "2024-04-26T13:03:26.772326Z",
     "shell.execute_reply.started": "2024-04-26T13:03:26.615790Z"
    }
   },
   "outputs": [],
   "source": [
    "gam_svp = gam1.predict(xrp)"
   ]
  },
  {
   "cell_type": "code",
   "execution_count": 97,
   "id": "b8aa9701-6037-4b0d-9801-f62e42362ecd",
   "metadata": {
    "execution": {
     "iopub.execute_input": "2024-04-26T13:03:26.774225Z",
     "iopub.status.busy": "2024-04-26T13:03:26.773963Z",
     "iopub.status.idle": "2024-04-26T13:03:26.978039Z",
     "shell.execute_reply": "2024-04-26T13:03:26.977465Z",
     "shell.execute_reply.started": "2024-04-26T13:03:26.774205Z"
    }
   },
   "outputs": [
    {
     "data": {
      "text/plain": [
       "(array([  9.,  42.,  72., 149., 206., 146.,  98.,  40.,  24.,   6.]),\n",
       " array([-0.33064912, -0.22478635, -0.11892358, -0.01306081,  0.09280196,\n",
       "         0.19866473,  0.3045275 ,  0.41039027,  0.51625304,  0.62211581,\n",
       "         0.72797858]),\n",
       " <BarContainer object of 10 artists>)"
      ]
     },
     "execution_count": 97,
     "metadata": {},
     "output_type": "execute_result"
    },
    {
     "data": {
      "image/png": "[encoded data removed]",
      "text/plain": [
       "<Figure size 640x480 with 1 Axes>"
      ]
     },
     "metadata": {},
     "output_type": "display_data"
    }
   ],
   "source": [
    "plt.hist(gam_svp)"
   ]
  },
  {
   "cell_type": "code",
   "execution_count": 98,
   "id": "3e10bdb5-689f-4e65-b094-14e04b48a60f",
   "metadata": {
    "execution": {
     "iopub.execute_input": "2024-04-26T13:03:26.979138Z",
     "iopub.status.busy": "2024-04-26T13:03:26.978869Z",
     "iopub.status.idle": "2024-04-26T13:03:38.236746Z",
     "shell.execute_reply": "2024-04-26T13:03:38.235617Z",
     "shell.execute_reply.started": "2024-04-26T13:03:26.979116Z"
    }
   },
   "outputs": [],
   "source": [
    "y2 = acv['lvp']\n",
    "x = acv[cn]\n",
    "gam2 = pygam.LinearGAM().fit(x, y2)"
   ]
  },
  {
   "cell_type": "code",
   "execution_count": 99,
   "id": "9e4a8205-2fe6-451f-80f0-5aa51f45bb49",
   "metadata": {
    "execution": {
     "iopub.execute_input": "2024-04-26T13:03:38.240156Z",
     "iopub.status.busy": "2024-04-26T13:03:38.239854Z",
     "iopub.status.idle": "2024-04-26T13:03:38.254524Z",
     "shell.execute_reply": "2024-04-26T13:03:38.253922Z",
     "shell.execute_reply.started": "2024-04-26T13:03:38.240137Z"
    }
   },
   "outputs": [
    {
     "name": "stdout",
     "output_type": "stream",
     "text": [
      "LinearGAM                                                                                                 \n",
      "=============================================== ==========================================================\n",
      "Distribution:                        NormalDist Effective DoF:                                    125.4164\n",
      "Link Function:                     IdentityLink Log Likelihood:                                  -243.2087\n",
      "Number of Samples:                          295 AIC:                                              739.2502\n",
      "                                                AICc:                                             931.4828\n",
      "                                                GCV:                                                0.6083\n",
      "                                                Scale:                                              0.1734\n",
      "                                                Pseudo R-Squared:                                    0.507\n",
      "==========================================================================================================\n",
      "Feature Function                  Lambda               Rank         EDoF         P > x        Sig. Code   \n",
      "================================= ==================== ============ ============ ============ ============\n",
      "s(0)                              [0.6]                20                        1.11e-16     ***         \n",
      "s(1)                              [0.6]                20                        6.59e-02     .           \n",
      "s(2)                              [0.6]                20                        1.67e-01                 \n",
      "s(3)                              [0.6]                20                        4.01e-01                 \n",
      "s(4)                              [0.6]                20                        3.12e-01                 \n",
      "s(5)                              [0.6]                20                        5.04e-01                 \n",
      "s(6)                              [0.6]                20                        4.55e-03     **          \n",
      "s(7)                              [0.6]                20                        5.06e-01                 \n",
      "s(8)                              [0.6]                20                        3.64e-01                 \n",
      "s(9)                              [0.6]                20                        6.34e-01                 \n",
      "s(10)                             [0.6]                20                        1.11e-16     ***         \n",
      "s(11)                             [0.6]                20                        1.11e-16     ***         \n",
      "s(12)                             [0.6]                20                        1.11e-16     ***         \n",
      "s(13)                             [0.6]                20                        2.09e-01                 \n",
      "s(14)                             [0.6]                20                        3.22e-01                 \n",
      "s(15)                             [0.6]                20                        6.54e-01                 \n",
      "s(16)                             [0.6]                20                        3.08e-01                 \n",
      "s(17)                             [0.6]                20                        6.30e-01                 \n",
      "s(18)                             [0.6]                20                        6.64e-01                 \n",
      "s(19)                             [0.6]                20                        2.85e-01                 \n",
      "s(20)                             [0.6]                20                        1.63e-01                 \n",
      "s(21)                             [0.6]                20                        1.15e-01                 \n",
      "s(22)                             [0.6]                20                        2.47e-01                 \n",
      "s(23)                             [0.6]                20                        4.24e-01                 \n",
      "s(24)                             [0.6]                20                        1.10e-02     *           \n",
      "s(25)                             [0.6]                20                        7.09e-01                 \n",
      "s(26)                             [0.6]                20                        4.90e-01                 \n",
      "s(27)                             [0.6]                20                        2.49e-01                 \n",
      "s(28)                             [0.6]                20                        1.40e-01                 \n",
      "s(29)                             [0.6]                20                        1.11e-16     ***         \n",
      "s(30)                             [0.6]                20                        1.11e-16     ***         \n",
      "s(31)                             [0.6]                20                        1.11e-16     ***         \n",
      "s(32)                             [0.6]                20                        1.11e-16     ***         \n",
      "s(33)                             [0.6]                20                        1.11e-16     ***         \n",
      "s(34)                             [0.6]                20                        1.11e-16     ***         \n",
      "s(35)                             [0.6]                20                        1.11e-16     ***         \n",
      "s(36)                             [0.6]                20                        1.11e-16     ***         \n",
      "s(37)                             [0.6]                20                        1.11e-16     ***         \n",
      "s(38)                             [0.6]                20                        1.11e-16     ***         \n",
      "s(39)                             [0.6]                20                        1.11e-16     ***         \n",
      "s(40)                             [0.6]                20                        1.11e-16     ***         \n",
      "s(41)                             [0.6]                20                        1.11e-16     ***         \n",
      "s(42)                             [0.6]                20                        1.11e-16     ***         \n",
      "s(43)                             [0.6]                20                        1.11e-16     ***         \n",
      "s(44)                             [0.6]                20                        1.11e-16     ***         \n",
      "s(45)                             [0.6]                20                        1.11e-16     ***         \n",
      "s(46)                             [0.6]                20                        1.11e-16     ***         \n",
      "s(47)                             [0.6]                20                        1.11e-16     ***         \n",
      "s(48)                             [0.6]                20                        1.11e-16     ***         \n",
      "s(49)                             [0.6]                20                        1.11e-16     ***         \n",
      "s(50)                             [0.6]                20                        1.11e-16     ***         \n",
      "s(51)                             [0.6]                20                        1.11e-16     ***         \n",
      "s(52)                             [0.6]                20                        1.11e-16     ***         \n",
      "s(53)                             [0.6]                20                        1.11e-16     ***         \n",
      "s(54)                             [0.6]                20                        1.11e-16     ***         \n",
      "s(55)                             [0.6]                20                        1.11e-16     ***         \n",
      "s(56)                             [0.6]                20                        1.11e-16     ***         \n",
      "s(57)                             [0.6]                20                        1.11e-16     ***         \n",
      "s(58)                             [0.6]                20                        1.11e-16     ***         \n",
      "s(59)                             [0.6]                20                        1.11e-16     ***         \n",
      "s(60)                             [0.6]                20                        1.11e-16     ***         \n",
      "s(61)                             [0.6]                20                        1.11e-16     ***         \n",
      "s(62)                             [0.6]                20                        1.11e-16     ***         \n",
      "s(63)                             [0.6]                20                        1.11e-16     ***         \n",
      "s(64)                             [0.6]                20                        1.11e-16     ***         \n",
      "s(65)                             [0.6]                20                        1.11e-16     ***         \n",
      "s(66)                             [0.6]                20                        1.11e-16     ***         \n",
      "s(67)                             [0.6]                20                        1.11e-16     ***         \n",
      "s(68)                             [0.6]                20                        1.11e-16     ***         \n",
      "s(69)                             [0.6]                20                        1.11e-16     ***         \n",
      "s(70)                             [0.6]                20                        1.11e-16     ***         \n",
      "s(71)                             [0.6]                20                        1.11e-16     ***         \n",
      "s(72)                             [0.6]                20                        1.11e-16     ***         \n",
      "s(73)                             [0.6]                20                        1.11e-16     ***         \n",
      "s(74)                             [0.6]                20                        1.11e-16     ***         \n",
      "s(75)                             [0.6]                20                        1.11e-16     ***         \n",
      "s(76)                             [0.6]                20                        1.11e-16     ***         \n",
      "s(77)                             [0.6]                20                        1.11e-16     ***         \n",
      "s(78)                             [0.6]                20                        1.11e-16     ***         \n",
      "s(79)                             [0.6]                20                        1.11e-16     ***         \n",
      "s(80)                             [0.6]                20                        1.11e-16     ***         \n",
      "s(81)                             [0.6]                20                        1.11e-16     ***         \n",
      "s(82)                             [0.6]                20                        1.11e-16     ***         \n",
      "s(83)                             [0.6]                20                        1.11e-16     ***         \n",
      "s(84)                             [0.6]                20                        1.11e-16     ***         \n",
      "s(85)                             [0.6]                20                        1.11e-16     ***         \n",
      "s(86)                             [0.6]                20                        1.11e-16     ***         \n",
      "s(87)                             [0.6]                20                        1.11e-16     ***         \n",
      "s(88)                             [0.6]                20                        1.11e-16     ***         \n",
      "s(89)                             [0.6]                20                        1.11e-16     ***         \n",
      "s(90)                             [0.6]                20                        1.11e-16     ***         \n",
      "s(91)                             [0.6]                20                        1.11e-16     ***         \n",
      "s(92)                             [0.6]                20                        1.11e-16     ***         \n",
      "s(93)                             [0.6]                20                        1.11e-16     ***         \n",
      "s(94)                             [0.6]                20                        1.11e-16     ***         \n",
      "s(95)                             [0.6]                20                        1.11e-16     ***         \n",
      "s(96)                             [0.6]                20                        5.99e-01                 \n",
      "s(97)                             [0.6]                20                        9.19e-01                 \n",
      "intercept                                              1                         7.77e-16     ***         \n",
      "==========================================================================================================\n",
      "Significance codes:  0 '***' 0.001 '**' 0.01 '*' 0.05 '.' 0.1 ' ' 1\n",
      "\n",
      "WARNING: Fitting splines and a linear function to a feature introduces a model identifiability problem\n",
      "         which can cause p-values to appear significant when they are not.\n",
      "\n",
      "WARNING: p-values calculated in this manner behave correctly for un-penalized models or models with\n",
      "         known smoothing parameters, but when smoothing parameters have been estimated, the p-values\n",
      "         are typically lower than they should be, meaning that the tests reject the null too readily.\n"
     ]
    },
    {
     "name": "stderr",
     "output_type": "stream",
     "text": [
      "/sctmp/yelhe/ipykernel_4188251/263715579.py:1: UserWarning: KNOWN BUG: p-values computed in this summary are likely much smaller than they should be. \n",
      " \n",
      "Please do not make inferences based on these values! \n",
      "\n",
      "Collaborate on a solution, and stay up to date at: \n",
      "github.com/dswah/pyGAM/issues/163 \n",
      "\n",
      "  gam2.summary()\n"
     ]
    }
   ],
   "source": [
    "gam2.summary()"
   ]
  },
  {
   "cell_type": "code",
   "execution_count": 100,
   "id": "bf46837d-de7b-412e-aa71-a99619d62f80",
   "metadata": {
    "execution": {
     "iopub.execute_input": "2024-04-26T13:03:38.255700Z",
     "iopub.status.busy": "2024-04-26T13:03:38.255457Z",
     "iopub.status.idle": "2024-04-26T13:03:38.267221Z",
     "shell.execute_reply": "2024-04-26T13:03:38.266596Z",
     "shell.execute_reply.started": "2024-04-26T13:03:38.255678Z"
    }
   },
   "outputs": [
    {
     "data": {
      "text/plain": [
       "{'n_samples': 295,\n",
       " 'm_features': 98,\n",
       " 'edof_per_coef': array([0.99549741, 0.50953153, 0.61150435, 0.55031447, 0.44797126,\n",
       "        0.35411097, 0.45362347, 0.44928155, 0.51090971, 0.55329826,\n",
       "        0.44678193, 0.42158071, 0.43834499, 0.39666791, 0.44064081,\n",
       "        0.38863148, 0.46086998, 0.96380308, 0.33366173, 0.37977304,\n",
       "        0.50415413, 0.48442697, 0.61137356, 0.64796018, 0.65417891,\n",
       "        0.70161761, 0.72972482, 0.73850194, 0.68283252, 0.73540747,\n",
       "        0.70510137, 0.7539453 , 0.73031977, 0.73213768, 0.73086819,\n",
       "        0.68666581, 0.54235408, 0.45176094, 0.45150703, 0.4219329 ,\n",
       "        0.43417556, 0.40427349, 0.50678766, 0.52401196, 0.52786159,\n",
       "        0.59968584, 0.64569349, 0.60504137, 0.63345018, 0.66667505,\n",
       "        0.63048235, 0.6691811 , 0.57670349, 0.47832733, 0.45782064,\n",
       "        0.46486726, 0.52646709, 0.37493441, 0.40844174, 0.38940821,\n",
       "        0.40607499, 0.44412588, 0.38551939, 0.49820396, 0.52901616,\n",
       "        0.51386124, 0.53082236, 0.5690693 , 0.54437554, 0.54155042,\n",
       "        0.57573319, 0.55612563, 0.64117954, 0.60846224, 0.54095419,\n",
       "        0.47463666, 0.40285285, 0.41116106, 0.38104078, 0.41006342,\n",
       "        0.47670028, 0.44390221, 0.55567958, 0.63873355, 0.62329725,\n",
       "        0.67421505, 0.65134805, 0.67287412, 0.646985  , 0.6830284 ,\n",
       "        0.6401665 , 0.61503661, 0.53934949, 0.49009393, 0.42339737,\n",
       "        0.40851552, 0.3673675 , 0.3393685 , 0.35525336, 0.33578742,\n",
       "        0.32051927, 0.35878054, 0.41303375, 0.46764238, 0.53942512,\n",
       "        0.5659953 , 0.52751369, 0.61209901, 0.54677947, 0.65855015,\n",
       "        0.63799922, 0.55766969, 0.53002299, 0.51625117, 0.50411553,\n",
       "        0.44179039, 0.39136582, 0.37058306, 0.31165083, 0.3927898 ,\n",
       "        0.34754739, 0.40334951, 0.41043036, 0.4225089 , 0.38148902,\n",
       "        0.55484631, 0.57665652, 0.53564375, 0.5341826 , 0.57672509,\n",
       "        0.48164064, 0.48822905, 0.48434251, 0.35893558, 0.3214892 ,\n",
       "        0.34581666, 0.32196551, 0.29264996, 0.41826859, 0.326402  ,\n",
       "        0.40715259, 0.35224704, 0.45085481, 0.49493337, 0.40330018,\n",
       "        0.46552856, 0.52016013, 0.51555012, 0.57757497, 0.56663051,\n",
       "        0.51228321, 0.57316253, 0.55419301, 0.47507442, 0.39581493,\n",
       "        0.40934842, 0.28534055, 0.40425243, 0.35803009, 0.32306242,\n",
       "        0.39894324, 0.30859567, 0.38578481, 0.37818489, 0.5059728 ,\n",
       "        0.40022287, 0.55771207, 0.52037756, 0.49817692, 0.50033445,\n",
       "        0.46158967, 0.39921926, 0.34670431, 0.3296627 , 0.32804104,\n",
       "        0.30232382, 0.28284161, 0.29029722, 0.36255774, 0.2889634 ,\n",
       "        0.31772813, 0.32180985, 0.35331019, 0.32372517, 0.38850116,\n",
       "        0.37022467, 0.4303474 , 0.45137759, 0.48927088, 0.46106347,\n",
       "        0.47018518, 0.4124178 , 0.43795192, 0.4473098 , 0.33292183,\n",
       "        0.37155682, 0.32966295, 0.3244026 , 0.34472517, 0.25234233,\n",
       "        0.38575469, 0.26790389, 0.26431191, 0.3020648 , 0.35133793,\n",
       "        0.29827259, 0.30716649, 0.30139707, 0.46360994, 0.25569683,\n",
       "        0.31850582, 0.28952118, 0.40431101, 0.33450055, 0.28065845,\n",
       "        0.32136121, 0.33425574, 0.27720479, 0.29625389, 0.31651663,\n",
       "        0.35431874, 0.28546147, 0.31497418, 0.27533456, 0.28906621,\n",
       "        0.30738383, 0.33243768, 0.29930358, 0.31213979, 0.21724793,\n",
       "        0.29149601, 0.28078635, 0.3063383 , 0.24086059, 0.21371911,\n",
       "        0.31815301, 0.28330387, 0.32701093, 0.31449089, 0.2675012 ,\n",
       "        0.33754451, 0.3684677 , 0.3447422 , 0.29702615, 0.28103344,\n",
       "        0.36618813, 0.27245867, 0.33277104, 0.31104849, 0.27576321,\n",
       "        0.36309148, 0.36380097, 0.31958138, 0.25307534, 0.33623199,\n",
       "        0.26199454, 0.24513945, 0.39774014, 0.35251785, 0.29472312,\n",
       "        0.23676458, 0.28660719, 0.34642387, 0.28553401, 0.32395416,\n",
       "        0.33746711, 0.37024677, 0.33391828, 0.28982932, 0.324894  ,\n",
       "        0.31919353, 0.32157139, 0.25664414, 0.32708962, 0.27025807,\n",
       "        0.28396033, 0.29829746, 0.29316611, 0.29711344, 0.2534573 ,\n",
       "        0.26343101, 0.2601678 , 0.25045464, 0.28856133, 0.3934112 ,\n",
       "        0.31831263, 0.27602999, 0.24583195, 0.21741487, 0.25738809,\n",
       "        0.26001   , 0.24535279, 0.26235879, 0.30492075, 0.29615116]),\n",
       " 'edof': 125.41638076301805,\n",
       " 'scale': 0.17338937813972935,\n",
       " 'cov': array([[ 1.26021618e-05,  5.90823943e-05,  1.15095960e-05, ...,\n",
       "         -2.74574475e-06,  1.82596284e-07, -1.39061009e-06],\n",
       "        [ 5.90823943e-05,  3.02203755e-04,  4.88153149e-05, ...,\n",
       "         -2.02525161e-05,  1.79070782e-06, -9.11650647e-06],\n",
       "        [ 1.15095960e-05,  4.88153149e-05,  1.16320056e-05, ...,\n",
       "         -1.10514424e-06, -7.60079055e-08, -8.20137027e-07],\n",
       "        ...,\n",
       "        [-2.74574475e-06, -2.02525161e-05, -1.10514424e-06, ...,\n",
       "          2.30265936e-04,  1.69374556e-06, -1.68197943e-06],\n",
       "        [ 1.82596284e-07,  1.79070782e-06, -7.60079055e-08, ...,\n",
       "          1.69374556e-06,  5.17469165e-06,  4.00162569e-08],\n",
       "        [-1.39061009e-06, -9.11650647e-06, -8.20137027e-07, ...,\n",
       "         -1.68197943e-06,  4.00162569e-08,  5.50194349e-06]]),\n",
       " 'se': array([0.00354995, 0.01738401, 0.00341057, ..., 0.01517452, 0.00227479,\n",
       "        0.00234562]),\n",
       " 'AIC': 739.2501626902622,\n",
       " 'AICc': 931.4827660833844,\n",
       " 'pseudo_r2': OrderedDict([('explained_deviance', 0.507036855350957),\n",
       "              ('McFadden', 0.3259316581211942),\n",
       "              ('McFadden_adj', 0.5059938904310937)]),\n",
       " 'GCV': 0.6082688895016111,\n",
       " 'UBRE': None,\n",
       " 'loglikelihood': -243.208700582113,\n",
       " 'deviance': 169.58361923698197,\n",
       " 'p_values': [1.1102230246251565e-16,\n",
       "  0.0658991728505367,\n",
       "  0.1669530577660252,\n",
       "  0.40072752712011384,\n",
       "  0.3121208820897543,\n",
       "  0.504019103004158,\n",
       "  0.004550879454472634,\n",
       "  0.5056445373059869,\n",
       "  0.36358652492816135,\n",
       "  0.6336580587087182,\n",
       "  1.1102230246251565e-16,\n",
       "  1.1102230246251565e-16,\n",
       "  1.1102230246251565e-16,\n",
       "  0.20944385124871512,\n",
       "  0.32150902191655306,\n",
       "  0.6543227752234546,\n",
       "  0.3082861045711951,\n",
       "  0.629767755064919,\n",
       "  0.663850218042866,\n",
       "  0.28537765219568667,\n",
       "  0.16255042087096827,\n",
       "  0.11522753629355564,\n",
       "  0.24712942212544997,\n",
       "  0.4242786625512477,\n",
       "  0.011039512308504862,\n",
       "  0.708567813206679,\n",
       "  0.48952614073317924,\n",
       "  0.24915431831617263,\n",
       "  0.14018554583566822,\n",
       "  1.1102230246251565e-16,\n",
       "  1.1102230246251565e-16,\n",
       "  1.1102230246251565e-16,\n",
       "  1.1102230246251565e-16,\n",
       "  1.1102230246251565e-16,\n",
       "  1.1102230246251565e-16,\n",
       "  1.1102230246251565e-16,\n",
       "  1.1102230246251565e-16,\n",
       "  1.1102230246251565e-16,\n",
       "  1.1102230246251565e-16,\n",
       "  1.1102230246251565e-16,\n",
       "  1.1102230246251565e-16,\n",
       "  1.1102230246251565e-16,\n",
       "  1.1102230246251565e-16,\n",
       "  1.1102230246251565e-16,\n",
       "  1.1102230246251565e-16,\n",
       "  1.1102230246251565e-16,\n",
       "  1.1102230246251565e-16,\n",
       "  1.1102230246251565e-16,\n",
       "  1.1102230246251565e-16,\n",
       "  1.1102230246251565e-16,\n",
       "  1.1102230246251565e-16,\n",
       "  1.1102230246251565e-16,\n",
       "  1.1102230246251565e-16,\n",
       "  1.1102230246251565e-16,\n",
       "  1.1102230246251565e-16,\n",
       "  1.1102230246251565e-16,\n",
       "  1.1102230246251565e-16,\n",
       "  1.1102230246251565e-16,\n",
       "  1.1102230246251565e-16,\n",
       "  1.1102230246251565e-16,\n",
       "  1.1102230246251565e-16,\n",
       "  1.1102230246251565e-16,\n",
       "  1.1102230246251565e-16,\n",
       "  1.1102230246251565e-16,\n",
       "  1.1102230246251565e-16,\n",
       "  1.1102230246251565e-16,\n",
       "  1.1102230246251565e-16,\n",
       "  1.1102230246251565e-16,\n",
       "  1.1102230246251565e-16,\n",
       "  1.1102230246251565e-16,\n",
       "  1.1102230246251565e-16,\n",
       "  1.1102230246251565e-16,\n",
       "  1.1102230246251565e-16,\n",
       "  1.1102230246251565e-16,\n",
       "  1.1102230246251565e-16,\n",
       "  1.1102230246251565e-16,\n",
       "  1.1102230246251565e-16,\n",
       "  1.1102230246251565e-16,\n",
       "  1.1102230246251565e-16,\n",
       "  1.1102230246251565e-16,\n",
       "  1.1102230246251565e-16,\n",
       "  1.1102230246251565e-16,\n",
       "  1.1102230246251565e-16,\n",
       "  1.1102230246251565e-16,\n",
       "  1.1102230246251565e-16,\n",
       "  1.1102230246251565e-16,\n",
       "  1.1102230246251565e-16,\n",
       "  1.1102230246251565e-16,\n",
       "  1.1102230246251565e-16,\n",
       "  1.1102230246251565e-16,\n",
       "  1.1102230246251565e-16,\n",
       "  1.1102230246251565e-16,\n",
       "  1.1102230246251565e-16,\n",
       "  1.1102230246251565e-16,\n",
       "  1.1102230246251565e-16,\n",
       "  1.1102230246251565e-16,\n",
       "  0.5987650975468349,\n",
       "  0.918733281796686,\n",
       "  7.771561172376096e-16]}"
      ]
     },
     "execution_count": 100,
     "metadata": {},
     "output_type": "execute_result"
    }
   ],
   "source": [
    "gam2.statistics_"
   ]
  },
  {
   "cell_type": "code",
   "execution_count": 216,
   "id": "09b32e6b-b458-489e-b38e-a70fdd97ca2f",
   "metadata": {
    "execution": {
     "iopub.execute_input": "2024-04-26T14:30:52.980943Z",
     "iopub.status.busy": "2024-04-26T14:30:52.980116Z",
     "iopub.status.idle": "2024-04-26T14:30:52.985222Z",
     "shell.execute_reply": "2024-04-26T14:30:52.984552Z",
     "shell.execute_reply.started": "2024-04-26T14:30:52.980918Z"
    }
   },
   "outputs": [],
   "source": [
    "df1['lvp_pv'] = gam2.statistics_['p_values']"
   ]
  },
  {
   "cell_type": "code",
   "execution_count": 101,
   "id": "2b52247e-85ff-4b0c-83f4-2edb14b21cb1",
   "metadata": {
    "execution": {
     "iopub.execute_input": "2024-04-26T13:03:38.268462Z",
     "iopub.status.busy": "2024-04-26T13:03:38.268117Z",
     "iopub.status.idle": "2024-04-26T13:03:38.424544Z",
     "shell.execute_reply": "2024-04-26T13:03:38.423812Z",
     "shell.execute_reply.started": "2024-04-26T13:03:38.268437Z"
    }
   },
   "outputs": [],
   "source": [
    "gam_lvp = gam2.predict(xrp)"
   ]
  },
  {
   "cell_type": "code",
   "execution_count": 102,
   "id": "2e7640be-c373-4e3c-bd3b-503a27ad8c37",
   "metadata": {
    "execution": {
     "iopub.execute_input": "2024-04-26T13:03:38.425926Z",
     "iopub.status.busy": "2024-04-26T13:03:38.425590Z",
     "iopub.status.idle": "2024-04-26T13:03:38.638730Z",
     "shell.execute_reply": "2024-04-26T13:03:38.638123Z",
     "shell.execute_reply.started": "2024-04-26T13:03:38.425900Z"
    }
   },
   "outputs": [
    {
     "data": {
      "text/plain": [
       "(array([ 11.,  18.,  43.,  89., 145., 186., 151., 112.,  28.,   9.]),\n",
       " array([0.04720431, 0.16477883, 0.28235334, 0.39992785, 0.51750236,\n",
       "        0.63507687, 0.75265139, 0.8702259 , 0.98780041, 1.10537492,\n",
       "        1.22294944]),\n",
       " <BarContainer object of 10 artists>)"
      ]
     },
     "execution_count": 102,
     "metadata": {},
     "output_type": "execute_result"
    },
    {
     "data": {
      "image/png": "[encoded data removed]",
      "text/plain": [
       "<Figure size 640x480 with 1 Axes>"
      ]
     },
     "metadata": {},
     "output_type": "display_data"
    }
   ],
   "source": [
    "plt.hist(gam_lvp)"
   ]
  },
  {
   "cell_type": "code",
   "execution_count": 103,
   "id": "7de9a147-3400-42a5-ab9a-7c2eb288fc9e",
   "metadata": {
    "execution": {
     "iopub.execute_input": "2024-04-26T13:03:38.639876Z",
     "iopub.status.busy": "2024-04-26T13:03:38.639590Z",
     "iopub.status.idle": "2024-04-26T13:03:48.822468Z",
     "shell.execute_reply": "2024-04-26T13:03:48.821431Z",
     "shell.execute_reply.started": "2024-04-26T13:03:38.639857Z"
    }
   },
   "outputs": [],
   "source": [
    "y3 = acv['pdp']\n",
    "x = acv[cn]\n",
    "gam3 = pygam.LinearGAM().fit(x, y3)"
   ]
  },
  {
   "cell_type": "code",
   "execution_count": 104,
   "id": "d2225ce9-f6ae-4789-915b-fdd57dd0faf3",
   "metadata": {
    "execution": {
     "iopub.execute_input": "2024-04-26T13:03:48.824102Z",
     "iopub.status.busy": "2024-04-26T13:03:48.823875Z",
     "iopub.status.idle": "2024-04-26T13:03:48.839491Z",
     "shell.execute_reply": "2024-04-26T13:03:48.838768Z",
     "shell.execute_reply.started": "2024-04-26T13:03:48.824082Z"
    }
   },
   "outputs": [
    {
     "name": "stdout",
     "output_type": "stream",
     "text": [
      "LinearGAM                                                                                                 \n",
      "=============================================== ==========================================================\n",
      "Distribution:                        NormalDist Effective DoF:                                    125.4164\n",
      "Link Function:                     IdentityLink Log Likelihood:                                  -233.1703\n",
      "Number of Samples:                          295 AIC:                                              719.1733\n",
      "                                                AICc:                                             911.4059\n",
      "                                                GCV:                                                 0.643\n",
      "                                                Scale:                                              0.1833\n",
      "                                                Pseudo R-Squared:                                   0.5785\n",
      "==========================================================================================================\n",
      "Feature Function                  Lambda               Rank         EDoF         P > x        Sig. Code   \n",
      "================================= ==================== ============ ============ ============ ============\n",
      "s(0)                              [0.6]                20                        1.11e-16     ***         \n",
      "s(1)                              [0.6]                20                        1.35e-01                 \n",
      "s(2)                              [0.6]                20                        8.13e-02     .           \n",
      "s(3)                              [0.6]                20                        8.53e-01                 \n",
      "s(4)                              [0.6]                20                        6.70e-03     **          \n",
      "s(5)                              [0.6]                20                        1.70e-01                 \n",
      "s(6)                              [0.6]                20                        1.57e-02     *           \n",
      "s(7)                              [0.6]                20                        3.82e-03     **          \n",
      "s(8)                              [0.6]                20                        5.74e-02     .           \n",
      "s(9)                              [0.6]                20                        2.26e-03     **          \n",
      "s(10)                             [0.6]                20                        1.11e-16     ***         \n",
      "s(11)                             [0.6]                20                        1.11e-16     ***         \n",
      "s(12)                             [0.6]                20                        1.11e-16     ***         \n",
      "s(13)                             [0.6]                20                        3.26e-01                 \n",
      "s(14)                             [0.6]                20                        4.42e-01                 \n",
      "s(15)                             [0.6]                20                        3.97e-01                 \n",
      "s(16)                             [0.6]                20                        7.48e-02     .           \n",
      "s(17)                             [0.6]                20                        5.14e-01                 \n",
      "s(18)                             [0.6]                20                        3.58e-02     *           \n",
      "s(19)                             [0.6]                20                        2.58e-01                 \n",
      "s(20)                             [0.6]                20                        7.91e-02     .           \n",
      "s(21)                             [0.6]                20                        5.68e-02     .           \n",
      "s(22)                             [0.6]                20                        1.37e-02     *           \n",
      "s(23)                             [0.6]                20                        2.06e-01                 \n",
      "s(24)                             [0.6]                20                        5.96e-01                 \n",
      "s(25)                             [0.6]                20                        1.69e-01                 \n",
      "s(26)                             [0.6]                20                        2.49e-01                 \n",
      "s(27)                             [0.6]                20                        1.80e-02     *           \n",
      "s(28)                             [0.6]                20                        1.14e-01                 \n",
      "s(29)                             [0.6]                20                        1.11e-16     ***         \n",
      "s(30)                             [0.6]                20                        1.11e-16     ***         \n",
      "s(31)                             [0.6]                20                        1.11e-16     ***         \n",
      "s(32)                             [0.6]                20                        1.11e-16     ***         \n",
      "s(33)                             [0.6]                20                        1.11e-16     ***         \n",
      "s(34)                             [0.6]                20                        1.11e-16     ***         \n",
      "s(35)                             [0.6]                20                        1.11e-16     ***         \n",
      "s(36)                             [0.6]                20                        1.11e-16     ***         \n",
      "s(37)                             [0.6]                20                        1.11e-16     ***         \n",
      "s(38)                             [0.6]                20                        1.11e-16     ***         \n",
      "s(39)                             [0.6]                20                        1.11e-16     ***         \n",
      "s(40)                             [0.6]                20                        1.11e-16     ***         \n",
      "s(41)                             [0.6]                20                        1.11e-16     ***         \n",
      "s(42)                             [0.6]                20                        1.11e-16     ***         \n",
      "s(43)                             [0.6]                20                        1.11e-16     ***         \n",
      "s(44)                             [0.6]                20                        1.11e-16     ***         \n",
      "s(45)                             [0.6]                20                        1.11e-16     ***         \n",
      "s(46)                             [0.6]                20                        1.11e-16     ***         \n",
      "s(47)                             [0.6]                20                        1.11e-16     ***         \n",
      "s(48)                             [0.6]                20                        1.11e-16     ***         \n",
      "s(49)                             [0.6]                20                        1.11e-16     ***         \n",
      "s(50)                             [0.6]                20                        1.11e-16     ***         \n",
      "s(51)                             [0.6]                20                        1.11e-16     ***         \n",
      "s(52)                             [0.6]                20                        1.11e-16     ***         \n",
      "s(53)                             [0.6]                20                        1.11e-16     ***         \n",
      "s(54)                             [0.6]                20                        1.11e-16     ***         \n",
      "s(55)                             [0.6]                20                        1.11e-16     ***         \n",
      "s(56)                             [0.6]                20                        1.11e-16     ***         \n",
      "s(57)                             [0.6]                20                        1.11e-16     ***         \n",
      "s(58)                             [0.6]                20                        1.11e-16     ***         \n",
      "s(59)                             [0.6]                20                        1.11e-16     ***         \n",
      "s(60)                             [0.6]                20                        1.11e-16     ***         \n",
      "s(61)                             [0.6]                20                        1.11e-16     ***         \n",
      "s(62)                             [0.6]                20                        1.11e-16     ***         \n",
      "s(63)                             [0.6]                20                        1.11e-16     ***         \n",
      "s(64)                             [0.6]                20                        1.11e-16     ***         \n",
      "s(65)                             [0.6]                20                        1.11e-16     ***         \n",
      "s(66)                             [0.6]                20                        1.11e-16     ***         \n",
      "s(67)                             [0.6]                20                        1.11e-16     ***         \n",
      "s(68)                             [0.6]                20                        1.11e-16     ***         \n",
      "s(69)                             [0.6]                20                        1.11e-16     ***         \n",
      "s(70)                             [0.6]                20                        1.11e-16     ***         \n",
      "s(71)                             [0.6]                20                        1.11e-16     ***         \n",
      "s(72)                             [0.6]                20                        1.11e-16     ***         \n",
      "s(73)                             [0.6]                20                        1.11e-16     ***         \n",
      "s(74)                             [0.6]                20                        1.11e-16     ***         \n",
      "s(75)                             [0.6]                20                        1.11e-16     ***         \n",
      "s(76)                             [0.6]                20                        1.11e-16     ***         \n",
      "s(77)                             [0.6]                20                        1.11e-16     ***         \n",
      "s(78)                             [0.6]                20                        1.11e-16     ***         \n",
      "s(79)                             [0.6]                20                        1.11e-16     ***         \n",
      "s(80)                             [0.6]                20                        1.11e-16     ***         \n",
      "s(81)                             [0.6]                20                        1.11e-16     ***         \n",
      "s(82)                             [0.6]                20                        1.11e-16     ***         \n",
      "s(83)                             [0.6]                20                        1.11e-16     ***         \n",
      "s(84)                             [0.6]                20                        1.11e-16     ***         \n",
      "s(85)                             [0.6]                20                        1.11e-16     ***         \n",
      "s(86)                             [0.6]                20                        1.11e-16     ***         \n",
      "s(87)                             [0.6]                20                        1.11e-16     ***         \n",
      "s(88)                             [0.6]                20                        1.11e-16     ***         \n",
      "s(89)                             [0.6]                20                        1.11e-16     ***         \n",
      "s(90)                             [0.6]                20                        1.11e-16     ***         \n",
      "s(91)                             [0.6]                20                        1.11e-16     ***         \n",
      "s(92)                             [0.6]                20                        1.11e-16     ***         \n",
      "s(93)                             [0.6]                20                        1.11e-16     ***         \n",
      "s(94)                             [0.6]                20                        1.11e-16     ***         \n",
      "s(95)                             [0.6]                20                        1.11e-16     ***         \n",
      "s(96)                             [0.6]                20                        3.44e-01                 \n",
      "s(97)                             [0.6]                20                        6.61e-02     .           \n",
      "intercept                                              1                         1.03e-07     ***         \n",
      "==========================================================================================================\n",
      "Significance codes:  0 '***' 0.001 '**' 0.01 '*' 0.05 '.' 0.1 ' ' 1\n",
      "\n",
      "WARNING: Fitting splines and a linear function to a feature introduces a model identifiability problem\n",
      "         which can cause p-values to appear significant when they are not.\n",
      "\n",
      "WARNING: p-values calculated in this manner behave correctly for un-penalized models or models with\n",
      "         known smoothing parameters, but when smoothing parameters have been estimated, the p-values\n",
      "         are typically lower than they should be, meaning that the tests reject the null too readily.\n"
     ]
    },
    {
     "name": "stderr",
     "output_type": "stream",
     "text": [
      "/sctmp/yelhe/ipykernel_4188251/3847374921.py:1: UserWarning: KNOWN BUG: p-values computed in this summary are likely much smaller than they should be. \n",
      " \n",
      "Please do not make inferences based on these values! \n",
      "\n",
      "Collaborate on a solution, and stay up to date at: \n",
      "github.com/dswah/pyGAM/issues/163 \n",
      "\n",
      "  gam3.summary()\n"
     ]
    }
   ],
   "source": [
    "gam3.summary()"
   ]
  },
  {
   "cell_type": "code",
   "execution_count": 105,
   "id": "c4f37518-f526-4a94-8189-5d8d989d7dca",
   "metadata": {
    "execution": {
     "iopub.execute_input": "2024-04-26T13:03:48.840714Z",
     "iopub.status.busy": "2024-04-26T13:03:48.840427Z",
     "iopub.status.idle": "2024-04-26T13:03:48.853401Z",
     "shell.execute_reply": "2024-04-26T13:03:48.852765Z",
     "shell.execute_reply.started": "2024-04-26T13:03:48.840690Z"
    }
   },
   "outputs": [
    {
     "data": {
      "text/plain": [
       "{'n_samples': 295,\n",
       " 'm_features': 98,\n",
       " 'edof_per_coef': array([0.99549741, 0.50953153, 0.61150435, 0.55031447, 0.44797126,\n",
       "        0.35411097, 0.45362347, 0.44928155, 0.51090971, 0.55329826,\n",
       "        0.44678193, 0.42158071, 0.43834499, 0.39666791, 0.44064081,\n",
       "        0.38863148, 0.46086998, 0.96380308, 0.33366173, 0.37977304,\n",
       "        0.50415413, 0.48442697, 0.61137356, 0.64796018, 0.65417891,\n",
       "        0.70161761, 0.72972482, 0.73850194, 0.68283252, 0.73540747,\n",
       "        0.70510137, 0.7539453 , 0.73031977, 0.73213768, 0.73086819,\n",
       "        0.68666581, 0.54235408, 0.45176094, 0.45150703, 0.4219329 ,\n",
       "        0.43417556, 0.40427349, 0.50678766, 0.52401196, 0.52786159,\n",
       "        0.59968584, 0.64569349, 0.60504137, 0.63345018, 0.66667505,\n",
       "        0.63048235, 0.6691811 , 0.57670349, 0.47832733, 0.45782064,\n",
       "        0.46486726, 0.52646709, 0.37493441, 0.40844174, 0.38940821,\n",
       "        0.40607499, 0.44412588, 0.38551939, 0.49820396, 0.52901616,\n",
       "        0.51386124, 0.53082236, 0.5690693 , 0.54437554, 0.54155042,\n",
       "        0.57573319, 0.55612563, 0.64117954, 0.60846224, 0.54095419,\n",
       "        0.47463666, 0.40285285, 0.41116106, 0.38104078, 0.41006342,\n",
       "        0.47670028, 0.44390221, 0.55567958, 0.63873355, 0.62329725,\n",
       "        0.67421505, 0.65134805, 0.67287412, 0.646985  , 0.6830284 ,\n",
       "        0.6401665 , 0.61503661, 0.53934949, 0.49009393, 0.42339737,\n",
       "        0.40851552, 0.3673675 , 0.3393685 , 0.35525336, 0.33578742,\n",
       "        0.32051927, 0.35878054, 0.41303375, 0.46764238, 0.53942512,\n",
       "        0.5659953 , 0.52751369, 0.61209901, 0.54677947, 0.65855015,\n",
       "        0.63799922, 0.55766969, 0.53002299, 0.51625117, 0.50411553,\n",
       "        0.44179039, 0.39136582, 0.37058306, 0.31165083, 0.3927898 ,\n",
       "        0.34754739, 0.40334951, 0.41043036, 0.4225089 , 0.38148902,\n",
       "        0.55484631, 0.57665652, 0.53564375, 0.5341826 , 0.57672509,\n",
       "        0.48164064, 0.48822905, 0.48434251, 0.35893558, 0.3214892 ,\n",
       "        0.34581666, 0.32196551, 0.29264996, 0.41826859, 0.326402  ,\n",
       "        0.40715259, 0.35224704, 0.45085481, 0.49493337, 0.40330018,\n",
       "        0.46552856, 0.52016013, 0.51555012, 0.57757497, 0.56663051,\n",
       "        0.51228321, 0.57316253, 0.55419301, 0.47507442, 0.39581493,\n",
       "        0.40934842, 0.28534055, 0.40425243, 0.35803009, 0.32306242,\n",
       "        0.39894324, 0.30859567, 0.38578481, 0.37818489, 0.5059728 ,\n",
       "        0.40022287, 0.55771207, 0.52037756, 0.49817692, 0.50033445,\n",
       "        0.46158967, 0.39921926, 0.34670431, 0.3296627 , 0.32804104,\n",
       "        0.30232382, 0.28284161, 0.29029722, 0.36255774, 0.2889634 ,\n",
       "        0.31772813, 0.32180985, 0.35331019, 0.32372517, 0.38850116,\n",
       "        0.37022467, 0.4303474 , 0.45137759, 0.48927088, 0.46106347,\n",
       "        0.47018518, 0.4124178 , 0.43795192, 0.4473098 , 0.33292183,\n",
       "        0.37155682, 0.32966295, 0.3244026 , 0.34472517, 0.25234233,\n",
       "        0.38575469, 0.26790389, 0.26431191, 0.3020648 , 0.35133793,\n",
       "        0.29827259, 0.30716649, 0.30139707, 0.46360994, 0.25569683,\n",
       "        0.31850582, 0.28952118, 0.40431101, 0.33450055, 0.28065845,\n",
       "        0.32136121, 0.33425574, 0.27720479, 0.29625389, 0.31651663,\n",
       "        0.35431874, 0.28546147, 0.31497418, 0.27533456, 0.28906621,\n",
       "        0.30738383, 0.33243768, 0.29930358, 0.31213979, 0.21724793,\n",
       "        0.29149601, 0.28078635, 0.3063383 , 0.24086059, 0.21371911,\n",
       "        0.31815301, 0.28330387, 0.32701093, 0.31449089, 0.2675012 ,\n",
       "        0.33754451, 0.3684677 , 0.3447422 , 0.29702615, 0.28103344,\n",
       "        0.36618813, 0.27245867, 0.33277104, 0.31104849, 0.27576321,\n",
       "        0.36309148, 0.36380097, 0.31958138, 0.25307534, 0.33623199,\n",
       "        0.26199454, 0.24513945, 0.39774014, 0.35251785, 0.29472312,\n",
       "        0.23676458, 0.28660719, 0.34642387, 0.28553401, 0.32395416,\n",
       "        0.33746711, 0.37024677, 0.33391828, 0.28982932, 0.324894  ,\n",
       "        0.31919353, 0.32157139, 0.25664414, 0.32708962, 0.27025807,\n",
       "        0.28396033, 0.29829746, 0.29316611, 0.29711344, 0.2534573 ,\n",
       "        0.26343101, 0.2601678 , 0.25045464, 0.28856133, 0.3934112 ,\n",
       "        0.31831263, 0.27602999, 0.24583195, 0.21741487, 0.25738809,\n",
       "        0.26001   , 0.24535279, 0.26235879, 0.30492075, 0.29615116]),\n",
       " 'edof': 125.41638076301805,\n",
       " 'scale': 0.183294849728301,\n",
       " 'cov': array([[ 1.33221042e-05,  6.24576817e-05,  1.21671217e-05, ...,\n",
       "         -2.90260498e-06,  1.93027732e-07, -1.47005353e-06],\n",
       "        [ 6.24576817e-05,  3.19468196e-04,  5.16040596e-05, ...,\n",
       "         -2.14095116e-05,  1.89300824e-06, -9.63731862e-06],\n",
       "        [ 1.21671217e-05,  5.16040596e-05,  1.22965244e-05, ...,\n",
       "         -1.16827945e-06, -8.03501216e-08, -8.66990209e-07],\n",
       "        ...,\n",
       "        [-2.90260498e-06, -2.14095116e-05, -1.16827945e-06, ...,\n",
       "          2.43420679e-04,  1.79050667e-06, -1.77806835e-06],\n",
       "        [ 1.93027732e-07,  1.89300824e-06, -8.03501216e-08, ...,\n",
       "          1.79050667e-06,  5.47031391e-06,  4.23023249e-08],\n",
       "        [-1.47005353e-06, -9.63731862e-06, -8.66990209e-07, ...,\n",
       "         -1.77806835e-06,  4.23023249e-08,  5.81626116e-06]]),\n",
       " 'se': array([0.00364995, 0.01787367, 0.00350664, ..., 0.01560194, 0.00233887,\n",
       "        0.00241169]),\n",
       " 'AIC': 719.1733229666615,\n",
       " 'AICc': 911.4059263597837,\n",
       " 'pseudo_r2': OrderedDict([('explained_deviance', 0.5784810985885315),\n",
       "              ('McFadden', 0.26862098142145185),\n",
       "              ('McFadden_adj', 0.5868946049439527)]),\n",
       " 'GCV': 0.6430183664754238,\n",
       " 'UBRE': None,\n",
       " 'loglikelihood': -233.17028072031272,\n",
       " 'deviance': 169.58361923698197,\n",
       " 'p_values': [1.1102230246251565e-16,\n",
       "  0.13459743267802715,\n",
       "  0.08132710665967335,\n",
       "  0.8532329524325911,\n",
       "  0.006699137971324487,\n",
       "  0.16954522778796566,\n",
       "  0.015715745181104412,\n",
       "  0.0038155340003355187,\n",
       "  0.05739829742452773,\n",
       "  0.0022623441030578118,\n",
       "  1.1102230246251565e-16,\n",
       "  1.1102230246251565e-16,\n",
       "  1.1102230246251565e-16,\n",
       "  0.32621190689301305,\n",
       "  0.4415914568806507,\n",
       "  0.39677286592190253,\n",
       "  0.0747909587277169,\n",
       "  0.5135701552276173,\n",
       "  0.035820973065821216,\n",
       "  0.25761344634596184,\n",
       "  0.07914707541792099,\n",
       "  0.05682803570527917,\n",
       "  0.01372289311020336,\n",
       "  0.20626251456378142,\n",
       "  0.596317155115501,\n",
       "  0.1694633845000144,\n",
       "  0.24914957886478373,\n",
       "  0.017958219489351723,\n",
       "  0.11376873782205821,\n",
       "  1.1102230246251565e-16,\n",
       "  1.1102230246251565e-16,\n",
       "  1.1102230246251565e-16,\n",
       "  1.1102230246251565e-16,\n",
       "  1.1102230246251565e-16,\n",
       "  1.1102230246251565e-16,\n",
       "  1.1102230246251565e-16,\n",
       "  1.1102230246251565e-16,\n",
       "  1.1102230246251565e-16,\n",
       "  1.1102230246251565e-16,\n",
       "  1.1102230246251565e-16,\n",
       "  1.1102230246251565e-16,\n",
       "  1.1102230246251565e-16,\n",
       "  1.1102230246251565e-16,\n",
       "  1.1102230246251565e-16,\n",
       "  1.1102230246251565e-16,\n",
       "  1.1102230246251565e-16,\n",
       "  1.1102230246251565e-16,\n",
       "  1.1102230246251565e-16,\n",
       "  1.1102230246251565e-16,\n",
       "  1.1102230246251565e-16,\n",
       "  1.1102230246251565e-16,\n",
       "  1.1102230246251565e-16,\n",
       "  1.1102230246251565e-16,\n",
       "  1.1102230246251565e-16,\n",
       "  1.1102230246251565e-16,\n",
       "  1.1102230246251565e-16,\n",
       "  1.1102230246251565e-16,\n",
       "  1.1102230246251565e-16,\n",
       "  1.1102230246251565e-16,\n",
       "  1.1102230246251565e-16,\n",
       "  1.1102230246251565e-16,\n",
       "  1.1102230246251565e-16,\n",
       "  1.1102230246251565e-16,\n",
       "  1.1102230246251565e-16,\n",
       "  1.1102230246251565e-16,\n",
       "  1.1102230246251565e-16,\n",
       "  1.1102230246251565e-16,\n",
       "  1.1102230246251565e-16,\n",
       "  1.1102230246251565e-16,\n",
       "  1.1102230246251565e-16,\n",
       "  1.1102230246251565e-16,\n",
       "  1.1102230246251565e-16,\n",
       "  1.1102230246251565e-16,\n",
       "  1.1102230246251565e-16,\n",
       "  1.1102230246251565e-16,\n",
       "  1.1102230246251565e-16,\n",
       "  1.1102230246251565e-16,\n",
       "  1.1102230246251565e-16,\n",
       "  1.1102230246251565e-16,\n",
       "  1.1102230246251565e-16,\n",
       "  1.1102230246251565e-16,\n",
       "  1.1102230246251565e-16,\n",
       "  1.1102230246251565e-16,\n",
       "  1.1102230246251565e-16,\n",
       "  1.1102230246251565e-16,\n",
       "  1.1102230246251565e-16,\n",
       "  1.1102230246251565e-16,\n",
       "  1.1102230246251565e-16,\n",
       "  1.1102230246251565e-16,\n",
       "  1.1102230246251565e-16,\n",
       "  1.1102230246251565e-16,\n",
       "  1.1102230246251565e-16,\n",
       "  1.1102230246251565e-16,\n",
       "  1.1102230246251565e-16,\n",
       "  1.1102230246251565e-16,\n",
       "  1.1102230246251565e-16,\n",
       "  0.34437007210774273,\n",
       "  0.06612123461928832,\n",
       "  1.0281309315018916e-07]}"
      ]
     },
     "execution_count": 105,
     "metadata": {},
     "output_type": "execute_result"
    }
   ],
   "source": [
    "gam3.statistics_"
   ]
  },
  {
   "cell_type": "code",
   "execution_count": 217,
   "id": "fa759c36-defc-4815-abca-bc6e84ffbaff",
   "metadata": {
    "execution": {
     "iopub.execute_input": "2024-04-26T14:31:22.132509Z",
     "iopub.status.busy": "2024-04-26T14:31:22.132147Z",
     "iopub.status.idle": "2024-04-26T14:31:22.136446Z",
     "shell.execute_reply": "2024-04-26T14:31:22.135715Z",
     "shell.execute_reply.started": "2024-04-26T14:31:22.132487Z"
    }
   },
   "outputs": [],
   "source": [
    "df1['pdp_pv'] = gam3.statistics_['p_values']"
   ]
  },
  {
   "cell_type": "code",
   "execution_count": 106,
   "id": "d7609512-a118-4f3b-bf0d-d1f9ae7f8eeb",
   "metadata": {
    "execution": {
     "iopub.execute_input": "2024-04-26T13:03:48.854676Z",
     "iopub.status.busy": "2024-04-26T13:03:48.854335Z",
     "iopub.status.idle": "2024-04-26T13:03:49.014760Z",
     "shell.execute_reply": "2024-04-26T13:03:49.014037Z",
     "shell.execute_reply.started": "2024-04-26T13:03:48.854651Z"
    }
   },
   "outputs": [],
   "source": [
    "gam_pdp = gam3.predict(xrp)"
   ]
  },
  {
   "cell_type": "code",
   "execution_count": 107,
   "id": "803d0d29-a1af-4b34-9a28-a74c601d6505",
   "metadata": {
    "execution": {
     "iopub.execute_input": "2024-04-26T13:03:49.016348Z",
     "iopub.status.busy": "2024-04-26T13:03:49.015757Z",
     "iopub.status.idle": "2024-04-26T13:03:49.171719Z",
     "shell.execute_reply": "2024-04-26T13:03:49.171103Z",
     "shell.execute_reply.started": "2024-04-26T13:03:49.016321Z"
    }
   },
   "outputs": [
    {
     "data": {
      "text/plain": [
       "(array([  5.,  15.,  57., 115., 157., 184., 134.,  80.,  33.,  12.]),\n",
       " array([-0.15171549, -0.00450098,  0.14271352,  0.28992802,  0.43714253,\n",
       "         0.58435703,  0.73157154,  0.87878604,  1.02600055,  1.17321505,\n",
       "         1.32042956]),\n",
       " <BarContainer object of 10 artists>)"
      ]
     },
     "execution_count": 107,
     "metadata": {},
     "output_type": "execute_result"
    },
    {
     "data": {
      "image/png": "[encoded data removed]",
      "text/plain": [
       "<Figure size 640x480 with 1 Axes>"
      ]
     },
     "metadata": {},
     "output_type": "display_data"
    }
   ],
   "source": [
    "plt.hist(gam_pdp)"
   ]
  },
  {
   "cell_type": "code",
   "execution_count": null,
   "id": "11d9ef11-f515-426e-ad97-5da1769c8525",
   "metadata": {},
   "outputs": [],
   "source": []
  },
  {
   "cell_type": "code",
   "execution_count": 108,
   "id": "19c11426-6ab0-4751-a662-518f62e741de",
   "metadata": {
    "execution": {
     "iopub.execute_input": "2024-04-26T13:03:49.172851Z",
     "iopub.status.busy": "2024-04-26T13:03:49.172603Z",
     "iopub.status.idle": "2024-04-26T13:03:58.937527Z",
     "shell.execute_reply": "2024-04-26T13:03:58.936464Z",
     "shell.execute_reply.started": "2024-04-26T13:03:49.172834Z"
    }
   },
   "outputs": [],
   "source": [
    "y4 = acv['inp']\n",
    "x = acv[cn]\n",
    "gam4 = pygam.LinearGAM().fit(x, y4)"
   ]
  },
  {
   "cell_type": "code",
   "execution_count": 109,
   "id": "743abea5-9c1d-48ba-9927-98400a44783e",
   "metadata": {
    "execution": {
     "iopub.execute_input": "2024-04-26T13:03:58.939267Z",
     "iopub.status.busy": "2024-04-26T13:03:58.938974Z",
     "iopub.status.idle": "2024-04-26T13:03:58.954032Z",
     "shell.execute_reply": "2024-04-26T13:03:58.953448Z",
     "shell.execute_reply.started": "2024-04-26T13:03:58.939245Z"
    }
   },
   "outputs": [
    {
     "name": "stdout",
     "output_type": "stream",
     "text": [
      "LinearGAM                                                                                                 \n",
      "=============================================== ==========================================================\n",
      "Distribution:                        NormalDist Effective DoF:                                    125.4164\n",
      "Link Function:                     IdentityLink Log Likelihood:                                  -486.1253\n",
      "Number of Samples:                          295 AIC:                                             1225.0833\n",
      "                                                AICc:                                            1417.3159\n",
      "                                                GCV:                                                0.3242\n",
      "                                                Scale:                                              0.0924\n",
      "                                                Pseudo R-Squared:                                   0.5468\n",
      "==========================================================================================================\n",
      "Feature Function                  Lambda               Rank         EDoF         P > x        Sig. Code   \n",
      "================================= ==================== ============ ============ ============ ============\n",
      "s(0)                              [0.6]                20                        1.11e-16     ***         \n",
      "s(1)                              [0.6]                20                        1.68e-02     *           \n",
      "s(2)                              [0.6]                20                        1.87e-02     *           \n",
      "s(3)                              [0.6]                20                        3.06e-02     *           \n",
      "s(4)                              [0.6]                20                        3.73e-01                 \n",
      "s(5)                              [0.6]                20                        4.94e-01                 \n",
      "s(6)                              [0.6]                20                        2.31e-06     ***         \n",
      "s(7)                              [0.6]                20                        2.64e-01                 \n",
      "s(8)                              [0.6]                20                        5.54e-02     .           \n",
      "s(9)                              [0.6]                20                        8.12e-01                 \n",
      "s(10)                             [0.6]                20                        1.11e-16     ***         \n",
      "s(11)                             [0.6]                20                        1.11e-16     ***         \n",
      "s(12)                             [0.6]                20                        1.11e-16     ***         \n",
      "s(13)                             [0.6]                20                        5.57e-01                 \n",
      "s(14)                             [0.6]                20                        1.54e-01                 \n",
      "s(15)                             [0.6]                20                        2.87e-01                 \n",
      "s(16)                             [0.6]                20                        6.44e-02     .           \n",
      "s(17)                             [0.6]                20                        6.37e-02     .           \n",
      "s(18)                             [0.6]                20                        2.31e-01                 \n",
      "s(19)                             [0.6]                20                        6.77e-02     .           \n",
      "s(20)                             [0.6]                20                        3.81e-03     **          \n",
      "s(21)                             [0.6]                20                        7.04e-02     .           \n",
      "s(22)                             [0.6]                20                        9.40e-03     **          \n",
      "s(23)                             [0.6]                20                        1.98e-01                 \n",
      "s(24)                             [0.6]                20                        8.23e-03     **          \n",
      "s(25)                             [0.6]                20                        8.13e-01                 \n",
      "s(26)                             [0.6]                20                        2.11e-01                 \n",
      "s(27)                             [0.6]                20                        1.59e-01                 \n",
      "s(28)                             [0.6]                20                        5.61e-02     .           \n",
      "s(29)                             [0.6]                20                        1.11e-16     ***         \n",
      "s(30)                             [0.6]                20                        1.11e-16     ***         \n",
      "s(31)                             [0.6]                20                        1.11e-16     ***         \n",
      "s(32)                             [0.6]                20                        1.11e-16     ***         \n",
      "s(33)                             [0.6]                20                        1.11e-16     ***         \n",
      "s(34)                             [0.6]                20                        1.11e-16     ***         \n",
      "s(35)                             [0.6]                20                        1.11e-16     ***         \n",
      "s(36)                             [0.6]                20                        1.11e-16     ***         \n",
      "s(37)                             [0.6]                20                        1.11e-16     ***         \n",
      "s(38)                             [0.6]                20                        1.11e-16     ***         \n",
      "s(39)                             [0.6]                20                        1.11e-16     ***         \n",
      "s(40)                             [0.6]                20                        1.11e-16     ***         \n",
      "s(41)                             [0.6]                20                        1.11e-16     ***         \n",
      "s(42)                             [0.6]                20                        1.11e-16     ***         \n",
      "s(43)                             [0.6]                20                        1.11e-16     ***         \n",
      "s(44)                             [0.6]                20                        1.11e-16     ***         \n",
      "s(45)                             [0.6]                20                        1.11e-16     ***         \n",
      "s(46)                             [0.6]                20                        1.11e-16     ***         \n",
      "s(47)                             [0.6]                20                        1.11e-16     ***         \n",
      "s(48)                             [0.6]                20                        1.11e-16     ***         \n",
      "s(49)                             [0.6]                20                        1.11e-16     ***         \n",
      "s(50)                             [0.6]                20                        1.11e-16     ***         \n",
      "s(51)                             [0.6]                20                        1.11e-16     ***         \n",
      "s(52)                             [0.6]                20                        1.11e-16     ***         \n",
      "s(53)                             [0.6]                20                        1.11e-16     ***         \n",
      "s(54)                             [0.6]                20                        1.11e-16     ***         \n",
      "s(55)                             [0.6]                20                        1.11e-16     ***         \n",
      "s(56)                             [0.6]                20                        1.11e-16     ***         \n",
      "s(57)                             [0.6]                20                        1.11e-16     ***         \n",
      "s(58)                             [0.6]                20                        1.11e-16     ***         \n",
      "s(59)                             [0.6]                20                        1.11e-16     ***         \n",
      "s(60)                             [0.6]                20                        1.11e-16     ***         \n",
      "s(61)                             [0.6]                20                        1.11e-16     ***         \n",
      "s(62)                             [0.6]                20                        1.11e-16     ***         \n",
      "s(63)                             [0.6]                20                        1.11e-16     ***         \n",
      "s(64)                             [0.6]                20                        1.11e-16     ***         \n",
      "s(65)                             [0.6]                20                        1.11e-16     ***         \n",
      "s(66)                             [0.6]                20                        1.11e-16     ***         \n",
      "s(67)                             [0.6]                20                        1.11e-16     ***         \n",
      "s(68)                             [0.6]                20                        1.11e-16     ***         \n",
      "s(69)                             [0.6]                20                        1.11e-16     ***         \n",
      "s(70)                             [0.6]                20                        1.11e-16     ***         \n",
      "s(71)                             [0.6]                20                        1.11e-16     ***         \n",
      "s(72)                             [0.6]                20                        1.11e-16     ***         \n",
      "s(73)                             [0.6]                20                        1.11e-16     ***         \n",
      "s(74)                             [0.6]                20                        1.11e-16     ***         \n",
      "s(75)                             [0.6]                20                        1.11e-16     ***         \n",
      "s(76)                             [0.6]                20                        1.11e-16     ***         \n",
      "s(77)                             [0.6]                20                        1.11e-16     ***         \n",
      "s(78)                             [0.6]                20                        1.11e-16     ***         \n",
      "s(79)                             [0.6]                20                        1.11e-16     ***         \n",
      "s(80)                             [0.6]                20                        1.11e-16     ***         \n",
      "s(81)                             [0.6]                20                        1.11e-16     ***         \n",
      "s(82)                             [0.6]                20                        1.11e-16     ***         \n",
      "s(83)                             [0.6]                20                        1.11e-16     ***         \n",
      "s(84)                             [0.6]                20                        1.11e-16     ***         \n",
      "s(85)                             [0.6]                20                        1.11e-16     ***         \n",
      "s(86)                             [0.6]                20                        1.11e-16     ***         \n",
      "s(87)                             [0.6]                20                        1.11e-16     ***         \n",
      "s(88)                             [0.6]                20                        1.11e-16     ***         \n",
      "s(89)                             [0.6]                20                        1.11e-16     ***         \n",
      "s(90)                             [0.6]                20                        1.11e-16     ***         \n",
      "s(91)                             [0.6]                20                        1.11e-16     ***         \n",
      "s(92)                             [0.6]                20                        1.11e-16     ***         \n",
      "s(93)                             [0.6]                20                        1.11e-16     ***         \n",
      "s(94)                             [0.6]                20                        1.11e-16     ***         \n",
      "s(95)                             [0.6]                20                        1.11e-16     ***         \n",
      "s(96)                             [0.6]                20                        6.23e-04     ***         \n",
      "s(97)                             [0.6]                20                        5.59e-01                 \n",
      "intercept                                              1                         1.11e-16     ***         \n",
      "==========================================================================================================\n",
      "Significance codes:  0 '***' 0.001 '**' 0.01 '*' 0.05 '.' 0.1 ' ' 1\n",
      "\n",
      "WARNING: Fitting splines and a linear function to a feature introduces a model identifiability problem\n",
      "         which can cause p-values to appear significant when they are not.\n",
      "\n",
      "WARNING: p-values calculated in this manner behave correctly for un-penalized models or models with\n",
      "         known smoothing parameters, but when smoothing parameters have been estimated, the p-values\n",
      "         are typically lower than they should be, meaning that the tests reject the null too readily.\n"
     ]
    },
    {
     "name": "stderr",
     "output_type": "stream",
     "text": [
      "/sctmp/yelhe/ipykernel_4188251/3649765879.py:1: UserWarning: KNOWN BUG: p-values computed in this summary are likely much smaller than they should be. \n",
      " \n",
      "Please do not make inferences based on these values! \n",
      "\n",
      "Collaborate on a solution, and stay up to date at: \n",
      "github.com/dswah/pyGAM/issues/163 \n",
      "\n",
      "  gam4.summary()\n"
     ]
    }
   ],
   "source": [
    "gam4.summary()"
   ]
  },
  {
   "cell_type": "code",
   "execution_count": 110,
   "id": "fd26255f-05ae-417d-9488-25024cf2aeaa",
   "metadata": {
    "execution": {
     "iopub.execute_input": "2024-04-26T13:03:58.955259Z",
     "iopub.status.busy": "2024-04-26T13:03:58.954961Z",
     "iopub.status.idle": "2024-04-26T13:03:58.965723Z",
     "shell.execute_reply": "2024-04-26T13:03:58.965046Z",
     "shell.execute_reply.started": "2024-04-26T13:03:58.955235Z"
    }
   },
   "outputs": [
    {
     "data": {
      "text/plain": [
       "{'n_samples': 295,\n",
       " 'm_features': 98,\n",
       " 'edof_per_coef': array([0.99549741, 0.50953153, 0.61150435, 0.55031447, 0.44797126,\n",
       "        0.35411097, 0.45362347, 0.44928155, 0.51090971, 0.55329826,\n",
       "        0.44678193, 0.42158071, 0.43834499, 0.39666791, 0.44064081,\n",
       "        0.38863148, 0.46086998, 0.96380308, 0.33366173, 0.37977304,\n",
       "        0.50415413, 0.48442697, 0.61137356, 0.64796018, 0.65417891,\n",
       "        0.70161761, 0.72972482, 0.73850194, 0.68283252, 0.73540747,\n",
       "        0.70510137, 0.7539453 , 0.73031977, 0.73213768, 0.73086819,\n",
       "        0.68666581, 0.54235408, 0.45176094, 0.45150703, 0.4219329 ,\n",
       "        0.43417556, 0.40427349, 0.50678766, 0.52401196, 0.52786159,\n",
       "        0.59968584, 0.64569349, 0.60504137, 0.63345018, 0.66667505,\n",
       "        0.63048235, 0.6691811 , 0.57670349, 0.47832733, 0.45782064,\n",
       "        0.46486726, 0.52646709, 0.37493441, 0.40844174, 0.38940821,\n",
       "        0.40607499, 0.44412588, 0.38551939, 0.49820396, 0.52901616,\n",
       "        0.51386124, 0.53082236, 0.5690693 , 0.54437554, 0.54155042,\n",
       "        0.57573319, 0.55612563, 0.64117954, 0.60846224, 0.54095419,\n",
       "        0.47463666, 0.40285285, 0.41116106, 0.38104078, 0.41006342,\n",
       "        0.47670028, 0.44390221, 0.55567958, 0.63873355, 0.62329725,\n",
       "        0.67421505, 0.65134805, 0.67287412, 0.646985  , 0.6830284 ,\n",
       "        0.6401665 , 0.61503661, 0.53934949, 0.49009393, 0.42339737,\n",
       "        0.40851552, 0.3673675 , 0.3393685 , 0.35525336, 0.33578742,\n",
       "        0.32051927, 0.35878054, 0.41303375, 0.46764238, 0.53942512,\n",
       "        0.5659953 , 0.52751369, 0.61209901, 0.54677947, 0.65855015,\n",
       "        0.63799922, 0.55766969, 0.53002299, 0.51625117, 0.50411553,\n",
       "        0.44179039, 0.39136582, 0.37058306, 0.31165083, 0.3927898 ,\n",
       "        0.34754739, 0.40334951, 0.41043036, 0.4225089 , 0.38148902,\n",
       "        0.55484631, 0.57665652, 0.53564375, 0.5341826 , 0.57672509,\n",
       "        0.48164064, 0.48822905, 0.48434251, 0.35893558, 0.3214892 ,\n",
       "        0.34581666, 0.32196551, 0.29264996, 0.41826859, 0.326402  ,\n",
       "        0.40715259, 0.35224704, 0.45085481, 0.49493337, 0.40330018,\n",
       "        0.46552856, 0.52016013, 0.51555012, 0.57757497, 0.56663051,\n",
       "        0.51228321, 0.57316253, 0.55419301, 0.47507442, 0.39581493,\n",
       "        0.40934842, 0.28534055, 0.40425243, 0.35803009, 0.32306242,\n",
       "        0.39894324, 0.30859567, 0.38578481, 0.37818489, 0.5059728 ,\n",
       "        0.40022287, 0.55771207, 0.52037756, 0.49817692, 0.50033445,\n",
       "        0.46158967, 0.39921926, 0.34670431, 0.3296627 , 0.32804104,\n",
       "        0.30232382, 0.28284161, 0.29029722, 0.36255774, 0.2889634 ,\n",
       "        0.31772813, 0.32180985, 0.35331019, 0.32372517, 0.38850116,\n",
       "        0.37022467, 0.4303474 , 0.45137759, 0.48927088, 0.46106347,\n",
       "        0.47018518, 0.4124178 , 0.43795192, 0.4473098 , 0.33292183,\n",
       "        0.37155682, 0.32966295, 0.3244026 , 0.34472517, 0.25234233,\n",
       "        0.38575469, 0.26790389, 0.26431191, 0.3020648 , 0.35133793,\n",
       "        0.29827259, 0.30716649, 0.30139707, 0.46360994, 0.25569683,\n",
       "        0.31850582, 0.28952118, 0.40431101, 0.33450055, 0.28065845,\n",
       "        0.32136121, 0.33425574, 0.27720479, 0.29625389, 0.31651663,\n",
       "        0.35431874, 0.28546147, 0.31497418, 0.27533456, 0.28906621,\n",
       "        0.30738383, 0.33243768, 0.29930358, 0.31213979, 0.21724793,\n",
       "        0.29149601, 0.28078635, 0.3063383 , 0.24086059, 0.21371911,\n",
       "        0.31815301, 0.28330387, 0.32701093, 0.31449089, 0.2675012 ,\n",
       "        0.33754451, 0.3684677 , 0.3447422 , 0.29702615, 0.28103344,\n",
       "        0.36618813, 0.27245867, 0.33277104, 0.31104849, 0.27576321,\n",
       "        0.36309148, 0.36380097, 0.31958138, 0.25307534, 0.33623199,\n",
       "        0.26199454, 0.24513945, 0.39774014, 0.35251785, 0.29472312,\n",
       "        0.23676458, 0.28660719, 0.34642387, 0.28553401, 0.32395416,\n",
       "        0.33746711, 0.37024677, 0.33391828, 0.28982932, 0.324894  ,\n",
       "        0.31919353, 0.32157139, 0.25664414, 0.32708962, 0.27025807,\n",
       "        0.28396033, 0.29829746, 0.29316611, 0.29711344, 0.2534573 ,\n",
       "        0.26343101, 0.2601678 , 0.25045464, 0.28856133, 0.3934112 ,\n",
       "        0.31831263, 0.27602999, 0.24583195, 0.21741487, 0.25738809,\n",
       "        0.26001   , 0.24535279, 0.26235879, 0.30492075, 0.29615116]),\n",
       " 'edof': 125.41638076301805,\n",
       " 'scale': 0.09240616435935947,\n",
       " 'cov': array([[ 6.71619824e-06,  3.14873812e-05,  6.13392603e-06, ...,\n",
       "         -1.46331767e-06,  9.73128945e-08, -7.41111975e-07],\n",
       "        [ 3.14873812e-05,  1.61056520e-04,  2.60156421e-05, ...,\n",
       "         -1.07933794e-05,  9.54340129e-07, -4.85855249e-06],\n",
       "        [ 6.13392603e-06,  2.60156421e-05,  6.19916300e-06, ...,\n",
       "         -5.88975756e-07, -4.05076659e-08, -4.37083965e-07],\n",
       "        ...,\n",
       "        [-1.46331767e-06, -1.07933794e-05, -5.88975756e-07, ...,\n",
       "          1.22717967e-04,  9.02665046e-07, -8.96394399e-07],\n",
       "        [ 9.73128945e-08,  9.54340129e-07, -4.05076659e-08, ...,\n",
       "          9.02665046e-07,  2.75780104e-06,  2.13262707e-08],\n",
       "        [-7.41111975e-07, -4.85855249e-06, -4.37083965e-07, ...,\n",
       "         -8.96394399e-07,  2.13262707e-08,  2.93220669e-06]]),\n",
       " 'se': array([0.00259156, 0.0126908 , 0.00248981, ..., 0.01107781, 0.00166066,\n",
       "        0.00171237]),\n",
       " 'AIC': 1225.0832801637587,\n",
       " 'AICc': 1417.3158835568809,\n",
       " 'pseudo_r2': OrderedDict([('explained_deviance', 0.5467824824901041),\n",
       "              ('McFadden', 0.30513291739145987),\n",
       "              ('McFadden_adj', 0.616145260573375)]),\n",
       " 'GCV': 0.3241709243150681,\n",
       " 'UBRE': None,\n",
       " 'loglikelihood': -486.12525931886125,\n",
       " 'deviance': 169.58361923698192,\n",
       " 'p_values': [1.1102230246251565e-16,\n",
       "  0.016757319522500036,\n",
       "  0.018669991447873735,\n",
       "  0.03058311204903863,\n",
       "  0.37330352984494464,\n",
       "  0.4936867376682187,\n",
       "  2.309926043331245e-06,\n",
       "  0.2636015188975205,\n",
       "  0.055440571344409606,\n",
       "  0.81196812644725,\n",
       "  1.1102230246251565e-16,\n",
       "  1.1102230246251565e-16,\n",
       "  1.1102230246251565e-16,\n",
       "  0.5567057632435515,\n",
       "  0.15389459375490566,\n",
       "  0.28732215746356804,\n",
       "  0.06435098776369275,\n",
       "  0.06365015552830378,\n",
       "  0.23086513615523696,\n",
       "  0.06771168275406536,\n",
       "  0.0038127429788733513,\n",
       "  0.07036222409129045,\n",
       "  0.00940332506790964,\n",
       "  0.19829621461112823,\n",
       "  0.008226668115642988,\n",
       "  0.8133192393020103,\n",
       "  0.21080426430801036,\n",
       "  0.15902337935752053,\n",
       "  0.05607715652044343,\n",
       "  1.1102230246251565e-16,\n",
       "  1.1102230246251565e-16,\n",
       "  1.1102230246251565e-16,\n",
       "  1.1102230246251565e-16,\n",
       "  1.1102230246251565e-16,\n",
       "  1.1102230246251565e-16,\n",
       "  1.1102230246251565e-16,\n",
       "  1.1102230246251565e-16,\n",
       "  1.1102230246251565e-16,\n",
       "  1.1102230246251565e-16,\n",
       "  1.1102230246251565e-16,\n",
       "  1.1102230246251565e-16,\n",
       "  1.1102230246251565e-16,\n",
       "  1.1102230246251565e-16,\n",
       "  1.1102230246251565e-16,\n",
       "  1.1102230246251565e-16,\n",
       "  1.1102230246251565e-16,\n",
       "  1.1102230246251565e-16,\n",
       "  1.1102230246251565e-16,\n",
       "  1.1102230246251565e-16,\n",
       "  1.1102230246251565e-16,\n",
       "  1.1102230246251565e-16,\n",
       "  1.1102230246251565e-16,\n",
       "  1.1102230246251565e-16,\n",
       "  1.1102230246251565e-16,\n",
       "  1.1102230246251565e-16,\n",
       "  1.1102230246251565e-16,\n",
       "  1.1102230246251565e-16,\n",
       "  1.1102230246251565e-16,\n",
       "  1.1102230246251565e-16,\n",
       "  1.1102230246251565e-16,\n",
       "  1.1102230246251565e-16,\n",
       "  1.1102230246251565e-16,\n",
       "  1.1102230246251565e-16,\n",
       "  1.1102230246251565e-16,\n",
       "  1.1102230246251565e-16,\n",
       "  1.1102230246251565e-16,\n",
       "  1.1102230246251565e-16,\n",
       "  1.1102230246251565e-16,\n",
       "  1.1102230246251565e-16,\n",
       "  1.1102230246251565e-16,\n",
       "  1.1102230246251565e-16,\n",
       "  1.1102230246251565e-16,\n",
       "  1.1102230246251565e-16,\n",
       "  1.1102230246251565e-16,\n",
       "  1.1102230246251565e-16,\n",
       "  1.1102230246251565e-16,\n",
       "  1.1102230246251565e-16,\n",
       "  1.1102230246251565e-16,\n",
       "  1.1102230246251565e-16,\n",
       "  1.1102230246251565e-16,\n",
       "  1.1102230246251565e-16,\n",
       "  1.1102230246251565e-16,\n",
       "  1.1102230246251565e-16,\n",
       "  1.1102230246251565e-16,\n",
       "  1.1102230246251565e-16,\n",
       "  1.1102230246251565e-16,\n",
       "  1.1102230246251565e-16,\n",
       "  1.1102230246251565e-16,\n",
       "  1.1102230246251565e-16,\n",
       "  1.1102230246251565e-16,\n",
       "  1.1102230246251565e-16,\n",
       "  1.1102230246251565e-16,\n",
       "  1.1102230246251565e-16,\n",
       "  1.1102230246251565e-16,\n",
       "  1.1102230246251565e-16,\n",
       "  1.1102230246251565e-16,\n",
       "  0.0006228751441229585,\n",
       "  0.5591999118378799,\n",
       "  1.1102230246251565e-16]}"
      ]
     },
     "execution_count": 110,
     "metadata": {},
     "output_type": "execute_result"
    }
   ],
   "source": [
    "gam4.statistics_"
   ]
  },
  {
   "cell_type": "code",
   "execution_count": 218,
   "id": "e44736e5-ae60-43ac-b22c-54a023c1ff7a",
   "metadata": {
    "execution": {
     "iopub.execute_input": "2024-04-26T14:31:43.249116Z",
     "iopub.status.busy": "2024-04-26T14:31:43.248779Z",
     "iopub.status.idle": "2024-04-26T14:31:43.253436Z",
     "shell.execute_reply": "2024-04-26T14:31:43.252665Z",
     "shell.execute_reply.started": "2024-04-26T14:31:43.249095Z"
    }
   },
   "outputs": [],
   "source": [
    "df1['inp_pv'] = gam4.statistics_['p_values']"
   ]
  },
  {
   "cell_type": "code",
   "execution_count": 111,
   "id": "4bb6fd28-ef88-4ab1-a6a1-925735a2ca27",
   "metadata": {
    "execution": {
     "iopub.execute_input": "2024-04-26T13:03:58.966922Z",
     "iopub.status.busy": "2024-04-26T13:03:58.966639Z",
     "iopub.status.idle": "2024-04-26T13:03:59.123071Z",
     "shell.execute_reply": "2024-04-26T13:03:59.122433Z",
     "shell.execute_reply.started": "2024-04-26T13:03:58.966899Z"
    }
   },
   "outputs": [],
   "source": [
    "gam_inp = gam4.predict(xrp)"
   ]
  },
  {
   "cell_type": "code",
   "execution_count": 112,
   "id": "881fa24d-c5df-4dcc-ab34-29d423ce90e6",
   "metadata": {
    "execution": {
     "iopub.execute_input": "2024-04-26T13:03:59.124327Z",
     "iopub.status.busy": "2024-04-26T13:03:59.124051Z",
     "iopub.status.idle": "2024-04-26T13:03:59.273686Z",
     "shell.execute_reply": "2024-04-26T13:03:59.273110Z",
     "shell.execute_reply.started": "2024-04-26T13:03:59.124305Z"
    }
   },
   "outputs": [
    {
     "data": {
      "text/plain": [
       "(array([  9.,  34.,  68., 140., 195., 178.,  94.,  53.,  15.,   6.]),\n",
       " array([0.36320933, 0.46054499, 0.55788065, 0.65521631, 0.75255197,\n",
       "        0.84988763, 0.94722329, 1.04455895, 1.14189461, 1.23923027,\n",
       "        1.33656592]),\n",
       " <BarContainer object of 10 artists>)"
      ]
     },
     "execution_count": 112,
     "metadata": {},
     "output_type": "execute_result"
    },
    {
     "data": {
      "image/png": "[encoded data removed]",
      "text/plain": [
       "<Figure size 640x480 with 1 Axes>"
      ]
     },
     "metadata": {},
     "output_type": "display_data"
    }
   ],
   "source": [
    "plt.hist(gam_inp)"
   ]
  },
  {
   "cell_type": "code",
   "execution_count": 170,
   "id": "44fb8efd-d848-45f7-806b-f966d239d6aa",
   "metadata": {
    "execution": {
     "iopub.execute_input": "2024-04-26T13:27:27.627457Z",
     "iopub.status.busy": "2024-04-26T13:27:27.626727Z",
     "iopub.status.idle": "2024-04-26T13:27:38.669834Z",
     "shell.execute_reply": "2024-04-26T13:27:38.668662Z",
     "shell.execute_reply.started": "2024-04-26T13:27:27.627422Z"
    }
   },
   "outputs": [],
   "source": [
    "y5 = acv['SV']\n",
    "x = acv[cn]\n",
    "gam5 = pygam.LinearGAM().fit(x, y5)"
   ]
  },
  {
   "cell_type": "code",
   "execution_count": 171,
   "id": "92c92abb-c1ed-4de7-b63c-4a6b9bdd808c",
   "metadata": {
    "execution": {
     "iopub.execute_input": "2024-04-26T13:27:38.672145Z",
     "iopub.status.busy": "2024-04-26T13:27:38.671808Z",
     "iopub.status.idle": "2024-04-26T13:27:38.686472Z",
     "shell.execute_reply": "2024-04-26T13:27:38.685933Z",
     "shell.execute_reply.started": "2024-04-26T13:27:38.672124Z"
    },
    "scrolled": true
   },
   "outputs": [
    {
     "name": "stdout",
     "output_type": "stream",
     "text": [
      "LinearGAM                                                                                                 \n",
      "=============================================== ==========================================================\n",
      "Distribution:                        NormalDist Effective DoF:                                    125.4164\n",
      "Link Function:                     IdentityLink Log Likelihood:                                  -377.0746\n",
      "Number of Samples:                          295 AIC:                                              1006.982\n",
      "                                                AICc:                                            1199.2146\n",
      "                                                GCV:                                                0.3974\n",
      "                                                Scale:                                              0.1133\n",
      "                                                Pseudo R-Squared:                                   0.5298\n",
      "==========================================================================================================\n",
      "Feature Function                  Lambda               Rank         EDoF         P > x        Sig. Code   \n",
      "================================= ==================== ============ ============ ============ ============\n",
      "s(0)                              [0.6]                20                        1.11e-16     ***         \n",
      "s(1)                              [0.6]                20                        8.01e-02     .           \n",
      "s(2)                              [0.6]                20                        5.30e-01                 \n",
      "s(3)                              [0.6]                20                        3.92e-01                 \n",
      "s(4)                              [0.6]                20                        3.59e-01                 \n",
      "s(5)                              [0.6]                20                        8.59e-01                 \n",
      "s(6)                              [0.6]                20                        1.71e-01                 \n",
      "s(7)                              [0.6]                20                        3.70e-02     *           \n",
      "s(8)                              [0.6]                20                        2.67e-01                 \n",
      "s(9)                              [0.6]                20                        1.12e-01                 \n",
      "s(10)                             [0.6]                20                        1.11e-16     ***         \n",
      "s(11)                             [0.6]                20                        1.11e-16     ***         \n",
      "s(12)                             [0.6]                20                        1.11e-16     ***         \n",
      "s(13)                             [0.6]                20                        3.45e-01                 \n",
      "s(14)                             [0.6]                20                        6.33e-02     .           \n",
      "s(15)                             [0.6]                20                        8.66e-02     .           \n",
      "s(16)                             [0.6]                20                        2.90e-02     *           \n",
      "s(17)                             [0.6]                20                        3.03e-01                 \n",
      "s(18)                             [0.6]                20                        3.72e-01                 \n",
      "s(19)                             [0.6]                20                        1.85e-01                 \n",
      "s(20)                             [0.6]                20                        5.09e-02     .           \n",
      "s(21)                             [0.6]                20                        5.98e-01                 \n",
      "s(22)                             [0.6]                20                        8.11e-02     .           \n",
      "s(23)                             [0.6]                20                        3.53e-01                 \n",
      "s(24)                             [0.6]                20                        1.35e-01                 \n",
      "s(25)                             [0.6]                20                        4.01e-01                 \n",
      "s(26)                             [0.6]                20                        6.55e-01                 \n",
      "s(27)                             [0.6]                20                        4.92e-01                 \n",
      "s(28)                             [0.6]                20                        2.80e-01                 \n",
      "s(29)                             [0.6]                20                        1.11e-16     ***         \n",
      "s(30)                             [0.6]                20                        1.11e-16     ***         \n",
      "s(31)                             [0.6]                20                        1.11e-16     ***         \n",
      "s(32)                             [0.6]                20                        1.11e-16     ***         \n",
      "s(33)                             [0.6]                20                        1.11e-16     ***         \n",
      "s(34)                             [0.6]                20                        1.11e-16     ***         \n",
      "s(35)                             [0.6]                20                        1.11e-16     ***         \n",
      "s(36)                             [0.6]                20                        1.11e-16     ***         \n",
      "s(37)                             [0.6]                20                        1.11e-16     ***         \n",
      "s(38)                             [0.6]                20                        1.11e-16     ***         \n",
      "s(39)                             [0.6]                20                        1.11e-16     ***         \n",
      "s(40)                             [0.6]                20                        1.11e-16     ***         \n",
      "s(41)                             [0.6]                20                        1.11e-16     ***         \n",
      "s(42)                             [0.6]                20                        1.11e-16     ***         \n",
      "s(43)                             [0.6]                20                        1.11e-16     ***         \n",
      "s(44)                             [0.6]                20                        1.11e-16     ***         \n",
      "s(45)                             [0.6]                20                        1.11e-16     ***         \n",
      "s(46)                             [0.6]                20                        1.11e-16     ***         \n",
      "s(47)                             [0.6]                20                        1.11e-16     ***         \n",
      "s(48)                             [0.6]                20                        1.11e-16     ***         \n",
      "s(49)                             [0.6]                20                        1.11e-16     ***         \n",
      "s(50)                             [0.6]                20                        1.11e-16     ***         \n",
      "s(51)                             [0.6]                20                        1.11e-16     ***         \n",
      "s(52)                             [0.6]                20                        1.11e-16     ***         \n",
      "s(53)                             [0.6]                20                        1.11e-16     ***         \n",
      "s(54)                             [0.6]                20                        1.11e-16     ***         \n",
      "s(55)                             [0.6]                20                        1.11e-16     ***         \n",
      "s(56)                             [0.6]                20                        1.11e-16     ***         \n",
      "s(57)                             [0.6]                20                        1.11e-16     ***         \n",
      "s(58)                             [0.6]                20                        1.11e-16     ***         \n",
      "s(59)                             [0.6]                20                        1.11e-16     ***         \n",
      "s(60)                             [0.6]                20                        1.11e-16     ***         \n",
      "s(61)                             [0.6]                20                        1.11e-16     ***         \n",
      "s(62)                             [0.6]                20                        1.11e-16     ***         \n",
      "s(63)                             [0.6]                20                        1.11e-16     ***         \n",
      "s(64)                             [0.6]                20                        1.11e-16     ***         \n",
      "s(65)                             [0.6]                20                        1.11e-16     ***         \n",
      "s(66)                             [0.6]                20                        1.11e-16     ***         \n",
      "s(67)                             [0.6]                20                        1.11e-16     ***         \n",
      "s(68)                             [0.6]                20                        1.11e-16     ***         \n",
      "s(69)                             [0.6]                20                        1.11e-16     ***         \n",
      "s(70)                             [0.6]                20                        1.11e-16     ***         \n",
      "s(71)                             [0.6]                20                        1.11e-16     ***         \n",
      "s(72)                             [0.6]                20                        1.11e-16     ***         \n",
      "s(73)                             [0.6]                20                        1.11e-16     ***         \n",
      "s(74)                             [0.6]                20                        1.11e-16     ***         \n",
      "s(75)                             [0.6]                20                        1.11e-16     ***         \n",
      "s(76)                             [0.6]                20                        1.11e-16     ***         \n",
      "s(77)                             [0.6]                20                        1.11e-16     ***         \n",
      "s(78)                             [0.6]                20                        1.11e-16     ***         \n",
      "s(79)                             [0.6]                20                        1.11e-16     ***         \n",
      "s(80)                             [0.6]                20                        1.11e-16     ***         \n",
      "s(81)                             [0.6]                20                        1.11e-16     ***         \n",
      "s(82)                             [0.6]                20                        1.11e-16     ***         \n",
      "s(83)                             [0.6]                20                        1.11e-16     ***         \n",
      "s(84)                             [0.6]                20                        1.11e-16     ***         \n",
      "s(85)                             [0.6]                20                        1.11e-16     ***         \n",
      "s(86)                             [0.6]                20                        1.11e-16     ***         \n",
      "s(87)                             [0.6]                20                        1.11e-16     ***         \n",
      "s(88)                             [0.6]                20                        1.11e-16     ***         \n",
      "s(89)                             [0.6]                20                        1.11e-16     ***         \n",
      "s(90)                             [0.6]                20                        1.11e-16     ***         \n",
      "s(91)                             [0.6]                20                        1.11e-16     ***         \n",
      "s(92)                             [0.6]                20                        1.11e-16     ***         \n",
      "s(93)                             [0.6]                20                        1.11e-16     ***         \n",
      "s(94)                             [0.6]                20                        1.11e-16     ***         \n",
      "s(95)                             [0.6]                20                        1.11e-16     ***         \n",
      "s(96)                             [0.6]                20                        3.86e-01                 \n",
      "s(97)                             [0.6]                20                        4.30e-01                 \n",
      "intercept                                              1                         4.69e-06     ***         \n",
      "==========================================================================================================\n",
      "Significance codes:  0 '***' 0.001 '**' 0.01 '*' 0.05 '.' 0.1 ' ' 1\n",
      "\n",
      "WARNING: Fitting splines and a linear function to a feature introduces a model identifiability problem\n",
      "         which can cause p-values to appear significant when they are not.\n",
      "\n",
      "WARNING: p-values calculated in this manner behave correctly for un-penalized models or models with\n",
      "         known smoothing parameters, but when smoothing parameters have been estimated, the p-values\n",
      "         are typically lower than they should be, meaning that the tests reject the null too readily.\n"
     ]
    },
    {
     "name": "stderr",
     "output_type": "stream",
     "text": [
      "/sctmp/yelhe/ipykernel_4188251/2924336984.py:1: UserWarning: KNOWN BUG: p-values computed in this summary are likely much smaller than they should be. \n",
      " \n",
      "Please do not make inferences based on these values! \n",
      "\n",
      "Collaborate on a solution, and stay up to date at: \n",
      "github.com/dswah/pyGAM/issues/163 \n",
      "\n",
      "  gam5.summary()\n"
     ]
    }
   ],
   "source": [
    "gam5.summary()"
   ]
  },
  {
   "cell_type": "code",
   "execution_count": 172,
   "id": "88bb52d8-973b-452c-bc05-acc00c6a77b3",
   "metadata": {
    "execution": {
     "iopub.execute_input": "2024-04-26T13:27:38.687555Z",
     "iopub.status.busy": "2024-04-26T13:27:38.687282Z",
     "iopub.status.idle": "2024-04-26T13:27:38.701542Z",
     "shell.execute_reply": "2024-04-26T13:27:38.700939Z",
     "shell.execute_reply.started": "2024-04-26T13:27:38.687533Z"
    },
    "scrolled": true
   },
   "outputs": [
    {
     "data": {
      "text/plain": [
       "{'n_samples': 295,\n",
       " 'm_features': 98,\n",
       " 'edof_per_coef': array([0.99549741, 0.50953153, 0.61150435, 0.55031447, 0.44797126,\n",
       "        0.35411097, 0.45362347, 0.44928155, 0.51090971, 0.55329826,\n",
       "        0.44678193, 0.42158071, 0.43834499, 0.39666791, 0.44064081,\n",
       "        0.38863148, 0.46086998, 0.96380308, 0.33366173, 0.37977304,\n",
       "        0.50415413, 0.48442697, 0.61137356, 0.64796018, 0.65417891,\n",
       "        0.70161761, 0.72972482, 0.73850194, 0.68283252, 0.73540747,\n",
       "        0.70510137, 0.7539453 , 0.73031977, 0.73213768, 0.73086819,\n",
       "        0.68666581, 0.54235408, 0.45176094, 0.45150703, 0.4219329 ,\n",
       "        0.43417556, 0.40427349, 0.50678766, 0.52401196, 0.52786159,\n",
       "        0.59968584, 0.64569349, 0.60504137, 0.63345018, 0.66667505,\n",
       "        0.63048235, 0.6691811 , 0.57670349, 0.47832733, 0.45782064,\n",
       "        0.46486726, 0.52646709, 0.37493441, 0.40844174, 0.38940821,\n",
       "        0.40607499, 0.44412588, 0.38551939, 0.49820396, 0.52901616,\n",
       "        0.51386124, 0.53082236, 0.5690693 , 0.54437554, 0.54155042,\n",
       "        0.57573319, 0.55612563, 0.64117954, 0.60846224, 0.54095419,\n",
       "        0.47463666, 0.40285285, 0.41116106, 0.38104078, 0.41006342,\n",
       "        0.47670028, 0.44390221, 0.55567958, 0.63873355, 0.62329725,\n",
       "        0.67421505, 0.65134805, 0.67287412, 0.646985  , 0.6830284 ,\n",
       "        0.6401665 , 0.61503661, 0.53934949, 0.49009393, 0.42339737,\n",
       "        0.40851552, 0.3673675 , 0.3393685 , 0.35525336, 0.33578742,\n",
       "        0.32051927, 0.35878054, 0.41303375, 0.46764238, 0.53942512,\n",
       "        0.5659953 , 0.52751369, 0.61209901, 0.54677947, 0.65855015,\n",
       "        0.63799922, 0.55766969, 0.53002299, 0.51625117, 0.50411553,\n",
       "        0.44179039, 0.39136582, 0.37058306, 0.31165083, 0.3927898 ,\n",
       "        0.34754739, 0.40334951, 0.41043036, 0.4225089 , 0.38148902,\n",
       "        0.55484631, 0.57665652, 0.53564375, 0.5341826 , 0.57672509,\n",
       "        0.48164064, 0.48822905, 0.48434251, 0.35893558, 0.3214892 ,\n",
       "        0.34581666, 0.32196551, 0.29264996, 0.41826859, 0.326402  ,\n",
       "        0.40715259, 0.35224704, 0.45085481, 0.49493337, 0.40330018,\n",
       "        0.46552856, 0.52016013, 0.51555012, 0.57757497, 0.56663051,\n",
       "        0.51228321, 0.57316253, 0.55419301, 0.47507442, 0.39581493,\n",
       "        0.40934842, 0.28534055, 0.40425243, 0.35803009, 0.32306242,\n",
       "        0.39894324, 0.30859567, 0.38578481, 0.37818489, 0.5059728 ,\n",
       "        0.40022287, 0.55771207, 0.52037756, 0.49817692, 0.50033445,\n",
       "        0.46158967, 0.39921926, 0.34670431, 0.3296627 , 0.32804104,\n",
       "        0.30232382, 0.28284161, 0.29029722, 0.36255774, 0.2889634 ,\n",
       "        0.31772813, 0.32180985, 0.35331019, 0.32372517, 0.38850116,\n",
       "        0.37022467, 0.4303474 , 0.45137759, 0.48927088, 0.46106347,\n",
       "        0.47018518, 0.4124178 , 0.43795192, 0.4473098 , 0.33292183,\n",
       "        0.37155682, 0.32966295, 0.3244026 , 0.34472517, 0.25234233,\n",
       "        0.38575469, 0.26790389, 0.26431191, 0.3020648 , 0.35133793,\n",
       "        0.29827259, 0.30716649, 0.30139707, 0.46360994, 0.25569683,\n",
       "        0.31850582, 0.28952118, 0.40431101, 0.33450055, 0.28065845,\n",
       "        0.32136121, 0.33425574, 0.27720479, 0.29625389, 0.31651663,\n",
       "        0.35431874, 0.28546147, 0.31497418, 0.27533456, 0.28906621,\n",
       "        0.30738383, 0.33243768, 0.29930358, 0.31213979, 0.21724793,\n",
       "        0.29149601, 0.28078635, 0.3063383 , 0.24086059, 0.21371911,\n",
       "        0.31815301, 0.28330387, 0.32701093, 0.31449089, 0.2675012 ,\n",
       "        0.33754451, 0.3684677 , 0.3447422 , 0.29702615, 0.28103344,\n",
       "        0.36618813, 0.27245867, 0.33277104, 0.31104849, 0.27576321,\n",
       "        0.36309148, 0.36380097, 0.31958138, 0.25307534, 0.33623199,\n",
       "        0.26199454, 0.24513945, 0.39774014, 0.35251785, 0.29472312,\n",
       "        0.23676458, 0.28660719, 0.34642387, 0.28553401, 0.32395416,\n",
       "        0.33746711, 0.37024677, 0.33391828, 0.28982932, 0.324894  ,\n",
       "        0.31919353, 0.32157139, 0.25664414, 0.32708962, 0.27025807,\n",
       "        0.28396033, 0.29829746, 0.29316611, 0.29711344, 0.2534573 ,\n",
       "        0.26343101, 0.2601678 , 0.25045464, 0.28856133, 0.3934112 ,\n",
       "        0.31831263, 0.27602999, 0.24583195, 0.21741487, 0.25738809,\n",
       "        0.26001   , 0.24535279, 0.26235879, 0.30492075, 0.29615116]),\n",
       " 'edof': 125.41638076301805,\n",
       " 'scale': 0.11329228236921135,\n",
       " 'cov': array([[ 8.23422802e-06,  3.86043215e-05,  7.52034764e-06, ...,\n",
       "         -1.79406428e-06,  1.19308057e-07, -9.08621927e-07],\n",
       "        [ 3.86043215e-05,  1.97459346e-04,  3.18958318e-05, ...,\n",
       "         -1.32329546e-05,  1.17004501e-06, -5.95670759e-06],\n",
       "        [ 7.52034764e-06,  3.18958318e-05,  7.60032981e-06, ...,\n",
       "         -7.22099095e-07, -4.96634176e-08, -5.35875938e-07],\n",
       "        ...,\n",
       "        [-1.79406428e-06, -1.32329546e-05, -7.22099095e-07, ...,\n",
       "          1.50455315e-04,  1.10669006e-06, -1.09900209e-06],\n",
       "        [ 1.19308057e-07,  1.17004501e-06, -4.96634176e-08, ...,\n",
       "          1.10669006e-06,  3.38113346e-06,  2.61465444e-08],\n",
       "        [-9.08621927e-07, -5.95670759e-06, -5.35875938e-07, ...,\n",
       "         -1.09900209e-06,  2.61465444e-08,  3.59495917e-06]]),\n",
       " 'se': array([0.00286953, 0.01405202, 0.00275687, ..., 0.01226602, 0.00183879,\n",
       "        0.00189604]),\n",
       " 'AIC': 1006.9820396965417,\n",
       " 'AICc': 1199.214643089664,\n",
       " 'pseudo_r2': OrderedDict([('explained_deviance', 0.5298081959218723),\n",
       "              ('McFadden', 0.3089752689766944),\n",
       "              ('McFadden_adj', 0.5882584456153497)]),\n",
       " 'GCV': 0.3974417090895202,\n",
       " 'UBRE': None,\n",
       " 'loglikelihood': -377.0746390852528,\n",
       " 'deviance': 169.58361923698195,\n",
       " 'p_values': [1.1102230246251565e-16,\n",
       "  0.08005123323932417,\n",
       "  0.5297181290845473,\n",
       "  0.39174303107553865,\n",
       "  0.3589469113995454,\n",
       "  0.8592138798949471,\n",
       "  0.17088845612225434,\n",
       "  0.03698355403591347,\n",
       "  0.2672307383163367,\n",
       "  0.11221499438362059,\n",
       "  1.1102230246251565e-16,\n",
       "  1.1102230246251565e-16,\n",
       "  1.1102230246251565e-16,\n",
       "  0.34465862678892967,\n",
       "  0.06331815124107443,\n",
       "  0.0865579961472448,\n",
       "  0.029017564143875463,\n",
       "  0.3032740321941283,\n",
       "  0.37183244273710714,\n",
       "  0.18478385251563023,\n",
       "  0.05085300109036894,\n",
       "  0.5981904718342548,\n",
       "  0.08113038445160214,\n",
       "  0.35273143867569234,\n",
       "  0.13544459437026402,\n",
       "  0.4012021973604618,\n",
       "  0.6549564900550047,\n",
       "  0.4920273075516022,\n",
       "  0.27995809951860395,\n",
       "  1.1102230246251565e-16,\n",
       "  1.1102230246251565e-16,\n",
       "  1.1102230246251565e-16,\n",
       "  1.1102230246251565e-16,\n",
       "  1.1102230246251565e-16,\n",
       "  1.1102230246251565e-16,\n",
       "  1.1102230246251565e-16,\n",
       "  1.1102230246251565e-16,\n",
       "  1.1102230246251565e-16,\n",
       "  1.1102230246251565e-16,\n",
       "  1.1102230246251565e-16,\n",
       "  1.1102230246251565e-16,\n",
       "  1.1102230246251565e-16,\n",
       "  1.1102230246251565e-16,\n",
       "  1.1102230246251565e-16,\n",
       "  1.1102230246251565e-16,\n",
       "  1.1102230246251565e-16,\n",
       "  1.1102230246251565e-16,\n",
       "  1.1102230246251565e-16,\n",
       "  1.1102230246251565e-16,\n",
       "  1.1102230246251565e-16,\n",
       "  1.1102230246251565e-16,\n",
       "  1.1102230246251565e-16,\n",
       "  1.1102230246251565e-16,\n",
       "  1.1102230246251565e-16,\n",
       "  1.1102230246251565e-16,\n",
       "  1.1102230246251565e-16,\n",
       "  1.1102230246251565e-16,\n",
       "  1.1102230246251565e-16,\n",
       "  1.1102230246251565e-16,\n",
       "  1.1102230246251565e-16,\n",
       "  1.1102230246251565e-16,\n",
       "  1.1102230246251565e-16,\n",
       "  1.1102230246251565e-16,\n",
       "  1.1102230246251565e-16,\n",
       "  1.1102230246251565e-16,\n",
       "  1.1102230246251565e-16,\n",
       "  1.1102230246251565e-16,\n",
       "  1.1102230246251565e-16,\n",
       "  1.1102230246251565e-16,\n",
       "  1.1102230246251565e-16,\n",
       "  1.1102230246251565e-16,\n",
       "  1.1102230246251565e-16,\n",
       "  1.1102230246251565e-16,\n",
       "  1.1102230246251565e-16,\n",
       "  1.1102230246251565e-16,\n",
       "  1.1102230246251565e-16,\n",
       "  1.1102230246251565e-16,\n",
       "  1.1102230246251565e-16,\n",
       "  1.1102230246251565e-16,\n",
       "  1.1102230246251565e-16,\n",
       "  1.1102230246251565e-16,\n",
       "  1.1102230246251565e-16,\n",
       "  1.1102230246251565e-16,\n",
       "  1.1102230246251565e-16,\n",
       "  1.1102230246251565e-16,\n",
       "  1.1102230246251565e-16,\n",
       "  1.1102230246251565e-16,\n",
       "  1.1102230246251565e-16,\n",
       "  1.1102230246251565e-16,\n",
       "  1.1102230246251565e-16,\n",
       "  1.1102230246251565e-16,\n",
       "  1.1102230246251565e-16,\n",
       "  1.1102230246251565e-16,\n",
       "  1.1102230246251565e-16,\n",
       "  1.1102230246251565e-16,\n",
       "  1.1102230246251565e-16,\n",
       "  0.3859719074433521,\n",
       "  0.43026977016648504,\n",
       "  4.688502594829558e-06]}"
      ]
     },
     "execution_count": 172,
     "metadata": {},
     "output_type": "execute_result"
    }
   ],
   "source": [
    "gam5.statistics_"
   ]
  },
  {
   "cell_type": "code",
   "execution_count": 219,
   "id": "7b360dda-940b-42e7-b2f5-fc2d79d90f03",
   "metadata": {
    "execution": {
     "iopub.execute_input": "2024-04-26T14:31:58.028218Z",
     "iopub.status.busy": "2024-04-26T14:31:58.027851Z",
     "iopub.status.idle": "2024-04-26T14:31:58.032017Z",
     "shell.execute_reply": "2024-04-26T14:31:58.031361Z",
     "shell.execute_reply.started": "2024-04-26T14:31:58.028197Z"
    }
   },
   "outputs": [],
   "source": [
    "df1['sv_pv'] = gam5.statistics_['p_values']"
   ]
  },
  {
   "cell_type": "code",
   "execution_count": 173,
   "id": "08763ff1-3983-43c2-a0bf-41399cb6796b",
   "metadata": {
    "execution": {
     "iopub.execute_input": "2024-04-26T13:27:38.703238Z",
     "iopub.status.busy": "2024-04-26T13:27:38.702948Z",
     "iopub.status.idle": "2024-04-26T13:27:38.842884Z",
     "shell.execute_reply": "2024-04-26T13:27:38.842239Z",
     "shell.execute_reply.started": "2024-04-26T13:27:38.703214Z"
    }
   },
   "outputs": [],
   "source": [
    "gam_sv = gam5.predict(xrp)"
   ]
  },
  {
   "cell_type": "code",
   "execution_count": 174,
   "id": "f0133828-93a3-4d66-9836-e6a8662185a2",
   "metadata": {
    "execution": {
     "iopub.execute_input": "2024-04-26T13:27:39.576578Z",
     "iopub.status.busy": "2024-04-26T13:27:39.576218Z",
     "iopub.status.idle": "2024-04-26T13:27:39.784982Z",
     "shell.execute_reply": "2024-04-26T13:27:39.784220Z",
     "shell.execute_reply.started": "2024-04-26T13:27:39.576556Z"
    }
   },
   "outputs": [
    {
     "data": {
      "text/plain": [
       "(array([  9.,  42.,  72., 149., 206., 146.,  98.,  40.,  24.,   6.]),\n",
       " array([-0.33064912, -0.22478635, -0.11892358, -0.01306081,  0.09280196,\n",
       "         0.19866473,  0.3045275 ,  0.41039027,  0.51625304,  0.62211581,\n",
       "         0.72797858]),\n",
       " <BarContainer object of 10 artists>)"
      ]
     },
     "execution_count": 174,
     "metadata": {},
     "output_type": "execute_result"
    },
    {
     "data": {
      "image/png": "[encoded data removed]",
      "text/plain": [
       "<Figure size 640x480 with 1 Axes>"
      ]
     },
     "metadata": {},
     "output_type": "display_data"
    }
   ],
   "source": [
    "plt.hist(gam_sv)"
   ]
  },
  {
   "cell_type": "code",
   "execution_count": 175,
   "id": "ee82cb23-eb24-4427-8b89-8fe550353274",
   "metadata": {
    "execution": {
     "iopub.execute_input": "2024-04-26T13:27:45.430792Z",
     "iopub.status.busy": "2024-04-26T13:27:45.430435Z",
     "iopub.status.idle": "2024-04-26T13:27:56.080287Z",
     "shell.execute_reply": "2024-04-26T13:27:56.079159Z",
     "shell.execute_reply.started": "2024-04-26T13:27:45.430768Z"
    }
   },
   "outputs": [],
   "source": [
    "y6 = acv['LV']\n",
    "x = acv[cn]\n",
    "gam6 = pygam.LinearGAM().fit(x, y6)"
   ]
  },
  {
   "cell_type": "code",
   "execution_count": 176,
   "id": "29d45c17-4e82-4f4c-aaac-bb77c248b80e",
   "metadata": {
    "execution": {
     "iopub.execute_input": "2024-04-26T13:27:56.082729Z",
     "iopub.status.busy": "2024-04-26T13:27:56.082263Z",
     "iopub.status.idle": "2024-04-26T13:27:56.095833Z",
     "shell.execute_reply": "2024-04-26T13:27:56.095160Z",
     "shell.execute_reply.started": "2024-04-26T13:27:56.082704Z"
    },
    "scrolled": true
   },
   "outputs": [
    {
     "name": "stdout",
     "output_type": "stream",
     "text": [
      "LinearGAM                                                                                                 \n",
      "=============================================== ==========================================================\n",
      "Distribution:                        NormalDist Effective DoF:                                    125.4164\n",
      "Link Function:                     IdentityLink Log Likelihood:                                  -202.0216\n",
      "Number of Samples:                          295 AIC:                                              656.8759\n",
      "                                                AICc:                                             849.1085\n",
      "                                                GCV:                                                0.8636\n",
      "                                                Scale:                                              0.2462\n",
      "                                                Pseudo R-Squared:                                   0.5102\n",
      "==========================================================================================================\n",
      "Feature Function                  Lambda               Rank         EDoF         P > x        Sig. Code   \n",
      "================================= ==================== ============ ============ ============ ============\n",
      "s(0)                              [0.6]                20                        1.11e-16     ***         \n",
      "s(1)                              [0.6]                20                        1.71e-02     *           \n",
      "s(2)                              [0.6]                20                        4.72e-02     *           \n",
      "s(3)                              [0.6]                20                        4.44e-01                 \n",
      "s(4)                              [0.6]                20                        2.84e-01                 \n",
      "s(5)                              [0.6]                20                        7.72e-01                 \n",
      "s(6)                              [0.6]                20                        1.30e-02     *           \n",
      "s(7)                              [0.6]                20                        1.76e-01                 \n",
      "s(8)                              [0.6]                20                        6.44e-02     .           \n",
      "s(9)                              [0.6]                20                        6.92e-01                 \n",
      "s(10)                             [0.6]                20                        1.11e-16     ***         \n",
      "s(11)                             [0.6]                20                        1.11e-16     ***         \n",
      "s(12)                             [0.6]                20                        1.11e-16     ***         \n",
      "s(13)                             [0.6]                20                        5.43e-02     .           \n",
      "s(14)                             [0.6]                20                        5.79e-01                 \n",
      "s(15)                             [0.6]                20                        4.58e-01                 \n",
      "s(16)                             [0.6]                20                        4.33e-01                 \n",
      "s(17)                             [0.6]                20                        6.90e-01                 \n",
      "s(18)                             [0.6]                20                        8.61e-01                 \n",
      "s(19)                             [0.6]                20                        1.75e-01                 \n",
      "s(20)                             [0.6]                20                        1.65e-02     *           \n",
      "s(21)                             [0.6]                20                        2.06e-02     *           \n",
      "s(22)                             [0.6]                20                        1.26e-01                 \n",
      "s(23)                             [0.6]                20                        4.50e-01                 \n",
      "s(24)                             [0.6]                20                        6.80e-03     **          \n",
      "s(25)                             [0.6]                20                        4.72e-01                 \n",
      "s(26)                             [0.6]                20                        5.71e-01                 \n",
      "s(27)                             [0.6]                20                        3.66e-01                 \n",
      "s(28)                             [0.6]                20                        8.05e-02     .           \n",
      "s(29)                             [0.6]                20                        1.11e-16     ***         \n",
      "s(30)                             [0.6]                20                        1.11e-16     ***         \n",
      "s(31)                             [0.6]                20                        1.11e-16     ***         \n",
      "s(32)                             [0.6]                20                        1.11e-16     ***         \n",
      "s(33)                             [0.6]                20                        1.11e-16     ***         \n",
      "s(34)                             [0.6]                20                        1.11e-16     ***         \n",
      "s(35)                             [0.6]                20                        1.11e-16     ***         \n",
      "s(36)                             [0.6]                20                        1.11e-16     ***         \n",
      "s(37)                             [0.6]                20                        1.11e-16     ***         \n",
      "s(38)                             [0.6]                20                        1.11e-16     ***         \n",
      "s(39)                             [0.6]                20                        1.11e-16     ***         \n",
      "s(40)                             [0.6]                20                        1.11e-16     ***         \n",
      "s(41)                             [0.6]                20                        1.11e-16     ***         \n",
      "s(42)                             [0.6]                20                        1.11e-16     ***         \n",
      "s(43)                             [0.6]                20                        1.11e-16     ***         \n",
      "s(44)                             [0.6]                20                        1.11e-16     ***         \n",
      "s(45)                             [0.6]                20                        1.11e-16     ***         \n",
      "s(46)                             [0.6]                20                        1.11e-16     ***         \n",
      "s(47)                             [0.6]                20                        1.11e-16     ***         \n",
      "s(48)                             [0.6]                20                        1.11e-16     ***         \n",
      "s(49)                             [0.6]                20                        1.11e-16     ***         \n",
      "s(50)                             [0.6]                20                        1.11e-16     ***         \n",
      "s(51)                             [0.6]                20                        1.11e-16     ***         \n",
      "s(52)                             [0.6]                20                        1.11e-16     ***         \n",
      "s(53)                             [0.6]                20                        1.11e-16     ***         \n",
      "s(54)                             [0.6]                20                        1.11e-16     ***         \n",
      "s(55)                             [0.6]                20                        1.11e-16     ***         \n",
      "s(56)                             [0.6]                20                        1.11e-16     ***         \n",
      "s(57)                             [0.6]                20                        1.11e-16     ***         \n",
      "s(58)                             [0.6]                20                        1.11e-16     ***         \n",
      "s(59)                             [0.6]                20                        1.11e-16     ***         \n",
      "s(60)                             [0.6]                20                        1.11e-16     ***         \n",
      "s(61)                             [0.6]                20                        1.11e-16     ***         \n",
      "s(62)                             [0.6]                20                        1.11e-16     ***         \n",
      "s(63)                             [0.6]                20                        1.11e-16     ***         \n",
      "s(64)                             [0.6]                20                        1.11e-16     ***         \n",
      "s(65)                             [0.6]                20                        1.11e-16     ***         \n",
      "s(66)                             [0.6]                20                        1.11e-16     ***         \n",
      "s(67)                             [0.6]                20                        1.11e-16     ***         \n",
      "s(68)                             [0.6]                20                        1.11e-16     ***         \n",
      "s(69)                             [0.6]                20                        1.11e-16     ***         \n",
      "s(70)                             [0.6]                20                        1.11e-16     ***         \n",
      "s(71)                             [0.6]                20                        1.11e-16     ***         \n",
      "s(72)                             [0.6]                20                        1.11e-16     ***         \n",
      "s(73)                             [0.6]                20                        1.11e-16     ***         \n",
      "s(74)                             [0.6]                20                        1.11e-16     ***         \n",
      "s(75)                             [0.6]                20                        1.11e-16     ***         \n",
      "s(76)                             [0.6]                20                        1.11e-16     ***         \n",
      "s(77)                             [0.6]                20                        1.11e-16     ***         \n",
      "s(78)                             [0.6]                20                        1.11e-16     ***         \n",
      "s(79)                             [0.6]                20                        1.11e-16     ***         \n",
      "s(80)                             [0.6]                20                        1.11e-16     ***         \n",
      "s(81)                             [0.6]                20                        1.11e-16     ***         \n",
      "s(82)                             [0.6]                20                        1.11e-16     ***         \n",
      "s(83)                             [0.6]                20                        1.11e-16     ***         \n",
      "s(84)                             [0.6]                20                        1.11e-16     ***         \n",
      "s(85)                             [0.6]                20                        1.11e-16     ***         \n",
      "s(86)                             [0.6]                20                        1.11e-16     ***         \n",
      "s(87)                             [0.6]                20                        1.11e-16     ***         \n",
      "s(88)                             [0.6]                20                        1.11e-16     ***         \n",
      "s(89)                             [0.6]                20                        1.11e-16     ***         \n",
      "s(90)                             [0.6]                20                        1.11e-16     ***         \n",
      "s(91)                             [0.6]                20                        1.11e-16     ***         \n",
      "s(92)                             [0.6]                20                        1.11e-16     ***         \n",
      "s(93)                             [0.6]                20                        1.11e-16     ***         \n",
      "s(94)                             [0.6]                20                        1.11e-16     ***         \n",
      "s(95)                             [0.6]                20                        1.11e-16     ***         \n",
      "s(96)                             [0.6]                20                        4.83e-01                 \n",
      "s(97)                             [0.6]                20                        9.60e-01                 \n",
      "intercept                                              1                         3.31e-14     ***         \n",
      "==========================================================================================================\n",
      "Significance codes:  0 '***' 0.001 '**' 0.01 '*' 0.05 '.' 0.1 ' ' 1\n",
      "\n",
      "WARNING: Fitting splines and a linear function to a feature introduces a model identifiability problem\n",
      "         which can cause p-values to appear significant when they are not.\n",
      "\n",
      "WARNING: p-values calculated in this manner behave correctly for un-penalized models or models with\n",
      "         known smoothing parameters, but when smoothing parameters have been estimated, the p-values\n",
      "         are typically lower than they should be, meaning that the tests reject the null too readily.\n"
     ]
    },
    {
     "name": "stderr",
     "output_type": "stream",
     "text": [
      "/sctmp/yelhe/ipykernel_4188251/2608025491.py:1: UserWarning: KNOWN BUG: p-values computed in this summary are likely much smaller than they should be. \n",
      " \n",
      "Please do not make inferences based on these values! \n",
      "\n",
      "Collaborate on a solution, and stay up to date at: \n",
      "github.com/dswah/pyGAM/issues/163 \n",
      "\n",
      "  gam6.summary()\n"
     ]
    }
   ],
   "source": [
    "gam6.summary()"
   ]
  },
  {
   "cell_type": "code",
   "execution_count": 177,
   "id": "8a934912-9efc-43e8-b63b-5078f14a7eda",
   "metadata": {
    "execution": {
     "iopub.execute_input": "2024-04-26T13:27:56.096835Z",
     "iopub.status.busy": "2024-04-26T13:27:56.096559Z",
     "iopub.status.idle": "2024-04-26T13:27:56.109275Z",
     "shell.execute_reply": "2024-04-26T13:27:56.108654Z",
     "shell.execute_reply.started": "2024-04-26T13:27:56.096813Z"
    },
    "scrolled": true
   },
   "outputs": [
    {
     "data": {
      "text/plain": [
       "{'n_samples': 295,\n",
       " 'm_features': 98,\n",
       " 'edof_per_coef': array([0.99549741, 0.50953153, 0.61150435, 0.55031447, 0.44797126,\n",
       "        0.35411097, 0.45362347, 0.44928155, 0.51090971, 0.55329826,\n",
       "        0.44678193, 0.42158071, 0.43834499, 0.39666791, 0.44064081,\n",
       "        0.38863148, 0.46086998, 0.96380308, 0.33366173, 0.37977304,\n",
       "        0.50415413, 0.48442697, 0.61137356, 0.64796018, 0.65417891,\n",
       "        0.70161761, 0.72972482, 0.73850194, 0.68283252, 0.73540747,\n",
       "        0.70510137, 0.7539453 , 0.73031977, 0.73213768, 0.73086819,\n",
       "        0.68666581, 0.54235408, 0.45176094, 0.45150703, 0.4219329 ,\n",
       "        0.43417556, 0.40427349, 0.50678766, 0.52401196, 0.52786159,\n",
       "        0.59968584, 0.64569349, 0.60504137, 0.63345018, 0.66667505,\n",
       "        0.63048235, 0.6691811 , 0.57670349, 0.47832733, 0.45782064,\n",
       "        0.46486726, 0.52646709, 0.37493441, 0.40844174, 0.38940821,\n",
       "        0.40607499, 0.44412588, 0.38551939, 0.49820396, 0.52901616,\n",
       "        0.51386124, 0.53082236, 0.5690693 , 0.54437554, 0.54155042,\n",
       "        0.57573319, 0.55612563, 0.64117954, 0.60846224, 0.54095419,\n",
       "        0.47463666, 0.40285285, 0.41116106, 0.38104078, 0.41006342,\n",
       "        0.47670028, 0.44390221, 0.55567958, 0.63873355, 0.62329725,\n",
       "        0.67421505, 0.65134805, 0.67287412, 0.646985  , 0.6830284 ,\n",
       "        0.6401665 , 0.61503661, 0.53934949, 0.49009393, 0.42339737,\n",
       "        0.40851552, 0.3673675 , 0.3393685 , 0.35525336, 0.33578742,\n",
       "        0.32051927, 0.35878054, 0.41303375, 0.46764238, 0.53942512,\n",
       "        0.5659953 , 0.52751369, 0.61209901, 0.54677947, 0.65855015,\n",
       "        0.63799922, 0.55766969, 0.53002299, 0.51625117, 0.50411553,\n",
       "        0.44179039, 0.39136582, 0.37058306, 0.31165083, 0.3927898 ,\n",
       "        0.34754739, 0.40334951, 0.41043036, 0.4225089 , 0.38148902,\n",
       "        0.55484631, 0.57665652, 0.53564375, 0.5341826 , 0.57672509,\n",
       "        0.48164064, 0.48822905, 0.48434251, 0.35893558, 0.3214892 ,\n",
       "        0.34581666, 0.32196551, 0.29264996, 0.41826859, 0.326402  ,\n",
       "        0.40715259, 0.35224704, 0.45085481, 0.49493337, 0.40330018,\n",
       "        0.46552856, 0.52016013, 0.51555012, 0.57757497, 0.56663051,\n",
       "        0.51228321, 0.57316253, 0.55419301, 0.47507442, 0.39581493,\n",
       "        0.40934842, 0.28534055, 0.40425243, 0.35803009, 0.32306242,\n",
       "        0.39894324, 0.30859567, 0.38578481, 0.37818489, 0.5059728 ,\n",
       "        0.40022287, 0.55771207, 0.52037756, 0.49817692, 0.50033445,\n",
       "        0.46158967, 0.39921926, 0.34670431, 0.3296627 , 0.32804104,\n",
       "        0.30232382, 0.28284161, 0.29029722, 0.36255774, 0.2889634 ,\n",
       "        0.31772813, 0.32180985, 0.35331019, 0.32372517, 0.38850116,\n",
       "        0.37022467, 0.4303474 , 0.45137759, 0.48927088, 0.46106347,\n",
       "        0.47018518, 0.4124178 , 0.43795192, 0.4473098 , 0.33292183,\n",
       "        0.37155682, 0.32966295, 0.3244026 , 0.34472517, 0.25234233,\n",
       "        0.38575469, 0.26790389, 0.26431191, 0.3020648 , 0.35133793,\n",
       "        0.29827259, 0.30716649, 0.30139707, 0.46360994, 0.25569683,\n",
       "        0.31850582, 0.28952118, 0.40431101, 0.33450055, 0.28065845,\n",
       "        0.32136121, 0.33425574, 0.27720479, 0.29625389, 0.31651663,\n",
       "        0.35431874, 0.28546147, 0.31497418, 0.27533456, 0.28906621,\n",
       "        0.30738383, 0.33243768, 0.29930358, 0.31213979, 0.21724793,\n",
       "        0.29149601, 0.28078635, 0.3063383 , 0.24086059, 0.21371911,\n",
       "        0.31815301, 0.28330387, 0.32701093, 0.31449089, 0.2675012 ,\n",
       "        0.33754451, 0.3684677 , 0.3447422 , 0.29702615, 0.28103344,\n",
       "        0.36618813, 0.27245867, 0.33277104, 0.31104849, 0.27576321,\n",
       "        0.36309148, 0.36380097, 0.31958138, 0.25307534, 0.33623199,\n",
       "        0.26199454, 0.24513945, 0.39774014, 0.35251785, 0.29472312,\n",
       "        0.23676458, 0.28660719, 0.34642387, 0.28553401, 0.32395416,\n",
       "        0.33746711, 0.37024677, 0.33391828, 0.28982932, 0.324894  ,\n",
       "        0.31919353, 0.32157139, 0.25664414, 0.32708962, 0.27025807,\n",
       "        0.28396033, 0.29829746, 0.29316611, 0.29711344, 0.2534573 ,\n",
       "        0.26343101, 0.2601678 , 0.25045464, 0.28856133, 0.3934112 ,\n",
       "        0.31831263, 0.27602999, 0.24583195, 0.21741487, 0.25738809,\n",
       "        0.26001   , 0.24535279, 0.26235879, 0.30492075, 0.29615116]),\n",
       " 'edof': 125.41638076301805,\n",
       " 'scale': 0.24616103149103905,\n",
       " 'cov': array([[ 1.78912987e-05,  8.38793200e-05,  1.63401822e-05, ...,\n",
       "         -3.89813591e-06,  2.59232083e-07, -1.97425020e-06],\n",
       "        [ 8.38793200e-05,  4.29038900e-04,  6.93031395e-05, ...,\n",
       "         -2.87525125e-05,  2.54226925e-06, -1.29427111e-05],\n",
       "        [ 1.63401822e-05,  6.93031395e-05,  1.65139671e-05, ...,\n",
       "         -1.56897411e-06, -1.07908481e-07, -1.16434916e-06],\n",
       "        ...,\n",
       "        [-3.89813591e-06, -2.87525125e-05, -1.56897411e-06, ...,\n",
       "          3.26908724e-04,  2.40461186e-06, -2.38790747e-06],\n",
       "        [ 2.59232083e-07,  2.54226925e-06, -1.07908481e-07, ...,\n",
       "          2.40461186e-06,  7.34651365e-06,  5.68111103e-08],\n",
       "        [-1.97425020e-06, -1.29427111e-05, -1.16434916e-06, ...,\n",
       "         -2.38790747e-06,  5.68111103e-08,  7.81111334e-06]]),\n",
       " 'se': array([0.00422981, 0.02071325, 0.00406374, ..., 0.01808062, 0.00271045,\n",
       "        0.00279484]),\n",
       " 'AIC': 656.8759185754575,\n",
       " 'AICc': 849.1085219685797,\n",
       " 'pseudo_r2': OrderedDict([('explained_deviance', 0.5102314986704211),\n",
       "              ('McFadden', 0.360193245654942),\n",
       "              ('McFadden_adj', 0.41619631839451443)]),\n",
       " 'GCV': 0.8635598032017898,\n",
       " 'UBRE': None,\n",
       " 'loglikelihood': -202.02157852471066,\n",
       " 'deviance': 169.58361923698195,\n",
       " 'p_values': [1.1102230246251565e-16,\n",
       "  0.017112055044210317,\n",
       "  0.04724459214916987,\n",
       "  0.4436997998256811,\n",
       "  0.2838773251904444,\n",
       "  0.7715915546778008,\n",
       "  0.013016537781796345,\n",
       "  0.17642367316603558,\n",
       "  0.06443637586297957,\n",
       "  0.6924328507124866,\n",
       "  1.1102230246251565e-16,\n",
       "  1.1102230246251565e-16,\n",
       "  1.1102230246251565e-16,\n",
       "  0.0543110493956247,\n",
       "  0.5792754324304457,\n",
       "  0.4576818119408037,\n",
       "  0.43295955430801736,\n",
       "  0.6903170005324508,\n",
       "  0.8608756713290671,\n",
       "  0.17517280769726817,\n",
       "  0.01652117115137519,\n",
       "  0.020637328654683262,\n",
       "  0.12648458153787923,\n",
       "  0.44955458419985006,\n",
       "  0.006802391805590724,\n",
       "  0.4724435623680556,\n",
       "  0.5713887033559106,\n",
       "  0.3655188411831586,\n",
       "  0.08046812864675723,\n",
       "  1.1102230246251565e-16,\n",
       "  1.1102230246251565e-16,\n",
       "  1.1102230246251565e-16,\n",
       "  1.1102230246251565e-16,\n",
       "  1.1102230246251565e-16,\n",
       "  1.1102230246251565e-16,\n",
       "  1.1102230246251565e-16,\n",
       "  1.1102230246251565e-16,\n",
       "  1.1102230246251565e-16,\n",
       "  1.1102230246251565e-16,\n",
       "  1.1102230246251565e-16,\n",
       "  1.1102230246251565e-16,\n",
       "  1.1102230246251565e-16,\n",
       "  1.1102230246251565e-16,\n",
       "  1.1102230246251565e-16,\n",
       "  1.1102230246251565e-16,\n",
       "  1.1102230246251565e-16,\n",
       "  1.1102230246251565e-16,\n",
       "  1.1102230246251565e-16,\n",
       "  1.1102230246251565e-16,\n",
       "  1.1102230246251565e-16,\n",
       "  1.1102230246251565e-16,\n",
       "  1.1102230246251565e-16,\n",
       "  1.1102230246251565e-16,\n",
       "  1.1102230246251565e-16,\n",
       "  1.1102230246251565e-16,\n",
       "  1.1102230246251565e-16,\n",
       "  1.1102230246251565e-16,\n",
       "  1.1102230246251565e-16,\n",
       "  1.1102230246251565e-16,\n",
       "  1.1102230246251565e-16,\n",
       "  1.1102230246251565e-16,\n",
       "  1.1102230246251565e-16,\n",
       "  1.1102230246251565e-16,\n",
       "  1.1102230246251565e-16,\n",
       "  1.1102230246251565e-16,\n",
       "  1.1102230246251565e-16,\n",
       "  1.1102230246251565e-16,\n",
       "  1.1102230246251565e-16,\n",
       "  1.1102230246251565e-16,\n",
       "  1.1102230246251565e-16,\n",
       "  1.1102230246251565e-16,\n",
       "  1.1102230246251565e-16,\n",
       "  1.1102230246251565e-16,\n",
       "  1.1102230246251565e-16,\n",
       "  1.1102230246251565e-16,\n",
       "  1.1102230246251565e-16,\n",
       "  1.1102230246251565e-16,\n",
       "  1.1102230246251565e-16,\n",
       "  1.1102230246251565e-16,\n",
       "  1.1102230246251565e-16,\n",
       "  1.1102230246251565e-16,\n",
       "  1.1102230246251565e-16,\n",
       "  1.1102230246251565e-16,\n",
       "  1.1102230246251565e-16,\n",
       "  1.1102230246251565e-16,\n",
       "  1.1102230246251565e-16,\n",
       "  1.1102230246251565e-16,\n",
       "  1.1102230246251565e-16,\n",
       "  1.1102230246251565e-16,\n",
       "  1.1102230246251565e-16,\n",
       "  1.1102230246251565e-16,\n",
       "  1.1102230246251565e-16,\n",
       "  1.1102230246251565e-16,\n",
       "  1.1102230246251565e-16,\n",
       "  1.1102230246251565e-16,\n",
       "  1.1102230246251565e-16,\n",
       "  0.4832138941072961,\n",
       "  0.9603224340002082,\n",
       "  3.3084646133829665e-14]}"
      ]
     },
     "execution_count": 177,
     "metadata": {},
     "output_type": "execute_result"
    }
   ],
   "source": [
    "gam6.statistics_"
   ]
  },
  {
   "cell_type": "code",
   "execution_count": 220,
   "id": "bb23170b-6293-4f3f-a55d-21cdeab4c9aa",
   "metadata": {
    "execution": {
     "iopub.execute_input": "2024-04-26T14:32:15.072997Z",
     "iopub.status.busy": "2024-04-26T14:32:15.072502Z",
     "iopub.status.idle": "2024-04-26T14:32:15.077959Z",
     "shell.execute_reply": "2024-04-26T14:32:15.076635Z",
     "shell.execute_reply.started": "2024-04-26T14:32:15.072974Z"
    }
   },
   "outputs": [],
   "source": [
    "df1['lv_pv'] = gam6.statistics_['p_values']"
   ]
  },
  {
   "cell_type": "code",
   "execution_count": 178,
   "id": "a0f6b252-6440-4388-8a99-48345ef52d33",
   "metadata": {
    "execution": {
     "iopub.execute_input": "2024-04-26T13:27:56.111251Z",
     "iopub.status.busy": "2024-04-26T13:27:56.110643Z",
     "iopub.status.idle": "2024-04-26T13:27:56.246595Z",
     "shell.execute_reply": "2024-04-26T13:27:56.245984Z",
     "shell.execute_reply.started": "2024-04-26T13:27:56.111229Z"
    }
   },
   "outputs": [],
   "source": [
    "gam_lv = gam6.predict(xrp)"
   ]
  },
  {
   "cell_type": "code",
   "execution_count": 179,
   "id": "c30e5e3f-4d58-4acd-91b6-e197a231e9cf",
   "metadata": {
    "execution": {
     "iopub.execute_input": "2024-04-26T13:27:56.247631Z",
     "iopub.status.busy": "2024-04-26T13:27:56.247421Z",
     "iopub.status.idle": "2024-04-26T13:27:56.453522Z",
     "shell.execute_reply": "2024-04-26T13:27:56.452914Z",
     "shell.execute_reply.started": "2024-04-26T13:27:56.247610Z"
    }
   },
   "outputs": [
    {
     "data": {
      "text/plain": [
       "(array([  1.,   6.,  27.,  56., 138., 179., 206., 118.,  56.,   5.]),\n",
       " array([-0.17956281, -0.02281402,  0.13393476,  0.29068354,  0.44743233,\n",
       "         0.60418111,  0.7609299 ,  0.91767868,  1.07442746,  1.23117625,\n",
       "         1.38792503]),\n",
       " <BarContainer object of 10 artists>)"
      ]
     },
     "execution_count": 179,
     "metadata": {},
     "output_type": "execute_result"
    },
    {
     "data": {
      "image/png": "[encoded data removed]",
      "text/plain": [
       "<Figure size 640x480 with 1 Axes>"
      ]
     },
     "metadata": {},
     "output_type": "display_data"
    }
   ],
   "source": [
    "plt.hist(gam_lv)"
   ]
  },
  {
   "cell_type": "code",
   "execution_count": 123,
   "id": "27b483b0-3743-4e86-a35e-e148d25d4e44",
   "metadata": {
    "execution": {
     "iopub.execute_input": "2024-04-26T13:04:21.605052Z",
     "iopub.status.busy": "2024-04-26T13:04:21.604474Z",
     "iopub.status.idle": "2024-04-26T13:04:31.269248Z",
     "shell.execute_reply": "2024-04-26T13:04:31.268582Z",
     "shell.execute_reply.started": "2024-04-26T13:04:21.605020Z"
    }
   },
   "outputs": [],
   "source": [
    "y7 = acv['pd']\n",
    "x = acv[cn]\n",
    "gam7 = pygam.LinearGAM().fit(x, y7)"
   ]
  },
  {
   "cell_type": "code",
   "execution_count": 124,
   "id": "21e7007e-b0e8-49e6-8e6a-d8e646d20421",
   "metadata": {
    "execution": {
     "iopub.execute_input": "2024-04-26T13:04:31.270397Z",
     "iopub.status.busy": "2024-04-26T13:04:31.270161Z",
     "iopub.status.idle": "2024-04-26T13:04:31.283427Z",
     "shell.execute_reply": "2024-04-26T13:04:31.282727Z",
     "shell.execute_reply.started": "2024-04-26T13:04:31.270378Z"
    },
    "scrolled": true
   },
   "outputs": [
    {
     "name": "stdout",
     "output_type": "stream",
     "text": [
      "LinearGAM                                                                                                 \n",
      "=============================================== ==========================================================\n",
      "Distribution:                        NormalDist Effective DoF:                                    125.4164\n",
      "Link Function:                     IdentityLink Log Likelihood:                                 -5019.5497\n",
      "Number of Samples:                          295 AIC:                                            10291.9322\n",
      "                                                AICc:                                           10484.1648\n",
      "                                                GCV:                                         34331076.4761\n",
      "                                                Scale:                                        9786204.9232\n",
      "                                                Pseudo R-Squared:                                   0.5211\n",
      "==========================================================================================================\n",
      "Feature Function                  Lambda               Rank         EDoF         P > x        Sig. Code   \n",
      "================================= ==================== ============ ============ ============ ============\n",
      "s(0)                              [0.6]                20                        1.11e-16     ***         \n",
      "s(1)                              [0.6]                20                        3.38e-01                 \n",
      "s(2)                              [0.6]                20                        1.76e-01                 \n",
      "s(3)                              [0.6]                20                        7.04e-01                 \n",
      "s(4)                              [0.6]                20                        4.41e-01                 \n",
      "s(5)                              [0.6]                20                        7.52e-01                 \n",
      "s(6)                              [0.6]                20                        8.03e-01                 \n",
      "s(7)                              [0.6]                20                        5.11e-01                 \n",
      "s(8)                              [0.6]                20                        8.00e-01                 \n",
      "s(9)                              [0.6]                20                        4.69e-01                 \n",
      "s(10)                             [0.6]                20                        1.11e-16     ***         \n",
      "s(11)                             [0.6]                20                        1.11e-16     ***         \n",
      "s(12)                             [0.6]                20                        1.11e-16     ***         \n",
      "s(13)                             [0.6]                20                        1.05e-01                 \n",
      "s(14)                             [0.6]                20                        6.11e-01                 \n",
      "s(15)                             [0.6]                20                        5.46e-01                 \n",
      "s(16)                             [0.6]                20                        7.05e-01                 \n",
      "s(17)                             [0.6]                20                        1.02e-01                 \n",
      "s(18)                             [0.6]                20                        4.38e-01                 \n",
      "s(19)                             [0.6]                20                        6.35e-01                 \n",
      "s(20)                             [0.6]                20                        6.20e-01                 \n",
      "s(21)                             [0.6]                20                        1.06e-01                 \n",
      "s(22)                             [0.6]                20                        3.79e-02     *           \n",
      "s(23)                             [0.6]                20                        7.24e-01                 \n",
      "s(24)                             [0.6]                20                        5.40e-01                 \n",
      "s(25)                             [0.6]                20                        7.67e-01                 \n",
      "s(26)                             [0.6]                20                        1.92e-01                 \n",
      "s(27)                             [0.6]                20                        1.17e-02     *           \n",
      "s(28)                             [0.6]                20                        2.32e-01                 \n",
      "s(29)                             [0.6]                20                        8.02e-10     ***         \n",
      "s(30)                             [0.6]                20                        1.11e-16     ***         \n",
      "s(31)                             [0.6]                20                        1.11e-16     ***         \n",
      "s(32)                             [0.6]                20                        1.11e-16     ***         \n",
      "s(33)                             [0.6]                20                        1.11e-16     ***         \n",
      "s(34)                             [0.6]                20                        1.11e-16     ***         \n",
      "s(35)                             [0.6]                20                        1.11e-16     ***         \n",
      "s(36)                             [0.6]                20                        1.11e-16     ***         \n",
      "s(37)                             [0.6]                20                        1.11e-16     ***         \n",
      "s(38)                             [0.6]                20                        1.11e-16     ***         \n",
      "s(39)                             [0.6]                20                        1.11e-16     ***         \n",
      "s(40)                             [0.6]                20                        1.11e-16     ***         \n",
      "s(41)                             [0.6]                20                        1.11e-16     ***         \n",
      "s(42)                             [0.6]                20                        1.11e-16     ***         \n",
      "s(43)                             [0.6]                20                        1.11e-16     ***         \n",
      "s(44)                             [0.6]                20                        1.11e-16     ***         \n",
      "s(45)                             [0.6]                20                        1.11e-16     ***         \n",
      "s(46)                             [0.6]                20                        1.11e-16     ***         \n",
      "s(47)                             [0.6]                20                        1.11e-16     ***         \n",
      "s(48)                             [0.6]                20                        1.11e-16     ***         \n",
      "s(49)                             [0.6]                20                        1.11e-16     ***         \n",
      "s(50)                             [0.6]                20                        1.11e-16     ***         \n",
      "s(51)                             [0.6]                20                        1.11e-16     ***         \n",
      "s(52)                             [0.6]                20                        1.11e-16     ***         \n",
      "s(53)                             [0.6]                20                        1.11e-16     ***         \n",
      "s(54)                             [0.6]                20                        1.11e-16     ***         \n",
      "s(55)                             [0.6]                20                        1.11e-16     ***         \n",
      "s(56)                             [0.6]                20                        1.11e-16     ***         \n",
      "s(57)                             [0.6]                20                        1.11e-16     ***         \n",
      "s(58)                             [0.6]                20                        1.11e-16     ***         \n",
      "s(59)                             [0.6]                20                        1.11e-16     ***         \n",
      "s(60)                             [0.6]                20                        1.11e-16     ***         \n",
      "s(61)                             [0.6]                20                        1.11e-16     ***         \n",
      "s(62)                             [0.6]                20                        1.11e-16     ***         \n",
      "s(63)                             [0.6]                20                        1.11e-16     ***         \n",
      "s(64)                             [0.6]                20                        1.11e-16     ***         \n",
      "s(65)                             [0.6]                20                        1.11e-16     ***         \n",
      "s(66)                             [0.6]                20                        1.11e-16     ***         \n",
      "s(67)                             [0.6]                20                        1.11e-16     ***         \n",
      "s(68)                             [0.6]                20                        1.11e-16     ***         \n",
      "s(69)                             [0.6]                20                        1.11e-16     ***         \n",
      "s(70)                             [0.6]                20                        1.11e-16     ***         \n",
      "s(71)                             [0.6]                20                        1.11e-16     ***         \n",
      "s(72)                             [0.6]                20                        1.11e-16     ***         \n",
      "s(73)                             [0.6]                20                        1.11e-16     ***         \n",
      "s(74)                             [0.6]                20                        1.11e-16     ***         \n",
      "s(75)                             [0.6]                20                        1.11e-16     ***         \n",
      "s(76)                             [0.6]                20                        1.11e-16     ***         \n",
      "s(77)                             [0.6]                20                        1.11e-16     ***         \n",
      "s(78)                             [0.6]                20                        1.11e-16     ***         \n",
      "s(79)                             [0.6]                20                        1.11e-16     ***         \n",
      "s(80)                             [0.6]                20                        1.11e-16     ***         \n",
      "s(81)                             [0.6]                20                        1.11e-16     ***         \n",
      "s(82)                             [0.6]                20                        1.11e-16     ***         \n",
      "s(83)                             [0.6]                20                        1.11e-16     ***         \n",
      "s(84)                             [0.6]                20                        1.11e-16     ***         \n",
      "s(85)                             [0.6]                20                        1.11e-16     ***         \n",
      "s(86)                             [0.6]                20                        1.11e-16     ***         \n",
      "s(87)                             [0.6]                20                        1.11e-16     ***         \n",
      "s(88)                             [0.6]                20                        1.11e-16     ***         \n",
      "s(89)                             [0.6]                20                        1.11e-16     ***         \n",
      "s(90)                             [0.6]                20                        1.11e-16     ***         \n",
      "s(91)                             [0.6]                20                        1.11e-16     ***         \n",
      "s(92)                             [0.6]                20                        1.11e-16     ***         \n",
      "s(93)                             [0.6]                20                        1.11e-16     ***         \n",
      "s(94)                             [0.6]                20                        1.11e-16     ***         \n",
      "s(95)                             [0.6]                20                        1.11e-16     ***         \n",
      "s(96)                             [0.6]                20                        8.43e-01                 \n",
      "s(97)                             [0.6]                20                        8.99e-02     .           \n",
      "intercept                                              1                         1.09e-01                 \n",
      "==========================================================================================================\n",
      "Significance codes:  0 '***' 0.001 '**' 0.01 '*' 0.05 '.' 0.1 ' ' 1\n",
      "\n",
      "WARNING: Fitting splines and a linear function to a feature introduces a model identifiability problem\n",
      "         which can cause p-values to appear significant when they are not.\n",
      "\n",
      "WARNING: p-values calculated in this manner behave correctly for un-penalized models or models with\n",
      "         known smoothing parameters, but when smoothing parameters have been estimated, the p-values\n",
      "         are typically lower than they should be, meaning that the tests reject the null too readily.\n"
     ]
    },
    {
     "name": "stderr",
     "output_type": "stream",
     "text": [
      "/sctmp/yelhe/ipykernel_4188251/710967099.py:1: UserWarning: KNOWN BUG: p-values computed in this summary are likely much smaller than they should be. \n",
      " \n",
      "Please do not make inferences based on these values! \n",
      "\n",
      "Collaborate on a solution, and stay up to date at: \n",
      "github.com/dswah/pyGAM/issues/163 \n",
      "\n",
      "  gam7.summary()\n"
     ]
    }
   ],
   "source": [
    "gam7.summary()"
   ]
  },
  {
   "cell_type": "code",
   "execution_count": 125,
   "id": "81a45bf3-f61c-463f-aebe-44667f257f8a",
   "metadata": {
    "execution": {
     "iopub.execute_input": "2024-04-26T13:04:31.284697Z",
     "iopub.status.busy": "2024-04-26T13:04:31.284502Z",
     "iopub.status.idle": "2024-04-26T13:04:31.297619Z",
     "shell.execute_reply": "2024-04-26T13:04:31.297022Z",
     "shell.execute_reply.started": "2024-04-26T13:04:31.284679Z"
    },
    "scrolled": true
   },
   "outputs": [
    {
     "data": {
      "text/plain": [
       "{'n_samples': 295,\n",
       " 'm_features': 98,\n",
       " 'edof_per_coef': array([0.99549741, 0.50953153, 0.61150435, 0.55031447, 0.44797126,\n",
       "        0.35411097, 0.45362347, 0.44928155, 0.51090971, 0.55329826,\n",
       "        0.44678193, 0.42158071, 0.43834499, 0.39666791, 0.44064081,\n",
       "        0.38863148, 0.46086998, 0.96380308, 0.33366173, 0.37977304,\n",
       "        0.50415413, 0.48442697, 0.61137356, 0.64796018, 0.65417891,\n",
       "        0.70161761, 0.72972482, 0.73850194, 0.68283252, 0.73540747,\n",
       "        0.70510137, 0.7539453 , 0.73031977, 0.73213768, 0.73086819,\n",
       "        0.68666581, 0.54235408, 0.45176094, 0.45150703, 0.4219329 ,\n",
       "        0.43417556, 0.40427349, 0.50678766, 0.52401196, 0.52786159,\n",
       "        0.59968584, 0.64569349, 0.60504137, 0.63345018, 0.66667505,\n",
       "        0.63048235, 0.6691811 , 0.57670349, 0.47832733, 0.45782064,\n",
       "        0.46486726, 0.52646709, 0.37493441, 0.40844174, 0.38940821,\n",
       "        0.40607499, 0.44412588, 0.38551939, 0.49820396, 0.52901616,\n",
       "        0.51386124, 0.53082236, 0.5690693 , 0.54437554, 0.54155042,\n",
       "        0.57573319, 0.55612563, 0.64117954, 0.60846224, 0.54095419,\n",
       "        0.47463666, 0.40285285, 0.41116106, 0.38104078, 0.41006342,\n",
       "        0.47670028, 0.44390221, 0.55567958, 0.63873355, 0.62329725,\n",
       "        0.67421505, 0.65134805, 0.67287412, 0.646985  , 0.6830284 ,\n",
       "        0.6401665 , 0.61503661, 0.53934949, 0.49009393, 0.42339737,\n",
       "        0.40851552, 0.3673675 , 0.3393685 , 0.35525336, 0.33578742,\n",
       "        0.32051927, 0.35878054, 0.41303375, 0.46764238, 0.53942512,\n",
       "        0.5659953 , 0.52751369, 0.61209901, 0.54677947, 0.65855015,\n",
       "        0.63799922, 0.55766969, 0.53002299, 0.51625117, 0.50411553,\n",
       "        0.44179039, 0.39136582, 0.37058306, 0.31165083, 0.3927898 ,\n",
       "        0.34754739, 0.40334951, 0.41043036, 0.4225089 , 0.38148902,\n",
       "        0.55484631, 0.57665652, 0.53564375, 0.5341826 , 0.57672509,\n",
       "        0.48164064, 0.48822905, 0.48434251, 0.35893558, 0.3214892 ,\n",
       "        0.34581666, 0.32196551, 0.29264996, 0.41826859, 0.326402  ,\n",
       "        0.40715259, 0.35224704, 0.45085481, 0.49493337, 0.40330018,\n",
       "        0.46552856, 0.52016013, 0.51555012, 0.57757497, 0.56663051,\n",
       "        0.51228321, 0.57316253, 0.55419301, 0.47507442, 0.39581493,\n",
       "        0.40934842, 0.28534055, 0.40425243, 0.35803009, 0.32306242,\n",
       "        0.39894324, 0.30859567, 0.38578481, 0.37818489, 0.5059728 ,\n",
       "        0.40022287, 0.55771207, 0.52037756, 0.49817692, 0.50033445,\n",
       "        0.46158967, 0.39921926, 0.34670431, 0.3296627 , 0.32804104,\n",
       "        0.30232382, 0.28284161, 0.29029722, 0.36255774, 0.2889634 ,\n",
       "        0.31772813, 0.32180985, 0.35331019, 0.32372517, 0.38850116,\n",
       "        0.37022467, 0.4303474 , 0.45137759, 0.48927088, 0.46106347,\n",
       "        0.47018518, 0.4124178 , 0.43795192, 0.4473098 , 0.33292183,\n",
       "        0.37155682, 0.32966295, 0.3244026 , 0.34472517, 0.25234233,\n",
       "        0.38575469, 0.26790389, 0.26431191, 0.3020648 , 0.35133793,\n",
       "        0.29827259, 0.30716649, 0.30139707, 0.46360994, 0.25569683,\n",
       "        0.31850582, 0.28952118, 0.40431101, 0.33450055, 0.28065845,\n",
       "        0.32136121, 0.33425574, 0.27720479, 0.29625389, 0.31651663,\n",
       "        0.35431874, 0.28546147, 0.31497418, 0.27533456, 0.28906621,\n",
       "        0.30738383, 0.33243768, 0.29930358, 0.31213979, 0.21724793,\n",
       "        0.29149601, 0.28078635, 0.3063383 , 0.24086059, 0.21371911,\n",
       "        0.31815301, 0.28330387, 0.32701093, 0.31449089, 0.2675012 ,\n",
       "        0.33754451, 0.3684677 , 0.3447422 , 0.29702615, 0.28103344,\n",
       "        0.36618813, 0.27245867, 0.33277104, 0.31104849, 0.27576321,\n",
       "        0.36309148, 0.36380097, 0.31958138, 0.25307534, 0.33623199,\n",
       "        0.26199454, 0.24513945, 0.39774014, 0.35251785, 0.29472312,\n",
       "        0.23676458, 0.28660719, 0.34642387, 0.28553401, 0.32395416,\n",
       "        0.33746711, 0.37024677, 0.33391828, 0.28982932, 0.324894  ,\n",
       "        0.31919353, 0.32157139, 0.25664414, 0.32708962, 0.27025807,\n",
       "        0.28396033, 0.29829746, 0.29316611, 0.29711344, 0.2534573 ,\n",
       "        0.26343101, 0.2601678 , 0.25045464, 0.28856133, 0.3934112 ,\n",
       "        0.31831263, 0.27602999, 0.24583195, 0.21741487, 0.25738809,\n",
       "        0.26001   , 0.24535279, 0.26235879, 0.30492075, 0.29615116]),\n",
       " 'edof': 125.41638076301805,\n",
       " 'scale': 9786204.923183983,\n",
       " 'cov': array([[ 7.11273894e+02,  3.33464728e+03,  6.49608796e+02, ...,\n",
       "         -1.54971551e+02,  1.03058485e+01, -7.84869030e+01],\n",
       "        [ 3.33464728e+03,  1.70565689e+04,  2.75516690e+03, ...,\n",
       "         -1.14306467e+03,  1.01068669e+02, -5.14541326e+02],\n",
       "        [ 6.49608796e+02,  2.75516690e+03,  6.56517667e+02, ...,\n",
       "         -6.23750319e+01, -4.28993371e+00, -4.62890466e+01],\n",
       "        ...,\n",
       "        [-1.54971551e+02, -1.14306467e+03, -6.23750319e+01, ...,\n",
       "          1.29963534e+04,  9.55960587e+01, -9.49319706e+01],\n",
       "        [ 1.03058485e+01,  1.01068669e+02, -4.28993371e+00, ...,\n",
       "          9.55960587e+01,  2.92062832e+02,  2.25854256e+00],\n",
       "        [-7.84869030e+01, -5.14541326e+02, -4.62890466e+01, ...,\n",
       "         -9.49319706e+01,  2.25854256e+00,  3.10533131e+02]]),\n",
       " 'se': array([ 26.66971866, 130.6007998 ,  25.62260072, ..., 114.00155006,\n",
       "         17.08984588,  17.62195026]),\n",
       " 'AIC': 10291.932245168593,\n",
       " 'AICc': 10484.164848561715,\n",
       " 'pseudo_r2': OrderedDict([('explained_deviance', 0.5210686719944123),\n",
       "              ('McFadden', 0.9999999981219958),\n",
       "              ('McFadden_adj', -0.02498558188512834)]),\n",
       " 'GCV': 34331076.47611067,\n",
       " 'UBRE': None,\n",
       " 'loglikelihood': -5019.549741821278,\n",
       " 'deviance': 169.58361923698195,\n",
       " 'p_values': [1.1102230246251565e-16,\n",
       "  0.3383702686777861,\n",
       "  0.17589142853755357,\n",
       "  0.7042933166964584,\n",
       "  0.4405586383605755,\n",
       "  0.7515104215403886,\n",
       "  0.8034578212909761,\n",
       "  0.5113290053339188,\n",
       "  0.7995225349260378,\n",
       "  0.46863345094903364,\n",
       "  1.1102230246251565e-16,\n",
       "  1.1102230246251565e-16,\n",
       "  1.1102230246251565e-16,\n",
       "  0.10497901877869409,\n",
       "  0.6111491201912274,\n",
       "  0.5457921551939321,\n",
       "  0.7048365661222844,\n",
       "  0.10217380491774386,\n",
       "  0.43833665349260775,\n",
       "  0.6350692612080515,\n",
       "  0.6203818841352539,\n",
       "  0.10603184658886411,\n",
       "  0.037897330450622824,\n",
       "  0.7241284441567624,\n",
       "  0.5400956789675284,\n",
       "  0.7666053999391402,\n",
       "  0.19208491321178367,\n",
       "  0.011691927519266399,\n",
       "  0.23155106828261962,\n",
       "  8.022575936905696e-10,\n",
       "  1.1102230246251565e-16,\n",
       "  1.1102230246251565e-16,\n",
       "  1.1102230246251565e-16,\n",
       "  1.1102230246251565e-16,\n",
       "  1.1102230246251565e-16,\n",
       "  1.1102230246251565e-16,\n",
       "  1.1102230246251565e-16,\n",
       "  1.1102230246251565e-16,\n",
       "  1.1102230246251565e-16,\n",
       "  1.1102230246251565e-16,\n",
       "  1.1102230246251565e-16,\n",
       "  1.1102230246251565e-16,\n",
       "  1.1102230246251565e-16,\n",
       "  1.1102230246251565e-16,\n",
       "  1.1102230246251565e-16,\n",
       "  1.1102230246251565e-16,\n",
       "  1.1102230246251565e-16,\n",
       "  1.1102230246251565e-16,\n",
       "  1.1102230246251565e-16,\n",
       "  1.1102230246251565e-16,\n",
       "  1.1102230246251565e-16,\n",
       "  1.1102230246251565e-16,\n",
       "  1.1102230246251565e-16,\n",
       "  1.1102230246251565e-16,\n",
       "  1.1102230246251565e-16,\n",
       "  1.1102230246251565e-16,\n",
       "  1.1102230246251565e-16,\n",
       "  1.1102230246251565e-16,\n",
       "  1.1102230246251565e-16,\n",
       "  1.1102230246251565e-16,\n",
       "  1.1102230246251565e-16,\n",
       "  1.1102230246251565e-16,\n",
       "  1.1102230246251565e-16,\n",
       "  1.1102230246251565e-16,\n",
       "  1.1102230246251565e-16,\n",
       "  1.1102230246251565e-16,\n",
       "  1.1102230246251565e-16,\n",
       "  1.1102230246251565e-16,\n",
       "  1.1102230246251565e-16,\n",
       "  1.1102230246251565e-16,\n",
       "  1.1102230246251565e-16,\n",
       "  1.1102230246251565e-16,\n",
       "  1.1102230246251565e-16,\n",
       "  1.1102230246251565e-16,\n",
       "  1.1102230246251565e-16,\n",
       "  1.1102230246251565e-16,\n",
       "  1.1102230246251565e-16,\n",
       "  1.1102230246251565e-16,\n",
       "  1.1102230246251565e-16,\n",
       "  1.1102230246251565e-16,\n",
       "  1.1102230246251565e-16,\n",
       "  1.1102230246251565e-16,\n",
       "  1.1102230246251565e-16,\n",
       "  1.1102230246251565e-16,\n",
       "  1.1102230246251565e-16,\n",
       "  1.1102230246251565e-16,\n",
       "  1.1102230246251565e-16,\n",
       "  1.1102230246251565e-16,\n",
       "  1.1102230246251565e-16,\n",
       "  1.1102230246251565e-16,\n",
       "  1.1102230246251565e-16,\n",
       "  1.1102230246251565e-16,\n",
       "  1.1102230246251565e-16,\n",
       "  1.1102230246251565e-16,\n",
       "  1.1102230246251565e-16,\n",
       "  1.1102230246251565e-16,\n",
       "  0.8425253424219836,\n",
       "  0.08985291644137339,\n",
       "  0.10861744258193395]}"
      ]
     },
     "execution_count": 125,
     "metadata": {},
     "output_type": "execute_result"
    }
   ],
   "source": [
    "gam7.statistics_"
   ]
  },
  {
   "cell_type": "code",
   "execution_count": 221,
   "id": "0b888a91-7b00-44d2-b863-43d21924b2ba",
   "metadata": {
    "execution": {
     "iopub.execute_input": "2024-04-26T14:32:37.382261Z",
     "iopub.status.busy": "2024-04-26T14:32:37.381603Z",
     "iopub.status.idle": "2024-04-26T14:32:37.390088Z",
     "shell.execute_reply": "2024-04-26T14:32:37.387533Z",
     "shell.execute_reply.started": "2024-04-26T14:32:37.382229Z"
    }
   },
   "outputs": [],
   "source": [
    "df1['pd_pv'] = gam7.statistics_['p_values']"
   ]
  },
  {
   "cell_type": "code",
   "execution_count": 126,
   "id": "06d77e9f-049c-4046-b6a1-79d8e5ad711a",
   "metadata": {
    "execution": {
     "iopub.execute_input": "2024-04-26T13:04:31.298897Z",
     "iopub.status.busy": "2024-04-26T13:04:31.298656Z",
     "iopub.status.idle": "2024-04-26T13:04:31.452821Z",
     "shell.execute_reply": "2024-04-26T13:04:31.452168Z",
     "shell.execute_reply.started": "2024-04-26T13:04:31.298873Z"
    }
   },
   "outputs": [],
   "source": [
    "gam_pd = gam7.predict(xrp)"
   ]
  },
  {
   "cell_type": "code",
   "execution_count": 127,
   "id": "e903f693-0d5d-4f52-8437-fc7fabf128d1",
   "metadata": {
    "execution": {
     "iopub.execute_input": "2024-04-26T13:04:31.453836Z",
     "iopub.status.busy": "2024-04-26T13:04:31.453606Z",
     "iopub.status.idle": "2024-04-26T13:04:31.658361Z",
     "shell.execute_reply": "2024-04-26T13:04:31.657797Z",
     "shell.execute_reply.started": "2024-04-26T13:04:31.453818Z"
    }
   },
   "outputs": [
    {
     "data": {
      "text/plain": [
       "(array([ 11.,  39., 126., 189., 201., 133.,  62.,  17.,  10.,   4.]),\n",
       " array([-2939.18285919, -1732.05027039,  -524.91768159,   682.21490721,\n",
       "         1889.34749601,  3096.48008481,  4303.61267361,  5510.74526241,\n",
       "         6717.87785121,  7925.01044001,  9132.14302881]),\n",
       " <BarContainer object of 10 artists>)"
      ]
     },
     "execution_count": 127,
     "metadata": {},
     "output_type": "execute_result"
    },
    {
     "data": {
      "image/png": "[encoded data removed]",
      "text/plain": [
       "<Figure size 640x480 with 1 Axes>"
      ]
     },
     "metadata": {},
     "output_type": "display_data"
    }
   ],
   "source": [
    "plt.hist(gam_pd)"
   ]
  },
  {
   "cell_type": "code",
   "execution_count": 129,
   "id": "40fa762d-cb79-4263-bb89-cf2666ff98b2",
   "metadata": {
    "execution": {
     "iopub.execute_input": "2024-04-26T13:06:42.049072Z",
     "iopub.status.busy": "2024-04-26T13:06:42.048427Z",
     "iopub.status.idle": "2024-04-26T13:06:42.061545Z",
     "shell.execute_reply": "2024-04-26T13:06:42.060756Z",
     "shell.execute_reply.started": "2024-04-26T13:06:42.049050Z"
    }
   },
   "outputs": [
    {
     "name": "stdout",
     "output_type": "stream",
     "text": [
      "<class 'pandas.core.frame.DataFrame'>\n",
      "RangeIndex: 792 entries, 0 to 791\n",
      "Columns: 111 entries, id to speedlimit_7\n",
      "dtypes: float64(35), int64(74), object(2)\n",
      "memory usage: 686.9+ KB\n"
     ]
    }
   ],
   "source": [
    "rpv.info()"
   ]
  },
  {
   "cell_type": "code",
   "execution_count": 133,
   "id": "f78773e8-e3f7-45a7-984b-1efcb2e5f724",
   "metadata": {
    "execution": {
     "iopub.execute_input": "2024-04-26T13:08:22.154266Z",
     "iopub.status.busy": "2024-04-26T13:08:22.153527Z",
     "iopub.status.idle": "2024-04-26T13:08:22.158465Z",
     "shell.execute_reply": "2024-04-26T13:08:22.157832Z",
     "shell.execute_reply.started": "2024-04-26T13:08:22.154241Z"
    }
   },
   "outputs": [],
   "source": [
    "gam_pm = rpv.copy(deep = True)"
   ]
  },
  {
   "cell_type": "code",
   "execution_count": 134,
   "id": "bc5a2398-1e63-444d-9c94-33f4353a3aae",
   "metadata": {
    "execution": {
     "iopub.execute_input": "2024-04-26T13:08:22.499045Z",
     "iopub.status.busy": "2024-04-26T13:08:22.498341Z",
     "iopub.status.idle": "2024-04-26T13:08:22.505061Z",
     "shell.execute_reply": "2024-04-26T13:08:22.504468Z",
     "shell.execute_reply.started": "2024-04-26T13:08:22.499022Z"
    }
   },
   "outputs": [],
   "source": [
    "gam_pm['gam_svp'] = gam_svp\n",
    "gam_pm['gam_lvp'] = gam_lvp\n",
    "gam_pm['gam_pdp'] = gam_pdp\n",
    "gam_pm['gam_inp'] = gam_inp\n",
    "gam_pm['gam_sv'] = gam_sv\n",
    "gam_pm['gam_lv'] = gam_lv\n",
    "gam_pm['gam_pd'] = gam_pd\n"
   ]
  },
  {
   "cell_type": "code",
   "execution_count": 143,
   "id": "85017126-2a3c-48d2-925c-500357628721",
   "metadata": {
    "execution": {
     "iopub.execute_input": "2024-04-26T13:10:35.604770Z",
     "iopub.status.busy": "2024-04-26T13:10:35.604240Z",
     "iopub.status.idle": "2024-04-26T13:10:35.608276Z",
     "shell.execute_reply": "2024-04-26T13:10:35.607630Z",
     "shell.execute_reply.started": "2024-04-26T13:10:35.604746Z"
    }
   },
   "outputs": [
    {
     "name": "stdout",
     "output_type": "stream",
     "text": [
      "Index(['id', 'droad_sl', 'd_bicyclecount', 'd_carcount', 'curbtype', 'z_qnr',\n",
      "       'z_knr', 'trafficarea', 'r_width', 'r_surface', 'speedlimit',\n",
      "       'z_qnr_34', 'speedlimit_7', 'gam_svp', 'gam_lvp', 'gam_pdp', 'gam_inp',\n",
      "       'gam_sv', 'gam_lv', 'gam_pd'],\n",
      "      dtype='object')\n"
     ]
    }
   ],
   "source": [
    "print(gam_pm.columns)"
   ]
  },
  {
   "cell_type": "code",
   "execution_count": 140,
   "id": "0bbdc263-eabf-4d6d-8ea1-c1ce9e6e1db7",
   "metadata": {
    "execution": {
     "iopub.execute_input": "2024-04-26T13:10:12.822542Z",
     "iopub.status.busy": "2024-04-26T13:10:12.821967Z",
     "iopub.status.idle": "2024-04-26T13:10:12.827562Z",
     "shell.execute_reply": "2024-04-26T13:10:12.826689Z",
     "shell.execute_reply.started": "2024-04-26T13:10:12.822521Z"
    }
   },
   "outputs": [],
   "source": [
    "gam_pm = gam_pm.drop(cn,axis = 1)"
   ]
  },
  {
   "cell_type": "code",
   "execution_count": 145,
   "id": "4987b3ef-c3de-410c-9f85-cb12d3cb3aaa",
   "metadata": {
    "execution": {
     "iopub.execute_input": "2024-04-26T13:11:00.355726Z",
     "iopub.status.busy": "2024-04-26T13:11:00.355090Z",
     "iopub.status.idle": "2024-04-26T13:11:00.359891Z",
     "shell.execute_reply": "2024-04-26T13:11:00.359138Z",
     "shell.execute_reply.started": "2024-04-26T13:11:00.355703Z"
    }
   },
   "outputs": [],
   "source": [
    "gam_pm = gam_pm.drop(['droad_sl', 'd_bicyclecount', 'd_carcount', 'curbtype', 'z_qnr',\n",
    "       'z_knr', 'trafficarea', 'r_width', 'r_surface', 'speedlimit',\n",
    "       'z_qnr_34', 'speedlimit_7'],axis = 1)"
   ]
  },
  {
   "cell_type": "code",
   "execution_count": 146,
   "id": "4f2d2f46-7a75-4baa-8fe0-9cb65b360897",
   "metadata": {
    "execution": {
     "iopub.execute_input": "2024-04-26T13:11:03.270522Z",
     "iopub.status.busy": "2024-04-26T13:11:03.269985Z",
     "iopub.status.idle": "2024-04-26T13:11:03.284746Z",
     "shell.execute_reply": "2024-04-26T13:11:03.284039Z",
     "shell.execute_reply.started": "2024-04-26T13:11:03.270502Z"
    }
   },
   "outputs": [
    {
     "data": {
      "text/html": [
       "<div>\n",
       "<style scoped>\n",
       "    .dataframe tbody tr th:only-of-type {\n",
       "        vertical-align: middle;\n",
       "    }\n",
       "\n",
       "    .dataframe tbody tr th {\n",
       "        vertical-align: top;\n",
       "    }\n",
       "\n",
       "    .dataframe thead th {\n",
       "        text-align: right;\n",
       "    }\n",
       "</style>\n",
       "<table border=\"1\" class=\"dataframe\">\n",
       "  <thead>\n",
       "    <tr style=\"text-align: right;\">\n",
       "      <th></th>\n",
       "      <th>id</th>\n",
       "      <th>gam_svp</th>\n",
       "      <th>gam_lvp</th>\n",
       "      <th>gam_pdp</th>\n",
       "      <th>gam_inp</th>\n",
       "      <th>gam_sv</th>\n",
       "      <th>gam_lv</th>\n",
       "      <th>gam_pd</th>\n",
       "    </tr>\n",
       "  </thead>\n",
       "  <tbody>\n",
       "    <tr>\n",
       "      <th>0</th>\n",
       "      <td>2</td>\n",
       "      <td>0.540881</td>\n",
       "      <td>0.474677</td>\n",
       "      <td>0.638950</td>\n",
       "      <td>0.942768</td>\n",
       "      <td>0.540881</td>\n",
       "      <td>0.455222</td>\n",
       "      <td>1463.787727</td>\n",
       "    </tr>\n",
       "    <tr>\n",
       "      <th>1</th>\n",
       "      <td>3</td>\n",
       "      <td>0.533967</td>\n",
       "      <td>0.248310</td>\n",
       "      <td>0.758159</td>\n",
       "      <td>0.696598</td>\n",
       "      <td>0.533967</td>\n",
       "      <td>0.186381</td>\n",
       "      <td>2862.632534</td>\n",
       "    </tr>\n",
       "    <tr>\n",
       "      <th>2</th>\n",
       "      <td>4</td>\n",
       "      <td>0.164547</td>\n",
       "      <td>0.496539</td>\n",
       "      <td>0.787128</td>\n",
       "      <td>0.660074</td>\n",
       "      <td>0.164547</td>\n",
       "      <td>0.627956</td>\n",
       "      <td>3833.614589</td>\n",
       "    </tr>\n",
       "    <tr>\n",
       "      <th>3</th>\n",
       "      <td>5</td>\n",
       "      <td>-0.134927</td>\n",
       "      <td>0.686266</td>\n",
       "      <td>1.067724</td>\n",
       "      <td>0.543762</td>\n",
       "      <td>-0.134927</td>\n",
       "      <td>0.935444</td>\n",
       "      <td>7506.480942</td>\n",
       "    </tr>\n",
       "    <tr>\n",
       "      <th>4</th>\n",
       "      <td>6</td>\n",
       "      <td>-0.004161</td>\n",
       "      <td>0.565394</td>\n",
       "      <td>0.568908</td>\n",
       "      <td>0.571763</td>\n",
       "      <td>-0.004161</td>\n",
       "      <td>0.740449</td>\n",
       "      <td>2909.974094</td>\n",
       "    </tr>\n",
       "    <tr>\n",
       "      <th>...</th>\n",
       "      <td>...</td>\n",
       "      <td>...</td>\n",
       "      <td>...</td>\n",
       "      <td>...</td>\n",
       "      <td>...</td>\n",
       "      <td>...</td>\n",
       "      <td>...</td>\n",
       "      <td>...</td>\n",
       "    </tr>\n",
       "    <tr>\n",
       "      <th>787</th>\n",
       "      <td>990</td>\n",
       "      <td>0.360266</td>\n",
       "      <td>0.759869</td>\n",
       "      <td>0.159742</td>\n",
       "      <td>1.095360</td>\n",
       "      <td>0.360266</td>\n",
       "      <td>0.717629</td>\n",
       "      <td>-1201.937955</td>\n",
       "    </tr>\n",
       "    <tr>\n",
       "      <th>788</th>\n",
       "      <td>991</td>\n",
       "      <td>0.354543</td>\n",
       "      <td>0.753896</td>\n",
       "      <td>0.402067</td>\n",
       "      <td>1.045267</td>\n",
       "      <td>0.354543</td>\n",
       "      <td>0.869812</td>\n",
       "      <td>2018.121258</td>\n",
       "    </tr>\n",
       "    <tr>\n",
       "      <th>789</th>\n",
       "      <td>992</td>\n",
       "      <td>0.077771</td>\n",
       "      <td>0.901510</td>\n",
       "      <td>0.137180</td>\n",
       "      <td>1.083337</td>\n",
       "      <td>0.077771</td>\n",
       "      <td>0.882601</td>\n",
       "      <td>1099.525701</td>\n",
       "    </tr>\n",
       "    <tr>\n",
       "      <th>790</th>\n",
       "      <td>993</td>\n",
       "      <td>0.134090</td>\n",
       "      <td>0.806257</td>\n",
       "      <td>0.205953</td>\n",
       "      <td>0.944846</td>\n",
       "      <td>0.134090</td>\n",
       "      <td>0.882591</td>\n",
       "      <td>-2374.647033</td>\n",
       "    </tr>\n",
       "    <tr>\n",
       "      <th>791</th>\n",
       "      <td>994</td>\n",
       "      <td>-0.167300</td>\n",
       "      <td>0.922581</td>\n",
       "      <td>0.114529</td>\n",
       "      <td>0.830676</td>\n",
       "      <td>-0.167300</td>\n",
       "      <td>1.108987</td>\n",
       "      <td>-879.804145</td>\n",
       "    </tr>\n",
       "  </tbody>\n",
       "</table>\n",
       "<p>792 rows × 8 columns</p>\n",
       "</div>"
      ],
      "text/plain": [
       "      id   gam_svp   gam_lvp   gam_pdp   gam_inp    gam_sv    gam_lv  \\\n",
       "0      2  0.540881  0.474677  0.638950  0.942768  0.540881  0.455222   \n",
       "1      3  0.533967  0.248310  0.758159  0.696598  0.533967  0.186381   \n",
       "2      4  0.164547  0.496539  0.787128  0.660074  0.164547  0.627956   \n",
       "3      5 -0.134927  0.686266  1.067724  0.543762 -0.134927  0.935444   \n",
       "4      6 -0.004161  0.565394  0.568908  0.571763 -0.004161  0.740449   \n",
       "..   ...       ...       ...       ...       ...       ...       ...   \n",
       "787  990  0.360266  0.759869  0.159742  1.095360  0.360266  0.717629   \n",
       "788  991  0.354543  0.753896  0.402067  1.045267  0.354543  0.869812   \n",
       "789  992  0.077771  0.901510  0.137180  1.083337  0.077771  0.882601   \n",
       "790  993  0.134090  0.806257  0.205953  0.944846  0.134090  0.882591   \n",
       "791  994 -0.167300  0.922581  0.114529  0.830676 -0.167300  1.108987   \n",
       "\n",
       "          gam_pd  \n",
       "0    1463.787727  \n",
       "1    2862.632534  \n",
       "2    3833.614589  \n",
       "3    7506.480942  \n",
       "4    2909.974094  \n",
       "..           ...  \n",
       "787 -1201.937955  \n",
       "788  2018.121258  \n",
       "789  1099.525701  \n",
       "790 -2374.647033  \n",
       "791  -879.804145  \n",
       "\n",
       "[792 rows x 8 columns]"
      ]
     },
     "execution_count": 146,
     "metadata": {},
     "output_type": "execute_result"
    }
   ],
   "source": [
    "gam_pm"
   ]
  },
  {
   "cell_type": "code",
   "execution_count": 169,
   "id": "14e17121-b830-4d97-865d-4122880de9ea",
   "metadata": {
    "execution": {
     "iopub.execute_input": "2024-04-26T13:26:56.479228Z",
     "iopub.status.busy": "2024-04-26T13:26:56.478860Z",
     "iopub.status.idle": "2024-04-26T13:26:56.619210Z",
     "shell.execute_reply": "2024-04-26T13:26:56.618609Z",
     "shell.execute_reply.started": "2024-04-26T13:26:56.479203Z"
    }
   },
   "outputs": [
    {
     "data": {
      "text/plain": [
       "(array([ 11.,  39., 126., 189., 201., 133.,  62.,  17.,  10.,   4.]),\n",
       " array([-2939.18285919, -1732.05027039,  -524.91768159,   682.21490721,\n",
       "         1889.34749601,  3096.48008481,  4303.61267361,  5510.74526241,\n",
       "         6717.87785121,  7925.01044001,  9132.14302881]),\n",
       " <BarContainer object of 10 artists>)"
      ]
     },
     "execution_count": 169,
     "metadata": {},
     "output_type": "execute_result"
    },
    {
     "data": {
      "image/png": "[encoded data removed]",
      "text/plain": [
       "<Figure size 640x480 with 1 Axes>"
      ]
     },
     "metadata": {},
     "output_type": "display_data"
    }
   ],
   "source": [
    "plt.hist(gam_pm['gam_pd'])"
   ]
  },
  {
   "cell_type": "code",
   "execution_count": 152,
   "id": "0ea4c69a-4981-41aa-b402-bb77a9e49e4b",
   "metadata": {
    "execution": {
     "iopub.execute_input": "2024-04-26T13:18:31.806550Z",
     "iopub.status.busy": "2024-04-26T13:18:31.805848Z",
     "iopub.status.idle": "2024-04-26T13:18:31.818249Z",
     "shell.execute_reply": "2024-04-26T13:18:31.817578Z",
     "shell.execute_reply.started": "2024-04-26T13:18:31.806527Z"
    }
   },
   "outputs": [],
   "source": [
    "gam_r = gam_pm.copy(deep = True)\n",
    "\n",
    "gam_r['svpc'] = gam_r['gam_svp'].round()\n",
    "gam_r['lvpc'] = gam_r['gam_lvp'].round()\n",
    "gam_r['pdpc'] = gam_r['gam_pdp'].round()\n",
    "gam_r['inpc'] = gam_r['gam_inp'].round()\n",
    "gam_r['svn'] = gam_r['gam_sv'].round()\n",
    "gam_r['lvn'] = gam_r['gam_lv'].round()\n",
    "gam_r['pdn'] = gam_r['gam_pd'].round()\n",
    "\n",
    "gam_r.loc[gam_r['svpc']< 0,'svpc']=0\n",
    "gam_r.loc[gam_r['lvpc']< 0,'lvpc']=0\n",
    "gam_r.loc[gam_r['pdpc']< 0,'pdpc']=0\n",
    "gam_r.loc[gam_r['inpc']< 0,'inpc']=0\n",
    "gam_r.loc[gam_r['svn']< 0,'svn']=0\n",
    "gam_r.loc[gam_r['lvn']< 0,'lvn']=0\n",
    "gam_r.loc[gam_r['pdn']< 0,'pdn']=0\n",
    "# rf_ols_c.loc[rf_ols_c['olvpc']< 0,'olvpc']=0\n",
    "# rf_ols_c.loc[rf_ols_c['opdpc']< 0,'opdpc']=0\n",
    "# rf_ols_c.loc[rf_ols_c['osvc']< 0,'osvc']=0\n",
    "# rf_ols_c.loc[rf_ols_c['olvc']< 0,'olvc']=0\n",
    "# rf_ols_c.loc[rf_ols_c['oinpc']< 0,'oinpc']=0\n"
   ]
  },
  {
   "cell_type": "code",
   "execution_count": 182,
   "id": "889daa0d-6011-4c74-b805-2cdf2d545297",
   "metadata": {
    "execution": {
     "iopub.execute_input": "2024-04-26T13:29:36.609446Z",
     "iopub.status.busy": "2024-04-26T13:29:36.609066Z",
     "iopub.status.idle": "2024-04-26T13:29:36.762384Z",
     "shell.execute_reply": "2024-04-26T13:29:36.761688Z",
     "shell.execute_reply.started": "2024-04-26T13:29:36.609424Z"
    }
   },
   "outputs": [
    {
     "data": {
      "text/plain": [
       "(array([143.,   0.,   0.,   0.,   0.,   0.,   0.,   0.,   0., 649.]),\n",
       " array([0. , 0.1, 0.2, 0.3, 0.4, 0.5, 0.6, 0.7, 0.8, 0.9, 1. ]),\n",
       " <BarContainer object of 10 artists>)"
      ]
     },
     "execution_count": 182,
     "metadata": {},
     "output_type": "execute_result"
    },
    {
     "data": {
      "image/png": "[encoded data removed]",
      "text/plain": [
       "<Figure size 640x480 with 1 Axes>"
      ]
     },
     "metadata": {},
     "output_type": "display_data"
    }
   ],
   "source": [
    "plt.hist(gam_r['lv'])\n"
   ]
  },
  {
   "cell_type": "code",
   "execution_count": 183,
   "id": "53ca2071-898d-4d47-86b2-4d29f485f8f6",
   "metadata": {
    "execution": {
     "iopub.execute_input": "2024-04-26T13:29:36.764371Z",
     "iopub.status.busy": "2024-04-26T13:29:36.763785Z",
     "iopub.status.idle": "2024-04-26T13:29:36.901228Z",
     "shell.execute_reply": "2024-04-26T13:29:36.900581Z",
     "shell.execute_reply.started": "2024-04-26T13:29:36.764339Z"
    }
   },
   "outputs": [
    {
     "data": {
      "text/plain": [
       "(array([133.,   0.,   0.,   0.,   0.,   0.,   0.,   0.,   0., 659.]),\n",
       " array([0. , 0.1, 0.2, 0.3, 0.4, 0.5, 0.6, 0.7, 0.8, 0.9, 1. ]),\n",
       " <BarContainer object of 10 artists>)"
      ]
     },
     "execution_count": 183,
     "metadata": {},
     "output_type": "execute_result"
    },
    {
     "data": {
      "image/png": "[encoded data removed]",
      "text/plain": [
       "<Figure size 640x480 with 1 Axes>"
      ]
     },
     "metadata": {},
     "output_type": "display_data"
    }
   ],
   "source": [
    "plt.hist(gam_r['lv'])\n"
   ]
  },
  {
   "cell_type": "code",
   "execution_count": 212,
   "id": "b37ffa9e-9534-4f89-9591-8145b92c55f7",
   "metadata": {
    "execution": {
     "iopub.execute_input": "2024-04-26T14:25:06.972100Z",
     "iopub.status.busy": "2024-04-26T14:25:06.971725Z",
     "iopub.status.idle": "2024-04-26T14:25:06.990577Z",
     "shell.execute_reply": "2024-04-26T14:25:06.989891Z",
     "shell.execute_reply.started": "2024-04-26T14:25:06.972080Z"
    }
   },
   "outputs": [],
   "source": [
    "gam_r.to_csv('/home/yelhe/script/mt/model/gam_result.csv', index = False)"
   ]
  },
  {
   "cell_type": "code",
   "execution_count": 211,
   "id": "623630d5-b835-4628-b405-3d73ee359050",
   "metadata": {
    "execution": {
     "iopub.execute_input": "2024-04-26T14:25:05.427251Z",
     "iopub.status.busy": "2024-04-26T14:25:05.426910Z",
     "iopub.status.idle": "2024-04-26T14:25:05.431986Z",
     "shell.execute_reply": "2024-04-26T14:25:05.431350Z",
     "shell.execute_reply.started": "2024-04-26T14:25:05.427233Z"
    }
   },
   "outputs": [
    {
     "data": {
      "text/plain": [
       "Index(['id', 'gam_svp', 'gam_lvp', 'gam_pdp', 'gam_inp', 'gam_sv', 'gam_lv',\n",
       "       'gam_pd', 'svpc', 'lvpc', 'pdpc', 'inpc', 'svn', 'lvn', 'pdn'],\n",
       "      dtype='object')"
      ]
     },
     "execution_count": 211,
     "metadata": {},
     "output_type": "execute_result"
    }
   ],
   "source": [
    "gam_r.columns"
   ]
  },
  {
   "cell_type": "code",
   "execution_count": 222,
   "id": "b72cb7dd-12c1-4830-b769-eede81a37bf7",
   "metadata": {
    "execution": {
     "iopub.execute_input": "2024-04-26T14:32:55.276051Z",
     "iopub.status.busy": "2024-04-26T14:32:55.275369Z",
     "iopub.status.idle": "2024-04-26T14:32:55.285615Z",
     "shell.execute_reply": "2024-04-26T14:32:55.284862Z",
     "shell.execute_reply.started": "2024-04-26T14:32:55.276028Z"
    }
   },
   "outputs": [],
   "source": [
    "df1.to_csv('/home/yelhe/script/mt/model/gam_pv.csv', index = False)"
   ]
  },
  {
   "cell_type": "code",
   "execution_count": 228,
   "id": "3c8e8482-58f2-427f-88e2-7ce404b2919b",
   "metadata": {
    "execution": {
     "iopub.execute_input": "2024-04-27T13:47:46.509828Z",
     "iopub.status.busy": "2024-04-27T13:47:46.509538Z",
     "iopub.status.idle": "2024-04-27T13:47:46.519779Z",
     "shell.execute_reply": "2024-04-27T13:47:46.519080Z",
     "shell.execute_reply.started": "2024-04-27T13:47:46.509811Z"
    }
   },
   "outputs": [
    {
     "data": {
      "text/plain": [
       "0      0.474677\n",
       "1      0.248310\n",
       "2      0.496539\n",
       "3      0.686266\n",
       "4      0.565394\n",
       "         ...   \n",
       "787    0.759869\n",
       "788    0.753896\n",
       "789    0.901510\n",
       "790    0.806257\n",
       "791    0.922581\n",
       "Name: gam_lvp, Length: 792, dtype: float64"
      ]
     },
     "execution_count": 228,
     "metadata": {},
     "output_type": "execute_result"
    }
   ],
   "source": [
    "gam_r['gam_lvp']"
   ]
  },
  {
   "cell_type": "code",
   "execution_count": 233,
   "id": "c54841f2-e62a-4e69-8bea-30a638958381",
   "metadata": {
    "execution": {
     "iopub.execute_input": "2024-04-27T14:09:17.865902Z",
     "iopub.status.busy": "2024-04-27T14:09:17.865619Z",
     "iopub.status.idle": "2024-04-27T14:09:17.871759Z",
     "shell.execute_reply": "2024-04-27T14:09:17.871090Z",
     "shell.execute_reply.started": "2024-04-27T14:09:17.865884Z"
    }
   },
   "outputs": [
    {
     "data": {
      "text/plain": [
       "pdpc\n",
       "0.0    246\n",
       "1.0    546\n",
       "dtype: int64"
      ]
     },
     "execution_count": 233,
     "metadata": {},
     "output_type": "execute_result"
    }
   ],
   "source": [
    "gam_r.groupby(['pdpc']).size()"
   ]
  }
 ],
 "metadata": {
  "kernelspec": {
   "display_name": "Python 3 (ipykernel)",
   "language": "python",
   "name": "python3"
  },
  "language_info": {
   "codemirror_mode": {
    "name": "ipython",
    "version": 3
   },
   "file_extension": ".py",
   "mimetype": "text/x-python",
   "name": "python",
   "nbconvert_exporter": "python",
   "pygments_lexer": "ipython3",
   "version": "3.11.5"
  }
 },
 "nbformat": 4,
 "nbformat_minor": 5
}
