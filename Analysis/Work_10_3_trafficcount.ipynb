{
 "cells": [
  {
   "cell_type": "code",
   "execution_count": 1,
   "id": "7e9f75d8-3be9-45ef-b9ae-ad72fefb7ce1",
   "metadata": {
    "execution": {
     "iopub.execute_input": "2024-03-21T16:03:57.556828Z",
     "iopub.status.busy": "2024-03-21T16:03:57.556494Z",
     "iopub.status.idle": "2024-03-21T16:03:59.004945Z",
     "shell.execute_reply": "2024-03-21T16:03:59.004357Z",
     "shell.execute_reply.started": "2024-03-21T16:03:57.556801Z"
    }
   },
   "outputs": [],
   "source": [
    "import torch\n",
    "torch.cuda.empty_cache() "
   ]
  },
  {
   "cell_type": "code",
   "execution_count": 2,
   "id": "f3e5fa71-37bd-4efe-b8ee-ae3c362b2a1b",
   "metadata": {
    "execution": {
     "iopub.execute_input": "2024-03-21T16:03:59.006808Z",
     "iopub.status.busy": "2024-03-21T16:03:59.006490Z",
     "iopub.status.idle": "2024-03-21T16:03:59.293617Z",
     "shell.execute_reply": "2024-03-21T16:03:59.293147Z",
     "shell.execute_reply.started": "2024-03-21T16:03:59.006787Z"
    }
   },
   "outputs": [],
   "source": [
    "import os \n",
    "os.environ['MPLCONFIGDIR'] = os.getcwd() + \"/configs/\"\n",
    "import matplotlib\n",
    "from matplotlib import pyplot as plt\n",
    "import numpy as np\n",
    "import cv2\n",
    "import urllib.request\n",
    "from PIL import Image"
   ]
  },
  {
   "cell_type": "code",
   "execution_count": 3,
   "id": "132db61a-9aa6-4936-8ab4-054288d07d2e",
   "metadata": {
    "execution": {
     "iopub.execute_input": "2024-03-21T16:03:59.294473Z",
     "iopub.status.busy": "2024-03-21T16:03:59.294294Z",
     "iopub.status.idle": "2024-03-21T16:03:59.670879Z",
     "shell.execute_reply": "2024-03-21T16:03:59.670386Z",
     "shell.execute_reply.started": "2024-03-21T16:03:59.294456Z"
    }
   },
   "outputs": [],
   "source": [
    "import pandas as pd\n",
    "import pyproj"
   ]
  },
  {
   "cell_type": "code",
   "execution_count": 4,
   "id": "80d61825-dc8d-4005-9362-cf497e771695",
   "metadata": {
    "execution": {
     "iopub.execute_input": "2024-03-21T16:03:59.671876Z",
     "iopub.status.busy": "2024-03-21T16:03:59.671584Z",
     "iopub.status.idle": "2024-03-21T16:03:59.675212Z",
     "shell.execute_reply": "2024-03-21T16:03:59.674566Z",
     "shell.execute_reply.started": "2024-03-21T16:03:59.671857Z"
    }
   },
   "outputs": [],
   "source": [
    "import os \n",
    "os.environ['MPLCONFIGDIR'] = os.getcwd() + \"/configs/\"\n",
    "import matplotlib\n",
    "from matplotlib import pyplot as plt\n",
    "import numpy as np\n",
    "import cv2"
   ]
  },
  {
   "cell_type": "code",
   "execution_count": 5,
   "id": "e6000c92-6b7e-4ee5-9c30-ac0dfed91840",
   "metadata": {
    "execution": {
     "iopub.execute_input": "2024-03-21T16:03:59.676089Z",
     "iopub.status.busy": "2024-03-21T16:03:59.675913Z",
     "iopub.status.idle": "2024-03-21T16:03:59.683540Z",
     "shell.execute_reply": "2024-03-21T16:03:59.682949Z",
     "shell.execute_reply.started": "2024-03-21T16:03:59.676072Z"
    }
   },
   "outputs": [],
   "source": [
    "from pathlib import Path"
   ]
  },
  {
   "cell_type": "code",
   "execution_count": 6,
   "id": "59dfb1fc-7192-4ae1-9df9-596320cc4875",
   "metadata": {
    "execution": {
     "iopub.execute_input": "2024-03-21T16:03:59.685623Z",
     "iopub.status.busy": "2024-03-21T16:03:59.684353Z",
     "iopub.status.idle": "2024-03-21T16:03:59.708635Z",
     "shell.execute_reply": "2024-03-21T16:03:59.708167Z",
     "shell.execute_reply.started": "2024-03-21T16:03:59.685597Z"
    }
   },
   "outputs": [],
   "source": [
    "import joblib"
   ]
  },
  {
   "cell_type": "code",
   "execution_count": 7,
   "id": "923fac26-61e2-49dd-9099-e31ff4079430",
   "metadata": {
    "execution": {
     "iopub.execute_input": "2024-03-21T16:03:59.712016Z",
     "iopub.status.busy": "2024-03-21T16:03:59.711795Z",
     "iopub.status.idle": "2024-03-21T16:03:59.971144Z",
     "shell.execute_reply": "2024-03-21T16:03:59.970656Z",
     "shell.execute_reply.started": "2024-03-21T16:03:59.711995Z"
    }
   },
   "outputs": [],
   "source": [
    "from mt_function_yl import *"
   ]
  },
  {
   "cell_type": "code",
   "execution_count": 8,
   "id": "8376ffe7-7aec-4e11-9f86-32619931952f",
   "metadata": {
    "execution": {
     "iopub.execute_input": "2024-03-21T16:03:59.972177Z",
     "iopub.status.busy": "2024-03-21T16:03:59.971883Z",
     "iopub.status.idle": "2024-03-21T16:04:00.057921Z",
     "shell.execute_reply": "2024-03-21T16:04:00.057441Z",
     "shell.execute_reply.started": "2024-03-21T16:03:59.972158Z"
    }
   },
   "outputs": [],
   "source": [
    "import seaborn as sn"
   ]
  },
  {
   "cell_type": "code",
   "execution_count": 9,
   "id": "78c65919-07d0-4aba-a8dc-87298c4b96d6",
   "metadata": {
    "execution": {
     "iopub.execute_input": "2024-03-21T16:04:00.059053Z",
     "iopub.status.busy": "2024-03-21T16:04:00.058685Z",
     "iopub.status.idle": "2024-03-21T16:04:00.062108Z",
     "shell.execute_reply": "2024-03-21T16:04:00.061524Z",
     "shell.execute_reply.started": "2024-03-21T16:04:00.059030Z"
    }
   },
   "outputs": [],
   "source": [
    "from scipy import stats"
   ]
  },
  {
   "cell_type": "code",
   "execution_count": 10,
   "id": "37ca928e-82c3-4ae7-a6c6-3f18c1c233ba",
   "metadata": {
    "execution": {
     "iopub.execute_input": "2024-03-21T16:04:00.062926Z",
     "iopub.status.busy": "2024-03-21T16:04:00.062762Z",
     "iopub.status.idle": "2024-03-21T16:04:00.074655Z",
     "shell.execute_reply": "2024-03-21T16:04:00.074082Z",
     "shell.execute_reply.started": "2024-03-21T16:04:00.062911Z"
    }
   },
   "outputs": [],
   "source": [
    "from tabulate import tabulate"
   ]
  },
  {
   "cell_type": "code",
   "execution_count": 11,
   "id": "b46d5518-dab4-4896-a3f7-7aa74a012e35",
   "metadata": {
    "execution": {
     "iopub.execute_input": "2024-03-21T16:04:00.075637Z",
     "iopub.status.busy": "2024-03-21T16:04:00.075414Z",
     "iopub.status.idle": "2024-03-21T16:04:00.393320Z",
     "shell.execute_reply": "2024-03-21T16:04:00.392719Z",
     "shell.execute_reply.started": "2024-03-21T16:04:00.075618Z"
    }
   },
   "outputs": [],
   "source": [
    "import statsmodels.api as sm"
   ]
  },
  {
   "cell_type": "markdown",
   "id": "11486eff-60e0-460e-a14b-9a0ab0628a50",
   "metadata": {},
   "source": [
    "### Data loading"
   ]
  },
  {
   "cell_type": "code",
   "execution_count": 12,
   "id": "bd1de1e5-d842-482d-9027-047b5690f2c0",
   "metadata": {
    "execution": {
     "iopub.execute_input": "2024-03-21T16:04:00.394569Z",
     "iopub.status.busy": "2024-03-21T16:04:00.394171Z",
     "iopub.status.idle": "2024-03-21T16:04:00.404026Z",
     "shell.execute_reply": "2024-03-21T16:04:00.403550Z",
     "shell.execute_reply.started": "2024-03-21T16:04:00.394545Z"
    }
   },
   "outputs": [],
   "source": [
    "aa = pd.read_csv('/home/yelhe/script/mt/dataraw/dfaa.csv')"
   ]
  },
  {
   "cell_type": "code",
   "execution_count": 13,
   "id": "00541c9d-0214-4d56-8069-2198a7b30e8c",
   "metadata": {
    "execution": {
     "iopub.execute_input": "2024-03-21T16:04:00.405017Z",
     "iopub.status.busy": "2024-03-21T16:04:00.404796Z",
     "iopub.status.idle": "2024-03-21T16:04:00.409238Z",
     "shell.execute_reply": "2024-03-21T16:04:00.408757Z",
     "shell.execute_reply.started": "2024-03-21T16:04:00.404996Z"
    }
   },
   "outputs": [],
   "source": [
    "atime = aa[['Nr', 'Datum', 'Zeit']]"
   ]
  },
  {
   "cell_type": "code",
   "execution_count": 14,
   "id": "b1abc280-aa0f-41ab-ba24-441a2e45802d",
   "metadata": {
    "execution": {
     "iopub.execute_input": "2024-03-21T16:04:00.411316Z",
     "iopub.status.busy": "2024-03-21T16:04:00.411106Z",
     "iopub.status.idle": "2024-03-21T16:04:00.423038Z",
     "shell.execute_reply": "2024-03-21T16:04:00.422524Z",
     "shell.execute_reply.started": "2024-03-21T16:04:00.411298Z"
    }
   },
   "outputs": [
    {
     "name": "stdout",
     "output_type": "stream",
     "text": [
      "<class 'pandas.core.frame.DataFrame'>\n",
      "RangeIndex: 350 entries, 0 to 349\n",
      "Data columns (total 3 columns):\n",
      " #   Column  Non-Null Count  Dtype \n",
      "---  ------  --------------  ----- \n",
      " 0   Nr      350 non-null    int64 \n",
      " 1   Datum   350 non-null    object\n",
      " 2   Zeit    350 non-null    object\n",
      "dtypes: int64(1), object(2)\n",
      "memory usage: 8.3+ KB\n"
     ]
    }
   ],
   "source": [
    "atime.info()"
   ]
  },
  {
   "cell_type": "code",
   "execution_count": 15,
   "id": "4d974faf-72b8-4a87-aea5-53f56a1ccec6",
   "metadata": {
    "execution": {
     "iopub.execute_input": "2024-03-21T16:04:00.523784Z",
     "iopub.status.busy": "2024-03-21T16:04:00.523546Z",
     "iopub.status.idle": "2024-03-21T16:04:00.534910Z",
     "shell.execute_reply": "2024-03-21T16:04:00.534451Z",
     "shell.execute_reply.started": "2024-03-21T16:04:00.523755Z"
    }
   },
   "outputs": [
    {
     "data": {
      "text/html": [
       "<div>\n",
       "<style scoped>\n",
       "    .dataframe tbody tr th:only-of-type {\n",
       "        vertical-align: middle;\n",
       "    }\n",
       "\n",
       "    .dataframe tbody tr th {\n",
       "        vertical-align: top;\n",
       "    }\n",
       "\n",
       "    .dataframe thead th {\n",
       "        text-align: right;\n",
       "    }\n",
       "</style>\n",
       "<table border=\"1\" class=\"dataframe\">\n",
       "  <thead>\n",
       "    <tr style=\"text-align: right;\">\n",
       "      <th></th>\n",
       "      <th>Nr</th>\n",
       "      <th>Datum</th>\n",
       "      <th>Zeit</th>\n",
       "    </tr>\n",
       "  </thead>\n",
       "  <tbody>\n",
       "    <tr>\n",
       "      <th>0</th>\n",
       "      <td>99900060852597</td>\n",
       "      <td>2022-05-29</td>\n",
       "      <td>00:10</td>\n",
       "    </tr>\n",
       "    <tr>\n",
       "      <th>1</th>\n",
       "      <td>99900063018611</td>\n",
       "      <td>2022-10-12</td>\n",
       "      <td>17:40</td>\n",
       "    </tr>\n",
       "    <tr>\n",
       "      <th>2</th>\n",
       "      <td>99900052723510</td>\n",
       "      <td>2020-10-26</td>\n",
       "      <td>16:50</td>\n",
       "    </tr>\n",
       "    <tr>\n",
       "      <th>3</th>\n",
       "      <td>99900061514043</td>\n",
       "      <td>2022-07-08</td>\n",
       "      <td>21:30</td>\n",
       "    </tr>\n",
       "    <tr>\n",
       "      <th>4</th>\n",
       "      <td>99900063037843</td>\n",
       "      <td>2022-10-13</td>\n",
       "      <td>19:40</td>\n",
       "    </tr>\n",
       "    <tr>\n",
       "      <th>...</th>\n",
       "      <td>...</td>\n",
       "      <td>...</td>\n",
       "      <td>...</td>\n",
       "    </tr>\n",
       "    <tr>\n",
       "      <th>345</th>\n",
       "      <td>99900055905276</td>\n",
       "      <td>2021-06-08</td>\n",
       "      <td>12:50</td>\n",
       "    </tr>\n",
       "    <tr>\n",
       "      <th>346</th>\n",
       "      <td>99900060670975</td>\n",
       "      <td>2022-05-16</td>\n",
       "      <td>14:42</td>\n",
       "    </tr>\n",
       "    <tr>\n",
       "      <th>347</th>\n",
       "      <td>99900047367168</td>\n",
       "      <td>2019-09-21</td>\n",
       "      <td>13:49</td>\n",
       "    </tr>\n",
       "    <tr>\n",
       "      <th>348</th>\n",
       "      <td>99900050714619</td>\n",
       "      <td>2020-06-06</td>\n",
       "      <td>16:37</td>\n",
       "    </tr>\n",
       "    <tr>\n",
       "      <th>349</th>\n",
       "      <td>99900060734330</td>\n",
       "      <td>2022-05-18</td>\n",
       "      <td>16:30</td>\n",
       "    </tr>\n",
       "  </tbody>\n",
       "</table>\n",
       "<p>350 rows × 3 columns</p>\n",
       "</div>"
      ],
      "text/plain": [
       "                 Nr       Datum   Zeit\n",
       "0    99900060852597  2022-05-29  00:10\n",
       "1    99900063018611  2022-10-12  17:40\n",
       "2    99900052723510  2020-10-26  16:50\n",
       "3    99900061514043  2022-07-08  21:30\n",
       "4    99900063037843  2022-10-13  19:40\n",
       "..              ...         ...    ...\n",
       "345  99900055905276  2021-06-08  12:50\n",
       "346  99900060670975  2022-05-16  14:42\n",
       "347  99900047367168  2019-09-21  13:49\n",
       "348  99900050714619  2020-06-06  16:37\n",
       "349  99900060734330  2022-05-18  16:30\n",
       "\n",
       "[350 rows x 3 columns]"
      ]
     },
     "execution_count": 15,
     "metadata": {},
     "output_type": "execute_result"
    }
   ],
   "source": [
    "atime"
   ]
  },
  {
   "cell_type": "code",
   "execution_count": 18,
   "id": "49902256-4207-440c-aa6c-3c15bfc64727",
   "metadata": {
    "execution": {
     "iopub.execute_input": "2024-03-21T16:05:30.753155Z",
     "iopub.status.busy": "2024-03-21T16:05:30.752878Z",
     "iopub.status.idle": "2024-03-21T16:05:30.758398Z",
     "shell.execute_reply": "2024-03-21T16:05:30.757768Z",
     "shell.execute_reply.started": "2024-03-21T16:05:30.753134Z"
    }
   },
   "outputs": [],
   "source": [
    "atime.loc[:, 'Datum'] = pd.to_datetime(atime.loc[:, 'Datum'], format = \"%Y-%m-%d\")"
   ]
  },
  {
   "cell_type": "code",
   "execution_count": 22,
   "id": "6b10e93e-fafc-4219-a93a-137787e05a89",
   "metadata": {
    "execution": {
     "iopub.execute_input": "2024-03-21T16:15:56.210768Z",
     "iopub.status.busy": "2024-03-21T16:15:56.210484Z",
     "iopub.status.idle": "2024-03-21T16:15:56.215941Z",
     "shell.execute_reply": "2024-03-21T16:15:56.215362Z",
     "shell.execute_reply.started": "2024-03-21T16:15:56.210750Z"
    }
   },
   "outputs": [],
   "source": [
    "atime.loc[:,'year'] = atime.loc[:,'Datum'].dt.year\n",
    "atime.loc[:,'month'] = atime.loc[:,'Datum'].dt.month\n",
    "atime.loc[:,'day'] = atime.loc[:,'Datum'].dt.day"
   ]
  },
  {
   "cell_type": "code",
   "execution_count": 23,
   "id": "ec400c5b-fb58-4970-b2de-aac26872401a",
   "metadata": {
    "execution": {
     "iopub.execute_input": "2024-03-21T16:16:19.757711Z",
     "iopub.status.busy": "2024-03-21T16:16:19.757248Z",
     "iopub.status.idle": "2024-03-21T16:16:19.766618Z",
     "shell.execute_reply": "2024-03-21T16:16:19.766051Z",
     "shell.execute_reply.started": "2024-03-21T16:16:19.757688Z"
    }
   },
   "outputs": [
    {
     "data": {
      "text/html": [
       "<div>\n",
       "<style scoped>\n",
       "    .dataframe tbody tr th:only-of-type {\n",
       "        vertical-align: middle;\n",
       "    }\n",
       "\n",
       "    .dataframe tbody tr th {\n",
       "        vertical-align: top;\n",
       "    }\n",
       "\n",
       "    .dataframe thead th {\n",
       "        text-align: right;\n",
       "    }\n",
       "</style>\n",
       "<table border=\"1\" class=\"dataframe\">\n",
       "  <thead>\n",
       "    <tr style=\"text-align: right;\">\n",
       "      <th></th>\n",
       "      <th>Nr</th>\n",
       "      <th>Datum</th>\n",
       "      <th>Zeit</th>\n",
       "      <th>year</th>\n",
       "      <th>month</th>\n",
       "      <th>day</th>\n",
       "    </tr>\n",
       "  </thead>\n",
       "  <tbody>\n",
       "    <tr>\n",
       "      <th>0</th>\n",
       "      <td>99900060852597</td>\n",
       "      <td>2022-05-29</td>\n",
       "      <td>00:10</td>\n",
       "      <td>2022</td>\n",
       "      <td>5</td>\n",
       "      <td>29</td>\n",
       "    </tr>\n",
       "    <tr>\n",
       "      <th>1</th>\n",
       "      <td>99900063018611</td>\n",
       "      <td>2022-10-12</td>\n",
       "      <td>17:40</td>\n",
       "      <td>2022</td>\n",
       "      <td>10</td>\n",
       "      <td>12</td>\n",
       "    </tr>\n",
       "    <tr>\n",
       "      <th>2</th>\n",
       "      <td>99900052723510</td>\n",
       "      <td>2020-10-26</td>\n",
       "      <td>16:50</td>\n",
       "      <td>2020</td>\n",
       "      <td>10</td>\n",
       "      <td>26</td>\n",
       "    </tr>\n",
       "    <tr>\n",
       "      <th>3</th>\n",
       "      <td>99900061514043</td>\n",
       "      <td>2022-07-08</td>\n",
       "      <td>21:30</td>\n",
       "      <td>2022</td>\n",
       "      <td>7</td>\n",
       "      <td>8</td>\n",
       "    </tr>\n",
       "    <tr>\n",
       "      <th>4</th>\n",
       "      <td>99900063037843</td>\n",
       "      <td>2022-10-13</td>\n",
       "      <td>19:40</td>\n",
       "      <td>2022</td>\n",
       "      <td>10</td>\n",
       "      <td>13</td>\n",
       "    </tr>\n",
       "    <tr>\n",
       "      <th>...</th>\n",
       "      <td>...</td>\n",
       "      <td>...</td>\n",
       "      <td>...</td>\n",
       "      <td>...</td>\n",
       "      <td>...</td>\n",
       "      <td>...</td>\n",
       "    </tr>\n",
       "    <tr>\n",
       "      <th>345</th>\n",
       "      <td>99900055905276</td>\n",
       "      <td>2021-06-08</td>\n",
       "      <td>12:50</td>\n",
       "      <td>2021</td>\n",
       "      <td>6</td>\n",
       "      <td>8</td>\n",
       "    </tr>\n",
       "    <tr>\n",
       "      <th>346</th>\n",
       "      <td>99900060670975</td>\n",
       "      <td>2022-05-16</td>\n",
       "      <td>14:42</td>\n",
       "      <td>2022</td>\n",
       "      <td>5</td>\n",
       "      <td>16</td>\n",
       "    </tr>\n",
       "    <tr>\n",
       "      <th>347</th>\n",
       "      <td>99900047367168</td>\n",
       "      <td>2019-09-21</td>\n",
       "      <td>13:49</td>\n",
       "      <td>2019</td>\n",
       "      <td>9</td>\n",
       "      <td>21</td>\n",
       "    </tr>\n",
       "    <tr>\n",
       "      <th>348</th>\n",
       "      <td>99900050714619</td>\n",
       "      <td>2020-06-06</td>\n",
       "      <td>16:37</td>\n",
       "      <td>2020</td>\n",
       "      <td>6</td>\n",
       "      <td>6</td>\n",
       "    </tr>\n",
       "    <tr>\n",
       "      <th>349</th>\n",
       "      <td>99900060734330</td>\n",
       "      <td>2022-05-18</td>\n",
       "      <td>16:30</td>\n",
       "      <td>2022</td>\n",
       "      <td>5</td>\n",
       "      <td>18</td>\n",
       "    </tr>\n",
       "  </tbody>\n",
       "</table>\n",
       "<p>350 rows × 6 columns</p>\n",
       "</div>"
      ],
      "text/plain": [
       "                 Nr      Datum   Zeit  year  month  day\n",
       "0    99900060852597 2022-05-29  00:10  2022      5   29\n",
       "1    99900063018611 2022-10-12  17:40  2022     10   12\n",
       "2    99900052723510 2020-10-26  16:50  2020     10   26\n",
       "3    99900061514043 2022-07-08  21:30  2022      7    8\n",
       "4    99900063037843 2022-10-13  19:40  2022     10   13\n",
       "..              ...        ...    ...   ...    ...  ...\n",
       "345  99900055905276 2021-06-08  12:50  2021      6    8\n",
       "346  99900060670975 2022-05-16  14:42  2022      5   16\n",
       "347  99900047367168 2019-09-21  13:49  2019      9   21\n",
       "348  99900050714619 2020-06-06  16:37  2020      6    6\n",
       "349  99900060734330 2022-05-18  16:30  2022      5   18\n",
       "\n",
       "[350 rows x 6 columns]"
      ]
     },
     "execution_count": 23,
     "metadata": {},
     "output_type": "execute_result"
    }
   ],
   "source": [
    "atime"
   ]
  },
  {
   "cell_type": "code",
   "execution_count": 26,
   "id": "95429c25-e9ec-4cf7-b6b2-6836862444e6",
   "metadata": {
    "execution": {
     "iopub.execute_input": "2024-03-21T16:18:50.369551Z",
     "iopub.status.busy": "2024-03-21T16:18:50.369274Z",
     "iopub.status.idle": "2024-03-21T16:18:50.374136Z",
     "shell.execute_reply": "2024-03-21T16:18:50.373549Z",
     "shell.execute_reply.started": "2024-03-21T16:18:50.369533Z"
    }
   },
   "outputs": [],
   "source": [
    "atime.loc[:,'week'] = atime.loc[:,'Datum'].dt.isocalendar().week"
   ]
  },
  {
   "cell_type": "code",
   "execution_count": 28,
   "id": "56f0e7dd-d82b-40f1-be2b-23d98e5e7501",
   "metadata": {
    "execution": {
     "iopub.execute_input": "2024-03-21T16:19:31.353799Z",
     "iopub.status.busy": "2024-03-21T16:19:31.353311Z",
     "iopub.status.idle": "2024-03-21T16:19:31.358920Z",
     "shell.execute_reply": "2024-03-21T16:19:31.358261Z",
     "shell.execute_reply.started": "2024-03-21T16:19:31.353776Z"
    }
   },
   "outputs": [],
   "source": [
    "atimegroup = atime.groupby(['year']).size().reset_index().rename(columns={0:'count'})"
   ]
  },
  {
   "cell_type": "code",
   "execution_count": 69,
   "id": "d6f5daca-c5e8-43f1-bed7-eb987ca4e19d",
   "metadata": {
    "execution": {
     "iopub.execute_input": "2024-03-21T17:15:17.495149Z",
     "iopub.status.busy": "2024-03-21T17:15:17.494860Z",
     "iopub.status.idle": "2024-03-21T17:15:17.501802Z",
     "shell.execute_reply": "2024-03-21T17:15:17.501264Z",
     "shell.execute_reply.started": "2024-03-21T17:15:17.495132Z"
    }
   },
   "outputs": [
    {
     "data": {
      "text/html": [
       "<div>\n",
       "<style scoped>\n",
       "    .dataframe tbody tr th:only-of-type {\n",
       "        vertical-align: middle;\n",
       "    }\n",
       "\n",
       "    .dataframe tbody tr th {\n",
       "        vertical-align: top;\n",
       "    }\n",
       "\n",
       "    .dataframe thead th {\n",
       "        text-align: right;\n",
       "    }\n",
       "</style>\n",
       "<table border=\"1\" class=\"dataframe\">\n",
       "  <thead>\n",
       "    <tr style=\"text-align: right;\">\n",
       "      <th></th>\n",
       "      <th>year</th>\n",
       "      <th>count</th>\n",
       "    </tr>\n",
       "  </thead>\n",
       "  <tbody>\n",
       "    <tr>\n",
       "      <th>0</th>\n",
       "      <td>2019</td>\n",
       "      <td>48</td>\n",
       "    </tr>\n",
       "    <tr>\n",
       "      <th>1</th>\n",
       "      <td>2020</td>\n",
       "      <td>74</td>\n",
       "    </tr>\n",
       "    <tr>\n",
       "      <th>2</th>\n",
       "      <td>2021</td>\n",
       "      <td>91</td>\n",
       "    </tr>\n",
       "    <tr>\n",
       "      <th>3</th>\n",
       "      <td>2022</td>\n",
       "      <td>137</td>\n",
       "    </tr>\n",
       "  </tbody>\n",
       "</table>\n",
       "</div>"
      ],
      "text/plain": [
       "   year  count\n",
       "0  2019     48\n",
       "1  2020     74\n",
       "2  2021     91\n",
       "3  2022    137"
      ]
     },
     "execution_count": 69,
     "metadata": {},
     "output_type": "execute_result"
    }
   ],
   "source": [
    "atimegroup"
   ]
  },
  {
   "cell_type": "code",
   "execution_count": 32,
   "id": "50d7158c-6c53-46da-91fb-0dd912c3d470",
   "metadata": {
    "execution": {
     "iopub.execute_input": "2024-03-21T16:31:31.707308Z",
     "iopub.status.busy": "2024-03-21T16:31:31.706858Z",
     "iopub.status.idle": "2024-03-21T16:31:31.753909Z",
     "shell.execute_reply": "2024-03-21T16:31:31.753455Z",
     "shell.execute_reply.started": "2024-03-21T16:31:31.707292Z"
    }
   },
   "outputs": [],
   "source": [
    "# Traffic Count bicycle\n",
    "btc19 = pd.read_csv('/home/yelhe/data/Traffic_network_variables/traffic_count/bicycle_traffic_count_2019.csv')\n",
    "btc20 = pd.read_csv('/home/yelhe/data/Traffic_network_variables/traffic_count/bicycle_traffic_count_2020.csv')\n",
    "btc21 = pd.read_csv('/home/yelhe/data/Traffic_network_variables/traffic_count/bicycle_traffic_count_2021.csv')\n",
    "# btc22\n",
    "\n",
    "# Traffic count car\n",
    "vtc19 = pd.read_csv('/home/yelhe/data/Traffic_network_variables/traffic_count/car_traffic_count_2019.csv')\n",
    "vtc20 = pd.read_csv('/home/yelhe/data/Traffic_network_variables/traffic_count/car_traffic_count_2020.csv')\n",
    "vtc21 = pd.read_csv('/home/yelhe/data/Traffic_network_variables/traffic_count/car_traffic_count_2021.csv')\n",
    "# vtc22"
   ]
  },
  {
   "cell_type": "code",
   "execution_count": 39,
   "id": "8eb0137f-8adf-489d-b263-5e2b735f793b",
   "metadata": {
    "execution": {
     "iopub.execute_input": "2024-03-21T16:34:43.465748Z",
     "iopub.status.busy": "2024-03-21T16:34:43.465470Z",
     "iopub.status.idle": "2024-03-21T16:34:43.473665Z",
     "shell.execute_reply": "2024-03-21T16:34:43.473207Z",
     "shell.execute_reply.started": "2024-03-21T16:34:43.465732Z"
    }
   },
   "outputs": [],
   "source": [
    "btc1921 = pd.concat([btc19, btc20, btc21])\n",
    "vtc1921 = pd.concat([vtc19, vtc20, vtc21])"
   ]
  },
  {
   "cell_type": "code",
   "execution_count": 41,
   "id": "0fb6f3b3-a98c-4bc3-a4a8-72f74e8ba37f",
   "metadata": {
    "execution": {
     "iopub.execute_input": "2024-03-21T16:36:41.941513Z",
     "iopub.status.busy": "2024-03-21T16:36:41.941240Z",
     "iopub.status.idle": "2024-03-21T16:36:41.962516Z",
     "shell.execute_reply": "2024-03-21T16:36:41.961898Z",
     "shell.execute_reply.started": "2024-03-21T16:36:41.941497Z"
    }
   },
   "outputs": [],
   "source": [
    "ac_btc1921 = atime.merge(btc1921, on = ['year', 'month', 'week'])\n",
    "ac_vtc1921 = atime.merge(vtc1921, on = ['year', 'month', 'week'])"
   ]
  },
  {
   "cell_type": "code",
   "execution_count": 44,
   "id": "4d6eab60-ae05-4c21-a586-6007e318e1c4",
   "metadata": {
    "execution": {
     "iopub.execute_input": "2024-03-21T16:58:44.036108Z",
     "iopub.status.busy": "2024-03-21T16:58:44.035609Z",
     "iopub.status.idle": "2024-03-21T16:58:44.046024Z",
     "shell.execute_reply": "2024-03-21T16:58:44.045549Z",
     "shell.execute_reply.started": "2024-03-21T16:58:44.036087Z"
    }
   },
   "outputs": [],
   "source": [
    "# Shortest distance file\n",
    "disb = pd.read_csv('/home/yelhe/data/Traffic_network_variables/acc_bicyclecount.csv') \n",
    "disv = pd.read_csv('/home/yelhe/data/Traffic_network_variables/acc_carcount.csv') "
   ]
  },
  {
   "cell_type": "code",
   "execution_count": 64,
   "id": "8a1ccfe5-777f-447d-b191-c4a2149b56b6",
   "metadata": {
    "execution": {
     "iopub.execute_input": "2024-03-21T17:09:36.601649Z",
     "iopub.status.busy": "2024-03-21T17:09:36.601361Z",
     "iopub.status.idle": "2024-03-21T17:09:36.618863Z",
     "shell.execute_reply": "2024-03-21T17:09:36.618312Z",
     "shell.execute_reply.started": "2024-03-21T17:09:36.601631Z"
    }
   },
   "outputs": [
    {
     "name": "stdout",
     "output_type": "stream",
     "text": [
      "<class 'pandas.core.frame.DataFrame'>\n",
      "RangeIndex: 34216 entries, 0 to 34215\n",
      "Data columns (total 13 columns):\n",
      " #   Column             Non-Null Count  Dtype         \n",
      "---  ------             --------------  -----         \n",
      " 0   Nr                 34216 non-null  int64         \n",
      " 1   Datum              34216 non-null  datetime64[ns]\n",
      " 2   Zeit               34216 non-null  object        \n",
      " 3   year               34216 non-null  int32         \n",
      " 4   month              34216 non-null  int32         \n",
      " 5   day                34216 non-null  int32         \n",
      " 6   week               34216 non-null  UInt32        \n",
      " 7   MSID               34216 non-null  object        \n",
      " 8   car_traffic_count  34216 non-null  int64         \n",
      " 9   date               34216 non-null  object        \n",
      " 10  OST                34216 non-null  float64       \n",
      " 11  NORD               34216 non-null  float64       \n",
      " 12  car_traffic_norm   34216 non-null  float64       \n",
      "dtypes: UInt32(1), datetime64[ns](1), float64(3), int32(3), int64(2), object(3)\n",
      "memory usage: 2.9+ MB\n"
     ]
    }
   ],
   "source": [
    "ac_vtc1921.info()"
   ]
  },
  {
   "cell_type": "code",
   "execution_count": 63,
   "id": "33b3900b-ad9f-457a-89b4-3e00ea9018d9",
   "metadata": {
    "execution": {
     "iopub.execute_input": "2024-03-21T17:09:31.862082Z",
     "iopub.status.busy": "2024-03-21T17:09:31.861810Z",
     "iopub.status.idle": "2024-03-21T17:09:31.868863Z",
     "shell.execute_reply": "2024-03-21T17:09:31.868273Z",
     "shell.execute_reply.started": "2024-03-21T17:09:31.862065Z"
    }
   },
   "outputs": [
    {
     "name": "stdout",
     "output_type": "stream",
     "text": [
      "<class 'pandas.core.frame.DataFrame'>\n",
      "RangeIndex: 355 entries, 0 to 354\n",
      "Data columns (total 3 columns):\n",
      " #   Column    Non-Null Count  Dtype  \n",
      "---  ------    --------------  -----  \n",
      " 0   Nr        355 non-null    int64  \n",
      " 1   MSID      355 non-null    object \n",
      " 2   distance  355 non-null    float64\n",
      "dtypes: float64(1), int64(1), object(1)\n",
      "memory usage: 8.4+ KB\n"
     ]
    }
   ],
   "source": [
    "disvu.info()"
   ]
  },
  {
   "cell_type": "code",
   "execution_count": 53,
   "id": "24fd08b9-7b70-4ec1-9c9d-5592edb581c3",
   "metadata": {
    "execution": {
     "iopub.execute_input": "2024-03-21T17:05:47.585973Z",
     "iopub.status.busy": "2024-03-21T17:05:47.585531Z",
     "iopub.status.idle": "2024-03-21T17:05:47.590554Z",
     "shell.execute_reply": "2024-03-21T17:05:47.590068Z",
     "shell.execute_reply.started": "2024-03-21T17:05:47.585957Z"
    }
   },
   "outputs": [],
   "source": [
    "disbu = disb[['Nr', 'fk_zaehler', 'distance']]\n",
    "disbu = disbu.drop_duplicates()"
   ]
  },
  {
   "cell_type": "code",
   "execution_count": 57,
   "id": "0a061dca-af6b-46fe-934b-0b0049bd9355",
   "metadata": {
    "execution": {
     "iopub.execute_input": "2024-03-21T17:06:59.177784Z",
     "iopub.status.busy": "2024-03-21T17:06:59.177505Z",
     "iopub.status.idle": "2024-03-21T17:06:59.182575Z",
     "shell.execute_reply": "2024-03-21T17:06:59.182003Z",
     "shell.execute_reply.started": "2024-03-21T17:06:59.177764Z"
    }
   },
   "outputs": [],
   "source": [
    "disvu = disv[['Nr', 'MSID', 'distance']]\n",
    "disvu = disvu.drop_duplicates()"
   ]
  },
  {
   "cell_type": "code",
   "execution_count": 62,
   "id": "e60fa865-d86f-452e-b576-6ea123954fc1",
   "metadata": {
    "execution": {
     "iopub.execute_input": "2024-03-21T17:09:23.342795Z",
     "iopub.status.busy": "2024-03-21T17:09:23.342509Z",
     "iopub.status.idle": "2024-03-21T17:09:23.346230Z",
     "shell.execute_reply": "2024-03-21T17:09:23.345602Z",
     "shell.execute_reply.started": "2024-03-21T17:09:23.342779Z"
    }
   },
   "outputs": [],
   "source": [
    "disbu = disbu.rename(columns = {'fk_zaehler': 'FK_ZAEHLER'})"
   ]
  },
  {
   "cell_type": "code",
   "execution_count": 65,
   "id": "53964ce2-7f9c-4577-a2f3-4f2c2bb3a30f",
   "metadata": {
    "execution": {
     "iopub.execute_input": "2024-03-21T17:12:22.646522Z",
     "iopub.status.busy": "2024-03-21T17:12:22.646250Z",
     "iopub.status.idle": "2024-03-21T17:12:22.664387Z",
     "shell.execute_reply": "2024-03-21T17:12:22.663925Z",
     "shell.execute_reply.started": "2024-03-21T17:12:22.646505Z"
    }
   },
   "outputs": [],
   "source": [
    "acc_bc1921 = ac_btc1921.merge(disbu, on = ['Nr','FK_ZAEHLER'])\n",
    "acc_vc1921 = ac_vtc1921.merge(disvu, on = ['Nr', 'MSID'])"
   ]
  },
  {
   "cell_type": "code",
   "execution_count": 68,
   "id": "e0decb97-8136-4c9d-93c5-ed29a2856676",
   "metadata": {
    "execution": {
     "iopub.execute_input": "2024-03-21T17:14:27.564394Z",
     "iopub.status.busy": "2024-03-21T17:14:27.564117Z",
     "iopub.status.idle": "2024-03-21T17:14:27.568244Z",
     "shell.execute_reply": "2024-03-21T17:14:27.567573Z",
     "shell.execute_reply.started": "2024-03-21T17:14:27.564377Z"
    }
   },
   "outputs": [
    {
     "name": "stdout",
     "output_type": "stream",
     "text": [
      "146 188\n"
     ]
    }
   ],
   "source": [
    "print(len(acc_bc1921['Nr'].unique()), len(acc_vc1921['Nr'].unique()))"
   ]
  },
  {
   "cell_type": "code",
   "execution_count": 74,
   "id": "c3388957-303c-4e21-bbf0-8c27a762c55a",
   "metadata": {
    "execution": {
     "iopub.execute_input": "2024-03-21T17:19:00.220104Z",
     "iopub.status.busy": "2024-03-21T17:19:00.219830Z",
     "iopub.status.idle": "2024-03-21T17:19:00.224454Z",
     "shell.execute_reply": "2024-03-21T17:19:00.223951Z",
     "shell.execute_reply.started": "2024-03-21T17:19:00.220087Z"
    }
   },
   "outputs": [
    {
     "data": {
      "text/plain": [
       "58"
      ]
     },
     "execution_count": 74,
     "metadata": {},
     "output_type": "execute_result"
    }
   ],
   "source": [
    "len(ac_btc1921['FK_ZAEHLER'].unique())"
   ]
  },
  {
   "cell_type": "code",
   "execution_count": 73,
   "id": "482ae379-82a4-4322-b114-19b7b72b0ad5",
   "metadata": {
    "execution": {
     "iopub.execute_input": "2024-03-21T17:18:58.123908Z",
     "iopub.status.busy": "2024-03-21T17:18:58.123365Z",
     "iopub.status.idle": "2024-03-21T17:18:58.127958Z",
     "shell.execute_reply": "2024-03-21T17:18:58.127359Z",
     "shell.execute_reply.started": "2024-03-21T17:18:58.123886Z"
    }
   },
   "outputs": [
    {
     "data": {
      "text/plain": [
       "70"
      ]
     },
     "execution_count": 73,
     "metadata": {},
     "output_type": "execute_result"
    }
   ],
   "source": [
    "len(disbu['FK_ZAEHLER'].unique())"
   ]
  },
  {
   "cell_type": "code",
   "execution_count": 78,
   "id": "3c1750bf-1de3-4b28-8a27-6d8302e8f230",
   "metadata": {
    "execution": {
     "iopub.execute_input": "2024-03-21T17:22:47.006431Z",
     "iopub.status.busy": "2024-03-21T17:22:47.006162Z",
     "iopub.status.idle": "2024-03-21T17:22:47.031631Z",
     "shell.execute_reply": "2024-03-21T17:22:47.031088Z",
     "shell.execute_reply.started": "2024-03-21T17:22:47.006414Z"
    }
   },
   "outputs": [],
   "source": [
    "acc_bc1921.to_csv('/home/yelhe/data/Traffic_network_variables/traffic_count/bicyclecount1921.csv')\n",
    "acc_vc1921.to_csv('/home/yelhe/data/Traffic_network_variables/traffic_count/carcount1921.csv')"
   ]
  },
  {
   "cell_type": "code",
   "execution_count": 76,
   "id": "703c4336-ecb6-4834-b2a2-d66f326a95a5",
   "metadata": {
    "execution": {
     "iopub.execute_input": "2024-03-21T17:21:45.875786Z",
     "iopub.status.busy": "2024-03-21T17:21:45.875236Z",
     "iopub.status.idle": "2024-03-21T17:21:45.883609Z",
     "shell.execute_reply": "2024-03-21T17:21:45.882998Z",
     "shell.execute_reply.started": "2024-03-21T17:21:45.875746Z"
    }
   },
   "outputs": [
    {
     "name": "stdout",
     "output_type": "stream",
     "text": [
      "<class 'pandas.core.frame.DataFrame'>\n",
      "RangeIndex: 155 entries, 0 to 154\n",
      "Data columns (total 14 columns):\n",
      " #   Column                 Non-Null Count  Dtype         \n",
      "---  ------                 --------------  -----         \n",
      " 0   Nr                     155 non-null    int64         \n",
      " 1   Datum                  155 non-null    datetime64[ns]\n",
      " 2   Zeit                   155 non-null    object        \n",
      " 3   year                   155 non-null    int32         \n",
      " 4   month                  155 non-null    int32         \n",
      " 5   day                    155 non-null    int32         \n",
      " 6   week                   155 non-null    UInt32        \n",
      " 7   FK_ZAEHLER             155 non-null    object        \n",
      " 8   bicycle_traffic_count  155 non-null    float64       \n",
      " 9   date                   155 non-null    object        \n",
      " 10  OST                    155 non-null    int64         \n",
      " 11  NORD                   155 non-null    int64         \n",
      " 12  bicycle_traffic_norm   155 non-null    float64       \n",
      " 13  distance               155 non-null    float64       \n",
      "dtypes: UInt32(1), datetime64[ns](1), float64(3), int32(3), int64(3), object(3)\n",
      "memory usage: 14.8+ KB\n"
     ]
    }
   ],
   "source": [
    "acc_bc1921.info()"
   ]
  },
  {
   "cell_type": "code",
   "execution_count": 77,
   "id": "ff643913-12df-4181-af13-3cd26c670105",
   "metadata": {
    "execution": {
     "iopub.execute_input": "2024-03-21T17:21:58.964354Z",
     "iopub.status.busy": "2024-03-21T17:21:58.964073Z",
     "iopub.status.idle": "2024-03-21T17:21:58.968811Z",
     "shell.execute_reply": "2024-03-21T17:21:58.968135Z",
     "shell.execute_reply.started": "2024-03-21T17:21:58.964335Z"
    }
   },
   "outputs": [
    {
     "data": {
      "text/plain": [
       "array([2020, 2021, 2019], dtype=int32)"
      ]
     },
     "execution_count": 77,
     "metadata": {},
     "output_type": "execute_result"
    }
   ],
   "source": [
    "acc_bc1921['year'].unique()"
   ]
  }
 ],
 "metadata": {
  "kernelspec": {
   "display_name": "Python 3 (ipykernel)",
   "language": "python",
   "name": "python3"
  },
  "language_info": {
   "codemirror_mode": {
    "name": "ipython",
    "version": 3
   },
   "file_extension": ".py",
   "mimetype": "text/x-python",
   "name": "python",
   "nbconvert_exporter": "python",
   "pygments_lexer": "ipython3",
   "version": "3.11.5"
  }
 },
 "nbformat": 4,
 "nbformat_minor": 5
}
