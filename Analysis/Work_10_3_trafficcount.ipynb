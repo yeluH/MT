{
 "cells": [
  {
   "cell_type": "code",
   "execution_count": 1,
   "id": "7e9f75d8-3be9-45ef-b9ae-ad72fefb7ce1",
   "metadata": {
    "execution": {
     "iopub.execute_input": "2024-04-25T01:17:06.702013Z",
     "iopub.status.busy": "2024-04-25T01:17:06.701284Z",
     "iopub.status.idle": "2024-04-25T01:17:08.418900Z",
     "shell.execute_reply": "2024-04-25T01:17:08.418216Z",
     "shell.execute_reply.started": "2024-04-25T01:17:06.701987Z"
    }
   },
   "outputs": [],
   "source": [
    "import torch\n",
    "torch.cuda.empty_cache() "
   ]
  },
  {
   "cell_type": "code",
   "execution_count": 2,
   "id": "f3e5fa71-37bd-4efe-b8ee-ae3c362b2a1b",
   "metadata": {
    "execution": {
     "iopub.execute_input": "2024-04-25T01:17:08.420890Z",
     "iopub.status.busy": "2024-04-25T01:17:08.420487Z",
     "iopub.status.idle": "2024-04-25T01:17:08.756439Z",
     "shell.execute_reply": "2024-04-25T01:17:08.755690Z",
     "shell.execute_reply.started": "2024-04-25T01:17:08.420859Z"
    }
   },
   "outputs": [],
   "source": [
    "import os \n",
    "os.environ['MPLCONFIGDIR'] = os.getcwd() + \"/configs/\"\n",
    "import matplotlib\n",
    "from matplotlib import pyplot as plt\n",
    "import numpy as np\n",
    "import cv2\n",
    "import urllib.request\n",
    "from PIL import Image"
   ]
  },
  {
   "cell_type": "code",
   "execution_count": 3,
   "id": "132db61a-9aa6-4936-8ab4-054288d07d2e",
   "metadata": {
    "execution": {
     "iopub.execute_input": "2024-04-25T01:17:08.757760Z",
     "iopub.status.busy": "2024-04-25T01:17:08.757452Z",
     "iopub.status.idle": "2024-04-25T01:17:09.254039Z",
     "shell.execute_reply": "2024-04-25T01:17:09.252646Z",
     "shell.execute_reply.started": "2024-04-25T01:17:08.757727Z"
    }
   },
   "outputs": [],
   "source": [
    "import pandas as pd\n",
    "import pyproj"
   ]
  },
  {
   "cell_type": "code",
   "execution_count": 4,
   "id": "80d61825-dc8d-4005-9362-cf497e771695",
   "metadata": {
    "execution": {
     "iopub.execute_input": "2024-04-25T01:17:09.258256Z",
     "iopub.status.busy": "2024-04-25T01:17:09.257587Z",
     "iopub.status.idle": "2024-04-25T01:17:09.265272Z",
     "shell.execute_reply": "2024-04-25T01:17:09.264415Z",
     "shell.execute_reply.started": "2024-04-25T01:17:09.258221Z"
    }
   },
   "outputs": [],
   "source": [
    "import os \n",
    "os.environ['MPLCONFIGDIR'] = os.getcwd() + \"/configs/\"\n",
    "import matplotlib\n",
    "from matplotlib import pyplot as plt\n",
    "import numpy as np\n",
    "import cv2"
   ]
  },
  {
   "cell_type": "code",
   "execution_count": 5,
   "id": "e6000c92-6b7e-4ee5-9c30-ac0dfed91840",
   "metadata": {
    "execution": {
     "iopub.execute_input": "2024-04-25T01:17:09.266707Z",
     "iopub.status.busy": "2024-04-25T01:17:09.266431Z",
     "iopub.status.idle": "2024-04-25T01:17:09.273429Z",
     "shell.execute_reply": "2024-04-25T01:17:09.272642Z",
     "shell.execute_reply.started": "2024-04-25T01:17:09.266680Z"
    }
   },
   "outputs": [],
   "source": [
    "from pathlib import Path"
   ]
  },
  {
   "cell_type": "code",
   "execution_count": 6,
   "id": "59dfb1fc-7192-4ae1-9df9-596320cc4875",
   "metadata": {
    "execution": {
     "iopub.execute_input": "2024-04-25T01:17:09.275226Z",
     "iopub.status.busy": "2024-04-25T01:17:09.274690Z",
     "iopub.status.idle": "2024-04-25T01:17:09.303072Z",
     "shell.execute_reply": "2024-04-25T01:17:09.302445Z",
     "shell.execute_reply.started": "2024-04-25T01:17:09.275198Z"
    }
   },
   "outputs": [],
   "source": [
    "import joblib"
   ]
  },
  {
   "cell_type": "code",
   "execution_count": 7,
   "id": "923fac26-61e2-49dd-9099-e31ff4079430",
   "metadata": {
    "execution": {
     "iopub.execute_input": "2024-04-25T01:17:09.304219Z",
     "iopub.status.busy": "2024-04-25T01:17:09.303973Z",
     "iopub.status.idle": "2024-04-25T01:17:09.612762Z",
     "shell.execute_reply": "2024-04-25T01:17:09.612094Z",
     "shell.execute_reply.started": "2024-04-25T01:17:09.304196Z"
    }
   },
   "outputs": [],
   "source": [
    "from mt_function_yl import *"
   ]
  },
  {
   "cell_type": "code",
   "execution_count": 8,
   "id": "8376ffe7-7aec-4e11-9f86-32619931952f",
   "metadata": {
    "execution": {
     "iopub.execute_input": "2024-04-25T01:17:09.614150Z",
     "iopub.status.busy": "2024-04-25T01:17:09.613665Z",
     "iopub.status.idle": "2024-04-25T01:17:09.733070Z",
     "shell.execute_reply": "2024-04-25T01:17:09.732409Z",
     "shell.execute_reply.started": "2024-04-25T01:17:09.614116Z"
    }
   },
   "outputs": [],
   "source": [
    "import seaborn as sn"
   ]
  },
  {
   "cell_type": "code",
   "execution_count": 9,
   "id": "78c65919-07d0-4aba-a8dc-87298c4b96d6",
   "metadata": {
    "execution": {
     "iopub.execute_input": "2024-04-25T01:17:09.734718Z",
     "iopub.status.busy": "2024-04-25T01:17:09.734276Z",
     "iopub.status.idle": "2024-04-25T01:17:09.738449Z",
     "shell.execute_reply": "2024-04-25T01:17:09.737321Z",
     "shell.execute_reply.started": "2024-04-25T01:17:09.734689Z"
    }
   },
   "outputs": [],
   "source": [
    "from scipy import stats"
   ]
  },
  {
   "cell_type": "code",
   "execution_count": 10,
   "id": "37ca928e-82c3-4ae7-a6c6-3f18c1c233ba",
   "metadata": {
    "execution": {
     "iopub.execute_input": "2024-04-25T01:17:09.741197Z",
     "iopub.status.busy": "2024-04-25T01:17:09.740718Z",
     "iopub.status.idle": "2024-04-25T01:17:09.750373Z",
     "shell.execute_reply": "2024-04-25T01:17:09.749642Z",
     "shell.execute_reply.started": "2024-04-25T01:17:09.741168Z"
    }
   },
   "outputs": [],
   "source": [
    "from tabulate import tabulate"
   ]
  },
  {
   "cell_type": "code",
   "execution_count": 11,
   "id": "b46d5518-dab4-4896-a3f7-7aa74a012e35",
   "metadata": {
    "execution": {
     "iopub.execute_input": "2024-04-25T01:17:09.751954Z",
     "iopub.status.busy": "2024-04-25T01:17:09.751515Z",
     "iopub.status.idle": "2024-04-25T01:17:10.134313Z",
     "shell.execute_reply": "2024-04-25T01:17:10.133655Z",
     "shell.execute_reply.started": "2024-04-25T01:17:09.751924Z"
    }
   },
   "outputs": [],
   "source": [
    "import statsmodels.api as sm"
   ]
  },
  {
   "cell_type": "markdown",
   "id": "11486eff-60e0-460e-a14b-9a0ab0628a50",
   "metadata": {},
   "source": [
    "### Data loading"
   ]
  },
  {
   "cell_type": "code",
   "execution_count": 12,
   "id": "bd1de1e5-d842-482d-9027-047b5690f2c0",
   "metadata": {
    "execution": {
     "iopub.execute_input": "2024-04-25T01:17:12.003164Z",
     "iopub.status.busy": "2024-04-25T01:17:12.002639Z",
     "iopub.status.idle": "2024-04-25T01:17:12.013925Z",
     "shell.execute_reply": "2024-04-25T01:17:12.013258Z",
     "shell.execute_reply.started": "2024-04-25T01:17:12.003138Z"
    }
   },
   "outputs": [],
   "source": [
    "aa = pd.read_csv('/home/yelhe/script/mt/dataraw/dfaa.csv')"
   ]
  },
  {
   "cell_type": "code",
   "execution_count": 13,
   "id": "00541c9d-0214-4d56-8069-2198a7b30e8c",
   "metadata": {
    "execution": {
     "iopub.execute_input": "2024-04-25T01:17:12.313488Z",
     "iopub.status.busy": "2024-04-25T01:17:12.312969Z",
     "iopub.status.idle": "2024-04-25T01:17:12.318480Z",
     "shell.execute_reply": "2024-04-25T01:17:12.317478Z",
     "shell.execute_reply.started": "2024-04-25T01:17:12.313459Z"
    }
   },
   "outputs": [],
   "source": [
    "atime = aa[['Nr', 'Datum', 'Zeit']]"
   ]
  },
  {
   "cell_type": "code",
   "execution_count": 14,
   "id": "b1abc280-aa0f-41ab-ba24-441a2e45802d",
   "metadata": {
    "execution": {
     "iopub.execute_input": "2024-04-25T01:17:14.157590Z",
     "iopub.status.busy": "2024-04-25T01:17:14.157152Z",
     "iopub.status.idle": "2024-04-25T01:17:14.167047Z",
     "shell.execute_reply": "2024-04-25T01:17:14.166246Z",
     "shell.execute_reply.started": "2024-04-25T01:17:14.157566Z"
    }
   },
   "outputs": [
    {
     "name": "stdout",
     "output_type": "stream",
     "text": [
      "<class 'pandas.core.frame.DataFrame'>\n",
      "RangeIndex: 350 entries, 0 to 349\n",
      "Data columns (total 3 columns):\n",
      " #   Column  Non-Null Count  Dtype \n",
      "---  ------  --------------  ----- \n",
      " 0   Nr      350 non-null    int64 \n",
      " 1   Datum   350 non-null    object\n",
      " 2   Zeit    350 non-null    object\n",
      "dtypes: int64(1), object(2)\n",
      "memory usage: 8.3+ KB\n"
     ]
    }
   ],
   "source": [
    "atime.info()"
   ]
  },
  {
   "cell_type": "code",
   "execution_count": 15,
   "id": "4d974faf-72b8-4a87-aea5-53f56a1ccec6",
   "metadata": {
    "execution": {
     "iopub.execute_input": "2024-04-25T01:17:14.465143Z",
     "iopub.status.busy": "2024-04-25T01:17:14.464667Z",
     "iopub.status.idle": "2024-04-25T01:17:14.479967Z",
     "shell.execute_reply": "2024-04-25T01:17:14.479006Z",
     "shell.execute_reply.started": "2024-04-25T01:17:14.465120Z"
    }
   },
   "outputs": [
    {
     "data": {
      "text/html": [
       "<div>\n",
       "<style scoped>\n",
       "    .dataframe tbody tr th:only-of-type {\n",
       "        vertical-align: middle;\n",
       "    }\n",
       "\n",
       "    .dataframe tbody tr th {\n",
       "        vertical-align: top;\n",
       "    }\n",
       "\n",
       "    .dataframe thead th {\n",
       "        text-align: right;\n",
       "    }\n",
       "</style>\n",
       "<table border=\"1\" class=\"dataframe\">\n",
       "  <thead>\n",
       "    <tr style=\"text-align: right;\">\n",
       "      <th></th>\n",
       "      <th>Nr</th>\n",
       "      <th>Datum</th>\n",
       "      <th>Zeit</th>\n",
       "    </tr>\n",
       "  </thead>\n",
       "  <tbody>\n",
       "    <tr>\n",
       "      <th>0</th>\n",
       "      <td>99900060852597</td>\n",
       "      <td>2022-05-29</td>\n",
       "      <td>00:10</td>\n",
       "    </tr>\n",
       "    <tr>\n",
       "      <th>1</th>\n",
       "      <td>99900063018611</td>\n",
       "      <td>2022-10-12</td>\n",
       "      <td>17:40</td>\n",
       "    </tr>\n",
       "    <tr>\n",
       "      <th>2</th>\n",
       "      <td>99900052723510</td>\n",
       "      <td>2020-10-26</td>\n",
       "      <td>16:50</td>\n",
       "    </tr>\n",
       "    <tr>\n",
       "      <th>3</th>\n",
       "      <td>99900061514043</td>\n",
       "      <td>2022-07-08</td>\n",
       "      <td>21:30</td>\n",
       "    </tr>\n",
       "    <tr>\n",
       "      <th>4</th>\n",
       "      <td>99900063037843</td>\n",
       "      <td>2022-10-13</td>\n",
       "      <td>19:40</td>\n",
       "    </tr>\n",
       "    <tr>\n",
       "      <th>...</th>\n",
       "      <td>...</td>\n",
       "      <td>...</td>\n",
       "      <td>...</td>\n",
       "    </tr>\n",
       "    <tr>\n",
       "      <th>345</th>\n",
       "      <td>99900055905276</td>\n",
       "      <td>2021-06-08</td>\n",
       "      <td>12:50</td>\n",
       "    </tr>\n",
       "    <tr>\n",
       "      <th>346</th>\n",
       "      <td>99900060670975</td>\n",
       "      <td>2022-05-16</td>\n",
       "      <td>14:42</td>\n",
       "    </tr>\n",
       "    <tr>\n",
       "      <th>347</th>\n",
       "      <td>99900047367168</td>\n",
       "      <td>2019-09-21</td>\n",
       "      <td>13:49</td>\n",
       "    </tr>\n",
       "    <tr>\n",
       "      <th>348</th>\n",
       "      <td>99900050714619</td>\n",
       "      <td>2020-06-06</td>\n",
       "      <td>16:37</td>\n",
       "    </tr>\n",
       "    <tr>\n",
       "      <th>349</th>\n",
       "      <td>99900060734330</td>\n",
       "      <td>2022-05-18</td>\n",
       "      <td>16:30</td>\n",
       "    </tr>\n",
       "  </tbody>\n",
       "</table>\n",
       "<p>350 rows × 3 columns</p>\n",
       "</div>"
      ],
      "text/plain": [
       "                 Nr       Datum   Zeit\n",
       "0    99900060852597  2022-05-29  00:10\n",
       "1    99900063018611  2022-10-12  17:40\n",
       "2    99900052723510  2020-10-26  16:50\n",
       "3    99900061514043  2022-07-08  21:30\n",
       "4    99900063037843  2022-10-13  19:40\n",
       "..              ...         ...    ...\n",
       "345  99900055905276  2021-06-08  12:50\n",
       "346  99900060670975  2022-05-16  14:42\n",
       "347  99900047367168  2019-09-21  13:49\n",
       "348  99900050714619  2020-06-06  16:37\n",
       "349  99900060734330  2022-05-18  16:30\n",
       "\n",
       "[350 rows x 3 columns]"
      ]
     },
     "execution_count": 15,
     "metadata": {},
     "output_type": "execute_result"
    }
   ],
   "source": [
    "atime"
   ]
  },
  {
   "cell_type": "code",
   "execution_count": 18,
   "id": "49902256-4207-440c-aa6c-3c15bfc64727",
   "metadata": {
    "execution": {
     "iopub.execute_input": "2024-04-25T01:17:33.182305Z",
     "iopub.status.busy": "2024-04-25T01:17:33.181985Z",
     "iopub.status.idle": "2024-04-25T01:17:33.189719Z",
     "shell.execute_reply": "2024-04-25T01:17:33.188753Z",
     "shell.execute_reply.started": "2024-04-25T01:17:33.182281Z"
    }
   },
   "outputs": [
    {
     "name": "stderr",
     "output_type": "stream",
     "text": [
      "/sctmp/yelhe/ipykernel_2209311/4151679598.py:1: SettingWithCopyWarning: \n",
      "A value is trying to be set on a copy of a slice from a DataFrame.\n",
      "Try using .loc[row_indexer,col_indexer] = value instead\n",
      "\n",
      "See the caveats in the documentation: https://pandas.pydata.org/pandas-docs/stable/user_guide/indexing.html#returning-a-view-versus-a-copy\n",
      "  atime.loc[:, 'Date'] = pd.to_datetime(atime.loc[:, 'Datum'], format = \"%Y-%m-%d\")\n"
     ]
    }
   ],
   "source": [
    "atime.loc[:, 'Date'] = pd.to_datetime(atime.loc[:, 'Datum'], format = \"%Y-%m-%d\")"
   ]
  },
  {
   "cell_type": "code",
   "execution_count": 19,
   "id": "6b10e93e-fafc-4219-a93a-137787e05a89",
   "metadata": {
    "execution": {
     "iopub.execute_input": "2024-04-25T01:17:33.489543Z",
     "iopub.status.busy": "2024-04-25T01:17:33.489093Z",
     "iopub.status.idle": "2024-04-25T01:17:33.497408Z",
     "shell.execute_reply": "2024-04-25T01:17:33.496643Z",
     "shell.execute_reply.started": "2024-04-25T01:17:33.489519Z"
    }
   },
   "outputs": [
    {
     "name": "stderr",
     "output_type": "stream",
     "text": [
      "/sctmp/yelhe/ipykernel_2209311/2869189422.py:1: SettingWithCopyWarning: \n",
      "A value is trying to be set on a copy of a slice from a DataFrame.\n",
      "Try using .loc[row_indexer,col_indexer] = value instead\n",
      "\n",
      "See the caveats in the documentation: https://pandas.pydata.org/pandas-docs/stable/user_guide/indexing.html#returning-a-view-versus-a-copy\n",
      "  atime.loc[:,'year'] = atime.loc[:,'Date'].dt.year\n",
      "/sctmp/yelhe/ipykernel_2209311/2869189422.py:2: SettingWithCopyWarning: \n",
      "A value is trying to be set on a copy of a slice from a DataFrame.\n",
      "Try using .loc[row_indexer,col_indexer] = value instead\n",
      "\n",
      "See the caveats in the documentation: https://pandas.pydata.org/pandas-docs/stable/user_guide/indexing.html#returning-a-view-versus-a-copy\n",
      "  atime.loc[:,'month'] = atime.loc[:,'Date'].dt.month\n",
      "/sctmp/yelhe/ipykernel_2209311/2869189422.py:3: SettingWithCopyWarning: \n",
      "A value is trying to be set on a copy of a slice from a DataFrame.\n",
      "Try using .loc[row_indexer,col_indexer] = value instead\n",
      "\n",
      "See the caveats in the documentation: https://pandas.pydata.org/pandas-docs/stable/user_guide/indexing.html#returning-a-view-versus-a-copy\n",
      "  atime.loc[:,'day'] = atime.loc[:,'Date'].dt.day\n"
     ]
    }
   ],
   "source": [
    "atime.loc[:,'year'] = atime.loc[:,'Date'].dt.year\n",
    "atime.loc[:,'month'] = atime.loc[:,'Date'].dt.month\n",
    "atime.loc[:,'day'] = atime.loc[:,'Date'].dt.day"
   ]
  },
  {
   "cell_type": "code",
   "execution_count": 20,
   "id": "ec400c5b-fb58-4970-b2de-aac26872401a",
   "metadata": {
    "execution": {
     "iopub.execute_input": "2024-04-25T01:17:35.654078Z",
     "iopub.status.busy": "2024-04-25T01:17:35.653766Z",
     "iopub.status.idle": "2024-04-25T01:17:35.674540Z",
     "shell.execute_reply": "2024-04-25T01:17:35.673345Z",
     "shell.execute_reply.started": "2024-04-25T01:17:35.654057Z"
    }
   },
   "outputs": [
    {
     "data": {
      "text/html": [
       "<div>\n",
       "<style scoped>\n",
       "    .dataframe tbody tr th:only-of-type {\n",
       "        vertical-align: middle;\n",
       "    }\n",
       "\n",
       "    .dataframe tbody tr th {\n",
       "        vertical-align: top;\n",
       "    }\n",
       "\n",
       "    .dataframe thead th {\n",
       "        text-align: right;\n",
       "    }\n",
       "</style>\n",
       "<table border=\"1\" class=\"dataframe\">\n",
       "  <thead>\n",
       "    <tr style=\"text-align: right;\">\n",
       "      <th></th>\n",
       "      <th>Nr</th>\n",
       "      <th>Datum</th>\n",
       "      <th>Zeit</th>\n",
       "      <th>Date</th>\n",
       "      <th>year</th>\n",
       "      <th>month</th>\n",
       "      <th>day</th>\n",
       "    </tr>\n",
       "  </thead>\n",
       "  <tbody>\n",
       "    <tr>\n",
       "      <th>0</th>\n",
       "      <td>99900060852597</td>\n",
       "      <td>2022-05-29 00:00:00</td>\n",
       "      <td>00:10</td>\n",
       "      <td>2022-05-29</td>\n",
       "      <td>2022</td>\n",
       "      <td>5</td>\n",
       "      <td>29</td>\n",
       "    </tr>\n",
       "    <tr>\n",
       "      <th>1</th>\n",
       "      <td>99900063018611</td>\n",
       "      <td>2022-10-12 00:00:00</td>\n",
       "      <td>17:40</td>\n",
       "      <td>2022-10-12</td>\n",
       "      <td>2022</td>\n",
       "      <td>10</td>\n",
       "      <td>12</td>\n",
       "    </tr>\n",
       "    <tr>\n",
       "      <th>2</th>\n",
       "      <td>99900052723510</td>\n",
       "      <td>2020-10-26 00:00:00</td>\n",
       "      <td>16:50</td>\n",
       "      <td>2020-10-26</td>\n",
       "      <td>2020</td>\n",
       "      <td>10</td>\n",
       "      <td>26</td>\n",
       "    </tr>\n",
       "    <tr>\n",
       "      <th>3</th>\n",
       "      <td>99900061514043</td>\n",
       "      <td>2022-07-08 00:00:00</td>\n",
       "      <td>21:30</td>\n",
       "      <td>2022-07-08</td>\n",
       "      <td>2022</td>\n",
       "      <td>7</td>\n",
       "      <td>8</td>\n",
       "    </tr>\n",
       "    <tr>\n",
       "      <th>4</th>\n",
       "      <td>99900063037843</td>\n",
       "      <td>2022-10-13 00:00:00</td>\n",
       "      <td>19:40</td>\n",
       "      <td>2022-10-13</td>\n",
       "      <td>2022</td>\n",
       "      <td>10</td>\n",
       "      <td>13</td>\n",
       "    </tr>\n",
       "    <tr>\n",
       "      <th>...</th>\n",
       "      <td>...</td>\n",
       "      <td>...</td>\n",
       "      <td>...</td>\n",
       "      <td>...</td>\n",
       "      <td>...</td>\n",
       "      <td>...</td>\n",
       "      <td>...</td>\n",
       "    </tr>\n",
       "    <tr>\n",
       "      <th>345</th>\n",
       "      <td>99900055905276</td>\n",
       "      <td>2021-06-08 00:00:00</td>\n",
       "      <td>12:50</td>\n",
       "      <td>2021-06-08</td>\n",
       "      <td>2021</td>\n",
       "      <td>6</td>\n",
       "      <td>8</td>\n",
       "    </tr>\n",
       "    <tr>\n",
       "      <th>346</th>\n",
       "      <td>99900060670975</td>\n",
       "      <td>2022-05-16 00:00:00</td>\n",
       "      <td>14:42</td>\n",
       "      <td>2022-05-16</td>\n",
       "      <td>2022</td>\n",
       "      <td>5</td>\n",
       "      <td>16</td>\n",
       "    </tr>\n",
       "    <tr>\n",
       "      <th>347</th>\n",
       "      <td>99900047367168</td>\n",
       "      <td>2019-09-21 00:00:00</td>\n",
       "      <td>13:49</td>\n",
       "      <td>2019-09-21</td>\n",
       "      <td>2019</td>\n",
       "      <td>9</td>\n",
       "      <td>21</td>\n",
       "    </tr>\n",
       "    <tr>\n",
       "      <th>348</th>\n",
       "      <td>99900050714619</td>\n",
       "      <td>2020-06-06 00:00:00</td>\n",
       "      <td>16:37</td>\n",
       "      <td>2020-06-06</td>\n",
       "      <td>2020</td>\n",
       "      <td>6</td>\n",
       "      <td>6</td>\n",
       "    </tr>\n",
       "    <tr>\n",
       "      <th>349</th>\n",
       "      <td>99900060734330</td>\n",
       "      <td>2022-05-18 00:00:00</td>\n",
       "      <td>16:30</td>\n",
       "      <td>2022-05-18</td>\n",
       "      <td>2022</td>\n",
       "      <td>5</td>\n",
       "      <td>18</td>\n",
       "    </tr>\n",
       "  </tbody>\n",
       "</table>\n",
       "<p>350 rows × 7 columns</p>\n",
       "</div>"
      ],
      "text/plain": [
       "                 Nr                Datum   Zeit       Date  year  month  day\n",
       "0    99900060852597  2022-05-29 00:00:00  00:10 2022-05-29  2022      5   29\n",
       "1    99900063018611  2022-10-12 00:00:00  17:40 2022-10-12  2022     10   12\n",
       "2    99900052723510  2020-10-26 00:00:00  16:50 2020-10-26  2020     10   26\n",
       "3    99900061514043  2022-07-08 00:00:00  21:30 2022-07-08  2022      7    8\n",
       "4    99900063037843  2022-10-13 00:00:00  19:40 2022-10-13  2022     10   13\n",
       "..              ...                  ...    ...        ...   ...    ...  ...\n",
       "345  99900055905276  2021-06-08 00:00:00  12:50 2021-06-08  2021      6    8\n",
       "346  99900060670975  2022-05-16 00:00:00  14:42 2022-05-16  2022      5   16\n",
       "347  99900047367168  2019-09-21 00:00:00  13:49 2019-09-21  2019      9   21\n",
       "348  99900050714619  2020-06-06 00:00:00  16:37 2020-06-06  2020      6    6\n",
       "349  99900060734330  2022-05-18 00:00:00  16:30 2022-05-18  2022      5   18\n",
       "\n",
       "[350 rows x 7 columns]"
      ]
     },
     "execution_count": 20,
     "metadata": {},
     "output_type": "execute_result"
    }
   ],
   "source": [
    "atime"
   ]
  },
  {
   "cell_type": "code",
   "execution_count": 22,
   "id": "95429c25-e9ec-4cf7-b6b2-6836862444e6",
   "metadata": {
    "execution": {
     "iopub.execute_input": "2024-04-25T01:17:46.123018Z",
     "iopub.status.busy": "2024-04-25T01:17:46.122561Z",
     "iopub.status.idle": "2024-04-25T01:17:46.129290Z",
     "shell.execute_reply": "2024-04-25T01:17:46.128513Z",
     "shell.execute_reply.started": "2024-04-25T01:17:46.122996Z"
    }
   },
   "outputs": [
    {
     "name": "stderr",
     "output_type": "stream",
     "text": [
      "/sctmp/yelhe/ipykernel_2209311/1387979514.py:1: SettingWithCopyWarning: \n",
      "A value is trying to be set on a copy of a slice from a DataFrame.\n",
      "Try using .loc[row_indexer,col_indexer] = value instead\n",
      "\n",
      "See the caveats in the documentation: https://pandas.pydata.org/pandas-docs/stable/user_guide/indexing.html#returning-a-view-versus-a-copy\n",
      "  atime.loc[:,'week'] = atime.loc[:,'Date'].dt.isocalendar().week\n"
     ]
    }
   ],
   "source": [
    "atime.loc[:,'week'] = atime.loc[:,'Date'].dt.isocalendar().week"
   ]
  },
  {
   "cell_type": "code",
   "execution_count": 23,
   "id": "56f0e7dd-d82b-40f1-be2b-23d98e5e7501",
   "metadata": {
    "execution": {
     "iopub.execute_input": "2024-04-25T01:17:49.245597Z",
     "iopub.status.busy": "2024-04-25T01:17:49.245113Z",
     "iopub.status.idle": "2024-04-25T01:17:49.252064Z",
     "shell.execute_reply": "2024-04-25T01:17:49.251393Z",
     "shell.execute_reply.started": "2024-04-25T01:17:49.245574Z"
    }
   },
   "outputs": [],
   "source": [
    "atimegroup = atime.groupby(['year']).size().reset_index().rename(columns={0:'count'})"
   ]
  },
  {
   "cell_type": "code",
   "execution_count": 24,
   "id": "d6f5daca-c5e8-43f1-bed7-eb987ca4e19d",
   "metadata": {
    "execution": {
     "iopub.execute_input": "2024-04-25T01:17:49.611552Z",
     "iopub.status.busy": "2024-04-25T01:17:49.611047Z",
     "iopub.status.idle": "2024-04-25T01:17:49.617930Z",
     "shell.execute_reply": "2024-04-25T01:17:49.617213Z",
     "shell.execute_reply.started": "2024-04-25T01:17:49.611524Z"
    }
   },
   "outputs": [
    {
     "data": {
      "text/html": [
       "<div>\n",
       "<style scoped>\n",
       "    .dataframe tbody tr th:only-of-type {\n",
       "        vertical-align: middle;\n",
       "    }\n",
       "\n",
       "    .dataframe tbody tr th {\n",
       "        vertical-align: top;\n",
       "    }\n",
       "\n",
       "    .dataframe thead th {\n",
       "        text-align: right;\n",
       "    }\n",
       "</style>\n",
       "<table border=\"1\" class=\"dataframe\">\n",
       "  <thead>\n",
       "    <tr style=\"text-align: right;\">\n",
       "      <th></th>\n",
       "      <th>year</th>\n",
       "      <th>count</th>\n",
       "    </tr>\n",
       "  </thead>\n",
       "  <tbody>\n",
       "    <tr>\n",
       "      <th>0</th>\n",
       "      <td>2019</td>\n",
       "      <td>48</td>\n",
       "    </tr>\n",
       "    <tr>\n",
       "      <th>1</th>\n",
       "      <td>2020</td>\n",
       "      <td>74</td>\n",
       "    </tr>\n",
       "    <tr>\n",
       "      <th>2</th>\n",
       "      <td>2021</td>\n",
       "      <td>91</td>\n",
       "    </tr>\n",
       "    <tr>\n",
       "      <th>3</th>\n",
       "      <td>2022</td>\n",
       "      <td>137</td>\n",
       "    </tr>\n",
       "  </tbody>\n",
       "</table>\n",
       "</div>"
      ],
      "text/plain": [
       "   year  count\n",
       "0  2019     48\n",
       "1  2020     74\n",
       "2  2021     91\n",
       "3  2022    137"
      ]
     },
     "execution_count": 24,
     "metadata": {},
     "output_type": "execute_result"
    }
   ],
   "source": [
    "atimegroup"
   ]
  },
  {
   "cell_type": "code",
   "execution_count": 26,
   "id": "50d7158c-6c53-46da-91fb-0dd912c3d470",
   "metadata": {
    "execution": {
     "iopub.execute_input": "2024-04-25T01:19:23.689154Z",
     "iopub.status.busy": "2024-04-25T01:19:23.688797Z",
     "iopub.status.idle": "2024-04-25T01:19:23.748540Z",
     "shell.execute_reply": "2024-04-25T01:19:23.747885Z",
     "shell.execute_reply.started": "2024-04-25T01:19:23.689127Z"
    }
   },
   "outputs": [],
   "source": [
    "# Traffic Count bicycle\n",
    "btc19 = pd.read_csv('/home/yelhe/data/Traffic_network_variables/traffic_count/bicycle_traffic_count_2019.csv')\n",
    "btc20 = pd.read_csv('/home/yelhe/data/Traffic_network_variables/traffic_count/bicycle_traffic_count_2020.csv')\n",
    "btc21 = pd.read_csv('/home/yelhe/data/Traffic_network_variables/traffic_count/bicycle_traffic_count_2021.csv')\n",
    "# btc22\n",
    "btc22 = pd.read_csv('/home/yelhe/script/mt/output/bic_tc_2022_new.csv')\n",
    "\n",
    "# Traffic count car\n",
    "vtc19 = pd.read_csv('/home/yelhe/data/Traffic_network_variables/traffic_count/car_traffic_count_2019.csv')\n",
    "vtc20 = pd.read_csv('/home/yelhe/data/Traffic_network_variables/traffic_count/car_traffic_count_2020.csv')\n",
    "vtc21 = pd.read_csv('/home/yelhe/data/Traffic_network_variables/traffic_count/car_traffic_count_2021.csv')\n",
    "# vtc22\n",
    "vtc22 = pd.read_csv('/home/yelhe/script/mt/output/car_tc_2022.csv')"
   ]
  },
  {
   "cell_type": "code",
   "execution_count": 35,
   "id": "568c13ce-6561-4a2d-8aaa-03c2b2754ce4",
   "metadata": {
    "execution": {
     "iopub.execute_input": "2024-04-25T01:24:46.401762Z",
     "iopub.status.busy": "2024-04-25T01:24:46.401416Z",
     "iopub.status.idle": "2024-04-25T01:24:46.412807Z",
     "shell.execute_reply": "2024-04-25T01:24:46.411930Z",
     "shell.execute_reply.started": "2024-04-25T01:24:46.401741Z"
    }
   },
   "outputs": [
    {
     "name": "stdout",
     "output_type": "stream",
     "text": [
      "<class 'pandas.core.frame.DataFrame'>\n",
      "RangeIndex: 9663 entries, 0 to 9662\n",
      "Data columns (total 9 columns):\n",
      " #   Column             Non-Null Count  Dtype  \n",
      "---  ------             --------------  -----  \n",
      " 0   MSID               9663 non-null   object \n",
      " 1   week               9663 non-null   int64  \n",
      " 2   car_traffic_count  9663 non-null   int64  \n",
      " 3   month              9663 non-null   int64  \n",
      " 4   date               9663 non-null   object \n",
      " 5   year               9663 non-null   int64  \n",
      " 6   OST                9663 non-null   float64\n",
      " 7   NORD               9663 non-null   float64\n",
      " 8   car_traffic_norm   9663 non-null   float64\n",
      "dtypes: float64(3), int64(4), object(2)\n",
      "memory usage: 679.6+ KB\n"
     ]
    }
   ],
   "source": [
    "vtc19.info()"
   ]
  },
  {
   "cell_type": "code",
   "execution_count": 38,
   "id": "19c0ace8-48a0-42b2-a849-92ef09ece20e",
   "metadata": {
    "execution": {
     "iopub.execute_input": "2024-04-25T01:26:24.360092Z",
     "iopub.status.busy": "2024-04-25T01:26:24.359535Z",
     "iopub.status.idle": "2024-04-25T01:26:24.365672Z",
     "shell.execute_reply": "2024-04-25T01:26:24.364975Z",
     "shell.execute_reply.started": "2024-04-25T01:26:24.360064Z"
    }
   },
   "outputs": [],
   "source": [
    "btc22_0 = btc22.drop(['FK_STANDORT'], axis = 1)\n",
    "btc22_0 = btc22_0.rename(columns = {'velo':'bicycle_traffic_count',\n",
    "                                    'fk_zaehler':'FK_ZAEHLER'})"
   ]
  },
  {
   "cell_type": "code",
   "execution_count": 39,
   "id": "8eb0137f-8adf-489d-b263-5e2b735f793b",
   "metadata": {
    "execution": {
     "iopub.execute_input": "2024-04-25T01:26:25.052509Z",
     "iopub.status.busy": "2024-04-25T01:26:25.052122Z",
     "iopub.status.idle": "2024-04-25T01:26:25.060889Z",
     "shell.execute_reply": "2024-04-25T01:26:25.060108Z",
     "shell.execute_reply.started": "2024-04-25T01:26:25.052485Z"
    }
   },
   "outputs": [],
   "source": [
    "btc = pd.concat([btc19, btc20, btc21, btc22_0])\n",
    "# btc1921 = pd.concat([btc19, btc20, btc21])\n",
    "# vtc1921 = pd.concat([vtc19, vtc20, vtc21])"
   ]
  },
  {
   "cell_type": "code",
   "execution_count": 40,
   "id": "a0f4fdec-5d76-42d1-bcfa-016ce1e0d82b",
   "metadata": {
    "execution": {
     "iopub.execute_input": "2024-04-25T01:26:27.002073Z",
     "iopub.status.busy": "2024-04-25T01:26:27.001649Z",
     "iopub.status.idle": "2024-04-25T01:26:27.015113Z",
     "shell.execute_reply": "2024-04-25T01:26:27.014322Z",
     "shell.execute_reply.started": "2024-04-25T01:26:27.002046Z"
    }
   },
   "outputs": [
    {
     "name": "stdout",
     "output_type": "stream",
     "text": [
      "<class 'pandas.core.frame.DataFrame'>\n",
      "Index: 7946 entries, 0 to 2169\n",
      "Data columns (total 9 columns):\n",
      " #   Column                 Non-Null Count  Dtype  \n",
      "---  ------                 --------------  -----  \n",
      " 0   FK_ZAEHLER             7946 non-null   object \n",
      " 1   week                   7946 non-null   int64  \n",
      " 2   bicycle_traffic_count  7946 non-null   float64\n",
      " 3   month                  7946 non-null   int64  \n",
      " 4   date                   5776 non-null   object \n",
      " 5   year                   7946 non-null   int64  \n",
      " 6   OST                    5776 non-null   float64\n",
      " 7   NORD                   5776 non-null   float64\n",
      " 8   bicycle_traffic_norm   5776 non-null   float64\n",
      "dtypes: float64(4), int64(3), object(2)\n",
      "memory usage: 620.8+ KB\n"
     ]
    }
   ],
   "source": [
    "btc.info()"
   ]
  },
  {
   "cell_type": "code",
   "execution_count": 41,
   "id": "b8b5182d-bf0b-4458-895c-a529757e5aae",
   "metadata": {
    "execution": {
     "iopub.execute_input": "2024-04-25T01:26:58.054118Z",
     "iopub.status.busy": "2024-04-25T01:26:58.053330Z",
     "iopub.status.idle": "2024-04-25T01:26:58.058623Z",
     "shell.execute_reply": "2024-04-25T01:26:58.057841Z",
     "shell.execute_reply.started": "2024-04-25T01:26:58.054085Z"
    }
   },
   "outputs": [],
   "source": [
    "vtc22_0 = vtc22.rename(columns = {'AnzFahrzeuge':'car_traffic_count'})"
   ]
  },
  {
   "cell_type": "code",
   "execution_count": 42,
   "id": "f311cacc-3a35-4229-87fb-024bcf66fc3f",
   "metadata": {
    "execution": {
     "iopub.execute_input": "2024-04-25T01:27:01.705821Z",
     "iopub.status.busy": "2024-04-25T01:27:01.705472Z",
     "iopub.status.idle": "2024-04-25T01:27:01.716832Z",
     "shell.execute_reply": "2024-04-25T01:27:01.715986Z",
     "shell.execute_reply.started": "2024-04-25T01:27:01.705798Z"
    }
   },
   "outputs": [],
   "source": [
    "vtc = pd.concat([vtc19, vtc20, vtc21, vtc22_0])"
   ]
  },
  {
   "cell_type": "code",
   "execution_count": 43,
   "id": "a4160191-7bf3-47ae-a498-bbf495f33483",
   "metadata": {
    "execution": {
     "iopub.execute_input": "2024-04-25T01:27:14.370263Z",
     "iopub.status.busy": "2024-04-25T01:27:14.369727Z",
     "iopub.status.idle": "2024-04-25T01:27:14.383335Z",
     "shell.execute_reply": "2024-04-25T01:27:14.382602Z",
     "shell.execute_reply.started": "2024-04-25T01:27:14.370239Z"
    }
   },
   "outputs": [
    {
     "name": "stdout",
     "output_type": "stream",
     "text": [
      "<class 'pandas.core.frame.DataFrame'>\n",
      "Index: 40239 entries, 0 to 11465\n",
      "Data columns (total 9 columns):\n",
      " #   Column             Non-Null Count  Dtype  \n",
      "---  ------             --------------  -----  \n",
      " 0   MSID               40239 non-null  object \n",
      " 1   week               40239 non-null  int64  \n",
      " 2   car_traffic_count  40239 non-null  float64\n",
      " 3   month              40239 non-null  int64  \n",
      " 4   date               28773 non-null  object \n",
      " 5   year               40239 non-null  int64  \n",
      " 6   OST                28773 non-null  float64\n",
      " 7   NORD               28773 non-null  float64\n",
      " 8   car_traffic_norm   28773 non-null  float64\n",
      "dtypes: float64(4), int64(3), object(2)\n",
      "memory usage: 3.1+ MB\n"
     ]
    }
   ],
   "source": [
    "vtc.info()"
   ]
  },
  {
   "cell_type": "code",
   "execution_count": 71,
   "id": "bc178f3d-0d9b-449e-adb0-7497aa442656",
   "metadata": {
    "execution": {
     "iopub.execute_input": "2024-04-25T01:40:31.775565Z",
     "iopub.status.busy": "2024-04-25T01:40:31.775250Z",
     "iopub.status.idle": "2024-04-25T01:40:31.784436Z",
     "shell.execute_reply": "2024-04-25T01:40:31.783674Z",
     "shell.execute_reply.started": "2024-04-25T01:40:31.775540Z"
    }
   },
   "outputs": [
    {
     "name": "stdout",
     "output_type": "stream",
     "text": [
      "<class 'pandas.core.frame.DataFrame'>\n",
      "RangeIndex: 350 entries, 0 to 349\n",
      "Data columns (total 8 columns):\n",
      " #   Column  Non-Null Count  Dtype         \n",
      "---  ------  --------------  -----         \n",
      " 0   Nr      350 non-null    int64         \n",
      " 1   Datum   350 non-null    object        \n",
      " 2   Zeit    350 non-null    object        \n",
      " 3   Date    350 non-null    datetime64[ns]\n",
      " 4   year    350 non-null    int32         \n",
      " 5   month   350 non-null    int32         \n",
      " 6   day     350 non-null    int32         \n",
      " 7   week    350 non-null    UInt32        \n",
      "dtypes: UInt32(1), datetime64[ns](1), int32(3), int64(1), object(2)\n",
      "memory usage: 16.9+ KB\n"
     ]
    }
   ],
   "source": [
    "atime.info()"
   ]
  },
  {
   "cell_type": "code",
   "execution_count": 72,
   "id": "0fb6f3b3-a98c-4bc3-a4a8-72f74e8ba37f",
   "metadata": {
    "execution": {
     "iopub.execute_input": "2024-04-25T01:40:49.888661Z",
     "iopub.status.busy": "2024-04-25T01:40:49.888373Z",
     "iopub.status.idle": "2024-04-25T01:40:49.930571Z",
     "shell.execute_reply": "2024-04-25T01:40:49.929852Z",
     "shell.execute_reply.started": "2024-04-25T01:40:49.888642Z"
    }
   },
   "outputs": [],
   "source": [
    "ac_btc = atime.merge(btc, how = 'left', on = ['year', 'month', 'week'])\n",
    "ac_vtc = atime.merge(vtc, how = 'left', on = ['year', 'month', 'week'])"
   ]
  },
  {
   "cell_type": "code",
   "execution_count": 46,
   "id": "4d6eab60-ae05-4c21-a586-6007e318e1c4",
   "metadata": {
    "execution": {
     "iopub.execute_input": "2024-04-25T01:27:58.594681Z",
     "iopub.status.busy": "2024-04-25T01:27:58.594287Z",
     "iopub.status.idle": "2024-04-25T01:27:58.612388Z",
     "shell.execute_reply": "2024-04-25T01:27:58.611710Z",
     "shell.execute_reply.started": "2024-04-25T01:27:58.594655Z"
    }
   },
   "outputs": [],
   "source": [
    "# Shortest distance file\n",
    "disb = pd.read_csv('/home/yelhe/data/Traffic_network_variables/acc_bicyclecount.csv') \n",
    "disv = pd.read_csv('/home/yelhe/data/Traffic_network_variables/acc_carcount.csv') "
   ]
  },
  {
   "cell_type": "code",
   "execution_count": 48,
   "id": "24fd08b9-7b70-4ec1-9c9d-5592edb581c3",
   "metadata": {
    "execution": {
     "iopub.execute_input": "2024-04-25T01:28:26.729168Z",
     "iopub.status.busy": "2024-04-25T01:28:26.728516Z",
     "iopub.status.idle": "2024-04-25T01:28:26.734916Z",
     "shell.execute_reply": "2024-04-25T01:28:26.734274Z",
     "shell.execute_reply.started": "2024-04-25T01:28:26.729146Z"
    }
   },
   "outputs": [],
   "source": [
    "disbu = disb[['Nr', 'fk_zaehler', 'distance']]\n",
    "disbu = disbu.drop_duplicates()"
   ]
  },
  {
   "cell_type": "code",
   "execution_count": 49,
   "id": "0a061dca-af6b-46fe-934b-0b0049bd9355",
   "metadata": {
    "execution": {
     "iopub.execute_input": "2024-04-25T01:28:28.385094Z",
     "iopub.status.busy": "2024-04-25T01:28:28.384647Z",
     "iopub.status.idle": "2024-04-25T01:28:28.390663Z",
     "shell.execute_reply": "2024-04-25T01:28:28.389860Z",
     "shell.execute_reply.started": "2024-04-25T01:28:28.385072Z"
    }
   },
   "outputs": [],
   "source": [
    "disvu = disv[['Nr', 'MSID', 'distance']]\n",
    "disvu = disvu.drop_duplicates()"
   ]
  },
  {
   "cell_type": "code",
   "execution_count": 50,
   "id": "e60fa865-d86f-452e-b576-6ea123954fc1",
   "metadata": {
    "execution": {
     "iopub.execute_input": "2024-04-25T01:28:30.188883Z",
     "iopub.status.busy": "2024-04-25T01:28:30.188575Z",
     "iopub.status.idle": "2024-04-25T01:28:30.192525Z",
     "shell.execute_reply": "2024-04-25T01:28:30.191865Z",
     "shell.execute_reply.started": "2024-04-25T01:28:30.188864Z"
    }
   },
   "outputs": [],
   "source": [
    "disbu = disbu.rename(columns = {'fk_zaehler': 'FK_ZAEHLER'})"
   ]
  },
  {
   "cell_type": "code",
   "execution_count": 73,
   "id": "8758323a-b392-4903-804d-01c57f5ba41c",
   "metadata": {
    "execution": {
     "iopub.execute_input": "2024-04-25T01:40:56.688698Z",
     "iopub.status.busy": "2024-04-25T01:40:56.688273Z",
     "iopub.status.idle": "2024-04-25T01:40:56.694269Z",
     "shell.execute_reply": "2024-04-25T01:40:56.693658Z",
     "shell.execute_reply.started": "2024-04-25T01:40:56.688677Z"
    }
   },
   "outputs": [
    {
     "data": {
      "text/plain": [
       "350"
      ]
     },
     "execution_count": 73,
     "metadata": {},
     "output_type": "execute_result"
    }
   ],
   "source": [
    "len(ac_vtc['Nr'].unique())"
   ]
  },
  {
   "cell_type": "code",
   "execution_count": 82,
   "id": "53964ce2-7f9c-4577-a2f3-4f2c2bb3a30f",
   "metadata": {
    "execution": {
     "iopub.execute_input": "2024-04-25T01:56:50.433014Z",
     "iopub.status.busy": "2024-04-25T01:56:50.432693Z",
     "iopub.status.idle": "2024-04-25T01:56:50.465894Z",
     "shell.execute_reply": "2024-04-25T01:56:50.465232Z",
     "shell.execute_reply.started": "2024-04-25T01:56:50.432993Z"
    }
   },
   "outputs": [],
   "source": [
    "acc_bc = disbu.merge(ac_btc, how = 'left', on = ['Nr','FK_ZAEHLER'])\n",
    "acc_vc = disvu.merge(ac_vtc, how = 'left', on = ['Nr', 'MSID'])"
   ]
  },
  {
   "cell_type": "code",
   "execution_count": 85,
   "id": "e232626c-6230-4dcb-bf61-e359386bd1ad",
   "metadata": {
    "execution": {
     "iopub.execute_input": "2024-04-25T01:56:59.377603Z",
     "iopub.status.busy": "2024-04-25T01:56:59.377292Z",
     "iopub.status.idle": "2024-04-25T01:56:59.383169Z",
     "shell.execute_reply": "2024-04-25T01:56:59.382302Z",
     "shell.execute_reply.started": "2024-04-25T01:56:59.377582Z"
    }
   },
   "outputs": [
    {
     "data": {
      "text/plain": [
       "350"
      ]
     },
     "execution_count": 85,
     "metadata": {},
     "output_type": "execute_result"
    }
   ],
   "source": [
    "len(disbu['distance'].unique())"
   ]
  },
  {
   "cell_type": "code",
   "execution_count": 86,
   "id": "e0decb97-8136-4c9d-93c5-ed29a2856676",
   "metadata": {
    "execution": {
     "iopub.execute_input": "2024-04-25T01:56:59.549628Z",
     "iopub.status.busy": "2024-04-25T01:56:59.549329Z",
     "iopub.status.idle": "2024-04-25T01:56:59.555044Z",
     "shell.execute_reply": "2024-04-25T01:56:59.554340Z",
     "shell.execute_reply.started": "2024-04-25T01:56:59.549608Z"
    }
   },
   "outputs": [
    {
     "name": "stdout",
     "output_type": "stream",
     "text": [
      "350 350 350 350\n"
     ]
    }
   ],
   "source": [
    "print(len(acc_bc['Nr'].unique()), len(acc_vc['Nr'].unique()),\n",
    "      len(disvu['Nr'].unique()),len(disbu['Nr'].unique()))"
   ]
  },
  {
   "cell_type": "code",
   "execution_count": 87,
   "id": "c3388957-303c-4e21-bbf0-8c27a762c55a",
   "metadata": {
    "execution": {
     "iopub.execute_input": "2024-04-25T01:57:00.149450Z",
     "iopub.status.busy": "2024-04-25T01:57:00.148980Z",
     "iopub.status.idle": "2024-04-25T01:57:00.154401Z",
     "shell.execute_reply": "2024-04-25T01:57:00.153667Z",
     "shell.execute_reply.started": "2024-04-25T01:57:00.149426Z"
    }
   },
   "outputs": [
    {
     "data": {
      "text/plain": [
       "64"
      ]
     },
     "execution_count": 87,
     "metadata": {},
     "output_type": "execute_result"
    }
   ],
   "source": [
    "len(ac_btc['FK_ZAEHLER'].unique())"
   ]
  },
  {
   "cell_type": "code",
   "execution_count": 88,
   "id": "482ae379-82a4-4322-b114-19b7b72b0ad5",
   "metadata": {
    "execution": {
     "iopub.execute_input": "2024-04-25T01:57:00.806927Z",
     "iopub.status.busy": "2024-04-25T01:57:00.806615Z",
     "iopub.status.idle": "2024-04-25T01:57:00.811855Z",
     "shell.execute_reply": "2024-04-25T01:57:00.811143Z",
     "shell.execute_reply.started": "2024-04-25T01:57:00.806907Z"
    }
   },
   "outputs": [
    {
     "data": {
      "text/plain": [
       "70"
      ]
     },
     "execution_count": 88,
     "metadata": {},
     "output_type": "execute_result"
    }
   ],
   "source": [
    "len(disbu['FK_ZAEHLER'].unique())"
   ]
  },
  {
   "cell_type": "code",
   "execution_count": 89,
   "id": "3c1750bf-1de3-4b28-8a27-6d8302e8f230",
   "metadata": {
    "execution": {
     "iopub.execute_input": "2024-04-25T01:57:05.405661Z",
     "iopub.status.busy": "2024-04-25T01:57:05.405223Z",
     "iopub.status.idle": "2024-04-25T01:57:05.429867Z",
     "shell.execute_reply": "2024-04-25T01:57:05.429193Z",
     "shell.execute_reply.started": "2024-04-25T01:57:05.405638Z"
    }
   },
   "outputs": [],
   "source": [
    "acc_bc.to_csv('/home/yelhe/data/Traffic_network_variables/traffic_count/bicyclecount_new.csv')\n",
    "acc_vc.to_csv('/home/yelhe/data/Traffic_network_variables/traffic_count/carcount_new.csv')"
   ]
  },
  {
   "cell_type": "code",
   "execution_count": 154,
   "id": "ab4b4e16-ca88-4f9c-8503-dd1e7acd1d3e",
   "metadata": {
    "execution": {
     "iopub.execute_input": "2024-04-25T03:42:35.482590Z",
     "iopub.status.busy": "2024-04-25T03:42:35.482226Z",
     "iopub.status.idle": "2024-04-25T03:42:35.499959Z",
     "shell.execute_reply": "2024-04-25T03:42:35.499252Z",
     "shell.execute_reply.started": "2024-04-25T03:42:35.482567Z"
    }
   },
   "outputs": [],
   "source": [
    "wrbc = pd.read_csv('/home/yelhe/data/Traffic_network_variables/traffic_count/bicyclecount_u.csv')\n",
    "wrvc = pd.read_csv('/home/yelhe/data/Traffic_network_variables/traffic_count/carcount_u.csv')"
   ]
  },
  {
   "cell_type": "code",
   "execution_count": 125,
   "id": "0707b6d1-1c62-4c7f-ba14-ed68dd88ee7a",
   "metadata": {
    "execution": {
     "iopub.execute_input": "2024-04-25T03:31:19.817829Z",
     "iopub.status.busy": "2024-04-25T03:31:19.817497Z",
     "iopub.status.idle": "2024-04-25T03:31:19.823464Z",
     "shell.execute_reply": "2024-04-25T03:31:19.822715Z",
     "shell.execute_reply.started": "2024-04-25T03:31:19.817807Z"
    }
   },
   "outputs": [
    {
     "data": {
      "text/plain": [
       "350"
      ]
     },
     "execution_count": 125,
     "metadata": {},
     "output_type": "execute_result"
    }
   ],
   "source": [
    "len(acc_bc['Nr'].unique())"
   ]
  },
  {
   "cell_type": "code",
   "execution_count": 126,
   "id": "85b3cdff-ee7d-4527-aef5-2605aa98c446",
   "metadata": {
    "execution": {
     "iopub.execute_input": "2024-04-25T03:31:41.884600Z",
     "iopub.status.busy": "2024-04-25T03:31:41.884170Z",
     "iopub.status.idle": "2024-04-25T03:31:41.889728Z",
     "shell.execute_reply": "2024-04-25T03:31:41.889024Z",
     "shell.execute_reply.started": "2024-04-25T03:31:41.884573Z"
    }
   },
   "outputs": [
    {
     "data": {
      "text/plain": [
       "RangeIndex(start=0, stop=518, step=1)"
      ]
     },
     "execution_count": 126,
     "metadata": {},
     "output_type": "execute_result"
    }
   ],
   "source": [
    "acc_bc.index"
   ]
  },
  {
   "cell_type": "code",
   "execution_count": 128,
   "id": "1a9ea957-dd11-49b8-b7c3-a452486abceb",
   "metadata": {
    "execution": {
     "iopub.execute_input": "2024-04-25T03:32:35.946939Z",
     "iopub.status.busy": "2024-04-25T03:32:35.946262Z",
     "iopub.status.idle": "2024-04-25T03:32:35.951341Z",
     "shell.execute_reply": "2024-04-25T03:32:35.950671Z",
     "shell.execute_reply.started": "2024-04-25T03:32:35.946916Z"
    }
   },
   "outputs": [
    {
     "data": {
      "text/plain": [
       "Index(['Unnamed: 0', 'Nr', 'FK_ZAEHLER', 'distance', 'Datum', 'Zeit', 'Date',\n",
       "       'year', 'month', 'day', 'week', 'bicycle_traffic_count', 'date', 'OST',\n",
       "       'NORD', 'bicycle_traffic_norm'],\n",
       "      dtype='object')"
      ]
     },
     "execution_count": 128,
     "metadata": {},
     "output_type": "execute_result"
    }
   ],
   "source": [
    "wrbc.columns"
   ]
  },
  {
   "cell_type": "code",
   "execution_count": 129,
   "id": "5e736370-ece7-4701-8f8a-afd6e798db5a",
   "metadata": {
    "execution": {
     "iopub.execute_input": "2024-04-25T03:32:36.773909Z",
     "iopub.status.busy": "2024-04-25T03:32:36.773192Z",
     "iopub.status.idle": "2024-04-25T03:32:36.778725Z",
     "shell.execute_reply": "2024-04-25T03:32:36.777935Z",
     "shell.execute_reply.started": "2024-04-25T03:32:36.773881Z"
    }
   },
   "outputs": [],
   "source": [
    "wrbci = wrbc.set_index('Unnamed: 0')"
   ]
  },
  {
   "cell_type": "code",
   "execution_count": 135,
   "id": "196797d0-e65d-4667-af55-dffbd616a95c",
   "metadata": {
    "execution": {
     "iopub.execute_input": "2024-04-25T03:35:43.591908Z",
     "iopub.status.busy": "2024-04-25T03:35:43.591503Z",
     "iopub.status.idle": "2024-04-25T03:35:43.600213Z",
     "shell.execute_reply": "2024-04-25T03:35:43.599414Z",
     "shell.execute_reply.started": "2024-04-25T03:35:43.591876Z"
    }
   },
   "outputs": [],
   "source": [
    "wrbcf = acc_bc.join(wrbc,  lsuffix='', rsuffix='r',)"
   ]
  },
  {
   "cell_type": "code",
   "execution_count": 136,
   "id": "c4642830-a7bd-4d21-8f36-63a1de3baffc",
   "metadata": {
    "execution": {
     "iopub.execute_input": "2024-04-25T03:35:46.617408Z",
     "iopub.status.busy": "2024-04-25T03:35:46.616634Z",
     "iopub.status.idle": "2024-04-25T03:35:46.632684Z",
     "shell.execute_reply": "2024-04-25T03:35:46.631906Z",
     "shell.execute_reply.started": "2024-04-25T03:35:46.617377Z"
    }
   },
   "outputs": [
    {
     "name": "stdout",
     "output_type": "stream",
     "text": [
      "<class 'pandas.core.frame.DataFrame'>\n",
      "RangeIndex: 518 entries, 0 to 517\n",
      "Data columns (total 31 columns):\n",
      " #   Column                  Non-Null Count  Dtype         \n",
      "---  ------                  --------------  -----         \n",
      " 0   Nr                      518 non-null    int64         \n",
      " 1   FK_ZAEHLER              518 non-null    object        \n",
      " 2   distance                518 non-null    float64       \n",
      " 3   Datum                   244 non-null    object        \n",
      " 4   Zeit                    244 non-null    object        \n",
      " 5   Date                    244 non-null    datetime64[ns]\n",
      " 6   year                    244 non-null    float64       \n",
      " 7   month                   244 non-null    float64       \n",
      " 8   day                     244 non-null    float64       \n",
      " 9   week                    244 non-null    UInt32        \n",
      " 10  bicycle_traffic_count   244 non-null    float64       \n",
      " 11  date                    155 non-null    object        \n",
      " 12  OST                     155 non-null    float64       \n",
      " 13  NORD                    155 non-null    float64       \n",
      " 14  bicycle_traffic_norm    155 non-null    float64       \n",
      " 15  Unnamed: 0              350 non-null    float64       \n",
      " 16  Nrr                     350 non-null    float64       \n",
      " 17  FK_ZAEHLERr             350 non-null    object        \n",
      " 18  distancer               350 non-null    float64       \n",
      " 19  Datumr                  228 non-null    object        \n",
      " 20  Zeitr                   228 non-null    object        \n",
      " 21  Dater                   228 non-null    object        \n",
      " 22  yearr                   228 non-null    float64       \n",
      " 23  monthr                  228 non-null    float64       \n",
      " 24  dayr                    228 non-null    float64       \n",
      " 25  weekr                   228 non-null    float64       \n",
      " 26  bicycle_traffic_countr  350 non-null    float64       \n",
      " 27  dater                   146 non-null    object        \n",
      " 28  OSTr                    146 non-null    float64       \n",
      " 29  NORDr                   146 non-null    float64       \n",
      " 30  bicycle_traffic_normr   146 non-null    float64       \n",
      "dtypes: UInt32(1), datetime64[ns](1), float64(19), int64(1), object(9)\n",
      "memory usage: 124.1+ KB\n"
     ]
    }
   ],
   "source": [
    "wrbcf.info()"
   ]
  },
  {
   "cell_type": "code",
   "execution_count": 138,
   "id": "bc5ad618-d47f-4324-9086-d9d985d0fb34",
   "metadata": {
    "execution": {
     "iopub.execute_input": "2024-04-25T03:36:29.729598Z",
     "iopub.status.busy": "2024-04-25T03:36:29.728894Z",
     "iopub.status.idle": "2024-04-25T03:36:29.734668Z",
     "shell.execute_reply": "2024-04-25T03:36:29.733951Z",
     "shell.execute_reply.started": "2024-04-25T03:36:29.729568Z"
    }
   },
   "outputs": [
    {
     "data": {
      "text/plain": [
       "350"
      ]
     },
     "execution_count": 138,
     "metadata": {},
     "output_type": "execute_result"
    }
   ],
   "source": [
    "len(wrbcf['Nr'].unique())"
   ]
  },
  {
   "cell_type": "code",
   "execution_count": 139,
   "id": "066fd021-986f-49cd-b603-33783fdcb77e",
   "metadata": {
    "execution": {
     "iopub.execute_input": "2024-04-25T03:36:53.688663Z",
     "iopub.status.busy": "2024-04-25T03:36:53.688077Z",
     "iopub.status.idle": "2024-04-25T03:36:53.693304Z",
     "shell.execute_reply": "2024-04-25T03:36:53.692654Z",
     "shell.execute_reply.started": "2024-04-25T03:36:53.688638Z"
    }
   },
   "outputs": [
    {
     "data": {
      "text/plain": [
       "Index(['Nr', 'FK_ZAEHLER', 'distance', 'Datum', 'Zeit', 'Date', 'year',\n",
       "       'month', 'day', 'week', 'bicycle_traffic_count', 'date', 'OST', 'NORD',\n",
       "       'bicycle_traffic_norm', 'Unnamed: 0', 'Nrr', 'FK_ZAEHLERr', 'distancer',\n",
       "       'Datumr', 'Zeitr', 'Dater', 'yearr', 'monthr', 'dayr', 'weekr',\n",
       "       'bicycle_traffic_countr', 'dater', 'OSTr', 'NORDr',\n",
       "       'bicycle_traffic_normr'],\n",
       "      dtype='object')"
      ]
     },
     "execution_count": 139,
     "metadata": {},
     "output_type": "execute_result"
    }
   ],
   "source": [
    "wrbcf.columns"
   ]
  },
  {
   "cell_type": "code",
   "execution_count": 140,
   "id": "cea68d62-f3f7-465f-a8eb-2f41a7522a27",
   "metadata": {
    "execution": {
     "iopub.execute_input": "2024-04-25T03:37:13.972082Z",
     "iopub.status.busy": "2024-04-25T03:37:13.971349Z",
     "iopub.status.idle": "2024-04-25T03:37:13.976830Z",
     "shell.execute_reply": "2024-04-25T03:37:13.975799Z",
     "shell.execute_reply.started": "2024-04-25T03:37:13.972050Z"
    }
   },
   "outputs": [],
   "source": [
    "wrbcf = wrbcf[['Nr', 'bicycle_traffic_countr', 'distancer']]"
   ]
  },
  {
   "cell_type": "code",
   "execution_count": 168,
   "id": "c0013704-cfee-4d6e-9f17-0e47335b3c5c",
   "metadata": {
    "execution": {
     "iopub.execute_input": "2024-04-25T03:44:43.859812Z",
     "iopub.status.busy": "2024-04-25T03:44:43.859366Z",
     "iopub.status.idle": "2024-04-25T03:44:43.864897Z",
     "shell.execute_reply": "2024-04-25T03:44:43.864022Z",
     "shell.execute_reply.started": "2024-04-25T03:44:43.859784Z"
    }
   },
   "outputs": [],
   "source": [
    "wrbcf = wrbcf.dropna()"
   ]
  },
  {
   "cell_type": "code",
   "execution_count": 169,
   "id": "ab506076-e6f6-4899-b76f-7c2f4eb602de",
   "metadata": {
    "execution": {
     "iopub.execute_input": "2024-04-25T03:44:45.608845Z",
     "iopub.status.busy": "2024-04-25T03:44:45.608426Z",
     "iopub.status.idle": "2024-04-25T03:44:45.618458Z",
     "shell.execute_reply": "2024-04-25T03:44:45.617719Z",
     "shell.execute_reply.started": "2024-04-25T03:44:45.608822Z"
    }
   },
   "outputs": [
    {
     "data": {
      "text/html": [
       "<div>\n",
       "<style scoped>\n",
       "    .dataframe tbody tr th:only-of-type {\n",
       "        vertical-align: middle;\n",
       "    }\n",
       "\n",
       "    .dataframe tbody tr th {\n",
       "        vertical-align: top;\n",
       "    }\n",
       "\n",
       "    .dataframe thead th {\n",
       "        text-align: right;\n",
       "    }\n",
       "</style>\n",
       "<table border=\"1\" class=\"dataframe\">\n",
       "  <thead>\n",
       "    <tr style=\"text-align: right;\">\n",
       "      <th></th>\n",
       "      <th>Nr</th>\n",
       "      <th>bicycle_traffic_countr</th>\n",
       "      <th>distancer</th>\n",
       "    </tr>\n",
       "  </thead>\n",
       "  <tbody>\n",
       "    <tr>\n",
       "      <th>0</th>\n",
       "      <td>99900060852597</td>\n",
       "      <td>11188.80428</td>\n",
       "      <td>174.563376</td>\n",
       "    </tr>\n",
       "    <tr>\n",
       "      <th>1</th>\n",
       "      <td>99900063018611</td>\n",
       "      <td>11188.80428</td>\n",
       "      <td>409.401533</td>\n",
       "    </tr>\n",
       "    <tr>\n",
       "      <th>2</th>\n",
       "      <td>99900052723510</td>\n",
       "      <td>11188.80428</td>\n",
       "      <td>180.442109</td>\n",
       "    </tr>\n",
       "    <tr>\n",
       "      <th>3</th>\n",
       "      <td>99900061514043</td>\n",
       "      <td>11188.80428</td>\n",
       "      <td>336.047576</td>\n",
       "    </tr>\n",
       "    <tr>\n",
       "      <th>4</th>\n",
       "      <td>99900063037843</td>\n",
       "      <td>11188.80428</td>\n",
       "      <td>549.328543</td>\n",
       "    </tr>\n",
       "    <tr>\n",
       "      <th>...</th>\n",
       "      <td>...</td>\n",
       "      <td>...</td>\n",
       "      <td>...</td>\n",
       "    </tr>\n",
       "    <tr>\n",
       "      <th>345</th>\n",
       "      <td>99900062477694</td>\n",
       "      <td>11188.80428</td>\n",
       "      <td>110.703046</td>\n",
       "    </tr>\n",
       "    <tr>\n",
       "      <th>346</th>\n",
       "      <td>99900062477694</td>\n",
       "      <td>11188.80428</td>\n",
       "      <td>310.789294</td>\n",
       "    </tr>\n",
       "    <tr>\n",
       "      <th>347</th>\n",
       "      <td>99900051862636</td>\n",
       "      <td>11188.80428</td>\n",
       "      <td>236.886674</td>\n",
       "    </tr>\n",
       "    <tr>\n",
       "      <th>348</th>\n",
       "      <td>99900061634922</td>\n",
       "      <td>11188.80428</td>\n",
       "      <td>340.463140</td>\n",
       "    </tr>\n",
       "    <tr>\n",
       "      <th>349</th>\n",
       "      <td>99900061634922</td>\n",
       "      <td>11188.80428</td>\n",
       "      <td>299.290147</td>\n",
       "    </tr>\n",
       "  </tbody>\n",
       "</table>\n",
       "<p>350 rows × 3 columns</p>\n",
       "</div>"
      ],
      "text/plain": [
       "                 Nr  bicycle_traffic_countr   distancer\n",
       "0    99900060852597             11188.80428  174.563376\n",
       "1    99900063018611             11188.80428  409.401533\n",
       "2    99900052723510             11188.80428  180.442109\n",
       "3    99900061514043             11188.80428  336.047576\n",
       "4    99900063037843             11188.80428  549.328543\n",
       "..              ...                     ...         ...\n",
       "345  99900062477694             11188.80428  110.703046\n",
       "346  99900062477694             11188.80428  310.789294\n",
       "347  99900051862636             11188.80428  236.886674\n",
       "348  99900061634922             11188.80428  340.463140\n",
       "349  99900061634922             11188.80428  299.290147\n",
       "\n",
       "[350 rows x 3 columns]"
      ]
     },
     "execution_count": 169,
     "metadata": {},
     "output_type": "execute_result"
    }
   ],
   "source": [
    "wrbcf"
   ]
  },
  {
   "cell_type": "code",
   "execution_count": 170,
   "id": "d32e4c05-7c66-4b58-9a0e-47fda8480fbd",
   "metadata": {
    "execution": {
     "iopub.execute_input": "2024-04-25T03:44:48.309956Z",
     "iopub.status.busy": "2024-04-25T03:44:48.309544Z",
     "iopub.status.idle": "2024-04-25T03:44:48.315438Z",
     "shell.execute_reply": "2024-04-25T03:44:48.314621Z",
     "shell.execute_reply.started": "2024-04-25T03:44:48.309933Z"
    }
   },
   "outputs": [
    {
     "data": {
      "text/plain": [
       "240"
      ]
     },
     "execution_count": 170,
     "metadata": {},
     "output_type": "execute_result"
    }
   ],
   "source": [
    "len(wrbcf['Nr'].unique())"
   ]
  },
  {
   "cell_type": "code",
   "execution_count": 110,
   "id": "46363863-66a9-45a7-b7a3-51521bf564af",
   "metadata": {
    "execution": {
     "iopub.execute_input": "2024-04-25T03:21:53.824379Z",
     "iopub.status.busy": "2024-04-25T03:21:53.823992Z",
     "iopub.status.idle": "2024-04-25T03:21:53.828870Z",
     "shell.execute_reply": "2024-04-25T03:21:53.827967Z",
     "shell.execute_reply.started": "2024-04-25T03:21:53.824354Z"
    }
   },
   "outputs": [],
   "source": [
    "wrbcf = wrbcf.rename(columns = {'bicycle_traffic_countr':'bicycle_traffic_count',\n",
    "                               'distancer':'distance'})"
   ]
  },
  {
   "cell_type": "code",
   "execution_count": 147,
   "id": "fe0c06eb-9f85-46bd-b8ff-267c32daf4a6",
   "metadata": {
    "execution": {
     "iopub.execute_input": "2024-04-25T03:40:40.895232Z",
     "iopub.status.busy": "2024-04-25T03:40:40.894762Z",
     "iopub.status.idle": "2024-04-25T03:40:40.906201Z",
     "shell.execute_reply": "2024-04-25T03:40:40.905408Z",
     "shell.execute_reply.started": "2024-04-25T03:40:40.895207Z"
    }
   },
   "outputs": [],
   "source": [
    "wrbcf.to_csv('/home/yelhe/data/Traffic_network_variables/traffic_count/bc_nu.csv')"
   ]
  },
  {
   "cell_type": "code",
   "execution_count": 149,
   "id": "0f8d73cb-e561-4417-91c8-5e72942c4482",
   "metadata": {
    "execution": {
     "iopub.execute_input": "2024-04-25T03:41:12.401718Z",
     "iopub.status.busy": "2024-04-25T03:41:12.401336Z",
     "iopub.status.idle": "2024-04-25T03:41:12.406355Z",
     "shell.execute_reply": "2024-04-25T03:41:12.405631Z",
     "shell.execute_reply.started": "2024-04-25T03:41:12.401697Z"
    }
   },
   "outputs": [],
   "source": [
    "wrvci = wrvc.set_index('Unnamed: 0')"
   ]
  },
  {
   "cell_type": "code",
   "execution_count": 155,
   "id": "9e4d6277-4470-493c-9f4e-f594edfce87f",
   "metadata": {
    "execution": {
     "iopub.execute_input": "2024-04-25T03:42:47.700118Z",
     "iopub.status.busy": "2024-04-25T03:42:47.699700Z",
     "iopub.status.idle": "2024-04-25T03:42:47.706261Z",
     "shell.execute_reply": "2024-04-25T03:42:47.705545Z",
     "shell.execute_reply.started": "2024-04-25T03:42:47.700095Z"
    }
   },
   "outputs": [],
   "source": [
    "wrvcf = acc_vc.join(wrvc,  lsuffix='', rsuffix='r')"
   ]
  },
  {
   "cell_type": "code",
   "execution_count": 156,
   "id": "cf0103d4-39f9-4d9b-83e1-4780e902e941",
   "metadata": {
    "execution": {
     "iopub.execute_input": "2024-04-25T03:42:48.657872Z",
     "iopub.status.busy": "2024-04-25T03:42:48.657504Z",
     "iopub.status.idle": "2024-04-25T03:42:48.663388Z",
     "shell.execute_reply": "2024-04-25T03:42:48.662625Z",
     "shell.execute_reply.started": "2024-04-25T03:42:48.657849Z"
    }
   },
   "outputs": [
    {
     "data": {
      "text/plain": [
       "Index(['Nr', 'MSID', 'distance', 'Datum', 'Zeit', 'Date', 'year', 'month',\n",
       "       'day', 'week', 'car_traffic_count', 'date', 'OST', 'NORD',\n",
       "       'car_traffic_norm', 'Unnamed: 0', 'Nrr', 'MSIDr', 'distancer', 'Datumr',\n",
       "       'Zeitr', 'Dater', 'yearr', 'monthr', 'dayr', 'weekr',\n",
       "       'car_traffic_countr', 'dater', 'OSTr', 'NORDr', 'car_traffic_normr'],\n",
       "      dtype='object')"
      ]
     },
     "execution_count": 156,
     "metadata": {},
     "output_type": "execute_result"
    }
   ],
   "source": [
    "wrvcf.columns"
   ]
  },
  {
   "cell_type": "code",
   "execution_count": 157,
   "id": "a8c5ac45-5bc6-4ed3-8796-869430b0c58b",
   "metadata": {
    "execution": {
     "iopub.execute_input": "2024-04-25T03:42:52.580519Z",
     "iopub.status.busy": "2024-04-25T03:42:52.580212Z",
     "iopub.status.idle": "2024-04-25T03:42:52.585610Z",
     "shell.execute_reply": "2024-04-25T03:42:52.584791Z",
     "shell.execute_reply.started": "2024-04-25T03:42:52.580499Z"
    }
   },
   "outputs": [],
   "source": [
    "wrvcf = wrvcf[['Nr', 'car_traffic_countr', 'distancer']]"
   ]
  },
  {
   "cell_type": "code",
   "execution_count": 163,
   "id": "ef73862c-cd53-4b48-93c2-a7808768aba2",
   "metadata": {
    "execution": {
     "iopub.execute_input": "2024-04-25T03:44:16.860418Z",
     "iopub.status.busy": "2024-04-25T03:44:16.860091Z",
     "iopub.status.idle": "2024-04-25T03:44:16.872865Z",
     "shell.execute_reply": "2024-04-25T03:44:16.872129Z",
     "shell.execute_reply.started": "2024-04-25T03:44:16.860396Z"
    }
   },
   "outputs": [
    {
     "data": {
      "text/html": [
       "<div>\n",
       "<style scoped>\n",
       "    .dataframe tbody tr th:only-of-type {\n",
       "        vertical-align: middle;\n",
       "    }\n",
       "\n",
       "    .dataframe tbody tr th {\n",
       "        vertical-align: top;\n",
       "    }\n",
       "\n",
       "    .dataframe thead th {\n",
       "        text-align: right;\n",
       "    }\n",
       "</style>\n",
       "<table border=\"1\" class=\"dataframe\">\n",
       "  <thead>\n",
       "    <tr style=\"text-align: right;\">\n",
       "      <th></th>\n",
       "      <th>Nr</th>\n",
       "      <th>car_traffic_count</th>\n",
       "      <th>distance</th>\n",
       "    </tr>\n",
       "  </thead>\n",
       "  <tbody>\n",
       "    <tr>\n",
       "      <th>0</th>\n",
       "      <td>99900060852597</td>\n",
       "      <td>2644.0</td>\n",
       "      <td>799.959576</td>\n",
       "    </tr>\n",
       "    <tr>\n",
       "      <th>1</th>\n",
       "      <td>99900063018611</td>\n",
       "      <td>3287.0</td>\n",
       "      <td>301.504851</td>\n",
       "    </tr>\n",
       "    <tr>\n",
       "      <th>2</th>\n",
       "      <td>99900052723510</td>\n",
       "      <td>5032.0</td>\n",
       "      <td>119.594000</td>\n",
       "    </tr>\n",
       "    <tr>\n",
       "      <th>3</th>\n",
       "      <td>99900061514043</td>\n",
       "      <td>5096.0</td>\n",
       "      <td>710.541800</td>\n",
       "    </tr>\n",
       "    <tr>\n",
       "      <th>4</th>\n",
       "      <td>99900063037843</td>\n",
       "      <td>5731.0</td>\n",
       "      <td>476.250472</td>\n",
       "    </tr>\n",
       "    <tr>\n",
       "      <th>...</th>\n",
       "      <td>...</td>\n",
       "      <td>...</td>\n",
       "      <td>...</td>\n",
       "    </tr>\n",
       "    <tr>\n",
       "      <th>345</th>\n",
       "      <td>99900062100656</td>\n",
       "      <td>161118.0</td>\n",
       "      <td>20.397843</td>\n",
       "    </tr>\n",
       "    <tr>\n",
       "      <th>346</th>\n",
       "      <td>99900054491542</td>\n",
       "      <td>164644.0</td>\n",
       "      <td>192.775127</td>\n",
       "    </tr>\n",
       "    <tr>\n",
       "      <th>347</th>\n",
       "      <td>99900061895134</td>\n",
       "      <td>166571.0</td>\n",
       "      <td>138.487824</td>\n",
       "    </tr>\n",
       "    <tr>\n",
       "      <th>348</th>\n",
       "      <td>99900056387598</td>\n",
       "      <td>168260.0</td>\n",
       "      <td>15.813150</td>\n",
       "    </tr>\n",
       "    <tr>\n",
       "      <th>349</th>\n",
       "      <td>99900055999694</td>\n",
       "      <td>181464.0</td>\n",
       "      <td>465.680829</td>\n",
       "    </tr>\n",
       "  </tbody>\n",
       "</table>\n",
       "<p>350 rows × 3 columns</p>\n",
       "</div>"
      ],
      "text/plain": [
       "                 Nr  car_traffic_count    distance\n",
       "0    99900060852597             2644.0  799.959576\n",
       "1    99900063018611             3287.0  301.504851\n",
       "2    99900052723510             5032.0  119.594000\n",
       "3    99900061514043             5096.0  710.541800\n",
       "4    99900063037843             5731.0  476.250472\n",
       "..              ...                ...         ...\n",
       "345  99900062100656           161118.0   20.397843\n",
       "346  99900054491542           164644.0  192.775127\n",
       "347  99900061895134           166571.0  138.487824\n",
       "348  99900056387598           168260.0   15.813150\n",
       "349  99900055999694           181464.0  465.680829\n",
       "\n",
       "[350 rows x 3 columns]"
      ]
     },
     "execution_count": 163,
     "metadata": {},
     "output_type": "execute_result"
    }
   ],
   "source": [
    "wrvcf.dropna()"
   ]
  },
  {
   "cell_type": "code",
   "execution_count": 164,
   "id": "60bb8594-cd87-4eb3-91e4-3fb851b0654f",
   "metadata": {
    "execution": {
     "iopub.execute_input": "2024-04-25T03:44:25.484642Z",
     "iopub.status.busy": "2024-04-25T03:44:25.483922Z",
     "iopub.status.idle": "2024-04-25T03:44:25.489689Z",
     "shell.execute_reply": "2024-04-25T03:44:25.488753Z",
     "shell.execute_reply.started": "2024-04-25T03:44:25.484617Z"
    }
   },
   "outputs": [
    {
     "data": {
      "text/plain": [
       "350"
      ]
     },
     "execution_count": 164,
     "metadata": {},
     "output_type": "execute_result"
    }
   ],
   "source": [
    "len(wrvcf['Nr'].unique())"
   ]
  },
  {
   "cell_type": "code",
   "execution_count": 165,
   "id": "976d1bb6-9982-4a9a-83eb-8e00f255782c",
   "metadata": {
    "execution": {
     "iopub.execute_input": "2024-04-25T03:44:26.164377Z",
     "iopub.status.busy": "2024-04-25T03:44:26.163986Z",
     "iopub.status.idle": "2024-04-25T03:44:26.168915Z",
     "shell.execute_reply": "2024-04-25T03:44:26.167964Z",
     "shell.execute_reply.started": "2024-04-25T03:44:26.164353Z"
    }
   },
   "outputs": [],
   "source": [
    "wrvcf = wrvcf.rename(columns = {'car_traffic_countr':'car_traffic_count',\n",
    "                               'distancer':'distance'})"
   ]
  },
  {
   "cell_type": "code",
   "execution_count": 166,
   "id": "4e2a39bc-60e6-499d-a25e-694f6d535388",
   "metadata": {
    "execution": {
     "iopub.execute_input": "2024-04-25T03:44:26.951781Z",
     "iopub.status.busy": "2024-04-25T03:44:26.951069Z",
     "iopub.status.idle": "2024-04-25T03:44:26.961838Z",
     "shell.execute_reply": "2024-04-25T03:44:26.961077Z",
     "shell.execute_reply.started": "2024-04-25T03:44:26.951738Z"
    }
   },
   "outputs": [
    {
     "data": {
      "text/html": [
       "<div>\n",
       "<style scoped>\n",
       "    .dataframe tbody tr th:only-of-type {\n",
       "        vertical-align: middle;\n",
       "    }\n",
       "\n",
       "    .dataframe tbody tr th {\n",
       "        vertical-align: top;\n",
       "    }\n",
       "\n",
       "    .dataframe thead th {\n",
       "        text-align: right;\n",
       "    }\n",
       "</style>\n",
       "<table border=\"1\" class=\"dataframe\">\n",
       "  <thead>\n",
       "    <tr style=\"text-align: right;\">\n",
       "      <th></th>\n",
       "      <th>Nr</th>\n",
       "      <th>car_traffic_count</th>\n",
       "      <th>distance</th>\n",
       "    </tr>\n",
       "  </thead>\n",
       "  <tbody>\n",
       "    <tr>\n",
       "      <th>0</th>\n",
       "      <td>99900060852597</td>\n",
       "      <td>2644.0</td>\n",
       "      <td>799.959576</td>\n",
       "    </tr>\n",
       "    <tr>\n",
       "      <th>1</th>\n",
       "      <td>99900063018611</td>\n",
       "      <td>3287.0</td>\n",
       "      <td>301.504851</td>\n",
       "    </tr>\n",
       "    <tr>\n",
       "      <th>2</th>\n",
       "      <td>99900052723510</td>\n",
       "      <td>5032.0</td>\n",
       "      <td>119.594000</td>\n",
       "    </tr>\n",
       "    <tr>\n",
       "      <th>3</th>\n",
       "      <td>99900061514043</td>\n",
       "      <td>5096.0</td>\n",
       "      <td>710.541800</td>\n",
       "    </tr>\n",
       "    <tr>\n",
       "      <th>4</th>\n",
       "      <td>99900063037843</td>\n",
       "      <td>5731.0</td>\n",
       "      <td>476.250472</td>\n",
       "    </tr>\n",
       "    <tr>\n",
       "      <th>...</th>\n",
       "      <td>...</td>\n",
       "      <td>...</td>\n",
       "      <td>...</td>\n",
       "    </tr>\n",
       "    <tr>\n",
       "      <th>350</th>\n",
       "      <td>99900055905276</td>\n",
       "      <td>NaN</td>\n",
       "      <td>NaN</td>\n",
       "    </tr>\n",
       "    <tr>\n",
       "      <th>351</th>\n",
       "      <td>99900060670975</td>\n",
       "      <td>NaN</td>\n",
       "      <td>NaN</td>\n",
       "    </tr>\n",
       "    <tr>\n",
       "      <th>352</th>\n",
       "      <td>99900047367168</td>\n",
       "      <td>NaN</td>\n",
       "      <td>NaN</td>\n",
       "    </tr>\n",
       "    <tr>\n",
       "      <th>353</th>\n",
       "      <td>99900050714619</td>\n",
       "      <td>NaN</td>\n",
       "      <td>NaN</td>\n",
       "    </tr>\n",
       "    <tr>\n",
       "      <th>354</th>\n",
       "      <td>99900060734330</td>\n",
       "      <td>NaN</td>\n",
       "      <td>NaN</td>\n",
       "    </tr>\n",
       "  </tbody>\n",
       "</table>\n",
       "<p>355 rows × 3 columns</p>\n",
       "</div>"
      ],
      "text/plain": [
       "                 Nr  car_traffic_count    distance\n",
       "0    99900060852597             2644.0  799.959576\n",
       "1    99900063018611             3287.0  301.504851\n",
       "2    99900052723510             5032.0  119.594000\n",
       "3    99900061514043             5096.0  710.541800\n",
       "4    99900063037843             5731.0  476.250472\n",
       "..              ...                ...         ...\n",
       "350  99900055905276                NaN         NaN\n",
       "351  99900060670975                NaN         NaN\n",
       "352  99900047367168                NaN         NaN\n",
       "353  99900050714619                NaN         NaN\n",
       "354  99900060734330                NaN         NaN\n",
       "\n",
       "[355 rows x 3 columns]"
      ]
     },
     "execution_count": 166,
     "metadata": {},
     "output_type": "execute_result"
    }
   ],
   "source": [
    "wrvcf"
   ]
  },
  {
   "cell_type": "code",
   "execution_count": 121,
   "id": "0fdadd06-1c73-480a-aef2-208be15ac68d",
   "metadata": {
    "execution": {
     "iopub.execute_input": "2024-04-25T03:24:14.015336Z",
     "iopub.status.busy": "2024-04-25T03:24:14.014950Z",
     "iopub.status.idle": "2024-04-25T03:24:14.021974Z",
     "shell.execute_reply": "2024-04-25T03:24:14.021278Z",
     "shell.execute_reply.started": "2024-04-25T03:24:14.015313Z"
    }
   },
   "outputs": [],
   "source": [
    "wrvcf.to_csv('/home/yelhe/data/Traffic_network_variables/traffic_count/vc_nu.csv')"
   ]
  }
 ],
 "metadata": {
  "kernelspec": {
   "display_name": "Python 3 (ipykernel)",
   "language": "python",
   "name": "python3"
  },
  "language_info": {
   "codemirror_mode": {
    "name": "ipython",
    "version": 3
   },
   "file_extension": ".py",
   "mimetype": "text/x-python",
   "name": "python",
   "nbconvert_exporter": "python",
   "pygments_lexer": "ipython3",
   "version": "3.11.5"
  }
 },
 "nbformat": 4,
 "nbformat_minor": 5
}
