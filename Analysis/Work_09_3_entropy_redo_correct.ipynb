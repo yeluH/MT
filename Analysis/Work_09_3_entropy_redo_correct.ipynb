{
 "cells": [
  {
   "cell_type": "code",
   "execution_count": 1,
   "id": "7e9f75d8-3be9-45ef-b9ae-ad72fefb7ce1",
   "metadata": {
    "execution": {
     "iopub.execute_input": "2024-04-24T16:07:31.898613Z",
     "iopub.status.busy": "2024-04-24T16:07:31.898249Z",
     "iopub.status.idle": "2024-04-24T16:07:33.467108Z",
     "shell.execute_reply": "2024-04-24T16:07:33.466429Z",
     "shell.execute_reply.started": "2024-04-24T16:07:31.898591Z"
    }
   },
   "outputs": [],
   "source": [
    "import torch\n",
    "torch.cuda.empty_cache() "
   ]
  },
  {
   "cell_type": "code",
   "execution_count": 2,
   "id": "f3e5fa71-37bd-4efe-b8ee-ae3c362b2a1b",
   "metadata": {
    "execution": {
     "iopub.execute_input": "2024-04-24T16:07:33.469380Z",
     "iopub.status.busy": "2024-04-24T16:07:33.468659Z",
     "iopub.status.idle": "2024-04-24T16:07:33.781727Z",
     "shell.execute_reply": "2024-04-24T16:07:33.781079Z",
     "shell.execute_reply.started": "2024-04-24T16:07:33.469342Z"
    }
   },
   "outputs": [],
   "source": [
    "import os \n",
    "os.environ['MPLCONFIGDIR'] = os.getcwd() + \"/configs/\"\n",
    "import matplotlib\n",
    "from matplotlib import pyplot as plt\n",
    "import numpy as np\n",
    "import cv2\n",
    "import urllib.request\n",
    "from PIL import Image"
   ]
  },
  {
   "cell_type": "code",
   "execution_count": 3,
   "id": "132db61a-9aa6-4936-8ab4-054288d07d2e",
   "metadata": {
    "execution": {
     "iopub.execute_input": "2024-04-24T16:07:33.782856Z",
     "iopub.status.busy": "2024-04-24T16:07:33.782649Z",
     "iopub.status.idle": "2024-04-24T16:07:34.305094Z",
     "shell.execute_reply": "2024-04-24T16:07:34.304439Z",
     "shell.execute_reply.started": "2024-04-24T16:07:33.782838Z"
    }
   },
   "outputs": [],
   "source": [
    "import pandas as pd\n",
    "import pyproj"
   ]
  },
  {
   "cell_type": "code",
   "execution_count": 4,
   "id": "80d61825-dc8d-4005-9362-cf497e771695",
   "metadata": {
    "execution": {
     "iopub.execute_input": "2024-04-24T16:07:34.308079Z",
     "iopub.status.busy": "2024-04-24T16:07:34.307627Z",
     "iopub.status.idle": "2024-04-24T16:07:34.311909Z",
     "shell.execute_reply": "2024-04-24T16:07:34.310998Z",
     "shell.execute_reply.started": "2024-04-24T16:07:34.308057Z"
    }
   },
   "outputs": [],
   "source": [
    "import os \n",
    "os.environ['MPLCONFIGDIR'] = os.getcwd() + \"/configs/\"\n",
    "import matplotlib\n",
    "from matplotlib import pyplot as plt\n",
    "import numpy as np\n",
    "import cv2"
   ]
  },
  {
   "cell_type": "code",
   "execution_count": 5,
   "id": "e6000c92-6b7e-4ee5-9c30-ac0dfed91840",
   "metadata": {
    "execution": {
     "iopub.execute_input": "2024-04-24T16:07:34.313248Z",
     "iopub.status.busy": "2024-04-24T16:07:34.312950Z",
     "iopub.status.idle": "2024-04-24T16:07:34.322224Z",
     "shell.execute_reply": "2024-04-24T16:07:34.321418Z",
     "shell.execute_reply.started": "2024-04-24T16:07:34.313220Z"
    }
   },
   "outputs": [],
   "source": [
    "from pathlib import Path"
   ]
  },
  {
   "cell_type": "code",
   "execution_count": 6,
   "id": "59dfb1fc-7192-4ae1-9df9-596320cc4875",
   "metadata": {
    "execution": {
     "iopub.execute_input": "2024-04-24T16:07:34.323866Z",
     "iopub.status.busy": "2024-04-24T16:07:34.323218Z",
     "iopub.status.idle": "2024-04-24T16:07:34.347471Z",
     "shell.execute_reply": "2024-04-24T16:07:34.346847Z",
     "shell.execute_reply.started": "2024-04-24T16:07:34.323836Z"
    }
   },
   "outputs": [],
   "source": [
    "import joblib"
   ]
  },
  {
   "cell_type": "code",
   "execution_count": 7,
   "id": "923fac26-61e2-49dd-9099-e31ff4079430",
   "metadata": {
    "execution": {
     "iopub.execute_input": "2024-04-24T16:07:34.348984Z",
     "iopub.status.busy": "2024-04-24T16:07:34.348471Z",
     "iopub.status.idle": "2024-04-24T16:07:34.654739Z",
     "shell.execute_reply": "2024-04-24T16:07:34.653292Z",
     "shell.execute_reply.started": "2024-04-24T16:07:34.348951Z"
    }
   },
   "outputs": [],
   "source": [
    "from mt_function_yl import *"
   ]
  },
  {
   "cell_type": "markdown",
   "id": "d7346fc9-4815-4194-b455-fca304758ef0",
   "metadata": {},
   "source": [
    "#### Load in Dataframes"
   ]
  },
  {
   "cell_type": "code",
   "execution_count": 8,
   "id": "e7b2299c-323d-419b-b474-0bd2af65965e",
   "metadata": {
    "execution": {
     "iopub.execute_input": "2024-04-24T16:07:37.138170Z",
     "iopub.status.busy": "2024-04-24T16:07:37.137482Z",
     "iopub.status.idle": "2024-04-24T16:07:38.484344Z",
     "shell.execute_reply": "2024-04-24T16:07:38.483668Z",
     "shell.execute_reply.started": "2024-04-24T16:07:37.138132Z"
    }
   },
   "outputs": [],
   "source": [
    "df_a = pd.read_csv('/home/yelhe/scratch/df/df_accident_0_295.csv')\n",
    "df_p = pd.read_csv('/home/yelhe/scratch/df/df_pseudo_0_792_new.csv')"
   ]
  },
  {
   "cell_type": "code",
   "execution_count": 9,
   "id": "49f2ed1a-0a6f-4ab5-8e8d-f1e8efe730bd",
   "metadata": {
    "execution": {
     "iopub.execute_input": "2024-04-24T16:07:38.485850Z",
     "iopub.status.busy": "2024-04-24T16:07:38.485572Z",
     "iopub.status.idle": "2024-04-24T16:07:38.501605Z",
     "shell.execute_reply": "2024-04-24T16:07:38.500992Z",
     "shell.execute_reply.started": "2024-04-24T16:07:38.485831Z"
    }
   },
   "outputs": [
    {
     "name": "stdout",
     "output_type": "stream",
     "text": [
      "<class 'pandas.core.frame.DataFrame'>\n",
      "RangeIndex: 55960 entries, 0 to 55959\n",
      "Data columns (total 37 columns):\n",
      " #   Column             Non-Null Count  Dtype  \n",
      "---  ------             --------------  -----  \n",
      " 0   mask               55960 non-null  int64  \n",
      " 1   gmedian            55960 non-null  float64\n",
      " 2   rmedian            55960 non-null  float64\n",
      " 3   bmedian            55960 non-null  float64\n",
      " 4   gmean              55960 non-null  float64\n",
      " 5   rmean              55960 non-null  float64\n",
      " 6   bmean              55960 non-null  float64\n",
      " 7   gstd               55960 non-null  float64\n",
      " 8   rstd               55960 non-null  float64\n",
      " 9   bstd               55960 non-null  float64\n",
      " 10  gq25               55960 non-null  float64\n",
      " 11  gq75               55960 non-null  float64\n",
      " 12  rq25               55960 non-null  float64\n",
      " 13  rq75               55960 non-null  float64\n",
      " 14  bq25               55960 non-null  float64\n",
      " 15  bq75               55960 non-null  float64\n",
      " 16  cdmean             55960 non-null  float64\n",
      " 17  cdstd              55960 non-null  float64\n",
      " 18  isconvex           55960 non-null  int64  \n",
      " 19  area               55960 non-null  float64\n",
      " 20  aspect_ratio_wh_s  55960 non-null  float64\n",
      " 21  extent_s           55960 non-null  float64\n",
      " 22  solidity           55960 non-null  float64\n",
      " 23  aspect_ratio_wh    55960 non-null  float64\n",
      " 24  extent             55960 non-null  float64\n",
      " 25  orien_rre          55960 non-null  float64\n",
      " 26  orien_ell          55960 non-null  float64\n",
      " 27  ed                 55960 non-null  float64\n",
      " 28  ratio_ell          55960 non-null  float64\n",
      " 29  perimeter          55960 non-null  float64\n",
      " 30  is_cen_inside      55960 non-null  float64\n",
      " 31  is_mce_inside      55960 non-null  float64\n",
      " 32  leftm              55960 non-null  int64  \n",
      " 33  rightm             55960 non-null  int64  \n",
      " 34  topm               55960 non-null  int64  \n",
      " 35  bottomm            55960 non-null  int64  \n",
      " 36  Nr                 55960 non-null  int64  \n",
      "dtypes: float64(30), int64(7)\n",
      "memory usage: 15.8 MB\n"
     ]
    }
   ],
   "source": [
    "df_a.info()"
   ]
  },
  {
   "cell_type": "code",
   "execution_count": 10,
   "id": "d741e415-84bd-4eb4-bd97-2de52cfe4dc0",
   "metadata": {
    "execution": {
     "iopub.execute_input": "2024-04-24T16:07:39.960854Z",
     "iopub.status.busy": "2024-04-24T16:07:39.960537Z",
     "iopub.status.idle": "2024-04-24T16:07:39.977073Z",
     "shell.execute_reply": "2024-04-24T16:07:39.976464Z",
     "shell.execute_reply.started": "2024-04-24T16:07:39.960834Z"
    }
   },
   "outputs": [
    {
     "name": "stdout",
     "output_type": "stream",
     "text": [
      "<class 'pandas.core.frame.DataFrame'>\n",
      "RangeIndex: 138032 entries, 0 to 138031\n",
      "Data columns (total 37 columns):\n",
      " #   Column             Non-Null Count   Dtype  \n",
      "---  ------             --------------   -----  \n",
      " 0   mask               138032 non-null  int64  \n",
      " 1   gmedian            138032 non-null  float64\n",
      " 2   rmedian            138032 non-null  float64\n",
      " 3   bmedian            138032 non-null  float64\n",
      " 4   gmean              138032 non-null  float64\n",
      " 5   rmean              138032 non-null  float64\n",
      " 6   bmean              138032 non-null  float64\n",
      " 7   gstd               138032 non-null  float64\n",
      " 8   rstd               138032 non-null  float64\n",
      " 9   bstd               138032 non-null  float64\n",
      " 10  gq25               138032 non-null  float64\n",
      " 11  gq75               138032 non-null  float64\n",
      " 12  rq25               138032 non-null  float64\n",
      " 13  rq75               138032 non-null  float64\n",
      " 14  bq25               138032 non-null  float64\n",
      " 15  bq75               138032 non-null  float64\n",
      " 16  cdmean             138032 non-null  float64\n",
      " 17  cdstd              138032 non-null  float64\n",
      " 18  isconvex           138032 non-null  int64  \n",
      " 19  area               138032 non-null  float64\n",
      " 20  aspect_ratio_wh_s  138032 non-null  float64\n",
      " 21  extent_s           138032 non-null  float64\n",
      " 22  solidity           138032 non-null  float64\n",
      " 23  aspect_ratio_wh    138032 non-null  float64\n",
      " 24  extent             138032 non-null  float64\n",
      " 25  orien_rre          138032 non-null  float64\n",
      " 26  orien_ell          138032 non-null  float64\n",
      " 27  ed                 138032 non-null  float64\n",
      " 28  ratio_ell          138032 non-null  float64\n",
      " 29  perimeter          138032 non-null  float64\n",
      " 30  is_cen_inside      138032 non-null  float64\n",
      " 31  is_mce_inside      138032 non-null  float64\n",
      " 32  leftm              138032 non-null  int64  \n",
      " 33  rightm             138032 non-null  int64  \n",
      " 34  topm               138032 non-null  int64  \n",
      " 35  bottomm            138032 non-null  int64  \n",
      " 36  Nr                 138032 non-null  int64  \n",
      "dtypes: float64(30), int64(7)\n",
      "memory usage: 39.0 MB\n"
     ]
    }
   ],
   "source": [
    "df_p.info()"
   ]
  },
  {
   "cell_type": "markdown",
   "id": "10879242-a2fc-40a2-849a-f2ee19c7052c",
   "metadata": {},
   "source": [
    "#### For entropy - whole scene"
   ]
  },
  {
   "cell_type": "code",
   "execution_count": 13,
   "id": "1a25a5c2-89c4-4508-92cf-ae78dfa1a923",
   "metadata": {
    "execution": {
     "iopub.execute_input": "2024-04-24T16:18:15.415268Z",
     "iopub.status.busy": "2024-04-24T16:18:15.414667Z",
     "iopub.status.idle": "2024-04-24T16:18:15.427901Z",
     "shell.execute_reply": "2024-04-24T16:18:15.427187Z",
     "shell.execute_reply.started": "2024-04-24T16:18:15.415246Z"
    }
   },
   "outputs": [],
   "source": [
    "dfae = df_a\n",
    "dfpe = df_p\n",
    "# Drop info columns\n",
    "dfae = dfae.drop(['mask', 'Nr','isconvex','is_cen_inside','is_mce_inside'], axis = 1)\n",
    "dfpe = dfpe.drop(['mask', 'Nr','isconvex','is_cen_inside','is_mce_inside'], axis = 1)"
   ]
  },
  {
   "cell_type": "code",
   "execution_count": 14,
   "id": "a3d9ff7f-21f2-4895-ac5c-3c468d0b1b49",
   "metadata": {
    "execution": {
     "iopub.execute_input": "2024-04-24T16:18:15.919438Z",
     "iopub.status.busy": "2024-04-24T16:18:15.918799Z",
     "iopub.status.idle": "2024-04-24T16:18:15.923201Z",
     "shell.execute_reply": "2024-04-24T16:18:15.922604Z",
     "shell.execute_reply.started": "2024-04-24T16:18:15.919416Z"
    }
   },
   "outputs": [
    {
     "data": {
      "text/plain": [
       "((55960, 32), (138032, 32))"
      ]
     },
     "execution_count": 14,
     "metadata": {},
     "output_type": "execute_result"
    }
   ],
   "source": [
    "dfae.shape, dfpe.shape"
   ]
  },
  {
   "cell_type": "code",
   "execution_count": 15,
   "id": "ea2a48fc-a5d6-43c3-96c1-2882184f3148",
   "metadata": {
    "execution": {
     "iopub.execute_input": "2024-04-24T16:18:16.357195Z",
     "iopub.status.busy": "2024-04-24T16:18:16.356522Z",
     "iopub.status.idle": "2024-04-24T16:18:16.475041Z",
     "shell.execute_reply": "2024-04-24T16:18:16.474379Z",
     "shell.execute_reply.started": "2024-04-24T16:18:16.357172Z"
    }
   },
   "outputs": [],
   "source": [
    "rfe = joblib.load(\"my_random_forest_2_whole7.joblib\")"
   ]
  },
  {
   "cell_type": "code",
   "execution_count": 16,
   "id": "31d822ab-1d76-4530-a918-004df1b62557",
   "metadata": {
    "execution": {
     "iopub.execute_input": "2024-04-24T16:18:17.154207Z",
     "iopub.status.busy": "2024-04-24T16:18:17.153785Z",
     "iopub.status.idle": "2024-04-24T16:18:17.157143Z",
     "shell.execute_reply": "2024-04-24T16:18:17.156355Z",
     "shell.execute_reply.started": "2024-04-24T16:18:17.154187Z"
    }
   },
   "outputs": [],
   "source": [
    "# 1 curb, 2 infrastructure\n",
    "# 0 building, 3 means_of_transportation, 4 other, 5 sky, 6 vegetation"
   ]
  },
  {
   "cell_type": "code",
   "execution_count": 17,
   "id": "76d335db-11d8-4a06-8320-245e560c190c",
   "metadata": {
    "execution": {
     "iopub.execute_input": "2024-04-24T16:18:17.815825Z",
     "iopub.status.busy": "2024-04-24T16:18:17.815083Z",
     "iopub.status.idle": "2024-04-24T16:18:18.085992Z",
     "shell.execute_reply": "2024-04-24T16:18:18.085314Z",
     "shell.execute_reply.started": "2024-04-24T16:18:17.815755Z"
    }
   },
   "outputs": [
    {
     "name": "stdout",
     "output_type": "stream",
     "text": [
      "(array([0, 1, 2, 3, 4, 5, 6]), array([ 5791,   308,  9166,  1611, 30187,  1764,  7133]))\n",
      "(array([0, 1, 2, 3, 4, 5, 6]), array([15665,   938, 21583,  3794, 80227,  3345, 12480]))\n"
     ]
    }
   ],
   "source": [
    "# rf.fit(X_train3, y_train3)\n",
    "y_pred_aw = rfe.predict(dfae)\n",
    "print(np.unique(y_pred_aw, return_counts=True))\n",
    "y_pred_pw = rfe.predict(dfpe)\n",
    "print(np.unique(y_pred_pw, return_counts=True))"
   ]
  },
  {
   "cell_type": "code",
   "execution_count": 18,
   "id": "328db4fe-6649-4fe1-aa09-02f937b70918",
   "metadata": {
    "execution": {
     "iopub.execute_input": "2024-04-24T16:18:18.664754Z",
     "iopub.status.busy": "2024-04-24T16:18:18.664450Z",
     "iopub.status.idle": "2024-04-24T16:18:18.669386Z",
     "shell.execute_reply": "2024-04-24T16:18:18.668775Z",
     "shell.execute_reply.started": "2024-04-24T16:18:18.664733Z"
    }
   },
   "outputs": [],
   "source": [
    "dfael = dfae\n",
    "dfael['p'] = y_pred_aw\n",
    "dfpel = dfpe\n",
    "dfpel['p'] = y_pred_pw"
   ]
  },
  {
   "cell_type": "code",
   "execution_count": 19,
   "id": "95ed4b60-c8ba-4ee6-976d-772751840803",
   "metadata": {
    "execution": {
     "iopub.execute_input": "2024-04-24T16:18:22.025965Z",
     "iopub.status.busy": "2024-04-24T16:18:22.025447Z",
     "iopub.status.idle": "2024-04-24T16:18:22.030579Z",
     "shell.execute_reply": "2024-04-24T16:18:22.029991Z",
     "shell.execute_reply.started": "2024-04-24T16:18:22.025937Z"
    }
   },
   "outputs": [
    {
     "data": {
      "text/plain": [
       "Index(['gmedian', 'rmedian', 'bmedian', 'gmean', 'rmean', 'bmean', 'gstd',\n",
       "       'rstd', 'bstd', 'gq25', 'gq75', 'rq25', 'rq75', 'bq25', 'bq75',\n",
       "       'cdmean', 'cdstd', 'area', 'aspect_ratio_wh_s', 'extent_s', 'solidity',\n",
       "       'aspect_ratio_wh', 'extent', 'orien_rre', 'orien_ell', 'ed',\n",
       "       'ratio_ell', 'perimeter', 'leftm', 'rightm', 'topm', 'bottomm', 'p'],\n",
       "      dtype='object')"
      ]
     },
     "execution_count": 19,
     "metadata": {},
     "output_type": "execute_result"
    }
   ],
   "source": [
    "dfael.columns"
   ]
  },
  {
   "cell_type": "code",
   "execution_count": 20,
   "id": "8ebdeb9f-fd4b-4238-9b82-c465e422a6b8",
   "metadata": {
    "execution": {
     "iopub.execute_input": "2024-04-24T16:18:22.595565Z",
     "iopub.status.busy": "2024-04-24T16:18:22.594829Z",
     "iopub.status.idle": "2024-04-24T16:18:23.232928Z",
     "shell.execute_reply": "2024-04-24T16:18:23.231869Z",
     "shell.execute_reply.started": "2024-04-24T16:18:22.595539Z"
    }
   },
   "outputs": [],
   "source": [
    "dfa1 = df_a\n",
    "dfp1 = df_p\n",
    "# dataframe_accident_forentropy_predicted_label\n",
    "dfa_epl = pd.merge(dfa1, dfael, on = ['gmedian', 'rmedian', 'bmedian', 'gmean', \n",
    "                                   'rmean', 'bmean', 'gstd', 'rstd', 'bstd', \n",
    "                                   'gq25', 'gq75', 'rq25', 'rq75', 'bq25', \n",
    "                                   'bq75', 'cdmean', 'cdstd', 'area', 'aspect_ratio_wh_s', \n",
    "                                   'extent_s', 'solidity', 'aspect_ratio_wh', 'extent', \n",
    "                                   'orien_rre', 'orien_ell', 'ed', 'ratio_ell', 'perimeter', 'bottomm',\n",
    "                                   'topm', 'leftm', 'rightm'])\n",
    "# dataframe_pseudo_forentropy_predicted_label\n",
    "dfp_epl = pd.merge(dfp1, dfpel, on = ['gmedian', 'rmedian', 'bmedian', 'gmean', \n",
    "                                   'rmean', 'bmean', 'gstd', 'rstd', 'bstd', \n",
    "                                   'gq25', 'gq75', 'rq25', 'rq75', 'bq25', \n",
    "                                   'bq75', 'cdmean', 'cdstd', 'area', 'aspect_ratio_wh_s', \n",
    "                                   'extent_s', 'solidity', 'aspect_ratio_wh', 'extent', \n",
    "                                   'orien_rre', 'orien_ell', 'ed', 'ratio_ell', 'perimeter', 'bottomm',\n",
    "                                   'topm', 'leftm', 'rightm'])"
   ]
  },
  {
   "cell_type": "code",
   "execution_count": 21,
   "id": "75bdba15-6c86-401c-97b9-de645661ba95",
   "metadata": {
    "execution": {
     "iopub.execute_input": "2024-04-24T16:18:23.695085Z",
     "iopub.status.busy": "2024-04-24T16:18:23.694725Z",
     "iopub.status.idle": "2024-04-24T16:18:23.709434Z",
     "shell.execute_reply": "2024-04-24T16:18:23.708743Z",
     "shell.execute_reply.started": "2024-04-24T16:18:23.695062Z"
    }
   },
   "outputs": [
    {
     "data": {
      "text/html": [
       "<div>\n",
       "<style scoped>\n",
       "    .dataframe tbody tr th:only-of-type {\n",
       "        vertical-align: middle;\n",
       "    }\n",
       "\n",
       "    .dataframe tbody tr th {\n",
       "        vertical-align: top;\n",
       "    }\n",
       "\n",
       "    .dataframe thead th {\n",
       "        text-align: right;\n",
       "    }\n",
       "</style>\n",
       "<table border=\"1\" class=\"dataframe\">\n",
       "  <thead>\n",
       "    <tr style=\"text-align: right;\">\n",
       "      <th></th>\n",
       "      <th>p</th>\n",
       "      <th>count</th>\n",
       "    </tr>\n",
       "  </thead>\n",
       "  <tbody>\n",
       "    <tr>\n",
       "      <th>0</th>\n",
       "      <td>0</td>\n",
       "      <td>5957</td>\n",
       "    </tr>\n",
       "    <tr>\n",
       "      <th>1</th>\n",
       "      <td>1</td>\n",
       "      <td>316</td>\n",
       "    </tr>\n",
       "    <tr>\n",
       "      <th>2</th>\n",
       "      <td>2</td>\n",
       "      <td>9490</td>\n",
       "    </tr>\n",
       "    <tr>\n",
       "      <th>3</th>\n",
       "      <td>3</td>\n",
       "      <td>1655</td>\n",
       "    </tr>\n",
       "    <tr>\n",
       "      <th>4</th>\n",
       "      <td>4</td>\n",
       "      <td>30879</td>\n",
       "    </tr>\n",
       "    <tr>\n",
       "      <th>5</th>\n",
       "      <td>5</td>\n",
       "      <td>1798</td>\n",
       "    </tr>\n",
       "    <tr>\n",
       "      <th>6</th>\n",
       "      <td>6</td>\n",
       "      <td>7239</td>\n",
       "    </tr>\n",
       "  </tbody>\n",
       "</table>\n",
       "</div>"
      ],
      "text/plain": [
       "   p  count\n",
       "0  0   5957\n",
       "1  1    316\n",
       "2  2   9490\n",
       "3  3   1655\n",
       "4  4  30879\n",
       "5  5   1798\n",
       "6  6   7239"
      ]
     },
     "execution_count": 21,
     "metadata": {},
     "output_type": "execute_result"
    }
   ],
   "source": [
    "dfa_epl.groupby(['p']).size().reset_index().rename(columns={0:'count'})"
   ]
  },
  {
   "cell_type": "code",
   "execution_count": 22,
   "id": "6f78a44d-49ab-4d9a-9150-18f0305cc384",
   "metadata": {
    "execution": {
     "iopub.execute_input": "2024-04-24T16:18:29.727603Z",
     "iopub.status.busy": "2024-04-24T16:18:29.727293Z",
     "iopub.status.idle": "2024-04-24T16:18:29.732610Z",
     "shell.execute_reply": "2024-04-24T16:18:29.732039Z",
     "shell.execute_reply.started": "2024-04-24T16:18:29.727582Z"
    }
   },
   "outputs": [
    {
     "data": {
      "text/plain": [
       "array([5, 2, 6, 0, 3, 4, 1])"
      ]
     },
     "execution_count": 22,
     "metadata": {},
     "output_type": "execute_result"
    }
   ],
   "source": [
    "dfa_epl['p'].unique()"
   ]
  },
  {
   "cell_type": "code",
   "execution_count": 23,
   "id": "c674a3a8-f413-4209-9a6d-abb549742fbb",
   "metadata": {
    "execution": {
     "iopub.execute_input": "2024-04-24T16:18:32.270126Z",
     "iopub.status.busy": "2024-04-24T16:18:32.269836Z",
     "iopub.status.idle": "2024-04-24T16:18:32.272771Z",
     "shell.execute_reply": "2024-04-24T16:18:32.272209Z",
     "shell.execute_reply.started": "2024-04-24T16:18:32.270108Z"
    }
   },
   "outputs": [],
   "source": [
    "# dfa_epl.to_csv('/home/yelhe/script/mt/output/pred_accident_label_whole7.csv', index = False)\n",
    "# dfp_epl.to_csv('/home/yelhe/script/mt/output/pred_pseudo_label_whole7.csv', index = False)"
   ]
  },
  {
   "cell_type": "markdown",
   "id": "5db2416c-26e6-4cf6-8c99-dc8dd66bb6ca",
   "metadata": {},
   "source": [
    "#### For entropy of ground scene"
   ]
  },
  {
   "cell_type": "code",
   "execution_count": 31,
   "id": "ddf61e13-6550-4fb1-bd99-a093af6b8186",
   "metadata": {
    "execution": {
     "iopub.execute_input": "2024-04-24T16:29:23.613627Z",
     "iopub.status.busy": "2024-04-24T16:29:23.612906Z",
     "iopub.status.idle": "2024-04-24T16:29:23.616347Z",
     "shell.execute_reply": "2024-04-24T16:29:23.615758Z",
     "shell.execute_reply.started": "2024-04-24T16:29:23.613575Z"
    }
   },
   "outputs": [],
   "source": [
    "dfai = dfa_epl\n",
    "dfpi = dfp_epl"
   ]
  },
  {
   "cell_type": "code",
   "execution_count": 32,
   "id": "4158bdef-79a4-46cc-aebd-311bf3d04670",
   "metadata": {
    "execution": {
     "iopub.execute_input": "2024-04-24T16:29:23.965118Z",
     "iopub.status.busy": "2024-04-24T16:29:23.964808Z",
     "iopub.status.idle": "2024-04-24T16:29:23.990386Z",
     "shell.execute_reply": "2024-04-24T16:29:23.989712Z",
     "shell.execute_reply.started": "2024-04-24T16:29:23.965097Z"
    }
   },
   "outputs": [],
   "source": [
    "# Using the infrastructure groups recognized by model above\n",
    "# 1 curb, 2 infrastructure\n",
    "dfai = dfa_epl.loc[(dfa_epl['p'] == 1)|(dfa_epl['p'] == 2)]\n",
    "dfpi = dfp_epl.loc[(dfp_epl['p'] == 1)|(dfp_epl['p'] == 2)]"
   ]
  },
  {
   "cell_type": "code",
   "execution_count": 33,
   "id": "d64fa5d3-4d70-44bf-a05a-c622707d83d3",
   "metadata": {
    "execution": {
     "iopub.execute_input": "2024-04-24T16:29:24.469748Z",
     "iopub.status.busy": "2024-04-24T16:29:24.469288Z",
     "iopub.status.idle": "2024-04-24T16:29:24.474189Z",
     "shell.execute_reply": "2024-04-24T16:29:24.473597Z",
     "shell.execute_reply.started": "2024-04-24T16:29:24.469723Z"
    }
   },
   "outputs": [
    {
     "data": {
      "text/plain": [
       "((9806, 38), (23307, 38))"
      ]
     },
     "execution_count": 33,
     "metadata": {},
     "output_type": "execute_result"
    }
   ],
   "source": [
    "dfai.shape, dfpi.shape"
   ]
  },
  {
   "cell_type": "code",
   "execution_count": 34,
   "id": "2f394d26-f569-4d91-8d43-fb7db87bbd4d",
   "metadata": {
    "execution": {
     "iopub.execute_input": "2024-04-24T16:29:25.015806Z",
     "iopub.status.busy": "2024-04-24T16:29:25.015140Z",
     "iopub.status.idle": "2024-04-24T16:29:25.032597Z",
     "shell.execute_reply": "2024-04-24T16:29:25.031464Z",
     "shell.execute_reply.started": "2024-04-24T16:29:25.015758Z"
    }
   },
   "outputs": [],
   "source": [
    "rfi = joblib.load(\"my_random_forest_3_ground7_new1.joblib\")\n",
    "# rfi = joblib.load(\"my_random_forest_3_ground7.joblib\")"
   ]
  },
  {
   "cell_type": "code",
   "execution_count": 35,
   "id": "8490e4c7-5cf3-455b-8163-21192da649fc",
   "metadata": {
    "execution": {
     "iopub.execute_input": "2024-04-24T16:29:26.117361Z",
     "iopub.status.busy": "2024-04-24T16:29:26.117011Z",
     "iopub.status.idle": "2024-04-24T16:29:26.126387Z",
     "shell.execute_reply": "2024-04-24T16:29:26.125717Z",
     "shell.execute_reply.started": "2024-04-24T16:29:26.117337Z"
    }
   },
   "outputs": [],
   "source": [
    "# Drop info columns\n",
    "dfai = dfai.drop(['mask', 'Nr','isconvex','is_cen_inside','is_mce_inside', 'p'], axis = 1)\n",
    "dfpi = dfpi.drop(['mask', 'Nr','isconvex','is_cen_inside','is_mce_inside', 'p'], axis = 1)"
   ]
  },
  {
   "cell_type": "code",
   "execution_count": 36,
   "id": "d830e260-b666-4bc9-bf8c-a8a117393a2c",
   "metadata": {
    "execution": {
     "iopub.execute_input": "2024-04-24T16:29:28.394675Z",
     "iopub.status.busy": "2024-04-24T16:29:28.394232Z",
     "iopub.status.idle": "2024-04-24T16:29:28.397610Z",
     "shell.execute_reply": "2024-04-24T16:29:28.396809Z",
     "shell.execute_reply.started": "2024-04-24T16:29:28.394654Z"
    }
   },
   "outputs": [],
   "source": [
    "# 0 bike lane, 1 curb, 2 ground_sign, 3 manhole, 4 other, 5 pavement, 6 road"
   ]
  },
  {
   "cell_type": "code",
   "execution_count": 37,
   "id": "9a81c15b-fb07-49b0-ad73-c96b832ce946",
   "metadata": {
    "execution": {
     "iopub.execute_input": "2024-04-24T16:29:28.821582Z",
     "iopub.status.busy": "2024-04-24T16:29:28.821000Z",
     "iopub.status.idle": "2024-04-24T16:29:28.877348Z",
     "shell.execute_reply": "2024-04-24T16:29:28.876684Z",
     "shell.execute_reply.started": "2024-04-24T16:29:28.821558Z"
    }
   },
   "outputs": [
    {
     "name": "stdout",
     "output_type": "stream",
     "text": [
      "(array([0, 1, 2, 3, 4, 5, 6]), array([  12,  503, 2809,  430, 2854, 1395, 1803]))\n",
      "(array([0, 1, 2, 3, 4, 5, 6]), array([  19, 1321, 6009,  944, 6298, 3575, 5141]))\n"
     ]
    }
   ],
   "source": [
    "# rf.fit(X_train3, y_train3)\n",
    "y_pred_ai = rfi.predict(dfai)\n",
    "print(np.unique(y_pred_ai, return_counts=True))\n",
    "y_pred_pi = rfi.predict(dfpi)\n",
    "print(np.unique(y_pred_pi, return_counts=True))"
   ]
  },
  {
   "cell_type": "code",
   "execution_count": 38,
   "id": "555080e0-eab8-49a9-9c8d-92c33417fd6a",
   "metadata": {
    "execution": {
     "iopub.execute_input": "2024-04-24T16:29:31.897938Z",
     "iopub.status.busy": "2024-04-24T16:29:31.897285Z",
     "iopub.status.idle": "2024-04-24T16:29:31.901966Z",
     "shell.execute_reply": "2024-04-24T16:29:31.901244Z",
     "shell.execute_reply.started": "2024-04-24T16:29:31.897913Z"
    }
   },
   "outputs": [],
   "source": [
    "dfail = dfai\n",
    "dfail['p'] = y_pred_ai\n",
    "dfpil = dfpi\n",
    "dfpil['p'] = y_pred_pi"
   ]
  },
  {
   "cell_type": "code",
   "execution_count": 39,
   "id": "2c825b61-11bb-44a1-92e1-3886220a81b4",
   "metadata": {
    "execution": {
     "iopub.execute_input": "2024-04-24T16:29:34.719454Z",
     "iopub.status.busy": "2024-04-24T16:29:34.719098Z",
     "iopub.status.idle": "2024-04-24T16:29:35.090274Z",
     "shell.execute_reply": "2024-04-24T16:29:35.089524Z",
     "shell.execute_reply.started": "2024-04-24T16:29:34.719434Z"
    }
   },
   "outputs": [],
   "source": [
    "dfa1 = df_a\n",
    "dfp1 = df_p\n",
    "# dataframe_accident_forentropy_infrastructure_ground_predicted_label\n",
    "dfa_eipl = pd.merge(dfa1, dfail, on = ['gmedian', 'rmedian', 'bmedian', 'gmean', \n",
    "                                   'rmean', 'bmean', 'gstd', 'rstd', 'bstd', \n",
    "                                   'gq25', 'gq75', 'rq25', 'rq75', 'bq25', \n",
    "                                   'bq75', 'cdmean', 'cdstd', 'area', 'aspect_ratio_wh_s', \n",
    "                                   'extent_s', 'solidity', 'aspect_ratio_wh', 'extent', \n",
    "                                   'orien_rre', 'orien_ell', 'ed', 'ratio_ell', 'perimeter', 'bottomm',\n",
    "                                   'topm', 'leftm', 'rightm'])\n",
    "# dataframe_pseudo_forentropy_infrastructure_ground_predicted_label\n",
    "dfp_eipl = pd.merge(dfp1, dfpil, on = ['gmedian', 'rmedian', 'bmedian', 'gmean', \n",
    "                                   'rmean', 'bmean', 'gstd', 'rstd', 'bstd', \n",
    "                                   'gq25', 'gq75', 'rq25', 'rq75', 'bq25', \n",
    "                                   'bq75', 'cdmean', 'cdstd', 'area', 'aspect_ratio_wh_s', \n",
    "                                   'extent_s', 'solidity', 'aspect_ratio_wh', 'extent', \n",
    "                                   'orien_rre', 'orien_ell', 'ed', 'ratio_ell', 'perimeter', 'bottomm',\n",
    "                                   'topm', 'leftm', 'rightm'])"
   ]
  },
  {
   "cell_type": "code",
   "execution_count": 40,
   "id": "635f9d41-5080-4384-a7d2-1ac52a82ee00",
   "metadata": {
    "execution": {
     "iopub.execute_input": "2024-04-24T16:29:45.642596Z",
     "iopub.status.busy": "2024-04-24T16:29:45.642085Z",
     "iopub.status.idle": "2024-04-24T16:29:46.717121Z",
     "shell.execute_reply": "2024-04-24T16:29:46.716038Z",
     "shell.execute_reply.started": "2024-04-24T16:29:45.642575Z"
    }
   },
   "outputs": [],
   "source": [
    "dfa_eipl.to_csv('/home/yelhe/script/mt/output/pred_accident_label_ground7_new.csv', index = False)\n",
    "dfp_eipl.to_csv('/home/yelhe/script/mt/output/pred_pseudo_label_ground7_new.csv', index = False)"
   ]
  },
  {
   "cell_type": "markdown",
   "id": "bd101943-4c83-4964-83ed-d039aa3d32af",
   "metadata": {
    "execution": {
     "iopub.execute_input": "2024-02-28T16:28:24.177559Z",
     "iopub.status.busy": "2024-02-28T16:28:24.176598Z",
     "iopub.status.idle": "2024-02-28T16:28:24.183912Z",
     "shell.execute_reply": "2024-02-28T16:28:24.182186Z",
     "shell.execute_reply.started": "2024-02-28T16:28:24.177507Z"
    }
   },
   "source": [
    "#### Entropy calculation"
   ]
  },
  {
   "cell_type": "markdown",
   "id": "b57658a3-7708-46bc-8a57-9c8a56f0bc7d",
   "metadata": {},
   "source": [
    "##### For the whole scene"
   ]
  },
  {
   "cell_type": "code",
   "execution_count": 32,
   "id": "f79cca9f-0f22-4d9d-b100-eeb0e70a644b",
   "metadata": {
    "execution": {
     "iopub.execute_input": "2024-03-04T13:49:51.907861Z",
     "iopub.status.busy": "2024-03-04T13:49:51.907607Z",
     "iopub.status.idle": "2024-03-04T13:49:51.911763Z",
     "shell.execute_reply": "2024-03-04T13:49:51.911224Z",
     "shell.execute_reply.started": "2024-03-04T13:49:51.907843Z"
    }
   },
   "outputs": [
    {
     "data": {
      "text/plain": [
       "Index(['mask', 'gmedian', 'rmedian', 'bmedian', 'gmean', 'rmean', 'bmean',\n",
       "       'gstd', 'rstd', 'bstd', 'gq25', 'gq75', 'rq25', 'rq75', 'bq25', 'bq75',\n",
       "       'cdmean', 'cdstd', 'isconvex', 'area', 'aspect_ratio_wh_s', 'extent_s',\n",
       "       'solidity', 'aspect_ratio_wh', 'extent', 'orien_rre', 'orien_ell', 'ed',\n",
       "       'ratio_ell', 'perimeter', 'is_cen_inside', 'is_mce_inside', 'leftm',\n",
       "       'rightm', 'topm', 'bottomm', 'Nr', 'p'],\n",
       "      dtype='object')"
      ]
     },
     "execution_count": 32,
     "metadata": {},
     "output_type": "execute_result"
    }
   ],
   "source": [
    "# Using dfa_epl & dfp_epl\n",
    "dfa_epl.columns"
   ]
  },
  {
   "cell_type": "code",
   "execution_count": 33,
   "id": "84028565-c622-48a6-89e9-ad4093c2b432",
   "metadata": {
    "execution": {
     "iopub.execute_input": "2024-03-04T13:49:51.912872Z",
     "iopub.status.busy": "2024-03-04T13:49:51.912429Z",
     "iopub.status.idle": "2024-03-04T13:49:51.941862Z",
     "shell.execute_reply": "2024-03-04T13:49:51.941281Z",
     "shell.execute_reply.started": "2024-03-04T13:49:51.912855Z"
    }
   },
   "outputs": [
    {
     "data": {
      "text/html": [
       "<div>\n",
       "<style scoped>\n",
       "    .dataframe tbody tr th:only-of-type {\n",
       "        vertical-align: middle;\n",
       "    }\n",
       "\n",
       "    .dataframe tbody tr th {\n",
       "        vertical-align: top;\n",
       "    }\n",
       "\n",
       "    .dataframe thead th {\n",
       "        text-align: right;\n",
       "    }\n",
       "</style>\n",
       "<table border=\"1\" class=\"dataframe\">\n",
       "  <thead>\n",
       "    <tr style=\"text-align: right;\">\n",
       "      <th></th>\n",
       "      <th>mask</th>\n",
       "      <th>gmedian</th>\n",
       "      <th>rmedian</th>\n",
       "      <th>bmedian</th>\n",
       "      <th>gmean</th>\n",
       "      <th>rmean</th>\n",
       "      <th>bmean</th>\n",
       "      <th>gstd</th>\n",
       "      <th>rstd</th>\n",
       "      <th>bstd</th>\n",
       "      <th>...</th>\n",
       "      <th>ratio_ell</th>\n",
       "      <th>perimeter</th>\n",
       "      <th>is_cen_inside</th>\n",
       "      <th>is_mce_inside</th>\n",
       "      <th>leftm</th>\n",
       "      <th>rightm</th>\n",
       "      <th>topm</th>\n",
       "      <th>bottomm</th>\n",
       "      <th>Nr</th>\n",
       "      <th>p</th>\n",
       "    </tr>\n",
       "  </thead>\n",
       "  <tbody>\n",
       "    <tr>\n",
       "      <th>0</th>\n",
       "      <td>1</td>\n",
       "      <td>244.0</td>\n",
       "      <td>248.0</td>\n",
       "      <td>237.0</td>\n",
       "      <td>240.730656</td>\n",
       "      <td>245.506949</td>\n",
       "      <td>232.780832</td>\n",
       "      <td>12.440094</td>\n",
       "      <td>8.665818</td>\n",
       "      <td>17.859522</td>\n",
       "      <td>...</td>\n",
       "      <td>2.712297</td>\n",
       "      <td>2958.881371</td>\n",
       "      <td>1.0</td>\n",
       "      <td>1.0</td>\n",
       "      <td>0</td>\n",
       "      <td>639</td>\n",
       "      <td>0</td>\n",
       "      <td>297</td>\n",
       "      <td>999000608525971</td>\n",
       "      <td>5</td>\n",
       "    </tr>\n",
       "    <tr>\n",
       "      <th>1</th>\n",
       "      <td>2</td>\n",
       "      <td>121.0</td>\n",
       "      <td>118.0</td>\n",
       "      <td>119.0</td>\n",
       "      <td>125.207882</td>\n",
       "      <td>121.692088</td>\n",
       "      <td>123.851176</td>\n",
       "      <td>28.212500</td>\n",
       "      <td>28.467390</td>\n",
       "      <td>27.957547</td>\n",
       "      <td>...</td>\n",
       "      <td>2.441359</td>\n",
       "      <td>1026.933108</td>\n",
       "      <td>1.0</td>\n",
       "      <td>1.0</td>\n",
       "      <td>288</td>\n",
       "      <td>604</td>\n",
       "      <td>367</td>\n",
       "      <td>534</td>\n",
       "      <td>999000608525971</td>\n",
       "      <td>2</td>\n",
       "    </tr>\n",
       "    <tr>\n",
       "      <th>2</th>\n",
       "      <td>3</td>\n",
       "      <td>244.0</td>\n",
       "      <td>248.0</td>\n",
       "      <td>237.0</td>\n",
       "      <td>240.717879</td>\n",
       "      <td>245.472134</td>\n",
       "      <td>232.790564</td>\n",
       "      <td>12.579833</td>\n",
       "      <td>8.892382</td>\n",
       "      <td>17.936509</td>\n",
       "      <td>...</td>\n",
       "      <td>2.835151</td>\n",
       "      <td>2765.910810</td>\n",
       "      <td>1.0</td>\n",
       "      <td>1.0</td>\n",
       "      <td>0</td>\n",
       "      <td>639</td>\n",
       "      <td>0</td>\n",
       "      <td>298</td>\n",
       "      <td>999000608525971</td>\n",
       "      <td>5</td>\n",
       "    </tr>\n",
       "    <tr>\n",
       "      <th>3</th>\n",
       "      <td>4</td>\n",
       "      <td>102.0</td>\n",
       "      <td>55.0</td>\n",
       "      <td>84.0</td>\n",
       "      <td>115.255602</td>\n",
       "      <td>74.179253</td>\n",
       "      <td>98.845643</td>\n",
       "      <td>46.973404</td>\n",
       "      <td>55.987560</td>\n",
       "      <td>49.051072</td>\n",
       "      <td>...</td>\n",
       "      <td>1.540817</td>\n",
       "      <td>139.982755</td>\n",
       "      <td>1.0</td>\n",
       "      <td>1.0</td>\n",
       "      <td>246</td>\n",
       "      <td>278</td>\n",
       "      <td>270</td>\n",
       "      <td>318</td>\n",
       "      <td>999000608525971</td>\n",
       "      <td>6</td>\n",
       "    </tr>\n",
       "    <tr>\n",
       "      <th>4</th>\n",
       "      <td>5</td>\n",
       "      <td>115.0</td>\n",
       "      <td>117.0</td>\n",
       "      <td>111.0</td>\n",
       "      <td>113.090287</td>\n",
       "      <td>114.524478</td>\n",
       "      <td>109.461159</td>\n",
       "      <td>17.588751</td>\n",
       "      <td>17.982858</td>\n",
       "      <td>16.838046</td>\n",
       "      <td>...</td>\n",
       "      <td>2.304478</td>\n",
       "      <td>990.340181</td>\n",
       "      <td>1.0</td>\n",
       "      <td>-1.0</td>\n",
       "      <td>410</td>\n",
       "      <td>639</td>\n",
       "      <td>326</td>\n",
       "      <td>507</td>\n",
       "      <td>999000608525971</td>\n",
       "      <td>2</td>\n",
       "    </tr>\n",
       "  </tbody>\n",
       "</table>\n",
       "<p>5 rows × 38 columns</p>\n",
       "</div>"
      ],
      "text/plain": [
       "   mask  gmedian  rmedian  bmedian       gmean       rmean       bmean  \\\n",
       "0     1    244.0    248.0    237.0  240.730656  245.506949  232.780832   \n",
       "1     2    121.0    118.0    119.0  125.207882  121.692088  123.851176   \n",
       "2     3    244.0    248.0    237.0  240.717879  245.472134  232.790564   \n",
       "3     4    102.0     55.0     84.0  115.255602   74.179253   98.845643   \n",
       "4     5    115.0    117.0    111.0  113.090287  114.524478  109.461159   \n",
       "\n",
       "        gstd       rstd       bstd  ...  ratio_ell    perimeter  \\\n",
       "0  12.440094   8.665818  17.859522  ...   2.712297  2958.881371   \n",
       "1  28.212500  28.467390  27.957547  ...   2.441359  1026.933108   \n",
       "2  12.579833   8.892382  17.936509  ...   2.835151  2765.910810   \n",
       "3  46.973404  55.987560  49.051072  ...   1.540817   139.982755   \n",
       "4  17.588751  17.982858  16.838046  ...   2.304478   990.340181   \n",
       "\n",
       "   is_cen_inside  is_mce_inside  leftm  rightm  topm  bottomm  \\\n",
       "0            1.0            1.0      0     639     0      297   \n",
       "1            1.0            1.0    288     604   367      534   \n",
       "2            1.0            1.0      0     639     0      298   \n",
       "3            1.0            1.0    246     278   270      318   \n",
       "4            1.0           -1.0    410     639   326      507   \n",
       "\n",
       "                Nr  p  \n",
       "0  999000608525971  5  \n",
       "1  999000608525971  2  \n",
       "2  999000608525971  5  \n",
       "3  999000608525971  6  \n",
       "4  999000608525971  2  \n",
       "\n",
       "[5 rows x 38 columns]"
      ]
     },
     "execution_count": 33,
     "metadata": {},
     "output_type": "execute_result"
    }
   ],
   "source": [
    "dfa_epl.head()"
   ]
  },
  {
   "cell_type": "code",
   "execution_count": 34,
   "id": "e09a015e-1c15-4772-a590-0d498f32a683",
   "metadata": {
    "execution": {
     "iopub.execute_input": "2024-03-04T13:49:51.943110Z",
     "iopub.status.busy": "2024-03-04T13:49:51.942586Z",
     "iopub.status.idle": "2024-03-04T13:49:51.947876Z",
     "shell.execute_reply": "2024-03-04T13:49:51.947331Z",
     "shell.execute_reply.started": "2024-03-04T13:49:51.943089Z"
    }
   },
   "outputs": [],
   "source": [
    "# Accident whole scene entropy\n",
    "awe = dfa_epl[['Nr', 'p']]\n",
    "pwe = dfp_epl[['Nr', 'p']]"
   ]
  },
  {
   "cell_type": "code",
   "execution_count": 40,
   "id": "7b884d9f-b02a-4161-aef8-d6ab9ad3166d",
   "metadata": {
    "execution": {
     "iopub.execute_input": "2024-03-04T13:51:42.876678Z",
     "iopub.status.busy": "2024-03-04T13:51:42.876380Z",
     "iopub.status.idle": "2024-03-04T13:51:43.053909Z",
     "shell.execute_reply": "2024-03-04T13:51:43.053280Z",
     "shell.execute_reply.started": "2024-03-04T13:51:42.876658Z"
    }
   },
   "outputs": [],
   "source": [
    "awe.loc[:,'Nr'] = awe.loc[:,'Nr'].values.astype(str)\n",
    "awe.loc[:,'id'] = awe.Nr.str[-15:-1]\n",
    "awe.loc[:,'dir'] = awe.Nr.str[-1]\n",
    "\n",
    "pwe.loc[:,'Nr'] = pwe.loc[:,'Nr'].values.astype(str)\n",
    "pwe.loc[:,'Nr'] = pwe.loc[:,'Nr'].str.zfill(5)\n",
    "pwe.loc[:,'id'] = pwe.Nr.str[-5:-1]\n",
    "pwe.loc[:,'dir'] = pwe.Nr.str[-1]"
   ]
  },
  {
   "cell_type": "code",
   "execution_count": 41,
   "id": "cd1b4e89-806c-49fd-a964-99f165ff3aa4",
   "metadata": {
    "execution": {
     "iopub.execute_input": "2024-03-04T13:51:44.749903Z",
     "iopub.status.busy": "2024-03-04T13:51:44.749573Z",
     "iopub.status.idle": "2024-03-04T13:51:44.792690Z",
     "shell.execute_reply": "2024-03-04T13:51:44.791989Z",
     "shell.execute_reply.started": "2024-03-04T13:51:44.749882Z"
    }
   },
   "outputs": [],
   "source": [
    "# Predicted curb in accident points summary\n",
    "awes = awe.groupby(['id', 'dir', 'p']).size().reset_index().rename(columns={0:'count'})\n",
    "# Predicted curb in pseudo points summary\n",
    "pwes = pwe.groupby(['id', 'dir','p']).size().reset_index().rename(columns={0:'count'})"
   ]
  },
  {
   "cell_type": "code",
   "execution_count": 37,
   "id": "9baf2903-8d40-45da-8738-673ab9bb12c1",
   "metadata": {
    "execution": {
     "iopub.execute_input": "2024-03-04T13:49:52.251971Z",
     "iopub.status.busy": "2024-03-04T13:49:52.251747Z",
     "iopub.status.idle": "2024-03-04T13:49:52.254507Z",
     "shell.execute_reply": "2024-03-04T13:49:52.254019Z",
     "shell.execute_reply.started": "2024-03-04T13:49:52.251954Z"
    }
   },
   "outputs": [],
   "source": [
    "# awes.to_csv('/home/yelhe/script/mt/output/accident_predmaskgroup_count.csv', index = False)\n",
    "# pwes.to_csv('/home/yelhe/script/mt/output/pseudo_predmaskgroup_count.csv', index = False)"
   ]
  },
  {
   "cell_type": "code",
   "execution_count": 147,
   "id": "82a2d96d-d159-49ac-9fbf-478929e81610",
   "metadata": {
    "execution": {
     "iopub.execute_input": "2024-03-04T15:55:21.911744Z",
     "iopub.status.busy": "2024-03-04T15:55:21.911218Z",
     "iopub.status.idle": "2024-03-04T15:55:21.915751Z",
     "shell.execute_reply": "2024-03-04T15:55:21.915225Z",
     "shell.execute_reply.started": "2024-03-04T15:55:21.911716Z"
    }
   },
   "outputs": [
    {
     "data": {
      "text/plain": [
       "array([0, 2, 4, 5, 6, 3, 1])"
      ]
     },
     "execution_count": 147,
     "metadata": {},
     "output_type": "execute_result"
    }
   ],
   "source": [
    "awes['p'].unique()"
   ]
  },
  {
   "cell_type": "code",
   "execution_count": null,
   "id": "6dd1e715-1fe9-45e9-bac2-78923ada9d5b",
   "metadata": {},
   "outputs": [],
   "source": [
    "# For each location, each direction, the image have an entropy \n",
    "# 1. entropy based on the histogram of pixels\n",
    "# 2. entropy based on the recognized masks, of 7 mask groups\n",
    "\n",
    "## Here are the entropy based on the recognized masks "
   ]
  },
  {
   "cell_type": "code",
   "execution_count": 43,
   "id": "afa832bf-4e28-4aa5-a7b2-aca929741fd5",
   "metadata": {
    "execution": {
     "iopub.execute_input": "2024-03-04T13:57:52.397585Z",
     "iopub.status.busy": "2024-03-04T13:57:52.397285Z",
     "iopub.status.idle": "2024-03-04T13:57:52.400465Z",
     "shell.execute_reply": "2024-03-04T13:57:52.399802Z",
     "shell.execute_reply.started": "2024-03-04T13:57:52.397567Z"
    }
   },
   "outputs": [],
   "source": [
    "from scipy.stats import entropy"
   ]
  },
  {
   "cell_type": "code",
   "execution_count": 75,
   "id": "b486c18a-f6b5-4e49-924b-f58c3bde4387",
   "metadata": {
    "execution": {
     "iopub.execute_input": "2024-03-04T14:25:59.773226Z",
     "iopub.status.busy": "2024-03-04T14:25:59.772941Z",
     "iopub.status.idle": "2024-03-04T14:25:59.781106Z",
     "shell.execute_reply": "2024-03-04T14:25:59.780595Z",
     "shell.execute_reply.started": "2024-03-04T14:25:59.773208Z"
    }
   },
   "outputs": [],
   "source": [
    "totala = awes.groupby(['id','dir']).sum().reset_index().rename(columns = {'count':'sum'})\n",
    "totala = totala.drop(['p'], axis = 1)"
   ]
  },
  {
   "cell_type": "code",
   "execution_count": 76,
   "id": "ecc16190-5ee2-4f5d-8efe-fa12f2711776",
   "metadata": {
    "execution": {
     "iopub.execute_input": "2024-03-04T14:26:01.887124Z",
     "iopub.status.busy": "2024-03-04T14:26:01.886835Z",
     "iopub.status.idle": "2024-03-04T14:26:01.891083Z",
     "shell.execute_reply": "2024-03-04T14:26:01.890501Z",
     "shell.execute_reply.started": "2024-03-04T14:26:01.887106Z"
    }
   },
   "outputs": [
    {
     "data": {
      "text/plain": [
       "Index(['id', 'dir', 'sum'], dtype='object')"
      ]
     },
     "execution_count": 76,
     "metadata": {},
     "output_type": "execute_result"
    }
   ],
   "source": [
    "totala.columns"
   ]
  },
  {
   "cell_type": "code",
   "execution_count": 129,
   "id": "ad758301-65e9-493d-9945-14f378710304",
   "metadata": {
    "execution": {
     "iopub.execute_input": "2024-03-04T15:36:12.651335Z",
     "iopub.status.busy": "2024-03-04T15:36:12.651001Z",
     "iopub.status.idle": "2024-03-04T15:36:12.659302Z",
     "shell.execute_reply": "2024-03-04T15:36:12.658482Z",
     "shell.execute_reply.started": "2024-03-04T15:36:12.651313Z"
    }
   },
   "outputs": [],
   "source": [
    "dfa = pd.merge(awes, totala, on = ['id', 'dir'])"
   ]
  },
  {
   "cell_type": "code",
   "execution_count": 130,
   "id": "2cda75a8-80a5-4e89-a44a-e85dc89b40d4",
   "metadata": {
    "execution": {
     "iopub.execute_input": "2024-03-04T15:36:13.429201Z",
     "iopub.status.busy": "2024-03-04T15:36:13.428698Z",
     "iopub.status.idle": "2024-03-04T15:36:13.432685Z",
     "shell.execute_reply": "2024-03-04T15:36:13.432183Z",
     "shell.execute_reply.started": "2024-03-04T15:36:13.429178Z"
    }
   },
   "outputs": [],
   "source": [
    "dfa['percentage'] = dfa['count']/dfa['sum']"
   ]
  },
  {
   "cell_type": "code",
   "execution_count": 131,
   "id": "06ca2844-6261-4693-b9b6-5a5862d9dce6",
   "metadata": {
    "execution": {
     "iopub.execute_input": "2024-03-04T15:36:13.781833Z",
     "iopub.status.busy": "2024-03-04T15:36:13.781386Z",
     "iopub.status.idle": "2024-03-04T15:36:13.789868Z",
     "shell.execute_reply": "2024-03-04T15:36:13.789328Z",
     "shell.execute_reply.started": "2024-03-04T15:36:13.781812Z"
    }
   },
   "outputs": [
    {
     "name": "stdout",
     "output_type": "stream",
     "text": [
      "<class 'pandas.core.frame.DataFrame'>\n",
      "RangeIndex: 6538 entries, 0 to 6537\n",
      "Data columns (total 6 columns):\n",
      " #   Column      Non-Null Count  Dtype  \n",
      "---  ------      --------------  -----  \n",
      " 0   id          6538 non-null   object \n",
      " 1   dir         6538 non-null   object \n",
      " 2   p           6538 non-null   int64  \n",
      " 3   count       6538 non-null   int64  \n",
      " 4   sum         6538 non-null   int64  \n",
      " 5   percentage  6538 non-null   float64\n",
      "dtypes: float64(1), int64(3), object(2)\n",
      "memory usage: 306.6+ KB\n"
     ]
    }
   ],
   "source": [
    "dfa.info()"
   ]
  },
  {
   "cell_type": "code",
   "execution_count": 132,
   "id": "4d72659b-3249-4053-808d-e777a3171d83",
   "metadata": {
    "execution": {
     "iopub.execute_input": "2024-03-04T15:36:15.965440Z",
     "iopub.status.busy": "2024-03-04T15:36:15.965154Z",
     "iopub.status.idle": "2024-03-04T15:36:15.969783Z",
     "shell.execute_reply": "2024-03-04T15:36:15.969145Z",
     "shell.execute_reply.started": "2024-03-04T15:36:15.965421Z"
    }
   },
   "outputs": [],
   "source": [
    "dfa['id_dir'] = dfa['id'] + dfa['dir']"
   ]
  },
  {
   "cell_type": "code",
   "execution_count": 193,
   "id": "8dad8931-7e90-43f6-8287-7331a40d7c50",
   "metadata": {
    "execution": {
     "iopub.execute_input": "2024-03-04T16:45:02.362021Z",
     "iopub.status.busy": "2024-03-04T16:45:02.361737Z",
     "iopub.status.idle": "2024-03-04T16:45:02.414627Z",
     "shell.execute_reply": "2024-03-04T16:45:02.414128Z",
     "shell.execute_reply.started": "2024-03-04T16:45:02.362002Z"
    }
   },
   "outputs": [],
   "source": [
    "# grouped_arrays_agg = dfa.groupby(['id', 'dir'])['percentage'].agg(np.array)\n",
    "grouped = dfa.groupby('id_dir')\n",
    "\n",
    "# Convert groups to NumPy arrays using list comprehension\n",
    "grouped_arrays_list = {id_dir: dfa['percentage'].iloc[indices].values for id_dir, indices in grouped.groups.items()}\n",
    "\n",
    "# print(grouped_arrays_list)"
   ]
  },
  {
   "cell_type": "code",
   "execution_count": 134,
   "id": "65dbf810-e507-40ae-9c60-7db66f04a98d",
   "metadata": {
    "execution": {
     "iopub.execute_input": "2024-03-04T15:36:25.749308Z",
     "iopub.status.busy": "2024-03-04T15:36:25.748800Z",
     "iopub.status.idle": "2024-03-04T15:36:25.752001Z",
     "shell.execute_reply": "2024-03-04T15:36:25.751320Z",
     "shell.execute_reply.started": "2024-03-04T15:36:25.749285Z"
    }
   },
   "outputs": [],
   "source": [
    "iddirl = list(grouped_arrays_list.keys())"
   ]
  },
  {
   "cell_type": "code",
   "execution_count": 135,
   "id": "07a30443-4259-4b15-8e7c-de5e7d0147d0",
   "metadata": {
    "execution": {
     "iopub.execute_input": "2024-03-04T15:36:26.341830Z",
     "iopub.status.busy": "2024-03-04T15:36:26.341534Z",
     "iopub.status.idle": "2024-03-04T15:36:26.346085Z",
     "shell.execute_reply": "2024-03-04T15:36:26.345471Z",
     "shell.execute_reply.started": "2024-03-04T15:36:26.341812Z"
    }
   },
   "outputs": [
    {
     "data": {
      "text/plain": [
       "array([0.09090909, 0.06060606, 0.04545455, 0.68181818, 0.01515152,\n",
       "       0.10606061])"
      ]
     },
     "execution_count": 135,
     "metadata": {},
     "output_type": "execute_result"
    }
   ],
   "source": [
    "grouped_arrays_list[iddirl[1]]"
   ]
  },
  {
   "cell_type": "code",
   "execution_count": 136,
   "id": "4f65e6be-7cb8-4b3d-a53b-97a0ccba25f6",
   "metadata": {
    "execution": {
     "iopub.execute_input": "2024-03-04T15:36:27.001542Z",
     "iopub.status.busy": "2024-03-04T15:36:27.001249Z",
     "iopub.status.idle": "2024-03-04T15:36:27.019710Z",
     "shell.execute_reply": "2024-03-04T15:36:27.019148Z",
     "shell.execute_reply.started": "2024-03-04T15:36:27.001525Z"
    }
   },
   "outputs": [],
   "source": [
    "en = []\n",
    "for i in range(0, len(iddirl)):\n",
    "    l = grouped_arrays_list[iddirl[i]]\n",
    "    e = entropy(l)\n",
    "    en.append(e)"
   ]
  },
  {
   "cell_type": "code",
   "execution_count": 137,
   "id": "1e329cb2-d929-48dc-bd61-b504a99eeb69",
   "metadata": {
    "execution": {
     "iopub.execute_input": "2024-03-04T15:36:28.805047Z",
     "iopub.status.busy": "2024-03-04T15:36:28.804683Z",
     "iopub.status.idle": "2024-03-04T15:36:28.809308Z",
     "shell.execute_reply": "2024-03-04T15:36:28.808639Z",
     "shell.execute_reply.started": "2024-03-04T15:36:28.805026Z"
    }
   },
   "outputs": [
    {
     "data": {
      "text/plain": [
       "0.9453221668599062"
      ]
     },
     "execution_count": 137,
     "metadata": {},
     "output_type": "execute_result"
    }
   ],
   "source": [
    "entropy(grouped_arrays_list[iddirl[0]])"
   ]
  },
  {
   "cell_type": "code",
   "execution_count": 138,
   "id": "272b3378-342b-428e-a081-064519a21f3a",
   "metadata": {
    "execution": {
     "iopub.execute_input": "2024-03-04T15:36:29.076326Z",
     "iopub.status.busy": "2024-03-04T15:36:29.076039Z",
     "iopub.status.idle": "2024-03-04T15:36:29.080636Z",
     "shell.execute_reply": "2024-03-04T15:36:29.080026Z",
     "shell.execute_reply.started": "2024-03-04T15:36:29.076309Z"
    }
   },
   "outputs": [
    {
     "data": {
      "text/plain": [
       "1.6094379124341005"
      ]
     },
     "execution_count": 138,
     "metadata": {},
     "output_type": "execute_result"
    }
   ],
   "source": [
    "entropy(np.array([0.2,0.2,0.2,0.2,0.2]))"
   ]
  },
  {
   "cell_type": "code",
   "execution_count": 139,
   "id": "e4447bbc-84c4-4ac1-8ecb-4c51c063a700",
   "metadata": {
    "execution": {
     "iopub.execute_input": "2024-03-04T15:36:30.024439Z",
     "iopub.status.busy": "2024-03-04T15:36:30.024146Z",
     "iopub.status.idle": "2024-03-04T15:36:30.028597Z",
     "shell.execute_reply": "2024-03-04T15:36:30.027973Z",
     "shell.execute_reply.started": "2024-03-04T15:36:30.024423Z"
    }
   },
   "outputs": [
    {
     "data": {
      "text/plain": [
       "0.2651241953563787"
      ]
     },
     "execution_count": 139,
     "metadata": {},
     "output_type": "execute_result"
    }
   ],
   "source": [
    "entropy(np.array([0.01,0.01,0.01,0.02,0.95]))"
   ]
  },
  {
   "cell_type": "code",
   "execution_count": 142,
   "id": "5eaab197-6d3c-4e1e-830d-f899f0e90470",
   "metadata": {
    "execution": {
     "iopub.execute_input": "2024-03-04T15:37:26.991281Z",
     "iopub.status.busy": "2024-03-04T15:37:26.990993Z",
     "iopub.status.idle": "2024-03-04T15:37:26.996497Z",
     "shell.execute_reply": "2024-03-04T15:37:26.995802Z",
     "shell.execute_reply.started": "2024-03-04T15:37:26.991262Z"
    }
   },
   "outputs": [],
   "source": [
    "dfena = pd.DataFrame()\n",
    "dfena['id_dir'] = iddirl\n",
    "dfena['entropy'] = en"
   ]
  },
  {
   "cell_type": "code",
   "execution_count": 141,
   "id": "8382a46b-69a0-4f58-a877-3e04f2ac1e30",
   "metadata": {
    "execution": {
     "iopub.execute_input": "2024-03-04T15:36:38.079410Z",
     "iopub.status.busy": "2024-03-04T15:36:38.079125Z",
     "iopub.status.idle": "2024-03-04T15:36:38.086331Z",
     "shell.execute_reply": "2024-03-04T15:36:38.085801Z",
     "shell.execute_reply.started": "2024-03-04T15:36:38.079393Z"
    }
   },
   "outputs": [
    {
     "name": "stdout",
     "output_type": "stream",
     "text": [
      "<class 'pandas.core.frame.DataFrame'>\n",
      "RangeIndex: 1180 entries, 0 to 1179\n",
      "Data columns (total 2 columns):\n",
      " #   Column   Non-Null Count  Dtype  \n",
      "---  ------   --------------  -----  \n",
      " 0   iddir    1180 non-null   object \n",
      " 1   entropy  1180 non-null   float64\n",
      "dtypes: float64(1), object(1)\n",
      "memory usage: 18.6+ KB\n"
     ]
    }
   ],
   "source": [
    "dfena.info()"
   ]
  },
  {
   "cell_type": "code",
   "execution_count": 143,
   "id": "c51bf096-3f22-4f8e-8826-5def3a7f13ec",
   "metadata": {
    "execution": {
     "iopub.execute_input": "2024-03-04T15:37:30.026593Z",
     "iopub.status.busy": "2024-03-04T15:37:30.026295Z",
     "iopub.status.idle": "2024-03-04T15:37:30.033289Z",
     "shell.execute_reply": "2024-03-04T15:37:30.032630Z",
     "shell.execute_reply.started": "2024-03-04T15:37:30.026574Z"
    }
   },
   "outputs": [],
   "source": [
    "dfentropya = pd.merge(dfa, dfena, on = ['id_dir'])"
   ]
  },
  {
   "cell_type": "code",
   "execution_count": 145,
   "id": "c6008220-b729-4a80-97ad-14fe1257a6a9",
   "metadata": {
    "execution": {
     "iopub.execute_input": "2024-03-04T15:38:48.038341Z",
     "iopub.status.busy": "2024-03-04T15:38:48.037815Z",
     "iopub.status.idle": "2024-03-04T15:38:48.074117Z",
     "shell.execute_reply": "2024-03-04T15:38:48.073537Z",
     "shell.execute_reply.started": "2024-03-04T15:38:48.038317Z"
    }
   },
   "outputs": [],
   "source": [
    "# dfentropya\n",
    "dfentropya.to_csv('/home/yelhe/script/mt/output/accident_predmaskgroup_entropy.csv', index = False)"
   ]
  },
  {
   "cell_type": "code",
   "execution_count": 146,
   "id": "c40a640c-ec2f-4ac3-8d17-983ebf755743",
   "metadata": {
    "execution": {
     "iopub.execute_input": "2024-03-04T15:40:58.342522Z",
     "iopub.status.busy": "2024-03-04T15:40:58.342003Z",
     "iopub.status.idle": "2024-03-04T15:40:58.630248Z",
     "shell.execute_reply": "2024-03-04T15:40:58.629658Z",
     "shell.execute_reply.started": "2024-03-04T15:40:58.342497Z"
    }
   },
   "outputs": [
    {
     "data": {
      "text/plain": [
       "(array([   7.,   13.,  103.,  161.,  494.,  944., 1658., 2158.,  865.,\n",
       "         135.]),\n",
       " array([0.20334926, 0.36082709, 0.51830492, 0.67578275, 0.83326058,\n",
       "        0.99073842, 1.14821625, 1.30569408, 1.46317191, 1.62064974,\n",
       "        1.77812757]),\n",
       " <BarContainer object of 10 artists>)"
      ]
     },
     "execution_count": 146,
     "metadata": {},
     "output_type": "execute_result"
    },
    {
     "data": {
      "image/png": "[encoded data removed]",
      "text/plain": [
       "<Figure size 640x480 with 1 Axes>"
      ]
     },
     "metadata": {},
     "output_type": "display_data"
    }
   ],
   "source": [
    "plt.hist(dfentropya['entropy'])"
   ]
  },
  {
   "cell_type": "code",
   "execution_count": 155,
   "id": "27e0f955",
   "metadata": {
    "execution": {
     "iopub.execute_input": "2024-03-04T16:09:52.807042Z",
     "iopub.status.busy": "2024-03-04T16:09:52.806712Z",
     "iopub.status.idle": "2024-03-04T16:09:52.824891Z",
     "shell.execute_reply": "2024-03-04T16:09:52.824193Z",
     "shell.execute_reply.started": "2024-03-04T16:09:52.807022Z"
    }
   },
   "outputs": [],
   "source": [
    "totalp = pwes.groupby(['id','dir']).sum().reset_index().rename(columns = {'count':'sum'})\n",
    "totalp = totalp.drop(['p'], axis = 1)\n",
    "dfp = pd.merge(pwes, totalp, on = ['id', 'dir'])\n",
    "dfp['percentage'] = dfp['count']/dfp['sum']\n",
    "dfp['id_dir'] = dfp['id'] + dfp['dir']"
   ]
  },
  {
   "cell_type": "code",
   "execution_count": 156,
   "id": "3c33a6af-7afb-4976-8545-a483bc70be42",
   "metadata": {
    "execution": {
     "iopub.execute_input": "2024-03-04T16:09:52.973746Z",
     "iopub.status.busy": "2024-03-04T16:09:52.973464Z",
     "iopub.status.idle": "2024-03-04T16:09:53.101679Z",
     "shell.execute_reply": "2024-03-04T16:09:53.101057Z",
     "shell.execute_reply.started": "2024-03-04T16:09:52.973728Z"
    }
   },
   "outputs": [],
   "source": [
    "groupedp = dfp.groupby('id_dir')\n",
    "grouped_arrays_listp = {id_dir: dfp['percentage'].iloc[indices].values for id_dir, indices in groupedp.groups.items()}\n"
   ]
  },
  {
   "cell_type": "code",
   "execution_count": 157,
   "id": "b6673357-885d-478b-90db-d47606078aab",
   "metadata": {
    "execution": {
     "iopub.execute_input": "2024-03-04T16:09:53.159680Z",
     "iopub.status.busy": "2024-03-04T16:09:53.159372Z",
     "iopub.status.idle": "2024-03-04T16:09:53.200959Z",
     "shell.execute_reply": "2024-03-04T16:09:53.200268Z",
     "shell.execute_reply.started": "2024-03-04T16:09:53.159656Z"
    }
   },
   "outputs": [],
   "source": [
    "iddirlp = list(grouped_arrays_listp.keys())\n",
    "enp = []\n",
    "for i in range(0, len(iddirlp)):\n",
    "    l = grouped_arrays_listp[iddirlp[i]]\n",
    "    e = entropy(l)\n",
    "    enp.append(e)"
   ]
  },
  {
   "cell_type": "code",
   "execution_count": 158,
   "id": "3ba7fdd9-a1aa-43a7-8d11-b1c42f1cefea",
   "metadata": {
    "execution": {
     "iopub.execute_input": "2024-03-04T16:09:53.394747Z",
     "iopub.status.busy": "2024-03-04T16:09:53.394437Z",
     "iopub.status.idle": "2024-03-04T16:09:53.406661Z",
     "shell.execute_reply": "2024-03-04T16:09:53.405900Z",
     "shell.execute_reply.started": "2024-03-04T16:09:53.394727Z"
    }
   },
   "outputs": [],
   "source": [
    "dfenp = pd.DataFrame()\n",
    "dfenp['id_dir'] = iddirlp\n",
    "dfenp['entropy'] = enp\n",
    "dfentropyp = pd.merge(dfp, dfenp, on = ['id_dir'])"
   ]
  },
  {
   "cell_type": "code",
   "execution_count": 159,
   "id": "43c39a38-7b0f-4aaf-8b38-61bd9fad5be8",
   "metadata": {
    "execution": {
     "iopub.execute_input": "2024-03-04T16:09:53.744521Z",
     "iopub.status.busy": "2024-03-04T16:09:53.744223Z",
     "iopub.status.idle": "2024-03-04T16:09:53.826834Z",
     "shell.execute_reply": "2024-03-04T16:09:53.826249Z",
     "shell.execute_reply.started": "2024-03-04T16:09:53.744502Z"
    }
   },
   "outputs": [],
   "source": [
    "dfentropyp.to_csv('/home/yelhe/script/mt/output/pseudo_predmaskgroup_entropy.csv', index = False)"
   ]
  },
  {
   "cell_type": "code",
   "execution_count": 160,
   "id": "df918051-a644-4f4f-a230-78747cc0d568",
   "metadata": {
    "execution": {
     "iopub.execute_input": "2024-03-04T16:09:54.272517Z",
     "iopub.status.busy": "2024-03-04T16:09:54.272042Z",
     "iopub.status.idle": "2024-03-04T16:09:54.425589Z",
     "shell.execute_reply": "2024-03-04T16:09:54.425159Z",
     "shell.execute_reply.started": "2024-03-04T16:09:54.272500Z"
    }
   },
   "outputs": [
    {
     "data": {
      "text/plain": [
       "(array([2.000e+00, 1.600e+01, 9.400e+01, 2.860e+02, 1.246e+03, 3.369e+03,\n",
       "        5.362e+03, 4.574e+03, 1.678e+03, 1.650e+02]),\n",
       " array([0.1540761 , 0.31356557, 0.47305503, 0.6325445 , 0.79203396,\n",
       "        0.95152343, 1.11101289, 1.27050236, 1.42999182, 1.58948129,\n",
       "        1.74897075]),\n",
       " <BarContainer object of 10 artists>)"
      ]
     },
     "execution_count": 160,
     "metadata": {},
     "output_type": "execute_result"
    },
    {
     "data": {
      "image/png": "[encoded data removed]",
      "text/plain": [
       "<Figure size 640x480 with 1 Axes>"
      ]
     },
     "metadata": {},
     "output_type": "display_data"
    }
   ],
   "source": [
    "plt.hist(dfentropyp['entropy'])"
   ]
  },
  {
   "cell_type": "code",
   "execution_count": 161,
   "id": "e665ac6d-31fa-42bb-a2b1-0dd0fcb4ea2a",
   "metadata": {
    "execution": {
     "iopub.execute_input": "2024-03-04T16:09:54.911001Z",
     "iopub.status.busy": "2024-03-04T16:09:54.910719Z",
     "iopub.status.idle": "2024-03-04T16:09:54.921182Z",
     "shell.execute_reply": "2024-03-04T16:09:54.920592Z",
     "shell.execute_reply.started": "2024-03-04T16:09:54.910984Z"
    }
   },
   "outputs": [
    {
     "data": {
      "text/html": [
       "<div>\n",
       "<style scoped>\n",
       "    .dataframe tbody tr th:only-of-type {\n",
       "        vertical-align: middle;\n",
       "    }\n",
       "\n",
       "    .dataframe tbody tr th {\n",
       "        vertical-align: top;\n",
       "    }\n",
       "\n",
       "    .dataframe thead th {\n",
       "        text-align: right;\n",
       "    }\n",
       "</style>\n",
       "<table border=\"1\" class=\"dataframe\">\n",
       "  <thead>\n",
       "    <tr style=\"text-align: right;\">\n",
       "      <th></th>\n",
       "      <th>id</th>\n",
       "      <th>dir</th>\n",
       "      <th>p</th>\n",
       "      <th>count</th>\n",
       "      <th>sum</th>\n",
       "      <th>percentage</th>\n",
       "      <th>id_dir</th>\n",
       "      <th>entropy</th>\n",
       "    </tr>\n",
       "  </thead>\n",
       "  <tbody>\n",
       "    <tr>\n",
       "      <th>0</th>\n",
       "      <td>0002</td>\n",
       "      <td>1</td>\n",
       "      <td>2</td>\n",
       "      <td>8</td>\n",
       "      <td>38</td>\n",
       "      <td>0.210526</td>\n",
       "      <td>00021</td>\n",
       "      <td>1.136558</td>\n",
       "    </tr>\n",
       "    <tr>\n",
       "      <th>1</th>\n",
       "      <td>0002</td>\n",
       "      <td>1</td>\n",
       "      <td>4</td>\n",
       "      <td>18</td>\n",
       "      <td>38</td>\n",
       "      <td>0.473684</td>\n",
       "      <td>00021</td>\n",
       "      <td>1.136558</td>\n",
       "    </tr>\n",
       "    <tr>\n",
       "      <th>2</th>\n",
       "      <td>0002</td>\n",
       "      <td>1</td>\n",
       "      <td>5</td>\n",
       "      <td>1</td>\n",
       "      <td>38</td>\n",
       "      <td>0.026316</td>\n",
       "      <td>00021</td>\n",
       "      <td>1.136558</td>\n",
       "    </tr>\n",
       "    <tr>\n",
       "      <th>3</th>\n",
       "      <td>0002</td>\n",
       "      <td>1</td>\n",
       "      <td>6</td>\n",
       "      <td>11</td>\n",
       "      <td>38</td>\n",
       "      <td>0.289474</td>\n",
       "      <td>00021</td>\n",
       "      <td>1.136558</td>\n",
       "    </tr>\n",
       "    <tr>\n",
       "      <th>4</th>\n",
       "      <td>0002</td>\n",
       "      <td>2</td>\n",
       "      <td>0</td>\n",
       "      <td>5</td>\n",
       "      <td>50</td>\n",
       "      <td>0.100000</td>\n",
       "      <td>00022</td>\n",
       "      <td>1.268073</td>\n",
       "    </tr>\n",
       "    <tr>\n",
       "      <th>...</th>\n",
       "      <td>...</td>\n",
       "      <td>...</td>\n",
       "      <td>...</td>\n",
       "      <td>...</td>\n",
       "      <td>...</td>\n",
       "      <td>...</td>\n",
       "      <td>...</td>\n",
       "      <td>...</td>\n",
       "    </tr>\n",
       "    <tr>\n",
       "      <th>16787</th>\n",
       "      <td>0994</td>\n",
       "      <td>3</td>\n",
       "      <td>5</td>\n",
       "      <td>2</td>\n",
       "      <td>24</td>\n",
       "      <td>0.083333</td>\n",
       "      <td>09943</td>\n",
       "      <td>1.105625</td>\n",
       "    </tr>\n",
       "    <tr>\n",
       "      <th>16788</th>\n",
       "      <td>0994</td>\n",
       "      <td>4</td>\n",
       "      <td>0</td>\n",
       "      <td>2</td>\n",
       "      <td>22</td>\n",
       "      <td>0.090909</td>\n",
       "      <td>09944</td>\n",
       "      <td>0.861790</td>\n",
       "    </tr>\n",
       "    <tr>\n",
       "      <th>16789</th>\n",
       "      <td>0994</td>\n",
       "      <td>4</td>\n",
       "      <td>2</td>\n",
       "      <td>1</td>\n",
       "      <td>22</td>\n",
       "      <td>0.045455</td>\n",
       "      <td>09944</td>\n",
       "      <td>0.861790</td>\n",
       "    </tr>\n",
       "    <tr>\n",
       "      <th>16790</th>\n",
       "      <td>0994</td>\n",
       "      <td>4</td>\n",
       "      <td>4</td>\n",
       "      <td>16</td>\n",
       "      <td>22</td>\n",
       "      <td>0.727273</td>\n",
       "      <td>09944</td>\n",
       "      <td>0.861790</td>\n",
       "    </tr>\n",
       "    <tr>\n",
       "      <th>16791</th>\n",
       "      <td>0994</td>\n",
       "      <td>4</td>\n",
       "      <td>6</td>\n",
       "      <td>3</td>\n",
       "      <td>22</td>\n",
       "      <td>0.136364</td>\n",
       "      <td>09944</td>\n",
       "      <td>0.861790</td>\n",
       "    </tr>\n",
       "  </tbody>\n",
       "</table>\n",
       "<p>16792 rows × 8 columns</p>\n",
       "</div>"
      ],
      "text/plain": [
       "         id dir  p  count  sum  percentage id_dir   entropy\n",
       "0      0002   1  2      8   38    0.210526  00021  1.136558\n",
       "1      0002   1  4     18   38    0.473684  00021  1.136558\n",
       "2      0002   1  5      1   38    0.026316  00021  1.136558\n",
       "3      0002   1  6     11   38    0.289474  00021  1.136558\n",
       "4      0002   2  0      5   50    0.100000  00022  1.268073\n",
       "...     ...  .. ..    ...  ...         ...    ...       ...\n",
       "16787  0994   3  5      2   24    0.083333  09943  1.105625\n",
       "16788  0994   4  0      2   22    0.090909  09944  0.861790\n",
       "16789  0994   4  2      1   22    0.045455  09944  0.861790\n",
       "16790  0994   4  4     16   22    0.727273  09944  0.861790\n",
       "16791  0994   4  6      3   22    0.136364  09944  0.861790\n",
       "\n",
       "[16792 rows x 8 columns]"
      ]
     },
     "execution_count": 161,
     "metadata": {},
     "output_type": "execute_result"
    }
   ],
   "source": [
    "dfentropyp"
   ]
  },
  {
   "cell_type": "code",
   "execution_count": 163,
   "id": "a55350d0-26eb-43f9-ac9f-df67497e735b",
   "metadata": {
    "execution": {
     "iopub.execute_input": "2024-03-04T16:10:04.513818Z",
     "iopub.status.busy": "2024-03-04T16:10:04.513345Z",
     "iopub.status.idle": "2024-03-04T16:10:04.518404Z",
     "shell.execute_reply": "2024-03-04T16:10:04.517847Z",
     "shell.execute_reply.started": "2024-03-04T16:10:04.513800Z"
    }
   },
   "outputs": [
    {
     "data": {
      "text/plain": [
       "792"
      ]
     },
     "execution_count": 163,
     "metadata": {},
     "output_type": "execute_result"
    }
   ],
   "source": [
    "len(dfentropyp['id'].unique())"
   ]
  },
  {
   "cell_type": "code",
   "execution_count": 41,
   "id": "2fc90acd-c997-437f-91d3-134e9eddc620",
   "metadata": {
    "execution": {
     "iopub.execute_input": "2024-04-24T16:34:08.279458Z",
     "iopub.status.busy": "2024-04-24T16:34:08.279109Z",
     "iopub.status.idle": "2024-04-24T16:34:08.285983Z",
     "shell.execute_reply": "2024-04-24T16:34:08.284942Z",
     "shell.execute_reply.started": "2024-04-24T16:34:08.279433Z"
    }
   },
   "outputs": [],
   "source": [
    "# Function for entropy calculation\n",
    "# The input dataframe should include columns 'id', 'Nr', 'p', 'count'\n",
    "def entropy_calculate(df):\n",
    "    total = df.groupby(['id','dir']).sum().reset_index().rename(columns = {'count':'sum'})\n",
    "    total = total.drop(['p'], axis = 1)\n",
    "    dft = pd.merge(df, total, on = ['id', 'dir'])\n",
    "    dft['percentage'] = dft['count']/dft['sum']\n",
    "    dft['id_dir'] = dft['id'] + dft['dir']\n",
    "    grouped = dft.groupby('id_dir')\n",
    "    grouped_arrays_list = {id_dir: dft['percentage'].iloc[indices].values for id_dir, indices in grouped.groups.items()}\n",
    "    iddirl = list(grouped_arrays_list.keys())\n",
    "    en = []\n",
    "    for i in range(0, len(iddirl)):\n",
    "        l = grouped_arrays_list[iddirl[i]]\n",
    "        e = entropy(l)\n",
    "        en.append(e)\n",
    "    dfen = pd.DataFrame()\n",
    "    dfen['id_dir'] = iddirl\n",
    "    dfen['entropy'] = en\n",
    "    dfentropy = pd.merge(dft, dfen, on = ['id_dir'])\n",
    "    return dfentropy"
   ]
  },
  {
   "cell_type": "markdown",
   "id": "e72d90ba-a1e1-40c8-8890-6d3ad74712ec",
   "metadata": {},
   "source": [
    "##### For the ground scene"
   ]
  },
  {
   "cell_type": "code",
   "execution_count": 42,
   "id": "ef529e05-68ac-4af9-98fc-a9ff852d0476",
   "metadata": {
    "execution": {
     "iopub.execute_input": "2024-04-24T16:34:14.297505Z",
     "iopub.status.busy": "2024-04-24T16:34:14.297120Z",
     "iopub.status.idle": "2024-04-24T16:34:14.374869Z",
     "shell.execute_reply": "2024-04-24T16:34:14.374123Z",
     "shell.execute_reply.started": "2024-04-24T16:34:14.297485Z"
    }
   },
   "outputs": [],
   "source": [
    "# With dataframe dfa_eipl & dfp_eipl \n",
    "# Preparing aie (accident_ground_infrastructure_entropy)\n",
    "# Preparing pie (pseudo_ground_infrastructure_entropy\n",
    "aie = dfa_eipl.loc[:, ['Nr','p']]\n",
    "pie = dfp_eipl.loc[:, ['Nr','p']]\n",
    "\n",
    "\n",
    "aie.loc[:,'Nr'] = aie.loc[:,'Nr'].values.astype(str)\n",
    "aie.loc[:,'id'] = aie.Nr.str[-15:-1]\n",
    "aie.loc[:,'dir'] = aie.Nr.str[-1]\n",
    "\n",
    "pie.loc[:,'Nr'] = pie.loc[:,'Nr'].values.astype(str)\n",
    "pie.loc[:,'Nr'] = pie.loc[:,'Nr'].str.zfill(5)\n",
    "pie.loc[:,'id'] = pie.Nr.str[-5:-1]\n",
    "pie.loc[:,'dir'] = pie.Nr.str[-1]"
   ]
  },
  {
   "cell_type": "code",
   "execution_count": 53,
   "id": "1541dae4-2d6c-4351-bd2c-63799a9cccd2",
   "metadata": {
    "execution": {
     "iopub.execute_input": "2024-04-24T16:36:27.024747Z",
     "iopub.status.busy": "2024-04-24T16:36:27.024094Z",
     "iopub.status.idle": "2024-04-24T16:36:27.064813Z",
     "shell.execute_reply": "2024-04-24T16:36:27.064174Z",
     "shell.execute_reply.started": "2024-04-24T16:36:27.024714Z"
    }
   },
   "outputs": [],
   "source": [
    "# Predicted curb in accident points summary in ground_infrastructure scene\n",
    "aies = aie.groupby(['id', 'dir', 'p']).size().reset_index().rename(columns={0:'count'})\n",
    "# Predicted curb in pseudo points summary in ground_infrastructure scene\n",
    "pies = pie.groupby(['id', 'dir', 'p']).size().reset_index().rename(columns={0:'count'})\n",
    "\n",
    "# Predicted label groups (in total 7) for ground infrastructure scene\n",
    "aies.to_csv('/home/yelhe/script/mt/output/accident_predmaskgroup_groundinf_count_new.csv', index = False)\n",
    "pies.to_csv('/home/yelhe/script/mt/output/pseudo_predmaskgroup_groundinf_count_new.csv', index = False)\n"
   ]
  },
  {
   "cell_type": "code",
   "execution_count": 44,
   "id": "51a20dd0-d21e-46af-a4ac-3db49b11e1d2",
   "metadata": {
    "execution": {
     "iopub.execute_input": "2024-04-24T16:34:18.752766Z",
     "iopub.status.busy": "2024-04-24T16:34:18.752360Z",
     "iopub.status.idle": "2024-04-24T16:34:18.767883Z",
     "shell.execute_reply": "2024-04-24T16:34:18.767268Z",
     "shell.execute_reply.started": "2024-04-24T16:34:18.752744Z"
    }
   },
   "outputs": [
    {
     "data": {
      "text/html": [
       "<div>\n",
       "<style scoped>\n",
       "    .dataframe tbody tr th:only-of-type {\n",
       "        vertical-align: middle;\n",
       "    }\n",
       "\n",
       "    .dataframe tbody tr th {\n",
       "        vertical-align: top;\n",
       "    }\n",
       "\n",
       "    .dataframe thead th {\n",
       "        text-align: right;\n",
       "    }\n",
       "</style>\n",
       "<table border=\"1\" class=\"dataframe\">\n",
       "  <thead>\n",
       "    <tr style=\"text-align: right;\">\n",
       "      <th></th>\n",
       "      <th>id</th>\n",
       "      <th>dir</th>\n",
       "      <th>p</th>\n",
       "      <th>count</th>\n",
       "    </tr>\n",
       "  </thead>\n",
       "  <tbody>\n",
       "    <tr>\n",
       "      <th>0</th>\n",
       "      <td>99900044963840</td>\n",
       "      <td>1</td>\n",
       "      <td>4</td>\n",
       "      <td>1</td>\n",
       "    </tr>\n",
       "    <tr>\n",
       "      <th>1</th>\n",
       "      <td>99900044963840</td>\n",
       "      <td>1</td>\n",
       "      <td>6</td>\n",
       "      <td>1</td>\n",
       "    </tr>\n",
       "    <tr>\n",
       "      <th>2</th>\n",
       "      <td>99900044963840</td>\n",
       "      <td>2</td>\n",
       "      <td>2</td>\n",
       "      <td>1</td>\n",
       "    </tr>\n",
       "    <tr>\n",
       "      <th>3</th>\n",
       "      <td>99900044963840</td>\n",
       "      <td>2</td>\n",
       "      <td>4</td>\n",
       "      <td>2</td>\n",
       "    </tr>\n",
       "    <tr>\n",
       "      <th>4</th>\n",
       "      <td>99900044963840</td>\n",
       "      <td>2</td>\n",
       "      <td>6</td>\n",
       "      <td>1</td>\n",
       "    </tr>\n",
       "    <tr>\n",
       "      <th>...</th>\n",
       "      <td>...</td>\n",
       "      <td>...</td>\n",
       "      <td>...</td>\n",
       "      <td>...</td>\n",
       "    </tr>\n",
       "    <tr>\n",
       "      <th>4200</th>\n",
       "      <td>99900064009230</td>\n",
       "      <td>3</td>\n",
       "      <td>5</td>\n",
       "      <td>1</td>\n",
       "    </tr>\n",
       "    <tr>\n",
       "      <th>4201</th>\n",
       "      <td>99900064009230</td>\n",
       "      <td>3</td>\n",
       "      <td>6</td>\n",
       "      <td>1</td>\n",
       "    </tr>\n",
       "    <tr>\n",
       "      <th>4202</th>\n",
       "      <td>99900064009230</td>\n",
       "      <td>4</td>\n",
       "      <td>1</td>\n",
       "      <td>1</td>\n",
       "    </tr>\n",
       "    <tr>\n",
       "      <th>4203</th>\n",
       "      <td>99900064009230</td>\n",
       "      <td>4</td>\n",
       "      <td>4</td>\n",
       "      <td>2</td>\n",
       "    </tr>\n",
       "    <tr>\n",
       "      <th>4204</th>\n",
       "      <td>99900064009230</td>\n",
       "      <td>4</td>\n",
       "      <td>6</td>\n",
       "      <td>2</td>\n",
       "    </tr>\n",
       "  </tbody>\n",
       "</table>\n",
       "<p>4205 rows × 4 columns</p>\n",
       "</div>"
      ],
      "text/plain": [
       "                  id dir  p  count\n",
       "0     99900044963840   1  4      1\n",
       "1     99900044963840   1  6      1\n",
       "2     99900044963840   2  2      1\n",
       "3     99900044963840   2  4      2\n",
       "4     99900044963840   2  6      1\n",
       "...              ...  .. ..    ...\n",
       "4200  99900064009230   3  5      1\n",
       "4201  99900064009230   3  6      1\n",
       "4202  99900064009230   4  1      1\n",
       "4203  99900064009230   4  4      2\n",
       "4204  99900064009230   4  6      2\n",
       "\n",
       "[4205 rows x 4 columns]"
      ]
     },
     "execution_count": 44,
     "metadata": {},
     "output_type": "execute_result"
    }
   ],
   "source": [
    "aies"
   ]
  },
  {
   "cell_type": "code",
   "execution_count": 45,
   "id": "66a555fb-1438-4bec-995a-408970901a76",
   "metadata": {
    "execution": {
     "iopub.execute_input": "2024-04-24T16:35:06.510389Z",
     "iopub.status.busy": "2024-04-24T16:35:06.509857Z",
     "iopub.status.idle": "2024-04-24T16:35:06.635670Z",
     "shell.execute_reply": "2024-04-24T16:35:06.634871Z",
     "shell.execute_reply.started": "2024-04-24T16:35:06.510351Z"
    }
   },
   "outputs": [],
   "source": [
    "dfentropya_i = entropy_calculate(aies)"
   ]
  },
  {
   "cell_type": "code",
   "execution_count": 46,
   "id": "05e3c6d2-3f6a-4503-9fe5-086b3a77bba7",
   "metadata": {
    "execution": {
     "iopub.execute_input": "2024-04-24T16:35:07.510012Z",
     "iopub.status.busy": "2024-04-24T16:35:07.509619Z",
     "iopub.status.idle": "2024-04-24T16:35:07.729508Z",
     "shell.execute_reply": "2024-04-24T16:35:07.727127Z",
     "shell.execute_reply.started": "2024-04-24T16:35:07.509991Z"
    }
   },
   "outputs": [],
   "source": [
    "dfentropyp_i = entropy_calculate(pies)"
   ]
  },
  {
   "cell_type": "code",
   "execution_count": 52,
   "id": "c367a084-ae5a-469d-ac43-ee01ad721af0",
   "metadata": {
    "execution": {
     "iopub.execute_input": "2024-04-24T16:36:09.926976Z",
     "iopub.status.busy": "2024-04-24T16:36:09.926630Z",
     "iopub.status.idle": "2024-04-24T16:36:09.993662Z",
     "shell.execute_reply": "2024-04-24T16:36:09.993032Z",
     "shell.execute_reply.started": "2024-04-24T16:36:09.926956Z"
    }
   },
   "outputs": [],
   "source": [
    "dfentropya_i.to_csv('/home/yelhe/script/mt/output/accident_predmaskgroup_gi_entropy_new.csv', index = False)\n",
    "dfentropyp_i.to_csv('/home/yelhe/script/mt/output/pseudo_predmaskgroup_gi_entropy_new.csv', index = False)"
   ]
  },
  {
   "cell_type": "code",
   "execution_count": 48,
   "id": "b9e08fde-f09f-41a3-9040-00b5ee65fc33",
   "metadata": {
    "execution": {
     "iopub.execute_input": "2024-04-24T16:35:11.160656Z",
     "iopub.status.busy": "2024-04-24T16:35:11.160067Z",
     "iopub.status.idle": "2024-04-24T16:35:11.168077Z",
     "shell.execute_reply": "2024-04-24T16:35:11.167404Z",
     "shell.execute_reply.started": "2024-04-24T16:35:11.160634Z"
    }
   },
   "outputs": [
    {
     "data": {
      "text/plain": [
       "295"
      ]
     },
     "execution_count": 48,
     "metadata": {},
     "output_type": "execute_result"
    }
   ],
   "source": [
    "len(dfentropya_i['id'].unique())"
   ]
  },
  {
   "cell_type": "code",
   "execution_count": 49,
   "id": "d6b71556-041e-4fef-bf56-125b6ad992b1",
   "metadata": {
    "execution": {
     "iopub.execute_input": "2024-04-24T16:35:22.146421Z",
     "iopub.status.busy": "2024-04-24T16:35:22.145762Z",
     "iopub.status.idle": "2024-04-24T16:35:22.412160Z",
     "shell.execute_reply": "2024-04-24T16:35:22.411361Z",
     "shell.execute_reply.started": "2024-04-24T16:35:22.146394Z"
    }
   },
   "outputs": [
    {
     "data": {
      "text/plain": [
       "(array([ 115.,    4.,  112.,  836.,  373., 1978., 1932., 3147., 1982.,\n",
       "         571.]),\n",
       " array([0.        , 0.17489708, 0.34979415, 0.52469123, 0.6995883 ,\n",
       "        0.87448538, 1.04938245, 1.22427953, 1.3991766 , 1.57407368,\n",
       "        1.74897075]),\n",
       " <BarContainer object of 10 artists>)"
      ]
     },
     "execution_count": 49,
     "metadata": {},
     "output_type": "execute_result"
    },
    {
     "data": {
      "image/png": "[encoded data removed]",
      "text/plain": [
       "<Figure size 640x480 with 1 Axes>"
      ]
     },
     "metadata": {},
     "output_type": "display_data"
    }
   ],
   "source": [
    "plt.hist(dfentropyp_i['entropy'])"
   ]
  },
  {
   "cell_type": "markdown",
   "id": "f2a75b91-77bc-4e15-b046-1a620929862d",
   "metadata": {
    "execution": {
     "iopub.execute_input": "2024-03-05T13:42:38.943568Z",
     "iopub.status.busy": "2024-03-05T13:42:38.943240Z",
     "iopub.status.idle": "2024-03-05T13:42:38.946498Z",
     "shell.execute_reply": "2024-03-05T13:42:38.946043Z",
     "shell.execute_reply.started": "2024-03-05T13:42:38.943544Z"
    }
   },
   "source": [
    "#### Summarize average entropy for each location (whole scene & ground scene)"
   ]
  },
  {
   "cell_type": "code",
   "execution_count": null,
   "id": "bf47879d-5ddc-44ae-990f-0d90e5c40a0b",
   "metadata": {},
   "outputs": [],
   "source": [
    "# dfentropya\n",
    "# dfentropyp\n",
    "# dfentropya_i\n",
    "# dfentropyp_i"
   ]
  },
  {
   "cell_type": "code",
   "execution_count": 199,
   "id": "77db8dac-3725-4ab6-bc81-5890d842a5b8",
   "metadata": {
    "execution": {
     "iopub.execute_input": "2024-03-05T13:56:09.963017Z",
     "iopub.status.busy": "2024-03-05T13:56:09.962743Z",
     "iopub.status.idle": "2024-03-05T13:56:09.976288Z",
     "shell.execute_reply": "2024-03-05T13:56:09.975799Z",
     "shell.execute_reply.started": "2024-03-05T13:56:09.962998Z"
    }
   },
   "outputs": [],
   "source": [
    "# Entropy whole-scene mean for accident points\n",
    "ewam = dfentropya.groupby('id')['entropy'].mean()\n",
    "ewam = ewam.to_frame()\n",
    "ewam = ewam.reset_index()\n",
    "# Entropy whole-scene mean for pseudo points\n",
    "ewpm = dfentropyp.groupby('id')['entropy'].mean()\n",
    "ewpm = ewpm.to_frame()\n",
    "ewpm = ewpm.reset_index()\n"
   ]
  },
  {
   "cell_type": "code",
   "execution_count": 50,
   "id": "17c2599c-6a04-488d-91c2-2bd8008e85d6",
   "metadata": {
    "execution": {
     "iopub.execute_input": "2024-04-24T16:35:35.729144Z",
     "iopub.status.busy": "2024-04-24T16:35:35.728491Z",
     "iopub.status.idle": "2024-04-24T16:35:35.738965Z",
     "shell.execute_reply": "2024-04-24T16:35:35.738178Z",
     "shell.execute_reply.started": "2024-04-24T16:35:35.729123Z"
    }
   },
   "outputs": [],
   "source": [
    "# Entropy ground-scene mean for accidnet points\n",
    "egam = dfentropya_i.groupby('id')['entropy'].mean()\n",
    "egam = egam.to_frame()\n",
    "egam = egam.reset_index()\n",
    "# Entropy ground-scene mean for pseudo points\n",
    "egpm = dfentropyp_i.groupby('id')['entropy'].mean()\n",
    "egpm = egpm.to_frame()\n",
    "egpm = egpm.reset_index()"
   ]
  },
  {
   "cell_type": "code",
   "execution_count": 205,
   "id": "50145b77-262c-4566-ac46-685ba9fbfcf1",
   "metadata": {
    "execution": {
     "iopub.execute_input": "2024-03-05T13:59:53.479240Z",
     "iopub.status.busy": "2024-03-05T13:59:53.478816Z",
     "iopub.status.idle": "2024-03-05T13:59:53.490562Z",
     "shell.execute_reply": "2024-03-05T13:59:53.490136Z",
     "shell.execute_reply.started": "2024-03-05T13:59:53.479223Z"
    }
   },
   "outputs": [],
   "source": [
    "# ewam.to_csv('/home/yelhe/script/mt/output/accident_mask_entropy_wholescene_mean.csv', index = False)\n",
    "# ewpm.to_csv('/home/yelhe/script/mt/output/pseudo_mask_entropy_wholescene_mean.csv', index = False)\n",
    "# egam.to_csv('/home/yelhe/script/mt/output/accident_mask_entropy_groundscene_mean.csv', index = False)\n",
    "# egpm.to_csv('/home/yelhe/script/mt/output/pseudo_mask_entropy_groundscene_mean.csv', index = False)"
   ]
  },
  {
   "cell_type": "code",
   "execution_count": 51,
   "id": "ae1f529a-f9cf-4a2b-bfb1-bf4fa8153dfb",
   "metadata": {
    "execution": {
     "iopub.execute_input": "2024-04-24T16:35:50.219900Z",
     "iopub.status.busy": "2024-04-24T16:35:50.219197Z",
     "iopub.status.idle": "2024-04-24T16:35:50.229370Z",
     "shell.execute_reply": "2024-04-24T16:35:50.228686Z",
     "shell.execute_reply.started": "2024-04-24T16:35:50.219869Z"
    }
   },
   "outputs": [],
   "source": [
    "egam.to_csv('/home/yelhe/script/mt/output/accident_mask_entropy_groundscene_mean_new.csv', index = False)\n",
    "egpm.to_csv('/home/yelhe/script/mt/output/pseudo_mask_entropy_groundscene_mean_new.csv', index = False)"
   ]
  }
 ],
 "metadata": {
  "kernelspec": {
   "display_name": "Python 3 (ipykernel)",
   "language": "python",
   "name": "python3"
  },
  "language_info": {
   "codemirror_mode": {
    "name": "ipython",
    "version": 3
   },
   "file_extension": ".py",
   "mimetype": "text/x-python",
   "name": "python",
   "nbconvert_exporter": "python",
   "pygments_lexer": "ipython3",
   "version": "3.11.5"
  }
 },
 "nbformat": 4,
 "nbformat_minor": 5
}
