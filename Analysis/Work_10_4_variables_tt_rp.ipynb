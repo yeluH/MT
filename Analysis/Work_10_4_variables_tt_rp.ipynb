{
 "cells": [
  {
   "cell_type": "code",
   "execution_count": 1,
   "id": "7e9f75d8-3be9-45ef-b9ae-ad72fefb7ce1",
   "metadata": {
    "execution": {
     "iopub.execute_input": "2024-04-25T20:35:32.063034Z",
     "iopub.status.busy": "2024-04-25T20:35:32.062510Z",
     "iopub.status.idle": "2024-04-25T20:35:33.913886Z",
     "shell.execute_reply": "2024-04-25T20:35:33.913157Z",
     "shell.execute_reply.started": "2024-04-25T20:35:32.062997Z"
    }
   },
   "outputs": [],
   "source": [
    "import torch\n",
    "torch.cuda.empty_cache() "
   ]
  },
  {
   "cell_type": "code",
   "execution_count": 2,
   "id": "f3e5fa71-37bd-4efe-b8ee-ae3c362b2a1b",
   "metadata": {
    "execution": {
     "iopub.execute_input": "2024-04-25T20:35:33.915666Z",
     "iopub.status.busy": "2024-04-25T20:35:33.915254Z",
     "iopub.status.idle": "2024-04-25T20:35:34.249752Z",
     "shell.execute_reply": "2024-04-25T20:35:34.249052Z",
     "shell.execute_reply.started": "2024-04-25T20:35:33.915635Z"
    }
   },
   "outputs": [],
   "source": [
    "import os \n",
    "os.environ['MPLCONFIGDIR'] = os.getcwd() + \"/configs/\"\n",
    "import matplotlib\n",
    "from matplotlib import pyplot as plt\n",
    "import numpy as np\n",
    "import cv2\n",
    "import urllib.request\n",
    "from PIL import Image"
   ]
  },
  {
   "cell_type": "code",
   "execution_count": 3,
   "id": "132db61a-9aa6-4936-8ab4-054288d07d2e",
   "metadata": {
    "execution": {
     "iopub.execute_input": "2024-04-25T20:35:34.251040Z",
     "iopub.status.busy": "2024-04-25T20:35:34.250745Z",
     "iopub.status.idle": "2024-04-25T20:35:34.754759Z",
     "shell.execute_reply": "2024-04-25T20:35:34.753911Z",
     "shell.execute_reply.started": "2024-04-25T20:35:34.251010Z"
    }
   },
   "outputs": [],
   "source": [
    "import pandas as pd\n",
    "import pyproj"
   ]
  },
  {
   "cell_type": "code",
   "execution_count": 4,
   "id": "80d61825-dc8d-4005-9362-cf497e771695",
   "metadata": {
    "execution": {
     "iopub.execute_input": "2024-04-25T20:35:34.757694Z",
     "iopub.status.busy": "2024-04-25T20:35:34.757109Z",
     "iopub.status.idle": "2024-04-25T20:35:34.762811Z",
     "shell.execute_reply": "2024-04-25T20:35:34.761756Z",
     "shell.execute_reply.started": "2024-04-25T20:35:34.757660Z"
    }
   },
   "outputs": [],
   "source": [
    "import os \n",
    "os.environ['MPLCONFIGDIR'] = os.getcwd() + \"/configs/\"\n",
    "import matplotlib\n",
    "from matplotlib import pyplot as plt\n",
    "import numpy as np\n",
    "import cv2"
   ]
  },
  {
   "cell_type": "code",
   "execution_count": 5,
   "id": "e6000c92-6b7e-4ee5-9c30-ac0dfed91840",
   "metadata": {
    "execution": {
     "iopub.execute_input": "2024-04-25T20:35:34.764327Z",
     "iopub.status.busy": "2024-04-25T20:35:34.763921Z",
     "iopub.status.idle": "2024-04-25T20:35:34.771927Z",
     "shell.execute_reply": "2024-04-25T20:35:34.770920Z",
     "shell.execute_reply.started": "2024-04-25T20:35:34.764297Z"
    }
   },
   "outputs": [],
   "source": [
    "from pathlib import Path"
   ]
  },
  {
   "cell_type": "code",
   "execution_count": 6,
   "id": "59dfb1fc-7192-4ae1-9df9-596320cc4875",
   "metadata": {
    "execution": {
     "iopub.execute_input": "2024-04-25T20:35:34.773248Z",
     "iopub.status.busy": "2024-04-25T20:35:34.772963Z",
     "iopub.status.idle": "2024-04-25T20:35:34.801897Z",
     "shell.execute_reply": "2024-04-25T20:35:34.801181Z",
     "shell.execute_reply.started": "2024-04-25T20:35:34.773220Z"
    }
   },
   "outputs": [],
   "source": [
    "import joblib"
   ]
  },
  {
   "cell_type": "code",
   "execution_count": 7,
   "id": "923fac26-61e2-49dd-9099-e31ff4079430",
   "metadata": {
    "execution": {
     "iopub.execute_input": "2024-04-25T20:35:34.803359Z",
     "iopub.status.busy": "2024-04-25T20:35:34.803075Z",
     "iopub.status.idle": "2024-04-25T20:35:35.138347Z",
     "shell.execute_reply": "2024-04-25T20:35:35.137575Z",
     "shell.execute_reply.started": "2024-04-25T20:35:34.803332Z"
    }
   },
   "outputs": [],
   "source": [
    "from mt_function_yl import *"
   ]
  },
  {
   "cell_type": "code",
   "execution_count": 8,
   "id": "8376ffe7-7aec-4e11-9f86-32619931952f",
   "metadata": {
    "execution": {
     "iopub.execute_input": "2024-04-25T20:35:35.140146Z",
     "iopub.status.busy": "2024-04-25T20:35:35.139415Z",
     "iopub.status.idle": "2024-04-25T20:35:35.251340Z",
     "shell.execute_reply": "2024-04-25T20:35:35.250511Z",
     "shell.execute_reply.started": "2024-04-25T20:35:35.140114Z"
    }
   },
   "outputs": [],
   "source": [
    "import seaborn as sn"
   ]
  },
  {
   "cell_type": "code",
   "execution_count": 9,
   "id": "78c65919-07d0-4aba-a8dc-87298c4b96d6",
   "metadata": {
    "execution": {
     "iopub.execute_input": "2024-04-25T20:35:35.253259Z",
     "iopub.status.busy": "2024-04-25T20:35:35.252729Z",
     "iopub.status.idle": "2024-04-25T20:35:35.257281Z",
     "shell.execute_reply": "2024-04-25T20:35:35.256034Z",
     "shell.execute_reply.started": "2024-04-25T20:35:35.253222Z"
    }
   },
   "outputs": [],
   "source": [
    "from scipy import stats"
   ]
  },
  {
   "cell_type": "code",
   "execution_count": 10,
   "id": "37ca928e-82c3-4ae7-a6c6-3f18c1c233ba",
   "metadata": {
    "execution": {
     "iopub.execute_input": "2024-04-25T20:35:35.260498Z",
     "iopub.status.busy": "2024-04-25T20:35:35.260191Z",
     "iopub.status.idle": "2024-04-25T20:35:35.270161Z",
     "shell.execute_reply": "2024-04-25T20:35:35.269342Z",
     "shell.execute_reply.started": "2024-04-25T20:35:35.260471Z"
    }
   },
   "outputs": [],
   "source": [
    "from tabulate import tabulate"
   ]
  },
  {
   "cell_type": "code",
   "execution_count": 11,
   "id": "b46d5518-dab4-4896-a3f7-7aa74a012e35",
   "metadata": {
    "execution": {
     "iopub.execute_input": "2024-04-25T20:35:35.274054Z",
     "iopub.status.busy": "2024-04-25T20:35:35.271493Z",
     "iopub.status.idle": "2024-04-25T20:35:35.678819Z",
     "shell.execute_reply": "2024-04-25T20:35:35.677826Z",
     "shell.execute_reply.started": "2024-04-25T20:35:35.274025Z"
    }
   },
   "outputs": [],
   "source": [
    "import statsmodels.api as sm"
   ]
  },
  {
   "cell_type": "markdown",
   "id": "11486eff-60e0-460e-a14b-9a0ab0628a50",
   "metadata": {},
   "source": [
    "### Data loading"
   ]
  },
  {
   "cell_type": "code",
   "execution_count": 16,
   "id": "00541c9d-0214-4d56-8069-2198a7b30e8c",
   "metadata": {
    "execution": {
     "iopub.execute_input": "2024-04-25T20:38:51.294410Z",
     "iopub.status.busy": "2024-04-25T20:38:51.293581Z",
     "iopub.status.idle": "2024-04-25T20:38:51.463690Z",
     "shell.execute_reply": "2024-04-25T20:38:51.462951Z",
     "shell.execute_reply.started": "2024-04-25T20:38:51.294376Z"
    }
   },
   "outputs": [],
   "source": [
    "# tt variables\n",
    "\n",
    "# Distance to features\n",
    "busl = pd.read_csv('/home/yelhe/data/Traffic_network_variables/rp_busline.csv')\n",
    "traml = pd.read_csv('/home/yelhe/data/Traffic_network_variables/rp_tramrail.csv')\n",
    "trainl = pd.read_csv('/home/yelhe/data/Traffic_network_variables/rp_sbahn.csv')\n",
    "plight = pd.read_csv('/home/yelhe/data/Traffic_network_variables/rp_publiclight.csv')\n",
    "station = pd.read_csv('/home/yelhe/data/Traffic_network_variables/rp_station.csv')\n",
    "parkcar = pd.read_csv('/home/yelhe/data/Traffic_network_variables/rp_parking_car_space.csv')\n",
    "parktw = pd.read_csv('/home/yelhe/data/Traffic_network_variables/rp_parking_twowheeler.csv')\n",
    "\n",
    "pedstrainc = pd.read_csv('/home/yelhe/data/Traffic_network_variables/rp_pedestriancrossing.csv') # Greg\n",
    "stop = pd.read_csv('/home/yelhe/data/Traffic_network_variables/rp_stopsign.csv') # Greg\n",
    "\n",
    "# Road width & surface information\n",
    "roadinfo = pd.read_csv('/home/yelhe/data/Traffic_network_variables/rp_roadsurfacewidth.csv') # Greg\n",
    "# Speedlimit\n",
    "speedlimit = pd.read_csv('/home/yelhe/data/Traffic_network_variables/rp_speedlimit.csv') # Greg\n",
    "\n",
    "# Traffic volume/exposure\n",
    "gvm = pd.read_csv('/home/yelhe/data/Traffic_network_variables/rp_gvm.csv')\n",
    "\n",
    "# Area statistics zone\n",
    "trafficarea = pd.read_csv('/home/yelhe/data/Traffic_network_variables/rp_traffic_area.csv')\n",
    "statzone = pd.read_csv('/home/yelhe/data/Traffic_network_variables/rp_statzonen.csv')\n",
    "\n",
    "# Curb info\n",
    "curb = pd.read_csv('/home/yelhe/data/Traffic_network_variables/rp_curb.csv')\n",
    "\n"
   ]
  },
  {
   "cell_type": "code",
   "execution_count": 20,
   "id": "fc5323c1-df2b-4e85-9f16-8295123d65e6",
   "metadata": {
    "execution": {
     "iopub.execute_input": "2024-04-25T20:40:32.472056Z",
     "iopub.status.busy": "2024-04-25T20:40:32.471572Z",
     "iopub.status.idle": "2024-04-25T20:40:32.477638Z",
     "shell.execute_reply": "2024-04-25T20:40:32.476923Z",
     "shell.execute_reply.started": "2024-04-25T20:40:32.472032Z"
    }
   },
   "outputs": [],
   "source": [
    "idc = pd.read_csv('/home/yelhe/data/Traffic_network_variables/idconversion.csv')"
   ]
  },
  {
   "cell_type": "code",
   "execution_count": 22,
   "id": "6d77be9c-e02c-488e-aad7-06cce64febc6",
   "metadata": {
    "execution": {
     "iopub.execute_input": "2024-04-25T20:40:52.550016Z",
     "iopub.status.busy": "2024-04-25T20:40:52.549539Z",
     "iopub.status.idle": "2024-04-25T20:40:52.558475Z",
     "shell.execute_reply": "2024-04-25T20:40:52.557491Z",
     "shell.execute_reply.started": "2024-04-25T20:40:52.549993Z"
    }
   },
   "outputs": [
    {
     "name": "stdout",
     "output_type": "stream",
     "text": [
      "<class 'pandas.core.frame.DataFrame'>\n",
      "RangeIndex: 995 entries, 0 to 994\n",
      "Data columns (total 2 columns):\n",
      " #   Column      Non-Null Count  Dtype\n",
      "---  ------      --------------  -----\n",
      " 0   rand_point  995 non-null    int64\n",
      " 1   id          995 non-null    int64\n",
      "dtypes: int64(2)\n",
      "memory usage: 15.7 KB\n"
     ]
    }
   ],
   "source": [
    "idc.info()"
   ]
  },
  {
   "cell_type": "code",
   "execution_count": 96,
   "id": "48a30de7-01f7-4b48-8cb8-04149ee2c955",
   "metadata": {
    "execution": {
     "iopub.execute_input": "2024-04-25T21:18:42.518873Z",
     "iopub.status.busy": "2024-04-25T21:18:42.518139Z",
     "iopub.status.idle": "2024-04-25T21:18:42.650446Z",
     "shell.execute_reply": "2024-04-25T21:18:42.649674Z",
     "shell.execute_reply.started": "2024-04-25T21:18:42.518847Z"
    }
   },
   "outputs": [],
   "source": [
    "# Traffic count\n",
    "bc = pd.read_excel('/home/yelhe/data/Traffic_network_variables/traffic_count/bicyclecountm_rp.xlsx')\n",
    "vc = pd.read_excel('/home/yelhe/data/Traffic_network_variables/traffic_count/carcountm_rp.xlsx')"
   ]
  },
  {
   "cell_type": "code",
   "execution_count": 23,
   "id": "b1abc280-aa0f-41ab-ba24-441a2e45802d",
   "metadata": {
    "execution": {
     "iopub.execute_input": "2024-04-25T20:42:30.474651Z",
     "iopub.status.busy": "2024-04-25T20:42:30.474192Z",
     "iopub.status.idle": "2024-04-25T20:42:30.479531Z",
     "shell.execute_reply": "2024-04-25T20:42:30.478296Z",
     "shell.execute_reply.started": "2024-04-25T20:42:30.474627Z"
    }
   },
   "outputs": [],
   "source": [
    "ttv = pd.DataFrame()"
   ]
  },
  {
   "cell_type": "code",
   "execution_count": 24,
   "id": "c10b9bd4-83d6-4313-9087-0414d9910163",
   "metadata": {
    "execution": {
     "iopub.execute_input": "2024-04-25T20:42:30.771985Z",
     "iopub.status.busy": "2024-04-25T20:42:30.771303Z",
     "iopub.status.idle": "2024-04-25T20:42:30.780687Z",
     "shell.execute_reply": "2024-04-25T20:42:30.779980Z",
     "shell.execute_reply.started": "2024-04-25T20:42:30.771960Z"
    }
   },
   "outputs": [],
   "source": [
    "buslg = busl.groupby(['rand_point', 'distance']).size().reset_index().rename(columns={0:'count'})"
   ]
  },
  {
   "cell_type": "code",
   "execution_count": 25,
   "id": "671dd99d-f434-4590-b3ae-2b10cab877f1",
   "metadata": {
    "execution": {
     "iopub.execute_input": "2024-04-25T20:42:31.067239Z",
     "iopub.status.busy": "2024-04-25T20:42:31.066621Z",
     "iopub.status.idle": "2024-04-25T20:42:31.073057Z",
     "shell.execute_reply": "2024-04-25T20:42:31.071125Z",
     "shell.execute_reply.started": "2024-04-25T20:42:31.067213Z"
    }
   },
   "outputs": [],
   "source": [
    "buslg = buslg.rename(columns = {'distance': 'dbusl'})\n",
    "buslg = buslg.drop(['count'], axis = 1)"
   ]
  },
  {
   "cell_type": "code",
   "execution_count": 28,
   "id": "f530e12a-9d5f-4dca-be58-5dda0956c32b",
   "metadata": {
    "execution": {
     "iopub.execute_input": "2024-04-25T20:42:57.383127Z",
     "iopub.status.busy": "2024-04-25T20:42:57.382324Z",
     "iopub.status.idle": "2024-04-25T20:42:57.388457Z",
     "shell.execute_reply": "2024-04-25T20:42:57.387637Z",
     "shell.execute_reply.started": "2024-04-25T20:42:57.383090Z"
    }
   },
   "outputs": [],
   "source": [
    "ttv['rand_point'] = idc['rand_point']"
   ]
  },
  {
   "cell_type": "code",
   "execution_count": 29,
   "id": "89b76776-0b88-4abf-b932-8113cee4bec1",
   "metadata": {
    "execution": {
     "iopub.execute_input": "2024-04-25T20:43:00.635203Z",
     "iopub.status.busy": "2024-04-25T20:43:00.634740Z",
     "iopub.status.idle": "2024-04-25T20:43:00.643720Z",
     "shell.execute_reply": "2024-04-25T20:43:00.642976Z",
     "shell.execute_reply.started": "2024-04-25T20:43:00.635182Z"
    }
   },
   "outputs": [],
   "source": [
    "ttv = ttv.merge(buslg, on = ['rand_point'])"
   ]
  },
  {
   "cell_type": "code",
   "execution_count": 30,
   "id": "8d13991b-6753-4c10-a856-74014e4c33af",
   "metadata": {
    "execution": {
     "iopub.execute_input": "2024-04-25T20:43:01.956588Z",
     "iopub.status.busy": "2024-04-25T20:43:01.956209Z",
     "iopub.status.idle": "2024-04-25T20:43:01.965867Z",
     "shell.execute_reply": "2024-04-25T20:43:01.965014Z",
     "shell.execute_reply.started": "2024-04-25T20:43:01.956564Z"
    }
   },
   "outputs": [],
   "source": [
    "tramlg = traml.groupby(['rand_point', 'distance']).size().reset_index().rename(columns={0:'count'})\n",
    "tramlg = tramlg.rename(columns = {'distance': 'dtraml'})\n",
    "tramlg = tramlg.drop(['count'], axis = 1)"
   ]
  },
  {
   "cell_type": "code",
   "execution_count": 31,
   "id": "185cf753-a0c1-486b-9ef1-82f844f0b6fa",
   "metadata": {
    "execution": {
     "iopub.execute_input": "2024-04-25T20:43:02.009509Z",
     "iopub.status.busy": "2024-04-25T20:43:02.009103Z",
     "iopub.status.idle": "2024-04-25T20:43:02.017380Z",
     "shell.execute_reply": "2024-04-25T20:43:02.016523Z",
     "shell.execute_reply.started": "2024-04-25T20:43:02.009486Z"
    }
   },
   "outputs": [],
   "source": [
    "ttv = ttv.merge(tramlg, on = ['rand_point'])"
   ]
  },
  {
   "cell_type": "code",
   "execution_count": 32,
   "id": "55291521-9aed-4464-9a9d-7787fad7505e",
   "metadata": {
    "execution": {
     "iopub.execute_input": "2024-04-25T20:43:02.511544Z",
     "iopub.status.busy": "2024-04-25T20:43:02.511198Z",
     "iopub.status.idle": "2024-04-25T20:43:02.521425Z",
     "shell.execute_reply": "2024-04-25T20:43:02.520637Z",
     "shell.execute_reply.started": "2024-04-25T20:43:02.511521Z"
    }
   },
   "outputs": [],
   "source": [
    "trainlg = trainl.groupby(['rand_point', 'distance']).size().reset_index().rename(columns={0:'count'})\n",
    "trainlg = trainlg.rename(columns = {'distance': 'dtrainl'})\n",
    "trainlg = trainlg.drop(['count'], axis = 1)"
   ]
  },
  {
   "cell_type": "code",
   "execution_count": 33,
   "id": "ff73ae2a-d5a8-4c15-aad1-cb17acd916a2",
   "metadata": {
    "execution": {
     "iopub.execute_input": "2024-04-25T20:43:02.857648Z",
     "iopub.status.busy": "2024-04-25T20:43:02.857166Z",
     "iopub.status.idle": "2024-04-25T20:43:02.864841Z",
     "shell.execute_reply": "2024-04-25T20:43:02.864145Z",
     "shell.execute_reply.started": "2024-04-25T20:43:02.857625Z"
    }
   },
   "outputs": [],
   "source": [
    "ttv = ttv.merge(trainlg, on = ['rand_point'])"
   ]
  },
  {
   "cell_type": "code",
   "execution_count": 34,
   "id": "1c17f588-4439-4af5-8771-f5d3fccb5604",
   "metadata": {
    "execution": {
     "iopub.execute_input": "2024-04-25T20:43:03.182134Z",
     "iopub.status.busy": "2024-04-25T20:43:03.181669Z",
     "iopub.status.idle": "2024-04-25T20:43:03.192314Z",
     "shell.execute_reply": "2024-04-25T20:43:03.191513Z",
     "shell.execute_reply.started": "2024-04-25T20:43:03.182110Z"
    }
   },
   "outputs": [],
   "source": [
    "plightg = plight.groupby(['rand_point', 'distance']).size().reset_index().rename(columns={0:'count'})\n",
    "plightg = plightg.rename(columns = {'distance': 'dplight'})\n",
    "plightg = plightg.drop(['count'], axis = 1)"
   ]
  },
  {
   "cell_type": "code",
   "execution_count": 35,
   "id": "43654ba1-9adc-4f10-a2c4-2b1a62a3136e",
   "metadata": {
    "execution": {
     "iopub.execute_input": "2024-04-25T20:43:03.515072Z",
     "iopub.status.busy": "2024-04-25T20:43:03.514592Z",
     "iopub.status.idle": "2024-04-25T20:43:03.521930Z",
     "shell.execute_reply": "2024-04-25T20:43:03.521112Z",
     "shell.execute_reply.started": "2024-04-25T20:43:03.515049Z"
    }
   },
   "outputs": [],
   "source": [
    "ttv = ttv.merge(plightg, on = ['rand_point'])"
   ]
  },
  {
   "cell_type": "code",
   "execution_count": 36,
   "id": "24a9a9c0-6321-461f-aced-1f4199ef88bc",
   "metadata": {
    "execution": {
     "iopub.execute_input": "2024-04-25T20:43:04.037850Z",
     "iopub.status.busy": "2024-04-25T20:43:04.037329Z",
     "iopub.status.idle": "2024-04-25T20:43:04.047164Z",
     "shell.execute_reply": "2024-04-25T20:43:04.046419Z",
     "shell.execute_reply.started": "2024-04-25T20:43:04.037824Z"
    }
   },
   "outputs": [],
   "source": [
    "stationg = station.groupby(['rand_point', 'distance']).size().reset_index().rename(columns={0:'count'})\n",
    "stationg = stationg.rename(columns = {'distance': 'dstation'})\n",
    "stationg = stationg.drop(['count'], axis = 1)"
   ]
  },
  {
   "cell_type": "code",
   "execution_count": 37,
   "id": "098c834b-8d04-4538-ab69-9d5aaad15960",
   "metadata": {
    "execution": {
     "iopub.execute_input": "2024-04-25T20:43:04.400180Z",
     "iopub.status.busy": "2024-04-25T20:43:04.399605Z",
     "iopub.status.idle": "2024-04-25T20:43:04.406703Z",
     "shell.execute_reply": "2024-04-25T20:43:04.405981Z",
     "shell.execute_reply.started": "2024-04-25T20:43:04.400155Z"
    }
   },
   "outputs": [],
   "source": [
    "ttv = ttv.merge(stationg, on = ['rand_point'])"
   ]
  },
  {
   "cell_type": "code",
   "execution_count": 38,
   "id": "2bbbb239-3663-4988-a6c6-f764db160387",
   "metadata": {
    "execution": {
     "iopub.execute_input": "2024-04-25T20:43:04.582374Z",
     "iopub.status.busy": "2024-04-25T20:43:04.581887Z",
     "iopub.status.idle": "2024-04-25T20:43:04.610458Z",
     "shell.execute_reply": "2024-04-25T20:43:04.609716Z",
     "shell.execute_reply.started": "2024-04-25T20:43:04.582350Z"
    }
   },
   "outputs": [],
   "source": [
    "parkcarg = parkcar.groupby(['rand_point', 'distance']).size().reset_index().rename(columns={0:'count'})\n",
    "parkcarg = parkcarg.rename(columns = {'distance': 'dparkcar'})\n",
    "parkcarg = parkcarg.drop(['count'], axis = 1)\n",
    "ttv = ttv.merge(parkcarg, on = ['rand_point'])\n",
    "parktwg = parktw.groupby(['rand_point', 'distance']).size().reset_index().rename(columns={0:'count'})\n",
    "parktwg = parktwg.rename(columns = {'distance': 'dparktw'})\n",
    "parktwg = parktwg.drop(['count'], axis = 1)\n",
    "ttv = ttv.merge(parktwg, on = ['rand_point'])\n",
    "pedcrg = pedstrainc.groupby(['rand_point', 'distance']).size().reset_index().rename(columns={0:'count'})\n",
    "pedcrg = pedcrg.rename(columns = {'distance': 'dpedcro'})\n",
    "pedcrg = pedcrg.drop(['count'], axis = 1)\n",
    "ttv = ttv.merge(pedcrg, on = ['rand_point'])\n",
    "stopsg = stop.groupby(['rand_point', 'distance']).size().reset_index().rename(columns={0:'count'})\n",
    "stopsg = stopsg.rename(columns = {'distance': 'dstopsign'})\n",
    "stopsg = stopsg.drop(['count'], axis = 1)\n",
    "ttv = ttv.merge(stopsg, on = ['rand_point'])"
   ]
  },
  {
   "cell_type": "code",
   "execution_count": 39,
   "id": "891d37ee-8424-4c09-a7bd-1fd1cc209ecd",
   "metadata": {
    "execution": {
     "iopub.execute_input": "2024-04-25T20:43:05.117573Z",
     "iopub.status.busy": "2024-04-25T20:43:05.117103Z",
     "iopub.status.idle": "2024-04-25T20:43:05.129193Z",
     "shell.execute_reply": "2024-04-25T20:43:05.128532Z",
     "shell.execute_reply.started": "2024-04-25T20:43:05.117548Z"
    }
   },
   "outputs": [],
   "source": [
    "curbg = curb.groupby(['rand_point', 'distance']).size().reset_index().rename(columns={0:'count'})\n",
    "curbg = curbg.rename(columns = {'distance': 'dcurb'})\n",
    "curbg = curbg.drop(['count'], axis = 1)\n",
    "ttv = ttv.merge(curbg, on = ['rand_point'])"
   ]
  },
  {
   "cell_type": "code",
   "execution_count": 40,
   "id": "970e3092-0f9f-4aaa-b6c5-f6c32604dc9b",
   "metadata": {
    "execution": {
     "iopub.execute_input": "2024-04-25T20:43:05.967915Z",
     "iopub.status.busy": "2024-04-25T20:43:05.967512Z",
     "iopub.status.idle": "2024-04-25T20:43:05.972667Z",
     "shell.execute_reply": "2024-04-25T20:43:05.971394Z",
     "shell.execute_reply.started": "2024-04-25T20:43:05.967892Z"
    }
   },
   "outputs": [],
   "source": [
    "curbty = curb[['rand_point', 'distance', 'abschluss']]"
   ]
  },
  {
   "cell_type": "code",
   "execution_count": 41,
   "id": "a42019b3-43d9-45c2-b495-b0815a7aa0a7",
   "metadata": {
    "execution": {
     "iopub.execute_input": "2024-04-25T20:43:06.343421Z",
     "iopub.status.busy": "2024-04-25T20:43:06.342910Z",
     "iopub.status.idle": "2024-04-25T20:43:06.361094Z",
     "shell.execute_reply": "2024-04-25T20:43:06.359795Z",
     "shell.execute_reply.started": "2024-04-25T20:43:06.343391Z"
    }
   },
   "outputs": [],
   "source": [
    "curbty = curbty.rename(columns = {'abschluss':'curbtype', 'distance':'dcurb'})\n",
    "curbty = curbty.drop_duplicates()\n",
    "ttv = ttv.merge(curbty, on = ['rand_point', 'dcurb'])"
   ]
  },
  {
   "cell_type": "code",
   "execution_count": 42,
   "id": "7b330c68-93ad-4e6c-99c7-051534f470d4",
   "metadata": {
    "execution": {
     "iopub.execute_input": "2024-04-25T20:43:06.840315Z",
     "iopub.status.busy": "2024-04-25T20:43:06.839752Z",
     "iopub.status.idle": "2024-04-25T20:43:06.858569Z",
     "shell.execute_reply": "2024-04-25T20:43:06.857800Z",
     "shell.execute_reply.started": "2024-04-25T20:43:06.840287Z"
    }
   },
   "outputs": [],
   "source": [
    "gvmg = gvm.groupby(['rand_point', 'distance']).size().reset_index().rename(columns={0:'count'})\n",
    "gvmg = gvmg.rename(columns = {'distance': 'dgvm'})\n",
    "gvmg = gvmg.drop(['count'], axis = 1)\n",
    "ttv = ttv.merge(gvmg, on = ['rand_point'])\n",
    "gvmvalue = gvm[['rand_point', 'DWV_ANZ_Q', 'MSP_ANZ_Q', 'ASP_ANZ_Q', 'distance']]\n",
    "gvmvalue = gvmvalue.rename(columns = {'DWV_ANZ_Q':'gvm_dwv',\n",
    "                                      'MSP_ANZ_Q':'gvm_msp',\n",
    "                                      'ASP_ANZ_Q':'gvm_asp',\n",
    "                                      'distance':'dgvm'})\n",
    "ttv = ttv.merge(gvmvalue, on = ['rand_point', 'dgvm'])"
   ]
  },
  {
   "cell_type": "code",
   "execution_count": 43,
   "id": "196cf329-144e-4271-8da5-3badb5721b99",
   "metadata": {
    "execution": {
     "iopub.execute_input": "2024-04-25T20:43:07.784927Z",
     "iopub.status.busy": "2024-04-25T20:43:07.784033Z",
     "iopub.status.idle": "2024-04-25T20:43:07.791098Z",
     "shell.execute_reply": "2024-04-25T20:43:07.790348Z",
     "shell.execute_reply.started": "2024-04-25T20:43:07.784888Z"
    }
   },
   "outputs": [
    {
     "data": {
      "text/plain": [
       "Index(['rand_point', 'dbusl', 'dtraml', 'dtrainl', 'dplight', 'dstation',\n",
       "       'dparkcar', 'dparktw', 'dpedcro', 'dstopsign', 'dcurb', 'curbtype',\n",
       "       'dgvm', 'gvm_dwv', 'gvm_msp', 'gvm_asp'],\n",
       "      dtype='object')"
      ]
     },
     "execution_count": 43,
     "metadata": {},
     "output_type": "execute_result"
    }
   ],
   "source": [
    "ttv.columns"
   ]
  },
  {
   "cell_type": "code",
   "execution_count": 44,
   "id": "7828970c-13e9-4275-8a9b-70346d2242ff",
   "metadata": {
    "execution": {
     "iopub.execute_input": "2024-04-25T20:43:10.265483Z",
     "iopub.status.busy": "2024-04-25T20:43:10.265176Z",
     "iopub.status.idle": "2024-04-25T20:43:10.273688Z",
     "shell.execute_reply": "2024-04-25T20:43:10.272818Z",
     "shell.execute_reply.started": "2024-04-25T20:43:10.265464Z"
    }
   },
   "outputs": [],
   "source": [
    "# ttv = ttv.drop(['curbtype'], axis = 1)\n",
    "ttv = ttv.drop_duplicates()"
   ]
  },
  {
   "cell_type": "code",
   "execution_count": 45,
   "id": "ae76d57e-6207-42d5-bf8c-72f01a438132",
   "metadata": {
    "execution": {
     "iopub.execute_input": "2024-04-25T20:43:12.076131Z",
     "iopub.status.busy": "2024-04-25T20:43:12.075280Z",
     "iopub.status.idle": "2024-04-25T20:43:12.079263Z",
     "shell.execute_reply": "2024-04-25T20:43:12.078534Z",
     "shell.execute_reply.started": "2024-04-25T20:43:12.076099Z"
    }
   },
   "outputs": [],
   "source": [
    "# ttv = ttv.rename(columns = {'curbtype_y': 'curbtype'})"
   ]
  },
  {
   "cell_type": "code",
   "execution_count": 46,
   "id": "c831453b-d5b6-4961-9fdc-cc4a619fa4cc",
   "metadata": {
    "execution": {
     "iopub.execute_input": "2024-04-25T20:43:12.693452Z",
     "iopub.status.busy": "2024-04-25T20:43:12.692855Z",
     "iopub.status.idle": "2024-04-25T20:43:12.699856Z",
     "shell.execute_reply": "2024-04-25T20:43:12.698902Z",
     "shell.execute_reply.started": "2024-04-25T20:43:12.693427Z"
    }
   },
   "outputs": [
    {
     "data": {
      "text/plain": [
       "array([25, 15])"
      ]
     },
     "execution_count": 46,
     "metadata": {},
     "output_type": "execute_result"
    }
   ],
   "source": [
    "ttv['curbtype'].unique()"
   ]
  },
  {
   "cell_type": "code",
   "execution_count": 47,
   "id": "829325c6-692a-4904-8633-c82e67ca4f47",
   "metadata": {
    "execution": {
     "iopub.execute_input": "2024-04-25T20:43:12.702187Z",
     "iopub.status.busy": "2024-04-25T20:43:12.701481Z",
     "iopub.status.idle": "2024-04-25T20:43:12.710063Z",
     "shell.execute_reply": "2024-04-25T20:43:12.709199Z",
     "shell.execute_reply.started": "2024-04-25T20:43:12.702153Z"
    }
   },
   "outputs": [],
   "source": [
    "ttv = ttv.reset_index()"
   ]
  },
  {
   "cell_type": "code",
   "execution_count": 48,
   "id": "3837edc9-6222-444a-9ae9-a8c22b3eb5f0",
   "metadata": {
    "execution": {
     "iopub.execute_input": "2024-04-25T20:43:13.119023Z",
     "iopub.status.busy": "2024-04-25T20:43:13.118644Z",
     "iopub.status.idle": "2024-04-25T20:43:13.123673Z",
     "shell.execute_reply": "2024-04-25T20:43:13.122696Z",
     "shell.execute_reply.started": "2024-04-25T20:43:13.119000Z"
    }
   },
   "outputs": [],
   "source": [
    "ttv = ttv.drop(['index'], axis = 1)"
   ]
  },
  {
   "cell_type": "code",
   "execution_count": 49,
   "id": "c926aac3-7eb1-4a79-bc23-faccb567e67a",
   "metadata": {
    "execution": {
     "iopub.execute_input": "2024-04-25T20:43:13.515080Z",
     "iopub.status.busy": "2024-04-25T20:43:13.514660Z",
     "iopub.status.idle": "2024-04-25T20:43:13.520724Z",
     "shell.execute_reply": "2024-04-25T20:43:13.519974Z",
     "shell.execute_reply.started": "2024-04-25T20:43:13.515056Z"
    }
   },
   "outputs": [
    {
     "name": "stdout",
     "output_type": "stream",
     "text": [
      "209 34 12\n"
     ]
    }
   ],
   "source": [
    "print(len(statzone['stznr'].unique()),\n",
    "      len(statzone['qnr'].unique()),\n",
    "      len(statzone['knr'].unique()))"
   ]
  },
  {
   "cell_type": "code",
   "execution_count": 50,
   "id": "158185f9-30af-46cb-bcc2-a0a540f449a7",
   "metadata": {
    "execution": {
     "iopub.execute_input": "2024-04-25T20:43:15.118331Z",
     "iopub.status.busy": "2024-04-25T20:43:15.117856Z",
     "iopub.status.idle": "2024-04-25T20:43:15.127037Z",
     "shell.execute_reply": "2024-04-25T20:43:15.126273Z",
     "shell.execute_reply.started": "2024-04-25T20:43:15.118309Z"
    }
   },
   "outputs": [],
   "source": [
    "statzoneg = statzone[['rand_point', 'stznr', 'qnr', 'knr']]\n",
    "statzoneg = statzoneg.rename(columns = {'stznr':'z_stznr', 'qnr':'z_qnr', 'knr':'z_knr'})\n",
    "ttv = ttv.merge(statzoneg, on = ['rand_point'])"
   ]
  },
  {
   "cell_type": "code",
   "execution_count": 51,
   "id": "d3ace774-c8fa-4a0b-8efb-208f8d3eb36c",
   "metadata": {
    "execution": {
     "iopub.execute_input": "2024-04-25T20:43:15.515789Z",
     "iopub.status.busy": "2024-04-25T20:43:15.515253Z",
     "iopub.status.idle": "2024-04-25T20:43:15.520948Z",
     "shell.execute_reply": "2024-04-25T20:43:15.519950Z",
     "shell.execute_reply.started": "2024-04-25T20:43:15.515747Z"
    }
   },
   "outputs": [
    {
     "data": {
      "text/plain": [
       "Index(['rand_point', 'fid', 'id1', 'velo', 'velostreif', 'veloweg', 'einbahn',\n",
       "       'fuss', 'name', 'map_velo', 'map_fuss', 'se_anno_ca', 'objectid',\n",
       "       'LENGTH', 'STRASS_ID', 'RICHTPLANT', 'STRADATNAM', 'UNTERHALT',\n",
       "       'EIGENTUM', 'STRASSTYP', 'UREG_TEXT', 'JAHR', 'SREG_TEXT', 'SHAPE_LEN',\n",
       "       'id1_2', 'kategorie', 'objectid_2', 'x', 'y', 'id', 'zonenname',\n",
       "       'zonentyp', 'zonentyp_t', 'umgesetzt_', 'rechtskrae', 'publiziert',\n",
       "       'objectid_3', 'distance'],\n",
       "      dtype='object')"
      ]
     },
     "execution_count": 51,
     "metadata": {},
     "output_type": "execute_result"
    }
   ],
   "source": [
    "trafficarea.columns"
   ]
  },
  {
   "cell_type": "code",
   "execution_count": 52,
   "id": "42d24779-0169-4000-a339-77a960aeac77",
   "metadata": {
    "execution": {
     "iopub.execute_input": "2024-04-25T20:43:16.448444Z",
     "iopub.status.busy": "2024-04-25T20:43:16.447761Z",
     "iopub.status.idle": "2024-04-25T20:43:16.457596Z",
     "shell.execute_reply": "2024-04-25T20:43:16.456710Z",
     "shell.execute_reply.started": "2024-04-25T20:43:16.448410Z"
    }
   },
   "outputs": [
    {
     "data": {
      "text/plain": [
       "zonentyp        zonentyp_t\n",
       "Begegnungszone  T20            75\n",
       "Fussg?ngerzone  T0             19\n",
       "T30-Zone        T30           901\n",
       "dtype: int64"
      ]
     },
     "execution_count": 52,
     "metadata": {},
     "output_type": "execute_result"
    }
   ],
   "source": [
    "trafficarea.groupby(['zonentyp', 'zonentyp_t']).size()"
   ]
  },
  {
   "cell_type": "code",
   "execution_count": 53,
   "id": "8538d8be-825e-4fab-ad43-4f6295ef1123",
   "metadata": {
    "execution": {
     "iopub.execute_input": "2024-04-25T20:43:18.475250Z",
     "iopub.status.busy": "2024-04-25T20:43:18.474852Z",
     "iopub.status.idle": "2024-04-25T20:43:18.483205Z",
     "shell.execute_reply": "2024-04-25T20:43:18.482491Z",
     "shell.execute_reply.started": "2024-04-25T20:43:18.475225Z"
    }
   },
   "outputs": [],
   "source": [
    "tareag = trafficarea[['rand_point', 'zonentyp_t', 'distance']]\n",
    "tareag = tareag.rename(columns = {'zonentyp_t':'trafficarea',\n",
    "                                  'distance':'dtrafficarea'})\n",
    "ttv = ttv.merge(tareag, on = ['rand_point'])"
   ]
  },
  {
   "cell_type": "code",
   "execution_count": 54,
   "id": "b86391d5-424b-4c5e-b2ad-e4e68e7a3dbf",
   "metadata": {
    "execution": {
     "iopub.execute_input": "2024-04-25T20:43:18.691646Z",
     "iopub.status.busy": "2024-04-25T20:43:18.690767Z",
     "iopub.status.idle": "2024-04-25T20:43:18.701129Z",
     "shell.execute_reply": "2024-04-25T20:43:18.700288Z",
     "shell.execute_reply.started": "2024-04-25T20:43:18.691609Z"
    }
   },
   "outputs": [],
   "source": [
    "rig = roadinfo[['rand_point', 'road_width', 'surface', 'distance']]\n",
    "rig = rig.rename(columns = {'road_width':'r_width',\n",
    "                               'distance':'droad',\n",
    "                               'surface':'r_surface'})\n",
    "ttv = ttv.merge(rig, on = ['rand_point'])"
   ]
  },
  {
   "cell_type": "code",
   "execution_count": 55,
   "id": "ff5ddfb5-3742-4515-b4d7-073297a6c664",
   "metadata": {
    "execution": {
     "iopub.execute_input": "2024-04-25T20:43:18.870758Z",
     "iopub.status.busy": "2024-04-25T20:43:18.869966Z",
     "iopub.status.idle": "2024-04-25T20:43:18.879495Z",
     "shell.execute_reply": "2024-04-25T20:43:18.878752Z",
     "shell.execute_reply.started": "2024-04-25T20:43:18.870722Z"
    }
   },
   "outputs": [],
   "source": [
    "slg = speedlimit[['rand_point', 'speed', 'distance']]\n",
    "slg = slg.rename(columns = {'speed':'speedlimit',\n",
    "                            'distance':'droad_sl'})\n",
    "ttv = ttv.merge(slg, on = ['rand_point'])"
   ]
  },
  {
   "cell_type": "code",
   "execution_count": 56,
   "id": "103b15fb-ce55-4619-8595-073b6ad77858",
   "metadata": {
    "execution": {
     "iopub.execute_input": "2024-04-25T20:43:19.027303Z",
     "iopub.status.busy": "2024-04-25T20:43:19.026685Z",
     "iopub.status.idle": "2024-04-25T20:43:19.033617Z",
     "shell.execute_reply": "2024-04-25T20:43:19.032851Z",
     "shell.execute_reply.started": "2024-04-25T20:43:19.027268Z"
    }
   },
   "outputs": [
    {
     "data": {
      "text/plain": [
       "Index(['rand_point', 'dbusl', 'dtraml', 'dtrainl', 'dplight', 'dstation',\n",
       "       'dparkcar', 'dparktw', 'dpedcro', 'dstopsign', 'dcurb', 'curbtype',\n",
       "       'dgvm', 'gvm_dwv', 'gvm_msp', 'gvm_asp', 'z_stznr', 'z_qnr', 'z_knr',\n",
       "       'trafficarea', 'dtrafficarea', 'r_width', 'r_surface', 'droad',\n",
       "       'speedlimit', 'droad_sl'],\n",
       "      dtype='object')"
      ]
     },
     "execution_count": 56,
     "metadata": {},
     "output_type": "execute_result"
    }
   ],
   "source": [
    "ttv.columns"
   ]
  },
  {
   "cell_type": "code",
   "execution_count": 63,
   "id": "e943e59e-f918-4839-aa45-e48955a15a6d",
   "metadata": {
    "execution": {
     "iopub.execute_input": "2024-04-25T20:47:51.693817Z",
     "iopub.status.busy": "2024-04-25T20:47:51.693237Z",
     "iopub.status.idle": "2024-04-25T20:47:51.701015Z",
     "shell.execute_reply": "2024-04-25T20:47:51.700174Z",
     "shell.execute_reply.started": "2024-04-25T20:47:51.693791Z"
    }
   },
   "outputs": [],
   "source": [
    "ttvrp = pd.merge(idc, ttv, on = ['rand_point'], how = 'left')"
   ]
  },
  {
   "cell_type": "code",
   "execution_count": 65,
   "id": "f54ebd05-4b3e-4c83-b72f-469fe1a1878a",
   "metadata": {
    "execution": {
     "iopub.execute_input": "2024-04-25T20:48:49.209365Z",
     "iopub.status.busy": "2024-04-25T20:48:49.209030Z",
     "iopub.status.idle": "2024-04-25T20:48:49.242944Z",
     "shell.execute_reply": "2024-04-25T20:48:49.242217Z",
     "shell.execute_reply.started": "2024-04-25T20:48:49.209342Z"
    }
   },
   "outputs": [],
   "source": [
    "ttvrp.to_csv('/home/yelhe/data/Traffic_network_variables/ttvrp.csv', index = False)"
   ]
  },
  {
   "cell_type": "code",
   "execution_count": 66,
   "id": "1df55f7f-2689-4df8-8100-eed92cc24e60",
   "metadata": {
    "execution": {
     "iopub.execute_input": "2024-04-25T20:54:11.813254Z",
     "iopub.status.busy": "2024-04-25T20:54:11.812462Z",
     "iopub.status.idle": "2024-04-25T20:54:12.146315Z",
     "shell.execute_reply": "2024-04-25T20:54:12.145590Z",
     "shell.execute_reply.started": "2024-04-25T20:54:11.813215Z"
    }
   },
   "outputs": [],
   "source": [
    "ttvrp = pd.read_excel('/home/yelhe/data/Traffic_network_variables/ttvrp.xlsx')"
   ]
  },
  {
   "cell_type": "code",
   "execution_count": 68,
   "id": "b64b5ee7-ff57-44e2-a199-5ebf12db1420",
   "metadata": {
    "execution": {
     "iopub.execute_input": "2024-04-25T20:54:27.798248Z",
     "iopub.status.busy": "2024-04-25T20:54:27.797715Z",
     "iopub.status.idle": "2024-04-25T20:54:27.809195Z",
     "shell.execute_reply": "2024-04-25T20:54:27.808417Z",
     "shell.execute_reply.started": "2024-04-25T20:54:27.798218Z"
    }
   },
   "outputs": [
    {
     "name": "stdout",
     "output_type": "stream",
     "text": [
      "<class 'pandas.core.frame.DataFrame'>\n",
      "RangeIndex: 995 entries, 0 to 994\n",
      "Data columns (total 27 columns):\n",
      " #   Column        Non-Null Count  Dtype  \n",
      "---  ------        --------------  -----  \n",
      " 0   rand_point    995 non-null    int64  \n",
      " 1   id            995 non-null    int64  \n",
      " 2   dbusl         995 non-null    float64\n",
      " 3   dtraml        995 non-null    float64\n",
      " 4   dtrainl       995 non-null    float64\n",
      " 5   dplight       995 non-null    float64\n",
      " 6   dstation      995 non-null    float64\n",
      " 7   dparkcar      995 non-null    float64\n",
      " 8   dparktw       995 non-null    float64\n",
      " 9   dpedcro       995 non-null    float64\n",
      " 10  dstopsign     995 non-null    float64\n",
      " 11  dcurb         995 non-null    float64\n",
      " 12  curbtype      995 non-null    int64  \n",
      " 13  dgvm          995 non-null    float64\n",
      " 14  gvm_dwv       995 non-null    int64  \n",
      " 15  gvm_msp       995 non-null    int64  \n",
      " 16  gvm_asp       995 non-null    int64  \n",
      " 17  z_stznr       995 non-null    int64  \n",
      " 18  z_qnr         995 non-null    int64  \n",
      " 19  z_knr         995 non-null    int64  \n",
      " 20  trafficarea   995 non-null    object \n",
      " 21  dtrafficarea  995 non-null    float64\n",
      " 22  r_width       995 non-null    int64  \n",
      " 23  r_surface     995 non-null    object \n",
      " 24  droad         995 non-null    float64\n",
      " 25  speedlimit    995 non-null    int64  \n",
      " 26  droad_sl      995 non-null    float64\n",
      "dtypes: float64(14), int64(11), object(2)\n",
      "memory usage: 210.0+ KB\n"
     ]
    }
   ],
   "source": [
    "ttvrp.info()"
   ]
  },
  {
   "cell_type": "code",
   "execution_count": 57,
   "id": "453728f7-b919-4ac2-91c7-bb74fed90abd",
   "metadata": {
    "execution": {
     "iopub.execute_input": "2024-04-25T20:43:19.316900Z",
     "iopub.status.busy": "2024-04-25T20:43:19.316457Z",
     "iopub.status.idle": "2024-04-25T20:43:19.320591Z",
     "shell.execute_reply": "2024-04-25T20:43:19.319314Z",
     "shell.execute_reply.started": "2024-04-25T20:43:19.316877Z"
    }
   },
   "outputs": [],
   "source": [
    "# ttv.to_csv('/home/yelhe/data/Traffic_network_variables/ttvariables_sum_new.csv', index = False)"
   ]
  },
  {
   "cell_type": "code",
   "execution_count": 58,
   "id": "f63749aa-6a90-4340-854d-31e9a19af6bc",
   "metadata": {
    "execution": {
     "iopub.execute_input": "2024-04-25T20:43:21.844677Z",
     "iopub.status.busy": "2024-04-25T20:43:21.844274Z",
     "iopub.status.idle": "2024-04-25T20:43:21.848836Z",
     "shell.execute_reply": "2024-04-25T20:43:21.847253Z",
     "shell.execute_reply.started": "2024-04-25T20:43:21.844653Z"
    }
   },
   "outputs": [],
   "source": [
    "# ttv = pd.read_csv('/home/yelhe/data/Traffic_network_variables/ttvariables_sum_new.csv')"
   ]
  },
  {
   "cell_type": "code",
   "execution_count": 97,
   "id": "0b9e4abb-69f9-48be-8743-f97669a17fd7",
   "metadata": {
    "execution": {
     "iopub.execute_input": "2024-04-25T21:18:51.309867Z",
     "iopub.status.busy": "2024-04-25T21:18:51.309133Z",
     "iopub.status.idle": "2024-04-25T21:18:51.318775Z",
     "shell.execute_reply": "2024-04-25T21:18:51.317700Z",
     "shell.execute_reply.started": "2024-04-25T21:18:51.309840Z"
    }
   },
   "outputs": [
    {
     "name": "stdout",
     "output_type": "stream",
     "text": [
      "<class 'pandas.core.frame.DataFrame'>\n",
      "RangeIndex: 995 entries, 0 to 994\n",
      "Data columns (total 3 columns):\n",
      " #   Column                 Non-Null Count  Dtype  \n",
      "---  ------                 --------------  -----  \n",
      " 0   id                     995 non-null    int64  \n",
      " 1   distance               995 non-null    float64\n",
      " 2   bicycle_traffic_count  995 non-null    float64\n",
      "dtypes: float64(2), int64(1)\n",
      "memory usage: 23.4 KB\n"
     ]
    }
   ],
   "source": [
    "bc.info()"
   ]
  },
  {
   "cell_type": "code",
   "execution_count": 98,
   "id": "11a2b1fe-f794-4b21-bb12-3540a0485ad1",
   "metadata": {
    "execution": {
     "iopub.execute_input": "2024-04-25T21:18:51.644630Z",
     "iopub.status.busy": "2024-04-25T21:18:51.644177Z",
     "iopub.status.idle": "2024-04-25T21:18:51.652791Z",
     "shell.execute_reply": "2024-04-25T21:18:51.652039Z",
     "shell.execute_reply.started": "2024-04-25T21:18:51.644608Z"
    }
   },
   "outputs": [
    {
     "name": "stdout",
     "output_type": "stream",
     "text": [
      "<class 'pandas.core.frame.DataFrame'>\n",
      "RangeIndex: 995 entries, 0 to 994\n",
      "Data columns (total 3 columns):\n",
      " #   Column             Non-Null Count  Dtype  \n",
      "---  ------             --------------  -----  \n",
      " 0   id                 995 non-null    int64  \n",
      " 1   distance           995 non-null    float64\n",
      " 2   car_traffic_count  995 non-null    float64\n",
      "dtypes: float64(2), int64(1)\n",
      "memory usage: 23.4 KB\n"
     ]
    }
   ],
   "source": [
    "vc.info()"
   ]
  },
  {
   "cell_type": "code",
   "execution_count": 99,
   "id": "dee43501-525d-4a31-b454-9cf9fd5272cc",
   "metadata": {
    "execution": {
     "iopub.execute_input": "2024-04-25T21:19:01.995581Z",
     "iopub.status.busy": "2024-04-25T21:19:01.995034Z",
     "iopub.status.idle": "2024-04-25T21:19:02.000230Z",
     "shell.execute_reply": "2024-04-25T21:19:01.999370Z",
     "shell.execute_reply.started": "2024-04-25T21:19:01.995557Z"
    }
   },
   "outputs": [],
   "source": [
    "bcg = bc.rename(columns = {'distance': 'd_bicyclecount',\n",
    "                           'bicycle_traffic_count':'bicyclecount'})\n",
    "vcg = vc.rename(columns = {'distance': 'd_carcount',\n",
    "                           'car_traffic_count':'carcount'})"
   ]
  },
  {
   "cell_type": "code",
   "execution_count": 100,
   "id": "72e2098b-39af-4c6a-a0ed-506beb438a36",
   "metadata": {
    "execution": {
     "iopub.execute_input": "2024-04-25T21:19:03.288303Z",
     "iopub.status.busy": "2024-04-25T21:19:03.287681Z",
     "iopub.status.idle": "2024-04-25T21:19:03.297252Z",
     "shell.execute_reply": "2024-04-25T21:19:03.296476Z",
     "shell.execute_reply.started": "2024-04-25T21:19:03.288277Z"
    }
   },
   "outputs": [],
   "source": [
    "ttv_0 = ttvrp.merge(bcg, on = ['id'], how = 'left')\n",
    "ttv_1 = ttv_0.merge(vcg, on = ['id'], how = 'left')"
   ]
  },
  {
   "cell_type": "code",
   "execution_count": 101,
   "id": "48429f46-d998-4eae-9104-44d0797955bf",
   "metadata": {
    "execution": {
     "iopub.execute_input": "2024-04-25T21:19:05.503483Z",
     "iopub.status.busy": "2024-04-25T21:19:05.503087Z",
     "iopub.status.idle": "2024-04-25T21:19:05.506643Z",
     "shell.execute_reply": "2024-04-25T21:19:05.505919Z",
     "shell.execute_reply.started": "2024-04-25T21:19:05.503456Z"
    }
   },
   "outputs": [],
   "source": [
    "# ttv.to_csv('/home/yelhe/data/Traffic_network_variables/ttvariables_sum_withtrafficcount_final.csv', index = False)"
   ]
  },
  {
   "cell_type": "code",
   "execution_count": 102,
   "id": "016c2c8d-0473-4c60-ba13-c5d5e19c04d6",
   "metadata": {
    "execution": {
     "iopub.execute_input": "2024-04-25T21:19:05.508136Z",
     "iopub.status.busy": "2024-04-25T21:19:05.507879Z",
     "iopub.status.idle": "2024-04-25T21:19:05.533754Z",
     "shell.execute_reply": "2024-04-25T21:19:05.533076Z",
     "shell.execute_reply.started": "2024-04-25T21:19:05.508118Z"
    }
   },
   "outputs": [],
   "source": [
    "# ttv = pd.read_csv('/home/yelhe/data/Traffic_network_variables/ttvariables_sum_withtrafficcount.csv')\n",
    "vfpath = pd.read_csv('/home/yelhe/data/Traffic_network_variables/rp_veloandfusspath.csv')"
   ]
  },
  {
   "cell_type": "code",
   "execution_count": 103,
   "id": "874c2ddb-19aa-407b-9f78-4e01992d3ac8",
   "metadata": {
    "execution": {
     "iopub.execute_input": "2024-04-25T21:19:05.765064Z",
     "iopub.status.busy": "2024-04-25T21:19:05.764496Z",
     "iopub.status.idle": "2024-04-25T21:19:05.771722Z",
     "shell.execute_reply": "2024-04-25T21:19:05.770938Z",
     "shell.execute_reply.started": "2024-04-25T21:19:05.765039Z"
    }
   },
   "outputs": [],
   "source": [
    "vfpath1 = pd.merge(idc, vfpath, on = ['rand_point'], how = 'left')"
   ]
  },
  {
   "cell_type": "code",
   "execution_count": 104,
   "id": "5d3a1c05-8511-4cd8-b07f-b8aa9c845bcc",
   "metadata": {
    "execution": {
     "iopub.execute_input": "2024-04-25T21:19:06.086343Z",
     "iopub.status.busy": "2024-04-25T21:19:06.085867Z",
     "iopub.status.idle": "2024-04-25T21:19:06.095067Z",
     "shell.execute_reply": "2024-04-25T21:19:06.094339Z",
     "shell.execute_reply.started": "2024-04-25T21:19:06.086320Z"
    }
   },
   "outputs": [],
   "source": [
    "vfpg = vfpath1.groupby(['id', 'distance']).size().reset_index().rename(columns={0:'count'})\n",
    "vfpg = vfpg.rename(columns = {'distance': 'dvfpath'})\n",
    "vfpg = vfpg.drop(['count'], axis = 1)"
   ]
  },
  {
   "cell_type": "code",
   "execution_count": 105,
   "id": "6f7a39b1-886f-49cd-b6ba-771707ec37db",
   "metadata": {
    "execution": {
     "iopub.execute_input": "2024-04-25T21:19:06.669005Z",
     "iopub.status.busy": "2024-04-25T21:19:06.668287Z",
     "iopub.status.idle": "2024-04-25T21:19:06.674155Z",
     "shell.execute_reply": "2024-04-25T21:19:06.673459Z",
     "shell.execute_reply.started": "2024-04-25T21:19:06.668979Z"
    }
   },
   "outputs": [
    {
     "data": {
      "text/plain": [
       "array([0.00000e+00, 2.32831e-10, 4.65661e-10])"
      ]
     },
     "execution_count": 105,
     "metadata": {},
     "output_type": "execute_result"
    }
   ],
   "source": [
    "vfpg['dvfpath'].unique()"
   ]
  },
  {
   "cell_type": "code",
   "execution_count": 106,
   "id": "aa0bd59e-f102-4ec2-b7eb-d7442de981d7",
   "metadata": {
    "execution": {
     "iopub.execute_input": "2024-04-25T21:19:07.148867Z",
     "iopub.status.busy": "2024-04-25T21:19:07.148247Z",
     "iopub.status.idle": "2024-04-25T21:19:07.154892Z",
     "shell.execute_reply": "2024-04-25T21:19:07.154220Z",
     "shell.execute_reply.started": "2024-04-25T21:19:07.148842Z"
    }
   },
   "outputs": [],
   "source": [
    "ttvall = ttv_1.merge(vfpg, on = ['id'])"
   ]
  },
  {
   "cell_type": "code",
   "execution_count": 107,
   "id": "2d60d358-ff78-4286-af9b-c4a15c273561",
   "metadata": {
    "execution": {
     "iopub.execute_input": "2024-04-25T21:19:09.087167Z",
     "iopub.status.busy": "2024-04-25T21:19:09.086664Z",
     "iopub.status.idle": "2024-04-25T21:19:09.091782Z",
     "shell.execute_reply": "2024-04-25T21:19:09.090894Z",
     "shell.execute_reply.started": "2024-04-25T21:19:09.087141Z"
    }
   },
   "outputs": [],
   "source": [
    "ttvallfinal = ttvall.drop(['rand_point'],axis = 1)"
   ]
  },
  {
   "cell_type": "code",
   "execution_count": 108,
   "id": "386e838d-fdfe-47f1-8dcd-deb8ea727c6d",
   "metadata": {
    "execution": {
     "iopub.execute_input": "2024-04-25T21:19:09.399106Z",
     "iopub.status.busy": "2024-04-25T21:19:09.398604Z",
     "iopub.status.idle": "2024-04-25T21:19:09.409483Z",
     "shell.execute_reply": "2024-04-25T21:19:09.408831Z",
     "shell.execute_reply.started": "2024-04-25T21:19:09.399084Z"
    }
   },
   "outputs": [
    {
     "name": "stdout",
     "output_type": "stream",
     "text": [
      "<class 'pandas.core.frame.DataFrame'>\n",
      "RangeIndex: 995 entries, 0 to 994\n",
      "Data columns (total 31 columns):\n",
      " #   Column          Non-Null Count  Dtype  \n",
      "---  ------          --------------  -----  \n",
      " 0   id              995 non-null    int64  \n",
      " 1   dbusl           995 non-null    float64\n",
      " 2   dtraml          995 non-null    float64\n",
      " 3   dtrainl         995 non-null    float64\n",
      " 4   dplight         995 non-null    float64\n",
      " 5   dstation        995 non-null    float64\n",
      " 6   dparkcar        995 non-null    float64\n",
      " 7   dparktw         995 non-null    float64\n",
      " 8   dpedcro         995 non-null    float64\n",
      " 9   dstopsign       995 non-null    float64\n",
      " 10  dcurb           995 non-null    float64\n",
      " 11  curbtype        995 non-null    int64  \n",
      " 12  dgvm            995 non-null    float64\n",
      " 13  gvm_dwv         995 non-null    int64  \n",
      " 14  gvm_msp         995 non-null    int64  \n",
      " 15  gvm_asp         995 non-null    int64  \n",
      " 16  z_stznr         995 non-null    int64  \n",
      " 17  z_qnr           995 non-null    int64  \n",
      " 18  z_knr           995 non-null    int64  \n",
      " 19  trafficarea     995 non-null    object \n",
      " 20  dtrafficarea    995 non-null    float64\n",
      " 21  r_width         995 non-null    int64  \n",
      " 22  r_surface       995 non-null    object \n",
      " 23  droad           995 non-null    float64\n",
      " 24  speedlimit      995 non-null    int64  \n",
      " 25  droad_sl        995 non-null    float64\n",
      " 26  d_bicyclecount  995 non-null    float64\n",
      " 27  bicyclecount    995 non-null    float64\n",
      " 28  d_carcount      995 non-null    float64\n",
      " 29  carcount        995 non-null    float64\n",
      " 30  dvfpath         995 non-null    float64\n",
      "dtypes: float64(19), int64(10), object(2)\n",
      "memory usage: 241.1+ KB\n"
     ]
    }
   ],
   "source": [
    "ttvallfinal.info()"
   ]
  },
  {
   "cell_type": "code",
   "execution_count": 109,
   "id": "2c68b37b-2cb6-4e2d-9e12-064d4bcdb099",
   "metadata": {
    "execution": {
     "iopub.execute_input": "2024-04-25T21:19:16.937330Z",
     "iopub.status.busy": "2024-04-25T21:19:16.936809Z",
     "iopub.status.idle": "2024-04-25T21:19:16.982171Z",
     "shell.execute_reply": "2024-04-25T21:19:16.980997Z",
     "shell.execute_reply.started": "2024-04-25T21:19:16.937306Z"
    }
   },
   "outputs": [],
   "source": [
    "ttvallfinal.to_csv('/home/yelhe/data/Traffic_network_variables/ttvariables_rp_final.csv', index = False)"
   ]
  },
  {
   "cell_type": "code",
   "execution_count": null,
   "id": "77d49064-4845-406d-8dde-0c3944e78d01",
   "metadata": {},
   "outputs": [],
   "source": []
  }
 ],
 "metadata": {
  "kernelspec": {
   "display_name": "Python 3 (ipykernel)",
   "language": "python",
   "name": "python3"
  },
  "language_info": {
   "codemirror_mode": {
    "name": "ipython",
    "version": 3
   },
   "file_extension": ".py",
   "mimetype": "text/x-python",
   "name": "python",
   "nbconvert_exporter": "python",
   "pygments_lexer": "ipython3",
   "version": "3.11.5"
  }
 },
 "nbformat": 4,
 "nbformat_minor": 5
}
