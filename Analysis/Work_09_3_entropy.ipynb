{
 "cells": [
  {
   "cell_type": "code",
   "execution_count": 1,
   "id": "7e9f75d8-3be9-45ef-b9ae-ad72fefb7ce1",
   "metadata": {
    "execution": {
     "iopub.execute_input": "2024-02-28T14:59:28.826654Z",
     "iopub.status.busy": "2024-02-28T14:59:28.825329Z",
     "iopub.status.idle": "2024-02-28T14:59:30.354179Z",
     "shell.execute_reply": "2024-02-28T14:59:30.353337Z",
     "shell.execute_reply.started": "2024-02-28T14:59:28.826600Z"
    }
   },
   "outputs": [],
   "source": [
    "import torch\n",
    "torch.cuda.empty_cache() "
   ]
  },
  {
   "cell_type": "code",
   "execution_count": 2,
   "id": "21a17079-f2b6-44e2-910e-4f9aa081bc43",
   "metadata": {
    "execution": {
     "iopub.execute_input": "2024-02-28T14:59:30.356003Z",
     "iopub.status.busy": "2024-02-28T14:59:30.355557Z",
     "iopub.status.idle": "2024-02-28T14:59:30.411986Z",
     "shell.execute_reply": "2024-02-28T14:59:30.411187Z",
     "shell.execute_reply.started": "2024-02-28T14:59:30.355977Z"
    }
   },
   "outputs": [],
   "source": [
    "import google_streetview\n",
    "import google_streetview.api\n",
    "import google_streetview.helpers"
   ]
  },
  {
   "cell_type": "code",
   "execution_count": 3,
   "id": "f3e5fa71-37bd-4efe-b8ee-ae3c362b2a1b",
   "metadata": {
    "execution": {
     "iopub.execute_input": "2024-02-28T14:59:30.413008Z",
     "iopub.status.busy": "2024-02-28T14:59:30.412825Z",
     "iopub.status.idle": "2024-02-28T14:59:30.697426Z",
     "shell.execute_reply": "2024-02-28T14:59:30.696598Z",
     "shell.execute_reply.started": "2024-02-28T14:59:30.412991Z"
    }
   },
   "outputs": [],
   "source": [
    "import os \n",
    "os.environ['MPLCONFIGDIR'] = os.getcwd() + \"/configs/\"\n",
    "import matplotlib\n",
    "from matplotlib import pyplot as plt\n",
    "import numpy as np\n",
    "import cv2\n",
    "import urllib.request\n",
    "from PIL import Image"
   ]
  },
  {
   "cell_type": "code",
   "execution_count": 4,
   "id": "132db61a-9aa6-4936-8ab4-054288d07d2e",
   "metadata": {
    "execution": {
     "iopub.execute_input": "2024-02-28T14:59:30.698696Z",
     "iopub.status.busy": "2024-02-28T14:59:30.698529Z",
     "iopub.status.idle": "2024-02-28T14:59:31.358114Z",
     "shell.execute_reply": "2024-02-28T14:59:31.357283Z",
     "shell.execute_reply.started": "2024-02-28T14:59:30.698680Z"
    }
   },
   "outputs": [],
   "source": [
    "import pandas as pd\n",
    "import pyproj"
   ]
  },
  {
   "cell_type": "code",
   "execution_count": 5,
   "id": "80d61825-dc8d-4005-9362-cf497e771695",
   "metadata": {
    "execution": {
     "iopub.execute_input": "2024-02-28T14:59:31.359142Z",
     "iopub.status.busy": "2024-02-28T14:59:31.358841Z",
     "iopub.status.idle": "2024-02-28T14:59:31.364872Z",
     "shell.execute_reply": "2024-02-28T14:59:31.363634Z",
     "shell.execute_reply.started": "2024-02-28T14:59:31.359123Z"
    }
   },
   "outputs": [],
   "source": [
    "import os \n",
    "os.environ['MPLCONFIGDIR'] = os.getcwd() + \"/configs/\"\n",
    "import matplotlib\n",
    "from matplotlib import pyplot as plt\n",
    "import numpy as np\n",
    "import cv2"
   ]
  },
  {
   "cell_type": "code",
   "execution_count": 6,
   "id": "e6000c92-6b7e-4ee5-9c30-ac0dfed91840",
   "metadata": {
    "execution": {
     "iopub.execute_input": "2024-02-28T14:59:31.368032Z",
     "iopub.status.busy": "2024-02-28T14:59:31.367440Z",
     "iopub.status.idle": "2024-02-28T14:59:31.372312Z",
     "shell.execute_reply": "2024-02-28T14:59:31.371509Z",
     "shell.execute_reply.started": "2024-02-28T14:59:31.367984Z"
    }
   },
   "outputs": [],
   "source": [
    "from pathlib import Path"
   ]
  },
  {
   "cell_type": "code",
   "execution_count": 7,
   "id": "59dfb1fc-7192-4ae1-9df9-596320cc4875",
   "metadata": {
    "execution": {
     "iopub.execute_input": "2024-02-28T14:59:31.415059Z",
     "iopub.status.busy": "2024-02-28T14:59:31.414377Z",
     "iopub.status.idle": "2024-02-28T14:59:31.442972Z",
     "shell.execute_reply": "2024-02-28T14:59:31.442240Z",
     "shell.execute_reply.started": "2024-02-28T14:59:31.415019Z"
    }
   },
   "outputs": [],
   "source": [
    "import joblib"
   ]
  },
  {
   "cell_type": "code",
   "execution_count": 8,
   "id": "923fac26-61e2-49dd-9099-e31ff4079430",
   "metadata": {
    "execution": {
     "iopub.execute_input": "2024-02-28T14:59:32.475005Z",
     "iopub.status.busy": "2024-02-28T14:59:32.473785Z",
     "iopub.status.idle": "2024-02-28T14:59:32.502255Z",
     "shell.execute_reply": "2024-02-28T14:59:32.501456Z",
     "shell.execute_reply.started": "2024-02-28T14:59:32.474940Z"
    }
   },
   "outputs": [],
   "source": [
    "from mt_function_yl import *"
   ]
  },
  {
   "cell_type": "markdown",
   "id": "d7346fc9-4815-4194-b455-fca304758ef0",
   "metadata": {},
   "source": [
    "#### Load in Dataframes"
   ]
  },
  {
   "cell_type": "code",
   "execution_count": 9,
   "id": "e7b2299c-323d-419b-b474-0bd2af65965e",
   "metadata": {
    "execution": {
     "iopub.execute_input": "2024-02-28T14:59:34.013568Z",
     "iopub.status.busy": "2024-02-28T14:59:34.012390Z",
     "iopub.status.idle": "2024-02-28T14:59:35.246303Z",
     "shell.execute_reply": "2024-02-28T14:59:35.245197Z",
     "shell.execute_reply.started": "2024-02-28T14:59:34.013511Z"
    }
   },
   "outputs": [],
   "source": [
    "df_a = pd.read_csv('/home/yelhe/scratch/df/df_accident_0_295.csv')\n",
    "df_p = pd.read_csv('/home/yelhe/scratch/df/df_pseudo_0_792_new.csv')"
   ]
  },
  {
   "cell_type": "code",
   "execution_count": 10,
   "id": "49f2ed1a-0a6f-4ab5-8e8d-f1e8efe730bd",
   "metadata": {
    "execution": {
     "iopub.execute_input": "2024-02-28T14:59:35.248031Z",
     "iopub.status.busy": "2024-02-28T14:59:35.247827Z",
     "iopub.status.idle": "2024-02-28T14:59:35.262047Z",
     "shell.execute_reply": "2024-02-28T14:59:35.261571Z",
     "shell.execute_reply.started": "2024-02-28T14:59:35.248012Z"
    }
   },
   "outputs": [
    {
     "name": "stdout",
     "output_type": "stream",
     "text": [
      "<class 'pandas.core.frame.DataFrame'>\n",
      "RangeIndex: 55960 entries, 0 to 55959\n",
      "Data columns (total 37 columns):\n",
      " #   Column             Non-Null Count  Dtype  \n",
      "---  ------             --------------  -----  \n",
      " 0   mask               55960 non-null  int64  \n",
      " 1   gmedian            55960 non-null  float64\n",
      " 2   rmedian            55960 non-null  float64\n",
      " 3   bmedian            55960 non-null  float64\n",
      " 4   gmean              55960 non-null  float64\n",
      " 5   rmean              55960 non-null  float64\n",
      " 6   bmean              55960 non-null  float64\n",
      " 7   gstd               55960 non-null  float64\n",
      " 8   rstd               55960 non-null  float64\n",
      " 9   bstd               55960 non-null  float64\n",
      " 10  gq25               55960 non-null  float64\n",
      " 11  gq75               55960 non-null  float64\n",
      " 12  rq25               55960 non-null  float64\n",
      " 13  rq75               55960 non-null  float64\n",
      " 14  bq25               55960 non-null  float64\n",
      " 15  bq75               55960 non-null  float64\n",
      " 16  cdmean             55960 non-null  float64\n",
      " 17  cdstd              55960 non-null  float64\n",
      " 18  isconvex           55960 non-null  int64  \n",
      " 19  area               55960 non-null  float64\n",
      " 20  aspect_ratio_wh_s  55960 non-null  float64\n",
      " 21  extent_s           55960 non-null  float64\n",
      " 22  solidity           55960 non-null  float64\n",
      " 23  aspect_ratio_wh    55960 non-null  float64\n",
      " 24  extent             55960 non-null  float64\n",
      " 25  orien_rre          55960 non-null  float64\n",
      " 26  orien_ell          55960 non-null  float64\n",
      " 27  ed                 55960 non-null  float64\n",
      " 28  ratio_ell          55960 non-null  float64\n",
      " 29  perimeter          55960 non-null  float64\n",
      " 30  is_cen_inside      55960 non-null  float64\n",
      " 31  is_mce_inside      55960 non-null  float64\n",
      " 32  leftm              55960 non-null  int64  \n",
      " 33  rightm             55960 non-null  int64  \n",
      " 34  topm               55960 non-null  int64  \n",
      " 35  bottomm            55960 non-null  int64  \n",
      " 36  Nr                 55960 non-null  int64  \n",
      "dtypes: float64(30), int64(7)\n",
      "memory usage: 15.8 MB\n"
     ]
    }
   ],
   "source": [
    "df_a.info()"
   ]
  },
  {
   "cell_type": "code",
   "execution_count": 11,
   "id": "d741e415-84bd-4eb4-bd97-2de52cfe4dc0",
   "metadata": {
    "execution": {
     "iopub.execute_input": "2024-02-28T14:59:35.828737Z",
     "iopub.status.busy": "2024-02-28T14:59:35.827543Z",
     "iopub.status.idle": "2024-02-28T14:59:35.851561Z",
     "shell.execute_reply": "2024-02-28T14:59:35.850968Z",
     "shell.execute_reply.started": "2024-02-28T14:59:35.828683Z"
    }
   },
   "outputs": [
    {
     "name": "stdout",
     "output_type": "stream",
     "text": [
      "<class 'pandas.core.frame.DataFrame'>\n",
      "RangeIndex: 138032 entries, 0 to 138031\n",
      "Data columns (total 37 columns):\n",
      " #   Column             Non-Null Count   Dtype  \n",
      "---  ------             --------------   -----  \n",
      " 0   mask               138032 non-null  int64  \n",
      " 1   gmedian            138032 non-null  float64\n",
      " 2   rmedian            138032 non-null  float64\n",
      " 3   bmedian            138032 non-null  float64\n",
      " 4   gmean              138032 non-null  float64\n",
      " 5   rmean              138032 non-null  float64\n",
      " 6   bmean              138032 non-null  float64\n",
      " 7   gstd               138032 non-null  float64\n",
      " 8   rstd               138032 non-null  float64\n",
      " 9   bstd               138032 non-null  float64\n",
      " 10  gq25               138032 non-null  float64\n",
      " 11  gq75               138032 non-null  float64\n",
      " 12  rq25               138032 non-null  float64\n",
      " 13  rq75               138032 non-null  float64\n",
      " 14  bq25               138032 non-null  float64\n",
      " 15  bq75               138032 non-null  float64\n",
      " 16  cdmean             138032 non-null  float64\n",
      " 17  cdstd              138032 non-null  float64\n",
      " 18  isconvex           138032 non-null  int64  \n",
      " 19  area               138032 non-null  float64\n",
      " 20  aspect_ratio_wh_s  138032 non-null  float64\n",
      " 21  extent_s           138032 non-null  float64\n",
      " 22  solidity           138032 non-null  float64\n",
      " 23  aspect_ratio_wh    138032 non-null  float64\n",
      " 24  extent             138032 non-null  float64\n",
      " 25  orien_rre          138032 non-null  float64\n",
      " 26  orien_ell          138032 non-null  float64\n",
      " 27  ed                 138032 non-null  float64\n",
      " 28  ratio_ell          138032 non-null  float64\n",
      " 29  perimeter          138032 non-null  float64\n",
      " 30  is_cen_inside      138032 non-null  float64\n",
      " 31  is_mce_inside      138032 non-null  float64\n",
      " 32  leftm              138032 non-null  int64  \n",
      " 33  rightm             138032 non-null  int64  \n",
      " 34  topm               138032 non-null  int64  \n",
      " 35  bottomm            138032 non-null  int64  \n",
      " 36  Nr                 138032 non-null  int64  \n",
      "dtypes: float64(30), int64(7)\n",
      "memory usage: 39.0 MB\n"
     ]
    }
   ],
   "source": [
    "df_p.info()"
   ]
  },
  {
   "cell_type": "markdown",
   "id": "10879242-a2fc-40a2-849a-f2ee19c7052c",
   "metadata": {},
   "source": [
    "#### For entropy - whole scene"
   ]
  },
  {
   "cell_type": "code",
   "execution_count": 13,
   "id": "1a25a5c2-89c4-4508-92cf-ae78dfa1a923",
   "metadata": {
    "execution": {
     "iopub.execute_input": "2024-02-28T15:00:55.820061Z",
     "iopub.status.busy": "2024-02-28T15:00:55.818591Z",
     "iopub.status.idle": "2024-02-28T15:00:55.843868Z",
     "shell.execute_reply": "2024-02-28T15:00:55.843065Z",
     "shell.execute_reply.started": "2024-02-28T15:00:55.819996Z"
    }
   },
   "outputs": [],
   "source": [
    "dfae = df_a\n",
    "dfpe = df_p\n",
    "# Drop info columns\n",
    "dfae = dfae.drop(['mask', 'Nr','isconvex','is_cen_inside','is_mce_inside'], axis = 1)\n",
    "dfpe = dfpe.drop(['mask', 'Nr','isconvex','is_cen_inside','is_mce_inside'], axis = 1)"
   ]
  },
  {
   "cell_type": "code",
   "execution_count": 61,
   "id": "a3d9ff7f-21f2-4895-ac5c-3c468d0b1b49",
   "metadata": {
    "execution": {
     "iopub.execute_input": "2024-02-28T15:26:46.754178Z",
     "iopub.status.busy": "2024-02-28T15:26:46.753621Z",
     "iopub.status.idle": "2024-02-28T15:26:46.764068Z",
     "shell.execute_reply": "2024-02-28T15:26:46.762441Z",
     "shell.execute_reply.started": "2024-02-28T15:26:46.754130Z"
    }
   },
   "outputs": [
    {
     "data": {
      "text/plain": [
       "((55960, 33), (138032, 33))"
      ]
     },
     "execution_count": 61,
     "metadata": {},
     "output_type": "execute_result"
    }
   ],
   "source": [
    "dfae.shape, dfpe.shape"
   ]
  },
  {
   "cell_type": "code",
   "execution_count": 16,
   "id": "ea2a48fc-a5d6-43c3-96c1-2882184f3148",
   "metadata": {
    "execution": {
     "iopub.execute_input": "2024-02-28T15:01:40.156104Z",
     "iopub.status.busy": "2024-02-28T15:01:40.154823Z",
     "iopub.status.idle": "2024-02-28T15:01:40.789110Z",
     "shell.execute_reply": "2024-02-28T15:01:40.788516Z",
     "shell.execute_reply.started": "2024-02-28T15:01:40.156023Z"
    }
   },
   "outputs": [],
   "source": [
    "rfe = joblib.load(\"my_random_forest_2_whole7.joblib\")"
   ]
  },
  {
   "cell_type": "code",
   "execution_count": 32,
   "id": "31d822ab-1d76-4530-a918-004df1b62557",
   "metadata": {
    "execution": {
     "iopub.execute_input": "2024-02-28T15:16:23.647447Z",
     "iopub.status.busy": "2024-02-28T15:16:23.646866Z",
     "iopub.status.idle": "2024-02-28T15:16:23.653981Z",
     "shell.execute_reply": "2024-02-28T15:16:23.652175Z",
     "shell.execute_reply.started": "2024-02-28T15:16:23.647400Z"
    }
   },
   "outputs": [],
   "source": [
    "# 1 curb, 2 infrastructure\n",
    "# 0 building, 3 means_of_transportation, 4 other, 5 sky, 6 vegetation"
   ]
  },
  {
   "cell_type": "code",
   "execution_count": 21,
   "id": "76d335db-11d8-4a06-8320-245e560c190c",
   "metadata": {
    "execution": {
     "iopub.execute_input": "2024-02-28T15:04:10.628281Z",
     "iopub.status.busy": "2024-02-28T15:04:10.626613Z",
     "iopub.status.idle": "2024-02-28T15:04:10.917683Z",
     "shell.execute_reply": "2024-02-28T15:04:10.916925Z",
     "shell.execute_reply.started": "2024-02-28T15:04:10.628197Z"
    }
   },
   "outputs": [
    {
     "name": "stdout",
     "output_type": "stream",
     "text": [
      "(array([0, 1, 2, 3, 4, 5, 6]), array([ 5791,   308,  9166,  1611, 30187,  1764,  7133]))\n",
      "(array([0, 1, 2, 3, 4, 5, 6]), array([15665,   938, 21583,  3794, 80227,  3345, 12480]))\n"
     ]
    }
   ],
   "source": [
    "# rf.fit(X_train3, y_train3)\n",
    "y_pred_aw = rfe.predict(dfae)\n",
    "print(np.unique(y_pred_aw, return_counts=True))\n",
    "y_pred_pw = rfe.predict(dfpe)\n",
    "print(np.unique(y_pred_pw, return_counts=True))"
   ]
  },
  {
   "cell_type": "code",
   "execution_count": 22,
   "id": "328db4fe-6649-4fe1-aa09-02f937b70918",
   "metadata": {
    "execution": {
     "iopub.execute_input": "2024-02-28T15:04:31.220826Z",
     "iopub.status.busy": "2024-02-28T15:04:31.219258Z",
     "iopub.status.idle": "2024-02-28T15:04:31.229045Z",
     "shell.execute_reply": "2024-02-28T15:04:31.228289Z",
     "shell.execute_reply.started": "2024-02-28T15:04:31.220761Z"
    }
   },
   "outputs": [],
   "source": [
    "dfael = dfae\n",
    "dfael['p'] = y_pred_aw\n",
    "dfpel = dfpe\n",
    "dfpel['p'] = y_pred_pw"
   ]
  },
  {
   "cell_type": "code",
   "execution_count": 25,
   "id": "95ed4b60-c8ba-4ee6-976d-772751840803",
   "metadata": {
    "execution": {
     "iopub.execute_input": "2024-02-28T15:08:09.506769Z",
     "iopub.status.busy": "2024-02-28T15:08:09.505669Z",
     "iopub.status.idle": "2024-02-28T15:08:09.515167Z",
     "shell.execute_reply": "2024-02-28T15:08:09.513990Z",
     "shell.execute_reply.started": "2024-02-28T15:08:09.506714Z"
    }
   },
   "outputs": [
    {
     "data": {
      "text/plain": [
       "Index(['gmedian', 'rmedian', 'bmedian', 'gmean', 'rmean', 'bmean', 'gstd',\n",
       "       'rstd', 'bstd', 'gq25', 'gq75', 'rq25', 'rq75', 'bq25', 'bq75',\n",
       "       'cdmean', 'cdstd', 'area', 'aspect_ratio_wh_s', 'extent_s', 'solidity',\n",
       "       'aspect_ratio_wh', 'extent', 'orien_rre', 'orien_ell', 'ed',\n",
       "       'ratio_ell', 'perimeter', 'leftm', 'rightm', 'topm', 'bottomm', 'p'],\n",
       "      dtype='object')"
      ]
     },
     "execution_count": 25,
     "metadata": {},
     "output_type": "execute_result"
    }
   ],
   "source": [
    "dfael.columns"
   ]
  },
  {
   "cell_type": "code",
   "execution_count": 27,
   "id": "8ebdeb9f-fd4b-4238-9b82-c465e422a6b8",
   "metadata": {
    "execution": {
     "iopub.execute_input": "2024-02-28T15:09:20.707907Z",
     "iopub.status.busy": "2024-02-28T15:09:20.707273Z",
     "iopub.status.idle": "2024-02-28T15:09:21.438974Z",
     "shell.execute_reply": "2024-02-28T15:09:21.437625Z",
     "shell.execute_reply.started": "2024-02-28T15:09:20.707857Z"
    }
   },
   "outputs": [],
   "source": [
    "dfa1 = df_a\n",
    "dfp1 = df_p\n",
    "# dataframe_accident_forentropy_predicted_label\n",
    "dfa_epl = pd.merge(dfa1, dfael, on = ['gmedian', 'rmedian', 'bmedian', 'gmean', \n",
    "                                   'rmean', 'bmean', 'gstd', 'rstd', 'bstd', \n",
    "                                   'gq25', 'gq75', 'rq25', 'rq75', 'bq25', \n",
    "                                   'bq75', 'cdmean', 'cdstd', 'area', 'aspect_ratio_wh_s', \n",
    "                                   'extent_s', 'solidity', 'aspect_ratio_wh', 'extent', \n",
    "                                   'orien_rre', 'orien_ell', 'ed', 'ratio_ell', 'perimeter', 'bottomm',\n",
    "                                   'topm', 'leftm', 'rightm'])\n",
    "# dataframe_pseudo_forentropy_predicted_label\n",
    "dfp_epl = pd.merge(dfp1, dfpel, on = ['gmedian', 'rmedian', 'bmedian', 'gmean', \n",
    "                                   'rmean', 'bmean', 'gstd', 'rstd', 'bstd', \n",
    "                                   'gq25', 'gq75', 'rq25', 'rq75', 'bq25', \n",
    "                                   'bq75', 'cdmean', 'cdstd', 'area', 'aspect_ratio_wh_s', \n",
    "                                   'extent_s', 'solidity', 'aspect_ratio_wh', 'extent', \n",
    "                                   'orien_rre', 'orien_ell', 'ed', 'ratio_ell', 'perimeter', 'bottomm',\n",
    "                                   'topm', 'leftm', 'rightm'])"
   ]
  },
  {
   "cell_type": "code",
   "execution_count": 39,
   "id": "6f78a44d-49ab-4d9a-9150-18f0305cc384",
   "metadata": {
    "execution": {
     "iopub.execute_input": "2024-02-28T15:18:16.797276Z",
     "iopub.status.busy": "2024-02-28T15:18:16.795895Z",
     "iopub.status.idle": "2024-02-28T15:18:16.806929Z",
     "shell.execute_reply": "2024-02-28T15:18:16.805616Z",
     "shell.execute_reply.started": "2024-02-28T15:18:16.797201Z"
    }
   },
   "outputs": [
    {
     "data": {
      "text/plain": [
       "array([5, 2, 6, 0, 3, 4, 1])"
      ]
     },
     "execution_count": 39,
     "metadata": {},
     "output_type": "execute_result"
    }
   ],
   "source": [
    "dfa_epl['p'].unique()"
   ]
  },
  {
   "cell_type": "code",
   "execution_count": 30,
   "id": "c674a3a8-f413-4209-9a6d-abb549742fbb",
   "metadata": {
    "execution": {
     "iopub.execute_input": "2024-02-28T15:09:44.863610Z",
     "iopub.status.busy": "2024-02-28T15:09:44.862722Z",
     "iopub.status.idle": "2024-02-28T15:09:50.693679Z",
     "shell.execute_reply": "2024-02-28T15:09:50.692574Z",
     "shell.execute_reply.started": "2024-02-28T15:09:44.863559Z"
    }
   },
   "outputs": [],
   "source": [
    "dfa_epl.to_csv('/home/yelhe/script/mt/output/pred_accident_label_whole7.csv', index = False)\n",
    "dfp_epl.to_csv('/home/yelhe/script/mt/output/pred_pseudo_label_whole7.csv', index = False)"
   ]
  },
  {
   "cell_type": "markdown",
   "id": "5db2416c-26e6-4cf6-8c99-dc8dd66bb6ca",
   "metadata": {},
   "source": [
    "#### For entropy of ground scene"
   ]
  },
  {
   "cell_type": "code",
   "execution_count": 40,
   "id": "ddf61e13-6550-4fb1-bd99-a093af6b8186",
   "metadata": {
    "execution": {
     "iopub.execute_input": "2024-02-28T15:18:21.409396Z",
     "iopub.status.busy": "2024-02-28T15:18:21.408821Z",
     "iopub.status.idle": "2024-02-28T15:18:21.416250Z",
     "shell.execute_reply": "2024-02-28T15:18:21.414666Z",
     "shell.execute_reply.started": "2024-02-28T15:18:21.409346Z"
    }
   },
   "outputs": [],
   "source": [
    "dfai = dfa_epl\n",
    "dfpi = dfp_epl"
   ]
  },
  {
   "cell_type": "code",
   "execution_count": 45,
   "id": "4158bdef-79a4-46cc-aebd-311bf3d04670",
   "metadata": {
    "execution": {
     "iopub.execute_input": "2024-02-28T15:19:18.234433Z",
     "iopub.status.busy": "2024-02-28T15:19:18.233867Z",
     "iopub.status.idle": "2024-02-28T15:19:18.252646Z",
     "shell.execute_reply": "2024-02-28T15:19:18.252027Z",
     "shell.execute_reply.started": "2024-02-28T15:19:18.234383Z"
    }
   },
   "outputs": [],
   "source": [
    "# Using the infrastructure groups recoginized by model above\n",
    "# 1 curb, 2 infrastructure\n",
    "dfai = dfa_epl.loc[(dfa_epl['p'] == 1)|(dfa_epl['p'] == 2)]\n",
    "dfpi = dfp_epl.loc[(dfp_epl['p'] == 1)|(dfp_epl['p'] == 2)]"
   ]
  },
  {
   "cell_type": "code",
   "execution_count": 60,
   "id": "d64fa5d3-4d70-44bf-a05a-c622707d83d3",
   "metadata": {
    "execution": {
     "iopub.execute_input": "2024-02-28T15:26:32.275185Z",
     "iopub.status.busy": "2024-02-28T15:26:32.274623Z",
     "iopub.status.idle": "2024-02-28T15:26:32.284121Z",
     "shell.execute_reply": "2024-02-28T15:26:32.282891Z",
     "shell.execute_reply.started": "2024-02-28T15:26:32.275136Z"
    }
   },
   "outputs": [
    {
     "data": {
      "text/plain": [
       "((9806, 33), (23307, 33))"
      ]
     },
     "execution_count": 60,
     "metadata": {},
     "output_type": "execute_result"
    }
   ],
   "source": [
    "dfai.shape, dfpi.shape"
   ]
  },
  {
   "cell_type": "code",
   "execution_count": 47,
   "id": "2f394d26-f569-4d91-8d43-fb7db87bbd4d",
   "metadata": {
    "execution": {
     "iopub.execute_input": "2024-02-28T15:20:37.076160Z",
     "iopub.status.busy": "2024-02-28T15:20:37.075764Z",
     "iopub.status.idle": "2024-02-28T15:20:37.094804Z",
     "shell.execute_reply": "2024-02-28T15:20:37.094121Z",
     "shell.execute_reply.started": "2024-02-28T15:20:37.076139Z"
    }
   },
   "outputs": [],
   "source": [
    "rfi = joblib.load(\"my_random_forest_3_ground7.joblib\")"
   ]
  },
  {
   "cell_type": "code",
   "execution_count": 48,
   "id": "8490e4c7-5cf3-455b-8163-21192da649fc",
   "metadata": {
    "execution": {
     "iopub.execute_input": "2024-02-28T15:21:10.687040Z",
     "iopub.status.busy": "2024-02-28T15:21:10.686068Z",
     "iopub.status.idle": "2024-02-28T15:21:10.699634Z",
     "shell.execute_reply": "2024-02-28T15:21:10.697995Z",
     "shell.execute_reply.started": "2024-02-28T15:21:10.686983Z"
    }
   },
   "outputs": [],
   "source": [
    "# Drop info columns\n",
    "dfai = dfai.drop(['mask', 'Nr','isconvex','is_cen_inside','is_mce_inside', 'p'], axis = 1)\n",
    "dfpi = dfpi.drop(['mask', 'Nr','isconvex','is_cen_inside','is_mce_inside', 'p'], axis = 1)"
   ]
  },
  {
   "cell_type": "code",
   "execution_count": 51,
   "id": "d830e260-b666-4bc9-bf8c-a8a117393a2c",
   "metadata": {
    "execution": {
     "iopub.execute_input": "2024-02-28T15:21:55.951540Z",
     "iopub.status.busy": "2024-02-28T15:21:55.950619Z",
     "iopub.status.idle": "2024-02-28T15:21:55.957844Z",
     "shell.execute_reply": "2024-02-28T15:21:55.956031Z",
     "shell.execute_reply.started": "2024-02-28T15:21:55.951492Z"
    }
   },
   "outputs": [],
   "source": [
    "# 0 bike lane, 1 curb, 2 ground_sign, 3 manhole, 4 other, 5 pavement, 6 road"
   ]
  },
  {
   "cell_type": "code",
   "execution_count": 53,
   "id": "9a81c15b-fb07-49b0-ad73-c96b832ce946",
   "metadata": {
    "execution": {
     "iopub.execute_input": "2024-02-28T15:24:07.144662Z",
     "iopub.status.busy": "2024-02-28T15:24:07.143228Z",
     "iopub.status.idle": "2024-02-28T15:24:07.198900Z",
     "shell.execute_reply": "2024-02-28T15:24:07.198088Z",
     "shell.execute_reply.started": "2024-02-28T15:24:07.144579Z"
    }
   },
   "outputs": [
    {
     "name": "stdout",
     "output_type": "stream",
     "text": [
      "(array([0, 1, 2, 3, 4, 5, 6]), array([  28,  585, 2593,  468, 2913, 1309, 1910]))\n",
      "(array([0, 1, 2, 3, 4, 5, 6]), array([  58, 1739, 5558,  797, 6632, 3231, 5292]))\n"
     ]
    }
   ],
   "source": [
    "# rf.fit(X_train3, y_train3)\n",
    "y_pred_ai = rfi.predict(dfai)\n",
    "print(np.unique(y_pred_ai, return_counts=True))\n",
    "y_pred_pi = rfi.predict(dfpi)\n",
    "print(np.unique(y_pred_pi, return_counts=True))"
   ]
  },
  {
   "cell_type": "code",
   "execution_count": 54,
   "id": "555080e0-eab8-49a9-9c8d-92c33417fd6a",
   "metadata": {
    "execution": {
     "iopub.execute_input": "2024-02-28T15:24:11.073203Z",
     "iopub.status.busy": "2024-02-28T15:24:11.072688Z",
     "iopub.status.idle": "2024-02-28T15:24:11.079451Z",
     "shell.execute_reply": "2024-02-28T15:24:11.078139Z",
     "shell.execute_reply.started": "2024-02-28T15:24:11.073175Z"
    }
   },
   "outputs": [],
   "source": [
    "dfail = dfai\n",
    "dfail['p'] = y_pred_ai\n",
    "dfpil = dfpi\n",
    "dfpil['p'] = y_pred_pi"
   ]
  },
  {
   "cell_type": "code",
   "execution_count": 55,
   "id": "2c825b61-11bb-44a1-92e1-3886220a81b4",
   "metadata": {
    "execution": {
     "iopub.execute_input": "2024-02-28T15:24:12.397535Z",
     "iopub.status.busy": "2024-02-28T15:24:12.396644Z",
     "iopub.status.idle": "2024-02-28T15:24:12.724416Z",
     "shell.execute_reply": "2024-02-28T15:24:12.723606Z",
     "shell.execute_reply.started": "2024-02-28T15:24:12.397484Z"
    }
   },
   "outputs": [],
   "source": [
    "dfa1 = df_a\n",
    "dfp1 = df_p\n",
    "# dataframe_accident_forentropy_infrastructure_ground_predicted_label\n",
    "dfa_eipl = pd.merge(dfa1, dfail, on = ['gmedian', 'rmedian', 'bmedian', 'gmean', \n",
    "                                   'rmean', 'bmean', 'gstd', 'rstd', 'bstd', \n",
    "                                   'gq25', 'gq75', 'rq25', 'rq75', 'bq25', \n",
    "                                   'bq75', 'cdmean', 'cdstd', 'area', 'aspect_ratio_wh_s', \n",
    "                                   'extent_s', 'solidity', 'aspect_ratio_wh', 'extent', \n",
    "                                   'orien_rre', 'orien_ell', 'ed', 'ratio_ell', 'perimeter', 'bottomm',\n",
    "                                   'topm', 'leftm', 'rightm'])\n",
    "# dataframe_pseudo_forentropy_infrastructure_ground_predicted_label\n",
    "dfp_eipl = pd.merge(dfp1, dfpil, on = ['gmedian', 'rmedian', 'bmedian', 'gmean', \n",
    "                                   'rmean', 'bmean', 'gstd', 'rstd', 'bstd', \n",
    "                                   'gq25', 'gq75', 'rq25', 'rq75', 'bq25', \n",
    "                                   'bq75', 'cdmean', 'cdstd', 'area', 'aspect_ratio_wh_s', \n",
    "                                   'extent_s', 'solidity', 'aspect_ratio_wh', 'extent', \n",
    "                                   'orien_rre', 'orien_ell', 'ed', 'ratio_ell', 'perimeter', 'bottomm',\n",
    "                                   'topm', 'leftm', 'rightm'])"
   ]
  },
  {
   "cell_type": "code",
   "execution_count": 57,
   "id": "635f9d41-5080-4384-a7d2-1ac52a82ee00",
   "metadata": {
    "execution": {
     "iopub.execute_input": "2024-02-28T15:24:57.338811Z",
     "iopub.status.busy": "2024-02-28T15:24:57.337937Z",
     "iopub.status.idle": "2024-02-28T15:24:58.371098Z",
     "shell.execute_reply": "2024-02-28T15:24:58.370073Z",
     "shell.execute_reply.started": "2024-02-28T15:24:57.338761Z"
    }
   },
   "outputs": [],
   "source": [
    "dfa_eipl.to_csv('/home/yelhe/script/mt/output/pred_accident_label_ground7.csv', index = False)\n",
    "dfp_eipl.to_csv('/home/yelhe/script/mt/output/pred_pseudo_label_ground7.csv', index = False)"
   ]
  },
  {
   "cell_type": "markdown",
   "id": "97dc013a-e53e-4498-95fa-5ba46ec1c7f0",
   "metadata": {},
   "source": [
    "#### For curb extraction"
   ]
  },
  {
   "cell_type": "code",
   "execution_count": 31,
   "id": "ec0ba96f-1110-4ca3-8839-159c7d744cff",
   "metadata": {
    "execution": {
     "iopub.execute_input": "2024-02-26T08:46:53.091977Z",
     "iopub.status.busy": "2024-02-26T08:46:53.091455Z",
     "iopub.status.idle": "2024-02-26T08:46:53.118307Z",
     "shell.execute_reply": "2024-02-26T08:46:53.117689Z",
     "shell.execute_reply.started": "2024-02-26T08:46:53.091952Z"
    }
   },
   "outputs": [],
   "source": [
    "dfa = df_a\n",
    "dfp = df_p\n",
    "# Drop info columns\n",
    "dfa = dfa.drop(['mask', 'Nr','isconvex','is_cen_inside','is_mce_inside', 'leftm', 'rightm'], axis = 1)\n",
    "dfp = dfp.drop(['mask', 'Nr','isconvex','is_cen_inside','is_mce_inside', 'leftm', 'rightm'], axis = 1)\n",
    "# Choose only the masks located in the lower part\n",
    "dfa = dfa.loc[dfa['topm'] >= 300]\n",
    "dfp = dfp.loc[dfp['topm'] >= 300]\n",
    "dfa = dfa.drop(['topm'], axis = 1)\n",
    "dfp = dfp.drop(['topm'], axis = 1)"
   ]
  },
  {
   "cell_type": "code",
   "execution_count": null,
   "id": "90c2f4b0-4055-4569-8c46-a7092fbb52bf",
   "metadata": {},
   "outputs": [],
   "source": [
    "#### Load in Random Forest model"
   ]
  },
  {
   "cell_type": "code",
   "execution_count": 28,
   "id": "a3cca595-3e44-414f-af30-ece9de8beb28",
   "metadata": {
    "execution": {
     "iopub.execute_input": "2024-02-26T08:41:33.838378Z",
     "iopub.status.busy": "2024-02-26T08:41:33.837853Z",
     "iopub.status.idle": "2024-02-26T08:41:34.342934Z",
     "shell.execute_reply": "2024-02-26T08:41:34.342454Z",
     "shell.execute_reply.started": "2024-02-26T08:41:33.838355Z"
    }
   },
   "outputs": [],
   "source": [
    "rf = joblib.load(\"my_random_forest_1.joblib\")"
   ]
  },
  {
   "cell_type": "code",
   "execution_count": 35,
   "id": "bd71177e-1f06-48d0-aff1-73800de78288",
   "metadata": {
    "execution": {
     "iopub.execute_input": "2024-02-26T09:00:26.133343Z",
     "iopub.status.busy": "2024-02-26T09:00:26.133053Z",
     "iopub.status.idle": "2024-02-26T09:00:26.173349Z",
     "shell.execute_reply": "2024-02-26T09:00:26.172822Z",
     "shell.execute_reply.started": "2024-02-26T09:00:26.133324Z"
    }
   },
   "outputs": [],
   "source": [
    "# rf.fit(X_train3, y_train3)\n",
    "y_pred_a = rf.predict(dfa)"
   ]
  },
  {
   "cell_type": "code",
   "execution_count": 40,
   "id": "e1db96ed-6c81-450c-b354-43ea007e83a2",
   "metadata": {
    "execution": {
     "iopub.execute_input": "2024-02-26T09:01:23.578908Z",
     "iopub.status.busy": "2024-02-26T09:01:23.578632Z",
     "iopub.status.idle": "2024-02-26T09:01:23.791241Z",
     "shell.execute_reply": "2024-02-26T09:01:23.790647Z",
     "shell.execute_reply.started": "2024-02-26T09:01:23.578889Z"
    }
   },
   "outputs": [
    {
     "data": {
      "text/plain": [
       "(array([  270.,     0.,     0.,  6796.,     0.,     0., 20607.,     0.,\n",
       "            0.,  1608.]),\n",
       " array([0. , 0.3, 0.6, 0.9, 1.2, 1.5, 1.8, 2.1, 2.4, 2.7, 3. ]),\n",
       " <BarContainer object of 10 artists>)"
      ]
     },
     "execution_count": 40,
     "metadata": {},
     "output_type": "execute_result"
    },
    {
     "data": {
      "image/png": "[encoded data removed]",
      "text/plain": [
       "<Figure size 640x480 with 1 Axes>"
      ]
     },
     "metadata": {},
     "output_type": "display_data"
    }
   ],
   "source": [
    "plt.hist(y_pred_a)"
   ]
  },
  {
   "cell_type": "code",
   "execution_count": 54,
   "id": "28e746da-1de2-45a4-9ea2-71c1245343cf",
   "metadata": {
    "execution": {
     "iopub.execute_input": "2024-02-26T09:06:24.093679Z",
     "iopub.status.busy": "2024-02-26T09:06:24.093383Z",
     "iopub.status.idle": "2024-02-26T09:06:24.098791Z",
     "shell.execute_reply": "2024-02-26T09:06:24.098226Z",
     "shell.execute_reply.started": "2024-02-26T09:06:24.093661Z"
    }
   },
   "outputs": [
    {
     "data": {
      "text/plain": [
       "(array([0, 1, 2, 3]), array([  270,  6796, 20607,  1608]))"
      ]
     },
     "execution_count": 54,
     "metadata": {},
     "output_type": "execute_result"
    }
   ],
   "source": [
    "np.unique(y_pred_a, return_counts=True)"
   ]
  },
  {
   "cell_type": "code",
   "execution_count": 55,
   "id": "f091b16d-c01c-489c-89cd-6eb241d6414e",
   "metadata": {
    "execution": {
     "iopub.execute_input": "2024-02-26T09:07:10.993538Z",
     "iopub.status.busy": "2024-02-26T09:07:10.993258Z",
     "iopub.status.idle": "2024-02-26T09:07:11.288232Z",
     "shell.execute_reply": "2024-02-26T09:07:11.287582Z",
     "shell.execute_reply.started": "2024-02-26T09:07:10.993521Z"
    }
   },
   "outputs": [
    {
     "data": {
      "text/plain": [
       "(array([0, 1, 2, 3]), array([  972, 16024, 55022,  1094]))"
      ]
     },
     "execution_count": 55,
     "metadata": {},
     "output_type": "execute_result"
    },
    {
     "data": {
      "image/png": "[encoded data removed]",
      "text/plain": [
       "<Figure size 640x480 with 1 Axes>"
      ]
     },
     "metadata": {},
     "output_type": "display_data"
    }
   ],
   "source": [
    "y_pred_p = rf.predict(dfp)\n",
    "plt.hist(y_pred_p)\n",
    "np.unique(y_pred_p, return_counts=True)"
   ]
  },
  {
   "cell_type": "code",
   "execution_count": 56,
   "id": "dec1f122-4058-490c-868b-faa65bf30956",
   "metadata": {
    "execution": {
     "iopub.execute_input": "2024-02-26T09:23:11.841907Z",
     "iopub.status.busy": "2024-02-26T09:23:11.841615Z",
     "iopub.status.idle": "2024-02-26T09:23:11.846521Z",
     "shell.execute_reply": "2024-02-26T09:23:11.845960Z",
     "shell.execute_reply.started": "2024-02-26T09:23:11.841889Z"
    }
   },
   "outputs": [],
   "source": [
    "dfal = dfa\n",
    "dfal['p'] = y_pred_a\n",
    "dfpl = dfp\n",
    "dfpl['p'] = y_pred_p"
   ]
  },
  {
   "cell_type": "code",
   "execution_count": 58,
   "id": "ba3b5246-3829-41d0-aff9-3536d417910e",
   "metadata": {
    "execution": {
     "iopub.execute_input": "2024-02-26T09:23:35.332429Z",
     "iopub.status.busy": "2024-02-26T09:23:35.332142Z",
     "iopub.status.idle": "2024-02-26T09:23:35.336772Z",
     "shell.execute_reply": "2024-02-26T09:23:35.336077Z",
     "shell.execute_reply.started": "2024-02-26T09:23:35.332411Z"
    }
   },
   "outputs": [
    {
     "data": {
      "text/plain": [
       "array([1, 2, 3, 0])"
      ]
     },
     "execution_count": 58,
     "metadata": {},
     "output_type": "execute_result"
    }
   ],
   "source": [
    "dfal['p'].unique()"
   ]
  },
  {
   "cell_type": "code",
   "execution_count": 59,
   "id": "d5fe0ebf-93d2-479c-9521-bb442ef01b4c",
   "metadata": {
    "execution": {
     "iopub.execute_input": "2024-02-26T09:29:23.535511Z",
     "iopub.status.busy": "2024-02-26T09:29:23.534989Z",
     "iopub.status.idle": "2024-02-26T09:29:26.320250Z",
     "shell.execute_reply": "2024-02-26T09:29:26.319268Z",
     "shell.execute_reply.started": "2024-02-26T09:29:23.535491Z"
    }
   },
   "outputs": [],
   "source": [
    "dfal.to_csv('/home/yelhe/script/mt/output/pred_accident.csv', index = False)\n",
    "dfpl.to_csv('/home/yelhe/script/mt/output/pred_pseudo.csv', index = False)"
   ]
  },
  {
   "cell_type": "code",
   "execution_count": 60,
   "id": "0f3c379b-3199-474a-8500-bcb9cc06327d",
   "metadata": {
    "execution": {
     "iopub.execute_input": "2024-02-26T09:32:52.016084Z",
     "iopub.status.busy": "2024-02-26T09:32:52.015708Z",
     "iopub.status.idle": "2024-02-26T09:32:52.026736Z",
     "shell.execute_reply": "2024-02-26T09:32:52.026188Z",
     "shell.execute_reply.started": "2024-02-26T09:32:52.016063Z"
    }
   },
   "outputs": [
    {
     "name": "stdout",
     "output_type": "stream",
     "text": [
      "<class 'pandas.core.frame.DataFrame'>\n",
      "Index: 29281 entries, 1 to 55959\n",
      "Data columns (total 30 columns):\n",
      " #   Column             Non-Null Count  Dtype  \n",
      "---  ------             --------------  -----  \n",
      " 0   gmedian            29281 non-null  float64\n",
      " 1   rmedian            29281 non-null  float64\n",
      " 2   bmedian            29281 non-null  float64\n",
      " 3   gmean              29281 non-null  float64\n",
      " 4   rmean              29281 non-null  float64\n",
      " 5   bmean              29281 non-null  float64\n",
      " 6   gstd               29281 non-null  float64\n",
      " 7   rstd               29281 non-null  float64\n",
      " 8   bstd               29281 non-null  float64\n",
      " 9   gq25               29281 non-null  float64\n",
      " 10  gq75               29281 non-null  float64\n",
      " 11  rq25               29281 non-null  float64\n",
      " 12  rq75               29281 non-null  float64\n",
      " 13  bq25               29281 non-null  float64\n",
      " 14  bq75               29281 non-null  float64\n",
      " 15  cdmean             29281 non-null  float64\n",
      " 16  cdstd              29281 non-null  float64\n",
      " 17  area               29281 non-null  float64\n",
      " 18  aspect_ratio_wh_s  29281 non-null  float64\n",
      " 19  extent_s           29281 non-null  float64\n",
      " 20  solidity           29281 non-null  float64\n",
      " 21  aspect_ratio_wh    29281 non-null  float64\n",
      " 22  extent             29281 non-null  float64\n",
      " 23  orien_rre          29281 non-null  float64\n",
      " 24  orien_ell          29281 non-null  float64\n",
      " 25  ed                 29281 non-null  float64\n",
      " 26  ratio_ell          29281 non-null  float64\n",
      " 27  perimeter          29281 non-null  float64\n",
      " 28  bottomm            29281 non-null  int64  \n",
      " 29  p                  29281 non-null  int64  \n",
      "dtypes: float64(28), int64(2)\n",
      "memory usage: 6.9 MB\n"
     ]
    }
   ],
   "source": [
    "dfal.info()"
   ]
  },
  {
   "cell_type": "code",
   "execution_count": 62,
   "id": "d5b31f06-1496-43bb-bb98-1a51a44b2de9",
   "metadata": {
    "execution": {
     "iopub.execute_input": "2024-02-26T09:34:53.003118Z",
     "iopub.status.busy": "2024-02-26T09:34:53.002826Z",
     "iopub.status.idle": "2024-02-26T09:34:53.024040Z",
     "shell.execute_reply": "2024-02-26T09:34:53.023530Z",
     "shell.execute_reply.started": "2024-02-26T09:34:53.003100Z"
    }
   },
   "outputs": [],
   "source": [
    "dfa1 = df_a\n",
    "dfp1 = df_p\n",
    "dfa1 = dfa1.loc[dfa1['topm'] >= 300]\n",
    "dfp1 = dfp1.loc[dfp1['topm'] >= 300]\n",
    "\n",
    "# # Drop info columns\n",
    "# dfa = dfa.drop(['mask', 'Nr','isconvex','is_cen_inside','is_mce_inside', 'leftm', 'rightm'], axis = 1)\n",
    "# dfp = dfp.drop(['mask', 'Nr','isconvex','is_cen_inside','is_mce_inside', 'leftm', 'rightm'], axis = 1)\n",
    "# # Choose only the masks located in the lower part\n",
    "# dfa = dfa.drop(['topm'], axis = 1)\n",
    "# dfp = dfp.drop(['topm'], axis = 1)"
   ]
  },
  {
   "cell_type": "code",
   "execution_count": 64,
   "id": "67ba5944-8e65-4068-9088-7930140831f8",
   "metadata": {
    "execution": {
     "iopub.execute_input": "2024-02-26T09:40:26.374170Z",
     "iopub.status.busy": "2024-02-26T09:40:26.373872Z",
     "iopub.status.idle": "2024-02-26T09:40:26.377465Z",
     "shell.execute_reply": "2024-02-26T09:40:26.376840Z",
     "shell.execute_reply.started": "2024-02-26T09:40:26.374152Z"
    }
   },
   "outputs": [
    {
     "name": "stdout",
     "output_type": "stream",
     "text": [
      "['gmedian', 'rmedian', 'bmedian', 'gmean', 'rmean', 'bmean', 'gstd', 'rstd', 'bstd', 'gq25', 'gq75', 'rq25', 'rq75', 'bq25', 'bq75', 'cdmean', 'cdstd', 'area', 'aspect_ratio_wh_s', 'extent_s', 'solidity', 'aspect_ratio_wh', 'extent', 'orien_rre', 'orien_ell', 'ed', 'ratio_ell', 'perimeter', 'bottomm', 'p']\n"
     ]
    }
   ],
   "source": [
    "cndfal = list(dfal.columns)\n",
    "print(cndfal)\n"
   ]
  },
  {
   "cell_type": "code",
   "execution_count": 66,
   "id": "c3f22ec3-9905-4fb2-9150-3e2e651357fe",
   "metadata": {
    "execution": {
     "iopub.execute_input": "2024-02-26T09:43:07.809952Z",
     "iopub.status.busy": "2024-02-26T09:43:07.809439Z",
     "iopub.status.idle": "2024-02-26T09:43:08.068878Z",
     "shell.execute_reply": "2024-02-26T09:43:08.068242Z",
     "shell.execute_reply.started": "2024-02-26T09:43:07.809932Z"
    }
   },
   "outputs": [],
   "source": [
    "# Predicted label\n",
    "dfa_pl = pd.merge(dfa1, dfal, on = ['gmedian', 'rmedian', 'bmedian', 'gmean', \n",
    "                                   'rmean', 'bmean', 'gstd', 'rstd', 'bstd', \n",
    "                                   'gq25', 'gq75', 'rq25', 'rq75', 'bq25', \n",
    "                                   'bq75', 'cdmean', 'cdstd', 'area', 'aspect_ratio_wh_s', \n",
    "                                   'extent_s', 'solidity', 'aspect_ratio_wh', 'extent', \n",
    "                                   'orien_rre', 'orien_ell', 'ed', 'ratio_ell', 'perimeter', 'bottomm'])\n",
    "dfp_pl = pd.merge(dfp1, dfpl, on = ['gmedian', 'rmedian', 'bmedian', 'gmean', \n",
    "                                   'rmean', 'bmean', 'gstd', 'rstd', 'bstd', \n",
    "                                   'gq25', 'gq75', 'rq25', 'rq75', 'bq25', \n",
    "                                   'bq75', 'cdmean', 'cdstd', 'area', 'aspect_ratio_wh_s', \n",
    "                                   'extent_s', 'solidity', 'aspect_ratio_wh', 'extent', \n",
    "                                   'orien_rre', 'orien_ell', 'ed', 'ratio_ell', 'perimeter', 'bottomm'])"
   ]
  },
  {
   "cell_type": "code",
   "execution_count": 68,
   "id": "9ea8bdc9-5301-4cca-ab76-1c6d72b1191f",
   "metadata": {
    "execution": {
     "iopub.execute_input": "2024-02-26T09:43:46.023800Z",
     "iopub.status.busy": "2024-02-26T09:43:46.023508Z",
     "iopub.status.idle": "2024-02-26T09:43:49.113584Z",
     "shell.execute_reply": "2024-02-26T09:43:49.112871Z",
     "shell.execute_reply.started": "2024-02-26T09:43:46.023784Z"
    }
   },
   "outputs": [],
   "source": [
    "dfa_pl.to_csv('/home/yelhe/script/mt/output/pred_accident_label.csv', index = False)\n",
    "dfp_pl.to_csv('/home/yelhe/script/mt/output/pred_pseudo_label.csv', index = False)"
   ]
  },
  {
   "cell_type": "code",
   "execution_count": 69,
   "id": "623299cd-d2fc-4a5a-808f-fd3f763985e2",
   "metadata": {
    "execution": {
     "iopub.execute_input": "2024-02-26T14:29:26.674719Z",
     "iopub.status.busy": "2024-02-26T14:29:26.674432Z",
     "iopub.status.idle": "2024-02-26T14:29:26.683205Z",
     "shell.execute_reply": "2024-02-26T14:29:26.682662Z",
     "shell.execute_reply.started": "2024-02-26T14:29:26.674702Z"
    }
   },
   "outputs": [],
   "source": [
    "ac = pd.read_csv('/home/yelhe/script/mt/output/pred_curb_accident.csv')\n",
    "pc = pd.read_csv('/home/yelhe/script/mt/output/pred_curb_pseudo.csv')"
   ]
  },
  {
   "cell_type": "code",
   "execution_count": 71,
   "id": "4bb34866-f19e-4b8e-8f21-2bea654ebd5b",
   "metadata": {
    "execution": {
     "iopub.execute_input": "2024-02-26T14:29:57.034232Z",
     "iopub.status.busy": "2024-02-26T14:29:57.033932Z",
     "iopub.status.idle": "2024-02-26T14:29:57.042868Z",
     "shell.execute_reply": "2024-02-26T14:29:57.042335Z",
     "shell.execute_reply.started": "2024-02-26T14:29:57.034215Z"
    }
   },
   "outputs": [],
   "source": [
    "# Predicted curb in accident points summary\n",
    "cas = ac.groupby(['id','p']).size().reset_index().rename(columns={0:'count'})\n",
    "# Predicted curb in pseudo points summary\n",
    "cps = pc.groupby(['id','p']).size().reset_index().rename(columns={0:'count'})"
   ]
  },
  {
   "cell_type": "code",
   "execution_count": 94,
   "id": "d546eb70-98be-4761-90c5-c6117ad798e0",
   "metadata": {
    "execution": {
     "iopub.execute_input": "2024-02-26T14:48:14.931478Z",
     "iopub.status.busy": "2024-02-26T14:48:14.931182Z",
     "iopub.status.idle": "2024-02-26T14:48:14.938290Z",
     "shell.execute_reply": "2024-02-26T14:48:14.937674Z",
     "shell.execute_reply.started": "2024-02-26T14:48:14.931460Z"
    }
   },
   "outputs": [
    {
     "data": {
      "text/plain": [
       "count    470.000000\n",
       "mean       1.631915\n",
       "std        0.777236\n",
       "min        1.000000\n",
       "25%        1.000000\n",
       "50%        1.000000\n",
       "75%        2.000000\n",
       "max        4.000000\n",
       "Name: count, dtype: float64"
      ]
     },
     "execution_count": 94,
     "metadata": {},
     "output_type": "execute_result"
    }
   ],
   "source": [
    "cps['count'].describe()"
   ]
  },
  {
   "cell_type": "code",
   "execution_count": 92,
   "id": "abdc56a3-872a-4841-b37a-383b0bbe8f92",
   "metadata": {
    "execution": {
     "iopub.execute_input": "2024-02-26T14:47:48.499938Z",
     "iopub.status.busy": "2024-02-26T14:47:48.499628Z",
     "iopub.status.idle": "2024-02-26T14:47:48.909004Z",
     "shell.execute_reply": "2024-02-26T14:47:48.908291Z",
     "shell.execute_reply.started": "2024-02-26T14:47:48.499920Z"
    }
   },
   "outputs": [
    {
     "data": {
      "text/plain": [
       "([<matplotlib.axis.XTick at 0x14b7f459bd50>,\n",
       "  <matplotlib.axis.XTick at 0x14b7f459b0d0>,\n",
       "  <matplotlib.axis.XTick at 0x14b7f45c9b10>,\n",
       "  <matplotlib.axis.XTick at 0x14b7f45e8550>],\n",
       " [Text(1, 0, '1'), Text(2, 0, '2'), Text(3, 0, '3'), Text(4, 0, '4')])"
      ]
     },
     "execution_count": 92,
     "metadata": {},
     "output_type": "execute_result"
    },
    {
     "data": {
      "image/png": "[encoded data removed]",
      "text/plain": [
       "<Figure size 640x480 with 1 Axes>"
      ]
     },
     "metadata": {},
     "output_type": "display_data"
    }
   ],
   "source": [
    "plt.hist(cps['count'], align = 'mid')\n",
    "plt.xticks(np.arange(1, 5, step=1))\n",
    "# # ax.xaxis.set_major_locator(MaxNLocator(integer=True))\n",
    "\n",
    "# fg = plt.figure()\n",
    "# ax = fg.gca()\n",
    "# ax.hist(cas['count'])"
   ]
  },
  {
   "cell_type": "code",
   "execution_count": null,
   "id": "ab486b58-3d61-4e57-95c5-54230288430f",
   "metadata": {},
   "outputs": [],
   "source": []
  }
 ],
 "metadata": {
  "kernelspec": {
   "display_name": "Python 3 (ipykernel)",
   "language": "python",
   "name": "python3"
  },
  "language_info": {
   "codemirror_mode": {
    "name": "ipython",
    "version": 3
   },
   "file_extension": ".py",
   "mimetype": "text/x-python",
   "name": "python",
   "nbconvert_exporter": "python",
   "pygments_lexer": "ipython3",
   "version": "3.11.5"
  }
 },
 "nbformat": 4,
 "nbformat_minor": 5
}
