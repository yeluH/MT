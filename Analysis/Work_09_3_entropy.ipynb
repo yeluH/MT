{
 "cells": [
  {
   "cell_type": "code",
   "execution_count": 1,
   "id": "7e9f75d8-3be9-45ef-b9ae-ad72fefb7ce1",
   "metadata": {
    "execution": {
     "iopub.execute_input": "2024-02-28T14:59:28.826654Z",
     "iopub.status.busy": "2024-02-28T14:59:28.825329Z",
     "iopub.status.idle": "2024-02-28T14:59:30.354179Z",
     "shell.execute_reply": "2024-02-28T14:59:30.353337Z",
     "shell.execute_reply.started": "2024-02-28T14:59:28.826600Z"
    }
   },
   "outputs": [],
   "source": [
    "import torch\n",
    "torch.cuda.empty_cache() "
   ]
  },
  {
   "cell_type": "code",
   "execution_count": 69,
   "id": "f3e5fa71-37bd-4efe-b8ee-ae3c362b2a1b",
   "metadata": {
    "execution": {
     "iopub.execute_input": "2024-02-28T17:47:20.392043Z",
     "iopub.status.busy": "2024-02-28T17:47:20.391502Z",
     "iopub.status.idle": "2024-02-28T17:47:20.400589Z",
     "shell.execute_reply": "2024-02-28T17:47:20.398951Z",
     "shell.execute_reply.started": "2024-02-28T17:47:20.391996Z"
    }
   },
   "outputs": [],
   "source": [
    "import os \n",
    "os.environ['MPLCONFIGDIR'] = os.getcwd() + \"/configs/\"\n",
    "import matplotlib\n",
    "from matplotlib import pyplot as plt\n",
    "import numpy as np\n",
    "import cv2\n",
    "import urllib.request\n",
    "from PIL import Image"
   ]
  },
  {
   "cell_type": "code",
   "execution_count": 70,
   "id": "132db61a-9aa6-4936-8ab4-054288d07d2e",
   "metadata": {
    "execution": {
     "iopub.execute_input": "2024-02-28T17:47:20.708086Z",
     "iopub.status.busy": "2024-02-28T17:47:20.707145Z",
     "iopub.status.idle": "2024-02-28T17:47:20.713835Z",
     "shell.execute_reply": "2024-02-28T17:47:20.712400Z",
     "shell.execute_reply.started": "2024-02-28T17:47:20.708036Z"
    }
   },
   "outputs": [],
   "source": [
    "import pandas as pd\n",
    "import pyproj"
   ]
  },
  {
   "cell_type": "code",
   "execution_count": 71,
   "id": "80d61825-dc8d-4005-9362-cf497e771695",
   "metadata": {
    "execution": {
     "iopub.execute_input": "2024-02-28T17:47:21.249158Z",
     "iopub.status.busy": "2024-02-28T17:47:21.247966Z",
     "iopub.status.idle": "2024-02-28T17:47:21.255479Z",
     "shell.execute_reply": "2024-02-28T17:47:21.254231Z",
     "shell.execute_reply.started": "2024-02-28T17:47:21.249103Z"
    }
   },
   "outputs": [],
   "source": [
    "import os \n",
    "os.environ['MPLCONFIGDIR'] = os.getcwd() + \"/configs/\"\n",
    "import matplotlib\n",
    "from matplotlib import pyplot as plt\n",
    "import numpy as np\n",
    "import cv2"
   ]
  },
  {
   "cell_type": "code",
   "execution_count": 72,
   "id": "e6000c92-6b7e-4ee5-9c30-ac0dfed91840",
   "metadata": {
    "execution": {
     "iopub.execute_input": "2024-02-28T17:47:22.120918Z",
     "iopub.status.busy": "2024-02-28T17:47:22.119681Z",
     "iopub.status.idle": "2024-02-28T17:47:22.127109Z",
     "shell.execute_reply": "2024-02-28T17:47:22.125700Z",
     "shell.execute_reply.started": "2024-02-28T17:47:22.120861Z"
    }
   },
   "outputs": [],
   "source": [
    "from pathlib import Path"
   ]
  },
  {
   "cell_type": "code",
   "execution_count": 73,
   "id": "59dfb1fc-7192-4ae1-9df9-596320cc4875",
   "metadata": {
    "execution": {
     "iopub.execute_input": "2024-02-28T17:47:23.537557Z",
     "iopub.status.busy": "2024-02-28T17:47:23.536458Z",
     "iopub.status.idle": "2024-02-28T17:47:23.544125Z",
     "shell.execute_reply": "2024-02-28T17:47:23.542427Z",
     "shell.execute_reply.started": "2024-02-28T17:47:23.537501Z"
    }
   },
   "outputs": [],
   "source": [
    "import joblib"
   ]
  },
  {
   "cell_type": "code",
   "execution_count": 8,
   "id": "923fac26-61e2-49dd-9099-e31ff4079430",
   "metadata": {
    "execution": {
     "iopub.execute_input": "2024-02-28T14:59:32.475005Z",
     "iopub.status.busy": "2024-02-28T14:59:32.473785Z",
     "iopub.status.idle": "2024-02-28T14:59:32.502255Z",
     "shell.execute_reply": "2024-02-28T14:59:32.501456Z",
     "shell.execute_reply.started": "2024-02-28T14:59:32.474940Z"
    }
   },
   "outputs": [],
   "source": [
    "from mt_function_yl import *"
   ]
  },
  {
   "cell_type": "markdown",
   "id": "d7346fc9-4815-4194-b455-fca304758ef0",
   "metadata": {},
   "source": [
    "#### Load in Dataframes"
   ]
  },
  {
   "cell_type": "code",
   "execution_count": 9,
   "id": "e7b2299c-323d-419b-b474-0bd2af65965e",
   "metadata": {
    "execution": {
     "iopub.execute_input": "2024-02-28T14:59:34.013568Z",
     "iopub.status.busy": "2024-02-28T14:59:34.012390Z",
     "iopub.status.idle": "2024-02-28T14:59:35.246303Z",
     "shell.execute_reply": "2024-02-28T14:59:35.245197Z",
     "shell.execute_reply.started": "2024-02-28T14:59:34.013511Z"
    }
   },
   "outputs": [],
   "source": [
    "df_a = pd.read_csv('/home/yelhe/scratch/df/df_accident_0_295.csv')\n",
    "df_p = pd.read_csv('/home/yelhe/scratch/df/df_pseudo_0_792_new.csv')"
   ]
  },
  {
   "cell_type": "code",
   "execution_count": 10,
   "id": "49f2ed1a-0a6f-4ab5-8e8d-f1e8efe730bd",
   "metadata": {
    "execution": {
     "iopub.execute_input": "2024-02-28T14:59:35.248031Z",
     "iopub.status.busy": "2024-02-28T14:59:35.247827Z",
     "iopub.status.idle": "2024-02-28T14:59:35.262047Z",
     "shell.execute_reply": "2024-02-28T14:59:35.261571Z",
     "shell.execute_reply.started": "2024-02-28T14:59:35.248012Z"
    }
   },
   "outputs": [
    {
     "name": "stdout",
     "output_type": "stream",
     "text": [
      "<class 'pandas.core.frame.DataFrame'>\n",
      "RangeIndex: 55960 entries, 0 to 55959\n",
      "Data columns (total 37 columns):\n",
      " #   Column             Non-Null Count  Dtype  \n",
      "---  ------             --------------  -----  \n",
      " 0   mask               55960 non-null  int64  \n",
      " 1   gmedian            55960 non-null  float64\n",
      " 2   rmedian            55960 non-null  float64\n",
      " 3   bmedian            55960 non-null  float64\n",
      " 4   gmean              55960 non-null  float64\n",
      " 5   rmean              55960 non-null  float64\n",
      " 6   bmean              55960 non-null  float64\n",
      " 7   gstd               55960 non-null  float64\n",
      " 8   rstd               55960 non-null  float64\n",
      " 9   bstd               55960 non-null  float64\n",
      " 10  gq25               55960 non-null  float64\n",
      " 11  gq75               55960 non-null  float64\n",
      " 12  rq25               55960 non-null  float64\n",
      " 13  rq75               55960 non-null  float64\n",
      " 14  bq25               55960 non-null  float64\n",
      " 15  bq75               55960 non-null  float64\n",
      " 16  cdmean             55960 non-null  float64\n",
      " 17  cdstd              55960 non-null  float64\n",
      " 18  isconvex           55960 non-null  int64  \n",
      " 19  area               55960 non-null  float64\n",
      " 20  aspect_ratio_wh_s  55960 non-null  float64\n",
      " 21  extent_s           55960 non-null  float64\n",
      " 22  solidity           55960 non-null  float64\n",
      " 23  aspect_ratio_wh    55960 non-null  float64\n",
      " 24  extent             55960 non-null  float64\n",
      " 25  orien_rre          55960 non-null  float64\n",
      " 26  orien_ell          55960 non-null  float64\n",
      " 27  ed                 55960 non-null  float64\n",
      " 28  ratio_ell          55960 non-null  float64\n",
      " 29  perimeter          55960 non-null  float64\n",
      " 30  is_cen_inside      55960 non-null  float64\n",
      " 31  is_mce_inside      55960 non-null  float64\n",
      " 32  leftm              55960 non-null  int64  \n",
      " 33  rightm             55960 non-null  int64  \n",
      " 34  topm               55960 non-null  int64  \n",
      " 35  bottomm            55960 non-null  int64  \n",
      " 36  Nr                 55960 non-null  int64  \n",
      "dtypes: float64(30), int64(7)\n",
      "memory usage: 15.8 MB\n"
     ]
    }
   ],
   "source": [
    "df_a.info()"
   ]
  },
  {
   "cell_type": "code",
   "execution_count": 11,
   "id": "d741e415-84bd-4eb4-bd97-2de52cfe4dc0",
   "metadata": {
    "execution": {
     "iopub.execute_input": "2024-02-28T14:59:35.828737Z",
     "iopub.status.busy": "2024-02-28T14:59:35.827543Z",
     "iopub.status.idle": "2024-02-28T14:59:35.851561Z",
     "shell.execute_reply": "2024-02-28T14:59:35.850968Z",
     "shell.execute_reply.started": "2024-02-28T14:59:35.828683Z"
    }
   },
   "outputs": [
    {
     "name": "stdout",
     "output_type": "stream",
     "text": [
      "<class 'pandas.core.frame.DataFrame'>\n",
      "RangeIndex: 138032 entries, 0 to 138031\n",
      "Data columns (total 37 columns):\n",
      " #   Column             Non-Null Count   Dtype  \n",
      "---  ------             --------------   -----  \n",
      " 0   mask               138032 non-null  int64  \n",
      " 1   gmedian            138032 non-null  float64\n",
      " 2   rmedian            138032 non-null  float64\n",
      " 3   bmedian            138032 non-null  float64\n",
      " 4   gmean              138032 non-null  float64\n",
      " 5   rmean              138032 non-null  float64\n",
      " 6   bmean              138032 non-null  float64\n",
      " 7   gstd               138032 non-null  float64\n",
      " 8   rstd               138032 non-null  float64\n",
      " 9   bstd               138032 non-null  float64\n",
      " 10  gq25               138032 non-null  float64\n",
      " 11  gq75               138032 non-null  float64\n",
      " 12  rq25               138032 non-null  float64\n",
      " 13  rq75               138032 non-null  float64\n",
      " 14  bq25               138032 non-null  float64\n",
      " 15  bq75               138032 non-null  float64\n",
      " 16  cdmean             138032 non-null  float64\n",
      " 17  cdstd              138032 non-null  float64\n",
      " 18  isconvex           138032 non-null  int64  \n",
      " 19  area               138032 non-null  float64\n",
      " 20  aspect_ratio_wh_s  138032 non-null  float64\n",
      " 21  extent_s           138032 non-null  float64\n",
      " 22  solidity           138032 non-null  float64\n",
      " 23  aspect_ratio_wh    138032 non-null  float64\n",
      " 24  extent             138032 non-null  float64\n",
      " 25  orien_rre          138032 non-null  float64\n",
      " 26  orien_ell          138032 non-null  float64\n",
      " 27  ed                 138032 non-null  float64\n",
      " 28  ratio_ell          138032 non-null  float64\n",
      " 29  perimeter          138032 non-null  float64\n",
      " 30  is_cen_inside      138032 non-null  float64\n",
      " 31  is_mce_inside      138032 non-null  float64\n",
      " 32  leftm              138032 non-null  int64  \n",
      " 33  rightm             138032 non-null  int64  \n",
      " 34  topm               138032 non-null  int64  \n",
      " 35  bottomm            138032 non-null  int64  \n",
      " 36  Nr                 138032 non-null  int64  \n",
      "dtypes: float64(30), int64(7)\n",
      "memory usage: 39.0 MB\n"
     ]
    }
   ],
   "source": [
    "df_p.info()"
   ]
  },
  {
   "cell_type": "markdown",
   "id": "10879242-a2fc-40a2-849a-f2ee19c7052c",
   "metadata": {},
   "source": [
    "#### For entropy - whole scene"
   ]
  },
  {
   "cell_type": "code",
   "execution_count": 13,
   "id": "1a25a5c2-89c4-4508-92cf-ae78dfa1a923",
   "metadata": {
    "execution": {
     "iopub.execute_input": "2024-02-28T15:00:55.820061Z",
     "iopub.status.busy": "2024-02-28T15:00:55.818591Z",
     "iopub.status.idle": "2024-02-28T15:00:55.843868Z",
     "shell.execute_reply": "2024-02-28T15:00:55.843065Z",
     "shell.execute_reply.started": "2024-02-28T15:00:55.819996Z"
    }
   },
   "outputs": [],
   "source": [
    "dfae = df_a\n",
    "dfpe = df_p\n",
    "# Drop info columns\n",
    "dfae = dfae.drop(['mask', 'Nr','isconvex','is_cen_inside','is_mce_inside'], axis = 1)\n",
    "dfpe = dfpe.drop(['mask', 'Nr','isconvex','is_cen_inside','is_mce_inside'], axis = 1)"
   ]
  },
  {
   "cell_type": "code",
   "execution_count": 61,
   "id": "a3d9ff7f-21f2-4895-ac5c-3c468d0b1b49",
   "metadata": {
    "execution": {
     "iopub.execute_input": "2024-02-28T15:26:46.754178Z",
     "iopub.status.busy": "2024-02-28T15:26:46.753621Z",
     "iopub.status.idle": "2024-02-28T15:26:46.764068Z",
     "shell.execute_reply": "2024-02-28T15:26:46.762441Z",
     "shell.execute_reply.started": "2024-02-28T15:26:46.754130Z"
    }
   },
   "outputs": [
    {
     "data": {
      "text/plain": [
       "((55960, 33), (138032, 33))"
      ]
     },
     "execution_count": 61,
     "metadata": {},
     "output_type": "execute_result"
    }
   ],
   "source": [
    "dfae.shape, dfpe.shape"
   ]
  },
  {
   "cell_type": "code",
   "execution_count": 16,
   "id": "ea2a48fc-a5d6-43c3-96c1-2882184f3148",
   "metadata": {
    "execution": {
     "iopub.execute_input": "2024-02-28T15:01:40.156104Z",
     "iopub.status.busy": "2024-02-28T15:01:40.154823Z",
     "iopub.status.idle": "2024-02-28T15:01:40.789110Z",
     "shell.execute_reply": "2024-02-28T15:01:40.788516Z",
     "shell.execute_reply.started": "2024-02-28T15:01:40.156023Z"
    }
   },
   "outputs": [],
   "source": [
    "rfe = joblib.load(\"my_random_forest_2_whole7.joblib\")"
   ]
  },
  {
   "cell_type": "code",
   "execution_count": 32,
   "id": "31d822ab-1d76-4530-a918-004df1b62557",
   "metadata": {
    "execution": {
     "iopub.execute_input": "2024-02-28T15:16:23.647447Z",
     "iopub.status.busy": "2024-02-28T15:16:23.646866Z",
     "iopub.status.idle": "2024-02-28T15:16:23.653981Z",
     "shell.execute_reply": "2024-02-28T15:16:23.652175Z",
     "shell.execute_reply.started": "2024-02-28T15:16:23.647400Z"
    }
   },
   "outputs": [],
   "source": [
    "# 1 curb, 2 infrastructure\n",
    "# 0 building, 3 means_of_transportation, 4 other, 5 sky, 6 vegetation"
   ]
  },
  {
   "cell_type": "code",
   "execution_count": 21,
   "id": "76d335db-11d8-4a06-8320-245e560c190c",
   "metadata": {
    "execution": {
     "iopub.execute_input": "2024-02-28T15:04:10.628281Z",
     "iopub.status.busy": "2024-02-28T15:04:10.626613Z",
     "iopub.status.idle": "2024-02-28T15:04:10.917683Z",
     "shell.execute_reply": "2024-02-28T15:04:10.916925Z",
     "shell.execute_reply.started": "2024-02-28T15:04:10.628197Z"
    }
   },
   "outputs": [
    {
     "name": "stdout",
     "output_type": "stream",
     "text": [
      "(array([0, 1, 2, 3, 4, 5, 6]), array([ 5791,   308,  9166,  1611, 30187,  1764,  7133]))\n",
      "(array([0, 1, 2, 3, 4, 5, 6]), array([15665,   938, 21583,  3794, 80227,  3345, 12480]))\n"
     ]
    }
   ],
   "source": [
    "# rf.fit(X_train3, y_train3)\n",
    "y_pred_aw = rfe.predict(dfae)\n",
    "print(np.unique(y_pred_aw, return_counts=True))\n",
    "y_pred_pw = rfe.predict(dfpe)\n",
    "print(np.unique(y_pred_pw, return_counts=True))"
   ]
  },
  {
   "cell_type": "code",
   "execution_count": 22,
   "id": "328db4fe-6649-4fe1-aa09-02f937b70918",
   "metadata": {
    "execution": {
     "iopub.execute_input": "2024-02-28T15:04:31.220826Z",
     "iopub.status.busy": "2024-02-28T15:04:31.219258Z",
     "iopub.status.idle": "2024-02-28T15:04:31.229045Z",
     "shell.execute_reply": "2024-02-28T15:04:31.228289Z",
     "shell.execute_reply.started": "2024-02-28T15:04:31.220761Z"
    }
   },
   "outputs": [],
   "source": [
    "dfael = dfae\n",
    "dfael['p'] = y_pred_aw\n",
    "dfpel = dfpe\n",
    "dfpel['p'] = y_pred_pw"
   ]
  },
  {
   "cell_type": "code",
   "execution_count": 25,
   "id": "95ed4b60-c8ba-4ee6-976d-772751840803",
   "metadata": {
    "execution": {
     "iopub.execute_input": "2024-02-28T15:08:09.506769Z",
     "iopub.status.busy": "2024-02-28T15:08:09.505669Z",
     "iopub.status.idle": "2024-02-28T15:08:09.515167Z",
     "shell.execute_reply": "2024-02-28T15:08:09.513990Z",
     "shell.execute_reply.started": "2024-02-28T15:08:09.506714Z"
    }
   },
   "outputs": [
    {
     "data": {
      "text/plain": [
       "Index(['gmedian', 'rmedian', 'bmedian', 'gmean', 'rmean', 'bmean', 'gstd',\n",
       "       'rstd', 'bstd', 'gq25', 'gq75', 'rq25', 'rq75', 'bq25', 'bq75',\n",
       "       'cdmean', 'cdstd', 'area', 'aspect_ratio_wh_s', 'extent_s', 'solidity',\n",
       "       'aspect_ratio_wh', 'extent', 'orien_rre', 'orien_ell', 'ed',\n",
       "       'ratio_ell', 'perimeter', 'leftm', 'rightm', 'topm', 'bottomm', 'p'],\n",
       "      dtype='object')"
      ]
     },
     "execution_count": 25,
     "metadata": {},
     "output_type": "execute_result"
    }
   ],
   "source": [
    "dfael.columns"
   ]
  },
  {
   "cell_type": "code",
   "execution_count": 27,
   "id": "8ebdeb9f-fd4b-4238-9b82-c465e422a6b8",
   "metadata": {
    "execution": {
     "iopub.execute_input": "2024-02-28T15:09:20.707907Z",
     "iopub.status.busy": "2024-02-28T15:09:20.707273Z",
     "iopub.status.idle": "2024-02-28T15:09:21.438974Z",
     "shell.execute_reply": "2024-02-28T15:09:21.437625Z",
     "shell.execute_reply.started": "2024-02-28T15:09:20.707857Z"
    }
   },
   "outputs": [],
   "source": [
    "dfa1 = df_a\n",
    "dfp1 = df_p\n",
    "# dataframe_accident_forentropy_predicted_label\n",
    "dfa_epl = pd.merge(dfa1, dfael, on = ['gmedian', 'rmedian', 'bmedian', 'gmean', \n",
    "                                   'rmean', 'bmean', 'gstd', 'rstd', 'bstd', \n",
    "                                   'gq25', 'gq75', 'rq25', 'rq75', 'bq25', \n",
    "                                   'bq75', 'cdmean', 'cdstd', 'area', 'aspect_ratio_wh_s', \n",
    "                                   'extent_s', 'solidity', 'aspect_ratio_wh', 'extent', \n",
    "                                   'orien_rre', 'orien_ell', 'ed', 'ratio_ell', 'perimeter', 'bottomm',\n",
    "                                   'topm', 'leftm', 'rightm'])\n",
    "# dataframe_pseudo_forentropy_predicted_label\n",
    "dfp_epl = pd.merge(dfp1, dfpel, on = ['gmedian', 'rmedian', 'bmedian', 'gmean', \n",
    "                                   'rmean', 'bmean', 'gstd', 'rstd', 'bstd', \n",
    "                                   'gq25', 'gq75', 'rq25', 'rq75', 'bq25', \n",
    "                                   'bq75', 'cdmean', 'cdstd', 'area', 'aspect_ratio_wh_s', \n",
    "                                   'extent_s', 'solidity', 'aspect_ratio_wh', 'extent', \n",
    "                                   'orien_rre', 'orien_ell', 'ed', 'ratio_ell', 'perimeter', 'bottomm',\n",
    "                                   'topm', 'leftm', 'rightm'])"
   ]
  },
  {
   "cell_type": "code",
   "execution_count": 39,
   "id": "6f78a44d-49ab-4d9a-9150-18f0305cc384",
   "metadata": {
    "execution": {
     "iopub.execute_input": "2024-02-28T15:18:16.797276Z",
     "iopub.status.busy": "2024-02-28T15:18:16.795895Z",
     "iopub.status.idle": "2024-02-28T15:18:16.806929Z",
     "shell.execute_reply": "2024-02-28T15:18:16.805616Z",
     "shell.execute_reply.started": "2024-02-28T15:18:16.797201Z"
    }
   },
   "outputs": [
    {
     "data": {
      "text/plain": [
       "array([5, 2, 6, 0, 3, 4, 1])"
      ]
     },
     "execution_count": 39,
     "metadata": {},
     "output_type": "execute_result"
    }
   ],
   "source": [
    "dfa_epl['p'].unique()"
   ]
  },
  {
   "cell_type": "code",
   "execution_count": 30,
   "id": "c674a3a8-f413-4209-9a6d-abb549742fbb",
   "metadata": {
    "execution": {
     "iopub.execute_input": "2024-02-28T15:09:44.863610Z",
     "iopub.status.busy": "2024-02-28T15:09:44.862722Z",
     "iopub.status.idle": "2024-02-28T15:09:50.693679Z",
     "shell.execute_reply": "2024-02-28T15:09:50.692574Z",
     "shell.execute_reply.started": "2024-02-28T15:09:44.863559Z"
    }
   },
   "outputs": [],
   "source": [
    "dfa_epl.to_csv('/home/yelhe/script/mt/output/pred_accident_label_whole7.csv', index = False)\n",
    "dfp_epl.to_csv('/home/yelhe/script/mt/output/pred_pseudo_label_whole7.csv', index = False)"
   ]
  },
  {
   "cell_type": "markdown",
   "id": "5db2416c-26e6-4cf6-8c99-dc8dd66bb6ca",
   "metadata": {},
   "source": [
    "#### For entropy of ground scene"
   ]
  },
  {
   "cell_type": "code",
   "execution_count": 40,
   "id": "ddf61e13-6550-4fb1-bd99-a093af6b8186",
   "metadata": {
    "execution": {
     "iopub.execute_input": "2024-02-28T15:18:21.409396Z",
     "iopub.status.busy": "2024-02-28T15:18:21.408821Z",
     "iopub.status.idle": "2024-02-28T15:18:21.416250Z",
     "shell.execute_reply": "2024-02-28T15:18:21.414666Z",
     "shell.execute_reply.started": "2024-02-28T15:18:21.409346Z"
    }
   },
   "outputs": [],
   "source": [
    "dfai = dfa_epl\n",
    "dfpi = dfp_epl"
   ]
  },
  {
   "cell_type": "code",
   "execution_count": 45,
   "id": "4158bdef-79a4-46cc-aebd-311bf3d04670",
   "metadata": {
    "execution": {
     "iopub.execute_input": "2024-02-28T15:19:18.234433Z",
     "iopub.status.busy": "2024-02-28T15:19:18.233867Z",
     "iopub.status.idle": "2024-02-28T15:19:18.252646Z",
     "shell.execute_reply": "2024-02-28T15:19:18.252027Z",
     "shell.execute_reply.started": "2024-02-28T15:19:18.234383Z"
    }
   },
   "outputs": [],
   "source": [
    "# Using the infrastructure groups recoginized by model above\n",
    "# 1 curb, 2 infrastructure\n",
    "dfai = dfa_epl.loc[(dfa_epl['p'] == 1)|(dfa_epl['p'] == 2)]\n",
    "dfpi = dfp_epl.loc[(dfp_epl['p'] == 1)|(dfp_epl['p'] == 2)]"
   ]
  },
  {
   "cell_type": "code",
   "execution_count": 60,
   "id": "d64fa5d3-4d70-44bf-a05a-c622707d83d3",
   "metadata": {
    "execution": {
     "iopub.execute_input": "2024-02-28T15:26:32.275185Z",
     "iopub.status.busy": "2024-02-28T15:26:32.274623Z",
     "iopub.status.idle": "2024-02-28T15:26:32.284121Z",
     "shell.execute_reply": "2024-02-28T15:26:32.282891Z",
     "shell.execute_reply.started": "2024-02-28T15:26:32.275136Z"
    }
   },
   "outputs": [
    {
     "data": {
      "text/plain": [
       "((9806, 33), (23307, 33))"
      ]
     },
     "execution_count": 60,
     "metadata": {},
     "output_type": "execute_result"
    }
   ],
   "source": [
    "dfai.shape, dfpi.shape"
   ]
  },
  {
   "cell_type": "code",
   "execution_count": 47,
   "id": "2f394d26-f569-4d91-8d43-fb7db87bbd4d",
   "metadata": {
    "execution": {
     "iopub.execute_input": "2024-02-28T15:20:37.076160Z",
     "iopub.status.busy": "2024-02-28T15:20:37.075764Z",
     "iopub.status.idle": "2024-02-28T15:20:37.094804Z",
     "shell.execute_reply": "2024-02-28T15:20:37.094121Z",
     "shell.execute_reply.started": "2024-02-28T15:20:37.076139Z"
    }
   },
   "outputs": [],
   "source": [
    "rfi = joblib.load(\"my_random_forest_3_ground7.joblib\")"
   ]
  },
  {
   "cell_type": "code",
   "execution_count": 48,
   "id": "8490e4c7-5cf3-455b-8163-21192da649fc",
   "metadata": {
    "execution": {
     "iopub.execute_input": "2024-02-28T15:21:10.687040Z",
     "iopub.status.busy": "2024-02-28T15:21:10.686068Z",
     "iopub.status.idle": "2024-02-28T15:21:10.699634Z",
     "shell.execute_reply": "2024-02-28T15:21:10.697995Z",
     "shell.execute_reply.started": "2024-02-28T15:21:10.686983Z"
    }
   },
   "outputs": [],
   "source": [
    "# Drop info columns\n",
    "dfai = dfai.drop(['mask', 'Nr','isconvex','is_cen_inside','is_mce_inside', 'p'], axis = 1)\n",
    "dfpi = dfpi.drop(['mask', 'Nr','isconvex','is_cen_inside','is_mce_inside', 'p'], axis = 1)"
   ]
  },
  {
   "cell_type": "code",
   "execution_count": 51,
   "id": "d830e260-b666-4bc9-bf8c-a8a117393a2c",
   "metadata": {
    "execution": {
     "iopub.execute_input": "2024-02-28T15:21:55.951540Z",
     "iopub.status.busy": "2024-02-28T15:21:55.950619Z",
     "iopub.status.idle": "2024-02-28T15:21:55.957844Z",
     "shell.execute_reply": "2024-02-28T15:21:55.956031Z",
     "shell.execute_reply.started": "2024-02-28T15:21:55.951492Z"
    }
   },
   "outputs": [],
   "source": [
    "# 0 bike lane, 1 curb, 2 ground_sign, 3 manhole, 4 other, 5 pavement, 6 road"
   ]
  },
  {
   "cell_type": "code",
   "execution_count": 53,
   "id": "9a81c15b-fb07-49b0-ad73-c96b832ce946",
   "metadata": {
    "execution": {
     "iopub.execute_input": "2024-02-28T15:24:07.144662Z",
     "iopub.status.busy": "2024-02-28T15:24:07.143228Z",
     "iopub.status.idle": "2024-02-28T15:24:07.198900Z",
     "shell.execute_reply": "2024-02-28T15:24:07.198088Z",
     "shell.execute_reply.started": "2024-02-28T15:24:07.144579Z"
    }
   },
   "outputs": [
    {
     "name": "stdout",
     "output_type": "stream",
     "text": [
      "(array([0, 1, 2, 3, 4, 5, 6]), array([  28,  585, 2593,  468, 2913, 1309, 1910]))\n",
      "(array([0, 1, 2, 3, 4, 5, 6]), array([  58, 1739, 5558,  797, 6632, 3231, 5292]))\n"
     ]
    }
   ],
   "source": [
    "# rf.fit(X_train3, y_train3)\n",
    "y_pred_ai = rfi.predict(dfai)\n",
    "print(np.unique(y_pred_ai, return_counts=True))\n",
    "y_pred_pi = rfi.predict(dfpi)\n",
    "print(np.unique(y_pred_pi, return_counts=True))"
   ]
  },
  {
   "cell_type": "code",
   "execution_count": 54,
   "id": "555080e0-eab8-49a9-9c8d-92c33417fd6a",
   "metadata": {
    "execution": {
     "iopub.execute_input": "2024-02-28T15:24:11.073203Z",
     "iopub.status.busy": "2024-02-28T15:24:11.072688Z",
     "iopub.status.idle": "2024-02-28T15:24:11.079451Z",
     "shell.execute_reply": "2024-02-28T15:24:11.078139Z",
     "shell.execute_reply.started": "2024-02-28T15:24:11.073175Z"
    }
   },
   "outputs": [],
   "source": [
    "dfail = dfai\n",
    "dfail['p'] = y_pred_ai\n",
    "dfpil = dfpi\n",
    "dfpil['p'] = y_pred_pi"
   ]
  },
  {
   "cell_type": "code",
   "execution_count": 55,
   "id": "2c825b61-11bb-44a1-92e1-3886220a81b4",
   "metadata": {
    "execution": {
     "iopub.execute_input": "2024-02-28T15:24:12.397535Z",
     "iopub.status.busy": "2024-02-28T15:24:12.396644Z",
     "iopub.status.idle": "2024-02-28T15:24:12.724416Z",
     "shell.execute_reply": "2024-02-28T15:24:12.723606Z",
     "shell.execute_reply.started": "2024-02-28T15:24:12.397484Z"
    }
   },
   "outputs": [],
   "source": [
    "dfa1 = df_a\n",
    "dfp1 = df_p\n",
    "# dataframe_accident_forentropy_infrastructure_ground_predicted_label\n",
    "dfa_eipl = pd.merge(dfa1, dfail, on = ['gmedian', 'rmedian', 'bmedian', 'gmean', \n",
    "                                   'rmean', 'bmean', 'gstd', 'rstd', 'bstd', \n",
    "                                   'gq25', 'gq75', 'rq25', 'rq75', 'bq25', \n",
    "                                   'bq75', 'cdmean', 'cdstd', 'area', 'aspect_ratio_wh_s', \n",
    "                                   'extent_s', 'solidity', 'aspect_ratio_wh', 'extent', \n",
    "                                   'orien_rre', 'orien_ell', 'ed', 'ratio_ell', 'perimeter', 'bottomm',\n",
    "                                   'topm', 'leftm', 'rightm'])\n",
    "# dataframe_pseudo_forentropy_infrastructure_ground_predicted_label\n",
    "dfp_eipl = pd.merge(dfp1, dfpil, on = ['gmedian', 'rmedian', 'bmedian', 'gmean', \n",
    "                                   'rmean', 'bmean', 'gstd', 'rstd', 'bstd', \n",
    "                                   'gq25', 'gq75', 'rq25', 'rq75', 'bq25', \n",
    "                                   'bq75', 'cdmean', 'cdstd', 'area', 'aspect_ratio_wh_s', \n",
    "                                   'extent_s', 'solidity', 'aspect_ratio_wh', 'extent', \n",
    "                                   'orien_rre', 'orien_ell', 'ed', 'ratio_ell', 'perimeter', 'bottomm',\n",
    "                                   'topm', 'leftm', 'rightm'])"
   ]
  },
  {
   "cell_type": "code",
   "execution_count": 57,
   "id": "635f9d41-5080-4384-a7d2-1ac52a82ee00",
   "metadata": {
    "execution": {
     "iopub.execute_input": "2024-02-28T15:24:57.338811Z",
     "iopub.status.busy": "2024-02-28T15:24:57.337937Z",
     "iopub.status.idle": "2024-02-28T15:24:58.371098Z",
     "shell.execute_reply": "2024-02-28T15:24:58.370073Z",
     "shell.execute_reply.started": "2024-02-28T15:24:57.338761Z"
    }
   },
   "outputs": [],
   "source": [
    "dfa_eipl.to_csv('/home/yelhe/script/mt/output/pred_accident_label_ground7.csv', index = False)\n",
    "dfp_eipl.to_csv('/home/yelhe/script/mt/output/pred_pseudo_label_ground7.csv', index = False)"
   ]
  },
  {
   "cell_type": "markdown",
   "id": "bd101943-4c83-4964-83ed-d039aa3d32af",
   "metadata": {
    "execution": {
     "iopub.execute_input": "2024-02-28T16:28:24.177559Z",
     "iopub.status.busy": "2024-02-28T16:28:24.176598Z",
     "iopub.status.idle": "2024-02-28T16:28:24.183912Z",
     "shell.execute_reply": "2024-02-28T16:28:24.182186Z",
     "shell.execute_reply.started": "2024-02-28T16:28:24.177507Z"
    }
   },
   "source": [
    "#### Entropy calculation"
   ]
  },
  {
   "cell_type": "markdown",
   "id": "b57658a3-7708-46bc-8a57-9c8a56f0bc7d",
   "metadata": {},
   "source": [
    "##### For the whole scene"
   ]
  },
  {
   "cell_type": "code",
   "execution_count": 64,
   "id": "f79cca9f-0f22-4d9d-b100-eeb0e70a644b",
   "metadata": {
    "execution": {
     "iopub.execute_input": "2024-02-28T16:54:03.195482Z",
     "iopub.status.busy": "2024-02-28T16:54:03.194071Z",
     "iopub.status.idle": "2024-02-28T16:54:03.204601Z",
     "shell.execute_reply": "2024-02-28T16:54:03.203545Z",
     "shell.execute_reply.started": "2024-02-28T16:54:03.195396Z"
    }
   },
   "outputs": [
    {
     "data": {
      "text/plain": [
       "Index(['mask', 'gmedian', 'rmedian', 'bmedian', 'gmean', 'rmean', 'bmean',\n",
       "       'gstd', 'rstd', 'bstd', 'gq25', 'gq75', 'rq25', 'rq75', 'bq25', 'bq75',\n",
       "       'cdmean', 'cdstd', 'isconvex', 'area', 'aspect_ratio_wh_s', 'extent_s',\n",
       "       'solidity', 'aspect_ratio_wh', 'extent', 'orien_rre', 'orien_ell', 'ed',\n",
       "       'ratio_ell', 'perimeter', 'is_cen_inside', 'is_mce_inside', 'leftm',\n",
       "       'rightm', 'topm', 'bottomm', 'Nr', 'p'],\n",
       "      dtype='object')"
      ]
     },
     "execution_count": 64,
     "metadata": {},
     "output_type": "execute_result"
    }
   ],
   "source": [
    "# Using dfa_epl & dfp_epl\n",
    "dfa_epl.columns"
   ]
  },
  {
   "cell_type": "code",
   "execution_count": 63,
   "id": "84028565-c622-48a6-89e9-ad4093c2b432",
   "metadata": {
    "execution": {
     "iopub.execute_input": "2024-02-28T16:33:20.532193Z",
     "iopub.status.busy": "2024-02-28T16:33:20.530981Z",
     "iopub.status.idle": "2024-02-28T16:33:20.557172Z",
     "shell.execute_reply": "2024-02-28T16:33:20.555971Z",
     "shell.execute_reply.started": "2024-02-28T16:33:20.532138Z"
    }
   },
   "outputs": [
    {
     "data": {
      "text/html": [
       "<div>\n",
       "<style scoped>\n",
       "    .dataframe tbody tr th:only-of-type {\n",
       "        vertical-align: middle;\n",
       "    }\n",
       "\n",
       "    .dataframe tbody tr th {\n",
       "        vertical-align: top;\n",
       "    }\n",
       "\n",
       "    .dataframe thead th {\n",
       "        text-align: right;\n",
       "    }\n",
       "</style>\n",
       "<table border=\"1\" class=\"dataframe\">\n",
       "  <thead>\n",
       "    <tr style=\"text-align: right;\">\n",
       "      <th></th>\n",
       "      <th>mask</th>\n",
       "      <th>gmedian</th>\n",
       "      <th>rmedian</th>\n",
       "      <th>bmedian</th>\n",
       "      <th>gmean</th>\n",
       "      <th>rmean</th>\n",
       "      <th>bmean</th>\n",
       "      <th>gstd</th>\n",
       "      <th>rstd</th>\n",
       "      <th>bstd</th>\n",
       "      <th>...</th>\n",
       "      <th>ratio_ell</th>\n",
       "      <th>perimeter</th>\n",
       "      <th>is_cen_inside</th>\n",
       "      <th>is_mce_inside</th>\n",
       "      <th>leftm</th>\n",
       "      <th>rightm</th>\n",
       "      <th>topm</th>\n",
       "      <th>bottomm</th>\n",
       "      <th>Nr</th>\n",
       "      <th>p</th>\n",
       "    </tr>\n",
       "  </thead>\n",
       "  <tbody>\n",
       "    <tr>\n",
       "      <th>0</th>\n",
       "      <td>1</td>\n",
       "      <td>244.0</td>\n",
       "      <td>248.0</td>\n",
       "      <td>237.0</td>\n",
       "      <td>240.730656</td>\n",
       "      <td>245.506949</td>\n",
       "      <td>232.780832</td>\n",
       "      <td>12.440094</td>\n",
       "      <td>8.665818</td>\n",
       "      <td>17.859522</td>\n",
       "      <td>...</td>\n",
       "      <td>2.712297</td>\n",
       "      <td>2958.881371</td>\n",
       "      <td>1.0</td>\n",
       "      <td>1.0</td>\n",
       "      <td>0</td>\n",
       "      <td>639</td>\n",
       "      <td>0</td>\n",
       "      <td>297</td>\n",
       "      <td>999000608525971</td>\n",
       "      <td>5</td>\n",
       "    </tr>\n",
       "    <tr>\n",
       "      <th>1</th>\n",
       "      <td>2</td>\n",
       "      <td>121.0</td>\n",
       "      <td>118.0</td>\n",
       "      <td>119.0</td>\n",
       "      <td>125.207882</td>\n",
       "      <td>121.692088</td>\n",
       "      <td>123.851176</td>\n",
       "      <td>28.212500</td>\n",
       "      <td>28.467390</td>\n",
       "      <td>27.957547</td>\n",
       "      <td>...</td>\n",
       "      <td>2.441359</td>\n",
       "      <td>1026.933108</td>\n",
       "      <td>1.0</td>\n",
       "      <td>1.0</td>\n",
       "      <td>288</td>\n",
       "      <td>604</td>\n",
       "      <td>367</td>\n",
       "      <td>534</td>\n",
       "      <td>999000608525971</td>\n",
       "      <td>2</td>\n",
       "    </tr>\n",
       "    <tr>\n",
       "      <th>2</th>\n",
       "      <td>3</td>\n",
       "      <td>244.0</td>\n",
       "      <td>248.0</td>\n",
       "      <td>237.0</td>\n",
       "      <td>240.717879</td>\n",
       "      <td>245.472134</td>\n",
       "      <td>232.790564</td>\n",
       "      <td>12.579833</td>\n",
       "      <td>8.892382</td>\n",
       "      <td>17.936509</td>\n",
       "      <td>...</td>\n",
       "      <td>2.835151</td>\n",
       "      <td>2765.910810</td>\n",
       "      <td>1.0</td>\n",
       "      <td>1.0</td>\n",
       "      <td>0</td>\n",
       "      <td>639</td>\n",
       "      <td>0</td>\n",
       "      <td>298</td>\n",
       "      <td>999000608525971</td>\n",
       "      <td>5</td>\n",
       "    </tr>\n",
       "    <tr>\n",
       "      <th>3</th>\n",
       "      <td>4</td>\n",
       "      <td>102.0</td>\n",
       "      <td>55.0</td>\n",
       "      <td>84.0</td>\n",
       "      <td>115.255602</td>\n",
       "      <td>74.179253</td>\n",
       "      <td>98.845643</td>\n",
       "      <td>46.973404</td>\n",
       "      <td>55.987560</td>\n",
       "      <td>49.051072</td>\n",
       "      <td>...</td>\n",
       "      <td>1.540817</td>\n",
       "      <td>139.982755</td>\n",
       "      <td>1.0</td>\n",
       "      <td>1.0</td>\n",
       "      <td>246</td>\n",
       "      <td>278</td>\n",
       "      <td>270</td>\n",
       "      <td>318</td>\n",
       "      <td>999000608525971</td>\n",
       "      <td>6</td>\n",
       "    </tr>\n",
       "    <tr>\n",
       "      <th>4</th>\n",
       "      <td>5</td>\n",
       "      <td>115.0</td>\n",
       "      <td>117.0</td>\n",
       "      <td>111.0</td>\n",
       "      <td>113.090287</td>\n",
       "      <td>114.524478</td>\n",
       "      <td>109.461159</td>\n",
       "      <td>17.588751</td>\n",
       "      <td>17.982858</td>\n",
       "      <td>16.838046</td>\n",
       "      <td>...</td>\n",
       "      <td>2.304478</td>\n",
       "      <td>990.340181</td>\n",
       "      <td>1.0</td>\n",
       "      <td>-1.0</td>\n",
       "      <td>410</td>\n",
       "      <td>639</td>\n",
       "      <td>326</td>\n",
       "      <td>507</td>\n",
       "      <td>999000608525971</td>\n",
       "      <td>2</td>\n",
       "    </tr>\n",
       "  </tbody>\n",
       "</table>\n",
       "<p>5 rows × 38 columns</p>\n",
       "</div>"
      ],
      "text/plain": [
       "   mask  gmedian  rmedian  bmedian       gmean       rmean       bmean  \\\n",
       "0     1    244.0    248.0    237.0  240.730656  245.506949  232.780832   \n",
       "1     2    121.0    118.0    119.0  125.207882  121.692088  123.851176   \n",
       "2     3    244.0    248.0    237.0  240.717879  245.472134  232.790564   \n",
       "3     4    102.0     55.0     84.0  115.255602   74.179253   98.845643   \n",
       "4     5    115.0    117.0    111.0  113.090287  114.524478  109.461159   \n",
       "\n",
       "        gstd       rstd       bstd  ...  ratio_ell    perimeter  \\\n",
       "0  12.440094   8.665818  17.859522  ...   2.712297  2958.881371   \n",
       "1  28.212500  28.467390  27.957547  ...   2.441359  1026.933108   \n",
       "2  12.579833   8.892382  17.936509  ...   2.835151  2765.910810   \n",
       "3  46.973404  55.987560  49.051072  ...   1.540817   139.982755   \n",
       "4  17.588751  17.982858  16.838046  ...   2.304478   990.340181   \n",
       "\n",
       "   is_cen_inside  is_mce_inside  leftm  rightm  topm  bottomm  \\\n",
       "0            1.0            1.0      0     639     0      297   \n",
       "1            1.0            1.0    288     604   367      534   \n",
       "2            1.0            1.0      0     639     0      298   \n",
       "3            1.0            1.0    246     278   270      318   \n",
       "4            1.0           -1.0    410     639   326      507   \n",
       "\n",
       "                Nr  p  \n",
       "0  999000608525971  5  \n",
       "1  999000608525971  2  \n",
       "2  999000608525971  5  \n",
       "3  999000608525971  6  \n",
       "4  999000608525971  2  \n",
       "\n",
       "[5 rows x 38 columns]"
      ]
     },
     "execution_count": 63,
     "metadata": {},
     "output_type": "execute_result"
    }
   ],
   "source": [
    "dfa_epl.head()"
   ]
  },
  {
   "cell_type": "code",
   "execution_count": 65,
   "id": "e09a015e-1c15-4772-a590-0d498f32a683",
   "metadata": {
    "execution": {
     "iopub.execute_input": "2024-02-28T16:57:40.692167Z",
     "iopub.status.busy": "2024-02-28T16:57:40.691154Z",
     "iopub.status.idle": "2024-02-28T16:57:40.704834Z",
     "shell.execute_reply": "2024-02-28T16:57:40.703430Z",
     "shell.execute_reply.started": "2024-02-28T16:57:40.692110Z"
    }
   },
   "outputs": [],
   "source": [
    "# Accident whole scene entropy\n",
    "awe = dfa_epl[['Nr', 'p']]\n",
    "pwe = dfp_epl[['Nr', 'p']]"
   ]
  },
  {
   "cell_type": "code",
   "execution_count": 89,
   "id": "7b884d9f-b02a-4161-aef8-d6ab9ad3166d",
   "metadata": {
    "execution": {
     "iopub.execute_input": "2024-02-28T17:55:33.083786Z",
     "iopub.status.busy": "2024-02-28T17:55:33.082646Z",
     "iopub.status.idle": "2024-02-28T17:55:33.269163Z",
     "shell.execute_reply": "2024-02-28T17:55:33.268595Z",
     "shell.execute_reply.started": "2024-02-28T17:55:33.083733Z"
    }
   },
   "outputs": [],
   "source": [
    "awe.loc[:,'Nr'] = awe['Nr'].values.astype(str)\n",
    "awe.loc[:,'id'] = awe.Nr.str[-15:-1]\n",
    "awe.loc[:,'dir'] = awe.Nr.str[-1]\n",
    "\n",
    "pwe.loc[:,'Nr'] = pwe['Nr'].values.astype(str)\n",
    "pwe.loc[:,'Nr'] = pwe['Nr'].str.zfill(5)\n",
    "pwe.loc[:,'id'] = pwe.Nr.str[-5:-1]\n",
    "pwe.loc[:,'dir'] = pwe.Nr.str[-1]"
   ]
  },
  {
   "cell_type": "code",
   "execution_count": 90,
   "id": "cd1b4e89-806c-49fd-a964-99f165ff3aa4",
   "metadata": {
    "execution": {
     "iopub.execute_input": "2024-02-28T17:55:36.402838Z",
     "iopub.status.busy": "2024-02-28T17:55:36.401948Z",
     "iopub.status.idle": "2024-02-28T17:55:36.429108Z",
     "shell.execute_reply": "2024-02-28T17:55:36.428602Z",
     "shell.execute_reply.started": "2024-02-28T17:55:36.402786Z"
    }
   },
   "outputs": [],
   "source": [
    "# Predicted curb in accident points summary\n",
    "awes = awe.groupby(['id','p']).size().reset_index().rename(columns={0:'count'})\n",
    "# Predicted curb in pseudo points summary\n",
    "pwes = awe.groupby(['id','p']).size().reset_index().rename(columns={0:'count'})"
   ]
  },
  {
   "cell_type": "code",
   "execution_count": 94,
   "id": "c0ca8152-9fff-4691-8510-d913a752d982",
   "metadata": {
    "execution": {
     "iopub.execute_input": "2024-02-28T17:56:09.943563Z",
     "iopub.status.busy": "2024-02-28T17:56:09.942369Z",
     "iopub.status.idle": "2024-02-28T17:56:09.962047Z",
     "shell.execute_reply": "2024-02-28T17:56:09.961264Z",
     "shell.execute_reply.started": "2024-02-28T17:56:09.943511Z"
    }
   },
   "outputs": [
    {
     "data": {
      "text/html": [
       "<div>\n",
       "<style scoped>\n",
       "    .dataframe tbody tr th:only-of-type {\n",
       "        vertical-align: middle;\n",
       "    }\n",
       "\n",
       "    .dataframe tbody tr th {\n",
       "        vertical-align: top;\n",
       "    }\n",
       "\n",
       "    .dataframe thead th {\n",
       "        text-align: right;\n",
       "    }\n",
       "</style>\n",
       "<table border=\"1\" class=\"dataframe\">\n",
       "  <thead>\n",
       "    <tr style=\"text-align: right;\">\n",
       "      <th></th>\n",
       "      <th>id</th>\n",
       "      <th>dir</th>\n",
       "      <th>p</th>\n",
       "    </tr>\n",
       "  </thead>\n",
       "  <tbody>\n",
       "    <tr>\n",
       "      <th>0</th>\n",
       "      <td>0002</td>\n",
       "      <td>1</td>\n",
       "      <td>5</td>\n",
       "    </tr>\n",
       "    <tr>\n",
       "      <th>1</th>\n",
       "      <td>0002</td>\n",
       "      <td>1</td>\n",
       "      <td>2</td>\n",
       "    </tr>\n",
       "    <tr>\n",
       "      <th>2</th>\n",
       "      <td>0002</td>\n",
       "      <td>1</td>\n",
       "      <td>6</td>\n",
       "    </tr>\n",
       "    <tr>\n",
       "      <th>3</th>\n",
       "      <td>0002</td>\n",
       "      <td>1</td>\n",
       "      <td>2</td>\n",
       "    </tr>\n",
       "    <tr>\n",
       "      <th>4</th>\n",
       "      <td>0002</td>\n",
       "      <td>1</td>\n",
       "      <td>6</td>\n",
       "    </tr>\n",
       "    <tr>\n",
       "      <th>...</th>\n",
       "      <td>...</td>\n",
       "      <td>...</td>\n",
       "      <td>...</td>\n",
       "    </tr>\n",
       "    <tr>\n",
       "      <th>143033</th>\n",
       "      <td>0994</td>\n",
       "      <td>4</td>\n",
       "      <td>4</td>\n",
       "    </tr>\n",
       "    <tr>\n",
       "      <th>143034</th>\n",
       "      <td>0994</td>\n",
       "      <td>4</td>\n",
       "      <td>4</td>\n",
       "    </tr>\n",
       "    <tr>\n",
       "      <th>143035</th>\n",
       "      <td>0994</td>\n",
       "      <td>4</td>\n",
       "      <td>4</td>\n",
       "    </tr>\n",
       "    <tr>\n",
       "      <th>143036</th>\n",
       "      <td>0994</td>\n",
       "      <td>4</td>\n",
       "      <td>4</td>\n",
       "    </tr>\n",
       "    <tr>\n",
       "      <th>143037</th>\n",
       "      <td>0994</td>\n",
       "      <td>4</td>\n",
       "      <td>4</td>\n",
       "    </tr>\n",
       "  </tbody>\n",
       "</table>\n",
       "<p>143038 rows × 3 columns</p>\n",
       "</div>"
      ],
      "text/plain": [
       "          id dir  p\n",
       "0       0002   1  5\n",
       "1       0002   1  2\n",
       "2       0002   1  6\n",
       "3       0002   1  2\n",
       "4       0002   1  6\n",
       "...      ...  .. ..\n",
       "143033  0994   4  4\n",
       "143034  0994   4  4\n",
       "143035  0994   4  4\n",
       "143036  0994   4  4\n",
       "143037  0994   4  4\n",
       "\n",
       "[143038 rows x 3 columns]"
      ]
     },
     "execution_count": 94,
     "metadata": {},
     "output_type": "execute_result"
    }
   ],
   "source": [
    "pwe[['id','dir','p']]"
   ]
  },
  {
   "cell_type": "markdown",
   "id": "e72d90ba-a1e1-40c8-8890-6d3ad74712ec",
   "metadata": {},
   "source": [
    "##### For the ground scene"
   ]
  },
  {
   "cell_type": "code",
   "execution_count": null,
   "id": "84434378-60e3-42fa-aca4-66ee1e1f489c",
   "metadata": {},
   "outputs": [],
   "source": []
  }
 ],
 "metadata": {
  "kernelspec": {
   "display_name": "Python 3 (ipykernel)",
   "language": "python",
   "name": "python3"
  },
  "language_info": {
   "codemirror_mode": {
    "name": "ipython",
    "version": 3
   },
   "file_extension": ".py",
   "mimetype": "text/x-python",
   "name": "python",
   "nbconvert_exporter": "python",
   "pygments_lexer": "ipython3",
   "version": "3.11.5"
  }
 },
 "nbformat": 4,
 "nbformat_minor": 5
}
