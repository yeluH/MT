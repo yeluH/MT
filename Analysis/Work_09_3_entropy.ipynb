{
 "cells": [
  {
   "cell_type": "code",
   "execution_count": 2,
   "id": "7e9f75d8-3be9-45ef-b9ae-ad72fefb7ce1",
   "metadata": {
    "execution": {
     "iopub.execute_input": "2024-03-04T13:49:28.207841Z",
     "iopub.status.busy": "2024-03-04T13:49:28.207530Z",
     "iopub.status.idle": "2024-03-04T13:49:34.729036Z",
     "shell.execute_reply": "2024-03-04T13:49:34.728509Z",
     "shell.execute_reply.started": "2024-03-04T13:49:28.207820Z"
    }
   },
   "outputs": [],
   "source": [
    "import torch\n",
    "torch.cuda.empty_cache() "
   ]
  },
  {
   "cell_type": "code",
   "execution_count": 3,
   "id": "f3e5fa71-37bd-4efe-b8ee-ae3c362b2a1b",
   "metadata": {
    "execution": {
     "iopub.execute_input": "2024-03-04T13:49:34.730426Z",
     "iopub.status.busy": "2024-03-04T13:49:34.730117Z",
     "iopub.status.idle": "2024-03-04T13:49:36.057637Z",
     "shell.execute_reply": "2024-03-04T13:49:36.057131Z",
     "shell.execute_reply.started": "2024-03-04T13:49:34.730409Z"
    }
   },
   "outputs": [],
   "source": [
    "import os \n",
    "os.environ['MPLCONFIGDIR'] = os.getcwd() + \"/configs/\"\n",
    "import matplotlib\n",
    "from matplotlib import pyplot as plt\n",
    "import numpy as np\n",
    "import cv2\n",
    "import urllib.request\n",
    "from PIL import Image"
   ]
  },
  {
   "cell_type": "code",
   "execution_count": 4,
   "id": "132db61a-9aa6-4936-8ab4-054288d07d2e",
   "metadata": {
    "execution": {
     "iopub.execute_input": "2024-03-04T13:49:36.058561Z",
     "iopub.status.busy": "2024-03-04T13:49:36.058376Z",
     "iopub.status.idle": "2024-03-04T13:49:38.200015Z",
     "shell.execute_reply": "2024-03-04T13:49:38.199502Z",
     "shell.execute_reply.started": "2024-03-04T13:49:36.058545Z"
    }
   },
   "outputs": [],
   "source": [
    "import pandas as pd\n",
    "import pyproj"
   ]
  },
  {
   "cell_type": "code",
   "execution_count": 5,
   "id": "80d61825-dc8d-4005-9362-cf497e771695",
   "metadata": {
    "execution": {
     "iopub.execute_input": "2024-03-04T13:49:38.201044Z",
     "iopub.status.busy": "2024-03-04T13:49:38.200747Z",
     "iopub.status.idle": "2024-03-04T13:49:38.204066Z",
     "shell.execute_reply": "2024-03-04T13:49:38.203559Z",
     "shell.execute_reply.started": "2024-03-04T13:49:38.201025Z"
    }
   },
   "outputs": [],
   "source": [
    "import os \n",
    "os.environ['MPLCONFIGDIR'] = os.getcwd() + \"/configs/\"\n",
    "import matplotlib\n",
    "from matplotlib import pyplot as plt\n",
    "import numpy as np\n",
    "import cv2"
   ]
  },
  {
   "cell_type": "code",
   "execution_count": 6,
   "id": "e6000c92-6b7e-4ee5-9c30-ac0dfed91840",
   "metadata": {
    "execution": {
     "iopub.execute_input": "2024-03-04T13:49:38.206146Z",
     "iopub.status.busy": "2024-03-04T13:49:38.205920Z",
     "iopub.status.idle": "2024-03-04T13:49:38.213781Z",
     "shell.execute_reply": "2024-03-04T13:49:38.213232Z",
     "shell.execute_reply.started": "2024-03-04T13:49:38.206129Z"
    }
   },
   "outputs": [],
   "source": [
    "from pathlib import Path"
   ]
  },
  {
   "cell_type": "code",
   "execution_count": 7,
   "id": "59dfb1fc-7192-4ae1-9df9-596320cc4875",
   "metadata": {
    "execution": {
     "iopub.execute_input": "2024-03-04T13:49:38.214961Z",
     "iopub.status.busy": "2024-03-04T13:49:38.214661Z",
     "iopub.status.idle": "2024-03-04T13:49:38.369829Z",
     "shell.execute_reply": "2024-03-04T13:49:38.369333Z",
     "shell.execute_reply.started": "2024-03-04T13:49:38.214938Z"
    }
   },
   "outputs": [],
   "source": [
    "import joblib"
   ]
  },
  {
   "cell_type": "code",
   "execution_count": 8,
   "id": "923fac26-61e2-49dd-9099-e31ff4079430",
   "metadata": {
    "execution": {
     "iopub.execute_input": "2024-03-04T13:49:38.370707Z",
     "iopub.status.busy": "2024-03-04T13:49:38.370521Z",
     "iopub.status.idle": "2024-03-04T13:49:38.521806Z",
     "shell.execute_reply": "2024-03-04T13:49:38.521233Z",
     "shell.execute_reply.started": "2024-03-04T13:49:38.370689Z"
    }
   },
   "outputs": [],
   "source": [
    "from mt_function_yl import *"
   ]
  },
  {
   "cell_type": "markdown",
   "id": "d7346fc9-4815-4194-b455-fca304758ef0",
   "metadata": {},
   "source": [
    "#### Load in Dataframes"
   ]
  },
  {
   "cell_type": "code",
   "execution_count": 9,
   "id": "e7b2299c-323d-419b-b474-0bd2af65965e",
   "metadata": {
    "execution": {
     "iopub.execute_input": "2024-03-04T13:49:38.522871Z",
     "iopub.status.busy": "2024-03-04T13:49:38.522568Z",
     "iopub.status.idle": "2024-03-04T13:49:39.958334Z",
     "shell.execute_reply": "2024-03-04T13:49:39.957294Z",
     "shell.execute_reply.started": "2024-03-04T13:49:38.522852Z"
    }
   },
   "outputs": [],
   "source": [
    "df_a = pd.read_csv('/home/yelhe/scratch/df/df_accident_0_295.csv')\n",
    "df_p = pd.read_csv('/home/yelhe/scratch/df/df_pseudo_0_792_new.csv')"
   ]
  },
  {
   "cell_type": "code",
   "execution_count": 10,
   "id": "49f2ed1a-0a6f-4ab5-8e8d-f1e8efe730bd",
   "metadata": {
    "execution": {
     "iopub.execute_input": "2024-03-04T13:49:39.960088Z",
     "iopub.status.busy": "2024-03-04T13:49:39.959737Z",
     "iopub.status.idle": "2024-03-04T13:49:39.978902Z",
     "shell.execute_reply": "2024-03-04T13:49:39.978195Z",
     "shell.execute_reply.started": "2024-03-04T13:49:39.960064Z"
    }
   },
   "outputs": [
    {
     "name": "stdout",
     "output_type": "stream",
     "text": [
      "<class 'pandas.core.frame.DataFrame'>\n",
      "RangeIndex: 55960 entries, 0 to 55959\n",
      "Data columns (total 37 columns):\n",
      " #   Column             Non-Null Count  Dtype  \n",
      "---  ------             --------------  -----  \n",
      " 0   mask               55960 non-null  int64  \n",
      " 1   gmedian            55960 non-null  float64\n",
      " 2   rmedian            55960 non-null  float64\n",
      " 3   bmedian            55960 non-null  float64\n",
      " 4   gmean              55960 non-null  float64\n",
      " 5   rmean              55960 non-null  float64\n",
      " 6   bmean              55960 non-null  float64\n",
      " 7   gstd               55960 non-null  float64\n",
      " 8   rstd               55960 non-null  float64\n",
      " 9   bstd               55960 non-null  float64\n",
      " 10  gq25               55960 non-null  float64\n",
      " 11  gq75               55960 non-null  float64\n",
      " 12  rq25               55960 non-null  float64\n",
      " 13  rq75               55960 non-null  float64\n",
      " 14  bq25               55960 non-null  float64\n",
      " 15  bq75               55960 non-null  float64\n",
      " 16  cdmean             55960 non-null  float64\n",
      " 17  cdstd              55960 non-null  float64\n",
      " 18  isconvex           55960 non-null  int64  \n",
      " 19  area               55960 non-null  float64\n",
      " 20  aspect_ratio_wh_s  55960 non-null  float64\n",
      " 21  extent_s           55960 non-null  float64\n",
      " 22  solidity           55960 non-null  float64\n",
      " 23  aspect_ratio_wh    55960 non-null  float64\n",
      " 24  extent             55960 non-null  float64\n",
      " 25  orien_rre          55960 non-null  float64\n",
      " 26  orien_ell          55960 non-null  float64\n",
      " 27  ed                 55960 non-null  float64\n",
      " 28  ratio_ell          55960 non-null  float64\n",
      " 29  perimeter          55960 non-null  float64\n",
      " 30  is_cen_inside      55960 non-null  float64\n",
      " 31  is_mce_inside      55960 non-null  float64\n",
      " 32  leftm              55960 non-null  int64  \n",
      " 33  rightm             55960 non-null  int64  \n",
      " 34  topm               55960 non-null  int64  \n",
      " 35  bottomm            55960 non-null  int64  \n",
      " 36  Nr                 55960 non-null  int64  \n",
      "dtypes: float64(30), int64(7)\n",
      "memory usage: 15.8 MB\n"
     ]
    }
   ],
   "source": [
    "df_a.info()"
   ]
  },
  {
   "cell_type": "code",
   "execution_count": 11,
   "id": "d741e415-84bd-4eb4-bd97-2de52cfe4dc0",
   "metadata": {
    "execution": {
     "iopub.execute_input": "2024-03-04T13:49:39.980001Z",
     "iopub.status.busy": "2024-03-04T13:49:39.979763Z",
     "iopub.status.idle": "2024-03-04T13:49:39.997679Z",
     "shell.execute_reply": "2024-03-04T13:49:39.997011Z",
     "shell.execute_reply.started": "2024-03-04T13:49:39.979984Z"
    }
   },
   "outputs": [
    {
     "name": "stdout",
     "output_type": "stream",
     "text": [
      "<class 'pandas.core.frame.DataFrame'>\n",
      "RangeIndex: 138032 entries, 0 to 138031\n",
      "Data columns (total 37 columns):\n",
      " #   Column             Non-Null Count   Dtype  \n",
      "---  ------             --------------   -----  \n",
      " 0   mask               138032 non-null  int64  \n",
      " 1   gmedian            138032 non-null  float64\n",
      " 2   rmedian            138032 non-null  float64\n",
      " 3   bmedian            138032 non-null  float64\n",
      " 4   gmean              138032 non-null  float64\n",
      " 5   rmean              138032 non-null  float64\n",
      " 6   bmean              138032 non-null  float64\n",
      " 7   gstd               138032 non-null  float64\n",
      " 8   rstd               138032 non-null  float64\n",
      " 9   bstd               138032 non-null  float64\n",
      " 10  gq25               138032 non-null  float64\n",
      " 11  gq75               138032 non-null  float64\n",
      " 12  rq25               138032 non-null  float64\n",
      " 13  rq75               138032 non-null  float64\n",
      " 14  bq25               138032 non-null  float64\n",
      " 15  bq75               138032 non-null  float64\n",
      " 16  cdmean             138032 non-null  float64\n",
      " 17  cdstd              138032 non-null  float64\n",
      " 18  isconvex           138032 non-null  int64  \n",
      " 19  area               138032 non-null  float64\n",
      " 20  aspect_ratio_wh_s  138032 non-null  float64\n",
      " 21  extent_s           138032 non-null  float64\n",
      " 22  solidity           138032 non-null  float64\n",
      " 23  aspect_ratio_wh    138032 non-null  float64\n",
      " 24  extent             138032 non-null  float64\n",
      " 25  orien_rre          138032 non-null  float64\n",
      " 26  orien_ell          138032 non-null  float64\n",
      " 27  ed                 138032 non-null  float64\n",
      " 28  ratio_ell          138032 non-null  float64\n",
      " 29  perimeter          138032 non-null  float64\n",
      " 30  is_cen_inside      138032 non-null  float64\n",
      " 31  is_mce_inside      138032 non-null  float64\n",
      " 32  leftm              138032 non-null  int64  \n",
      " 33  rightm             138032 non-null  int64  \n",
      " 34  topm               138032 non-null  int64  \n",
      " 35  bottomm            138032 non-null  int64  \n",
      " 36  Nr                 138032 non-null  int64  \n",
      "dtypes: float64(30), int64(7)\n",
      "memory usage: 39.0 MB\n"
     ]
    }
   ],
   "source": [
    "df_p.info()"
   ]
  },
  {
   "cell_type": "markdown",
   "id": "10879242-a2fc-40a2-849a-f2ee19c7052c",
   "metadata": {},
   "source": [
    "#### For entropy - whole scene"
   ]
  },
  {
   "cell_type": "code",
   "execution_count": 12,
   "id": "1a25a5c2-89c4-4508-92cf-ae78dfa1a923",
   "metadata": {
    "execution": {
     "iopub.execute_input": "2024-03-04T13:49:39.998951Z",
     "iopub.status.busy": "2024-03-04T13:49:39.998613Z",
     "iopub.status.idle": "2024-03-04T13:49:40.014330Z",
     "shell.execute_reply": "2024-03-04T13:49:40.013652Z",
     "shell.execute_reply.started": "2024-03-04T13:49:39.998925Z"
    }
   },
   "outputs": [],
   "source": [
    "dfae = df_a\n",
    "dfpe = df_p\n",
    "# Drop info columns\n",
    "dfae = dfae.drop(['mask', 'Nr','isconvex','is_cen_inside','is_mce_inside'], axis = 1)\n",
    "dfpe = dfpe.drop(['mask', 'Nr','isconvex','is_cen_inside','is_mce_inside'], axis = 1)"
   ]
  },
  {
   "cell_type": "code",
   "execution_count": 13,
   "id": "a3d9ff7f-21f2-4895-ac5c-3c468d0b1b49",
   "metadata": {
    "execution": {
     "iopub.execute_input": "2024-03-04T13:49:40.015564Z",
     "iopub.status.busy": "2024-03-04T13:49:40.015251Z",
     "iopub.status.idle": "2024-03-04T13:49:40.025360Z",
     "shell.execute_reply": "2024-03-04T13:49:40.024769Z",
     "shell.execute_reply.started": "2024-03-04T13:49:40.015540Z"
    }
   },
   "outputs": [
    {
     "data": {
      "text/plain": [
       "((55960, 32), (138032, 32))"
      ]
     },
     "execution_count": 13,
     "metadata": {},
     "output_type": "execute_result"
    }
   ],
   "source": [
    "dfae.shape, dfpe.shape"
   ]
  },
  {
   "cell_type": "code",
   "execution_count": 14,
   "id": "ea2a48fc-a5d6-43c3-96c1-2882184f3148",
   "metadata": {
    "execution": {
     "iopub.execute_input": "2024-03-04T13:49:40.026436Z",
     "iopub.status.busy": "2024-03-04T13:49:40.026202Z",
     "iopub.status.idle": "2024-03-04T13:49:42.535081Z",
     "shell.execute_reply": "2024-03-04T13:49:42.534564Z",
     "shell.execute_reply.started": "2024-03-04T13:49:40.026417Z"
    }
   },
   "outputs": [],
   "source": [
    "rfe = joblib.load(\"my_random_forest_2_whole7.joblib\")"
   ]
  },
  {
   "cell_type": "code",
   "execution_count": 15,
   "id": "31d822ab-1d76-4530-a918-004df1b62557",
   "metadata": {
    "execution": {
     "iopub.execute_input": "2024-03-04T13:49:42.537827Z",
     "iopub.status.busy": "2024-03-04T13:49:42.537467Z",
     "iopub.status.idle": "2024-03-04T13:49:42.540402Z",
     "shell.execute_reply": "2024-03-04T13:49:42.539851Z",
     "shell.execute_reply.started": "2024-03-04T13:49:42.537809Z"
    }
   },
   "outputs": [],
   "source": [
    "# 1 curb, 2 infrastructure\n",
    "# 0 building, 3 means_of_transportation, 4 other, 5 sky, 6 vegetation"
   ]
  },
  {
   "cell_type": "code",
   "execution_count": 16,
   "id": "76d335db-11d8-4a06-8320-245e560c190c",
   "metadata": {
    "execution": {
     "iopub.execute_input": "2024-03-04T13:49:42.541227Z",
     "iopub.status.busy": "2024-03-04T13:49:42.541053Z",
     "iopub.status.idle": "2024-03-04T13:49:42.833644Z",
     "shell.execute_reply": "2024-03-04T13:49:42.833133Z",
     "shell.execute_reply.started": "2024-03-04T13:49:42.541211Z"
    }
   },
   "outputs": [
    {
     "name": "stdout",
     "output_type": "stream",
     "text": [
      "(array([0, 1, 2, 3, 4, 5, 6]), array([ 5791,   308,  9166,  1611, 30187,  1764,  7133]))\n",
      "(array([0, 1, 2, 3, 4, 5, 6]), array([15665,   938, 21583,  3794, 80227,  3345, 12480]))\n"
     ]
    }
   ],
   "source": [
    "# rf.fit(X_train3, y_train3)\n",
    "y_pred_aw = rfe.predict(dfae)\n",
    "print(np.unique(y_pred_aw, return_counts=True))\n",
    "y_pred_pw = rfe.predict(dfpe)\n",
    "print(np.unique(y_pred_pw, return_counts=True))"
   ]
  },
  {
   "cell_type": "code",
   "execution_count": 17,
   "id": "328db4fe-6649-4fe1-aa09-02f937b70918",
   "metadata": {
    "execution": {
     "iopub.execute_input": "2024-03-04T13:49:42.834550Z",
     "iopub.status.busy": "2024-03-04T13:49:42.834358Z",
     "iopub.status.idle": "2024-03-04T13:49:42.838604Z",
     "shell.execute_reply": "2024-03-04T13:49:42.837996Z",
     "shell.execute_reply.started": "2024-03-04T13:49:42.834532Z"
    }
   },
   "outputs": [],
   "source": [
    "dfael = dfae\n",
    "dfael['p'] = y_pred_aw\n",
    "dfpel = dfpe\n",
    "dfpel['p'] = y_pred_pw"
   ]
  },
  {
   "cell_type": "code",
   "execution_count": 18,
   "id": "95ed4b60-c8ba-4ee6-976d-772751840803",
   "metadata": {
    "execution": {
     "iopub.execute_input": "2024-03-04T13:49:42.839697Z",
     "iopub.status.busy": "2024-03-04T13:49:42.839421Z",
     "iopub.status.idle": "2024-03-04T13:49:42.848103Z",
     "shell.execute_reply": "2024-03-04T13:49:42.847468Z",
     "shell.execute_reply.started": "2024-03-04T13:49:42.839675Z"
    }
   },
   "outputs": [
    {
     "data": {
      "text/plain": [
       "Index(['gmedian', 'rmedian', 'bmedian', 'gmean', 'rmean', 'bmean', 'gstd',\n",
       "       'rstd', 'bstd', 'gq25', 'gq75', 'rq25', 'rq75', 'bq25', 'bq75',\n",
       "       'cdmean', 'cdstd', 'area', 'aspect_ratio_wh_s', 'extent_s', 'solidity',\n",
       "       'aspect_ratio_wh', 'extent', 'orien_rre', 'orien_ell', 'ed',\n",
       "       'ratio_ell', 'perimeter', 'leftm', 'rightm', 'topm', 'bottomm', 'p'],\n",
       "      dtype='object')"
      ]
     },
     "execution_count": 18,
     "metadata": {},
     "output_type": "execute_result"
    }
   ],
   "source": [
    "dfael.columns"
   ]
  },
  {
   "cell_type": "code",
   "execution_count": 19,
   "id": "8ebdeb9f-fd4b-4238-9b82-c465e422a6b8",
   "metadata": {
    "execution": {
     "iopub.execute_input": "2024-03-04T13:49:42.849198Z",
     "iopub.status.busy": "2024-03-04T13:49:42.848917Z",
     "iopub.status.idle": "2024-03-04T13:49:43.581371Z",
     "shell.execute_reply": "2024-03-04T13:49:43.580742Z",
     "shell.execute_reply.started": "2024-03-04T13:49:42.849177Z"
    }
   },
   "outputs": [],
   "source": [
    "dfa1 = df_a\n",
    "dfp1 = df_p\n",
    "# dataframe_accident_forentropy_predicted_label\n",
    "dfa_epl = pd.merge(dfa1, dfael, on = ['gmedian', 'rmedian', 'bmedian', 'gmean', \n",
    "                                   'rmean', 'bmean', 'gstd', 'rstd', 'bstd', \n",
    "                                   'gq25', 'gq75', 'rq25', 'rq75', 'bq25', \n",
    "                                   'bq75', 'cdmean', 'cdstd', 'area', 'aspect_ratio_wh_s', \n",
    "                                   'extent_s', 'solidity', 'aspect_ratio_wh', 'extent', \n",
    "                                   'orien_rre', 'orien_ell', 'ed', 'ratio_ell', 'perimeter', 'bottomm',\n",
    "                                   'topm', 'leftm', 'rightm'])\n",
    "# dataframe_pseudo_forentropy_predicted_label\n",
    "dfp_epl = pd.merge(dfp1, dfpel, on = ['gmedian', 'rmedian', 'bmedian', 'gmean', \n",
    "                                   'rmean', 'bmean', 'gstd', 'rstd', 'bstd', \n",
    "                                   'gq25', 'gq75', 'rq25', 'rq75', 'bq25', \n",
    "                                   'bq75', 'cdmean', 'cdstd', 'area', 'aspect_ratio_wh_s', \n",
    "                                   'extent_s', 'solidity', 'aspect_ratio_wh', 'extent', \n",
    "                                   'orien_rre', 'orien_ell', 'ed', 'ratio_ell', 'perimeter', 'bottomm',\n",
    "                                   'topm', 'leftm', 'rightm'])"
   ]
  },
  {
   "cell_type": "code",
   "execution_count": 20,
   "id": "6f78a44d-49ab-4d9a-9150-18f0305cc384",
   "metadata": {
    "execution": {
     "iopub.execute_input": "2024-03-04T13:49:43.582594Z",
     "iopub.status.busy": "2024-03-04T13:49:43.582278Z",
     "iopub.status.idle": "2024-03-04T13:49:43.587579Z",
     "shell.execute_reply": "2024-03-04T13:49:43.586933Z",
     "shell.execute_reply.started": "2024-03-04T13:49:43.582570Z"
    }
   },
   "outputs": [
    {
     "data": {
      "text/plain": [
       "array([5, 2, 6, 0, 3, 4, 1])"
      ]
     },
     "execution_count": 20,
     "metadata": {},
     "output_type": "execute_result"
    }
   ],
   "source": [
    "dfa_epl['p'].unique()"
   ]
  },
  {
   "cell_type": "code",
   "execution_count": 21,
   "id": "c674a3a8-f413-4209-9a6d-abb549742fbb",
   "metadata": {
    "execution": {
     "iopub.execute_input": "2024-03-04T13:49:43.588694Z",
     "iopub.status.busy": "2024-03-04T13:49:43.588364Z",
     "iopub.status.idle": "2024-03-04T13:49:50.224581Z",
     "shell.execute_reply": "2024-03-04T13:49:50.223533Z",
     "shell.execute_reply.started": "2024-03-04T13:49:43.588676Z"
    }
   },
   "outputs": [],
   "source": [
    "dfa_epl.to_csv('/home/yelhe/script/mt/output/pred_accident_label_whole7.csv', index = False)\n",
    "dfp_epl.to_csv('/home/yelhe/script/mt/output/pred_pseudo_label_whole7.csv', index = False)"
   ]
  },
  {
   "cell_type": "markdown",
   "id": "5db2416c-26e6-4cf6-8c99-dc8dd66bb6ca",
   "metadata": {},
   "source": [
    "#### For entropy of ground scene"
   ]
  },
  {
   "cell_type": "code",
   "execution_count": 22,
   "id": "ddf61e13-6550-4fb1-bd99-a093af6b8186",
   "metadata": {
    "execution": {
     "iopub.execute_input": "2024-03-04T13:49:50.226106Z",
     "iopub.status.busy": "2024-03-04T13:49:50.225802Z",
     "iopub.status.idle": "2024-03-04T13:49:50.229643Z",
     "shell.execute_reply": "2024-03-04T13:49:50.228999Z",
     "shell.execute_reply.started": "2024-03-04T13:49:50.226083Z"
    }
   },
   "outputs": [],
   "source": [
    "dfai = dfa_epl\n",
    "dfpi = dfp_epl"
   ]
  },
  {
   "cell_type": "code",
   "execution_count": 23,
   "id": "4158bdef-79a4-46cc-aebd-311bf3d04670",
   "metadata": {
    "execution": {
     "iopub.execute_input": "2024-03-04T13:49:50.230542Z",
     "iopub.status.busy": "2024-03-04T13:49:50.230332Z",
     "iopub.status.idle": "2024-03-04T13:49:50.252452Z",
     "shell.execute_reply": "2024-03-04T13:49:50.251816Z",
     "shell.execute_reply.started": "2024-03-04T13:49:50.230526Z"
    }
   },
   "outputs": [],
   "source": [
    "# Using the infrastructure groups recoginized by model above\n",
    "# 1 curb, 2 infrastructure\n",
    "dfai = dfa_epl.loc[(dfa_epl['p'] == 1)|(dfa_epl['p'] == 2)]\n",
    "dfpi = dfp_epl.loc[(dfp_epl['p'] == 1)|(dfp_epl['p'] == 2)]"
   ]
  },
  {
   "cell_type": "code",
   "execution_count": 24,
   "id": "d64fa5d3-4d70-44bf-a05a-c622707d83d3",
   "metadata": {
    "execution": {
     "iopub.execute_input": "2024-03-04T13:49:50.253567Z",
     "iopub.status.busy": "2024-03-04T13:49:50.253279Z",
     "iopub.status.idle": "2024-03-04T13:49:50.258286Z",
     "shell.execute_reply": "2024-03-04T13:49:50.257656Z",
     "shell.execute_reply.started": "2024-03-04T13:49:50.253549Z"
    }
   },
   "outputs": [
    {
     "data": {
      "text/plain": [
       "((9806, 38), (23307, 38))"
      ]
     },
     "execution_count": 24,
     "metadata": {},
     "output_type": "execute_result"
    }
   ],
   "source": [
    "dfai.shape, dfpi.shape"
   ]
  },
  {
   "cell_type": "code",
   "execution_count": 25,
   "id": "2f394d26-f569-4d91-8d43-fb7db87bbd4d",
   "metadata": {
    "execution": {
     "iopub.execute_input": "2024-03-04T13:49:50.259932Z",
     "iopub.status.busy": "2024-03-04T13:49:50.259241Z",
     "iopub.status.idle": "2024-03-04T13:49:50.277615Z",
     "shell.execute_reply": "2024-03-04T13:49:50.277085Z",
     "shell.execute_reply.started": "2024-03-04T13:49:50.259902Z"
    }
   },
   "outputs": [],
   "source": [
    "rfi = joblib.load(\"my_random_forest_3_ground7.joblib\")"
   ]
  },
  {
   "cell_type": "code",
   "execution_count": 26,
   "id": "8490e4c7-5cf3-455b-8163-21192da649fc",
   "metadata": {
    "execution": {
     "iopub.execute_input": "2024-03-04T13:49:50.278790Z",
     "iopub.status.busy": "2024-03-04T13:49:50.278454Z",
     "iopub.status.idle": "2024-03-04T13:49:50.286590Z",
     "shell.execute_reply": "2024-03-04T13:49:50.285738Z",
     "shell.execute_reply.started": "2024-03-04T13:49:50.278763Z"
    }
   },
   "outputs": [],
   "source": [
    "# Drop info columns\n",
    "dfai = dfai.drop(['mask', 'Nr','isconvex','is_cen_inside','is_mce_inside', 'p'], axis = 1)\n",
    "dfpi = dfpi.drop(['mask', 'Nr','isconvex','is_cen_inside','is_mce_inside', 'p'], axis = 1)"
   ]
  },
  {
   "cell_type": "code",
   "execution_count": 27,
   "id": "d830e260-b666-4bc9-bf8c-a8a117393a2c",
   "metadata": {
    "execution": {
     "iopub.execute_input": "2024-03-04T13:49:50.287857Z",
     "iopub.status.busy": "2024-03-04T13:49:50.287509Z",
     "iopub.status.idle": "2024-03-04T13:49:50.294717Z",
     "shell.execute_reply": "2024-03-04T13:49:50.293946Z",
     "shell.execute_reply.started": "2024-03-04T13:49:50.287832Z"
    }
   },
   "outputs": [],
   "source": [
    "# 0 bike lane, 1 curb, 2 ground_sign, 3 manhole, 4 other, 5 pavement, 6 road"
   ]
  },
  {
   "cell_type": "code",
   "execution_count": 28,
   "id": "9a81c15b-fb07-49b0-ad73-c96b832ce946",
   "metadata": {
    "execution": {
     "iopub.execute_input": "2024-03-04T13:49:50.296035Z",
     "iopub.status.busy": "2024-03-04T13:49:50.295729Z",
     "iopub.status.idle": "2024-03-04T13:49:50.354260Z",
     "shell.execute_reply": "2024-03-04T13:49:50.353568Z",
     "shell.execute_reply.started": "2024-03-04T13:49:50.296015Z"
    }
   },
   "outputs": [
    {
     "name": "stdout",
     "output_type": "stream",
     "text": [
      "(array([0, 1, 2, 3, 4, 5, 6]), array([  28,  585, 2593,  468, 2913, 1309, 1910]))\n",
      "(array([0, 1, 2, 3, 4, 5, 6]), array([  58, 1739, 5558,  797, 6632, 3231, 5292]))\n"
     ]
    }
   ],
   "source": [
    "# rf.fit(X_train3, y_train3)\n",
    "y_pred_ai = rfi.predict(dfai)\n",
    "print(np.unique(y_pred_ai, return_counts=True))\n",
    "y_pred_pi = rfi.predict(dfpi)\n",
    "print(np.unique(y_pred_pi, return_counts=True))"
   ]
  },
  {
   "cell_type": "code",
   "execution_count": 29,
   "id": "555080e0-eab8-49a9-9c8d-92c33417fd6a",
   "metadata": {
    "execution": {
     "iopub.execute_input": "2024-03-04T13:49:50.355262Z",
     "iopub.status.busy": "2024-03-04T13:49:50.355020Z",
     "iopub.status.idle": "2024-03-04T13:49:50.360491Z",
     "shell.execute_reply": "2024-03-04T13:49:50.359598Z",
     "shell.execute_reply.started": "2024-03-04T13:49:50.355238Z"
    }
   },
   "outputs": [],
   "source": [
    "dfail = dfai\n",
    "dfail['p'] = y_pred_ai\n",
    "dfpil = dfpi\n",
    "dfpil['p'] = y_pred_pi"
   ]
  },
  {
   "cell_type": "code",
   "execution_count": 30,
   "id": "2c825b61-11bb-44a1-92e1-3886220a81b4",
   "metadata": {
    "execution": {
     "iopub.execute_input": "2024-03-04T13:49:50.362148Z",
     "iopub.status.busy": "2024-03-04T13:49:50.361674Z",
     "iopub.status.idle": "2024-03-04T13:49:50.780241Z",
     "shell.execute_reply": "2024-03-04T13:49:50.779567Z",
     "shell.execute_reply.started": "2024-03-04T13:49:50.362112Z"
    }
   },
   "outputs": [],
   "source": [
    "dfa1 = df_a\n",
    "dfp1 = df_p\n",
    "# dataframe_accident_forentropy_infrastructure_ground_predicted_label\n",
    "dfa_eipl = pd.merge(dfa1, dfail, on = ['gmedian', 'rmedian', 'bmedian', 'gmean', \n",
    "                                   'rmean', 'bmean', 'gstd', 'rstd', 'bstd', \n",
    "                                   'gq25', 'gq75', 'rq25', 'rq75', 'bq25', \n",
    "                                   'bq75', 'cdmean', 'cdstd', 'area', 'aspect_ratio_wh_s', \n",
    "                                   'extent_s', 'solidity', 'aspect_ratio_wh', 'extent', \n",
    "                                   'orien_rre', 'orien_ell', 'ed', 'ratio_ell', 'perimeter', 'bottomm',\n",
    "                                   'topm', 'leftm', 'rightm'])\n",
    "# dataframe_pseudo_forentropy_infrastructure_ground_predicted_label\n",
    "dfp_eipl = pd.merge(dfp1, dfpil, on = ['gmedian', 'rmedian', 'bmedian', 'gmean', \n",
    "                                   'rmean', 'bmean', 'gstd', 'rstd', 'bstd', \n",
    "                                   'gq25', 'gq75', 'rq25', 'rq75', 'bq25', \n",
    "                                   'bq75', 'cdmean', 'cdstd', 'area', 'aspect_ratio_wh_s', \n",
    "                                   'extent_s', 'solidity', 'aspect_ratio_wh', 'extent', \n",
    "                                   'orien_rre', 'orien_ell', 'ed', 'ratio_ell', 'perimeter', 'bottomm',\n",
    "                                   'topm', 'leftm', 'rightm'])"
   ]
  },
  {
   "cell_type": "code",
   "execution_count": 31,
   "id": "635f9d41-5080-4384-a7d2-1ac52a82ee00",
   "metadata": {
    "execution": {
     "iopub.execute_input": "2024-03-04T13:49:50.781460Z",
     "iopub.status.busy": "2024-03-04T13:49:50.781169Z",
     "iopub.status.idle": "2024-03-04T13:49:51.906871Z",
     "shell.execute_reply": "2024-03-04T13:49:51.906355Z",
     "shell.execute_reply.started": "2024-03-04T13:49:50.781437Z"
    }
   },
   "outputs": [],
   "source": [
    "dfa_eipl.to_csv('/home/yelhe/script/mt/output/pred_accident_label_ground7.csv', index = False)\n",
    "dfp_eipl.to_csv('/home/yelhe/script/mt/output/pred_pseudo_label_ground7.csv', index = False)"
   ]
  },
  {
   "cell_type": "markdown",
   "id": "bd101943-4c83-4964-83ed-d039aa3d32af",
   "metadata": {
    "execution": {
     "iopub.execute_input": "2024-02-28T16:28:24.177559Z",
     "iopub.status.busy": "2024-02-28T16:28:24.176598Z",
     "iopub.status.idle": "2024-02-28T16:28:24.183912Z",
     "shell.execute_reply": "2024-02-28T16:28:24.182186Z",
     "shell.execute_reply.started": "2024-02-28T16:28:24.177507Z"
    }
   },
   "source": [
    "#### Entropy calculation"
   ]
  },
  {
   "cell_type": "markdown",
   "id": "b57658a3-7708-46bc-8a57-9c8a56f0bc7d",
   "metadata": {},
   "source": [
    "##### For the whole scene"
   ]
  },
  {
   "cell_type": "code",
   "execution_count": 32,
   "id": "f79cca9f-0f22-4d9d-b100-eeb0e70a644b",
   "metadata": {
    "execution": {
     "iopub.execute_input": "2024-03-04T13:49:51.907861Z",
     "iopub.status.busy": "2024-03-04T13:49:51.907607Z",
     "iopub.status.idle": "2024-03-04T13:49:51.911763Z",
     "shell.execute_reply": "2024-03-04T13:49:51.911224Z",
     "shell.execute_reply.started": "2024-03-04T13:49:51.907843Z"
    }
   },
   "outputs": [
    {
     "data": {
      "text/plain": [
       "Index(['mask', 'gmedian', 'rmedian', 'bmedian', 'gmean', 'rmean', 'bmean',\n",
       "       'gstd', 'rstd', 'bstd', 'gq25', 'gq75', 'rq25', 'rq75', 'bq25', 'bq75',\n",
       "       'cdmean', 'cdstd', 'isconvex', 'area', 'aspect_ratio_wh_s', 'extent_s',\n",
       "       'solidity', 'aspect_ratio_wh', 'extent', 'orien_rre', 'orien_ell', 'ed',\n",
       "       'ratio_ell', 'perimeter', 'is_cen_inside', 'is_mce_inside', 'leftm',\n",
       "       'rightm', 'topm', 'bottomm', 'Nr', 'p'],\n",
       "      dtype='object')"
      ]
     },
     "execution_count": 32,
     "metadata": {},
     "output_type": "execute_result"
    }
   ],
   "source": [
    "# Using dfa_epl & dfp_epl\n",
    "dfa_epl.columns"
   ]
  },
  {
   "cell_type": "code",
   "execution_count": 33,
   "id": "84028565-c622-48a6-89e9-ad4093c2b432",
   "metadata": {
    "execution": {
     "iopub.execute_input": "2024-03-04T13:49:51.912872Z",
     "iopub.status.busy": "2024-03-04T13:49:51.912429Z",
     "iopub.status.idle": "2024-03-04T13:49:51.941862Z",
     "shell.execute_reply": "2024-03-04T13:49:51.941281Z",
     "shell.execute_reply.started": "2024-03-04T13:49:51.912855Z"
    }
   },
   "outputs": [
    {
     "data": {
      "text/html": [
       "<div>\n",
       "<style scoped>\n",
       "    .dataframe tbody tr th:only-of-type {\n",
       "        vertical-align: middle;\n",
       "    }\n",
       "\n",
       "    .dataframe tbody tr th {\n",
       "        vertical-align: top;\n",
       "    }\n",
       "\n",
       "    .dataframe thead th {\n",
       "        text-align: right;\n",
       "    }\n",
       "</style>\n",
       "<table border=\"1\" class=\"dataframe\">\n",
       "  <thead>\n",
       "    <tr style=\"text-align: right;\">\n",
       "      <th></th>\n",
       "      <th>mask</th>\n",
       "      <th>gmedian</th>\n",
       "      <th>rmedian</th>\n",
       "      <th>bmedian</th>\n",
       "      <th>gmean</th>\n",
       "      <th>rmean</th>\n",
       "      <th>bmean</th>\n",
       "      <th>gstd</th>\n",
       "      <th>rstd</th>\n",
       "      <th>bstd</th>\n",
       "      <th>...</th>\n",
       "      <th>ratio_ell</th>\n",
       "      <th>perimeter</th>\n",
       "      <th>is_cen_inside</th>\n",
       "      <th>is_mce_inside</th>\n",
       "      <th>leftm</th>\n",
       "      <th>rightm</th>\n",
       "      <th>topm</th>\n",
       "      <th>bottomm</th>\n",
       "      <th>Nr</th>\n",
       "      <th>p</th>\n",
       "    </tr>\n",
       "  </thead>\n",
       "  <tbody>\n",
       "    <tr>\n",
       "      <th>0</th>\n",
       "      <td>1</td>\n",
       "      <td>244.0</td>\n",
       "      <td>248.0</td>\n",
       "      <td>237.0</td>\n",
       "      <td>240.730656</td>\n",
       "      <td>245.506949</td>\n",
       "      <td>232.780832</td>\n",
       "      <td>12.440094</td>\n",
       "      <td>8.665818</td>\n",
       "      <td>17.859522</td>\n",
       "      <td>...</td>\n",
       "      <td>2.712297</td>\n",
       "      <td>2958.881371</td>\n",
       "      <td>1.0</td>\n",
       "      <td>1.0</td>\n",
       "      <td>0</td>\n",
       "      <td>639</td>\n",
       "      <td>0</td>\n",
       "      <td>297</td>\n",
       "      <td>999000608525971</td>\n",
       "      <td>5</td>\n",
       "    </tr>\n",
       "    <tr>\n",
       "      <th>1</th>\n",
       "      <td>2</td>\n",
       "      <td>121.0</td>\n",
       "      <td>118.0</td>\n",
       "      <td>119.0</td>\n",
       "      <td>125.207882</td>\n",
       "      <td>121.692088</td>\n",
       "      <td>123.851176</td>\n",
       "      <td>28.212500</td>\n",
       "      <td>28.467390</td>\n",
       "      <td>27.957547</td>\n",
       "      <td>...</td>\n",
       "      <td>2.441359</td>\n",
       "      <td>1026.933108</td>\n",
       "      <td>1.0</td>\n",
       "      <td>1.0</td>\n",
       "      <td>288</td>\n",
       "      <td>604</td>\n",
       "      <td>367</td>\n",
       "      <td>534</td>\n",
       "      <td>999000608525971</td>\n",
       "      <td>2</td>\n",
       "    </tr>\n",
       "    <tr>\n",
       "      <th>2</th>\n",
       "      <td>3</td>\n",
       "      <td>244.0</td>\n",
       "      <td>248.0</td>\n",
       "      <td>237.0</td>\n",
       "      <td>240.717879</td>\n",
       "      <td>245.472134</td>\n",
       "      <td>232.790564</td>\n",
       "      <td>12.579833</td>\n",
       "      <td>8.892382</td>\n",
       "      <td>17.936509</td>\n",
       "      <td>...</td>\n",
       "      <td>2.835151</td>\n",
       "      <td>2765.910810</td>\n",
       "      <td>1.0</td>\n",
       "      <td>1.0</td>\n",
       "      <td>0</td>\n",
       "      <td>639</td>\n",
       "      <td>0</td>\n",
       "      <td>298</td>\n",
       "      <td>999000608525971</td>\n",
       "      <td>5</td>\n",
       "    </tr>\n",
       "    <tr>\n",
       "      <th>3</th>\n",
       "      <td>4</td>\n",
       "      <td>102.0</td>\n",
       "      <td>55.0</td>\n",
       "      <td>84.0</td>\n",
       "      <td>115.255602</td>\n",
       "      <td>74.179253</td>\n",
       "      <td>98.845643</td>\n",
       "      <td>46.973404</td>\n",
       "      <td>55.987560</td>\n",
       "      <td>49.051072</td>\n",
       "      <td>...</td>\n",
       "      <td>1.540817</td>\n",
       "      <td>139.982755</td>\n",
       "      <td>1.0</td>\n",
       "      <td>1.0</td>\n",
       "      <td>246</td>\n",
       "      <td>278</td>\n",
       "      <td>270</td>\n",
       "      <td>318</td>\n",
       "      <td>999000608525971</td>\n",
       "      <td>6</td>\n",
       "    </tr>\n",
       "    <tr>\n",
       "      <th>4</th>\n",
       "      <td>5</td>\n",
       "      <td>115.0</td>\n",
       "      <td>117.0</td>\n",
       "      <td>111.0</td>\n",
       "      <td>113.090287</td>\n",
       "      <td>114.524478</td>\n",
       "      <td>109.461159</td>\n",
       "      <td>17.588751</td>\n",
       "      <td>17.982858</td>\n",
       "      <td>16.838046</td>\n",
       "      <td>...</td>\n",
       "      <td>2.304478</td>\n",
       "      <td>990.340181</td>\n",
       "      <td>1.0</td>\n",
       "      <td>-1.0</td>\n",
       "      <td>410</td>\n",
       "      <td>639</td>\n",
       "      <td>326</td>\n",
       "      <td>507</td>\n",
       "      <td>999000608525971</td>\n",
       "      <td>2</td>\n",
       "    </tr>\n",
       "  </tbody>\n",
       "</table>\n",
       "<p>5 rows × 38 columns</p>\n",
       "</div>"
      ],
      "text/plain": [
       "   mask  gmedian  rmedian  bmedian       gmean       rmean       bmean  \\\n",
       "0     1    244.0    248.0    237.0  240.730656  245.506949  232.780832   \n",
       "1     2    121.0    118.0    119.0  125.207882  121.692088  123.851176   \n",
       "2     3    244.0    248.0    237.0  240.717879  245.472134  232.790564   \n",
       "3     4    102.0     55.0     84.0  115.255602   74.179253   98.845643   \n",
       "4     5    115.0    117.0    111.0  113.090287  114.524478  109.461159   \n",
       "\n",
       "        gstd       rstd       bstd  ...  ratio_ell    perimeter  \\\n",
       "0  12.440094   8.665818  17.859522  ...   2.712297  2958.881371   \n",
       "1  28.212500  28.467390  27.957547  ...   2.441359  1026.933108   \n",
       "2  12.579833   8.892382  17.936509  ...   2.835151  2765.910810   \n",
       "3  46.973404  55.987560  49.051072  ...   1.540817   139.982755   \n",
       "4  17.588751  17.982858  16.838046  ...   2.304478   990.340181   \n",
       "\n",
       "   is_cen_inside  is_mce_inside  leftm  rightm  topm  bottomm  \\\n",
       "0            1.0            1.0      0     639     0      297   \n",
       "1            1.0            1.0    288     604   367      534   \n",
       "2            1.0            1.0      0     639     0      298   \n",
       "3            1.0            1.0    246     278   270      318   \n",
       "4            1.0           -1.0    410     639   326      507   \n",
       "\n",
       "                Nr  p  \n",
       "0  999000608525971  5  \n",
       "1  999000608525971  2  \n",
       "2  999000608525971  5  \n",
       "3  999000608525971  6  \n",
       "4  999000608525971  2  \n",
       "\n",
       "[5 rows x 38 columns]"
      ]
     },
     "execution_count": 33,
     "metadata": {},
     "output_type": "execute_result"
    }
   ],
   "source": [
    "dfa_epl.head()"
   ]
  },
  {
   "cell_type": "code",
   "execution_count": 34,
   "id": "e09a015e-1c15-4772-a590-0d498f32a683",
   "metadata": {
    "execution": {
     "iopub.execute_input": "2024-03-04T13:49:51.943110Z",
     "iopub.status.busy": "2024-03-04T13:49:51.942586Z",
     "iopub.status.idle": "2024-03-04T13:49:51.947876Z",
     "shell.execute_reply": "2024-03-04T13:49:51.947331Z",
     "shell.execute_reply.started": "2024-03-04T13:49:51.943089Z"
    }
   },
   "outputs": [],
   "source": [
    "# Accident whole scene entropy\n",
    "awe = dfa_epl[['Nr', 'p']]\n",
    "pwe = dfp_epl[['Nr', 'p']]"
   ]
  },
  {
   "cell_type": "code",
   "execution_count": 40,
   "id": "7b884d9f-b02a-4161-aef8-d6ab9ad3166d",
   "metadata": {
    "execution": {
     "iopub.execute_input": "2024-03-04T13:51:42.876678Z",
     "iopub.status.busy": "2024-03-04T13:51:42.876380Z",
     "iopub.status.idle": "2024-03-04T13:51:43.053909Z",
     "shell.execute_reply": "2024-03-04T13:51:43.053280Z",
     "shell.execute_reply.started": "2024-03-04T13:51:42.876658Z"
    }
   },
   "outputs": [],
   "source": [
    "awe.loc[:,'Nr'] = awe.loc[:,'Nr'].values.astype(str)\n",
    "awe.loc[:,'id'] = awe.Nr.str[-15:-1]\n",
    "awe.loc[:,'dir'] = awe.Nr.str[-1]\n",
    "\n",
    "pwe.loc[:,'Nr'] = pwe.loc[:,'Nr'].values.astype(str)\n",
    "pwe.loc[:,'Nr'] = pwe.loc[:,'Nr'].str.zfill(5)\n",
    "pwe.loc[:,'id'] = pwe.Nr.str[-5:-1]\n",
    "pwe.loc[:,'dir'] = pwe.Nr.str[-1]"
   ]
  },
  {
   "cell_type": "code",
   "execution_count": 41,
   "id": "cd1b4e89-806c-49fd-a964-99f165ff3aa4",
   "metadata": {
    "execution": {
     "iopub.execute_input": "2024-03-04T13:51:44.749903Z",
     "iopub.status.busy": "2024-03-04T13:51:44.749573Z",
     "iopub.status.idle": "2024-03-04T13:51:44.792690Z",
     "shell.execute_reply": "2024-03-04T13:51:44.791989Z",
     "shell.execute_reply.started": "2024-03-04T13:51:44.749882Z"
    }
   },
   "outputs": [],
   "source": [
    "# Predicted curb in accident points summary\n",
    "awes = awe.groupby(['id', 'dir', 'p']).size().reset_index().rename(columns={0:'count'})\n",
    "# Predicted curb in pseudo points summary\n",
    "pwes = pwe.groupby(['id', 'dir','p']).size().reset_index().rename(columns={0:'count'})"
   ]
  },
  {
   "cell_type": "code",
   "execution_count": 37,
   "id": "9baf2903-8d40-45da-8738-673ab9bb12c1",
   "metadata": {
    "execution": {
     "iopub.execute_input": "2024-03-04T13:49:52.251971Z",
     "iopub.status.busy": "2024-03-04T13:49:52.251747Z",
     "iopub.status.idle": "2024-03-04T13:49:52.254507Z",
     "shell.execute_reply": "2024-03-04T13:49:52.254019Z",
     "shell.execute_reply.started": "2024-03-04T13:49:52.251954Z"
    }
   },
   "outputs": [],
   "source": [
    "# awes.to_csv('/home/yelhe/script/mt/output/accident_predmaskgroup_count.csv', index = False)\n",
    "# pwes.to_csv('/home/yelhe/script/mt/output/pseudo_predmaskgroup_count.csv', index = False)"
   ]
  },
  {
   "cell_type": "code",
   "execution_count": 147,
   "id": "82a2d96d-d159-49ac-9fbf-478929e81610",
   "metadata": {
    "execution": {
     "iopub.execute_input": "2024-03-04T15:55:21.911744Z",
     "iopub.status.busy": "2024-03-04T15:55:21.911218Z",
     "iopub.status.idle": "2024-03-04T15:55:21.915751Z",
     "shell.execute_reply": "2024-03-04T15:55:21.915225Z",
     "shell.execute_reply.started": "2024-03-04T15:55:21.911716Z"
    }
   },
   "outputs": [
    {
     "data": {
      "text/plain": [
       "array([0, 2, 4, 5, 6, 3, 1])"
      ]
     },
     "execution_count": 147,
     "metadata": {},
     "output_type": "execute_result"
    }
   ],
   "source": [
    "awes['p'].unique()"
   ]
  },
  {
   "cell_type": "code",
   "execution_count": null,
   "id": "6dd1e715-1fe9-45e9-bac2-78923ada9d5b",
   "metadata": {},
   "outputs": [],
   "source": [
    "# For each location, each direction, the image have an entropy \n",
    "# 1. entropy based on the histogram of pixels\n",
    "# 2. entropy based on the recognized masks, of 7 mask groups\n",
    "\n",
    "## Here are the entropy based on the recognized masks "
   ]
  },
  {
   "cell_type": "code",
   "execution_count": 43,
   "id": "afa832bf-4e28-4aa5-a7b2-aca929741fd5",
   "metadata": {
    "execution": {
     "iopub.execute_input": "2024-03-04T13:57:52.397585Z",
     "iopub.status.busy": "2024-03-04T13:57:52.397285Z",
     "iopub.status.idle": "2024-03-04T13:57:52.400465Z",
     "shell.execute_reply": "2024-03-04T13:57:52.399802Z",
     "shell.execute_reply.started": "2024-03-04T13:57:52.397567Z"
    }
   },
   "outputs": [],
   "source": [
    "from scipy.stats import entropy"
   ]
  },
  {
   "cell_type": "code",
   "execution_count": 75,
   "id": "b486c18a-f6b5-4e49-924b-f58c3bde4387",
   "metadata": {
    "execution": {
     "iopub.execute_input": "2024-03-04T14:25:59.773226Z",
     "iopub.status.busy": "2024-03-04T14:25:59.772941Z",
     "iopub.status.idle": "2024-03-04T14:25:59.781106Z",
     "shell.execute_reply": "2024-03-04T14:25:59.780595Z",
     "shell.execute_reply.started": "2024-03-04T14:25:59.773208Z"
    }
   },
   "outputs": [],
   "source": [
    "totala = awes.groupby(['id','dir']).sum().reset_index().rename(columns = {'count':'sum'})\n",
    "totala = totala.drop(['p'], axis = 1)"
   ]
  },
  {
   "cell_type": "code",
   "execution_count": 76,
   "id": "ecc16190-5ee2-4f5d-8efe-fa12f2711776",
   "metadata": {
    "execution": {
     "iopub.execute_input": "2024-03-04T14:26:01.887124Z",
     "iopub.status.busy": "2024-03-04T14:26:01.886835Z",
     "iopub.status.idle": "2024-03-04T14:26:01.891083Z",
     "shell.execute_reply": "2024-03-04T14:26:01.890501Z",
     "shell.execute_reply.started": "2024-03-04T14:26:01.887106Z"
    }
   },
   "outputs": [
    {
     "data": {
      "text/plain": [
       "Index(['id', 'dir', 'sum'], dtype='object')"
      ]
     },
     "execution_count": 76,
     "metadata": {},
     "output_type": "execute_result"
    }
   ],
   "source": [
    "totala.columns"
   ]
  },
  {
   "cell_type": "code",
   "execution_count": 129,
   "id": "ad758301-65e9-493d-9945-14f378710304",
   "metadata": {
    "execution": {
     "iopub.execute_input": "2024-03-04T15:36:12.651335Z",
     "iopub.status.busy": "2024-03-04T15:36:12.651001Z",
     "iopub.status.idle": "2024-03-04T15:36:12.659302Z",
     "shell.execute_reply": "2024-03-04T15:36:12.658482Z",
     "shell.execute_reply.started": "2024-03-04T15:36:12.651313Z"
    }
   },
   "outputs": [],
   "source": [
    "dfa = pd.merge(awes, totala, on = ['id', 'dir'])"
   ]
  },
  {
   "cell_type": "code",
   "execution_count": 130,
   "id": "2cda75a8-80a5-4e89-a44a-e85dc89b40d4",
   "metadata": {
    "execution": {
     "iopub.execute_input": "2024-03-04T15:36:13.429201Z",
     "iopub.status.busy": "2024-03-04T15:36:13.428698Z",
     "iopub.status.idle": "2024-03-04T15:36:13.432685Z",
     "shell.execute_reply": "2024-03-04T15:36:13.432183Z",
     "shell.execute_reply.started": "2024-03-04T15:36:13.429178Z"
    }
   },
   "outputs": [],
   "source": [
    "dfa['percentage'] = dfa['count']/dfa['sum']"
   ]
  },
  {
   "cell_type": "code",
   "execution_count": 131,
   "id": "06ca2844-6261-4693-b9b6-5a5862d9dce6",
   "metadata": {
    "execution": {
     "iopub.execute_input": "2024-03-04T15:36:13.781833Z",
     "iopub.status.busy": "2024-03-04T15:36:13.781386Z",
     "iopub.status.idle": "2024-03-04T15:36:13.789868Z",
     "shell.execute_reply": "2024-03-04T15:36:13.789328Z",
     "shell.execute_reply.started": "2024-03-04T15:36:13.781812Z"
    }
   },
   "outputs": [
    {
     "name": "stdout",
     "output_type": "stream",
     "text": [
      "<class 'pandas.core.frame.DataFrame'>\n",
      "RangeIndex: 6538 entries, 0 to 6537\n",
      "Data columns (total 6 columns):\n",
      " #   Column      Non-Null Count  Dtype  \n",
      "---  ------      --------------  -----  \n",
      " 0   id          6538 non-null   object \n",
      " 1   dir         6538 non-null   object \n",
      " 2   p           6538 non-null   int64  \n",
      " 3   count       6538 non-null   int64  \n",
      " 4   sum         6538 non-null   int64  \n",
      " 5   percentage  6538 non-null   float64\n",
      "dtypes: float64(1), int64(3), object(2)\n",
      "memory usage: 306.6+ KB\n"
     ]
    }
   ],
   "source": [
    "dfa.info()"
   ]
  },
  {
   "cell_type": "code",
   "execution_count": 132,
   "id": "4d72659b-3249-4053-808d-e777a3171d83",
   "metadata": {
    "execution": {
     "iopub.execute_input": "2024-03-04T15:36:15.965440Z",
     "iopub.status.busy": "2024-03-04T15:36:15.965154Z",
     "iopub.status.idle": "2024-03-04T15:36:15.969783Z",
     "shell.execute_reply": "2024-03-04T15:36:15.969145Z",
     "shell.execute_reply.started": "2024-03-04T15:36:15.965421Z"
    }
   },
   "outputs": [],
   "source": [
    "dfa['id_dir'] = dfa['id'] + dfa['dir']"
   ]
  },
  {
   "cell_type": "code",
   "execution_count": 133,
   "id": "8dad8931-7e90-43f6-8287-7331a40d7c50",
   "metadata": {
    "execution": {
     "iopub.execute_input": "2024-03-04T15:36:16.520926Z",
     "iopub.status.busy": "2024-03-04T15:36:16.520413Z",
     "iopub.status.idle": "2024-03-04T15:36:16.677440Z",
     "shell.execute_reply": "2024-03-04T15:36:16.676726Z",
     "shell.execute_reply.started": "2024-03-04T15:36:16.520902Z"
    }
   },
   "outputs": [
    {
     "name": "stdout",
     "output_type": "stream",
     "text": [
      "{'999000449638401': array([0.05769231, 0.03846154, 0.71153846, 0.03846154, 0.15384615]), '999000449638402': array([0.09090909, 0.06060606, 0.04545455, 0.68181818, 0.01515152,\n",
      "       0.10606061]), '999000449638403': array([0.04347826, 0.06521739, 0.02173913, 0.76086957, 0.04347826,\n",
      "       0.06521739]), '999000449638404': array([0.15254237, 0.03389831, 0.71186441, 0.03389831, 0.06779661]), '999000455107561': array([0.22222222, 0.40740741, 0.33333333, 0.03703704]), '999000455107562': array([0.28947368, 0.15789474, 0.44736842, 0.02631579, 0.07894737]), '999000455107563': array([0.14285714, 0.07142857, 0.69047619, 0.07142857, 0.02380952]), '999000455107564': array([0.16666667, 0.16666667, 0.04166667, 0.54166667, 0.02083333,\n",
      "       0.0625    ]), '999000455112041': array([0.22222222, 0.02777778, 0.25      , 0.02777778, 0.38888889,\n",
      "       0.08333333]), '999000455112042': array([0.26086957, 0.08695652, 0.04347826, 0.47826087, 0.10869565,\n",
      "       0.02173913]), '999000455112043': array([0.13333333, 0.18333333, 0.03333333, 0.6       , 0.03333333,\n",
      "       0.01666667]), '999000455112044': array([0.23255814, 0.1627907 , 0.02325581, 0.53488372, 0.04651163]), '999000457295531': array([0.0754717 , 0.01886792, 0.73584906, 0.01886792, 0.1509434 ]), '999000457295532': array([0.13953488, 0.11627907, 0.55813953, 0.04651163, 0.13953488]), '999000457295533': array([0.14814815, 0.25925926, 0.03703704, 0.51851852, 0.03703704]), '999000457295534': array([0.125     , 0.02083333, 0.02083333, 0.75      , 0.04166667,\n",
      "       0.04166667]), '999000459928231': array([0.14285714, 0.14285714, 0.11428571, 0.51428571, 0.02857143,\n",
      "       0.05714286]), '999000459928232': array([0.20512821, 0.15384615, 0.61538462, 0.02564103]), '999000459928233': array([0.225, 0.15 , 0.05 , 0.425, 0.075, 0.075]), '999000459928234': array([0.09090909, 0.11363636, 0.04545455, 0.63636364, 0.06818182,\n",
      "       0.04545455]), '999000461029471': array([0.14, 0.16, 0.02, 0.54, 0.02, 0.12]), '999000461029472': array([0.08823529, 0.08823529, 0.01470588, 0.66176471, 0.01470588,\n",
      "       0.13235294]), '999000461029473': array([0.02521008, 0.00840336, 0.05882353, 0.84033613, 0.01680672,\n",
      "       0.05042017]), '999000461029474': array([0.03703704, 0.02469136, 0.07407407, 0.75308642, 0.04938272,\n",
      "       0.0617284 ]), '999000461344231': array([0.04347826, 0.2173913 , 0.04347826, 0.5       , 0.02173913,\n",
      "       0.17391304]), '999000461344232': array([0.09302326, 0.04651163, 0.04651163, 0.69767442, 0.02325581,\n",
      "       0.09302326]), '999000461344233': array([0.0625    , 0.1875    , 0.08333333, 0.45833333, 0.0625    ,\n",
      "       0.14583333]), '999000461344234': array([0.04761905, 0.01587302, 0.17460317, 0.04761905, 0.33333333,\n",
      "       0.03174603, 0.34920635]), '999000462132901': array([0.09302326, 0.30232558, 0.34883721, 0.06976744, 0.18604651]), '999000462132902': array([0.06122449, 0.02040816, 0.16326531, 0.3877551 , 0.04081633,\n",
      "       0.32653061]), '999000462132903': array([0.02173913, 0.2173913 , 0.02173913, 0.39130435, 0.04347826,\n",
      "       0.30434783]), '999000462132904': array([0.18604651, 0.20930233, 0.37209302, 0.11627907, 0.11627907]), '999000463079081': array([0.12244898, 0.14285714, 0.02040816, 0.51020408, 0.20408163]), '999000463079082': array([0.02857143, 0.28571429, 0.05714286, 0.48571429, 0.02857143,\n",
      "       0.11428571]), '999000463079083': array([0.10714286, 0.32142857, 0.35714286, 0.21428571]), '999000463079084': array([0.2195122 , 0.17073171, 0.31707317, 0.04878049, 0.24390244]), '999000463673551': array([0.14814815, 0.14814815, 0.02469136, 0.64197531, 0.01234568,\n",
      "       0.02469136]), '999000463673552': array([0.22727273, 0.38636364, 0.04545455, 0.27272727, 0.02272727,\n",
      "       0.04545455]), '999000463673553': array([0.23076923, 0.05128205, 0.20512821, 0.07692308, 0.35897436,\n",
      "       0.02564103, 0.05128205]), '999000463673554': array([0.16666667, 0.30952381, 0.07142857, 0.38095238, 0.02380952,\n",
      "       0.04761905]), '999000464522041': array([0.04545455, 0.36363636, 0.02272727, 0.5       , 0.06818182]), '999000464522042': array([0.16, 0.16, 0.56, 0.12]), '999000464522043': array([0.22222222, 0.16666667, 0.52777778, 0.05555556, 0.02777778]), '999000464522044': array([0.03448276, 0.22413793, 0.0862069 , 0.51724138, 0.0862069 ,\n",
      "       0.05172414]), '999000464776051': array([0.0952381 , 0.14285714, 0.02380952, 0.61904762, 0.07142857,\n",
      "       0.04761905]), '999000464776052': array([0.23404255, 0.0212766 , 0.21276596, 0.04255319, 0.40425532,\n",
      "       0.0212766 , 0.06382979]), '999000464776053': array([0.12121212, 0.09090909, 0.21212121, 0.48484848, 0.03030303,\n",
      "       0.06060606]), '999000464776054': array([0.125  , 0.0625 , 0.71875, 0.03125, 0.0625 ]), '999000464779451': array([0.08928571, 0.03571429, 0.05357143, 0.01785714, 0.69642857,\n",
      "       0.03571429, 0.07142857]), '999000464779452': array([0.14285714, 0.24489796, 0.51020408, 0.06122449, 0.04081633]), '999000464779453': array([0.05263158, 0.1754386 , 0.03508772, 0.63157895, 0.01754386,\n",
      "       0.0877193 ]), '999000464779454': array([0.11320755, 0.01886792, 0.20754717, 0.01886792, 0.43396226,\n",
      "       0.01886792, 0.18867925]), '999000464838121': array([0.06666667, 0.13333333, 0.02222222, 0.53333333, 0.06666667,\n",
      "       0.17777778]), '999000464838122': array([0.09459459, 0.12162162, 0.64864865, 0.02702703, 0.10810811]), '999000464838123': array([0.07142857, 0.17857143, 0.64285714, 0.03571429, 0.07142857]), '999000464838124': array([0.13636364, 0.72727273, 0.04545455, 0.09090909]), '999000464845311': array([0.11111111, 0.28888889, 0.02222222, 0.28888889, 0.04444444,\n",
      "       0.24444444]), '999000464845312': array([0.16666667, 0.26190476, 0.04761905, 0.33333333, 0.04761905,\n",
      "       0.14285714]), '999000464845313': array([0.17948718, 0.41025641, 0.20512821, 0.02564103, 0.17948718]), '999000464845314': array([0.05660377, 0.01886792, 0.28301887, 0.26415094, 0.01886792,\n",
      "       0.35849057]), '999000464944111': array([0.10526316, 0.12280702, 0.01754386, 0.54385965, 0.05263158,\n",
      "       0.15789474]), '999000464944112': array([0.15254237, 0.01694915, 0.10169492, 0.57627119, 0.08474576,\n",
      "       0.06779661]), '999000464944113': array([0.22916667, 0.02083333, 0.14583333, 0.02083333, 0.5625    ,\n",
      "       0.02083333]), '999000464944114': array([0.15217391, 0.17391304, 0.02173913, 0.54347826, 0.02173913,\n",
      "       0.08695652]), '999000465410311': array([0.03773585, 0.33962264, 0.0754717 , 0.33962264, 0.01886792,\n",
      "       0.18867925]), '999000465410312': array([0.08928571, 0.01785714, 0.26785714, 0.10714286, 0.375     ,\n",
      "       0.03571429, 0.10714286]), '999000465410313': array([0.02083333, 0.35416667, 0.0625    , 0.39583333, 0.04166667,\n",
      "       0.125     ]), '999000465410314': array([0.32432432, 0.16216216, 0.2972973 , 0.05405405, 0.16216216]), '999000466623001': array([0.11111111, 0.01851852, 0.09259259, 0.11111111, 0.57407407,\n",
      "       0.01851852, 0.07407407]), '999000466623002': array([0.05263158, 0.01754386, 0.01754386, 0.84210526, 0.01754386,\n",
      "       0.05263158]), '999000466623003': array([0.1509434 , 0.05660377, 0.09433962, 0.58490566, 0.01886792,\n",
      "       0.09433962]), '999000466623004': array([0.12903226, 0.19354839, 0.32258065, 0.29032258, 0.03225806,\n",
      "       0.03225806]), '999000466624571': array([0.11764706, 0.21568627, 0.05882353, 0.56862745, 0.01960784,\n",
      "       0.01960784]), '999000466624572': array([0.11764706, 0.19607843, 0.01960784, 0.58823529, 0.01960784,\n",
      "       0.05882353]), '999000466624573': array([0.13157895, 0.10526316, 0.02631579, 0.68421053, 0.05263158]), '999000466624574': array([0.14285714, 0.14285714, 0.64285714, 0.03571429, 0.03571429]), '999000467008161': array([0.04166667, 0.58333333, 0.04166667, 0.33333333]), '999000467008162': array([0.05714286, 0.02857143, 0.02857143, 0.4       , 0.05714286,\n",
      "       0.42857143]), '999000467008163': array([0.1       , 0.1       , 0.23333333, 0.06666667, 0.5       ]), '999000467008164': array([0.05882353, 0.32352941, 0.02941176, 0.58823529]), '999000468356361': array([0.04166667, 0.10416667, 0.02083333, 0.66666667, 0.16666667]), '999000468356362': array([0.2244898 , 0.10204082, 0.46938776, 0.02040816, 0.18367347]), '999000468356363': array([0.15686275, 0.05882353, 0.66666667, 0.01960784, 0.09803922]), '999000468356364': array([0.12, 0.72, 0.16]), '999000469801251': array([0.03125, 0.21875, 0.03125, 0.5    , 0.0625 , 0.15625]), '999000469801252': array([0.06976744, 0.25581395, 0.02325581, 0.41860465, 0.06976744,\n",
      "       0.1627907 ]), '999000469801253': array([0.1025641 , 0.17948718, 0.02564103, 0.58974359, 0.02564103,\n",
      "       0.07692308]), '999000469801254': array([0.06976744, 0.20930233, 0.48837209, 0.02325581, 0.20930233]), '999000471051911': array([0.06666667, 0.2       , 0.06666667, 0.51111111, 0.02222222,\n",
      "       0.13333333]), '999000471051912': array([0.02222222, 0.17777778, 0.71111111, 0.06666667, 0.02222222]), '999000471051913': array([0.02777778, 0.02777778, 0.38888889, 0.41666667, 0.05555556,\n",
      "       0.08333333]), '999000471051914': array([0.06382979, 0.0212766 , 0.21276596, 0.04255319, 0.40425532,\n",
      "       0.0212766 , 0.23404255]), '999000473320471': array([0.01886792, 0.05660377, 0.26415094, 0.01886792, 0.49056604,\n",
      "       0.05660377, 0.09433962]), '999000473320472': array([0.02325581, 0.04651163, 0.27906977, 0.04651163, 0.3255814 ,\n",
      "       0.02325581, 0.25581395]), '999000473320473': array([0.07042254, 0.04225352, 0.04225352, 0.64788732, 0.01408451,\n",
      "       0.18309859]), '999000473320474': array([0.07142857, 0.01785714, 0.19642857, 0.01785714, 0.46428571,\n",
      "       0.03571429, 0.19642857]), '999000473522501': array([0.14285714, 0.16326531, 0.04081633, 0.57142857, 0.02040816,\n",
      "       0.06122449]), '999000473522502': array([0.09090909, 0.03030303, 0.01515152, 0.81818182, 0.01515152,\n",
      "       0.03030303]), '999000473522503': array([0.08333333, 0.06666667, 0.01666667, 0.81666667, 0.01666667]), '999000473522504': array([0.16981132, 0.22641509, 0.03773585, 0.45283019, 0.05660377,\n",
      "       0.05660377]), '999000473914801': array([0.12820513, 0.15384615, 0.33333333, 0.05128205, 0.33333333]), '999000473914802': array([0.12727273, 0.23636364, 0.32727273, 0.03636364, 0.27272727]), '999000473914803': array([0.14285714, 0.14285714, 0.05714286, 0.45714286, 0.02857143,\n",
      "       0.17142857]), '999000473914804': array([0.05405405, 0.05405405, 0.16216216, 0.02702703, 0.43243243,\n",
      "       0.05405405, 0.21621622]), '999000474367821': array([0.2244898 , 0.14285714, 0.51020408, 0.02040816, 0.10204082]), '999000474367822': array([0.07692308, 0.21153846, 0.01923077, 0.57692308, 0.05769231,\n",
      "       0.05769231]), '999000474367823': array([0.0952381 , 0.14285714, 0.0952381 , 0.52380952, 0.02380952,\n",
      "       0.11904762]), '999000474367824': array([0.15384615, 0.01923077, 0.17307692, 0.03846154, 0.57692308,\n",
      "       0.01923077, 0.01923077]), '999000475795221': array([0.08196721, 0.01639344, 0.08196721, 0.01639344, 0.62295082,\n",
      "       0.03278689, 0.14754098]), '999000475795222': array([0.1 , 0.02, 0.16, 0.04, 0.42, 0.02, 0.24]), '999000475795223': array([0.06451613, 0.03225806, 0.16129032, 0.03225806, 0.4516129 ,\n",
      "       0.03225806, 0.22580645]), '999000475795224': array([0.13207547, 0.11320755, 0.03773585, 0.45283019, 0.03773585,\n",
      "       0.22641509]), '999000476166481': array([0.0625    , 0.14583333, 0.02083333, 0.6875    , 0.08333333]), '999000476166482': array([0.02, 0.12, 0.12, 0.52, 0.02, 0.2 ]), '999000476166483': array([0.05 , 0.175, 0.05 , 0.5  , 0.225]), '999000476166484': array([0.01666667, 0.1       , 0.76666667, 0.11666667]), '999000476631161': array([0.05  , 0.175 , 0.0375, 0.6625, 0.0375, 0.0375]), '999000476631162': array([0.03529412, 0.00588235, 0.15294118, 0.01176471, 0.61176471,\n",
      "       0.05294118, 0.12941176]), '999000476631163': array([0.09803922, 0.01960784, 0.19607843, 0.03921569, 0.54901961,\n",
      "       0.07843137, 0.01960784]), '999000476631164': array([0.26315789, 0.23684211, 0.05263158, 0.26315789, 0.10526316,\n",
      "       0.07894737]), '999000477014281': array([0.03125 , 0.171875, 0.078125, 0.703125, 0.015625]), '999000477014282': array([0.13333333, 0.11666667, 0.06666667, 0.55      , 0.08333333,\n",
      "       0.05      ]), '999000477014283': array([0.16666667, 0.01851852, 0.14814815, 0.01851852, 0.57407407,\n",
      "       0.05555556, 0.01851852]), '999000477014284': array([0.06557377, 0.21311475, 0.03278689, 0.68852459]), '999000477995971': array([0.16071429, 0.21428571, 0.01785714, 0.55357143, 0.01785714,\n",
      "       0.03571429]), '999000477995972': array([0.17857143, 0.01785714, 0.05357143, 0.69642857, 0.01785714,\n",
      "       0.03571429]), '999000477995973': array([0.0952381 , 0.11904762, 0.66666667, 0.02380952, 0.0952381 ]), '999000477995974': array([0.20512821, 0.02564103, 0.23076923, 0.43589744, 0.02564103,\n",
      "       0.07692308]), '999000478378651': array([0.13333333, 0.28888889, 0.02222222, 0.51111111, 0.02222222,\n",
      "       0.02222222]), '999000478378652': array([0.11111111, 0.25925926, 0.07407407, 0.53703704, 0.01851852]), '999000478378653': array([0.09259259, 0.31481481, 0.05555556, 0.48148148, 0.01851852,\n",
      "       0.03703704]), '999000478378654': array([0.2       , 0.4       , 0.02857143, 0.34285714, 0.02857143]), '999000479857511': array([0.12280702, 0.19298246, 0.56140351, 0.03508772, 0.0877193 ]), '999000479857512': array([0.20408163, 0.12244898, 0.6122449 , 0.02040816, 0.04081633]), '999000479857513': array([0.21276596, 0.0212766 , 0.08510638, 0.61702128, 0.0212766 ,\n",
      "       0.04255319]), '999000479857514': array([0.07692308, 0.00961538, 0.09615385, 0.69230769, 0.02884615,\n",
      "       0.09615385]), '999000480542571': array([0.01612903, 0.06989247, 0.02150538, 0.85483871, 0.00537634,\n",
      "       0.03225806]), '999000480542572': array([0.03355705, 0.06040268, 0.01342282, 0.87248322, 0.00671141,\n",
      "       0.01342282]), '999000480542573': array([0.05376344, 0.08064516, 0.02688172, 0.81182796, 0.01075269,\n",
      "       0.01612903]), '999000480542574': array([0.02515723, 0.06289308, 0.01257862, 0.87421384, 0.00628931,\n",
      "       0.01886792]), '999000481605161': array([0.11111111, 0.14814815, 0.05555556, 0.42592593, 0.05555556,\n",
      "       0.2037037 ]), '999000481605162': array([0.02564103, 0.02564103, 0.05128205, 0.02564103, 0.6025641 ,\n",
      "       0.01282051, 0.25641026]), '999000481605163': array([0.01694915, 0.10169492, 0.03389831, 0.45762712, 0.03389831,\n",
      "       0.3559322 ]), '999000481605164': array([0.07894737, 0.15789474, 0.05263158, 0.44736842, 0.02631579,\n",
      "       0.23684211]), '999000482553521': array([0.05970149, 0.01492537, 0.05970149, 0.01492537, 0.71641791,\n",
      "       0.01492537, 0.11940299]), '999000482553522': array([0.16071429, 0.08928571, 0.625     , 0.125     ]), '999000482553523': array([0.19148936, 0.10638298, 0.0212766 , 0.57446809, 0.04255319,\n",
      "       0.06382979]), '999000482553524': array([0.18918919, 0.08108108, 0.05405405, 0.43243243, 0.08108108,\n",
      "       0.16216216]), '999000490451501': array([0.13333333, 0.24444444, 0.02222222, 0.46666667, 0.02222222,\n",
      "       0.11111111]), '999000490451502': array([0.05882353, 0.01470588, 0.26470588, 0.01470588, 0.60294118,\n",
      "       0.01470588, 0.02941176]), '999000490451503': array([0.06153846, 0.13846154, 0.03076923, 0.66153846, 0.01538462,\n",
      "       0.09230769]), '999000490451504': array([0.125     , 0.25      , 0.05357143, 0.39285714, 0.05357143,\n",
      "       0.125     ]), '999000490607221': array([0.06756757, 0.01351351, 0.05405405, 0.7027027 , 0.01351351,\n",
      "       0.14864865]), '999000490607222': array([0.09090909, 0.01298701, 0.03896104, 0.03896104, 0.66233766,\n",
      "       0.02597403, 0.12987013]), '999000490607223': array([0.19565217, 0.17391304, 0.13043478, 0.43478261, 0.02173913,\n",
      "       0.04347826]), '999000490607224': array([0.18867925, 0.01886792, 0.13207547, 0.01886792, 0.54716981,\n",
      "       0.01886792, 0.0754717 ]), '999000492528371': array([0.09259259, 0.25925926, 0.05555556, 0.57407407, 0.01851852]), '999000492528372': array([0.18604651, 0.20930233, 0.02325581, 0.46511628, 0.02325581,\n",
      "       0.09302326]), '999000492528373': array([0.16216216, 0.10810811, 0.02702703, 0.54054054, 0.08108108,\n",
      "       0.08108108]), '999000492528374': array([0.125, 0.175, 0.05 , 0.525, 0.025, 0.1  ]), '999000493121321': array([0.08108108, 0.21621622, 0.18918919, 0.2972973 , 0.05405405,\n",
      "       0.16216216]), '999000493121322': array([0.175, 0.075, 0.35 , 0.05 , 0.35 ]), '999000493121323': array([0.2195122 , 0.43902439, 0.02439024, 0.31707317]), '999000493121324': array([0.06666667, 0.22222222, 0.08888889, 0.48888889, 0.02222222,\n",
      "       0.11111111]), '999000495072791': array([0.03333333, 0.01666667, 0.21666667, 0.01666667, 0.58333333,\n",
      "       0.01666667, 0.11666667]), '999000495072792': array([0.1372549 , 0.03921569, 0.17647059, 0.54901961, 0.01960784,\n",
      "       0.07843137]), '999000495072793': array([0.37837838, 0.02702703, 0.10810811, 0.2972973 , 0.02702703,\n",
      "       0.16216216]), '999000495072794': array([0.11111111, 0.06349206, 0.20634921, 0.52380952, 0.01587302,\n",
      "       0.07936508]), '999000495325831': array([0.18604651, 0.1627907 , 0.04651163, 0.46511628, 0.02325581,\n",
      "       0.11627907]), '999000495325832': array([0.17391304, 0.04347826, 0.10869565, 0.02173913, 0.43478261,\n",
      "       0.06521739, 0.15217391]), '999000495325833': array([0.06666667, 0.08333333, 0.51666667, 0.01666667, 0.31666667]), '999000495325834': array([0.06451613, 0.01612903, 0.17741935, 0.4516129 , 0.0483871 ,\n",
      "       0.24193548]), '999000497235931': array([0.03703704, 0.01851852, 0.18518519, 0.01851852, 0.55555556,\n",
      "       0.18518519]), '999000497235932': array([0.075, 0.125, 0.025, 0.475, 0.025, 0.275]), '999000497235933': array([0.14705882, 0.14705882, 0.5       , 0.02941176, 0.17647059]), '999000497235934': array([0.15909091, 0.22727273, 0.40909091, 0.20454545]), '999000499406721': array([0.05263158, 0.14035088, 0.66666667, 0.01754386, 0.12280702]), '999000499406722': array([0.11627907, 0.18604651, 0.60465116, 0.02325581, 0.06976744]), '999000499406723': array([0.05194805, 0.01298701, 0.15584416, 0.02597403, 0.61038961,\n",
      "       0.02597403, 0.11688312]), '999000499406724': array([0.07042254, 0.09859155, 0.05633803, 0.66197183, 0.01408451,\n",
      "       0.09859155]), '999000504565471': array([0.09615385, 0.19230769, 0.01923077, 0.32692308, 0.03846154,\n",
      "       0.32692308]), '999000504565472': array([0.12068966, 0.13793103, 0.01724138, 0.43103448, 0.03448276,\n",
      "       0.25862069]), '999000504565473': array([0.13953488, 0.13953488, 0.41860465, 0.04651163, 0.25581395]), '999000504565474': array([0.03030303, 0.3030303 , 0.06060606, 0.21212121, 0.06060606,\n",
      "       0.33333333]), '999000505175611': array([0.13333333, 0.15555556, 0.04444444, 0.44444444, 0.02222222,\n",
      "       0.2       ]), '999000505175612': array([0.11111111, 0.08333333, 0.02777778, 0.63888889, 0.02777778,\n",
      "       0.11111111]), '999000505175613': array([0.15789474, 0.02631579, 0.07894737, 0.05263158, 0.5       ,\n",
      "       0.05263158, 0.13157895]), '999000505175614': array([0.05 , 0.125, 0.125, 0.525, 0.175]), '999000506366961': array([0.04615385, 0.09230769, 0.04615385, 0.67692308, 0.01538462,\n",
      "       0.12307692]), '999000506366962': array([0.13333333, 0.15555556, 0.48888889, 0.04444444, 0.17777778]), '999000506366963': array([0.12, 0.02, 0.18, 0.02, 0.56, 0.04, 0.06]), '999000506366964': array([0.04651163, 0.1627907 , 0.02325581, 0.65116279, 0.02325581,\n",
      "       0.09302326]), '999000507092451': array([0.02325581, 0.1627907 , 0.02325581, 0.6744186 , 0.02325581,\n",
      "       0.09302326]), '999000507092452': array([0.07317073, 0.17073171, 0.65853659, 0.07317073, 0.02439024]), '999000507092453': array([0.22580645, 0.22580645, 0.4516129 , 0.03225806, 0.06451613]), '999000507092454': array([0.16666667, 0.02380952, 0.07142857, 0.64285714, 0.04761905,\n",
      "       0.04761905]), '999000507146191': array([0.1875    , 0.02083333, 0.1875    , 0.41666667, 0.02083333,\n",
      "       0.16666667]), '999000507146192': array([0.13559322, 0.08474576, 0.05084746, 0.47457627, 0.03389831,\n",
      "       0.22033898]), '999000507146193': array([0.075, 0.1  , 0.025, 0.325, 0.075, 0.4  ]), '999000507146194': array([0.13636364, 0.18181818, 0.02272727, 0.27272727, 0.02272727,\n",
      "       0.36363636]), '999000507319361': array([0.16216216, 0.02702703, 0.64864865, 0.05405405, 0.10810811]), '999000507319362': array([0.14285714, 0.0952381 , 0.47619048, 0.02380952, 0.26190476]), '999000507319363': array([0.05660377, 0.8490566 , 0.09433962]), '999000507319364': array([0.13953488, 0.04651163, 0.62790698, 0.02325581, 0.1627907 ]), '999000507621131': array([0.08571429, 0.17142857, 0.05714286, 0.51428571, 0.08571429,\n",
      "       0.08571429]), '999000507621132': array([0.20833333, 0.20833333, 0.0625    , 0.4375    , 0.0625    ,\n",
      "       0.02083333]), '999000507621133': array([0.225, 0.075, 0.075, 0.45 , 0.075, 0.1  ]), '999000507621134': array([0.12195122, 0.14634146, 0.02439024, 0.53658537, 0.07317073,\n",
      "       0.09756098]), '999000508023291': array([0.35, 0.5 , 0.15]), '999000508023292': array([0.03846154, 0.80769231, 0.15384615]), '999000508023293': array([0.09375, 0.71875, 0.1875 ]), '999000508023294': array([0.11764706, 0.05882353, 0.61764706, 0.20588235]), '999000508901361': array([0.07142857, 0.23809524, 0.45238095, 0.02380952, 0.21428571]), '999000508901362': array([0.1372549 , 0.1372549 , 0.05882353, 0.43137255, 0.01960784,\n",
      "       0.21568627]), '999000508901363': array([0.12820513, 0.02564103, 0.07692308, 0.07692308, 0.30769231,\n",
      "       0.02564103, 0.35897436]), '999000508901364': array([0.11904762, 0.26190476, 0.45238095, 0.16666667]), '999000509348991': array([0.12962963, 0.38888889, 0.2037037 , 0.01851852, 0.25925926]), '999000509348992': array([0.08108108, 0.01351351, 0.33783784, 0.01351351, 0.27027027,\n",
      "       0.02702703, 0.25675676]), '999000509348993': array([0.1025641 , 0.02564103, 0.41025641, 0.01282051, 0.32051282,\n",
      "       0.03846154, 0.08974359]), '999000509348994': array([0.07692308, 0.20512821, 0.02564103, 0.30769231, 0.05128205,\n",
      "       0.33333333]), '999000509721281': array([0.01587302, 0.01587302, 0.28571429, 0.12698413, 0.42857143,\n",
      "       0.03174603, 0.0952381 ]), '999000509721282': array([0.03846154, 0.17307692, 0.03846154, 0.59615385, 0.03846154,\n",
      "       0.11538462]), '999000509721283': array([0.12903226, 0.06451613, 0.35483871, 0.06451613, 0.38709677]), '999000509721284': array([0.04, 0.04, 0.2 , 0.08, 0.34, 0.04, 0.26]), '999000510124101': array([0.10526316, 0.1754386 , 0.45614035, 0.01754386, 0.24561404]), '999000510124102': array([0.125     , 0.125     , 0.02083333, 0.375     , 0.02083333,\n",
      "       0.33333333]), '999000510124103': array([0.07142857, 0.10714286, 0.39285714, 0.10714286, 0.32142857]), '999000510124104': array([0.04081633, 0.02040816, 0.12244898, 0.48979592, 0.02040816,\n",
      "       0.30612245]), '999000510144721': array([0.08, 0.1 , 0.06, 0.56, 0.02, 0.18]), '999000510144722': array([0.02173913, 0.06521739, 0.02173913, 0.69565217, 0.19565217]), '999000510144723': array([0.15384615, 0.15384615, 0.53846154, 0.03846154, 0.11538462]), '999000510144724': array([0.12765957, 0.14893617, 0.65957447, 0.0212766 , 0.04255319]), '999000510761211': array([0.1 , 0.06, 0.12, 0.66, 0.04, 0.02]), '999000510761212': array([0.06451613, 0.03225806, 0.29032258, 0.58064516, 0.03225806]), '999000510761213': array([0.13333333, 0.04444444, 0.17777778, 0.51111111, 0.04444444,\n",
      "       0.08888889]), '999000510761214': array([0.13513514, 0.05405405, 0.24324324, 0.05405405, 0.43243243,\n",
      "       0.02702703, 0.05405405]), '999000511128131': array([0.16, 0.2 , 0.04, 0.54, 0.02, 0.04]), '999000511128132': array([0.175, 0.15 , 0.05 , 0.5  , 0.05 , 0.075]), '999000511128133': array([0.09090909, 0.16363636, 0.03636364, 0.56363636, 0.05454545,\n",
      "       0.09090909]), '999000511128134': array([0.17857143, 0.08928571, 0.03571429, 0.60714286, 0.01785714,\n",
      "       0.07142857]), '999000512171311': array([0.19512195, 0.2195122 , 0.02439024, 0.41463415, 0.02439024,\n",
      "       0.12195122]), '999000512171312': array([0.18867925, 0.1509434 , 0.03773585, 0.41509434, 0.01886792,\n",
      "       0.18867925]), '999000512171313': array([0.18461538, 0.21538462, 0.03076923, 0.46153846, 0.10769231]), '999000512171314': array([0.18367347, 0.18367347, 0.10204082, 0.3877551 , 0.02040816,\n",
      "       0.12244898]), '999000512235311': array([0.23529412, 0.01960784, 0.11764706, 0.01960784, 0.54901961,\n",
      "       0.01960784, 0.03921569]), '999000512235312': array([0.12903226, 0.03225806, 0.16129032, 0.06451613, 0.48387097,\n",
      "       0.06451613, 0.06451613]), '999000512235313': array([0.34615385, 0.26923077, 0.30769231, 0.03846154, 0.03846154]), '999000512235314': array([0.125  , 0.1875 , 0.03125, 0.625  , 0.03125]), '999000513007551': array([0.5       , 0.35714286, 0.14285714]), '999000513007552': array([0.71428571, 0.14285714, 0.14285714]), '999000513007553': array([0.10526316, 0.57894737, 0.10526316, 0.10526316, 0.10526316]), '999000513007554': array([0.41666667, 0.41666667, 0.16666667]), '999000514331591': array([0.08333333, 0.02777778, 0.25      , 0.02777778, 0.52777778,\n",
      "       0.05555556, 0.02777778]), '999000514331592': array([0.15 , 0.175, 0.05 , 0.425, 0.05 , 0.15 ]), '999000514331593': array([0.11111111, 0.02222222, 0.31111111, 0.06666667, 0.31111111,\n",
      "       0.04444444, 0.13333333]), '999000514331594': array([0.02702703, 0.21621622, 0.02702703, 0.51351351, 0.05405405,\n",
      "       0.16216216]), '999000514758881': array([0.04651163, 0.27906977, 0.41860465, 0.04651163, 0.20930233]), '999000514758882': array([0.12244898, 0.14285714, 0.08163265, 0.44897959, 0.04081633,\n",
      "       0.16326531]), '999000514758883': array([0.12765957, 0.10638298, 0.06382979, 0.5106383 , 0.04255319,\n",
      "       0.14893617]), '999000514758884': array([0.04255319, 0.23404255, 0.06382979, 0.42553191, 0.0212766 ,\n",
      "       0.21276596]), '999000517118101': array([0.11111111, 0.31481481, 0.01851852, 0.24074074, 0.07407407,\n",
      "       0.24074074]), '999000517118102': array([0.12195122, 0.09756098, 0.34146341, 0.09756098, 0.34146341]), '999000517118103': array([0.075, 0.05 , 0.075, 0.3  , 0.025, 0.475]), '999000517118104': array([0.12820513, 0.23076923, 0.02564103, 0.25641026, 0.02564103,\n",
      "       0.33333333]), '999000517969971': array([0.2 , 0.15, 0.05, 0.55, 0.05]), '999000517969972': array([0.28571429, 0.14285714, 0.57142857]), '999000517969973': array([0.05405405, 0.18918919, 0.67567568, 0.08108108]), '999000517969974': array([0.17857143, 0.10714286, 0.53571429, 0.17857143]), '999000518213191': array([0.17307692, 0.19230769, 0.05769231, 0.53846154, 0.01923077,\n",
      "       0.01923077]), '999000518213192': array([0.10869565, 0.08695652, 0.02173913, 0.73913043, 0.02173913,\n",
      "       0.02173913]), '999000518213193': array([0.19565217, 0.15217391, 0.08695652, 0.54347826, 0.02173913]), '999000518213194': array([0.12727273, 0.12727273, 0.07272727, 0.65454545, 0.01818182]), '999000518626361': array([0.2       , 0.30909091, 0.43636364, 0.05454545]), '999000518626362': array([0.06329114, 0.20253165, 0.02531646, 0.64556962, 0.03797468,\n",
      "       0.02531646]), '999000518626363': array([0.17525773, 0.1443299 , 0.62886598, 0.05154639]), '999000518626364': array([0.11111111, 0.33333333, 0.51851852, 0.03703704]), '999000518949181': array([0.0952381 , 0.14285714, 0.4047619 , 0.04761905, 0.30952381]), '999000518949182': array([0.06153846, 0.01538462, 0.15384615, 0.03076923, 0.58461538,\n",
      "       0.01538462, 0.13846154]), '999000518949183': array([0.08928571, 0.01785714, 0.17857143, 0.60714286, 0.01785714,\n",
      "       0.08928571]), '999000518949184': array([0.21212121, 0.03030303, 0.15151515, 0.03030303, 0.54545455,\n",
      "       0.03030303]), '999000518974391': array([0.05454545, 0.01818182, 0.18181818, 0.05454545, 0.47272727,\n",
      "       0.01818182, 0.2       ]), '999000518974392': array([0.03571429, 0.10714286, 0.01785714, 0.71428571, 0.01785714,\n",
      "       0.10714286]), '999000518974393': array([0.11363636, 0.18181818, 0.02272727, 0.43181818, 0.04545455,\n",
      "       0.20454545]), '999000518974394': array([0.05660377, 0.22641509, 0.62264151, 0.03773585, 0.05660377]), '999000519014741': array([0.125, 0.075, 0.075, 0.675, 0.05 ]), '999000519014742': array([0.04878049, 0.12195122, 0.82926829]), '999000519014743': array([0.0952381 , 0.07142857, 0.02380952, 0.61904762, 0.02380952,\n",
      "       0.16666667]), '999000519014744': array([0.08474576, 0.01694915, 0.10169492, 0.08474576, 0.57627119,\n",
      "       0.03389831, 0.10169492]), '999000519049391': array([0.08333333, 0.02777778, 0.25      , 0.02777778, 0.52777778,\n",
      "       0.05555556, 0.02777778]), '999000519049392': array([0.15 , 0.175, 0.05 , 0.425, 0.05 , 0.15 ]), '999000519049393': array([0.11111111, 0.02222222, 0.31111111, 0.06666667, 0.31111111,\n",
      "       0.04444444, 0.13333333]), '999000519049394': array([0.02702703, 0.21621622, 0.02702703, 0.51351351, 0.05405405,\n",
      "       0.16216216]), '999000520190641': array([0.05 , 0.175, 0.1  , 0.6  , 0.05 , 0.025]), '999000520190642': array([0.14, 0.18, 0.04, 0.54, 0.02, 0.08]), '999000520190643': array([0.25925926, 0.03703704, 0.25925926, 0.03703704, 0.33333333,\n",
      "       0.07407407]), '999000520190644': array([0.20454545, 0.13636364, 0.04545455, 0.52272727, 0.04545455,\n",
      "       0.04545455]), '999000520193041': array([0.1  , 0.1  , 0.4  , 0.025, 0.375]), '999000520193042': array([0.01724138, 0.15517241, 0.06896552, 0.5       , 0.01724138,\n",
      "       0.24137931]), '999000520193043': array([0.02702703, 0.24324324, 0.02702703, 0.27027027, 0.43243243]), '999000520193044': array([0.09090909, 0.12121212, 0.03030303, 0.36363636, 0.06060606,\n",
      "       0.33333333]), '999000520607721': array([0.13636364, 0.04545455, 0.13636364, 0.06818182, 0.29545455,\n",
      "       0.02272727, 0.29545455]), '999000520607722': array([0.09090909, 0.03636364, 0.07272727, 0.09090909, 0.29090909,\n",
      "       0.07272727, 0.34545455]), '999000520607723': array([0.14583333, 0.16666667, 0.08333333, 0.35416667, 0.08333333,\n",
      "       0.16666667]), '999000520607724': array([0.06521739, 0.10869565, 0.04347826, 0.34782609, 0.06521739,\n",
      "       0.36956522]), '999000520963291': array([0.16129032, 0.03225806, 0.09677419, 0.5483871 , 0.16129032]), '999000520963292': array([0.05263158, 0.23684211, 0.5       , 0.02631579, 0.18421053]), '999000520963293': array([0.0952381 , 0.47619048, 0.42857143]), '999000520963294': array([0.16666667, 0.16666667, 0.58333333, 0.08333333]), '999000521982841': array([0.10769231, 0.01538462, 0.16923077, 0.6       , 0.03076923,\n",
      "       0.07692308]), '999000521982842': array([0.02702703, 0.18918919, 0.01351351, 0.59459459, 0.04054054,\n",
      "       0.13513514]), '999000521982843': array([0.12, 0.32, 0.02, 0.46, 0.02, 0.06]), '999000521982844': array([0.12195122, 0.34146341, 0.3902439 , 0.02439024, 0.12195122]), '999000522523101': array([0.12962963, 0.01851852, 0.18518519, 0.01851852, 0.48148148,\n",
      "       0.03703704, 0.12962963]), '999000522523102': array([0.19230769, 0.03846154, 0.11538462, 0.07692308, 0.51923077,\n",
      "       0.03846154, 0.01923077]), '999000522523103': array([0.23809524, 0.26190476, 0.02380952, 0.28571429, 0.19047619]), '999000522523104': array([0.03846154, 0.01923077, 0.19230769, 0.01923077, 0.40384615,\n",
      "       0.01923077, 0.30769231]), '999000523941911': array([0.22727273, 0.04545455, 0.5       , 0.22727273]), '999000523941912': array([0.13888889, 0.22222222, 0.11111111, 0.44444444, 0.08333333]), '999000523941913': array([0.04878049, 0.17073171, 0.02439024, 0.56097561, 0.19512195]), '999000523941914': array([0.15789474, 0.36842105, 0.05263158, 0.42105263]), '999000524128361': array([0.11538462, 0.19230769, 0.5       , 0.03846154, 0.15384615]), '999000524128362': array([0.20833333, 0.25      , 0.04166667, 0.41666667, 0.04166667,\n",
      "       0.04166667]), '999000524128363': array([0.24, 0.08, 0.56, 0.04, 0.08]), '999000524128364': array([0.41176471, 0.29411765, 0.23529412, 0.05882353]), '999000524160651': array([0.13333333, 0.13333333, 0.04444444, 0.4       , 0.02222222,\n",
      "       0.26666667]), '999000524160652': array([0.27027027, 0.16216216, 0.40540541, 0.02702703, 0.13513514]), '999000524160653': array([0.3125, 0.125 , 0.0625, 0.4375, 0.0625]), '999000524160654': array([0.16666667, 0.0625    , 0.04166667, 0.625     , 0.02083333,\n",
      "       0.08333333]), '999000524207101': array([0.22413793, 0.01724138, 0.12068966, 0.01724138, 0.43103448,\n",
      "       0.01724138, 0.17241379]), '999000524207102': array([0.18918919, 0.18918919, 0.02702703, 0.56756757, 0.02702703]), '999000524207103': array([0.21052632, 0.15789474, 0.02631579, 0.39473684, 0.02631579,\n",
      "       0.18421053]), '999000524207104': array([0.25490196, 0.11764706, 0.33333333, 0.01960784, 0.2745098 ]), '999000524455421': array([0.07843137, 0.05882353, 0.80392157, 0.05882353]), '999000524455422': array([0.0862069 , 0.10344828, 0.72413793, 0.0862069 ]), '999000524455423': array([0.02325581, 0.02325581, 0.06976744, 0.06976744, 0.62790698,\n",
      "       0.18604651]), '999000524455424': array([0.07692308, 0.07692308, 0.02564103, 0.74358974, 0.07692308]), '999000524468851': array([0.15151515, 0.15151515, 0.06060606, 0.48484848, 0.15151515]), '999000524468852': array([0.06818182, 0.02272727, 0.18181818, 0.52272727, 0.02272727,\n",
      "       0.18181818]), '999000524468853': array([0.05454545, 0.03636364, 0.14545455, 0.6       , 0.05454545,\n",
      "       0.10909091]), '999000524468854': array([0.125     , 0.02083333, 0.10416667, 0.60416667, 0.0625    ,\n",
      "       0.08333333]), '999000526060381': array([0.0754717 , 0.13207547, 0.01886792, 0.71698113, 0.01886792,\n",
      "       0.03773585]), '999000526060382': array([0.14035088, 0.12280702, 0.03508772, 0.56140351, 0.01754386,\n",
      "       0.12280702]), '999000526060383': array([0.12962963, 0.37037037, 0.01851852, 0.44444444, 0.03703704]), '999000526060384': array([0.29268293, 0.2195122 , 0.02439024, 0.3902439 , 0.04878049,\n",
      "       0.02439024]), '999000526855261': array([0.29032258, 0.19354839, 0.48387097, 0.03225806]), '999000526855262': array([0.35483871, 0.09677419, 0.4516129 , 0.06451613, 0.03225806]), '999000526855263': array([0.15789474, 0.13157895, 0.02631579, 0.52631579, 0.05263158,\n",
      "       0.10526316]), '999000526855264': array([0.16666667, 0.01851852, 0.07407407, 0.64814815, 0.07407407,\n",
      "       0.01851852]), '999000527227771': array([0.275, 0.025, 0.1  , 0.05 , 0.525, 0.025]), '999000527227772': array([0.1       , 0.06666667, 0.63333333, 0.03333333, 0.16666667]), '999000527227773': array([0.20689655, 0.24137931, 0.4137931 , 0.03448276, 0.10344828]), '999000527227774': array([0.0952381 , 0.02380952, 0.0952381 , 0.0952381 , 0.54761905,\n",
      "       0.04761905, 0.0952381 ]), '999000527235101': array([0.23255814, 0.02325581, 0.06976744, 0.06976744, 0.20930233,\n",
      "       0.04651163, 0.34883721]), '999000527235102': array([0.15      , 0.01666667, 0.28333333, 0.26666667, 0.05      ,\n",
      "       0.23333333]), '999000527235103': array([0.15517241, 0.03448276, 0.20689655, 0.43103448, 0.03448276,\n",
      "       0.13793103]), '999000527235104': array([0.23809524, 0.0952381 , 0.02380952, 0.26190476, 0.04761905,\n",
      "       0.33333333]), '999000528385471': array([0.14814815, 0.05555556, 0.01851852, 0.72222222, 0.05555556]), '999000528385472': array([0.08695652, 0.04347826, 0.02173913, 0.7826087 , 0.06521739]), '999000528385473': array([0.17142857, 0.2       , 0.57142857, 0.05714286]), '999000528385474': array([0.16, 0.08, 0.04, 0.56, 0.04, 0.12]), '999000528823671': array([0.23255814, 0.02325581, 0.1627907 , 0.02325581, 0.44186047,\n",
      "       0.11627907]), '999000528823672': array([0.1509434 , 0.09433962, 0.03773585, 0.41509434, 0.03773585,\n",
      "       0.26415094]), '999000528823673': array([0.12765957, 0.10638298, 0.53191489, 0.0212766 , 0.21276596]), '999000528823674': array([0.0625  , 0.015625, 0.0625  , 0.015625, 0.765625, 0.015625,\n",
      "       0.0625  ]), '999000529046731': array([0.84375, 0.15625]), '999000529046732': array([0.10909091, 0.05454545, 0.74545455, 0.09090909]), '999000529046733': array([0.13043478, 0.08695652, 0.69565217, 0.08695652]), '999000529046734': array([0.06451613, 0.03225806, 0.70967742, 0.19354839]), '999000530257991': array([0.17073171, 0.17073171, 0.07317073, 0.41463415, 0.04878049,\n",
      "       0.12195122]), '999000530257992': array([0.12068966, 0.27586207, 0.51724138, 0.01724138, 0.06896552]), '999000530257993': array([0.10416667, 0.20833333, 0.02083333, 0.54166667, 0.125     ]), '999000530257994': array([0.07142857, 0.26190476, 0.11904762, 0.42857143, 0.04761905,\n",
      "       0.07142857]), '999000531528771': array([0.0625  , 0.171875, 0.140625, 0.359375, 0.03125 , 0.234375]), '999000531528772': array([0.234375, 0.0625  , 0.421875, 0.03125 , 0.25    ]), '999000531528773': array([0.03703704, 0.03703704, 0.11111111, 0.07407407, 0.40740741,\n",
      "       0.05555556, 0.27777778]), '999000531528774': array([0.05555556, 0.01388889, 0.11111111, 0.04166667, 0.56944444,\n",
      "       0.02777778, 0.18055556]), '999000531689711': array([0.10810811, 0.13513514, 0.7027027 , 0.02702703, 0.02702703]), '999000531689712': array([0.20454545, 0.11363636, 0.04545455, 0.59090909, 0.02272727,\n",
      "       0.02272727]), '999000531689713': array([0.03174603, 0.06349206, 0.01587302, 0.77777778, 0.01587302,\n",
      "       0.0952381 ]), '999000531689714': array([0.12903226, 0.70967742, 0.06451613, 0.09677419]), '999000532102781': array([0.17307692, 0.11538462, 0.11538462, 0.48076923, 0.05769231,\n",
      "       0.05769231]), '999000532102782': array([0.14893617, 0.0212766 , 0.08510638, 0.04255319, 0.55319149,\n",
      "       0.04255319, 0.10638298]), '999000532102783': array([0.18604651, 0.23255814, 0.53488372, 0.04651163]), '999000532102784': array([0.14285714, 0.02857143, 0.17142857, 0.02857143, 0.51428571,\n",
      "       0.02857143, 0.08571429]), '999000532276481': array([0.05454545, 0.18181818, 0.72727273, 0.01818182, 0.01818182]), '999000532276482': array([0.03508772, 0.07017544, 0.03508772, 0.8245614 , 0.03508772]), '999000532276483': array([0.05555556, 0.16666667, 0.05555556, 0.64814815, 0.03703704,\n",
      "       0.03703704]), '999000532276484': array([0.02564103, 0.12820513, 0.02564103, 0.76923077, 0.05128205]), '999000532780721': array([0.08196721, 0.2295082 , 0.01639344, 0.37704918, 0.06557377,\n",
      "       0.2295082 ]), '999000532780722': array([0.06557377, 0.3442623 , 0.01639344, 0.42622951, 0.01639344,\n",
      "       0.13114754]), '999000532780723': array([0.12727273, 0.21818182, 0.03636364, 0.41818182, 0.03636364,\n",
      "       0.16363636]), '999000532780724': array([0.04255319, 0.29787234, 0.40425532, 0.06382979, 0.19148936]), '999000532906231': array([0.1875    , 0.25      , 0.0625    , 0.47916667, 0.02083333]), '999000532906232': array([0.25      , 0.02777778, 0.16666667, 0.05555556, 0.36111111,\n",
      "       0.05555556, 0.08333333]), '999000532906233': array([0.19512195, 0.17073171, 0.07317073, 0.48780488, 0.04878049,\n",
      "       0.02439024]), '999000532906234': array([0.16666667, 0.04761905, 0.16666667, 0.04761905, 0.54761905,\n",
      "       0.02380952]), '999000536678371': array([0.13333333, 0.28888889, 0.02222222, 0.51111111, 0.02222222,\n",
      "       0.02222222]), '999000536678372': array([0.11111111, 0.25925926, 0.07407407, 0.53703704, 0.01851852]), '999000536678373': array([0.09259259, 0.31481481, 0.05555556, 0.48148148, 0.01851852,\n",
      "       0.03703704]), '999000536678374': array([0.2       , 0.4       , 0.02857143, 0.34285714, 0.02857143]), '999000536683741': array([0.1627907 , 0.02325581, 0.20930233, 0.04651163, 0.34883721,\n",
      "       0.04651163, 0.1627907 ]), '999000536683742': array([0.07142857, 0.03571429, 0.30357143, 0.39285714, 0.19642857]), '999000536683743': array([0.07017544, 0.28070175, 0.01754386, 0.33333333, 0.01754386,\n",
      "       0.28070175]), '999000536683744': array([0.06382979, 0.21276596, 0.06382979, 0.40425532, 0.04255319,\n",
      "       0.21276596]), '999000542882091': array([0.14814815, 0.14814815, 0.59259259, 0.07407407, 0.03703704]), '999000542882092': array([0.06818182, 0.04545455, 0.25      , 0.09090909, 0.52272727,\n",
      "       0.02272727]), '999000542882093': array([0.1875, 0.0625, 0.1875, 0.5   , 0.0625]), '999000542882094': array([0.38461538, 0.11538462, 0.23076923, 0.23076923, 0.03846154]), '999000543089841': array([0.21276596, 0.23404255, 0.04255319, 0.42553191, 0.04255319,\n",
      "       0.04255319]), '999000543089842': array([0.14492754, 0.24637681, 0.57971014, 0.01449275, 0.01449275]), '999000543089843': array([0.13114754, 0.1147541 , 0.01639344, 0.70491803, 0.01639344,\n",
      "       0.01639344]), '999000543089844': array([0.1372549 , 0.25490196, 0.03921569, 0.54901961, 0.01960784]), '999000544915421': array([0.22, 0.12, 0.04, 0.44, 0.02, 0.16]), '999000544915422': array([0.22580645, 0.25806452, 0.03225806, 0.19354839, 0.29032258]), '999000544915423': array([0.18181818, 0.22727273, 0.45454545, 0.09090909, 0.04545455]), '999000544915424': array([0.14583333, 0.125     , 0.02083333, 0.5       , 0.02083333,\n",
      "       0.1875    ]), '999000545155251': array([0.22222222, 0.25      , 0.5       , 0.02777778]), '999000545155252': array([0.29032258, 0.09677419, 0.51612903, 0.03225806, 0.06451613]), '999000545155253': array([0.1509434 , 0.01886792, 0.1509434 , 0.05660377, 0.52830189,\n",
      "       0.05660377, 0.03773585]), '999000545155254': array([0.09302326, 0.02325581, 0.13953488, 0.6744186 , 0.02325581,\n",
      "       0.04651163]), '999000545203971': array([0.05454545, 0.05454545, 0.05454545, 0.6       , 0.23636364]), '999000545203972': array([0.08, 0.08, 0.52, 0.04, 0.28]), '999000545203973': array([0.025, 0.125, 0.4  , 0.05 , 0.4  ]), '999000545203974': array([0.02898551, 0.04347826, 0.69565217, 0.01449275, 0.2173913 ]), '999000547498141': array([0.14, 0.14, 0.04, 0.58, 0.04, 0.06]), '999000547498142': array([0.20588235, 0.11764706, 0.02941176, 0.55882353, 0.05882353,\n",
      "       0.02941176]), '999000547498143': array([0.05833333, 0.1       , 0.00833333, 0.80833333, 0.01666667,\n",
      "       0.00833333]), '999000547498144': array([0.10714286, 0.16071429, 0.03571429, 0.58928571, 0.03571429,\n",
      "       0.07142857]), '999000547592501': array([0.09756098, 0.19512195, 0.36585366, 0.02439024, 0.31707317]), '999000547592502': array([0.03703704, 0.16666667, 0.01851852, 0.51851852, 0.01851852,\n",
      "       0.24074074]), '999000547592503': array([0.125, 0.125, 0.075, 0.475, 0.075, 0.125]), '999000547592504': array([0.125, 0.025, 0.125, 0.075, 0.375, 0.025, 0.25 ]), '999000548150201': array([0.18181818, 0.16363636, 0.12727273, 0.47272727, 0.01818182,\n",
      "       0.03636364]), '999000548150202': array([0.18333333, 0.11666667, 0.11666667, 0.5       , 0.03333333,\n",
      "       0.05      ]), '999000548150203': array([0.15686275, 0.01960784, 0.17647059, 0.01960784, 0.49019608,\n",
      "       0.03921569, 0.09803922]), '999000548150204': array([0.11764706, 0.07843137, 0.03921569, 0.66666667, 0.09803922]), '999000549421421': array([0.07575758, 0.1969697 , 0.56060606, 0.03030303, 0.13636364]), '999000549421422': array([0.02816901, 0.18309859, 0.02816901, 0.54929577, 0.21126761]), '999000549421423': array([0.01333333, 0.32      , 0.01333333, 0.50666667, 0.14666667]), '999000549421424': array([0.06779661, 0.18644068, 0.45762712, 0.01694915, 0.27118644]), '999000549913541': array([0.01515152, 0.01515152, 0.15151515, 0.04545455, 0.51515152,\n",
      "       0.01515152, 0.24242424]), '999000549913542': array([0.0877193 , 0.01754386, 0.22807018, 0.47368421, 0.03508772,\n",
      "       0.15789474]), '999000549913543': array([0.15      , 0.03333333, 0.2       , 0.48333333, 0.01666667,\n",
      "       0.11666667]), '999000549913544': array([0.04477612, 0.29850746, 0.35820896, 0.01492537, 0.28358209]), '999000551672651': array([0.13333333, 0.16666667, 0.7       ]), '999000551672652': array([0.2 , 0.08, 0.68, 0.04]), '999000551672653': array([0.09375 , 0.15625 , 0.03125 , 0.65625 , 0.046875, 0.015625]), '999000551672654': array([0.08, 0.16, 0.7 , 0.06]), '999000551847971': array([0.01923077, 0.30769231, 0.01923077, 0.28846154, 0.03846154,\n",
      "       0.32692308]), '999000551847972': array([0.03076923, 0.33846154, 0.01538462, 0.27692308, 0.01538462,\n",
      "       0.32307692]), '999000551847973': array([0.02941176, 0.20588235, 0.35294118, 0.05882353, 0.35294118]), '999000551847974': array([0.3880597 , 0.01492537, 0.3880597 , 0.02985075, 0.17910448]), '999000552254731': array([0.1025641 , 0.23076923, 0.07692308, 0.38461538, 0.05128205,\n",
      "       0.15384615]), '999000552254732': array([0.10416667, 0.25      , 0.54166667, 0.04166667, 0.0625    ]), '999000552254733': array([0.04545455, 0.22727273, 0.47727273, 0.04545455, 0.20454545]), '999000552254734': array([0.08695652, 0.23913043, 0.34782609, 0.04347826, 0.2826087 ]), '999000552941941': array([0.10714286, 0.21428571, 0.07142857, 0.55357143, 0.05357143]), '999000552941942': array([0.109375, 0.34375 , 0.0625  , 0.46875 , 0.015625]), '999000552941943': array([0.1875    , 0.25      , 0.08333333, 0.4375    , 0.04166667]), '999000552941944': array([0.11594203, 0.01449275, 0.27536232, 0.01449275, 0.55072464,\n",
      "       0.01449275, 0.01449275]), '999000554994621': array([0.06779661, 0.01694915, 0.16949153, 0.59322034, 0.03389831,\n",
      "       0.11864407]), '999000554994622': array([0.09375 , 0.125   , 0.6875  , 0.015625, 0.078125]), '999000554994623': array([0.02816901, 0.04225352, 0.81690141, 0.04225352, 0.07042254]), '999000554994624': array([0.14516129, 0.17741935, 0.01612903, 0.61290323, 0.0483871 ]), '999000555377631': array([0.08, 0.06, 0.02, 0.72, 0.02, 0.1 ]), '999000555377632': array([0.09803922, 0.01960784, 0.60784314, 0.01960784, 0.25490196]), '999000555377633': array([0.01515152, 0.07575758, 0.01515152, 0.63636364, 0.10606061,\n",
      "       0.15151515]), '999000555377634': array([0.07692308, 0.07692308, 0.03076923, 0.67692308, 0.01538462,\n",
      "       0.12307692]), '999000555609911': array([0.04878049, 0.2195122 , 0.63414634, 0.09756098]), '999000555609912': array([0.46428571, 0.53571429]), '999000555609913': array([0.07692308, 0.38461538, 0.53846154]), '999000555609914': array([0.25, 0.15, 0.55, 0.05]), '999000557784221': array([0.03333333, 0.13333333, 0.03333333, 0.8       ]), '999000557784222': array([0.25 , 0.05 , 0.65 , 0.025, 0.025]), '999000557784223': array([0.02325581, 0.09302326, 0.09302326, 0.74418605, 0.02325581,\n",
      "       0.02325581]), '999000557784224': array([0.03448276, 0.05172414, 0.0862069 , 0.82758621]), '999000559052761': array([0.10810811, 0.16216216, 0.02702703, 0.56756757, 0.02702703,\n",
      "       0.10810811]), '999000559052762': array([0.11111111, 0.17777778, 0.04444444, 0.51111111, 0.04444444,\n",
      "       0.11111111]), '999000559052763': array([0.03508772, 0.1754386 , 0.05263158, 0.45614035, 0.03508772,\n",
      "       0.24561404]), '999000559052764': array([0.19512195, 0.19512195, 0.29268293, 0.02439024, 0.29268293]), '999000559069511': array([0.02272727, 0.15909091, 0.02272727, 0.40909091, 0.15909091,\n",
      "       0.22727273]), '999000559069512': array([0.13043478, 0.15217391, 0.02173913, 0.34782609, 0.04347826,\n",
      "       0.30434783]), '999000559069513': array([0.0625    , 0.14583333, 0.02083333, 0.54166667, 0.04166667,\n",
      "       0.1875    ]), '999000559069514': array([0.125, 0.125, 0.05 , 0.375, 0.075, 0.25 ]), '999000559610631': array([0.02439024, 0.19512195, 0.02439024, 0.41463415, 0.07317073,\n",
      "       0.26829268]), '999000559610632': array([0.04347826, 0.15217391, 0.52173913, 0.02173913, 0.26086957]), '999000559610633': array([0.08333333, 0.27777778, 0.05555556, 0.38888889, 0.05555556,\n",
      "       0.13888889]), '999000559610634': array([0.06976744, 0.44186047, 0.04651163, 0.20930233, 0.02325581,\n",
      "       0.20930233]), '999000559666821': array([0.15384615, 0.26923077, 0.07692308, 0.42307692, 0.03846154,\n",
      "       0.03846154]), '999000559666822': array([0.20833333, 0.16666667, 0.125     , 0.41666667, 0.08333333]), '999000559666823': array([0.07317073, 0.19512195, 0.02439024, 0.43902439, 0.04878049,\n",
      "       0.2195122 ]), '999000559666824': array([0.12195122, 0.09756098, 0.02439024, 0.53658537, 0.02439024,\n",
      "       0.19512195]), '999000559996941': array([0.04166667, 0.16666667, 0.04166667, 0.54166667, 0.04166667,\n",
      "       0.16666667]), '999000559996942': array([0.11764706, 0.02941176, 0.14705882, 0.52941176, 0.02941176,\n",
      "       0.14705882]), '999000559996943': array([0.03508772, 0.12280702, 0.01754386, 0.63157895, 0.03508772,\n",
      "       0.15789474]), '999000559996944': array([0.08695652, 0.04347826, 0.04347826, 0.69565217, 0.02173913,\n",
      "       0.10869565]), '999000560034311': array([0.22580645, 0.09677419, 0.09677419, 0.51612903, 0.03225806,\n",
      "       0.03225806]), '999000560034312': array([0.04651163, 0.20930233, 0.02325581, 0.69767442, 0.02325581]), '999000560034313': array([0.02941176, 0.20588235, 0.70588235, 0.05882353]), '999000560034314': array([0.0625 , 0.15625, 0.0625 , 0.65625, 0.03125, 0.03125]), '999000560191821': array([0.09615385, 0.23076923, 0.51923077, 0.01923077, 0.13461538]), '999000560191822': array([0.19565217, 0.17391304, 0.47826087, 0.15217391]), '999000560191823': array([0.11111111, 0.28888889, 0.02222222, 0.44444444, 0.13333333]), '999000560191824': array([0.13333333, 0.06666667, 0.13333333, 0.5       , 0.03333333,\n",
      "       0.13333333]), '999000562529831': array([0.11538462, 0.15384615, 0.53846154, 0.19230769]), '999000562529832': array([0.09090909, 0.12121212, 0.66666667, 0.12121212]), '999000562529833': array([0.07142857, 0.17857143, 0.60714286, 0.14285714]), '999000562529834': array([0.29268293, 0.14634146, 0.02439024, 0.3902439 , 0.14634146]), '999000562533401': array([0.03636364, 0.07272727, 0.07272727, 0.6       , 0.09090909,\n",
      "       0.12727273]), '999000562533402': array([0.04444444, 0.11111111, 0.04444444, 0.48888889, 0.04444444,\n",
      "       0.26666667]), '999000562533403': array([0.01923077, 0.11538462, 0.05769231, 0.63461538, 0.01923077,\n",
      "       0.15384615]), '999000562533404': array([0.10169492, 0.16949153, 0.03389831, 0.52542373, 0.08474576,\n",
      "       0.08474576]), '999000562657821': array([0.01785714, 0.26785714, 0.01785714, 0.44642857, 0.05357143,\n",
      "       0.19642857]), '999000562657822': array([0.14, 0.28, 0.38, 0.02, 0.18]), '999000562657823': array([0.01724138, 0.12068966, 0.0862069 , 0.62068966, 0.05172414,\n",
      "       0.10344828]), '999000562657824': array([0.12903226, 0.14516129, 0.01612903, 0.51612903, 0.03225806,\n",
      "       0.16129032]), '999000563636121': array([0.06153846, 0.27692308, 0.01538462, 0.6       , 0.01538462,\n",
      "       0.03076923]), '999000563636122': array([0.03703704, 0.22222222, 0.01851852, 0.57407407, 0.07407407,\n",
      "       0.07407407]), '999000563636123': array([0.01449275, 0.01449275, 0.23188406, 0.01449275, 0.49275362,\n",
      "       0.02898551, 0.20289855]), '999000563636124': array([0.15384615, 0.24615385, 0.06153846, 0.44615385, 0.01538462,\n",
      "       0.07692308]), '999000563875981': array([0.078125, 0.125   , 0.015625, 0.546875, 0.015625, 0.21875 ]), '999000563875982': array([0.09090909, 0.07272727, 0.05454545, 0.52727273, 0.09090909,\n",
      "       0.16363636]), '999000563875983': array([0.07017544, 0.01754386, 0.15789474, 0.01754386, 0.49122807,\n",
      "       0.03508772, 0.21052632]), '999000563875984': array([0.06, 0.2 , 0.42, 0.04, 0.28]), '999000564610641': array([0.16666667, 0.07407407, 0.62962963, 0.03703704, 0.09259259]), '999000564610642': array([0.11111111, 0.15277778, 0.05555556, 0.59722222, 0.02777778,\n",
      "       0.05555556]), '999000564610643': array([0.02469136, 0.01234568, 0.16049383, 0.01234568, 0.65432099,\n",
      "       0.02469136, 0.11111111]), '999000564610644': array([0.05263158, 0.10526316, 0.02631579, 0.57894737, 0.05263158,\n",
      "       0.18421053]), '999000565120731': array([0.05208333, 0.09375   , 0.79166667, 0.01041667, 0.05208333]), '999000565120732': array([0.00892857, 0.08035714, 0.8125    , 0.00892857, 0.08928571]), '999000565120733': array([0.09090909, 0.13636364, 0.59090909, 0.02272727, 0.15909091]), '999000565120734': array([0.11320755, 0.13207547, 0.01886792, 0.66037736, 0.05660377,\n",
      "       0.01886792]), '999000565257361': array([0.1       , 0.08571429, 0.01428571, 0.51428571, 0.02857143,\n",
      "       0.25714286]), '999000565257362': array([0.13207547, 0.01886792, 0.11320755, 0.01886792, 0.50943396,\n",
      "       0.05660377, 0.1509434 ]), '999000565257363': array([0.29166667, 0.4375    , 0.02083333, 0.20833333, 0.04166667]), '999000565257364': array([0.25490196, 0.01960784, 0.25490196, 0.01960784, 0.17647059,\n",
      "       0.01960784, 0.25490196]), '999000565652651': array([0.08510638, 0.25531915, 0.06382979, 0.57446809, 0.0212766 ]), '999000565652652': array([0.1 , 0.02, 0.26, 0.06, 0.5 , 0.06]), '999000565652653': array([0.08163265, 0.02040816, 0.12244898, 0.08163265, 0.51020408,\n",
      "       0.06122449, 0.12244898]), '999000565652654': array([0.17307692, 0.19230769, 0.09615385, 0.48076923, 0.05769231]), '999000566471551': array([0.09677419, 0.06451613, 0.83870968]), '999000566471552': array([0.24489796, 0.10204082, 0.06122449, 0.42857143, 0.02040816,\n",
      "       0.14285714]), '999000566471553': array([0.11904762, 0.23809524, 0.07142857, 0.30952381, 0.04761905,\n",
      "       0.21428571]), '999000566471554': array([0.1509434 , 0.01886792, 0.35849057, 0.03773585, 0.33962264,\n",
      "       0.03773585, 0.05660377]), '999000567421331': array([0.15384615, 0.17307692, 0.01923077, 0.57692308, 0.01923077,\n",
      "       0.05769231]), '999000567421332': array([0.09375, 0.21875, 0.53125, 0.03125, 0.125  ]), '999000567421333': array([0.01666667, 0.13333333, 0.03333333, 0.71666667, 0.01666667,\n",
      "       0.08333333]), '999000567421334': array([0.13043478, 0.17391304, 0.02173913, 0.5       , 0.17391304]), '999000567631671': array([0.28205128, 0.17948718, 0.43589744, 0.07692308, 0.02564103]), '999000567631672': array([0.21875, 0.125  , 0.03125, 0.5625 , 0.03125, 0.03125]), '999000567631673': array([0.25      , 0.19444444, 0.02777778, 0.38888889, 0.02777778,\n",
      "       0.11111111]), '999000567631674': array([0.07894737, 0.28947368, 0.42105263, 0.05263158, 0.15789474]), '999000567633831': array([0.03703704, 0.14814815, 0.03703704, 0.5       , 0.27777778]), '999000567633832': array([0.03125 , 0.28125 , 0.390625, 0.015625, 0.28125 ]), '999000567633833': array([0.04651163, 0.18604651, 0.04651163, 0.41860465, 0.02325581,\n",
      "       0.27906977]), '999000567633834': array([0.0877193 , 0.01754386, 0.12280702, 0.07017544, 0.40350877,\n",
      "       0.01754386, 0.28070175]), '999000568459881': array([0.09375 , 0.15625 , 0.015625, 0.5     , 0.0625  , 0.171875]), '999000568459882': array([0.02564103, 0.12820513, 0.02564103, 0.66666667, 0.02564103,\n",
      "       0.12820513]), '999000568459883': array([0.23076923, 0.20512821, 0.07692308, 0.33333333, 0.02564103,\n",
      "       0.12820513]), '999000568459884': array([0.10909091, 0.2       , 0.05454545, 0.4       , 0.03636364,\n",
      "       0.2       ]), '999000568608121': array([0.26086957, 0.47826087, 0.26086957]), '999000568608122': array([0.05, 0.1 , 0.55, 0.05, 0.25]), '999000568608123': array([0.05405405, 0.13513514, 0.05405405, 0.51351351, 0.24324324]), '999000568608124': array([0.03703704, 0.22222222, 0.48148148, 0.25925926]), '999000569132031': array([0.06896552, 0.13793103, 0.63793103, 0.03448276, 0.12068966]), '999000569132032': array([0.07272727, 0.16363636, 0.6       , 0.01818182, 0.14545455]), '999000569132033': array([0.03333333, 0.13333333, 0.75      , 0.03333333, 0.05      ]), '999000569132034': array([0.04081633, 0.14285714, 0.73469388, 0.08163265]), '999000569462591': array([0.03174603, 0.01587302, 0.25396825, 0.11111111, 0.33333333,\n",
      "       0.03174603, 0.22222222]), '999000569462592': array([0.05769231, 0.19230769, 0.05769231, 0.5       , 0.03846154,\n",
      "       0.15384615]), '999000569462593': array([0.08955224, 0.3880597 , 0.02985075, 0.41791045, 0.01492537,\n",
      "       0.05970149]), '999000569462594': array([0.0625  , 0.21875 , 0.015625, 0.53125 , 0.171875]), '999000569466791': array([0.03125 , 0.03125 , 0.09375 , 0.109375, 0.578125, 0.03125 ,\n",
      "       0.125   ]), '999000569466792': array([0.07936508, 0.14285714, 0.04761905, 0.55555556, 0.01587302,\n",
      "       0.15873016]), '999000569466793': array([0.11111111, 0.09259259, 0.05555556, 0.51851852, 0.03703704,\n",
      "       0.18518519]), '999000569466794': array([0.11111111, 0.05555556, 0.63888889, 0.05555556, 0.13888889]), '999000569956871': array([0.0754717 , 0.01886792, 0.05660377, 0.67924528, 0.03773585,\n",
      "       0.13207547]), '999000569956872': array([0.19354839, 0.0483871 , 0.03225806, 0.67741935, 0.01612903,\n",
      "       0.03225806]), '999000569956873': array([0.15492958, 0.05633803, 0.01408451, 0.66197183, 0.04225352,\n",
      "       0.07042254]), '999000569956874': array([0.08474576, 0.05084746, 0.03389831, 0.74576271, 0.06779661,\n",
      "       0.01694915]), '999000571136071': array([0.01123596, 0.13483146, 0.03370787, 0.69662921, 0.04494382,\n",
      "       0.07865169]), '999000571136072': array([0.04651163, 0.01162791, 0.13953488, 0.02325581, 0.61627907,\n",
      "       0.1627907 ]), '999000571136073': array([0.01960784, 0.1372549 , 0.05882353, 0.66666667, 0.01960784,\n",
      "       0.09803922]), '999000571136074': array([0.20754717, 0.09433962, 0.62264151, 0.01886792, 0.05660377]), '999000572506981': array([0.20588235, 0.29411765, 0.02941176, 0.44117647, 0.02941176]), '999000572506982': array([0.20588235, 0.02941176, 0.23529412, 0.5       , 0.02941176]), '999000572506983': array([0.17647059, 0.23529412, 0.52941176, 0.02941176, 0.02941176]), '999000572506984': array([0.23684211, 0.02631579, 0.18421053, 0.02631579, 0.5       ,\n",
      "       0.02631579]), '999000572513621': array([0.13513514, 0.02702703, 0.05405405, 0.45945946, 0.05405405,\n",
      "       0.27027027]), '999000572513622': array([0.05769231, 0.03846154, 0.01923077, 0.73076923, 0.03846154,\n",
      "       0.11538462]), '999000572513623': array([0.04411765, 0.22058824, 0.01470588, 0.55882353, 0.04411765,\n",
      "       0.11764706]), '999000572513624': array([0.11111111, 0.08888889, 0.02222222, 0.51111111, 0.06666667,\n",
      "       0.2       ]), '999000572674331': array([0.05555556, 0.01851852, 0.14814815, 0.01851852, 0.5       ,\n",
      "       0.01851852, 0.24074074]), '999000572674332': array([0.08695652, 0.23913043, 0.04347826, 0.45652174, 0.02173913,\n",
      "       0.15217391]), '999000572674333': array([0.14705882, 0.26470588, 0.02941176, 0.52941176, 0.02941176]), '999000572674334': array([0.0625    , 0.14583333, 0.04166667, 0.5625    , 0.04166667,\n",
      "       0.14583333]), '999000572995771': array([0.0952381 , 0.01587302, 0.04761905, 0.76190476, 0.03174603,\n",
      "       0.04761905]), '999000572995772': array([0.12765957, 0.06382979, 0.04255319, 0.72340426, 0.04255319]), '999000572995773': array([0.09090909, 0.02272727, 0.04545455, 0.75      , 0.09090909]), '999000572995774': array([0.06122449, 0.02040816, 0.75510204, 0.06122449, 0.10204082]), '999000573089041': array([0.17391304, 0.13043478, 0.60869565, 0.04347826, 0.04347826]), '999000573089042': array([0.23076923, 0.03846154, 0.19230769, 0.46153846, 0.03846154,\n",
      "       0.03846154]), '999000573089043': array([0.19230769, 0.23076923, 0.38461538, 0.11538462, 0.07692308]), '999000573089044': array([0.28571429, 0.2       , 0.05714286, 0.4       , 0.02857143,\n",
      "       0.02857143]), '999000573566131': array([0.22222222, 0.66666667, 0.11111111]), '999000573566132': array([0.03333333, 0.23333333, 0.5       , 0.06666667, 0.16666667]), '999000573566133': array([0.0483871 , 0.0483871 , 0.74193548, 0.03225806, 0.12903226]), '999000573566134': array([0.03333333, 0.03333333, 0.76666667, 0.03333333, 0.13333333]), '999000573962001': array([0.16326531, 0.10204082, 0.08163265, 0.51020408, 0.02040816,\n",
      "       0.12244898]), '999000573962002': array([0.05769231, 0.03846154, 0.05769231, 0.63461538, 0.01923077,\n",
      "       0.19230769]), '999000573962003': array([0.225, 0.05 , 0.175, 0.075, 0.45 , 0.025]), '999000573962004': array([0.18918919, 0.02702703, 0.10810811, 0.05405405, 0.56756757,\n",
      "       0.02702703, 0.02702703]), '999000574078821': array([0.14285714, 0.07142857, 0.02380952, 0.71428571, 0.04761905]), '999000574078822': array([0.03030303, 0.12121212, 0.84848485]), '999000574078823': array([0.13333333, 0.02222222, 0.8       , 0.04444444]), '999000574078824': array([0.14285714, 0.07142857, 0.02380952, 0.71428571, 0.04761905]), '999000574190861': array([0.06818182, 0.20454545, 0.65909091, 0.06818182]), '999000574190862': array([0.06666667, 0.2       , 0.08888889, 0.51111111, 0.02222222,\n",
      "       0.11111111]), '999000574190863': array([0.29508197, 0.01639344, 0.54098361, 0.03278689, 0.1147541 ]), '999000574190864': array([0.06382979, 0.31914894, 0.53191489, 0.04255319, 0.04255319]), '999000574209581': array([0.09090909, 0.06818182, 0.02272727, 0.59090909, 0.02272727,\n",
      "       0.20454545]), '999000574209582': array([0.10344828, 0.27586207, 0.27586207, 0.03448276, 0.31034483]), '999000574209583': array([0.12903226, 0.03225806, 0.09677419, 0.41935484, 0.03225806,\n",
      "       0.29032258]), '999000574209584': array([0.18604651, 0.1627907 , 0.41860465, 0.23255814]), '999000576027741': array([0.08, 0.02, 0.24, 0.64, 0.02]), '999000576027742': array([0.12962963, 0.11111111, 0.75925926]), '999000576027743': array([0.15384615, 0.03846154, 0.11538462, 0.61538462, 0.07692308]), '999000576027744': array([0.125, 0.025, 0.35 , 0.025, 0.425, 0.05 ]), '999000576987891': array([0.23684211, 0.13157895, 0.57894737, 0.05263158]), '999000576987892': array([0.36842105, 0.15789474, 0.05263158, 0.39473684, 0.02631579]), '999000576987893': array([0.18181818, 0.12121212, 0.03030303, 0.63636364, 0.03030303]), '999000576987894': array([0.08333333, 0.33333333, 0.58333333]), '999000577222881': array([0.16666667, 0.03333333, 0.1       , 0.03333333, 0.5       ,\n",
      "       0.03333333, 0.13333333]), '999000577222882': array([0.13333333, 0.13333333, 0.02222222, 0.46666667, 0.06666667,\n",
      "       0.17777778]), '999000577222883': array([0.08474576, 0.16949153, 0.47457627, 0.01694915, 0.25423729]), '999000577222884': array([0.11111111, 0.25      , 0.47222222, 0.02777778, 0.13888889]), '999000577399651': array([0.025 , 0.0125, 0.175 , 0.6875, 0.0125, 0.0875]), '999000577399652': array([0.12328767, 0.01369863, 0.23287671, 0.43835616, 0.04109589,\n",
      "       0.15068493]), '999000577399653': array([0.16216216, 0.16216216, 0.40540541, 0.05405405, 0.21621622]), '999000577399654': array([0.22222222, 0.08333333, 0.52777778, 0.02777778, 0.13888889]), '999000578011681': array([0.11111111, 0.06666667, 0.02222222, 0.46666667, 0.04444444,\n",
      "       0.28888889]), '999000578011682': array([0.11764706, 0.17647059, 0.44117647, 0.05882353, 0.20588235]), '999000578011683': array([0.10810811, 0.08108108, 0.02702703, 0.45945946, 0.02702703,\n",
      "       0.2972973 ]), '999000578011684': array([0.05714286, 0.02857143, 0.11428571, 0.02857143, 0.54285714,\n",
      "       0.02857143, 0.2       ]), '999000578230601': array([0.075, 0.2  , 0.025, 0.45 , 0.05 , 0.2  ]), '999000578230602': array([0.11363636, 0.04545455, 0.27272727, 0.40909091, 0.02272727,\n",
      "       0.13636364]), '999000578230603': array([0.12280702, 0.22807018, 0.50877193, 0.14035088]), '999000578230604': array([0.12903226, 0.19354839, 0.03225806, 0.51612903, 0.03225806,\n",
      "       0.09677419]), '999000578397991': array([0.25490196, 0.11764706, 0.07843137, 0.49019608, 0.03921569,\n",
      "       0.01960784]), '999000578397992': array([0.14583333, 0.10416667, 0.625     , 0.02083333, 0.10416667]), '999000578397993': array([0.12962963, 0.05555556, 0.12962963, 0.01851852, 0.53703704,\n",
      "       0.07407407, 0.05555556]), '999000578397994': array([0.171875, 0.015625, 0.109375, 0.046875, 0.59375 , 0.03125 ,\n",
      "       0.03125 ]), '999000578966471': array([0.2       , 0.05714286, 0.14285714, 0.02857143, 0.37142857,\n",
      "       0.02857143, 0.17142857]), '999000578966472': array([0.28125, 0.21875, 0.4375 , 0.03125, 0.03125]), '999000578966473': array([0.1875    , 0.14583333, 0.58333333, 0.02083333, 0.0625    ]), '999000578966474': array([0.04347826, 0.13043478, 0.01086957, 0.7173913 , 0.01086957,\n",
      "       0.08695652]), '999000579005131': array([0.15151515, 0.24242424, 0.03030303, 0.48484848, 0.06060606,\n",
      "       0.03030303]), '999000579005132': array([0.09090909, 0.01515152, 0.06060606, 0.01515152, 0.78787879,\n",
      "       0.03030303]), '999000579005133': array([0.13636364, 0.13636364, 0.06818182, 0.59090909, 0.04545455,\n",
      "       0.02272727]), '999000579005134': array([0.15384615, 0.17948718, 0.02564103, 0.56410256, 0.05128205,\n",
      "       0.02564103]), '999000580374261': array([0.10526316, 0.02631579, 0.10526316, 0.07894737, 0.57894737,\n",
      "       0.10526316]), '999000580374262': array([0.08163265, 0.20408163, 0.02040816, 0.46938776, 0.06122449,\n",
      "       0.16326531]), '999000580374263': array([0.05555556, 0.30555556, 0.01388889, 0.44444444, 0.02777778,\n",
      "       0.15277778]), '999000580374264': array([0.08163265, 0.14285714, 0.04081633, 0.51020408, 0.04081633,\n",
      "       0.18367347]), '999000580575821': array([0.12903226, 0.09677419, 0.19354839, 0.03225806, 0.41935484,\n",
      "       0.03225806, 0.09677419]), '999000580575822': array([0.12, 0.02, 0.32, 0.02, 0.44, 0.04, 0.04]), '999000580575823': array([0.1372549 , 0.09803922, 0.07843137, 0.54901961, 0.01960784,\n",
      "       0.11764706]), '999000580575824': array([0.1       , 0.06666667, 0.13333333, 0.46666667, 0.06666667,\n",
      "       0.16666667]), '999000581155631': array([0.09756098, 0.24390244, 0.58536585, 0.07317073]), '999000581155632': array([0.0625    , 0.20833333, 0.60416667, 0.02083333, 0.10416667]), '999000581155633': array([0.1 , 0.02, 0.22, 0.5 , 0.06, 0.1 ]), '999000581155634': array([0.11320755, 0.28301887, 0.05660377, 0.45283019, 0.03773585,\n",
      "       0.05660377]), '999000581930921': array([0.01176471, 0.16470588, 0.01176471, 0.38823529, 0.03529412,\n",
      "       0.38823529]), '999000581930922': array([0.05263158, 0.1754386 , 0.01754386, 0.47368421, 0.03508772,\n",
      "       0.24561404]), '999000581930923': array([0.04109589, 0.10958904, 0.01369863, 0.57534247, 0.26027397]), '999000581930924': array([0.06349206, 0.11111111, 0.41269841, 0.01587302, 0.3968254 ]), '999000582529521': array([0.08433735, 0.02409639, 0.8313253 , 0.01204819, 0.04819277]), '999000582529522': array([0.07692308, 0.03846154, 0.01923077, 0.69230769, 0.01923077,\n",
      "       0.15384615]), '999000582529523': array([0.05128205, 0.02564103, 0.91025641, 0.01282051]), '999000582529524': array([0.06666667, 0.03809524, 0.88571429, 0.00952381]), '999000585010561': array([0.16666667, 0.16666667, 0.41666667, 0.02777778, 0.22222222]), '999000585010562': array([0.1372549 , 0.05882353, 0.64705882, 0.05882353, 0.09803922]), '999000585010563': array([0.27272727, 0.11363636, 0.54545455, 0.04545455, 0.02272727]), '999000585010564': array([0.28571429, 0.10714286, 0.42857143, 0.10714286, 0.07142857]), '999000585970941': array([0.01666667, 0.25      , 0.01666667, 0.45      , 0.01666667,\n",
      "       0.25      ]), '999000585970942': array([0.07272727, 0.25454545, 0.4       , 0.01818182, 0.25454545]), '999000585970943': array([0.05882353, 0.35294118, 0.01470588, 0.41176471, 0.01470588,\n",
      "       0.14705882]), '999000585970944': array([0.05333333, 0.41333333, 0.01333333, 0.34666667, 0.01333333,\n",
      "       0.16      ]), '999000585972541': array([0.17142857, 0.2       , 0.54285714, 0.05714286, 0.02857143]), '999000585972542': array([0.19148936, 0.14893617, 0.55319149, 0.08510638, 0.0212766 ]), '999000585972543': array([0.17073171, 0.26829268, 0.02439024, 0.43902439, 0.02439024,\n",
      "       0.07317073]), '999000585972544': array([0.20454545, 0.27272727, 0.5       , 0.02272727]), '999000586745251': array([0.05555556, 0.31944444, 0.02777778, 0.47222222, 0.02777778,\n",
      "       0.09722222]), '999000586745252': array([0.03846154, 0.16666667, 0.01282051, 0.66666667, 0.02564103,\n",
      "       0.08974359]), '999000586745253': array([0.08928571, 0.16071429, 0.66071429, 0.03571429, 0.05357143]), '999000586745254': array([0.04878049, 0.26829268, 0.04878049, 0.51219512, 0.04878049,\n",
      "       0.07317073]), '999000588114751': array([0.08510638, 0.23404255, 0.04255319, 0.54255319, 0.0106383 ,\n",
      "       0.08510638]), '999000588114752': array([0.06896552, 0.17241379, 0.03448276, 0.67241379, 0.01724138,\n",
      "       0.03448276]), '999000588114753': array([0.046875, 0.171875, 0.0625  , 0.625   , 0.015625, 0.078125]), '999000588114754': array([0.09375   , 0.01041667, 0.16666667, 0.63541667, 0.04166667,\n",
      "       0.05208333]), '999000589258181': array([0.075, 0.15 , 0.05 , 0.35 , 0.025, 0.35 ]), '999000589258182': array([0.08064516, 0.14516129, 0.01612903, 0.37096774, 0.03225806,\n",
      "       0.35483871]), '999000589258183': array([0.16666667, 0.54166667, 0.0625    , 0.22916667]), '999000589258184': array([0.08474576, 0.11864407, 0.38983051, 0.03389831, 0.37288136]), '999000590744851': array([0.15 , 0.2  , 0.025, 0.575, 0.05 ]), '999000590744852': array([0.11111111, 0.28395062, 0.04938272, 0.5308642 , 0.02469136]), '999000590744853': array([0.14117647, 0.01176471, 0.23529412, 0.04705882, 0.51764706,\n",
      "       0.02352941, 0.02352941]), '999000590744854': array([0.0877193 , 0.22807018, 0.03508772, 0.61403509, 0.03508772]), '999000591441931': array([0.16071429, 0.39285714, 0.01785714, 0.35714286, 0.07142857]), '999000591441932': array([0.17307692, 0.01923077, 0.11538462, 0.01923077, 0.55769231,\n",
      "       0.05769231, 0.05769231]), '999000591441933': array([0.15909091, 0.13636364, 0.06818182, 0.56818182, 0.02272727,\n",
      "       0.04545455]), '999000591441934': array([0.19444444, 0.27777778, 0.02777778, 0.44444444, 0.02777778,\n",
      "       0.02777778]), '999000593727021': array([0.14285714, 0.03571429, 0.5       , 0.32142857]), '999000593727022': array([0.04, 0.4 , 0.44, 0.12]), '999000593727023': array([0.04761905, 0.47619048, 0.42857143, 0.04761905]), '999000593727024': array([0.0625, 0.375 , 0.375 , 0.1875]), '999000593760881': array([0.05263158, 0.14035088, 0.12280702, 0.45614035, 0.10526316,\n",
      "       0.12280702]), '999000593760882': array([0.02409639, 0.06024096, 0.04819277, 0.75903614, 0.01204819,\n",
      "       0.09638554]), '999000593760883': array([0.17307692, 0.13461538, 0.03846154, 0.53846154, 0.01923077,\n",
      "       0.09615385]), '999000593760884': array([0.14893617, 0.08510638, 0.04255319, 0.53191489, 0.08510638,\n",
      "       0.10638298]), '999000593844731': array([0.05882353, 0.25490196, 0.56862745, 0.11764706]), '999000593844732': array([0.16666667, 0.26666667, 0.03333333, 0.36666667, 0.03333333,\n",
      "       0.13333333]), '999000593844733': array([0.10810811, 0.10810811, 0.05405405, 0.51351351, 0.08108108,\n",
      "       0.13513514]), '999000593844734': array([0.075, 0.3  , 0.05 , 0.45 , 0.025, 0.1  ]), '999000595263511': array([0.04054054, 0.12162162, 0.02702703, 0.44594595, 0.04054054,\n",
      "       0.32432432]), '999000595263512': array([0.04347826, 0.06521739, 0.08695652, 0.39130435, 0.04347826,\n",
      "       0.36956522]), '999000595263513': array([0.05405405, 0.13513514, 0.45945946, 0.05405405, 0.2972973 ]), '999000595263514': array([0.10638298, 0.0212766 , 0.06382979, 0.04255319, 0.38297872,\n",
      "       0.06382979, 0.31914894]), '999000595409311': array([0.16666667, 0.01851852, 0.12962963, 0.03703704, 0.57407407,\n",
      "       0.03703704, 0.03703704]), '999000595409312': array([0.26666667, 0.11111111, 0.53333333, 0.02222222, 0.06666667]), '999000595409313': array([0.05504587, 0.0733945 , 0.79816514, 0.04587156, 0.02752294]), '999000595409314': array([0.06349206, 0.14285714, 0.66666667, 0.03174603, 0.0952381 ]), '999000596748611': array([0.03703704, 0.09259259, 0.51851852, 0.35185185]), '999000596748612': array([0.10416667, 0.16666667, 0.45833333, 0.04166667, 0.22916667]), '999000596748613': array([0.19354839, 0.22580645, 0.51612903, 0.06451613]), '999000596748614': array([0.03703704, 0.11111111, 0.01851852, 0.61111111, 0.01851852,\n",
      "       0.2037037 ]), '999000597829221': array([0.68181818, 0.31818182]), '999000597829222': array([0.57575758, 0.42424242]), '999000597829223': array([0.04081633, 0.53061224, 0.42857143]), '999000597829224': array([0.02272727, 0.06818182, 0.5       , 0.40909091]), '999000599662221': array([0.02941176, 0.76470588, 0.20588235]), '999000599662222': array([0.02173913, 0.04347826, 0.7826087 , 0.15217391]), '999000599662223': array([0.015625, 0.015625, 0.84375 , 0.125   ]), '999000599662224': array([0.05555556, 0.01388889, 0.81944444, 0.11111111]), '999000599671451': array([0.05714286, 0.05714286, 0.02857143, 0.74285714, 0.08571429,\n",
      "       0.02857143]), '999000599671452': array([0.1       , 0.01428571, 0.18571429, 0.02857143, 0.6       ,\n",
      "       0.01428571, 0.05714286]), '999000599671453': array([0.06451613, 0.08064516, 0.77419355, 0.0483871 , 0.03225806]), '999000599671454': array([0.21052632, 0.02631579, 0.13157895, 0.07894737, 0.5       ,\n",
      "       0.02631579, 0.02631579]), '999000600039541': array([0.2       , 0.16666667, 0.36666667, 0.03333333, 0.23333333]), '999000600039542': array([0.22727273, 0.22727273, 0.40909091, 0.09090909, 0.04545455]), '999000600039543': array([0.09756098, 0.04878049, 0.07317073, 0.53658537, 0.04878049,\n",
      "       0.19512195]), '999000600039544': array([0.13333333, 0.17777778, 0.31111111, 0.06666667, 0.31111111]), '999000601646161': array([0.0625 , 0.03125, 0.15625, 0.40625, 0.0625 , 0.28125]), '999000601646162': array([0.04545455, 0.02272727, 0.34090909, 0.02272727, 0.34090909,\n",
      "       0.02272727, 0.20454545]), '999000601646163': array([0.08695652, 0.02173913, 0.15217391, 0.34782609, 0.02173913,\n",
      "       0.36956522]), '999000601646164': array([0.02, 0.2 , 0.36, 0.02, 0.4 ]), '999000601762301': array([0.27777778, 0.16666667, 0.02777778, 0.41666667, 0.08333333,\n",
      "       0.02777778]), '999000601762302': array([0.24137931, 0.13793103, 0.48275862, 0.06896552, 0.06896552]), '999000601762303': array([0.22727273, 0.09090909, 0.04545455, 0.59090909, 0.04545455]), '999000601762304': array([0.21052632, 0.07894737, 0.05263158, 0.63157895, 0.02631579]), '999000603440831': array([0.10714286, 0.01785714, 0.14285714, 0.07142857, 0.55357143,\n",
      "       0.05357143, 0.05357143]), '999000603440832': array([0.01818182, 0.10909091, 0.00909091, 0.81818182, 0.04545455]), '999000603440833': array([0.09375, 0.03125, 0.125  , 0.5625 , 0.03125, 0.15625]), '999000603440834': array([0.1 , 0.14, 0.66, 0.02, 0.08]), '999000603455201': array([0.07142857, 0.02380952, 0.21428571, 0.02380952, 0.5952381 ,\n",
      "       0.02380952, 0.04761905]), '999000603455202': array([0.16666667, 0.13888889, 0.08333333, 0.52777778, 0.02777778,\n",
      "       0.05555556]), '999000603455203': array([0.13888889, 0.19444444, 0.55555556, 0.02777778, 0.08333333]), '999000603455204': array([0.13043478, 0.36956522, 0.43478261, 0.02173913, 0.04347826]), '999000603481761': array([0.225, 0.1  , 0.625, 0.025, 0.025]), '999000603481762': array([0.32, 0.08, 0.48, 0.12]), '999000603481763': array([0.10769231, 0.01538462, 0.07692308, 0.72307692, 0.01538462,\n",
      "       0.06153846]), '999000603481764': array([0.04109589, 0.05479452, 0.05479452, 0.75342466, 0.01369863,\n",
      "       0.08219178]), '999000603893911': array([0.05128205, 0.23076923, 0.02564103, 0.58974359, 0.05128205,\n",
      "       0.05128205]), '999000603893912': array([0.04, 0.02, 0.18, 0.02, 0.6 , 0.02, 0.12]), '999000603893913': array([0.03448276, 0.15517241, 0.60344828, 0.01724138, 0.18965517]), '999000603893914': array([0.06521739, 0.02173913, 0.06521739, 0.73913043, 0.04347826,\n",
      "       0.06521739]), '999000604384511': array([0.26086957, 0.10869565, 0.02173913, 0.56521739, 0.04347826]), '999000604384512': array([0.26, 0.04, 0.68, 0.02]), '999000604384513': array([0.25 , 0.05 , 0.025, 0.625, 0.025, 0.025]), '999000604384514': array([0.125 , 0.1875, 0.6875]), '999000604512761': array([0.06, 0.76, 0.04, 0.14]), '999000604512762': array([0.02631579, 0.05263158, 0.71052632, 0.05263158, 0.15789474]), '999000604512763': array([0.07317073, 0.02439024, 0.80487805, 0.09756098]), '999000604512764': array([0.08108108, 0.7027027 , 0.05405405, 0.16216216]), '999000604869771': array([0.03389831, 0.27118644, 0.03389831, 0.50847458, 0.01694915,\n",
      "       0.13559322]), '999000604869772': array([0.14084507, 0.33802817, 0.33802817, 0.01408451, 0.16901408]), '999000604869773': array([0.16363636, 0.21818182, 0.05454545, 0.52727273, 0.03636364]), '999000604869774': array([0.06557377, 0.2295082 , 0.03278689, 0.6557377 , 0.01639344]), '999000605492041': array([0.16666667, 0.07142857, 0.02380952, 0.57142857, 0.02380952,\n",
      "       0.14285714]), '999000605492042': array([0.2173913 , 0.17391304, 0.54347826, 0.04347826, 0.02173913]), '999000605492043': array([0.19047619, 0.11904762, 0.07142857, 0.52380952, 0.02380952,\n",
      "       0.07142857]), '999000605492044': array([0.11111111, 0.08888889, 0.02222222, 0.6       , 0.06666667,\n",
      "       0.11111111]), '999000606431211': array([0.08, 0.18, 0.04, 0.56, 0.02, 0.12]), '999000606431212': array([0.12820513, 0.15384615, 0.02564103, 0.61538462, 0.02564103,\n",
      "       0.05128205]), '999000606431213': array([0.03225806, 0.22580645, 0.03225806, 0.4516129 , 0.03225806,\n",
      "       0.22580645]), '999000606431214': array([0.03333333, 0.2       , 0.03333333, 0.43333333, 0.03333333,\n",
      "       0.26666667]), '999000606709751': array([0.04761905, 0.0952381 , 0.07142857, 0.52380952, 0.26190476]), '999000606709752': array([0.09803922, 0.07843137, 0.05882353, 0.49019608, 0.01960784,\n",
      "       0.25490196]), '999000606709753': array([0.02325581, 0.11627907, 0.53488372, 0.04651163, 0.27906977]), '999000606709754': array([0.08, 0.24, 0.02, 0.4 , 0.26]), '999000606738831': array([0.19512195, 0.04878049, 0.53658537, 0.02439024, 0.19512195]), '999000606738832': array([0.04615385, 0.18461538, 0.04615385, 0.6       , 0.01538462,\n",
      "       0.10769231]), '999000606738833': array([0.03125, 0.09375, 0.59375, 0.0625 , 0.21875]), '999000606738834': array([0.02777778, 0.27777778, 0.02777778, 0.41666667, 0.05555556,\n",
      "       0.19444444]), '999000607787031': array([0.26315789, 0.15789474, 0.31578947, 0.05263158, 0.21052632]), '999000607787032': array([0.07142857, 0.07142857, 0.32142857, 0.10714286, 0.42857143]), '999000607787033': array([0.13043478, 0.47826087, 0.08695652, 0.30434783]), '999000607787034': array([0.06666667, 0.13333333, 0.03333333, 0.6       , 0.03333333,\n",
      "       0.13333333]), '999000607998171': array([0.125     , 0.02083333, 0.14583333, 0.02083333, 0.5       ,\n",
      "       0.0625    , 0.125     ]), '999000607998172': array([0.18604651, 0.06976744, 0.13953488, 0.11627907, 0.34883721,\n",
      "       0.02325581, 0.11627907]), '999000607998173': array([0.23333333, 0.03333333, 0.16666667, 0.06666667, 0.46666667,\n",
      "       0.03333333]), '999000607998174': array([0.20588235, 0.11764706, 0.05882353, 0.41176471, 0.02941176,\n",
      "       0.17647059]), '999000608162421': array([0.07462687, 0.17910448, 0.05970149, 0.55223881, 0.04477612,\n",
      "       0.08955224]), '999000608162422': array([0.11940299, 0.11940299, 0.04477612, 0.58208955, 0.01492537,\n",
      "       0.11940299]), '999000608162423': array([0.02816901, 0.01408451, 0.29577465, 0.05633803, 0.43661972,\n",
      "       0.01408451, 0.15492958]), '999000608162424': array([0.09615385, 0.15384615, 0.03846154, 0.53846154, 0.03846154,\n",
      "       0.13461538]), '999000608522911': array([0.04878049, 0.09756098, 0.07317073, 0.6097561 , 0.02439024,\n",
      "       0.14634146]), '999000608522912': array([0.14285714, 0.11428571, 0.54285714, 0.02857143, 0.17142857]), '999000608522913': array([0.15384615, 0.07692308, 0.02564103, 0.46153846, 0.07692308,\n",
      "       0.20512821]), '999000608522914': array([0.13888889, 0.13888889, 0.47222222, 0.02777778, 0.22222222]), '999000608525971': array([0.14285714, 0.04761905, 0.11904762, 0.14285714, 0.30952381,\n",
      "       0.04761905, 0.19047619]), '999000608525972': array([0.13636364, 0.02272727, 0.18181818, 0.09090909, 0.34090909,\n",
      "       0.04545455, 0.18181818]), '999000608525973': array([0.16666667, 0.14285714, 0.02380952, 0.52380952, 0.02380952,\n",
      "       0.11904762]), '999000608525974': array([0.16216216, 0.08108108, 0.02702703, 0.45945946, 0.02702703,\n",
      "       0.24324324]), '999000608773411': array([0.18421053, 0.15789474, 0.02631579, 0.5       , 0.02631579,\n",
      "       0.10526316]), '999000608773412': array([0.2826087 , 0.47826087, 0.02173913, 0.2173913 ]), '999000608773413': array([0.09090909, 0.01818182, 0.23636364, 0.47272727, 0.05454545,\n",
      "       0.12727273]), '999000608773414': array([0.23214286, 0.21428571, 0.46428571, 0.01785714, 0.07142857]), '999000609249381': array([0.31034483, 0.24137931, 0.27586207, 0.03448276, 0.13793103]), '999000609249382': array([0.38095238, 0.04761905, 0.04761905, 0.38095238, 0.14285714]), '999000609249383': array([0.17647059, 0.17647059, 0.55882353, 0.05882353, 0.02941176]), '999000609249384': array([0.14705882, 0.17647059, 0.02941176, 0.55882353, 0.02941176,\n",
      "       0.05882353]), '999000609636911': array([0.14705882, 0.08823529, 0.67647059, 0.02941176, 0.05882353]), '999000609636912': array([0.04, 0.1 , 0.02, 0.7 , 0.04, 0.1 ]), '999000609636913': array([0.11320755, 0.03773585, 0.13207547, 0.01886792, 0.62264151,\n",
      "       0.03773585, 0.03773585]), '999000609636914': array([0.24444444, 0.15555556, 0.02222222, 0.53333333, 0.04444444]), '999000610282371': array([0.06896552, 0.13793103, 0.06896552, 0.62068966, 0.03448276,\n",
      "       0.06896552]), '999000610282372': array([0.20588235, 0.20588235, 0.05882353, 0.47058824, 0.05882353]), '999000610282373': array([0.09090909, 0.12121212, 0.04545455, 0.57575758, 0.01515152,\n",
      "       0.15151515]), '999000610282374': array([0.15217391, 0.02173913, 0.19565217, 0.04347826, 0.43478261,\n",
      "       0.02173913, 0.13043478]), '999000610595721': array([0.09433962, 0.01886792, 0.0754717 , 0.64150943, 0.01886792,\n",
      "       0.1509434 ]), '999000610595722': array([0.02173913, 0.08695652, 0.04347826, 0.63043478, 0.02173913,\n",
      "       0.19565217]), '999000610595723': array([0.1 , 0.12, 0.04, 0.62, 0.02, 0.1 ]), '999000610595724': array([0.07462687, 0.10447761, 0.01492537, 0.64179104, 0.05970149,\n",
      "       0.10447761]), '999000610684481': array([0.2  , 0.15 , 0.625, 0.025]), '999000610684482': array([0.16666667, 0.41666667, 0.33333333, 0.08333333]), '999000610684483': array([0.53846154, 0.19230769, 0.23076923, 0.03846154]), '999000610684484': array([0.06578947, 0.01315789, 0.10526316, 0.01315789, 0.77631579,\n",
      "       0.01315789, 0.01315789]), '999000611397391': array([0.11538462, 0.15384615, 0.42307692, 0.03846154, 0.26923077]), '999000611397392': array([0.02325581, 0.23255814, 0.02325581, 0.34883721, 0.02325581,\n",
      "       0.34883721]), '999000611397393': array([0.075, 0.2  , 0.4  , 0.05 , 0.275]), '999000611397394': array([0.11627907, 0.02325581, 0.27906977, 0.02325581, 0.34883721,\n",
      "       0.04651163, 0.1627907 ]), '999000611595661': array([0.1147541 , 0.26229508, 0.03278689, 0.42622951, 0.04918033,\n",
      "       0.1147541 ]), '999000611595662': array([0.11363636, 0.18181818, 0.04545455, 0.52272727, 0.02272727,\n",
      "       0.11363636]), '999000611595663': array([0.046875, 0.015625, 0.5     , 0.40625 , 0.03125 ]), '999000611595664': array([0.23076923, 0.33333333, 0.07692308, 0.28205128, 0.02564103,\n",
      "       0.05128205]), '999000612118781': array([0.06666667, 0.31111111, 0.06666667, 0.53333333, 0.02222222]), '999000612118782': array([0.08571429, 0.25714286, 0.02857143, 0.51428571, 0.05714286,\n",
      "       0.05714286]), '999000612118783': array([0.08888889, 0.22222222, 0.06666667, 0.46666667, 0.02222222,\n",
      "       0.13333333]), '999000612118784': array([0.23809524, 0.19047619, 0.07142857, 0.45238095, 0.02380952,\n",
      "       0.02380952]), '999000612523441': array([0.22727273, 0.13636364, 0.54545455, 0.09090909]), '999000612523442': array([0.16216216, 0.13513514, 0.67567568, 0.02702703]), '999000612523443': array([0.10869565, 0.2173913 , 0.54347826, 0.06521739, 0.06521739]), '999000612523444': array([0.0952381 , 0.04761905, 0.28571429, 0.47619048, 0.02380952,\n",
      "       0.07142857]), '999000614153251': array([0.16666667, 0.16666667, 0.06666667, 0.56666667, 0.03333333]), '999000614153252': array([0.15625, 0.09375, 0.6875 , 0.03125, 0.03125]), '999000614153253': array([0.22222222, 0.25925926, 0.44444444, 0.03703704, 0.03703704]), '999000614153254': array([0.25      , 0.07142857, 0.07142857, 0.53571429, 0.07142857]), '999000614345351': array([0.12, 0.04, 0.64, 0.08, 0.12]), '999000614345352': array([0.12820513, 0.07692308, 0.02564103, 0.51282051, 0.02564103,\n",
      "       0.23076923]), '999000614345353': array([0.0952381 , 0.11904762, 0.02380952, 0.52380952, 0.04761905,\n",
      "       0.19047619]), '999000614345354': array([0.23076923, 0.1025641 , 0.02564103, 0.43589744, 0.02564103,\n",
      "       0.17948718]), '999000614358901': array([0.14814815, 0.09259259, 0.03703704, 0.59259259, 0.01851852,\n",
      "       0.11111111]), '999000614358902': array([0.03703704, 0.11111111, 0.01851852, 0.75925926, 0.01851852,\n",
      "       0.05555556]), '999000614358903': array([0.06097561, 0.09756098, 0.02439024, 0.73170732, 0.02439024,\n",
      "       0.06097561]), '999000614358904': array([0.28205128, 0.12820513, 0.02564103, 0.53846154, 0.02564103]), '999000614495451': array([0.11904762, 0.30952381, 0.02380952, 0.5       , 0.02380952,\n",
      "       0.02380952]), '999000614495452': array([0.07246377, 0.2173913 , 0.02898551, 0.5942029 , 0.02898551,\n",
      "       0.05797101]), '999000614495453': array([0.15555556, 0.13333333, 0.06666667, 0.48888889, 0.02222222,\n",
      "       0.13333333]), '999000614495454': array([0.20588235, 0.17647059, 0.11764706, 0.38235294, 0.02941176,\n",
      "       0.08823529]), '999000614938541': array([0.25714286, 0.2       , 0.05714286, 0.42857143, 0.05714286]), '999000614938542': array([0.14814815, 0.11111111, 0.7037037 , 0.03703704]), '999000614938543': array([0.27272727, 0.18181818, 0.45454545, 0.03030303, 0.06060606]), '999000614938544': array([0.20833333, 0.04166667, 0.20833333, 0.125     , 0.33333333,\n",
      "       0.04166667, 0.04166667]), '999000615140431': array([0.03389831, 0.11864407, 0.10169492, 0.42372881, 0.3220339 ]), '999000615140432': array([0.06521739, 0.15217391, 0.13043478, 0.47826087, 0.02173913,\n",
      "       0.15217391]), '999000615140433': array([0.05128205, 0.05128205, 0.12820513, 0.48717949, 0.05128205,\n",
      "       0.23076923]), '999000615140434': array([0.02222222, 0.02222222, 0.17777778, 0.08888889, 0.51111111,\n",
      "       0.17777778]), '999000615289251': array([0.06060606, 0.15151515, 0.75757576, 0.01515152, 0.01515152]), '999000615289252': array([0.26470588, 0.02941176, 0.11764706, 0.32352941, 0.05882353,\n",
      "       0.20588235]), '999000615289253': array([0.12903226, 0.06451613, 0.64516129, 0.03225806, 0.12903226]), '999000615289254': array([0.10638298, 0.12765957, 0.04255319, 0.59574468, 0.04255319,\n",
      "       0.08510638]), '999000616348971': array([0.0625    , 0.02083333, 0.39583333, 0.02083333, 0.33333333,\n",
      "       0.02083333, 0.14583333]), '999000616348972': array([0.13559322, 0.01694915, 0.25423729, 0.01694915, 0.44067797,\n",
      "       0.03389831, 0.10169492]), '999000616348973': array([0.05454545, 0.03636364, 0.14545455, 0.09090909, 0.43636364,\n",
      "       0.03636364, 0.2       ]), '999000616348974': array([0.1025641 , 0.02564103, 0.30769231, 0.02564103, 0.33333333,\n",
      "       0.02564103, 0.17948718]), '999000616349221': array([0.23684211, 0.15789474, 0.57894737, 0.02631579]), '999000616349222': array([0.00787402, 0.02362205, 0.96062992, 0.00787402]), '999000616349223': array([0.17241379, 0.27586207, 0.55172414]), '999000616349224': array([0.12195122, 0.12195122, 0.02439024, 0.70731707, 0.02439024]), '999000616484951': array([0.04761905, 0.45238095, 0.02380952, 0.4047619 , 0.04761905,\n",
      "       0.02380952]), '999000616484952': array([0.02222222, 0.24444444, 0.04444444, 0.46666667, 0.04444444,\n",
      "       0.17777778]), '999000616484953': array([0.05882353, 0.1372549 , 0.03921569, 0.62745098, 0.01960784,\n",
      "       0.11764706]), '999000616484954': array([0.07317073, 0.41463415, 0.02439024, 0.41463415, 0.04878049,\n",
      "       0.02439024]), '999000617056111': array([0.125, 0.2  , 0.6  , 0.075]), '999000617056112': array([0.0952381 , 0.20238095, 0.67857143, 0.02380952]), '999000617056113': array([0.10344828, 0.24137931, 0.51724138, 0.13793103]), '999000617056114': array([0.17391304, 0.17391304, 0.02173913, 0.56521739, 0.06521739]), '999000617275021': array([0.13207547, 0.32075472, 0.26415094, 0.01886792, 0.26415094]), '999000617275022': array([0.03225806, 0.37096774, 0.01612903, 0.27419355, 0.01612903,\n",
      "       0.29032258]), '999000617275023': array([0.05454545, 0.25454545, 0.4       , 0.03636364, 0.25454545]), '999000617275024': array([0.05, 0.05, 0.25, 0.3 , 0.05, 0.3 ]), '999000617345291': array([0.06896552, 0.03448276, 0.17241379, 0.48275862, 0.03448276,\n",
      "       0.20689655]), '999000617345292': array([0.07317073, 0.02439024, 0.04878049, 0.68292683, 0.02439024,\n",
      "       0.14634146]), '999000617345293': array([0.05882353, 0.05882353, 0.47058824, 0.11764706, 0.29411765]), '999000617345294': array([0.06896552, 0.24137931, 0.37931034, 0.03448276, 0.27586207]), '999000618135121': array([0.17391304, 0.30434783, 0.43478261, 0.02173913, 0.06521739]), '999000618135122': array([0.1       , 0.06666667, 0.3       , 0.16666667, 0.03333333,\n",
      "       0.33333333]), '999000618135123': array([0.0625 , 0.3125 , 0.34375, 0.28125]), '999000618135124': array([0.10638298, 0.0212766 , 0.34042553, 0.38297872, 0.14893617]), '999000618629841': array([0.08333333, 0.02083333, 0.04166667, 0.72916667, 0.04166667,\n",
      "       0.08333333]), '999000618629842': array([0.03030303, 0.93939394, 0.03030303]), '999000618629843': array([0.0754717 , 0.03773585, 0.0754717 , 0.75471698, 0.01886792,\n",
      "       0.03773585]), '999000618629844': array([0.02439024, 0.04878049, 0.02439024, 0.70731707, 0.04878049,\n",
      "       0.14634146]), '999000618951341': array([0.08888889, 0.26666667, 0.24444444, 0.06666667, 0.33333333]), '999000618951342': array([0.04545455, 0.04545455, 0.22727273, 0.27272727, 0.02272727,\n",
      "       0.38636364]), '999000618951343': array([0.07317073, 0.09756098, 0.56097561, 0.04878049, 0.2195122 ]), '999000618951344': array([0.10638298, 0.23404255, 0.0212766 , 0.23404255, 0.0212766 ,\n",
      "       0.38297872]), '999000618964221': array([0.04347826, 0.02173913, 0.36956522, 0.04347826, 0.36956522,\n",
      "       0.02173913, 0.13043478]), '999000618964222': array([0.06976744, 0.27906977, 0.30232558, 0.04651163, 0.30232558]), '999000618964223': array([0.15384615, 0.34615385, 0.26923077, 0.03846154, 0.19230769]), '999000618964224': array([0.2 , 0.28, 0.44, 0.04, 0.04]), '999000619086651': array([0.11320755, 0.01886792, 0.18867925, 0.03773585, 0.52830189,\n",
      "       0.01886792, 0.09433962]), '999000619086652': array([0.07692308, 0.01923077, 0.15384615, 0.05769231, 0.51923077,\n",
      "       0.03846154, 0.13461538]), '999000619086653': array([0.09090909, 0.21212121, 0.03030303, 0.36363636, 0.06060606,\n",
      "       0.24242424]), '999000619086654': array([0.04878049, 0.12195122, 0.12195122, 0.56097561, 0.04878049,\n",
      "       0.09756098]), '999000619541071': array([0.10526316, 0.02631579, 0.21052632, 0.02631579, 0.57894737,\n",
      "       0.02631579, 0.02631579]), '999000619541072': array([0.15151515, 0.31818182, 0.04545455, 0.42424242, 0.03030303,\n",
      "       0.03030303]), '999000619541073': array([0.03076923, 0.01538462, 0.29230769, 0.03076923, 0.50769231,\n",
      "       0.01538462, 0.10769231]), '999000619541074': array([0.04444444, 0.04444444, 0.15555556, 0.02222222, 0.48888889,\n",
      "       0.04444444, 0.2       ]), '999000620054411': array([0.14814815, 0.18518519, 0.01851852, 0.44444444, 0.05555556,\n",
      "       0.14814815]), '999000620054412': array([0.14035088, 0.29824561, 0.05263158, 0.33333333, 0.01754386,\n",
      "       0.15789474]), '999000620054413': array([0.16, 0.02, 0.18, 0.06, 0.44, 0.02, 0.12]), '999000620054414': array([0.09803922, 0.19607843, 0.03921569, 0.52941176, 0.05882353,\n",
      "       0.07843137]), '999000620268281': array([0.02272727, 0.18181818, 0.02272727, 0.22727273, 0.04545455,\n",
      "       0.5       ]), '999000620268282': array([0.0754717 , 0.24528302, 0.05660377, 0.18867925, 0.01886792,\n",
      "       0.41509434]), '999000620268283': array([0.03846154, 0.46153846, 0.07692308, 0.26923077, 0.07692308,\n",
      "       0.07692308]), '999000620268284': array([0.05263158, 0.34210526, 0.02631579, 0.31578947, 0.07894737,\n",
      "       0.18421053]), '999000621006561': array([0.16071429, 0.07142857, 0.08928571, 0.57142857, 0.03571429,\n",
      "       0.07142857]), '999000621006562': array([0.16666667, 0.16666667, 0.04761905, 0.5       , 0.04761905,\n",
      "       0.07142857]), '999000621006563': array([0.04411765, 0.08823529, 0.04411765, 0.77941176, 0.01470588,\n",
      "       0.02941176]), '999000621006564': array([0.10869565, 0.02173913, 0.10869565, 0.04347826, 0.63043478,\n",
      "       0.02173913, 0.06521739]), '999000621237331': array([0.23684211, 0.10526316, 0.05263158, 0.39473684, 0.21052632]), '999000621237332': array([0.04545455, 0.09090909, 0.01515152, 0.51515152, 0.01515152,\n",
      "       0.31818182]), '999000621237333': array([0.04545455, 0.10606061, 0.06060606, 0.53030303, 0.03030303,\n",
      "       0.22727273]), '999000621237334': array([0.2 , 0.1 , 0.02, 0.42, 0.02, 0.24]), '999000621242251': array([0.16666667, 0.04166667, 0.625     , 0.16666667]), '999000621242252': array([0.1025641 , 0.07692308, 0.02564103, 0.69230769, 0.1025641 ]), '999000621242253': array([0.17647059, 0.35294118, 0.47058824]), '999000621242254': array([0.07407407, 0.22222222, 0.62962963, 0.07407407]), '999000621739041': array([0.07692308, 0.17948718, 0.61538462, 0.02564103, 0.1025641 ]), '999000621739042': array([0.05454545, 0.2       , 0.03636364, 0.58181818, 0.03636364,\n",
      "       0.09090909]), '999000621739043': array([0.18367347, 0.28571429, 0.08163265, 0.36734694, 0.02040816,\n",
      "       0.06122449]), '999000621739044': array([0.05555556, 0.22222222, 0.02777778, 0.55555556, 0.05555556,\n",
      "       0.08333333]), '999000621740101': array([0.09433962, 0.05660377, 0.0754717 , 0.50943396, 0.26415094]), '999000621740102': array([0.10204082, 0.02040816, 0.02040816, 0.79591837, 0.06122449]), '999000621740103': array([0.11764706, 0.07843137, 0.05882353, 0.62745098, 0.11764706]), '999000621740104': array([0.04615385, 0.07692308, 0.04615385, 0.66153846, 0.16923077]), '999000621922831': array([0.02702703, 0.21621622, 0.05405405, 0.43243243, 0.05405405,\n",
      "       0.21621622]), '999000621922832': array([0.18421053, 0.26315789, 0.07894737, 0.28947368, 0.02631579,\n",
      "       0.15789474]), '999000621922833': array([0.22857143, 0.02857143, 0.22857143, 0.11428571, 0.34285714,\n",
      "       0.02857143, 0.02857143]), '999000621922834': array([0.06451613, 0.25806452, 0.51612903, 0.06451613, 0.09677419]), '999000622424601': array([0.07843137, 0.11764706, 0.76470588, 0.01960784, 0.01960784]), '999000622424602': array([0.05263158, 0.05263158, 0.02631579, 0.84210526, 0.02631579]), '999000622424603': array([0.04, 0.02, 0.16, 0.04, 0.72, 0.02]), '999000622424604': array([0.06557377, 0.01639344, 0.18032787, 0.67213115, 0.04918033,\n",
      "       0.01639344]), '999000622452761': array([0.11111111, 0.16666667, 0.05555556, 0.51851852, 0.01851852,\n",
      "       0.12962963]), '999000622452762': array([0.11666667, 0.33333333, 0.03333333, 0.46666667, 0.01666667,\n",
      "       0.03333333]), '999000622452763': array([0.02857143, 0.22857143, 0.65714286, 0.02857143, 0.05714286]), '999000622452764': array([0.25641026, 0.1025641 , 0.07692308, 0.48717949, 0.02564103,\n",
      "       0.05128205]), '999000622476361': array([0.25   , 0.03125, 0.25   , 0.0625 , 0.40625]), '999000622476362': array([0.02631579, 0.23684211, 0.02631579, 0.28947368, 0.02631579,\n",
      "       0.39473684]), '999000622476363': array([0.02702703, 0.10810811, 0.2972973 , 0.02702703, 0.54054054]), '999000622476364': array([0.1       , 0.36666667, 0.03333333, 0.5       ]), '999000622657961': array([0.18644068, 0.62711864, 0.01694915, 0.16949153]), '999000622657962': array([0.03636364, 0.21818182, 0.38181818, 0.36363636]), '999000622657963': array([0.08510638, 0.27659574, 0.0212766 , 0.27659574, 0.04255319,\n",
      "       0.29787234]), '999000622657964': array([0.09756098, 0.26829268, 0.41463415, 0.07317073, 0.14634146]), '999000623005211': array([0.17391304, 0.08695652, 0.60869565, 0.02173913, 0.10869565]), '999000623005212': array([0.06060606, 0.18181818, 0.39393939, 0.03030303, 0.33333333]), '999000623005213': array([0.05882353, 0.10294118, 0.10294118, 0.54411765, 0.19117647]), '999000623005214': array([0.16, 0.1 , 0.1 , 0.4 , 0.02, 0.22]), '999000623542051': array([0.02941176, 0.08823529, 0.76470588, 0.01470588, 0.10294118]), '999000623542052': array([0.02564103, 0.23076923, 0.48717949, 0.25641026]), '999000623542053': array([0.02272727, 0.09090909, 0.38636364, 0.04545455, 0.45454545]), '999000623542054': array([0.10638298, 0.12765957, 0.55319149, 0.04255319, 0.17021277]), '999000623620211': array([0.05084746, 0.18644068, 0.03389831, 0.47457627, 0.03389831,\n",
      "       0.22033898]), '999000623620212': array([0.05747126, 0.11494253, 0.02298851, 0.64367816, 0.03448276,\n",
      "       0.12643678]), '999000623620213': array([0.13461538, 0.01923077, 0.11538462, 0.01923077, 0.55769231,\n",
      "       0.03846154, 0.11538462]), '999000623620214': array([0.125     , 0.26785714, 0.10714286, 0.375     , 0.05357143,\n",
      "       0.07142857]), '999000623728101': array([0.06557377, 0.03278689, 0.01639344, 0.70491803, 0.04918033,\n",
      "       0.13114754]), '999000623728102': array([0.11111111, 0.02222222, 0.08888889, 0.02222222, 0.64444444,\n",
      "       0.02222222, 0.08888889]), '999000623728103': array([0.08571429, 0.14285714, 0.74285714, 0.02857143]), '999000623728104': array([0.08928571, 0.05357143, 0.76785714, 0.01785714, 0.07142857]), '999000623908451': array([0.01612903, 0.16129032, 0.06451613, 0.59677419, 0.01612903,\n",
      "       0.14516129]), '999000623908452': array([0.04166667, 0.3125    , 0.47916667, 0.04166667, 0.125     ]), '999000623908453': array([0.26315789, 0.10526316, 0.47368421, 0.05263158, 0.10526316]), '999000623908454': array([0.04545455, 0.18181818, 0.04545455, 0.56818182, 0.02272727,\n",
      "       0.13636364]), '999000624075611': array([0.14285714, 0.14285714, 0.39285714, 0.01785714, 0.30357143]), '999000624075612': array([0.01960784, 0.09803922, 0.56862745, 0.01960784, 0.29411765]), '999000624075613': array([0.12280702, 0.21052632, 0.07017544, 0.31578947, 0.03508772,\n",
      "       0.24561404]), '999000624075614': array([0.09090909, 0.01818182, 0.07272727, 0.03636364, 0.54545455,\n",
      "       0.03636364, 0.2       ]), '999000624081331': array([0.11764706, 0.21568627, 0.05882353, 0.56862745, 0.01960784,\n",
      "       0.01960784]), '999000624081332': array([0.11764706, 0.19607843, 0.01960784, 0.58823529, 0.01960784,\n",
      "       0.05882353]), '999000624081333': array([0.13157895, 0.10526316, 0.02631579, 0.68421053, 0.05263158]), '999000624081334': array([0.14285714, 0.14285714, 0.64285714, 0.03571429, 0.03571429]), '999000624576181': array([0.11666667, 0.26666667, 0.01666667, 0.5       , 0.03333333,\n",
      "       0.06666667]), '999000624576182': array([0.06521739, 0.17391304, 0.02173913, 0.69565217, 0.02173913,\n",
      "       0.02173913]), '999000624576183': array([0.03389831, 0.01694915, 0.15254237, 0.01694915, 0.72881356,\n",
      "       0.03389831, 0.01694915]), '999000624576184': array([0.11111111, 0.27777778, 0.58333333, 0.02777778]), '999000624776941': array([0.25714286, 0.02857143, 0.2       , 0.05714286, 0.42857143,\n",
      "       0.02857143]), '999000624776942': array([0.01204819, 0.10843373, 0.01204819, 0.85542169, 0.01204819]), '999000624776943': array([0.11111111, 0.07407407, 0.01851852, 0.7037037 , 0.01851852,\n",
      "       0.07407407]), '999000624776944': array([0.06451613, 0.17741935, 0.01612903, 0.67741935, 0.01612903,\n",
      "       0.0483871 ]), '999000624933941': array([0.2       , 0.2       , 0.03333333, 0.3       , 0.03333333,\n",
      "       0.23333333]), '999000624933942': array([0.04545455, 0.11363636, 0.11363636, 0.59090909, 0.04545455,\n",
      "       0.09090909]), '999000624933943': array([0.13333333, 0.11111111, 0.11111111, 0.51111111, 0.02222222,\n",
      "       0.11111111]), '999000624933944': array([0.05555556, 0.18518519, 0.05555556, 0.44444444, 0.01851852,\n",
      "       0.24074074]), '999000625305781': array([0.16666667, 0.0625    , 0.10416667, 0.54166667, 0.0625    ,\n",
      "       0.0625    ]), '999000625305782': array([0.03571429, 0.14285714, 0.03571429, 0.58928571, 0.03571429,\n",
      "       0.16071429]), '999000625305783': array([0.04761905, 0.21428571, 0.4047619 , 0.02380952, 0.30952381]), '999000625305784': array([0.16666667, 0.0952381 , 0.04761905, 0.45238095, 0.04761905,\n",
      "       0.19047619]), '999000625653261': array([0.14, 0.12, 0.04, 0.64, 0.02, 0.04]), '999000625653262': array([0.1 , 0.12, 0.06, 0.58, 0.04, 0.1 ]), '999000625653263': array([0.16949153, 0.10169492, 0.08474576, 0.45762712, 0.06779661,\n",
      "       0.11864407]), '999000625653264': array([0.10869565, 0.17391304, 0.06521739, 0.58695652, 0.02173913,\n",
      "       0.04347826]), '999000625668181': array([0.1025641 , 0.01282051, 0.24358974, 0.01282051, 0.43589744,\n",
      "       0.01282051, 0.17948718]), '999000625668182': array([0.04347826, 0.01449275, 0.15942029, 0.02898551, 0.55072464,\n",
      "       0.02898551, 0.17391304]), '999000625668183': array([0.01098901, 0.01098901, 0.07692308, 0.02197802, 0.74725275,\n",
      "       0.02197802, 0.10989011]), '999000625668184': array([0.12698413, 0.12698413, 0.01587302, 0.61904762, 0.11111111]), '999000625672531': array([0.12, 0.08, 0.12, 0.6 , 0.02, 0.06]), '999000625672532': array([0.11764706, 0.09803922, 0.60784314, 0.03921569, 0.1372549 ]), '999000625672533': array([0.14, 0.08, 0.04, 0.64, 0.1 ]), '999000625672534': array([0.12307692, 0.01538462, 0.09230769, 0.10769231, 0.6       ,\n",
      "       0.06153846]), '999000625821211': array([0.15942029, 0.01449275, 0.14492754, 0.07246377, 0.55072464,\n",
      "       0.02898551, 0.02898551]), '999000625821212': array([0.11111111, 0.15873016, 0.07936508, 0.53968254, 0.03174603,\n",
      "       0.07936508]), '999000625821213': array([0.2195122 , 0.2195122 , 0.02439024, 0.34146341, 0.04878049,\n",
      "       0.14634146]), '999000625821214': array([0.28205128, 0.1025641 , 0.02564103, 0.41025641, 0.05128205,\n",
      "       0.12820513]), '999000626066591': array([0.05 , 0.2  , 0.375, 0.025, 0.35 ]), '999000626066592': array([0.1  , 0.025, 0.15 , 0.1  , 0.45 , 0.05 , 0.125]), '999000626066593': array([0.1       , 0.21666667, 0.05      , 0.36666667, 0.01666667,\n",
      "       0.25      ]), '999000626066594': array([0.03571429, 0.23214286, 0.375     , 0.03571429, 0.32142857]), '999000626302991': array([0.2  , 0.1  , 0.1  , 0.575, 0.025]), '999000626302992': array([0.09375, 0.03125, 0.03125, 0.0625 , 0.75   , 0.03125]), '999000626302993': array([0.12820513, 0.07692308, 0.07692308, 0.66666667, 0.02564103,\n",
      "       0.02564103]), '999000626302994': array([0.11320755, 0.13207547, 0.05660377, 0.66037736, 0.01886792,\n",
      "       0.01886792]), '999000626375411': array([0.19354839, 0.09677419, 0.06451613, 0.5483871 , 0.03225806,\n",
      "       0.06451613]), '999000626375412': array([0.17142857, 0.11428571, 0.02857143, 0.57142857, 0.02857143,\n",
      "       0.08571429]), '999000626375413': array([0.2       , 0.11428571, 0.57142857, 0.05714286, 0.05714286]), '999000626375414': array([0.1875 , 0.21875, 0.3125 , 0.0625 , 0.21875]), '999000627189941': array([0.28, 0.24, 0.44, 0.04]), '999000627189942': array([0.26666667, 0.1       , 0.03333333, 0.56666667, 0.03333333]), '999000627189943': array([0.25714286, 0.17142857, 0.51428571, 0.02857143, 0.02857143]), '999000627189944': array([0.39285714, 0.21428571, 0.03571429, 0.32142857, 0.03571429]), '999000627383671': array([0.02564103, 0.71794872, 0.02564103, 0.23076923]), '999000627383672': array([0.03125, 0.03125, 0.71875, 0.03125, 0.1875 ]), '999000627383673': array([0.08695652, 0.04347826, 0.5       , 0.06521739, 0.30434783]), '999000627383674': array([0.02777778, 0.02777778, 0.63888889, 0.02777778, 0.27777778]), '999000627439801': array([0.04, 0.1 , 0.02, 0.4 , 0.04, 0.4 ]), '999000627439802': array([0.10526316, 0.15789474, 0.02631579, 0.39473684, 0.05263158,\n",
      "       0.26315789]), '999000627439803': array([0.04166667, 0.25      , 0.04166667, 0.35416667, 0.0625    ,\n",
      "       0.25      ]), '999000627439804': array([0.08333333, 0.25      , 0.30555556, 0.05555556, 0.30555556]), '999000628410251': array([0.13513514, 0.10810811, 0.02702703, 0.59459459, 0.13513514]), '999000628410252': array([0.15555556, 0.02222222, 0.11111111, 0.44444444, 0.04444444,\n",
      "       0.22222222]), '999000628410253': array([0.14285714, 0.02380952, 0.0952381 , 0.02380952, 0.57142857,\n",
      "       0.07142857, 0.07142857]), '999000628410254': array([0.06382979, 0.12765957, 0.04255319, 0.68085106, 0.04255319,\n",
      "       0.04255319]), '999000628900881': array([0.18918919, 0.08108108, 0.62162162, 0.02702703, 0.08108108]), '999000628900882': array([0.11764706, 0.02941176, 0.02941176, 0.82352941]), '999000628900883': array([0.17857143, 0.10714286, 0.67857143, 0.03571429]), '999000628900884': array([0.19354839, 0.06451613, 0.48387097, 0.09677419, 0.16129032]), '999000629103651': array([0.18181818, 0.22727273, 0.36363636, 0.04545455, 0.18181818]), '999000629103652': array([0.10416667, 0.25      , 0.02083333, 0.47916667, 0.0625    ,\n",
      "       0.08333333]), '999000629103653': array([0.08888889, 0.11111111, 0.04444444, 0.6       , 0.04444444,\n",
      "       0.11111111]), '999000629103654': array([0.11428571, 0.2       , 0.05714286, 0.34285714, 0.02857143,\n",
      "       0.25714286]), '999000629106501': array([0.05 , 0.275, 0.65 , 0.025]), '999000629106502': array([0.17142857, 0.05714286, 0.71428571, 0.05714286]), '999000629106503': array([0.12280702, 0.15789474, 0.01754386, 0.66666667, 0.03508772]), '999000629106504': array([0.01724138, 0.12068966, 0.01724138, 0.84482759]), '999000629755351': array([0.17948718, 0.07692308, 0.05128205, 0.53846154, 0.02564103,\n",
      "       0.12820513]), '999000629755352': array([0.05660377, 0.01886792, 0.11320755, 0.03773585, 0.58490566,\n",
      "       0.05660377, 0.13207547]), '999000629755353': array([0.21276596, 0.12765957, 0.0212766 , 0.57446809, 0.0212766 ,\n",
      "       0.04255319]), '999000629755354': array([0.12195122, 0.02439024, 0.07317073, 0.68292683, 0.07317073,\n",
      "       0.02439024]), '999000630186111': array([0.22033898, 0.50847458, 0.01694915, 0.25423729]), '999000630186112': array([0.05882353, 0.05882353, 0.26470588, 0.47058824, 0.05882353,\n",
      "       0.08823529]), '999000630186113': array([0.04166667, 0.45833333, 0.25      , 0.25      ]), '999000630186114': array([0.16, 0.02, 0.46, 0.02, 0.34]), '999000630378431': array([0.02222222, 0.2       , 0.02222222, 0.44444444, 0.02222222,\n",
      "       0.28888889]), '999000630378432': array([0.15909091, 0.11363636, 0.06818182, 0.38636364, 0.04545455,\n",
      "       0.22727273]), '999000630378433': array([0.1025641 , 0.02564103, 0.20512821, 0.02564103, 0.20512821,\n",
      "       0.05128205, 0.38461538]), '999000630378434': array([0.2962963 , 0.22222222, 0.03703704, 0.44444444]), '999000630436301': array([0.14634146, 0.02439024, 0.09756098, 0.48780488, 0.04878049,\n",
      "       0.19512195]), '999000630436302': array([0.10204082, 0.12244898, 0.02040816, 0.51020408, 0.04081633,\n",
      "       0.20408163]), '999000630436303': array([0.07142857, 0.14285714, 0.02380952, 0.4047619 , 0.04761905,\n",
      "       0.30952381]), '999000630436304': array([0.08888889, 0.02222222, 0.15555556, 0.31111111, 0.06666667,\n",
      "       0.35555556]), '999000631412191': array([0.25714286, 0.11428571, 0.05714286, 0.45714286, 0.02857143,\n",
      "       0.08571429]), '999000631412192': array([0.2       , 0.2       , 0.02857143, 0.48571429, 0.02857143,\n",
      "       0.05714286]), '999000631412193': array([0.13953488, 0.23255814, 0.44186047, 0.02325581, 0.1627907 ]), '999000631412194': array([0.15217391, 0.19565217, 0.54347826, 0.02173913, 0.08695652]), '999000631547011': array([0.01923077, 0.23076923, 0.03846154, 0.51923077, 0.03846154,\n",
      "       0.15384615]), '999000631547012': array([0.06382979, 0.0212766 , 0.12765957, 0.0212766 , 0.61702128,\n",
      "       0.0212766 , 0.12765957]), '999000631547013': array([0.14634146, 0.02439024, 0.14634146, 0.02439024, 0.43902439,\n",
      "       0.04878049, 0.17073171]), '999000631547014': array([0.16071429, 0.23214286, 0.01785714, 0.46428571, 0.01785714,\n",
      "       0.10714286]), '999000631547891': array([0.125     , 0.23214286, 0.01785714, 0.55357143, 0.05357143,\n",
      "       0.01785714]), '999000631547892': array([0.10447761, 0.07462687, 0.02985075, 0.71641791, 0.04477612,\n",
      "       0.02985075]), '999000631547893': array([0.20588235, 0.20588235, 0.02941176, 0.52941176, 0.02941176]), '999000631547894': array([0.1875 , 0.25   , 0.53125, 0.03125]), '999000632038491': array([0.10416667, 0.0625    , 0.64583333, 0.1875    ]), '999000632038492': array([0.07843137, 0.01960784, 0.01960784, 0.76470588, 0.11764706]), '999000632038493': array([0.04444444, 0.02222222, 0.62222222, 0.31111111]), '999000632038494': array([0.12, 0.64, 0.24]), '999000632650541': array([0.11538462, 0.15384615, 0.01923077, 0.5       , 0.21153846]), '999000632650542': array([0.05882353, 0.15686275, 0.07843137, 0.49019608, 0.03921569,\n",
      "       0.17647059]), '999000632650543': array([0.06818182, 0.04545455, 0.02272727, 0.59090909, 0.02272727,\n",
      "       0.25      ]), '999000632650544': array([0.06122449, 0.12244898, 0.02040816, 0.53061224, 0.02040816,\n",
      "       0.24489796]), '999000633162671': array([0.08888889, 0.15555556, 0.73333333, 0.02222222]), '999000633162672': array([0.10606061, 0.03030303, 0.09090909, 0.03030303, 0.66666667,\n",
      "       0.04545455, 0.03030303]), '999000633162673': array([0.16981132, 0.13207547, 0.05660377, 0.56603774, 0.0754717 ]), '999000633162674': array([0.14545455, 0.23636364, 0.05454545, 0.52727273, 0.03636364]), '999000633274021': array([0.26829268, 0.09756098, 0.07317073, 0.43902439, 0.04878049,\n",
      "       0.07317073]), '999000633274022': array([0.24489796, 0.18367347, 0.04081633, 0.51020408, 0.02040816]), '999000633274023': array([0.19047619, 0.30952381, 0.38095238, 0.07142857, 0.04761905]), '999000633274024': array([0.13157895, 0.23684211, 0.10526316, 0.47368421, 0.05263158]), '999000633965101': array([0.12903226, 0.11290323, 0.03225806, 0.51612903, 0.01612903,\n",
      "       0.19354839]), '999000633965102': array([0.11111111, 0.26984127, 0.04761905, 0.41269841, 0.03174603,\n",
      "       0.12698413]), '999000633965103': array([0.07272727, 0.01818182, 0.29090909, 0.09090909, 0.32727273,\n",
      "       0.01818182, 0.18181818]), '999000633965104': array([0.10204082, 0.24489796, 0.44897959, 0.04081633, 0.16326531]), '999000634348331': array([0.05405405, 0.18918919, 0.05405405, 0.10810811, 0.08108108,\n",
      "       0.51351351]), '999000634348332': array([0.09259259, 0.01851852, 0.14814815, 0.35185185, 0.03703704,\n",
      "       0.35185185]), '999000634348333': array([0.01785714, 0.32142857, 0.26785714, 0.03571429, 0.35714286]), '999000634348334': array([0.02325581, 0.20930233, 0.02325581, 0.25581395, 0.04651163,\n",
      "       0.44186047]), '999000634858691': array([0.09615385, 0.23076923, 0.51923077, 0.01923077, 0.13461538]), '999000634858692': array([0.19565217, 0.17391304, 0.47826087, 0.15217391]), '999000634858693': array([0.11111111, 0.28888889, 0.02222222, 0.44444444, 0.13333333]), '999000634858694': array([0.13333333, 0.06666667, 0.13333333, 0.5       , 0.03333333,\n",
      "       0.13333333]), '999000635344181': array([0.02, 0.04, 0.1 , 0.68, 0.08, 0.08]), '999000635344182': array([0.05263158, 0.15789474, 0.02631579, 0.60526316, 0.07894737,\n",
      "       0.07894737]), '999000635344183': array([0.15625, 0.03125, 0.125  , 0.0625 , 0.4375 , 0.0625 , 0.125  ]), '999000635344184': array([0.17391304, 0.17391304, 0.08695652, 0.47826087, 0.04347826,\n",
      "       0.04347826]), '999000635834041': array([0.19354839, 0.77419355, 0.03225806]), '999000635834042': array([0.12121212, 0.03030303, 0.21212121, 0.60606061, 0.03030303]), '999000635834043': array([0.15 , 0.05 , 0.725, 0.025, 0.05 ]), '999000635834044': array([0.09803922, 0.15686275, 0.66666667, 0.05882353, 0.01960784]), '999000635942291': array([0.27906977, 0.11627907, 0.48837209, 0.02325581, 0.09302326]), '999000635942292': array([0.14893617, 0.0212766 , 0.06382979, 0.0212766 , 0.5106383 ,\n",
      "       0.04255319, 0.19148936]), '999000635942293': array([0.15151515, 0.12121212, 0.03030303, 0.48484848, 0.03030303,\n",
      "       0.18181818]), '999000635942294': array([0.15625, 0.03125, 0.21875, 0.03125, 0.46875, 0.03125, 0.0625 ]), '999000636366351': array([0.10714286, 0.03571429, 0.21428571, 0.32142857, 0.10714286,\n",
      "       0.21428571]), '999000636366352': array([0.1025641 , 0.12820513, 0.51282051, 0.02564103, 0.23076923]), '999000636366353': array([0.046875, 0.03125 , 0.8125  , 0.03125 , 0.078125]), '999000636366354': array([0.05263158, 0.07894737, 0.5       , 0.02631579, 0.34210526]), '999000636955451': array([0.17142857, 0.14285714, 0.02857143, 0.62857143, 0.02857143]), '999000636955452': array([0.0625  , 0.265625, 0.03125 , 0.5625  , 0.03125 , 0.046875]), '999000636955453': array([0.15789474, 0.10526316, 0.02631579, 0.65789474, 0.05263158]), '999000636955454': array([0.16666667, 0.1       , 0.23333333, 0.03333333, 0.4       ,\n",
      "       0.03333333, 0.03333333]), '999000636984971': array([0.13636364, 0.22727273, 0.38636364, 0.04545455, 0.20454545]), '999000636984972': array([0.05405405, 0.2972973 , 0.05405405, 0.27027027, 0.05405405,\n",
      "       0.27027027]), '999000636984973': array([0.04255319, 0.0212766 , 0.04255319, 0.04255319, 0.55319149,\n",
      "       0.10638298, 0.19148936]), '999000636984974': array([0.1627907 , 0.04651163, 0.41860465, 0.02325581, 0.34883721]), '999000639922121': array([0.06521739, 0.02173913, 0.04347826, 0.80434783, 0.01086957,\n",
      "       0.05434783]), '999000639922122': array([0.0625, 0.0125, 0.125 , 0.05  , 0.675 , 0.0125, 0.0625]), '999000639922123': array([0.16666667, 0.16666667, 0.02777778, 0.52777778, 0.02777778,\n",
      "       0.08333333]), '999000639922124': array([0.27027027, 0.02702703, 0.10810811, 0.05405405, 0.48648649,\n",
      "       0.02702703, 0.02702703]), '999000640091491': array([0.17073171, 0.29268293, 0.04878049, 0.31707317, 0.17073171]), '999000640091492': array([0.09302326, 0.20930233, 0.02325581, 0.46511628, 0.02325581,\n",
      "       0.18604651]), '999000640091493': array([0.10638298, 0.14893617, 0.04255319, 0.40425532, 0.0212766 ,\n",
      "       0.27659574]), '999000640091494': array([0.14285714, 0.21428571, 0.04761905, 0.35714286, 0.23809524]), '999000640092301': array([0.11666667, 0.06666667, 0.7       , 0.05      , 0.06666667]), '999000640092302': array([0.125     , 0.07142857, 0.01785714, 0.60714286, 0.05357143,\n",
      "       0.125     ]), '999000640092303': array([0.09090909, 0.09090909, 0.75757576, 0.03030303, 0.03030303]), '999000640092304': array([0.1875    , 0.02083333, 0.08333333, 0.02083333, 0.64583333,\n",
      "       0.02083333, 0.02083333])}\n"
     ]
    }
   ],
   "source": [
    "# grouped_arrays_agg = dfa.groupby(['id', 'dir'])['percentage'].agg(np.array)\n",
    "grouped = dfa.groupby('id_dir')\n",
    "\n",
    "# Convert groups to NumPy arrays using list comprehension\n",
    "grouped_arrays_list = {id_dir: dfa['percentage'].iloc[indices].values for id_dir, indices in grouped.groups.items()}\n",
    "\n",
    "# print(grouped_arrays_list)"
   ]
  },
  {
   "cell_type": "code",
   "execution_count": 134,
   "id": "65dbf810-e507-40ae-9c60-7db66f04a98d",
   "metadata": {
    "execution": {
     "iopub.execute_input": "2024-03-04T15:36:25.749308Z",
     "iopub.status.busy": "2024-03-04T15:36:25.748800Z",
     "iopub.status.idle": "2024-03-04T15:36:25.752001Z",
     "shell.execute_reply": "2024-03-04T15:36:25.751320Z",
     "shell.execute_reply.started": "2024-03-04T15:36:25.749285Z"
    }
   },
   "outputs": [],
   "source": [
    "iddirl = list(grouped_arrays_list.keys())"
   ]
  },
  {
   "cell_type": "code",
   "execution_count": 135,
   "id": "07a30443-4259-4b15-8e7c-de5e7d0147d0",
   "metadata": {
    "execution": {
     "iopub.execute_input": "2024-03-04T15:36:26.341830Z",
     "iopub.status.busy": "2024-03-04T15:36:26.341534Z",
     "iopub.status.idle": "2024-03-04T15:36:26.346085Z",
     "shell.execute_reply": "2024-03-04T15:36:26.345471Z",
     "shell.execute_reply.started": "2024-03-04T15:36:26.341812Z"
    }
   },
   "outputs": [
    {
     "data": {
      "text/plain": [
       "array([0.09090909, 0.06060606, 0.04545455, 0.68181818, 0.01515152,\n",
       "       0.10606061])"
      ]
     },
     "execution_count": 135,
     "metadata": {},
     "output_type": "execute_result"
    }
   ],
   "source": [
    "grouped_arrays_list[iddirl[1]]"
   ]
  },
  {
   "cell_type": "code",
   "execution_count": 136,
   "id": "4f65e6be-7cb8-4b3d-a53b-97a0ccba25f6",
   "metadata": {
    "execution": {
     "iopub.execute_input": "2024-03-04T15:36:27.001542Z",
     "iopub.status.busy": "2024-03-04T15:36:27.001249Z",
     "iopub.status.idle": "2024-03-04T15:36:27.019710Z",
     "shell.execute_reply": "2024-03-04T15:36:27.019148Z",
     "shell.execute_reply.started": "2024-03-04T15:36:27.001525Z"
    }
   },
   "outputs": [],
   "source": [
    "en = []\n",
    "for i in range(0, len(iddirl)):\n",
    "    l = grouped_arrays_list[iddirl[i]]\n",
    "    e = entropy(l)\n",
    "    en.append(e)"
   ]
  },
  {
   "cell_type": "code",
   "execution_count": 137,
   "id": "1e329cb2-d929-48dc-bd61-b504a99eeb69",
   "metadata": {
    "execution": {
     "iopub.execute_input": "2024-03-04T15:36:28.805047Z",
     "iopub.status.busy": "2024-03-04T15:36:28.804683Z",
     "iopub.status.idle": "2024-03-04T15:36:28.809308Z",
     "shell.execute_reply": "2024-03-04T15:36:28.808639Z",
     "shell.execute_reply.started": "2024-03-04T15:36:28.805026Z"
    }
   },
   "outputs": [
    {
     "data": {
      "text/plain": [
       "0.9453221668599062"
      ]
     },
     "execution_count": 137,
     "metadata": {},
     "output_type": "execute_result"
    }
   ],
   "source": [
    "entropy(grouped_arrays_list[iddirl[0]])"
   ]
  },
  {
   "cell_type": "code",
   "execution_count": 138,
   "id": "272b3378-342b-428e-a081-064519a21f3a",
   "metadata": {
    "execution": {
     "iopub.execute_input": "2024-03-04T15:36:29.076326Z",
     "iopub.status.busy": "2024-03-04T15:36:29.076039Z",
     "iopub.status.idle": "2024-03-04T15:36:29.080636Z",
     "shell.execute_reply": "2024-03-04T15:36:29.080026Z",
     "shell.execute_reply.started": "2024-03-04T15:36:29.076309Z"
    }
   },
   "outputs": [
    {
     "data": {
      "text/plain": [
       "1.6094379124341005"
      ]
     },
     "execution_count": 138,
     "metadata": {},
     "output_type": "execute_result"
    }
   ],
   "source": [
    "entropy(np.array([0.2,0.2,0.2,0.2,0.2]))"
   ]
  },
  {
   "cell_type": "code",
   "execution_count": 139,
   "id": "e4447bbc-84c4-4ac1-8ecb-4c51c063a700",
   "metadata": {
    "execution": {
     "iopub.execute_input": "2024-03-04T15:36:30.024439Z",
     "iopub.status.busy": "2024-03-04T15:36:30.024146Z",
     "iopub.status.idle": "2024-03-04T15:36:30.028597Z",
     "shell.execute_reply": "2024-03-04T15:36:30.027973Z",
     "shell.execute_reply.started": "2024-03-04T15:36:30.024423Z"
    }
   },
   "outputs": [
    {
     "data": {
      "text/plain": [
       "0.2651241953563787"
      ]
     },
     "execution_count": 139,
     "metadata": {},
     "output_type": "execute_result"
    }
   ],
   "source": [
    "entropy(np.array([0.01,0.01,0.01,0.02,0.95]))"
   ]
  },
  {
   "cell_type": "code",
   "execution_count": 142,
   "id": "5eaab197-6d3c-4e1e-830d-f899f0e90470",
   "metadata": {
    "execution": {
     "iopub.execute_input": "2024-03-04T15:37:26.991281Z",
     "iopub.status.busy": "2024-03-04T15:37:26.990993Z",
     "iopub.status.idle": "2024-03-04T15:37:26.996497Z",
     "shell.execute_reply": "2024-03-04T15:37:26.995802Z",
     "shell.execute_reply.started": "2024-03-04T15:37:26.991262Z"
    }
   },
   "outputs": [],
   "source": [
    "dfena = pd.DataFrame()\n",
    "dfena['id_dir'] = iddirl\n",
    "dfena['entropy'] = en"
   ]
  },
  {
   "cell_type": "code",
   "execution_count": 141,
   "id": "8382a46b-69a0-4f58-a877-3e04f2ac1e30",
   "metadata": {
    "execution": {
     "iopub.execute_input": "2024-03-04T15:36:38.079410Z",
     "iopub.status.busy": "2024-03-04T15:36:38.079125Z",
     "iopub.status.idle": "2024-03-04T15:36:38.086331Z",
     "shell.execute_reply": "2024-03-04T15:36:38.085801Z",
     "shell.execute_reply.started": "2024-03-04T15:36:38.079393Z"
    }
   },
   "outputs": [
    {
     "name": "stdout",
     "output_type": "stream",
     "text": [
      "<class 'pandas.core.frame.DataFrame'>\n",
      "RangeIndex: 1180 entries, 0 to 1179\n",
      "Data columns (total 2 columns):\n",
      " #   Column   Non-Null Count  Dtype  \n",
      "---  ------   --------------  -----  \n",
      " 0   iddir    1180 non-null   object \n",
      " 1   entropy  1180 non-null   float64\n",
      "dtypes: float64(1), object(1)\n",
      "memory usage: 18.6+ KB\n"
     ]
    }
   ],
   "source": [
    "dfena.info()"
   ]
  },
  {
   "cell_type": "code",
   "execution_count": 143,
   "id": "c51bf096-3f22-4f8e-8826-5def3a7f13ec",
   "metadata": {
    "execution": {
     "iopub.execute_input": "2024-03-04T15:37:30.026593Z",
     "iopub.status.busy": "2024-03-04T15:37:30.026295Z",
     "iopub.status.idle": "2024-03-04T15:37:30.033289Z",
     "shell.execute_reply": "2024-03-04T15:37:30.032630Z",
     "shell.execute_reply.started": "2024-03-04T15:37:30.026574Z"
    }
   },
   "outputs": [],
   "source": [
    "dfentropya = pd.merge(dfa, dfena, on = ['id_dir'])"
   ]
  },
  {
   "cell_type": "code",
   "execution_count": 145,
   "id": "c6008220-b729-4a80-97ad-14fe1257a6a9",
   "metadata": {
    "execution": {
     "iopub.execute_input": "2024-03-04T15:38:48.038341Z",
     "iopub.status.busy": "2024-03-04T15:38:48.037815Z",
     "iopub.status.idle": "2024-03-04T15:38:48.074117Z",
     "shell.execute_reply": "2024-03-04T15:38:48.073537Z",
     "shell.execute_reply.started": "2024-03-04T15:38:48.038317Z"
    }
   },
   "outputs": [],
   "source": [
    "# dfentropya\n",
    "dfentropya.to_csv('/home/yelhe/script/mt/output/accident_predmaskgroup_entropy.csv', index = False)"
   ]
  },
  {
   "cell_type": "code",
   "execution_count": 146,
   "id": "c40a640c-ec2f-4ac3-8d17-983ebf755743",
   "metadata": {
    "execution": {
     "iopub.execute_input": "2024-03-04T15:40:58.342522Z",
     "iopub.status.busy": "2024-03-04T15:40:58.342003Z",
     "iopub.status.idle": "2024-03-04T15:40:58.630248Z",
     "shell.execute_reply": "2024-03-04T15:40:58.629658Z",
     "shell.execute_reply.started": "2024-03-04T15:40:58.342497Z"
    }
   },
   "outputs": [
    {
     "data": {
      "text/plain": [
       "(array([   7.,   13.,  103.,  161.,  494.,  944., 1658., 2158.,  865.,\n",
       "         135.]),\n",
       " array([0.20334926, 0.36082709, 0.51830492, 0.67578275, 0.83326058,\n",
       "        0.99073842, 1.14821625, 1.30569408, 1.46317191, 1.62064974,\n",
       "        1.77812757]),\n",
       " <BarContainer object of 10 artists>)"
      ]
     },
     "execution_count": 146,
     "metadata": {},
     "output_type": "execute_result"
    },
    {
     "data": {
      "image/png": "[encoded data removed]",
      "text/plain": [
       "<Figure size 640x480 with 1 Axes>"
      ]
     },
     "metadata": {},
     "output_type": "display_data"
    }
   ],
   "source": [
    "plt.hist(dfentropya['entropy'])"
   ]
  },
  {
   "cell_type": "code",
   "execution_count": 155,
   "id": "32818ebe",
   "metadata": {
    "execution": {
     "iopub.execute_input": "2024-03-04T16:09:52.807042Z",
     "iopub.status.busy": "2024-03-04T16:09:52.806712Z",
     "iopub.status.idle": "2024-03-04T16:09:52.824891Z",
     "shell.execute_reply": "2024-03-04T16:09:52.824193Z",
     "shell.execute_reply.started": "2024-03-04T16:09:52.807022Z"
    }
   },
   "outputs": [],
   "source": [
    "totalp = pwes.groupby(['id','dir']).sum().reset_index().rename(columns = {'count':'sum'})\n",
    "totalp = totalp.drop(['p'], axis = 1)\n",
    "dfp = pd.merge(pwes, totalp, on = ['id', 'dir'])\n",
    "dfp['percentage'] = dfp['count']/dfp['sum']\n",
    "dfp['id_dir'] = dfp['id'] + dfp['dir']"
   ]
  },
  {
   "cell_type": "code",
   "execution_count": 156,
   "id": "3c33a6af-7afb-4976-8545-a483bc70be42",
   "metadata": {
    "execution": {
     "iopub.execute_input": "2024-03-04T16:09:52.973746Z",
     "iopub.status.busy": "2024-03-04T16:09:52.973464Z",
     "iopub.status.idle": "2024-03-04T16:09:53.101679Z",
     "shell.execute_reply": "2024-03-04T16:09:53.101057Z",
     "shell.execute_reply.started": "2024-03-04T16:09:52.973728Z"
    }
   },
   "outputs": [],
   "source": [
    "groupedp = dfp.groupby('id_dir')\n",
    "grouped_arrays_listp = {id_dir: dfp['percentage'].iloc[indices].values for id_dir, indices in groupedp.groups.items()}\n"
   ]
  },
  {
   "cell_type": "code",
   "execution_count": 157,
   "id": "b6673357-885d-478b-90db-d47606078aab",
   "metadata": {
    "execution": {
     "iopub.execute_input": "2024-03-04T16:09:53.159680Z",
     "iopub.status.busy": "2024-03-04T16:09:53.159372Z",
     "iopub.status.idle": "2024-03-04T16:09:53.200959Z",
     "shell.execute_reply": "2024-03-04T16:09:53.200268Z",
     "shell.execute_reply.started": "2024-03-04T16:09:53.159656Z"
    }
   },
   "outputs": [],
   "source": [
    "iddirlp = list(grouped_arrays_listp.keys())\n",
    "enp = []\n",
    "for i in range(0, len(iddirlp)):\n",
    "    l = grouped_arrays_listp[iddirlp[i]]\n",
    "    e = entropy(l)\n",
    "    enp.append(e)"
   ]
  },
  {
   "cell_type": "code",
   "execution_count": 158,
   "id": "3ba7fdd9-a1aa-43a7-8d11-b1c42f1cefea",
   "metadata": {
    "execution": {
     "iopub.execute_input": "2024-03-04T16:09:53.394747Z",
     "iopub.status.busy": "2024-03-04T16:09:53.394437Z",
     "iopub.status.idle": "2024-03-04T16:09:53.406661Z",
     "shell.execute_reply": "2024-03-04T16:09:53.405900Z",
     "shell.execute_reply.started": "2024-03-04T16:09:53.394727Z"
    }
   },
   "outputs": [],
   "source": [
    "dfenp = pd.DataFrame()\n",
    "dfenp['id_dir'] = iddirlp\n",
    "dfenp['entropy'] = enp\n",
    "dfentropyp = pd.merge(dfp, dfenp, on = ['id_dir'])"
   ]
  },
  {
   "cell_type": "code",
   "execution_count": 159,
   "id": "43c39a38-7b0f-4aaf-8b38-61bd9fad5be8",
   "metadata": {
    "execution": {
     "iopub.execute_input": "2024-03-04T16:09:53.744521Z",
     "iopub.status.busy": "2024-03-04T16:09:53.744223Z",
     "iopub.status.idle": "2024-03-04T16:09:53.826834Z",
     "shell.execute_reply": "2024-03-04T16:09:53.826249Z",
     "shell.execute_reply.started": "2024-03-04T16:09:53.744502Z"
    }
   },
   "outputs": [],
   "source": [
    "dfentropyp.to_csv('/home/yelhe/script/mt/output/pseudo_predmaskgroup_entropy.csv', index = False)"
   ]
  },
  {
   "cell_type": "code",
   "execution_count": 160,
   "id": "df918051-a644-4f4f-a230-78747cc0d568",
   "metadata": {
    "execution": {
     "iopub.execute_input": "2024-03-04T16:09:54.272517Z",
     "iopub.status.busy": "2024-03-04T16:09:54.272042Z",
     "iopub.status.idle": "2024-03-04T16:09:54.425589Z",
     "shell.execute_reply": "2024-03-04T16:09:54.425159Z",
     "shell.execute_reply.started": "2024-03-04T16:09:54.272500Z"
    }
   },
   "outputs": [
    {
     "data": {
      "text/plain": [
       "(array([2.000e+00, 1.600e+01, 9.400e+01, 2.860e+02, 1.246e+03, 3.369e+03,\n",
       "        5.362e+03, 4.574e+03, 1.678e+03, 1.650e+02]),\n",
       " array([0.1540761 , 0.31356557, 0.47305503, 0.6325445 , 0.79203396,\n",
       "        0.95152343, 1.11101289, 1.27050236, 1.42999182, 1.58948129,\n",
       "        1.74897075]),\n",
       " <BarContainer object of 10 artists>)"
      ]
     },
     "execution_count": 160,
     "metadata": {},
     "output_type": "execute_result"
    },
    {
     "data": {
      "image/png": "[encoded data removed]",
      "text/plain": [
       "<Figure size 640x480 with 1 Axes>"
      ]
     },
     "metadata": {},
     "output_type": "display_data"
    }
   ],
   "source": [
    "plt.hist(dfentropyp['entropy'])"
   ]
  },
  {
   "cell_type": "code",
   "execution_count": 161,
   "id": "e665ac6d-31fa-42bb-a2b1-0dd0fcb4ea2a",
   "metadata": {
    "execution": {
     "iopub.execute_input": "2024-03-04T16:09:54.911001Z",
     "iopub.status.busy": "2024-03-04T16:09:54.910719Z",
     "iopub.status.idle": "2024-03-04T16:09:54.921182Z",
     "shell.execute_reply": "2024-03-04T16:09:54.920592Z",
     "shell.execute_reply.started": "2024-03-04T16:09:54.910984Z"
    }
   },
   "outputs": [
    {
     "data": {
      "text/html": [
       "<div>\n",
       "<style scoped>\n",
       "    .dataframe tbody tr th:only-of-type {\n",
       "        vertical-align: middle;\n",
       "    }\n",
       "\n",
       "    .dataframe tbody tr th {\n",
       "        vertical-align: top;\n",
       "    }\n",
       "\n",
       "    .dataframe thead th {\n",
       "        text-align: right;\n",
       "    }\n",
       "</style>\n",
       "<table border=\"1\" class=\"dataframe\">\n",
       "  <thead>\n",
       "    <tr style=\"text-align: right;\">\n",
       "      <th></th>\n",
       "      <th>id</th>\n",
       "      <th>dir</th>\n",
       "      <th>p</th>\n",
       "      <th>count</th>\n",
       "      <th>sum</th>\n",
       "      <th>percentage</th>\n",
       "      <th>id_dir</th>\n",
       "      <th>entropy</th>\n",
       "    </tr>\n",
       "  </thead>\n",
       "  <tbody>\n",
       "    <tr>\n",
       "      <th>0</th>\n",
       "      <td>0002</td>\n",
       "      <td>1</td>\n",
       "      <td>2</td>\n",
       "      <td>8</td>\n",
       "      <td>38</td>\n",
       "      <td>0.210526</td>\n",
       "      <td>00021</td>\n",
       "      <td>1.136558</td>\n",
       "    </tr>\n",
       "    <tr>\n",
       "      <th>1</th>\n",
       "      <td>0002</td>\n",
       "      <td>1</td>\n",
       "      <td>4</td>\n",
       "      <td>18</td>\n",
       "      <td>38</td>\n",
       "      <td>0.473684</td>\n",
       "      <td>00021</td>\n",
       "      <td>1.136558</td>\n",
       "    </tr>\n",
       "    <tr>\n",
       "      <th>2</th>\n",
       "      <td>0002</td>\n",
       "      <td>1</td>\n",
       "      <td>5</td>\n",
       "      <td>1</td>\n",
       "      <td>38</td>\n",
       "      <td>0.026316</td>\n",
       "      <td>00021</td>\n",
       "      <td>1.136558</td>\n",
       "    </tr>\n",
       "    <tr>\n",
       "      <th>3</th>\n",
       "      <td>0002</td>\n",
       "      <td>1</td>\n",
       "      <td>6</td>\n",
       "      <td>11</td>\n",
       "      <td>38</td>\n",
       "      <td>0.289474</td>\n",
       "      <td>00021</td>\n",
       "      <td>1.136558</td>\n",
       "    </tr>\n",
       "    <tr>\n",
       "      <th>4</th>\n",
       "      <td>0002</td>\n",
       "      <td>2</td>\n",
       "      <td>0</td>\n",
       "      <td>5</td>\n",
       "      <td>50</td>\n",
       "      <td>0.100000</td>\n",
       "      <td>00022</td>\n",
       "      <td>1.268073</td>\n",
       "    </tr>\n",
       "    <tr>\n",
       "      <th>...</th>\n",
       "      <td>...</td>\n",
       "      <td>...</td>\n",
       "      <td>...</td>\n",
       "      <td>...</td>\n",
       "      <td>...</td>\n",
       "      <td>...</td>\n",
       "      <td>...</td>\n",
       "      <td>...</td>\n",
       "    </tr>\n",
       "    <tr>\n",
       "      <th>16787</th>\n",
       "      <td>0994</td>\n",
       "      <td>3</td>\n",
       "      <td>5</td>\n",
       "      <td>2</td>\n",
       "      <td>24</td>\n",
       "      <td>0.083333</td>\n",
       "      <td>09943</td>\n",
       "      <td>1.105625</td>\n",
       "    </tr>\n",
       "    <tr>\n",
       "      <th>16788</th>\n",
       "      <td>0994</td>\n",
       "      <td>4</td>\n",
       "      <td>0</td>\n",
       "      <td>2</td>\n",
       "      <td>22</td>\n",
       "      <td>0.090909</td>\n",
       "      <td>09944</td>\n",
       "      <td>0.861790</td>\n",
       "    </tr>\n",
       "    <tr>\n",
       "      <th>16789</th>\n",
       "      <td>0994</td>\n",
       "      <td>4</td>\n",
       "      <td>2</td>\n",
       "      <td>1</td>\n",
       "      <td>22</td>\n",
       "      <td>0.045455</td>\n",
       "      <td>09944</td>\n",
       "      <td>0.861790</td>\n",
       "    </tr>\n",
       "    <tr>\n",
       "      <th>16790</th>\n",
       "      <td>0994</td>\n",
       "      <td>4</td>\n",
       "      <td>4</td>\n",
       "      <td>16</td>\n",
       "      <td>22</td>\n",
       "      <td>0.727273</td>\n",
       "      <td>09944</td>\n",
       "      <td>0.861790</td>\n",
       "    </tr>\n",
       "    <tr>\n",
       "      <th>16791</th>\n",
       "      <td>0994</td>\n",
       "      <td>4</td>\n",
       "      <td>6</td>\n",
       "      <td>3</td>\n",
       "      <td>22</td>\n",
       "      <td>0.136364</td>\n",
       "      <td>09944</td>\n",
       "      <td>0.861790</td>\n",
       "    </tr>\n",
       "  </tbody>\n",
       "</table>\n",
       "<p>16792 rows × 8 columns</p>\n",
       "</div>"
      ],
      "text/plain": [
       "         id dir  p  count  sum  percentage id_dir   entropy\n",
       "0      0002   1  2      8   38    0.210526  00021  1.136558\n",
       "1      0002   1  4     18   38    0.473684  00021  1.136558\n",
       "2      0002   1  5      1   38    0.026316  00021  1.136558\n",
       "3      0002   1  6     11   38    0.289474  00021  1.136558\n",
       "4      0002   2  0      5   50    0.100000  00022  1.268073\n",
       "...     ...  .. ..    ...  ...         ...    ...       ...\n",
       "16787  0994   3  5      2   24    0.083333  09943  1.105625\n",
       "16788  0994   4  0      2   22    0.090909  09944  0.861790\n",
       "16789  0994   4  2      1   22    0.045455  09944  0.861790\n",
       "16790  0994   4  4     16   22    0.727273  09944  0.861790\n",
       "16791  0994   4  6      3   22    0.136364  09944  0.861790\n",
       "\n",
       "[16792 rows x 8 columns]"
      ]
     },
     "execution_count": 161,
     "metadata": {},
     "output_type": "execute_result"
    }
   ],
   "source": [
    "dfentropyp"
   ]
  },
  {
   "cell_type": "code",
   "execution_count": 163,
   "id": "a55350d0-26eb-43f9-ac9f-df67497e735b",
   "metadata": {
    "execution": {
     "iopub.execute_input": "2024-03-04T16:10:04.513818Z",
     "iopub.status.busy": "2024-03-04T16:10:04.513345Z",
     "iopub.status.idle": "2024-03-04T16:10:04.518404Z",
     "shell.execute_reply": "2024-03-04T16:10:04.517847Z",
     "shell.execute_reply.started": "2024-03-04T16:10:04.513800Z"
    }
   },
   "outputs": [
    {
     "data": {
      "text/plain": [
       "792"
      ]
     },
     "execution_count": 163,
     "metadata": {},
     "output_type": "execute_result"
    }
   ],
   "source": [
    "len(dfentropyp['id'].unique())"
   ]
  },
  {
   "cell_type": "code",
   "execution_count": null,
   "id": "2fc90acd-c997-437f-91d3-134e9eddc620",
   "metadata": {},
   "outputs": [],
   "source": [
    "# Function for entropy calculation\n",
    "def entropy_calculate(df):\n",
    "    "
   ]
  },
  {
   "cell_type": "markdown",
   "id": "e72d90ba-a1e1-40c8-8890-6d3ad74712ec",
   "metadata": {},
   "source": [
    "##### For the ground scene"
   ]
  },
  {
   "cell_type": "code",
   "execution_count": null,
   "id": "ef529e05-68ac-4af9-98fc-a9ff852d0476",
   "metadata": {},
   "outputs": [],
   "source": []
  }
 ],
 "metadata": {
  "kernelspec": {
   "display_name": "Python 3 (ipykernel)",
   "language": "python",
   "name": "python3"
  },
  "language_info": {
   "codemirror_mode": {
    "name": "ipython",
    "version": 3
   },
   "file_extension": ".py",
   "mimetype": "text/x-python",
   "name": "python",
   "nbconvert_exporter": "python",
   "pygments_lexer": "ipython3",
   "version": "3.11.5"
  }
 },
 "nbformat": 4,
 "nbformat_minor": 5
}
