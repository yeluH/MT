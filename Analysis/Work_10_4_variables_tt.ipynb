{
 "cells": [
  {
   "cell_type": "code",
   "execution_count": 1,
   "id": "7e9f75d8-3be9-45ef-b9ae-ad72fefb7ce1",
   "metadata": {
    "execution": {
     "iopub.execute_input": "2024-03-23T18:53:53.804017Z",
     "iopub.status.busy": "2024-03-23T18:53:53.803687Z",
     "iopub.status.idle": "2024-03-23T18:53:55.304000Z",
     "shell.execute_reply": "2024-03-23T18:53:55.303375Z",
     "shell.execute_reply.started": "2024-03-23T18:53:53.803992Z"
    }
   },
   "outputs": [],
   "source": [
    "import torch\n",
    "torch.cuda.empty_cache() "
   ]
  },
  {
   "cell_type": "code",
   "execution_count": 2,
   "id": "f3e5fa71-37bd-4efe-b8ee-ae3c362b2a1b",
   "metadata": {
    "execution": {
     "iopub.execute_input": "2024-03-23T18:53:55.306023Z",
     "iopub.status.busy": "2024-03-23T18:53:55.305326Z",
     "iopub.status.idle": "2024-03-23T18:53:55.585507Z",
     "shell.execute_reply": "2024-03-23T18:53:55.584916Z",
     "shell.execute_reply.started": "2024-03-23T18:53:55.305988Z"
    }
   },
   "outputs": [],
   "source": [
    "import os \n",
    "os.environ['MPLCONFIGDIR'] = os.getcwd() + \"/configs/\"\n",
    "import matplotlib\n",
    "from matplotlib import pyplot as plt\n",
    "import numpy as np\n",
    "import cv2\n",
    "import urllib.request\n",
    "from PIL import Image"
   ]
  },
  {
   "cell_type": "code",
   "execution_count": 3,
   "id": "132db61a-9aa6-4936-8ab4-054288d07d2e",
   "metadata": {
    "execution": {
     "iopub.execute_input": "2024-03-23T18:53:55.586512Z",
     "iopub.status.busy": "2024-03-23T18:53:55.586296Z",
     "iopub.status.idle": "2024-03-23T18:53:55.963722Z",
     "shell.execute_reply": "2024-03-23T18:53:55.963143Z",
     "shell.execute_reply.started": "2024-03-23T18:53:55.586489Z"
    }
   },
   "outputs": [],
   "source": [
    "import pandas as pd\n",
    "import pyproj"
   ]
  },
  {
   "cell_type": "code",
   "execution_count": 4,
   "id": "80d61825-dc8d-4005-9362-cf497e771695",
   "metadata": {
    "execution": {
     "iopub.execute_input": "2024-03-23T18:53:55.965743Z",
     "iopub.status.busy": "2024-03-23T18:53:55.965181Z",
     "iopub.status.idle": "2024-03-23T18:53:55.969734Z",
     "shell.execute_reply": "2024-03-23T18:53:55.969074Z",
     "shell.execute_reply.started": "2024-03-23T18:53:55.965696Z"
    }
   },
   "outputs": [],
   "source": [
    "import os \n",
    "os.environ['MPLCONFIGDIR'] = os.getcwd() + \"/configs/\"\n",
    "import matplotlib\n",
    "from matplotlib import pyplot as plt\n",
    "import numpy as np\n",
    "import cv2"
   ]
  },
  {
   "cell_type": "code",
   "execution_count": 5,
   "id": "e6000c92-6b7e-4ee5-9c30-ac0dfed91840",
   "metadata": {
    "execution": {
     "iopub.execute_input": "2024-03-23T18:53:55.971128Z",
     "iopub.status.busy": "2024-03-23T18:53:55.970583Z",
     "iopub.status.idle": "2024-03-23T18:53:55.979645Z",
     "shell.execute_reply": "2024-03-23T18:53:55.978892Z",
     "shell.execute_reply.started": "2024-03-23T18:53:55.971106Z"
    }
   },
   "outputs": [],
   "source": [
    "from pathlib import Path"
   ]
  },
  {
   "cell_type": "code",
   "execution_count": 6,
   "id": "59dfb1fc-7192-4ae1-9df9-596320cc4875",
   "metadata": {
    "execution": {
     "iopub.execute_input": "2024-03-23T18:53:55.980852Z",
     "iopub.status.busy": "2024-03-23T18:53:55.980537Z",
     "iopub.status.idle": "2024-03-23T18:53:56.005801Z",
     "shell.execute_reply": "2024-03-23T18:53:56.005224Z",
     "shell.execute_reply.started": "2024-03-23T18:53:55.980827Z"
    }
   },
   "outputs": [],
   "source": [
    "import joblib"
   ]
  },
  {
   "cell_type": "code",
   "execution_count": 7,
   "id": "923fac26-61e2-49dd-9099-e31ff4079430",
   "metadata": {
    "execution": {
     "iopub.execute_input": "2024-03-23T18:53:56.604710Z",
     "iopub.status.busy": "2024-03-23T18:53:56.604369Z",
     "iopub.status.idle": "2024-03-23T18:53:56.891079Z",
     "shell.execute_reply": "2024-03-23T18:53:56.890455Z",
     "shell.execute_reply.started": "2024-03-23T18:53:56.604688Z"
    }
   },
   "outputs": [],
   "source": [
    "from mt_function_yl import *"
   ]
  },
  {
   "cell_type": "code",
   "execution_count": 8,
   "id": "8376ffe7-7aec-4e11-9f86-32619931952f",
   "metadata": {
    "execution": {
     "iopub.execute_input": "2024-03-23T18:53:57.262171Z",
     "iopub.status.busy": "2024-03-23T18:53:57.261705Z",
     "iopub.status.idle": "2024-03-23T18:53:57.356969Z",
     "shell.execute_reply": "2024-03-23T18:53:57.356153Z",
     "shell.execute_reply.started": "2024-03-23T18:53:57.262148Z"
    }
   },
   "outputs": [],
   "source": [
    "import seaborn as sn"
   ]
  },
  {
   "cell_type": "code",
   "execution_count": 9,
   "id": "78c65919-07d0-4aba-a8dc-87298c4b96d6",
   "metadata": {
    "execution": {
     "iopub.execute_input": "2024-03-23T18:53:57.864978Z",
     "iopub.status.busy": "2024-03-23T18:53:57.864467Z",
     "iopub.status.idle": "2024-03-23T18:53:57.868586Z",
     "shell.execute_reply": "2024-03-23T18:53:57.867916Z",
     "shell.execute_reply.started": "2024-03-23T18:53:57.864954Z"
    }
   },
   "outputs": [],
   "source": [
    "from scipy import stats"
   ]
  },
  {
   "cell_type": "code",
   "execution_count": 10,
   "id": "37ca928e-82c3-4ae7-a6c6-3f18c1c233ba",
   "metadata": {
    "execution": {
     "iopub.execute_input": "2024-03-23T18:53:58.409832Z",
     "iopub.status.busy": "2024-03-23T18:53:58.409482Z",
     "iopub.status.idle": "2024-03-23T18:53:58.416572Z",
     "shell.execute_reply": "2024-03-23T18:53:58.415921Z",
     "shell.execute_reply.started": "2024-03-23T18:53:58.409812Z"
    }
   },
   "outputs": [],
   "source": [
    "from tabulate import tabulate"
   ]
  },
  {
   "cell_type": "code",
   "execution_count": 11,
   "id": "b46d5518-dab4-4896-a3f7-7aa74a012e35",
   "metadata": {
    "execution": {
     "iopub.execute_input": "2024-03-23T18:53:59.122515Z",
     "iopub.status.busy": "2024-03-23T18:53:59.121976Z",
     "iopub.status.idle": "2024-03-23T18:53:59.452307Z",
     "shell.execute_reply": "2024-03-23T18:53:59.451645Z",
     "shell.execute_reply.started": "2024-03-23T18:53:59.122488Z"
    }
   },
   "outputs": [],
   "source": [
    "import statsmodels.api as sm"
   ]
  },
  {
   "cell_type": "markdown",
   "id": "11486eff-60e0-460e-a14b-9a0ab0628a50",
   "metadata": {},
   "source": [
    "### Data loading"
   ]
  },
  {
   "cell_type": "code",
   "execution_count": 13,
   "id": "bd1de1e5-d842-482d-9027-047b5690f2c0",
   "metadata": {
    "execution": {
     "iopub.execute_input": "2024-03-21T18:05:13.010401Z",
     "iopub.status.busy": "2024-03-21T18:05:13.009769Z",
     "iopub.status.idle": "2024-03-21T18:05:13.022881Z",
     "shell.execute_reply": "2024-03-21T18:05:13.022291Z",
     "shell.execute_reply.started": "2024-03-21T18:05:13.010373Z"
    }
   },
   "outputs": [],
   "source": [
    "aa = pd.read_csv('/home/yelhe/script/mt/dataraw/dfaa.csv')"
   ]
  },
  {
   "cell_type": "code",
   "execution_count": 200,
   "id": "00541c9d-0214-4d56-8069-2198a7b30e8c",
   "metadata": {
    "execution": {
     "iopub.execute_input": "2024-03-21T20:30:30.701552Z",
     "iopub.status.busy": "2024-03-21T20:30:30.701276Z",
     "iopub.status.idle": "2024-03-21T20:30:30.784902Z",
     "shell.execute_reply": "2024-03-21T20:30:30.784272Z",
     "shell.execute_reply.started": "2024-03-21T20:30:30.701535Z"
    }
   },
   "outputs": [],
   "source": [
    "# tt variables\n",
    "\n",
    "# Distance to features\n",
    "busl = pd.read_csv('/home/yelhe/data/Traffic_network_variables/h/acc_busline.csv')\n",
    "traml = pd.read_csv('/home/yelhe/data/Traffic_network_variables/h/acc_tramrail.csv')\n",
    "trainl = pd.read_csv('/home/yelhe/data/Traffic_network_variables/h/acc_sbahn_h.csv')\n",
    "plight = pd.read_csv('/home/yelhe/data/Traffic_network_variables/h/acc_publiclight.csv')\n",
    "station = pd.read_csv('/home/yelhe/data/Traffic_network_variables/h/acc_station_h.csv')\n",
    "parkcar = pd.read_csv('/home/yelhe/data/Traffic_network_variables/h/acc_parking_car_space.csv')\n",
    "parktw = pd.read_csv('/home/yelhe/data/Traffic_network_variables/h/acc_parking_twowheeler.csv')\n",
    "\n",
    "pedstrainc = pd.read_csv('/home/yelhe/data/Traffic_network_variables/acc_pedestraincrossing_n.csv') # Greg\n",
    "stop = pd.read_csv('/home/yelhe/data/Traffic_network_variables/acc_stopsign_n.csv') # Greg\n",
    "\n",
    "# Road width & surface information\n",
    "roadinfo = pd.read_csv('/home/yelhe/data/Traffic_network_variables/acc_roadsurfacewidth.csv') # Greg\n",
    "# Speedlimit\n",
    "speedlimit = pd.read_csv('/home/yelhe/data/Traffic_network_variables/acc_speedlimit.csv') # Greg\n",
    "\n",
    "# Traffic volume/exposure\n",
    "gvm = pd.read_csv('/home/yelhe/data/Traffic_network_variables/h/acc_gvm.csv')\n",
    "\n",
    "# Area statistics zone\n",
    "trafficarea = pd.read_csv('/home/yelhe/data/Traffic_network_variables/h/acc_trafficarea_h.csv')\n",
    "statzone = pd.read_csv('/home/yelhe/data/Traffic_network_variables/h/acc_statzonen_h.csv')\n",
    "\n",
    "# Curb info\n",
    "curb = pd.read_csv('/home/yelhe/data/Traffic_network_variables/h/acc_curb.csv')\n",
    "\n",
    "# Traffic count\n",
    "bc1921 = pd.read_csv('/home/yelhe/data/Traffic_network_variables/traffic_count/bicyclecount1921.csv')\n",
    "vc1921 = pd.read_csv('/home/yelhe/data/Traffic_network_variables/traffic_count/carcount1921.csv')"
   ]
  },
  {
   "cell_type": "code",
   "execution_count": 17,
   "id": "b1abc280-aa0f-41ab-ba24-441a2e45802d",
   "metadata": {
    "execution": {
     "iopub.execute_input": "2024-03-21T18:18:02.789521Z",
     "iopub.status.busy": "2024-03-21T18:18:02.789240Z",
     "iopub.status.idle": "2024-03-21T18:18:02.793269Z",
     "shell.execute_reply": "2024-03-21T18:18:02.792625Z",
     "shell.execute_reply.started": "2024-03-21T18:18:02.789504Z"
    }
   },
   "outputs": [],
   "source": [
    "ttv = pd.DataFrame()"
   ]
  },
  {
   "cell_type": "code",
   "execution_count": 22,
   "id": "c10b9bd4-83d6-4313-9087-0414d9910163",
   "metadata": {
    "execution": {
     "iopub.execute_input": "2024-03-21T18:20:59.458049Z",
     "iopub.status.busy": "2024-03-21T18:20:59.457760Z",
     "iopub.status.idle": "2024-03-21T18:20:59.464175Z",
     "shell.execute_reply": "2024-03-21T18:20:59.463571Z",
     "shell.execute_reply.started": "2024-03-21T18:20:59.458031Z"
    }
   },
   "outputs": [],
   "source": [
    "buslg = busl.groupby(['Nr', 'distance']).size().reset_index().rename(columns={0:'count'})"
   ]
  },
  {
   "cell_type": "code",
   "execution_count": 26,
   "id": "671dd99d-f434-4590-b3ae-2b10cab877f1",
   "metadata": {
    "execution": {
     "iopub.execute_input": "2024-03-21T18:23:30.330078Z",
     "iopub.status.busy": "2024-03-21T18:23:30.329799Z",
     "iopub.status.idle": "2024-03-21T18:23:30.334190Z",
     "shell.execute_reply": "2024-03-21T18:23:30.333578Z",
     "shell.execute_reply.started": "2024-03-21T18:23:30.330061Z"
    }
   },
   "outputs": [],
   "source": [
    "buslg = buslg.rename(columns = {'distance': 'dbusl'})\n",
    "buslg = buslg.drop(['count'], axis = 1)"
   ]
  },
  {
   "cell_type": "code",
   "execution_count": 24,
   "id": "f530e12a-9d5f-4dca-be58-5dda0956c32b",
   "metadata": {
    "execution": {
     "iopub.execute_input": "2024-03-21T18:22:13.867944Z",
     "iopub.status.busy": "2024-03-21T18:22:13.867437Z",
     "iopub.status.idle": "2024-03-21T18:22:13.873027Z",
     "shell.execute_reply": "2024-03-21T18:22:13.872520Z",
     "shell.execute_reply.started": "2024-03-21T18:22:13.867921Z"
    }
   },
   "outputs": [],
   "source": [
    "ttv['Nr'] = aa['Nr']"
   ]
  },
  {
   "cell_type": "code",
   "execution_count": 27,
   "id": "89b76776-0b88-4abf-b932-8113cee4bec1",
   "metadata": {
    "execution": {
     "iopub.execute_input": "2024-03-21T18:23:48.594640Z",
     "iopub.status.busy": "2024-03-21T18:23:48.594202Z",
     "iopub.status.idle": "2024-03-21T18:23:48.599706Z",
     "shell.execute_reply": "2024-03-21T18:23:48.599218Z",
     "shell.execute_reply.started": "2024-03-21T18:23:48.594623Z"
    }
   },
   "outputs": [],
   "source": [
    "ttv = ttv.merge(buslg, on = ['Nr'])"
   ]
  },
  {
   "cell_type": "code",
   "execution_count": 30,
   "id": "8d13991b-6753-4c10-a856-74014e4c33af",
   "metadata": {
    "execution": {
     "iopub.execute_input": "2024-03-21T18:25:08.682288Z",
     "iopub.status.busy": "2024-03-21T18:25:08.682001Z",
     "iopub.status.idle": "2024-03-21T18:25:08.689271Z",
     "shell.execute_reply": "2024-03-21T18:25:08.688835Z",
     "shell.execute_reply.started": "2024-03-21T18:25:08.682269Z"
    }
   },
   "outputs": [],
   "source": [
    "tramlg = traml.groupby(['Nr', 'distance']).size().reset_index().rename(columns={0:'count'})\n",
    "tramlg = tramlg.rename(columns = {'distance': 'dtraml'})\n",
    "tramlg = tramlg.drop(['count'], axis = 1)"
   ]
  },
  {
   "cell_type": "code",
   "execution_count": 32,
   "id": "185cf753-a0c1-486b-9ef1-82f844f0b6fa",
   "metadata": {
    "execution": {
     "iopub.execute_input": "2024-03-21T18:25:26.066750Z",
     "iopub.status.busy": "2024-03-21T18:25:26.066260Z",
     "iopub.status.idle": "2024-03-21T18:25:26.071674Z",
     "shell.execute_reply": "2024-03-21T18:25:26.071083Z",
     "shell.execute_reply.started": "2024-03-21T18:25:26.066725Z"
    }
   },
   "outputs": [],
   "source": [
    "ttv = ttv.merge(tramlg, on = ['Nr'])"
   ]
  },
  {
   "cell_type": "code",
   "execution_count": 35,
   "id": "55291521-9aed-4464-9a9d-7787fad7505e",
   "metadata": {
    "execution": {
     "iopub.execute_input": "2024-03-21T18:26:43.260719Z",
     "iopub.status.busy": "2024-03-21T18:26:43.260444Z",
     "iopub.status.idle": "2024-03-21T18:26:43.268287Z",
     "shell.execute_reply": "2024-03-21T18:26:43.267696Z",
     "shell.execute_reply.started": "2024-03-21T18:26:43.260701Z"
    }
   },
   "outputs": [],
   "source": [
    "trainlg = trainl.groupby(['Nr', 'distance']).size().reset_index().rename(columns={0:'count'})\n",
    "trainlg = trainlg.rename(columns = {'distance': 'dtrainl'})\n",
    "trainlg = trainlg.drop(['count'], axis = 1)"
   ]
  },
  {
   "cell_type": "code",
   "execution_count": 36,
   "id": "ff73ae2a-d5a8-4c15-aad1-cb17acd916a2",
   "metadata": {
    "execution": {
     "iopub.execute_input": "2024-03-21T18:26:56.660751Z",
     "iopub.status.busy": "2024-03-21T18:26:56.660244Z",
     "iopub.status.idle": "2024-03-21T18:26:56.665783Z",
     "shell.execute_reply": "2024-03-21T18:26:56.665336Z",
     "shell.execute_reply.started": "2024-03-21T18:26:56.660729Z"
    }
   },
   "outputs": [],
   "source": [
    "ttv = ttv.merge(trainlg, on = ['Nr'])"
   ]
  },
  {
   "cell_type": "code",
   "execution_count": 39,
   "id": "1c17f588-4439-4af5-8771-f5d3fccb5604",
   "metadata": {
    "execution": {
     "iopub.execute_input": "2024-03-21T18:28:22.456118Z",
     "iopub.status.busy": "2024-03-21T18:28:22.455841Z",
     "iopub.status.idle": "2024-03-21T18:28:22.462891Z",
     "shell.execute_reply": "2024-03-21T18:28:22.462287Z",
     "shell.execute_reply.started": "2024-03-21T18:28:22.456101Z"
    }
   },
   "outputs": [],
   "source": [
    "plightg = plight.groupby(['Nr', 'distance']).size().reset_index().rename(columns={0:'count'})\n",
    "plightg = plightg.rename(columns = {'distance': 'dplight'})\n",
    "plightg = plightg.drop(['count'], axis = 1)"
   ]
  },
  {
   "cell_type": "code",
   "execution_count": 41,
   "id": "43654ba1-9adc-4f10-a2c4-2b1a62a3136e",
   "metadata": {
    "execution": {
     "iopub.execute_input": "2024-03-21T18:28:38.232856Z",
     "iopub.status.busy": "2024-03-21T18:28:38.232583Z",
     "iopub.status.idle": "2024-03-21T18:28:38.237835Z",
     "shell.execute_reply": "2024-03-21T18:28:38.237400Z",
     "shell.execute_reply.started": "2024-03-21T18:28:38.232839Z"
    }
   },
   "outputs": [],
   "source": [
    "ttv = ttv.merge(plightg, on = ['Nr'])"
   ]
  },
  {
   "cell_type": "code",
   "execution_count": 44,
   "id": "24a9a9c0-6321-461f-aced-1f4199ef88bc",
   "metadata": {
    "execution": {
     "iopub.execute_input": "2024-03-21T18:29:51.966176Z",
     "iopub.status.busy": "2024-03-21T18:29:51.965901Z",
     "iopub.status.idle": "2024-03-21T18:29:51.973156Z",
     "shell.execute_reply": "2024-03-21T18:29:51.972660Z",
     "shell.execute_reply.started": "2024-03-21T18:29:51.966156Z"
    }
   },
   "outputs": [],
   "source": [
    "stationg = station.groupby(['Nr', 'distance']).size().reset_index().rename(columns={0:'count'})\n",
    "stationg = stationg.rename(columns = {'distance': 'dstation'})\n",
    "stationg = stationg.drop(['count'], axis = 1)"
   ]
  },
  {
   "cell_type": "code",
   "execution_count": 46,
   "id": "098c834b-8d04-4538-ab69-9d5aaad15960",
   "metadata": {
    "execution": {
     "iopub.execute_input": "2024-03-21T18:30:14.893226Z",
     "iopub.status.busy": "2024-03-21T18:30:14.892956Z",
     "iopub.status.idle": "2024-03-21T18:30:14.898115Z",
     "shell.execute_reply": "2024-03-21T18:30:14.897546Z",
     "shell.execute_reply.started": "2024-03-21T18:30:14.893208Z"
    }
   },
   "outputs": [],
   "source": [
    "ttv = ttv.merge(stationg, on = ['Nr'])"
   ]
  },
  {
   "cell_type": "code",
   "execution_count": 60,
   "id": "2bbbb239-3663-4988-a6c6-f764db160387",
   "metadata": {
    "execution": {
     "iopub.execute_input": "2024-03-21T18:47:15.661223Z",
     "iopub.status.busy": "2024-03-21T18:47:15.660936Z",
     "iopub.status.idle": "2024-03-21T18:47:15.683702Z",
     "shell.execute_reply": "2024-03-21T18:47:15.683254Z",
     "shell.execute_reply.started": "2024-03-21T18:47:15.661203Z"
    }
   },
   "outputs": [],
   "source": [
    "parkcarg = parkcar.groupby(['Nr', 'distance']).size().reset_index().rename(columns={0:'count'})\n",
    "parkcarg = parkcarg.rename(columns = {'distance': 'dparkcar'})\n",
    "parkcarg = parkcarg.drop(['count'], axis = 1)\n",
    "ttv = ttv.merge(parkcarg, on = ['Nr'])\n",
    "parktwg = parktw.groupby(['Nr', 'distance']).size().reset_index().rename(columns={0:'count'})\n",
    "parktwg = parktwg.rename(columns = {'distance': 'dparktw'})\n",
    "parktwg = parktwg.drop(['count'], axis = 1)\n",
    "ttv = ttv.merge(parktwg, on = ['Nr'])\n",
    "pedcrg = pedstrainc.groupby(['Nr', 'distance']).size().reset_index().rename(columns={0:'count'})\n",
    "pedcrg = pedcrg.rename(columns = {'distance': 'dpedcro'})\n",
    "pedcrg = pedcrg.drop(['count'], axis = 1)\n",
    "ttv = ttv.merge(pedcrg, on = ['Nr'])\n",
    "stopsg = stop.groupby(['Nr', 'distance']).size().reset_index().rename(columns={0:'count'})\n",
    "stopsg = stopsg.rename(columns = {'distance': 'dstopsign'})\n",
    "stopsg = stopsg.drop(['count'], axis = 1)\n",
    "ttv = ttv.merge(stopsg, on = ['Nr'])"
   ]
  },
  {
   "cell_type": "code",
   "execution_count": 64,
   "id": "891d37ee-8424-4c09-a7bd-1fd1cc209ecd",
   "metadata": {
    "execution": {
     "iopub.execute_input": "2024-03-21T19:01:52.335969Z",
     "iopub.status.busy": "2024-03-21T19:01:52.335667Z",
     "iopub.status.idle": "2024-03-21T19:01:52.343948Z",
     "shell.execute_reply": "2024-03-21T19:01:52.343368Z",
     "shell.execute_reply.started": "2024-03-21T19:01:52.335953Z"
    }
   },
   "outputs": [],
   "source": [
    "curbg = curb.groupby(['Nr', 'distance']).size().reset_index().rename(columns={0:'count'})\n",
    "curbg = curbg.rename(columns = {'distance': 'dcurb'})\n",
    "curbg = curbg.drop(['count'], axis = 1)\n",
    "ttv = ttv.merge(curbg, on = ['Nr'])"
   ]
  },
  {
   "cell_type": "code",
   "execution_count": 67,
   "id": "970e3092-0f9f-4aaa-b6c5-f6c32604dc9b",
   "metadata": {
    "execution": {
     "iopub.execute_input": "2024-03-21T19:02:44.541542Z",
     "iopub.status.busy": "2024-03-21T19:02:44.541247Z",
     "iopub.status.idle": "2024-03-21T19:02:44.545297Z",
     "shell.execute_reply": "2024-03-21T19:02:44.544624Z",
     "shell.execute_reply.started": "2024-03-21T19:02:44.541525Z"
    }
   },
   "outputs": [],
   "source": [
    "curbty = curb[['Nr', 'distance', 'abschluss']]"
   ]
  },
  {
   "cell_type": "code",
   "execution_count": 88,
   "id": "a42019b3-43d9-45c2-b495-b0815a7aa0a7",
   "metadata": {
    "execution": {
     "iopub.execute_input": "2024-03-21T19:15:52.927257Z",
     "iopub.status.busy": "2024-03-21T19:15:52.926985Z",
     "iopub.status.idle": "2024-03-21T19:15:52.934088Z",
     "shell.execute_reply": "2024-03-21T19:15:52.933607Z",
     "shell.execute_reply.started": "2024-03-21T19:15:52.927238Z"
    }
   },
   "outputs": [],
   "source": [
    "curbty = curbty.rename(columns = {'abschluss':'curbtype', 'distance':'dcurb'})\n",
    "curbty = curbty.drop_duplicates()\n",
    "ttv = ttv.merge(curbty, on = ['Nr', 'dcurb'])"
   ]
  },
  {
   "cell_type": "code",
   "execution_count": 73,
   "id": "7b330c68-93ad-4e6c-99c7-051534f470d4",
   "metadata": {
    "execution": {
     "iopub.execute_input": "2024-03-21T19:10:02.396133Z",
     "iopub.status.busy": "2024-03-21T19:10:02.395607Z",
     "iopub.status.idle": "2024-03-21T19:10:02.408441Z",
     "shell.execute_reply": "2024-03-21T19:10:02.407958Z",
     "shell.execute_reply.started": "2024-03-21T19:10:02.396107Z"
    }
   },
   "outputs": [],
   "source": [
    "gvmg = gvm.groupby(['Nr', 'distance']).size().reset_index().rename(columns={0:'count'})\n",
    "gvmg = gvmg.rename(columns = {'distance': 'dgvm'})\n",
    "gvmg = gvmg.drop(['count'], axis = 1)\n",
    "ttv = ttv.merge(gvmg, on = ['Nr'])\n",
    "gvmvalue = gvm[['Nr', 'DWV_ANZ_Q', 'MSP_ANZ_Q', 'ASP_ANZ_Q', 'distance']]\n",
    "gvmvalue = gvmvalue.rename(columns = {'DWV_ANZ_Q':'gvm_dwv',\n",
    "                                      'MSP_ANZ_Q':'gvm_msp',\n",
    "                                      'ASP_ANZ_Q':'gvm_asp',\n",
    "                                      'distance':'dgvm'})\n",
    "ttv = ttv.merge(gvmvalue, on = ['Nr', 'dgvm'])"
   ]
  },
  {
   "cell_type": "code",
   "execution_count": 90,
   "id": "7828970c-13e9-4275-8a9b-70346d2242ff",
   "metadata": {
    "execution": {
     "iopub.execute_input": "2024-03-21T19:17:05.180713Z",
     "iopub.status.busy": "2024-03-21T19:17:05.180431Z",
     "iopub.status.idle": "2024-03-21T19:17:05.186785Z",
     "shell.execute_reply": "2024-03-21T19:17:05.186302Z",
     "shell.execute_reply.started": "2024-03-21T19:17:05.180695Z"
    }
   },
   "outputs": [],
   "source": [
    "ttv = ttv.drop(['curbtype_x'], axis = 1)\n",
    "ttv = ttv.drop_duplicates()"
   ]
  },
  {
   "cell_type": "code",
   "execution_count": 92,
   "id": "ae76d57e-6207-42d5-bf8c-72f01a438132",
   "metadata": {
    "execution": {
     "iopub.execute_input": "2024-03-21T19:17:34.285646Z",
     "iopub.status.busy": "2024-03-21T19:17:34.285193Z",
     "iopub.status.idle": "2024-03-21T19:17:34.289386Z",
     "shell.execute_reply": "2024-03-21T19:17:34.288845Z",
     "shell.execute_reply.started": "2024-03-21T19:17:34.285629Z"
    }
   },
   "outputs": [],
   "source": [
    "ttv = ttv.rename(columns = {'curbtype_y': 'curbtype'})"
   ]
  },
  {
   "cell_type": "code",
   "execution_count": 94,
   "id": "829325c6-692a-4904-8633-c82e67ca4f47",
   "metadata": {
    "execution": {
     "iopub.execute_input": "2024-03-21T19:18:07.654987Z",
     "iopub.status.busy": "2024-03-21T19:18:07.654710Z",
     "iopub.status.idle": "2024-03-21T19:18:07.658481Z",
     "shell.execute_reply": "2024-03-21T19:18:07.657769Z",
     "shell.execute_reply.started": "2024-03-21T19:18:07.654970Z"
    }
   },
   "outputs": [],
   "source": [
    "ttv = ttv.reset_index()"
   ]
  },
  {
   "cell_type": "code",
   "execution_count": 97,
   "id": "3837edc9-6222-444a-9ae9-a8c22b3eb5f0",
   "metadata": {
    "execution": {
     "iopub.execute_input": "2024-03-21T19:18:44.506890Z",
     "iopub.status.busy": "2024-03-21T19:18:44.506619Z",
     "iopub.status.idle": "2024-03-21T19:18:44.510480Z",
     "shell.execute_reply": "2024-03-21T19:18:44.509825Z",
     "shell.execute_reply.started": "2024-03-21T19:18:44.506874Z"
    }
   },
   "outputs": [],
   "source": [
    "ttv = ttv.drop(['index'], axis = 1)"
   ]
  },
  {
   "cell_type": "code",
   "execution_count": 100,
   "id": "c926aac3-7eb1-4a79-bc23-faccb567e67a",
   "metadata": {
    "execution": {
     "iopub.execute_input": "2024-03-21T19:20:44.748140Z",
     "iopub.status.busy": "2024-03-21T19:20:44.747527Z",
     "iopub.status.idle": "2024-03-21T19:20:44.751735Z",
     "shell.execute_reply": "2024-03-21T19:20:44.751196Z",
     "shell.execute_reply.started": "2024-03-21T19:20:44.748116Z"
    }
   },
   "outputs": [
    {
     "name": "stdout",
     "output_type": "stream",
     "text": [
      "122 33 12\n"
     ]
    }
   ],
   "source": [
    "print(len(statzone['stznr'].unique()),\n",
    "      len(statzone['qnr'].unique()),\n",
    "      len(statzone['knr'].unique()))"
   ]
  },
  {
   "cell_type": "code",
   "execution_count": 105,
   "id": "158185f9-30af-46cb-bcc2-a0a540f449a7",
   "metadata": {
    "execution": {
     "iopub.execute_input": "2024-03-21T19:23:23.615195Z",
     "iopub.status.busy": "2024-03-21T19:23:23.614924Z",
     "iopub.status.idle": "2024-03-21T19:23:23.620903Z",
     "shell.execute_reply": "2024-03-21T19:23:23.620334Z",
     "shell.execute_reply.started": "2024-03-21T19:23:23.615178Z"
    }
   },
   "outputs": [],
   "source": [
    "statzoneg = statzone[['Nr', 'stznr', 'qnr', 'knr']]\n",
    "statzoneg = statzoneg.rename(columns = {'stznr':'z_stznr', 'qnr':'z_qnr', 'knr':'z_knr'})\n",
    "ttv = ttv.merge(statzoneg, on = ['Nr'])"
   ]
  },
  {
   "cell_type": "code",
   "execution_count": 118,
   "id": "d3ace774-c8fa-4a0b-8efb-208f8d3eb36c",
   "metadata": {
    "execution": {
     "iopub.execute_input": "2024-03-21T19:27:27.004644Z",
     "iopub.status.busy": "2024-03-21T19:27:27.004382Z",
     "iopub.status.idle": "2024-03-21T19:27:27.008458Z",
     "shell.execute_reply": "2024-03-21T19:27:27.007892Z",
     "shell.execute_reply.started": "2024-03-21T19:27:27.004624Z"
    }
   },
   "outputs": [
    {
     "data": {
      "text/plain": [
       "Index(['Nr', 'Koord E', 'Koord N', 'lat', 'lon', 'id', 'zonenname', 'zonentyp',\n",
       "       'zonentyp_t', 'umgesetzt_', 'rechtskrae', 'publiziert', 'objectid',\n",
       "       'distance'],\n",
       "      dtype='object')"
      ]
     },
     "execution_count": 118,
     "metadata": {},
     "output_type": "execute_result"
    }
   ],
   "source": [
    "trafficarea.columns"
   ]
  },
  {
   "cell_type": "code",
   "execution_count": 116,
   "id": "42d24779-0169-4000-a339-77a960aeac77",
   "metadata": {
    "execution": {
     "iopub.execute_input": "2024-03-21T19:26:48.893168Z",
     "iopub.status.busy": "2024-03-21T19:26:48.892891Z",
     "iopub.status.idle": "2024-03-21T19:26:48.899589Z",
     "shell.execute_reply": "2024-03-21T19:26:48.899093Z",
     "shell.execute_reply.started": "2024-03-21T19:26:48.893149Z"
    }
   },
   "outputs": [
    {
     "data": {
      "text/plain": [
       "zonentyp        zonentyp_t\n",
       "Begegnungszone  T20            34\n",
       "Fussgängerzone  T0             32\n",
       "T30-Zone        T30           284\n",
       "dtype: int64"
      ]
     },
     "execution_count": 116,
     "metadata": {},
     "output_type": "execute_result"
    }
   ],
   "source": [
    "trafficarea.groupby(['zonentyp', 'zonentyp_t']).size()"
   ]
  },
  {
   "cell_type": "code",
   "execution_count": 122,
   "id": "8538d8be-825e-4fab-ad43-4f6295ef1123",
   "metadata": {
    "execution": {
     "iopub.execute_input": "2024-03-21T19:29:38.508482Z",
     "iopub.status.busy": "2024-03-21T19:29:38.508204Z",
     "iopub.status.idle": "2024-03-21T19:29:38.514541Z",
     "shell.execute_reply": "2024-03-21T19:29:38.513970Z",
     "shell.execute_reply.started": "2024-03-21T19:29:38.508465Z"
    }
   },
   "outputs": [],
   "source": [
    "tareag = trafficarea[['Nr', 'zonentyp_t', 'distance']]\n",
    "tareag = tareag.rename(columns = {'zonentyp_t':'trafficarea',\n",
    "                                  'distance':'dtrafficarea'})\n",
    "ttv = ttv.merge(tareag, on = ['Nr'])"
   ]
  },
  {
   "cell_type": "code",
   "execution_count": 127,
   "id": "b86391d5-424b-4c5e-b2ad-e4e68e7a3dbf",
   "metadata": {
    "execution": {
     "iopub.execute_input": "2024-03-21T19:32:30.375235Z",
     "iopub.status.busy": "2024-03-21T19:32:30.374951Z",
     "iopub.status.idle": "2024-03-21T19:32:30.381737Z",
     "shell.execute_reply": "2024-03-21T19:32:30.381175Z",
     "shell.execute_reply.started": "2024-03-21T19:32:30.375218Z"
    }
   },
   "outputs": [],
   "source": [
    "rig = roadinfo[['Nr', 'road_width', 'surface', 'distance']]\n",
    "rig = rig.rename(columns = {'road_width':'r_width',\n",
    "                               'distance':'droad',\n",
    "                               'surface':'r_surface'})\n",
    "ttv = ttv.merge(rig, on = ['Nr'])"
   ]
  },
  {
   "cell_type": "code",
   "execution_count": 130,
   "id": "ff5ddfb5-3742-4515-b4d7-073297a6c664",
   "metadata": {
    "execution": {
     "iopub.execute_input": "2024-03-21T19:34:10.195920Z",
     "iopub.status.busy": "2024-03-21T19:34:10.195323Z",
     "iopub.status.idle": "2024-03-21T19:34:10.201508Z",
     "shell.execute_reply": "2024-03-21T19:34:10.200998Z",
     "shell.execute_reply.started": "2024-03-21T19:34:10.195896Z"
    }
   },
   "outputs": [],
   "source": [
    "slg = speedlimit[['Nr', 'speed', 'distance']]\n",
    "slg = slg.rename(columns = {'speed':'speedlimit',\n",
    "                            'distance':'droad_sl'})\n",
    "ttv = ttv.merge(slg, on = ['Nr'])"
   ]
  },
  {
   "cell_type": "code",
   "execution_count": 137,
   "id": "103b15fb-ce55-4619-8595-073b6ad77858",
   "metadata": {
    "execution": {
     "iopub.execute_input": "2024-03-21T19:39:32.340183Z",
     "iopub.status.busy": "2024-03-21T19:39:32.339695Z",
     "iopub.status.idle": "2024-03-21T19:39:32.344009Z",
     "shell.execute_reply": "2024-03-21T19:39:32.343452Z",
     "shell.execute_reply.started": "2024-03-21T19:39:32.340160Z"
    }
   },
   "outputs": [
    {
     "data": {
      "text/plain": [
       "Index(['Nr', 'dbusl', 'dtraml', 'dtrainl', 'dplight', 'dstation', 'dparkcar',\n",
       "       'dparktw', 'dpedcro', 'dstopsign', 'dcurb', 'dgvm', 'gvm_dwv',\n",
       "       'gvm_msp', 'gvm_asp', 'curbtype', 'z_stznr', 'z_qnr', 'z_knr',\n",
       "       'trafficarea', 'dtrafficarea', 'r_width', 'r_surface', 'droad',\n",
       "       'speedlimit', 'droad_sl'],\n",
       "      dtype='object')"
      ]
     },
     "execution_count": 137,
     "metadata": {},
     "output_type": "execute_result"
    }
   ],
   "source": [
    "ttv.columns"
   ]
  },
  {
   "cell_type": "code",
   "execution_count": 151,
   "id": "453728f7-b919-4ac2-91c7-bb74fed90abd",
   "metadata": {
    "execution": {
     "iopub.execute_input": "2024-03-21T19:47:19.044314Z",
     "iopub.status.busy": "2024-03-21T19:47:19.044040Z",
     "iopub.status.idle": "2024-03-21T19:47:19.057206Z",
     "shell.execute_reply": "2024-03-21T19:47:19.056594Z",
     "shell.execute_reply.started": "2024-03-21T19:47:19.044298Z"
    }
   },
   "outputs": [],
   "source": [
    "ttv.to_csv('/home/yelhe/data/Traffic_network_variables/ttvariables_sum.csv', index = False)"
   ]
  },
  {
   "cell_type": "code",
   "execution_count": 196,
   "id": "f63749aa-6a90-4340-854d-31e9a19af6bc",
   "metadata": {
    "execution": {
     "iopub.execute_input": "2024-03-21T20:29:06.614773Z",
     "iopub.status.busy": "2024-03-21T20:29:06.614486Z",
     "iopub.status.idle": "2024-03-21T20:29:06.622272Z",
     "shell.execute_reply": "2024-03-21T20:29:06.621675Z",
     "shell.execute_reply.started": "2024-03-21T20:29:06.614755Z"
    }
   },
   "outputs": [],
   "source": [
    "ttv = pd.read_csv('/home/yelhe/data/Traffic_network_variables/ttvariables_sum.csv')"
   ]
  },
  {
   "cell_type": "code",
   "execution_count": 202,
   "id": "f829f46c-eed9-4762-855b-a9135ee843a5",
   "metadata": {
    "execution": {
     "iopub.execute_input": "2024-03-21T20:30:48.416743Z",
     "iopub.status.busy": "2024-03-21T20:30:48.416480Z",
     "iopub.status.idle": "2024-03-21T20:30:48.420235Z",
     "shell.execute_reply": "2024-03-21T20:30:48.419656Z",
     "shell.execute_reply.started": "2024-03-21T20:30:48.416727Z"
    }
   },
   "outputs": [],
   "source": [
    "bc1921 = bc1921.drop(['Unnamed: 0'], axis = 1)"
   ]
  },
  {
   "cell_type": "code",
   "execution_count": 205,
   "id": "87ccda3b-f7ff-4617-baf7-3b15bae2bc37",
   "metadata": {
    "execution": {
     "iopub.execute_input": "2024-03-21T20:31:30.386978Z",
     "iopub.status.busy": "2024-03-21T20:31:30.386520Z",
     "iopub.status.idle": "2024-03-21T20:31:30.389588Z",
     "shell.execute_reply": "2024-03-21T20:31:30.388975Z",
     "shell.execute_reply.started": "2024-03-21T20:31:30.386959Z"
    }
   },
   "outputs": [],
   "source": [
    "list = bc1921.index.values"
   ]
  },
  {
   "cell_type": "code",
   "execution_count": 207,
   "id": "176ad63f-e9d6-4a2a-ad87-ece4fc639b39",
   "metadata": {
    "execution": {
     "iopub.execute_input": "2024-03-21T20:33:31.560519Z",
     "iopub.status.busy": "2024-03-21T20:33:31.560225Z",
     "iopub.status.idle": "2024-03-21T20:33:31.564361Z",
     "shell.execute_reply": "2024-03-21T20:33:31.563674Z",
     "shell.execute_reply.started": "2024-03-21T20:33:31.560502Z"
    }
   },
   "outputs": [],
   "source": [
    "bc1921 = bc1921.drop(index = [76, 97, 79, 73, 139, 86, 149, 128, 118])"
   ]
  },
  {
   "cell_type": "code",
   "execution_count": 209,
   "id": "dee43501-525d-4a31-b454-9cf9fd5272cc",
   "metadata": {
    "execution": {
     "iopub.execute_input": "2024-03-21T20:33:55.062095Z",
     "iopub.status.busy": "2024-03-21T20:33:55.061808Z",
     "iopub.status.idle": "2024-03-21T20:33:55.075796Z",
     "shell.execute_reply": "2024-03-21T20:33:55.075101Z",
     "shell.execute_reply.started": "2024-03-21T20:33:55.062076Z"
    }
   },
   "outputs": [],
   "source": [
    "bcg = bc1921.groupby(['Nr', 'distance']).size().reset_index().rename(columns={0:'count'})\n",
    "bcg = bcg.rename(columns = {'distance': 'd_bicyclecount'})\n",
    "bcg = bcg.drop(['count'], axis = 1)\n",
    "bcg = bcg.drop_duplicates()\n",
    "ttv = ttv.merge(bcg, on = ['Nr'], how = 'left')\n",
    "bcgv = bc1921[['Nr', 'bicycle_traffic_count', 'distance']]\n",
    "bcgv = bcgv.rename(columns = {'bicycle_traffic_count':'bicyclecount',\n",
    "                              'distance':'d_bicyclecount'})\n",
    "ttv = ttv.merge(bcgv, on = ['Nr', 'd_bicyclecount'], how = 'left')"
   ]
  },
  {
   "cell_type": "code",
   "execution_count": 213,
   "id": "5f376908-90f9-4d1a-b42a-426148545410",
   "metadata": {
    "execution": {
     "iopub.execute_input": "2024-03-21T20:44:46.069659Z",
     "iopub.status.busy": "2024-03-21T20:44:46.069374Z",
     "iopub.status.idle": "2024-03-21T20:44:46.073368Z",
     "shell.execute_reply": "2024-03-21T20:44:46.072743Z",
     "shell.execute_reply.started": "2024-03-21T20:44:46.069638Z"
    }
   },
   "outputs": [],
   "source": [
    "vc1921 = vc1921.drop(['Unnamed: 0'], axis = 1)"
   ]
  },
  {
   "cell_type": "code",
   "execution_count": 214,
   "id": "26bb4c55-c4f5-4cbc-8c94-708b994d6046",
   "metadata": {
    "execution": {
     "iopub.execute_input": "2024-03-21T20:45:15.336275Z",
     "iopub.status.busy": "2024-03-21T20:45:15.335983Z",
     "iopub.status.idle": "2024-03-21T20:45:15.340127Z",
     "shell.execute_reply": "2024-03-21T20:45:15.339442Z",
     "shell.execute_reply.started": "2024-03-21T20:45:15.336256Z"
    }
   },
   "outputs": [],
   "source": [
    "vc1921 = vc1921.drop(index = [42, 40, 76])"
   ]
  },
  {
   "cell_type": "code",
   "execution_count": 217,
   "id": "61e98e41-0426-4ded-b6d9-ae5e10ad0c64",
   "metadata": {
    "execution": {
     "iopub.execute_input": "2024-03-21T20:47:31.360026Z",
     "iopub.status.busy": "2024-03-21T20:47:31.359470Z",
     "iopub.status.idle": "2024-03-21T20:47:31.363226Z",
     "shell.execute_reply": "2024-03-21T20:47:31.362624Z",
     "shell.execute_reply.started": "2024-03-21T20:47:31.360002Z"
    }
   },
   "outputs": [],
   "source": [
    "vc1921.loc[41, 'car_traffic_count'] = 88424.5"
   ]
  },
  {
   "cell_type": "code",
   "execution_count": 220,
   "id": "476281a3-c05f-4853-93fc-73c670cbb3c8",
   "metadata": {
    "execution": {
     "iopub.execute_input": "2024-03-21T20:48:06.499888Z",
     "iopub.status.busy": "2024-03-21T20:48:06.499601Z",
     "iopub.status.idle": "2024-03-21T20:48:06.503124Z",
     "shell.execute_reply": "2024-03-21T20:48:06.502528Z",
     "shell.execute_reply.started": "2024-03-21T20:48:06.499869Z"
    }
   },
   "outputs": [],
   "source": [
    "vc1921.loc[39, 'car_traffic_count'] = 87416.5"
   ]
  },
  {
   "cell_type": "code",
   "execution_count": 223,
   "id": "ab768dc9-59e6-43b6-a0ef-ac149f44fb1e",
   "metadata": {
    "execution": {
     "iopub.execute_input": "2024-03-21T20:48:29.240560Z",
     "iopub.status.busy": "2024-03-21T20:48:29.240281Z",
     "iopub.status.idle": "2024-03-21T20:48:29.243563Z",
     "shell.execute_reply": "2024-03-21T20:48:29.243019Z",
     "shell.execute_reply.started": "2024-03-21T20:48:29.240542Z"
    }
   },
   "outputs": [],
   "source": [
    "vc1921.loc[75, 'car_traffic_count'] = 88582.5"
   ]
  },
  {
   "cell_type": "code",
   "execution_count": 225,
   "id": "72e2098b-39af-4c6a-a0ed-506beb438a36",
   "metadata": {
    "execution": {
     "iopub.execute_input": "2024-03-21T20:50:22.105962Z",
     "iopub.status.busy": "2024-03-21T20:50:22.105685Z",
     "iopub.status.idle": "2024-03-21T20:50:22.116915Z",
     "shell.execute_reply": "2024-03-21T20:50:22.116315Z",
     "shell.execute_reply.started": "2024-03-21T20:50:22.105941Z"
    }
   },
   "outputs": [],
   "source": [
    "vcg = vc1921.groupby(['Nr', 'distance']).size().reset_index().rename(columns={0:'count'})\n",
    "vcg = vcg.rename(columns = {'distance': 'd_carcount'})\n",
    "vcg = vcg.drop(['count'], axis = 1)\n",
    "vcg = vcg.drop_duplicates()\n",
    "ttv = ttv.merge(vcg, on = ['Nr'], how = 'left')\n",
    "vcgv = vc1921[['Nr', 'car_traffic_count', 'distance']]\n",
    "vcgv = vcgv.rename(columns = {'car_traffic_count':'carcount',\n",
    "                              'distance':'d_carcount'})\n",
    "ttv = ttv.merge(vcgv, on = ['Nr', 'd_carcount'], how = 'left')"
   ]
  },
  {
   "cell_type": "code",
   "execution_count": 226,
   "id": "7e8bd7a5-3abd-4a7a-8973-96a7040f7136",
   "metadata": {
    "execution": {
     "iopub.execute_input": "2024-03-21T20:50:25.832056Z",
     "iopub.status.busy": "2024-03-21T20:50:25.831745Z",
     "iopub.status.idle": "2024-03-21T20:50:25.855931Z",
     "shell.execute_reply": "2024-03-21T20:50:25.855389Z",
     "shell.execute_reply.started": "2024-03-21T20:50:25.832036Z"
    }
   },
   "outputs": [
    {
     "data": {
      "text/html": [
       "<div>\n",
       "<style scoped>\n",
       "    .dataframe tbody tr th:only-of-type {\n",
       "        vertical-align: middle;\n",
       "    }\n",
       "\n",
       "    .dataframe tbody tr th {\n",
       "        vertical-align: top;\n",
       "    }\n",
       "\n",
       "    .dataframe thead th {\n",
       "        text-align: right;\n",
       "    }\n",
       "</style>\n",
       "<table border=\"1\" class=\"dataframe\">\n",
       "  <thead>\n",
       "    <tr style=\"text-align: right;\">\n",
       "      <th></th>\n",
       "      <th>Nr</th>\n",
       "      <th>dbusl</th>\n",
       "      <th>dtraml</th>\n",
       "      <th>dtrainl</th>\n",
       "      <th>dplight</th>\n",
       "      <th>dstation</th>\n",
       "      <th>dparkcar</th>\n",
       "      <th>dparktw</th>\n",
       "      <th>dpedcro</th>\n",
       "      <th>dstopsign</th>\n",
       "      <th>...</th>\n",
       "      <th>dtrafficarea</th>\n",
       "      <th>r_width</th>\n",
       "      <th>r_surface</th>\n",
       "      <th>droad</th>\n",
       "      <th>speedlimit</th>\n",
       "      <th>droad_sl</th>\n",
       "      <th>d_bicyclecount</th>\n",
       "      <th>bicyclecount</th>\n",
       "      <th>d_carcount</th>\n",
       "      <th>carcount</th>\n",
       "    </tr>\n",
       "  </thead>\n",
       "  <tbody>\n",
       "    <tr>\n",
       "      <th>0</th>\n",
       "      <td>99900060852597</td>\n",
       "      <td>29.425561</td>\n",
       "      <td>24.211812</td>\n",
       "      <td>106.688897</td>\n",
       "      <td>3.781712</td>\n",
       "      <td>26.868817</td>\n",
       "      <td>35.656105</td>\n",
       "      <td>194.231319</td>\n",
       "      <td>8.128722</td>\n",
       "      <td>712.383770</td>\n",
       "      <td>...</td>\n",
       "      <td>1.794085</td>\n",
       "      <td>4</td>\n",
       "      <td>Hart</td>\n",
       "      <td>1.885184</td>\n",
       "      <td>30.0</td>\n",
       "      <td>1.885149</td>\n",
       "      <td>NaN</td>\n",
       "      <td>NaN</td>\n",
       "      <td>NaN</td>\n",
       "      <td>NaN</td>\n",
       "    </tr>\n",
       "    <tr>\n",
       "      <th>1</th>\n",
       "      <td>99900063018611</td>\n",
       "      <td>11.679839</td>\n",
       "      <td>460.233213</td>\n",
       "      <td>1585.606526</td>\n",
       "      <td>2.626894</td>\n",
       "      <td>47.632749</td>\n",
       "      <td>89.812220</td>\n",
       "      <td>329.769619</td>\n",
       "      <td>78.080802</td>\n",
       "      <td>56.381644</td>\n",
       "      <td>...</td>\n",
       "      <td>55.044835</td>\n",
       "      <td>2</td>\n",
       "      <td>Hart</td>\n",
       "      <td>0.700847</td>\n",
       "      <td>0.0</td>\n",
       "      <td>0.700853</td>\n",
       "      <td>NaN</td>\n",
       "      <td>NaN</td>\n",
       "      <td>NaN</td>\n",
       "      <td>NaN</td>\n",
       "    </tr>\n",
       "    <tr>\n",
       "      <th>2</th>\n",
       "      <td>99900052723510</td>\n",
       "      <td>80.234787</td>\n",
       "      <td>129.630319</td>\n",
       "      <td>272.559762</td>\n",
       "      <td>9.161328</td>\n",
       "      <td>183.173667</td>\n",
       "      <td>12.535775</td>\n",
       "      <td>80.267681</td>\n",
       "      <td>68.281781</td>\n",
       "      <td>670.054240</td>\n",
       "      <td>...</td>\n",
       "      <td>0.000000</td>\n",
       "      <td>4</td>\n",
       "      <td>Hart</td>\n",
       "      <td>4.735467</td>\n",
       "      <td>30.0</td>\n",
       "      <td>4.735445</td>\n",
       "      <td>NaN</td>\n",
       "      <td>NaN</td>\n",
       "      <td>749.217296</td>\n",
       "      <td>45701.0</td>\n",
       "    </tr>\n",
       "    <tr>\n",
       "      <th>3</th>\n",
       "      <td>99900061514043</td>\n",
       "      <td>2.506815</td>\n",
       "      <td>101.196875</td>\n",
       "      <td>409.942474</td>\n",
       "      <td>9.201655</td>\n",
       "      <td>126.478735</td>\n",
       "      <td>3.217583</td>\n",
       "      <td>158.221280</td>\n",
       "      <td>101.609587</td>\n",
       "      <td>1112.567978</td>\n",
       "      <td>...</td>\n",
       "      <td>63.477600</td>\n",
       "      <td>8</td>\n",
       "      <td>Hart</td>\n",
       "      <td>1.688573</td>\n",
       "      <td>60.0</td>\n",
       "      <td>1.688617</td>\n",
       "      <td>NaN</td>\n",
       "      <td>NaN</td>\n",
       "      <td>NaN</td>\n",
       "      <td>NaN</td>\n",
       "    </tr>\n",
       "    <tr>\n",
       "      <th>4</th>\n",
       "      <td>99900063037843</td>\n",
       "      <td>45.063084</td>\n",
       "      <td>141.952642</td>\n",
       "      <td>1373.050289</td>\n",
       "      <td>13.201583</td>\n",
       "      <td>161.199806</td>\n",
       "      <td>8.905580</td>\n",
       "      <td>130.926393</td>\n",
       "      <td>125.990176</td>\n",
       "      <td>363.725692</td>\n",
       "      <td>...</td>\n",
       "      <td>0.000000</td>\n",
       "      <td>4</td>\n",
       "      <td>Hart</td>\n",
       "      <td>5.435503</td>\n",
       "      <td>30.0</td>\n",
       "      <td>5.435473</td>\n",
       "      <td>NaN</td>\n",
       "      <td>NaN</td>\n",
       "      <td>NaN</td>\n",
       "      <td>NaN</td>\n",
       "    </tr>\n",
       "    <tr>\n",
       "      <th>...</th>\n",
       "      <td>...</td>\n",
       "      <td>...</td>\n",
       "      <td>...</td>\n",
       "      <td>...</td>\n",
       "      <td>...</td>\n",
       "      <td>...</td>\n",
       "      <td>...</td>\n",
       "      <td>...</td>\n",
       "      <td>...</td>\n",
       "      <td>...</td>\n",
       "      <td>...</td>\n",
       "      <td>...</td>\n",
       "      <td>...</td>\n",
       "      <td>...</td>\n",
       "      <td>...</td>\n",
       "      <td>...</td>\n",
       "      <td>...</td>\n",
       "      <td>...</td>\n",
       "      <td>...</td>\n",
       "      <td>...</td>\n",
       "      <td>...</td>\n",
       "    </tr>\n",
       "    <tr>\n",
       "      <th>345</th>\n",
       "      <td>99900055905276</td>\n",
       "      <td>11.710725</td>\n",
       "      <td>2.234845</td>\n",
       "      <td>895.476702</td>\n",
       "      <td>0.971010</td>\n",
       "      <td>101.636500</td>\n",
       "      <td>66.327998</td>\n",
       "      <td>371.563385</td>\n",
       "      <td>44.091890</td>\n",
       "      <td>887.327691</td>\n",
       "      <td>...</td>\n",
       "      <td>1.103187</td>\n",
       "      <td>6</td>\n",
       "      <td>Hart</td>\n",
       "      <td>11.255950</td>\n",
       "      <td>50.0</td>\n",
       "      <td>11.255981</td>\n",
       "      <td>2405.574172</td>\n",
       "      <td>6692.00841</td>\n",
       "      <td>580.977396</td>\n",
       "      <td>26432.0</td>\n",
       "    </tr>\n",
       "    <tr>\n",
       "      <th>346</th>\n",
       "      <td>99900060670975</td>\n",
       "      <td>172.642072</td>\n",
       "      <td>163.448242</td>\n",
       "      <td>721.773091</td>\n",
       "      <td>6.766016</td>\n",
       "      <td>176.783598</td>\n",
       "      <td>10.735260</td>\n",
       "      <td>212.876883</td>\n",
       "      <td>6.765543</td>\n",
       "      <td>662.060481</td>\n",
       "      <td>...</td>\n",
       "      <td>0.000000</td>\n",
       "      <td>4</td>\n",
       "      <td>Hart</td>\n",
       "      <td>3.385416</td>\n",
       "      <td>30.0</td>\n",
       "      <td>3.385384</td>\n",
       "      <td>NaN</td>\n",
       "      <td>NaN</td>\n",
       "      <td>NaN</td>\n",
       "      <td>NaN</td>\n",
       "    </tr>\n",
       "    <tr>\n",
       "      <th>347</th>\n",
       "      <td>99900047367168</td>\n",
       "      <td>272.358546</td>\n",
       "      <td>5.854481</td>\n",
       "      <td>647.324745</td>\n",
       "      <td>7.363513</td>\n",
       "      <td>30.462290</td>\n",
       "      <td>192.688788</td>\n",
       "      <td>156.788057</td>\n",
       "      <td>177.979082</td>\n",
       "      <td>366.608632</td>\n",
       "      <td>...</td>\n",
       "      <td>48.667513</td>\n",
       "      <td>8</td>\n",
       "      <td>Hart</td>\n",
       "      <td>8.463655</td>\n",
       "      <td>0.0</td>\n",
       "      <td>8.463668</td>\n",
       "      <td>NaN</td>\n",
       "      <td>NaN</td>\n",
       "      <td>293.501195</td>\n",
       "      <td>78167.0</td>\n",
       "    </tr>\n",
       "    <tr>\n",
       "      <th>348</th>\n",
       "      <td>99900050714619</td>\n",
       "      <td>142.965486</td>\n",
       "      <td>132.833440</td>\n",
       "      <td>438.934821</td>\n",
       "      <td>6.127168</td>\n",
       "      <td>146.742527</td>\n",
       "      <td>6.174056</td>\n",
       "      <td>69.721351</td>\n",
       "      <td>143.169739</td>\n",
       "      <td>631.488493</td>\n",
       "      <td>...</td>\n",
       "      <td>0.000000</td>\n",
       "      <td>3</td>\n",
       "      <td>Hart</td>\n",
       "      <td>3.388330</td>\n",
       "      <td>30.0</td>\n",
       "      <td>3.388310</td>\n",
       "      <td>NaN</td>\n",
       "      <td>NaN</td>\n",
       "      <td>202.338784</td>\n",
       "      <td>26265.0</td>\n",
       "    </tr>\n",
       "    <tr>\n",
       "      <th>349</th>\n",
       "      <td>99900060734330</td>\n",
       "      <td>335.178177</td>\n",
       "      <td>316.130097</td>\n",
       "      <td>332.346096</td>\n",
       "      <td>80.361650</td>\n",
       "      <td>343.942849</td>\n",
       "      <td>2.959581</td>\n",
       "      <td>42.524730</td>\n",
       "      <td>321.883407</td>\n",
       "      <td>464.846328</td>\n",
       "      <td>...</td>\n",
       "      <td>75.063500</td>\n",
       "      <td>6</td>\n",
       "      <td>Hart</td>\n",
       "      <td>84.388032</td>\n",
       "      <td>30.0</td>\n",
       "      <td>84.387998</td>\n",
       "      <td>NaN</td>\n",
       "      <td>NaN</td>\n",
       "      <td>NaN</td>\n",
       "      <td>NaN</td>\n",
       "    </tr>\n",
       "  </tbody>\n",
       "</table>\n",
       "<p>350 rows × 30 columns</p>\n",
       "</div>"
      ],
      "text/plain": [
       "                 Nr       dbusl      dtraml      dtrainl    dplight  \\\n",
       "0    99900060852597   29.425561   24.211812   106.688897   3.781712   \n",
       "1    99900063018611   11.679839  460.233213  1585.606526   2.626894   \n",
       "2    99900052723510   80.234787  129.630319   272.559762   9.161328   \n",
       "3    99900061514043    2.506815  101.196875   409.942474   9.201655   \n",
       "4    99900063037843   45.063084  141.952642  1373.050289  13.201583   \n",
       "..              ...         ...         ...          ...        ...   \n",
       "345  99900055905276   11.710725    2.234845   895.476702   0.971010   \n",
       "346  99900060670975  172.642072  163.448242   721.773091   6.766016   \n",
       "347  99900047367168  272.358546    5.854481   647.324745   7.363513   \n",
       "348  99900050714619  142.965486  132.833440   438.934821   6.127168   \n",
       "349  99900060734330  335.178177  316.130097   332.346096  80.361650   \n",
       "\n",
       "       dstation    dparkcar     dparktw     dpedcro    dstopsign  ...  \\\n",
       "0     26.868817   35.656105  194.231319    8.128722   712.383770  ...   \n",
       "1     47.632749   89.812220  329.769619   78.080802    56.381644  ...   \n",
       "2    183.173667   12.535775   80.267681   68.281781   670.054240  ...   \n",
       "3    126.478735    3.217583  158.221280  101.609587  1112.567978  ...   \n",
       "4    161.199806    8.905580  130.926393  125.990176   363.725692  ...   \n",
       "..          ...         ...         ...         ...          ...  ...   \n",
       "345  101.636500   66.327998  371.563385   44.091890   887.327691  ...   \n",
       "346  176.783598   10.735260  212.876883    6.765543   662.060481  ...   \n",
       "347   30.462290  192.688788  156.788057  177.979082   366.608632  ...   \n",
       "348  146.742527    6.174056   69.721351  143.169739   631.488493  ...   \n",
       "349  343.942849    2.959581   42.524730  321.883407   464.846328  ...   \n",
       "\n",
       "     dtrafficarea  r_width  r_surface      droad  speedlimit   droad_sl  \\\n",
       "0        1.794085        4       Hart   1.885184        30.0   1.885149   \n",
       "1       55.044835        2       Hart   0.700847         0.0   0.700853   \n",
       "2        0.000000        4       Hart   4.735467        30.0   4.735445   \n",
       "3       63.477600        8       Hart   1.688573        60.0   1.688617   \n",
       "4        0.000000        4       Hart   5.435503        30.0   5.435473   \n",
       "..            ...      ...        ...        ...         ...        ...   \n",
       "345      1.103187        6       Hart  11.255950        50.0  11.255981   \n",
       "346      0.000000        4       Hart   3.385416        30.0   3.385384   \n",
       "347     48.667513        8       Hart   8.463655         0.0   8.463668   \n",
       "348      0.000000        3       Hart   3.388330        30.0   3.388310   \n",
       "349     75.063500        6       Hart  84.388032        30.0  84.387998   \n",
       "\n",
       "     d_bicyclecount  bicyclecount  d_carcount carcount  \n",
       "0               NaN           NaN         NaN      NaN  \n",
       "1               NaN           NaN         NaN      NaN  \n",
       "2               NaN           NaN  749.217296  45701.0  \n",
       "3               NaN           NaN         NaN      NaN  \n",
       "4               NaN           NaN         NaN      NaN  \n",
       "..              ...           ...         ...      ...  \n",
       "345     2405.574172    6692.00841  580.977396  26432.0  \n",
       "346             NaN           NaN         NaN      NaN  \n",
       "347             NaN           NaN  293.501195  78167.0  \n",
       "348             NaN           NaN  202.338784  26265.0  \n",
       "349             NaN           NaN         NaN      NaN  \n",
       "\n",
       "[350 rows x 30 columns]"
      ]
     },
     "execution_count": 226,
     "metadata": {},
     "output_type": "execute_result"
    }
   ],
   "source": [
    "ttv"
   ]
  },
  {
   "cell_type": "code",
   "execution_count": 14,
   "id": "48429f46-d998-4eae-9104-44d0797955bf",
   "metadata": {
    "execution": {
     "iopub.execute_input": "2024-03-23T18:54:09.507111Z",
     "iopub.status.busy": "2024-03-23T18:54:09.506825Z",
     "iopub.status.idle": "2024-03-23T18:54:09.510151Z",
     "shell.execute_reply": "2024-03-23T18:54:09.509518Z",
     "shell.execute_reply.started": "2024-03-23T18:54:09.507090Z"
    }
   },
   "outputs": [],
   "source": [
    "# ttv.to_csv('/home/yelhe/data/Traffic_network_variables/ttvariables_sum_withtrafficcount.csv', index = False)"
   ]
  },
  {
   "cell_type": "code",
   "execution_count": 24,
   "id": "016c2c8d-0473-4c60-ba13-c5d5e19c04d6",
   "metadata": {
    "execution": {
     "iopub.execute_input": "2024-03-23T18:57:36.217510Z",
     "iopub.status.busy": "2024-03-23T18:57:36.217176Z",
     "iopub.status.idle": "2024-03-23T18:57:36.228173Z",
     "shell.execute_reply": "2024-03-23T18:57:36.227472Z",
     "shell.execute_reply.started": "2024-03-23T18:57:36.217491Z"
    }
   },
   "outputs": [],
   "source": [
    "ttv = pd.read_csv('/home/yelhe/data/Traffic_network_variables/ttvariables_sum_withtrafficcount.csv')\n",
    "vfpath = pd.read_csv('/home/yelhe/data/Traffic_network_variables/h/acc_velofusspath.csv')"
   ]
  },
  {
   "cell_type": "code",
   "execution_count": 25,
   "id": "5d3a1c05-8511-4cd8-b07f-b8aa9c845bcc",
   "metadata": {
    "execution": {
     "iopub.execute_input": "2024-03-23T18:57:36.581554Z",
     "iopub.status.busy": "2024-03-23T18:57:36.581236Z",
     "iopub.status.idle": "2024-03-23T18:57:36.588763Z",
     "shell.execute_reply": "2024-03-23T18:57:36.588268Z",
     "shell.execute_reply.started": "2024-03-23T18:57:36.581535Z"
    }
   },
   "outputs": [],
   "source": [
    "vfpg = vfpath.groupby(['Nr', 'distance']).size().reset_index().rename(columns={0:'count'})\n",
    "vfpg = vfpg.rename(columns = {'distance': 'dvfpath'})\n",
    "vfpg = vfpg.drop(['count'], axis = 1)"
   ]
  },
  {
   "cell_type": "code",
   "execution_count": 26,
   "id": "6f7a39b1-886f-49cd-b6ba-771707ec37db",
   "metadata": {
    "execution": {
     "iopub.execute_input": "2024-03-23T18:57:37.799994Z",
     "iopub.status.busy": "2024-03-23T18:57:37.799641Z",
     "iopub.status.idle": "2024-03-23T18:57:37.807738Z",
     "shell.execute_reply": "2024-03-23T18:57:37.807101Z",
     "shell.execute_reply.started": "2024-03-23T18:57:37.799971Z"
    }
   },
   "outputs": [
    {
     "data": {
      "text/html": [
       "<div>\n",
       "<style scoped>\n",
       "    .dataframe tbody tr th:only-of-type {\n",
       "        vertical-align: middle;\n",
       "    }\n",
       "\n",
       "    .dataframe tbody tr th {\n",
       "        vertical-align: top;\n",
       "    }\n",
       "\n",
       "    .dataframe thead th {\n",
       "        text-align: right;\n",
       "    }\n",
       "</style>\n",
       "<table border=\"1\" class=\"dataframe\">\n",
       "  <thead>\n",
       "    <tr style=\"text-align: right;\">\n",
       "      <th></th>\n",
       "      <th>Nr</th>\n",
       "      <th>dvfpath</th>\n",
       "    </tr>\n",
       "  </thead>\n",
       "  <tbody>\n",
       "    <tr>\n",
       "      <th>0</th>\n",
       "      <td>99900044963840</td>\n",
       "      <td>9.410807</td>\n",
       "    </tr>\n",
       "    <tr>\n",
       "      <th>1</th>\n",
       "      <td>99900045510756</td>\n",
       "      <td>0.420799</td>\n",
       "    </tr>\n",
       "    <tr>\n",
       "      <th>2</th>\n",
       "      <td>99900045511204</td>\n",
       "      <td>0.437524</td>\n",
       "    </tr>\n",
       "    <tr>\n",
       "      <th>3</th>\n",
       "      <td>99900045553013</td>\n",
       "      <td>6.802020</td>\n",
       "    </tr>\n",
       "    <tr>\n",
       "      <th>4</th>\n",
       "      <td>99900045612893</td>\n",
       "      <td>7.188158</td>\n",
       "    </tr>\n",
       "    <tr>\n",
       "      <th>...</th>\n",
       "      <td>...</td>\n",
       "      <td>...</td>\n",
       "    </tr>\n",
       "    <tr>\n",
       "      <th>345</th>\n",
       "      <td>99900063695545</td>\n",
       "      <td>5.926033</td>\n",
       "    </tr>\n",
       "    <tr>\n",
       "      <th>346</th>\n",
       "      <td>99900063698497</td>\n",
       "      <td>0.909111</td>\n",
       "    </tr>\n",
       "    <tr>\n",
       "      <th>347</th>\n",
       "      <td>99900063992212</td>\n",
       "      <td>4.419567</td>\n",
       "    </tr>\n",
       "    <tr>\n",
       "      <th>348</th>\n",
       "      <td>99900064009149</td>\n",
       "      <td>2.945314</td>\n",
       "    </tr>\n",
       "    <tr>\n",
       "      <th>349</th>\n",
       "      <td>99900064009230</td>\n",
       "      <td>1.351110</td>\n",
       "    </tr>\n",
       "  </tbody>\n",
       "</table>\n",
       "<p>350 rows × 2 columns</p>\n",
       "</div>"
      ],
      "text/plain": [
       "                 Nr   dvfpath\n",
       "0    99900044963840  9.410807\n",
       "1    99900045510756  0.420799\n",
       "2    99900045511204  0.437524\n",
       "3    99900045553013  6.802020\n",
       "4    99900045612893  7.188158\n",
       "..              ...       ...\n",
       "345  99900063695545  5.926033\n",
       "346  99900063698497  0.909111\n",
       "347  99900063992212  4.419567\n",
       "348  99900064009149  2.945314\n",
       "349  99900064009230  1.351110\n",
       "\n",
       "[350 rows x 2 columns]"
      ]
     },
     "execution_count": 26,
     "metadata": {},
     "output_type": "execute_result"
    }
   ],
   "source": [
    "vfpg"
   ]
  },
  {
   "cell_type": "code",
   "execution_count": 27,
   "id": "aa0bd59e-f102-4ec2-b7eb-d7442de981d7",
   "metadata": {
    "execution": {
     "iopub.execute_input": "2024-03-23T18:57:42.139991Z",
     "iopub.status.busy": "2024-03-23T18:57:42.139632Z",
     "iopub.status.idle": "2024-03-23T18:57:42.145667Z",
     "shell.execute_reply": "2024-03-23T18:57:42.145089Z",
     "shell.execute_reply.started": "2024-03-23T18:57:42.139968Z"
    }
   },
   "outputs": [],
   "source": [
    "ttv = ttv.merge(vfpg, on = ['Nr'])"
   ]
  },
  {
   "cell_type": "code",
   "execution_count": 28,
   "id": "2c68b37b-2cb6-4e2d-9e12-064d4bcdb099",
   "metadata": {
    "execution": {
     "iopub.execute_input": "2024-03-23T18:57:44.882399Z",
     "iopub.status.busy": "2024-03-23T18:57:44.882040Z",
     "iopub.status.idle": "2024-03-23T18:57:44.903677Z",
     "shell.execute_reply": "2024-03-23T18:57:44.903013Z",
     "shell.execute_reply.started": "2024-03-23T18:57:44.882379Z"
    }
   },
   "outputs": [],
   "source": [
    "ttv.to_csv('/home/yelhe/data/Traffic_network_variables/ttvariables_sum_updated0323.csv', index = False)"
   ]
  }
 ],
 "metadata": {
  "kernelspec": {
   "display_name": "Python 3 (ipykernel)",
   "language": "python",
   "name": "python3"
  },
  "language_info": {
   "codemirror_mode": {
    "name": "ipython",
    "version": 3
   },
   "file_extension": ".py",
   "mimetype": "text/x-python",
   "name": "python",
   "nbconvert_exporter": "python",
   "pygments_lexer": "ipython3",
   "version": "3.11.5"
  }
 },
 "nbformat": 4,
 "nbformat_minor": 5
}
