{
 "cells": [
  {
   "cell_type": "code",
   "execution_count": 1,
   "id": "7e9f75d8-3be9-45ef-b9ae-ad72fefb7ce1",
   "metadata": {
    "execution": {
     "iopub.execute_input": "2024-04-24T23:45:17.166645Z",
     "iopub.status.busy": "2024-04-24T23:45:17.166316Z",
     "iopub.status.idle": "2024-04-24T23:45:19.006093Z",
     "shell.execute_reply": "2024-04-24T23:45:19.005020Z",
     "shell.execute_reply.started": "2024-04-24T23:45:17.166622Z"
    }
   },
   "outputs": [],
   "source": [
    "import torch\n",
    "torch.cuda.empty_cache() "
   ]
  },
  {
   "cell_type": "code",
   "execution_count": 2,
   "id": "f3e5fa71-37bd-4efe-b8ee-ae3c362b2a1b",
   "metadata": {
    "execution": {
     "iopub.execute_input": "2024-04-24T23:45:19.008594Z",
     "iopub.status.busy": "2024-04-24T23:45:19.008125Z",
     "iopub.status.idle": "2024-04-24T23:45:19.327537Z",
     "shell.execute_reply": "2024-04-24T23:45:19.326834Z",
     "shell.execute_reply.started": "2024-04-24T23:45:19.008558Z"
    }
   },
   "outputs": [],
   "source": [
    "import os \n",
    "os.environ['MPLCONFIGDIR'] = os.getcwd() + \"/configs/\"\n",
    "import matplotlib\n",
    "from matplotlib import pyplot as plt\n",
    "import numpy as np\n",
    "import cv2\n",
    "import urllib.request\n",
    "from PIL import Image"
   ]
  },
  {
   "cell_type": "code",
   "execution_count": 3,
   "id": "132db61a-9aa6-4936-8ab4-054288d07d2e",
   "metadata": {
    "execution": {
     "iopub.execute_input": "2024-04-24T23:45:19.329243Z",
     "iopub.status.busy": "2024-04-24T23:45:19.328914Z",
     "iopub.status.idle": "2024-04-24T23:45:19.994905Z",
     "shell.execute_reply": "2024-04-24T23:45:19.994141Z",
     "shell.execute_reply.started": "2024-04-24T23:45:19.329213Z"
    }
   },
   "outputs": [],
   "source": [
    "import pandas as pd\n",
    "import pyproj"
   ]
  },
  {
   "cell_type": "code",
   "execution_count": 4,
   "id": "80d61825-dc8d-4005-9362-cf497e771695",
   "metadata": {
    "execution": {
     "iopub.execute_input": "2024-04-24T23:45:19.997621Z",
     "iopub.status.busy": "2024-04-24T23:45:19.997063Z",
     "iopub.status.idle": "2024-04-24T23:45:20.001542Z",
     "shell.execute_reply": "2024-04-24T23:45:20.000862Z",
     "shell.execute_reply.started": "2024-04-24T23:45:19.997592Z"
    }
   },
   "outputs": [],
   "source": [
    "import os \n",
    "os.environ['MPLCONFIGDIR'] = os.getcwd() + \"/configs/\"\n",
    "import matplotlib\n",
    "from matplotlib import pyplot as plt\n",
    "import numpy as np\n",
    "import cv2"
   ]
  },
  {
   "cell_type": "code",
   "execution_count": 5,
   "id": "e6000c92-6b7e-4ee5-9c30-ac0dfed91840",
   "metadata": {
    "execution": {
     "iopub.execute_input": "2024-04-24T23:45:20.002723Z",
     "iopub.status.busy": "2024-04-24T23:45:20.002471Z",
     "iopub.status.idle": "2024-04-24T23:45:20.009755Z",
     "shell.execute_reply": "2024-04-24T23:45:20.009046Z",
     "shell.execute_reply.started": "2024-04-24T23:45:20.002698Z"
    }
   },
   "outputs": [],
   "source": [
    "from pathlib import Path"
   ]
  },
  {
   "cell_type": "code",
   "execution_count": 6,
   "id": "59dfb1fc-7192-4ae1-9df9-596320cc4875",
   "metadata": {
    "execution": {
     "iopub.execute_input": "2024-04-24T23:45:20.011042Z",
     "iopub.status.busy": "2024-04-24T23:45:20.010766Z",
     "iopub.status.idle": "2024-04-24T23:45:20.037174Z",
     "shell.execute_reply": "2024-04-24T23:45:20.036487Z",
     "shell.execute_reply.started": "2024-04-24T23:45:20.011017Z"
    }
   },
   "outputs": [],
   "source": [
    "import joblib"
   ]
  },
  {
   "cell_type": "code",
   "execution_count": 7,
   "id": "923fac26-61e2-49dd-9099-e31ff4079430",
   "metadata": {
    "execution": {
     "iopub.execute_input": "2024-04-24T23:45:20.038438Z",
     "iopub.status.busy": "2024-04-24T23:45:20.038189Z",
     "iopub.status.idle": "2024-04-24T23:45:20.342730Z",
     "shell.execute_reply": "2024-04-24T23:45:20.341975Z",
     "shell.execute_reply.started": "2024-04-24T23:45:20.038414Z"
    }
   },
   "outputs": [],
   "source": [
    "from mt_function_yl import *"
   ]
  },
  {
   "cell_type": "code",
   "execution_count": 8,
   "id": "8376ffe7-7aec-4e11-9f86-32619931952f",
   "metadata": {
    "execution": {
     "iopub.execute_input": "2024-04-24T23:45:20.344204Z",
     "iopub.status.busy": "2024-04-24T23:45:20.343741Z",
     "iopub.status.idle": "2024-04-24T23:45:20.440670Z",
     "shell.execute_reply": "2024-04-24T23:45:20.439934Z",
     "shell.execute_reply.started": "2024-04-24T23:45:20.344178Z"
    }
   },
   "outputs": [],
   "source": [
    "import seaborn as sn"
   ]
  },
  {
   "cell_type": "code",
   "execution_count": 9,
   "id": "78c65919-07d0-4aba-a8dc-87298c4b96d6",
   "metadata": {
    "execution": {
     "iopub.execute_input": "2024-04-24T23:45:20.441967Z",
     "iopub.status.busy": "2024-04-24T23:45:20.441574Z",
     "iopub.status.idle": "2024-04-24T23:45:20.445055Z",
     "shell.execute_reply": "2024-04-24T23:45:20.444491Z",
     "shell.execute_reply.started": "2024-04-24T23:45:20.441947Z"
    }
   },
   "outputs": [],
   "source": [
    "from scipy import stats"
   ]
  },
  {
   "cell_type": "code",
   "execution_count": 10,
   "id": "37ca928e-82c3-4ae7-a6c6-3f18c1c233ba",
   "metadata": {
    "execution": {
     "iopub.execute_input": "2024-04-24T23:45:20.447340Z",
     "iopub.status.busy": "2024-04-24T23:45:20.447056Z",
     "iopub.status.idle": "2024-04-24T23:45:20.456434Z",
     "shell.execute_reply": "2024-04-24T23:45:20.455738Z",
     "shell.execute_reply.started": "2024-04-24T23:45:20.447320Z"
    }
   },
   "outputs": [],
   "source": [
    "from tabulate import tabulate"
   ]
  },
  {
   "cell_type": "code",
   "execution_count": 11,
   "id": "b46d5518-dab4-4896-a3f7-7aa74a012e35",
   "metadata": {
    "execution": {
     "iopub.execute_input": "2024-04-24T23:45:20.457611Z",
     "iopub.status.busy": "2024-04-24T23:45:20.457335Z",
     "iopub.status.idle": "2024-04-24T23:45:20.847537Z",
     "shell.execute_reply": "2024-04-24T23:45:20.846808Z",
     "shell.execute_reply.started": "2024-04-24T23:45:20.457590Z"
    }
   },
   "outputs": [],
   "source": [
    "import statsmodels.api as sm"
   ]
  },
  {
   "cell_type": "markdown",
   "id": "11486eff-60e0-460e-a14b-9a0ab0628a50",
   "metadata": {},
   "source": [
    "### Data loading"
   ]
  },
  {
   "cell_type": "code",
   "execution_count": null,
   "id": "92e98042-9d02-4b16-a376-718b10d476cb",
   "metadata": {},
   "outputs": [],
   "source": [
    "# For 2022"
   ]
  },
  {
   "cell_type": "code",
   "execution_count": 16,
   "id": "bc248c27-e358-456c-91e6-a7c84fe01d1a",
   "metadata": {
    "execution": {
     "iopub.execute_input": "2024-04-24T23:49:12.281309Z",
     "iopub.status.busy": "2024-04-24T23:49:12.280843Z",
     "iopub.status.idle": "2024-04-24T23:49:19.637821Z",
     "shell.execute_reply": "2024-04-24T23:49:19.636910Z",
     "shell.execute_reply.started": "2024-04-24T23:49:12.281284Z"
    }
   },
   "outputs": [
    {
     "name": "stderr",
     "output_type": "stream",
     "text": [
      "/sctmp/yelhe/ipykernel_2187633/489067175.py:1: DtypeWarning: Columns (5,14) have mixed types. Specify dtype option on import or set low_memory=False.\n",
      "  ca2022 = pd.read_csv('/home/yelhe/data/Traffic_network_variables/sid_dav_verkehrszaehlung_miv_od2031_2022.csv')\n"
     ]
    }
   ],
   "source": [
    "ca2022 = pd.read_csv('/home/yelhe/data/Traffic_network_variables/sid_dav_verkehrszaehlung_miv_od2031_2022.csv')\n",
    "bi2022 = pd.read_csv('/home/yelhe/data/Traffic_network_variables/2022_verkehrszaehlungen_werte_fussgaenger_velo.csv')"
   ]
  },
  {
   "cell_type": "code",
   "execution_count": 49,
   "id": "6df25386-9b94-4b05-8946-72456372a9b9",
   "metadata": {
    "execution": {
     "iopub.execute_input": "2024-04-25T00:27:15.652003Z",
     "iopub.status.busy": "2024-04-25T00:27:15.651589Z",
     "iopub.status.idle": "2024-04-25T00:27:15.655391Z",
     "shell.execute_reply": "2024-04-25T00:27:15.654567Z",
     "shell.execute_reply.started": "2024-04-25T00:27:15.651979Z"
    }
   },
   "outputs": [],
   "source": [
    "# ca2022.info()"
   ]
  },
  {
   "cell_type": "code",
   "execution_count": 51,
   "id": "81ee2f52-71f5-4017-9b1f-c806f1230576",
   "metadata": {
    "execution": {
     "iopub.execute_input": "2024-04-25T00:27:35.867264Z",
     "iopub.status.busy": "2024-04-25T00:27:35.866907Z",
     "iopub.status.idle": "2024-04-25T00:27:35.879730Z",
     "shell.execute_reply": "2024-04-25T00:27:35.879029Z",
     "shell.execute_reply.started": "2024-04-25T00:27:35.867245Z"
    }
   },
   "outputs": [
    {
     "data": {
      "text/plain": [
       "array([ 2,  1, 13, 14, 16, 18, 22, 21,  3, 23, 20, 11, 19, 15, 12,  4,  8,\n",
       "        6, 17, 29, 27, 10, 26,  5,  7,  9])"
      ]
     },
     "execution_count": 51,
     "metadata": {},
     "output_type": "execute_result"
    }
   ],
   "source": [
    "ca2022['D1ID'].unique()"
   ]
  },
  {
   "cell_type": "code",
   "execution_count": 44,
   "id": "9e22a890-6bbc-4983-b05d-bbc3543109cf",
   "metadata": {
    "execution": {
     "iopub.execute_input": "2024-04-25T00:21:17.553769Z",
     "iopub.status.busy": "2024-04-25T00:21:17.553448Z",
     "iopub.status.idle": "2024-04-25T00:21:17.557278Z",
     "shell.execute_reply": "2024-04-25T00:21:17.556376Z",
     "shell.execute_reply.started": "2024-04-25T00:21:17.553749Z"
    }
   },
   "outputs": [],
   "source": [
    "# ca2022.groupby(['MSID', 'MessungDatZeit']).size().reset_index().rename(columns={0:'count'})"
   ]
  },
  {
   "cell_type": "code",
   "execution_count": 45,
   "id": "38e82016-f66b-46d4-857c-0e9e75a5c086",
   "metadata": {
    "execution": {
     "iopub.execute_input": "2024-04-25T00:21:22.185152Z",
     "iopub.status.busy": "2024-04-25T00:21:22.184795Z",
     "iopub.status.idle": "2024-04-25T00:21:23.290269Z",
     "shell.execute_reply": "2024-04-25T00:21:23.289548Z",
     "shell.execute_reply.started": "2024-04-25T00:21:22.185125Z"
    }
   },
   "outputs": [],
   "source": [
    "caw = ca2022.copy(deep = True)\n",
    "caw.loc[:, 'Date'] = pd.to_datetime(caw.loc[:, 'MessungDatZeit'], \n",
    "                                              format = \"%Y-%m-%dT%H:%M:%S\",\n",
    "                                              errors='coerce')\n",
    "caw.loc[:,'year'] = caw.loc[:,'Date'].dt.year\n",
    "caw.loc[:,'month'] = caw.loc[:,'Date'].dt.month\n",
    "caw.loc[:,'day'] = caw.loc[:,'Date'].dt.day\n",
    "caw.loc[:, 'week'] = caw.loc[:, 'Date'].dt.isocalendar().week"
   ]
  },
  {
   "cell_type": "code",
   "execution_count": 52,
   "id": "3ae2b656-1ae9-461e-989f-0cb0840bc47f",
   "metadata": {
    "execution": {
     "iopub.execute_input": "2024-04-25T00:30:38.374080Z",
     "iopub.status.busy": "2024-04-25T00:30:38.373500Z",
     "iopub.status.idle": "2024-04-25T00:30:38.605437Z",
     "shell.execute_reply": "2024-04-25T00:30:38.604617Z",
     "shell.execute_reply.started": "2024-04-25T00:30:38.374051Z"
    }
   },
   "outputs": [],
   "source": [
    "caws = caw.groupby(['MSID', 'year', 'month', 'day', 'week' ])['AnzFahrzeuge'].sum().reset_index()"
   ]
  },
  {
   "cell_type": "code",
   "execution_count": 113,
   "id": "377d17fc-0057-46a8-91bd-6a7dce68cde5",
   "metadata": {
    "execution": {
     "iopub.execute_input": "2024-04-25T01:18:55.882460Z",
     "iopub.status.busy": "2024-04-25T01:18:55.882012Z",
     "iopub.status.idle": "2024-04-25T01:18:55.896269Z",
     "shell.execute_reply": "2024-04-25T01:18:55.895566Z",
     "shell.execute_reply.started": "2024-04-25T01:18:55.882438Z"
    }
   },
   "outputs": [
    {
     "data": {
      "text/html": [
       "<div>\n",
       "<style scoped>\n",
       "    .dataframe tbody tr th:only-of-type {\n",
       "        vertical-align: middle;\n",
       "    }\n",
       "\n",
       "    .dataframe tbody tr th {\n",
       "        vertical-align: top;\n",
       "    }\n",
       "\n",
       "    .dataframe thead th {\n",
       "        text-align: right;\n",
       "    }\n",
       "</style>\n",
       "<table border=\"1\" class=\"dataframe\">\n",
       "  <thead>\n",
       "    <tr style=\"text-align: right;\">\n",
       "      <th></th>\n",
       "      <th>MSID</th>\n",
       "      <th>year</th>\n",
       "      <th>month</th>\n",
       "      <th>day</th>\n",
       "      <th>week</th>\n",
       "      <th>AnzFahrzeuge</th>\n",
       "    </tr>\n",
       "  </thead>\n",
       "  <tbody>\n",
       "    <tr>\n",
       "      <th>0</th>\n",
       "      <td>Z001M001</td>\n",
       "      <td>2022</td>\n",
       "      <td>1</td>\n",
       "      <td>1</td>\n",
       "      <td>52</td>\n",
       "      <td>3903.0</td>\n",
       "    </tr>\n",
       "    <tr>\n",
       "      <th>1</th>\n",
       "      <td>Z001M001</td>\n",
       "      <td>2022</td>\n",
       "      <td>1</td>\n",
       "      <td>2</td>\n",
       "      <td>52</td>\n",
       "      <td>4034.0</td>\n",
       "    </tr>\n",
       "    <tr>\n",
       "      <th>2</th>\n",
       "      <td>Z001M001</td>\n",
       "      <td>2022</td>\n",
       "      <td>1</td>\n",
       "      <td>3</td>\n",
       "      <td>1</td>\n",
       "      <td>5350.0</td>\n",
       "    </tr>\n",
       "    <tr>\n",
       "      <th>3</th>\n",
       "      <td>Z001M001</td>\n",
       "      <td>2022</td>\n",
       "      <td>1</td>\n",
       "      <td>4</td>\n",
       "      <td>1</td>\n",
       "      <td>5795.0</td>\n",
       "    </tr>\n",
       "    <tr>\n",
       "      <th>4</th>\n",
       "      <td>Z001M001</td>\n",
       "      <td>2022</td>\n",
       "      <td>1</td>\n",
       "      <td>5</td>\n",
       "      <td>1</td>\n",
       "      <td>5844.0</td>\n",
       "    </tr>\n",
       "    <tr>\n",
       "      <th>...</th>\n",
       "      <td>...</td>\n",
       "      <td>...</td>\n",
       "      <td>...</td>\n",
       "      <td>...</td>\n",
       "      <td>...</td>\n",
       "      <td>...</td>\n",
       "    </tr>\n",
       "    <tr>\n",
       "      <th>66425</th>\n",
       "      <td>Z097M002</td>\n",
       "      <td>2022</td>\n",
       "      <td>12</td>\n",
       "      <td>27</td>\n",
       "      <td>52</td>\n",
       "      <td>6647.0</td>\n",
       "    </tr>\n",
       "    <tr>\n",
       "      <th>66426</th>\n",
       "      <td>Z097M002</td>\n",
       "      <td>2022</td>\n",
       "      <td>12</td>\n",
       "      <td>28</td>\n",
       "      <td>52</td>\n",
       "      <td>6862.0</td>\n",
       "    </tr>\n",
       "    <tr>\n",
       "      <th>66427</th>\n",
       "      <td>Z097M002</td>\n",
       "      <td>2022</td>\n",
       "      <td>12</td>\n",
       "      <td>29</td>\n",
       "      <td>52</td>\n",
       "      <td>6814.0</td>\n",
       "    </tr>\n",
       "    <tr>\n",
       "      <th>66428</th>\n",
       "      <td>Z097M002</td>\n",
       "      <td>2022</td>\n",
       "      <td>12</td>\n",
       "      <td>30</td>\n",
       "      <td>52</td>\n",
       "      <td>7318.0</td>\n",
       "    </tr>\n",
       "    <tr>\n",
       "      <th>66429</th>\n",
       "      <td>Z097M002</td>\n",
       "      <td>2022</td>\n",
       "      <td>12</td>\n",
       "      <td>31</td>\n",
       "      <td>52</td>\n",
       "      <td>6659.0</td>\n",
       "    </tr>\n",
       "  </tbody>\n",
       "</table>\n",
       "<p>66430 rows × 6 columns</p>\n",
       "</div>"
      ],
      "text/plain": [
       "           MSID  year  month  day  week  AnzFahrzeuge\n",
       "0      Z001M001  2022      1    1    52        3903.0\n",
       "1      Z001M001  2022      1    2    52        4034.0\n",
       "2      Z001M001  2022      1    3     1        5350.0\n",
       "3      Z001M001  2022      1    4     1        5795.0\n",
       "4      Z001M001  2022      1    5     1        5844.0\n",
       "...         ...   ...    ...  ...   ...           ...\n",
       "66425  Z097M002  2022     12   27    52        6647.0\n",
       "66426  Z097M002  2022     12   28    52        6862.0\n",
       "66427  Z097M002  2022     12   29    52        6814.0\n",
       "66428  Z097M002  2022     12   30    52        7318.0\n",
       "66429  Z097M002  2022     12   31    52        6659.0\n",
       "\n",
       "[66430 rows x 6 columns]"
      ]
     },
     "execution_count": 113,
     "metadata": {},
     "output_type": "execute_result"
    }
   ],
   "source": [
    "caws"
   ]
  },
  {
   "cell_type": "code",
   "execution_count": 114,
   "id": "64fde5ec-01ab-4b76-a220-8e31377ffb58",
   "metadata": {
    "execution": {
     "iopub.execute_input": "2024-04-25T01:19:00.906892Z",
     "iopub.status.busy": "2024-04-25T01:19:00.906518Z",
     "iopub.status.idle": "2024-04-25T01:19:00.924357Z",
     "shell.execute_reply": "2024-04-25T01:19:00.923717Z",
     "shell.execute_reply.started": "2024-04-25T01:19:00.906870Z"
    }
   },
   "outputs": [],
   "source": [
    "cawsm = caws.groupby(['MSID', 'year', 'month', 'week' ])['AnzFahrzeuge'].sum().reset_index()"
   ]
  },
  {
   "cell_type": "code",
   "execution_count": 115,
   "id": "d7a3a074-a181-409e-9b1b-e378034f295a",
   "metadata": {
    "execution": {
     "iopub.execute_input": "2024-04-25T01:19:13.358586Z",
     "iopub.status.busy": "2024-04-25T01:19:13.358225Z",
     "iopub.status.idle": "2024-04-25T01:19:13.370452Z",
     "shell.execute_reply": "2024-04-25T01:19:13.369844Z",
     "shell.execute_reply.started": "2024-04-25T01:19:13.358566Z"
    }
   },
   "outputs": [
    {
     "data": {
      "text/html": [
       "<div>\n",
       "<style scoped>\n",
       "    .dataframe tbody tr th:only-of-type {\n",
       "        vertical-align: middle;\n",
       "    }\n",
       "\n",
       "    .dataframe tbody tr th {\n",
       "        vertical-align: top;\n",
       "    }\n",
       "\n",
       "    .dataframe thead th {\n",
       "        text-align: right;\n",
       "    }\n",
       "</style>\n",
       "<table border=\"1\" class=\"dataframe\">\n",
       "  <thead>\n",
       "    <tr style=\"text-align: right;\">\n",
       "      <th></th>\n",
       "      <th>MSID</th>\n",
       "      <th>year</th>\n",
       "      <th>month</th>\n",
       "      <th>week</th>\n",
       "      <th>AnzFahrzeuge</th>\n",
       "    </tr>\n",
       "  </thead>\n",
       "  <tbody>\n",
       "    <tr>\n",
       "      <th>0</th>\n",
       "      <td>Z001M001</td>\n",
       "      <td>2022</td>\n",
       "      <td>1</td>\n",
       "      <td>1</td>\n",
       "      <td>38392.0</td>\n",
       "    </tr>\n",
       "    <tr>\n",
       "      <th>1</th>\n",
       "      <td>Z001M001</td>\n",
       "      <td>2022</td>\n",
       "      <td>1</td>\n",
       "      <td>2</td>\n",
       "      <td>41295.0</td>\n",
       "    </tr>\n",
       "    <tr>\n",
       "      <th>2</th>\n",
       "      <td>Z001M001</td>\n",
       "      <td>2022</td>\n",
       "      <td>1</td>\n",
       "      <td>3</td>\n",
       "      <td>42899.0</td>\n",
       "    </tr>\n",
       "    <tr>\n",
       "      <th>3</th>\n",
       "      <td>Z001M001</td>\n",
       "      <td>2022</td>\n",
       "      <td>1</td>\n",
       "      <td>4</td>\n",
       "      <td>43702.0</td>\n",
       "    </tr>\n",
       "    <tr>\n",
       "      <th>4</th>\n",
       "      <td>Z001M001</td>\n",
       "      <td>2022</td>\n",
       "      <td>1</td>\n",
       "      <td>5</td>\n",
       "      <td>6148.0</td>\n",
       "    </tr>\n",
       "    <tr>\n",
       "      <th>...</th>\n",
       "      <td>...</td>\n",
       "      <td>...</td>\n",
       "      <td>...</td>\n",
       "      <td>...</td>\n",
       "      <td>...</td>\n",
       "    </tr>\n",
       "    <tr>\n",
       "      <th>11461</th>\n",
       "      <td>Z097M002</td>\n",
       "      <td>2022</td>\n",
       "      <td>12</td>\n",
       "      <td>48</td>\n",
       "      <td>37068.0</td>\n",
       "    </tr>\n",
       "    <tr>\n",
       "      <th>11462</th>\n",
       "      <td>Z097M002</td>\n",
       "      <td>2022</td>\n",
       "      <td>12</td>\n",
       "      <td>49</td>\n",
       "      <td>65870.0</td>\n",
       "    </tr>\n",
       "    <tr>\n",
       "      <th>11463</th>\n",
       "      <td>Z097M002</td>\n",
       "      <td>2022</td>\n",
       "      <td>12</td>\n",
       "      <td>50</td>\n",
       "      <td>64623.0</td>\n",
       "    </tr>\n",
       "    <tr>\n",
       "      <th>11464</th>\n",
       "      <td>Z097M002</td>\n",
       "      <td>2022</td>\n",
       "      <td>12</td>\n",
       "      <td>51</td>\n",
       "      <td>60259.0</td>\n",
       "    </tr>\n",
       "    <tr>\n",
       "      <th>11465</th>\n",
       "      <td>Z097M002</td>\n",
       "      <td>2022</td>\n",
       "      <td>12</td>\n",
       "      <td>52</td>\n",
       "      <td>39254.0</td>\n",
       "    </tr>\n",
       "  </tbody>\n",
       "</table>\n",
       "<p>11466 rows × 5 columns</p>\n",
       "</div>"
      ],
      "text/plain": [
       "           MSID  year  month  week  AnzFahrzeuge\n",
       "0      Z001M001  2022      1     1       38392.0\n",
       "1      Z001M001  2022      1     2       41295.0\n",
       "2      Z001M001  2022      1     3       42899.0\n",
       "3      Z001M001  2022      1     4       43702.0\n",
       "4      Z001M001  2022      1     5        6148.0\n",
       "...         ...   ...    ...   ...           ...\n",
       "11461  Z097M002  2022     12    48       37068.0\n",
       "11462  Z097M002  2022     12    49       65870.0\n",
       "11463  Z097M002  2022     12    50       64623.0\n",
       "11464  Z097M002  2022     12    51       60259.0\n",
       "11465  Z097M002  2022     12    52       39254.0\n",
       "\n",
       "[11466 rows x 5 columns]"
      ]
     },
     "execution_count": 115,
     "metadata": {},
     "output_type": "execute_result"
    }
   ],
   "source": [
    "cawsm"
   ]
  },
  {
   "cell_type": "code",
   "execution_count": 116,
   "id": "3dab2b5b-10a5-4f65-8186-3a6b8c3024ea",
   "metadata": {
    "execution": {
     "iopub.execute_input": "2024-04-25T01:19:18.270572Z",
     "iopub.status.busy": "2024-04-25T01:19:18.270237Z",
     "iopub.status.idle": "2024-04-25T01:19:18.299883Z",
     "shell.execute_reply": "2024-04-25T01:19:18.299249Z",
     "shell.execute_reply.started": "2024-04-25T01:19:18.270552Z"
    }
   },
   "outputs": [],
   "source": [
    "# cawsm.to_csv('/home/yelhe/script/mt/output/car_tc_2022.csv', index = False)"
   ]
  },
  {
   "cell_type": "code",
   "execution_count": 119,
   "id": "34170781-7e06-48e7-a405-d4a6f58838ea",
   "metadata": {
    "execution": {
     "iopub.execute_input": "2024-04-25T02:04:30.898985Z",
     "iopub.status.busy": "2024-04-25T02:04:30.898645Z",
     "iopub.status.idle": "2024-04-25T02:04:30.912061Z",
     "shell.execute_reply": "2024-04-25T02:04:30.911240Z",
     "shell.execute_reply.started": "2024-04-25T02:04:30.898963Z"
    }
   },
   "outputs": [],
   "source": [
    "cawsmm = caws.groupby(['year', 'month', 'week' ])['AnzFahrzeuge'].mean().reset_index()\n",
    "# cawsmm.to_csv('/home/yelhe/script/mt/output/car_tc_2022_weekmean.csv', index = False)"
   ]
  },
  {
   "cell_type": "code",
   "execution_count": 60,
   "id": "bb5887dc-fdd9-498f-a327-8995bca1e75e",
   "metadata": {
    "execution": {
     "iopub.execute_input": "2024-04-25T00:35:33.480699Z",
     "iopub.status.busy": "2024-04-25T00:35:33.480224Z",
     "iopub.status.idle": "2024-04-25T00:35:33.572997Z",
     "shell.execute_reply": "2024-04-25T00:35:33.572320Z",
     "shell.execute_reply.started": "2024-04-25T00:35:33.480676Z"
    }
   },
   "outputs": [
    {
     "name": "stdout",
     "output_type": "stream",
     "text": [
      "<class 'pandas.core.frame.DataFrame'>\n",
      "RangeIndex: 1189238 entries, 0 to 1189237\n",
      "Data columns (total 8 columns):\n",
      " #   Column       Non-Null Count    Dtype  \n",
      "---  ------       --------------    -----  \n",
      " 0   FK_STANDORT  1189238 non-null  int64  \n",
      " 1   DATUM        1189238 non-null  object \n",
      " 2   VELO_IN      693598 non-null   float64\n",
      " 3   VELO_OUT     594522 non-null   float64\n",
      " 4   FUSS_IN      495640 non-null   float64\n",
      " 5   FUSS_OUT     495640 non-null   float64\n",
      " 6   OST          1189238 non-null  int64  \n",
      " 7   NORD         1189238 non-null  int64  \n",
      "dtypes: float64(4), int64(3), object(1)\n",
      "memory usage: 72.6+ MB\n"
     ]
    }
   ],
   "source": [
    "bi2022.info()"
   ]
  },
  {
   "cell_type": "code",
   "execution_count": 66,
   "id": "bf7638bb-888c-40c0-a5de-8c6300dc09b3",
   "metadata": {
    "execution": {
     "iopub.execute_input": "2024-04-25T00:43:42.201635Z",
     "iopub.status.busy": "2024-04-25T00:43:42.201263Z",
     "iopub.status.idle": "2024-04-25T00:43:42.212761Z",
     "shell.execute_reply": "2024-04-25T00:43:42.212031Z",
     "shell.execute_reply.started": "2024-04-25T00:43:42.201613Z"
    }
   },
   "outputs": [
    {
     "data": {
      "text/html": [
       "<div>\n",
       "<style scoped>\n",
       "    .dataframe tbody tr th:only-of-type {\n",
       "        vertical-align: middle;\n",
       "    }\n",
       "\n",
       "    .dataframe tbody tr th {\n",
       "        vertical-align: top;\n",
       "    }\n",
       "\n",
       "    .dataframe thead th {\n",
       "        text-align: right;\n",
       "    }\n",
       "</style>\n",
       "<table border=\"1\" class=\"dataframe\">\n",
       "  <thead>\n",
       "    <tr style=\"text-align: right;\">\n",
       "      <th></th>\n",
       "      <th>FK_STANDORT</th>\n",
       "      <th>DATUM</th>\n",
       "      <th>VELO_IN</th>\n",
       "      <th>VELO_OUT</th>\n",
       "      <th>FUSS_IN</th>\n",
       "      <th>FUSS_OUT</th>\n",
       "      <th>OST</th>\n",
       "      <th>NORD</th>\n",
       "    </tr>\n",
       "  </thead>\n",
       "  <tbody>\n",
       "    <tr>\n",
       "      <th>0</th>\n",
       "      <td>2979</td>\n",
       "      <td>2022-01-01T00:00</td>\n",
       "      <td>0.0</td>\n",
       "      <td>0.0</td>\n",
       "      <td>NaN</td>\n",
       "      <td>NaN</td>\n",
       "      <td>2681858</td>\n",
       "      <td>1251991</td>\n",
       "    </tr>\n",
       "    <tr>\n",
       "      <th>1</th>\n",
       "      <td>2978</td>\n",
       "      <td>2022-01-01T00:00</td>\n",
       "      <td>0.0</td>\n",
       "      <td>0.0</td>\n",
       "      <td>NaN</td>\n",
       "      <td>NaN</td>\n",
       "      <td>2683406</td>\n",
       "      <td>1251617</td>\n",
       "    </tr>\n",
       "    <tr>\n",
       "      <th>2</th>\n",
       "      <td>2641</td>\n",
       "      <td>2022-01-01T00:00</td>\n",
       "      <td>NaN</td>\n",
       "      <td>NaN</td>\n",
       "      <td>3.0</td>\n",
       "      <td>0.0</td>\n",
       "      <td>2682813</td>\n",
       "      <td>1245490</td>\n",
       "    </tr>\n",
       "    <tr>\n",
       "      <th>3</th>\n",
       "      <td>3598</td>\n",
       "      <td>2022-01-01T00:00</td>\n",
       "      <td>0.0</td>\n",
       "      <td>0.0</td>\n",
       "      <td>NaN</td>\n",
       "      <td>NaN</td>\n",
       "      <td>2684006</td>\n",
       "      <td>1246566</td>\n",
       "    </tr>\n",
       "    <tr>\n",
       "      <th>4</th>\n",
       "      <td>3020</td>\n",
       "      <td>2022-01-01T00:00</td>\n",
       "      <td>NaN</td>\n",
       "      <td>NaN</td>\n",
       "      <td>3.0</td>\n",
       "      <td>3.0</td>\n",
       "      <td>2680439</td>\n",
       "      <td>1249930</td>\n",
       "    </tr>\n",
       "  </tbody>\n",
       "</table>\n",
       "</div>"
      ],
      "text/plain": [
       "   FK_STANDORT             DATUM  VELO_IN  VELO_OUT  FUSS_IN  FUSS_OUT  \\\n",
       "0         2979  2022-01-01T00:00      0.0       0.0      NaN       NaN   \n",
       "1         2978  2022-01-01T00:00      0.0       0.0      NaN       NaN   \n",
       "2         2641  2022-01-01T00:00      NaN       NaN      3.0       0.0   \n",
       "3         3598  2022-01-01T00:00      0.0       0.0      NaN       NaN   \n",
       "4         3020  2022-01-01T00:00      NaN       NaN      3.0       3.0   \n",
       "\n",
       "       OST     NORD  \n",
       "0  2681858  1251991  \n",
       "1  2683406  1251617  \n",
       "2  2682813  1245490  \n",
       "3  2684006  1246566  \n",
       "4  2680439  1249930  "
      ]
     },
     "execution_count": 66,
     "metadata": {},
     "output_type": "execute_result"
    }
   ],
   "source": [
    "bi2022.head()"
   ]
  },
  {
   "cell_type": "code",
   "execution_count": 64,
   "id": "6a2235a8-8cec-4e90-88d9-e98652fc1fa7",
   "metadata": {
    "execution": {
     "iopub.execute_input": "2024-04-25T00:42:16.943263Z",
     "iopub.status.busy": "2024-04-25T00:42:16.942898Z",
     "iopub.status.idle": "2024-04-25T00:42:16.970666Z",
     "shell.execute_reply": "2024-04-25T00:42:16.970023Z",
     "shell.execute_reply.started": "2024-04-25T00:42:16.943242Z"
    }
   },
   "outputs": [],
   "source": [
    "bi22 = bi2022.drop(['FUSS_IN', 'FUSS_OUT', 'OST', 'NORD'], axis = 1)"
   ]
  },
  {
   "cell_type": "code",
   "execution_count": 65,
   "id": "d94f9dd9-f7f5-4fa7-ae5a-5936b3d9b64e",
   "metadata": {
    "execution": {
     "iopub.execute_input": "2024-04-25T00:43:22.029501Z",
     "iopub.status.busy": "2024-04-25T00:43:22.029148Z",
     "iopub.status.idle": "2024-04-25T00:43:22.102168Z",
     "shell.execute_reply": "2024-04-25T00:43:22.101519Z",
     "shell.execute_reply.started": "2024-04-25T00:43:22.029481Z"
    }
   },
   "outputs": [],
   "source": [
    "bi22 = bi22.fillna(0)"
   ]
  },
  {
   "cell_type": "code",
   "execution_count": 73,
   "id": "4b994836-7f7d-41e2-a457-4213fd8f0998",
   "metadata": {
    "execution": {
     "iopub.execute_input": "2024-04-25T00:46:59.223199Z",
     "iopub.status.busy": "2024-04-25T00:46:59.222854Z",
     "iopub.status.idle": "2024-04-25T00:46:59.294237Z",
     "shell.execute_reply": "2024-04-25T00:46:59.293543Z",
     "shell.execute_reply.started": "2024-04-25T00:46:59.223179Z"
    }
   },
   "outputs": [
    {
     "name": "stdout",
     "output_type": "stream",
     "text": [
      "<class 'pandas.core.frame.DataFrame'>\n",
      "RangeIndex: 1189238 entries, 0 to 1189237\n",
      "Data columns (total 5 columns):\n",
      " #   Column       Non-Null Count    Dtype  \n",
      "---  ------       --------------    -----  \n",
      " 0   FK_STANDORT  1189238 non-null  int64  \n",
      " 1   DATUM        1189238 non-null  object \n",
      " 2   VELO_IN      1189238 non-null  float64\n",
      " 3   VELO_OUT     1189238 non-null  float64\n",
      " 4   velo         1189238 non-null  float64\n",
      "dtypes: float64(3), int64(1), object(1)\n",
      "memory usage: 45.4+ MB\n"
     ]
    }
   ],
   "source": [
    "bi22.info()"
   ]
  },
  {
   "cell_type": "code",
   "execution_count": 76,
   "id": "d995eb9c-5a26-43c4-8456-0712e27e83aa",
   "metadata": {
    "execution": {
     "iopub.execute_input": "2024-04-25T00:49:09.855700Z",
     "iopub.status.busy": "2024-04-25T00:49:09.855346Z",
     "iopub.status.idle": "2024-04-25T00:49:09.867308Z",
     "shell.execute_reply": "2024-04-25T00:49:09.866512Z",
     "shell.execute_reply.started": "2024-04-25T00:49:09.855679Z"
    }
   },
   "outputs": [],
   "source": [
    "bi22['velo'] = (bi22['VELO_IN'] + bi22['VELO_OUT']) * 1.185"
   ]
  },
  {
   "cell_type": "code",
   "execution_count": 78,
   "id": "f298aa3d-1eb6-4b0f-900e-5cf6fbf3969f",
   "metadata": {
    "execution": {
     "iopub.execute_input": "2024-04-25T00:49:35.688349Z",
     "iopub.status.busy": "2024-04-25T00:49:35.688049Z",
     "iopub.status.idle": "2024-04-25T00:49:35.694496Z",
     "shell.execute_reply": "2024-04-25T00:49:35.693919Z",
     "shell.execute_reply.started": "2024-04-25T00:49:35.688329Z"
    }
   },
   "outputs": [
    {
     "data": {
      "text/plain": [
       "12142421.264999995"
      ]
     },
     "execution_count": 78,
     "metadata": {},
     "output_type": "execute_result"
    }
   ],
   "source": [
    "bi22['velo'].sum()"
   ]
  },
  {
   "cell_type": "code",
   "execution_count": 79,
   "id": "31401bd1-7039-4eda-8221-f46df59e9198",
   "metadata": {
    "execution": {
     "iopub.execute_input": "2024-04-25T00:49:46.013032Z",
     "iopub.status.busy": "2024-04-25T00:49:46.012394Z",
     "iopub.status.idle": "2024-04-25T00:49:46.581337Z",
     "shell.execute_reply": "2024-04-25T00:49:46.580164Z",
     "shell.execute_reply.started": "2024-04-25T00:49:46.013008Z"
    }
   },
   "outputs": [],
   "source": [
    "biw = bi22.copy(deep = True)\n",
    "biw.loc[:, 'Date'] = pd.to_datetime(biw.loc[:, 'DATUM'], \n",
    "                                              format = \"%Y-%m-%dT%H:%M\",\n",
    "                                              errors='coerce')\n",
    "biw.loc[:,'year'] = biw.loc[:,'Date'].dt.year\n",
    "biw.loc[:,'month'] = biw.loc[:,'Date'].dt.month\n",
    "biw.loc[:,'day'] = biw.loc[:,'Date'].dt.day\n",
    "biw.loc[:, 'week'] = biw.loc[:, 'Date'].dt.isocalendar().week"
   ]
  },
  {
   "cell_type": "code",
   "execution_count": 121,
   "id": "f3443cbf-c674-480e-92f1-f973e8ee7e9d",
   "metadata": {
    "execution": {
     "iopub.execute_input": "2024-04-25T02:31:43.406545Z",
     "iopub.status.busy": "2024-04-25T02:31:43.406160Z",
     "iopub.status.idle": "2024-04-25T02:31:43.472714Z",
     "shell.execute_reply": "2024-04-25T02:31:43.472061Z",
     "shell.execute_reply.started": "2024-04-25T02:31:43.406523Z"
    }
   },
   "outputs": [],
   "source": [
    "biwsm = biw.groupby(['year', 'month', 'week' ])['velo'].sum().reset_index()\n",
    "# biwsm.to_csv('/home/yelhe/script/mt/output/bic_tc_2022_weekmean.csv', index = False)"
   ]
  },
  {
   "cell_type": "code",
   "execution_count": 80,
   "id": "3a60dbbf-1900-4020-9592-86d0bbce01f4",
   "metadata": {
    "execution": {
     "iopub.execute_input": "2024-04-25T00:49:46.709758Z",
     "iopub.status.busy": "2024-04-25T00:49:46.709384Z",
     "iopub.status.idle": "2024-04-25T00:49:46.806890Z",
     "shell.execute_reply": "2024-04-25T00:49:46.806216Z",
     "shell.execute_reply.started": "2024-04-25T00:49:46.709736Z"
    }
   },
   "outputs": [],
   "source": [
    "biws = biw.groupby(['FK_STANDORT', 'year', 'month', 'week' ])['velo'].sum().reset_index()"
   ]
  },
  {
   "cell_type": "code",
   "execution_count": 103,
   "id": "c780c8c4-0bd5-41a3-933c-240a00d3559b",
   "metadata": {
    "execution": {
     "iopub.execute_input": "2024-04-25T01:13:09.739764Z",
     "iopub.status.busy": "2024-04-25T01:13:09.739390Z",
     "iopub.status.idle": "2024-04-25T01:13:09.750475Z",
     "shell.execute_reply": "2024-04-25T01:13:09.749779Z",
     "shell.execute_reply.started": "2024-04-25T01:13:09.739738Z"
    }
   },
   "outputs": [],
   "source": [
    "# bicycle counting station locations\n",
    "bcl = pd.read_csv('/home/yelhe/data/Traffic_network_variables/countstation_bicycle.csv')"
   ]
  },
  {
   "cell_type": "code",
   "execution_count": 105,
   "id": "ea433f69-bfbe-4942-b950-2032def598e2",
   "metadata": {
    "execution": {
     "iopub.execute_input": "2024-04-25T01:13:51.816375Z",
     "iopub.status.busy": "2024-04-25T01:13:51.816050Z",
     "iopub.status.idle": "2024-04-25T01:13:51.820879Z",
     "shell.execute_reply": "2024-04-25T01:13:51.819987Z",
     "shell.execute_reply.started": "2024-04-25T01:13:51.816354Z"
    }
   },
   "outputs": [],
   "source": [
    "bcln = bcl[['fk_zaehler','id1']]"
   ]
  },
  {
   "cell_type": "code",
   "execution_count": 106,
   "id": "db011308-e9f4-4a48-9fe5-47426c8517b4",
   "metadata": {
    "execution": {
     "iopub.execute_input": "2024-04-25T01:14:33.985998Z",
     "iopub.status.busy": "2024-04-25T01:14:33.985653Z",
     "iopub.status.idle": "2024-04-25T01:14:33.989637Z",
     "shell.execute_reply": "2024-04-25T01:14:33.989064Z",
     "shell.execute_reply.started": "2024-04-25T01:14:33.985978Z"
    }
   },
   "outputs": [],
   "source": [
    "bcln = bcln.rename(columns = {'id1': 'FK_STANDORT'})"
   ]
  },
  {
   "cell_type": "code",
   "execution_count": 107,
   "id": "b79fb569-6239-4b90-b165-83e9fe3d8999",
   "metadata": {
    "execution": {
     "iopub.execute_input": "2024-04-25T01:15:08.828259Z",
     "iopub.status.busy": "2024-04-25T01:15:08.827745Z",
     "iopub.status.idle": "2024-04-25T01:15:08.835641Z",
     "shell.execute_reply": "2024-04-25T01:15:08.834962Z",
     "shell.execute_reply.started": "2024-04-25T01:15:08.828236Z"
    }
   },
   "outputs": [],
   "source": [
    "biws_id = pd.merge(biws, bcln, how = 'left', on = ['FK_STANDORT'])"
   ]
  },
  {
   "cell_type": "code",
   "execution_count": 108,
   "id": "77e7aa7b-d33a-4738-8385-edbd770a8700",
   "metadata": {
    "execution": {
     "iopub.execute_input": "2024-04-25T01:15:14.027437Z",
     "iopub.status.busy": "2024-04-25T01:15:14.027060Z",
     "iopub.status.idle": "2024-04-25T01:15:14.039622Z",
     "shell.execute_reply": "2024-04-25T01:15:14.038965Z",
     "shell.execute_reply.started": "2024-04-25T01:15:14.027417Z"
    }
   },
   "outputs": [
    {
     "data": {
      "text/html": [
       "<div>\n",
       "<style scoped>\n",
       "    .dataframe tbody tr th:only-of-type {\n",
       "        vertical-align: middle;\n",
       "    }\n",
       "\n",
       "    .dataframe tbody tr th {\n",
       "        vertical-align: top;\n",
       "    }\n",
       "\n",
       "    .dataframe thead th {\n",
       "        text-align: right;\n",
       "    }\n",
       "</style>\n",
       "<table border=\"1\" class=\"dataframe\">\n",
       "  <thead>\n",
       "    <tr style=\"text-align: right;\">\n",
       "      <th></th>\n",
       "      <th>FK_STANDORT</th>\n",
       "      <th>year</th>\n",
       "      <th>month</th>\n",
       "      <th>week</th>\n",
       "      <th>velo</th>\n",
       "      <th>fk_zaehler</th>\n",
       "    </tr>\n",
       "  </thead>\n",
       "  <tbody>\n",
       "    <tr>\n",
       "      <th>0</th>\n",
       "      <td>20</td>\n",
       "      <td>2022</td>\n",
       "      <td>1</td>\n",
       "      <td>1</td>\n",
       "      <td>0.0</td>\n",
       "      <td>U15G3063864</td>\n",
       "    </tr>\n",
       "    <tr>\n",
       "      <th>1</th>\n",
       "      <td>20</td>\n",
       "      <td>2022</td>\n",
       "      <td>1</td>\n",
       "      <td>2</td>\n",
       "      <td>0.0</td>\n",
       "      <td>U15G3063864</td>\n",
       "    </tr>\n",
       "    <tr>\n",
       "      <th>2</th>\n",
       "      <td>20</td>\n",
       "      <td>2022</td>\n",
       "      <td>1</td>\n",
       "      <td>3</td>\n",
       "      <td>0.0</td>\n",
       "      <td>U15G3063864</td>\n",
       "    </tr>\n",
       "    <tr>\n",
       "      <th>3</th>\n",
       "      <td>20</td>\n",
       "      <td>2022</td>\n",
       "      <td>1</td>\n",
       "      <td>4</td>\n",
       "      <td>0.0</td>\n",
       "      <td>U15G3063864</td>\n",
       "    </tr>\n",
       "    <tr>\n",
       "      <th>4</th>\n",
       "      <td>20</td>\n",
       "      <td>2022</td>\n",
       "      <td>1</td>\n",
       "      <td>5</td>\n",
       "      <td>0.0</td>\n",
       "      <td>U15G3063864</td>\n",
       "    </tr>\n",
       "    <tr>\n",
       "      <th>...</th>\n",
       "      <td>...</td>\n",
       "      <td>...</td>\n",
       "      <td>...</td>\n",
       "      <td>...</td>\n",
       "      <td>...</td>\n",
       "      <td>...</td>\n",
       "    </tr>\n",
       "    <tr>\n",
       "      <th>2165</th>\n",
       "      <td>5004</td>\n",
       "      <td>2022</td>\n",
       "      <td>12</td>\n",
       "      <td>48</td>\n",
       "      <td>0.0</td>\n",
       "      <td>U15G3063873</td>\n",
       "    </tr>\n",
       "    <tr>\n",
       "      <th>2166</th>\n",
       "      <td>5004</td>\n",
       "      <td>2022</td>\n",
       "      <td>12</td>\n",
       "      <td>49</td>\n",
       "      <td>0.0</td>\n",
       "      <td>U15G3063873</td>\n",
       "    </tr>\n",
       "    <tr>\n",
       "      <th>2167</th>\n",
       "      <td>5004</td>\n",
       "      <td>2022</td>\n",
       "      <td>12</td>\n",
       "      <td>50</td>\n",
       "      <td>0.0</td>\n",
       "      <td>U15G3063873</td>\n",
       "    </tr>\n",
       "    <tr>\n",
       "      <th>2168</th>\n",
       "      <td>5004</td>\n",
       "      <td>2022</td>\n",
       "      <td>12</td>\n",
       "      <td>51</td>\n",
       "      <td>0.0</td>\n",
       "      <td>U15G3063873</td>\n",
       "    </tr>\n",
       "    <tr>\n",
       "      <th>2169</th>\n",
       "      <td>5004</td>\n",
       "      <td>2022</td>\n",
       "      <td>12</td>\n",
       "      <td>52</td>\n",
       "      <td>0.0</td>\n",
       "      <td>U15G3063873</td>\n",
       "    </tr>\n",
       "  </tbody>\n",
       "</table>\n",
       "<p>2170 rows × 6 columns</p>\n",
       "</div>"
      ],
      "text/plain": [
       "      FK_STANDORT  year  month  week  velo   fk_zaehler\n",
       "0              20  2022      1     1   0.0  U15G3063864\n",
       "1              20  2022      1     2   0.0  U15G3063864\n",
       "2              20  2022      1     3   0.0  U15G3063864\n",
       "3              20  2022      1     4   0.0  U15G3063864\n",
       "4              20  2022      1     5   0.0  U15G3063864\n",
       "...           ...   ...    ...   ...   ...          ...\n",
       "2165         5004  2022     12    48   0.0  U15G3063873\n",
       "2166         5004  2022     12    49   0.0  U15G3063873\n",
       "2167         5004  2022     12    50   0.0  U15G3063873\n",
       "2168         5004  2022     12    51   0.0  U15G3063873\n",
       "2169         5004  2022     12    52   0.0  U15G3063873\n",
       "\n",
       "[2170 rows x 6 columns]"
      ]
     },
     "execution_count": 108,
     "metadata": {},
     "output_type": "execute_result"
    }
   ],
   "source": [
    "biws_id"
   ]
  },
  {
   "cell_type": "code",
   "execution_count": 110,
   "id": "be8a4783-efb3-45c6-a89d-88e9f619e1ad",
   "metadata": {
    "execution": {
     "iopub.execute_input": "2024-04-25T01:15:49.499129Z",
     "iopub.status.busy": "2024-04-25T01:15:49.498704Z",
     "iopub.status.idle": "2024-04-25T01:15:49.512531Z",
     "shell.execute_reply": "2024-04-25T01:15:49.511741Z",
     "shell.execute_reply.started": "2024-04-25T01:15:49.499106Z"
    }
   },
   "outputs": [],
   "source": [
    "# biws_id.to_csv('/home/yelhe/script/mt/output/bic_tc_2022_new.csv', index = False)"
   ]
  },
  {
   "cell_type": "code",
   "execution_count": 112,
   "id": "6f6b87b4-ccc0-47d7-a970-598c3ba92f6d",
   "metadata": {
    "execution": {
     "iopub.execute_input": "2024-04-25T01:16:18.953059Z",
     "iopub.status.busy": "2024-04-25T01:16:18.952551Z",
     "iopub.status.idle": "2024-04-25T01:16:18.958504Z",
     "shell.execute_reply": "2024-04-25T01:16:18.957850Z",
     "shell.execute_reply.started": "2024-04-25T01:16:18.953033Z"
    }
   },
   "outputs": [
    {
     "data": {
      "text/plain": [
       "array(['U15G3063864', 'Y2G13124879', 'U15G3104447', 'Y2H16069942',\n",
       "       'Y2H16069943', 'U15G3063865', 'U15G6121229', 'U15G3104443',\n",
       "       'U15G3063870', 'ECO09113507', 'ECO10053914', 'ECO09113500',\n",
       "       'Y2H19070283', 'Y2H19070585', 'Y2H19090841', 'Y2H19101255',\n",
       "       'Y2H19111476', 'Y2H19111477', 'YPH15108550', 'Y2H20011946',\n",
       "       'Y2H19101198', 'U15G3063872', 'Y2H20063173', 'Y2H20083483',\n",
       "       'Y2H20114444', 'YSH20124740', 'U15G3063873', 'U15G3063869',\n",
       "       'YSH18065716', 'Y2H18106792', 'ECO09113503', 'ECO09113499',\n",
       "       'Y2H21056105', 'Y2H21056106', 'U15G3063866', 'DGP22022111',\n",
       "       'U15G3104444', 'Y2H21111102', 'U15G3063867', 'Y2H22063445',\n",
       "       'Y2H21015036', 'Y2H22073807'], dtype=object)"
      ]
     },
     "execution_count": 112,
     "metadata": {},
     "output_type": "execute_result"
    }
   ],
   "source": [
    "biws_id['fk_zaehler'].unique()"
   ]
  },
  {
   "cell_type": "code",
   "execution_count": 89,
   "id": "30a8c8b7-79fc-4b33-924e-aca22eefb59f",
   "metadata": {
    "execution": {
     "iopub.execute_input": "2024-04-25T00:58:48.062719Z",
     "iopub.status.busy": "2024-04-25T00:58:48.062067Z",
     "iopub.status.idle": "2024-04-25T00:58:48.067576Z",
     "shell.execute_reply": "2024-04-25T00:58:48.066883Z",
     "shell.execute_reply.started": "2024-04-25T00:58:48.062693Z"
    }
   },
   "outputs": [],
   "source": [
    "biwc_v = biws.loc[biws['velo'] != 0]"
   ]
  },
  {
   "cell_type": "code",
   "execution_count": 90,
   "id": "cf9c7bcd-ec63-44ac-a55b-a97ca77c4460",
   "metadata": {
    "execution": {
     "iopub.execute_input": "2024-04-25T00:58:52.133574Z",
     "iopub.status.busy": "2024-04-25T00:58:52.133205Z",
     "iopub.status.idle": "2024-04-25T00:58:52.144237Z",
     "shell.execute_reply": "2024-04-25T00:58:52.143552Z",
     "shell.execute_reply.started": "2024-04-25T00:58:52.133552Z"
    }
   },
   "outputs": [
    {
     "data": {
      "text/html": [
       "<div>\n",
       "<style scoped>\n",
       "    .dataframe tbody tr th:only-of-type {\n",
       "        vertical-align: middle;\n",
       "    }\n",
       "\n",
       "    .dataframe tbody tr th {\n",
       "        vertical-align: top;\n",
       "    }\n",
       "\n",
       "    .dataframe thead th {\n",
       "        text-align: right;\n",
       "    }\n",
       "</style>\n",
       "<table border=\"1\" class=\"dataframe\">\n",
       "  <thead>\n",
       "    <tr style=\"text-align: right;\">\n",
       "      <th></th>\n",
       "      <th>FK_STANDORT</th>\n",
       "      <th>year</th>\n",
       "      <th>month</th>\n",
       "      <th>week</th>\n",
       "      <th>velo</th>\n",
       "    </tr>\n",
       "  </thead>\n",
       "  <tbody>\n",
       "    <tr>\n",
       "      <th>63</th>\n",
       "      <td>60</td>\n",
       "      <td>2022</td>\n",
       "      <td>1</td>\n",
       "      <td>1</td>\n",
       "      <td>4111.950</td>\n",
       "    </tr>\n",
       "    <tr>\n",
       "      <th>64</th>\n",
       "      <td>60</td>\n",
       "      <td>2022</td>\n",
       "      <td>1</td>\n",
       "      <td>2</td>\n",
       "      <td>4143.945</td>\n",
       "    </tr>\n",
       "    <tr>\n",
       "      <th>65</th>\n",
       "      <td>60</td>\n",
       "      <td>2022</td>\n",
       "      <td>1</td>\n",
       "      <td>3</td>\n",
       "      <td>4670.085</td>\n",
       "    </tr>\n",
       "    <tr>\n",
       "      <th>66</th>\n",
       "      <td>60</td>\n",
       "      <td>2022</td>\n",
       "      <td>1</td>\n",
       "      <td>4</td>\n",
       "      <td>4952.115</td>\n",
       "    </tr>\n",
       "    <tr>\n",
       "      <th>67</th>\n",
       "      <td>60</td>\n",
       "      <td>2022</td>\n",
       "      <td>1</td>\n",
       "      <td>5</td>\n",
       "      <td>549.840</td>\n",
       "    </tr>\n",
       "    <tr>\n",
       "      <th>...</th>\n",
       "      <td>...</td>\n",
       "      <td>...</td>\n",
       "      <td>...</td>\n",
       "      <td>...</td>\n",
       "      <td>...</td>\n",
       "    </tr>\n",
       "    <tr>\n",
       "      <th>2141</th>\n",
       "      <td>5002</td>\n",
       "      <td>2022</td>\n",
       "      <td>12</td>\n",
       "      <td>48</td>\n",
       "      <td>2638.995</td>\n",
       "    </tr>\n",
       "    <tr>\n",
       "      <th>2142</th>\n",
       "      <td>5002</td>\n",
       "      <td>2022</td>\n",
       "      <td>12</td>\n",
       "      <td>49</td>\n",
       "      <td>5244.810</td>\n",
       "    </tr>\n",
       "    <tr>\n",
       "      <th>2143</th>\n",
       "      <td>5002</td>\n",
       "      <td>2022</td>\n",
       "      <td>12</td>\n",
       "      <td>50</td>\n",
       "      <td>2719.575</td>\n",
       "    </tr>\n",
       "    <tr>\n",
       "      <th>2144</th>\n",
       "      <td>5002</td>\n",
       "      <td>2022</td>\n",
       "      <td>12</td>\n",
       "      <td>51</td>\n",
       "      <td>3584.625</td>\n",
       "    </tr>\n",
       "    <tr>\n",
       "      <th>2145</th>\n",
       "      <td>5002</td>\n",
       "      <td>2022</td>\n",
       "      <td>12</td>\n",
       "      <td>52</td>\n",
       "      <td>2347.485</td>\n",
       "    </tr>\n",
       "  </tbody>\n",
       "</table>\n",
       "<p>1257 rows × 5 columns</p>\n",
       "</div>"
      ],
      "text/plain": [
       "      FK_STANDORT  year  month  week      velo\n",
       "63             60  2022      1     1  4111.950\n",
       "64             60  2022      1     2  4143.945\n",
       "65             60  2022      1     3  4670.085\n",
       "66             60  2022      1     4  4952.115\n",
       "67             60  2022      1     5   549.840\n",
       "...           ...   ...    ...   ...       ...\n",
       "2141         5002  2022     12    48  2638.995\n",
       "2142         5002  2022     12    49  5244.810\n",
       "2143         5002  2022     12    50  2719.575\n",
       "2144         5002  2022     12    51  3584.625\n",
       "2145         5002  2022     12    52  2347.485\n",
       "\n",
       "[1257 rows x 5 columns]"
      ]
     },
     "execution_count": 90,
     "metadata": {},
     "output_type": "execute_result"
    }
   ],
   "source": [
    "biwc_v"
   ]
  },
  {
   "cell_type": "code",
   "execution_count": 99,
   "id": "0aaa221a-1435-4779-9d33-22a9ec546148",
   "metadata": {
    "execution": {
     "iopub.execute_input": "2024-04-25T01:04:04.716063Z",
     "iopub.status.busy": "2024-04-25T01:04:04.715580Z",
     "iopub.status.idle": "2024-04-25T01:04:04.720918Z",
     "shell.execute_reply": "2024-04-25T01:04:04.720161Z",
     "shell.execute_reply.started": "2024-04-25T01:04:04.716040Z"
    }
   },
   "outputs": [],
   "source": [
    "biwc_mean = biwc_v.groupby(['week' ])['velo'].mean().reset_index()"
   ]
  },
  {
   "cell_type": "code",
   "execution_count": 100,
   "id": "6d4a3824-3440-4083-ad16-d8c9506fa24b",
   "metadata": {
    "execution": {
     "iopub.execute_input": "2024-04-25T01:04:07.129865Z",
     "iopub.status.busy": "2024-04-25T01:04:07.129490Z",
     "iopub.status.idle": "2024-04-25T01:04:07.138394Z",
     "shell.execute_reply": "2024-04-25T01:04:07.137651Z",
     "shell.execute_reply.started": "2024-04-25T01:04:07.129843Z"
    }
   },
   "outputs": [
    {
     "name": "stdout",
     "output_type": "stream",
     "text": [
      "<class 'pandas.core.frame.DataFrame'>\n",
      "RangeIndex: 52 entries, 0 to 51\n",
      "Data columns (total 2 columns):\n",
      " #   Column  Non-Null Count  Dtype  \n",
      "---  ------  --------------  -----  \n",
      " 0   week    52 non-null     UInt32 \n",
      " 1   velo    52 non-null     float64\n",
      "dtypes: UInt32(1), float64(1)\n",
      "memory usage: 808.0 bytes\n"
     ]
    }
   ],
   "source": [
    "biwc_mean.info()"
   ]
  },
  {
   "cell_type": "code",
   "execution_count": 101,
   "id": "321ac037-a9fe-4362-b877-f3e8918b9bd4",
   "metadata": {
    "execution": {
     "iopub.execute_input": "2024-04-25T01:04:12.132191Z",
     "iopub.status.busy": "2024-04-25T01:04:12.131624Z",
     "iopub.status.idle": "2024-04-25T01:04:12.140703Z",
     "shell.execute_reply": "2024-04-25T01:04:12.140057Z",
     "shell.execute_reply.started": "2024-04-25T01:04:12.132168Z"
    }
   },
   "outputs": [],
   "source": [
    "# biwc_mean.to_csv('/home/yelhe/script/mt/output/bic_tc_2022_mean.csv', index = False)"
   ]
  },
  {
   "cell_type": "code",
   "execution_count": null,
   "id": "db3a79ea-042b-4157-8705-07af9e6fe63d",
   "metadata": {},
   "outputs": [],
   "source": []
  },
  {
   "cell_type": "code",
   "execution_count": null,
   "id": "a08d7c63-50fc-4bff-a645-2f3525eac45e",
   "metadata": {},
   "outputs": [],
   "source": []
  },
  {
   "cell_type": "code",
   "execution_count": 375,
   "id": "bd1de1e5-d842-482d-9027-047b5690f2c0",
   "metadata": {
    "execution": {
     "iopub.execute_input": "2024-04-25T04:04:55.580918Z",
     "iopub.status.busy": "2024-04-25T04:04:55.580622Z",
     "iopub.status.idle": "2024-04-25T04:04:55.590787Z",
     "shell.execute_reply": "2024-04-25T04:04:55.590140Z",
     "shell.execute_reply.started": "2024-04-25T04:04:55.580899Z"
    }
   },
   "outputs": [],
   "source": [
    "aa = pd.read_csv('/home/yelhe/script/mt/dataraw/dfaa.csv')"
   ]
  },
  {
   "cell_type": "code",
   "execution_count": 376,
   "id": "00541c9d-0214-4d56-8069-2198a7b30e8c",
   "metadata": {
    "execution": {
     "iopub.execute_input": "2024-04-25T04:04:56.113897Z",
     "iopub.status.busy": "2024-04-25T04:04:56.113352Z",
     "iopub.status.idle": "2024-04-25T04:04:56.166099Z",
     "shell.execute_reply": "2024-04-25T04:04:56.165487Z",
     "shell.execute_reply.started": "2024-04-25T04:04:56.113875Z"
    }
   },
   "outputs": [],
   "source": [
    "# tt variables\n",
    "\n",
    "# Distance to features\n",
    "busl = pd.read_csv('/home/yelhe/data/Traffic_network_variables/h/acc_busline.csv')\n",
    "traml = pd.read_csv('/home/yelhe/data/Traffic_network_variables/h/acc_tramrail.csv')\n",
    "trainl = pd.read_csv('/home/yelhe/data/Traffic_network_variables/h/acc_sbahn_h.csv')\n",
    "plight = pd.read_csv('/home/yelhe/data/Traffic_network_variables/h/acc_publiclight.csv')\n",
    "station = pd.read_csv('/home/yelhe/data/Traffic_network_variables/h/acc_station_h.csv')\n",
    "parkcar = pd.read_csv('/home/yelhe/data/Traffic_network_variables/h/acc_parking_car_space.csv')\n",
    "parktw = pd.read_csv('/home/yelhe/data/Traffic_network_variables/h/acc_parking_twowheeler.csv')\n",
    "\n",
    "pedstrainc = pd.read_csv('/home/yelhe/data/Traffic_network_variables/acc_pedestraincrossing_n.csv') # Greg\n",
    "stop = pd.read_csv('/home/yelhe/data/Traffic_network_variables/acc_stopsign_n.csv') # Greg\n",
    "\n",
    "# Road width & surface information\n",
    "roadinfo = pd.read_csv('/home/yelhe/data/Traffic_network_variables/acc_roadsurfacewidth.csv') # Greg\n",
    "# Speedlimit\n",
    "speedlimit = pd.read_csv('/home/yelhe/data/Traffic_network_variables/acc_speedlimit.csv') # Greg\n",
    "\n",
    "# Traffic volume/exposure\n",
    "gvm = pd.read_csv('/home/yelhe/data/Traffic_network_variables/h/acc_gvm.csv')\n",
    "\n",
    "# Area statistics zone\n",
    "trafficarea = pd.read_csv('/home/yelhe/data/Traffic_network_variables/h/acc_trafficarea_h.csv')\n",
    "statzone = pd.read_csv('/home/yelhe/data/Traffic_network_variables/h/acc_statzonen_h.csv')\n",
    "\n",
    "# Curb info\n",
    "curb = pd.read_csv('/home/yelhe/data/Traffic_network_variables/h/acc_curb.csv')\n",
    "\n"
   ]
  },
  {
   "cell_type": "code",
   "execution_count": 377,
   "id": "48a30de7-01f7-4b48-8cb8-04149ee2c955",
   "metadata": {
    "execution": {
     "iopub.execute_input": "2024-04-25T04:04:56.259118Z",
     "iopub.status.busy": "2024-04-25T04:04:56.258658Z",
     "iopub.status.idle": "2024-04-25T04:04:56.386445Z",
     "shell.execute_reply": "2024-04-25T04:04:56.385519Z",
     "shell.execute_reply.started": "2024-04-25T04:04:56.259095Z"
    }
   },
   "outputs": [],
   "source": [
    "# Traffic count\n",
    "bc = pd.read_excel('/home/yelhe/data/Traffic_network_variables/traffic_count/bicyclecount_1.xlsx')\n",
    "vc = pd.read_excel('/home/yelhe/data/Traffic_network_variables/traffic_count/carcount_1.xlsx')\n",
    "# bc = pd.read_csv('/home/yelhe/data/Traffic_network_variables/traffic_count/bc_nu.csv')\n",
    "# vc = pd.read_csv('/home/yelhe/data/Traffic_network_variables/traffic_count/vc_nu.csv')"
   ]
  },
  {
   "cell_type": "code",
   "execution_count": 378,
   "id": "b1abc280-aa0f-41ab-ba24-441a2e45802d",
   "metadata": {
    "execution": {
     "iopub.execute_input": "2024-04-25T04:04:56.434645Z",
     "iopub.status.busy": "2024-04-25T04:04:56.434276Z",
     "iopub.status.idle": "2024-04-25T04:04:56.439275Z",
     "shell.execute_reply": "2024-04-25T04:04:56.438609Z",
     "shell.execute_reply.started": "2024-04-25T04:04:56.434622Z"
    }
   },
   "outputs": [],
   "source": [
    "ttv = pd.DataFrame()"
   ]
  },
  {
   "cell_type": "code",
   "execution_count": 379,
   "id": "c10b9bd4-83d6-4313-9087-0414d9910163",
   "metadata": {
    "execution": {
     "iopub.execute_input": "2024-04-25T04:04:56.667449Z",
     "iopub.status.busy": "2024-04-25T04:04:56.666750Z",
     "iopub.status.idle": "2024-04-25T04:04:56.674221Z",
     "shell.execute_reply": "2024-04-25T04:04:56.673590Z",
     "shell.execute_reply.started": "2024-04-25T04:04:56.667423Z"
    }
   },
   "outputs": [],
   "source": [
    "buslg = busl.groupby(['Nr', 'distance']).size().reset_index().rename(columns={0:'count'})"
   ]
  },
  {
   "cell_type": "code",
   "execution_count": 380,
   "id": "671dd99d-f434-4590-b3ae-2b10cab877f1",
   "metadata": {
    "execution": {
     "iopub.execute_input": "2024-04-25T04:04:57.052629Z",
     "iopub.status.busy": "2024-04-25T04:04:57.052321Z",
     "iopub.status.idle": "2024-04-25T04:04:57.057951Z",
     "shell.execute_reply": "2024-04-25T04:04:57.056843Z",
     "shell.execute_reply.started": "2024-04-25T04:04:57.052609Z"
    }
   },
   "outputs": [],
   "source": [
    "buslg = buslg.rename(columns = {'distance': 'dbusl'})\n",
    "buslg = buslg.drop(['count'], axis = 1)"
   ]
  },
  {
   "cell_type": "code",
   "execution_count": 381,
   "id": "f530e12a-9d5f-4dca-be58-5dda0956c32b",
   "metadata": {
    "execution": {
     "iopub.execute_input": "2024-04-25T04:04:57.060718Z",
     "iopub.status.busy": "2024-04-25T04:04:57.059744Z",
     "iopub.status.idle": "2024-04-25T04:04:57.066652Z",
     "shell.execute_reply": "2024-04-25T04:04:57.065947Z",
     "shell.execute_reply.started": "2024-04-25T04:04:57.060678Z"
    }
   },
   "outputs": [],
   "source": [
    "ttv['Nr'] = aa['Nr']"
   ]
  },
  {
   "cell_type": "code",
   "execution_count": 382,
   "id": "89b76776-0b88-4abf-b932-8113cee4bec1",
   "metadata": {
    "execution": {
     "iopub.execute_input": "2024-04-25T04:04:57.184361Z",
     "iopub.status.busy": "2024-04-25T04:04:57.183818Z",
     "iopub.status.idle": "2024-04-25T04:04:57.189965Z",
     "shell.execute_reply": "2024-04-25T04:04:57.189321Z",
     "shell.execute_reply.started": "2024-04-25T04:04:57.184339Z"
    }
   },
   "outputs": [],
   "source": [
    "ttv = ttv.merge(buslg, on = ['Nr'])"
   ]
  },
  {
   "cell_type": "code",
   "execution_count": 383,
   "id": "8d13991b-6753-4c10-a856-74014e4c33af",
   "metadata": {
    "execution": {
     "iopub.execute_input": "2024-04-25T04:04:57.350987Z",
     "iopub.status.busy": "2024-04-25T04:04:57.350695Z",
     "iopub.status.idle": "2024-04-25T04:04:57.358566Z",
     "shell.execute_reply": "2024-04-25T04:04:57.357907Z",
     "shell.execute_reply.started": "2024-04-25T04:04:57.350968Z"
    }
   },
   "outputs": [],
   "source": [
    "tramlg = traml.groupby(['Nr', 'distance']).size().reset_index().rename(columns={0:'count'})\n",
    "tramlg = tramlg.rename(columns = {'distance': 'dtraml'})\n",
    "tramlg = tramlg.drop(['count'], axis = 1)"
   ]
  },
  {
   "cell_type": "code",
   "execution_count": 384,
   "id": "185cf753-a0c1-486b-9ef1-82f844f0b6fa",
   "metadata": {
    "execution": {
     "iopub.execute_input": "2024-04-25T04:04:57.520376Z",
     "iopub.status.busy": "2024-04-25T04:04:57.519842Z",
     "iopub.status.idle": "2024-04-25T04:04:57.525722Z",
     "shell.execute_reply": "2024-04-25T04:04:57.525107Z",
     "shell.execute_reply.started": "2024-04-25T04:04:57.520353Z"
    }
   },
   "outputs": [],
   "source": [
    "ttv = ttv.merge(tramlg, on = ['Nr'])"
   ]
  },
  {
   "cell_type": "code",
   "execution_count": 385,
   "id": "55291521-9aed-4464-9a9d-7787fad7505e",
   "metadata": {
    "execution": {
     "iopub.execute_input": "2024-04-25T04:04:57.693563Z",
     "iopub.status.busy": "2024-04-25T04:04:57.693055Z",
     "iopub.status.idle": "2024-04-25T04:04:57.701346Z",
     "shell.execute_reply": "2024-04-25T04:04:57.700707Z",
     "shell.execute_reply.started": "2024-04-25T04:04:57.693542Z"
    }
   },
   "outputs": [],
   "source": [
    "trainlg = trainl.groupby(['Nr', 'distance']).size().reset_index().rename(columns={0:'count'})\n",
    "trainlg = trainlg.rename(columns = {'distance': 'dtrainl'})\n",
    "trainlg = trainlg.drop(['count'], axis = 1)"
   ]
  },
  {
   "cell_type": "code",
   "execution_count": 386,
   "id": "ff73ae2a-d5a8-4c15-aad1-cb17acd916a2",
   "metadata": {
    "execution": {
     "iopub.execute_input": "2024-04-25T04:04:57.874616Z",
     "iopub.status.busy": "2024-04-25T04:04:57.874097Z",
     "iopub.status.idle": "2024-04-25T04:04:57.879821Z",
     "shell.execute_reply": "2024-04-25T04:04:57.879197Z",
     "shell.execute_reply.started": "2024-04-25T04:04:57.874597Z"
    }
   },
   "outputs": [],
   "source": [
    "ttv = ttv.merge(trainlg, on = ['Nr'])"
   ]
  },
  {
   "cell_type": "code",
   "execution_count": 387,
   "id": "1c17f588-4439-4af5-8771-f5d3fccb5604",
   "metadata": {
    "execution": {
     "iopub.execute_input": "2024-04-25T04:04:58.105833Z",
     "iopub.status.busy": "2024-04-25T04:04:58.105139Z",
     "iopub.status.idle": "2024-04-25T04:04:58.113482Z",
     "shell.execute_reply": "2024-04-25T04:04:58.112836Z",
     "shell.execute_reply.started": "2024-04-25T04:04:58.105809Z"
    }
   },
   "outputs": [],
   "source": [
    "plightg = plight.groupby(['Nr', 'distance']).size().reset_index().rename(columns={0:'count'})\n",
    "plightg = plightg.rename(columns = {'distance': 'dplight'})\n",
    "plightg = plightg.drop(['count'], axis = 1)"
   ]
  },
  {
   "cell_type": "code",
   "execution_count": 388,
   "id": "43654ba1-9adc-4f10-a2c4-2b1a62a3136e",
   "metadata": {
    "execution": {
     "iopub.execute_input": "2024-04-25T04:04:58.369370Z",
     "iopub.status.busy": "2024-04-25T04:04:58.368737Z",
     "iopub.status.idle": "2024-04-25T04:04:58.374736Z",
     "shell.execute_reply": "2024-04-25T04:04:58.374058Z",
     "shell.execute_reply.started": "2024-04-25T04:04:58.369334Z"
    }
   },
   "outputs": [],
   "source": [
    "ttv = ttv.merge(plightg, on = ['Nr'])"
   ]
  },
  {
   "cell_type": "code",
   "execution_count": 389,
   "id": "24a9a9c0-6321-461f-aced-1f4199ef88bc",
   "metadata": {
    "execution": {
     "iopub.execute_input": "2024-04-25T04:04:58.690065Z",
     "iopub.status.busy": "2024-04-25T04:04:58.689450Z",
     "iopub.status.idle": "2024-04-25T04:04:58.698223Z",
     "shell.execute_reply": "2024-04-25T04:04:58.697581Z",
     "shell.execute_reply.started": "2024-04-25T04:04:58.690037Z"
    }
   },
   "outputs": [],
   "source": [
    "stationg = station.groupby(['Nr', 'distance']).size().reset_index().rename(columns={0:'count'})\n",
    "stationg = stationg.rename(columns = {'distance': 'dstation'})\n",
    "stationg = stationg.drop(['count'], axis = 1)"
   ]
  },
  {
   "cell_type": "code",
   "execution_count": 390,
   "id": "098c834b-8d04-4538-ab69-9d5aaad15960",
   "metadata": {
    "execution": {
     "iopub.execute_input": "2024-04-25T04:04:58.921700Z",
     "iopub.status.busy": "2024-04-25T04:04:58.920976Z",
     "iopub.status.idle": "2024-04-25T04:04:58.926802Z",
     "shell.execute_reply": "2024-04-25T04:04:58.926170Z",
     "shell.execute_reply.started": "2024-04-25T04:04:58.921677Z"
    }
   },
   "outputs": [],
   "source": [
    "ttv = ttv.merge(stationg, on = ['Nr'])"
   ]
  },
  {
   "cell_type": "code",
   "execution_count": 391,
   "id": "2bbbb239-3663-4988-a6c6-f764db160387",
   "metadata": {
    "execution": {
     "iopub.execute_input": "2024-04-25T04:04:59.324637Z",
     "iopub.status.busy": "2024-04-25T04:04:59.323957Z",
     "iopub.status.idle": "2024-04-25T04:04:59.348024Z",
     "shell.execute_reply": "2024-04-25T04:04:59.347352Z",
     "shell.execute_reply.started": "2024-04-25T04:04:59.324601Z"
    }
   },
   "outputs": [],
   "source": [
    "parkcarg = parkcar.groupby(['Nr', 'distance']).size().reset_index().rename(columns={0:'count'})\n",
    "parkcarg = parkcarg.rename(columns = {'distance': 'dparkcar'})\n",
    "parkcarg = parkcarg.drop(['count'], axis = 1)\n",
    "ttv = ttv.merge(parkcarg, on = ['Nr'])\n",
    "parktwg = parktw.groupby(['Nr', 'distance']).size().reset_index().rename(columns={0:'count'})\n",
    "parktwg = parktwg.rename(columns = {'distance': 'dparktw'})\n",
    "parktwg = parktwg.drop(['count'], axis = 1)\n",
    "ttv = ttv.merge(parktwg, on = ['Nr'])\n",
    "pedcrg = pedstrainc.groupby(['Nr', 'distance']).size().reset_index().rename(columns={0:'count'})\n",
    "pedcrg = pedcrg.rename(columns = {'distance': 'dpedcro'})\n",
    "pedcrg = pedcrg.drop(['count'], axis = 1)\n",
    "ttv = ttv.merge(pedcrg, on = ['Nr'])\n",
    "stopsg = stop.groupby(['Nr', 'distance']).size().reset_index().rename(columns={0:'count'})\n",
    "stopsg = stopsg.rename(columns = {'distance': 'dstopsign'})\n",
    "stopsg = stopsg.drop(['count'], axis = 1)\n",
    "ttv = ttv.merge(stopsg, on = ['Nr'])"
   ]
  },
  {
   "cell_type": "code",
   "execution_count": 392,
   "id": "891d37ee-8424-4c09-a7bd-1fd1cc209ecd",
   "metadata": {
    "execution": {
     "iopub.execute_input": "2024-04-25T04:04:59.706604Z",
     "iopub.status.busy": "2024-04-25T04:04:59.705860Z",
     "iopub.status.idle": "2024-04-25T04:04:59.715099Z",
     "shell.execute_reply": "2024-04-25T04:04:59.714486Z",
     "shell.execute_reply.started": "2024-04-25T04:04:59.706581Z"
    }
   },
   "outputs": [],
   "source": [
    "curbg = curb.groupby(['Nr', 'distance']).size().reset_index().rename(columns={0:'count'})\n",
    "curbg = curbg.rename(columns = {'distance': 'dcurb'})\n",
    "curbg = curbg.drop(['count'], axis = 1)\n",
    "ttv = ttv.merge(curbg, on = ['Nr'])"
   ]
  },
  {
   "cell_type": "code",
   "execution_count": 393,
   "id": "970e3092-0f9f-4aaa-b6c5-f6c32604dc9b",
   "metadata": {
    "execution": {
     "iopub.execute_input": "2024-04-25T04:05:00.218786Z",
     "iopub.status.busy": "2024-04-25T04:05:00.218358Z",
     "iopub.status.idle": "2024-04-25T04:05:00.222801Z",
     "shell.execute_reply": "2024-04-25T04:05:00.222137Z",
     "shell.execute_reply.started": "2024-04-25T04:05:00.218765Z"
    }
   },
   "outputs": [],
   "source": [
    "curbty = curb[['Nr', 'distance', 'abschluss']]"
   ]
  },
  {
   "cell_type": "code",
   "execution_count": 394,
   "id": "a42019b3-43d9-45c2-b495-b0815a7aa0a7",
   "metadata": {
    "execution": {
     "iopub.execute_input": "2024-04-25T04:05:00.550443Z",
     "iopub.status.busy": "2024-04-25T04:05:00.549673Z",
     "iopub.status.idle": "2024-04-25T04:05:00.557645Z",
     "shell.execute_reply": "2024-04-25T04:05:00.556955Z",
     "shell.execute_reply.started": "2024-04-25T04:05:00.550413Z"
    }
   },
   "outputs": [],
   "source": [
    "curbty = curbty.rename(columns = {'abschluss':'curbtype', 'distance':'dcurb'})\n",
    "curbty = curbty.drop_duplicates()\n",
    "ttv = ttv.merge(curbty, on = ['Nr', 'dcurb'])"
   ]
  },
  {
   "cell_type": "code",
   "execution_count": 395,
   "id": "7b330c68-93ad-4e6c-99c7-051534f470d4",
   "metadata": {
    "execution": {
     "iopub.execute_input": "2024-04-25T04:05:00.826574Z",
     "iopub.status.busy": "2024-04-25T04:05:00.825985Z",
     "iopub.status.idle": "2024-04-25T04:05:00.840280Z",
     "shell.execute_reply": "2024-04-25T04:05:00.839496Z",
     "shell.execute_reply.started": "2024-04-25T04:05:00.826551Z"
    }
   },
   "outputs": [],
   "source": [
    "gvmg = gvm.groupby(['Nr', 'distance']).size().reset_index().rename(columns={0:'count'})\n",
    "gvmg = gvmg.rename(columns = {'distance': 'dgvm'})\n",
    "gvmg = gvmg.drop(['count'], axis = 1)\n",
    "ttv = ttv.merge(gvmg, on = ['Nr'])\n",
    "gvmvalue = gvm[['Nr', 'DWV_ANZ_Q', 'MSP_ANZ_Q', 'ASP_ANZ_Q', 'distance']]\n",
    "gvmvalue = gvmvalue.rename(columns = {'DWV_ANZ_Q':'gvm_dwv',\n",
    "                                      'MSP_ANZ_Q':'gvm_msp',\n",
    "                                      'ASP_ANZ_Q':'gvm_asp',\n",
    "                                      'distance':'dgvm'})\n",
    "ttv = ttv.merge(gvmvalue, on = ['Nr', 'dgvm'])"
   ]
  },
  {
   "cell_type": "code",
   "execution_count": 396,
   "id": "196cf329-144e-4271-8da5-3badb5721b99",
   "metadata": {
    "execution": {
     "iopub.execute_input": "2024-04-25T04:05:01.157523Z",
     "iopub.status.busy": "2024-04-25T04:05:01.157029Z",
     "iopub.status.idle": "2024-04-25T04:05:01.162194Z",
     "shell.execute_reply": "2024-04-25T04:05:01.161593Z",
     "shell.execute_reply.started": "2024-04-25T04:05:01.157502Z"
    }
   },
   "outputs": [
    {
     "data": {
      "text/plain": [
       "Index(['Nr', 'dbusl', 'dtraml', 'dtrainl', 'dplight', 'dstation', 'dparkcar',\n",
       "       'dparktw', 'dpedcro', 'dstopsign', 'dcurb', 'curbtype', 'dgvm',\n",
       "       'gvm_dwv', 'gvm_msp', 'gvm_asp'],\n",
       "      dtype='object')"
      ]
     },
     "execution_count": 396,
     "metadata": {},
     "output_type": "execute_result"
    }
   ],
   "source": [
    "ttv.columns"
   ]
  },
  {
   "cell_type": "code",
   "execution_count": 397,
   "id": "7828970c-13e9-4275-8a9b-70346d2242ff",
   "metadata": {
    "execution": {
     "iopub.execute_input": "2024-04-25T04:05:01.539912Z",
     "iopub.status.busy": "2024-04-25T04:05:01.539293Z",
     "iopub.status.idle": "2024-04-25T04:05:01.545724Z",
     "shell.execute_reply": "2024-04-25T04:05:01.545103Z",
     "shell.execute_reply.started": "2024-04-25T04:05:01.539890Z"
    }
   },
   "outputs": [],
   "source": [
    "# ttv = ttv.drop(['curbtype'], axis = 1)\n",
    "ttv = ttv.drop_duplicates()"
   ]
  },
  {
   "cell_type": "code",
   "execution_count": 398,
   "id": "ae76d57e-6207-42d5-bf8c-72f01a438132",
   "metadata": {
    "execution": {
     "iopub.execute_input": "2024-04-25T04:05:01.999270Z",
     "iopub.status.busy": "2024-04-25T04:05:01.998839Z",
     "iopub.status.idle": "2024-04-25T04:05:02.002221Z",
     "shell.execute_reply": "2024-04-25T04:05:02.001534Z",
     "shell.execute_reply.started": "2024-04-25T04:05:01.999245Z"
    }
   },
   "outputs": [],
   "source": [
    "# ttv = ttv.rename(columns = {'curbtype_y': 'curbtype'})"
   ]
  },
  {
   "cell_type": "code",
   "execution_count": 399,
   "id": "c831453b-d5b6-4961-9fdc-cc4a619fa4cc",
   "metadata": {
    "execution": {
     "iopub.execute_input": "2024-04-25T04:05:02.423152Z",
     "iopub.status.busy": "2024-04-25T04:05:02.422452Z",
     "iopub.status.idle": "2024-04-25T04:05:02.428372Z",
     "shell.execute_reply": "2024-04-25T04:05:02.427704Z",
     "shell.execute_reply.started": "2024-04-25T04:05:02.423120Z"
    }
   },
   "outputs": [
    {
     "data": {
      "text/plain": [
       "array([25, 15])"
      ]
     },
     "execution_count": 399,
     "metadata": {},
     "output_type": "execute_result"
    }
   ],
   "source": [
    "ttv['curbtype'].unique()"
   ]
  },
  {
   "cell_type": "code",
   "execution_count": 400,
   "id": "829325c6-692a-4904-8633-c82e67ca4f47",
   "metadata": {
    "execution": {
     "iopub.execute_input": "2024-04-25T04:05:02.820819Z",
     "iopub.status.busy": "2024-04-25T04:05:02.820321Z",
     "iopub.status.idle": "2024-04-25T04:05:02.826100Z",
     "shell.execute_reply": "2024-04-25T04:05:02.825253Z",
     "shell.execute_reply.started": "2024-04-25T04:05:02.820798Z"
    }
   },
   "outputs": [],
   "source": [
    "ttv = ttv.reset_index()"
   ]
  },
  {
   "cell_type": "code",
   "execution_count": 401,
   "id": "3837edc9-6222-444a-9ae9-a8c22b3eb5f0",
   "metadata": {
    "execution": {
     "iopub.execute_input": "2024-04-25T04:05:03.241372Z",
     "iopub.status.busy": "2024-04-25T04:05:03.240965Z",
     "iopub.status.idle": "2024-04-25T04:05:03.246153Z",
     "shell.execute_reply": "2024-04-25T04:05:03.245201Z",
     "shell.execute_reply.started": "2024-04-25T04:05:03.241352Z"
    }
   },
   "outputs": [],
   "source": [
    "ttv = ttv.drop(['index'], axis = 1)"
   ]
  },
  {
   "cell_type": "code",
   "execution_count": 402,
   "id": "c926aac3-7eb1-4a79-bc23-faccb567e67a",
   "metadata": {
    "execution": {
     "iopub.execute_input": "2024-04-25T04:05:03.668240Z",
     "iopub.status.busy": "2024-04-25T04:05:03.667700Z",
     "iopub.status.idle": "2024-04-25T04:05:03.673774Z",
     "shell.execute_reply": "2024-04-25T04:05:03.673083Z",
     "shell.execute_reply.started": "2024-04-25T04:05:03.668196Z"
    }
   },
   "outputs": [
    {
     "name": "stdout",
     "output_type": "stream",
     "text": [
      "122 33 12\n"
     ]
    }
   ],
   "source": [
    "print(len(statzone['stznr'].unique()),\n",
    "      len(statzone['qnr'].unique()),\n",
    "      len(statzone['knr'].unique()))"
   ]
  },
  {
   "cell_type": "code",
   "execution_count": 403,
   "id": "158185f9-30af-46cb-bcc2-a0a540f449a7",
   "metadata": {
    "execution": {
     "iopub.execute_input": "2024-04-25T04:05:04.102507Z",
     "iopub.status.busy": "2024-04-25T04:05:04.102187Z",
     "iopub.status.idle": "2024-04-25T04:05:04.109050Z",
     "shell.execute_reply": "2024-04-25T04:05:04.108439Z",
     "shell.execute_reply.started": "2024-04-25T04:05:04.102488Z"
    }
   },
   "outputs": [],
   "source": [
    "statzoneg = statzone[['Nr', 'stznr', 'qnr', 'knr']]\n",
    "statzoneg = statzoneg.rename(columns = {'stznr':'z_stznr', 'qnr':'z_qnr', 'knr':'z_knr'})\n",
    "ttv = ttv.merge(statzoneg, on = ['Nr'])"
   ]
  },
  {
   "cell_type": "code",
   "execution_count": 404,
   "id": "d3ace774-c8fa-4a0b-8efb-208f8d3eb36c",
   "metadata": {
    "execution": {
     "iopub.execute_input": "2024-04-25T04:05:04.560820Z",
     "iopub.status.busy": "2024-04-25T04:05:04.560488Z",
     "iopub.status.idle": "2024-04-25T04:05:04.565223Z",
     "shell.execute_reply": "2024-04-25T04:05:04.564606Z",
     "shell.execute_reply.started": "2024-04-25T04:05:04.560801Z"
    }
   },
   "outputs": [
    {
     "data": {
      "text/plain": [
       "Index(['Nr', 'Koord E', 'Koord N', 'lat', 'lon', 'id', 'zonenname', 'zonentyp',\n",
       "       'zonentyp_t', 'umgesetzt_', 'rechtskrae', 'publiziert', 'objectid',\n",
       "       'distance'],\n",
       "      dtype='object')"
      ]
     },
     "execution_count": 404,
     "metadata": {},
     "output_type": "execute_result"
    }
   ],
   "source": [
    "trafficarea.columns"
   ]
  },
  {
   "cell_type": "code",
   "execution_count": 405,
   "id": "42d24779-0169-4000-a339-77a960aeac77",
   "metadata": {
    "execution": {
     "iopub.execute_input": "2024-04-25T04:05:04.980859Z",
     "iopub.status.busy": "2024-04-25T04:05:04.980521Z",
     "iopub.status.idle": "2024-04-25T04:05:04.988748Z",
     "shell.execute_reply": "2024-04-25T04:05:04.988154Z",
     "shell.execute_reply.started": "2024-04-25T04:05:04.980840Z"
    }
   },
   "outputs": [
    {
     "data": {
      "text/plain": [
       "zonentyp        zonentyp_t\n",
       "Begegnungszone  T20            34\n",
       "Fussgängerzone  T0             32\n",
       "T30-Zone        T30           284\n",
       "dtype: int64"
      ]
     },
     "execution_count": 405,
     "metadata": {},
     "output_type": "execute_result"
    }
   ],
   "source": [
    "trafficarea.groupby(['zonentyp', 'zonentyp_t']).size()"
   ]
  },
  {
   "cell_type": "code",
   "execution_count": 406,
   "id": "8538d8be-825e-4fab-ad43-4f6295ef1123",
   "metadata": {
    "execution": {
     "iopub.execute_input": "2024-04-25T04:05:06.048554Z",
     "iopub.status.busy": "2024-04-25T04:05:06.048224Z",
     "iopub.status.idle": "2024-04-25T04:05:06.055522Z",
     "shell.execute_reply": "2024-04-25T04:05:06.054876Z",
     "shell.execute_reply.started": "2024-04-25T04:05:06.048534Z"
    }
   },
   "outputs": [],
   "source": [
    "tareag = trafficarea[['Nr', 'zonentyp_t', 'distance']]\n",
    "tareag = tareag.rename(columns = {'zonentyp_t':'trafficarea',\n",
    "                                  'distance':'dtrafficarea'})\n",
    "ttv = ttv.merge(tareag, on = ['Nr'])"
   ]
  },
  {
   "cell_type": "code",
   "execution_count": 407,
   "id": "b86391d5-424b-4c5e-b2ad-e4e68e7a3dbf",
   "metadata": {
    "execution": {
     "iopub.execute_input": "2024-04-25T04:05:06.990344Z",
     "iopub.status.busy": "2024-04-25T04:05:06.990006Z",
     "iopub.status.idle": "2024-04-25T04:05:06.997733Z",
     "shell.execute_reply": "2024-04-25T04:05:06.997092Z",
     "shell.execute_reply.started": "2024-04-25T04:05:06.990323Z"
    }
   },
   "outputs": [],
   "source": [
    "rig = roadinfo[['Nr', 'road_width', 'surface', 'distance']]\n",
    "rig = rig.rename(columns = {'road_width':'r_width',\n",
    "                               'distance':'droad',\n",
    "                               'surface':'r_surface'})\n",
    "ttv = ttv.merge(rig, on = ['Nr'])"
   ]
  },
  {
   "cell_type": "code",
   "execution_count": 408,
   "id": "ff5ddfb5-3742-4515-b4d7-073297a6c664",
   "metadata": {
    "execution": {
     "iopub.execute_input": "2024-04-25T04:05:07.392241Z",
     "iopub.status.busy": "2024-04-25T04:05:07.391889Z",
     "iopub.status.idle": "2024-04-25T04:05:07.400209Z",
     "shell.execute_reply": "2024-04-25T04:05:07.399533Z",
     "shell.execute_reply.started": "2024-04-25T04:05:07.392220Z"
    }
   },
   "outputs": [],
   "source": [
    "slg = speedlimit[['Nr', 'speed', 'distance']]\n",
    "slg = slg.rename(columns = {'speed':'speedlimit',\n",
    "                            'distance':'droad_sl'})\n",
    "ttv = ttv.merge(slg, on = ['Nr'])"
   ]
  },
  {
   "cell_type": "code",
   "execution_count": 409,
   "id": "103b15fb-ce55-4619-8595-073b6ad77858",
   "metadata": {
    "execution": {
     "iopub.execute_input": "2024-04-25T04:05:07.833658Z",
     "iopub.status.busy": "2024-04-25T04:05:07.833321Z",
     "iopub.status.idle": "2024-04-25T04:05:07.838176Z",
     "shell.execute_reply": "2024-04-25T04:05:07.837584Z",
     "shell.execute_reply.started": "2024-04-25T04:05:07.833639Z"
    }
   },
   "outputs": [
    {
     "data": {
      "text/plain": [
       "Index(['Nr', 'dbusl', 'dtraml', 'dtrainl', 'dplight', 'dstation', 'dparkcar',\n",
       "       'dparktw', 'dpedcro', 'dstopsign', 'dcurb', 'curbtype', 'dgvm',\n",
       "       'gvm_dwv', 'gvm_msp', 'gvm_asp', 'z_stznr', 'z_qnr', 'z_knr',\n",
       "       'trafficarea', 'dtrafficarea', 'r_width', 'r_surface', 'droad',\n",
       "       'speedlimit', 'droad_sl'],\n",
       "      dtype='object')"
      ]
     },
     "execution_count": 409,
     "metadata": {},
     "output_type": "execute_result"
    }
   ],
   "source": [
    "ttv.columns"
   ]
  },
  {
   "cell_type": "code",
   "execution_count": 410,
   "id": "453728f7-b919-4ac2-91c7-bb74fed90abd",
   "metadata": {
    "execution": {
     "iopub.execute_input": "2024-04-25T04:05:08.383831Z",
     "iopub.status.busy": "2024-04-25T04:05:08.383455Z",
     "iopub.status.idle": "2024-04-25T04:05:08.386756Z",
     "shell.execute_reply": "2024-04-25T04:05:08.386143Z",
     "shell.execute_reply.started": "2024-04-25T04:05:08.383809Z"
    }
   },
   "outputs": [],
   "source": [
    "# ttv.to_csv('/home/yelhe/data/Traffic_network_variables/ttvariables_sum_new.csv', index = False)"
   ]
  },
  {
   "cell_type": "code",
   "execution_count": 411,
   "id": "f63749aa-6a90-4340-854d-31e9a19af6bc",
   "metadata": {
    "execution": {
     "iopub.execute_input": "2024-04-25T04:05:09.351662Z",
     "iopub.status.busy": "2024-04-25T04:05:09.351332Z",
     "iopub.status.idle": "2024-04-25T04:05:09.354767Z",
     "shell.execute_reply": "2024-04-25T04:05:09.354108Z",
     "shell.execute_reply.started": "2024-04-25T04:05:09.351642Z"
    }
   },
   "outputs": [],
   "source": [
    "# ttv = pd.read_csv('/home/yelhe/data/Traffic_network_variables/ttvariables_sum_new.csv')"
   ]
  },
  {
   "cell_type": "code",
   "execution_count": 412,
   "id": "0b9e4abb-69f9-48be-8743-f97669a17fd7",
   "metadata": {
    "execution": {
     "iopub.execute_input": "2024-04-25T04:05:14.297435Z",
     "iopub.status.busy": "2024-04-25T04:05:14.297108Z",
     "iopub.status.idle": "2024-04-25T04:05:14.305983Z",
     "shell.execute_reply": "2024-04-25T04:05:14.305348Z",
     "shell.execute_reply.started": "2024-04-25T04:05:14.297415Z"
    }
   },
   "outputs": [
    {
     "name": "stdout",
     "output_type": "stream",
     "text": [
      "<class 'pandas.core.frame.DataFrame'>\n",
      "RangeIndex: 350 entries, 0 to 349\n",
      "Data columns (total 16 columns):\n",
      " #   Column                 Non-Null Count  Dtype         \n",
      "---  ------                 --------------  -----         \n",
      " 0   Unnamed: 0             350 non-null    int64         \n",
      " 1   Nr                     350 non-null    int64         \n",
      " 2   FK_ZAEHLER             350 non-null    object        \n",
      " 3   distance               350 non-null    float64       \n",
      " 4   Datum                  185 non-null    datetime64[ns]\n",
      " 5   Zeit                   185 non-null    object        \n",
      " 6   Date                   185 non-null    datetime64[ns]\n",
      " 7   year                   185 non-null    float64       \n",
      " 8   month                  185 non-null    float64       \n",
      " 9   day                    185 non-null    float64       \n",
      " 10  week                   185 non-null    float64       \n",
      " 11  bicycle_traffic_count  350 non-null    float64       \n",
      " 12  date                   117 non-null    datetime64[ns]\n",
      " 13  OST                    117 non-null    float64       \n",
      " 14  NORD                   117 non-null    float64       \n",
      " 15  bicycle_traffic_norm   117 non-null    float64       \n",
      "dtypes: datetime64[ns](3), float64(9), int64(2), object(2)\n",
      "memory usage: 43.9+ KB\n"
     ]
    }
   ],
   "source": [
    "bc.info()"
   ]
  },
  {
   "cell_type": "code",
   "execution_count": 413,
   "id": "f829f46c-eed9-4762-855b-a9135ee843a5",
   "metadata": {
    "execution": {
     "iopub.execute_input": "2024-04-25T04:05:16.296463Z",
     "iopub.status.busy": "2024-04-25T04:05:16.296116Z",
     "iopub.status.idle": "2024-04-25T04:05:16.300886Z",
     "shell.execute_reply": "2024-04-25T04:05:16.300107Z",
     "shell.execute_reply.started": "2024-04-25T04:05:16.296442Z"
    }
   },
   "outputs": [],
   "source": [
    "bc = bc.drop(['Unnamed: 0'], axis = 1)"
   ]
  },
  {
   "cell_type": "code",
   "execution_count": 262,
   "id": "87ccda3b-f7ff-4617-baf7-3b15bae2bc37",
   "metadata": {
    "execution": {
     "iopub.execute_input": "2024-04-25T03:06:24.688184Z",
     "iopub.status.busy": "2024-04-25T03:06:24.687815Z",
     "iopub.status.idle": "2024-04-25T03:06:24.691278Z",
     "shell.execute_reply": "2024-04-25T03:06:24.690634Z",
     "shell.execute_reply.started": "2024-04-25T03:06:24.688162Z"
    }
   },
   "outputs": [],
   "source": [
    "# list = bc1921.index.values"
   ]
  },
  {
   "cell_type": "code",
   "execution_count": 263,
   "id": "176ad63f-e9d6-4a2a-ad87-ece4fc639b39",
   "metadata": {
    "execution": {
     "iopub.execute_input": "2024-04-25T03:06:24.972748Z",
     "iopub.status.busy": "2024-04-25T03:06:24.972384Z",
     "iopub.status.idle": "2024-04-25T03:06:24.975888Z",
     "shell.execute_reply": "2024-04-25T03:06:24.975203Z",
     "shell.execute_reply.started": "2024-04-25T03:06:24.972726Z"
    }
   },
   "outputs": [],
   "source": [
    "# bc1921 = bc1921.drop(index = [76, 97, 79, 73, 139, 86, 149, 128, 118])"
   ]
  },
  {
   "cell_type": "code",
   "execution_count": 414,
   "id": "dee43501-525d-4a31-b454-9cf9fd5272cc",
   "metadata": {
    "execution": {
     "iopub.execute_input": "2024-04-25T04:05:28.261710Z",
     "iopub.status.busy": "2024-04-25T04:05:28.261336Z",
     "iopub.status.idle": "2024-04-25T04:05:28.271536Z",
     "shell.execute_reply": "2024-04-25T04:05:28.270697Z",
     "shell.execute_reply.started": "2024-04-25T04:05:28.261688Z"
    }
   },
   "outputs": [],
   "source": [
    "bcg = bc.groupby(['Nr', 'distance']).size().reset_index().rename(columns={0:'count'})\n",
    "bcg = bcg.rename(columns = {'distance': 'd_bicyclecount'})\n",
    "bcg = bcg.drop(['count'], axis = 1)"
   ]
  },
  {
   "cell_type": "code",
   "execution_count": 415,
   "id": "4a0f1d0e-7512-4581-84dd-8f6d14614cbc",
   "metadata": {
    "execution": {
     "iopub.execute_input": "2024-04-25T04:05:28.447824Z",
     "iopub.status.busy": "2024-04-25T04:05:28.447413Z",
     "iopub.status.idle": "2024-04-25T04:05:28.456606Z",
     "shell.execute_reply": "2024-04-25T04:05:28.455841Z",
     "shell.execute_reply.started": "2024-04-25T04:05:28.447794Z"
    }
   },
   "outputs": [
    {
     "data": {
      "text/html": [
       "<div>\n",
       "<style scoped>\n",
       "    .dataframe tbody tr th:only-of-type {\n",
       "        vertical-align: middle;\n",
       "    }\n",
       "\n",
       "    .dataframe tbody tr th {\n",
       "        vertical-align: top;\n",
       "    }\n",
       "\n",
       "    .dataframe thead th {\n",
       "        text-align: right;\n",
       "    }\n",
       "</style>\n",
       "<table border=\"1\" class=\"dataframe\">\n",
       "  <thead>\n",
       "    <tr style=\"text-align: right;\">\n",
       "      <th></th>\n",
       "      <th>Nr</th>\n",
       "      <th>d_bicyclecount</th>\n",
       "    </tr>\n",
       "  </thead>\n",
       "  <tbody>\n",
       "    <tr>\n",
       "      <th>0</th>\n",
       "      <td>99900044963840</td>\n",
       "      <td>274.458564</td>\n",
       "    </tr>\n",
       "    <tr>\n",
       "      <th>1</th>\n",
       "      <td>99900045510756</td>\n",
       "      <td>566.991776</td>\n",
       "    </tr>\n",
       "    <tr>\n",
       "      <th>2</th>\n",
       "      <td>99900045511204</td>\n",
       "      <td>25.440177</td>\n",
       "    </tr>\n",
       "    <tr>\n",
       "      <th>3</th>\n",
       "      <td>99900045553013</td>\n",
       "      <td>187.579285</td>\n",
       "    </tr>\n",
       "    <tr>\n",
       "      <th>4</th>\n",
       "      <td>99900045612893</td>\n",
       "      <td>484.723513</td>\n",
       "    </tr>\n",
       "    <tr>\n",
       "      <th>...</th>\n",
       "      <td>...</td>\n",
       "      <td>...</td>\n",
       "    </tr>\n",
       "    <tr>\n",
       "      <th>345</th>\n",
       "      <td>99900063695545</td>\n",
       "      <td>62.728320</td>\n",
       "    </tr>\n",
       "    <tr>\n",
       "      <th>346</th>\n",
       "      <td>99900063698497</td>\n",
       "      <td>310.789294</td>\n",
       "    </tr>\n",
       "    <tr>\n",
       "      <th>347</th>\n",
       "      <td>99900063992212</td>\n",
       "      <td>236.886674</td>\n",
       "    </tr>\n",
       "    <tr>\n",
       "      <th>348</th>\n",
       "      <td>99900064009149</td>\n",
       "      <td>340.463140</td>\n",
       "    </tr>\n",
       "    <tr>\n",
       "      <th>349</th>\n",
       "      <td>99900064009230</td>\n",
       "      <td>299.290147</td>\n",
       "    </tr>\n",
       "  </tbody>\n",
       "</table>\n",
       "<p>350 rows × 2 columns</p>\n",
       "</div>"
      ],
      "text/plain": [
       "                 Nr  d_bicyclecount\n",
       "0    99900044963840      274.458564\n",
       "1    99900045510756      566.991776\n",
       "2    99900045511204       25.440177\n",
       "3    99900045553013      187.579285\n",
       "4    99900045612893      484.723513\n",
       "..              ...             ...\n",
       "345  99900063695545       62.728320\n",
       "346  99900063698497      310.789294\n",
       "347  99900063992212      236.886674\n",
       "348  99900064009149      340.463140\n",
       "349  99900064009230      299.290147\n",
       "\n",
       "[350 rows x 2 columns]"
      ]
     },
     "execution_count": 415,
     "metadata": {},
     "output_type": "execute_result"
    }
   ],
   "source": [
    "bcg"
   ]
  },
  {
   "cell_type": "code",
   "execution_count": 416,
   "id": "03e8baab-ba29-49a7-8e81-bf1496f3accd",
   "metadata": {
    "execution": {
     "iopub.execute_input": "2024-04-25T04:05:31.787151Z",
     "iopub.status.busy": "2024-04-25T04:05:31.786772Z",
     "iopub.status.idle": "2024-04-25T04:05:31.794907Z",
     "shell.execute_reply": "2024-04-25T04:05:31.794244Z",
     "shell.execute_reply.started": "2024-04-25T04:05:31.787127Z"
    }
   },
   "outputs": [],
   "source": [
    "# bcg = bcg.drop_duplicates()\n",
    "ttv = ttv.merge(bcg, on = ['Nr'], how = 'left')\n",
    "bcgv = bc[['Nr', 'bicycle_traffic_count', 'distance']]\n",
    "bcgv = bcgv.rename(columns = {'bicycle_traffic_count':'bicyclecount',\n",
    "                              'distance':'d_bicyclecount'})\n"
   ]
  },
  {
   "cell_type": "code",
   "execution_count": 417,
   "id": "f2d9aba7-9995-4381-9214-28bc7e3b7819",
   "metadata": {
    "execution": {
     "iopub.execute_input": "2024-04-25T04:05:32.688133Z",
     "iopub.status.busy": "2024-04-25T04:05:32.687845Z",
     "iopub.status.idle": "2024-04-25T04:05:32.697469Z",
     "shell.execute_reply": "2024-04-25T04:05:32.696640Z",
     "shell.execute_reply.started": "2024-04-25T04:05:32.688115Z"
    }
   },
   "outputs": [
    {
     "data": {
      "text/html": [
       "<div>\n",
       "<style scoped>\n",
       "    .dataframe tbody tr th:only-of-type {\n",
       "        vertical-align: middle;\n",
       "    }\n",
       "\n",
       "    .dataframe tbody tr th {\n",
       "        vertical-align: top;\n",
       "    }\n",
       "\n",
       "    .dataframe thead th {\n",
       "        text-align: right;\n",
       "    }\n",
       "</style>\n",
       "<table border=\"1\" class=\"dataframe\">\n",
       "  <thead>\n",
       "    <tr style=\"text-align: right;\">\n",
       "      <th></th>\n",
       "      <th>Nr</th>\n",
       "      <th>bicyclecount</th>\n",
       "      <th>d_bicyclecount</th>\n",
       "    </tr>\n",
       "  </thead>\n",
       "  <tbody>\n",
       "    <tr>\n",
       "      <th>0</th>\n",
       "      <td>99900060852597</td>\n",
       "      <td>11188.80428</td>\n",
       "      <td>641.292963</td>\n",
       "    </tr>\n",
       "    <tr>\n",
       "      <th>1</th>\n",
       "      <td>99900063018611</td>\n",
       "      <td>11188.80428</td>\n",
       "      <td>959.103749</td>\n",
       "    </tr>\n",
       "    <tr>\n",
       "      <th>2</th>\n",
       "      <td>99900052723510</td>\n",
       "      <td>11188.80428</td>\n",
       "      <td>646.572037</td>\n",
       "    </tr>\n",
       "    <tr>\n",
       "      <th>3</th>\n",
       "      <td>99900061514043</td>\n",
       "      <td>11188.80428</td>\n",
       "      <td>397.277552</td>\n",
       "    </tr>\n",
       "    <tr>\n",
       "      <th>4</th>\n",
       "      <td>99900063037843</td>\n",
       "      <td>11188.80428</td>\n",
       "      <td>604.035921</td>\n",
       "    </tr>\n",
       "    <tr>\n",
       "      <th>...</th>\n",
       "      <td>...</td>\n",
       "      <td>...</td>\n",
       "      <td>...</td>\n",
       "    </tr>\n",
       "    <tr>\n",
       "      <th>345</th>\n",
       "      <td>99900055905276</td>\n",
       "      <td>6692.00841</td>\n",
       "      <td>2405.574172</td>\n",
       "    </tr>\n",
       "    <tr>\n",
       "      <th>346</th>\n",
       "      <td>99900060670975</td>\n",
       "      <td>11188.80428</td>\n",
       "      <td>2543.971891</td>\n",
       "    </tr>\n",
       "    <tr>\n",
       "      <th>347</th>\n",
       "      <td>99900047367168</td>\n",
       "      <td>11188.80428</td>\n",
       "      <td>2661.635653</td>\n",
       "    </tr>\n",
       "    <tr>\n",
       "      <th>348</th>\n",
       "      <td>99900050714619</td>\n",
       "      <td>11188.80428</td>\n",
       "      <td>2831.090872</td>\n",
       "    </tr>\n",
       "    <tr>\n",
       "      <th>349</th>\n",
       "      <td>99900060734330</td>\n",
       "      <td>11188.80428</td>\n",
       "      <td>2952.945811</td>\n",
       "    </tr>\n",
       "  </tbody>\n",
       "</table>\n",
       "<p>350 rows × 3 columns</p>\n",
       "</div>"
      ],
      "text/plain": [
       "                 Nr  bicyclecount  d_bicyclecount\n",
       "0    99900060852597   11188.80428      641.292963\n",
       "1    99900063018611   11188.80428      959.103749\n",
       "2    99900052723510   11188.80428      646.572037\n",
       "3    99900061514043   11188.80428      397.277552\n",
       "4    99900063037843   11188.80428      604.035921\n",
       "..              ...           ...             ...\n",
       "345  99900055905276    6692.00841     2405.574172\n",
       "346  99900060670975   11188.80428     2543.971891\n",
       "347  99900047367168   11188.80428     2661.635653\n",
       "348  99900050714619   11188.80428     2831.090872\n",
       "349  99900060734330   11188.80428     2952.945811\n",
       "\n",
       "[350 rows x 3 columns]"
      ]
     },
     "execution_count": 417,
     "metadata": {},
     "output_type": "execute_result"
    }
   ],
   "source": [
    "bcgv"
   ]
  },
  {
   "cell_type": "code",
   "execution_count": 418,
   "id": "ae3f7f6b-840e-4e7a-96bf-68c9246a6239",
   "metadata": {
    "execution": {
     "iopub.execute_input": "2024-04-25T04:05:36.921375Z",
     "iopub.status.busy": "2024-04-25T04:05:36.920691Z",
     "iopub.status.idle": "2024-04-25T04:05:36.926350Z",
     "shell.execute_reply": "2024-04-25T04:05:36.925544Z",
     "shell.execute_reply.started": "2024-04-25T04:05:36.921350Z"
    }
   },
   "outputs": [
    {
     "data": {
      "text/plain": [
       "Index(['Nr', 'dbusl', 'dtraml', 'dtrainl', 'dplight', 'dstation', 'dparkcar',\n",
       "       'dparktw', 'dpedcro', 'dstopsign', 'dcurb', 'curbtype', 'dgvm',\n",
       "       'gvm_dwv', 'gvm_msp', 'gvm_asp', 'z_stznr', 'z_qnr', 'z_knr',\n",
       "       'trafficarea', 'dtrafficarea', 'r_width', 'r_surface', 'droad',\n",
       "       'speedlimit', 'droad_sl', 'd_bicyclecount'],\n",
       "      dtype='object')"
      ]
     },
     "execution_count": 418,
     "metadata": {},
     "output_type": "execute_result"
    }
   ],
   "source": [
    "ttv.columns"
   ]
  },
  {
   "cell_type": "code",
   "execution_count": 419,
   "id": "5f376908-90f9-4d1a-b42a-426148545410",
   "metadata": {
    "execution": {
     "iopub.execute_input": "2024-04-25T04:05:39.126720Z",
     "iopub.status.busy": "2024-04-25T04:05:39.126374Z",
     "iopub.status.idle": "2024-04-25T04:05:39.134212Z",
     "shell.execute_reply": "2024-04-25T04:05:39.133391Z",
     "shell.execute_reply.started": "2024-04-25T04:05:39.126700Z"
    }
   },
   "outputs": [],
   "source": [
    "ttv = ttv.merge(bcgv, on = ['Nr', 'd_bicyclecount'], how = 'left')"
   ]
  },
  {
   "cell_type": "code",
   "execution_count": 420,
   "id": "65a0ba93-0031-430e-b798-63945921c6da",
   "metadata": {
    "execution": {
     "iopub.execute_input": "2024-04-25T04:05:39.781352Z",
     "iopub.status.busy": "2024-04-25T04:05:39.780938Z",
     "iopub.status.idle": "2024-04-25T04:05:39.788651Z",
     "shell.execute_reply": "2024-04-25T04:05:39.787735Z",
     "shell.execute_reply.started": "2024-04-25T04:05:39.781330Z"
    }
   },
   "outputs": [
    {
     "data": {
      "text/plain": [
       "0       641.292963\n",
       "1       959.103749\n",
       "2       646.572037\n",
       "3       397.277552\n",
       "4       604.035921\n",
       "          ...     \n",
       "345    2405.574172\n",
       "346    2543.971891\n",
       "347    2661.635653\n",
       "348    2831.090872\n",
       "349    2952.945811\n",
       "Name: d_bicyclecount, Length: 350, dtype: float64"
      ]
     },
     "execution_count": 420,
     "metadata": {},
     "output_type": "execute_result"
    }
   ],
   "source": [
    "ttv['d_bicyclecount']"
   ]
  },
  {
   "cell_type": "code",
   "execution_count": 197,
   "id": "26bb4c55-c4f5-4cbc-8c94-708b994d6046",
   "metadata": {
    "execution": {
     "iopub.execute_input": "2024-04-25T02:48:47.818608Z",
     "iopub.status.busy": "2024-04-25T02:48:47.818039Z",
     "iopub.status.idle": "2024-04-25T02:48:47.821364Z",
     "shell.execute_reply": "2024-04-25T02:48:47.820727Z",
     "shell.execute_reply.started": "2024-04-25T02:48:47.818586Z"
    }
   },
   "outputs": [],
   "source": [
    "# vc1921 = vc1921.drop(index = [42, 40, 76])"
   ]
  },
  {
   "cell_type": "code",
   "execution_count": 198,
   "id": "61e98e41-0426-4ded-b6d9-ae5e10ad0c64",
   "metadata": {
    "execution": {
     "iopub.execute_input": "2024-04-25T02:48:47.992771Z",
     "iopub.status.busy": "2024-04-25T02:48:47.992302Z",
     "iopub.status.idle": "2024-04-25T02:48:47.995962Z",
     "shell.execute_reply": "2024-04-25T02:48:47.995285Z",
     "shell.execute_reply.started": "2024-04-25T02:48:47.992747Z"
    }
   },
   "outputs": [],
   "source": [
    "# vc1921.loc[41, 'car_traffic_count'] = 88424.5"
   ]
  },
  {
   "cell_type": "code",
   "execution_count": 199,
   "id": "476281a3-c05f-4853-93fc-73c670cbb3c8",
   "metadata": {
    "execution": {
     "iopub.execute_input": "2024-04-25T02:48:48.157658Z",
     "iopub.status.busy": "2024-04-25T02:48:48.157114Z",
     "iopub.status.idle": "2024-04-25T02:48:48.161021Z",
     "shell.execute_reply": "2024-04-25T02:48:48.160188Z",
     "shell.execute_reply.started": "2024-04-25T02:48:48.157637Z"
    }
   },
   "outputs": [],
   "source": [
    "# vc1921.loc[39, 'car_traffic_count'] = 87416.5"
   ]
  },
  {
   "cell_type": "code",
   "execution_count": 200,
   "id": "ab768dc9-59e6-43b6-a0ef-ac149f44fb1e",
   "metadata": {
    "execution": {
     "iopub.execute_input": "2024-04-25T02:48:48.314168Z",
     "iopub.status.busy": "2024-04-25T02:48:48.313836Z",
     "iopub.status.idle": "2024-04-25T02:48:48.317475Z",
     "shell.execute_reply": "2024-04-25T02:48:48.316524Z",
     "shell.execute_reply.started": "2024-04-25T02:48:48.314149Z"
    }
   },
   "outputs": [],
   "source": [
    "# vc1921.loc[75, 'car_traffic_count'] = 88582.5"
   ]
  },
  {
   "cell_type": "code",
   "execution_count": 421,
   "id": "72e2098b-39af-4c6a-a0ed-506beb438a36",
   "metadata": {
    "execution": {
     "iopub.execute_input": "2024-04-25T04:05:43.521467Z",
     "iopub.status.busy": "2024-04-25T04:05:43.521064Z",
     "iopub.status.idle": "2024-04-25T04:05:43.537131Z",
     "shell.execute_reply": "2024-04-25T04:05:43.536488Z",
     "shell.execute_reply.started": "2024-04-25T04:05:43.521445Z"
    }
   },
   "outputs": [],
   "source": [
    "vcg = vc.groupby(['Nr', 'distance']).size().reset_index().rename(columns={0:'count'})\n",
    "vcg = vcg.rename(columns = {'distance': 'd_carcount'})\n",
    "vcg = vcg.drop(['count'], axis = 1)\n",
    "vcg = vcg.drop_duplicates()\n",
    "ttv = ttv.merge(vcg, on = ['Nr'], how = 'left')\n",
    "vcgv = vc[['Nr', 'car_traffic_count', 'distance']]\n",
    "vcgv = vcgv.rename(columns = {'car_traffic_count':'carcount',\n",
    "                              'distance':'d_carcount'})\n",
    "ttv = ttv.merge(vcgv, on = ['Nr', 'd_carcount'], how = 'left')"
   ]
  },
  {
   "cell_type": "code",
   "execution_count": 423,
   "id": "48429f46-d998-4eae-9104-44d0797955bf",
   "metadata": {
    "execution": {
     "iopub.execute_input": "2024-04-25T04:05:58.521511Z",
     "iopub.status.busy": "2024-04-25T04:05:58.521154Z",
     "iopub.status.idle": "2024-04-25T04:05:58.536421Z",
     "shell.execute_reply": "2024-04-25T04:05:58.535796Z",
     "shell.execute_reply.started": "2024-04-25T04:05:58.521489Z"
    }
   },
   "outputs": [],
   "source": [
    "ttv.to_csv('/home/yelhe/data/Traffic_network_variables/ttvariables_sum_withtrafficcount_final.csv', index = False)"
   ]
  },
  {
   "cell_type": "code",
   "execution_count": 427,
   "id": "016c2c8d-0473-4c60-ba13-c5d5e19c04d6",
   "metadata": {
    "execution": {
     "iopub.execute_input": "2024-04-25T04:06:37.149669Z",
     "iopub.status.busy": "2024-04-25T04:06:37.149305Z",
     "iopub.status.idle": "2024-04-25T04:06:37.159185Z",
     "shell.execute_reply": "2024-04-25T04:06:37.158351Z",
     "shell.execute_reply.started": "2024-04-25T04:06:37.149647Z"
    }
   },
   "outputs": [],
   "source": [
    "# ttv = pd.read_csv('/home/yelhe/data/Traffic_network_variables/ttvariables_sum_withtrafficcount.csv')\n",
    "vfpath = pd.read_csv('/home/yelhe/data/Traffic_network_variables/h/acc_velofusspath.csv')"
   ]
  },
  {
   "cell_type": "code",
   "execution_count": 428,
   "id": "5d3a1c05-8511-4cd8-b07f-b8aa9c845bcc",
   "metadata": {
    "execution": {
     "iopub.execute_input": "2024-04-25T04:06:37.825514Z",
     "iopub.status.busy": "2024-04-25T04:06:37.825165Z",
     "iopub.status.idle": "2024-04-25T04:06:37.834255Z",
     "shell.execute_reply": "2024-04-25T04:06:37.833606Z",
     "shell.execute_reply.started": "2024-04-25T04:06:37.825494Z"
    }
   },
   "outputs": [],
   "source": [
    "vfpg = vfpath.groupby(['Nr', 'distance']).size().reset_index().rename(columns={0:'count'})\n",
    "vfpg = vfpg.rename(columns = {'distance': 'dvfpath'})\n",
    "vfpg = vfpg.drop(['count'], axis = 1)"
   ]
  },
  {
   "cell_type": "code",
   "execution_count": 429,
   "id": "6f7a39b1-886f-49cd-b6ba-771707ec37db",
   "metadata": {
    "execution": {
     "iopub.execute_input": "2024-04-25T04:06:39.801203Z",
     "iopub.status.busy": "2024-04-25T04:06:39.800852Z",
     "iopub.status.idle": "2024-04-25T04:06:39.810478Z",
     "shell.execute_reply": "2024-04-25T04:06:39.809634Z",
     "shell.execute_reply.started": "2024-04-25T04:06:39.801183Z"
    }
   },
   "outputs": [
    {
     "data": {
      "text/html": [
       "<div>\n",
       "<style scoped>\n",
       "    .dataframe tbody tr th:only-of-type {\n",
       "        vertical-align: middle;\n",
       "    }\n",
       "\n",
       "    .dataframe tbody tr th {\n",
       "        vertical-align: top;\n",
       "    }\n",
       "\n",
       "    .dataframe thead th {\n",
       "        text-align: right;\n",
       "    }\n",
       "</style>\n",
       "<table border=\"1\" class=\"dataframe\">\n",
       "  <thead>\n",
       "    <tr style=\"text-align: right;\">\n",
       "      <th></th>\n",
       "      <th>Nr</th>\n",
       "      <th>dvfpath</th>\n",
       "    </tr>\n",
       "  </thead>\n",
       "  <tbody>\n",
       "    <tr>\n",
       "      <th>0</th>\n",
       "      <td>99900044963840</td>\n",
       "      <td>9.410807</td>\n",
       "    </tr>\n",
       "    <tr>\n",
       "      <th>1</th>\n",
       "      <td>99900045510756</td>\n",
       "      <td>0.420799</td>\n",
       "    </tr>\n",
       "    <tr>\n",
       "      <th>2</th>\n",
       "      <td>99900045511204</td>\n",
       "      <td>0.437524</td>\n",
       "    </tr>\n",
       "    <tr>\n",
       "      <th>3</th>\n",
       "      <td>99900045553013</td>\n",
       "      <td>6.802020</td>\n",
       "    </tr>\n",
       "    <tr>\n",
       "      <th>4</th>\n",
       "      <td>99900045612893</td>\n",
       "      <td>7.188158</td>\n",
       "    </tr>\n",
       "    <tr>\n",
       "      <th>...</th>\n",
       "      <td>...</td>\n",
       "      <td>...</td>\n",
       "    </tr>\n",
       "    <tr>\n",
       "      <th>345</th>\n",
       "      <td>99900063695545</td>\n",
       "      <td>5.926033</td>\n",
       "    </tr>\n",
       "    <tr>\n",
       "      <th>346</th>\n",
       "      <td>99900063698497</td>\n",
       "      <td>0.909111</td>\n",
       "    </tr>\n",
       "    <tr>\n",
       "      <th>347</th>\n",
       "      <td>99900063992212</td>\n",
       "      <td>4.419567</td>\n",
       "    </tr>\n",
       "    <tr>\n",
       "      <th>348</th>\n",
       "      <td>99900064009149</td>\n",
       "      <td>2.945314</td>\n",
       "    </tr>\n",
       "    <tr>\n",
       "      <th>349</th>\n",
       "      <td>99900064009230</td>\n",
       "      <td>1.351110</td>\n",
       "    </tr>\n",
       "  </tbody>\n",
       "</table>\n",
       "<p>350 rows × 2 columns</p>\n",
       "</div>"
      ],
      "text/plain": [
       "                 Nr   dvfpath\n",
       "0    99900044963840  9.410807\n",
       "1    99900045510756  0.420799\n",
       "2    99900045511204  0.437524\n",
       "3    99900045553013  6.802020\n",
       "4    99900045612893  7.188158\n",
       "..              ...       ...\n",
       "345  99900063695545  5.926033\n",
       "346  99900063698497  0.909111\n",
       "347  99900063992212  4.419567\n",
       "348  99900064009149  2.945314\n",
       "349  99900064009230  1.351110\n",
       "\n",
       "[350 rows x 2 columns]"
      ]
     },
     "execution_count": 429,
     "metadata": {},
     "output_type": "execute_result"
    }
   ],
   "source": [
    "vfpg"
   ]
  },
  {
   "cell_type": "code",
   "execution_count": 430,
   "id": "aa0bd59e-f102-4ec2-b7eb-d7442de981d7",
   "metadata": {
    "execution": {
     "iopub.execute_input": "2024-04-25T04:06:40.148411Z",
     "iopub.status.busy": "2024-04-25T04:06:40.148041Z",
     "iopub.status.idle": "2024-04-25T04:06:40.155201Z",
     "shell.execute_reply": "2024-04-25T04:06:40.154501Z",
     "shell.execute_reply.started": "2024-04-25T04:06:40.148390Z"
    }
   },
   "outputs": [],
   "source": [
    "ttv = ttv.merge(vfpg, on = ['Nr'])"
   ]
  },
  {
   "cell_type": "code",
   "execution_count": 431,
   "id": "2c68b37b-2cb6-4e2d-9e12-064d4bcdb099",
   "metadata": {
    "execution": {
     "iopub.execute_input": "2024-04-25T04:06:45.812624Z",
     "iopub.status.busy": "2024-04-25T04:06:45.812276Z",
     "iopub.status.idle": "2024-04-25T04:06:45.830157Z",
     "shell.execute_reply": "2024-04-25T04:06:45.827356Z",
     "shell.execute_reply.started": "2024-04-25T04:06:45.812604Z"
    }
   },
   "outputs": [],
   "source": [
    "ttv.to_csv('/home/yelhe/data/Traffic_network_variables/ttvariables_sum_final.csv', index = False)"
   ]
  },
  {
   "cell_type": "code",
   "execution_count": 432,
   "id": "77d49064-4845-406d-8dde-0c3944e78d01",
   "metadata": {
    "execution": {
     "iopub.execute_input": "2024-04-27T13:01:58.704972Z",
     "iopub.status.busy": "2024-04-27T13:01:58.704681Z",
     "iopub.status.idle": "2024-04-27T13:01:58.711697Z",
     "shell.execute_reply": "2024-04-27T13:01:58.711064Z",
     "shell.execute_reply.started": "2024-04-27T13:01:58.704953Z"
    }
   },
   "outputs": [
    {
     "data": {
      "text/plain": [
       "Index(['Nr', 'dbusl', 'dtraml', 'dtrainl', 'dplight', 'dstation', 'dparkcar',\n",
       "       'dparktw', 'dpedcro', 'dstopsign', 'dcurb', 'curbtype', 'dgvm',\n",
       "       'gvm_dwv', 'gvm_msp', 'gvm_asp', 'z_stznr', 'z_qnr', 'z_knr',\n",
       "       'trafficarea', 'dtrafficarea', 'r_width', 'r_surface', 'droad',\n",
       "       'speedlimit', 'droad_sl', 'd_bicyclecount', 'bicyclecount',\n",
       "       'd_carcount', 'carcount', 'dvfpath'],\n",
       "      dtype='object')"
      ]
     },
     "execution_count": 432,
     "metadata": {},
     "output_type": "execute_result"
    }
   ],
   "source": [
    "ttv.columns"
   ]
  },
  {
   "cell_type": "code",
   "execution_count": 435,
   "id": "840875a2-93bc-40a4-86b5-08492ddc712c",
   "metadata": {
    "execution": {
     "iopub.execute_input": "2024-04-27T13:03:15.476577Z",
     "iopub.status.busy": "2024-04-27T13:03:15.476300Z",
     "iopub.status.idle": "2024-04-27T13:03:15.481029Z",
     "shell.execute_reply": "2024-04-27T13:03:15.480215Z",
     "shell.execute_reply.started": "2024-04-27T13:03:15.476559Z"
    }
   },
   "outputs": [
    {
     "data": {
      "text/plain": [
       "33"
      ]
     },
     "execution_count": 435,
     "metadata": {},
     "output_type": "execute_result"
    }
   ],
   "source": [
    "# ttv['speedlimit'].unique()\n",
    "len(ttv['z_qnr'].unique())"
   ]
  },
  {
   "cell_type": "code",
   "execution_count": 434,
   "id": "73485bb0-0a8a-44b2-be30-2508383fa97d",
   "metadata": {
    "execution": {
     "iopub.execute_input": "2024-04-27T13:02:37.976053Z",
     "iopub.status.busy": "2024-04-27T13:02:37.975762Z",
     "iopub.status.idle": "2024-04-27T13:02:37.981872Z",
     "shell.execute_reply": "2024-04-27T13:02:37.981030Z",
     "shell.execute_reply.started": "2024-04-27T13:02:37.976035Z"
    }
   },
   "outputs": [
    {
     "data": {
      "text/plain": [
       "array([30.,  0., 60., 50., 80., 20.])"
      ]
     },
     "execution_count": 434,
     "metadata": {},
     "output_type": "execute_result"
    }
   ],
   "source": [
    "ttv['speedlimit'].unique()"
   ]
  }
 ],
 "metadata": {
  "kernelspec": {
   "display_name": "Python 3 (ipykernel)",
   "language": "python",
   "name": "python3"
  },
  "language_info": {
   "codemirror_mode": {
    "name": "ipython",
    "version": 3
   },
   "file_extension": ".py",
   "mimetype": "text/x-python",
   "name": "python",
   "nbconvert_exporter": "python",
   "pygments_lexer": "ipython3",
   "version": "3.11.5"
  }
 },
 "nbformat": 4,
 "nbformat_minor": 5
}
