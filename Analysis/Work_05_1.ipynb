{
 "cells": [
  {
   "cell_type": "code",
   "execution_count": 1,
   "id": "28821f6f-9fb3-4da1-afa5-36650ca16c9e",
   "metadata": {
    "execution": {
     "iopub.execute_input": "2024-01-21T17:34:24.788961Z",
     "iopub.status.busy": "2024-01-21T17:34:24.788643Z",
     "iopub.status.idle": "2024-01-21T17:34:31.327495Z",
     "shell.execute_reply": "2024-01-21T17:34:31.326943Z",
     "shell.execute_reply.started": "2024-01-21T17:34:24.788939Z"
    }
   },
   "outputs": [],
   "source": [
    "import torch\n",
    "torch.cuda.empty_cache() "
   ]
  },
  {
   "cell_type": "code",
   "execution_count": 2,
   "id": "8bbfa0cc-dd2e-49b4-947b-143a26e935a4",
   "metadata": {
    "execution": {
     "iopub.execute_input": "2024-01-21T17:34:31.328783Z",
     "iopub.status.busy": "2024-01-21T17:34:31.328532Z",
     "iopub.status.idle": "2024-01-21T17:34:32.163567Z",
     "shell.execute_reply": "2024-01-21T17:34:32.162983Z",
     "shell.execute_reply.started": "2024-01-21T17:34:31.328766Z"
    }
   },
   "outputs": [
    {
     "name": "stdout",
     "output_type": "stream",
     "text": [
      "PyTorch version: 2.0.1+cu117\n",
      "Torchvision version: 0.15.2+cu117\n",
      "CUDA is available: True\n"
     ]
    }
   ],
   "source": [
    "import torchvision\n",
    "print(\"PyTorch version:\", torch.__version__)\n",
    "print(\"Torchvision version:\", torchvision.__version__)\n",
    "print(\"CUDA is available:\", torch.cuda.is_available())"
   ]
  },
  {
   "cell_type": "code",
   "execution_count": 3,
   "id": "b53cf3d1-e97c-4bca-ba16-26b61b9483a7",
   "metadata": {
    "execution": {
     "iopub.execute_input": "2024-01-21T17:34:32.164565Z",
     "iopub.status.busy": "2024-01-21T17:34:32.164367Z",
     "iopub.status.idle": "2024-01-21T17:34:33.296908Z",
     "shell.execute_reply": "2024-01-21T17:34:33.296379Z",
     "shell.execute_reply.started": "2024-01-21T17:34:32.164548Z"
    }
   },
   "outputs": [
    {
     "data": {
      "text/plain": [
       "'/home/yelhe/script/mt'"
      ]
     },
     "execution_count": 3,
     "metadata": {},
     "output_type": "execute_result"
    }
   ],
   "source": [
    "import os \n",
    "os.environ['MPLCONFIGDIR'] = os.getcwd() + \"/configs/\"\n",
    "os.environ[\"PYTORCH_CUDA_ALLOC_CONF\"] = \"max_split_size_mb:100000\"\n",
    "import matplotlib\n",
    "from matplotlib import pyplot as plt\n",
    "import numpy as np\n",
    "import cv2\n",
    "os.getcwd()"
   ]
  },
  {
   "cell_type": "code",
   "execution_count": 4,
   "id": "71aa3c3f-c74f-4cc6-b208-3ba3db114c3b",
   "metadata": {
    "execution": {
     "iopub.execute_input": "2024-01-21T17:34:33.298766Z",
     "iopub.status.busy": "2024-01-21T17:34:33.298281Z",
     "iopub.status.idle": "2024-01-21T17:34:33.443412Z",
     "shell.execute_reply": "2024-01-21T17:34:33.442800Z",
     "shell.execute_reply.started": "2024-01-21T17:34:33.298738Z"
    }
   },
   "outputs": [],
   "source": [
    "import glob\n",
    "import shapely\n",
    "from shapely.geometry import Polygon\n",
    "import shapely.plotting"
   ]
  },
  {
   "cell_type": "code",
   "execution_count": 5,
   "id": "85036162-3734-410f-9a5c-136e1eb697a6",
   "metadata": {
    "execution": {
     "iopub.execute_input": "2024-01-21T17:34:33.444761Z",
     "iopub.status.busy": "2024-01-21T17:34:33.444265Z",
     "iopub.status.idle": "2024-01-21T17:34:35.326019Z",
     "shell.execute_reply": "2024-01-21T17:34:35.325532Z",
     "shell.execute_reply.started": "2024-01-21T17:34:33.444738Z"
    }
   },
   "outputs": [],
   "source": [
    "import pandas as pd\n",
    "from PIL import Image as ima\n",
    "import warnings\n",
    "from pathlib import Path\n",
    "import random"
   ]
  },
  {
   "cell_type": "code",
   "execution_count": 6,
   "id": "9a982453-ae3c-4f0d-bb5a-679e7c43f2e9",
   "metadata": {
    "execution": {
     "iopub.execute_input": "2024-01-21T17:34:35.327072Z",
     "iopub.status.busy": "2024-01-21T17:34:35.326737Z",
     "iopub.status.idle": "2024-01-21T17:34:35.338602Z",
     "shell.execute_reply": "2024-01-21T17:34:35.338072Z",
     "shell.execute_reply.started": "2024-01-21T17:34:35.327054Z"
    }
   },
   "outputs": [],
   "source": [
    "def show_anns(anns):\n",
    "    if len(anns) == 0:\n",
    "        return\n",
    "    sorted_anns = sorted(anns, key=(lambda x: x['area']), reverse=True)\n",
    "    ax = plt.gca()\n",
    "    ax.set_autoscale_on(False)\n",
    "\n",
    "    img = np.ones((sorted_anns[0]['segmentation'].shape[0], sorted_anns[0]['segmentation'].shape[1], 4))\n",
    "    img[:,:,3] = 0\n",
    "    for ann in sorted_anns:\n",
    "        m = ann['segmentation']\n",
    "        color_mask = np.concatenate([np.random.random(3), [0.35]])\n",
    "        img[m] = color_mask\n",
    "    ax.imshow(img)\n",
    "\n",
    "def show_mask(mask, ax, random_color=False):\n",
    "    if random_color:\n",
    "        color = np.concatenate([np.random.random(3), np.array([0.6])], axis=0)\n",
    "    else:\n",
    "        color = np.array([30/255, 144/255, 255/255, 0.6])\n",
    "    h, w = mask.shape[-2:]\n",
    "    mask_image = mask.reshape(h, w, 1) * color.reshape(1, 1, -1)\n",
    "    ax.imshow(mask_image)\n",
    "    \n",
    "def show_points(coords, labels, ax, marker_size=375):\n",
    "    pos_points = coords[labels==1]\n",
    "    neg_points = coords[labels==0]\n",
    "    ax.scatter(pos_points[:, 0], pos_points[:, 1], color='green', marker='*', s=marker_size, edgecolor='white', linewidth=1.25)\n",
    "    ax.scatter(neg_points[:, 0], neg_points[:, 1], color='red', marker='*', s=marker_size, edgecolor='white', linewidth=1.25)   \n",
    "    \n",
    "def show_box(box, ax):\n",
    "    x0, y0 = box[0], box[1]\n",
    "    w, h = box[2] - box[0], box[3] - box[1]\n",
    "    ax.add_patch(plt.Rectangle((x0, y0), w, h, edgecolor='green', facecolor=(0,0,0,0), lw=2))\n",
    "\n",
    "# Add function def show_anns (borrowed from one of the Jupyter notebooks).\n",
    "def show_anns(anns):\n",
    "    if len(anns) == 0:\n",
    "        return\n",
    "    sorted_anns = sorted(anns, key=(lambda x: x['area']), reverse=True)\n",
    "    ax = plt.gca()\n",
    "    ax.set_autoscale_on(False)\n",
    "    # polygons = []\n",
    "    # color = []\n",
    "    img = np.ones((sorted_anns[0]['segmentation'].shape[0], sorted_anns[0]['segmentation'].shape[1], 4))\n",
    "    img[:,:,3] = 0\n",
    "    for ann in sorted_anns:\n",
    "        m = ann['segmentation']\n",
    "        color_mask = np.concatenate([np.random.random(3), [0.35]])\n",
    "        img[m] = color_mask\n",
    "    ax.imshow(img)\n",
    "    # for ann in sorted_anns:\n",
    "    #     m = ann['segmentation']\n",
    "    #     img = np.ones((m.shape[0], m.shape[1], 3))\n",
    "    #     color_mask = np.random.random((1, 3)).tolist()[0]\n",
    "    #     for i in range(3):\n",
    "    #         img[:,:,i] = color_mask[i]\n",
    "    #     ax.imshow(np.dstack((img, m*0.35)))"
   ]
  },
  {
   "cell_type": "code",
   "execution_count": 90,
   "id": "dfc03472-0685-4988-aac0-cea963e321b3",
   "metadata": {
    "execution": {
     "iopub.execute_input": "2024-01-19T14:20:51.817686Z",
     "iopub.status.busy": "2024-01-19T14:20:51.817351Z",
     "iopub.status.idle": "2024-01-19T14:21:03.718429Z",
     "shell.execute_reply": "2024-01-19T14:21:03.717356Z",
     "shell.execute_reply.started": "2024-01-19T14:20:51.817667Z"
    }
   },
   "outputs": [],
   "source": [
    "# from segment_anything import SamAutomaticMaskGenerator, sam_model_registry\n",
    "# sam = sam_model_registry[\"vit_h\"](checkpoint=\"/home/yelhe/data/sam/sam_vit_h_4b8939.pth\")\n",
    "# mask_generator = SamAutomaticMaskGenerator(sam)\n"
   ]
  },
  {
   "cell_type": "markdown",
   "id": "68d8871e-007c-4c97-884c-3630f0711e45",
   "metadata": {},
   "source": [
    "### Data preparation"
   ]
  },
  {
   "cell_type": "code",
   "execution_count": 7,
   "id": "25889c55-fda2-48c8-a7ff-783e93ca0226",
   "metadata": {
    "execution": {
     "iopub.execute_input": "2024-01-21T17:34:37.421544Z",
     "iopub.status.busy": "2024-01-21T17:34:37.421259Z",
     "iopub.status.idle": "2024-01-21T17:34:37.434404Z",
     "shell.execute_reply": "2024-01-21T17:34:37.433792Z",
     "shell.execute_reply.started": "2024-01-21T17:34:37.421526Z"
    }
   },
   "outputs": [],
   "source": [
    "koord  = pd.read_csv('/home/yelhe/script/mt/output/koord.csv')"
   ]
  },
  {
   "cell_type": "code",
   "execution_count": 8,
   "id": "973cb8c2-430d-42aa-9913-d948fc4567cf",
   "metadata": {
    "execution": {
     "iopub.execute_input": "2024-01-21T17:34:37.948964Z",
     "iopub.status.busy": "2024-01-21T17:34:37.948683Z",
     "iopub.status.idle": "2024-01-21T17:34:37.953900Z",
     "shell.execute_reply": "2024-01-21T17:34:37.953294Z",
     "shell.execute_reply.started": "2024-01-21T17:34:37.948945Z"
    }
   },
   "outputs": [],
   "source": [
    "# koord.head()\n",
    "name1 = koord.Nr.astype(str) + '1.jpg'\n",
    "name2 = koord.Nr.astype(str) + '2.jpg'\n",
    "name3 = koord.Nr.astype(str) + '3.jpg'\n",
    "name4 = koord.Nr.astype(str) + '4.jpg'"
   ]
  },
  {
   "cell_type": "code",
   "execution_count": 9,
   "id": "d444f971-1d7b-4448-af66-afdc792c7390",
   "metadata": {
    "execution": {
     "iopub.execute_input": "2024-01-21T17:34:49.474031Z",
     "iopub.status.busy": "2024-01-21T17:34:49.473740Z",
     "iopub.status.idle": "2024-01-21T17:35:00.643093Z",
     "shell.execute_reply": "2024-01-21T17:35:00.642077Z",
     "shell.execute_reply.started": "2024-01-21T17:34:49.474013Z"
    }
   },
   "outputs": [],
   "source": [
    "gsv_image1 = []\n",
    "gsv_image2 = []\n",
    "gsv_image3 = []\n",
    "gsv_image4 = []\n",
    "\n",
    "nf1 = []\n",
    "nf2 = []\n",
    "nf3 = []\n",
    "nf4 = []\n",
    "for i in range(0,349):\n",
    "    path1 = Path('/home/yelhe/data/gsv/GSV_filtered/' + name1[i])\n",
    "    c1 = path1.is_file()\n",
    "    path2 = Path('/home/yelhe/data/gsv/GSV_filtered/' + name2[i])\n",
    "    c2 = path2.is_file()\n",
    "    path3 = Path('/home/yelhe/data/gsv/GSV_filtered/' + name3[i])\n",
    "    c3 = path3.is_file()\n",
    "    path4 = Path('/home/yelhe/data/gsv/GSV_filtered/' + name4[i])\n",
    "    c4 = path4.is_file()\n",
    "    if c1 is True:\n",
    "        im1 = cv2.imread(\"/home/yelhe/data/gsv/GSV_filtered/\" + name1[i])\n",
    "        im1 = cv2.cvtColor(im1, cv2.COLOR_BGR2RGB)\n",
    "        gsv_image1.append(im1)\n",
    "        nf1.append(name1[i])\n",
    "    if c2 is True:\n",
    "        im2 = cv2.imread(\"/home/yelhe/data/gsv/GSV_filtered/\" + name2[i])\n",
    "        im2 = cv2.cvtColor(im2, cv2.COLOR_BGR2RGB)\n",
    "        gsv_image2.append(im2)\n",
    "        nf2.append(name2[i])\n",
    "    if c3 is True:\n",
    "        im3 = cv2.imread(\"/home/yelhe/data/gsv/GSV_filtered/\" + name3[i])\n",
    "        im3 = cv2.cvtColor(im3, cv2.COLOR_BGR2RGB)\n",
    "        gsv_image3.append(im3)\n",
    "        nf3.append(name3[i])\n",
    "    if c4 is True:\n",
    "        im4 = cv2.imread(\"/home/yelhe/data/gsv/GSV_filtered/\" + name4[i])\n",
    "        im4 = cv2.cvtColor(im4, cv2.COLOR_BGR2RGB)\n",
    "        gsv_image4.append(im4)\n",
    "        nf4.append(name4[i])"
   ]
  },
  {
   "cell_type": "code",
   "execution_count": 10,
   "id": "1ad802e3-789d-4da1-ac23-efe50521b661",
   "metadata": {
    "execution": {
     "iopub.execute_input": "2024-01-21T17:35:00.644815Z",
     "iopub.status.busy": "2024-01-21T17:35:00.644607Z",
     "iopub.status.idle": "2024-01-21T17:35:00.649120Z",
     "shell.execute_reply": "2024-01-21T17:35:00.648422Z",
     "shell.execute_reply.started": "2024-01-21T17:35:00.644797Z"
    }
   },
   "outputs": [
    {
     "name": "stdout",
     "output_type": "stream",
     "text": [
      "295 295 295 295\n"
     ]
    }
   ],
   "source": [
    "print(len(gsv_image1),len(gsv_image2),len(gsv_image3),len(gsv_image4))"
   ]
  },
  {
   "cell_type": "code",
   "execution_count": 11,
   "id": "fc9e91cf-e536-4f6f-8fa0-27fbdf520ce1",
   "metadata": {
    "execution": {
     "iopub.execute_input": "2024-01-21T17:35:00.651100Z",
     "iopub.status.busy": "2024-01-21T17:35:00.650860Z",
     "iopub.status.idle": "2024-01-21T17:35:00.657431Z",
     "shell.execute_reply": "2024-01-21T17:35:00.656970Z",
     "shell.execute_reply.started": "2024-01-21T17:35:00.651081Z"
    }
   },
   "outputs": [],
   "source": [
    "n1 = [s.replace('.jpg', '') for s in nf1]\n",
    "n2 = [s.replace('.jpg', '') for s in nf2]\n",
    "n3 = [s.replace('.jpg', '') for s in nf3]\n",
    "n4 = [s.replace('.jpg', '') for s in nf4]"
   ]
  },
  {
   "cell_type": "markdown",
   "id": "eab35f89-626c-4c33-9b95-cc94508eca09",
   "metadata": {},
   "source": [
    "### Functions preparation"
   ]
  },
  {
   "cell_type": "code",
   "execution_count": 12,
   "id": "ff5e0fb5-7126-4d29-a633-d7497e6f1313",
   "metadata": {
    "execution": {
     "iopub.execute_input": "2024-01-21T17:35:00.658993Z",
     "iopub.status.busy": "2024-01-21T17:35:00.658814Z",
     "iopub.status.idle": "2024-01-21T17:35:00.665369Z",
     "shell.execute_reply": "2024-01-21T17:35:00.664919Z",
     "shell.execute_reply.started": "2024-01-21T17:35:00.658973Z"
    }
   },
   "outputs": [],
   "source": [
    "def convert_mask(masks):\n",
    "    mb01 = []\n",
    "    mb02 = []\n",
    "    mb = []\n",
    "    n = len(masks)\n",
    "    for i in range(0, n):\n",
    "        mb01.append(masks[i]['segmentation'])\n",
    "    for i in range(0, n):\n",
    "        mb02.append(mb01[i]*1)\n",
    "    for i in range(0, n):\n",
    "        mb.append(mb02[i].astype('uint8'))\n",
    "    return mb"
   ]
  },
  {
   "cell_type": "code",
   "execution_count": 13,
   "id": "46e8711b-5b79-46d7-b670-1b047ea746fd",
   "metadata": {
    "execution": {
     "iopub.execute_input": "2024-01-21T17:35:00.666532Z",
     "iopub.status.busy": "2024-01-21T17:35:00.666142Z",
     "iopub.status.idle": "2024-01-21T17:35:00.672850Z",
     "shell.execute_reply": "2024-01-21T17:35:00.672321Z",
     "shell.execute_reply.started": "2024-01-21T17:35:00.666511Z"
    }
   },
   "outputs": [],
   "source": [
    "def output_mask(im):\n",
    "    im1 = cv2.cvtColor(im, cv2.COLOR_BGR2RGB)\n",
    "    mask_r = mask_generator.generate(im1)\n",
    "    mask_c = convert_mask(mask_r)\n",
    "    return mask_c"
   ]
  },
  {
   "cell_type": "code",
   "execution_count": 14,
   "id": "960b5c85-49dd-4a05-a573-03e2d8784445",
   "metadata": {
    "execution": {
     "iopub.execute_input": "2024-01-21T17:35:00.673625Z",
     "iopub.status.busy": "2024-01-21T17:35:00.673432Z",
     "iopub.status.idle": "2024-01-21T17:35:00.680599Z",
     "shell.execute_reply": "2024-01-21T17:35:00.680075Z",
     "shell.execute_reply.started": "2024-01-21T17:35:00.673610Z"
    }
   },
   "outputs": [],
   "source": [
    "# Updated Function\n",
    "# Function to find and plot filtered contours (find-filter-plot-contour)\n",
    "# Run for each mask of each image\n",
    "def ffpcontour_noplot(image, mask, i):\n",
    "    assert image is not None, \"image file could not be read, check with os.path.exists()\"\n",
    "    assert mask is not None, \"mask file could not be read, check with os.path.exists()\"\n",
    "    # imgray = cv2.cvtColor(image_masked, cv2.COLOR_BGR2GRAY)\n",
    "    # ret, thresh = cv2.threshold(imgray, 127, 255, 0)\n",
    "    ret, thresh = cv2.threshold((mask[i]*255), 127, 255, 0)\n",
    "    contours, hierarchy = cv2.findContours(thresh, cv2.RETR_TREE, cv2.CHAIN_APPROX_SIMPLE)\n",
    "    ll = [] # length list\n",
    "    for i in range(0, len(contours)):\n",
    "          ll.append(len(contours[i]))\n",
    "    maxl = max(ll)\n",
    "    maxindex = ll.index(maxl)\n",
    "    if (len(contours) == 1) and (maxl >= 6):\n",
    "        contour_f = contours\n",
    "    elif (maxl>=80) :\n",
    "        contour_f = []\n",
    "        for i in range(0, len(contours)):\n",
    "        # print(i, \"len\", len(contours[i]))\n",
    "            if (len(contours[i]) >= 80):\n",
    "                contour_f.append(contours[i])\n",
    "            else:\n",
    "                contour_f = contour_f\n",
    "    elif (maxl >= 6):\n",
    "        contour_f = []\n",
    "        contour_f.append(contours[maxindex])\n",
    "    else: \n",
    "        contour_f = []\n",
    "    # print(\"filtered\", \"len\", len(contour_f), contour_f) \n",
    "    # print(\"raw\",len(contours))\n",
    "    # print(\"filtered\", len(contour_f))\n",
    "    return contour_f"
   ]
  },
  {
   "cell_type": "code",
   "execution_count": 15,
   "id": "3c6810e7-adb6-4296-8e42-a10cc16fb6b7",
   "metadata": {
    "execution": {
     "iopub.execute_input": "2024-01-21T17:35:00.681532Z",
     "iopub.status.busy": "2024-01-21T17:35:00.681339Z",
     "iopub.status.idle": "2024-01-21T17:35:00.690475Z",
     "shell.execute_reply": "2024-01-21T17:35:00.689928Z",
     "shell.execute_reply.started": "2024-01-21T17:35:00.681514Z"
    }
   },
   "outputs": [],
   "source": [
    "# Contour geometric attributes result\n",
    "# For each contour\n",
    "def cgr(contour):\n",
    "    assert contour is not None, \"image file could not be read, check with os.path.exists()\"\n",
    "    c = contour\n",
    "    isconvex = cv2.isContourConvex(c) # Checking convexity\n",
    "    (x,y), (w,h), ar = cv2.minAreaRect(c) # Rotated rectangle with minimum area\n",
    "    M = cv2.moments(c) # Moments\n",
    "    area = cv2.contourArea(c) # Area \n",
    "    if (M['m00'] != 0):\n",
    "        cx = int(M['m10']/M['m00']) # Centroid\n",
    "        cy = int(M['m01']/M['m00'])\n",
    "    else:\n",
    "        cx = x\n",
    "        cy = y\n",
    "    xs,ys,ws,hs = cv2.boundingRect(c) # Straight bounding rectangle\n",
    "    aspect_ratio_wh_s = float(ws)/hs # Aspect ratio\n",
    "    extent_s = float(area)/(ws*hs) # Extent\n",
    "    hull = cv2.convexHull(c) # Solidity\n",
    "    hull_area = cv2.contourArea(hull)\n",
    "    if (hull_area != 0):\n",
    "        solidity = float(area)/hull_area\n",
    "    else:\n",
    "        solidity = 0\n",
    "    aspect_ratio_wh = float(w)/h  # Aspect ratio\n",
    "    extent = float(area)/(w*h) # Extent\n",
    "    (xe,ye),(MA,ma),ae = cv2.fitEllipse(c)\n",
    "    ed = np.sqrt(4*area/np.pi) # Equivalent Diameter\n",
    "    ratio_ell = float(ma)/MA\n",
    "    perimeter = cv2.arcLength(c, True) # Arclength\n",
    "    p_centroid = np.array([float(cx), float(cy)])\n",
    "    p_masscenter = np.array([float(x), float(y)])\n",
    "    is_cen_inside = cv2.pointPolygonTest(c, p_centroid, False) # Checking if centroid is inside\n",
    "    is_mce_inside = cv2.pointPolygonTest(c, p_masscenter, False) # Checking if mass center is inside    \n",
    "    return {\n",
    "        'isconvex': isconvex,\n",
    "        'area': area,\n",
    "        'aspect_ratio_wh_s': aspect_ratio_wh_s,\n",
    "        'extent_s': extent_s,\n",
    "        'solidity': solidity,\n",
    "        'aspect_ratio_wh': aspect_ratio_wh,\n",
    "        'extent': extent,\n",
    "        'ed': ed,\n",
    "        'ratio_ell': ratio_ell,\n",
    "        'perimeter': perimeter,\n",
    "        'is_cen_inside': is_cen_inside,\n",
    "        'is_mce_inside': is_mce_inside\n",
    "    }\n",
    "          "
   ]
  },
  {
   "cell_type": "code",
   "execution_count": 16,
   "id": "b1d3d798-c832-41a5-828d-1976fc0d0f38",
   "metadata": {
    "execution": {
     "iopub.execute_input": "2024-01-21T17:35:00.691502Z",
     "iopub.status.busy": "2024-01-21T17:35:00.691252Z",
     "iopub.status.idle": "2024-01-21T17:35:00.699097Z",
     "shell.execute_reply": "2024-01-21T17:35:00.698554Z",
     "shell.execute_reply.started": "2024-01-21T17:35:00.691484Z"
    }
   },
   "outputs": [],
   "source": [
    "def csga(contours):\n",
    "    assert contours is not None, \"image file could not be read, check with os.path.exists()\"\n",
    "    if len(contours) == 1:\n",
    "        ga = cgr(contours[0])\n",
    "    else:\n",
    "        gal = []\n",
    "        for i in range(0, (len(contours)-1)):\n",
    "            gal.append(cgr(contours[i]))\n",
    "        isc = []\n",
    "        al = []\n",
    "        asps = []\n",
    "        exts = []\n",
    "        sol = []\n",
    "        asp = []\n",
    "        ext = []\n",
    "        ed = []\n",
    "        rate = []\n",
    "        per = []\n",
    "        isc = []\n",
    "        ism = []\n",
    "        for i in range(0, len(gal)):\n",
    "            isc.append(gal[0]['isconvex'])\n",
    "            al.append(gal[0]['area'])\n",
    "            asps.append(gal[0]['aspect_ratio_wh_s'])\n",
    "            exts.append(gal[0]['extent_s'])\n",
    "            sol.append(gal[0]['solidity'])\n",
    "            asp.append(gal[0]['aspect_ratio_wh'])\n",
    "            ext.append(gal[0]['extent'])\n",
    "            ed.append(gal[0]['ed'])\n",
    "            rate.append(gal[0]['ratio_ell'])\n",
    "            per.append(gal[0]['perimeter'])\n",
    "            isc.append(gal[0]['is_cen_inside'])\n",
    "            ism.append(gal[0]['is_mce_inside'])\n",
    "        isconvex = np.all(isc)\n",
    "        area = np.mean(al, axis = 0)\n",
    "        aspect_ratio_wh_s = np.mean(asps, axis = 0)\n",
    "        extent_s = np.mean(exts, axis = 0)\n",
    "        solidity = np.mean(sol, axis = 0)\n",
    "        aspect_ratio_wh = np.mean(asp, axis = 0)\n",
    "        extent = np.mean(ext, axis = 0)\n",
    "        ed = np.mean(ed, axis = 0)\n",
    "        ratio_ell = np.mean(rate, axis = 0)\n",
    "        perimeter = np.mean(per, axis = 0)\n",
    "        is_cen_inside = np.mean(isc, axis = 0)\n",
    "        is_mce_inside = np.mean(ism, axis = 0)\n",
    "        ga = {\n",
    "            'isconvex': isconvex,\n",
    "            'area': area,\n",
    "            'aspect_ratio_wh_s': aspect_ratio_wh_s,\n",
    "            'extent_s': extent_s,\n",
    "            'solidity': solidity,\n",
    "            'aspect_ratio_wh': aspect_ratio_wh,\n",
    "            'extent': extent,\n",
    "            'ed': ed,\n",
    "            'ratio_ell': ratio_ell,\n",
    "            'perimeter': perimeter,\n",
    "            'is_cen_inside': is_cen_inside,\n",
    "            'is_mce_inside': is_mce_inside\n",
    "        }\n",
    "    return ga\n"
   ]
  },
  {
   "cell_type": "code",
   "execution_count": 17,
   "id": "016c88ac-7b2d-42a9-bdca-8c294fa18197",
   "metadata": {
    "execution": {
     "iopub.execute_input": "2024-01-21T17:35:00.700118Z",
     "iopub.status.busy": "2024-01-21T17:35:00.699869Z",
     "iopub.status.idle": "2024-01-21T17:35:00.714125Z",
     "shell.execute_reply": "2024-01-21T17:35:00.713619Z",
     "shell.execute_reply.started": "2024-01-21T17:35:00.700099Z"
    }
   },
   "outputs": [],
   "source": [
    "# Updated - Remove the empty contour\n",
    "# mask file mf\n",
    "def feature_summary(image, mf):\n",
    "    # Generate a data frame for masks and attributes\n",
    "    df = pd.DataFrame()\n",
    "    df['mask'] = range(1, (len(mf)+1))\n",
    "    df = df.assign(gmedian = None, rmedian = None, bmedian = None,\n",
    "                   gmean = None, rmean = None, bmean = None,\n",
    "                   gstd = None, rstd = None, bstd = None,\n",
    "                   isconvex = None, area = None, aspect_ratio_wh_s = None,\n",
    "                   extent_s = None, solidity = None, aspect_ratio_wh = None,\n",
    "                   extent = None, ed = None, ratio_ell = None,\n",
    "                   perimeter = None, is_cen_inside = None, is_mce_inside = None)\n",
    "    mm = [] # masked image\n",
    "    for i in range(0, len(mf)):\n",
    "        mm.append(cv2.bitwise_and(image, image, mask = mf[i]))\n",
    "    mib = []\n",
    "    mig = []\n",
    "    mir = []\n",
    "    for i in range(0, len(mm)):\n",
    "        mib.append((mm[i][:,:,0])[np.where((mm[i][:,:,0]) != 0)])\n",
    "        mig.append((mm[i][:,:,1])[np.where((mm[i][:,:,1]) != 0)])\n",
    "        mir.append((mm[i][:,:,2])[np.where((mm[i][:,:,2]) != 0)])\n",
    "    # with warnings.catch_warnings():\n",
    "    #     warnings.simplefilter(\"ignore\", category=RuntimeWarning)\n",
    "    #     foo = np.nanmean(x, axis=1)\n",
    "    for i in range(0, len(mm)):\n",
    "        df.at[i, 'bmean'] = np.mean(mib[i], axis = 0)\n",
    "        df.at[i,'gmean'] = np.mean(mig[i], axis = 0)\n",
    "        df.at[i,'rmean'] = np.mean(mir[i], axis = 0)\n",
    "        df.at[i,'bmedian'] = np.median(mib[i], axis = 0)\n",
    "        df.at[i,'gmedian'] = np.median(mig[i], axis = 0)\n",
    "        df.at[i,'rmedian'] = np.median(mir[i], axis = 0)\n",
    "        df.at[i,'bstd'] = np.std(mib[i], axis = 0)\n",
    "        df.at[i,'gstd'] = np.std(mig[i], axis = 0)\n",
    "        df.at[i,'rstd'] = np.std(mir[i], axis = 0)\n",
    "    for i in range(0, len(mf)):\n",
    "        con = ffpcontour_noplot(image, mf, i)\n",
    "        if len(con) != 0 :\n",
    "            df.at[i, 'isconvex'] = csga(con)['isconvex']\n",
    "            df.at[i, 'area'] = csga(con)['area']\n",
    "            df.at[i, 'aspect_ratio_wh_s'] = csga(con)['aspect_ratio_wh_s']\n",
    "            df.at[i, 'extent_s'] = csga(con)['extent_s']\n",
    "            df.at[i, 'solidity'] = csga(con)['solidity']\n",
    "            df.at[i, 'aspect_ratio_wh'] = csga(con)['aspect_ratio_wh']\n",
    "            df.at[i, 'extent'] = csga(con)['extent']\n",
    "            df.at[i, 'ed'] = csga(con)['ed']\n",
    "            df.at[i, 'ratio_ell'] = csga(con)['ratio_ell']\n",
    "            df.at[i, 'perimeter'] = csga(con)['perimeter']\n",
    "            df.at[i, 'is_cen_inside'] = csga(con)['is_cen_inside']\n",
    "            df.at[i, 'is_mce_inside'] = csga(con)['is_mce_inside']\n",
    "        else :\n",
    "            df.at[i, 'isconvex'] = np.nan\n",
    "            df.at[i, 'area'] = np.nan\n",
    "            df.at[i, 'aspect_ratio_wh_s'] = np.nan\n",
    "            df.at[i, 'extent_s'] = np.nan\n",
    "            df.at[i, 'solidity'] = np.nan\n",
    "            df.at[i, 'aspect_ratio_wh'] = np.nan\n",
    "            df.at[i, 'extent'] = np.nan\n",
    "            df.at[i, 'ed'] = np.nan\n",
    "            df.at[i, 'ratio_ell'] = np.nan\n",
    "            df.at[i, 'perimeter'] = np.nan\n",
    "            df.at[i, 'is_cen_inside'] = np.nan\n",
    "            df.at[i, 'is_mce_inside'] = np.nan\n",
    "    # Remove the rows with na\n",
    "    df = df.dropna()\n",
    "    return df"
   ]
  },
  {
   "cell_type": "code",
   "execution_count": 18,
   "id": "da008df9-c626-4f6f-9b40-6d909694ce4e",
   "metadata": {
    "execution": {
     "iopub.execute_input": "2024-01-21T17:35:00.716001Z",
     "iopub.status.busy": "2024-01-21T17:35:00.715770Z",
     "iopub.status.idle": "2024-01-21T17:35:00.722113Z",
     "shell.execute_reply": "2024-01-21T17:35:00.721568Z",
     "shell.execute_reply.started": "2024-01-21T17:35:00.715982Z"
    }
   },
   "outputs": [],
   "source": [
    "def filter_overlap(mask):\n",
    "    mb_new = mask\n",
    "    mb_new1 = mask\n",
    "    for i in range(0, (len(mb_new)-1)):\n",
    "        for j in range((i+1), len(mb_new)):\n",
    "            a = cv2.bitwise_and(mb_new[i], mb_new[j])\n",
    "            al = len(np.unique(a))\n",
    "            # print(i, j, \"len\", al)\n",
    "            if al != 1:\n",
    "                s1 = cv2.countNonZero(mb_new[i])\n",
    "                s2 = cv2.countNonZero(mb_new[j])\n",
    "                b = cv2.bitwise_or(mb_new[i], mb_new[j])\n",
    "                # print(i,j, \"have intersection\")\n",
    "                s3 = cv2.countNonZero(b)\n",
    "                if s1 >= s2 :\n",
    "                    # print(i,\">\", j)\n",
    "                    if s1 == s3:\n",
    "                        # print(j, \"subset of\", i)\n",
    "                        mb_new1[j] = 0\n",
    "                else:\n",
    "                    # print(i,\"<\", j)\n",
    "                    if s2 == s3:\n",
    "                        # print(i, \"subset of\", j)\n",
    "                        mb_new1[i] = 0\n",
    "    emptyl = []\n",
    "    for i in range(0, len(mb_new)):\n",
    "        if np.all(mb_new1[i] == 0):\n",
    "            emptyl.append(i)           \n",
    "    if len(emptyl) != 0 :\n",
    "        mb_new1 = np.delete(mb_new1, emptyl, 0)\n",
    "    else:\n",
    "        mb_new1 = mb_new1\n",
    "    # print(len(mask), len(mb_new1))\n",
    "    return mb_new1\n"
   ]
  },
  {
   "cell_type": "markdown",
   "id": "f0a5e164-24d3-4616-a426-555e3505ed92",
   "metadata": {},
   "source": [
    "### Run workflow on generated gsv mask files"
   ]
  },
  {
   "cell_type": "code",
   "execution_count": 991,
   "id": "d4a95343-8da6-4960-974e-178c0baf08a6",
   "metadata": {
    "execution": {
     "iopub.execute_input": "2024-01-22T00:04:15.407757Z",
     "iopub.status.busy": "2024-01-22T00:04:15.407479Z",
     "iopub.status.idle": "2024-01-22T00:04:46.820449Z",
     "shell.execute_reply": "2024-01-22T00:04:46.819864Z",
     "shell.execute_reply.started": "2024-01-22T00:04:15.407739Z"
    }
   },
   "outputs": [
    {
     "name": "stdout",
     "output_type": "stream",
     "text": [
      "295 295 295 295\n"
     ]
    }
   ],
   "source": [
    "mask1 = []\n",
    "mask2 = []\n",
    "mask3 = []\n",
    "mask4 = []\n",
    "# Load all generated mask files\n",
    "\n",
    "for i in range(0,295):\n",
    "    m1 = np.load('/home/yelhe/data/gsv_output/' + n1[i] + '.npy', allow_pickle=True)\n",
    "    mask1.append(m1)\n",
    "    m2 = np.load('/home/yelhe/data/gsv_output/' + n2[i] + '.npy', allow_pickle=True)\n",
    "    mask2.append(m2)\n",
    "    m3 = np.load('/home/yelhe/data/gsv_output/' + n3[i] + '.npy', allow_pickle=True)\n",
    "    mask3.append(m3)\n",
    "    m4 = np.load('/home/yelhe/data/gsv_output/' + n4[i] + '.npy', allow_pickle=True)\n",
    "    mask4.append(m4)\n",
    "\n",
    "\n",
    "print(len(mask1), len(mask2), len(mask3), len(mask4))"
   ]
  },
  {
   "cell_type": "code",
   "execution_count": 992,
   "id": "1708e7c6-3685-4196-9d94-d9703a6f76c0",
   "metadata": {
    "execution": {
     "iopub.execute_input": "2024-01-22T00:06:46.385848Z",
     "iopub.status.busy": "2024-01-22T00:06:46.385578Z",
     "iopub.status.idle": "2024-01-22T00:07:07.515860Z",
     "shell.execute_reply": "2024-01-22T00:07:07.515165Z",
     "shell.execute_reply.started": "2024-01-22T00:06:46.385831Z"
    }
   },
   "outputs": [
    {
     "name": "stdout",
     "output_type": "stream",
     "text": [
      "295 295 295 295\n"
     ]
    }
   ],
   "source": [
    "m1f = []\n",
    "m2f = []\n",
    "m3f = []\n",
    "m4f = []\n",
    "\n",
    "# Load all generated filtered mask files\n",
    "for i in range(0,295):\n",
    "    m1 = np.load('/home/yelhe/data/gsv_output_filtered_new/' + n1[i] + 'f.npy', allow_pickle=True)\n",
    "    m1f.append(m1)\n",
    "    m2 = np.load('/home/yelhe/data/gsv_output_filtered_new/' + n2[i] + 'f.npy', allow_pickle=True)\n",
    "    m2f.append(m2)\n",
    "    m3 = np.load('/home/yelhe/data/gsv_output_filtered_new/' + n3[i] + 'f.npy', allow_pickle=True)\n",
    "    m3f.append(m3)\n",
    "    m4 = np.load('/home/yelhe/data/gsv_output_filtered_new/' + n4[i] + 'f.npy', allow_pickle=True)\n",
    "    m4f.append(m4)\n",
    "\n",
    "print(len(m1f), len(m2f), len(m3f), len(m4f))"
   ]
  },
  {
   "cell_type": "code",
   "execution_count": 57,
   "id": "620d6c3a-1955-4ffb-84ca-b4494a320204",
   "metadata": {
    "execution": {
     "iopub.execute_input": "2024-01-19T13:58:09.933035Z",
     "iopub.status.busy": "2024-01-19T13:58:09.932711Z",
     "iopub.status.idle": "2024-01-19T13:58:09.936443Z",
     "shell.execute_reply": "2024-01-19T13:58:09.935818Z",
     "shell.execute_reply.started": "2024-01-19T13:58:09.933018Z"
    }
   },
   "outputs": [
    {
     "name": "stdout",
     "output_type": "stream",
     "text": [
      "[283, 193, 38, 224, 27, 66, 174, 77, 160, 182]\n"
     ]
    }
   ],
   "source": [
    "# ra = list(range(0, 295))\n",
    "# # Random choose accidents\n",
    "# il = random.sample(ra, 10)\n",
    "# print(il)"
   ]
  },
  {
   "cell_type": "code",
   "execution_count": 19,
   "id": "af192976-193d-4bb2-bfe6-357d1d5872f9",
   "metadata": {
    "execution": {
     "iopub.execute_input": "2024-01-21T17:35:54.427241Z",
     "iopub.status.busy": "2024-01-21T17:35:54.426945Z",
     "iopub.status.idle": "2024-01-21T17:35:54.430427Z",
     "shell.execute_reply": "2024-01-21T17:35:54.429776Z",
     "shell.execute_reply.started": "2024-01-21T17:35:54.427222Z"
    }
   },
   "outputs": [],
   "source": [
    "il = [283, 193, 38, 224, 27, 66, 174, 77, 160, 182]"
   ]
  },
  {
   "cell_type": "code",
   "execution_count": 20,
   "id": "deaefa1a-4e65-4693-90fb-e70774eba903",
   "metadata": {
    "execution": {
     "iopub.execute_input": "2024-01-21T17:36:02.785075Z",
     "iopub.status.busy": "2024-01-21T17:36:02.784783Z",
     "iopub.status.idle": "2024-01-21T17:36:02.788220Z",
     "shell.execute_reply": "2024-01-21T17:36:02.787606Z",
     "shell.execute_reply.started": "2024-01-21T17:36:02.785057Z"
    }
   },
   "outputs": [
    {
     "name": "stdout",
     "output_type": "stream",
     "text": [
      "[283, 193, 38, 224, 27, 66, 174, 77, 160, 182]\n"
     ]
    }
   ],
   "source": [
    "print(il)"
   ]
  },
  {
   "cell_type": "code",
   "execution_count": 21,
   "id": "74598e82-6d7e-491e-bd72-e6445587d695",
   "metadata": {
    "execution": {
     "iopub.execute_input": "2024-01-21T17:36:17.434412Z",
     "iopub.status.busy": "2024-01-21T17:36:17.433882Z",
     "iopub.status.idle": "2024-01-21T17:36:17.441726Z",
     "shell.execute_reply": "2024-01-21T17:36:17.441122Z",
     "shell.execute_reply.started": "2024-01-21T17:36:17.434387Z"
    }
   },
   "outputs": [],
   "source": [
    "nlist = pd.DataFrame()"
   ]
  },
  {
   "cell_type": "code",
   "execution_count": 22,
   "id": "b6ebc8c8-0f46-4dbf-92fd-c09bd1c52739",
   "metadata": {
    "execution": {
     "iopub.execute_input": "2024-01-21T17:36:17.979813Z",
     "iopub.status.busy": "2024-01-21T17:36:17.979499Z",
     "iopub.status.idle": "2024-01-21T17:36:17.984811Z",
     "shell.execute_reply": "2024-01-21T17:36:17.984127Z",
     "shell.execute_reply.started": "2024-01-21T17:36:17.979790Z"
    }
   },
   "outputs": [],
   "source": [
    "nlist['n1'] = n1"
   ]
  },
  {
   "cell_type": "code",
   "execution_count": 23,
   "id": "420143c9-532b-4ee4-8aa9-6daa05207448",
   "metadata": {
    "execution": {
     "iopub.execute_input": "2024-01-21T17:36:18.447351Z",
     "iopub.status.busy": "2024-01-21T17:36:18.447079Z",
     "iopub.status.idle": "2024-01-21T17:36:18.451614Z",
     "shell.execute_reply": "2024-01-21T17:36:18.451004Z",
     "shell.execute_reply.started": "2024-01-21T17:36:18.447335Z"
    }
   },
   "outputs": [],
   "source": [
    "nlist['n'] = nlist.n1.str[-15:-1]"
   ]
  },
  {
   "cell_type": "code",
   "execution_count": 24,
   "id": "8e3c4866-a3dd-4d87-b209-d335d9229ac2",
   "metadata": {
    "execution": {
     "iopub.execute_input": "2024-01-21T17:36:18.966333Z",
     "iopub.status.busy": "2024-01-21T17:36:18.966047Z",
     "iopub.status.idle": "2024-01-21T17:36:18.970437Z",
     "shell.execute_reply": "2024-01-21T17:36:18.969752Z",
     "shell.execute_reply.started": "2024-01-21T17:36:18.966314Z"
    }
   },
   "outputs": [],
   "source": [
    "nlist = nlist.drop(['n1'], axis=1)"
   ]
  },
  {
   "cell_type": "code",
   "execution_count": 25,
   "id": "de5e0821-66c0-4cc5-8def-c690b14456c4",
   "metadata": {
    "execution": {
     "iopub.execute_input": "2024-01-21T17:36:19.409693Z",
     "iopub.status.busy": "2024-01-21T17:36:19.409390Z",
     "iopub.status.idle": "2024-01-21T17:36:19.413204Z",
     "shell.execute_reply": "2024-01-21T17:36:19.412531Z",
     "shell.execute_reply.started": "2024-01-21T17:36:19.409671Z"
    }
   },
   "outputs": [],
   "source": [
    "nlist_s = nlist.iloc[il]"
   ]
  },
  {
   "cell_type": "code",
   "execution_count": 26,
   "id": "967b2739-e929-4693-be1f-8ef7623556f6",
   "metadata": {
    "execution": {
     "iopub.execute_input": "2024-01-21T17:36:20.701066Z",
     "iopub.status.busy": "2024-01-21T17:36:20.700771Z",
     "iopub.status.idle": "2024-01-21T17:36:20.717417Z",
     "shell.execute_reply": "2024-01-21T17:36:20.716772Z",
     "shell.execute_reply.started": "2024-01-21T17:36:20.701048Z"
    }
   },
   "outputs": [
    {
     "data": {
      "text/html": [
       "<div>\n",
       "<style scoped>\n",
       "    .dataframe tbody tr th:only-of-type {\n",
       "        vertical-align: middle;\n",
       "    }\n",
       "\n",
       "    .dataframe tbody tr th {\n",
       "        vertical-align: top;\n",
       "    }\n",
       "\n",
       "    .dataframe thead th {\n",
       "        text-align: right;\n",
       "    }\n",
       "</style>\n",
       "<table border=\"1\" class=\"dataframe\">\n",
       "  <thead>\n",
       "    <tr style=\"text-align: right;\">\n",
       "      <th></th>\n",
       "      <th>n</th>\n",
       "    </tr>\n",
       "  </thead>\n",
       "  <tbody>\n",
       "    <tr>\n",
       "      <th>283</th>\n",
       "      <td>99900046541031</td>\n",
       "    </tr>\n",
       "    <tr>\n",
       "      <th>193</th>\n",
       "      <td>99900058252952</td>\n",
       "    </tr>\n",
       "    <tr>\n",
       "      <th>38</th>\n",
       "      <td>99900050934899</td>\n",
       "    </tr>\n",
       "    <tr>\n",
       "      <th>224</th>\n",
       "      <td>99900052420710</td>\n",
       "    </tr>\n",
       "    <tr>\n",
       "      <th>27</th>\n",
       "      <td>99900046484531</td>\n",
       "    </tr>\n",
       "    <tr>\n",
       "      <th>66</th>\n",
       "      <td>99900056647155</td>\n",
       "    </tr>\n",
       "    <tr>\n",
       "      <th>174</th>\n",
       "      <td>99900048160516</td>\n",
       "    </tr>\n",
       "    <tr>\n",
       "      <th>77</th>\n",
       "      <td>99900055778422</td>\n",
       "    </tr>\n",
       "    <tr>\n",
       "      <th>160</th>\n",
       "      <td>99900051076121</td>\n",
       "    </tr>\n",
       "    <tr>\n",
       "      <th>182</th>\n",
       "      <td>99900062245276</td>\n",
       "    </tr>\n",
       "  </tbody>\n",
       "</table>\n",
       "</div>"
      ],
      "text/plain": [
       "                  n\n",
       "283  99900046541031\n",
       "193  99900058252952\n",
       "38   99900050934899\n",
       "224  99900052420710\n",
       "27   99900046484531\n",
       "66   99900056647155\n",
       "174  99900048160516\n",
       "77   99900055778422\n",
       "160  99900051076121\n",
       "182  99900062245276"
      ]
     },
     "execution_count": 26,
     "metadata": {},
     "output_type": "execute_result"
    }
   ],
   "source": [
    "nlist_s"
   ]
  },
  {
   "cell_type": "code",
   "execution_count": 27,
   "id": "09b0547c-5c89-4493-9afb-4a66878893a9",
   "metadata": {
    "execution": {
     "iopub.execute_input": "2024-01-21T17:36:26.440071Z",
     "iopub.status.busy": "2024-01-21T17:36:26.439783Z",
     "iopub.status.idle": "2024-01-21T17:36:26.444511Z",
     "shell.execute_reply": "2024-01-21T17:36:26.443942Z",
     "shell.execute_reply.started": "2024-01-21T17:36:26.440052Z"
    }
   },
   "outputs": [],
   "source": [
    "r1 = nlist_s.n.astype(str) + '1'\n",
    "r2 = nlist_s.n.astype(str) + '2'\n",
    "r3 = nlist_s.n.astype(str) + '3'\n",
    "r4 = nlist_s.n.astype(str) + '4'"
   ]
  },
  {
   "cell_type": "code",
   "execution_count": 28,
   "id": "c437a1e6-5022-497e-98db-38f1924f0f69",
   "metadata": {
    "execution": {
     "iopub.execute_input": "2024-01-21T17:36:27.001250Z",
     "iopub.status.busy": "2024-01-21T17:36:27.000966Z",
     "iopub.status.idle": "2024-01-21T17:36:27.004834Z",
     "shell.execute_reply": "2024-01-21T17:36:27.004128Z",
     "shell.execute_reply.started": "2024-01-21T17:36:27.001232Z"
    }
   },
   "outputs": [],
   "source": [
    "r1 = [str(element) for element in r1]\n",
    "r2 = [str(element) for element in r2]\n",
    "r3 = [str(element) for element in r3]\n",
    "r4 = [str(element) for element in r4]"
   ]
  },
  {
   "cell_type": "code",
   "execution_count": 29,
   "id": "b8a7f4dc-6dd9-409e-a8d2-f78913a6f5f3",
   "metadata": {
    "execution": {
     "iopub.execute_input": "2024-01-21T17:36:27.435007Z",
     "iopub.status.busy": "2024-01-21T17:36:27.434732Z",
     "iopub.status.idle": "2024-01-21T17:36:27.439032Z",
     "shell.execute_reply": "2024-01-21T17:36:27.438456Z",
     "shell.execute_reply.started": "2024-01-21T17:36:27.434990Z"
    }
   },
   "outputs": [
    {
     "data": {
      "text/plain": [
       "['999000465410311',\n",
       " '999000582529521',\n",
       " '999000509348991',\n",
       " '999000524207101',\n",
       " '999000464845311',\n",
       " '999000566471551',\n",
       " '999000481605161',\n",
       " '999000557784221',\n",
       " '999000510761211',\n",
       " '999000622452761']"
      ]
     },
     "execution_count": 29,
     "metadata": {},
     "output_type": "execute_result"
    }
   ],
   "source": [
    "r1"
   ]
  },
  {
   "cell_type": "code",
   "execution_count": 31,
   "id": "daa11552-05db-4c9a-a605-7a56a57bb654",
   "metadata": {
    "execution": {
     "iopub.execute_input": "2024-01-21T17:40:32.709190Z",
     "iopub.status.busy": "2024-01-21T17:40:32.708909Z",
     "iopub.status.idle": "2024-01-21T17:40:37.202460Z",
     "shell.execute_reply": "2024-01-21T17:40:37.201545Z",
     "shell.execute_reply.started": "2024-01-21T17:40:32.709170Z"
    }
   },
   "outputs": [
    {
     "name": "stdout",
     "output_type": "stream",
     "text": [
      "10 10 10 10\n"
     ]
    }
   ],
   "source": [
    "mr1 = []\n",
    "mr2 = []\n",
    "mr3 = []\n",
    "mr4 = []\n",
    "for i in range(0,10):\n",
    "    m1 = np.load('/home/yelhe/script/mt/random/' + r1[i] + '.npy', allow_pickle=True)\n",
    "    mr1.append(m1)\n",
    "    m2 = np.load('/home/yelhe/script/mt/random/' + r2[i] + '.npy', allow_pickle=True)\n",
    "    mr2.append(m2)\n",
    "    m3 = np.load('/home/yelhe/script/mt/random/' + r3[i] + '.npy', allow_pickle=True)\n",
    "    mr3.append(m3)\n",
    "    m4 = np.load('/home/yelhe/script/mt/random/' + r4[i] + '.npy', allow_pickle=True)\n",
    "    mr4.append(m4)\n",
    "\n",
    "print(len(mr1), len(mr2), len(mr3), len(mr4))"
   ]
  },
  {
   "cell_type": "code",
   "execution_count": 30,
   "id": "771462f7-3b56-4836-91f7-332d9de53775",
   "metadata": {
    "execution": {
     "iopub.execute_input": "2024-01-21T17:39:25.541158Z",
     "iopub.status.busy": "2024-01-21T17:39:25.540863Z",
     "iopub.status.idle": "2024-01-21T17:39:28.283189Z",
     "shell.execute_reply": "2024-01-21T17:39:28.282662Z",
     "shell.execute_reply.started": "2024-01-21T17:39:25.541138Z"
    }
   },
   "outputs": [
    {
     "name": "stdout",
     "output_type": "stream",
     "text": [
      "10 10 10 10\n"
     ]
    }
   ],
   "source": [
    "mr1f = []\n",
    "mr2f = []\n",
    "mr3f = []\n",
    "mr4f = []\n",
    "for i in range(0,10):\n",
    "    m1 = np.load('/home/yelhe/script/mt/random/' + r1[i] + 'f.npy', allow_pickle=True)\n",
    "    mr1f.append(m1)\n",
    "    m2 = np.load('/home/yelhe/script/mt/random/' + r2[i] + 'f.npy', allow_pickle=True)\n",
    "    mr2f.append(m2)\n",
    "    m3 = np.load('/home/yelhe/script/mt/random/' + r3[i] + 'f.npy', allow_pickle=True)\n",
    "    mr3f.append(m3)\n",
    "    m4 = np.load('/home/yelhe/script/mt/random/' + r4[i] + 'f.npy', allow_pickle=True)\n",
    "    mr4f.append(m4)\n",
    "\n",
    "print(len(mr1f), len(mr2f), len(mr3f), len(mr4f))"
   ]
  },
  {
   "cell_type": "code",
   "execution_count": 57,
   "id": "65b629ab-c2a3-435c-a8ed-2d5003637b09",
   "metadata": {
    "execution": {
     "iopub.execute_input": "2024-01-21T17:49:43.723500Z",
     "iopub.status.busy": "2024-01-21T17:49:43.723091Z",
     "iopub.status.idle": "2024-01-21T17:49:43.728401Z",
     "shell.execute_reply": "2024-01-21T17:49:43.727766Z",
     "shell.execute_reply.started": "2024-01-21T17:49:43.723475Z"
    }
   },
   "outputs": [
    {
     "name": "stdout",
     "output_type": "stream",
     "text": [
      "0 1 86 67\n",
      "0 2 77 46\n",
      "0 3 68 47\n",
      "0 4 55 41\n",
      "1 1 149 76\n",
      "1 2 117 51\n",
      "1 3 138 76\n",
      "1 4 167 90\n",
      "2 1 92 55\n",
      "2 2 113 73\n",
      "2 3 113 80\n",
      "2 4 77 37\n",
      "3 1 89 58\n",
      "3 2 121 44\n",
      "3 3 93 40\n",
      "3 4 56 47\n",
      "4 1 59 44\n",
      "4 2 57 45\n",
      "4 3 58 44\n",
      "4 4 72 52\n",
      "5 1 135 20\n",
      "5 2 108 43\n",
      "5 3 88 46\n",
      "5 4 93 51\n",
      "6 1 93 52\n",
      "6 2 124 88\n",
      "6 3 102 63\n",
      "6 4 107 40\n",
      "7 1 74 53\n",
      "7 2 49 41\n",
      "7 3 56 46\n",
      "7 4 72 57\n",
      "8 1 103 52\n",
      "8 2 57 29\n",
      "8 3 59 45\n",
      "8 4 80 39\n",
      "9 1 140 56\n",
      "9 2 116 62\n",
      "9 3 112 37\n",
      "9 4 120 43\n"
     ]
    }
   ],
   "source": [
    "for i in range(0,10):\n",
    "    print(i, '1', len(mr1[i]), len(mr1f[i]))\n",
    "    print(i, '2', len(mr2[i]), len(mr2f[i]))\n",
    "    print(i, '3', len(mr3[i]), len(mr3f[i]))\n",
    "    print(i, '4', len(mr4[i]), len(mr4f[i]))"
   ]
  },
  {
   "cell_type": "code",
   "execution_count": 993,
   "id": "1fc11a68-4d8a-4c1c-9f57-654b5c391753",
   "metadata": {
    "execution": {
     "iopub.execute_input": "2024-01-22T00:07:51.180075Z",
     "iopub.status.busy": "2024-01-22T00:07:51.179813Z",
     "iopub.status.idle": "2024-01-22T00:07:51.184442Z",
     "shell.execute_reply": "2024-01-22T00:07:51.183973Z",
     "shell.execute_reply.started": "2024-01-22T00:07:51.180057Z"
    }
   },
   "outputs": [
    {
     "name": "stdout",
     "output_type": "stream",
     "text": [
      "0 1 85 54\n",
      "0 2 81 57\n",
      "0 3 65 49\n",
      "0 4 53 39\n",
      "1 1 155 84\n",
      "1 2 123 53\n",
      "1 3 127 79\n",
      "1 4 177 106\n",
      "2 1 98 54\n",
      "2 2 118 75\n",
      "2 3 117 79\n",
      "2 4 78 40\n",
      "3 1 90 59\n",
      "3 2 122 38\n",
      "3 3 87 39\n",
      "3 4 55 51\n",
      "4 1 54 46\n",
      "4 2 55 43\n",
      "4 3 56 40\n",
      "4 4 72 54\n",
      "5 1 134 32\n",
      "5 2 104 50\n",
      "5 3 91 43\n",
      "5 4 99 54\n",
      "6 1 93 55\n",
      "6 2 130 79\n",
      "6 3 104 60\n",
      "6 4 112 39\n",
      "7 1 84 61\n",
      "7 2 48 41\n",
      "7 3 53 44\n",
      "7 4 76 59\n",
      "8 1 109 50\n",
      "8 2 61 31\n",
      "8 3 60 45\n",
      "8 4 79 37\n",
      "9 1 142 54\n",
      "9 2 121 61\n",
      "9 3 114 36\n",
      "9 4 120 40\n"
     ]
    }
   ],
   "source": [
    "for i in range(0,10):\n",
    "    a = il[i]\n",
    "    print(i, '1', len(mask1[a]), len(m1f[a]))\n",
    "    print(i, '2', len(mask2[a]), len(m2f[a]))\n",
    "    print(i, '3', len(mask3[a]), len(m3f[a]))\n",
    "    print(i, '4', len(mask4[a]), len(m4f[a]))"
   ]
  },
  {
   "cell_type": "code",
   "execution_count": 34,
   "id": "c2d0dc8c-bf1d-467f-9fe5-e6111d43a08d",
   "metadata": {
    "execution": {
     "iopub.execute_input": "2024-01-21T17:42:40.902080Z",
     "iopub.status.busy": "2024-01-21T17:42:40.901793Z",
     "iopub.status.idle": "2024-01-21T17:42:56.345984Z",
     "shell.execute_reply": "2024-01-21T17:42:56.345112Z",
     "shell.execute_reply.started": "2024-01-21T17:42:40.902060Z"
    }
   },
   "outputs": [
    {
     "name": "stdout",
     "output_type": "stream",
     "text": [
      "0 283\n",
      "1 193\n",
      "2 38\n",
      "3 224\n",
      "4 27\n",
      "5 66\n",
      "6 174\n",
      "7 77\n",
      "8 160\n",
      "9 182\n"
     ]
    }
   ],
   "source": [
    "df1r = []\n",
    "df2r = []\n",
    "df3r = []\n",
    "df4r = []\n",
    "for i in range(0, 10):\n",
    "    a = il[i]\n",
    "    print(i, a)\n",
    "    df1r.append(feature_summary(gsv_image1[a], m1f[a]))\n",
    "    df2r.append(feature_summary(gsv_image2[a], m2f[a]))\n",
    "    df3r.append(feature_summary(gsv_image3[a], m3f[a]))\n",
    "    df4r.append(feature_summary(gsv_image4[a], m4f[a]))\n"
   ]
  },
  {
   "cell_type": "code",
   "execution_count": 2146,
   "id": "072312e6-686c-454b-b49d-570471d090fe",
   "metadata": {
    "execution": {
     "iopub.execute_input": "2024-01-22T02:55:50.566583Z",
     "iopub.status.busy": "2024-01-22T02:55:50.566312Z",
     "iopub.status.idle": "2024-01-22T02:55:50.576601Z",
     "shell.execute_reply": "2024-01-22T02:55:50.576020Z",
     "shell.execute_reply.started": "2024-01-22T02:55:50.566565Z"
    }
   },
   "outputs": [
    {
     "name": "stdout",
     "output_type": "stream",
     "text": [
      "9 182 999000622452762\n",
      "<class 'pandas.core.frame.DataFrame'>\n",
      "Index: 60 entries, 0 to 60\n",
      "Data columns (total 22 columns):\n",
      " #   Column             Non-Null Count  Dtype \n",
      "---  ------             --------------  ----- \n",
      " 0   mask               60 non-null     int64 \n",
      " 1   gmedian            60 non-null     object\n",
      " 2   rmedian            60 non-null     object\n",
      " 3   bmedian            60 non-null     object\n",
      " 4   gmean              60 non-null     object\n",
      " 5   rmean              60 non-null     object\n",
      " 6   bmean              60 non-null     object\n",
      " 7   gstd               60 non-null     object\n",
      " 8   rstd               60 non-null     object\n",
      " 9   bstd               60 non-null     object\n",
      " 10  isconvex           60 non-null     object\n",
      " 11  area               60 non-null     object\n",
      " 12  aspect_ratio_wh_s  60 non-null     object\n",
      " 13  extent_s           60 non-null     object\n",
      " 14  solidity           60 non-null     object\n",
      " 15  aspect_ratio_wh    60 non-null     object\n",
      " 16  extent             60 non-null     object\n",
      " 17  ed                 60 non-null     object\n",
      " 18  ratio_ell          60 non-null     object\n",
      " 19  perimeter          60 non-null     object\n",
      " 20  is_cen_inside      60 non-null     object\n",
      " 21  is_mce_inside      60 non-null     object\n",
      "dtypes: int64(1), object(21)\n",
      "memory usage: 10.8+ KB\n"
     ]
    }
   ],
   "source": [
    "j = j+1\n",
    "q = il[j]\n",
    "print(j, q, r3[j])\n",
    "mb = m3f[q]\n",
    "img = gsv_image3[q]\n",
    "df3r[j].info()"
   ]
  },
  {
   "cell_type": "code",
   "execution_count": 2207,
   "id": "544d2bf6-3181-41c9-aca7-8d1e77c425bc",
   "metadata": {
    "execution": {
     "iopub.execute_input": "2024-01-22T03:04:36.011824Z",
     "iopub.status.busy": "2024-01-22T03:04:36.011538Z",
     "iopub.status.idle": "2024-01-22T03:04:36.054611Z",
     "shell.execute_reply": "2024-01-22T03:04:36.054039Z",
     "shell.execute_reply.started": "2024-01-22T03:04:36.011806Z"
    }
   },
   "outputs": [
    {
     "ename": "IndexError",
     "evalue": "single positional indexer is out-of-bounds",
     "output_type": "error",
     "traceback": [
      "\u001b[0;31m---------------------------------------------------------------------------\u001b[0m",
      "\u001b[0;31mIndexError\u001b[0m                                Traceback (most recent call last)",
      "Cell \u001b[0;32mIn[2207], line 2\u001b[0m\n\u001b[1;32m      1\u001b[0m t \u001b[38;5;241m=\u001b[39m t\u001b[38;5;241m+\u001b[39m\u001b[38;5;241m1\u001b[39m\n\u001b[0;32m----> 2\u001b[0m p \u001b[38;5;241m=\u001b[39m (\u001b[43m(\u001b[49m\u001b[43mdf2r\u001b[49m\u001b[43m[\u001b[49m\u001b[43mj\u001b[49m\u001b[43m]\u001b[49m\u001b[43m)\u001b[49m\u001b[38;5;241;43m.\u001b[39;49m\u001b[43miloc\u001b[49m\u001b[43m[\u001b[49m\u001b[43mt\u001b[49m\u001b[43m]\u001b[49m[\u001b[38;5;124m'\u001b[39m\u001b[38;5;124mmask\u001b[39m\u001b[38;5;124m'\u001b[39m]) \u001b[38;5;241m-\u001b[39m\u001b[38;5;241m1\u001b[39m\n\u001b[1;32m      3\u001b[0m \u001b[38;5;66;03m# print(t, p)\u001b[39;00m\n\u001b[1;32m      4\u001b[0m i \u001b[38;5;241m=\u001b[39m p\n",
      "File \u001b[0;32m/opt/conda/lib/python3.11/site-packages/pandas/core/indexing.py:1103\u001b[0m, in \u001b[0;36m_LocationIndexer.__getitem__\u001b[0;34m(self, key)\u001b[0m\n\u001b[1;32m   1100\u001b[0m axis \u001b[38;5;241m=\u001b[39m \u001b[38;5;28mself\u001b[39m\u001b[38;5;241m.\u001b[39maxis \u001b[38;5;129;01mor\u001b[39;00m \u001b[38;5;241m0\u001b[39m\n\u001b[1;32m   1102\u001b[0m maybe_callable \u001b[38;5;241m=\u001b[39m com\u001b[38;5;241m.\u001b[39mapply_if_callable(key, \u001b[38;5;28mself\u001b[39m\u001b[38;5;241m.\u001b[39mobj)\n\u001b[0;32m-> 1103\u001b[0m \u001b[38;5;28;01mreturn\u001b[39;00m \u001b[38;5;28;43mself\u001b[39;49m\u001b[38;5;241;43m.\u001b[39;49m\u001b[43m_getitem_axis\u001b[49m\u001b[43m(\u001b[49m\u001b[43mmaybe_callable\u001b[49m\u001b[43m,\u001b[49m\u001b[43m \u001b[49m\u001b[43maxis\u001b[49m\u001b[38;5;241;43m=\u001b[39;49m\u001b[43maxis\u001b[49m\u001b[43m)\u001b[49m\n",
      "File \u001b[0;32m/opt/conda/lib/python3.11/site-packages/pandas/core/indexing.py:1656\u001b[0m, in \u001b[0;36m_iLocIndexer._getitem_axis\u001b[0;34m(self, key, axis)\u001b[0m\n\u001b[1;32m   1653\u001b[0m     \u001b[38;5;28;01mraise\u001b[39;00m \u001b[38;5;167;01mTypeError\u001b[39;00m(\u001b[38;5;124m\"\u001b[39m\u001b[38;5;124mCannot index by location index with a non-integer key\u001b[39m\u001b[38;5;124m\"\u001b[39m)\n\u001b[1;32m   1655\u001b[0m \u001b[38;5;66;03m# validate the location\u001b[39;00m\n\u001b[0;32m-> 1656\u001b[0m \u001b[38;5;28;43mself\u001b[39;49m\u001b[38;5;241;43m.\u001b[39;49m\u001b[43m_validate_integer\u001b[49m\u001b[43m(\u001b[49m\u001b[43mkey\u001b[49m\u001b[43m,\u001b[49m\u001b[43m \u001b[49m\u001b[43maxis\u001b[49m\u001b[43m)\u001b[49m\n\u001b[1;32m   1658\u001b[0m \u001b[38;5;28;01mreturn\u001b[39;00m \u001b[38;5;28mself\u001b[39m\u001b[38;5;241m.\u001b[39mobj\u001b[38;5;241m.\u001b[39m_ixs(key, axis\u001b[38;5;241m=\u001b[39maxis)\n",
      "File \u001b[0;32m/opt/conda/lib/python3.11/site-packages/pandas/core/indexing.py:1589\u001b[0m, in \u001b[0;36m_iLocIndexer._validate_integer\u001b[0;34m(self, key, axis)\u001b[0m\n\u001b[1;32m   1587\u001b[0m len_axis \u001b[38;5;241m=\u001b[39m \u001b[38;5;28mlen\u001b[39m(\u001b[38;5;28mself\u001b[39m\u001b[38;5;241m.\u001b[39mobj\u001b[38;5;241m.\u001b[39m_get_axis(axis))\n\u001b[1;32m   1588\u001b[0m \u001b[38;5;28;01mif\u001b[39;00m key \u001b[38;5;241m>\u001b[39m\u001b[38;5;241m=\u001b[39m len_axis \u001b[38;5;129;01mor\u001b[39;00m key \u001b[38;5;241m<\u001b[39m \u001b[38;5;241m-\u001b[39mlen_axis:\n\u001b[0;32m-> 1589\u001b[0m     \u001b[38;5;28;01mraise\u001b[39;00m \u001b[38;5;167;01mIndexError\u001b[39;00m(\u001b[38;5;124m\"\u001b[39m\u001b[38;5;124msingle positional indexer is out-of-bounds\u001b[39m\u001b[38;5;124m\"\u001b[39m)\n",
      "\u001b[0;31mIndexError\u001b[0m: single positional indexer is out-of-bounds"
     ]
    }
   ],
   "source": [
    "t = 0\n",
    "p = ((df3r[j]).iloc[t]['mask']) -1\n",
    "# print(t, p)\n",
    "i = p\n",
    "#i = 0\n",
    "print(i, t,'label')\n",
    "maskedimg = cv2.bitwise_and(img,img,mask = mb[i])\n",
    "# create a mask\n",
    "hist_full = cv2.calcHist([img],[0],None,[256],[0,256])\n",
    "hist_mask = cv2.calcHist([img],[0],mb[i],[256],[0,256])\n",
    "plt.figure(figsize = (10,10))\n",
    "plt.subplot(221), plt.imshow(img)\n",
    "plt.subplot(222), plt.imshow(mb[i])\n",
    "plt.subplot(223), plt.imshow(maskedimg)\n",
    "plt.subplot(224), plt.plot(hist_full), plt.plot(hist_mask)\n",
    "plt.xlim([0,256])\n",
    "plt.show()"
   ]
  },
  {
   "cell_type": "code",
   "execution_count": 38,
   "id": "fdfb12be-62e0-4c86-b43b-828403e32aba",
   "metadata": {
    "execution": {
     "iopub.execute_input": "2024-01-21T17:43:45.614024Z",
     "iopub.status.busy": "2024-01-21T17:43:45.613753Z",
     "iopub.status.idle": "2024-01-21T17:43:45.616786Z",
     "shell.execute_reply": "2024-01-21T17:43:45.616172Z",
     "shell.execute_reply.started": "2024-01-21T17:43:45.614008Z"
    }
   },
   "outputs": [],
   "source": [
    "# i = i+1\n",
    "# print(i)\n",
    "# plt.figure(figsize = (10,10))\n",
    "# plt.subplot(421), plt.imshow(gsv_image1[i])\n",
    "# plt.subplot(422), plt.imshow(m1c[i][0])\n",
    "# plt.subplot(423), plt.imshow(gsv_image2[i])\n",
    "# plt.subplot(424), plt.imshow(m2c[i][0])\n",
    "# plt.subplot(425), plt.imshow(gsv_image3[i])\n",
    "# plt.subplot(426), plt.imshow(m3c[i][0])\n",
    "# plt.subplot(427), plt.imshow(gsv_image4[i])\n",
    "# plt.subplot(428), plt.imshow(m4c[i][0])\n",
    "# plt.show()"
   ]
  },
  {
   "cell_type": "code",
   "execution_count": 39,
   "id": "ec6edf40-98a9-40ac-b574-0dfaf904d221",
   "metadata": {
    "execution": {
     "iopub.execute_input": "2024-01-21T17:43:55.717604Z",
     "iopub.status.busy": "2024-01-21T17:43:55.717333Z",
     "iopub.status.idle": "2024-01-21T17:43:55.720392Z",
     "shell.execute_reply": "2024-01-21T17:43:55.719821Z",
     "shell.execute_reply.started": "2024-01-21T17:43:55.717587Z"
    }
   },
   "outputs": [],
   "source": [
    "# for i in range(0,10):\n",
    "#     m = il[i]\n",
    "#     m1 = np.load('/home/yelhe/script/mt/random/' + n1[m] + '.npy', allow_pickle=True)\n",
    "#     m1f = filter_overlap(m1)\n",
    "#     np.save('/home/yelhe/script/mt/random/' + n1[m] + 'f.npy', m1f, allow_pickle=True)\n",
    "#     m2 = np.load('/home/yelhe/script/mt/random/' + n2[m] + '.npy', allow_pickle=True)\n",
    "#     m2f = filter_overlap(m2)\n",
    "#     np.save('/home/yelhe/script/mt/random/' + n2[m] + 'f.npy', m2f, allow_pickle=True)\n",
    "#     m3 = np.load('/home/yelhe/script/mt/random/' + n3[m] + '.npy', allow_pickle=True)\n",
    "#     m3f = filter_overlap(m3)\n",
    "#     np.save('/home/yelhe/script/mt/random/' + n3[m] + 'f.npy', m3f, allow_pickle=True)\n",
    "#     m4 = np.load('/home/yelhe/script/mt/random/' + n4[m] + '.npy', allow_pickle=True)\n",
    "#     m4f = filter_overlap(m4)\n",
    "#     np.save('/home/yelhe/script/mt/random/' + n4[m] + 'f.npy', m4f, allow_pickle=True)\n",
    "#     print(i)"
   ]
  },
  {
   "cell_type": "code",
   "execution_count": null,
   "id": "e49887ce-edcb-413f-bae4-fd030885dad7",
   "metadata": {},
   "outputs": [],
   "source": []
  }
 ],
 "metadata": {
  "kernelspec": {
   "display_name": "Python 3 (ipykernel)",
   "language": "python",
   "name": "python3"
  },
  "language_info": {
   "codemirror_mode": {
    "name": "ipython",
    "version": 3
   },
   "file_extension": ".py",
   "mimetype": "text/x-python",
   "name": "python",
   "nbconvert_exporter": "python",
   "pygments_lexer": "ipython3",
   "version": "3.11.5"
  }
 },
 "nbformat": 4,
 "nbformat_minor": 5
}
