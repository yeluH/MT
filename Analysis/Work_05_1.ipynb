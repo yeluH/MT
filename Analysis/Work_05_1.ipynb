{
 "cells": [
  {
   "cell_type": "code",
   "execution_count": 1,
   "id": "28821f6f-9fb3-4da1-afa5-36650ca16c9e",
   "metadata": {
    "execution": {
     "iopub.execute_input": "2024-01-21T17:34:24.788961Z",
     "iopub.status.busy": "2024-01-21T17:34:24.788643Z",
     "iopub.status.idle": "2024-01-21T17:34:31.327495Z",
     "shell.execute_reply": "2024-01-21T17:34:31.326943Z",
     "shell.execute_reply.started": "2024-01-21T17:34:24.788939Z"
    }
   },
   "outputs": [],
   "source": [
    "import torch\n",
    "torch.cuda.empty_cache() "
   ]
  },
  {
   "cell_type": "code",
   "execution_count": 2,
   "id": "8bbfa0cc-dd2e-49b4-947b-143a26e935a4",
   "metadata": {
    "execution": {
     "iopub.execute_input": "2024-01-21T17:34:31.328783Z",
     "iopub.status.busy": "2024-01-21T17:34:31.328532Z",
     "iopub.status.idle": "2024-01-21T17:34:32.163567Z",
     "shell.execute_reply": "2024-01-21T17:34:32.162983Z",
     "shell.execute_reply.started": "2024-01-21T17:34:31.328766Z"
    }
   },
   "outputs": [
    {
     "name": "stdout",
     "output_type": "stream",
     "text": [
      "PyTorch version: 2.0.1+cu117\n",
      "Torchvision version: 0.15.2+cu117\n",
      "CUDA is available: True\n"
     ]
    }
   ],
   "source": [
    "import torchvision\n",
    "print(\"PyTorch version:\", torch.__version__)\n",
    "print(\"Torchvision version:\", torchvision.__version__)\n",
    "print(\"CUDA is available:\", torch.cuda.is_available())"
   ]
  },
  {
   "cell_type": "code",
   "execution_count": 3,
   "id": "b53cf3d1-e97c-4bca-ba16-26b61b9483a7",
   "metadata": {
    "execution": {
     "iopub.execute_input": "2024-01-21T17:34:32.164565Z",
     "iopub.status.busy": "2024-01-21T17:34:32.164367Z",
     "iopub.status.idle": "2024-01-21T17:34:33.296908Z",
     "shell.execute_reply": "2024-01-21T17:34:33.296379Z",
     "shell.execute_reply.started": "2024-01-21T17:34:32.164548Z"
    }
   },
   "outputs": [
    {
     "data": {
      "text/plain": [
       "'/home/yelhe/script/mt'"
      ]
     },
     "execution_count": 3,
     "metadata": {},
     "output_type": "execute_result"
    }
   ],
   "source": [
    "import os \n",
    "os.environ['MPLCONFIGDIR'] = os.getcwd() + \"/configs/\"\n",
    "os.environ[\"PYTORCH_CUDA_ALLOC_CONF\"] = \"max_split_size_mb:100000\"\n",
    "import matplotlib\n",
    "from matplotlib import pyplot as plt\n",
    "import numpy as np\n",
    "import cv2\n",
    "os.getcwd()"
   ]
  },
  {
   "cell_type": "code",
   "execution_count": 4,
   "id": "71aa3c3f-c74f-4cc6-b208-3ba3db114c3b",
   "metadata": {
    "execution": {
     "iopub.execute_input": "2024-01-21T17:34:33.298766Z",
     "iopub.status.busy": "2024-01-21T17:34:33.298281Z",
     "iopub.status.idle": "2024-01-21T17:34:33.443412Z",
     "shell.execute_reply": "2024-01-21T17:34:33.442800Z",
     "shell.execute_reply.started": "2024-01-21T17:34:33.298738Z"
    }
   },
   "outputs": [],
   "source": [
    "import glob\n",
    "import shapely\n",
    "from shapely.geometry import Polygon\n",
    "import shapely.plotting"
   ]
  },
  {
   "cell_type": "code",
   "execution_count": 5,
   "id": "85036162-3734-410f-9a5c-136e1eb697a6",
   "metadata": {
    "execution": {
     "iopub.execute_input": "2024-01-21T17:34:33.444761Z",
     "iopub.status.busy": "2024-01-21T17:34:33.444265Z",
     "iopub.status.idle": "2024-01-21T17:34:35.326019Z",
     "shell.execute_reply": "2024-01-21T17:34:35.325532Z",
     "shell.execute_reply.started": "2024-01-21T17:34:33.444738Z"
    }
   },
   "outputs": [],
   "source": [
    "import pandas as pd\n",
    "from PIL import Image as ima\n",
    "import warnings\n",
    "from pathlib import Path\n",
    "import random"
   ]
  },
  {
   "cell_type": "code",
   "execution_count": 6,
   "id": "9a982453-ae3c-4f0d-bb5a-679e7c43f2e9",
   "metadata": {
    "execution": {
     "iopub.execute_input": "2024-01-21T17:34:35.327072Z",
     "iopub.status.busy": "2024-01-21T17:34:35.326737Z",
     "iopub.status.idle": "2024-01-21T17:34:35.338602Z",
     "shell.execute_reply": "2024-01-21T17:34:35.338072Z",
     "shell.execute_reply.started": "2024-01-21T17:34:35.327054Z"
    }
   },
   "outputs": [],
   "source": [
    "def show_anns(anns):\n",
    "    if len(anns) == 0:\n",
    "        return\n",
    "    sorted_anns = sorted(anns, key=(lambda x: x['area']), reverse=True)\n",
    "    ax = plt.gca()\n",
    "    ax.set_autoscale_on(False)\n",
    "\n",
    "    img = np.ones((sorted_anns[0]['segmentation'].shape[0], sorted_anns[0]['segmentation'].shape[1], 4))\n",
    "    img[:,:,3] = 0\n",
    "    for ann in sorted_anns:\n",
    "        m = ann['segmentation']\n",
    "        color_mask = np.concatenate([np.random.random(3), [0.35]])\n",
    "        img[m] = color_mask\n",
    "    ax.imshow(img)\n",
    "\n",
    "def show_mask(mask, ax, random_color=False):\n",
    "    if random_color:\n",
    "        color = np.concatenate([np.random.random(3), np.array([0.6])], axis=0)\n",
    "    else:\n",
    "        color = np.array([30/255, 144/255, 255/255, 0.6])\n",
    "    h, w = mask.shape[-2:]\n",
    "    mask_image = mask.reshape(h, w, 1) * color.reshape(1, 1, -1)\n",
    "    ax.imshow(mask_image)\n",
    "    \n",
    "def show_points(coords, labels, ax, marker_size=375):\n",
    "    pos_points = coords[labels==1]\n",
    "    neg_points = coords[labels==0]\n",
    "    ax.scatter(pos_points[:, 0], pos_points[:, 1], color='green', marker='*', s=marker_size, edgecolor='white', linewidth=1.25)\n",
    "    ax.scatter(neg_points[:, 0], neg_points[:, 1], color='red', marker='*', s=marker_size, edgecolor='white', linewidth=1.25)   \n",
    "    \n",
    "def show_box(box, ax):\n",
    "    x0, y0 = box[0], box[1]\n",
    "    w, h = box[2] - box[0], box[3] - box[1]\n",
    "    ax.add_patch(plt.Rectangle((x0, y0), w, h, edgecolor='green', facecolor=(0,0,0,0), lw=2))\n",
    "\n",
    "# Add function def show_anns (borrowed from one of the Jupyter notebooks).\n",
    "def show_anns(anns):\n",
    "    if len(anns) == 0:\n",
    "        return\n",
    "    sorted_anns = sorted(anns, key=(lambda x: x['area']), reverse=True)\n",
    "    ax = plt.gca()\n",
    "    ax.set_autoscale_on(False)\n",
    "    # polygons = []\n",
    "    # color = []\n",
    "    img = np.ones((sorted_anns[0]['segmentation'].shape[0], sorted_anns[0]['segmentation'].shape[1], 4))\n",
    "    img[:,:,3] = 0\n",
    "    for ann in sorted_anns:\n",
    "        m = ann['segmentation']\n",
    "        color_mask = np.concatenate([np.random.random(3), [0.35]])\n",
    "        img[m] = color_mask\n",
    "    ax.imshow(img)\n",
    "    # for ann in sorted_anns:\n",
    "    #     m = ann['segmentation']\n",
    "    #     img = np.ones((m.shape[0], m.shape[1], 3))\n",
    "    #     color_mask = np.random.random((1, 3)).tolist()[0]\n",
    "    #     for i in range(3):\n",
    "    #         img[:,:,i] = color_mask[i]\n",
    "    #     ax.imshow(np.dstack((img, m*0.35)))"
   ]
  },
  {
   "cell_type": "code",
   "execution_count": 90,
   "id": "dfc03472-0685-4988-aac0-cea963e321b3",
   "metadata": {
    "execution": {
     "iopub.execute_input": "2024-01-19T14:20:51.817686Z",
     "iopub.status.busy": "2024-01-19T14:20:51.817351Z",
     "iopub.status.idle": "2024-01-19T14:21:03.718429Z",
     "shell.execute_reply": "2024-01-19T14:21:03.717356Z",
     "shell.execute_reply.started": "2024-01-19T14:20:51.817667Z"
    }
   },
   "outputs": [],
   "source": [
    "# from segment_anything import SamAutomaticMaskGenerator, sam_model_registry\n",
    "# sam = sam_model_registry[\"vit_h\"](checkpoint=\"/home/yelhe/data/sam/sam_vit_h_4b8939.pth\")\n",
    "# mask_generator = SamAutomaticMaskGenerator(sam)\n"
   ]
  },
  {
   "cell_type": "markdown",
   "id": "68d8871e-007c-4c97-884c-3630f0711e45",
   "metadata": {},
   "source": [
    "### Data preparation"
   ]
  },
  {
   "cell_type": "code",
   "execution_count": 7,
   "id": "25889c55-fda2-48c8-a7ff-783e93ca0226",
   "metadata": {
    "execution": {
     "iopub.execute_input": "2024-01-21T17:34:37.421544Z",
     "iopub.status.busy": "2024-01-21T17:34:37.421259Z",
     "iopub.status.idle": "2024-01-21T17:34:37.434404Z",
     "shell.execute_reply": "2024-01-21T17:34:37.433792Z",
     "shell.execute_reply.started": "2024-01-21T17:34:37.421526Z"
    }
   },
   "outputs": [],
   "source": [
    "koord  = pd.read_csv('/home/yelhe/script/mt/output/koord.csv')"
   ]
  },
  {
   "cell_type": "code",
   "execution_count": 8,
   "id": "973cb8c2-430d-42aa-9913-d948fc4567cf",
   "metadata": {
    "execution": {
     "iopub.execute_input": "2024-01-21T17:34:37.948964Z",
     "iopub.status.busy": "2024-01-21T17:34:37.948683Z",
     "iopub.status.idle": "2024-01-21T17:34:37.953900Z",
     "shell.execute_reply": "2024-01-21T17:34:37.953294Z",
     "shell.execute_reply.started": "2024-01-21T17:34:37.948945Z"
    }
   },
   "outputs": [],
   "source": [
    "# koord.head()\n",
    "name1 = koord.Nr.astype(str) + '1.jpg'\n",
    "name2 = koord.Nr.astype(str) + '2.jpg'\n",
    "name3 = koord.Nr.astype(str) + '3.jpg'\n",
    "name4 = koord.Nr.astype(str) + '4.jpg'"
   ]
  },
  {
   "cell_type": "code",
   "execution_count": 9,
   "id": "d444f971-1d7b-4448-af66-afdc792c7390",
   "metadata": {
    "execution": {
     "iopub.execute_input": "2024-01-21T17:34:49.474031Z",
     "iopub.status.busy": "2024-01-21T17:34:49.473740Z",
     "iopub.status.idle": "2024-01-21T17:35:00.643093Z",
     "shell.execute_reply": "2024-01-21T17:35:00.642077Z",
     "shell.execute_reply.started": "2024-01-21T17:34:49.474013Z"
    }
   },
   "outputs": [],
   "source": [
    "gsv_image1 = []\n",
    "gsv_image2 = []\n",
    "gsv_image3 = []\n",
    "gsv_image4 = []\n",
    "\n",
    "nf1 = []\n",
    "nf2 = []\n",
    "nf3 = []\n",
    "nf4 = []\n",
    "for i in range(0,349):\n",
    "    path1 = Path('/home/yelhe/data/gsv/GSV_filtered/' + name1[i])\n",
    "    c1 = path1.is_file()\n",
    "    path2 = Path('/home/yelhe/data/gsv/GSV_filtered/' + name2[i])\n",
    "    c2 = path2.is_file()\n",
    "    path3 = Path('/home/yelhe/data/gsv/GSV_filtered/' + name3[i])\n",
    "    c3 = path3.is_file()\n",
    "    path4 = Path('/home/yelhe/data/gsv/GSV_filtered/' + name4[i])\n",
    "    c4 = path4.is_file()\n",
    "    if c1 is True:\n",
    "        im1 = cv2.imread(\"/home/yelhe/data/gsv/GSV_filtered/\" + name1[i])\n",
    "        im1 = cv2.cvtColor(im1, cv2.COLOR_BGR2RGB)\n",
    "        gsv_image1.append(im1)\n",
    "        nf1.append(name1[i])\n",
    "    if c2 is True:\n",
    "        im2 = cv2.imread(\"/home/yelhe/data/gsv/GSV_filtered/\" + name2[i])\n",
    "        im2 = cv2.cvtColor(im2, cv2.COLOR_BGR2RGB)\n",
    "        gsv_image2.append(im2)\n",
    "        nf2.append(name2[i])\n",
    "    if c3 is True:\n",
    "        im3 = cv2.imread(\"/home/yelhe/data/gsv/GSV_filtered/\" + name3[i])\n",
    "        im3 = cv2.cvtColor(im3, cv2.COLOR_BGR2RGB)\n",
    "        gsv_image3.append(im3)\n",
    "        nf3.append(name3[i])\n",
    "    if c4 is True:\n",
    "        im4 = cv2.imread(\"/home/yelhe/data/gsv/GSV_filtered/\" + name4[i])\n",
    "        im4 = cv2.cvtColor(im4, cv2.COLOR_BGR2RGB)\n",
    "        gsv_image4.append(im4)\n",
    "        nf4.append(name4[i])"
   ]
  },
  {
   "cell_type": "code",
   "execution_count": 10,
   "id": "1ad802e3-789d-4da1-ac23-efe50521b661",
   "metadata": {
    "execution": {
     "iopub.execute_input": "2024-01-21T17:35:00.644815Z",
     "iopub.status.busy": "2024-01-21T17:35:00.644607Z",
     "iopub.status.idle": "2024-01-21T17:35:00.649120Z",
     "shell.execute_reply": "2024-01-21T17:35:00.648422Z",
     "shell.execute_reply.started": "2024-01-21T17:35:00.644797Z"
    }
   },
   "outputs": [
    {
     "name": "stdout",
     "output_type": "stream",
     "text": [
      "295 295 295 295\n"
     ]
    }
   ],
   "source": [
    "print(len(gsv_image1),len(gsv_image2),len(gsv_image3),len(gsv_image4))"
   ]
  },
  {
   "cell_type": "code",
   "execution_count": 11,
   "id": "fc9e91cf-e536-4f6f-8fa0-27fbdf520ce1",
   "metadata": {
    "execution": {
     "iopub.execute_input": "2024-01-21T17:35:00.651100Z",
     "iopub.status.busy": "2024-01-21T17:35:00.650860Z",
     "iopub.status.idle": "2024-01-21T17:35:00.657431Z",
     "shell.execute_reply": "2024-01-21T17:35:00.656970Z",
     "shell.execute_reply.started": "2024-01-21T17:35:00.651081Z"
    }
   },
   "outputs": [],
   "source": [
    "n1 = [s.replace('.jpg', '') for s in nf1]\n",
    "n2 = [s.replace('.jpg', '') for s in nf2]\n",
    "n3 = [s.replace('.jpg', '') for s in nf3]\n",
    "n4 = [s.replace('.jpg', '') for s in nf4]"
   ]
  },
  {
   "cell_type": "markdown",
   "id": "eab35f89-626c-4c33-9b95-cc94508eca09",
   "metadata": {},
   "source": [
    "### Functions preparation"
   ]
  },
  {
   "cell_type": "code",
   "execution_count": 12,
   "id": "ff5e0fb5-7126-4d29-a633-d7497e6f1313",
   "metadata": {
    "execution": {
     "iopub.execute_input": "2024-01-21T17:35:00.658993Z",
     "iopub.status.busy": "2024-01-21T17:35:00.658814Z",
     "iopub.status.idle": "2024-01-21T17:35:00.665369Z",
     "shell.execute_reply": "2024-01-21T17:35:00.664919Z",
     "shell.execute_reply.started": "2024-01-21T17:35:00.658973Z"
    }
   },
   "outputs": [],
   "source": [
    "def convert_mask(masks):\n",
    "    mb01 = []\n",
    "    mb02 = []\n",
    "    mb = []\n",
    "    n = len(masks)\n",
    "    for i in range(0, n):\n",
    "        mb01.append(masks[i]['segmentation'])\n",
    "    for i in range(0, n):\n",
    "        mb02.append(mb01[i]*1)\n",
    "    for i in range(0, n):\n",
    "        mb.append(mb02[i].astype('uint8'))\n",
    "    return mb"
   ]
  },
  {
   "cell_type": "code",
   "execution_count": 13,
   "id": "46e8711b-5b79-46d7-b670-1b047ea746fd",
   "metadata": {
    "execution": {
     "iopub.execute_input": "2024-01-21T17:35:00.666532Z",
     "iopub.status.busy": "2024-01-21T17:35:00.666142Z",
     "iopub.status.idle": "2024-01-21T17:35:00.672850Z",
     "shell.execute_reply": "2024-01-21T17:35:00.672321Z",
     "shell.execute_reply.started": "2024-01-21T17:35:00.666511Z"
    }
   },
   "outputs": [],
   "source": [
    "def output_mask(im):\n",
    "    im1 = cv2.cvtColor(im, cv2.COLOR_BGR2RGB)\n",
    "    mask_r = mask_generator.generate(im1)\n",
    "    mask_c = convert_mask(mask_r)\n",
    "    return mask_c"
   ]
  },
  {
   "cell_type": "code",
   "execution_count": 14,
   "id": "960b5c85-49dd-4a05-a573-03e2d8784445",
   "metadata": {
    "execution": {
     "iopub.execute_input": "2024-01-21T17:35:00.673625Z",
     "iopub.status.busy": "2024-01-21T17:35:00.673432Z",
     "iopub.status.idle": "2024-01-21T17:35:00.680599Z",
     "shell.execute_reply": "2024-01-21T17:35:00.680075Z",
     "shell.execute_reply.started": "2024-01-21T17:35:00.673610Z"
    }
   },
   "outputs": [],
   "source": [
    "# Updated Function\n",
    "# Function to find and plot filtered contours (find-filter-plot-contour)\n",
    "# Run for each mask of each image\n",
    "def ffpcontour_noplot(image, mask, i):\n",
    "    assert image is not None, \"image file could not be read, check with os.path.exists()\"\n",
    "    assert mask is not None, \"mask file could not be read, check with os.path.exists()\"\n",
    "    # imgray = cv2.cvtColor(image_masked, cv2.COLOR_BGR2GRAY)\n",
    "    # ret, thresh = cv2.threshold(imgray, 127, 255, 0)\n",
    "    ret, thresh = cv2.threshold((mask[i]*255), 127, 255, 0)\n",
    "    contours, hierarchy = cv2.findContours(thresh, cv2.RETR_TREE, cv2.CHAIN_APPROX_SIMPLE)\n",
    "    ll = [] # length list\n",
    "    for i in range(0, len(contours)):\n",
    "          ll.append(len(contours[i]))\n",
    "    maxl = max(ll)\n",
    "    maxindex = ll.index(maxl)\n",
    "    if (len(contours) == 1) and (maxl >= 6):\n",
    "        contour_f = contours\n",
    "    elif (maxl>=80) :\n",
    "        contour_f = []\n",
    "        for i in range(0, len(contours)):\n",
    "        # print(i, \"len\", len(contours[i]))\n",
    "            if (len(contours[i]) >= 80):\n",
    "                contour_f.append(contours[i])\n",
    "            else:\n",
    "                contour_f = contour_f\n",
    "    elif (maxl >= 6):\n",
    "        contour_f = []\n",
    "        contour_f.append(contours[maxindex])\n",
    "    else: \n",
    "        contour_f = []\n",
    "    # print(\"filtered\", \"len\", len(contour_f), contour_f) \n",
    "    # print(\"raw\",len(contours))\n",
    "    # print(\"filtered\", len(contour_f))\n",
    "    return contour_f"
   ]
  },
  {
   "cell_type": "code",
   "execution_count": 15,
   "id": "3c6810e7-adb6-4296-8e42-a10cc16fb6b7",
   "metadata": {
    "execution": {
     "iopub.execute_input": "2024-01-21T17:35:00.681532Z",
     "iopub.status.busy": "2024-01-21T17:35:00.681339Z",
     "iopub.status.idle": "2024-01-21T17:35:00.690475Z",
     "shell.execute_reply": "2024-01-21T17:35:00.689928Z",
     "shell.execute_reply.started": "2024-01-21T17:35:00.681514Z"
    }
   },
   "outputs": [],
   "source": [
    "# Contour geometric attributes result\n",
    "# For each contour\n",
    "def cgr(contour):\n",
    "    assert contour is not None, \"image file could not be read, check with os.path.exists()\"\n",
    "    c = contour\n",
    "    isconvex = cv2.isContourConvex(c) # Checking convexity\n",
    "    (x,y), (w,h), ar = cv2.minAreaRect(c) # Rotated rectangle with minimum area\n",
    "    M = cv2.moments(c) # Moments\n",
    "    area = cv2.contourArea(c) # Area \n",
    "    if (M['m00'] != 0):\n",
    "        cx = int(M['m10']/M['m00']) # Centroid\n",
    "        cy = int(M['m01']/M['m00'])\n",
    "    else:\n",
    "        cx = x\n",
    "        cy = y\n",
    "    xs,ys,ws,hs = cv2.boundingRect(c) # Straight bounding rectangle\n",
    "    aspect_ratio_wh_s = float(ws)/hs # Aspect ratio\n",
    "    extent_s = float(area)/(ws*hs) # Extent\n",
    "    hull = cv2.convexHull(c) # Solidity\n",
    "    hull_area = cv2.contourArea(hull)\n",
    "    if (hull_area != 0):\n",
    "        solidity = float(area)/hull_area\n",
    "    else:\n",
    "        solidity = 0\n",
    "    aspect_ratio_wh = float(w)/h  # Aspect ratio\n",
    "    extent = float(area)/(w*h) # Extent\n",
    "    (xe,ye),(MA,ma),ae = cv2.fitEllipse(c)\n",
    "    ed = np.sqrt(4*area/np.pi) # Equivalent Diameter\n",
    "    ratio_ell = float(ma)/MA\n",
    "    perimeter = cv2.arcLength(c, True) # Arclength\n",
    "    p_centroid = np.array([float(cx), float(cy)])\n",
    "    p_masscenter = np.array([float(x), float(y)])\n",
    "    is_cen_inside = cv2.pointPolygonTest(c, p_centroid, False) # Checking if centroid is inside\n",
    "    is_mce_inside = cv2.pointPolygonTest(c, p_masscenter, False) # Checking if mass center is inside    \n",
    "    return {\n",
    "        'isconvex': isconvex,\n",
    "        'area': area,\n",
    "        'aspect_ratio_wh_s': aspect_ratio_wh_s,\n",
    "        'extent_s': extent_s,\n",
    "        'solidity': solidity,\n",
    "        'aspect_ratio_wh': aspect_ratio_wh,\n",
    "        'extent': extent,\n",
    "        'ed': ed,\n",
    "        'ratio_ell': ratio_ell,\n",
    "        'perimeter': perimeter,\n",
    "        'is_cen_inside': is_cen_inside,\n",
    "        'is_mce_inside': is_mce_inside\n",
    "    }\n",
    "          "
   ]
  },
  {
   "cell_type": "code",
   "execution_count": 16,
   "id": "b1d3d798-c832-41a5-828d-1976fc0d0f38",
   "metadata": {
    "execution": {
     "iopub.execute_input": "2024-01-21T17:35:00.691502Z",
     "iopub.status.busy": "2024-01-21T17:35:00.691252Z",
     "iopub.status.idle": "2024-01-21T17:35:00.699097Z",
     "shell.execute_reply": "2024-01-21T17:35:00.698554Z",
     "shell.execute_reply.started": "2024-01-21T17:35:00.691484Z"
    }
   },
   "outputs": [],
   "source": [
    "def csga(contours):\n",
    "    assert contours is not None, \"image file could not be read, check with os.path.exists()\"\n",
    "    if len(contours) == 1:\n",
    "        ga = cgr(contours[0])\n",
    "    else:\n",
    "        gal = []\n",
    "        for i in range(0, (len(contours)-1)):\n",
    "            gal.append(cgr(contours[i]))\n",
    "        isc = []\n",
    "        al = []\n",
    "        asps = []\n",
    "        exts = []\n",
    "        sol = []\n",
    "        asp = []\n",
    "        ext = []\n",
    "        ed = []\n",
    "        rate = []\n",
    "        per = []\n",
    "        isc = []\n",
    "        ism = []\n",
    "        for i in range(0, len(gal)):\n",
    "            isc.append(gal[0]['isconvex'])\n",
    "            al.append(gal[0]['area'])\n",
    "            asps.append(gal[0]['aspect_ratio_wh_s'])\n",
    "            exts.append(gal[0]['extent_s'])\n",
    "            sol.append(gal[0]['solidity'])\n",
    "            asp.append(gal[0]['aspect_ratio_wh'])\n",
    "            ext.append(gal[0]['extent'])\n",
    "            ed.append(gal[0]['ed'])\n",
    "            rate.append(gal[0]['ratio_ell'])\n",
    "            per.append(gal[0]['perimeter'])\n",
    "            isc.append(gal[0]['is_cen_inside'])\n",
    "            ism.append(gal[0]['is_mce_inside'])\n",
    "        isconvex = np.all(isc)\n",
    "        area = np.mean(al, axis = 0)\n",
    "        aspect_ratio_wh_s = np.mean(asps, axis = 0)\n",
    "        extent_s = np.mean(exts, axis = 0)\n",
    "        solidity = np.mean(sol, axis = 0)\n",
    "        aspect_ratio_wh = np.mean(asp, axis = 0)\n",
    "        extent = np.mean(ext, axis = 0)\n",
    "        ed = np.mean(ed, axis = 0)\n",
    "        ratio_ell = np.mean(rate, axis = 0)\n",
    "        perimeter = np.mean(per, axis = 0)\n",
    "        is_cen_inside = np.mean(isc, axis = 0)\n",
    "        is_mce_inside = np.mean(ism, axis = 0)\n",
    "        ga = {\n",
    "            'isconvex': isconvex,\n",
    "            'area': area,\n",
    "            'aspect_ratio_wh_s': aspect_ratio_wh_s,\n",
    "            'extent_s': extent_s,\n",
    "            'solidity': solidity,\n",
    "            'aspect_ratio_wh': aspect_ratio_wh,\n",
    "            'extent': extent,\n",
    "            'ed': ed,\n",
    "            'ratio_ell': ratio_ell,\n",
    "            'perimeter': perimeter,\n",
    "            'is_cen_inside': is_cen_inside,\n",
    "            'is_mce_inside': is_mce_inside\n",
    "        }\n",
    "    return ga\n"
   ]
  },
  {
   "cell_type": "code",
   "execution_count": 17,
   "id": "016c88ac-7b2d-42a9-bdca-8c294fa18197",
   "metadata": {
    "execution": {
     "iopub.execute_input": "2024-01-21T17:35:00.700118Z",
     "iopub.status.busy": "2024-01-21T17:35:00.699869Z",
     "iopub.status.idle": "2024-01-21T17:35:00.714125Z",
     "shell.execute_reply": "2024-01-21T17:35:00.713619Z",
     "shell.execute_reply.started": "2024-01-21T17:35:00.700099Z"
    }
   },
   "outputs": [],
   "source": [
    "# Updated - Remove the empty contour\n",
    "# mask file mf\n",
    "def feature_summary(image, mf):\n",
    "    # Generate a data frame for masks and attributes\n",
    "    df = pd.DataFrame()\n",
    "    df['mask'] = range(1, (len(mf)+1))\n",
    "    df = df.assign(gmedian = None, rmedian = None, bmedian = None,\n",
    "                   gmean = None, rmean = None, bmean = None,\n",
    "                   gstd = None, rstd = None, bstd = None,\n",
    "                   isconvex = None, area = None, aspect_ratio_wh_s = None,\n",
    "                   extent_s = None, solidity = None, aspect_ratio_wh = None,\n",
    "                   extent = None, ed = None, ratio_ell = None,\n",
    "                   perimeter = None, is_cen_inside = None, is_mce_inside = None)\n",
    "    mm = [] # masked image\n",
    "    for i in range(0, len(mf)):\n",
    "        mm.append(cv2.bitwise_and(image, image, mask = mf[i]))\n",
    "    mib = []\n",
    "    mig = []\n",
    "    mir = []\n",
    "    for i in range(0, len(mm)):\n",
    "        mib.append((mm[i][:,:,0])[np.where((mm[i][:,:,0]) != 0)])\n",
    "        mig.append((mm[i][:,:,1])[np.where((mm[i][:,:,1]) != 0)])\n",
    "        mir.append((mm[i][:,:,2])[np.where((mm[i][:,:,2]) != 0)])\n",
    "    # with warnings.catch_warnings():\n",
    "    #     warnings.simplefilter(\"ignore\", category=RuntimeWarning)\n",
    "    #     foo = np.nanmean(x, axis=1)\n",
    "    for i in range(0, len(mm)):\n",
    "        df.at[i, 'bmean'] = np.mean(mib[i], axis = 0)\n",
    "        df.at[i,'gmean'] = np.mean(mig[i], axis = 0)\n",
    "        df.at[i,'rmean'] = np.mean(mir[i], axis = 0)\n",
    "        df.at[i,'bmedian'] = np.median(mib[i], axis = 0)\n",
    "        df.at[i,'gmedian'] = np.median(mig[i], axis = 0)\n",
    "        df.at[i,'rmedian'] = np.median(mir[i], axis = 0)\n",
    "        df.at[i,'bstd'] = np.std(mib[i], axis = 0)\n",
    "        df.at[i,'gstd'] = np.std(mig[i], axis = 0)\n",
    "        df.at[i,'rstd'] = np.std(mir[i], axis = 0)\n",
    "    for i in range(0, len(mf)):\n",
    "        con = ffpcontour_noplot(image, mf, i)\n",
    "        if len(con) != 0 :\n",
    "            df.at[i, 'isconvex'] = csga(con)['isconvex']\n",
    "            df.at[i, 'area'] = csga(con)['area']\n",
    "            df.at[i, 'aspect_ratio_wh_s'] = csga(con)['aspect_ratio_wh_s']\n",
    "            df.at[i, 'extent_s'] = csga(con)['extent_s']\n",
    "            df.at[i, 'solidity'] = csga(con)['solidity']\n",
    "            df.at[i, 'aspect_ratio_wh'] = csga(con)['aspect_ratio_wh']\n",
    "            df.at[i, 'extent'] = csga(con)['extent']\n",
    "            df.at[i, 'ed'] = csga(con)['ed']\n",
    "            df.at[i, 'ratio_ell'] = csga(con)['ratio_ell']\n",
    "            df.at[i, 'perimeter'] = csga(con)['perimeter']\n",
    "            df.at[i, 'is_cen_inside'] = csga(con)['is_cen_inside']\n",
    "            df.at[i, 'is_mce_inside'] = csga(con)['is_mce_inside']\n",
    "        else :\n",
    "            df.at[i, 'isconvex'] = np.nan\n",
    "            df.at[i, 'area'] = np.nan\n",
    "            df.at[i, 'aspect_ratio_wh_s'] = np.nan\n",
    "            df.at[i, 'extent_s'] = np.nan\n",
    "            df.at[i, 'solidity'] = np.nan\n",
    "            df.at[i, 'aspect_ratio_wh'] = np.nan\n",
    "            df.at[i, 'extent'] = np.nan\n",
    "            df.at[i, 'ed'] = np.nan\n",
    "            df.at[i, 'ratio_ell'] = np.nan\n",
    "            df.at[i, 'perimeter'] = np.nan\n",
    "            df.at[i, 'is_cen_inside'] = np.nan\n",
    "            df.at[i, 'is_mce_inside'] = np.nan\n",
    "    # Remove the rows with na\n",
    "    df = df.dropna()\n",
    "    return df"
   ]
  },
  {
   "cell_type": "code",
   "execution_count": 18,
   "id": "da008df9-c626-4f6f-9b40-6d909694ce4e",
   "metadata": {
    "execution": {
     "iopub.execute_input": "2024-01-21T17:35:00.716001Z",
     "iopub.status.busy": "2024-01-21T17:35:00.715770Z",
     "iopub.status.idle": "2024-01-21T17:35:00.722113Z",
     "shell.execute_reply": "2024-01-21T17:35:00.721568Z",
     "shell.execute_reply.started": "2024-01-21T17:35:00.715982Z"
    }
   },
   "outputs": [],
   "source": [
    "def filter_overlap(mask):\n",
    "    mb_new = mask\n",
    "    mb_new1 = mask\n",
    "    for i in range(0, (len(mb_new)-1)):\n",
    "        for j in range((i+1), len(mb_new)):\n",
    "            a = cv2.bitwise_and(mb_new[i], mb_new[j])\n",
    "            al = len(np.unique(a))\n",
    "            # print(i, j, \"len\", al)\n",
    "            if al != 1:\n",
    "                s1 = cv2.countNonZero(mb_new[i])\n",
    "                s2 = cv2.countNonZero(mb_new[j])\n",
    "                b = cv2.bitwise_or(mb_new[i], mb_new[j])\n",
    "                # print(i,j, \"have intersection\")\n",
    "                s3 = cv2.countNonZero(b)\n",
    "                if s1 >= s2 :\n",
    "                    # print(i,\">\", j)\n",
    "                    if s1 == s3:\n",
    "                        # print(j, \"subset of\", i)\n",
    "                        mb_new1[j] = 0\n",
    "                else:\n",
    "                    # print(i,\"<\", j)\n",
    "                    if s2 == s3:\n",
    "                        # print(i, \"subset of\", j)\n",
    "                        mb_new1[i] = 0\n",
    "    emptyl = []\n",
    "    for i in range(0, len(mb_new)):\n",
    "        if np.all(mb_new1[i] == 0):\n",
    "            emptyl.append(i)           \n",
    "    if len(emptyl) != 0 :\n",
    "        mb_new1 = np.delete(mb_new1, emptyl, 0)\n",
    "    else:\n",
    "        mb_new1 = mb_new1\n",
    "    # print(len(mask), len(mb_new1))\n",
    "    return mb_new1\n"
   ]
  },
  {
   "cell_type": "markdown",
   "id": "f0a5e164-24d3-4616-a426-555e3505ed92",
   "metadata": {},
   "source": [
    "### Run workflow on generated gsv mask files"
   ]
  },
  {
   "cell_type": "code",
   "execution_count": 991,
   "id": "d4a95343-8da6-4960-974e-178c0baf08a6",
   "metadata": {
    "execution": {
     "iopub.execute_input": "2024-01-22T00:04:15.407757Z",
     "iopub.status.busy": "2024-01-22T00:04:15.407479Z",
     "iopub.status.idle": "2024-01-22T00:04:46.820449Z",
     "shell.execute_reply": "2024-01-22T00:04:46.819864Z",
     "shell.execute_reply.started": "2024-01-22T00:04:15.407739Z"
    }
   },
   "outputs": [
    {
     "name": "stdout",
     "output_type": "stream",
     "text": [
      "295 295 295 295\n"
     ]
    }
   ],
   "source": [
    "mask1 = []\n",
    "mask2 = []\n",
    "mask3 = []\n",
    "mask4 = []\n",
    "# Load all generated mask files\n",
    "\n",
    "for i in range(0,295):\n",
    "    m1 = np.load('/home/yelhe/data/gsv_output/' + n1[i] + '.npy', allow_pickle=True)\n",
    "    mask1.append(m1)\n",
    "    m2 = np.load('/home/yelhe/data/gsv_output/' + n2[i] + '.npy', allow_pickle=True)\n",
    "    mask2.append(m2)\n",
    "    m3 = np.load('/home/yelhe/data/gsv_output/' + n3[i] + '.npy', allow_pickle=True)\n",
    "    mask3.append(m3)\n",
    "    m4 = np.load('/home/yelhe/data/gsv_output/' + n4[i] + '.npy', allow_pickle=True)\n",
    "    mask4.append(m4)\n",
    "\n",
    "\n",
    "print(len(mask1), len(mask2), len(mask3), len(mask4))"
   ]
  },
  {
   "cell_type": "code",
   "execution_count": 992,
   "id": "1708e7c6-3685-4196-9d94-d9703a6f76c0",
   "metadata": {
    "execution": {
     "iopub.execute_input": "2024-01-22T00:06:46.385848Z",
     "iopub.status.busy": "2024-01-22T00:06:46.385578Z",
     "iopub.status.idle": "2024-01-22T00:07:07.515860Z",
     "shell.execute_reply": "2024-01-22T00:07:07.515165Z",
     "shell.execute_reply.started": "2024-01-22T00:06:46.385831Z"
    }
   },
   "outputs": [
    {
     "name": "stdout",
     "output_type": "stream",
     "text": [
      "295 295 295 295\n"
     ]
    }
   ],
   "source": [
    "m1f = []\n",
    "m2f = []\n",
    "m3f = []\n",
    "m4f = []\n",
    "\n",
    "# Load all generated filtered mask files\n",
    "for i in range(0,295):\n",
    "    m1 = np.load('/home/yelhe/data/gsv_output_filtered_new/' + n1[i] + 'f.npy', allow_pickle=True)\n",
    "    m1f.append(m1)\n",
    "    m2 = np.load('/home/yelhe/data/gsv_output_filtered_new/' + n2[i] + 'f.npy', allow_pickle=True)\n",
    "    m2f.append(m2)\n",
    "    m3 = np.load('/home/yelhe/data/gsv_output_filtered_new/' + n3[i] + 'f.npy', allow_pickle=True)\n",
    "    m3f.append(m3)\n",
    "    m4 = np.load('/home/yelhe/data/gsv_output_filtered_new/' + n4[i] + 'f.npy', allow_pickle=True)\n",
    "    m4f.append(m4)\n",
    "\n",
    "print(len(m1f), len(m2f), len(m3f), len(m4f))"
   ]
  },
  {
   "cell_type": "code",
   "execution_count": 57,
   "id": "620d6c3a-1955-4ffb-84ca-b4494a320204",
   "metadata": {
    "execution": {
     "iopub.execute_input": "2024-01-19T13:58:09.933035Z",
     "iopub.status.busy": "2024-01-19T13:58:09.932711Z",
     "iopub.status.idle": "2024-01-19T13:58:09.936443Z",
     "shell.execute_reply": "2024-01-19T13:58:09.935818Z",
     "shell.execute_reply.started": "2024-01-19T13:58:09.933018Z"
    }
   },
   "outputs": [
    {
     "name": "stdout",
     "output_type": "stream",
     "text": [
      "[283, 193, 38, 224, 27, 66, 174, 77, 160, 182]\n"
     ]
    }
   ],
   "source": [
    "# ra = list(range(0, 295))\n",
    "# # Random choose accidents\n",
    "# il = random.sample(ra, 10)\n",
    "# print(il)"
   ]
  },
  {
   "cell_type": "code",
   "execution_count": 19,
   "id": "af192976-193d-4bb2-bfe6-357d1d5872f9",
   "metadata": {
    "execution": {
     "iopub.execute_input": "2024-01-21T17:35:54.427241Z",
     "iopub.status.busy": "2024-01-21T17:35:54.426945Z",
     "iopub.status.idle": "2024-01-21T17:35:54.430427Z",
     "shell.execute_reply": "2024-01-21T17:35:54.429776Z",
     "shell.execute_reply.started": "2024-01-21T17:35:54.427222Z"
    }
   },
   "outputs": [],
   "source": [
    "il = [283, 193, 38, 224, 27, 66, 174, 77, 160, 182]"
   ]
  },
  {
   "cell_type": "code",
   "execution_count": 20,
   "id": "deaefa1a-4e65-4693-90fb-e70774eba903",
   "metadata": {
    "execution": {
     "iopub.execute_input": "2024-01-21T17:36:02.785075Z",
     "iopub.status.busy": "2024-01-21T17:36:02.784783Z",
     "iopub.status.idle": "2024-01-21T17:36:02.788220Z",
     "shell.execute_reply": "2024-01-21T17:36:02.787606Z",
     "shell.execute_reply.started": "2024-01-21T17:36:02.785057Z"
    }
   },
   "outputs": [
    {
     "name": "stdout",
     "output_type": "stream",
     "text": [
      "[283, 193, 38, 224, 27, 66, 174, 77, 160, 182]\n"
     ]
    }
   ],
   "source": [
    "print(il)"
   ]
  },
  {
   "cell_type": "code",
   "execution_count": 21,
   "id": "74598e82-6d7e-491e-bd72-e6445587d695",
   "metadata": {
    "execution": {
     "iopub.execute_input": "2024-01-21T17:36:17.434412Z",
     "iopub.status.busy": "2024-01-21T17:36:17.433882Z",
     "iopub.status.idle": "2024-01-21T17:36:17.441726Z",
     "shell.execute_reply": "2024-01-21T17:36:17.441122Z",
     "shell.execute_reply.started": "2024-01-21T17:36:17.434387Z"
    }
   },
   "outputs": [],
   "source": [
    "nlist = pd.DataFrame()"
   ]
  },
  {
   "cell_type": "code",
   "execution_count": 22,
   "id": "b6ebc8c8-0f46-4dbf-92fd-c09bd1c52739",
   "metadata": {
    "execution": {
     "iopub.execute_input": "2024-01-21T17:36:17.979813Z",
     "iopub.status.busy": "2024-01-21T17:36:17.979499Z",
     "iopub.status.idle": "2024-01-21T17:36:17.984811Z",
     "shell.execute_reply": "2024-01-21T17:36:17.984127Z",
     "shell.execute_reply.started": "2024-01-21T17:36:17.979790Z"
    }
   },
   "outputs": [],
   "source": [
    "nlist['n1'] = n1"
   ]
  },
  {
   "cell_type": "code",
   "execution_count": 23,
   "id": "420143c9-532b-4ee4-8aa9-6daa05207448",
   "metadata": {
    "execution": {
     "iopub.execute_input": "2024-01-21T17:36:18.447351Z",
     "iopub.status.busy": "2024-01-21T17:36:18.447079Z",
     "iopub.status.idle": "2024-01-21T17:36:18.451614Z",
     "shell.execute_reply": "2024-01-21T17:36:18.451004Z",
     "shell.execute_reply.started": "2024-01-21T17:36:18.447335Z"
    }
   },
   "outputs": [],
   "source": [
    "nlist['n'] = nlist.n1.str[-15:-1]"
   ]
  },
  {
   "cell_type": "code",
   "execution_count": 24,
   "id": "8e3c4866-a3dd-4d87-b209-d335d9229ac2",
   "metadata": {
    "execution": {
     "iopub.execute_input": "2024-01-21T17:36:18.966333Z",
     "iopub.status.busy": "2024-01-21T17:36:18.966047Z",
     "iopub.status.idle": "2024-01-21T17:36:18.970437Z",
     "shell.execute_reply": "2024-01-21T17:36:18.969752Z",
     "shell.execute_reply.started": "2024-01-21T17:36:18.966314Z"
    }
   },
   "outputs": [],
   "source": [
    "nlist = nlist.drop(['n1'], axis=1)"
   ]
  },
  {
   "cell_type": "code",
   "execution_count": 25,
   "id": "de5e0821-66c0-4cc5-8def-c690b14456c4",
   "metadata": {
    "execution": {
     "iopub.execute_input": "2024-01-21T17:36:19.409693Z",
     "iopub.status.busy": "2024-01-21T17:36:19.409390Z",
     "iopub.status.idle": "2024-01-21T17:36:19.413204Z",
     "shell.execute_reply": "2024-01-21T17:36:19.412531Z",
     "shell.execute_reply.started": "2024-01-21T17:36:19.409671Z"
    }
   },
   "outputs": [],
   "source": [
    "nlist_s = nlist.iloc[il]"
   ]
  },
  {
   "cell_type": "code",
   "execution_count": 26,
   "id": "967b2739-e929-4693-be1f-8ef7623556f6",
   "metadata": {
    "execution": {
     "iopub.execute_input": "2024-01-21T17:36:20.701066Z",
     "iopub.status.busy": "2024-01-21T17:36:20.700771Z",
     "iopub.status.idle": "2024-01-21T17:36:20.717417Z",
     "shell.execute_reply": "2024-01-21T17:36:20.716772Z",
     "shell.execute_reply.started": "2024-01-21T17:36:20.701048Z"
    }
   },
   "outputs": [
    {
     "data": {
      "text/html": [
       "<div>\n",
       "<style scoped>\n",
       "    .dataframe tbody tr th:only-of-type {\n",
       "        vertical-align: middle;\n",
       "    }\n",
       "\n",
       "    .dataframe tbody tr th {\n",
       "        vertical-align: top;\n",
       "    }\n",
       "\n",
       "    .dataframe thead th {\n",
       "        text-align: right;\n",
       "    }\n",
       "</style>\n",
       "<table border=\"1\" class=\"dataframe\">\n",
       "  <thead>\n",
       "    <tr style=\"text-align: right;\">\n",
       "      <th></th>\n",
       "      <th>n</th>\n",
       "    </tr>\n",
       "  </thead>\n",
       "  <tbody>\n",
       "    <tr>\n",
       "      <th>283</th>\n",
       "      <td>99900046541031</td>\n",
       "    </tr>\n",
       "    <tr>\n",
       "      <th>193</th>\n",
       "      <td>99900058252952</td>\n",
       "    </tr>\n",
       "    <tr>\n",
       "      <th>38</th>\n",
       "      <td>99900050934899</td>\n",
       "    </tr>\n",
       "    <tr>\n",
       "      <th>224</th>\n",
       "      <td>99900052420710</td>\n",
       "    </tr>\n",
       "    <tr>\n",
       "      <th>27</th>\n",
       "      <td>99900046484531</td>\n",
       "    </tr>\n",
       "    <tr>\n",
       "      <th>66</th>\n",
       "      <td>99900056647155</td>\n",
       "    </tr>\n",
       "    <tr>\n",
       "      <th>174</th>\n",
       "      <td>99900048160516</td>\n",
       "    </tr>\n",
       "    <tr>\n",
       "      <th>77</th>\n",
       "      <td>99900055778422</td>\n",
       "    </tr>\n",
       "    <tr>\n",
       "      <th>160</th>\n",
       "      <td>99900051076121</td>\n",
       "    </tr>\n",
       "    <tr>\n",
       "      <th>182</th>\n",
       "      <td>99900062245276</td>\n",
       "    </tr>\n",
       "  </tbody>\n",
       "</table>\n",
       "</div>"
      ],
      "text/plain": [
       "                  n\n",
       "283  99900046541031\n",
       "193  99900058252952\n",
       "38   99900050934899\n",
       "224  99900052420710\n",
       "27   99900046484531\n",
       "66   99900056647155\n",
       "174  99900048160516\n",
       "77   99900055778422\n",
       "160  99900051076121\n",
       "182  99900062245276"
      ]
     },
     "execution_count": 26,
     "metadata": {},
     "output_type": "execute_result"
    }
   ],
   "source": [
    "nlist_s"
   ]
  },
  {
   "cell_type": "code",
   "execution_count": 27,
   "id": "09b0547c-5c89-4493-9afb-4a66878893a9",
   "metadata": {
    "execution": {
     "iopub.execute_input": "2024-01-21T17:36:26.440071Z",
     "iopub.status.busy": "2024-01-21T17:36:26.439783Z",
     "iopub.status.idle": "2024-01-21T17:36:26.444511Z",
     "shell.execute_reply": "2024-01-21T17:36:26.443942Z",
     "shell.execute_reply.started": "2024-01-21T17:36:26.440052Z"
    }
   },
   "outputs": [],
   "source": [
    "r1 = nlist_s.n.astype(str) + '1'\n",
    "r2 = nlist_s.n.astype(str) + '2'\n",
    "r3 = nlist_s.n.astype(str) + '3'\n",
    "r4 = nlist_s.n.astype(str) + '4'"
   ]
  },
  {
   "cell_type": "code",
   "execution_count": 28,
   "id": "c437a1e6-5022-497e-98db-38f1924f0f69",
   "metadata": {
    "execution": {
     "iopub.execute_input": "2024-01-21T17:36:27.001250Z",
     "iopub.status.busy": "2024-01-21T17:36:27.000966Z",
     "iopub.status.idle": "2024-01-21T17:36:27.004834Z",
     "shell.execute_reply": "2024-01-21T17:36:27.004128Z",
     "shell.execute_reply.started": "2024-01-21T17:36:27.001232Z"
    }
   },
   "outputs": [],
   "source": [
    "r1 = [str(element) for element in r1]\n",
    "r2 = [str(element) for element in r2]\n",
    "r3 = [str(element) for element in r3]\n",
    "r4 = [str(element) for element in r4]"
   ]
  },
  {
   "cell_type": "code",
   "execution_count": 29,
   "id": "b8a7f4dc-6dd9-409e-a8d2-f78913a6f5f3",
   "metadata": {
    "execution": {
     "iopub.execute_input": "2024-01-21T17:36:27.435007Z",
     "iopub.status.busy": "2024-01-21T17:36:27.434732Z",
     "iopub.status.idle": "2024-01-21T17:36:27.439032Z",
     "shell.execute_reply": "2024-01-21T17:36:27.438456Z",
     "shell.execute_reply.started": "2024-01-21T17:36:27.434990Z"
    }
   },
   "outputs": [
    {
     "data": {
      "text/plain": [
       "['999000465410311',\n",
       " '999000582529521',\n",
       " '999000509348991',\n",
       " '999000524207101',\n",
       " '999000464845311',\n",
       " '999000566471551',\n",
       " '999000481605161',\n",
       " '999000557784221',\n",
       " '999000510761211',\n",
       " '999000622452761']"
      ]
     },
     "execution_count": 29,
     "metadata": {},
     "output_type": "execute_result"
    }
   ],
   "source": [
    "r1"
   ]
  },
  {
   "cell_type": "code",
   "execution_count": 31,
   "id": "daa11552-05db-4c9a-a605-7a56a57bb654",
   "metadata": {
    "execution": {
     "iopub.execute_input": "2024-01-21T17:40:32.709190Z",
     "iopub.status.busy": "2024-01-21T17:40:32.708909Z",
     "iopub.status.idle": "2024-01-21T17:40:37.202460Z",
     "shell.execute_reply": "2024-01-21T17:40:37.201545Z",
     "shell.execute_reply.started": "2024-01-21T17:40:32.709170Z"
    }
   },
   "outputs": [
    {
     "name": "stdout",
     "output_type": "stream",
     "text": [
      "10 10 10 10\n"
     ]
    }
   ],
   "source": [
    "mr1 = []\n",
    "mr2 = []\n",
    "mr3 = []\n",
    "mr4 = []\n",
    "for i in range(0,10):\n",
    "    m1 = np.load('/home/yelhe/script/mt/random/' + r1[i] + '.npy', allow_pickle=True)\n",
    "    mr1.append(m1)\n",
    "    m2 = np.load('/home/yelhe/script/mt/random/' + r2[i] + '.npy', allow_pickle=True)\n",
    "    mr2.append(m2)\n",
    "    m3 = np.load('/home/yelhe/script/mt/random/' + r3[i] + '.npy', allow_pickle=True)\n",
    "    mr3.append(m3)\n",
    "    m4 = np.load('/home/yelhe/script/mt/random/' + r4[i] + '.npy', allow_pickle=True)\n",
    "    mr4.append(m4)\n",
    "\n",
    "print(len(mr1), len(mr2), len(mr3), len(mr4))"
   ]
  },
  {
   "cell_type": "code",
   "execution_count": 30,
   "id": "771462f7-3b56-4836-91f7-332d9de53775",
   "metadata": {
    "execution": {
     "iopub.execute_input": "2024-01-21T17:39:25.541158Z",
     "iopub.status.busy": "2024-01-21T17:39:25.540863Z",
     "iopub.status.idle": "2024-01-21T17:39:28.283189Z",
     "shell.execute_reply": "2024-01-21T17:39:28.282662Z",
     "shell.execute_reply.started": "2024-01-21T17:39:25.541138Z"
    }
   },
   "outputs": [
    {
     "name": "stdout",
     "output_type": "stream",
     "text": [
      "10 10 10 10\n"
     ]
    }
   ],
   "source": [
    "mr1f = []\n",
    "mr2f = []\n",
    "mr3f = []\n",
    "mr4f = []\n",
    "for i in range(0,10):\n",
    "    m1 = np.load('/home/yelhe/script/mt/random/' + r1[i] + 'f.npy', allow_pickle=True)\n",
    "    mr1f.append(m1)\n",
    "    m2 = np.load('/home/yelhe/script/mt/random/' + r2[i] + 'f.npy', allow_pickle=True)\n",
    "    mr2f.append(m2)\n",
    "    m3 = np.load('/home/yelhe/script/mt/random/' + r3[i] + 'f.npy', allow_pickle=True)\n",
    "    mr3f.append(m3)\n",
    "    m4 = np.load('/home/yelhe/script/mt/random/' + r4[i] + 'f.npy', allow_pickle=True)\n",
    "    mr4f.append(m4)\n",
    "\n",
    "print(len(mr1f), len(mr2f), len(mr3f), len(mr4f))"
   ]
  },
  {
   "cell_type": "code",
   "execution_count": 57,
   "id": "65b629ab-c2a3-435c-a8ed-2d5003637b09",
   "metadata": {
    "execution": {
     "iopub.execute_input": "2024-01-21T17:49:43.723500Z",
     "iopub.status.busy": "2024-01-21T17:49:43.723091Z",
     "iopub.status.idle": "2024-01-21T17:49:43.728401Z",
     "shell.execute_reply": "2024-01-21T17:49:43.727766Z",
     "shell.execute_reply.started": "2024-01-21T17:49:43.723475Z"
    }
   },
   "outputs": [
    {
     "name": "stdout",
     "output_type": "stream",
     "text": [
      "0 1 86 67\n",
      "0 2 77 46\n",
      "0 3 68 47\n",
      "0 4 55 41\n",
      "1 1 149 76\n",
      "1 2 117 51\n",
      "1 3 138 76\n",
      "1 4 167 90\n",
      "2 1 92 55\n",
      "2 2 113 73\n",
      "2 3 113 80\n",
      "2 4 77 37\n",
      "3 1 89 58\n",
      "3 2 121 44\n",
      "3 3 93 40\n",
      "3 4 56 47\n",
      "4 1 59 44\n",
      "4 2 57 45\n",
      "4 3 58 44\n",
      "4 4 72 52\n",
      "5 1 135 20\n",
      "5 2 108 43\n",
      "5 3 88 46\n",
      "5 4 93 51\n",
      "6 1 93 52\n",
      "6 2 124 88\n",
      "6 3 102 63\n",
      "6 4 107 40\n",
      "7 1 74 53\n",
      "7 2 49 41\n",
      "7 3 56 46\n",
      "7 4 72 57\n",
      "8 1 103 52\n",
      "8 2 57 29\n",
      "8 3 59 45\n",
      "8 4 80 39\n",
      "9 1 140 56\n",
      "9 2 116 62\n",
      "9 3 112 37\n",
      "9 4 120 43\n"
     ]
    }
   ],
   "source": [
    "for i in range(0,10):\n",
    "    print(i, '1', len(mr1[i]), len(mr1f[i]))\n",
    "    print(i, '2', len(mr2[i]), len(mr2f[i]))\n",
    "    print(i, '3', len(mr3[i]), len(mr3f[i]))\n",
    "    print(i, '4', len(mr4[i]), len(mr4f[i]))"
   ]
  },
  {
   "cell_type": "code",
   "execution_count": 993,
   "id": "1fc11a68-4d8a-4c1c-9f57-654b5c391753",
   "metadata": {
    "execution": {
     "iopub.execute_input": "2024-01-22T00:07:51.180075Z",
     "iopub.status.busy": "2024-01-22T00:07:51.179813Z",
     "iopub.status.idle": "2024-01-22T00:07:51.184442Z",
     "shell.execute_reply": "2024-01-22T00:07:51.183973Z",
     "shell.execute_reply.started": "2024-01-22T00:07:51.180057Z"
    }
   },
   "outputs": [
    {
     "name": "stdout",
     "output_type": "stream",
     "text": [
      "0 1 85 54\n",
      "0 2 81 57\n",
      "0 3 65 49\n",
      "0 4 53 39\n",
      "1 1 155 84\n",
      "1 2 123 53\n",
      "1 3 127 79\n",
      "1 4 177 106\n",
      "2 1 98 54\n",
      "2 2 118 75\n",
      "2 3 117 79\n",
      "2 4 78 40\n",
      "3 1 90 59\n",
      "3 2 122 38\n",
      "3 3 87 39\n",
      "3 4 55 51\n",
      "4 1 54 46\n",
      "4 2 55 43\n",
      "4 3 56 40\n",
      "4 4 72 54\n",
      "5 1 134 32\n",
      "5 2 104 50\n",
      "5 3 91 43\n",
      "5 4 99 54\n",
      "6 1 93 55\n",
      "6 2 130 79\n",
      "6 3 104 60\n",
      "6 4 112 39\n",
      "7 1 84 61\n",
      "7 2 48 41\n",
      "7 3 53 44\n",
      "7 4 76 59\n",
      "8 1 109 50\n",
      "8 2 61 31\n",
      "8 3 60 45\n",
      "8 4 79 37\n",
      "9 1 142 54\n",
      "9 2 121 61\n",
      "9 3 114 36\n",
      "9 4 120 40\n"
     ]
    }
   ],
   "source": [
    "for i in range(0,10):\n",
    "    a = il[i]\n",
    "    print(i, '1', len(mask1[a]), len(m1f[a]))\n",
    "    print(i, '2', len(mask2[a]), len(m2f[a]))\n",
    "    print(i, '3', len(mask3[a]), len(m3f[a]))\n",
    "    print(i, '4', len(mask4[a]), len(m4f[a]))"
   ]
  },
  {
   "cell_type": "code",
   "execution_count": 34,
   "id": "c2d0dc8c-bf1d-467f-9fe5-e6111d43a08d",
   "metadata": {
    "execution": {
     "iopub.execute_input": "2024-01-21T17:42:40.902080Z",
     "iopub.status.busy": "2024-01-21T17:42:40.901793Z",
     "iopub.status.idle": "2024-01-21T17:42:56.345984Z",
     "shell.execute_reply": "2024-01-21T17:42:56.345112Z",
     "shell.execute_reply.started": "2024-01-21T17:42:40.902060Z"
    }
   },
   "outputs": [
    {
     "name": "stdout",
     "output_type": "stream",
     "text": [
      "0 283\n",
      "1 193\n",
      "2 38\n",
      "3 224\n",
      "4 27\n",
      "5 66\n",
      "6 174\n",
      "7 77\n",
      "8 160\n",
      "9 182\n"
     ]
    }
   ],
   "source": [
    "df1r = []\n",
    "df2r = []\n",
    "df3r = []\n",
    "df4r = []\n",
    "for i in range(0, 10):\n",
    "    a = il[i]\n",
    "    print(i, a)\n",
    "    df1r.append(feature_summary(gsv_image1[a], m1f[a]))\n",
    "    df2r.append(feature_summary(gsv_image2[a], m2f[a]))\n",
    "    df3r.append(feature_summary(gsv_image3[a], m3f[a]))\n",
    "    df4r.append(feature_summary(gsv_image4[a], m4f[a]))\n"
   ]
  },
  {
   "cell_type": "code",
   "execution_count": 3315,
   "id": "072312e6-686c-454b-b49d-570471d090fe",
   "metadata": {
    "execution": {
     "iopub.execute_input": "2024-01-23T14:10:29.675605Z",
     "iopub.status.busy": "2024-01-23T14:10:29.675446Z",
     "iopub.status.idle": "2024-01-23T14:10:29.683491Z",
     "shell.execute_reply": "2024-01-23T14:10:29.682905Z",
     "shell.execute_reply.started": "2024-01-23T14:10:29.675591Z"
    }
   },
   "outputs": [
    {
     "name": "stdout",
     "output_type": "stream",
     "text": [
      "9 182 999000622452764\n",
      "<class 'pandas.core.frame.DataFrame'>\n",
      "Index: 39 entries, 0 to 39\n",
      "Data columns (total 22 columns):\n",
      " #   Column             Non-Null Count  Dtype \n",
      "---  ------             --------------  ----- \n",
      " 0   mask               39 non-null     int64 \n",
      " 1   gmedian            39 non-null     object\n",
      " 2   rmedian            39 non-null     object\n",
      " 3   bmedian            39 non-null     object\n",
      " 4   gmean              39 non-null     object\n",
      " 5   rmean              39 non-null     object\n",
      " 6   bmean              39 non-null     object\n",
      " 7   gstd               39 non-null     object\n",
      " 8   rstd               39 non-null     object\n",
      " 9   bstd               39 non-null     object\n",
      " 10  isconvex           39 non-null     object\n",
      " 11  area               39 non-null     object\n",
      " 12  aspect_ratio_wh_s  39 non-null     object\n",
      " 13  extent_s           39 non-null     object\n",
      " 14  solidity           39 non-null     object\n",
      " 15  aspect_ratio_wh    39 non-null     object\n",
      " 16  extent             39 non-null     object\n",
      " 17  ed                 39 non-null     object\n",
      " 18  ratio_ell          39 non-null     object\n",
      " 19  perimeter          39 non-null     object\n",
      " 20  is_cen_inside      39 non-null     object\n",
      " 21  is_mce_inside      39 non-null     object\n",
      "dtypes: int64(1), object(21)\n",
      "memory usage: 7.0+ KB\n"
     ]
    }
   ],
   "source": [
    "j = j+1\n",
    "q = il[j]\n",
    "print(j, q, r4[j])\n",
    "mb = m4f[q]\n",
    "img = gsv_image4[q]\n",
    "df4r[j].info()"
   ]
  },
  {
   "cell_type": "code",
   "execution_count": 3356,
   "id": "544d2bf6-3181-41c9-aca7-8d1e77c425bc",
   "metadata": {
    "execution": {
     "iopub.execute_input": "2024-01-23T14:18:44.492347Z",
     "iopub.status.busy": "2024-01-23T14:18:44.492060Z",
     "iopub.status.idle": "2024-01-23T14:18:44.494969Z",
     "shell.execute_reply": "2024-01-23T14:18:44.494498Z",
     "shell.execute_reply.started": "2024-01-23T14:18:44.492322Z"
    }
   },
   "outputs": [],
   "source": [
    "# t = t+1\n",
    "# p = ((df4r[j]).iloc[t]['mask']) -1\n",
    "# # print(t, p)\n",
    "# i = p\n",
    "# #i = 0\n",
    "# print(i, t,'label')\n",
    "# maskedimg = cv2.bitwise_and(img,img,mask = mb[i])\n",
    "# # create a mask\n",
    "# hist_full = cv2.calcHist([img],[0],None,[256],[0,256])\n",
    "# hist_mask = cv2.calcHist([img],[0],mb[i],[256],[0,256])\n",
    "# plt.figure(figsize = (10,10))\n",
    "# plt.subplot(221), plt.imshow(img)\n",
    "# plt.subplot(222), plt.imshow(mb[i])\n",
    "# plt.subplot(223), plt.imshow(maskedimg)\n",
    "# plt.subplot(224), plt.plot(hist_full), plt.plot(hist_mask)\n",
    "# plt.xlim([0,256])\n",
    "# plt.show()"
   ]
  },
  {
   "cell_type": "code",
   "execution_count": 3357,
   "id": "972417c0-b2c4-4a74-b555-40d1b447224a",
   "metadata": {
    "execution": {
     "iopub.execute_input": "2024-01-23T14:19:59.479701Z",
     "iopub.status.busy": "2024-01-23T14:19:59.479431Z",
     "iopub.status.idle": "2024-01-23T14:19:59.507671Z",
     "shell.execute_reply": "2024-01-23T14:19:59.507255Z",
     "shell.execute_reply.started": "2024-01-23T14:19:59.479684Z"
    }
   },
   "outputs": [
    {
     "name": "stdout",
     "output_type": "stream",
     "text": [
      "0 283\n",
      "1 193\n",
      "2 38\n",
      "3 224\n",
      "4 27\n",
      "5 66\n",
      "6 174\n",
      "7 77\n",
      "8 160\n",
      "9 182\n"
     ]
    }
   ],
   "source": [
    "for i in range(0, 10):\n",
    "    a = il[i]\n",
    "    df1r[i] = df1r[i].assign(Nr = n1[a])\n",
    "    df2r[i] = df2r[i].assign(Nr = n2[a])\n",
    "    df3r[i] = df3r[i].assign(Nr = n3[a])\n",
    "    df4r[i] = df4r[i].assign(Nr = n4[a])\n",
    "    print(i, a)"
   ]
  },
  {
   "cell_type": "code",
   "execution_count": 3362,
   "id": "ad35b329-72ef-423d-9a9b-f36922843c4f",
   "metadata": {
    "execution": {
     "iopub.execute_input": "2024-01-23T14:20:38.000244Z",
     "iopub.status.busy": "2024-01-23T14:20:38.000060Z",
     "iopub.status.idle": "2024-01-23T14:20:38.011542Z",
     "shell.execute_reply": "2024-01-23T14:20:38.011086Z",
     "shell.execute_reply.started": "2024-01-23T14:20:38.000225Z"
    }
   },
   "outputs": [
    {
     "data": {
      "text/html": [
       "<div>\n",
       "<style scoped>\n",
       "    .dataframe tbody tr th:only-of-type {\n",
       "        vertical-align: middle;\n",
       "    }\n",
       "\n",
       "    .dataframe tbody tr th {\n",
       "        vertical-align: top;\n",
       "    }\n",
       "\n",
       "    .dataframe thead th {\n",
       "        text-align: right;\n",
       "    }\n",
       "</style>\n",
       "<table border=\"1\" class=\"dataframe\">\n",
       "  <thead>\n",
       "    <tr style=\"text-align: right;\">\n",
       "      <th></th>\n",
       "      <th>mask</th>\n",
       "      <th>gmedian</th>\n",
       "      <th>rmedian</th>\n",
       "      <th>bmedian</th>\n",
       "      <th>gmean</th>\n",
       "      <th>rmean</th>\n",
       "      <th>bmean</th>\n",
       "      <th>gstd</th>\n",
       "      <th>rstd</th>\n",
       "      <th>bstd</th>\n",
       "      <th>...</th>\n",
       "      <th>extent_s</th>\n",
       "      <th>solidity</th>\n",
       "      <th>aspect_ratio_wh</th>\n",
       "      <th>extent</th>\n",
       "      <th>ed</th>\n",
       "      <th>ratio_ell</th>\n",
       "      <th>perimeter</th>\n",
       "      <th>is_cen_inside</th>\n",
       "      <th>is_mce_inside</th>\n",
       "      <th>Nr</th>\n",
       "    </tr>\n",
       "  </thead>\n",
       "  <tbody>\n",
       "    <tr>\n",
       "      <th>0</th>\n",
       "      <td>1</td>\n",
       "      <td>142.0</td>\n",
       "      <td>122.0</td>\n",
       "      <td>134.0</td>\n",
       "      <td>134.936263</td>\n",
       "      <td>122.681989</td>\n",
       "      <td>135.922932</td>\n",
       "      <td>64.957615</td>\n",
       "      <td>64.238258</td>\n",
       "      <td>66.110616</td>\n",
       "      <td>...</td>\n",
       "      <td>0.87738</td>\n",
       "      <td>0.981105</td>\n",
       "      <td>1.597015</td>\n",
       "      <td>0.882711</td>\n",
       "      <td>359.048939</td>\n",
       "      <td>1.30217</td>\n",
       "      <td>1382.859952</td>\n",
       "      <td>1.0</td>\n",
       "      <td>1.0</td>\n",
       "      <td>999000566471554</td>\n",
       "    </tr>\n",
       "    <tr>\n",
       "      <th>1</th>\n",
       "      <td>2</td>\n",
       "      <td>219.0</td>\n",
       "      <td>243.0</td>\n",
       "      <td>198.0</td>\n",
       "      <td>219.456062</td>\n",
       "      <td>240.454539</td>\n",
       "      <td>197.900175</td>\n",
       "      <td>13.62533</td>\n",
       "      <td>11.662772</td>\n",
       "      <td>18.487211</td>\n",
       "      <td>...</td>\n",
       "      <td>0.845113</td>\n",
       "      <td>0.937841</td>\n",
       "      <td>0.810298</td>\n",
       "      <td>0.850237</td>\n",
       "      <td>345.600085</td>\n",
       "      <td>1.284929</td>\n",
       "      <td>1849.3839</td>\n",
       "      <td>0.5</td>\n",
       "      <td>1.0</td>\n",
       "      <td>999000566471554</td>\n",
       "    </tr>\n",
       "    <tr>\n",
       "      <th>2</th>\n",
       "      <td>3</td>\n",
       "      <td>142.0</td>\n",
       "      <td>122.0</td>\n",
       "      <td>134.0</td>\n",
       "      <td>134.889454</td>\n",
       "      <td>122.60563</td>\n",
       "      <td>135.865118</td>\n",
       "      <td>64.923831</td>\n",
       "      <td>64.193667</td>\n",
       "      <td>66.084536</td>\n",
       "      <td>...</td>\n",
       "      <td>0.878524</td>\n",
       "      <td>0.980304</td>\n",
       "      <td>1.597015</td>\n",
       "      <td>0.883862</td>\n",
       "      <td>359.282908</td>\n",
       "      <td>1.256715</td>\n",
       "      <td>1406.232536</td>\n",
       "      <td>1.0</td>\n",
       "      <td>1.0</td>\n",
       "      <td>999000566471554</td>\n",
       "    </tr>\n",
       "    <tr>\n",
       "      <th>3</th>\n",
       "      <td>4</td>\n",
       "      <td>82.0</td>\n",
       "      <td>75.0</td>\n",
       "      <td>87.5</td>\n",
       "      <td>82.833956</td>\n",
       "      <td>77.502313</td>\n",
       "      <td>88.316839</td>\n",
       "      <td>28.054171</td>\n",
       "      <td>27.50982</td>\n",
       "      <td>30.450527</td>\n",
       "      <td>...</td>\n",
       "      <td>0.614372</td>\n",
       "      <td>0.947368</td>\n",
       "      <td>1.546667</td>\n",
       "      <td>0.627931</td>\n",
       "      <td>83.400885</td>\n",
       "      <td>2.177621</td>\n",
       "      <td>340.994949</td>\n",
       "      <td>1.0</td>\n",
       "      <td>1.0</td>\n",
       "      <td>999000566471554</td>\n",
       "    </tr>\n",
       "    <tr>\n",
       "      <th>4</th>\n",
       "      <td>5</td>\n",
       "      <td>76.0</td>\n",
       "      <td>96.0</td>\n",
       "      <td>120.0</td>\n",
       "      <td>83.205075</td>\n",
       "      <td>102.768786</td>\n",
       "      <td>119.81859</td>\n",
       "      <td>39.705632</td>\n",
       "      <td>42.242759</td>\n",
       "      <td>50.084717</td>\n",
       "      <td>...</td>\n",
       "      <td>0.744372</td>\n",
       "      <td>0.972664</td>\n",
       "      <td>1.833333</td>\n",
       "      <td>0.761896</td>\n",
       "      <td>88.017192</td>\n",
       "      <td>1.998311</td>\n",
       "      <td>333.722869</td>\n",
       "      <td>1.0</td>\n",
       "      <td>1.0</td>\n",
       "      <td>999000566471554</td>\n",
       "    </tr>\n",
       "  </tbody>\n",
       "</table>\n",
       "<p>5 rows × 23 columns</p>\n",
       "</div>"
      ],
      "text/plain": [
       "   mask gmedian rmedian bmedian       gmean       rmean       bmean  \\\n",
       "0     1   142.0   122.0   134.0  134.936263  122.681989  135.922932   \n",
       "1     2   219.0   243.0   198.0  219.456062  240.454539  197.900175   \n",
       "2     3   142.0   122.0   134.0  134.889454   122.60563  135.865118   \n",
       "3     4    82.0    75.0    87.5   82.833956   77.502313   88.316839   \n",
       "4     5    76.0    96.0   120.0   83.205075  102.768786   119.81859   \n",
       "\n",
       "        gstd       rstd       bstd  ...  extent_s  solidity aspect_ratio_wh  \\\n",
       "0  64.957615  64.238258  66.110616  ...   0.87738  0.981105        1.597015   \n",
       "1   13.62533  11.662772  18.487211  ...  0.845113  0.937841        0.810298   \n",
       "2  64.923831  64.193667  66.084536  ...  0.878524  0.980304        1.597015   \n",
       "3  28.054171   27.50982  30.450527  ...  0.614372  0.947368        1.546667   \n",
       "4  39.705632  42.242759  50.084717  ...  0.744372  0.972664        1.833333   \n",
       "\n",
       "     extent          ed ratio_ell    perimeter is_cen_inside is_mce_inside  \\\n",
       "0  0.882711  359.048939   1.30217  1382.859952           1.0           1.0   \n",
       "1  0.850237  345.600085  1.284929    1849.3839           0.5           1.0   \n",
       "2  0.883862  359.282908  1.256715  1406.232536           1.0           1.0   \n",
       "3  0.627931   83.400885  2.177621   340.994949           1.0           1.0   \n",
       "4  0.761896   88.017192  1.998311   333.722869           1.0           1.0   \n",
       "\n",
       "                Nr  \n",
       "0  999000566471554  \n",
       "1  999000566471554  \n",
       "2  999000566471554  \n",
       "3  999000566471554  \n",
       "4  999000566471554  \n",
       "\n",
       "[5 rows x 23 columns]"
      ]
     },
     "execution_count": 3362,
     "metadata": {},
     "output_type": "execute_result"
    }
   ],
   "source": [
    "df4r[5].head()"
   ]
  },
  {
   "cell_type": "code",
   "execution_count": 3368,
   "id": "22543a4e-6ef4-42ad-bd8b-c153145c88d4",
   "metadata": {
    "execution": {
     "iopub.execute_input": "2024-01-23T15:05:38.223795Z",
     "iopub.status.busy": "2024-01-23T15:05:38.223355Z",
     "iopub.status.idle": "2024-01-23T15:05:38.276670Z",
     "shell.execute_reply": "2024-01-23T15:05:38.276233Z",
     "shell.execute_reply.started": "2024-01-23T15:05:38.223777Z"
    }
   },
   "outputs": [],
   "source": [
    "df1r[0] = df1r[0].assign(label = ['s', 'tram', 'r', 'rgs', 'p', 'v', 'tram', 'b',\n",
    "                                  'pa', 'rgs', 'rgs', 'p', 'p', 'rgs', 'rgs', 'o',\n",
    "                                  'rgs', 'v', 'p', 'rgs', 'o', 'rgs', 'p', 'p', \n",
    "                                  'rs', 'v', 'sl', 'ep', 'o', 'h', 'o', 'o', \n",
    "                                  'o', 'rgs', 'p', 'ep', 'ep', 'o', 'sw', 'sw',\n",
    "                                  'p', 'o', 'o', 'p', 'sl', 'o', 'o', 'vp', \n",
    "                                  'o', 'o', 'p', 'ep', 'sw'])\n",
    "df1r[1] = df1r[1].assign(label = ['o', 'r', 's', 'o', 'b', 'b', 'b', 'o',\n",
    "                                  'p', 'b', 'o', 'p', 'b', 'b', 'b', 'o',\n",
    "                                  'o', 'o', 'o', 'o', 'h', 'o', 't', 'o', \n",
    "                                  'o', 'o', 'o', 'o', 'o', 'o', 'h', 'o', \n",
    "                                  'o', 'o', 'o', 'o', 'o', 'o', 'o', 'h', \n",
    "                                  'h', 'h', 'o', 'o', 'h', 'o', 'o', 'o', \n",
    "                                  'o', 'o', 'o', 'o', 'o', 'o', 'o', 'o', \n",
    "                                  'o', 'o', 'o', 'o', 'o', 'o', 'o', 'o', \n",
    "                                  'o', 'o', 'o', 'o', 'o', 'o', 'o', 'p', \n",
    "                                  'o', 'o', 'o', 'o', 'o', 'o', 'o', 'o', \n",
    "                                  'o', 'o', 'o'])\n",
    "df1r[2] = df1r[2].assign(label = ['pa', 'b', 's', 'b', 'bl', 't', 'o', 'b', \n",
    "                                  'r', 'rgs', 'b', 'rgs', 't', 'rgs', 'rgs', 'r', \n",
    "                                  'pa', 'o', 'b', 'o', 'rgs', 'b', 'p', 'p', \n",
    "                                  'p', 'rgs', 'o', 'p', 'p', 'p', 'p', 'p', \n",
    "                                  'p', 'o', 'p', 'o', 'rgs', 'p', 'o', 'rgs', \n",
    "                                  'rgs', 'z', 'b', 'sw', 'p', 'rgs', 'p', 'o', \n",
    "                                  'rs', 'o', 'o', 'sw', 'rgs', 'p'])\n",
    "df1r[3] = df1r[3].assign(label = ['v', 'p', 'b', 'r', 'p', 'o', 'p', 'sp',\n",
    "                                  'o', 'p', 't', 'p', 'pa', 'o', 'p', 'b', \n",
    "                                  'rgs', 'b', 'p', 'rs', 'o', 'o', 'o', 'o',\n",
    "                                  'o', 'b', 'b', 'p', 'vp', 'o', 'o', 'b', \n",
    "                                  'ri', 'p', 'o', 'b', 'curb', 'o', 'p', 'b',\n",
    "                                  'p', 'o', 'b', 'o', 'o', 'sw', 'ri', 'o',\n",
    "                                  'sw', 'vp', 'o', 'o', 'b', 'b', 'b', 'b',\n",
    "                                  'b', 'sw'])\n",
    "df1r[4] = df1r[4].assign(label = ['s', 'r', 'p', 's', 'p', 'o', 'rs', 'p', \n",
    "                                  'p', 't', 'pa', 'p', 'p', 'b', 'rgs', 'p', \n",
    "                                  'p', 'p', 'p', 't', 'b', 'rgs', 'rgs', 'sl', \n",
    "                                  'rgs', 'rgs', 'bp', 'o', 'rgs', 'o', 'rs', 'rgs', \n",
    "                                  'rgs', 'o', 'o', 'v', 'b', 'mo', 'b', 'p', \n",
    "                                  'p', 'b', 'p', 'o', 'rgs'])\n",
    "df1r[5] = df1r[5].assign(label = ['r', 'r', 'b', 'bp', 'bp', 'bp', 'bp', 'o', \n",
    "                                  'bp', 'bp', 'bp', 'bp', 'bp', 'o', 'o', 'o', \n",
    "                                  'o', 'o', 'o', 'o', 'o', 'o', 'o', 'o', \n",
    "                                  'o', 'o', 'o', 'o', 'o', 'o', 'o'])\n",
    "df1r[6] = df1r[6].assign(label = ['b', 'r', 'p', 's', 'p', 'v', 'p', 'p', \n",
    "                                  'r', 'b', 'o', 'bip', 'o', 'bl', 'b', 'vp', \n",
    "                                  'b', 'bi', 'p', 'b', 'bl', 'rgs', 'bip', 'o', \n",
    "                                  'p', 'p', 'o', 'o', 'o', 'o', 'o', 'o', \n",
    "                                  'o', 'h', 'sp', 'pa', 'sp', 'o', 'v', 'p', \n",
    "                                  'o', 'o', 'p', 'pa', 'o', 'b', 'o', 'sw', \n",
    "                                  'o', 'o', 'o', 'o', 'o', 'o'])\n",
    "df1r[7] = df1r[7].assign(label = ['r', 'rb', 'r', 'o', 'o', 'pa', 'b', 'rs', \n",
    "                                  'o', 'o', 'o', 'bip', 'bp', 'bip', 'o', 'bp', \n",
    "                                  'r', 't', 'o', 'bip', 'o', 'o', 'bip', 'o', \n",
    "                                  'o', 'v', 'o', 'o', 'o', 'o', 'o', 'rgs', \n",
    "                                  'o', 'o', 'o', 'sh', 'o', 'bip', 'bip', 'o', \n",
    "                                  'bip', 't', 'o', 'o', 'o', 'bi', 'o', 'o', \n",
    "                                  'o', 'o', 'o', 'o', 'o', 'o', 'o', 'o', \n",
    "                                  'o', 'o', 'bp', 'o'])\n",
    "df1r[8] = df1r[8].assign(label = ['r', 's', 'o', 'o', 'pa', 'curb', 'b', 'o', \n",
    "                                  'o', 't', 't', 'o', 'o', 'b', 'o', 'o', \n",
    "                                  'b', 'rgs', 'mo', 'o', 'sp', 'o', 'curb', 'o', \n",
    "                                  'o', 'o', 'curb', 'p', 'o', 'o', 'o', 'sl', \n",
    "                                  'o', 'o', 'o', 'o', 'm', 'b', 'o', 'o', \n",
    "                                  'o', 'o', 'o', 'o', 'b', 'o', 'rgs', 'o', \n",
    "                                  'o', 'o'])\n",
    "df1r[9] = df1r[9].assign(label = ['s', 'b', 'b', 'b', 'b', 'p', 'b', 'p', \n",
    "                                  'v', 'o', 'r', 'o', 'tb', 'b', 'rgs', 'rgs', \n",
    "                                  'o', 'o', 'o', 'o', 'o', 'p', 'rgs', 't', \n",
    "                                  'o', 'o', 'v', 'o', 'o', 'o', 'o', 'mb', \n",
    "                                  'o', 'p', 'p', 'mb', 'v', 'o', 'p', 'o', \n",
    "                                  'tl', 'o', 'mb', 'p', 'o', 'h', 'o', 'o', \n",
    "                                  'o', 'sw', 'o', 'o', 'o', 'tl'])\n",
    "\n",
    "df2r[0] = df2r[0].assign(label = ['s', 'tram', 'rgs', 's', 'r', 'rgs', 'b', 'r', \n",
    "                                  'b', 'b', 'rp', 'v', 'rgs', 'pa', 'b', 'rgs', \n",
    "                                  'o', 'tram', 'p', 'p', 'bus', 'o', 'rgs', 'b', \n",
    "                                  'p', 'h', 'p', 'sl', 'o', 'rgs', 'o', 'rgs', \n",
    "                                  'pa', 'rp', 'sw', 'o', 'o', 'rgs', 'o', 'p', \n",
    "                                  'ep', 'o', 'tram', 'o', 'o', 'sw', 'rs', 'o', \n",
    "                                  'tb', 'rgs', 'o', 'v', 'p', 'curb', 'o', 'o'])\n",
    "df2r[1] = df2r[1].assign(label = ['s', 'r', 'p', 'b', 'o', 'p', 'h', 'p', \n",
    "                                  'o', 'p', 'o', 'o', 'h', 'p', 'o', 'o', \n",
    "                                  'o', 'o', 'o', 'o', 'o', 'o', 'h', 'o', \n",
    "                                  'p', 'p', 'b', 'o', 'o', 'b', 'o', 'o', \n",
    "                                  'o', 'o', 'o', 'o', 'b', 'o', 'o', 'v', \n",
    "                                  'o', 'o', 'o', 'o', 'o', 'o', 'o', 'o', \n",
    "                                  'o', 'o', 'p', 'o'])\n",
    "df2r[2] = df2r[2].assign(label = ['s', 'b', 'rgs', 'b', 'rgs', 'rgs', 'rgs', 'rgs', \n",
    "                                  'o', 'pa', 'rgs', 'p', 'rgs', 'pa', 'b', 'p', \n",
    "                                  'rgs', 'rp', 'o', 'b', 'o', 'sp', 'o', 'p', \n",
    "                                  'wp', 'pa', 'p', 'pa', 'z', 'o', 'b', 'p', \n",
    "                                  'o', 'p', 'p', 'p', 'b', 'o', 'v', 'o', \n",
    "                                  'p', 'm', 'b', 'rp', 'p', 'pa', 'p', 'p', \n",
    "                                  'p', 'p', 'o', 'o', 'o', 'p', 'p', 'p', \n",
    "                                  'sw', 'o', 'bp', 'o', 'sl', 'sw', 'p', 'sw', \n",
    "                                  'curb', 'z', 'sh', 'sh', 'z', 'p', 'o', 'o', \n",
    "                                  'o', 'sh'])\n",
    "df2r[3] = df2r[3].assign(label = ['b', 'r', 'r', 's', 'v', 'rgs', 'b', 'b', \n",
    "                                  't', 'b', 'b', 'b', 'o', 'o', 'o', 'o', \n",
    "                                  'vp', 'vp', 'r', 'o', 'o', 'o', 'o', 'm', \n",
    "                                  'o', 'o', 'o', 'o', 'o', 'sw', 'sw', 'b', \n",
    "                                  'o', 'o', 'o', 'o', 'sw'])\n",
    "df2r[4] = df2r[4].assign(label = ['s', 'r', 's', 'p', 't', 'sl', 'p', 'vp', \n",
    "                                  'rgs', 'o', 'rgs', 'pa', 'b', 'p', 'o', 'ch', \n",
    "                                  'rgs', 'p', 'o', 'b', 'p', 'o', 'b', 'curb',\n",
    "                                  'rgs', 'v', 'o', 'o', 'vp', 'p', 'o', 'o', \n",
    "                                  'o', 'o', 'p', 'pa', 'ep', 'v', 'rgs', 'b', \n",
    "                                  'b', 'sl'])\n",
    "df2r[5] = df2r[5].assign(label = ['s', 'r', 'b', 'b', 't', 'b', 'p', 'b', \n",
    "                                  'bp', 'b', 'v', 'rgs', 'r', 'o', 'v', 'b', \n",
    "                                  'mb', 'bp', 'bp', 'bp', 'b', 'sl', 'o', 'sl', \n",
    "                                  'p', 'sw', 'o', 'o', 'b', 'b', 'sw', 'p', \n",
    "                                  'p', 'o', 'o', 'rs', 'o', 'o', 'o', 'p', \n",
    "                                  'p', 'p', 'bip', 'o', 'o', 'b', 'o', 'bi', \n",
    "                                  'b'])\n",
    "df2r[6] = df2r[6].assign(label = ['r', 'p', 's', 'o', 'o', 't', 'r', 'bip', \n",
    "                                  'b', 'p', 'bip', 'b', 'o', 'o', 'p', 'v', \n",
    "                                  'vp', 'bi', 'o', 'p', 'o', 'o', 'vp', 'p', \n",
    "                                  'rgs', 'p', 'o', 'o', 'p', 'o', 'p', 'o', \n",
    "                                  'h', 'o', 'o', 'curb', 'o', 'o', 'p', 't', \n",
    "                                  'o', 'o', 'o', 'p', 'p', 'b', 'p', 'o', \n",
    "                                  'o', 'o', 'p', 'p', 'o', 'o', 'o', 'curb', \n",
    "                                  'o', 'o', 'p', 'o', 'o', 'p', 'o', 'p', \n",
    "                                  'o', 'o', 'o', 'p', 'o', 'o', 'o', 'p', \n",
    "                                  'o', 'p', 'o', 'o', 'p', 'ct'])\n",
    "df2r[7] = df2r[7].assign(label = ['r', 'rb', 's', 'r', 'rb', 'li', 'o', 'rp', \n",
    "                                  'rb', 'o', 'p', 'o', 'sl', 'o', 'o', 'li', \n",
    "                                  'o', 'li', 'li', 'v', 'li', 'rgs', 'rgs', 'o', \n",
    "                                  'o', 'rgs', 'h', 'o', 'bp', 'o', 'o', 'v', \n",
    "                                  'o', 'bi', 'vp', 'o', 'o', 'sl', 't', 'o', ])\n",
    "df2r[8] = df2r[8].assign(label = ['r', 's', 'pa', 'p', 'b', 'ts', 'rgs', 't', \n",
    "                                  't', 'o', 'o', 'o', 'o', 'curb', 'o', 'o', \n",
    "                                  'p', 'rgs', 'o', 'ts', 'ep', 'o', 'o', 'm', \n",
    "                                  'mo', 'o', 'o', 'o', 'o', 'h', 'o'])\n",
    "df2r[9] = df2r[9].assign(label = ['s', 'b', 'b', 'b', 'o', 'b', 'b', 'rgs', \n",
    "                                  'o', 'o', 'v', 'tb', 'o', 'rgs', 'o', 'bw', \n",
    "                                  'b', 'o', 'rgs', 'o', 'o', 'o', 'tc', 'pa', \n",
    "                                  'p', 'tl', 'm', 'b', 'o', 'rgs', 'rgs', 'rgs', \n",
    "                                  'vp', 'o', 'o', 'o', 'o', 'pa', 'o', 'o', \n",
    "                                  'o', 'rgs', 'sw', 'pa', 'h', 'p', 'o', 'rs', \n",
    "                                  'tl', 'o', 'tl', 'o', 'rp', 'o', 'rgs', 'o', \n",
    "                                  'tlp', 'o', 'o', 'o'])\n",
    "\n",
    "df3r[0] = df3r[0].assign(label = ['r', 's', 'rgs', 'lp', 'v', 't', 'rp', 'o', \n",
    "                                  'b', 'v', 'pa', 'ri', 'p', 'vp', 'rgs', 'lp', \n",
    "                                  'p', 'p', 's', 'pa', 'p', 't', 'sw', 'mo', \n",
    "                                  'b', 'o', 'p', 'v', 'p', 'o', 'ri', 'tl', \n",
    "                                  'vp', 'mo', 'sl', 'o', 'v', 'sw', 'o', 'rgs', \n",
    "                                  'o', 'o', 'o', 'rgs', 'sl', 'rgs', 'rgs', 'sl'])\n",
    "df3r[1] = df3r[1].assign(label = ['s', 'o', 'r', 'p', 'o', 'b', 'o', 'o', \n",
    "                                  'b', 'b', 'o', 'o', 'o', 'o', 'o', 'b', \n",
    "                                  'bp', 'o', 'o', 'h', 'o', 'o', 'o', 'o', \n",
    "                                  'o', 'o', 'o', 'o', 'o', 'o', 'o', 'o', \n",
    "                                  'o', 'o', 'o', 'o', 'o', 'h', 'o', 'o', \n",
    "                                  'h', 'o', 'h', 'o', 'h', 'o', 'o', 'o', \n",
    "                                  'o', 'h', 'o', 'o', 'o', 'o', 'o', 'o', \n",
    "                                  'r', 'o', 'o', 'h', 'o', 'o', 'o', 'o', \n",
    "                                  'o', 'o', 'o', 'o', 'o', 'o', 'o', 'o', \n",
    "                                  'o', 'o', 'o', 'o', 'o', 'o'])\n",
    "df3r[2] = df3r[2].assign(label = ['s', 'b', 'p', 'rgs', 'rgs', 'rgs', 't', 'b', \n",
    "                                  'b', 'sl', 'sh', 'rp', 'rp', 'b', 'p', 'rgs', \n",
    "                                  'b', 'sp', 'o', 'o', 'z', 'p', 'o', 'o', \n",
    "                                  'o', 'o', 'pa', 'o', 'sl', 'o', 'pa', 'r', \n",
    "                                  'o', 'curb', 'p', 'rgs', 'rs', 'b', 'pa', 'rs', \n",
    "                                  'p', 'wp', 'rgs', 'p', 'o', 'curb', 'o', 't', \n",
    "                                  'rgs', 'sh', 'o', 'o', 'o', 'rgs', 'sp', 'rgs', \n",
    "                                  'o', 'o', 'pa', 'o', 'sw', 'rgs', 'sw', 'v', \n",
    "                                  'lp', 'rgs', 'sw', 'pa', 'sw', 'rgs', 'o', 'b', \n",
    "                                  'p', 'sw', 'o', 'r', 'o', 'o' ])\n",
    "df3r[3] = df3r[3].assign(label = ['b', 's', 'r', 'pa', 'p', 'rgs', 'p', 'p', \n",
    "                                  'o', 'o', 'o', 'b', 'b', 'p', 'm', 'b', \n",
    "                                  'lp', 'v', 'b', 'b', 'b', 'p', 'p', 'o', \n",
    "                                  'o', 'p', 'o', 'rgs', 'o', 'p', 'o', 'o', \n",
    "                                  'o', 'sw', 'o', 'o', 'o', 'o'])\n",
    "df3r[4] = df3r[4].assign(label = ['s', 'r', 'b', 'p', 'p', 'p', 'b', 'p', \n",
    "                                  'b', 'pa', 'bp', 'bp', 'pa', 'o', 'm', 'curb', \n",
    "                                  'mo', 'o', 'b', 'p', 'rgs', 'p', 'rgs', 'rgs', \n",
    "                                  'rgs', 'm', 'o', 'b', 'rs', 'p', 'b', 'o', \n",
    "                                  'lp', 'sl', 'sl', 'o', 'o', 'm', 'z'])\n",
    "df3r[5] = df3r[5].assign(label = ['s', 'tram', 'r', 'r', 's', 'b', 'b', 'b', \n",
    "                                  'v', 'mo', 'b', 'p', 'p', 'p', 'v', 'p', \n",
    "                                  'v', 'p', 'p', 'vp', 'p', 'mo', 'pa', 'r', \n",
    "                                  'bp', 'sw', 'sp', 'p', 'p', 'o', 'sw', 'wp', \n",
    "                                  'p', 'rgs', 'sw', 'o', 'pa', 'p', 'p', 'o', \n",
    "                                  'pa', 'o'])\n",
    "df3r[6] = df3r[6].assign(label = ['s', 'v', 'r', 'bl', 'b', 'p', 't', 'v', \n",
    "                                  'o', 's', 'p', 'p', 'o', 'pa', 'o', 'rgs', \n",
    "                                  'p', 'p', 'o', 'o', 'vp', 'p', 'p', 'p', \n",
    "                                  'o', 'o', 'p', 'o', 'p', 'o', 'o', 'o', \n",
    "                                  'o', 'vp', 'p', 'p', 'o', 'p', 'p', 'p', \n",
    "                                  'p', 'p', 'p', 'h', 'o', 'o', 'p', 'p', \n",
    "                                  'o', 'o', 'o', 'p', 'p', 'p', 'o', 'sw', \n",
    "                                  'sp', 'rs', 'p'])\n",
    "df3r[7] = df3r[7].assign(label = ['rb', 'o', 'rb', 'r', 'rb', 's', 'o', 'o', \n",
    "                                  'o', 'o', 'pa', 'o', 'o', 'o', 'o', 'o', \n",
    "                                  'mb', 'li', 'o', 'li', 'o', 'li', 'o', 'p', \n",
    "                                  't', 'o', 'bip', 'o', 'o', 'bi', 'v', 'o', \n",
    "                                  'bi', 'bip', 'o', 'o', 'o', 'o', 'o', 'o', \n",
    "                                  'o', 'o', 'o'])\n",
    "df3r[8] = df3r[8].assign(label = ['s', 'r', 'p', 'o', 't', 't', 'o', 'o', \n",
    "                                  'o', 'b', 'o', 'p', 'p', 'sp', 'b', 'b', \n",
    "                                  'rgs', 'tl', 'tb', 'curb', 'o', 'o', 'rgs', 'pa', \n",
    "                                  'pa', 'o', 'curb', 'b', 'o', 'h', 'o', 'o', \n",
    "                                  'sl', 'o', 'o', 'o', 'o', 'p', 'o', 'b', \n",
    "                                  'rgs', 'o', 'rgs', 'o', 'h'])\n",
    "df3r[9] = df3r[9].assign(label = ['o', 'r', 'b', 's', 'o', 'bw', 'o', 'o', \n",
    "                                  'o', 'm', 'r', 'o', 'o', 'o', 'o', 'o', \n",
    "                                  'o', 'o', 'p', 'o', 'o', 'o', 'o', 'o', \n",
    "                                  'tl', 'o', 'o', 'p', 'pa', 'o', 'o', 'tl', \n",
    "                                  'tl', 'o', 'o'])\n",
    "\n",
    "\n",
    "df4r[0] = df4r[0].assign(label = ['r', 's', 'v', 's', 'p', 'v', 'vp', 't', \n",
    "                                  'v', 'v', 'mo', 'ri', 'v', 'rgs', 'p', 'p', \n",
    "                                  'p', 'rgs', 'p', 'lp', 'rgs', 'rgs', 'lp', 'rgs', \n",
    "                                  'p', 'o', 'vp', 'o', 'o', 'sl', 'o', 'v', \n",
    "                                  'rgs', 'o', 'sw', 'rgs', 'o'])\n",
    "df4r[1] = df4r[1].assign(label = ['s', 'o', 'o', 'o', 'r', 'b', 'b', 'o', \n",
    "                                  'o', 'o', 'b', 'h', 'o', 't', 'o', 'o', \n",
    "                                  'h', 'o', 'o', 'o', 'o', 'b', 'b', 'o', \n",
    "                                  'o', 'o', 'o', 'o', 'h', 'h', 'o', 'o', \n",
    "                                  'o', 'o', 'o', 'o', 'o', 'o', 'o', 'o', \n",
    "                                  'o', 'm', 'o', 'o', 'o', 'o', 'o', 'o', \n",
    "                                  'o', 'o', 'o', 'o', 'o', 'o', 'h', 'o', \n",
    "                                  'o', 'o', 'o', 'o', 'b', 'o', 'o', 'o', \n",
    "                                  'o', 'h', 'sl', 'o', 'o', 'o', 'o', 'h', \n",
    "                                  'o', 'h', 'o', 'o', 'h', 'o', 'o', 'o', \n",
    "                                  'o', 'o', 'o', 'o', 'o', 'o', 'o', 'o', \n",
    "                                  'o', 'o', 'o', 'o', 'o', 'o', 'o', 'o', \n",
    "                                  'o', 'o', 'o', 'h', 'o', 'h', 'o', 'o', \n",
    "                                  'o'])\n",
    "df4r[2] = df4r[2].assign(label = ['b', 's', 'r', 's', 'bl', 'b', 'pa', 'p', \n",
    "                                  'o', 'pa', 't', 'v', 'b', 'p', 'st', 'p', \n",
    "                                  'p', 'p', 'p', 'p', 'rs', 'p', 'o', 'p', \n",
    "                                  'o', 'rgs', 'p', 'rgs', 'rp', 'p', 't', 'o', \n",
    "                                  'o', 'o', 'rgs', 'p', 'o', 'o', 'p'])\n",
    "df4r[3] = df4r[3].assign(label = ['p', 'r', 'p', 'p', 'o', 't', 'p', 't', \n",
    "                                  'b', 'p', 'p', 'o', 'pa', 'o', 'm', 'b', \n",
    "                                  'p', 'sp', 'p', 'pa', 'b', 'p', 'p', 'b', \n",
    "                                  'p', 'o', 'ri', 'p', 'rgs', 'o', 'o', 'b', \n",
    "                                  'p', 'b', 'o', 'b', 'p', 'ri', 'p', 'b', \n",
    "                                  'b', 'p', 'li', 'p', 'b', 'b', 'b', 'o', \n",
    "                                  'o', 'tc', 'b'])\n",
    "df4r[4] = df4r[4].assign(label = ['s', 'r', 'p', 'p', 'rs', 'o', 'p', 'p', \n",
    "                                  'o', 'rs', 'p', 'b', 'p', 'pa', 'rs', 'p', \n",
    "                                  'ct', 'p', 'rs', 'p', 'o', 'o', 'o', 'm', \n",
    "                                  'p', 'p', 'mo', 'b', 'p', 'rgs', 'o', 'p', \n",
    "                                  'p', 'o', 'o', 'rgs', 'o', 'tc', 'o', 'p', \n",
    "                                  'sl', 'p', 'p', 'p', 'bp', 'b', 'sw', 'o', \n",
    "                                  'b', 'o', 'tc', 'sl', 'sl'])\n",
    "df4r[5] = df4r[5].assign(label = ['b', 's', 'b', 'b', 'tram', 'rgs', 'rgs', 's', \n",
    "                                  'rgs', 'rgs', 'rgs', 'o', 'p', 'pa', 'v', 'mo', \n",
    "                                  'b', 'rgs', 'rgs', 't', 'rgs', 'curb', 'm', 'o', \n",
    "                                  'tram', 'o', 'rgs', 'o', 'rgs', 'm', 'p', 'pa', \n",
    "                                  'b', 'o', 'b', 'rgs', 'rgs', 'b', 'rgs', 'o', \n",
    "                                  'sw', 'p', 'o', 'lp', 'o', 'h', 'o', 'o', \n",
    "                                  'o', 't', 'vp', 'sw', 'o'])\n",
    "df4r[6] = df4r[6].assign(label = ['p', 'v', 'b', 'b', 'r', 'b', 's', 'v', \n",
    "                                  'p', 'rgs', 'rgs', 'p', 't', 'p', 'b', 'p', \n",
    "                                  'p', 'p', 'p', 'vp', 'sh', 'o', 'bl', 'vp', \n",
    "                                  'o', 'o', 'vp', 'bl', 'pa', 'sw', 'o', 'p', \n",
    "                                  'o', 'st', 'o', 'o', 'o', 'rgs'])\n",
    "df4r[7] = df4r[7].assign(label = ['rb', 'o', 'o', 'o', 'o', 'r', 'rb', 'o', \n",
    "                                  'bip', 'bi', 'o', 'o', 'o', 'o', 'sh', 'o', \n",
    "                                  'li', 'o', 'o', 'sh', 'r', 'li', 'bi', 'o', \n",
    "                                  'o', 'o', 'o', 'o', 'o', 'o', 'bi', 'o', \n",
    "                                  'o', 'b', 'o', 'o', 'o', 'bip', 'o', 'o', \n",
    "                                  'o', 'o', 'o', 'o', 'bip', 'o', 'o', 'o', \n",
    "                                  'bi', 'o', 'v', 'o', 'o', 'p', 'o', 'o', \n",
    "                                  'o', 'o'])\n",
    "df4r[8] = df4r[8].assign(label = ['r', 's', 'r', 'pa', 'o', 'curb', 't', 'tb', \n",
    "                                  'o', 'o', 'p', 'rgs', 'o', 'o', 'pa', 'o', \n",
    "                                  'pa', 'b', 'h', 'rs', 'o', 'o', 'b', 'b', \n",
    "                                  'o', 'curb', 'o', 'b', 'o', 'o', 'p', 'b', \n",
    "                                  'b', 'v', 'o', 'o', 'v'])\n",
    "df4r[9] = df4r[9].assign(label = ['b', 'b', 's', 'b', 'b', 'r', 'b', 'o', \n",
    "                                  'b', 'b', 'b', 'o', 'p', 'p', 'o', 'pa', \n",
    "                                  'o', 'v', 'o', 'b', 'o', 'o', 'rgs', 'o', \n",
    "                                  'o', 'o', 'o', 'o', 'tb', 'o', 'o', 'v', \n",
    "                                  'o', 'o', 'o', 'vp', 'mb', 'o', 'b'])\n"
   ]
  },
  {
   "cell_type": "code",
   "execution_count": 3369,
   "id": "aaa11440-d11f-4526-b683-3e0fcf356be4",
   "metadata": {
    "execution": {
     "iopub.execute_input": "2024-01-23T15:08:03.179827Z",
     "iopub.status.busy": "2024-01-23T15:08:03.179556Z",
     "iopub.status.idle": "2024-01-23T15:08:03.182794Z",
     "shell.execute_reply": "2024-01-23T15:08:03.182338Z",
     "shell.execute_reply.started": "2024-01-23T15:08:03.179811Z"
    }
   },
   "outputs": [],
   "source": [
    "dfr_curb = pd.DataFrame()"
   ]
  },
  {
   "cell_type": "code",
   "execution_count": 3370,
   "id": "c6d25446-dc86-4b77-b39e-aedc2acdb40e",
   "metadata": {
    "execution": {
     "iopub.execute_input": "2024-01-23T15:08:03.318380Z",
     "iopub.status.busy": "2024-01-23T15:08:03.317972Z",
     "iopub.status.idle": "2024-01-23T15:08:03.352055Z",
     "shell.execute_reply": "2024-01-23T15:08:03.351025Z",
     "shell.execute_reply.started": "2024-01-23T15:08:03.318364Z"
    }
   },
   "outputs": [],
   "source": [
    "for i in range(0,10):\n",
    "    dfi = df1r[i]\n",
    "    dfic = dfi.loc[dfi['label'] == 'curb']\n",
    "    dfr_curb = pd.concat([dfr_curb, dfic])\n",
    "for i in range(0,10):\n",
    "    dfi = df2r[i]\n",
    "    dfic = dfi.loc[dfi['label'] == 'curb']\n",
    "    dfr_curb = pd.concat([dfr_curb, dfic])\n",
    "for i in range(0,10):\n",
    "    dfi = df3r[i]\n",
    "    dfic = dfi.loc[dfi['label'] == 'curb']\n",
    "    dfr_curb = pd.concat([dfr_curb, dfic])\n",
    "for i in range(0,10):\n",
    "    dfi = df4r[i]\n",
    "    dfic = dfi.loc[dfi['label'] == 'curb']\n",
    "    dfr_curb = pd.concat([dfr_curb, dfic])"
   ]
  },
  {
   "cell_type": "code",
   "execution_count": 3371,
   "id": "b121760a-701f-4530-b53b-4a0531775648",
   "metadata": {
    "execution": {
     "iopub.execute_input": "2024-01-23T15:08:08.616827Z",
     "iopub.status.busy": "2024-01-23T15:08:08.616643Z",
     "iopub.status.idle": "2024-01-23T15:08:08.629997Z",
     "shell.execute_reply": "2024-01-23T15:08:08.629533Z",
     "shell.execute_reply.started": "2024-01-23T15:08:08.616814Z"
    }
   },
   "outputs": [
    {
     "data": {
      "text/html": [
       "<div>\n",
       "<style scoped>\n",
       "    .dataframe tbody tr th:only-of-type {\n",
       "        vertical-align: middle;\n",
       "    }\n",
       "\n",
       "    .dataframe tbody tr th {\n",
       "        vertical-align: top;\n",
       "    }\n",
       "\n",
       "    .dataframe thead th {\n",
       "        text-align: right;\n",
       "    }\n",
       "</style>\n",
       "<table border=\"1\" class=\"dataframe\">\n",
       "  <thead>\n",
       "    <tr style=\"text-align: right;\">\n",
       "      <th></th>\n",
       "      <th>mask</th>\n",
       "      <th>gmedian</th>\n",
       "      <th>rmedian</th>\n",
       "      <th>bmedian</th>\n",
       "      <th>gmean</th>\n",
       "      <th>rmean</th>\n",
       "      <th>bmean</th>\n",
       "      <th>gstd</th>\n",
       "      <th>rstd</th>\n",
       "      <th>bstd</th>\n",
       "      <th>...</th>\n",
       "      <th>solidity</th>\n",
       "      <th>aspect_ratio_wh</th>\n",
       "      <th>extent</th>\n",
       "      <th>ed</th>\n",
       "      <th>ratio_ell</th>\n",
       "      <th>perimeter</th>\n",
       "      <th>is_cen_inside</th>\n",
       "      <th>is_mce_inside</th>\n",
       "      <th>Nr</th>\n",
       "      <th>label</th>\n",
       "    </tr>\n",
       "  </thead>\n",
       "  <tbody>\n",
       "    <tr>\n",
       "      <th>37</th>\n",
       "      <td>38</td>\n",
       "      <td>89.0</td>\n",
       "      <td>86.0</td>\n",
       "      <td>82.0</td>\n",
       "      <td>83.964153</td>\n",
       "      <td>82.889988</td>\n",
       "      <td>77.677379</td>\n",
       "      <td>20.441661</td>\n",
       "      <td>18.218398</td>\n",
       "      <td>20.212676</td>\n",
       "      <td>...</td>\n",
       "      <td>0.927985</td>\n",
       "      <td>4.971015</td>\n",
       "      <td>0.806904</td>\n",
       "      <td>30.580949</td>\n",
       "      <td>8.811351</td>\n",
       "      <td>158.183766</td>\n",
       "      <td>1.0</td>\n",
       "      <td>1.0</td>\n",
       "      <td>999000524207101</td>\n",
       "      <td>curb</td>\n",
       "    </tr>\n",
       "    <tr>\n",
       "      <th>5</th>\n",
       "      <td>6</td>\n",
       "      <td>160.0</td>\n",
       "      <td>157.0</td>\n",
       "      <td>161.0</td>\n",
       "      <td>150.332414</td>\n",
       "      <td>145.645854</td>\n",
       "      <td>151.448763</td>\n",
       "      <td>25.694289</td>\n",
       "      <td>26.320306</td>\n",
       "      <td>25.199773</td>\n",
       "      <td>...</td>\n",
       "      <td>0.866298</td>\n",
       "      <td>0.107932</td>\n",
       "      <td>0.502584</td>\n",
       "      <td>121.485621</td>\n",
       "      <td>18.171965</td>\n",
       "      <td>976.202227</td>\n",
       "      <td>1.0</td>\n",
       "      <td>1.0</td>\n",
       "      <td>999000510761211</td>\n",
       "      <td>curb</td>\n",
       "    </tr>\n",
       "    <tr>\n",
       "      <th>22</th>\n",
       "      <td>23</td>\n",
       "      <td>160.0</td>\n",
       "      <td>158.0</td>\n",
       "      <td>161.0</td>\n",
       "      <td>150.359386</td>\n",
       "      <td>146.838113</td>\n",
       "      <td>151.362376</td>\n",
       "      <td>24.111482</td>\n",
       "      <td>24.834688</td>\n",
       "      <td>23.477196</td>\n",
       "      <td>...</td>\n",
       "      <td>0.935631</td>\n",
       "      <td>0.23477</td>\n",
       "      <td>0.70225</td>\n",
       "      <td>95.519812</td>\n",
       "      <td>19.027941</td>\n",
       "      <td>477.754397</td>\n",
       "      <td>1.0</td>\n",
       "      <td>1.0</td>\n",
       "      <td>999000510761211</td>\n",
       "      <td>curb</td>\n",
       "    </tr>\n",
       "    <tr>\n",
       "      <th>26</th>\n",
       "      <td>27</td>\n",
       "      <td>161.0</td>\n",
       "      <td>155.0</td>\n",
       "      <td>161.0</td>\n",
       "      <td>151.567616</td>\n",
       "      <td>144.943917</td>\n",
       "      <td>152.858661</td>\n",
       "      <td>27.512981</td>\n",
       "      <td>28.026866</td>\n",
       "      <td>27.18083</td>\n",
       "      <td>...</td>\n",
       "      <td>0.907856</td>\n",
       "      <td>0.115385</td>\n",
       "      <td>0.551021</td>\n",
       "      <td>73.231721</td>\n",
       "      <td>18.207771</td>\n",
       "      <td>558.00418</td>\n",
       "      <td>1.0</td>\n",
       "      <td>1.0</td>\n",
       "      <td>999000510761211</td>\n",
       "      <td>curb</td>\n",
       "    </tr>\n",
       "    <tr>\n",
       "      <th>54</th>\n",
       "      <td>55</td>\n",
       "      <td>101.0</td>\n",
       "      <td>89.0</td>\n",
       "      <td>107.0</td>\n",
       "      <td>112.907021</td>\n",
       "      <td>98.487666</td>\n",
       "      <td>119.26186</td>\n",
       "      <td>31.27343</td>\n",
       "      <td>28.413111</td>\n",
       "      <td>31.691105</td>\n",
       "      <td>...</td>\n",
       "      <td>0.912023</td>\n",
       "      <td>0.170352</td>\n",
       "      <td>0.824744</td>\n",
       "      <td>24.371423</td>\n",
       "      <td>9.489508</td>\n",
       "      <td>134.325901</td>\n",
       "      <td>1.0</td>\n",
       "      <td>1.0</td>\n",
       "      <td>999000465410312</td>\n",
       "      <td>curb</td>\n",
       "    </tr>\n",
       "    <tr>\n",
       "      <th>65</th>\n",
       "      <td>66</td>\n",
       "      <td>179.0</td>\n",
       "      <td>167.0</td>\n",
       "      <td>185.0</td>\n",
       "      <td>179.172646</td>\n",
       "      <td>166.665919</td>\n",
       "      <td>184.894619</td>\n",
       "      <td>24.642361</td>\n",
       "      <td>24.760794</td>\n",
       "      <td>24.972184</td>\n",
       "      <td>...</td>\n",
       "      <td>0.715054</td>\n",
       "      <td>24.845264</td>\n",
       "      <td>0.635632</td>\n",
       "      <td>20.575523</td>\n",
       "      <td>33.55872</td>\n",
       "      <td>246.12489</td>\n",
       "      <td>1.0</td>\n",
       "      <td>1.0</td>\n",
       "      <td>999000509348992</td>\n",
       "      <td>curb</td>\n",
       "    </tr>\n",
       "    <tr>\n",
       "      <th>24</th>\n",
       "      <td>25</td>\n",
       "      <td>161.0</td>\n",
       "      <td>140.0</td>\n",
       "      <td>173.0</td>\n",
       "      <td>156.049383</td>\n",
       "      <td>135.787037</td>\n",
       "      <td>168.399691</td>\n",
       "      <td>18.772863</td>\n",
       "      <td>18.196485</td>\n",
       "      <td>19.064603</td>\n",
       "      <td>...</td>\n",
       "      <td>0.808835</td>\n",
       "      <td>18.95</td>\n",
       "      <td>0.700528</td>\n",
       "      <td>26.001735</td>\n",
       "      <td>27.071133</td>\n",
       "      <td>262.651802</td>\n",
       "      <td>1.0</td>\n",
       "      <td>1.0</td>\n",
       "      <td>999000464845312</td>\n",
       "      <td>curb</td>\n",
       "    </tr>\n",
       "    <tr>\n",
       "      <th>36</th>\n",
       "      <td>37</td>\n",
       "      <td>186.0</td>\n",
       "      <td>176.0</td>\n",
       "      <td>202.0</td>\n",
       "      <td>170.391897</td>\n",
       "      <td>160.750517</td>\n",
       "      <td>186.173966</td>\n",
       "      <td>40.104738</td>\n",
       "      <td>41.095276</td>\n",
       "      <td>40.323475</td>\n",
       "      <td>...</td>\n",
       "      <td>0.825971</td>\n",
       "      <td>21.135672</td>\n",
       "      <td>0.735131</td>\n",
       "      <td>82.945463</td>\n",
       "      <td>23.377138</td>\n",
       "      <td>817.92388</td>\n",
       "      <td>1.0</td>\n",
       "      <td>1.0</td>\n",
       "      <td>999000481605162</td>\n",
       "      <td>curb</td>\n",
       "    </tr>\n",
       "    <tr>\n",
       "      <th>56</th>\n",
       "      <td>57</td>\n",
       "      <td>180.0</td>\n",
       "      <td>168.0</td>\n",
       "      <td>187.0</td>\n",
       "      <td>172.212061</td>\n",
       "      <td>160.589523</td>\n",
       "      <td>180.652087</td>\n",
       "      <td>31.031677</td>\n",
       "      <td>30.973516</td>\n",
       "      <td>30.78817</td>\n",
       "      <td>...</td>\n",
       "      <td>0.899645</td>\n",
       "      <td>0.186275</td>\n",
       "      <td>0.719298</td>\n",
       "      <td>42.129514</td>\n",
       "      <td>43.36246</td>\n",
       "      <td>233.79899</td>\n",
       "      <td>1.0</td>\n",
       "      <td>1.0</td>\n",
       "      <td>999000481605162</td>\n",
       "      <td>curb</td>\n",
       "    </tr>\n",
       "    <tr>\n",
       "      <th>13</th>\n",
       "      <td>14</td>\n",
       "      <td>94.0</td>\n",
       "      <td>85.0</td>\n",
       "      <td>96.0</td>\n",
       "      <td>97.502207</td>\n",
       "      <td>89.466893</td>\n",
       "      <td>99.023406</td>\n",
       "      <td>26.969688</td>\n",
       "      <td>26.428106</td>\n",
       "      <td>27.01732</td>\n",
       "      <td>...</td>\n",
       "      <td>0.933473</td>\n",
       "      <td>9.736435</td>\n",
       "      <td>0.576334</td>\n",
       "      <td>109.039034</td>\n",
       "      <td>24.071081</td>\n",
       "      <td>884.783833</td>\n",
       "      <td>1.0</td>\n",
       "      <td>1.0</td>\n",
       "      <td>999000510761212</td>\n",
       "      <td>curb</td>\n",
       "    </tr>\n",
       "    <tr>\n",
       "      <th>34</th>\n",
       "      <td>35</td>\n",
       "      <td>190.0</td>\n",
       "      <td>179.0</td>\n",
       "      <td>193.0</td>\n",
       "      <td>173.989167</td>\n",
       "      <td>164.720379</td>\n",
       "      <td>177.178064</td>\n",
       "      <td>40.75044</td>\n",
       "      <td>38.645915</td>\n",
       "      <td>41.008001</td>\n",
       "      <td>...</td>\n",
       "      <td>0.674561</td>\n",
       "      <td>10.942701</td>\n",
       "      <td>0.526612</td>\n",
       "      <td>41.065871</td>\n",
       "      <td>13.917352</td>\n",
       "      <td>363.889389</td>\n",
       "      <td>1.0</td>\n",
       "      <td>1.0</td>\n",
       "      <td>999000509348993</td>\n",
       "      <td>curb</td>\n",
       "    </tr>\n",
       "    <tr>\n",
       "      <th>46</th>\n",
       "      <td>47</td>\n",
       "      <td>86.0</td>\n",
       "      <td>87.5</td>\n",
       "      <td>82.0</td>\n",
       "      <td>91.95132</td>\n",
       "      <td>93.725248</td>\n",
       "      <td>88.077558</td>\n",
       "      <td>38.407363</td>\n",
       "      <td>38.491239</td>\n",
       "      <td>38.060581</td>\n",
       "      <td>...</td>\n",
       "      <td>0.719927</td>\n",
       "      <td>32.0</td>\n",
       "      <td>0.62787</td>\n",
       "      <td>35.404863</td>\n",
       "      <td>25.609541</td>\n",
       "      <td>460.04163</td>\n",
       "      <td>1.0</td>\n",
       "      <td>1.0</td>\n",
       "      <td>999000509348993</td>\n",
       "      <td>curb</td>\n",
       "    </tr>\n",
       "    <tr>\n",
       "      <th>16</th>\n",
       "      <td>17</td>\n",
       "      <td>146.0</td>\n",
       "      <td>129.0</td>\n",
       "      <td>153.0</td>\n",
       "      <td>142.982899</td>\n",
       "      <td>125.167177</td>\n",
       "      <td>150.393568</td>\n",
       "      <td>25.241305</td>\n",
       "      <td>24.873193</td>\n",
       "      <td>25.697464</td>\n",
       "      <td>...</td>\n",
       "      <td>0.734674</td>\n",
       "      <td>40.975349</td>\n",
       "      <td>0.594857</td>\n",
       "      <td>66.11859</td>\n",
       "      <td>117.546162</td>\n",
       "      <td>1037.002088</td>\n",
       "      <td>1.0</td>\n",
       "      <td>1.0</td>\n",
       "      <td>999000464845313</td>\n",
       "      <td>curb</td>\n",
       "    </tr>\n",
       "    <tr>\n",
       "      <th>19</th>\n",
       "      <td>20</td>\n",
       "      <td>93.0</td>\n",
       "      <td>87.0</td>\n",
       "      <td>95.0</td>\n",
       "      <td>108.554749</td>\n",
       "      <td>101.371152</td>\n",
       "      <td>110.023087</td>\n",
       "      <td>37.165143</td>\n",
       "      <td>36.826292</td>\n",
       "      <td>37.42452</td>\n",
       "      <td>...</td>\n",
       "      <td>0.801235</td>\n",
       "      <td>0.027275</td>\n",
       "      <td>0.523182</td>\n",
       "      <td>71.552052</td>\n",
       "      <td>157.344533</td>\n",
       "      <td>1141.470124</td>\n",
       "      <td>1.0</td>\n",
       "      <td>1.0</td>\n",
       "      <td>999000510761213</td>\n",
       "      <td>curb</td>\n",
       "    </tr>\n",
       "    <tr>\n",
       "      <th>26</th>\n",
       "      <td>27</td>\n",
       "      <td>171.0</td>\n",
       "      <td>168.0</td>\n",
       "      <td>172.0</td>\n",
       "      <td>170.854785</td>\n",
       "      <td>167.80198</td>\n",
       "      <td>171.986799</td>\n",
       "      <td>19.428774</td>\n",
       "      <td>19.650756</td>\n",
       "      <td>19.290377</td>\n",
       "      <td>...</td>\n",
       "      <td>0.855241</td>\n",
       "      <td>6.140704</td>\n",
       "      <td>0.543215</td>\n",
       "      <td>18.089294</td>\n",
       "      <td>20.128714</td>\n",
       "      <td>115.68124</td>\n",
       "      <td>1.0</td>\n",
       "      <td>1.0</td>\n",
       "      <td>999000510761213</td>\n",
       "      <td>curb</td>\n",
       "    </tr>\n",
       "    <tr>\n",
       "      <th>22</th>\n",
       "      <td>23</td>\n",
       "      <td>177.0</td>\n",
       "      <td>167.0</td>\n",
       "      <td>177.0</td>\n",
       "      <td>172.638013</td>\n",
       "      <td>163.204752</td>\n",
       "      <td>173.726566</td>\n",
       "      <td>15.98237</td>\n",
       "      <td>16.68039</td>\n",
       "      <td>15.047483</td>\n",
       "      <td>...</td>\n",
       "      <td>0.957863</td>\n",
       "      <td>4.549846</td>\n",
       "      <td>0.791467</td>\n",
       "      <td>52.985783</td>\n",
       "      <td>8.378942</td>\n",
       "      <td>262.735061</td>\n",
       "      <td>1.0</td>\n",
       "      <td>1.0</td>\n",
       "      <td>999000566471554</td>\n",
       "      <td>curb</td>\n",
       "    </tr>\n",
       "    <tr>\n",
       "      <th>5</th>\n",
       "      <td>6</td>\n",
       "      <td>165.0</td>\n",
       "      <td>162.0</td>\n",
       "      <td>166.0</td>\n",
       "      <td>155.604056</td>\n",
       "      <td>152.019645</td>\n",
       "      <td>157.622053</td>\n",
       "      <td>22.23401</td>\n",
       "      <td>23.450192</td>\n",
       "      <td>21.775636</td>\n",
       "      <td>...</td>\n",
       "      <td>0.912561</td>\n",
       "      <td>10.098095</td>\n",
       "      <td>0.520305</td>\n",
       "      <td>98.152774</td>\n",
       "      <td>20.753322</td>\n",
       "      <td>824.354459</td>\n",
       "      <td>1.0</td>\n",
       "      <td>1.0</td>\n",
       "      <td>999000510761214</td>\n",
       "      <td>curb</td>\n",
       "    </tr>\n",
       "    <tr>\n",
       "      <th>25</th>\n",
       "      <td>26</td>\n",
       "      <td>125.0</td>\n",
       "      <td>120.0</td>\n",
       "      <td>126.0</td>\n",
       "      <td>127.802326</td>\n",
       "      <td>122.896641</td>\n",
       "      <td>129.463824</td>\n",
       "      <td>35.484734</td>\n",
       "      <td>35.301831</td>\n",
       "      <td>35.540611</td>\n",
       "      <td>...</td>\n",
       "      <td>0.786303</td>\n",
       "      <td>0.039841</td>\n",
       "      <td>0.61753</td>\n",
       "      <td>28.096415</td>\n",
       "      <td>62.480888</td>\n",
       "      <td>346.592927</td>\n",
       "      <td>1.0</td>\n",
       "      <td>1.0</td>\n",
       "      <td>999000510761214</td>\n",
       "      <td>curb</td>\n",
       "    </tr>\n",
       "  </tbody>\n",
       "</table>\n",
       "<p>18 rows × 24 columns</p>\n",
       "</div>"
      ],
      "text/plain": [
       "    mask gmedian rmedian bmedian       gmean       rmean       bmean  \\\n",
       "37    38    89.0    86.0    82.0   83.964153   82.889988   77.677379   \n",
       "5      6   160.0   157.0   161.0  150.332414  145.645854  151.448763   \n",
       "22    23   160.0   158.0   161.0  150.359386  146.838113  151.362376   \n",
       "26    27   161.0   155.0   161.0  151.567616  144.943917  152.858661   \n",
       "54    55   101.0    89.0   107.0  112.907021   98.487666   119.26186   \n",
       "65    66   179.0   167.0   185.0  179.172646  166.665919  184.894619   \n",
       "24    25   161.0   140.0   173.0  156.049383  135.787037  168.399691   \n",
       "36    37   186.0   176.0   202.0  170.391897  160.750517  186.173966   \n",
       "56    57   180.0   168.0   187.0  172.212061  160.589523  180.652087   \n",
       "13    14    94.0    85.0    96.0   97.502207   89.466893   99.023406   \n",
       "34    35   190.0   179.0   193.0  173.989167  164.720379  177.178064   \n",
       "46    47    86.0    87.5    82.0    91.95132   93.725248   88.077558   \n",
       "16    17   146.0   129.0   153.0  142.982899  125.167177  150.393568   \n",
       "19    20    93.0    87.0    95.0  108.554749  101.371152  110.023087   \n",
       "26    27   171.0   168.0   172.0  170.854785   167.80198  171.986799   \n",
       "22    23   177.0   167.0   177.0  172.638013  163.204752  173.726566   \n",
       "5      6   165.0   162.0   166.0  155.604056  152.019645  157.622053   \n",
       "25    26   125.0   120.0   126.0  127.802326  122.896641  129.463824   \n",
       "\n",
       "         gstd       rstd       bstd  ...  solidity aspect_ratio_wh    extent  \\\n",
       "37  20.441661  18.218398  20.212676  ...  0.927985        4.971015  0.806904   \n",
       "5   25.694289  26.320306  25.199773  ...  0.866298        0.107932  0.502584   \n",
       "22  24.111482  24.834688  23.477196  ...  0.935631         0.23477   0.70225   \n",
       "26  27.512981  28.026866   27.18083  ...  0.907856        0.115385  0.551021   \n",
       "54   31.27343  28.413111  31.691105  ...  0.912023        0.170352  0.824744   \n",
       "65  24.642361  24.760794  24.972184  ...  0.715054       24.845264  0.635632   \n",
       "24  18.772863  18.196485  19.064603  ...  0.808835           18.95  0.700528   \n",
       "36  40.104738  41.095276  40.323475  ...  0.825971       21.135672  0.735131   \n",
       "56  31.031677  30.973516   30.78817  ...  0.899645        0.186275  0.719298   \n",
       "13  26.969688  26.428106   27.01732  ...  0.933473        9.736435  0.576334   \n",
       "34   40.75044  38.645915  41.008001  ...  0.674561       10.942701  0.526612   \n",
       "46  38.407363  38.491239  38.060581  ...  0.719927            32.0   0.62787   \n",
       "16  25.241305  24.873193  25.697464  ...  0.734674       40.975349  0.594857   \n",
       "19  37.165143  36.826292   37.42452  ...  0.801235        0.027275  0.523182   \n",
       "26  19.428774  19.650756  19.290377  ...  0.855241        6.140704  0.543215   \n",
       "22   15.98237   16.68039  15.047483  ...  0.957863        4.549846  0.791467   \n",
       "5    22.23401  23.450192  21.775636  ...  0.912561       10.098095  0.520305   \n",
       "25  35.484734  35.301831  35.540611  ...  0.786303        0.039841   0.61753   \n",
       "\n",
       "            ed   ratio_ell    perimeter is_cen_inside is_mce_inside  \\\n",
       "37   30.580949    8.811351   158.183766           1.0           1.0   \n",
       "5   121.485621   18.171965   976.202227           1.0           1.0   \n",
       "22   95.519812   19.027941   477.754397           1.0           1.0   \n",
       "26   73.231721   18.207771    558.00418           1.0           1.0   \n",
       "54   24.371423    9.489508   134.325901           1.0           1.0   \n",
       "65   20.575523    33.55872    246.12489           1.0           1.0   \n",
       "24   26.001735   27.071133   262.651802           1.0           1.0   \n",
       "36   82.945463   23.377138    817.92388           1.0           1.0   \n",
       "56   42.129514    43.36246    233.79899           1.0           1.0   \n",
       "13  109.039034   24.071081   884.783833           1.0           1.0   \n",
       "34   41.065871   13.917352   363.889389           1.0           1.0   \n",
       "46   35.404863   25.609541    460.04163           1.0           1.0   \n",
       "16    66.11859  117.546162  1037.002088           1.0           1.0   \n",
       "19   71.552052  157.344533  1141.470124           1.0           1.0   \n",
       "26   18.089294   20.128714    115.68124           1.0           1.0   \n",
       "22   52.985783    8.378942   262.735061           1.0           1.0   \n",
       "5    98.152774   20.753322   824.354459           1.0           1.0   \n",
       "25   28.096415   62.480888   346.592927           1.0           1.0   \n",
       "\n",
       "                 Nr label  \n",
       "37  999000524207101  curb  \n",
       "5   999000510761211  curb  \n",
       "22  999000510761211  curb  \n",
       "26  999000510761211  curb  \n",
       "54  999000465410312  curb  \n",
       "65  999000509348992  curb  \n",
       "24  999000464845312  curb  \n",
       "36  999000481605162  curb  \n",
       "56  999000481605162  curb  \n",
       "13  999000510761212  curb  \n",
       "34  999000509348993  curb  \n",
       "46  999000509348993  curb  \n",
       "16  999000464845313  curb  \n",
       "19  999000510761213  curb  \n",
       "26  999000510761213  curb  \n",
       "22  999000566471554  curb  \n",
       "5   999000510761214  curb  \n",
       "25  999000510761214  curb  \n",
       "\n",
       "[18 rows x 24 columns]"
      ]
     },
     "execution_count": 3371,
     "metadata": {},
     "output_type": "execute_result"
    }
   ],
   "source": [
    "dfr_curb"
   ]
  },
  {
   "cell_type": "code",
   "execution_count": 3373,
   "id": "8b43e5cb-336b-494f-81f3-bff642de1c49",
   "metadata": {
    "execution": {
     "iopub.execute_input": "2024-01-23T15:12:58.261999Z",
     "iopub.status.busy": "2024-01-23T15:12:58.261671Z",
     "iopub.status.idle": "2024-01-23T15:12:58.264995Z",
     "shell.execute_reply": "2024-01-23T15:12:58.264450Z",
     "shell.execute_reply.started": "2024-01-23T15:12:58.261978Z"
    }
   },
   "outputs": [],
   "source": [
    "dfr_all = pd.DataFrame()"
   ]
  },
  {
   "cell_type": "code",
   "execution_count": 3375,
   "id": "fbbc2f1d-fb5b-40e8-9d43-763e4400a315",
   "metadata": {
    "execution": {
     "iopub.execute_input": "2024-01-23T15:13:46.058397Z",
     "iopub.status.busy": "2024-01-23T15:13:46.058129Z",
     "iopub.status.idle": "2024-01-23T15:13:46.069107Z",
     "shell.execute_reply": "2024-01-23T15:13:46.068588Z",
     "shell.execute_reply.started": "2024-01-23T15:13:46.058380Z"
    }
   },
   "outputs": [
    {
     "name": "stdout",
     "output_type": "stream",
     "text": [
      "0\n",
      "1\n",
      "2\n",
      "3\n",
      "4\n",
      "5\n",
      "6\n",
      "7\n",
      "8\n",
      "9\n"
     ]
    }
   ],
   "source": [
    "for i in range(0, 10):\n",
    "    dfi1 = df1r[i]\n",
    "    dfi2 = df2r[i]\n",
    "    dfi3 = df3r[i]\n",
    "    dfi4 = df4r[i]\n",
    "    dfr_all = pd.concat([dfr_all, dfi1, dfi2, dfi3, dfi4])\n",
    "    print(i)"
   ]
  },
  {
   "cell_type": "code",
   "execution_count": 3377,
   "id": "02d5a483-b3cb-45ac-9c7b-3ffcc189c62c",
   "metadata": {
    "execution": {
     "iopub.execute_input": "2024-01-23T15:19:28.978823Z",
     "iopub.status.busy": "2024-01-23T15:19:28.978565Z",
     "iopub.status.idle": "2024-01-23T15:19:28.982326Z",
     "shell.execute_reply": "2024-01-23T15:19:28.981763Z",
     "shell.execute_reply.started": "2024-01-23T15:19:28.978805Z"
    }
   },
   "outputs": [
    {
     "name": "stdout",
     "output_type": "stream",
     "text": [
      "53 56 48 37\n",
      "83 52 78 105\n",
      "54 74 78 39\n",
      "58 37 38 51\n",
      "45 42 39 53\n",
      "31 49 42 53\n",
      "54 78 59 38\n",
      "60 40 43 58\n",
      "50 31 45 37\n",
      "54 60 35 39\n"
     ]
    }
   ],
   "source": [
    "for i in range(0, 10):\n",
    "    print(len(df1r[i]), len(df2r[i]),len(df3r[i]),len(df4r[i]))"
   ]
  },
  {
   "cell_type": "code",
   "execution_count": 3376,
   "id": "9e63e844-41b2-46a6-893f-63547186a45e",
   "metadata": {
    "execution": {
     "iopub.execute_input": "2024-01-23T15:13:55.473801Z",
     "iopub.status.busy": "2024-01-23T15:13:55.473553Z",
     "iopub.status.idle": "2024-01-23T15:13:55.482744Z",
     "shell.execute_reply": "2024-01-23T15:13:55.482212Z",
     "shell.execute_reply.started": "2024-01-23T15:13:55.473784Z"
    }
   },
   "outputs": [
    {
     "name": "stdout",
     "output_type": "stream",
     "text": [
      "<class 'pandas.core.frame.DataFrame'>\n",
      "Index: 2076 entries, 0 to 39\n",
      "Data columns (total 24 columns):\n",
      " #   Column             Non-Null Count  Dtype \n",
      "---  ------             --------------  ----- \n",
      " 0   mask               2076 non-null   int64 \n",
      " 1   gmedian            2076 non-null   object\n",
      " 2   rmedian            2076 non-null   object\n",
      " 3   bmedian            2076 non-null   object\n",
      " 4   gmean              2076 non-null   object\n",
      " 5   rmean              2076 non-null   object\n",
      " 6   bmean              2076 non-null   object\n",
      " 7   gstd               2076 non-null   object\n",
      " 8   rstd               2076 non-null   object\n",
      " 9   bstd               2076 non-null   object\n",
      " 10  isconvex           2076 non-null   object\n",
      " 11  area               2076 non-null   object\n",
      " 12  aspect_ratio_wh_s  2076 non-null   object\n",
      " 13  extent_s           2076 non-null   object\n",
      " 14  solidity           2076 non-null   object\n",
      " 15  aspect_ratio_wh    2076 non-null   object\n",
      " 16  extent             2076 non-null   object\n",
      " 17  ed                 2076 non-null   object\n",
      " 18  ratio_ell          2076 non-null   object\n",
      " 19  perimeter          2076 non-null   object\n",
      " 20  is_cen_inside      2076 non-null   object\n",
      " 21  is_mce_inside      2076 non-null   object\n",
      " 22  Nr                 2076 non-null   object\n",
      " 23  label              2076 non-null   object\n",
      "dtypes: int64(1), object(23)\n",
      "memory usage: 405.5+ KB\n"
     ]
    }
   ],
   "source": [
    "dfr_all.info()"
   ]
  },
  {
   "cell_type": "code",
   "execution_count": 3378,
   "id": "1f2b4da0-4dc8-4d42-a5b6-86fd7a4f337e",
   "metadata": {
    "execution": {
     "iopub.execute_input": "2024-01-23T15:23:21.759010Z",
     "iopub.status.busy": "2024-01-23T15:23:21.758745Z",
     "iopub.status.idle": "2024-01-23T15:23:21.811580Z",
     "shell.execute_reply": "2024-01-23T15:23:21.811060Z",
     "shell.execute_reply.started": "2024-01-23T15:23:21.758993Z"
    }
   },
   "outputs": [],
   "source": [
    "dfr_curb.to_csv('/home/yelhe/script/mt/r_curb.csv', index = False)\n",
    "dfr_all.to_csv('/home/yelhe/script/mt/df_all_r.csv', index = False)"
   ]
  },
  {
   "cell_type": "code",
   "execution_count": 38,
   "id": "fdfb12be-62e0-4c86-b43b-828403e32aba",
   "metadata": {
    "execution": {
     "iopub.execute_input": "2024-01-21T17:43:45.614024Z",
     "iopub.status.busy": "2024-01-21T17:43:45.613753Z",
     "iopub.status.idle": "2024-01-21T17:43:45.616786Z",
     "shell.execute_reply": "2024-01-21T17:43:45.616172Z",
     "shell.execute_reply.started": "2024-01-21T17:43:45.614008Z"
    }
   },
   "outputs": [],
   "source": [
    "# i = i+1\n",
    "# print(i)\n",
    "# plt.figure(figsize = (10,10))\n",
    "# plt.subplot(421), plt.imshow(gsv_image1[i])\n",
    "# plt.subplot(422), plt.imshow(m1c[i][0])\n",
    "# plt.subplot(423), plt.imshow(gsv_image2[i])\n",
    "# plt.subplot(424), plt.imshow(m2c[i][0])\n",
    "# plt.subplot(425), plt.imshow(gsv_image3[i])\n",
    "# plt.subplot(426), plt.imshow(m3c[i][0])\n",
    "# plt.subplot(427), plt.imshow(gsv_image4[i])\n",
    "# plt.subplot(428), plt.imshow(m4c[i][0])\n",
    "# plt.show()"
   ]
  },
  {
   "cell_type": "code",
   "execution_count": 39,
   "id": "ec6edf40-98a9-40ac-b574-0dfaf904d221",
   "metadata": {
    "execution": {
     "iopub.execute_input": "2024-01-21T17:43:55.717604Z",
     "iopub.status.busy": "2024-01-21T17:43:55.717333Z",
     "iopub.status.idle": "2024-01-21T17:43:55.720392Z",
     "shell.execute_reply": "2024-01-21T17:43:55.719821Z",
     "shell.execute_reply.started": "2024-01-21T17:43:55.717587Z"
    }
   },
   "outputs": [],
   "source": [
    "# for i in range(0,10):\n",
    "#     m = il[i]\n",
    "#     m1 = np.load('/home/yelhe/script/mt/random/' + n1[m] + '.npy', allow_pickle=True)\n",
    "#     m1f = filter_overlap(m1)\n",
    "#     np.save('/home/yelhe/script/mt/random/' + n1[m] + 'f.npy', m1f, allow_pickle=True)\n",
    "#     m2 = np.load('/home/yelhe/script/mt/random/' + n2[m] + '.npy', allow_pickle=True)\n",
    "#     m2f = filter_overlap(m2)\n",
    "#     np.save('/home/yelhe/script/mt/random/' + n2[m] + 'f.npy', m2f, allow_pickle=True)\n",
    "#     m3 = np.load('/home/yelhe/script/mt/random/' + n3[m] + '.npy', allow_pickle=True)\n",
    "#     m3f = filter_overlap(m3)\n",
    "#     np.save('/home/yelhe/script/mt/random/' + n3[m] + 'f.npy', m3f, allow_pickle=True)\n",
    "#     m4 = np.load('/home/yelhe/script/mt/random/' + n4[m] + '.npy', allow_pickle=True)\n",
    "#     m4f = filter_overlap(m4)\n",
    "#     np.save('/home/yelhe/script/mt/random/' + n4[m] + 'f.npy', m4f, allow_pickle=True)\n",
    "#     print(i)"
   ]
  },
  {
   "cell_type": "code",
   "execution_count": 3381,
   "id": "62bba0d6-8a20-47dd-ac04-eebe6cdc8af8",
   "metadata": {
    "execution": {
     "iopub.execute_input": "2024-01-23T15:25:03.108586Z",
     "iopub.status.busy": "2024-01-23T15:25:03.108286Z",
     "iopub.status.idle": "2024-01-23T15:25:03.276993Z",
     "shell.execute_reply": "2024-01-23T15:25:03.276451Z",
     "shell.execute_reply.started": "2024-01-23T15:25:03.108567Z"
    }
   },
   "outputs": [
    {
     "data": {
      "text/plain": [
       "(array([4., 1., 0., 1., 0., 1., 0., 5., 3., 3.]),\n",
       " array([ 86. ,  96.4, 106.8, 117.2, 127.6, 138. , 148.4, 158.8, 169.2,\n",
       "        179.6, 190. ]),\n",
       " <BarContainer object of 10 artists>)"
      ]
     },
     "execution_count": 3381,
     "metadata": {},
     "output_type": "execute_result"
    },
    {
     "data": {
      "image/png": "[encoded data removed]",
      "text/plain": [
       "<Figure size 640x480 with 1 Axes>"
      ]
     },
     "metadata": {},
     "output_type": "display_data"
    }
   ],
   "source": [
    "plt.hist(dfr_curb['gmedian'])"
   ]
  },
  {
   "cell_type": "code",
   "execution_count": 3382,
   "id": "b870c27c-321b-4a4d-a152-5d10045c6888",
   "metadata": {
    "execution": {
     "iopub.execute_input": "2024-01-23T15:25:05.608814Z",
     "iopub.status.busy": "2024-01-23T15:25:05.608611Z",
     "iopub.status.idle": "2024-01-23T15:25:05.776772Z",
     "shell.execute_reply": "2024-01-23T15:25:05.776198Z",
     "shell.execute_reply.started": "2024-01-23T15:25:05.608795Z"
    }
   },
   "outputs": [
    {
     "data": {
      "text/plain": [
       "(array([5., 0., 0., 1., 1., 1., 0., 3., 5., 2.]),\n",
       " array([ 85. ,  94.4, 103.8, 113.2, 122.6, 132. , 141.4, 150.8, 160.2,\n",
       "        169.6, 179. ]),\n",
       " <BarContainer object of 10 artists>)"
      ]
     },
     "execution_count": 3382,
     "metadata": {},
     "output_type": "execute_result"
    },
    {
     "data": {
      "image/png": "[encoded data removed]",
      "text/plain": [
       "<Figure size 640x480 with 1 Axes>"
      ]
     },
     "metadata": {},
     "output_type": "display_data"
    }
   ],
   "source": [
    "plt.hist(dfr_curb['rmedian'])"
   ]
  },
  {
   "cell_type": "code",
   "execution_count": 3383,
   "id": "1a819705-8334-46e3-9c16-730c3831ee81",
   "metadata": {
    "execution": {
     "iopub.execute_input": "2024-01-23T15:28:06.357938Z",
     "iopub.status.busy": "2024-01-23T15:28:06.357671Z",
     "iopub.status.idle": "2024-01-23T15:28:06.541728Z",
     "shell.execute_reply": "2024-01-23T15:28:06.541161Z",
     "shell.execute_reply.started": "2024-01-23T15:28:06.357919Z"
    }
   },
   "outputs": [
    {
     "data": {
      "text/plain": [
       "(array([2., 2., 1., 1., 0., 1., 3., 4., 2., 2.]),\n",
       " array([ 82.,  94., 106., 118., 130., 142., 154., 166., 178., 190., 202.]),\n",
       " <BarContainer object of 10 artists>)"
      ]
     },
     "execution_count": 3383,
     "metadata": {},
     "output_type": "execute_result"
    },
    {
     "data": {
      "image/png": "[encoded data removed]",
      "text/plain": [
       "<Figure size 640x480 with 1 Axes>"
      ]
     },
     "metadata": {},
     "output_type": "display_data"
    }
   ],
   "source": [
    "plt.hist(dfr_curb['bmedian'])"
   ]
  },
  {
   "cell_type": "code",
   "execution_count": 3384,
   "id": "2fcc5a96-8ef2-4543-90ce-1602dbe20330",
   "metadata": {
    "execution": {
     "iopub.execute_input": "2024-01-23T15:28:06.551574Z",
     "iopub.status.busy": "2024-01-23T15:28:06.551340Z",
     "iopub.status.idle": "2024-01-23T15:28:06.724234Z",
     "shell.execute_reply": "2024-01-23T15:28:06.723707Z",
     "shell.execute_reply.started": "2024-01-23T15:28:06.551544Z"
    }
   },
   "outputs": [
    {
     "data": {
      "text/plain": [
       "(array([2., 1., 1., 1., 1., 0., 3., 3., 0., 6.]),\n",
       " array([ 83.96415328,  93.48500252, 103.00585177, 112.52670101,\n",
       "        122.04755026, 131.56839951, 141.08924875, 150.610098  ,\n",
       "        160.13094725, 169.65179649, 179.17264574]),\n",
       " <BarContainer object of 10 artists>)"
      ]
     },
     "execution_count": 3384,
     "metadata": {},
     "output_type": "execute_result"
    },
    {
     "data": {
      "image/png": "[encoded data removed]",
      "text/plain": [
       "<Figure size 640x480 with 1 Axes>"
      ]
     },
     "metadata": {},
     "output_type": "display_data"
    }
   ],
   "source": [
    "plt.hist(dfr_curb['gmean'])"
   ]
  },
  {
   "cell_type": "code",
   "execution_count": 3385,
   "id": "542c7a8b-3be4-4fd0-b9e5-b9c1010f4e2f",
   "metadata": {
    "execution": {
     "iopub.execute_input": "2024-01-23T15:28:06.741565Z",
     "iopub.status.busy": "2024-01-23T15:28:06.741362Z",
     "iopub.status.idle": "2024-01-23T15:28:06.910707Z",
     "shell.execute_reply": "2024-01-23T15:28:06.910356Z",
     "shell.execute_reply.started": "2024-01-23T15:28:06.741552Z"
    }
   },
   "outputs": [
    {
     "data": {
      "text/plain": [
       "(array([2., 2., 1., 0., 2., 0., 1., 3., 1., 6.]),\n",
       " array([ 82.88998764,  91.38118689,  99.87238615, 108.36358541,\n",
       "        116.85478466, 125.34598392, 133.83718317, 142.32838243,\n",
       "        150.81958169, 159.31078094, 167.8019802 ]),\n",
       " <BarContainer object of 10 artists>)"
      ]
     },
     "execution_count": 3385,
     "metadata": {},
     "output_type": "execute_result"
    },
    {
     "data": {
      "image/png": "[encoded data removed]",
      "text/plain": [
       "<Figure size 640x480 with 1 Axes>"
      ]
     },
     "metadata": {},
     "output_type": "display_data"
    }
   ],
   "source": [
    "plt.hist(dfr_curb['rmean'])"
   ]
  },
  {
   "cell_type": "code",
   "execution_count": 3386,
   "id": "e205ec08-7320-461e-8ce3-a3549f17b76d",
   "metadata": {
    "execution": {
     "iopub.execute_input": "2024-01-23T15:28:06.986162Z",
     "iopub.status.busy": "2024-01-23T15:28:06.985975Z",
     "iopub.status.idle": "2024-01-23T15:28:07.166112Z",
     "shell.execute_reply": "2024-01-23T15:28:07.165565Z",
     "shell.execute_reply.started": "2024-01-23T15:28:06.986148Z"
    }
   },
   "outputs": [
    {
     "data": {
      "text/plain": [
       "(array([2., 1., 1., 1., 1., 0., 4., 1., 3., 4.]),\n",
       " array([ 77.67737948,  88.52703808,  99.37669669, 110.22635529,\n",
       "        121.0760139 , 131.9256725 , 142.7753311 , 153.62498971,\n",
       "        164.47464831, 175.32430691, 186.17396552]),\n",
       " <BarContainer object of 10 artists>)"
      ]
     },
     "execution_count": 3386,
     "metadata": {},
     "output_type": "execute_result"
    },
    {
     "data": {
      "image/png": "[encoded data removed]",
      "text/plain": [
       "<Figure size 640x480 with 1 Axes>"
      ]
     },
     "metadata": {},
     "output_type": "display_data"
    }
   ],
   "source": [
    "plt.hist(dfr_curb['bmean'])"
   ]
  },
  {
   "cell_type": "code",
   "execution_count": 3387,
   "id": "9d947556-cb63-4f5f-9e71-34010727c825",
   "metadata": {
    "execution": {
     "iopub.execute_input": "2024-01-23T15:28:07.167223Z",
     "iopub.status.busy": "2024-01-23T15:28:07.166989Z",
     "iopub.status.idle": "2024-01-23T15:28:07.347250Z",
     "shell.execute_reply": "2024-01-23T15:28:07.346750Z",
     "shell.execute_reply.started": "2024-01-23T15:28:07.167204Z"
    }
   },
   "outputs": [
    {
     "data": {
      "text/plain": [
       "(array([1., 3., 1., 4., 2., 0., 2., 1., 1., 3.]),\n",
       " array([15.98236954, 18.45917662, 20.93598371, 23.4127908 , 25.88959788,\n",
       "        28.36640497, 30.84321206, 33.32001914, 35.79682623, 38.27363332,\n",
       "        40.7504404 ]),\n",
       " <BarContainer object of 10 artists>)"
      ]
     },
     "execution_count": 3387,
     "metadata": {},
     "output_type": "execute_result"
    },
    {
     "data": {
      "image/png": "[encoded data removed]",
      "text/plain": [
       "<Figure size 640x480 with 1 Axes>"
      ]
     },
     "metadata": {},
     "output_type": "display_data"
    }
   ],
   "source": [
    "plt.hist(dfr_curb['gstd'])"
   ]
  },
  {
   "cell_type": "code",
   "execution_count": 3388,
   "id": "4367d863-f1dd-471c-9363-d2372424984a",
   "metadata": {
    "execution": {
     "iopub.execute_input": "2024-01-23T15:28:07.348354Z",
     "iopub.status.busy": "2024-01-23T15:28:07.348114Z",
     "iopub.status.idle": "2024-01-23T15:28:07.516251Z",
     "shell.execute_reply": "2024-01-23T15:28:07.515782Z",
     "shell.execute_reply.started": "2024-01-23T15:28:07.348329Z"
    }
   },
   "outputs": [
    {
     "data": {
      "text/plain": [
       "(array([3., 1., 1., 5., 2., 1., 0., 1., 3., 1.]),\n",
       " array([16.68038964, 19.12187829, 21.56336695, 24.0048556 , 26.44634425,\n",
       "        28.88783291, 31.32932156, 33.77081021, 36.21229887, 38.65378752,\n",
       "        41.09527617]),\n",
       " <BarContainer object of 10 artists>)"
      ]
     },
     "execution_count": 3388,
     "metadata": {},
     "output_type": "execute_result"
    },
    {
     "data": {
      "image/png": "[encoded data removed]",
      "text/plain": [
       "<Figure size 640x480 with 1 Axes>"
      ]
     },
     "metadata": {},
     "output_type": "display_data"
    }
   ],
   "source": [
    "plt.hist(dfr_curb['rstd'])"
   ]
  },
  {
   "cell_type": "code",
   "execution_count": 3389,
   "id": "7e5a9e32-6a03-4c79-b0c0-b6688a0299c9",
   "metadata": {
    "execution": {
     "iopub.execute_input": "2024-01-23T15:28:07.517391Z",
     "iopub.status.busy": "2024-01-23T15:28:07.517153Z",
     "iopub.status.idle": "2024-01-23T15:28:07.670519Z",
     "shell.execute_reply": "2024-01-23T15:28:07.670023Z",
     "shell.execute_reply.started": "2024-01-23T15:28:07.517372Z"
    }
   },
   "outputs": [
    {
     "data": {
      "text/plain": [
       "(array([1., 3., 1., 3., 3., 0., 2., 1., 2., 2.]),\n",
       " array([15.04748303, 17.64353486, 20.2395867 , 22.83563853, 25.43169036,\n",
       "        28.02774219, 30.62379402, 33.21984585, 35.81589768, 38.41194951,\n",
       "        41.00800134]),\n",
       " <BarContainer object of 10 artists>)"
      ]
     },
     "execution_count": 3389,
     "metadata": {},
     "output_type": "execute_result"
    },
    {
     "data": {
      "image/png": "[encoded data removed]",
      "text/plain": [
       "<Figure size 640x480 with 1 Axes>"
      ]
     },
     "metadata": {},
     "output_type": "display_data"
    }
   ],
   "source": [
    "plt.hist(dfr_curb['bstd'])"
   ]
  },
  {
   "cell_type": "code",
   "execution_count": 3390,
   "id": "027eb3ee-7a8f-423b-b120-2d6bc72954e6",
   "metadata": {
    "execution": {
     "iopub.execute_input": "2024-01-23T15:28:07.671635Z",
     "iopub.status.busy": "2024-01-23T15:28:07.671404Z",
     "iopub.status.idle": "2024-01-23T15:28:07.793552Z",
     "shell.execute_reply": "2024-01-23T15:28:07.793015Z",
     "shell.execute_reply.started": "2024-01-23T15:28:07.671617Z"
    }
   },
   "outputs": [
    {
     "data": {
      "text/plain": [
       "(array([ 0.,  0.,  0.,  0.,  0., 18.,  0.,  0.,  0.,  0.]),\n",
       " array([-0.5, -0.4, -0.3, -0.2, -0.1,  0. ,  0.1,  0.2,  0.3,  0.4,  0.5]),\n",
       " <BarContainer object of 10 artists>)"
      ]
     },
     "execution_count": 3390,
     "metadata": {},
     "output_type": "execute_result"
    },
    {
     "data": {
      "image/png": "[encoded data removed]",
      "text/plain": [
       "<Figure size 640x480 with 1 Axes>"
      ]
     },
     "metadata": {},
     "output_type": "display_data"
    }
   ],
   "source": [
    "plt.hist(dfr_curb['isconvex'])"
   ]
  },
  {
   "cell_type": "code",
   "execution_count": 3391,
   "id": "f0dfce57-4227-46bd-b45f-e389391cde90",
   "metadata": {
    "execution": {
     "iopub.execute_input": "2024-01-23T15:28:07.924818Z",
     "iopub.status.busy": "2024-01-23T15:28:07.924599Z",
     "iopub.status.idle": "2024-01-23T15:28:08.041501Z",
     "shell.execute_reply": "2024-01-23T15:28:08.040974Z",
     "shell.execute_reply.started": "2024-01-23T15:28:07.924799Z"
    }
   },
   "outputs": [
    {
     "data": {
      "text/plain": [
       "(array([ 0.,  0.,  0.,  0.,  0., 18.,  0.,  0.,  0.,  0.]),\n",
       " array([0.5, 0.6, 0.7, 0.8, 0.9, 1. , 1.1, 1.2, 1.3, 1.4, 1.5]),\n",
       " <BarContainer object of 10 artists>)"
      ]
     },
     "execution_count": 3391,
     "metadata": {},
     "output_type": "execute_result"
    },
    {
     "data": {
      "image/png": "[encoded data removed]",
      "text/plain": [
       "<Figure size 640x480 with 1 Axes>"
      ]
     },
     "metadata": {},
     "output_type": "display_data"
    }
   ],
   "source": [
    "plt.hist(dfr_curb['is_cen_inside'])"
   ]
  },
  {
   "cell_type": "code",
   "execution_count": 3392,
   "id": "d7846993-2621-4966-a52c-1432a077be3d",
   "metadata": {
    "execution": {
     "iopub.execute_input": "2024-01-23T15:28:08.242471Z",
     "iopub.status.busy": "2024-01-23T15:28:08.242318Z",
     "iopub.status.idle": "2024-01-23T15:28:08.360246Z",
     "shell.execute_reply": "2024-01-23T15:28:08.359724Z",
     "shell.execute_reply.started": "2024-01-23T15:28:08.242458Z"
    }
   },
   "outputs": [
    {
     "data": {
      "text/plain": [
       "(array([ 0.,  0.,  0.,  0.,  0., 18.,  0.,  0.,  0.,  0.]),\n",
       " array([0.5, 0.6, 0.7, 0.8, 0.9, 1. , 1.1, 1.2, 1.3, 1.4, 1.5]),\n",
       " <BarContainer object of 10 artists>)"
      ]
     },
     "execution_count": 3392,
     "metadata": {},
     "output_type": "execute_result"
    },
    {
     "data": {
      "image/png": "[encoded data removed]",
      "text/plain": [
       "<Figure size 640x480 with 1 Axes>"
      ]
     },
     "metadata": {},
     "output_type": "display_data"
    }
   ],
   "source": [
    "plt.hist(dfr_curb['is_mce_inside'])"
   ]
  },
  {
   "cell_type": "code",
   "execution_count": 3393,
   "id": "14703995-435d-4889-ae72-51966ae1745d",
   "metadata": {
    "execution": {
     "iopub.execute_input": "2024-01-23T15:28:08.423847Z",
     "iopub.status.busy": "2024-01-23T15:28:08.423673Z",
     "iopub.status.idle": "2024-01-23T15:28:08.545520Z",
     "shell.execute_reply": "2024-01-23T15:28:08.544945Z",
     "shell.execute_reply.started": "2024-01-23T15:28:08.423830Z"
    }
   },
   "outputs": [
    {
     "data": {
      "text/plain": [
       "(array([8., 2., 1., 2., 1., 0., 2., 0., 1., 1.]),\n",
       " array([  257.  ,  1390.45,  2523.9 ,  3657.35,  4790.8 ,  5924.25,\n",
       "         7057.7 ,  8191.15,  9324.6 , 10458.05, 11591.5 ]),\n",
       " <BarContainer object of 10 artists>)"
      ]
     },
     "execution_count": 3393,
     "metadata": {},
     "output_type": "execute_result"
    },
    {
     "data": {
      "image/png": "[encoded data removed]",
      "text/plain": [
       "<Figure size 640x480 with 1 Axes>"
      ]
     },
     "metadata": {},
     "output_type": "display_data"
    }
   ],
   "source": [
    "plt.hist(dfr_curb['area'])"
   ]
  },
  {
   "cell_type": "code",
   "execution_count": 3394,
   "id": "23dee220-a4ec-4bd8-9464-3d87bd30301b",
   "metadata": {
    "execution": {
     "iopub.execute_input": "2024-01-23T15:28:08.627109Z",
     "iopub.status.busy": "2024-01-23T15:28:08.626919Z",
     "iopub.status.idle": "2024-01-23T15:28:08.740449Z",
     "shell.execute_reply": "2024-01-23T15:28:08.739854Z",
     "shell.execute_reply.started": "2024-01-23T15:28:08.627096Z"
    }
   },
   "outputs": [
    {
     "data": {
      "text/plain": [
       "(array([12.,  4.,  0.,  0.,  0.,  1.,  0.,  0.,  0.,  1.]),\n",
       " array([ 0.80936455,  3.54092809,  6.27249164,  9.00405518, 11.73561873,\n",
       "        14.46718227, 17.19874582, 19.93030936, 22.66187291, 25.39343645,\n",
       "        28.125     ]),\n",
       " <BarContainer object of 10 artists>)"
      ]
     },
     "execution_count": 3394,
     "metadata": {},
     "output_type": "execute_result"
    },
    {
     "data": {
      "image/png": "[encoded data removed]",
      "text/plain": [
       "<Figure size 640x480 with 1 Axes>"
      ]
     },
     "metadata": {},
     "output_type": "display_data"
    }
   ],
   "source": [
    "plt.hist(dfr_curb['aspect_ratio_wh_s'])"
   ]
  },
  {
   "cell_type": "code",
   "execution_count": 3395,
   "id": "d8c85214-93ea-43b6-be85-7a41bdd1389f",
   "metadata": {
    "execution": {
     "iopub.execute_input": "2024-01-23T15:28:08.934308Z",
     "iopub.status.busy": "2024-01-23T15:28:08.933942Z",
     "iopub.status.idle": "2024-01-23T15:28:09.047848Z",
     "shell.execute_reply": "2024-01-23T15:28:09.047281Z",
     "shell.execute_reply.started": "2024-01-23T15:28:08.934293Z"
    }
   },
   "outputs": [
    {
     "data": {
      "text/plain": [
       "(array([7., 3., 3., 0., 1., 1., 1., 1., 0., 1.]),\n",
       " array([2.72748162e-02, 4.12208220e+00, 8.21688959e+00, 1.23116970e+01,\n",
       "        1.64065044e+01, 2.05013117e+01, 2.45961191e+01, 2.86909265e+01,\n",
       "        3.27857339e+01, 3.68805413e+01, 4.09753487e+01]),\n",
       " <BarContainer object of 10 artists>)"
      ]
     },
     "execution_count": 3395,
     "metadata": {},
     "output_type": "execute_result"
    },
    {
     "data": {
      "image/png": "[encoded data removed]",
      "text/plain": [
       "<Figure size 640x480 with 1 Axes>"
      ]
     },
     "metadata": {},
     "output_type": "display_data"
    }
   ],
   "source": [
    "plt.hist(dfr_curb['aspect_ratio_wh'])"
   ]
  },
  {
   "cell_type": "code",
   "execution_count": 3396,
   "id": "252dcd20-9180-4bfa-82a5-2db30dbd5245",
   "metadata": {
    "execution": {
     "iopub.execute_input": "2024-01-23T15:28:09.074423Z",
     "iopub.status.busy": "2024-01-23T15:28:09.074227Z",
     "iopub.status.idle": "2024-01-23T15:28:09.184914Z",
     "shell.execute_reply": "2024-01-23T15:28:09.184329Z",
     "shell.execute_reply.started": "2024-01-23T15:28:09.074408Z"
    }
   },
   "outputs": [
    {
     "data": {
      "text/plain": [
       "(array([9., 2., 0., 1., 2., 0., 1., 2., 0., 1.]),\n",
       " array([0.06783063, 0.12871747, 0.18960431, 0.25049115, 0.31137799,\n",
       "        0.37226483, 0.43315167, 0.49403851, 0.55492535, 0.61581219,\n",
       "        0.67669903]),\n",
       " <BarContainer object of 10 artists>)"
      ]
     },
     "execution_count": 3396,
     "metadata": {},
     "output_type": "execute_result"
    },
    {
     "data": {
      "image/png": "[encoded data removed]",
      "text/plain": [
       "<Figure size 640x480 with 1 Axes>"
      ]
     },
     "metadata": {},
     "output_type": "display_data"
    }
   ],
   "source": [
    "plt.hist(dfr_curb['extent_s'])"
   ]
  },
  {
   "cell_type": "code",
   "execution_count": 3397,
   "id": "fcfcacb9-003c-4860-b6ee-058871e15e2e",
   "metadata": {
    "execution": {
     "iopub.execute_input": "2024-01-23T15:28:09.359882Z",
     "iopub.status.busy": "2024-01-23T15:28:09.359690Z",
     "iopub.status.idle": "2024-01-23T15:28:09.480526Z",
     "shell.execute_reply": "2024-01-23T15:28:09.479944Z",
     "shell.execute_reply.started": "2024-01-23T15:28:09.359869Z"
    }
   },
   "outputs": [
    {
     "data": {
      "text/plain": [
       "(array([4., 2., 2., 2., 1., 0., 3., 1., 1., 2.]),\n",
       " array([0.50258419, 0.53480015, 0.56701611, 0.59923208, 0.63144804,\n",
       "        0.66366401, 0.69587997, 0.72809594, 0.7603119 , 0.79252787,\n",
       "        0.82474383]),\n",
       " <BarContainer object of 10 artists>)"
      ]
     },
     "execution_count": 3397,
     "metadata": {},
     "output_type": "execute_result"
    },
    {
     "data": {
      "image/png": "[encoded data removed]",
      "text/plain": [
       "<Figure size 640x480 with 1 Axes>"
      ]
     },
     "metadata": {},
     "output_type": "display_data"
    }
   ],
   "source": [
    "plt.hist(dfr_curb['extent'])"
   ]
  },
  {
   "cell_type": "code",
   "execution_count": 3398,
   "id": "ca126f79-42c6-451a-8db5-d721e23c1fe8",
   "metadata": {
    "execution": {
     "iopub.execute_input": "2024-01-23T15:28:09.710739Z",
     "iopub.status.busy": "2024-01-23T15:28:09.710550Z",
     "iopub.status.idle": "2024-01-23T15:28:09.830732Z",
     "shell.execute_reply": "2024-01-23T15:28:09.830156Z",
     "shell.execute_reply.started": "2024-01-23T15:28:09.710726Z"
    }
   },
   "outputs": [
    {
     "data": {
      "text/plain": [
       "(array([1., 2., 1., 1., 2., 1., 2., 1., 4., 3.]),\n",
       " array([0.67456073, 0.70289093, 0.73122113, 0.75955133, 0.78788153,\n",
       "        0.81621173, 0.84454193, 0.87287213, 0.90120233, 0.92953253,\n",
       "        0.95786273]),\n",
       " <BarContainer object of 10 artists>)"
      ]
     },
     "execution_count": 3398,
     "metadata": {},
     "output_type": "execute_result"
    },
    {
     "data": {
      "image/png": "[encoded data removed]",
      "text/plain": [
       "<Figure size 640x480 with 1 Axes>"
      ]
     },
     "metadata": {},
     "output_type": "display_data"
    }
   ],
   "source": [
    "plt.hist(dfr_curb['solidity'])"
   ]
  },
  {
   "cell_type": "code",
   "execution_count": 3399,
   "id": "12073218-186c-46fa-8d5c-2873e9d69178",
   "metadata": {
    "execution": {
     "iopub.execute_input": "2024-01-23T15:28:10.059544Z",
     "iopub.status.busy": "2024-01-23T15:28:10.059354Z",
     "iopub.status.idle": "2024-01-23T15:28:10.169045Z",
     "shell.execute_reply": "2024-01-23T15:28:10.168463Z",
     "shell.execute_reply.started": "2024-01-23T15:28:10.059531Z"
    }
   },
   "outputs": [
    {
     "data": {
      "text/plain": [
       "(array([5., 2., 2., 1., 1., 2., 1., 2., 1., 1.]),\n",
       " array([ 18.08929415,  28.42892687,  38.76855958,  49.1081923 ,\n",
       "         59.44782501,  69.78745773,  80.12709044,  90.46672316,\n",
       "        100.80635587, 111.14598859, 121.4856213 ]),\n",
       " <BarContainer object of 10 artists>)"
      ]
     },
     "execution_count": 3399,
     "metadata": {},
     "output_type": "execute_result"
    },
    {
     "data": {
      "image/png": "[encoded data removed]",
      "text/plain": [
       "<Figure size 640x480 with 1 Axes>"
      ]
     },
     "metadata": {},
     "output_type": "display_data"
    }
   ],
   "source": [
    "plt.hist(dfr_curb['ed'])"
   ]
  },
  {
   "cell_type": "code",
   "execution_count": 3400,
   "id": "208be3de-d40f-4ee6-95ec-dea9123ac287",
   "metadata": {
    "execution": {
     "iopub.execute_input": "2024-01-23T15:28:11.153157Z",
     "iopub.status.busy": "2024-01-23T15:28:11.152955Z",
     "iopub.status.idle": "2024-01-23T15:28:11.264912Z",
     "shell.execute_reply": "2024-01-23T15:28:11.264324Z",
     "shell.execute_reply.started": "2024-01-23T15:28:11.153143Z"
    }
   },
   "outputs": [
    {
     "data": {
      "text/plain": [
       "(array([9., 5., 1., 1., 0., 0., 0., 1., 0., 1.]),\n",
       " array([  8.37894241,  23.27550148,  38.17206056,  53.06861964,\n",
       "         67.96517871,  82.86173779,  97.75829687, 112.65485594,\n",
       "        127.55141502, 142.4479741 , 157.34453318]),\n",
       " <BarContainer object of 10 artists>)"
      ]
     },
     "execution_count": 3400,
     "metadata": {},
     "output_type": "execute_result"
    },
    {
     "data": {
      "image/png": "[encoded data removed]",
      "text/plain": [
       "<Figure size 640x480 with 1 Axes>"
      ]
     },
     "metadata": {},
     "output_type": "display_data"
    }
   ],
   "source": [
    "plt.hist(dfr_curb['ratio_ell'])"
   ]
  },
  {
   "cell_type": "code",
   "execution_count": 3401,
   "id": "7188bb29-9e26-4707-b1b8-62c3dc27df96",
   "metadata": {
    "execution": {
     "iopub.execute_input": "2024-01-23T15:28:12.030175Z",
     "iopub.status.busy": "2024-01-23T15:28:12.030026Z",
     "iopub.status.idle": "2024-01-23T15:28:12.147577Z",
     "shell.execute_reply": "2024-01-23T15:28:12.146995Z",
     "shell.execute_reply.started": "2024-01-23T15:28:12.030163Z"
    }
   },
   "outputs": [
    {
     "data": {
      "text/plain": [
       "(array([3., 4., 2., 2., 1., 0., 2., 1., 2., 1.]),\n",
       " array([ 115.6812396 ,  218.26012807,  320.83901653,  423.417905  ,\n",
       "         525.99679346,  628.57568192,  731.15457039,  833.73345885,\n",
       "         936.31234732, 1038.89123578, 1141.47012424]),\n",
       " <BarContainer object of 10 artists>)"
      ]
     },
     "execution_count": 3401,
     "metadata": {},
     "output_type": "execute_result"
    },
    {
     "data": {
      "image/png": "[encoded data removed]",
      "text/plain": [
       "<Figure size 640x480 with 1 Axes>"
      ]
     },
     "metadata": {},
     "output_type": "display_data"
    }
   ],
   "source": [
    "plt.hist(dfr_curb['perimeter'])"
   ]
  }
 ],
 "metadata": {
  "kernelspec": {
   "display_name": "Python 3 (ipykernel)",
   "language": "python",
   "name": "python3"
  },
  "language_info": {
   "codemirror_mode": {
    "name": "ipython",
    "version": 3
   },
   "file_extension": ".py",
   "mimetype": "text/x-python",
   "name": "python",
   "nbconvert_exporter": "python",
   "pygments_lexer": "ipython3",
   "version": "3.11.5"
  }
 },
 "nbformat": 4,
 "nbformat_minor": 5
}
