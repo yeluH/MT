{
 "cells": [
  {
   "cell_type": "code",
   "execution_count": 1,
   "id": "4105a8b7-a308-4005-a670-7aa8f710e5eb",
   "metadata": {
    "execution": {
     "iopub.execute_input": "2024-04-19T13:02:01.636481Z",
     "iopub.status.busy": "2024-04-19T13:02:01.636231Z",
     "iopub.status.idle": "2024-04-19T13:02:04.808029Z",
     "shell.execute_reply": "2024-04-19T13:02:04.807160Z",
     "shell.execute_reply.started": "2024-04-19T13:02:01.636462Z"
    }
   },
   "outputs": [],
   "source": [
    "import torch\n",
    "torch.cuda.empty_cache() "
   ]
  },
  {
   "cell_type": "code",
   "execution_count": 2,
   "id": "e058a28b-d4ab-4d65-97f2-8c9cfc88919a",
   "metadata": {
    "execution": {
     "iopub.execute_input": "2024-04-19T13:02:04.810412Z",
     "iopub.status.busy": "2024-04-19T13:02:04.810010Z",
     "iopub.status.idle": "2024-04-19T13:02:05.485062Z",
     "shell.execute_reply": "2024-04-19T13:02:05.484404Z",
     "shell.execute_reply.started": "2024-04-19T13:02:04.810388Z"
    }
   },
   "outputs": [
    {
     "name": "stdout",
     "output_type": "stream",
     "text": [
      "PyTorch version: 2.0.1+cu117\n",
      "Torchvision version: 0.15.2+cu117\n",
      "CUDA is available: True\n"
     ]
    }
   ],
   "source": [
    "import torchvision\n",
    "print(\"PyTorch version:\", torch.__version__)\n",
    "print(\"Torchvision version:\", torchvision.__version__)\n",
    "print(\"CUDA is available:\", torch.cuda.is_available())"
   ]
  },
  {
   "cell_type": "code",
   "execution_count": 3,
   "id": "8c4df17e-5ac3-4e80-b26d-cdd15fc4a271",
   "metadata": {
    "execution": {
     "iopub.execute_input": "2024-04-19T13:02:05.486107Z",
     "iopub.status.busy": "2024-04-19T13:02:05.485873Z",
     "iopub.status.idle": "2024-04-19T13:02:05.798015Z",
     "shell.execute_reply": "2024-04-19T13:02:05.797452Z",
     "shell.execute_reply.started": "2024-04-19T13:02:05.486086Z"
    }
   },
   "outputs": [
    {
     "data": {
      "text/plain": [
       "'/home/yelhe/script/mt'"
      ]
     },
     "execution_count": 3,
     "metadata": {},
     "output_type": "execute_result"
    }
   ],
   "source": [
    "import os \n",
    "os.environ['MPLCONFIGDIR'] = os.getcwd() + \"/configs/\"\n",
    "os.environ[\"PYTORCH_CUDA_ALLOC_CONF\"] = \"max_split_size_mb:100000\"\n",
    "import matplotlib\n",
    "from matplotlib import pyplot as plt\n",
    "import numpy as np\n",
    "import cv2\n",
    "os.getcwd()"
   ]
  },
  {
   "cell_type": "code",
   "execution_count": 4,
   "id": "20d9f9fb-5ae4-4a87-8e2d-e4c1465d680c",
   "metadata": {
    "execution": {
     "iopub.execute_input": "2024-04-19T13:02:05.799979Z",
     "iopub.status.busy": "2024-04-19T13:02:05.799783Z",
     "iopub.status.idle": "2024-04-19T13:02:05.892714Z",
     "shell.execute_reply": "2024-04-19T13:02:05.892118Z",
     "shell.execute_reply.started": "2024-04-19T13:02:05.799963Z"
    }
   },
   "outputs": [],
   "source": [
    "import glob\n",
    "import shapely\n",
    "from shapely.geometry import Polygon\n",
    "import shapely.plotting"
   ]
  },
  {
   "cell_type": "code",
   "execution_count": 5,
   "id": "eac7c021-b2a8-4e4b-8e63-62e55fa3f1c0",
   "metadata": {
    "execution": {
     "iopub.execute_input": "2024-04-19T13:02:05.894055Z",
     "iopub.status.busy": "2024-04-19T13:02:05.893703Z",
     "iopub.status.idle": "2024-04-19T13:02:06.271443Z",
     "shell.execute_reply": "2024-04-19T13:02:06.270869Z",
     "shell.execute_reply.started": "2024-04-19T13:02:05.894031Z"
    }
   },
   "outputs": [],
   "source": [
    "import pandas as pd\n",
    "from PIL import Image as ima\n",
    "import warnings"
   ]
  },
  {
   "cell_type": "code",
   "execution_count": 6,
   "id": "f3c89c42-2397-4f0f-9b0e-8db8591a784f",
   "metadata": {
    "execution": {
     "iopub.execute_input": "2024-04-19T13:02:06.272995Z",
     "iopub.status.busy": "2024-04-19T13:02:06.272309Z",
     "iopub.status.idle": "2024-04-19T13:02:06.519621Z",
     "shell.execute_reply": "2024-04-19T13:02:06.519028Z",
     "shell.execute_reply.started": "2024-04-19T13:02:06.272967Z"
    }
   },
   "outputs": [],
   "source": [
    "from mt_function_yl import *"
   ]
  },
  {
   "cell_type": "code",
   "execution_count": 7,
   "id": "dcabad23-57cc-4f26-a847-976c2cbae280",
   "metadata": {
    "execution": {
     "iopub.execute_input": "2024-04-19T13:02:06.520830Z",
     "iopub.status.busy": "2024-04-19T13:02:06.520451Z",
     "iopub.status.idle": "2024-04-19T13:02:06.533908Z",
     "shell.execute_reply": "2024-04-19T13:02:06.533374Z",
     "shell.execute_reply.started": "2024-04-19T13:02:06.520805Z"
    }
   },
   "outputs": [],
   "source": [
    "koord  = pd.read_csv('/home/yelhe/script/mt/output/koord.csv')"
   ]
  },
  {
   "cell_type": "code",
   "execution_count": 8,
   "id": "af2277e3-8851-4da3-b62a-8ff01138bc20",
   "metadata": {
    "execution": {
     "iopub.execute_input": "2024-04-19T13:02:06.534900Z",
     "iopub.status.busy": "2024-04-19T13:02:06.534671Z",
     "iopub.status.idle": "2024-04-19T13:02:06.541512Z",
     "shell.execute_reply": "2024-04-19T13:02:06.540798Z",
     "shell.execute_reply.started": "2024-04-19T13:02:06.534876Z"
    }
   },
   "outputs": [],
   "source": [
    "# koord.head()\n",
    "name1 = koord.Nr.astype(str) + '1.jpg'\n",
    "name2 = koord.Nr.astype(str) + '2.jpg'\n",
    "name3 = koord.Nr.astype(str) + '3.jpg'\n",
    "name4 = koord.Nr.astype(str) + '4.jpg'"
   ]
  },
  {
   "cell_type": "code",
   "execution_count": 9,
   "id": "193cccba-836f-476b-86b9-073891d9e276",
   "metadata": {
    "execution": {
     "iopub.execute_input": "2024-04-19T13:02:06.542595Z",
     "iopub.status.busy": "2024-04-19T13:02:06.542282Z",
     "iopub.status.idle": "2024-04-19T13:02:15.932670Z",
     "shell.execute_reply": "2024-04-19T13:02:15.931678Z",
     "shell.execute_reply.started": "2024-04-19T13:02:06.542572Z"
    }
   },
   "outputs": [],
   "source": [
    "# Import images into a list\n",
    "images = [cv2.imread(file) for file in glob.glob(\"/home/yelhe/data/gsv/GSV_filtered/*.jpg\")]\n"
   ]
  },
  {
   "cell_type": "code",
   "execution_count": 10,
   "id": "d131b965-5356-4d3f-99c6-3bd1460894bf",
   "metadata": {
    "execution": {
     "iopub.execute_input": "2024-04-19T13:02:15.935938Z",
     "iopub.status.busy": "2024-04-19T13:02:15.935654Z",
     "iopub.status.idle": "2024-04-19T13:02:15.939626Z",
     "shell.execute_reply": "2024-04-19T13:02:15.938569Z",
     "shell.execute_reply.started": "2024-04-19T13:02:15.935918Z"
    }
   },
   "outputs": [],
   "source": [
    "# arr_jpg = [x for x in os.listdir('/home/yelhe/data/gsv/GSV_filtered/') if x.endswith(\".jpg\")]"
   ]
  },
  {
   "cell_type": "code",
   "execution_count": 11,
   "id": "96c19d96-7095-43e4-9d65-e408e819cfa1",
   "metadata": {
    "execution": {
     "iopub.execute_input": "2024-04-19T13:02:15.941471Z",
     "iopub.status.busy": "2024-04-19T13:02:15.941253Z",
     "iopub.status.idle": "2024-04-19T13:02:15.948872Z",
     "shell.execute_reply": "2024-04-19T13:02:15.948165Z",
     "shell.execute_reply.started": "2024-04-19T13:02:15.941455Z"
    }
   },
   "outputs": [],
   "source": [
    "from pathlib import Path"
   ]
  },
  {
   "cell_type": "code",
   "execution_count": 12,
   "id": "198a4468-c811-4a09-a974-e1320896125e",
   "metadata": {
    "execution": {
     "iopub.execute_input": "2024-04-19T13:02:15.949949Z",
     "iopub.status.busy": "2024-04-19T13:02:15.949647Z",
     "iopub.status.idle": "2024-04-19T13:02:40.877763Z",
     "shell.execute_reply": "2024-04-19T13:02:40.877173Z",
     "shell.execute_reply.started": "2024-04-19T13:02:15.949929Z"
    }
   },
   "outputs": [],
   "source": [
    "\n",
    "gsv_image1 = []\n",
    "gsv_image2 = []\n",
    "gsv_image3 = []\n",
    "gsv_image4 = []\n",
    "\n",
    "nf1 = []\n",
    "nf2 = []\n",
    "nf3 = []\n",
    "nf4 = []\n",
    "for i in range(0,349):\n",
    "    path1 = Path('/home/yelhe/data/gsv/GSV_filtered/' + name1[i])\n",
    "    c1 = path1.is_file()\n",
    "    path2 = Path('/home/yelhe/data/gsv/GSV_filtered/' + name2[i])\n",
    "    c2 = path2.is_file()\n",
    "    path3 = Path('/home/yelhe/data/gsv/GSV_filtered/' + name3[i])\n",
    "    c3 = path3.is_file()\n",
    "    path4 = Path('/home/yelhe/data/gsv/GSV_filtered/' + name4[i])\n",
    "    c4 = path4.is_file()\n",
    "    if c1 is True:\n",
    "        im1 = cv2.imread(\"/home/yelhe/data/gsv/GSV_filtered/\" + name1[i])\n",
    "        gsv_image1.append(im1)\n",
    "        nf1.append(name1[i])\n",
    "    if c2 is True:\n",
    "        im2 = cv2.imread(\"/home/yelhe/data/gsv/GSV_filtered/\" + name2[i])\n",
    "        gsv_image2.append(im2)\n",
    "        nf2.append(name2[i])\n",
    "    if c3 is True:\n",
    "        im3 = cv2.imread(\"/home/yelhe/data/gsv/GSV_filtered/\" + name3[i])\n",
    "        gsv_image3.append(im3)\n",
    "        nf3.append(name3[i])\n",
    "    if c4 is True:\n",
    "        im4 = cv2.imread(\"/home/yelhe/data/gsv/GSV_filtered/\" + name4[i])\n",
    "        gsv_image4.append(im4)\n",
    "        nf4.append(name4[i])"
   ]
  },
  {
   "cell_type": "code",
   "execution_count": 13,
   "id": "9d39b917-b327-4f2a-9858-027968528128",
   "metadata": {
    "execution": {
     "iopub.execute_input": "2024-04-19T13:02:40.878777Z",
     "iopub.status.busy": "2024-04-19T13:02:40.878550Z",
     "iopub.status.idle": "2024-04-19T13:02:40.882686Z",
     "shell.execute_reply": "2024-04-19T13:02:40.881677Z",
     "shell.execute_reply.started": "2024-04-19T13:02:40.878756Z"
    }
   },
   "outputs": [
    {
     "name": "stdout",
     "output_type": "stream",
     "text": [
      "295 295 295 295\n"
     ]
    }
   ],
   "source": [
    "print(len(gsv_image1), len(gsv_image2), len(gsv_image3), len(gsv_image4))\n",
    "# len(gsv_image2)\n",
    "# len(gsv_image3)"
   ]
  },
  {
   "cell_type": "code",
   "execution_count": 14,
   "id": "20efbf6b-d647-4df3-971e-024329401b00",
   "metadata": {
    "execution": {
     "iopub.execute_input": "2024-04-19T13:03:14.269369Z",
     "iopub.status.busy": "2024-04-19T13:03:14.269091Z",
     "iopub.status.idle": "2024-04-19T13:03:14.275393Z",
     "shell.execute_reply": "2024-04-19T13:03:14.274771Z",
     "shell.execute_reply.started": "2024-04-19T13:03:14.269350Z"
    }
   },
   "outputs": [
    {
     "data": {
      "text/plain": [
       "['999000608525971.jpg',\n",
       " '999000630186111.jpg',\n",
       " '999000527235101.jpg',\n",
       " '999000615140431.jpg',\n",
       " '999000630378431.jpg',\n",
       " '999000542882091.jpg',\n",
       " '999000466623001.jpg',\n",
       " '999000639922121.jpg',\n",
       " '999000601646161.jpg',\n",
       " '999000495072791.jpg',\n",
       " '999000547592501.jpg',\n",
       " '999000635942291.jpg',\n",
       " '999000636955451.jpg',\n",
       " '999000635344181.jpg',\n",
       " '999000595263511.jpg',\n",
       " '999000471051911.jpg',\n",
       " '999000629103651.jpg',\n",
       " '999000560191821.jpg',\n",
       " '999000634858691.jpg',\n",
       " '999000462132901.jpg',\n",
       " '999000549913541.jpg',\n",
       " '999000595409311.jpg',\n",
       " '999000631547011.jpg',\n",
       " '999000569462591.jpg',\n",
       " '999000559069511.jpg',\n",
       " '999000524468851.jpg',\n",
       " '999000508901361.jpg',\n",
       " '999000464845311.jpg',\n",
       " '999000636984971.jpg',\n",
       " '999000617345291.jpg',\n",
       " '999000504565471.jpg',\n",
       " '999000551847971.jpg',\n",
       " '999000634348331.jpg',\n",
       " '999000536683741.jpg',\n",
       " '999000593844731.jpg',\n",
       " '999000574209581.jpg',\n",
       " '999000567421331.jpg',\n",
       " '999000532780721.jpg',\n",
       " '999000509348991.jpg',\n",
       " '999000520607721.jpg',\n",
       " '999000520193041.jpg',\n",
       " '999000619541071.jpg',\n",
       " '999000628410251.jpg',\n",
       " '999000551672651.jpg',\n",
       " '999000610282371.jpg',\n",
       " '999000562657821.jpg',\n",
       " '999000495325831.jpg',\n",
       " '999000580374261.jpg',\n",
       " '999000463673551.jpg',\n",
       " '999000490451501.jpg',\n",
       " '999000633162671.jpg',\n",
       " '999000497235931.jpg',\n",
       " '999000623005211.jpg',\n",
       " '999000622476361.jpg',\n",
       " '999000531528771.jpg',\n",
       " '999000616484951.jpg',\n",
       " '999000578230601.jpg',\n",
       " '999000626375411.jpg',\n",
       " '999000633274021.jpg',\n",
       " '999000528823671.jpg',\n",
       " '999000621237331.jpg',\n",
       " '999000623542051.jpg',\n",
       " '999000555377631.jpg',\n",
       " '999000572506981.jpg',\n",
       " '999000625821211.jpg',\n",
       " '999000581930921.jpg',\n",
       " '999000566471551.jpg',\n",
       " '999000576027741.jpg',\n",
       " '999000593760881.jpg',\n",
       " '999000621922831.jpg',\n",
       " '999000618135121.jpg',\n",
       " '999000562529831.jpg',\n",
       " '999000532276481.jpg',\n",
       " '999000625653261.jpg',\n",
       " '999000528385471.jpg',\n",
       " '999000597829221.jpg',\n",
       " '999000574190861.jpg',\n",
       " '999000557784221.jpg',\n",
       " '999000565652651.jpg',\n",
       " '999000477014281.jpg',\n",
       " '999000611595661.jpg',\n",
       " '999000562533401.jpg',\n",
       " '999000455107561.jpg',\n",
       " '999000608773411.jpg',\n",
       " '999000476631161.jpg',\n",
       " '999000617275021.jpg',\n",
       " '999000475795221.jpg',\n",
       " '999000628900881.jpg',\n",
       " '999000625672531.jpg',\n",
       " '999000473522501.jpg',\n",
       " '999000492528371.jpg',\n",
       " '999000635834041.jpg',\n",
       " '999000591441931.jpg',\n",
       " '999000565257361.jpg',\n",
       " '999000625305781.jpg',\n",
       " '999000585970941.jpg',\n",
       " '999000514331591.jpg',\n",
       " '999000519049391.jpg',\n",
       " '999000513007551.jpg',\n",
       " '999000632650541.jpg',\n",
       " '999000568459881.jpg',\n",
       " '999000521982841.jpg',\n",
       " '999000620054411.jpg',\n",
       " '999000629755351.jpg',\n",
       " '999000624081331.jpg',\n",
       " '999000519014741.jpg',\n",
       " '999000466624571.jpg',\n",
       " '999000601762301.jpg',\n",
       " '999000520190641.jpg',\n",
       " '999000572513621.jpg',\n",
       " '999000518949181.jpg',\n",
       " '999000626302991.jpg',\n",
       " '999000615289251.jpg',\n",
       " '999000545155251.jpg',\n",
       " '999000621740101.jpg',\n",
       " '999000532102781.jpg',\n",
       " '999000543089841.jpg',\n",
       " '999000482553521.jpg',\n",
       " '999000593727021.jpg',\n",
       " '999000526855261.jpg',\n",
       " '999000493121321.jpg',\n",
       " '999000619086651.jpg',\n",
       " '999000477995971.jpg',\n",
       " '999000573962001.jpg',\n",
       " '999000464779451.jpg',\n",
       " '999000499406721.jpg',\n",
       " '999000467008161.jpg',\n",
       " '999000568608121.jpg',\n",
       " '999000464944111.jpg',\n",
       " '999000604869771.jpg',\n",
       " '999000596748611.jpg',\n",
       " '999000464838121.jpg',\n",
       " '999000564610641.jpg',\n",
       " '999000461029471.jpg',\n",
       " '999000478378651.jpg',\n",
       " '999000599671451.jpg',\n",
       " '999000536678371.jpg',\n",
       " '999000511128131.jpg',\n",
       " '999000622657961.jpg',\n",
       " '999000589258181.jpg',\n",
       " '999000614153251.jpg',\n",
       " '999000614495451.jpg',\n",
       " '999000569956871.jpg',\n",
       " '999000555609911.jpg',\n",
       " '999000617056111.jpg',\n",
       " '999000578397991.jpg',\n",
       " '999000605492041.jpg',\n",
       " '999000569132031.jpg',\n",
       " '999000606431211.jpg',\n",
       " '999000507621131.jpg',\n",
       " '999000624933941.jpg',\n",
       " '999000547498141.jpg',\n",
       " '999000577222881.jpg',\n",
       " '999000549421421.jpg',\n",
       " '999000609249381.jpg',\n",
       " '999000524128361.jpg',\n",
       " '999000512235311.jpg',\n",
       " '999000567631671.jpg',\n",
       " '999000610595721.jpg',\n",
       " '999000632038491.jpg',\n",
       " '999000510761211.jpg',\n",
       " '999000490607221.jpg',\n",
       " '999000599662221.jpg',\n",
       " '999000607787031.jpg',\n",
       " '999000532906231.jpg',\n",
       " '999000524455421.jpg',\n",
       " '999000526060381.jpg',\n",
       " '999000510144721.jpg',\n",
       " '999000606738831.jpg',\n",
       " '999000527227771.jpg',\n",
       " '999000474367821.jpg',\n",
       " '999000612118781.jpg',\n",
       " '999000573566131.jpg',\n",
       " '999000578011681.jpg',\n",
       " '999000481605161.jpg',\n",
       " '999000600039541.jpg',\n",
       " '999000567633831.jpg',\n",
       " '999000507092451.jpg',\n",
       " '999000455112041.jpg',\n",
       " '999000464776051.jpg',\n",
       " '999000545203971.jpg',\n",
       " '999000573089041.jpg',\n",
       " '999000622452761.jpg',\n",
       " '999000457295531.jpg',\n",
       " '999000629106501.jpg',\n",
       " '999000520963291.jpg',\n",
       " '999000616348971.jpg',\n",
       " '999000603440831.jpg',\n",
       " '999000518974391.jpg',\n",
       " '999000480542571.jpg',\n",
       " '999000621242251.jpg',\n",
       " '999000507319361.jpg',\n",
       " '999000559666821.jpg',\n",
       " '999000582529521.jpg',\n",
       " '999000585972541.jpg',\n",
       " '999000604512761.jpg',\n",
       " '999000608522911.jpg',\n",
       " '999000610684481.jpg',\n",
       " '999000468356361.jpg',\n",
       " '999000508023291.jpg',\n",
       " '999000514758881.jpg',\n",
       " '999000624776941.jpg',\n",
       " '999000518626361.jpg',\n",
       " '999000616349221.jpg',\n",
       " '999000529046731.jpg',\n",
       " '999000554994621.jpg',\n",
       " '999000517969971.jpg',\n",
       " '999000622424601.jpg',\n",
       " '999000560034311.jpg',\n",
       " '999000630436301.jpg',\n",
       " '999000572995771.jpg',\n",
       " '999000548150201.jpg',\n",
       " '999000523941911.jpg',\n",
       " '999000631547891.jpg',\n",
       " '999000627439801.jpg',\n",
       " '999000574078821.jpg',\n",
       " '999000621739041.jpg',\n",
       " '999000581155631.jpg',\n",
       " '999000509721281.jpg',\n",
       " '999000627189941.jpg',\n",
       " '999000618629841.jpg',\n",
       " '999000518213191.jpg',\n",
       " '999000579005131.jpg',\n",
       " '999000449638401.jpg',\n",
       " '999000524207101.jpg',\n",
       " '999000464522041.jpg',\n",
       " '999000586745251.jpg',\n",
       " '999000604384511.jpg',\n",
       " '999000569466791.jpg',\n",
       " '999000612523441.jpg',\n",
       " '999000565120731.jpg',\n",
       " '999000576987891.jpg',\n",
       " '999000473320471.jpg',\n",
       " '999000623908451.jpg',\n",
       " '999000506366961.jpg',\n",
       " '999000476166481.jpg',\n",
       " '999000603481761.jpg',\n",
       " '999000631412191.jpg',\n",
       " '999000590744851.jpg',\n",
       " '999000624576181.jpg',\n",
       " '999000552941941.jpg',\n",
       " '999000627383671.jpg',\n",
       " '999000608162421.jpg',\n",
       " '999000512171311.jpg',\n",
       " '999000603455201.jpg',\n",
       " '999000618964221.jpg',\n",
       " '999000588114751.jpg',\n",
       " '999000552254731.jpg',\n",
       " '999000614345351.jpg',\n",
       " '999000571136071.jpg',\n",
       " '999000559610631.jpg',\n",
       " '999000640092301.jpg',\n",
       " '999000625668181.jpg',\n",
       " '999000522523101.jpg',\n",
       " '999000614358901.jpg',\n",
       " '999000531689711.jpg',\n",
       " '999000607998171.jpg',\n",
       " '999000585010561.jpg',\n",
       " '999000505175611.jpg',\n",
       " '999000530257991.jpg',\n",
       " '999000473914801.jpg',\n",
       " '999000577399651.jpg',\n",
       " '999000614938541.jpg',\n",
       " '999000563636121.jpg',\n",
       " '999000624075611.jpg',\n",
       " '999000524160651.jpg',\n",
       " '999000517118101.jpg',\n",
       " '999000609636911.jpg',\n",
       " '999000479857511.jpg',\n",
       " '999000459928231.jpg',\n",
       " '999000603893911.jpg',\n",
       " '999000611397391.jpg',\n",
       " '999000623620211.jpg',\n",
       " '999000578966471.jpg',\n",
       " '999000572674331.jpg',\n",
       " '999000461344231.jpg',\n",
       " '999000636366351.jpg',\n",
       " '999000580575821.jpg',\n",
       " '999000640091491.jpg',\n",
       " '999000626066591.jpg',\n",
       " '999000469801251.jpg',\n",
       " '999000620268281.jpg',\n",
       " '999000463079081.jpg',\n",
       " '999000465410311.jpg',\n",
       " '999000623728101.jpg',\n",
       " '999000510124101.jpg',\n",
       " '999000633965101.jpg',\n",
       " '999000621006561.jpg',\n",
       " '999000544915421.jpg',\n",
       " '999000618951341.jpg',\n",
       " '999000563875981.jpg',\n",
       " '999000559996941.jpg',\n",
       " '999000559052761.jpg',\n",
       " '999000606709751.jpg',\n",
       " '999000507146191.jpg']"
      ]
     },
     "execution_count": 14,
     "metadata": {},
     "output_type": "execute_result"
    }
   ],
   "source": [
    "nf1"
   ]
  },
  {
   "cell_type": "code",
   "execution_count": 19,
   "id": "606b1a08-96a5-41b2-b987-c07b4bb8491c",
   "metadata": {
    "execution": {
     "iopub.execute_input": "2024-04-19T13:08:34.664116Z",
     "iopub.status.busy": "2024-04-19T13:08:34.663842Z",
     "iopub.status.idle": "2024-04-19T13:08:34.667707Z",
     "shell.execute_reply": "2024-04-19T13:08:34.666689Z",
     "shell.execute_reply.started": "2024-04-19T13:08:34.664097Z"
    }
   },
   "outputs": [],
   "source": [
    "al = pd.DataFrame({'validpoint': nf1})"
   ]
  },
  {
   "cell_type": "code",
   "execution_count": 24,
   "id": "987ef202-39bb-4c05-84fc-31dbe1d727d4",
   "metadata": {
    "execution": {
     "iopub.execute_input": "2024-04-19T13:13:47.553078Z",
     "iopub.status.busy": "2024-04-19T13:13:47.552808Z",
     "iopub.status.idle": "2024-04-19T13:13:47.560273Z",
     "shell.execute_reply": "2024-04-19T13:13:47.559402Z",
     "shell.execute_reply.started": "2024-04-19T13:13:47.553059Z"
    }
   },
   "outputs": [],
   "source": [
    "al['validpoint'] = al['validpoint'].values.astype(str)\n",
    "al['Nr'] = al.validpoint.str[-19:-5]"
   ]
  },
  {
   "cell_type": "code",
   "execution_count": 26,
   "id": "452673de-9154-4108-a71e-ea916b84fddc",
   "metadata": {
    "execution": {
     "iopub.execute_input": "2024-04-19T13:14:10.802329Z",
     "iopub.status.busy": "2024-04-19T13:14:10.801952Z",
     "iopub.status.idle": "2024-04-19T13:14:10.807434Z",
     "shell.execute_reply": "2024-04-19T13:14:10.806897Z",
     "shell.execute_reply.started": "2024-04-19T13:14:10.802309Z"
    }
   },
   "outputs": [],
   "source": [
    "al = al.drop(['validpoint'], axis = 1)"
   ]
  },
  {
   "cell_type": "code",
   "execution_count": 30,
   "id": "48c45536-b795-4778-9c03-206751ae898f",
   "metadata": {
    "execution": {
     "iopub.execute_input": "2024-04-19T13:16:51.828407Z",
     "iopub.status.busy": "2024-04-19T13:16:51.828138Z",
     "iopub.status.idle": "2024-04-19T13:16:51.832034Z",
     "shell.execute_reply": "2024-04-19T13:16:51.830953Z",
     "shell.execute_reply.started": "2024-04-19T13:16:51.828388Z"
    }
   },
   "outputs": [],
   "source": [
    "al['Nr'] = al['Nr'].values.astype(int)"
   ]
  },
  {
   "cell_type": "code",
   "execution_count": 37,
   "id": "b7675e9f-eeb2-4e90-9f9a-3b5df95fbe12",
   "metadata": {
    "execution": {
     "iopub.execute_input": "2024-04-19T13:19:58.721762Z",
     "iopub.status.busy": "2024-04-19T13:19:58.721446Z",
     "iopub.status.idle": "2024-04-19T13:19:58.725550Z",
     "shell.execute_reply": "2024-04-19T13:19:58.724694Z",
     "shell.execute_reply.started": "2024-04-19T13:19:58.721742Z"
    }
   },
   "outputs": [],
   "source": [
    "al = al.assign(v = 1)"
   ]
  },
  {
   "cell_type": "code",
   "execution_count": 38,
   "id": "b0f62dbb-4e63-42f6-98a4-49319bfa8b00",
   "metadata": {
    "execution": {
     "iopub.execute_input": "2024-04-19T13:19:59.187698Z",
     "iopub.status.busy": "2024-04-19T13:19:59.187288Z",
     "iopub.status.idle": "2024-04-19T13:19:59.195849Z",
     "shell.execute_reply": "2024-04-19T13:19:59.195156Z",
     "shell.execute_reply.started": "2024-04-19T13:19:59.187673Z"
    }
   },
   "outputs": [
    {
     "data": {
      "text/html": [
       "<div>\n",
       "<style scoped>\n",
       "    .dataframe tbody tr th:only-of-type {\n",
       "        vertical-align: middle;\n",
       "    }\n",
       "\n",
       "    .dataframe tbody tr th {\n",
       "        vertical-align: top;\n",
       "    }\n",
       "\n",
       "    .dataframe thead th {\n",
       "        text-align: right;\n",
       "    }\n",
       "</style>\n",
       "<table border=\"1\" class=\"dataframe\">\n",
       "  <thead>\n",
       "    <tr style=\"text-align: right;\">\n",
       "      <th></th>\n",
       "      <th>Nr</th>\n",
       "      <th>v</th>\n",
       "    </tr>\n",
       "  </thead>\n",
       "  <tbody>\n",
       "    <tr>\n",
       "      <th>0</th>\n",
       "      <td>99900060852597</td>\n",
       "      <td>1</td>\n",
       "    </tr>\n",
       "    <tr>\n",
       "      <th>1</th>\n",
       "      <td>99900063018611</td>\n",
       "      <td>1</td>\n",
       "    </tr>\n",
       "    <tr>\n",
       "      <th>2</th>\n",
       "      <td>99900052723510</td>\n",
       "      <td>1</td>\n",
       "    </tr>\n",
       "    <tr>\n",
       "      <th>3</th>\n",
       "      <td>99900061514043</td>\n",
       "      <td>1</td>\n",
       "    </tr>\n",
       "    <tr>\n",
       "      <th>4</th>\n",
       "      <td>99900063037843</td>\n",
       "      <td>1</td>\n",
       "    </tr>\n",
       "    <tr>\n",
       "      <th>...</th>\n",
       "      <td>...</td>\n",
       "      <td>...</td>\n",
       "    </tr>\n",
       "    <tr>\n",
       "      <th>290</th>\n",
       "      <td>99900056387598</td>\n",
       "      <td>1</td>\n",
       "    </tr>\n",
       "    <tr>\n",
       "      <th>291</th>\n",
       "      <td>99900055999694</td>\n",
       "      <td>1</td>\n",
       "    </tr>\n",
       "    <tr>\n",
       "      <th>292</th>\n",
       "      <td>99900055905276</td>\n",
       "      <td>1</td>\n",
       "    </tr>\n",
       "    <tr>\n",
       "      <th>293</th>\n",
       "      <td>99900060670975</td>\n",
       "      <td>1</td>\n",
       "    </tr>\n",
       "    <tr>\n",
       "      <th>294</th>\n",
       "      <td>99900050714619</td>\n",
       "      <td>1</td>\n",
       "    </tr>\n",
       "  </tbody>\n",
       "</table>\n",
       "<p>295 rows × 2 columns</p>\n",
       "</div>"
      ],
      "text/plain": [
       "                 Nr  v\n",
       "0    99900060852597  1\n",
       "1    99900063018611  1\n",
       "2    99900052723510  1\n",
       "3    99900061514043  1\n",
       "4    99900063037843  1\n",
       "..              ... ..\n",
       "290  99900056387598  1\n",
       "291  99900055999694  1\n",
       "292  99900055905276  1\n",
       "293  99900060670975  1\n",
       "294  99900050714619  1\n",
       "\n",
       "[295 rows x 2 columns]"
      ]
     },
     "execution_count": 38,
     "metadata": {},
     "output_type": "execute_result"
    }
   ],
   "source": [
    "al"
   ]
  },
  {
   "cell_type": "code",
   "execution_count": 36,
   "id": "222e40d8-fe92-4bb8-8c3c-c2189dbdb657",
   "metadata": {
    "execution": {
     "iopub.execute_input": "2024-04-19T13:19:27.813684Z",
     "iopub.status.busy": "2024-04-19T13:19:27.813305Z",
     "iopub.status.idle": "2024-04-19T13:19:27.821194Z",
     "shell.execute_reply": "2024-04-19T13:19:27.820159Z",
     "shell.execute_reply.started": "2024-04-19T13:19:27.813665Z"
    }
   },
   "outputs": [
    {
     "name": "stdout",
     "output_type": "stream",
     "text": [
      "<class 'pandas.core.frame.DataFrame'>\n",
      "RangeIndex: 295 entries, 0 to 294\n",
      "Data columns (total 2 columns):\n",
      " #   Column  Non-Null Count  Dtype\n",
      "---  ------  --------------  -----\n",
      " 0   Nr      295 non-null    int64\n",
      " 1   v       295 non-null    int64\n",
      "dtypes: int64(2)\n",
      "memory usage: 4.7 KB\n"
     ]
    }
   ],
   "source": [
    "al.info()"
   ]
  },
  {
   "cell_type": "code",
   "execution_count": 15,
   "id": "e975240b-5a06-48ed-bd7c-302c0331316e",
   "metadata": {
    "execution": {
     "iopub.execute_input": "2024-04-19T13:06:33.587839Z",
     "iopub.status.busy": "2024-04-19T13:06:33.587558Z",
     "iopub.status.idle": "2024-04-19T13:06:33.599297Z",
     "shell.execute_reply": "2024-04-19T13:06:33.598662Z",
     "shell.execute_reply.started": "2024-04-19T13:06:33.587821Z"
    }
   },
   "outputs": [],
   "source": [
    "koord = pd.read_csv('/home/yelhe/script/mt/output/koord.csv')"
   ]
  },
  {
   "cell_type": "code",
   "execution_count": 17,
   "id": "573e27fa-ba88-4f5b-b448-46c25bb5a138",
   "metadata": {
    "execution": {
     "iopub.execute_input": "2024-04-19T13:06:47.129055Z",
     "iopub.status.busy": "2024-04-19T13:06:47.128662Z",
     "iopub.status.idle": "2024-04-19T13:06:47.140032Z",
     "shell.execute_reply": "2024-04-19T13:06:47.139141Z",
     "shell.execute_reply.started": "2024-04-19T13:06:47.129034Z"
    }
   },
   "outputs": [
    {
     "name": "stdout",
     "output_type": "stream",
     "text": [
      "<class 'pandas.core.frame.DataFrame'>\n",
      "RangeIndex: 350 entries, 0 to 349\n",
      "Data columns (total 9 columns):\n",
      " #   Column   Non-Null Count  Dtype  \n",
      "---  ------   --------------  -----  \n",
      " 0   Koord E  350 non-null    int64  \n",
      " 1   Koord N  350 non-null    int64  \n",
      " 2   lon      350 non-null    float64\n",
      " 3   lat      350 non-null    float64\n",
      " 4   url1     350 non-null    object \n",
      " 5   url2     350 non-null    object \n",
      " 6   url3     350 non-null    object \n",
      " 7   url4     350 non-null    object \n",
      " 8   Nr       350 non-null    int64  \n",
      "dtypes: float64(2), int64(3), object(4)\n",
      "memory usage: 24.7+ KB\n"
     ]
    }
   ],
   "source": [
    "koord.info()"
   ]
  },
  {
   "cell_type": "code",
   "execution_count": 21,
   "id": "2c92be4d-0bc6-4157-8809-94bdf7f7c136",
   "metadata": {
    "execution": {
     "iopub.execute_input": "2024-04-19T13:10:13.093736Z",
     "iopub.status.busy": "2024-04-19T13:10:13.093473Z",
     "iopub.status.idle": "2024-04-19T13:10:13.098165Z",
     "shell.execute_reply": "2024-04-19T13:10:13.097223Z",
     "shell.execute_reply.started": "2024-04-19T13:10:13.093716Z"
    }
   },
   "outputs": [],
   "source": [
    "koord = koord.drop(['url1', 'url2','url3','url4'], axis = 1)"
   ]
  },
  {
   "cell_type": "code",
   "execution_count": 22,
   "id": "5f5fbdf4-0789-43ef-bf5c-bf3ed2770e3e",
   "metadata": {
    "execution": {
     "iopub.execute_input": "2024-04-19T13:10:17.312296Z",
     "iopub.status.busy": "2024-04-19T13:10:17.312032Z",
     "iopub.status.idle": "2024-04-19T13:10:17.321113Z",
     "shell.execute_reply": "2024-04-19T13:10:17.320487Z",
     "shell.execute_reply.started": "2024-04-19T13:10:17.312277Z"
    }
   },
   "outputs": [
    {
     "data": {
      "text/html": [
       "<div>\n",
       "<style scoped>\n",
       "    .dataframe tbody tr th:only-of-type {\n",
       "        vertical-align: middle;\n",
       "    }\n",
       "\n",
       "    .dataframe tbody tr th {\n",
       "        vertical-align: top;\n",
       "    }\n",
       "\n",
       "    .dataframe thead th {\n",
       "        text-align: right;\n",
       "    }\n",
       "</style>\n",
       "<table border=\"1\" class=\"dataframe\">\n",
       "  <thead>\n",
       "    <tr style=\"text-align: right;\">\n",
       "      <th></th>\n",
       "      <th>Koord E</th>\n",
       "      <th>Koord N</th>\n",
       "      <th>lon</th>\n",
       "      <th>lat</th>\n",
       "      <th>Nr</th>\n",
       "    </tr>\n",
       "  </thead>\n",
       "  <tbody>\n",
       "    <tr>\n",
       "      <th>0</th>\n",
       "      <td>2678534</td>\n",
       "      <td>1249396</td>\n",
       "      <td>8.478805</td>\n",
       "      <td>47.390709</td>\n",
       "      <td>99900060852597</td>\n",
       "    </tr>\n",
       "    <tr>\n",
       "      <th>1</th>\n",
       "      <td>2678534</td>\n",
       "      <td>1251496</td>\n",
       "      <td>8.479174</td>\n",
       "      <td>47.409596</td>\n",
       "      <td>99900063018611</td>\n",
       "    </tr>\n",
       "    <tr>\n",
       "      <th>2</th>\n",
       "      <td>2678561</td>\n",
       "      <td>1249232</td>\n",
       "      <td>8.479134</td>\n",
       "      <td>47.389231</td>\n",
       "      <td>99900052723510</td>\n",
       "    </tr>\n",
       "    <tr>\n",
       "      <th>3</th>\n",
       "      <td>2678640</td>\n",
       "      <td>1250202</td>\n",
       "      <td>8.480350</td>\n",
       "      <td>47.397946</td>\n",
       "      <td>99900061514043</td>\n",
       "    </tr>\n",
       "    <tr>\n",
       "      <th>4</th>\n",
       "      <td>2678733</td>\n",
       "      <td>1251201</td>\n",
       "      <td>8.481758</td>\n",
       "      <td>47.406919</td>\n",
       "      <td>99900063037843</td>\n",
       "    </tr>\n",
       "    <tr>\n",
       "      <th>...</th>\n",
       "      <td>...</td>\n",
       "      <td>...</td>\n",
       "      <td>...</td>\n",
       "      <td>...</td>\n",
       "      <td>...</td>\n",
       "    </tr>\n",
       "    <tr>\n",
       "      <th>345</th>\n",
       "      <td>2686563</td>\n",
       "      <td>1250608</td>\n",
       "      <td>8.585369</td>\n",
       "      <td>47.400603</td>\n",
       "      <td>99900055905276</td>\n",
       "    </tr>\n",
       "    <tr>\n",
       "      <th>346</th>\n",
       "      <td>2686780</td>\n",
       "      <td>1250693</td>\n",
       "      <td>8.588260</td>\n",
       "      <td>47.401339</td>\n",
       "      <td>99900060670975</td>\n",
       "    </tr>\n",
       "    <tr>\n",
       "      <th>347</th>\n",
       "      <td>2687008</td>\n",
       "      <td>1250881</td>\n",
       "      <td>8.591316</td>\n",
       "      <td>47.403000</td>\n",
       "      <td>99900047367168</td>\n",
       "    </tr>\n",
       "    <tr>\n",
       "      <th>348</th>\n",
       "      <td>2687022</td>\n",
       "      <td>1250538</td>\n",
       "      <td>8.591435</td>\n",
       "      <td>47.399913</td>\n",
       "      <td>99900050714619</td>\n",
       "    </tr>\n",
       "    <tr>\n",
       "      <th>349</th>\n",
       "      <td>2687220</td>\n",
       "      <td>1250648</td>\n",
       "      <td>8.594079</td>\n",
       "      <td>47.400876</td>\n",
       "      <td>99900060734330</td>\n",
       "    </tr>\n",
       "  </tbody>\n",
       "</table>\n",
       "<p>350 rows × 5 columns</p>\n",
       "</div>"
      ],
      "text/plain": [
       "     Koord E  Koord N       lon        lat              Nr\n",
       "0    2678534  1249396  8.478805  47.390709  99900060852597\n",
       "1    2678534  1251496  8.479174  47.409596  99900063018611\n",
       "2    2678561  1249232  8.479134  47.389231  99900052723510\n",
       "3    2678640  1250202  8.480350  47.397946  99900061514043\n",
       "4    2678733  1251201  8.481758  47.406919  99900063037843\n",
       "..       ...      ...       ...        ...             ...\n",
       "345  2686563  1250608  8.585369  47.400603  99900055905276\n",
       "346  2686780  1250693  8.588260  47.401339  99900060670975\n",
       "347  2687008  1250881  8.591316  47.403000  99900047367168\n",
       "348  2687022  1250538  8.591435  47.399913  99900050714619\n",
       "349  2687220  1250648  8.594079  47.400876  99900060734330\n",
       "\n",
       "[350 rows x 5 columns]"
      ]
     },
     "execution_count": 22,
     "metadata": {},
     "output_type": "execute_result"
    }
   ],
   "source": [
    "koord"
   ]
  },
  {
   "cell_type": "code",
   "execution_count": 39,
   "id": "da69b5c7-8390-4c17-955d-a7ac5766510b",
   "metadata": {
    "execution": {
     "iopub.execute_input": "2024-04-19T13:20:46.966430Z",
     "iopub.status.busy": "2024-04-19T13:20:46.966044Z",
     "iopub.status.idle": "2024-04-19T13:20:46.971681Z",
     "shell.execute_reply": "2024-04-19T13:20:46.971136Z",
     "shell.execute_reply.started": "2024-04-19T13:20:46.966411Z"
    }
   },
   "outputs": [],
   "source": [
    "# valid ecooter accident koords\n",
    "vak = pd.merge(koord, al, how = 'left',  on = ['Nr'])"
   ]
  },
  {
   "cell_type": "code",
   "execution_count": 40,
   "id": "eb2cbf61-65da-4fc9-88ae-f4c5d4704ea8",
   "metadata": {
    "execution": {
     "iopub.execute_input": "2024-04-19T13:20:48.543623Z",
     "iopub.status.busy": "2024-04-19T13:20:48.543200Z",
     "iopub.status.idle": "2024-04-19T13:20:48.555870Z",
     "shell.execute_reply": "2024-04-19T13:20:48.555092Z",
     "shell.execute_reply.started": "2024-04-19T13:20:48.543597Z"
    }
   },
   "outputs": [
    {
     "data": {
      "text/html": [
       "<div>\n",
       "<style scoped>\n",
       "    .dataframe tbody tr th:only-of-type {\n",
       "        vertical-align: middle;\n",
       "    }\n",
       "\n",
       "    .dataframe tbody tr th {\n",
       "        vertical-align: top;\n",
       "    }\n",
       "\n",
       "    .dataframe thead th {\n",
       "        text-align: right;\n",
       "    }\n",
       "</style>\n",
       "<table border=\"1\" class=\"dataframe\">\n",
       "  <thead>\n",
       "    <tr style=\"text-align: right;\">\n",
       "      <th></th>\n",
       "      <th>Koord E</th>\n",
       "      <th>Koord N</th>\n",
       "      <th>lon</th>\n",
       "      <th>lat</th>\n",
       "      <th>Nr</th>\n",
       "      <th>v</th>\n",
       "    </tr>\n",
       "  </thead>\n",
       "  <tbody>\n",
       "    <tr>\n",
       "      <th>0</th>\n",
       "      <td>2678534</td>\n",
       "      <td>1249396</td>\n",
       "      <td>8.478805</td>\n",
       "      <td>47.390709</td>\n",
       "      <td>99900060852597</td>\n",
       "      <td>1.0</td>\n",
       "    </tr>\n",
       "    <tr>\n",
       "      <th>1</th>\n",
       "      <td>2678534</td>\n",
       "      <td>1251496</td>\n",
       "      <td>8.479174</td>\n",
       "      <td>47.409596</td>\n",
       "      <td>99900063018611</td>\n",
       "      <td>1.0</td>\n",
       "    </tr>\n",
       "    <tr>\n",
       "      <th>2</th>\n",
       "      <td>2678561</td>\n",
       "      <td>1249232</td>\n",
       "      <td>8.479134</td>\n",
       "      <td>47.389231</td>\n",
       "      <td>99900052723510</td>\n",
       "      <td>1.0</td>\n",
       "    </tr>\n",
       "    <tr>\n",
       "      <th>3</th>\n",
       "      <td>2678640</td>\n",
       "      <td>1250202</td>\n",
       "      <td>8.480350</td>\n",
       "      <td>47.397946</td>\n",
       "      <td>99900061514043</td>\n",
       "      <td>1.0</td>\n",
       "    </tr>\n",
       "    <tr>\n",
       "      <th>4</th>\n",
       "      <td>2678733</td>\n",
       "      <td>1251201</td>\n",
       "      <td>8.481758</td>\n",
       "      <td>47.406919</td>\n",
       "      <td>99900063037843</td>\n",
       "      <td>1.0</td>\n",
       "    </tr>\n",
       "    <tr>\n",
       "      <th>...</th>\n",
       "      <td>...</td>\n",
       "      <td>...</td>\n",
       "      <td>...</td>\n",
       "      <td>...</td>\n",
       "      <td>...</td>\n",
       "      <td>...</td>\n",
       "    </tr>\n",
       "    <tr>\n",
       "      <th>345</th>\n",
       "      <td>2686563</td>\n",
       "      <td>1250608</td>\n",
       "      <td>8.585369</td>\n",
       "      <td>47.400603</td>\n",
       "      <td>99900055905276</td>\n",
       "      <td>1.0</td>\n",
       "    </tr>\n",
       "    <tr>\n",
       "      <th>346</th>\n",
       "      <td>2686780</td>\n",
       "      <td>1250693</td>\n",
       "      <td>8.588260</td>\n",
       "      <td>47.401339</td>\n",
       "      <td>99900060670975</td>\n",
       "      <td>1.0</td>\n",
       "    </tr>\n",
       "    <tr>\n",
       "      <th>347</th>\n",
       "      <td>2687008</td>\n",
       "      <td>1250881</td>\n",
       "      <td>8.591316</td>\n",
       "      <td>47.403000</td>\n",
       "      <td>99900047367168</td>\n",
       "      <td>NaN</td>\n",
       "    </tr>\n",
       "    <tr>\n",
       "      <th>348</th>\n",
       "      <td>2687022</td>\n",
       "      <td>1250538</td>\n",
       "      <td>8.591435</td>\n",
       "      <td>47.399913</td>\n",
       "      <td>99900050714619</td>\n",
       "      <td>1.0</td>\n",
       "    </tr>\n",
       "    <tr>\n",
       "      <th>349</th>\n",
       "      <td>2687220</td>\n",
       "      <td>1250648</td>\n",
       "      <td>8.594079</td>\n",
       "      <td>47.400876</td>\n",
       "      <td>99900060734330</td>\n",
       "      <td>NaN</td>\n",
       "    </tr>\n",
       "  </tbody>\n",
       "</table>\n",
       "<p>350 rows × 6 columns</p>\n",
       "</div>"
      ],
      "text/plain": [
       "     Koord E  Koord N       lon        lat              Nr    v\n",
       "0    2678534  1249396  8.478805  47.390709  99900060852597  1.0\n",
       "1    2678534  1251496  8.479174  47.409596  99900063018611  1.0\n",
       "2    2678561  1249232  8.479134  47.389231  99900052723510  1.0\n",
       "3    2678640  1250202  8.480350  47.397946  99900061514043  1.0\n",
       "4    2678733  1251201  8.481758  47.406919  99900063037843  1.0\n",
       "..       ...      ...       ...        ...             ...  ...\n",
       "345  2686563  1250608  8.585369  47.400603  99900055905276  1.0\n",
       "346  2686780  1250693  8.588260  47.401339  99900060670975  1.0\n",
       "347  2687008  1250881  8.591316  47.403000  99900047367168  NaN\n",
       "348  2687022  1250538  8.591435  47.399913  99900050714619  1.0\n",
       "349  2687220  1250648  8.594079  47.400876  99900060734330  NaN\n",
       "\n",
       "[350 rows x 6 columns]"
      ]
     },
     "execution_count": 40,
     "metadata": {},
     "output_type": "execute_result"
    }
   ],
   "source": [
    "vak"
   ]
  },
  {
   "cell_type": "code",
   "execution_count": 41,
   "id": "969369e7-598c-4c57-8d90-f1a5aad31e88",
   "metadata": {
    "execution": {
     "iopub.execute_input": "2024-04-19T13:21:21.182705Z",
     "iopub.status.busy": "2024-04-19T13:21:21.182262Z",
     "iopub.status.idle": "2024-04-19T13:21:21.186143Z",
     "shell.execute_reply": "2024-04-19T13:21:21.185499Z",
     "shell.execute_reply.started": "2024-04-19T13:21:21.182684Z"
    }
   },
   "outputs": [],
   "source": [
    "vak['v'] = vak['v'].fillna(0)"
   ]
  },
  {
   "cell_type": "code",
   "execution_count": 42,
   "id": "f4b18d47-76de-4c74-a1c5-bb13382dc93c",
   "metadata": {
    "execution": {
     "iopub.execute_input": "2024-04-19T13:21:24.809914Z",
     "iopub.status.busy": "2024-04-19T13:21:24.809648Z",
     "iopub.status.idle": "2024-04-19T13:21:24.820075Z",
     "shell.execute_reply": "2024-04-19T13:21:24.819417Z",
     "shell.execute_reply.started": "2024-04-19T13:21:24.809895Z"
    }
   },
   "outputs": [
    {
     "data": {
      "text/html": [
       "<div>\n",
       "<style scoped>\n",
       "    .dataframe tbody tr th:only-of-type {\n",
       "        vertical-align: middle;\n",
       "    }\n",
       "\n",
       "    .dataframe tbody tr th {\n",
       "        vertical-align: top;\n",
       "    }\n",
       "\n",
       "    .dataframe thead th {\n",
       "        text-align: right;\n",
       "    }\n",
       "</style>\n",
       "<table border=\"1\" class=\"dataframe\">\n",
       "  <thead>\n",
       "    <tr style=\"text-align: right;\">\n",
       "      <th></th>\n",
       "      <th>Koord E</th>\n",
       "      <th>Koord N</th>\n",
       "      <th>lon</th>\n",
       "      <th>lat</th>\n",
       "      <th>Nr</th>\n",
       "      <th>v</th>\n",
       "    </tr>\n",
       "  </thead>\n",
       "  <tbody>\n",
       "    <tr>\n",
       "      <th>0</th>\n",
       "      <td>2678534</td>\n",
       "      <td>1249396</td>\n",
       "      <td>8.478805</td>\n",
       "      <td>47.390709</td>\n",
       "      <td>99900060852597</td>\n",
       "      <td>1.0</td>\n",
       "    </tr>\n",
       "    <tr>\n",
       "      <th>1</th>\n",
       "      <td>2678534</td>\n",
       "      <td>1251496</td>\n",
       "      <td>8.479174</td>\n",
       "      <td>47.409596</td>\n",
       "      <td>99900063018611</td>\n",
       "      <td>1.0</td>\n",
       "    </tr>\n",
       "    <tr>\n",
       "      <th>2</th>\n",
       "      <td>2678561</td>\n",
       "      <td>1249232</td>\n",
       "      <td>8.479134</td>\n",
       "      <td>47.389231</td>\n",
       "      <td>99900052723510</td>\n",
       "      <td>1.0</td>\n",
       "    </tr>\n",
       "    <tr>\n",
       "      <th>3</th>\n",
       "      <td>2678640</td>\n",
       "      <td>1250202</td>\n",
       "      <td>8.480350</td>\n",
       "      <td>47.397946</td>\n",
       "      <td>99900061514043</td>\n",
       "      <td>1.0</td>\n",
       "    </tr>\n",
       "    <tr>\n",
       "      <th>4</th>\n",
       "      <td>2678733</td>\n",
       "      <td>1251201</td>\n",
       "      <td>8.481758</td>\n",
       "      <td>47.406919</td>\n",
       "      <td>99900063037843</td>\n",
       "      <td>1.0</td>\n",
       "    </tr>\n",
       "    <tr>\n",
       "      <th>...</th>\n",
       "      <td>...</td>\n",
       "      <td>...</td>\n",
       "      <td>...</td>\n",
       "      <td>...</td>\n",
       "      <td>...</td>\n",
       "      <td>...</td>\n",
       "    </tr>\n",
       "    <tr>\n",
       "      <th>345</th>\n",
       "      <td>2686563</td>\n",
       "      <td>1250608</td>\n",
       "      <td>8.585369</td>\n",
       "      <td>47.400603</td>\n",
       "      <td>99900055905276</td>\n",
       "      <td>1.0</td>\n",
       "    </tr>\n",
       "    <tr>\n",
       "      <th>346</th>\n",
       "      <td>2686780</td>\n",
       "      <td>1250693</td>\n",
       "      <td>8.588260</td>\n",
       "      <td>47.401339</td>\n",
       "      <td>99900060670975</td>\n",
       "      <td>1.0</td>\n",
       "    </tr>\n",
       "    <tr>\n",
       "      <th>347</th>\n",
       "      <td>2687008</td>\n",
       "      <td>1250881</td>\n",
       "      <td>8.591316</td>\n",
       "      <td>47.403000</td>\n",
       "      <td>99900047367168</td>\n",
       "      <td>0.0</td>\n",
       "    </tr>\n",
       "    <tr>\n",
       "      <th>348</th>\n",
       "      <td>2687022</td>\n",
       "      <td>1250538</td>\n",
       "      <td>8.591435</td>\n",
       "      <td>47.399913</td>\n",
       "      <td>99900050714619</td>\n",
       "      <td>1.0</td>\n",
       "    </tr>\n",
       "    <tr>\n",
       "      <th>349</th>\n",
       "      <td>2687220</td>\n",
       "      <td>1250648</td>\n",
       "      <td>8.594079</td>\n",
       "      <td>47.400876</td>\n",
       "      <td>99900060734330</td>\n",
       "      <td>0.0</td>\n",
       "    </tr>\n",
       "  </tbody>\n",
       "</table>\n",
       "<p>350 rows × 6 columns</p>\n",
       "</div>"
      ],
      "text/plain": [
       "     Koord E  Koord N       lon        lat              Nr    v\n",
       "0    2678534  1249396  8.478805  47.390709  99900060852597  1.0\n",
       "1    2678534  1251496  8.479174  47.409596  99900063018611  1.0\n",
       "2    2678561  1249232  8.479134  47.389231  99900052723510  1.0\n",
       "3    2678640  1250202  8.480350  47.397946  99900061514043  1.0\n",
       "4    2678733  1251201  8.481758  47.406919  99900063037843  1.0\n",
       "..       ...      ...       ...        ...             ...  ...\n",
       "345  2686563  1250608  8.585369  47.400603  99900055905276  1.0\n",
       "346  2686780  1250693  8.588260  47.401339  99900060670975  1.0\n",
       "347  2687008  1250881  8.591316  47.403000  99900047367168  0.0\n",
       "348  2687022  1250538  8.591435  47.399913  99900050714619  1.0\n",
       "349  2687220  1250648  8.594079  47.400876  99900060734330  0.0\n",
       "\n",
       "[350 rows x 6 columns]"
      ]
     },
     "execution_count": 42,
     "metadata": {},
     "output_type": "execute_result"
    }
   ],
   "source": [
    "vak"
   ]
  },
  {
   "cell_type": "code",
   "execution_count": 44,
   "id": "5b502dfe-7571-4cc2-9629-b41559f7d6b1",
   "metadata": {
    "execution": {
     "iopub.execute_input": "2024-04-19T13:22:07.716120Z",
     "iopub.status.busy": "2024-04-19T13:22:07.715715Z",
     "iopub.status.idle": "2024-04-19T13:22:07.729075Z",
     "shell.execute_reply": "2024-04-19T13:22:07.728525Z",
     "shell.execute_reply.started": "2024-04-19T13:22:07.716100Z"
    }
   },
   "outputs": [],
   "source": [
    "vak.to_csv('/home/yelhe/script/mt/output/validaccidentkoords.csv', index = False)"
   ]
  },
  {
   "cell_type": "code",
   "execution_count": null,
   "id": "d19be186-0d5c-4e75-8dfe-12146e69d69e",
   "metadata": {},
   "outputs": [],
   "source": []
  }
 ],
 "metadata": {
  "kernelspec": {
   "display_name": "Python 3 (ipykernel)",
   "language": "python",
   "name": "python3"
  },
  "language_info": {
   "codemirror_mode": {
    "name": "ipython",
    "version": 3
   },
   "file_extension": ".py",
   "mimetype": "text/x-python",
   "name": "python",
   "nbconvert_exporter": "python",
   "pygments_lexer": "ipython3",
   "version": "3.11.5"
  }
 },
 "nbformat": 4,
 "nbformat_minor": 5
}
