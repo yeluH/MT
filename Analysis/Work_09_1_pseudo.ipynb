{
 "cells": [
  {
   "cell_type": "code",
   "execution_count": 1,
   "id": "dba7eb88-d900-428a-9f30-f28012fc20bd",
   "metadata": {
    "execution": {
     "iopub.execute_input": "2024-02-21T11:46:25.633052Z",
     "iopub.status.busy": "2024-02-21T11:46:25.632693Z",
     "iopub.status.idle": "2024-02-21T11:46:25.636199Z",
     "shell.execute_reply": "2024-02-21T11:46:25.635565Z",
     "shell.execute_reply.started": "2024-02-21T11:46:25.633028Z"
    }
   },
   "outputs": [],
   "source": [
    "# pip install google_streetview\n",
    "# pip install pyproj"
   ]
  },
  {
   "cell_type": "code",
   "execution_count": 2,
   "id": "7e9f75d8-3be9-45ef-b9ae-ad72fefb7ce1",
   "metadata": {
    "execution": {
     "iopub.execute_input": "2024-02-21T11:46:25.981808Z",
     "iopub.status.busy": "2024-02-21T11:46:25.981453Z",
     "iopub.status.idle": "2024-02-21T11:46:32.630318Z",
     "shell.execute_reply": "2024-02-21T11:46:32.629595Z",
     "shell.execute_reply.started": "2024-02-21T11:46:25.981785Z"
    }
   },
   "outputs": [],
   "source": [
    "import torch\n",
    "torch.cuda.empty_cache() "
   ]
  },
  {
   "cell_type": "code",
   "execution_count": 3,
   "id": "21a17079-f2b6-44e2-910e-4f9aa081bc43",
   "metadata": {
    "execution": {
     "iopub.execute_input": "2024-02-21T11:46:32.632174Z",
     "iopub.status.busy": "2024-02-21T11:46:32.631698Z",
     "iopub.status.idle": "2024-02-21T11:46:32.687695Z",
     "shell.execute_reply": "2024-02-21T11:46:32.687213Z",
     "shell.execute_reply.started": "2024-02-21T11:46:32.632145Z"
    }
   },
   "outputs": [],
   "source": [
    "import google_streetview\n",
    "import google_streetview.api\n",
    "import google_streetview.helpers"
   ]
  },
  {
   "cell_type": "code",
   "execution_count": 4,
   "id": "f3e5fa71-37bd-4efe-b8ee-ae3c362b2a1b",
   "metadata": {
    "execution": {
     "iopub.execute_input": "2024-02-21T11:46:32.688883Z",
     "iopub.status.busy": "2024-02-21T11:46:32.688425Z",
     "iopub.status.idle": "2024-02-21T11:46:33.921354Z",
     "shell.execute_reply": "2024-02-21T11:46:33.920698Z",
     "shell.execute_reply.started": "2024-02-21T11:46:32.688862Z"
    }
   },
   "outputs": [],
   "source": [
    "import os \n",
    "os.environ['MPLCONFIGDIR'] = os.getcwd() + \"/configs/\"\n",
    "import matplotlib\n",
    "from matplotlib import pyplot as plt\n",
    "import numpy as np\n",
    "import cv2\n",
    "import urllib.request\n",
    "from PIL import Image"
   ]
  },
  {
   "cell_type": "code",
   "execution_count": 5,
   "id": "132db61a-9aa6-4936-8ab4-054288d07d2e",
   "metadata": {
    "execution": {
     "iopub.execute_input": "2024-02-21T11:46:33.923072Z",
     "iopub.status.busy": "2024-02-21T11:46:33.922845Z",
     "iopub.status.idle": "2024-02-21T11:46:36.037759Z",
     "shell.execute_reply": "2024-02-21T11:46:36.036915Z",
     "shell.execute_reply.started": "2024-02-21T11:46:33.923050Z"
    }
   },
   "outputs": [],
   "source": [
    "import pandas as pd\n",
    "import pyproj"
   ]
  },
  {
   "cell_type": "code",
   "execution_count": 6,
   "id": "80d61825-dc8d-4005-9362-cf497e771695",
   "metadata": {
    "execution": {
     "iopub.execute_input": "2024-02-21T11:46:36.039316Z",
     "iopub.status.busy": "2024-02-21T11:46:36.038804Z",
     "iopub.status.idle": "2024-02-21T11:46:36.043162Z",
     "shell.execute_reply": "2024-02-21T11:46:36.042514Z",
     "shell.execute_reply.started": "2024-02-21T11:46:36.039294Z"
    }
   },
   "outputs": [],
   "source": [
    "import os \n",
    "os.environ['MPLCONFIGDIR'] = os.getcwd() + \"/configs/\"\n",
    "import matplotlib\n",
    "from matplotlib import pyplot as plt\n",
    "import numpy as np\n",
    "import cv2"
   ]
  },
  {
   "cell_type": "code",
   "execution_count": 33,
   "id": "e6000c92-6b7e-4ee5-9c30-ac0dfed91840",
   "metadata": {
    "execution": {
     "iopub.execute_input": "2024-02-21T11:50:03.244721Z",
     "iopub.status.busy": "2024-02-21T11:50:03.244401Z",
     "iopub.status.idle": "2024-02-21T11:50:03.247673Z",
     "shell.execute_reply": "2024-02-21T11:50:03.247010Z",
     "shell.execute_reply.started": "2024-02-21T11:50:03.244700Z"
    }
   },
   "outputs": [],
   "source": [
    "from pathlib import Path"
   ]
  },
  {
   "cell_type": "code",
   "execution_count": 50,
   "id": "923fac26-61e2-49dd-9099-e31ff4079430",
   "metadata": {
    "execution": {
     "iopub.execute_input": "2024-02-21T11:54:11.541345Z",
     "iopub.status.busy": "2024-02-21T11:54:11.541038Z",
     "iopub.status.idle": "2024-02-21T11:54:11.707209Z",
     "shell.execute_reply": "2024-02-21T11:54:11.706731Z",
     "shell.execute_reply.started": "2024-02-21T11:54:11.541326Z"
    }
   },
   "outputs": [],
   "source": [
    "from mt_function_yl import *"
   ]
  },
  {
   "cell_type": "code",
   "execution_count": 37,
   "id": "4b6847be-2042-43a9-b0e6-1a13205a2941",
   "metadata": {
    "execution": {
     "iopub.execute_input": "2024-02-21T11:50:17.135472Z",
     "iopub.status.busy": "2024-02-21T11:50:17.135131Z",
     "iopub.status.idle": "2024-02-21T11:50:17.150104Z",
     "shell.execute_reply": "2024-02-21T11:50:17.149606Z",
     "shell.execute_reply.started": "2024-02-21T11:50:17.135449Z"
    }
   },
   "outputs": [],
   "source": [
    "rp_koord = pd.read_csv('/home/yelhe/script/mt/output/rp_koord_new.csv')"
   ]
  },
  {
   "cell_type": "code",
   "execution_count": 38,
   "id": "c606b7b3-adac-48b5-88f8-ff3967678ed1",
   "metadata": {
    "execution": {
     "iopub.execute_input": "2024-02-21T11:50:17.631754Z",
     "iopub.status.busy": "2024-02-21T11:50:17.631451Z",
     "iopub.status.idle": "2024-02-21T11:50:17.639602Z",
     "shell.execute_reply": "2024-02-21T11:50:17.639069Z",
     "shell.execute_reply.started": "2024-02-21T11:50:17.631733Z"
    }
   },
   "outputs": [
    {
     "name": "stdout",
     "output_type": "stream",
     "text": [
      "<class 'pandas.core.frame.DataFrame'>\n",
      "RangeIndex: 995 entries, 0 to 994\n",
      "Data columns (total 9 columns):\n",
      " #   Column  Non-Null Count  Dtype  \n",
      "---  ------  --------------  -----  \n",
      " 0   x       995 non-null    float64\n",
      " 1   y       995 non-null    float64\n",
      " 2   lat     995 non-null    float64\n",
      " 3   lon     995 non-null    float64\n",
      " 4   url1    995 non-null    object \n",
      " 5   url2    995 non-null    object \n",
      " 6   url3    995 non-null    object \n",
      " 7   url4    995 non-null    object \n",
      " 8   id      995 non-null    int64  \n",
      "dtypes: float64(4), int64(1), object(4)\n",
      "memory usage: 70.1+ KB\n"
     ]
    }
   ],
   "source": [
    "rp_koord.info()"
   ]
  },
  {
   "cell_type": "code",
   "execution_count": 44,
   "id": "0a20c874-293c-4010-90e2-7b7922a0f3ef",
   "metadata": {
    "execution": {
     "iopub.execute_input": "2024-02-21T11:52:14.056052Z",
     "iopub.status.busy": "2024-02-21T11:52:14.055725Z",
     "iopub.status.idle": "2024-02-21T11:52:14.060342Z",
     "shell.execute_reply": "2024-02-21T11:52:14.059810Z",
     "shell.execute_reply.started": "2024-02-21T11:52:14.056032Z"
    }
   },
   "outputs": [],
   "source": [
    "rp_koord['id'] = rp_koord.id.astype(str)\n",
    "rp_koord['id'] = rp_koord['id'].str.zfill(4)"
   ]
  },
  {
   "cell_type": "code",
   "execution_count": 45,
   "id": "3278d799-ce4b-4fd6-8939-827401f31036",
   "metadata": {
    "execution": {
     "iopub.execute_input": "2024-02-21T11:52:22.973703Z",
     "iopub.status.busy": "2024-02-21T11:52:22.973408Z",
     "iopub.status.idle": "2024-02-21T11:52:22.978731Z",
     "shell.execute_reply": "2024-02-21T11:52:22.978127Z",
     "shell.execute_reply.started": "2024-02-21T11:52:22.973684Z"
    }
   },
   "outputs": [
    {
     "data": {
      "text/plain": [
       "0      0000\n",
       "1      0001\n",
       "2      0002\n",
       "3      0003\n",
       "4      0004\n",
       "       ... \n",
       "990    0990\n",
       "991    0991\n",
       "992    0992\n",
       "993    0993\n",
       "994    0994\n",
       "Name: id, Length: 995, dtype: object"
      ]
     },
     "execution_count": 45,
     "metadata": {},
     "output_type": "execute_result"
    }
   ],
   "source": [
    "rp_koord['id']"
   ]
  },
  {
   "cell_type": "code",
   "execution_count": 46,
   "id": "b67adee0-427b-4985-bf56-d462f6810956",
   "metadata": {
    "execution": {
     "iopub.execute_input": "2024-02-21T11:52:26.152624Z",
     "iopub.status.busy": "2024-02-21T11:52:26.152331Z",
     "iopub.status.idle": "2024-02-21T11:52:26.157072Z",
     "shell.execute_reply": "2024-02-21T11:52:26.156430Z",
     "shell.execute_reply.started": "2024-02-21T11:52:26.152604Z"
    }
   },
   "outputs": [],
   "source": [
    "name1 = rp_koord.id.astype(str) + '1'\n",
    "name2 = rp_koord.id.astype(str) + '2'\n",
    "name3 = rp_koord.id.astype(str) + '3'\n",
    "name4 = rp_koord.id.astype(str) + '4'"
   ]
  },
  {
   "cell_type": "code",
   "execution_count": 48,
   "id": "6340a548-49d3-4db3-a5d4-e77e15164b50",
   "metadata": {
    "execution": {
     "iopub.execute_input": "2024-02-21T11:52:50.877179Z",
     "iopub.status.busy": "2024-02-21T11:52:50.876865Z",
     "iopub.status.idle": "2024-02-21T11:53:16.500740Z",
     "shell.execute_reply": "2024-02-21T11:53:16.500129Z",
     "shell.execute_reply.started": "2024-02-21T11:52:50.877159Z"
    }
   },
   "outputs": [],
   "source": [
    "gsv_imager1 = []\n",
    "gsv_imager2 = []\n",
    "gsv_imager3 = []\n",
    "gsv_imager4 = []\n",
    "\n",
    "nrf1 = []\n",
    "nrf2 = []\n",
    "nrf3 = []\n",
    "nrf4 = []\n",
    "\n",
    "for i in range(0,995):\n",
    "    path1 = Path('/home/yelhe/data/gsv_rp_f/gsv_rp_nf/' + name1[i] + '.jpg')\n",
    "    c1 = path1.is_file()\n",
    "    path2 = Path('/home/yelhe/data/gsv_rp_f/gsv_rp_nf/' + name2[i] + '.jpg')\n",
    "    c2 = path2.is_file()\n",
    "    path3 = Path('/home/yelhe/data/gsv_rp_f/gsv_rp_nf/' + name3[i] + '.jpg')\n",
    "    c3 = path3.is_file()\n",
    "    path4 = Path('/home/yelhe/data/gsv_rp_f/gsv_rp_nf/' + name4[i] + '.jpg')\n",
    "    c4 = path4.is_file()\n",
    "    if c1 is True:\n",
    "        im1 = cv2.imread(\"/home/yelhe/data/gsv_rp_f/gsv_rp_nf/\" + name1[i] + \".jpg\")\n",
    "        gsv_imager1.append(im1)\n",
    "        nrf1.append(name1[i])\n",
    "    if c2 is True:\n",
    "        im2 = cv2.imread(\"/home/yelhe/data/gsv_rp_f/gsv_rp_nf/\" + name2[i] + \".jpg\")\n",
    "        gsv_imager2.append(im2)\n",
    "        nrf2.append(name2[i])\n",
    "    if c3 is True:\n",
    "        im3 = cv2.imread(\"/home/yelhe/data/gsv_rp_f/gsv_rp_nf/\" + name3[i] + \".jpg\")\n",
    "        gsv_imager3.append(im3)\n",
    "        nrf3.append(name3[i])\n",
    "    if c4 is True:\n",
    "        im4 = cv2.imread(\"/home/yelhe/data/gsv_rp_f/gsv_rp_nf/\" + name4[i] + \".jpg\")\n",
    "        gsv_imager4.append(im4)\n",
    "        nrf4.append(name4[i])"
   ]
  },
  {
   "cell_type": "code",
   "execution_count": 49,
   "id": "fc2821b2-09ab-4b56-a7c9-611345c354d7",
   "metadata": {
    "execution": {
     "iopub.execute_input": "2024-02-21T11:53:16.502051Z",
     "iopub.status.busy": "2024-02-21T11:53:16.501770Z",
     "iopub.status.idle": "2024-02-21T11:53:16.508572Z",
     "shell.execute_reply": "2024-02-21T11:53:16.508130Z",
     "shell.execute_reply.started": "2024-02-21T11:53:16.502033Z"
    }
   },
   "outputs": [
    {
     "name": "stdout",
     "output_type": "stream",
     "text": [
      "792 792 792 792\n"
     ]
    }
   ],
   "source": [
    "print(len(gsv_imager1), len(gsv_imager2), len(gsv_imager3), len(gsv_imager4))"
   ]
  },
  {
   "cell_type": "code",
   "execution_count": null,
   "id": "f084c989-e9fc-42d4-90a5-d3daf20de86b",
   "metadata": {
    "execution": {
     "iopub.execute_input": "2024-02-21T12:01:33.835975Z",
     "iopub.status.busy": "2024-02-21T12:01:33.835663Z"
    }
   },
   "outputs": [],
   "source": [
    "# Load output filterd file\n",
    "m1f = []\n",
    "m2f = []\n",
    "m3f = []\n",
    "m4f = []\n",
    "\n",
    "# Load all generated filtered mask files\n",
    "for i in range(0,792):\n",
    "    m1 = np.load('/home/yelhe/scratch/gsvrp_of/' + nrf1[i] + 'f.npy', allow_pickle=True)\n",
    "    m1f.append(m1)\n",
    "    m2 = np.load('/home/yelhe/scratch/gsvrp_of/' + nrf2[i] + 'f.npy', allow_pickle=True)\n",
    "    m2f.append(m2)\n",
    "    m3 = np.load('/home/yelhe/scratch/gsvrp_of/' + nrf3[i] + 'f.npy', allow_pickle=True)\n",
    "    m3f.append(m3)\n",
    "    m4 = np.load('/home/yelhe/scratch/gsvrp_of/' + nrf4[i] + 'f.npy', allow_pickle=True)\n",
    "    m4f.append(m4)\n",
    "\n",
    "print(len(m1f), len(m2f), len(m3f), len(m4f))"
   ]
  },
  {
   "cell_type": "code",
   "execution_count": null,
   "id": "6c60b23e-656a-4214-8e69-a6ad85b281be",
   "metadata": {},
   "outputs": [],
   "source": [
    "# Apply feature_summary function to images of pseudo-absence points location\n",
    "# 0-10 ongoint\n",
    "for i in range(0,10):\n",
    "    "
   ]
  }
 ],
 "metadata": {
  "kernelspec": {
   "display_name": "Python 3 (ipykernel)",
   "language": "python",
   "name": "python3"
  },
  "language_info": {
   "codemirror_mode": {
    "name": "ipython",
    "version": 3
   },
   "file_extension": ".py",
   "mimetype": "text/x-python",
   "name": "python",
   "nbconvert_exporter": "python",
   "pygments_lexer": "ipython3",
   "version": "3.11.5"
  }
 },
 "nbformat": 4,
 "nbformat_minor": 5
}
