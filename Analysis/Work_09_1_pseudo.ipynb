{
 "cells": [
  {
   "cell_type": "code",
   "execution_count": 1,
   "id": "7e9f75d8-3be9-45ef-b9ae-ad72fefb7ce1",
   "metadata": {
    "execution": {
     "iopub.execute_input": "2024-02-23T12:05:46.628347Z",
     "iopub.status.busy": "2024-02-23T12:05:46.628066Z",
     "iopub.status.idle": "2024-02-23T12:05:52.819110Z",
     "shell.execute_reply": "2024-02-23T12:05:52.818419Z",
     "shell.execute_reply.started": "2024-02-23T12:05:46.628327Z"
    }
   },
   "outputs": [],
   "source": [
    "import torch\n",
    "torch.cuda.empty_cache() "
   ]
  },
  {
   "cell_type": "code",
   "execution_count": 2,
   "id": "21a17079-f2b6-44e2-910e-4f9aa081bc43",
   "metadata": {
    "execution": {
     "iopub.execute_input": "2024-02-23T12:05:52.820961Z",
     "iopub.status.busy": "2024-02-23T12:05:52.820528Z",
     "iopub.status.idle": "2024-02-23T12:05:52.876757Z",
     "shell.execute_reply": "2024-02-23T12:05:52.876108Z",
     "shell.execute_reply.started": "2024-02-23T12:05:52.820934Z"
    }
   },
   "outputs": [],
   "source": [
    "import google_streetview\n",
    "import google_streetview.api\n",
    "import google_streetview.helpers"
   ]
  },
  {
   "cell_type": "code",
   "execution_count": 3,
   "id": "f3e5fa71-37bd-4efe-b8ee-ae3c362b2a1b",
   "metadata": {
    "execution": {
     "iopub.execute_input": "2024-02-23T12:05:52.878007Z",
     "iopub.status.busy": "2024-02-23T12:05:52.877729Z",
     "iopub.status.idle": "2024-02-23T12:05:53.966808Z",
     "shell.execute_reply": "2024-02-23T12:05:53.966161Z",
     "shell.execute_reply.started": "2024-02-23T12:05:52.877981Z"
    }
   },
   "outputs": [],
   "source": [
    "import os \n",
    "os.environ['MPLCONFIGDIR'] = os.getcwd() + \"/configs/\"\n",
    "import matplotlib\n",
    "from matplotlib import pyplot as plt\n",
    "import numpy as np\n",
    "import cv2\n",
    "import urllib.request\n",
    "from PIL import Image"
   ]
  },
  {
   "cell_type": "code",
   "execution_count": 4,
   "id": "132db61a-9aa6-4936-8ab4-054288d07d2e",
   "metadata": {
    "execution": {
     "iopub.execute_input": "2024-02-23T12:05:53.968917Z",
     "iopub.status.busy": "2024-02-23T12:05:53.968568Z",
     "iopub.status.idle": "2024-02-23T12:05:56.003280Z",
     "shell.execute_reply": "2024-02-23T12:05:56.002646Z",
     "shell.execute_reply.started": "2024-02-23T12:05:53.968886Z"
    }
   },
   "outputs": [],
   "source": [
    "import pandas as pd\n",
    "import pyproj"
   ]
  },
  {
   "cell_type": "code",
   "execution_count": 5,
   "id": "80d61825-dc8d-4005-9362-cf497e771695",
   "metadata": {
    "execution": {
     "iopub.execute_input": "2024-02-23T12:05:56.004761Z",
     "iopub.status.busy": "2024-02-23T12:05:56.004290Z",
     "iopub.status.idle": "2024-02-23T12:05:56.009650Z",
     "shell.execute_reply": "2024-02-23T12:05:56.008754Z",
     "shell.execute_reply.started": "2024-02-23T12:05:56.004731Z"
    }
   },
   "outputs": [],
   "source": [
    "import os \n",
    "os.environ['MPLCONFIGDIR'] = os.getcwd() + \"/configs/\"\n",
    "import matplotlib\n",
    "from matplotlib import pyplot as plt\n",
    "import numpy as np\n",
    "import cv2"
   ]
  },
  {
   "cell_type": "code",
   "execution_count": 6,
   "id": "e6000c92-6b7e-4ee5-9c30-ac0dfed91840",
   "metadata": {
    "execution": {
     "iopub.execute_input": "2024-02-23T12:05:56.010989Z",
     "iopub.status.busy": "2024-02-23T12:05:56.010725Z",
     "iopub.status.idle": "2024-02-23T12:05:56.018516Z",
     "shell.execute_reply": "2024-02-23T12:05:56.017762Z",
     "shell.execute_reply.started": "2024-02-23T12:05:56.010965Z"
    }
   },
   "outputs": [],
   "source": [
    "from pathlib import Path"
   ]
  },
  {
   "cell_type": "code",
   "execution_count": 7,
   "id": "923fac26-61e2-49dd-9099-e31ff4079430",
   "metadata": {
    "execution": {
     "iopub.execute_input": "2024-02-23T12:05:56.019920Z",
     "iopub.status.busy": "2024-02-23T12:05:56.019634Z",
     "iopub.status.idle": "2024-02-23T12:05:56.172925Z",
     "shell.execute_reply": "2024-02-23T12:05:56.171949Z",
     "shell.execute_reply.started": "2024-02-23T12:05:56.019893Z"
    }
   },
   "outputs": [],
   "source": [
    "from mt_function_yl import *"
   ]
  },
  {
   "cell_type": "code",
   "execution_count": 8,
   "id": "4b6847be-2042-43a9-b0e6-1a13205a2941",
   "metadata": {
    "execution": {
     "iopub.execute_input": "2024-02-23T12:05:56.175176Z",
     "iopub.status.busy": "2024-02-23T12:05:56.174378Z",
     "iopub.status.idle": "2024-02-23T12:05:56.202572Z",
     "shell.execute_reply": "2024-02-23T12:05:56.201954Z",
     "shell.execute_reply.started": "2024-02-23T12:05:56.175144Z"
    }
   },
   "outputs": [],
   "source": [
    "rp_koord = pd.read_csv('/home/yelhe/script/mt/output/rp_koord_new.csv')"
   ]
  },
  {
   "cell_type": "code",
   "execution_count": 9,
   "id": "c606b7b3-adac-48b5-88f8-ff3967678ed1",
   "metadata": {
    "execution": {
     "iopub.execute_input": "2024-02-23T12:05:56.203895Z",
     "iopub.status.busy": "2024-02-23T12:05:56.203623Z",
     "iopub.status.idle": "2024-02-23T12:05:56.218097Z",
     "shell.execute_reply": "2024-02-23T12:05:56.217442Z",
     "shell.execute_reply.started": "2024-02-23T12:05:56.203870Z"
    }
   },
   "outputs": [
    {
     "name": "stdout",
     "output_type": "stream",
     "text": [
      "<class 'pandas.core.frame.DataFrame'>\n",
      "RangeIndex: 995 entries, 0 to 994\n",
      "Data columns (total 9 columns):\n",
      " #   Column  Non-Null Count  Dtype  \n",
      "---  ------  --------------  -----  \n",
      " 0   x       995 non-null    float64\n",
      " 1   y       995 non-null    float64\n",
      " 2   lat     995 non-null    float64\n",
      " 3   lon     995 non-null    float64\n",
      " 4   url1    995 non-null    object \n",
      " 5   url2    995 non-null    object \n",
      " 6   url3    995 non-null    object \n",
      " 7   url4    995 non-null    object \n",
      " 8   id      995 non-null    int64  \n",
      "dtypes: float64(4), int64(1), object(4)\n",
      "memory usage: 70.1+ KB\n"
     ]
    }
   ],
   "source": [
    "rp_koord.info()"
   ]
  },
  {
   "cell_type": "code",
   "execution_count": 10,
   "id": "0a20c874-293c-4010-90e2-7b7922a0f3ef",
   "metadata": {
    "execution": {
     "iopub.execute_input": "2024-02-23T12:05:56.221049Z",
     "iopub.status.busy": "2024-02-23T12:05:56.220726Z",
     "iopub.status.idle": "2024-02-23T12:05:56.227392Z",
     "shell.execute_reply": "2024-02-23T12:05:56.226237Z",
     "shell.execute_reply.started": "2024-02-23T12:05:56.221025Z"
    }
   },
   "outputs": [],
   "source": [
    "rp_koord['id'] = rp_koord.id.astype(str)\n",
    "rp_koord['id'] = rp_koord['id'].str.zfill(4)"
   ]
  },
  {
   "cell_type": "code",
   "execution_count": 11,
   "id": "3278d799-ce4b-4fd6-8939-827401f31036",
   "metadata": {
    "execution": {
     "iopub.execute_input": "2024-02-23T12:05:56.228716Z",
     "iopub.status.busy": "2024-02-23T12:05:56.228339Z",
     "iopub.status.idle": "2024-02-23T12:05:56.241796Z",
     "shell.execute_reply": "2024-02-23T12:05:56.241125Z",
     "shell.execute_reply.started": "2024-02-23T12:05:56.228691Z"
    }
   },
   "outputs": [
    {
     "data": {
      "text/plain": [
       "0      0000\n",
       "1      0001\n",
       "2      0002\n",
       "3      0003\n",
       "4      0004\n",
       "       ... \n",
       "990    0990\n",
       "991    0991\n",
       "992    0992\n",
       "993    0993\n",
       "994    0994\n",
       "Name: id, Length: 995, dtype: object"
      ]
     },
     "execution_count": 11,
     "metadata": {},
     "output_type": "execute_result"
    }
   ],
   "source": [
    "rp_koord['id']"
   ]
  },
  {
   "cell_type": "code",
   "execution_count": 12,
   "id": "b67adee0-427b-4985-bf56-d462f6810956",
   "metadata": {
    "execution": {
     "iopub.execute_input": "2024-02-23T12:05:56.243094Z",
     "iopub.status.busy": "2024-02-23T12:05:56.242803Z",
     "iopub.status.idle": "2024-02-23T12:05:56.250319Z",
     "shell.execute_reply": "2024-02-23T12:05:56.249647Z",
     "shell.execute_reply.started": "2024-02-23T12:05:56.243070Z"
    }
   },
   "outputs": [],
   "source": [
    "name1 = rp_koord.id.astype(str) + '1'\n",
    "name2 = rp_koord.id.astype(str) + '2'\n",
    "name3 = rp_koord.id.astype(str) + '3'\n",
    "name4 = rp_koord.id.astype(str) + '4'"
   ]
  },
  {
   "cell_type": "code",
   "execution_count": 13,
   "id": "6340a548-49d3-4db3-a5d4-e77e15164b50",
   "metadata": {
    "execution": {
     "iopub.execute_input": "2024-02-23T12:05:56.251619Z",
     "iopub.status.busy": "2024-02-23T12:05:56.251373Z",
     "iopub.status.idle": "2024-02-23T12:06:25.785542Z",
     "shell.execute_reply": "2024-02-23T12:06:25.784509Z",
     "shell.execute_reply.started": "2024-02-23T12:05:56.251596Z"
    }
   },
   "outputs": [],
   "source": [
    "gsv_imager1 = []\n",
    "gsv_imager2 = []\n",
    "gsv_imager3 = []\n",
    "gsv_imager4 = []\n",
    "\n",
    "nrf1 = []\n",
    "nrf2 = []\n",
    "nrf3 = []\n",
    "nrf4 = []\n",
    "\n",
    "for i in range(0,995):\n",
    "    path1 = Path('/home/yelhe/data/gsv_rp_f/gsv_rp_nf/' + name1[i] + '.jpg')\n",
    "    c1 = path1.is_file()\n",
    "    path2 = Path('/home/yelhe/data/gsv_rp_f/gsv_rp_nf/' + name2[i] + '.jpg')\n",
    "    c2 = path2.is_file()\n",
    "    path3 = Path('/home/yelhe/data/gsv_rp_f/gsv_rp_nf/' + name3[i] + '.jpg')\n",
    "    c3 = path3.is_file()\n",
    "    path4 = Path('/home/yelhe/data/gsv_rp_f/gsv_rp_nf/' + name4[i] + '.jpg')\n",
    "    c4 = path4.is_file()\n",
    "    if c1 is True:\n",
    "        im1 = cv2.imread(\"/home/yelhe/data/gsv_rp_f/gsv_rp_nf/\" + name1[i] + \".jpg\")\n",
    "        gsv_imager1.append(im1)\n",
    "        nrf1.append(name1[i])\n",
    "    if c2 is True:\n",
    "        im2 = cv2.imread(\"/home/yelhe/data/gsv_rp_f/gsv_rp_nf/\" + name2[i] + \".jpg\")\n",
    "        gsv_imager2.append(im2)\n",
    "        nrf2.append(name2[i])\n",
    "    if c3 is True:\n",
    "        im3 = cv2.imread(\"/home/yelhe/data/gsv_rp_f/gsv_rp_nf/\" + name3[i] + \".jpg\")\n",
    "        gsv_imager3.append(im3)\n",
    "        nrf3.append(name3[i])\n",
    "    if c4 is True:\n",
    "        im4 = cv2.imread(\"/home/yelhe/data/gsv_rp_f/gsv_rp_nf/\" + name4[i] + \".jpg\")\n",
    "        gsv_imager4.append(im4)\n",
    "        nrf4.append(name4[i])"
   ]
  },
  {
   "cell_type": "code",
   "execution_count": 14,
   "id": "fc2821b2-09ab-4b56-a7c9-611345c354d7",
   "metadata": {
    "execution": {
     "iopub.execute_input": "2024-02-23T12:06:25.787281Z",
     "iopub.status.busy": "2024-02-23T12:06:25.786938Z",
     "iopub.status.idle": "2024-02-23T12:06:25.792198Z",
     "shell.execute_reply": "2024-02-23T12:06:25.791196Z",
     "shell.execute_reply.started": "2024-02-23T12:06:25.787256Z"
    }
   },
   "outputs": [
    {
     "name": "stdout",
     "output_type": "stream",
     "text": [
      "792 792 792 792\n"
     ]
    }
   ],
   "source": [
    "print(len(gsv_imager1), len(gsv_imager2), len(gsv_imager3), len(gsv_imager4))"
   ]
  },
  {
   "cell_type": "code",
   "execution_count": 15,
   "id": "f084c989-e9fc-42d4-90a5-d3daf20de86b",
   "metadata": {
    "execution": {
     "iopub.execute_input": "2024-02-23T12:06:25.793475Z",
     "iopub.status.busy": "2024-02-23T12:06:25.793149Z",
     "iopub.status.idle": "2024-02-23T12:13:27.080646Z",
     "shell.execute_reply": "2024-02-23T12:13:27.079570Z",
     "shell.execute_reply.started": "2024-02-23T12:06:25.793452Z"
    }
   },
   "outputs": [
    {
     "name": "stdout",
     "output_type": "stream",
     "text": [
      "792 792 792 792\n"
     ]
    }
   ],
   "source": [
    "# Load output filterd file\n",
    "m1f = []\n",
    "m2f = []\n",
    "m3f = []\n",
    "m4f = []\n",
    "\n",
    "# Load all generated filtered mask files\n",
    "for i in range(0,792):\n",
    "    m1 = np.load('/home/yelhe/scratch/gsvrp_of/' + nrf1[i] + 'f.npy', allow_pickle=True)\n",
    "    m1f.append(m1)\n",
    "    m2 = np.load('/home/yelhe/scratch/gsvrp_of/' + nrf2[i] + 'f.npy', allow_pickle=True)\n",
    "    m2f.append(m2)\n",
    "    m3 = np.load('/home/yelhe/scratch/gsvrp_of/' + nrf3[i] + 'f.npy', allow_pickle=True)\n",
    "    m3f.append(m3)\n",
    "    m4 = np.load('/home/yelhe/scratch/gsvrp_of/' + nrf4[i] + 'f.npy', allow_pickle=True)\n",
    "    m4f.append(m4)\n",
    "\n",
    "print(len(m1f), len(m2f), len(m3f), len(m4f))"
   ]
  },
  {
   "cell_type": "code",
   "execution_count": 16,
   "id": "e0e1ea8f-c909-4500-8e8d-1b7e397d9256",
   "metadata": {
    "execution": {
     "iopub.execute_input": "2024-02-23T12:14:18.831684Z",
     "iopub.status.busy": "2024-02-23T12:14:18.831360Z",
     "iopub.status.idle": "2024-02-23T12:14:18.837532Z",
     "shell.execute_reply": "2024-02-23T12:14:18.836628Z",
     "shell.execute_reply.started": "2024-02-23T12:14:18.831659Z"
    }
   },
   "outputs": [],
   "source": [
    "dfp = pd.DataFrame()\n",
    "dfp1 = []\n",
    "dfp2 = []\n",
    "dfp3 = []\n",
    "dfp4 = []"
   ]
  },
  {
   "cell_type": "code",
   "execution_count": 19,
   "id": "6c60b23e-656a-4214-8e69-a6ad85b281be",
   "metadata": {
    "execution": {
     "iopub.execute_input": "2024-02-24T00:58:37.067672Z",
     "iopub.status.busy": "2024-02-24T00:58:37.067351Z",
     "iopub.status.idle": "2024-02-24T12:07:31.742541Z",
     "shell.execute_reply": "2024-02-24T12:07:31.741658Z",
     "shell.execute_reply.started": "2024-02-24T00:58:37.067654Z"
    },
    "scrolled": true
   },
   "outputs": [
    {
     "name": "stdout",
     "output_type": "stream",
     "text": [
      "400 68609\n",
      "401 68748\n",
      "402 68933\n",
      "403 69120\n",
      "404 69373\n",
      "405 69513\n",
      "406 69727\n",
      "407 69914\n",
      "408 70146\n",
      "409 70319\n",
      "410 70558\n",
      "411 70745\n",
      "412 70900\n",
      "413 71141\n",
      "414 71334\n",
      "415 71541\n",
      "416 71695\n",
      "417 71903\n",
      "418 72062\n",
      "419 72253\n",
      "420 72412\n",
      "421 72599\n",
      "422 72766\n",
      "423 72909\n",
      "424 73113\n",
      "425 73292\n",
      "426 73440\n",
      "427 73663\n",
      "428 73778\n",
      "429 73901\n",
      "430 74008\n",
      "431 74132\n",
      "432 74339\n",
      "433 74510\n",
      "434 74692\n",
      "435 74909\n",
      "436 75087\n",
      "437 75264\n",
      "438 75446\n",
      "439 75600\n",
      "440 75700\n",
      "441 75802\n",
      "442 75984\n",
      "443 76090\n",
      "444 76230\n",
      "445 76393\n",
      "446 76555\n",
      "447 76686\n",
      "448 76950\n",
      "449 77051\n",
      "450 77278\n",
      "451 77451\n",
      "452 77566\n",
      "453 77808\n",
      "454 77948\n",
      "455 78133\n",
      "456 78259\n",
      "457 78466\n",
      "458 78675\n",
      "459 78824\n",
      "460 78987\n",
      "461 79241\n",
      "462 79438\n",
      "463 79621\n",
      "464 79782\n",
      "465 79971\n",
      "466 80157\n",
      "467 80358\n",
      "468 80534\n",
      "469 80749\n",
      "470 80935\n",
      "471 81099\n",
      "472 81291\n",
      "473 81498\n",
      "474 81704\n",
      "475 81842\n",
      "476 81940\n",
      "477 82117\n",
      "478 82311\n",
      "479 82536\n",
      "480 82725\n",
      "481 82867\n",
      "482 83029\n",
      "483 83253\n",
      "484 83434\n",
      "485 83588\n",
      "486 83680\n",
      "487 83899\n",
      "488 83994\n",
      "489 84171\n",
      "490 84364\n",
      "491 84554\n",
      "492 84701\n",
      "493 84909\n",
      "494 85040\n",
      "495 85228\n",
      "496 85396\n",
      "497 85651\n",
      "498 85749\n",
      "499 85882\n",
      "500 85989\n",
      "501 86192\n",
      "502 86397\n",
      "503 86570\n",
      "504 86773\n",
      "505 86963\n",
      "506 87215\n",
      "507 87373\n",
      "508 87539\n",
      "509 87774\n",
      "510 87953\n",
      "511 88060\n",
      "512 88129\n",
      "513 88262\n",
      "514 88326\n",
      "515 88517\n",
      "516 88619\n",
      "517 88789\n",
      "518 88975\n",
      "519 89137\n",
      "520 89277\n",
      "521 89369\n",
      "522 89573\n",
      "523 89747\n",
      "524 89968\n",
      "525 90088\n",
      "526 90261\n",
      "527 90437\n",
      "528 90509\n",
      "529 90666\n",
      "530 90747\n",
      "531 90814\n",
      "532 91001\n",
      "533 91163\n",
      "534 91328\n",
      "535 91553\n",
      "536 91820\n",
      "537 92035\n",
      "538 92209\n",
      "539 92377\n",
      "540 92567\n",
      "541 92711\n",
      "542 92845\n",
      "543 93016\n",
      "544 93209\n",
      "545 93364\n",
      "546 93538\n",
      "547 93674\n",
      "548 93756\n",
      "549 93932\n",
      "550 94142\n",
      "551 94280\n",
      "552 94450\n",
      "553 94591\n",
      "554 94788\n",
      "555 94960\n",
      "556 95069\n",
      "557 95266\n",
      "558 95428\n",
      "559 95743\n",
      "560 95994\n",
      "561 96118\n",
      "562 96311\n",
      "563 96500\n",
      "564 96645\n",
      "565 96771\n",
      "566 96941\n",
      "567 97155\n",
      "568 97412\n",
      "569 97568\n",
      "570 97735\n",
      "571 97876\n",
      "572 98173\n",
      "573 98379\n",
      "574 98526\n",
      "575 98682\n",
      "576 98841\n",
      "577 99077\n",
      "578 99265\n",
      "579 99482\n",
      "580 99691\n",
      "581 99866\n",
      "582 100161\n",
      "583 100359\n",
      "584 100564\n",
      "585 100783\n",
      "586 101019\n",
      "587 101156\n",
      "588 101368\n",
      "589 101521\n",
      "590 101721\n",
      "591 101874\n",
      "592 102044\n",
      "593 102250\n",
      "594 102479\n",
      "595 102683\n",
      "596 102874\n",
      "597 103070\n",
      "598 103325\n",
      "599 103494\n",
      "600 103677\n",
      "601 103807\n",
      "602 104037\n",
      "603 104168\n",
      "604 104367\n",
      "605 104490\n",
      "606 104642\n",
      "607 104778\n",
      "608 104954\n",
      "609 105114\n",
      "610 105286\n",
      "611 105519\n",
      "612 105662\n",
      "613 105865\n",
      "614 106034\n",
      "615 106114\n",
      "616 106311\n",
      "617 106524\n",
      "618 106661\n",
      "619 106788\n",
      "620 107015\n",
      "621 107137\n",
      "622 107310\n",
      "623 107492\n",
      "624 107674\n",
      "625 107900\n",
      "626 108040\n",
      "627 108151\n",
      "628 108350\n",
      "629 108524\n",
      "630 108728\n",
      "631 108871\n",
      "632 109024\n",
      "633 109196\n",
      "634 109330\n",
      "635 109507\n",
      "636 109657\n",
      "637 109853\n",
      "638 110085\n",
      "639 110227\n",
      "640 110435\n",
      "641 110647\n",
      "642 110864\n",
      "643 111036\n",
      "644 111233\n",
      "645 111510\n",
      "646 111631\n",
      "647 111826\n",
      "648 112021\n",
      "649 112189\n",
      "650 112384\n",
      "651 112624\n",
      "652 112785\n",
      "653 112988\n",
      "654 113132\n",
      "655 113368\n",
      "656 113529\n",
      "657 113687\n",
      "658 113883\n",
      "659 114147\n",
      "660 114230\n",
      "661 114402\n",
      "662 114612\n",
      "663 114829\n",
      "664 114981\n",
      "665 115084\n",
      "666 115280\n",
      "667 115487\n",
      "668 115693\n",
      "669 115892\n",
      "670 116027\n",
      "671 116194\n",
      "672 116345\n",
      "673 116504\n",
      "674 116730\n",
      "675 116889\n",
      "676 116987\n",
      "677 117183\n",
      "678 117365\n",
      "679 117510\n",
      "680 117681\n",
      "681 117810\n",
      "682 118059\n",
      "683 118209\n",
      "684 118362\n",
      "685 118563\n",
      "686 118701\n",
      "687 118876\n",
      "688 119058\n",
      "689 119231\n",
      "690 119423\n",
      "691 119585\n",
      "692 119740\n",
      "693 120010\n",
      "694 120144\n",
      "695 120328\n",
      "696 120470\n",
      "697 120625\n",
      "698 120805\n",
      "699 120950\n",
      "700 121133\n",
      "701 121263\n",
      "702 121383\n",
      "703 121577\n",
      "704 121780\n",
      "705 121963\n",
      "706 122129\n",
      "707 122313\n",
      "708 122583\n",
      "709 122741\n",
      "710 122871\n",
      "711 122988\n",
      "712 123218\n",
      "713 123433\n",
      "714 123660\n",
      "715 123858\n",
      "716 124023\n",
      "717 124147\n",
      "718 124368\n",
      "719 124588\n",
      "720 124755\n",
      "721 124917\n",
      "722 125218\n",
      "723 125436\n",
      "724 125556\n",
      "725 125756\n",
      "726 125985\n",
      "727 126207\n",
      "728 126385\n",
      "729 126564\n",
      "730 126699\n",
      "731 126879\n",
      "732 127155\n",
      "733 127423\n",
      "734 127468\n",
      "735 127640\n",
      "736 127705\n",
      "737 127943\n",
      "738 128010\n",
      "739 128174\n",
      "740 128270\n",
      "741 128430\n",
      "742 128583\n",
      "743 128793\n",
      "744 129000\n",
      "745 129137\n",
      "746 129353\n",
      "747 129566\n",
      "748 129720\n",
      "749 129887\n",
      "750 130078\n",
      "751 130334\n",
      "752 130567\n",
      "753 130749\n",
      "754 130900\n",
      "755 131087\n",
      "756 131282\n",
      "757 131448\n",
      "758 131667\n",
      "759 131905\n",
      "760 132091\n",
      "761 132287\n",
      "762 132445\n",
      "763 132606\n",
      "764 132887\n",
      "765 133066\n",
      "766 133299\n",
      "767 133559\n",
      "768 133716\n",
      "769 133864\n",
      "770 134030\n",
      "771 134220\n",
      "772 134458\n",
      "773 134670\n",
      "774 134806\n",
      "775 135106\n",
      "776 135218\n",
      "777 135410\n",
      "778 135545\n",
      "779 135743\n",
      "780 135934\n",
      "781 136168\n",
      "782 136385\n",
      "783 136592\n",
      "784 136737\n",
      "785 136933\n",
      "786 137138\n",
      "787 137358\n",
      "788 137545\n",
      "789 137730\n",
      "790 137870\n",
      "791 138032\n"
     ]
    }
   ],
   "source": [
    "# Apply feature_summary function to images of pseudo-absence points location\n",
    "# 0-400 done, 400-792 ongoing\n",
    "for i in range(400, 792):\n",
    "    dfp1 = feature_summary(gsv_imager1[i], m1f[i])\n",
    "    dfp1 = dfp1.assign(Nr = nrf1[i])\n",
    "    \n",
    "    dfp2 = feature_summary(gsv_imager2[i], m2f[i])\n",
    "    dfp2 = dfp2.assign(Nr = nrf2[i])\n",
    "    \n",
    "    dfp3 = feature_summary(gsv_imager3[i], m3f[i])\n",
    "    dfp3 = dfp3.assign(Nr = nrf3[i])\n",
    "    \n",
    "    dfp4 = feature_summary(gsv_imager4[i], m4f[i])\n",
    "    dfp4 = dfp4.assign(Nr = nrf4[i])\n",
    "    \n",
    "    dfp = pd.concat([dfp, dfp1, dfp2, dfp3, dfp4])\n",
    "    print(i, len(dfp.index))    "
   ]
  },
  {
   "cell_type": "code",
   "execution_count": 20,
   "id": "54d7dbc3-e901-43cd-9511-679fff3c2382",
   "metadata": {
    "execution": {
     "iopub.execute_input": "2024-02-24T12:07:31.744814Z",
     "iopub.status.busy": "2024-02-24T12:07:31.744324Z",
     "iopub.status.idle": "2024-02-24T12:07:35.873185Z",
     "shell.execute_reply": "2024-02-24T12:07:35.872215Z",
     "shell.execute_reply.started": "2024-02-24T12:07:31.744787Z"
    }
   },
   "outputs": [],
   "source": [
    "dfp.to_csv('/home/yelhe/scratch/df/df_pseudo_0_792_new.csv', index = False)"
   ]
  },
  {
   "cell_type": "code",
   "execution_count": null,
   "id": "e87a1ed7-c4ce-4268-b25e-f514d84bfa17",
   "metadata": {},
   "outputs": [],
   "source": []
  }
 ],
 "metadata": {
  "kernelspec": {
   "display_name": "Python 3 (ipykernel)",
   "language": "python",
   "name": "python3"
  },
  "language_info": {
   "codemirror_mode": {
    "name": "ipython",
    "version": 3
   },
   "file_extension": ".py",
   "mimetype": "text/x-python",
   "name": "python",
   "nbconvert_exporter": "python",
   "pygments_lexer": "ipython3",
   "version": "3.11.5"
  }
 },
 "nbformat": 4,
 "nbformat_minor": 5
}
