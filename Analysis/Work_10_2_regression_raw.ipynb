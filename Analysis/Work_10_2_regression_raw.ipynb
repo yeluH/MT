{
 "cells": [
  {
   "cell_type": "code",
   "execution_count": 2,
   "id": "7e9f75d8-3be9-45ef-b9ae-ad72fefb7ce1",
   "metadata": {
    "execution": {
     "iopub.execute_input": "2024-03-19T12:43:38.043336Z",
     "iopub.status.busy": "2024-03-19T12:43:38.042777Z",
     "iopub.status.idle": "2024-03-19T12:43:42.009750Z",
     "shell.execute_reply": "2024-03-19T12:43:42.009104Z",
     "shell.execute_reply.started": "2024-03-19T12:43:38.043314Z"
    }
   },
   "outputs": [],
   "source": [
    "import torch\n",
    "torch.cuda.empty_cache() "
   ]
  },
  {
   "cell_type": "code",
   "execution_count": 3,
   "id": "f3e5fa71-37bd-4efe-b8ee-ae3c362b2a1b",
   "metadata": {
    "execution": {
     "iopub.execute_input": "2024-03-19T12:43:42.011231Z",
     "iopub.status.busy": "2024-03-19T12:43:42.010750Z",
     "iopub.status.idle": "2024-03-19T12:43:42.627849Z",
     "shell.execute_reply": "2024-03-19T12:43:42.626978Z",
     "shell.execute_reply.started": "2024-03-19T12:43:42.011203Z"
    }
   },
   "outputs": [],
   "source": [
    "import os \n",
    "os.environ['MPLCONFIGDIR'] = os.getcwd() + \"/configs/\"\n",
    "import matplotlib\n",
    "from matplotlib import pyplot as plt\n",
    "import numpy as np\n",
    "import cv2\n",
    "import urllib.request\n",
    "from PIL import Image"
   ]
  },
  {
   "cell_type": "code",
   "execution_count": 4,
   "id": "132db61a-9aa6-4936-8ab4-054288d07d2e",
   "metadata": {
    "execution": {
     "iopub.execute_input": "2024-03-19T12:43:42.629544Z",
     "iopub.status.busy": "2024-03-19T12:43:42.629122Z",
     "iopub.status.idle": "2024-03-19T12:43:42.666689Z",
     "shell.execute_reply": "2024-03-19T12:43:42.666119Z",
     "shell.execute_reply.started": "2024-03-19T12:43:42.629512Z"
    }
   },
   "outputs": [],
   "source": [
    "import pandas as pd\n",
    "import pyproj"
   ]
  },
  {
   "cell_type": "code",
   "execution_count": 5,
   "id": "80d61825-dc8d-4005-9362-cf497e771695",
   "metadata": {
    "execution": {
     "iopub.execute_input": "2024-03-19T12:43:42.667745Z",
     "iopub.status.busy": "2024-03-19T12:43:42.667480Z",
     "iopub.status.idle": "2024-03-19T12:43:42.671177Z",
     "shell.execute_reply": "2024-03-19T12:43:42.670431Z",
     "shell.execute_reply.started": "2024-03-19T12:43:42.667726Z"
    }
   },
   "outputs": [],
   "source": [
    "import os \n",
    "os.environ['MPLCONFIGDIR'] = os.getcwd() + \"/configs/\"\n",
    "import matplotlib\n",
    "from matplotlib import pyplot as plt\n",
    "import numpy as np\n",
    "import cv2"
   ]
  },
  {
   "cell_type": "code",
   "execution_count": 6,
   "id": "e6000c92-6b7e-4ee5-9c30-ac0dfed91840",
   "metadata": {
    "execution": {
     "iopub.execute_input": "2024-03-19T12:43:42.673599Z",
     "iopub.status.busy": "2024-03-19T12:43:42.673293Z",
     "iopub.status.idle": "2024-03-19T12:43:42.677870Z",
     "shell.execute_reply": "2024-03-19T12:43:42.677274Z",
     "shell.execute_reply.started": "2024-03-19T12:43:42.673577Z"
    }
   },
   "outputs": [],
   "source": [
    "from pathlib import Path"
   ]
  },
  {
   "cell_type": "code",
   "execution_count": 7,
   "id": "59dfb1fc-7192-4ae1-9df9-596320cc4875",
   "metadata": {
    "execution": {
     "iopub.execute_input": "2024-03-19T12:43:42.678930Z",
     "iopub.status.busy": "2024-03-19T12:43:42.678622Z",
     "iopub.status.idle": "2024-03-19T12:43:42.689123Z",
     "shell.execute_reply": "2024-03-19T12:43:42.688503Z",
     "shell.execute_reply.started": "2024-03-19T12:43:42.678910Z"
    }
   },
   "outputs": [],
   "source": [
    "import joblib"
   ]
  },
  {
   "cell_type": "code",
   "execution_count": 8,
   "id": "923fac26-61e2-49dd-9099-e31ff4079430",
   "metadata": {
    "execution": {
     "iopub.execute_input": "2024-03-19T12:43:42.690075Z",
     "iopub.status.busy": "2024-03-19T12:43:42.689864Z",
     "iopub.status.idle": "2024-03-19T12:43:42.716519Z",
     "shell.execute_reply": "2024-03-19T12:43:42.715913Z",
     "shell.execute_reply.started": "2024-03-19T12:43:42.690054Z"
    }
   },
   "outputs": [],
   "source": [
    "from mt_function_yl import *"
   ]
  },
  {
   "cell_type": "code",
   "execution_count": 9,
   "id": "8376ffe7-7aec-4e11-9f86-32619931952f",
   "metadata": {
    "execution": {
     "iopub.execute_input": "2024-03-19T12:43:42.717909Z",
     "iopub.status.busy": "2024-03-19T12:43:42.717341Z",
     "iopub.status.idle": "2024-03-19T12:43:43.081131Z",
     "shell.execute_reply": "2024-03-19T12:43:43.080513Z",
     "shell.execute_reply.started": "2024-03-19T12:43:42.717886Z"
    }
   },
   "outputs": [],
   "source": [
    "import seaborn as sn\n",
    "import statsmodels.api as sm"
   ]
  },
  {
   "cell_type": "markdown",
   "id": "11486eff-60e0-460e-a14b-9a0ab0628a50",
   "metadata": {},
   "source": [
    "### Data loading"
   ]
  },
  {
   "cell_type": "code",
   "execution_count": 10,
   "id": "e66dfdbf-610d-40b1-ae40-5b9fa8702845",
   "metadata": {
    "execution": {
     "iopub.execute_input": "2024-03-19T12:43:43.082519Z",
     "iopub.status.busy": "2024-03-19T12:43:43.082034Z",
     "iopub.status.idle": "2024-03-19T12:43:43.087565Z",
     "shell.execute_reply": "2024-03-19T12:43:43.087024Z",
     "shell.execute_reply.started": "2024-03-19T12:43:43.082494Z"
    }
   },
   "outputs": [],
   "source": [
    "# df_raw = pd.read_excel('/home/yelhe/data/Acc/E_Trottis_Unfallbericht_2019-2022.xlsx',sheet_name=None)"
   ]
  },
  {
   "cell_type": "code",
   "execution_count": 11,
   "id": "21ee87ad-1fa7-4ec4-9f0f-3b0e069e6b7c",
   "metadata": {
    "execution": {
     "iopub.execute_input": "2024-03-19T12:43:43.088580Z",
     "iopub.status.busy": "2024-03-19T12:43:43.088395Z",
     "iopub.status.idle": "2024-03-19T12:43:43.092848Z",
     "shell.execute_reply": "2024-03-19T12:43:43.092204Z",
     "shell.execute_reply.started": "2024-03-19T12:43:43.088566Z"
    }
   },
   "outputs": [],
   "source": [
    "# df_raw.keys()"
   ]
  },
  {
   "cell_type": "code",
   "execution_count": 12,
   "id": "a07a9a34-c093-4fd3-8e31-c5fce7cb3fed",
   "metadata": {
    "execution": {
     "iopub.execute_input": "2024-03-19T12:43:43.093887Z",
     "iopub.status.busy": "2024-03-19T12:43:43.093594Z",
     "iopub.status.idle": "2024-03-19T12:43:43.101277Z",
     "shell.execute_reply": "2024-03-19T12:43:43.100627Z",
     "shell.execute_reply.started": "2024-03-19T12:43:43.093867Z"
    }
   },
   "outputs": [],
   "source": [
    "# dfaa = df_raw['Allgemeine Angaben']\n",
    "# dfin = df_raw['Infrastruktur']\n",
    "# dfbe = df_raw['Bedingungen']\n",
    "# dfop = df_raw['Objekte und Personen']\n",
    "# dfb1 = df_raw['Beteiligungen 1']\n",
    "# dfb2 = df_raw['Beteiligungen 2']"
   ]
  },
  {
   "cell_type": "code",
   "execution_count": 13,
   "id": "b3b686dd-faf8-4f44-a62f-629501966a49",
   "metadata": {
    "execution": {
     "iopub.execute_input": "2024-03-19T12:43:43.102330Z",
     "iopub.status.busy": "2024-03-19T12:43:43.102039Z",
     "iopub.status.idle": "2024-03-19T12:43:43.108242Z",
     "shell.execute_reply": "2024-03-19T12:43:43.107585Z",
     "shell.execute_reply.started": "2024-03-19T12:43:43.102309Z"
    }
   },
   "outputs": [],
   "source": [
    "# dfaa = dfaa.rename(columns = {'Nr.':'No', \n",
    "#                               'Unfall-Nr.':'Nr',\n",
    "#                               'Unfalltyp \\nGruppe':'atgroup_number',\n",
    "#                               'Unnamed: 5': 'atgroup', # accident type group\n",
    "#                               'Unfalltyp':'at_number',\n",
    "#                               'Unnamed: 7':'at', # accident type\n",
    "#                               'G*':'G',\n",
    "#                               'SV*':'SV',\n",
    "#                               'LV*':'LV',\n",
    "#                               'Sach-\\nschaden**':'pd', # property damage\n",
    "#                               'Hauptursache':'mc', # main cause\n",
    "#                               'Koord E':'koorde',\n",
    "#                               'Koord N':'koordn'})"
   ]
  },
  {
   "cell_type": "code",
   "execution_count": 14,
   "id": "ae50a847-4f67-43d7-84ed-cad95813319b",
   "metadata": {
    "execution": {
     "iopub.execute_input": "2024-03-19T12:43:43.109235Z",
     "iopub.status.busy": "2024-03-19T12:43:43.108998Z",
     "iopub.status.idle": "2024-03-19T12:43:43.115261Z",
     "shell.execute_reply": "2024-03-19T12:43:43.114635Z",
     "shell.execute_reply.started": "2024-03-19T12:43:43.109216Z"
    }
   },
   "outputs": [],
   "source": [
    "# dfaa = dfaa.drop(['Bemerkung'], axis = 1)"
   ]
  },
  {
   "cell_type": "code",
   "execution_count": 15,
   "id": "8d0c0f21-7d62-4399-8c11-0466d0dfb3d5",
   "metadata": {
    "execution": {
     "iopub.execute_input": "2024-03-19T12:43:43.119020Z",
     "iopub.status.busy": "2024-03-19T12:43:43.118731Z",
     "iopub.status.idle": "2024-03-19T12:43:43.122628Z",
     "shell.execute_reply": "2024-03-19T12:43:43.121976Z",
     "shell.execute_reply.started": "2024-03-19T12:43:43.118998Z"
    }
   },
   "outputs": [],
   "source": [
    "# dfin = dfin.rename(columns = {'Nr.':'No', \n",
    "#                               'Unfall-Nr.':'Nr',\n",
    "#                               'Unfallstelle':'asite', # accident site\n",
    "#                               'Inner-/ausserorts': 'inout', # in/out of town\n",
    "#                               'Vortrittsregelung':'rop', # right of way/regulation of priority\n",
    "#                               'Strassenart':'rt', # road type \n",
    "#                               'Höchst-geschwindigkeit':'maxspeed', # maximum of speed\n",
    "#                               'Strassen-beleuchtung':'sl'}) # road lighting\n",
    "# dfin = dfin.drop(['Bemerkung'], axis = 1)"
   ]
  },
  {
   "cell_type": "code",
   "execution_count": 16,
   "id": "af0c2c29-e740-47bd-b9fa-0a56c2145984",
   "metadata": {
    "execution": {
     "iopub.execute_input": "2024-03-19T12:43:43.123671Z",
     "iopub.status.busy": "2024-03-19T12:43:43.123385Z",
     "iopub.status.idle": "2024-03-19T12:43:43.129734Z",
     "shell.execute_reply": "2024-03-19T12:43:43.129047Z",
     "shell.execute_reply.started": "2024-03-19T12:43:43.123651Z"
    }
   },
   "outputs": [],
   "source": [
    "# dfbe = dfbe.rename(columns = {'Nr.':'No', \n",
    "#                               'Unfall-Nr.':'Nr',\n",
    "#                               'Witterung':'weatherc', # weather condition\n",
    "#                               'Lichtverhältnis': 'lightc', # light condition\n",
    "#                               'Strassenzustand':'roadc', # road condition\n",
    "#                               'Verkehrsaufkommen':'trafficv'# traffic volume\n",
    "#                              })\n",
    "# dfbe = dfbe.drop(['Bemerkung'], axis = 1)"
   ]
  },
  {
   "cell_type": "code",
   "execution_count": 17,
   "id": "441a257e-c3c6-4b1f-a208-62b9cd30dcf4",
   "metadata": {
    "execution": {
     "iopub.execute_input": "2024-03-19T12:43:43.130837Z",
     "iopub.status.busy": "2024-03-19T12:43:43.130541Z",
     "iopub.status.idle": "2024-03-19T12:43:43.137256Z",
     "shell.execute_reply": "2024-03-19T12:43:43.136562Z",
     "shell.execute_reply.started": "2024-03-19T12:43:43.130817Z"
    }
   },
   "outputs": [],
   "source": [
    "# dfop = dfop.rename(columns = {'Nr.':'No', \n",
    "#                               'Unfall-Nr.':'Nr',\n",
    "#                               'Objekt-Nr.':'object',  \n",
    "#                               'Fahrzeugart':'vt', # vehicle type\n",
    "#                               'Blutalkohol-konzent. (‰)': 'blal', # blood alcohol\n",
    "#                               'Atemalkohol-konzent. (mg/l)':'bral', # breath alcohol\n",
    "#                               'Personenart':'pt', # person type\n",
    "#                               'Unfallfolgen':'aconsequence', # accident consequence\n",
    "#                               'Anprall':'impact',\n",
    "#                               'Alter':'age'\n",
    "#                              })\n",
    "# dfop = dfop.drop(['Bemerkung'], axis = 1)"
   ]
  },
  {
   "cell_type": "code",
   "execution_count": 18,
   "id": "ea7c6e98-f788-4c5d-8025-0d954b8fa0fa",
   "metadata": {
    "execution": {
     "iopub.execute_input": "2024-03-19T12:43:43.138179Z",
     "iopub.status.busy": "2024-03-19T12:43:43.138007Z",
     "iopub.status.idle": "2024-03-19T12:43:43.147846Z",
     "shell.execute_reply": "2024-03-19T12:43:43.147170Z",
     "shell.execute_reply.started": "2024-03-19T12:43:43.138161Z"
    }
   },
   "outputs": [],
   "source": [
    "# dfb1 = dfb1.rename(columns = {'Nr.':'No', \n",
    "#                               'Unfall-Nr.':'Nr',\n",
    "#                               'Kinder-unfall*':'childa', # children accident  \n",
    "#                               'Kinderunfall auf dem Schulweg*':'childa_sch', # children accident way to school\n",
    "#                               'Senioren-unfall*': 'seniora', # senor accident\n",
    "#                               'Anzahl Kinder':'childn', # number of children \n",
    "#                               'Anzahl Kinder auf dem Schulweg':'childn_sch', # number of children way to school \n",
    "#                               'Anzahl Senioren':'seniorn', # number of senior \n",
    "#                               'Anzahl Fussgänger oder FäG':'pen', # number of pedestrians \n",
    "#                               'Anzahl Fahrräder':'bin', # number of bicycles \n",
    "#                               'Anzahl Fahrräder mit elektr. Tretunterstützung bis 25km/h':'nb25', # number of e-bicycles with speed up to 25\n",
    "#                               'Anzahl Fahrräder mit elektr. Tretunterstützung bis 45km/h** ':'nb45' # number of e-bicycles with speed up to 45\n",
    "#                              })\n",
    "# dfb1 = dfb1.drop(['Bemerkung'], axis = 1)"
   ]
  },
  {
   "cell_type": "code",
   "execution_count": 19,
   "id": "602bc88c-9236-4e0e-86fc-a0af3c25e3f6",
   "metadata": {
    "execution": {
     "iopub.execute_input": "2024-03-19T12:43:43.148802Z",
     "iopub.status.busy": "2024-03-19T12:43:43.148563Z",
     "iopub.status.idle": "2024-03-19T12:43:43.155031Z",
     "shell.execute_reply": "2024-03-19T12:43:43.154408Z",
     "shell.execute_reply.started": "2024-03-19T12:43:43.148782Z"
    }
   },
   "outputs": [],
   "source": [
    "# dfb2 = dfb2.rename(columns = {'Nr.':'No', \n",
    "#                               'Unfall-Nr.':'Nr',\n",
    "#                               'Motor-fahrräder':'motorcycle', \n",
    "#                               'Kleinmotorräder bis 50 cm3 und max. 4kW':'small_motorbike', \n",
    "#                               'Motorräder\\n':'motorbike', \n",
    "#                               'Lastwagen':'truck', \n",
    "#                               'Lieferwagen':'van', \n",
    "#                               'Personen-wagen':'passengercar', # passenger cars\n",
    "#                               'Transport-mittel des ÖV':'ptvehicle', # public transport vehicle\n",
    "#                               'Andere Fahrzeuge':'ovehicle' # other vehicle\n",
    "#                              })\n",
    "# dfb2 = dfb2.drop(['Bemerkung'], axis = 1)"
   ]
  },
  {
   "cell_type": "code",
   "execution_count": 20,
   "id": "38b07a80-6743-489a-9d50-fcaa4cf3b254",
   "metadata": {
    "execution": {
     "iopub.execute_input": "2024-03-19T12:43:43.156279Z",
     "iopub.status.busy": "2024-03-19T12:43:43.155940Z",
     "iopub.status.idle": "2024-03-19T12:43:43.162214Z",
     "shell.execute_reply": "2024-03-19T12:43:43.161560Z",
     "shell.execute_reply.started": "2024-03-19T12:43:43.156258Z"
    }
   },
   "outputs": [],
   "source": [
    "# dfaa.to_csv('/home/yelhe/script/mt/dataraw/dfaa.csv', index = False)\n",
    "# dfin.to_csv('/home/yelhe/script/mt/dataraw/dfin.csv', index = False)\n",
    "# dfbe.to_csv('/home/yelhe/script/mt/dataraw/dfbe.csv', index = False)\n",
    "# dfop.to_csv('/home/yelhe/script/mt/dataraw/dfop.csv', index = False)\n",
    "# dfb1.to_csv('/home/yelhe/script/mt/dataraw/dfb1.csv', index = False)\n",
    "# dfb2.to_csv('/home/yelhe/script/mt/dataraw/dfb2.csv', index = False)"
   ]
  },
  {
   "cell_type": "code",
   "execution_count": 21,
   "id": "2de8b6f6-9e7c-45c7-8283-8d61ae9ec1c6",
   "metadata": {
    "execution": {
     "iopub.execute_input": "2024-03-19T12:43:43.163220Z",
     "iopub.status.busy": "2024-03-19T12:43:43.162940Z",
     "iopub.status.idle": "2024-03-19T12:43:43.185016Z",
     "shell.execute_reply": "2024-03-19T12:43:43.184401Z",
     "shell.execute_reply.started": "2024-03-19T12:43:43.163200Z"
    }
   },
   "outputs": [],
   "source": [
    "# Loading data\n",
    "dfaa = pd.read_csv('/home/yelhe/script/mt/dataraw/dfaa.csv')\n",
    "dfin = pd.read_csv('/home/yelhe/script/mt/dataraw/dfin.csv')\n",
    "dfbe = pd.read_csv('/home/yelhe/script/mt/dataraw/dfbe.csv')\n",
    "dfop = pd.read_csv('/home/yelhe/script/mt/dataraw/dfop.csv')\n",
    "dfb1 = pd.read_csv('/home/yelhe/script/mt/dataraw/dfb1.csv')\n",
    "dfb2 = pd.read_csv('/home/yelhe/script/mt/dataraw/dfb2.csv')"
   ]
  },
  {
   "cell_type": "code",
   "execution_count": 22,
   "id": "79a02daa-e816-4807-a568-a9ba22ea3853",
   "metadata": {
    "execution": {
     "iopub.execute_input": "2024-03-19T12:43:43.186023Z",
     "iopub.status.busy": "2024-03-19T12:43:43.185752Z",
     "iopub.status.idle": "2024-03-19T12:43:43.190271Z",
     "shell.execute_reply": "2024-03-19T12:43:43.189614Z",
     "shell.execute_reply.started": "2024-03-19T12:43:43.186001Z"
    }
   },
   "outputs": [],
   "source": [
    "dftime = dfaa[['Nr', 'Datum', 'Zeit']]"
   ]
  },
  {
   "cell_type": "code",
   "execution_count": 114,
   "id": "c4c62cb3-b44a-4a17-b864-65adb0fe85f1",
   "metadata": {
    "execution": {
     "iopub.execute_input": "2024-03-21T15:38:41.579892Z",
     "iopub.status.busy": "2024-03-21T15:38:41.579544Z",
     "iopub.status.idle": "2024-03-21T15:38:41.591380Z",
     "shell.execute_reply": "2024-03-21T15:38:41.590784Z",
     "shell.execute_reply.started": "2024-03-21T15:38:41.579867Z"
    }
   },
   "outputs": [
    {
     "data": {
      "text/html": [
       "<div>\n",
       "<style scoped>\n",
       "    .dataframe tbody tr th:only-of-type {\n",
       "        vertical-align: middle;\n",
       "    }\n",
       "\n",
       "    .dataframe tbody tr th {\n",
       "        vertical-align: top;\n",
       "    }\n",
       "\n",
       "    .dataframe thead th {\n",
       "        text-align: right;\n",
       "    }\n",
       "</style>\n",
       "<table border=\"1\" class=\"dataframe\">\n",
       "  <thead>\n",
       "    <tr style=\"text-align: right;\">\n",
       "      <th></th>\n",
       "      <th>Nr</th>\n",
       "      <th>Datum</th>\n",
       "      <th>Zeit</th>\n",
       "    </tr>\n",
       "  </thead>\n",
       "  <tbody>\n",
       "    <tr>\n",
       "      <th>0</th>\n",
       "      <td>99900060852597</td>\n",
       "      <td>2022-05-29</td>\n",
       "      <td>00:10</td>\n",
       "    </tr>\n",
       "    <tr>\n",
       "      <th>1</th>\n",
       "      <td>99900063018611</td>\n",
       "      <td>2022-10-12</td>\n",
       "      <td>17:40</td>\n",
       "    </tr>\n",
       "    <tr>\n",
       "      <th>2</th>\n",
       "      <td>99900052723510</td>\n",
       "      <td>2020-10-26</td>\n",
       "      <td>16:50</td>\n",
       "    </tr>\n",
       "    <tr>\n",
       "      <th>3</th>\n",
       "      <td>99900061514043</td>\n",
       "      <td>2022-07-08</td>\n",
       "      <td>21:30</td>\n",
       "    </tr>\n",
       "    <tr>\n",
       "      <th>4</th>\n",
       "      <td>99900063037843</td>\n",
       "      <td>2022-10-13</td>\n",
       "      <td>19:40</td>\n",
       "    </tr>\n",
       "    <tr>\n",
       "      <th>...</th>\n",
       "      <td>...</td>\n",
       "      <td>...</td>\n",
       "      <td>...</td>\n",
       "    </tr>\n",
       "    <tr>\n",
       "      <th>345</th>\n",
       "      <td>99900055905276</td>\n",
       "      <td>2021-06-08</td>\n",
       "      <td>12:50</td>\n",
       "    </tr>\n",
       "    <tr>\n",
       "      <th>346</th>\n",
       "      <td>99900060670975</td>\n",
       "      <td>2022-05-16</td>\n",
       "      <td>14:42</td>\n",
       "    </tr>\n",
       "    <tr>\n",
       "      <th>347</th>\n",
       "      <td>99900047367168</td>\n",
       "      <td>2019-09-21</td>\n",
       "      <td>13:49</td>\n",
       "    </tr>\n",
       "    <tr>\n",
       "      <th>348</th>\n",
       "      <td>99900050714619</td>\n",
       "      <td>2020-06-06</td>\n",
       "      <td>16:37</td>\n",
       "    </tr>\n",
       "    <tr>\n",
       "      <th>349</th>\n",
       "      <td>99900060734330</td>\n",
       "      <td>2022-05-18</td>\n",
       "      <td>16:30</td>\n",
       "    </tr>\n",
       "  </tbody>\n",
       "</table>\n",
       "<p>350 rows × 3 columns</p>\n",
       "</div>"
      ],
      "text/plain": [
       "                 Nr       Datum   Zeit\n",
       "0    99900060852597  2022-05-29  00:10\n",
       "1    99900063018611  2022-10-12  17:40\n",
       "2    99900052723510  2020-10-26  16:50\n",
       "3    99900061514043  2022-07-08  21:30\n",
       "4    99900063037843  2022-10-13  19:40\n",
       "..              ...         ...    ...\n",
       "345  99900055905276  2021-06-08  12:50\n",
       "346  99900060670975  2022-05-16  14:42\n",
       "347  99900047367168  2019-09-21  13:49\n",
       "348  99900050714619  2020-06-06  16:37\n",
       "349  99900060734330  2022-05-18  16:30\n",
       "\n",
       "[350 rows x 3 columns]"
      ]
     },
     "execution_count": 114,
     "metadata": {},
     "output_type": "execute_result"
    }
   ],
   "source": [
    "dftime"
   ]
  },
  {
   "cell_type": "code",
   "execution_count": 23,
   "id": "0d312065-3346-4993-b9b3-172e8b364716",
   "metadata": {
    "execution": {
     "iopub.execute_input": "2024-03-19T12:43:43.191484Z",
     "iopub.status.busy": "2024-03-19T12:43:43.191114Z",
     "iopub.status.idle": "2024-03-19T12:43:43.198777Z",
     "shell.execute_reply": "2024-03-19T12:43:43.198063Z",
     "shell.execute_reply.started": "2024-03-19T12:43:43.191460Z"
    }
   },
   "outputs": [],
   "source": [
    "dfb1.drop(dfb1.tail(1).index,inplace=True) "
   ]
  },
  {
   "cell_type": "code",
   "execution_count": 24,
   "id": "58b46431-4d8a-44d0-80f1-c16bdd4a6e3b",
   "metadata": {
    "execution": {
     "iopub.execute_input": "2024-03-19T12:43:43.200123Z",
     "iopub.status.busy": "2024-03-19T12:43:43.199557Z",
     "iopub.status.idle": "2024-03-19T12:43:43.207268Z",
     "shell.execute_reply": "2024-03-19T12:43:43.206622Z",
     "shell.execute_reply.started": "2024-03-19T12:43:43.200100Z"
    }
   },
   "outputs": [],
   "source": [
    "dfb2.drop(dfb2.tail(1).index,inplace=True) "
   ]
  },
  {
   "cell_type": "code",
   "execution_count": 25,
   "id": "415643c5-aabc-438b-b352-1f35d337a622",
   "metadata": {
    "execution": {
     "iopub.execute_input": "2024-03-19T12:43:43.208223Z",
     "iopub.status.busy": "2024-03-19T12:43:43.208051Z",
     "iopub.status.idle": "2024-03-19T12:43:43.215226Z",
     "shell.execute_reply": "2024-03-19T12:43:43.214634Z",
     "shell.execute_reply.started": "2024-03-19T12:43:43.208208Z"
    }
   },
   "outputs": [
    {
     "name": "stdout",
     "output_type": "stream",
     "text": [
      "(350, 16) (350, 8) (350, 6) (581, 10) (350, 12) (350, 10)\n"
     ]
    }
   ],
   "source": [
    "print(dfaa.shape, dfin.shape, dfbe.shape, dfop.shape, dfb1.shape, dfb2.shape)"
   ]
  },
  {
   "cell_type": "code",
   "execution_count": 26,
   "id": "f4ace1a2-07e6-4703-a442-cdc4b788a371",
   "metadata": {
    "execution": {
     "iopub.execute_input": "2024-03-19T12:43:43.216452Z",
     "iopub.status.busy": "2024-03-19T12:43:43.216108Z",
     "iopub.status.idle": "2024-03-19T12:43:43.223919Z",
     "shell.execute_reply": "2024-03-19T12:43:43.223242Z",
     "shell.execute_reply.started": "2024-03-19T12:43:43.216426Z"
    }
   },
   "outputs": [],
   "source": [
    "dfmc = dfaa.groupby(['mc']).size().reset_index().rename(columns={0:'count'})"
   ]
  },
  {
   "cell_type": "code",
   "execution_count": 27,
   "id": "6e657258-93aa-4419-b124-83fa4d15685c",
   "metadata": {
    "execution": {
     "iopub.execute_input": "2024-03-19T12:43:43.224987Z",
     "iopub.status.busy": "2024-03-19T12:43:43.224645Z",
     "iopub.status.idle": "2024-03-19T12:43:43.239344Z",
     "shell.execute_reply": "2024-03-19T12:43:43.238662Z",
     "shell.execute_reply.started": "2024-03-19T12:43:43.224967Z"
    }
   },
   "outputs": [
    {
     "data": {
      "text/html": [
       "<div>\n",
       "<style scoped>\n",
       "    .dataframe tbody tr th:only-of-type {\n",
       "        vertical-align: middle;\n",
       "    }\n",
       "\n",
       "    .dataframe tbody tr th {\n",
       "        vertical-align: top;\n",
       "    }\n",
       "\n",
       "    .dataframe thead th {\n",
       "        text-align: right;\n",
       "    }\n",
       "</style>\n",
       "<table border=\"1\" class=\"dataframe\">\n",
       "  <thead>\n",
       "    <tr style=\"text-align: right;\">\n",
       "      <th></th>\n",
       "      <th>mc</th>\n",
       "      <th>count</th>\n",
       "    </tr>\n",
       "  </thead>\n",
       "  <tbody>\n",
       "    <tr>\n",
       "      <th>0</th>\n",
       "      <td>Ablenkung durch Bedienung des Telefons</td>\n",
       "      <td>1</td>\n",
       "    </tr>\n",
       "    <tr>\n",
       "      <th>1</th>\n",
       "      <td>Anderer Einfluss im Zusammenhang mit Unaufmerk...</td>\n",
       "      <td>73</td>\n",
       "    </tr>\n",
       "    <tr>\n",
       "      <th>2</th>\n",
       "      <td>Anderer Mangel am Unterhalt des Fahrzeuges</td>\n",
       "      <td>1</td>\n",
       "    </tr>\n",
       "    <tr>\n",
       "      <th>3</th>\n",
       "      <td>Anderer Mangel am Zustand des Fahrzeuges</td>\n",
       "      <td>1</td>\n",
       "    </tr>\n",
       "    <tr>\n",
       "      <th>4</th>\n",
       "      <td>Anderer momentaner äusserer Einfluss</td>\n",
       "      <td>1</td>\n",
       "    </tr>\n",
       "    <tr>\n",
       "      <th>5</th>\n",
       "      <td>Anderes Fehlverhalten bei Fahrbewegungen</td>\n",
       "      <td>1</td>\n",
       "    </tr>\n",
       "    <tr>\n",
       "      <th>6</th>\n",
       "      <td>Anderes Fehlverhalten des Fahrrad- oder Motorf...</td>\n",
       "      <td>1</td>\n",
       "    </tr>\n",
       "    <tr>\n",
       "      <th>7</th>\n",
       "      <td>Anderes Fehlverhalten im Zusammenhang mit Vort...</td>\n",
       "      <td>11</td>\n",
       "    </tr>\n",
       "    <tr>\n",
       "      <th>8</th>\n",
       "      <td>Anderes Fehlverhalten im Zusammenhang mit Über...</td>\n",
       "      <td>1</td>\n",
       "    </tr>\n",
       "    <tr>\n",
       "      <th>9</th>\n",
       "      <td>Befahren eines Fussgängerstreifens zum Überque...</td>\n",
       "      <td>4</td>\n",
       "    </tr>\n",
       "    <tr>\n",
       "      <th>10</th>\n",
       "      <td>Einwirkung von Alkohol</td>\n",
       "      <td>120</td>\n",
       "    </tr>\n",
       "    <tr>\n",
       "      <th>11</th>\n",
       "      <td>Einwirkung von Betäubungsmittel</td>\n",
       "      <td>3</td>\n",
       "    </tr>\n",
       "    <tr>\n",
       "      <th>12</th>\n",
       "      <td>Keine, zu späte oder unrichtige Zeichengabe</td>\n",
       "      <td>1</td>\n",
       "    </tr>\n",
       "    <tr>\n",
       "      <th>13</th>\n",
       "      <td>Mangelnde Rücksichtnahme bei Fahrstreifenwechsel</td>\n",
       "      <td>1</td>\n",
       "    </tr>\n",
       "    <tr>\n",
       "      <th>14</th>\n",
       "      <td>Missachten der Verkehrsregelung durch Handzeic...</td>\n",
       "      <td>1</td>\n",
       "    </tr>\n",
       "    <tr>\n",
       "      <th>15</th>\n",
       "      <td>Missachten des Rechtsvortritts</td>\n",
       "      <td>4</td>\n",
       "    </tr>\n",
       "    <tr>\n",
       "      <th>16</th>\n",
       "      <td>Missachten des Rotlichts</td>\n",
       "      <td>14</td>\n",
       "    </tr>\n",
       "    <tr>\n",
       "      <th>17</th>\n",
       "      <td>Missachten des Vortritts der Strassenbahn</td>\n",
       "      <td>4</td>\n",
       "    </tr>\n",
       "    <tr>\n",
       "      <th>18</th>\n",
       "      <td>Missachten des Vortritts des Gegenverkehrs bei...</td>\n",
       "      <td>1</td>\n",
       "    </tr>\n",
       "    <tr>\n",
       "      <th>19</th>\n",
       "      <td>Missachten des Vortrittssignals Kein Vortritt</td>\n",
       "      <td>7</td>\n",
       "    </tr>\n",
       "    <tr>\n",
       "      <th>20</th>\n",
       "      <td>Missachten des Vortrittssignals Stop</td>\n",
       "      <td>4</td>\n",
       "    </tr>\n",
       "    <tr>\n",
       "      <th>21</th>\n",
       "      <td>Missachten eines Signals</td>\n",
       "      <td>5</td>\n",
       "    </tr>\n",
       "    <tr>\n",
       "      <th>22</th>\n",
       "      <td>Momentane Unaufmerksamkeit</td>\n",
       "      <td>8</td>\n",
       "    </tr>\n",
       "    <tr>\n",
       "      <th>23</th>\n",
       "      <td>Nichtanpassen an die Sichtverhältnisse (beeinf...</td>\n",
       "      <td>1</td>\n",
       "    </tr>\n",
       "    <tr>\n",
       "      <th>24</th>\n",
       "      <td>Nichtanpassen an die Verkehrsverhältnisse</td>\n",
       "      <td>1</td>\n",
       "    </tr>\n",
       "    <tr>\n",
       "      <th>25</th>\n",
       "      <td>Nichtbenützen der für (Motor-) Fahrräder besti...</td>\n",
       "      <td>1</td>\n",
       "    </tr>\n",
       "    <tr>\n",
       "      <th>26</th>\n",
       "      <td>Nichtbenützen der für Fussgänger/FäG bestimmte...</td>\n",
       "      <td>1</td>\n",
       "    </tr>\n",
       "    <tr>\n",
       "      <th>27</th>\n",
       "      <td>Nichtgewähren des Vortritts bei Fussgängerstre...</td>\n",
       "      <td>3</td>\n",
       "    </tr>\n",
       "    <tr>\n",
       "      <th>28</th>\n",
       "      <td>Nichtgewähren des Vortritts über Trottoir (Tro...</td>\n",
       "      <td>7</td>\n",
       "    </tr>\n",
       "    <tr>\n",
       "      <th>29</th>\n",
       "      <td>Parkiertes Fahrzeug (bei Nichtgenügen der Meld...</td>\n",
       "      <td>1</td>\n",
       "    </tr>\n",
       "    <tr>\n",
       "      <th>30</th>\n",
       "      <td>Rechts überholen</td>\n",
       "      <td>1</td>\n",
       "    </tr>\n",
       "    <tr>\n",
       "      <th>31</th>\n",
       "      <td>Spitzwinklige Gleisquerung für Zweiradfahrer</td>\n",
       "      <td>8</td>\n",
       "    </tr>\n",
       "    <tr>\n",
       "      <th>32</th>\n",
       "      <td>Unbekannte Ursache</td>\n",
       "      <td>7</td>\n",
       "    </tr>\n",
       "    <tr>\n",
       "      <th>33</th>\n",
       "      <td>Unerlaubtes Befahren eines Trottoirs / Fussweg...</td>\n",
       "      <td>29</td>\n",
       "    </tr>\n",
       "    <tr>\n",
       "      <th>34</th>\n",
       "      <td>Unvorsichtiges Rückwärtsfahren</td>\n",
       "      <td>1</td>\n",
       "    </tr>\n",
       "    <tr>\n",
       "      <th>35</th>\n",
       "      <td>Unvorsichtiges Öffnen der Wagentüre</td>\n",
       "      <td>2</td>\n",
       "    </tr>\n",
       "    <tr>\n",
       "      <th>36</th>\n",
       "      <td>Unvorsichtiges Überqueren der Fahrbahn</td>\n",
       "      <td>1</td>\n",
       "    </tr>\n",
       "    <tr>\n",
       "      <th>37</th>\n",
       "      <td>Vorschriftswidriges Begegnen (Kreuzen in Längs...</td>\n",
       "      <td>5</td>\n",
       "    </tr>\n",
       "    <tr>\n",
       "      <th>38</th>\n",
       "      <td>Vortritt beim Linksabbiegen vor Gegenverkehr</td>\n",
       "      <td>7</td>\n",
       "    </tr>\n",
       "    <tr>\n",
       "      <th>39</th>\n",
       "      <td>Zu nahes Aufschliessen</td>\n",
       "      <td>3</td>\n",
       "    </tr>\n",
       "    <tr>\n",
       "      <th>40</th>\n",
       "      <td>Zu nahes Überholen (seitlich)</td>\n",
       "      <td>3</td>\n",
       "    </tr>\n",
       "  </tbody>\n",
       "</table>\n",
       "</div>"
      ],
      "text/plain": [
       "                                                   mc  count\n",
       "0              Ablenkung durch Bedienung des Telefons      1\n",
       "1   Anderer Einfluss im Zusammenhang mit Unaufmerk...     73\n",
       "2          Anderer Mangel am Unterhalt des Fahrzeuges      1\n",
       "3            Anderer Mangel am Zustand des Fahrzeuges      1\n",
       "4                Anderer momentaner äusserer Einfluss      1\n",
       "5            Anderes Fehlverhalten bei Fahrbewegungen      1\n",
       "6   Anderes Fehlverhalten des Fahrrad- oder Motorf...      1\n",
       "7   Anderes Fehlverhalten im Zusammenhang mit Vort...     11\n",
       "8   Anderes Fehlverhalten im Zusammenhang mit Über...      1\n",
       "9   Befahren eines Fussgängerstreifens zum Überque...      4\n",
       "10                             Einwirkung von Alkohol    120\n",
       "11                    Einwirkung von Betäubungsmittel      3\n",
       "12        Keine, zu späte oder unrichtige Zeichengabe      1\n",
       "13   Mangelnde Rücksichtnahme bei Fahrstreifenwechsel      1\n",
       "14  Missachten der Verkehrsregelung durch Handzeic...      1\n",
       "15                     Missachten des Rechtsvortritts      4\n",
       "16                           Missachten des Rotlichts     14\n",
       "17          Missachten des Vortritts der Strassenbahn      4\n",
       "18  Missachten des Vortritts des Gegenverkehrs bei...      1\n",
       "19      Missachten des Vortrittssignals Kein Vortritt      7\n",
       "20               Missachten des Vortrittssignals Stop      4\n",
       "21                           Missachten eines Signals      5\n",
       "22                         Momentane Unaufmerksamkeit      8\n",
       "23  Nichtanpassen an die Sichtverhältnisse (beeinf...      1\n",
       "24          Nichtanpassen an die Verkehrsverhältnisse      1\n",
       "25  Nichtbenützen der für (Motor-) Fahrräder besti...      1\n",
       "26  Nichtbenützen der für Fussgänger/FäG bestimmte...      1\n",
       "27  Nichtgewähren des Vortritts bei Fussgängerstre...      3\n",
       "28  Nichtgewähren des Vortritts über Trottoir (Tro...      7\n",
       "29  Parkiertes Fahrzeug (bei Nichtgenügen der Meld...      1\n",
       "30                                   Rechts überholen      1\n",
       "31       Spitzwinklige Gleisquerung für Zweiradfahrer      8\n",
       "32                                 Unbekannte Ursache      7\n",
       "33  Unerlaubtes Befahren eines Trottoirs / Fussweg...     29\n",
       "34                     Unvorsichtiges Rückwärtsfahren      1\n",
       "35                Unvorsichtiges Öffnen der Wagentüre      2\n",
       "36             Unvorsichtiges Überqueren der Fahrbahn      1\n",
       "37  Vorschriftswidriges Begegnen (Kreuzen in Längs...      5\n",
       "38       Vortritt beim Linksabbiegen vor Gegenverkehr      7\n",
       "39                             Zu nahes Aufschliessen      3\n",
       "40                      Zu nahes Überholen (seitlich)      3"
      ]
     },
     "execution_count": 27,
     "metadata": {},
     "output_type": "execute_result"
    }
   ],
   "source": [
    "dfmc"
   ]
  },
  {
   "cell_type": "code",
   "execution_count": 28,
   "id": "04633158-ce05-464a-a857-059ac62ca379",
   "metadata": {
    "execution": {
     "iopub.execute_input": "2024-03-19T12:43:43.240499Z",
     "iopub.status.busy": "2024-03-19T12:43:43.240202Z",
     "iopub.status.idle": "2024-03-19T12:43:43.249684Z",
     "shell.execute_reply": "2024-03-19T12:43:43.249115Z",
     "shell.execute_reply.started": "2024-03-19T12:43:43.240480Z"
    }
   },
   "outputs": [
    {
     "data": {
      "text/html": [
       "<div>\n",
       "<style scoped>\n",
       "    .dataframe tbody tr th:only-of-type {\n",
       "        vertical-align: middle;\n",
       "    }\n",
       "\n",
       "    .dataframe tbody tr th {\n",
       "        vertical-align: top;\n",
       "    }\n",
       "\n",
       "    .dataframe thead th {\n",
       "        text-align: right;\n",
       "    }\n",
       "</style>\n",
       "<table border=\"1\" class=\"dataframe\">\n",
       "  <thead>\n",
       "    <tr style=\"text-align: right;\">\n",
       "      <th></th>\n",
       "      <th>rop</th>\n",
       "      <th>count</th>\n",
       "    </tr>\n",
       "  </thead>\n",
       "  <tbody>\n",
       "    <tr>\n",
       "      <th>0</th>\n",
       "      <td>Fussgängerstreifen</td>\n",
       "      <td>5</td>\n",
       "    </tr>\n",
       "    <tr>\n",
       "      <th>1</th>\n",
       "      <td>Handzeichengabe</td>\n",
       "      <td>1</td>\n",
       "    </tr>\n",
       "    <tr>\n",
       "      <th>2</th>\n",
       "      <td>Lichtsignal</td>\n",
       "      <td>22</td>\n",
       "    </tr>\n",
       "    <tr>\n",
       "      <th>3</th>\n",
       "      <td>Rechtsvortritt</td>\n",
       "      <td>7</td>\n",
       "    </tr>\n",
       "    <tr>\n",
       "      <th>4</th>\n",
       "      <td>Signal ''''Kein Vortritt''''</td>\n",
       "      <td>8</td>\n",
       "    </tr>\n",
       "    <tr>\n",
       "      <th>5</th>\n",
       "      <td>Signal ''''Stop''''</td>\n",
       "      <td>5</td>\n",
       "    </tr>\n",
       "    <tr>\n",
       "      <th>6</th>\n",
       "      <td>Tram-Vortritt</td>\n",
       "      <td>5</td>\n",
       "    </tr>\n",
       "    <tr>\n",
       "      <th>7</th>\n",
       "      <td>Trottoirüberfahrt</td>\n",
       "      <td>10</td>\n",
       "    </tr>\n",
       "    <tr>\n",
       "      <th>8</th>\n",
       "      <td>andere</td>\n",
       "      <td>19</td>\n",
       "    </tr>\n",
       "    <tr>\n",
       "      <th>9</th>\n",
       "      <td>keine Verzweigung</td>\n",
       "      <td>268</td>\n",
       "    </tr>\n",
       "  </tbody>\n",
       "</table>\n",
       "</div>"
      ],
      "text/plain": [
       "                            rop  count\n",
       "0            Fussgängerstreifen      5\n",
       "1               Handzeichengabe      1\n",
       "2                   Lichtsignal     22\n",
       "3                Rechtsvortritt      7\n",
       "4  Signal ''''Kein Vortritt''''      8\n",
       "5           Signal ''''Stop''''      5\n",
       "6                 Tram-Vortritt      5\n",
       "7             Trottoirüberfahrt     10\n",
       "8                        andere     19\n",
       "9             keine Verzweigung    268"
      ]
     },
     "execution_count": 28,
     "metadata": {},
     "output_type": "execute_result"
    }
   ],
   "source": [
    "dfin.groupby(['rop']).size().reset_index().rename(columns={0:'count'})"
   ]
  },
  {
   "cell_type": "code",
   "execution_count": 29,
   "id": "351ad79c-9e43-477d-a290-03206109b7d9",
   "metadata": {
    "execution": {
     "iopub.execute_input": "2024-03-19T12:43:43.250718Z",
     "iopub.status.busy": "2024-03-19T12:43:43.250412Z",
     "iopub.status.idle": "2024-03-19T12:43:43.259609Z",
     "shell.execute_reply": "2024-03-19T12:43:43.258969Z",
     "shell.execute_reply.started": "2024-03-19T12:43:43.250695Z"
    }
   },
   "outputs": [
    {
     "data": {
      "text/html": [
       "<div>\n",
       "<style scoped>\n",
       "    .dataframe tbody tr th:only-of-type {\n",
       "        vertical-align: middle;\n",
       "    }\n",
       "\n",
       "    .dataframe tbody tr th {\n",
       "        vertical-align: top;\n",
       "    }\n",
       "\n",
       "    .dataframe thead th {\n",
       "        text-align: right;\n",
       "    }\n",
       "</style>\n",
       "<table border=\"1\" class=\"dataframe\">\n",
       "  <thead>\n",
       "    <tr style=\"text-align: right;\">\n",
       "      <th></th>\n",
       "      <th>sl</th>\n",
       "      <th>count</th>\n",
       "    </tr>\n",
       "  </thead>\n",
       "  <tbody>\n",
       "    <tr>\n",
       "      <th>0</th>\n",
       "      <td>ausser Betrieb</td>\n",
       "      <td>156</td>\n",
       "    </tr>\n",
       "    <tr>\n",
       "      <th>1</th>\n",
       "      <td>in Betrieb</td>\n",
       "      <td>191</td>\n",
       "    </tr>\n",
       "    <tr>\n",
       "      <th>2</th>\n",
       "      <td>keine</td>\n",
       "      <td>3</td>\n",
       "    </tr>\n",
       "  </tbody>\n",
       "</table>\n",
       "</div>"
      ],
      "text/plain": [
       "               sl  count\n",
       "0  ausser Betrieb    156\n",
       "1      in Betrieb    191\n",
       "2           keine      3"
      ]
     },
     "execution_count": 29,
     "metadata": {},
     "output_type": "execute_result"
    }
   ],
   "source": [
    "dfin.groupby(['sl']).size().reset_index().rename(columns={0:'count'})"
   ]
  },
  {
   "cell_type": "code",
   "execution_count": 30,
   "id": "12d28a17-aeac-4860-82fb-0cab66466cb5",
   "metadata": {
    "execution": {
     "iopub.execute_input": "2024-03-19T12:43:43.260721Z",
     "iopub.status.busy": "2024-03-19T12:43:43.260453Z",
     "iopub.status.idle": "2024-03-19T12:43:43.270769Z",
     "shell.execute_reply": "2024-03-19T12:43:43.270126Z",
     "shell.execute_reply.started": "2024-03-19T12:43:43.260703Z"
    }
   },
   "outputs": [
    {
     "data": {
      "text/html": [
       "<div>\n",
       "<style scoped>\n",
       "    .dataframe tbody tr th:only-of-type {\n",
       "        vertical-align: middle;\n",
       "    }\n",
       "\n",
       "    .dataframe tbody tr th {\n",
       "        vertical-align: top;\n",
       "    }\n",
       "\n",
       "    .dataframe thead th {\n",
       "        text-align: right;\n",
       "    }\n",
       "</style>\n",
       "<table border=\"1\" class=\"dataframe\">\n",
       "  <thead>\n",
       "    <tr style=\"text-align: right;\">\n",
       "      <th></th>\n",
       "      <th>weatherc</th>\n",
       "      <th>count</th>\n",
       "    </tr>\n",
       "  </thead>\n",
       "  <tbody>\n",
       "    <tr>\n",
       "      <th>0</th>\n",
       "      <td>Regen</td>\n",
       "      <td>35</td>\n",
       "    </tr>\n",
       "    <tr>\n",
       "      <th>1</th>\n",
       "      <td>Schneefall</td>\n",
       "      <td>1</td>\n",
       "    </tr>\n",
       "    <tr>\n",
       "      <th>2</th>\n",
       "      <td>andere</td>\n",
       "      <td>4</td>\n",
       "    </tr>\n",
       "    <tr>\n",
       "      <th>3</th>\n",
       "      <td>bedeckt</td>\n",
       "      <td>101</td>\n",
       "    </tr>\n",
       "    <tr>\n",
       "      <th>4</th>\n",
       "      <td>schön</td>\n",
       "      <td>209</td>\n",
       "    </tr>\n",
       "  </tbody>\n",
       "</table>\n",
       "</div>"
      ],
      "text/plain": [
       "     weatherc  count\n",
       "0       Regen     35\n",
       "1  Schneefall      1\n",
       "2      andere      4\n",
       "3     bedeckt    101\n",
       "4       schön    209"
      ]
     },
     "execution_count": 30,
     "metadata": {},
     "output_type": "execute_result"
    }
   ],
   "source": [
    "dfbe.groupby(['weatherc']).size().reset_index().rename(columns={0:'count'})"
   ]
  },
  {
   "cell_type": "code",
   "execution_count": 31,
   "id": "32909b77-2c75-48f3-8f1b-20210634d48f",
   "metadata": {
    "execution": {
     "iopub.execute_input": "2024-03-19T12:43:43.271827Z",
     "iopub.status.busy": "2024-03-19T12:43:43.271548Z",
     "iopub.status.idle": "2024-03-19T12:43:43.282022Z",
     "shell.execute_reply": "2024-03-19T12:43:43.281387Z",
     "shell.execute_reply.started": "2024-03-19T12:43:43.271805Z"
    }
   },
   "outputs": [
    {
     "data": {
      "text/html": [
       "<div>\n",
       "<style scoped>\n",
       "    .dataframe tbody tr th:only-of-type {\n",
       "        vertical-align: middle;\n",
       "    }\n",
       "\n",
       "    .dataframe tbody tr th {\n",
       "        vertical-align: top;\n",
       "    }\n",
       "\n",
       "    .dataframe thead th {\n",
       "        text-align: right;\n",
       "    }\n",
       "</style>\n",
       "<table border=\"1\" class=\"dataframe\">\n",
       "  <thead>\n",
       "    <tr style=\"text-align: right;\">\n",
       "      <th></th>\n",
       "      <th>lightc</th>\n",
       "      <th>count</th>\n",
       "    </tr>\n",
       "  </thead>\n",
       "  <tbody>\n",
       "    <tr>\n",
       "      <th>0</th>\n",
       "      <td>Dämmerung</td>\n",
       "      <td>14</td>\n",
       "    </tr>\n",
       "    <tr>\n",
       "      <th>1</th>\n",
       "      <td>Nacht</td>\n",
       "      <td>177</td>\n",
       "    </tr>\n",
       "    <tr>\n",
       "      <th>2</th>\n",
       "      <td>Tag</td>\n",
       "      <td>159</td>\n",
       "    </tr>\n",
       "  </tbody>\n",
       "</table>\n",
       "</div>"
      ],
      "text/plain": [
       "      lightc  count\n",
       "0  Dämmerung     14\n",
       "1      Nacht    177\n",
       "2        Tag    159"
      ]
     },
     "execution_count": 31,
     "metadata": {},
     "output_type": "execute_result"
    }
   ],
   "source": [
    "dfbe.groupby(['lightc']).size().reset_index().rename(columns={0:'count'})"
   ]
  },
  {
   "cell_type": "code",
   "execution_count": 32,
   "id": "31e658bd-cc8d-4c27-9714-991d66d3ab60",
   "metadata": {
    "execution": {
     "iopub.execute_input": "2024-03-19T12:43:43.283036Z",
     "iopub.status.busy": "2024-03-19T12:43:43.282776Z",
     "iopub.status.idle": "2024-03-19T12:43:43.292202Z",
     "shell.execute_reply": "2024-03-19T12:43:43.291545Z",
     "shell.execute_reply.started": "2024-03-19T12:43:43.283016Z"
    }
   },
   "outputs": [
    {
     "data": {
      "text/html": [
       "<div>\n",
       "<style scoped>\n",
       "    .dataframe tbody tr th:only-of-type {\n",
       "        vertical-align: middle;\n",
       "    }\n",
       "\n",
       "    .dataframe tbody tr th {\n",
       "        vertical-align: top;\n",
       "    }\n",
       "\n",
       "    .dataframe thead th {\n",
       "        text-align: right;\n",
       "    }\n",
       "</style>\n",
       "<table border=\"1\" class=\"dataframe\">\n",
       "  <thead>\n",
       "    <tr style=\"text-align: right;\">\n",
       "      <th></th>\n",
       "      <th>roadc</th>\n",
       "      <th>count</th>\n",
       "    </tr>\n",
       "  </thead>\n",
       "  <tbody>\n",
       "    <tr>\n",
       "      <th>0</th>\n",
       "      <td>Schneebedeckt</td>\n",
       "      <td>1</td>\n",
       "    </tr>\n",
       "    <tr>\n",
       "      <th>1</th>\n",
       "      <td>andere</td>\n",
       "      <td>2</td>\n",
       "    </tr>\n",
       "    <tr>\n",
       "      <th>2</th>\n",
       "      <td>feucht</td>\n",
       "      <td>28</td>\n",
       "    </tr>\n",
       "    <tr>\n",
       "      <th>3</th>\n",
       "      <td>nass</td>\n",
       "      <td>41</td>\n",
       "    </tr>\n",
       "    <tr>\n",
       "      <th>4</th>\n",
       "      <td>trocken</td>\n",
       "      <td>277</td>\n",
       "    </tr>\n",
       "    <tr>\n",
       "      <th>5</th>\n",
       "      <td>vereist</td>\n",
       "      <td>1</td>\n",
       "    </tr>\n",
       "  </tbody>\n",
       "</table>\n",
       "</div>"
      ],
      "text/plain": [
       "           roadc  count\n",
       "0  Schneebedeckt      1\n",
       "1         andere      2\n",
       "2         feucht     28\n",
       "3           nass     41\n",
       "4        trocken    277\n",
       "5        vereist      1"
      ]
     },
     "execution_count": 32,
     "metadata": {},
     "output_type": "execute_result"
    }
   ],
   "source": [
    "dfbe.groupby(['roadc']).size().reset_index().rename(columns={0:'count'})"
   ]
  },
  {
   "cell_type": "code",
   "execution_count": 33,
   "id": "89f2abcb-f759-4c6b-9544-a684e2e9cddb",
   "metadata": {
    "execution": {
     "iopub.execute_input": "2024-03-19T12:43:43.293316Z",
     "iopub.status.busy": "2024-03-19T12:43:43.293037Z",
     "iopub.status.idle": "2024-03-19T12:43:43.302369Z",
     "shell.execute_reply": "2024-03-19T12:43:43.301741Z",
     "shell.execute_reply.started": "2024-03-19T12:43:43.293294Z"
    }
   },
   "outputs": [
    {
     "data": {
      "text/html": [
       "<div>\n",
       "<style scoped>\n",
       "    .dataframe tbody tr th:only-of-type {\n",
       "        vertical-align: middle;\n",
       "    }\n",
       "\n",
       "    .dataframe tbody tr th {\n",
       "        vertical-align: top;\n",
       "    }\n",
       "\n",
       "    .dataframe thead th {\n",
       "        text-align: right;\n",
       "    }\n",
       "</style>\n",
       "<table border=\"1\" class=\"dataframe\">\n",
       "  <thead>\n",
       "    <tr style=\"text-align: right;\">\n",
       "      <th></th>\n",
       "      <th>trafficv</th>\n",
       "      <th>count</th>\n",
       "    </tr>\n",
       "  </thead>\n",
       "  <tbody>\n",
       "    <tr>\n",
       "      <th>0</th>\n",
       "      <td>andere</td>\n",
       "      <td>7</td>\n",
       "    </tr>\n",
       "    <tr>\n",
       "      <th>1</th>\n",
       "      <td>normal</td>\n",
       "      <td>89</td>\n",
       "    </tr>\n",
       "    <tr>\n",
       "      <th>2</th>\n",
       "      <td>schwach</td>\n",
       "      <td>221</td>\n",
       "    </tr>\n",
       "    <tr>\n",
       "      <th>3</th>\n",
       "      <td>stark</td>\n",
       "      <td>30</td>\n",
       "    </tr>\n",
       "    <tr>\n",
       "      <th>4</th>\n",
       "      <td>stehende Kolonne</td>\n",
       "      <td>2</td>\n",
       "    </tr>\n",
       "    <tr>\n",
       "      <th>5</th>\n",
       "      <td>stockende Kolonne</td>\n",
       "      <td>1</td>\n",
       "    </tr>\n",
       "  </tbody>\n",
       "</table>\n",
       "</div>"
      ],
      "text/plain": [
       "            trafficv  count\n",
       "0             andere      7\n",
       "1             normal     89\n",
       "2            schwach    221\n",
       "3              stark     30\n",
       "4   stehende Kolonne      2\n",
       "5  stockende Kolonne      1"
      ]
     },
     "execution_count": 33,
     "metadata": {},
     "output_type": "execute_result"
    }
   ],
   "source": [
    "dfbe.groupby(['trafficv']).size().reset_index().rename(columns={0:'count'})"
   ]
  },
  {
   "cell_type": "code",
   "execution_count": 34,
   "id": "4af4b8d2-3923-4cfa-8fe4-1744ed6c515e",
   "metadata": {
    "execution": {
     "iopub.execute_input": "2024-03-19T12:43:43.303575Z",
     "iopub.status.busy": "2024-03-19T12:43:43.303243Z",
     "iopub.status.idle": "2024-03-19T12:43:43.315456Z",
     "shell.execute_reply": "2024-03-19T12:43:43.314872Z",
     "shell.execute_reply.started": "2024-03-19T12:43:43.303550Z"
    }
   },
   "outputs": [
    {
     "data": {
      "text/html": [
       "<div>\n",
       "<style scoped>\n",
       "    .dataframe tbody tr th:only-of-type {\n",
       "        vertical-align: middle;\n",
       "    }\n",
       "\n",
       "    .dataframe tbody tr th {\n",
       "        vertical-align: top;\n",
       "    }\n",
       "\n",
       "    .dataframe thead th {\n",
       "        text-align: right;\n",
       "    }\n",
       "</style>\n",
       "<table border=\"1\" class=\"dataframe\">\n",
       "  <thead>\n",
       "    <tr style=\"text-align: right;\">\n",
       "      <th></th>\n",
       "      <th>vt</th>\n",
       "      <th>count</th>\n",
       "    </tr>\n",
       "  </thead>\n",
       "  <tbody>\n",
       "    <tr>\n",
       "      <th>0</th>\n",
       "      <td>001 Personenwagen</td>\n",
       "      <td>82</td>\n",
       "    </tr>\n",
       "    <tr>\n",
       "      <th>1</th>\n",
       "      <td>030 Lieferwagen</td>\n",
       "      <td>7</td>\n",
       "    </tr>\n",
       "    <tr>\n",
       "      <th>2</th>\n",
       "      <td>035 Lastwagen</td>\n",
       "      <td>1</td>\n",
       "    </tr>\n",
       "    <tr>\n",
       "      <th>3</th>\n",
       "      <td>060 Motorrad</td>\n",
       "      <td>8</td>\n",
       "    </tr>\n",
       "    <tr>\n",
       "      <th>4</th>\n",
       "      <td>|Fahrrad|</td>\n",
       "      <td>18</td>\n",
       "    </tr>\n",
       "    <tr>\n",
       "      <th>5</th>\n",
       "      <td>|Langsames E-Bike|</td>\n",
       "      <td>5</td>\n",
       "    </tr>\n",
       "    <tr>\n",
       "      <th>6</th>\n",
       "      <td>|Linienbus|</td>\n",
       "      <td>2</td>\n",
       "    </tr>\n",
       "    <tr>\n",
       "      <th>7</th>\n",
       "      <td>|Motorfahrrad (ohne E-Bike)|</td>\n",
       "      <td>5</td>\n",
       "    </tr>\n",
       "    <tr>\n",
       "      <th>8</th>\n",
       "      <td>|Tram|</td>\n",
       "      <td>5</td>\n",
       "    </tr>\n",
       "    <tr>\n",
       "      <th>9</th>\n",
       "      <td>|andere motorisierte Fahrzeuge|</td>\n",
       "      <td>346</td>\n",
       "    </tr>\n",
       "    <tr>\n",
       "      <th>10</th>\n",
       "      <td>|andere nicht motorisierte Fahrzeuge|</td>\n",
       "      <td>1</td>\n",
       "    </tr>\n",
       "    <tr>\n",
       "      <th>11</th>\n",
       "      <td>|unbekannt|</td>\n",
       "      <td>2</td>\n",
       "    </tr>\n",
       "  </tbody>\n",
       "</table>\n",
       "</div>"
      ],
      "text/plain": [
       "                                       vt  count\n",
       "0                       001 Personenwagen     82\n",
       "1                         030 Lieferwagen      7\n",
       "2                           035 Lastwagen      1\n",
       "3                            060 Motorrad      8\n",
       "4                               |Fahrrad|     18\n",
       "5                      |Langsames E-Bike|      5\n",
       "6                             |Linienbus|      2\n",
       "7            |Motorfahrrad (ohne E-Bike)|      5\n",
       "8                                  |Tram|      5\n",
       "9         |andere motorisierte Fahrzeuge|    346\n",
       "10  |andere nicht motorisierte Fahrzeuge|      1\n",
       "11                            |unbekannt|      2"
      ]
     },
     "execution_count": 34,
     "metadata": {},
     "output_type": "execute_result"
    }
   ],
   "source": [
    "dfop.groupby(['vt']).size().reset_index().rename(columns={0:'count'})"
   ]
  },
  {
   "cell_type": "code",
   "execution_count": 50,
   "id": "2d8be694-d330-4298-b4c0-f563e6a35285",
   "metadata": {
    "execution": {
     "iopub.execute_input": "2024-03-19T13:02:56.009165Z",
     "iopub.status.busy": "2024-03-19T13:02:56.008867Z",
     "iopub.status.idle": "2024-03-19T13:02:56.012238Z",
     "shell.execute_reply": "2024-03-19T13:02:56.011368Z",
     "shell.execute_reply.started": "2024-03-19T13:02:56.009145Z"
    }
   },
   "outputs": [],
   "source": [
    "# dfop.groupby(['blal']).size().reset_index().rename(columns={0:'count'})"
   ]
  },
  {
   "cell_type": "code",
   "execution_count": 51,
   "id": "1d526fbc-0eb6-42fb-b957-132df4ecb347",
   "metadata": {
    "execution": {
     "iopub.execute_input": "2024-03-19T13:02:58.425410Z",
     "iopub.status.busy": "2024-03-19T13:02:58.425060Z",
     "iopub.status.idle": "2024-03-19T13:02:58.428571Z",
     "shell.execute_reply": "2024-03-19T13:02:58.427864Z",
     "shell.execute_reply.started": "2024-03-19T13:02:58.425390Z"
    }
   },
   "outputs": [],
   "source": [
    "# dfop.groupby(['bral']).size().reset_index().rename(columns={0:'count'})"
   ]
  },
  {
   "cell_type": "code",
   "execution_count": 37,
   "id": "4879877a-08ae-400f-8bf9-ecd1a5b73ba6",
   "metadata": {
    "execution": {
     "iopub.execute_input": "2024-03-19T12:43:43.342853Z",
     "iopub.status.busy": "2024-03-19T12:43:43.342508Z",
     "iopub.status.idle": "2024-03-19T12:43:43.352493Z",
     "shell.execute_reply": "2024-03-19T12:43:43.351791Z",
     "shell.execute_reply.started": "2024-03-19T12:43:43.342830Z"
    }
   },
   "outputs": [
    {
     "data": {
      "text/html": [
       "<div>\n",
       "<style scoped>\n",
       "    .dataframe tbody tr th:only-of-type {\n",
       "        vertical-align: middle;\n",
       "    }\n",
       "\n",
       "    .dataframe tbody tr th {\n",
       "        vertical-align: top;\n",
       "    }\n",
       "\n",
       "    .dataframe thead th {\n",
       "        text-align: right;\n",
       "    }\n",
       "</style>\n",
       "<table border=\"1\" class=\"dataframe\">\n",
       "  <thead>\n",
       "    <tr style=\"text-align: right;\">\n",
       "      <th></th>\n",
       "      <th>pt</th>\n",
       "      <th>count</th>\n",
       "    </tr>\n",
       "  </thead>\n",
       "  <tbody>\n",
       "    <tr>\n",
       "      <th>0</th>\n",
       "      <td>Fussgänger/in</td>\n",
       "      <td>33</td>\n",
       "    </tr>\n",
       "    <tr>\n",
       "      <th>1</th>\n",
       "      <td>FäG</td>\n",
       "      <td>2</td>\n",
       "    </tr>\n",
       "    <tr>\n",
       "      <th>2</th>\n",
       "      <td>Lenker/in</td>\n",
       "      <td>482</td>\n",
       "    </tr>\n",
       "    <tr>\n",
       "      <th>3</th>\n",
       "      <td>Mitfahrer/in hinten</td>\n",
       "      <td>39</td>\n",
       "    </tr>\n",
       "    <tr>\n",
       "      <th>4</th>\n",
       "      <td>Mitfahrer/in unbekannt</td>\n",
       "      <td>1</td>\n",
       "    </tr>\n",
       "    <tr>\n",
       "      <th>5</th>\n",
       "      <td>Mitfahrer/in vorne</td>\n",
       "      <td>24</td>\n",
       "    </tr>\n",
       "  </tbody>\n",
       "</table>\n",
       "</div>"
      ],
      "text/plain": [
       "                       pt  count\n",
       "0           Fussgänger/in     33\n",
       "1                     FäG      2\n",
       "2               Lenker/in    482\n",
       "3     Mitfahrer/in hinten     39\n",
       "4  Mitfahrer/in unbekannt      1\n",
       "5      Mitfahrer/in vorne     24"
      ]
     },
     "execution_count": 37,
     "metadata": {},
     "output_type": "execute_result"
    }
   ],
   "source": [
    "dfop.groupby(['pt']).size().reset_index().rename(columns={0:'count'})"
   ]
  },
  {
   "cell_type": "code",
   "execution_count": 38,
   "id": "07253e6e-77cc-494b-b1ec-d2e91f7bb439",
   "metadata": {
    "execution": {
     "iopub.execute_input": "2024-03-19T12:43:43.353602Z",
     "iopub.status.busy": "2024-03-19T12:43:43.353337Z",
     "iopub.status.idle": "2024-03-19T12:43:43.362653Z",
     "shell.execute_reply": "2024-03-19T12:43:43.362008Z",
     "shell.execute_reply.started": "2024-03-19T12:43:43.353577Z"
    }
   },
   "outputs": [
    {
     "data": {
      "text/html": [
       "<div>\n",
       "<style scoped>\n",
       "    .dataframe tbody tr th:only-of-type {\n",
       "        vertical-align: middle;\n",
       "    }\n",
       "\n",
       "    .dataframe tbody tr th {\n",
       "        vertical-align: top;\n",
       "    }\n",
       "\n",
       "    .dataframe thead th {\n",
       "        text-align: right;\n",
       "    }\n",
       "</style>\n",
       "<table border=\"1\" class=\"dataframe\">\n",
       "  <thead>\n",
       "    <tr style=\"text-align: right;\">\n",
       "      <th></th>\n",
       "      <th>aconsequence</th>\n",
       "      <th>count</th>\n",
       "    </tr>\n",
       "  </thead>\n",
       "  <tbody>\n",
       "    <tr>\n",
       "      <th>0</th>\n",
       "      <td>leicht verletzt</td>\n",
       "      <td>277</td>\n",
       "    </tr>\n",
       "    <tr>\n",
       "      <th>1</th>\n",
       "      <td>nicht verletzt</td>\n",
       "      <td>209</td>\n",
       "    </tr>\n",
       "    <tr>\n",
       "      <th>2</th>\n",
       "      <td>schwer verletzt</td>\n",
       "      <td>59</td>\n",
       "    </tr>\n",
       "    <tr>\n",
       "      <th>3</th>\n",
       "      <td>unbekannt</td>\n",
       "      <td>36</td>\n",
       "    </tr>\n",
       "  </tbody>\n",
       "</table>\n",
       "</div>"
      ],
      "text/plain": [
       "      aconsequence  count\n",
       "0  leicht verletzt    277\n",
       "1   nicht verletzt    209\n",
       "2  schwer verletzt     59\n",
       "3        unbekannt     36"
      ]
     },
     "execution_count": 38,
     "metadata": {},
     "output_type": "execute_result"
    }
   ],
   "source": [
    "dfop.groupby(['aconsequence']).size().reset_index().rename(columns={0:'count'})"
   ]
  },
  {
   "cell_type": "code",
   "execution_count": 39,
   "id": "8c783919-bd31-4a2e-a9f4-62055b1cffaa",
   "metadata": {
    "execution": {
     "iopub.execute_input": "2024-03-19T12:43:43.363755Z",
     "iopub.status.busy": "2024-03-19T12:43:43.363431Z",
     "iopub.status.idle": "2024-03-19T12:43:43.374210Z",
     "shell.execute_reply": "2024-03-19T12:43:43.373551Z",
     "shell.execute_reply.started": "2024-03-19T12:43:43.363732Z"
    }
   },
   "outputs": [
    {
     "data": {
      "text/html": [
       "<div>\n",
       "<style scoped>\n",
       "    .dataframe tbody tr th:only-of-type {\n",
       "        vertical-align: middle;\n",
       "    }\n",
       "\n",
       "    .dataframe tbody tr th {\n",
       "        vertical-align: top;\n",
       "    }\n",
       "\n",
       "    .dataframe thead th {\n",
       "        text-align: right;\n",
       "    }\n",
       "</style>\n",
       "<table border=\"1\" class=\"dataframe\">\n",
       "  <thead>\n",
       "    <tr style=\"text-align: right;\">\n",
       "      <th></th>\n",
       "      <th>impact</th>\n",
       "      <th>count</th>\n",
       "    </tr>\n",
       "  </thead>\n",
       "  <tbody>\n",
       "    <tr>\n",
       "      <th>0</th>\n",
       "      <td>|Baum|</td>\n",
       "      <td>1</td>\n",
       "    </tr>\n",
       "    <tr>\n",
       "      <th>1</th>\n",
       "      <td>|Mittelinsel / Inselpfosten|</td>\n",
       "      <td>5</td>\n",
       "    </tr>\n",
       "    <tr>\n",
       "      <th>2</th>\n",
       "      <td>|Schild / Mast / Pfosten|</td>\n",
       "      <td>7</td>\n",
       "    </tr>\n",
       "    <tr>\n",
       "      <th>3</th>\n",
       "      <td>|Schild / Mast / Pfosten|Baum|</td>\n",
       "      <td>1</td>\n",
       "    </tr>\n",
       "    <tr>\n",
       "      <th>4</th>\n",
       "      <td>|Schild / Mast / Pfosten|korrekt parkiertes Fa...</td>\n",
       "      <td>1</td>\n",
       "    </tr>\n",
       "    <tr>\n",
       "      <th>5</th>\n",
       "      <td>|Zaun / Mauer / Geländer|</td>\n",
       "      <td>5</td>\n",
       "    </tr>\n",
       "    <tr>\n",
       "      <th>6</th>\n",
       "      <td>|andere|</td>\n",
       "      <td>8</td>\n",
       "    </tr>\n",
       "    <tr>\n",
       "      <th>7</th>\n",
       "      <td>|korrekt parkiertes Fahrzeug|</td>\n",
       "      <td>10</td>\n",
       "    </tr>\n",
       "  </tbody>\n",
       "</table>\n",
       "</div>"
      ],
      "text/plain": [
       "                                              impact  count\n",
       "0                                             |Baum|      1\n",
       "1                       |Mittelinsel / Inselpfosten|      5\n",
       "2                          |Schild / Mast / Pfosten|      7\n",
       "3                     |Schild / Mast / Pfosten|Baum|      1\n",
       "4  |Schild / Mast / Pfosten|korrekt parkiertes Fa...      1\n",
       "5                          |Zaun / Mauer / Geländer|      5\n",
       "6                                           |andere|      8\n",
       "7                      |korrekt parkiertes Fahrzeug|     10"
      ]
     },
     "execution_count": 39,
     "metadata": {},
     "output_type": "execute_result"
    }
   ],
   "source": [
    "dfop.groupby(['impact']).size().reset_index().rename(columns={0:'count'})"
   ]
  },
  {
   "cell_type": "code",
   "execution_count": 52,
   "id": "5d34a814-a3e4-4100-9c3d-e10f624b88ef",
   "metadata": {
    "execution": {
     "iopub.execute_input": "2024-03-19T13:03:03.406319Z",
     "iopub.status.busy": "2024-03-19T13:03:03.406040Z",
     "iopub.status.idle": "2024-03-19T13:03:03.409048Z",
     "shell.execute_reply": "2024-03-19T13:03:03.408414Z",
     "shell.execute_reply.started": "2024-03-19T13:03:03.406299Z"
    }
   },
   "outputs": [],
   "source": [
    "# dfop.groupby(['age']).size().reset_index().rename(columns={0:'count'})"
   ]
  },
  {
   "cell_type": "code",
   "execution_count": 41,
   "id": "210d1132-c0e2-44a8-a457-df97126c26c7",
   "metadata": {
    "execution": {
     "iopub.execute_input": "2024-03-19T12:43:43.388091Z",
     "iopub.status.busy": "2024-03-19T12:43:43.387848Z",
     "iopub.status.idle": "2024-03-19T12:43:43.396821Z",
     "shell.execute_reply": "2024-03-19T12:43:43.396202Z",
     "shell.execute_reply.started": "2024-03-19T12:43:43.388067Z"
    }
   },
   "outputs": [
    {
     "data": {
      "text/html": [
       "<div>\n",
       "<style scoped>\n",
       "    .dataframe tbody tr th:only-of-type {\n",
       "        vertical-align: middle;\n",
       "    }\n",
       "\n",
       "    .dataframe tbody tr th {\n",
       "        vertical-align: top;\n",
       "    }\n",
       "\n",
       "    .dataframe thead th {\n",
       "        text-align: right;\n",
       "    }\n",
       "</style>\n",
       "<table border=\"1\" class=\"dataframe\">\n",
       "  <thead>\n",
       "    <tr style=\"text-align: right;\">\n",
       "      <th></th>\n",
       "      <th>passengercar</th>\n",
       "      <th>count</th>\n",
       "    </tr>\n",
       "  </thead>\n",
       "  <tbody>\n",
       "    <tr>\n",
       "      <th>0</th>\n",
       "      <td>0</td>\n",
       "      <td>268</td>\n",
       "    </tr>\n",
       "    <tr>\n",
       "      <th>1</th>\n",
       "      <td>1</td>\n",
       "      <td>82</td>\n",
       "    </tr>\n",
       "  </tbody>\n",
       "</table>\n",
       "</div>"
      ],
      "text/plain": [
       "   passengercar  count\n",
       "0             0    268\n",
       "1             1     82"
      ]
     },
     "execution_count": 41,
     "metadata": {},
     "output_type": "execute_result"
    }
   ],
   "source": [
    "dfb2.groupby(['passengercar']).size().reset_index().rename(columns={0:'count'})"
   ]
  },
  {
   "cell_type": "code",
   "execution_count": 42,
   "id": "48fa02f5-b37e-42a4-9565-1f7edb9bf625",
   "metadata": {
    "execution": {
     "iopub.execute_input": "2024-03-19T12:43:43.402086Z",
     "iopub.status.busy": "2024-03-19T12:43:43.401839Z",
     "iopub.status.idle": "2024-03-19T12:43:43.407976Z",
     "shell.execute_reply": "2024-03-19T12:43:43.407294Z",
     "shell.execute_reply.started": "2024-03-19T12:43:43.402066Z"
    }
   },
   "outputs": [],
   "source": [
    "# Encoding categorical \n",
    "dfcon = pd.merge(dfaa, dfbe, on = ['Nr', 'No'])"
   ]
  },
  {
   "cell_type": "code",
   "execution_count": 43,
   "id": "ab0bbfaa-2472-40ad-b6fc-265df08b761b",
   "metadata": {
    "execution": {
     "iopub.execute_input": "2024-03-19T12:43:43.409124Z",
     "iopub.status.busy": "2024-03-19T12:43:43.408797Z",
     "iopub.status.idle": "2024-03-19T12:43:43.415073Z",
     "shell.execute_reply": "2024-03-19T12:43:43.414494Z",
     "shell.execute_reply.started": "2024-03-19T12:43:43.409103Z"
    }
   },
   "outputs": [
    {
     "data": {
      "text/plain": [
       "Index(['No', 'Nr', 'Datum', 'Zeit', 'atgroup_number', 'atgroup', 'at_number',\n",
       "       'at', 'G', 'SV', 'LV', 'pd', 'mc', 'Achsname', 'koorde', 'koordn',\n",
       "       'weatherc', 'lightc', 'roadc', 'trafficv'],\n",
       "      dtype='object')"
      ]
     },
     "execution_count": 43,
     "metadata": {},
     "output_type": "execute_result"
    }
   ],
   "source": [
    "dfcon.columns"
   ]
  },
  {
   "cell_type": "code",
   "execution_count": 44,
   "id": "f5fc2104-c13a-4ea4-908f-4df4e8cd4000",
   "metadata": {
    "execution": {
     "iopub.execute_input": "2024-03-19T12:43:43.416016Z",
     "iopub.status.busy": "2024-03-19T12:43:43.415782Z",
     "iopub.status.idle": "2024-03-19T12:43:43.421650Z",
     "shell.execute_reply": "2024-03-19T12:43:43.421004Z",
     "shell.execute_reply.started": "2024-03-19T12:43:43.415992Z"
    }
   },
   "outputs": [],
   "source": [
    "dfcon = dfcon.drop(['Achsname', 'koorde', 'koordn'], axis = 1)"
   ]
  },
  {
   "cell_type": "markdown",
   "id": "a117cab0-978a-48c1-9747-eade6f4b7dc7",
   "metadata": {},
   "source": [
    "#### Preparation for regression model"
   ]
  },
  {
   "cell_type": "code",
   "execution_count": 1,
   "id": "00ec5504-6b7f-48fa-8c26-3237770b47bf",
   "metadata": {
    "execution": {
     "iopub.execute_input": "2024-03-19T12:43:16.622785Z",
     "iopub.status.busy": "2024-03-19T12:43:16.622519Z",
     "iopub.status.idle": "2024-03-19T12:43:18.074438Z",
     "shell.execute_reply": "2024-03-19T12:43:18.073768Z",
     "shell.execute_reply.started": "2024-03-19T12:43:16.622766Z"
    }
   },
   "outputs": [],
   "source": [
    "# Encoding categorical data\n",
    "# pip install category_encoders\n",
    "import category_encoders as ce"
   ]
  },
  {
   "cell_type": "code",
   "execution_count": 63,
   "id": "3da39270-dd00-48f2-9548-1381274b05c2",
   "metadata": {
    "execution": {
     "iopub.execute_input": "2024-03-19T13:18:33.857189Z",
     "iopub.status.busy": "2024-03-19T13:18:33.856881Z",
     "iopub.status.idle": "2024-03-19T13:18:33.861049Z",
     "shell.execute_reply": "2024-03-19T13:18:33.860387Z",
     "shell.execute_reply.started": "2024-03-19T13:18:33.857170Z"
    }
   },
   "outputs": [],
   "source": [
    "from sklearn.model_selection import train_test_split\n",
    "\n",
    "from sklearn import metrics\n",
    "from sklearn.metrics import accuracy_score\n",
    "from sklearn.metrics import accuracy_score, confusion_matrix, roc_auc_score, roc_curve\n",
    "\n",
    "from sklearn import linear_model\n",
    "\n",
    "from sklearn.neighbors import KNeighborsClassifier\n",
    "\n",
    "from sklearn.ensemble import RandomForestClassifier\n",
    "\n",
    "from sklearn.preprocessing import LabelEncoder\n",
    "\n",
    "from sklearn import svm\n",
    "\n",
    "import seaborn as sn\n",
    "# For regression\n",
    "from sklearn.ensemble import RandomForestRegressor\n",
    "from sklearn.metrics import PredictionErrorDisplay\n",
    "from sklearn.linear_model import LogisticRegression"
   ]
  },
  {
   "cell_type": "code",
   "execution_count": 47,
   "id": "ec5443c8-78c8-4b06-9726-a1a5e93c2b38",
   "metadata": {
    "execution": {
     "iopub.execute_input": "2024-03-19T13:01:43.591611Z",
     "iopub.status.busy": "2024-03-19T13:01:43.591002Z",
     "iopub.status.idle": "2024-03-19T13:01:43.638117Z",
     "shell.execute_reply": "2024-03-19T13:01:43.637182Z",
     "shell.execute_reply.started": "2024-03-19T13:01:43.591583Z"
    }
   },
   "outputs": [],
   "source": [
    "oh = ce.OneHotEncoder(cols = ['weatherc', 'lightc', 'roadc', 'trafficv'])\n",
    "dfcon_oh = oh.fit_transform(dfcon)"
   ]
  },
  {
   "cell_type": "code",
   "execution_count": 49,
   "id": "33210fbb-f935-43f3-9806-fbc5b128506a",
   "metadata": {
    "execution": {
     "iopub.execute_input": "2024-03-19T13:01:59.459764Z",
     "iopub.status.busy": "2024-03-19T13:01:59.459332Z",
     "iopub.status.idle": "2024-03-19T13:01:59.463925Z",
     "shell.execute_reply": "2024-03-19T13:01:59.463253Z",
     "shell.execute_reply.started": "2024-03-19T13:01:59.459738Z"
    }
   },
   "outputs": [
    {
     "data": {
      "text/plain": [
       "Index(['No', 'Nr', 'Datum', 'Zeit', 'atgroup_number', 'atgroup', 'at_number',\n",
       "       'at', 'G', 'SV', 'LV', 'pd', 'mc', 'weatherc_1', 'weatherc_2',\n",
       "       'weatherc_3', 'weatherc_4', 'weatherc_5', 'lightc_1', 'lightc_2',\n",
       "       'lightc_3', 'roadc_1', 'roadc_2', 'roadc_3', 'roadc_4', 'roadc_5',\n",
       "       'roadc_6', 'trafficv_1', 'trafficv_2', 'trafficv_3', 'trafficv_4',\n",
       "       'trafficv_5', 'trafficv_6'],\n",
       "      dtype='object')"
      ]
     },
     "execution_count": 49,
     "metadata": {},
     "output_type": "execute_result"
    }
   ],
   "source": [
    "dfcon_oh.columns"
   ]
  },
  {
   "cell_type": "code",
   "execution_count": 56,
   "id": "a280275a-91d7-443a-955e-417f8a8b9acb",
   "metadata": {
    "execution": {
     "iopub.execute_input": "2024-03-19T13:09:24.294137Z",
     "iopub.status.busy": "2024-03-19T13:09:24.293752Z",
     "iopub.status.idle": "2024-03-19T13:09:24.299179Z",
     "shell.execute_reply": "2024-03-19T13:09:24.298267Z",
     "shell.execute_reply.started": "2024-03-19T13:09:24.294117Z"
    }
   },
   "outputs": [],
   "source": [
    "Y1 = dfcon_oh['SV']\n",
    "Y2 = dfcon_oh['LV']\n",
    "Y3 = dfcon_oh['pd']\n",
    "X = dfcon_oh[['weatherc_1', 'weatherc_2',\n",
    "               'weatherc_3', 'weatherc_4', \n",
    "               'weatherc_5', 'lightc_1', \n",
    "               'lightc_2', 'lightc_3', \n",
    "               'roadc_1', 'roadc_2', \n",
    "               'roadc_3', 'roadc_4', \n",
    "               'roadc_5', 'roadc_6', 'trafficv_1', \n",
    "               'trafficv_2', 'trafficv_3', 'trafficv_4',\n",
    "               'trafficv_5', 'trafficv_6']]\n"
   ]
  },
  {
   "cell_type": "code",
   "execution_count": 57,
   "id": "1f2ad089-80d0-4bd4-a9a8-85bcf1182dc6",
   "metadata": {
    "execution": {
     "iopub.execute_input": "2024-03-19T13:09:25.667289Z",
     "iopub.status.busy": "2024-03-19T13:09:25.666871Z",
     "iopub.status.idle": "2024-03-19T13:09:25.727593Z",
     "shell.execute_reply": "2024-03-19T13:09:25.727011Z",
     "shell.execute_reply.started": "2024-03-19T13:09:25.667265Z"
    }
   },
   "outputs": [
    {
     "data": {
      "text/html": [
       "<table class=\"simpletable\">\n",
       "<caption>OLS Regression Results</caption>\n",
       "<tr>\n",
       "  <th>Dep. Variable:</th>           <td>SV</td>        <th>  R-squared:         </th> <td>   0.050</td>\n",
       "</tr>\n",
       "<tr>\n",
       "  <th>Model:</th>                   <td>OLS</td>       <th>  Adj. R-squared:    </th> <td>   0.004</td>\n",
       "</tr>\n",
       "<tr>\n",
       "  <th>Method:</th>             <td>Least Squares</td>  <th>  F-statistic:       </th> <td>   1.085</td>\n",
       "</tr>\n",
       "<tr>\n",
       "  <th>Date:</th>             <td>Tue, 19 Mar 2024</td> <th>  Prob (F-statistic):</th>  <td> 0.368</td> \n",
       "</tr>\n",
       "<tr>\n",
       "  <th>Time:</th>                 <td>14:09:25</td>     <th>  Log-Likelihood:    </th> <td> -143.86</td>\n",
       "</tr>\n",
       "<tr>\n",
       "  <th>No. Observations:</th>      <td>   350</td>      <th>  AIC:               </th> <td>   321.7</td>\n",
       "</tr>\n",
       "<tr>\n",
       "  <th>Df Residuals:</th>          <td>   333</td>      <th>  BIC:               </th> <td>   387.3</td>\n",
       "</tr>\n",
       "<tr>\n",
       "  <th>Df Model:</th>              <td>    16</td>      <th>                     </th>     <td> </td>   \n",
       "</tr>\n",
       "<tr>\n",
       "  <th>Covariance Type:</th>      <td>nonrobust</td>    <th>                     </th>     <td> </td>   \n",
       "</tr>\n",
       "</table>\n",
       "<table class=\"simpletable\">\n",
       "<tr>\n",
       "       <td></td>         <th>coef</th>     <th>std err</th>      <th>t</th>      <th>P>|t|</th>  <th>[0.025</th>    <th>0.975]</th>  \n",
       "</tr>\n",
       "<tr>\n",
       "  <th>const</th>      <td>    0.1799</td> <td>    0.082</td> <td>    2.187</td> <td> 0.029</td> <td>    0.018</td> <td>    0.342</td>\n",
       "</tr>\n",
       "<tr>\n",
       "  <th>weatherc_1</th> <td>    0.0834</td> <td>    0.091</td> <td>    0.918</td> <td> 0.359</td> <td>   -0.095</td> <td>    0.262</td>\n",
       "</tr>\n",
       "<tr>\n",
       "  <th>weatherc_2</th> <td>    0.0601</td> <td>    0.108</td> <td>    0.557</td> <td> 0.578</td> <td>   -0.152</td> <td>    0.272</td>\n",
       "</tr>\n",
       "<tr>\n",
       "  <th>weatherc_3</th> <td>    0.0121</td> <td>    0.086</td> <td>    0.141</td> <td> 0.888</td> <td>   -0.156</td> <td>    0.180</td>\n",
       "</tr>\n",
       "<tr>\n",
       "  <th>weatherc_4</th> <td>    0.0671</td> <td>    0.181</td> <td>    0.370</td> <td> 0.711</td> <td>   -0.289</td> <td>    0.424</td>\n",
       "</tr>\n",
       "<tr>\n",
       "  <th>weatherc_5</th> <td>   -0.0428</td> <td>    0.318</td> <td>   -0.135</td> <td> 0.893</td> <td>   -0.668</td> <td>    0.583</td>\n",
       "</tr>\n",
       "<tr>\n",
       "  <th>lightc_1</th>   <td>    0.0485</td> <td>    0.049</td> <td>    0.985</td> <td> 0.325</td> <td>   -0.048</td> <td>    0.145</td>\n",
       "</tr>\n",
       "<tr>\n",
       "  <th>lightc_2</th>   <td>   -0.0484</td> <td>    0.045</td> <td>   -1.087</td> <td> 0.278</td> <td>   -0.136</td> <td>    0.039</td>\n",
       "</tr>\n",
       "<tr>\n",
       "  <th>lightc_3</th>   <td>    0.1798</td> <td>    0.080</td> <td>    2.241</td> <td> 0.026</td> <td>    0.022</td> <td>    0.338</td>\n",
       "</tr>\n",
       "<tr>\n",
       "  <th>roadc_1</th>    <td>   -0.1528</td> <td>    0.104</td> <td>   -1.470</td> <td> 0.143</td> <td>   -0.357</td> <td>    0.052</td>\n",
       "</tr>\n",
       "<tr>\n",
       "  <th>roadc_2</th>    <td>   -0.1527</td> <td>    0.115</td> <td>   -1.328</td> <td> 0.185</td> <td>   -0.379</td> <td>    0.074</td>\n",
       "</tr>\n",
       "<tr>\n",
       "  <th>roadc_3</th>    <td>    0.1478</td> <td>    0.266</td> <td>    0.557</td> <td> 0.578</td> <td>   -0.375</td> <td>    0.670</td>\n",
       "</tr>\n",
       "<tr>\n",
       "  <th>roadc_4</th>    <td>   -0.1519</td> <td>    0.112</td> <td>   -1.357</td> <td> 0.176</td> <td>   -0.372</td> <td>    0.068</td>\n",
       "</tr>\n",
       "<tr>\n",
       "  <th>roadc_5</th>    <td>   -0.2068</td> <td>    0.329</td> <td>   -0.629</td> <td> 0.530</td> <td>   -0.854</td> <td>    0.440</td>\n",
       "</tr>\n",
       "<tr>\n",
       "  <th>roadc_6</th>    <td>    0.6964</td> <td>    0.328</td> <td>    2.121</td> <td> 0.035</td> <td>    0.051</td> <td>    1.342</td>\n",
       "</tr>\n",
       "<tr>\n",
       "  <th>trafficv_1</th> <td>    0.0632</td> <td>    0.080</td> <td>    0.785</td> <td> 0.433</td> <td>   -0.095</td> <td>    0.221</td>\n",
       "</tr>\n",
       "<tr>\n",
       "  <th>trafficv_2</th> <td>    0.0767</td> <td>    0.083</td> <td>    0.927</td> <td> 0.355</td> <td>   -0.086</td> <td>    0.239</td>\n",
       "</tr>\n",
       "<tr>\n",
       "  <th>trafficv_3</th> <td>    0.0949</td> <td>    0.095</td> <td>    0.998</td> <td> 0.319</td> <td>   -0.092</td> <td>    0.282</td>\n",
       "</tr>\n",
       "<tr>\n",
       "  <th>trafficv_4</th> <td>   -0.0153</td> <td>    0.239</td> <td>   -0.064</td> <td> 0.949</td> <td>   -0.486</td> <td>    0.455</td>\n",
       "</tr>\n",
       "<tr>\n",
       "  <th>trafficv_5</th> <td>    0.0226</td> <td>    0.144</td> <td>    0.157</td> <td> 0.875</td> <td>   -0.261</td> <td>    0.306</td>\n",
       "</tr>\n",
       "<tr>\n",
       "  <th>trafficv_6</th> <td>   -0.0622</td> <td>    0.322</td> <td>   -0.193</td> <td> 0.847</td> <td>   -0.695</td> <td>    0.571</td>\n",
       "</tr>\n",
       "</table>\n",
       "<table class=\"simpletable\">\n",
       "<tr>\n",
       "  <th>Omnibus:</th>       <td>103.467</td> <th>  Durbin-Watson:     </th> <td>   1.796</td>\n",
       "</tr>\n",
       "<tr>\n",
       "  <th>Prob(Omnibus):</th> <td> 0.000</td>  <th>  Jarque-Bera (JB):  </th> <td> 195.328</td>\n",
       "</tr>\n",
       "<tr>\n",
       "  <th>Skew:</th>          <td> 1.726</td>  <th>  Prob(JB):          </th> <td>3.85e-43</td>\n",
       "</tr>\n",
       "<tr>\n",
       "  <th>Kurtosis:</th>      <td> 4.217</td>  <th>  Cond. No.          </th> <td>2.32e+16</td>\n",
       "</tr>\n",
       "</table><br/><br/>Notes:<br/>[1] Standard Errors assume that the covariance matrix of the errors is correctly specified.<br/>[2] The smallest eigenvalue is 2.04e-30. This might indicate that there are<br/>strong multicollinearity problems or that the design matrix is singular."
      ],
      "text/latex": [
       "\\begin{center}\n",
       "\\begin{tabular}{lclc}\n",
       "\\toprule\n",
       "\\textbf{Dep. Variable:}    &        SV        & \\textbf{  R-squared:         } &     0.050   \\\\\n",
       "\\textbf{Model:}            &       OLS        & \\textbf{  Adj. R-squared:    } &     0.004   \\\\\n",
       "\\textbf{Method:}           &  Least Squares   & \\textbf{  F-statistic:       } &     1.085   \\\\\n",
       "\\textbf{Date:}             & Tue, 19 Mar 2024 & \\textbf{  Prob (F-statistic):} &    0.368    \\\\\n",
       "\\textbf{Time:}             &     14:09:25     & \\textbf{  Log-Likelihood:    } &   -143.86   \\\\\n",
       "\\textbf{No. Observations:} &         350      & \\textbf{  AIC:               } &     321.7   \\\\\n",
       "\\textbf{Df Residuals:}     &         333      & \\textbf{  BIC:               } &     387.3   \\\\\n",
       "\\textbf{Df Model:}         &          16      & \\textbf{                     } &             \\\\\n",
       "\\textbf{Covariance Type:}  &    nonrobust     & \\textbf{                     } &             \\\\\n",
       "\\bottomrule\n",
       "\\end{tabular}\n",
       "\\begin{tabular}{lcccccc}\n",
       "                     & \\textbf{coef} & \\textbf{std err} & \\textbf{t} & \\textbf{P$> |$t$|$} & \\textbf{[0.025} & \\textbf{0.975]}  \\\\\n",
       "\\midrule\n",
       "\\textbf{const}       &       0.1799  &        0.082     &     2.187  &         0.029        &        0.018    &        0.342     \\\\\n",
       "\\textbf{weatherc\\_1} &       0.0834  &        0.091     &     0.918  &         0.359        &       -0.095    &        0.262     \\\\\n",
       "\\textbf{weatherc\\_2} &       0.0601  &        0.108     &     0.557  &         0.578        &       -0.152    &        0.272     \\\\\n",
       "\\textbf{weatherc\\_3} &       0.0121  &        0.086     &     0.141  &         0.888        &       -0.156    &        0.180     \\\\\n",
       "\\textbf{weatherc\\_4} &       0.0671  &        0.181     &     0.370  &         0.711        &       -0.289    &        0.424     \\\\\n",
       "\\textbf{weatherc\\_5} &      -0.0428  &        0.318     &    -0.135  &         0.893        &       -0.668    &        0.583     \\\\\n",
       "\\textbf{lightc\\_1}   &       0.0485  &        0.049     &     0.985  &         0.325        &       -0.048    &        0.145     \\\\\n",
       "\\textbf{lightc\\_2}   &      -0.0484  &        0.045     &    -1.087  &         0.278        &       -0.136    &        0.039     \\\\\n",
       "\\textbf{lightc\\_3}   &       0.1798  &        0.080     &     2.241  &         0.026        &        0.022    &        0.338     \\\\\n",
       "\\textbf{roadc\\_1}    &      -0.1528  &        0.104     &    -1.470  &         0.143        &       -0.357    &        0.052     \\\\\n",
       "\\textbf{roadc\\_2}    &      -0.1527  &        0.115     &    -1.328  &         0.185        &       -0.379    &        0.074     \\\\\n",
       "\\textbf{roadc\\_3}    &       0.1478  &        0.266     &     0.557  &         0.578        &       -0.375    &        0.670     \\\\\n",
       "\\textbf{roadc\\_4}    &      -0.1519  &        0.112     &    -1.357  &         0.176        &       -0.372    &        0.068     \\\\\n",
       "\\textbf{roadc\\_5}    &      -0.2068  &        0.329     &    -0.629  &         0.530        &       -0.854    &        0.440     \\\\\n",
       "\\textbf{roadc\\_6}    &       0.6964  &        0.328     &     2.121  &         0.035        &        0.051    &        1.342     \\\\\n",
       "\\textbf{trafficv\\_1} &       0.0632  &        0.080     &     0.785  &         0.433        &       -0.095    &        0.221     \\\\\n",
       "\\textbf{trafficv\\_2} &       0.0767  &        0.083     &     0.927  &         0.355        &       -0.086    &        0.239     \\\\\n",
       "\\textbf{trafficv\\_3} &       0.0949  &        0.095     &     0.998  &         0.319        &       -0.092    &        0.282     \\\\\n",
       "\\textbf{trafficv\\_4} &      -0.0153  &        0.239     &    -0.064  &         0.949        &       -0.486    &        0.455     \\\\\n",
       "\\textbf{trafficv\\_5} &       0.0226  &        0.144     &     0.157  &         0.875        &       -0.261    &        0.306     \\\\\n",
       "\\textbf{trafficv\\_6} &      -0.0622  &        0.322     &    -0.193  &         0.847        &       -0.695    &        0.571     \\\\\n",
       "\\bottomrule\n",
       "\\end{tabular}\n",
       "\\begin{tabular}{lclc}\n",
       "\\textbf{Omnibus:}       & 103.467 & \\textbf{  Durbin-Watson:     } &    1.796  \\\\\n",
       "\\textbf{Prob(Omnibus):} &   0.000 & \\textbf{  Jarque-Bera (JB):  } &  195.328  \\\\\n",
       "\\textbf{Skew:}          &   1.726 & \\textbf{  Prob(JB):          } & 3.85e-43  \\\\\n",
       "\\textbf{Kurtosis:}      &   4.217 & \\textbf{  Cond. No.          } & 2.32e+16  \\\\\n",
       "\\bottomrule\n",
       "\\end{tabular}\n",
       "%\\caption{OLS Regression Results}\n",
       "\\end{center}\n",
       "\n",
       "Notes: \\newline\n",
       " [1] Standard Errors assume that the covariance matrix of the errors is correctly specified. \\newline\n",
       " [2] The smallest eigenvalue is 2.04e-30. This might indicate that there are \\newline\n",
       " strong multicollinearity problems or that the design matrix is singular."
      ],
      "text/plain": [
       "<class 'statsmodels.iolib.summary.Summary'>\n",
       "\"\"\"\n",
       "                            OLS Regression Results                            \n",
       "==============================================================================\n",
       "Dep. Variable:                     SV   R-squared:                       0.050\n",
       "Model:                            OLS   Adj. R-squared:                  0.004\n",
       "Method:                 Least Squares   F-statistic:                     1.085\n",
       "Date:                Tue, 19 Mar 2024   Prob (F-statistic):              0.368\n",
       "Time:                        14:09:25   Log-Likelihood:                -143.86\n",
       "No. Observations:                 350   AIC:                             321.7\n",
       "Df Residuals:                     333   BIC:                             387.3\n",
       "Df Model:                          16                                         \n",
       "Covariance Type:            nonrobust                                         \n",
       "==============================================================================\n",
       "                 coef    std err          t      P>|t|      [0.025      0.975]\n",
       "------------------------------------------------------------------------------\n",
       "const          0.1799      0.082      2.187      0.029       0.018       0.342\n",
       "weatherc_1     0.0834      0.091      0.918      0.359      -0.095       0.262\n",
       "weatherc_2     0.0601      0.108      0.557      0.578      -0.152       0.272\n",
       "weatherc_3     0.0121      0.086      0.141      0.888      -0.156       0.180\n",
       "weatherc_4     0.0671      0.181      0.370      0.711      -0.289       0.424\n",
       "weatherc_5    -0.0428      0.318     -0.135      0.893      -0.668       0.583\n",
       "lightc_1       0.0485      0.049      0.985      0.325      -0.048       0.145\n",
       "lightc_2      -0.0484      0.045     -1.087      0.278      -0.136       0.039\n",
       "lightc_3       0.1798      0.080      2.241      0.026       0.022       0.338\n",
       "roadc_1       -0.1528      0.104     -1.470      0.143      -0.357       0.052\n",
       "roadc_2       -0.1527      0.115     -1.328      0.185      -0.379       0.074\n",
       "roadc_3        0.1478      0.266      0.557      0.578      -0.375       0.670\n",
       "roadc_4       -0.1519      0.112     -1.357      0.176      -0.372       0.068\n",
       "roadc_5       -0.2068      0.329     -0.629      0.530      -0.854       0.440\n",
       "roadc_6        0.6964      0.328      2.121      0.035       0.051       1.342\n",
       "trafficv_1     0.0632      0.080      0.785      0.433      -0.095       0.221\n",
       "trafficv_2     0.0767      0.083      0.927      0.355      -0.086       0.239\n",
       "trafficv_3     0.0949      0.095      0.998      0.319      -0.092       0.282\n",
       "trafficv_4    -0.0153      0.239     -0.064      0.949      -0.486       0.455\n",
       "trafficv_5     0.0226      0.144      0.157      0.875      -0.261       0.306\n",
       "trafficv_6    -0.0622      0.322     -0.193      0.847      -0.695       0.571\n",
       "==============================================================================\n",
       "Omnibus:                      103.467   Durbin-Watson:                   1.796\n",
       "Prob(Omnibus):                  0.000   Jarque-Bera (JB):              195.328\n",
       "Skew:                           1.726   Prob(JB):                     3.85e-43\n",
       "Kurtosis:                       4.217   Cond. No.                     2.32e+16\n",
       "==============================================================================\n",
       "\n",
       "Notes:\n",
       "[1] Standard Errors assume that the covariance matrix of the errors is correctly specified.\n",
       "[2] The smallest eigenvalue is 2.04e-30. This might indicate that there are\n",
       "strong multicollinearity problems or that the design matrix is singular.\n",
       "\"\"\""
      ]
     },
     "execution_count": 57,
     "metadata": {},
     "output_type": "execute_result"
    }
   ],
   "source": [
    "X = sm.add_constant(X)\n",
    "model1 = sm.OLS(Y1, X)\n",
    "result1 = model1.fit()\n",
    "result1.summary()"
   ]
  },
  {
   "cell_type": "code",
   "execution_count": 58,
   "id": "807844a5-98cb-42d1-a72c-1aa1635c8d39",
   "metadata": {
    "execution": {
     "iopub.execute_input": "2024-03-19T13:10:50.157336Z",
     "iopub.status.busy": "2024-03-19T13:10:50.156943Z",
     "iopub.status.idle": "2024-03-19T13:10:50.192964Z",
     "shell.execute_reply": "2024-03-19T13:10:50.192376Z",
     "shell.execute_reply.started": "2024-03-19T13:10:50.157316Z"
    }
   },
   "outputs": [
    {
     "data": {
      "text/html": [
       "<table class=\"simpletable\">\n",
       "<caption>OLS Regression Results</caption>\n",
       "<tr>\n",
       "  <th>Dep. Variable:</th>           <td>LV</td>        <th>  R-squared:         </th> <td>   0.043</td>\n",
       "</tr>\n",
       "<tr>\n",
       "  <th>Model:</th>                   <td>OLS</td>       <th>  Adj. R-squared:    </th> <td>  -0.003</td>\n",
       "</tr>\n",
       "<tr>\n",
       "  <th>Method:</th>             <td>Least Squares</td>  <th>  F-statistic:       </th> <td>  0.9342</td>\n",
       "</tr>\n",
       "<tr>\n",
       "  <th>Date:</th>             <td>Tue, 19 Mar 2024</td> <th>  Prob (F-statistic):</th>  <td> 0.530</td> \n",
       "</tr>\n",
       "<tr>\n",
       "  <th>Time:</th>                 <td>14:10:50</td>     <th>  Log-Likelihood:    </th> <td> -292.29</td>\n",
       "</tr>\n",
       "<tr>\n",
       "  <th>No. Observations:</th>      <td>   350</td>      <th>  AIC:               </th> <td>   618.6</td>\n",
       "</tr>\n",
       "<tr>\n",
       "  <th>Df Residuals:</th>          <td>   333</td>      <th>  BIC:               </th> <td>   684.2</td>\n",
       "</tr>\n",
       "<tr>\n",
       "  <th>Df Model:</th>              <td>    16</td>      <th>                     </th>     <td> </td>   \n",
       "</tr>\n",
       "<tr>\n",
       "  <th>Covariance Type:</th>      <td>nonrobust</td>    <th>                     </th>     <td> </td>   \n",
       "</tr>\n",
       "</table>\n",
       "<table class=\"simpletable\">\n",
       "<tr>\n",
       "       <td></td>         <th>coef</th>     <th>std err</th>      <th>t</th>      <th>P>|t|</th>  <th>[0.025</th>    <th>0.975]</th>  \n",
       "</tr>\n",
       "<tr>\n",
       "  <th>const</th>      <td>    0.0934</td> <td>    0.126</td> <td>    0.743</td> <td> 0.458</td> <td>   -0.154</td> <td>    0.341</td>\n",
       "</tr>\n",
       "<tr>\n",
       "  <th>weatherc_1</th> <td>    0.2447</td> <td>    0.139</td> <td>    1.761</td> <td> 0.079</td> <td>   -0.029</td> <td>    0.518</td>\n",
       "</tr>\n",
       "<tr>\n",
       "  <th>weatherc_2</th> <td>    0.0485</td> <td>    0.165</td> <td>    0.294</td> <td> 0.769</td> <td>   -0.276</td> <td>    0.373</td>\n",
       "</tr>\n",
       "<tr>\n",
       "  <th>weatherc_3</th> <td>    0.2892</td> <td>    0.131</td> <td>    2.211</td> <td> 0.028</td> <td>    0.032</td> <td>    0.547</td>\n",
       "</tr>\n",
       "<tr>\n",
       "  <th>weatherc_4</th> <td>    0.1331</td> <td>    0.277</td> <td>    0.481</td> <td> 0.631</td> <td>   -0.412</td> <td>    0.678</td>\n",
       "</tr>\n",
       "<tr>\n",
       "  <th>weatherc_5</th> <td>   -0.6221</td> <td>    0.486</td> <td>   -1.280</td> <td> 0.201</td> <td>   -1.578</td> <td>    0.334</td>\n",
       "</tr>\n",
       "<tr>\n",
       "  <th>lightc_1</th>   <td>   -0.0006</td> <td>    0.075</td> <td>   -0.008</td> <td> 0.994</td> <td>   -0.148</td> <td>    0.147</td>\n",
       "</tr>\n",
       "<tr>\n",
       "  <th>lightc_2</th>   <td>    0.0701</td> <td>    0.068</td> <td>    1.031</td> <td> 0.304</td> <td>   -0.064</td> <td>    0.204</td>\n",
       "</tr>\n",
       "<tr>\n",
       "  <th>lightc_3</th>   <td>    0.0238</td> <td>    0.123</td> <td>    0.194</td> <td> 0.846</td> <td>   -0.217</td> <td>    0.265</td>\n",
       "</tr>\n",
       "<tr>\n",
       "  <th>roadc_1</th>    <td>    0.2170</td> <td>    0.159</td> <td>    1.365</td> <td> 0.173</td> <td>   -0.096</td> <td>    0.530</td>\n",
       "</tr>\n",
       "<tr>\n",
       "  <th>roadc_2</th>    <td>    0.3766</td> <td>    0.176</td> <td>    2.143</td> <td> 0.033</td> <td>    0.031</td> <td>    0.722</td>\n",
       "</tr>\n",
       "<tr>\n",
       "  <th>roadc_3</th>    <td>   -0.4505</td> <td>    0.406</td> <td>   -1.110</td> <td> 0.268</td> <td>   -1.249</td> <td>    0.348</td>\n",
       "</tr>\n",
       "<tr>\n",
       "  <th>roadc_4</th>    <td>    0.2341</td> <td>    0.171</td> <td>    1.368</td> <td> 0.172</td> <td>   -0.102</td> <td>    0.571</td>\n",
       "</tr>\n",
       "<tr>\n",
       "  <th>roadc_5</th>    <td>    0.3228</td> <td>    0.503</td> <td>    0.642</td> <td> 0.521</td> <td>   -0.666</td> <td>    1.312</td>\n",
       "</tr>\n",
       "<tr>\n",
       "  <th>roadc_6</th>    <td>   -0.6065</td> <td>    0.502</td> <td>   -1.209</td> <td> 0.228</td> <td>   -1.593</td> <td>    0.380</td>\n",
       "</tr>\n",
       "<tr>\n",
       "  <th>trafficv_1</th> <td>    0.2246</td> <td>    0.123</td> <td>    1.826</td> <td> 0.069</td> <td>   -0.017</td> <td>    0.466</td>\n",
       "</tr>\n",
       "<tr>\n",
       "  <th>trafficv_2</th> <td>    0.1620</td> <td>    0.126</td> <td>    1.282</td> <td> 0.201</td> <td>   -0.087</td> <td>    0.411</td>\n",
       "</tr>\n",
       "<tr>\n",
       "  <th>trafficv_3</th> <td>    0.1755</td> <td>    0.145</td> <td>    1.207</td> <td> 0.228</td> <td>   -0.110</td> <td>    0.461</td>\n",
       "</tr>\n",
       "<tr>\n",
       "  <th>trafficv_4</th> <td>   -0.0578</td> <td>    0.366</td> <td>   -0.158</td> <td> 0.874</td> <td>   -0.777</td> <td>    0.661</td>\n",
       "</tr>\n",
       "<tr>\n",
       "  <th>trafficv_5</th> <td>    0.2143</td> <td>    0.220</td> <td>    0.973</td> <td> 0.331</td> <td>   -0.219</td> <td>    0.648</td>\n",
       "</tr>\n",
       "<tr>\n",
       "  <th>trafficv_6</th> <td>   -0.6252</td> <td>    0.492</td> <td>   -1.271</td> <td> 0.205</td> <td>   -1.593</td> <td>    0.343</td>\n",
       "</tr>\n",
       "</table>\n",
       "<table class=\"simpletable\">\n",
       "<tr>\n",
       "  <th>Omnibus:</th>       <td> 7.892</td> <th>  Durbin-Watson:     </th> <td>   1.926</td>\n",
       "</tr>\n",
       "<tr>\n",
       "  <th>Prob(Omnibus):</th> <td> 0.019</td> <th>  Jarque-Bera (JB):  </th> <td>  10.204</td>\n",
       "</tr>\n",
       "<tr>\n",
       "  <th>Skew:</th>          <td> 0.196</td> <th>  Prob(JB):          </th> <td> 0.00609</td>\n",
       "</tr>\n",
       "<tr>\n",
       "  <th>Kurtosis:</th>      <td> 3.739</td> <th>  Cond. No.          </th> <td>2.32e+16</td>\n",
       "</tr>\n",
       "</table><br/><br/>Notes:<br/>[1] Standard Errors assume that the covariance matrix of the errors is correctly specified.<br/>[2] The smallest eigenvalue is 2.04e-30. This might indicate that there are<br/>strong multicollinearity problems or that the design matrix is singular."
      ],
      "text/latex": [
       "\\begin{center}\n",
       "\\begin{tabular}{lclc}\n",
       "\\toprule\n",
       "\\textbf{Dep. Variable:}    &        LV        & \\textbf{  R-squared:         } &     0.043   \\\\\n",
       "\\textbf{Model:}            &       OLS        & \\textbf{  Adj. R-squared:    } &    -0.003   \\\\\n",
       "\\textbf{Method:}           &  Least Squares   & \\textbf{  F-statistic:       } &    0.9342   \\\\\n",
       "\\textbf{Date:}             & Tue, 19 Mar 2024 & \\textbf{  Prob (F-statistic):} &    0.530    \\\\\n",
       "\\textbf{Time:}             &     14:10:50     & \\textbf{  Log-Likelihood:    } &   -292.29   \\\\\n",
       "\\textbf{No. Observations:} &         350      & \\textbf{  AIC:               } &     618.6   \\\\\n",
       "\\textbf{Df Residuals:}     &         333      & \\textbf{  BIC:               } &     684.2   \\\\\n",
       "\\textbf{Df Model:}         &          16      & \\textbf{                     } &             \\\\\n",
       "\\textbf{Covariance Type:}  &    nonrobust     & \\textbf{                     } &             \\\\\n",
       "\\bottomrule\n",
       "\\end{tabular}\n",
       "\\begin{tabular}{lcccccc}\n",
       "                     & \\textbf{coef} & \\textbf{std err} & \\textbf{t} & \\textbf{P$> |$t$|$} & \\textbf{[0.025} & \\textbf{0.975]}  \\\\\n",
       "\\midrule\n",
       "\\textbf{const}       &       0.0934  &        0.126     &     0.743  &         0.458        &       -0.154    &        0.341     \\\\\n",
       "\\textbf{weatherc\\_1} &       0.2447  &        0.139     &     1.761  &         0.079        &       -0.029    &        0.518     \\\\\n",
       "\\textbf{weatherc\\_2} &       0.0485  &        0.165     &     0.294  &         0.769        &       -0.276    &        0.373     \\\\\n",
       "\\textbf{weatherc\\_3} &       0.2892  &        0.131     &     2.211  &         0.028        &        0.032    &        0.547     \\\\\n",
       "\\textbf{weatherc\\_4} &       0.1331  &        0.277     &     0.481  &         0.631        &       -0.412    &        0.678     \\\\\n",
       "\\textbf{weatherc\\_5} &      -0.6221  &        0.486     &    -1.280  &         0.201        &       -1.578    &        0.334     \\\\\n",
       "\\textbf{lightc\\_1}   &      -0.0006  &        0.075     &    -0.008  &         0.994        &       -0.148    &        0.147     \\\\\n",
       "\\textbf{lightc\\_2}   &       0.0701  &        0.068     &     1.031  &         0.304        &       -0.064    &        0.204     \\\\\n",
       "\\textbf{lightc\\_3}   &       0.0238  &        0.123     &     0.194  &         0.846        &       -0.217    &        0.265     \\\\\n",
       "\\textbf{roadc\\_1}    &       0.2170  &        0.159     &     1.365  &         0.173        &       -0.096    &        0.530     \\\\\n",
       "\\textbf{roadc\\_2}    &       0.3766  &        0.176     &     2.143  &         0.033        &        0.031    &        0.722     \\\\\n",
       "\\textbf{roadc\\_3}    &      -0.4505  &        0.406     &    -1.110  &         0.268        &       -1.249    &        0.348     \\\\\n",
       "\\textbf{roadc\\_4}    &       0.2341  &        0.171     &     1.368  &         0.172        &       -0.102    &        0.571     \\\\\n",
       "\\textbf{roadc\\_5}    &       0.3228  &        0.503     &     0.642  &         0.521        &       -0.666    &        1.312     \\\\\n",
       "\\textbf{roadc\\_6}    &      -0.6065  &        0.502     &    -1.209  &         0.228        &       -1.593    &        0.380     \\\\\n",
       "\\textbf{trafficv\\_1} &       0.2246  &        0.123     &     1.826  &         0.069        &       -0.017    &        0.466     \\\\\n",
       "\\textbf{trafficv\\_2} &       0.1620  &        0.126     &     1.282  &         0.201        &       -0.087    &        0.411     \\\\\n",
       "\\textbf{trafficv\\_3} &       0.1755  &        0.145     &     1.207  &         0.228        &       -0.110    &        0.461     \\\\\n",
       "\\textbf{trafficv\\_4} &      -0.0578  &        0.366     &    -0.158  &         0.874        &       -0.777    &        0.661     \\\\\n",
       "\\textbf{trafficv\\_5} &       0.2143  &        0.220     &     0.973  &         0.331        &       -0.219    &        0.648     \\\\\n",
       "\\textbf{trafficv\\_6} &      -0.6252  &        0.492     &    -1.271  &         0.205        &       -1.593    &        0.343     \\\\\n",
       "\\bottomrule\n",
       "\\end{tabular}\n",
       "\\begin{tabular}{lclc}\n",
       "\\textbf{Omnibus:}       &  7.892 & \\textbf{  Durbin-Watson:     } &    1.926  \\\\\n",
       "\\textbf{Prob(Omnibus):} &  0.019 & \\textbf{  Jarque-Bera (JB):  } &   10.204  \\\\\n",
       "\\textbf{Skew:}          &  0.196 & \\textbf{  Prob(JB):          } &  0.00609  \\\\\n",
       "\\textbf{Kurtosis:}      &  3.739 & \\textbf{  Cond. No.          } & 2.32e+16  \\\\\n",
       "\\bottomrule\n",
       "\\end{tabular}\n",
       "%\\caption{OLS Regression Results}\n",
       "\\end{center}\n",
       "\n",
       "Notes: \\newline\n",
       " [1] Standard Errors assume that the covariance matrix of the errors is correctly specified. \\newline\n",
       " [2] The smallest eigenvalue is 2.04e-30. This might indicate that there are \\newline\n",
       " strong multicollinearity problems or that the design matrix is singular."
      ],
      "text/plain": [
       "<class 'statsmodels.iolib.summary.Summary'>\n",
       "\"\"\"\n",
       "                            OLS Regression Results                            \n",
       "==============================================================================\n",
       "Dep. Variable:                     LV   R-squared:                       0.043\n",
       "Model:                            OLS   Adj. R-squared:                 -0.003\n",
       "Method:                 Least Squares   F-statistic:                    0.9342\n",
       "Date:                Tue, 19 Mar 2024   Prob (F-statistic):              0.530\n",
       "Time:                        14:10:50   Log-Likelihood:                -292.29\n",
       "No. Observations:                 350   AIC:                             618.6\n",
       "Df Residuals:                     333   BIC:                             684.2\n",
       "Df Model:                          16                                         \n",
       "Covariance Type:            nonrobust                                         \n",
       "==============================================================================\n",
       "                 coef    std err          t      P>|t|      [0.025      0.975]\n",
       "------------------------------------------------------------------------------\n",
       "const          0.0934      0.126      0.743      0.458      -0.154       0.341\n",
       "weatherc_1     0.2447      0.139      1.761      0.079      -0.029       0.518\n",
       "weatherc_2     0.0485      0.165      0.294      0.769      -0.276       0.373\n",
       "weatherc_3     0.2892      0.131      2.211      0.028       0.032       0.547\n",
       "weatherc_4     0.1331      0.277      0.481      0.631      -0.412       0.678\n",
       "weatherc_5    -0.6221      0.486     -1.280      0.201      -1.578       0.334\n",
       "lightc_1      -0.0006      0.075     -0.008      0.994      -0.148       0.147\n",
       "lightc_2       0.0701      0.068      1.031      0.304      -0.064       0.204\n",
       "lightc_3       0.0238      0.123      0.194      0.846      -0.217       0.265\n",
       "roadc_1        0.2170      0.159      1.365      0.173      -0.096       0.530\n",
       "roadc_2        0.3766      0.176      2.143      0.033       0.031       0.722\n",
       "roadc_3       -0.4505      0.406     -1.110      0.268      -1.249       0.348\n",
       "roadc_4        0.2341      0.171      1.368      0.172      -0.102       0.571\n",
       "roadc_5        0.3228      0.503      0.642      0.521      -0.666       1.312\n",
       "roadc_6       -0.6065      0.502     -1.209      0.228      -1.593       0.380\n",
       "trafficv_1     0.2246      0.123      1.826      0.069      -0.017       0.466\n",
       "trafficv_2     0.1620      0.126      1.282      0.201      -0.087       0.411\n",
       "trafficv_3     0.1755      0.145      1.207      0.228      -0.110       0.461\n",
       "trafficv_4    -0.0578      0.366     -0.158      0.874      -0.777       0.661\n",
       "trafficv_5     0.2143      0.220      0.973      0.331      -0.219       0.648\n",
       "trafficv_6    -0.6252      0.492     -1.271      0.205      -1.593       0.343\n",
       "==============================================================================\n",
       "Omnibus:                        7.892   Durbin-Watson:                   1.926\n",
       "Prob(Omnibus):                  0.019   Jarque-Bera (JB):               10.204\n",
       "Skew:                           0.196   Prob(JB):                      0.00609\n",
       "Kurtosis:                       3.739   Cond. No.                     2.32e+16\n",
       "==============================================================================\n",
       "\n",
       "Notes:\n",
       "[1] Standard Errors assume that the covariance matrix of the errors is correctly specified.\n",
       "[2] The smallest eigenvalue is 2.04e-30. This might indicate that there are\n",
       "strong multicollinearity problems or that the design matrix is singular.\n",
       "\"\"\""
      ]
     },
     "execution_count": 58,
     "metadata": {},
     "output_type": "execute_result"
    }
   ],
   "source": [
    "model2 = sm.OLS(Y2, X)\n",
    "result2 = model2.fit()\n",
    "result2.summary()"
   ]
  },
  {
   "cell_type": "code",
   "execution_count": 59,
   "id": "57998aeb-aa2a-493c-82f6-99f7d1f8981a",
   "metadata": {
    "execution": {
     "iopub.execute_input": "2024-03-19T13:10:50.517387Z",
     "iopub.status.busy": "2024-03-19T13:10:50.516997Z",
     "iopub.status.idle": "2024-03-19T13:10:50.550898Z",
     "shell.execute_reply": "2024-03-19T13:10:50.550268Z",
     "shell.execute_reply.started": "2024-03-19T13:10:50.517366Z"
    }
   },
   "outputs": [
    {
     "data": {
      "text/html": [
       "<table class=\"simpletable\">\n",
       "<caption>OLS Regression Results</caption>\n",
       "<tr>\n",
       "  <th>Dep. Variable:</th>           <td>pd</td>        <th>  R-squared:         </th> <td>   0.071</td>\n",
       "</tr>\n",
       "<tr>\n",
       "  <th>Model:</th>                   <td>OLS</td>       <th>  Adj. R-squared:    </th> <td>   0.026</td>\n",
       "</tr>\n",
       "<tr>\n",
       "  <th>Method:</th>             <td>Least Squares</td>  <th>  F-statistic:       </th> <td>   1.594</td>\n",
       "</tr>\n",
       "<tr>\n",
       "  <th>Date:</th>             <td>Tue, 19 Mar 2024</td> <th>  Prob (F-statistic):</th>  <td>0.0684</td> \n",
       "</tr>\n",
       "<tr>\n",
       "  <th>Time:</th>                 <td>14:10:50</td>     <th>  Log-Likelihood:    </th> <td> -3307.9</td>\n",
       "</tr>\n",
       "<tr>\n",
       "  <th>No. Observations:</th>      <td>   350</td>      <th>  AIC:               </th> <td>   6650.</td>\n",
       "</tr>\n",
       "<tr>\n",
       "  <th>Df Residuals:</th>          <td>   333</td>      <th>  BIC:               </th> <td>   6715.</td>\n",
       "</tr>\n",
       "<tr>\n",
       "  <th>Df Model:</th>              <td>    16</td>      <th>                     </th>     <td> </td>   \n",
       "</tr>\n",
       "<tr>\n",
       "  <th>Covariance Type:</th>      <td>nonrobust</td>    <th>                     </th>     <td> </td>   \n",
       "</tr>\n",
       "</table>\n",
       "<table class=\"simpletable\">\n",
       "<tr>\n",
       "       <td></td>         <th>coef</th>     <th>std err</th>      <th>t</th>      <th>P>|t|</th>  <th>[0.025</th>    <th>0.975]</th>  \n",
       "</tr>\n",
       "<tr>\n",
       "  <th>const</th>      <td>  473.1558</td> <td>  693.892</td> <td>    0.682</td> <td> 0.496</td> <td> -891.809</td> <td> 1838.120</td>\n",
       "</tr>\n",
       "<tr>\n",
       "  <th>weatherc_1</th> <td> -181.8816</td> <td>  767.120</td> <td>   -0.237</td> <td> 0.813</td> <td>-1690.894</td> <td> 1327.131</td>\n",
       "</tr>\n",
       "<tr>\n",
       "  <th>weatherc_2</th> <td>  379.6536</td> <td>  910.552</td> <td>    0.417</td> <td> 0.677</td> <td>-1411.505</td> <td> 2170.812</td>\n",
       "</tr>\n",
       "<tr>\n",
       "  <th>weatherc_3</th> <td>   51.0651</td> <td>  722.033</td> <td>    0.071</td> <td> 0.944</td> <td>-1369.255</td> <td> 1471.385</td>\n",
       "</tr>\n",
       "<tr>\n",
       "  <th>weatherc_4</th> <td> -880.5340</td> <td> 1528.736</td> <td>   -0.576</td> <td> 0.565</td> <td>-3887.732</td> <td> 2126.664</td>\n",
       "</tr>\n",
       "<tr>\n",
       "  <th>weatherc_5</th> <td> 1104.8529</td> <td> 2681.956</td> <td>    0.412</td> <td> 0.681</td> <td>-4170.859</td> <td> 6380.564</td>\n",
       "</tr>\n",
       "<tr>\n",
       "  <th>lightc_1</th>   <td>  484.5214</td> <td>  414.878</td> <td>    1.168</td> <td> 0.244</td> <td> -331.590</td> <td> 1300.633</td>\n",
       "</tr>\n",
       "<tr>\n",
       "  <th>lightc_2</th>   <td>   16.0720</td> <td>  375.575</td> <td>    0.043</td> <td> 0.966</td> <td> -722.727</td> <td>  754.871</td>\n",
       "</tr>\n",
       "<tr>\n",
       "  <th>lightc_3</th>   <td>  -27.4376</td> <td>  676.857</td> <td>   -0.041</td> <td> 0.968</td> <td>-1358.893</td> <td> 1304.018</td>\n",
       "</tr>\n",
       "<tr>\n",
       "  <th>roadc_1</th>    <td>  306.2469</td> <td>  877.127</td> <td>    0.349</td> <td> 0.727</td> <td>-1419.160</td> <td> 2031.654</td>\n",
       "</tr>\n",
       "<tr>\n",
       "  <th>roadc_2</th>    <td> -450.0074</td> <td>  970.288</td> <td>   -0.464</td> <td> 0.643</td> <td>-2358.674</td> <td> 1458.659</td>\n",
       "</tr>\n",
       "<tr>\n",
       "  <th>roadc_3</th>    <td>  565.9813</td> <td> 2239.985</td> <td>    0.253</td> <td> 0.801</td> <td>-3840.324</td> <td> 4972.286</td>\n",
       "</tr>\n",
       "<tr>\n",
       "  <th>roadc_4</th>    <td>  803.9362</td> <td>  944.396</td> <td>    0.851</td> <td> 0.395</td> <td>-1053.798</td> <td> 2661.670</td>\n",
       "</tr>\n",
       "<tr>\n",
       "  <th>roadc_5</th>    <td> -142.2759</td> <td> 2774.769</td> <td>   -0.051</td> <td> 0.959</td> <td>-5600.561</td> <td> 5316.009</td>\n",
       "</tr>\n",
       "<tr>\n",
       "  <th>roadc_6</th>    <td> -610.7253</td> <td> 2769.393</td> <td>   -0.221</td> <td> 0.826</td> <td>-6058.435</td> <td> 4836.984</td>\n",
       "</tr>\n",
       "<tr>\n",
       "  <th>trafficv_1</th> <td> -398.0169</td> <td>  678.661</td> <td>   -0.586</td> <td> 0.558</td> <td>-1733.020</td> <td>  936.986</td>\n",
       "</tr>\n",
       "<tr>\n",
       "  <th>trafficv_2</th> <td>  439.1998</td> <td>  697.803</td> <td>    0.629</td> <td> 0.530</td> <td> -933.458</td> <td> 1811.857</td>\n",
       "</tr>\n",
       "<tr>\n",
       "  <th>trafficv_3</th> <td> 2598.2559</td> <td>  802.290</td> <td>    3.239</td> <td> 0.001</td> <td> 1020.060</td> <td> 4176.452</td>\n",
       "</tr>\n",
       "<tr>\n",
       "  <th>trafficv_4</th> <td>-1084.6787</td> <td> 2017.929</td> <td>   -0.538</td> <td> 0.591</td> <td>-5054.174</td> <td> 2884.816</td>\n",
       "</tr>\n",
       "<tr>\n",
       "  <th>trafficv_5</th> <td> -668.0113</td> <td> 1215.721</td> <td>   -0.549</td> <td> 0.583</td> <td>-3059.471</td> <td> 1723.449</td>\n",
       "</tr>\n",
       "<tr>\n",
       "  <th>trafficv_6</th> <td> -413.5931</td> <td> 2715.382</td> <td>   -0.152</td> <td> 0.879</td> <td>-5755.057</td> <td> 4927.871</td>\n",
       "</tr>\n",
       "</table>\n",
       "<table class=\"simpletable\">\n",
       "<tr>\n",
       "  <th>Omnibus:</th>       <td>649.761</td> <th>  Durbin-Watson:     </th>  <td>   2.130</td> \n",
       "</tr>\n",
       "<tr>\n",
       "  <th>Prob(Omnibus):</th> <td> 0.000</td>  <th>  Jarque-Bera (JB):  </th> <td>433685.910</td>\n",
       "</tr>\n",
       "<tr>\n",
       "  <th>Skew:</th>          <td>11.265</td>  <th>  Prob(JB):          </th>  <td>    0.00</td> \n",
       "</tr>\n",
       "<tr>\n",
       "  <th>Kurtosis:</th>      <td>173.970</td> <th>  Cond. No.          </th>  <td>2.32e+16</td> \n",
       "</tr>\n",
       "</table><br/><br/>Notes:<br/>[1] Standard Errors assume that the covariance matrix of the errors is correctly specified.<br/>[2] The smallest eigenvalue is 2.04e-30. This might indicate that there are<br/>strong multicollinearity problems or that the design matrix is singular."
      ],
      "text/latex": [
       "\\begin{center}\n",
       "\\begin{tabular}{lclc}\n",
       "\\toprule\n",
       "\\textbf{Dep. Variable:}    &        pd        & \\textbf{  R-squared:         } &     0.071   \\\\\n",
       "\\textbf{Model:}            &       OLS        & \\textbf{  Adj. R-squared:    } &     0.026   \\\\\n",
       "\\textbf{Method:}           &  Least Squares   & \\textbf{  F-statistic:       } &     1.594   \\\\\n",
       "\\textbf{Date:}             & Tue, 19 Mar 2024 & \\textbf{  Prob (F-statistic):} &   0.0684    \\\\\n",
       "\\textbf{Time:}             &     14:10:50     & \\textbf{  Log-Likelihood:    } &   -3307.9   \\\\\n",
       "\\textbf{No. Observations:} &         350      & \\textbf{  AIC:               } &     6650.   \\\\\n",
       "\\textbf{Df Residuals:}     &         333      & \\textbf{  BIC:               } &     6715.   \\\\\n",
       "\\textbf{Df Model:}         &          16      & \\textbf{                     } &             \\\\\n",
       "\\textbf{Covariance Type:}  &    nonrobust     & \\textbf{                     } &             \\\\\n",
       "\\bottomrule\n",
       "\\end{tabular}\n",
       "\\begin{tabular}{lcccccc}\n",
       "                     & \\textbf{coef} & \\textbf{std err} & \\textbf{t} & \\textbf{P$> |$t$|$} & \\textbf{[0.025} & \\textbf{0.975]}  \\\\\n",
       "\\midrule\n",
       "\\textbf{const}       &     473.1558  &      693.892     &     0.682  &         0.496        &     -891.809    &     1838.120     \\\\\n",
       "\\textbf{weatherc\\_1} &    -181.8816  &      767.120     &    -0.237  &         0.813        &    -1690.894    &     1327.131     \\\\\n",
       "\\textbf{weatherc\\_2} &     379.6536  &      910.552     &     0.417  &         0.677        &    -1411.505    &     2170.812     \\\\\n",
       "\\textbf{weatherc\\_3} &      51.0651  &      722.033     &     0.071  &         0.944        &    -1369.255    &     1471.385     \\\\\n",
       "\\textbf{weatherc\\_4} &    -880.5340  &     1528.736     &    -0.576  &         0.565        &    -3887.732    &     2126.664     \\\\\n",
       "\\textbf{weatherc\\_5} &    1104.8529  &     2681.956     &     0.412  &         0.681        &    -4170.859    &     6380.564     \\\\\n",
       "\\textbf{lightc\\_1}   &     484.5214  &      414.878     &     1.168  &         0.244        &     -331.590    &     1300.633     \\\\\n",
       "\\textbf{lightc\\_2}   &      16.0720  &      375.575     &     0.043  &         0.966        &     -722.727    &      754.871     \\\\\n",
       "\\textbf{lightc\\_3}   &     -27.4376  &      676.857     &    -0.041  &         0.968        &    -1358.893    &     1304.018     \\\\\n",
       "\\textbf{roadc\\_1}    &     306.2469  &      877.127     &     0.349  &         0.727        &    -1419.160    &     2031.654     \\\\\n",
       "\\textbf{roadc\\_2}    &    -450.0074  &      970.288     &    -0.464  &         0.643        &    -2358.674    &     1458.659     \\\\\n",
       "\\textbf{roadc\\_3}    &     565.9813  &     2239.985     &     0.253  &         0.801        &    -3840.324    &     4972.286     \\\\\n",
       "\\textbf{roadc\\_4}    &     803.9362  &      944.396     &     0.851  &         0.395        &    -1053.798    &     2661.670     \\\\\n",
       "\\textbf{roadc\\_5}    &    -142.2759  &     2774.769     &    -0.051  &         0.959        &    -5600.561    &     5316.009     \\\\\n",
       "\\textbf{roadc\\_6}    &    -610.7253  &     2769.393     &    -0.221  &         0.826        &    -6058.435    &     4836.984     \\\\\n",
       "\\textbf{trafficv\\_1} &    -398.0169  &      678.661     &    -0.586  &         0.558        &    -1733.020    &      936.986     \\\\\n",
       "\\textbf{trafficv\\_2} &     439.1998  &      697.803     &     0.629  &         0.530        &     -933.458    &     1811.857     \\\\\n",
       "\\textbf{trafficv\\_3} &    2598.2559  &      802.290     &     3.239  &         0.001        &     1020.060    &     4176.452     \\\\\n",
       "\\textbf{trafficv\\_4} &   -1084.6787  &     2017.929     &    -0.538  &         0.591        &    -5054.174    &     2884.816     \\\\\n",
       "\\textbf{trafficv\\_5} &    -668.0113  &     1215.721     &    -0.549  &         0.583        &    -3059.471    &     1723.449     \\\\\n",
       "\\textbf{trafficv\\_6} &    -413.5931  &     2715.382     &    -0.152  &         0.879        &    -5755.057    &     4927.871     \\\\\n",
       "\\bottomrule\n",
       "\\end{tabular}\n",
       "\\begin{tabular}{lclc}\n",
       "\\textbf{Omnibus:}       & 649.761 & \\textbf{  Durbin-Watson:     } &     2.130   \\\\\n",
       "\\textbf{Prob(Omnibus):} &   0.000 & \\textbf{  Jarque-Bera (JB):  } & 433685.910  \\\\\n",
       "\\textbf{Skew:}          &  11.265 & \\textbf{  Prob(JB):          } &      0.00   \\\\\n",
       "\\textbf{Kurtosis:}      & 173.970 & \\textbf{  Cond. No.          } &  2.32e+16   \\\\\n",
       "\\bottomrule\n",
       "\\end{tabular}\n",
       "%\\caption{OLS Regression Results}\n",
       "\\end{center}\n",
       "\n",
       "Notes: \\newline\n",
       " [1] Standard Errors assume that the covariance matrix of the errors is correctly specified. \\newline\n",
       " [2] The smallest eigenvalue is 2.04e-30. This might indicate that there are \\newline\n",
       " strong multicollinearity problems or that the design matrix is singular."
      ],
      "text/plain": [
       "<class 'statsmodels.iolib.summary.Summary'>\n",
       "\"\"\"\n",
       "                            OLS Regression Results                            \n",
       "==============================================================================\n",
       "Dep. Variable:                     pd   R-squared:                       0.071\n",
       "Model:                            OLS   Adj. R-squared:                  0.026\n",
       "Method:                 Least Squares   F-statistic:                     1.594\n",
       "Date:                Tue, 19 Mar 2024   Prob (F-statistic):             0.0684\n",
       "Time:                        14:10:50   Log-Likelihood:                -3307.9\n",
       "No. Observations:                 350   AIC:                             6650.\n",
       "Df Residuals:                     333   BIC:                             6715.\n",
       "Df Model:                          16                                         \n",
       "Covariance Type:            nonrobust                                         \n",
       "==============================================================================\n",
       "                 coef    std err          t      P>|t|      [0.025      0.975]\n",
       "------------------------------------------------------------------------------\n",
       "const        473.1558    693.892      0.682      0.496    -891.809    1838.120\n",
       "weatherc_1  -181.8816    767.120     -0.237      0.813   -1690.894    1327.131\n",
       "weatherc_2   379.6536    910.552      0.417      0.677   -1411.505    2170.812\n",
       "weatherc_3    51.0651    722.033      0.071      0.944   -1369.255    1471.385\n",
       "weatherc_4  -880.5340   1528.736     -0.576      0.565   -3887.732    2126.664\n",
       "weatherc_5  1104.8529   2681.956      0.412      0.681   -4170.859    6380.564\n",
       "lightc_1     484.5214    414.878      1.168      0.244    -331.590    1300.633\n",
       "lightc_2      16.0720    375.575      0.043      0.966    -722.727     754.871\n",
       "lightc_3     -27.4376    676.857     -0.041      0.968   -1358.893    1304.018\n",
       "roadc_1      306.2469    877.127      0.349      0.727   -1419.160    2031.654\n",
       "roadc_2     -450.0074    970.288     -0.464      0.643   -2358.674    1458.659\n",
       "roadc_3      565.9813   2239.985      0.253      0.801   -3840.324    4972.286\n",
       "roadc_4      803.9362    944.396      0.851      0.395   -1053.798    2661.670\n",
       "roadc_5     -142.2759   2774.769     -0.051      0.959   -5600.561    5316.009\n",
       "roadc_6     -610.7253   2769.393     -0.221      0.826   -6058.435    4836.984\n",
       "trafficv_1  -398.0169    678.661     -0.586      0.558   -1733.020     936.986\n",
       "trafficv_2   439.1998    697.803      0.629      0.530    -933.458    1811.857\n",
       "trafficv_3  2598.2559    802.290      3.239      0.001    1020.060    4176.452\n",
       "trafficv_4 -1084.6787   2017.929     -0.538      0.591   -5054.174    2884.816\n",
       "trafficv_5  -668.0113   1215.721     -0.549      0.583   -3059.471    1723.449\n",
       "trafficv_6  -413.5931   2715.382     -0.152      0.879   -5755.057    4927.871\n",
       "==============================================================================\n",
       "Omnibus:                      649.761   Durbin-Watson:                   2.130\n",
       "Prob(Omnibus):                  0.000   Jarque-Bera (JB):           433685.910\n",
       "Skew:                          11.265   Prob(JB):                         0.00\n",
       "Kurtosis:                     173.970   Cond. No.                     2.32e+16\n",
       "==============================================================================\n",
       "\n",
       "Notes:\n",
       "[1] Standard Errors assume that the covariance matrix of the errors is correctly specified.\n",
       "[2] The smallest eigenvalue is 2.04e-30. This might indicate that there are\n",
       "strong multicollinearity problems or that the design matrix is singular.\n",
       "\"\"\""
      ]
     },
     "execution_count": 59,
     "metadata": {},
     "output_type": "execute_result"
    }
   ],
   "source": [
    "model3 = sm.OLS(Y3, X)\n",
    "result3 = model3.fit()\n",
    "result3.summary()"
   ]
  },
  {
   "cell_type": "markdown",
   "id": "797993a7-56a6-44ed-9fc8-ee89e9a19e2c",
   "metadata": {},
   "source": [
    "##### Y1 FOR SV"
   ]
  },
  {
   "cell_type": "code",
   "execution_count": 95,
   "id": "c5f7e975-4f53-4780-aae6-7894ffa9b7d4",
   "metadata": {
    "execution": {
     "iopub.execute_input": "2024-03-19T13:38:54.754956Z",
     "iopub.status.busy": "2024-03-19T13:38:54.754676Z",
     "iopub.status.idle": "2024-03-19T13:38:54.759718Z",
     "shell.execute_reply": "2024-03-19T13:38:54.759116Z",
     "shell.execute_reply.started": "2024-03-19T13:38:54.754937Z"
    }
   },
   "outputs": [],
   "source": [
    "X_train, X_test, y_train, y_test = train_test_split(X, Y1, test_size = 0.3, random_state = 1)"
   ]
  },
  {
   "cell_type": "code",
   "execution_count": 96,
   "id": "46604a0d-f73e-4ad8-b684-7e5bc3db54d8",
   "metadata": {
    "execution": {
     "iopub.execute_input": "2024-03-19T13:38:55.478894Z",
     "iopub.status.busy": "2024-03-19T13:38:55.478384Z",
     "iopub.status.idle": "2024-03-19T13:38:55.482209Z",
     "shell.execute_reply": "2024-03-19T13:38:55.481444Z",
     "shell.execute_reply.started": "2024-03-19T13:38:55.478867Z"
    }
   },
   "outputs": [],
   "source": [
    "lf = LogisticRegression(random_state = 0)"
   ]
  },
  {
   "cell_type": "code",
   "execution_count": 97,
   "id": "ac5f6f2f-ca00-4bcd-be53-3cda3731f2df",
   "metadata": {
    "execution": {
     "iopub.execute_input": "2024-03-19T13:38:55.953142Z",
     "iopub.status.busy": "2024-03-19T13:38:55.952570Z",
     "iopub.status.idle": "2024-03-19T13:38:55.965908Z",
     "shell.execute_reply": "2024-03-19T13:38:55.965335Z",
     "shell.execute_reply.started": "2024-03-19T13:38:55.953124Z"
    }
   },
   "outputs": [],
   "source": [
    "lf.fit(X_train, y_train)\n",
    "y_pred_lf1 = lf.predict(X_test)"
   ]
  },
  {
   "cell_type": "code",
   "execution_count": 98,
   "id": "1fb56419-ff44-4686-9aac-3a060646eec7",
   "metadata": {
    "execution": {
     "iopub.execute_input": "2024-03-19T13:38:56.448884Z",
     "iopub.status.busy": "2024-03-19T13:38:56.448535Z",
     "iopub.status.idle": "2024-03-19T13:38:56.457954Z",
     "shell.execute_reply": "2024-03-19T13:38:56.457242Z",
     "shell.execute_reply.started": "2024-03-19T13:38:56.448863Z"
    }
   },
   "outputs": [
    {
     "name": "stdout",
     "output_type": "stream",
     "text": [
      "Mean Absolute Error (MAE): 0.22857142857142856\n",
      "Mean Squared Error (MSE): 0.22857142857142856\n",
      "Root Mean Squared Error (RMSE): 0.47809144373375745\n",
      "Mean Absolute Percentage Error (MAPE): 0.22857142857142856\n",
      "Explained Variance Score: 0.0\n",
      "Max Error: 1\n",
      "Mean Squared Log Error: 0.10981783175273174\n",
      "Median Absolute Error: 0.0\n",
      "R^2: -0.2962962962962963\n"
     ]
    }
   ],
   "source": [
    "print('Mean Absolute Error (MAE):', metrics.mean_absolute_error(y_test, y_pred_lf1))\n",
    "print('Mean Squared Error (MSE):', metrics.mean_squared_error(y_test, y_pred_lf1))\n",
    "print('Root Mean Squared Error (RMSE):', metrics.mean_squared_error(y_test, y_pred_lf1, squared=False))\n",
    "print('Mean Absolute Percentage Error (MAPE):', metrics.mean_absolute_percentage_error(y_test, y_pred_lf1))\n",
    "print('Explained Variance Score:', metrics.explained_variance_score(y_test, y_pred_lf1))\n",
    "print('Max Error:', metrics.max_error(y_test, y_pred_lf1))\n",
    "print('Mean Squared Log Error:', metrics.mean_squared_log_error(y_test, y_pred_lf1))\n",
    "print('Median Absolute Error:', metrics.median_absolute_error(y_test, y_pred_lf1))\n",
    "print('R^2:', metrics.r2_score(y_test, y_pred_lf1))\n",
    "# print('Mean Poisson Deviance:', metrics.mean_poisson_deviance(y_test, y_pred_lf1))"
   ]
  },
  {
   "cell_type": "code",
   "execution_count": 99,
   "id": "ecfdc264-b1cf-4928-aa53-493aebcdf879",
   "metadata": {
    "execution": {
     "iopub.execute_input": "2024-03-19T13:38:57.318650Z",
     "iopub.status.busy": "2024-03-19T13:38:57.318268Z",
     "iopub.status.idle": "2024-03-19T13:38:57.592059Z",
     "shell.execute_reply": "2024-03-19T13:38:57.591435Z",
     "shell.execute_reply.started": "2024-03-19T13:38:57.318632Z"
    }
   },
   "outputs": [
    {
     "data": {
      "text/plain": [
       "Text(0, 0.5, 'feature')"
      ]
     },
     "execution_count": 99,
     "metadata": {},
     "output_type": "execute_result"
    },
    {
     "data": {
      "image/png": "[encoded data removed]",
      "text/plain": [
       "<Figure size 640x480 with 1 Axes>"
      ]
     },
     "metadata": {},
     "output_type": "display_data"
    }
   ],
   "source": [
    "feature_name = list(X.columns.values.tolist())\n",
    "importances = lf.coef_[0]\n",
    "df_lf1 = pd.DataFrame({'features':feature_name, 'importances':importances})\n",
    "df_lf1.sort_values(by = ['importances'], ascending = False, inplace = True)\n",
    "sn.barplot(x = df_lf1['importances'], y = df_lf1['features'])\n",
    "plt.xlabel('importance')\n",
    "plt.ylabel('feature')"
   ]
  },
  {
   "cell_type": "code",
   "execution_count": 100,
   "id": "2f2a0ad2-3f42-4d4d-ad4e-532bb5f9d48d",
   "metadata": {
    "execution": {
     "iopub.execute_input": "2024-03-19T13:38:58.382567Z",
     "iopub.status.busy": "2024-03-19T13:38:58.382160Z",
     "iopub.status.idle": "2024-03-19T13:38:58.406303Z",
     "shell.execute_reply": "2024-03-19T13:38:58.405770Z",
     "shell.execute_reply.started": "2024-03-19T13:38:58.382545Z"
    }
   },
   "outputs": [
    {
     "name": "stdout",
     "output_type": "stream",
     "text": [
      "Mean Absolute Error (MAE): 0.3075816176085902\n",
      "Mean Squared Error (MSE): 0.18737006985528792\n",
      "Root Mean Squared Error (RMSE): 0.4328626454838624\n",
      "Mean Absolute Percentage Error (MAPE): 531702248272196.56\n",
      "Explained Variance Score: -0.03367183741510327\n",
      "Max Error: 0.9540014168111977\n",
      "Mean Squared Log Error: 0.08922728015617733\n",
      "Median Absolute Error: 0.15321744763823106\n",
      "R^2: -0.0626311832070725\n",
      "Mean Poisson Deviance: 0.7567879955935034\n"
     ]
    }
   ],
   "source": [
    "rf1 = RandomForestRegressor(n_estimators = 10, max_depth = 5, random_state = 2)\n",
    "rf1.fit(X_train, y_train)\n",
    "y_pred_rf1 = rf1.predict(X_test)\n",
    "print('Mean Absolute Error (MAE):', metrics.mean_absolute_error(y_test, y_pred_rf1))\n",
    "print('Mean Squared Error (MSE):', metrics.mean_squared_error(y_test, y_pred_rf1))\n",
    "print('Root Mean Squared Error (RMSE):', metrics.mean_squared_error(y_test, y_pred_rf1, squared=False))\n",
    "print('Mean Absolute Percentage Error (MAPE):', metrics.mean_absolute_percentage_error(y_test, y_pred_rf1))\n",
    "print('Explained Variance Score:', metrics.explained_variance_score(y_test, y_pred_rf1))\n",
    "print('Max Error:', metrics.max_error(y_test, y_pred_rf1))\n",
    "print('Mean Squared Log Error:', metrics.mean_squared_log_error(y_test, y_pred_rf1))\n",
    "print('Median Absolute Error:', metrics.median_absolute_error(y_test, y_pred_rf1))\n",
    "print('R^2:', metrics.r2_score(y_test, y_pred_rf1))\n",
    "print('Mean Poisson Deviance:', metrics.mean_poisson_deviance(y_test, y_pred_rf1))"
   ]
  },
  {
   "cell_type": "code",
   "execution_count": 101,
   "id": "e95144fc-dd4c-4348-ae05-062fd077d600",
   "metadata": {
    "execution": {
     "iopub.execute_input": "2024-03-19T13:38:58.977391Z",
     "iopub.status.busy": "2024-03-19T13:38:58.977036Z",
     "iopub.status.idle": "2024-03-19T13:38:59.255701Z",
     "shell.execute_reply": "2024-03-19T13:38:59.254931Z",
     "shell.execute_reply.started": "2024-03-19T13:38:58.977367Z"
    }
   },
   "outputs": [
    {
     "data": {
      "text/plain": [
       "Text(0, 0.5, 'feature')"
      ]
     },
     "execution_count": 101,
     "metadata": {},
     "output_type": "execute_result"
    },
    {
     "data": {
      "image/png": "[encoded data removed]",
      "text/plain": [
       "<Figure size 640x480 with 1 Axes>"
      ]
     },
     "metadata": {},
     "output_type": "display_data"
    }
   ],
   "source": [
    "feature_name = list(X.columns.values.tolist())\n",
    "importances = rf1.feature_importances_\n",
    "df_rf1 = pd.DataFrame({'features':feature_name, 'importances':importances})\n",
    "df_rf1.sort_values(by = ['importances'], ascending = False, inplace = True)\n",
    "sn.barplot(x = df_rf1['importances'], y = df_rf1['features'])\n",
    "plt.xlabel('importance')\n",
    "plt.ylabel('feature')"
   ]
  },
  {
   "cell_type": "markdown",
   "id": "8256d6c3-7506-413e-af85-c38ae6b129a8",
   "metadata": {},
   "source": [
    "##### Y2 FOR LV"
   ]
  },
  {
   "cell_type": "code",
   "execution_count": 102,
   "id": "8935efb4-0b10-489b-b600-e2a7d2c25e03",
   "metadata": {
    "execution": {
     "iopub.execute_input": "2024-03-19T13:39:03.180118Z",
     "iopub.status.busy": "2024-03-19T13:39:03.179604Z",
     "iopub.status.idle": "2024-03-19T13:39:03.187950Z",
     "shell.execute_reply": "2024-03-19T13:39:03.187250Z",
     "shell.execute_reply.started": "2024-03-19T13:39:03.180093Z"
    }
   },
   "outputs": [],
   "source": [
    "X_train2, X_test2, y_train2, y_test2 = train_test_split(X, Y2, test_size = 0.3, random_state = 3)"
   ]
  },
  {
   "cell_type": "code",
   "execution_count": 103,
   "id": "56813155-9703-479d-87da-d48bdcd6d022",
   "metadata": {
    "execution": {
     "iopub.execute_input": "2024-03-19T13:39:03.739558Z",
     "iopub.status.busy": "2024-03-19T13:39:03.739193Z",
     "iopub.status.idle": "2024-03-19T13:39:03.760885Z",
     "shell.execute_reply": "2024-03-19T13:39:03.760329Z",
     "shell.execute_reply.started": "2024-03-19T13:39:03.739534Z"
    }
   },
   "outputs": [],
   "source": [
    "lf = LogisticRegression(random_state = 4)\n",
    "lf.fit(X_train2, y_train2)\n",
    "y_pred_lf2 = lf.predict(X_test2)"
   ]
  },
  {
   "cell_type": "code",
   "execution_count": 104,
   "id": "df8cc12f-f3dd-42f6-95ea-ebb55130e726",
   "metadata": {
    "execution": {
     "iopub.execute_input": "2024-03-19T13:39:04.359361Z",
     "iopub.status.busy": "2024-03-19T13:39:04.358929Z",
     "iopub.status.idle": "2024-03-19T13:39:04.369806Z",
     "shell.execute_reply": "2024-03-19T13:39:04.369094Z",
     "shell.execute_reply.started": "2024-03-19T13:39:04.359336Z"
    }
   },
   "outputs": [
    {
     "name": "stdout",
     "output_type": "stream",
     "text": [
      "Mean Absolute Error (MAE): 0.42857142857142855\n",
      "Mean Squared Error (MSE): 0.44761904761904764\n",
      "Root Mean Squared Error (RMSE): 0.6690433824641326\n",
      "Mean Absolute Percentage Error (MAPE): 1329634175699860.8\n",
      "Explained Variance Score: -2.220446049250313e-16\n",
      "Max Error: 2\n",
      "Mean Squared Log Error: 0.16521257040095647\n",
      "Median Absolute Error: 0.0\n",
      "R^2: -0.062204046491605824\n",
      "Mean Poisson Deviance: 0.7034546514179623\n"
     ]
    }
   ],
   "source": [
    "print('Mean Absolute Error (MAE):', metrics.mean_absolute_error(y_test2, y_pred_lf2))\n",
    "print('Mean Squared Error (MSE):', metrics.mean_squared_error(y_test2, y_pred_lf2))\n",
    "print('Root Mean Squared Error (RMSE):', metrics.mean_squared_error(y_test2, y_pred_lf2, squared=False))\n",
    "print('Mean Absolute Percentage Error (MAPE):', metrics.mean_absolute_percentage_error(y_test2, y_pred_lf2))\n",
    "print('Explained Variance Score:', metrics.explained_variance_score(y_test2, y_pred_lf2))\n",
    "print('Max Error:', metrics.max_error(y_test2, y_pred_lf2))\n",
    "print('Mean Squared Log Error:', metrics.mean_squared_log_error(y_test2, y_pred_lf2))\n",
    "print('Median Absolute Error:', metrics.median_absolute_error(y_test2, y_pred_lf2))\n",
    "print('R^2:', metrics.r2_score(y_test2, y_pred_lf2))\n",
    "print('Mean Poisson Deviance:', metrics.mean_poisson_deviance(y_test2, y_pred_lf2))"
   ]
  },
  {
   "cell_type": "code",
   "execution_count": 105,
   "id": "f8bb4c40-7b33-437c-9755-571b2ff9f1e8",
   "metadata": {
    "execution": {
     "iopub.execute_input": "2024-03-19T13:39:05.134083Z",
     "iopub.status.busy": "2024-03-19T13:39:05.133486Z",
     "iopub.status.idle": "2024-03-19T13:39:05.402507Z",
     "shell.execute_reply": "2024-03-19T13:39:05.401319Z",
     "shell.execute_reply.started": "2024-03-19T13:39:05.134059Z"
    }
   },
   "outputs": [
    {
     "data": {
      "text/plain": [
       "Text(0, 0.5, 'feature')"
      ]
     },
     "execution_count": 105,
     "metadata": {},
     "output_type": "execute_result"
    },
    {
     "data": {
      "image/png": "[encoded data removed]",
      "text/plain": [
       "<Figure size 640x480 with 1 Axes>"
      ]
     },
     "metadata": {},
     "output_type": "display_data"
    }
   ],
   "source": [
    "feature_name = list(X.columns.values.tolist())\n",
    "importances = lf.coef_[0]\n",
    "df_lf2 = pd.DataFrame({'features':feature_name, 'importances':importances})\n",
    "df_lf2.sort_values(by = ['importances'], ascending = False, inplace = True)\n",
    "sn.barplot(x = df_lf2['importances'], y = df_lf2['features'])\n",
    "plt.xlabel('importance')\n",
    "plt.ylabel('feature')"
   ]
  },
  {
   "cell_type": "code",
   "execution_count": 106,
   "id": "5dbac1bb-7668-4672-9139-3ca525c61c62",
   "metadata": {
    "execution": {
     "iopub.execute_input": "2024-03-19T13:39:06.173193Z",
     "iopub.status.busy": "2024-03-19T13:39:06.172793Z",
     "iopub.status.idle": "2024-03-19T13:39:06.199189Z",
     "shell.execute_reply": "2024-03-19T13:39:06.198571Z",
     "shell.execute_reply.started": "2024-03-19T13:39:06.173174Z"
    }
   },
   "outputs": [
    {
     "name": "stdout",
     "output_type": "stream",
     "text": [
      "Mean Absolute Error (MAE): 0.5301378723205993\n",
      "Mean Squared Error (MSE): 0.442523455053335\n",
      "Root Mean Squared Error (RMSE): 0.665224364446564\n",
      "Mean Absolute Percentage Error (MAPE): 1038808246078589.5\n",
      "Explained Variance Score: -0.038874980769818324\n",
      "Max Error: 2.2344947410003853\n",
      "Mean Squared Log Error: 0.1485882710852935\n",
      "Median Absolute Error: 0.2695585368536546\n",
      "R^2: -0.05011215926883761\n",
      "Mean Poisson Deviance: 0.7057924277974187\n"
     ]
    }
   ],
   "source": [
    "rf2 = RandomForestRegressor(n_estimators = 10, max_depth = 5, random_state = 5)\n",
    "rf2.fit(X_train2, y_train2)\n",
    "y_pred_rf2 = rf2.predict(X_test2)\n",
    "print('Mean Absolute Error (MAE):', metrics.mean_absolute_error(y_test2, y_pred_rf2))\n",
    "print('Mean Squared Error (MSE):', metrics.mean_squared_error(y_test2, y_pred_rf2))\n",
    "print('Root Mean Squared Error (RMSE):', metrics.mean_squared_error(y_test2, y_pred_rf2, squared=False))\n",
    "print('Mean Absolute Percentage Error (MAPE):', metrics.mean_absolute_percentage_error(y_test2, y_pred_rf2))\n",
    "print('Explained Variance Score:', metrics.explained_variance_score(y_test2, y_pred_rf2))\n",
    "print('Max Error:', metrics.max_error(y_test2, y_pred_rf2))\n",
    "print('Mean Squared Log Error:', metrics.mean_squared_log_error(y_test2, y_pred_rf2))\n",
    "print('Median Absolute Error:', metrics.median_absolute_error(y_test2, y_pred_rf2))\n",
    "print('R^2:', metrics.r2_score(y_test2, y_pred_rf2))\n",
    "print('Mean Poisson Deviance:', metrics.mean_poisson_deviance(y_test2, y_pred_rf2))"
   ]
  },
  {
   "cell_type": "code",
   "execution_count": 107,
   "id": "6ee7dab5-d1b6-4ca5-9f21-f6a171643bde",
   "metadata": {
    "execution": {
     "iopub.execute_input": "2024-03-19T13:39:07.161657Z",
     "iopub.status.busy": "2024-03-19T13:39:07.161266Z",
     "iopub.status.idle": "2024-03-19T13:39:07.419250Z",
     "shell.execute_reply": "2024-03-19T13:39:07.418687Z",
     "shell.execute_reply.started": "2024-03-19T13:39:07.161637Z"
    }
   },
   "outputs": [
    {
     "data": {
      "text/plain": [
       "Text(0, 0.5, 'feature')"
      ]
     },
     "execution_count": 107,
     "metadata": {},
     "output_type": "execute_result"
    },
    {
     "data": {
      "image/png": "[encoded data removed]",
      "text/plain": [
       "<Figure size 640x480 with 1 Axes>"
      ]
     },
     "metadata": {},
     "output_type": "display_data"
    }
   ],
   "source": [
    "feature_name = list(X.columns.values.tolist())\n",
    "importances = rf2.feature_importances_\n",
    "df_rf2 = pd.DataFrame({'features':feature_name, 'importances':importances})\n",
    "df_rf2.sort_values(by = ['importances'], ascending = False, inplace = True)\n",
    "sn.barplot(x = df_rf2['importances'], y = df_rf2['features'])\n",
    "plt.xlabel('importance')\n",
    "plt.ylabel('feature')"
   ]
  },
  {
   "cell_type": "markdown",
   "id": "544f0a00-59b2-4a9b-8f92-f342c9cadaa9",
   "metadata": {},
   "source": [
    "##### Y3 FOR pd"
   ]
  },
  {
   "cell_type": "code",
   "execution_count": 108,
   "id": "9ef55ed1-b43a-4d2d-8da5-a0ef8aecbad8",
   "metadata": {
    "execution": {
     "iopub.execute_input": "2024-03-19T13:39:10.578272Z",
     "iopub.status.busy": "2024-03-19T13:39:10.577923Z",
     "iopub.status.idle": "2024-03-19T13:39:10.582992Z",
     "shell.execute_reply": "2024-03-19T13:39:10.582340Z",
     "shell.execute_reply.started": "2024-03-19T13:39:10.578254Z"
    }
   },
   "outputs": [],
   "source": [
    "X_train3, X_test3, y_train3, y_test3 = train_test_split(X, Y3, test_size = 0.3, random_state = 6)"
   ]
  },
  {
   "cell_type": "code",
   "execution_count": 110,
   "id": "8e46cc86-ecee-4b96-92db-b2c87976a1a2",
   "metadata": {
    "execution": {
     "iopub.execute_input": "2024-03-19T13:39:34.255104Z",
     "iopub.status.busy": "2024-03-19T13:39:34.254766Z",
     "iopub.status.idle": "2024-03-19T13:39:34.299257Z",
     "shell.execute_reply": "2024-03-19T13:39:34.298611Z",
     "shell.execute_reply.started": "2024-03-19T13:39:34.255085Z"
    }
   },
   "outputs": [
    {
     "name": "stdout",
     "output_type": "stream",
     "text": [
      "Mean Absolute Error (MAE): 652.5333333333333\n",
      "Mean Squared Error (MSE): 2276573.580952381\n",
      "Root Mean Squared Error (RMSE): 1508.831859735332\n",
      "Mean Absolute Percentage Error (MAPE): 0.49523809523809526\n",
      "Explained Variance Score: 0.0\n",
      "Max Error: 8500\n",
      "Mean Squared Log Error: 20.878247987338963\n",
      "Median Absolute Error: 0.0\n",
      "R^2: -0.23006579423463625\n"
     ]
    }
   ],
   "source": [
    "lf = LogisticRegression(random_state = 7)\n",
    "lf.fit(X_train3, y_train3)\n",
    "y_pred_lf3 = lf.predict(X_test3)\n",
    "print('Mean Absolute Error (MAE):', metrics.mean_absolute_error(y_test3, y_pred_lf3))\n",
    "print('Mean Squared Error (MSE):', metrics.mean_squared_error(y_test3, y_pred_lf3))\n",
    "print('Root Mean Squared Error (RMSE):', metrics.mean_squared_error(y_test3, y_pred_lf3, squared=False))\n",
    "print('Mean Absolute Percentage Error (MAPE):', metrics.mean_absolute_percentage_error(y_test3, y_pred_lf3))\n",
    "print('Explained Variance Score:', metrics.explained_variance_score(y_test3, y_pred_lf3))\n",
    "print('Max Error:', metrics.max_error(y_test3, y_pred_lf3))\n",
    "print('Mean Squared Log Error:', metrics.mean_squared_log_error(y_test3, y_pred_lf3))\n",
    "print('Median Absolute Error:', metrics.median_absolute_error(y_test3, y_pred_lf3))\n",
    "print('R^2:', metrics.r2_score(y_test3, y_pred_lf3))\n",
    "# print('Mean Poisson Deviance:', metrics.mean_poisson_deviance(y_test3, y_pred_lf3))"
   ]
  },
  {
   "cell_type": "code",
   "execution_count": 113,
   "id": "3e688951-2ebc-49a8-815e-1b846eff9dd8",
   "metadata": {
    "execution": {
     "iopub.execute_input": "2024-03-19T13:40:24.533947Z",
     "iopub.status.busy": "2024-03-19T13:40:24.533625Z",
     "iopub.status.idle": "2024-03-19T13:40:24.816184Z",
     "shell.execute_reply": "2024-03-19T13:40:24.815084Z",
     "shell.execute_reply.started": "2024-03-19T13:40:24.533930Z"
    }
   },
   "outputs": [
    {
     "data": {
      "text/plain": [
       "Text(0, 0.5, 'feature')"
      ]
     },
     "execution_count": 113,
     "metadata": {},
     "output_type": "execute_result"
    },
    {
     "data": {
      "image/png": "[encoded data removed]",
      "text/plain": [
       "<Figure size 640x480 with 1 Axes>"
      ]
     },
     "metadata": {},
     "output_type": "display_data"
    }
   ],
   "source": [
    "feature_name = list(X.columns.values.tolist())\n",
    "importances = lf.coef_[0]\n",
    "df_lf3 = pd.DataFrame({'features':feature_name, 'importances':importances})\n",
    "df_lf3.sort_values(by = ['importances'], ascending = False, inplace = True)\n",
    "sn.barplot(x = df_lf3['importances'], y = df_lf3['features'])\n",
    "plt.xlabel('importance')\n",
    "plt.ylabel('feature')"
   ]
  },
  {
   "cell_type": "code",
   "execution_count": 111,
   "id": "4de37c08-ede5-4f84-b4ff-657478e30b6b",
   "metadata": {
    "execution": {
     "iopub.execute_input": "2024-03-19T13:39:41.624337Z",
     "iopub.status.busy": "2024-03-19T13:39:41.624010Z",
     "iopub.status.idle": "2024-03-19T13:39:41.650105Z",
     "shell.execute_reply": "2024-03-19T13:39:41.649555Z",
     "shell.execute_reply.started": "2024-03-19T13:39:41.624318Z"
    }
   },
   "outputs": [
    {
     "name": "stdout",
     "output_type": "stream",
     "text": [
      "Mean Absolute Error (MAE): 1017.824894837412\n",
      "Mean Squared Error (MSE): 4118565.895859105\n",
      "Root Mean Squared Error (RMSE): 2029.425016072066\n",
      "Mean Absolute Percentage Error (MAPE): 1.5775475585672963e+18\n",
      "Explained Variance Score: -1.0961963944681812\n",
      "Max Error: 17203.630952380954\n",
      "Mean Squared Log Error: 20.72741229273391\n",
      "Median Absolute Error: 665.06757545638\n",
      "R^2: -1.225321014082164\n",
      "Mean Poisson Deviance: 1680.3544504319816\n"
     ]
    }
   ],
   "source": [
    "rf3 = RandomForestRegressor(n_estimators = 10, max_depth = 5, random_state = 7)\n",
    "rf3.fit(X_train3, y_train3)\n",
    "y_pred_rf3 = rf3.predict(X_test3)\n",
    "print('Mean Absolute Error (MAE):', metrics.mean_absolute_error(y_test3, y_pred_rf3))\n",
    "print('Mean Squared Error (MSE):', metrics.mean_squared_error(y_test3, y_pred_rf3))\n",
    "print('Root Mean Squared Error (RMSE):', metrics.mean_squared_error(y_test3, y_pred_rf3, squared=False))\n",
    "print('Mean Absolute Percentage Error (MAPE):', metrics.mean_absolute_percentage_error(y_test3, y_pred_rf3))\n",
    "print('Explained Variance Score:', metrics.explained_variance_score(y_test3, y_pred_rf3))\n",
    "print('Max Error:', metrics.max_error(y_test3, y_pred_rf3))\n",
    "print('Mean Squared Log Error:', metrics.mean_squared_log_error(y_test3, y_pred_rf3))\n",
    "print('Median Absolute Error:', metrics.median_absolute_error(y_test3, y_pred_rf3))\n",
    "print('R^2:', metrics.r2_score(y_test3, y_pred_rf3))\n",
    "print('Mean Poisson Deviance:', metrics.mean_poisson_deviance(y_test3, y_pred_rf3))"
   ]
  },
  {
   "cell_type": "code",
   "execution_count": 112,
   "id": "ffe1a50e-ba42-4fb0-a4c6-7c4ea15a6874",
   "metadata": {
    "execution": {
     "iopub.execute_input": "2024-03-19T13:39:42.621615Z",
     "iopub.status.busy": "2024-03-19T13:39:42.621282Z",
     "iopub.status.idle": "2024-03-19T13:39:42.890201Z",
     "shell.execute_reply": "2024-03-19T13:39:42.889603Z",
     "shell.execute_reply.started": "2024-03-19T13:39:42.621596Z"
    }
   },
   "outputs": [
    {
     "data": {
      "text/plain": [
       "Text(0, 0.5, 'feature')"
      ]
     },
     "execution_count": 112,
     "metadata": {},
     "output_type": "execute_result"
    },
    {
     "data": {
      "image/png": "[encoded data removed]",
      "text/plain": [
       "<Figure size 640x480 with 1 Axes>"
      ]
     },
     "metadata": {},
     "output_type": "display_data"
    }
   ],
   "source": [
    "feature_name = list(X.columns.values.tolist())\n",
    "importances = rf3.feature_importances_\n",
    "df_rf3 = pd.DataFrame({'features':feature_name, 'importances':importances})\n",
    "df_rf3.sort_values(by = ['importances'], ascending = False, inplace = True)\n",
    "sn.barplot(x = df_rf3['importances'], y = df_rf3['features'])\n",
    "plt.xlabel('importance')\n",
    "plt.ylabel('feature')"
   ]
  }
 ],
 "metadata": {
  "kernelspec": {
   "display_name": "Python 3 (ipykernel)",
   "language": "python",
   "name": "python3"
  },
  "language_info": {
   "codemirror_mode": {
    "name": "ipython",
    "version": 3
   },
   "file_extension": ".py",
   "mimetype": "text/x-python",
   "name": "python",
   "nbconvert_exporter": "python",
   "pygments_lexer": "ipython3",
   "version": "3.11.5"
  }
 },
 "nbformat": 4,
 "nbformat_minor": 5
}
