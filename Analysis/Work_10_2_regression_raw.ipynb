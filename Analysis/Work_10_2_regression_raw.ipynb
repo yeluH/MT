{
 "cells": [
  {
   "cell_type": "code",
   "execution_count": 1,
   "id": "7e9f75d8-3be9-45ef-b9ae-ad72fefb7ce1",
   "metadata": {
    "execution": {
     "iopub.execute_input": "2024-03-14T16:06:57.702693Z",
     "iopub.status.busy": "2024-03-14T16:06:57.702348Z",
     "iopub.status.idle": "2024-03-14T16:07:00.858069Z",
     "shell.execute_reply": "2024-03-14T16:07:00.857119Z",
     "shell.execute_reply.started": "2024-03-14T16:06:57.702672Z"
    }
   },
   "outputs": [],
   "source": [
    "import torch\n",
    "torch.cuda.empty_cache() "
   ]
  },
  {
   "cell_type": "code",
   "execution_count": 2,
   "id": "f3e5fa71-37bd-4efe-b8ee-ae3c362b2a1b",
   "metadata": {
    "execution": {
     "iopub.execute_input": "2024-03-14T16:07:00.859996Z",
     "iopub.status.busy": "2024-03-14T16:07:00.859616Z",
     "iopub.status.idle": "2024-03-14T16:07:01.267670Z",
     "shell.execute_reply": "2024-03-14T16:07:01.267195Z",
     "shell.execute_reply.started": "2024-03-14T16:07:00.859974Z"
    }
   },
   "outputs": [],
   "source": [
    "import os \n",
    "os.environ['MPLCONFIGDIR'] = os.getcwd() + \"/configs/\"\n",
    "import matplotlib\n",
    "from matplotlib import pyplot as plt\n",
    "import numpy as np\n",
    "import cv2\n",
    "import urllib.request\n",
    "from PIL import Image"
   ]
  },
  {
   "cell_type": "code",
   "execution_count": 3,
   "id": "132db61a-9aa6-4936-8ab4-054288d07d2e",
   "metadata": {
    "execution": {
     "iopub.execute_input": "2024-03-14T16:07:01.685812Z",
     "iopub.status.busy": "2024-03-14T16:07:01.685524Z",
     "iopub.status.idle": "2024-03-14T16:07:02.150382Z",
     "shell.execute_reply": "2024-03-14T16:07:02.149824Z",
     "shell.execute_reply.started": "2024-03-14T16:07:01.685793Z"
    }
   },
   "outputs": [],
   "source": [
    "import pandas as pd\n",
    "import pyproj"
   ]
  },
  {
   "cell_type": "code",
   "execution_count": 4,
   "id": "80d61825-dc8d-4005-9362-cf497e771695",
   "metadata": {
    "execution": {
     "iopub.execute_input": "2024-03-14T16:07:02.272180Z",
     "iopub.status.busy": "2024-03-14T16:07:02.271819Z",
     "iopub.status.idle": "2024-03-14T16:07:02.275509Z",
     "shell.execute_reply": "2024-03-14T16:07:02.274807Z",
     "shell.execute_reply.started": "2024-03-14T16:07:02.272159Z"
    }
   },
   "outputs": [],
   "source": [
    "import os \n",
    "os.environ['MPLCONFIGDIR'] = os.getcwd() + \"/configs/\"\n",
    "import matplotlib\n",
    "from matplotlib import pyplot as plt\n",
    "import numpy as np\n",
    "import cv2"
   ]
  },
  {
   "cell_type": "code",
   "execution_count": 5,
   "id": "e6000c92-6b7e-4ee5-9c30-ac0dfed91840",
   "metadata": {
    "execution": {
     "iopub.execute_input": "2024-03-14T16:07:02.602833Z",
     "iopub.status.busy": "2024-03-14T16:07:02.602280Z",
     "iopub.status.idle": "2024-03-14T16:07:02.606011Z",
     "shell.execute_reply": "2024-03-14T16:07:02.605147Z",
     "shell.execute_reply.started": "2024-03-14T16:07:02.602810Z"
    }
   },
   "outputs": [],
   "source": [
    "from pathlib import Path"
   ]
  },
  {
   "cell_type": "code",
   "execution_count": 6,
   "id": "59dfb1fc-7192-4ae1-9df9-596320cc4875",
   "metadata": {
    "execution": {
     "iopub.execute_input": "2024-03-14T16:07:02.983261Z",
     "iopub.status.busy": "2024-03-14T16:07:02.982963Z",
     "iopub.status.idle": "2024-03-14T16:07:03.004271Z",
     "shell.execute_reply": "2024-03-14T16:07:03.003624Z",
     "shell.execute_reply.started": "2024-03-14T16:07:02.983239Z"
    }
   },
   "outputs": [],
   "source": [
    "import joblib"
   ]
  },
  {
   "cell_type": "code",
   "execution_count": 7,
   "id": "923fac26-61e2-49dd-9099-e31ff4079430",
   "metadata": {
    "execution": {
     "iopub.execute_input": "2024-03-14T16:07:03.399466Z",
     "iopub.status.busy": "2024-03-14T16:07:03.399192Z",
     "iopub.status.idle": "2024-03-14T16:07:03.744567Z",
     "shell.execute_reply": "2024-03-14T16:07:03.743964Z",
     "shell.execute_reply.started": "2024-03-14T16:07:03.399448Z"
    }
   },
   "outputs": [],
   "source": [
    "from mt_function_yl import *"
   ]
  },
  {
   "cell_type": "code",
   "execution_count": 8,
   "id": "8376ffe7-7aec-4e11-9f86-32619931952f",
   "metadata": {
    "execution": {
     "iopub.execute_input": "2024-03-14T16:07:03.819685Z",
     "iopub.status.busy": "2024-03-14T16:07:03.819317Z",
     "iopub.status.idle": "2024-03-14T16:07:04.188405Z",
     "shell.execute_reply": "2024-03-14T16:07:04.187948Z",
     "shell.execute_reply.started": "2024-03-14T16:07:03.819665Z"
    }
   },
   "outputs": [],
   "source": [
    "import seaborn as sn\n",
    "import statsmodels.api as sm"
   ]
  },
  {
   "cell_type": "markdown",
   "id": "11486eff-60e0-460e-a14b-9a0ab0628a50",
   "metadata": {},
   "source": [
    "### Data loading"
   ]
  },
  {
   "cell_type": "code",
   "execution_count": 9,
   "id": "e66dfdbf-610d-40b1-ae40-5b9fa8702845",
   "metadata": {
    "execution": {
     "iopub.execute_input": "2024-03-14T16:07:06.298082Z",
     "iopub.status.busy": "2024-03-14T16:07:06.297692Z",
     "iopub.status.idle": "2024-03-14T16:07:06.631188Z",
     "shell.execute_reply": "2024-03-14T16:07:06.630620Z",
     "shell.execute_reply.started": "2024-03-14T16:07:06.298061Z"
    }
   },
   "outputs": [],
   "source": [
    "df_raw = pd.read_excel('/home/yelhe/data/Acc/E_Trottis_Unfallbericht_2019-2022.xlsx',sheet_name=None)"
   ]
  },
  {
   "cell_type": "code",
   "execution_count": 10,
   "id": "21ee87ad-1fa7-4ec4-9f0f-3b0e069e6b7c",
   "metadata": {
    "execution": {
     "iopub.execute_input": "2024-03-14T16:09:29.399039Z",
     "iopub.status.busy": "2024-03-14T16:09:29.398774Z",
     "iopub.status.idle": "2024-03-14T16:09:29.404478Z",
     "shell.execute_reply": "2024-03-14T16:09:29.403897Z",
     "shell.execute_reply.started": "2024-03-14T16:09:29.399021Z"
    }
   },
   "outputs": [
    {
     "data": {
      "text/plain": [
       "dict_keys(['Allgemeine Angaben', 'Infrastruktur', 'Bedingungen', 'Objekte und Personen', 'Beteiligungen 1', 'Beteiligungen 2', 'Unfälle nach Unfalltyp'])"
      ]
     },
     "execution_count": 10,
     "metadata": {},
     "output_type": "execute_result"
    }
   ],
   "source": [
    "df_raw.keys()"
   ]
  },
  {
   "cell_type": "code",
   "execution_count": 12,
   "id": "a07a9a34-c093-4fd3-8e31-c5fce7cb3fed",
   "metadata": {
    "execution": {
     "iopub.execute_input": "2024-03-14T16:10:39.795246Z",
     "iopub.status.busy": "2024-03-14T16:10:39.794971Z",
     "iopub.status.idle": "2024-03-14T16:10:39.798413Z",
     "shell.execute_reply": "2024-03-14T16:10:39.797818Z",
     "shell.execute_reply.started": "2024-03-14T16:10:39.795229Z"
    }
   },
   "outputs": [],
   "source": [
    "dfaa = df_raw['Allgemeine Angaben']\n",
    "dfin = df_raw['Infrastruktur']\n",
    "dfbe = df_raw['Bedingungen']\n",
    "dfop = df_raw['Objekte und Personen']\n",
    "dfb1 = df_raw['Beteiligungen 1']\n",
    "dfb2 = df_raw['Beteiligungen 2']"
   ]
  },
  {
   "cell_type": "code",
   "execution_count": 23,
   "id": "b3b686dd-faf8-4f44-a62f-629501966a49",
   "metadata": {
    "execution": {
     "iopub.execute_input": "2024-03-14T16:24:13.469001Z",
     "iopub.status.busy": "2024-03-14T16:24:13.468657Z",
     "iopub.status.idle": "2024-03-14T16:24:13.474717Z",
     "shell.execute_reply": "2024-03-14T16:24:13.474132Z",
     "shell.execute_reply.started": "2024-03-14T16:24:13.468958Z"
    }
   },
   "outputs": [],
   "source": [
    "dfaa = dfaa.rename(columns = {'Nr.':'No', \n",
    "                              'Unfall-Nr.':'Nr',\n",
    "                              'Unfalltyp \\nGruppe':'atgroup_number',\n",
    "                              'Unnamed: 5': 'atgroup', # accident type group\n",
    "                              'Unfalltyp':'at_number',\n",
    "                              'Unnamed: 7':'at', # accident type\n",
    "                              'G*':'G',\n",
    "                              'SV*':'SV',\n",
    "                              'LV*':'LV',\n",
    "                              'Sach-\\nschaden**':'pd', # property damage\n",
    "                              'Hauptursache':'mc', # main cause\n",
    "                              'Koord E':'koorde',\n",
    "                              'Koord N':'koordn'})\n"
   ]
  },
  {
   "cell_type": "code",
   "execution_count": 24,
   "id": "ae50a847-4f67-43d7-84ed-cad95813319b",
   "metadata": {
    "execution": {
     "iopub.execute_input": "2024-03-14T16:24:54.003411Z",
     "iopub.status.busy": "2024-03-14T16:24:54.002926Z",
     "iopub.status.idle": "2024-03-14T16:24:54.007135Z",
     "shell.execute_reply": "2024-03-14T16:24:54.006505Z",
     "shell.execute_reply.started": "2024-03-14T16:24:54.003394Z"
    }
   },
   "outputs": [],
   "source": [
    "dfaa = dfaa.drop(['Bemerkung'], axis = 1)"
   ]
  },
  {
   "cell_type": "code",
   "execution_count": 25,
   "id": "e85cd225-4dfd-4588-9e6d-24bfe582e37b",
   "metadata": {
    "execution": {
     "iopub.execute_input": "2024-03-14T16:24:59.294990Z",
     "iopub.status.busy": "2024-03-14T16:24:59.294710Z",
     "iopub.status.idle": "2024-03-14T16:24:59.299178Z",
     "shell.execute_reply": "2024-03-14T16:24:59.298513Z",
     "shell.execute_reply.started": "2024-03-14T16:24:59.294969Z"
    }
   },
   "outputs": [
    {
     "data": {
      "text/plain": [
       "Index(['No', 'Nr', 'Datum', 'Zeit', 'atgroup_number', 'atgroup', 'at_number',\n",
       "       'at', 'G', 'SV', 'LV', 'pd', 'mc', 'Achsname', 'koorde', 'koordn'],\n",
       "      dtype='object')"
      ]
     },
     "execution_count": 25,
     "metadata": {},
     "output_type": "execute_result"
    }
   ],
   "source": [
    "dfaa.columns"
   ]
  },
  {
   "cell_type": "code",
   "execution_count": 14,
   "id": "3f388e5f-e6d0-4d9b-8b89-1b2840f32fa1",
   "metadata": {
    "execution": {
     "iopub.execute_input": "2024-03-14T16:10:51.458341Z",
     "iopub.status.busy": "2024-03-14T16:10:51.458061Z",
     "iopub.status.idle": "2024-03-14T16:10:51.462531Z",
     "shell.execute_reply": "2024-03-14T16:10:51.461945Z",
     "shell.execute_reply.started": "2024-03-14T16:10:51.458324Z"
    }
   },
   "outputs": [
    {
     "data": {
      "text/plain": [
       "Index(['Nr.', 'Unfall-Nr.', 'Unfallstelle', 'Inner-/ausserorts',\n",
       "       'Vortrittsregelung', 'Strassenart', 'Höchst-geschwindigkeit',\n",
       "       'Strassen-beleuchtung', 'Bemerkung'],\n",
       "      dtype='object')"
      ]
     },
     "execution_count": 14,
     "metadata": {},
     "output_type": "execute_result"
    }
   ],
   "source": [
    "dfin.columns"
   ]
  },
  {
   "cell_type": "code",
   "execution_count": 28,
   "id": "8d0c0f21-7d62-4399-8c11-0466d0dfb3d5",
   "metadata": {
    "execution": {
     "iopub.execute_input": "2024-03-14T16:32:49.996099Z",
     "iopub.status.busy": "2024-03-14T16:32:49.995826Z",
     "iopub.status.idle": "2024-03-14T16:32:50.000616Z",
     "shell.execute_reply": "2024-03-14T16:32:49.999965Z",
     "shell.execute_reply.started": "2024-03-14T16:32:49.996082Z"
    }
   },
   "outputs": [],
   "source": [
    "dfin = dfin.rename(columns = {'Nr.':'No', \n",
    "                              'Unfall-Nr.':'Nr',\n",
    "                              'Unfallstelle':'asite', # accident site\n",
    "                              'Inner-/ausserorts': 'inout', # in/out of town\n",
    "                              'Vortrittsregelung':'rop', # right of way/regulation of priority\n",
    "                              'Strassenart':'rt', # road type \n",
    "                              'Höchst-geschwindigkeit':'maxspeed', # maximum of speed\n",
    "                              'Strassen-beleuchtung':'sl'}) # road lighting\n",
    "dfin = dfin.drop(['Bemerkung'], axis = 1)"
   ]
  },
  {
   "cell_type": "code",
   "execution_count": 15,
   "id": "cc03cb15-b34a-4cb3-91a1-be2552e67559",
   "metadata": {
    "execution": {
     "iopub.execute_input": "2024-03-14T16:11:02.871598Z",
     "iopub.status.busy": "2024-03-14T16:11:02.871324Z",
     "iopub.status.idle": "2024-03-14T16:11:02.875667Z",
     "shell.execute_reply": "2024-03-14T16:11:02.875032Z",
     "shell.execute_reply.started": "2024-03-14T16:11:02.871582Z"
    }
   },
   "outputs": [
    {
     "data": {
      "text/plain": [
       "Index(['Nr.', 'Unfall-Nr.', 'Witterung', 'Lichtverhältnis', 'Strassenzustand',\n",
       "       'Verkehrsaufkommen', 'Bemerkung'],\n",
       "      dtype='object')"
      ]
     },
     "execution_count": 15,
     "metadata": {},
     "output_type": "execute_result"
    }
   ],
   "source": [
    "dfbe.columns"
   ]
  },
  {
   "cell_type": "code",
   "execution_count": 31,
   "id": "af0c2c29-e740-47bd-b9fa-0a56c2145984",
   "metadata": {
    "execution": {
     "iopub.execute_input": "2024-03-14T16:43:58.285391Z",
     "iopub.status.busy": "2024-03-14T16:43:58.285082Z",
     "iopub.status.idle": "2024-03-14T16:43:58.289904Z",
     "shell.execute_reply": "2024-03-14T16:43:58.289240Z",
     "shell.execute_reply.started": "2024-03-14T16:43:58.285374Z"
    }
   },
   "outputs": [],
   "source": [
    "dfbe = dfbe.rename(columns = {'Nr.':'No', \n",
    "                              'Unfall-Nr.':'Nr',\n",
    "                              'Witterung':'weatherc', # weather condition\n",
    "                              'Lichtverhältnis': 'lightc', # light condition\n",
    "                              'Strassenzustand':'roadc', # road condition\n",
    "                              'Verkehrsaufkommen':'trafficv'# traffic volume\n",
    "                             })\n",
    "dfbe = dfbe.drop(['Bemerkung'], axis = 1)"
   ]
  },
  {
   "cell_type": "code",
   "execution_count": 32,
   "id": "99cc64c5-5c1a-4b19-89fa-2c73c089a2c1",
   "metadata": {
    "execution": {
     "iopub.execute_input": "2024-03-14T16:44:04.116309Z",
     "iopub.status.busy": "2024-03-14T16:44:04.116029Z",
     "iopub.status.idle": "2024-03-14T16:44:04.120434Z",
     "shell.execute_reply": "2024-03-14T16:44:04.119737Z",
     "shell.execute_reply.started": "2024-03-14T16:44:04.116291Z"
    }
   },
   "outputs": [
    {
     "data": {
      "text/plain": [
       "Index(['No', 'Nr', 'weatherc', 'lightc', 'roadc', 'trafficv'], dtype='object')"
      ]
     },
     "execution_count": 32,
     "metadata": {},
     "output_type": "execute_result"
    }
   ],
   "source": [
    "dfbe.columns"
   ]
  },
  {
   "cell_type": "code",
   "execution_count": 16,
   "id": "ca65389b-fd95-4eca-87ff-e05c46e21233",
   "metadata": {
    "execution": {
     "iopub.execute_input": "2024-03-14T16:11:11.390466Z",
     "iopub.status.busy": "2024-03-14T16:11:11.390199Z",
     "iopub.status.idle": "2024-03-14T16:11:11.394690Z",
     "shell.execute_reply": "2024-03-14T16:11:11.394103Z",
     "shell.execute_reply.started": "2024-03-14T16:11:11.390449Z"
    }
   },
   "outputs": [
    {
     "data": {
      "text/plain": [
       "Index(['Nr.', 'Unfall-Nr.', 'Objekt-Nr.', 'Fahrzeugart',\n",
       "       'Blutalkohol-konzent. (‰)', 'Atemalkohol-konzent. (mg/l)',\n",
       "       'Personenart', 'Unfallfolgen', 'Anprall', 'Alter', 'Bemerkung'],\n",
       "      dtype='object')"
      ]
     },
     "execution_count": 16,
     "metadata": {},
     "output_type": "execute_result"
    }
   ],
   "source": [
    "dfop.columns"
   ]
  },
  {
   "cell_type": "code",
   "execution_count": 34,
   "id": "441a257e-c3c6-4b1f-a208-62b9cd30dcf4",
   "metadata": {
    "execution": {
     "iopub.execute_input": "2024-03-14T17:29:26.036629Z",
     "iopub.status.busy": "2024-03-14T17:29:26.036348Z",
     "iopub.status.idle": "2024-03-14T17:29:26.041273Z",
     "shell.execute_reply": "2024-03-14T17:29:26.040684Z",
     "shell.execute_reply.started": "2024-03-14T17:29:26.036609Z"
    }
   },
   "outputs": [],
   "source": [
    "dfop = dfop.rename(columns = {'Nr.':'No', \n",
    "                              'Unfall-Nr.':'Nr',\n",
    "                              'Objekt-Nr.':'object',  \n",
    "                              'Fahrzeugart':'vt', # vehicle type\n",
    "                              'Blutalkohol-konzent. (‰)': 'blal', # blood alcohol\n",
    "                              'Atemalkohol-konzent. (mg/l)':'bral', # breath alcohol\n",
    "                              'Personenart':'pt', # person type\n",
    "                              'Unfallfolgen':'aconsequence', # accident consequence\n",
    "                              'Anprall':'impact',\n",
    "                              'Alter':'age'\n",
    "                             })\n",
    "dfop = dfop.drop(['Bemerkung'], axis = 1)"
   ]
  },
  {
   "cell_type": "code",
   "execution_count": 17,
   "id": "0ceb3923-0bdc-4faa-a658-04f99c744e66",
   "metadata": {
    "execution": {
     "iopub.execute_input": "2024-03-14T16:11:18.592858Z",
     "iopub.status.busy": "2024-03-14T16:11:18.592587Z",
     "iopub.status.idle": "2024-03-14T16:11:18.596684Z",
     "shell.execute_reply": "2024-03-14T16:11:18.596123Z",
     "shell.execute_reply.started": "2024-03-14T16:11:18.592840Z"
    }
   },
   "outputs": [
    {
     "data": {
      "text/plain": [
       "Index(['Nr.', 'Unfall-Nr.', 'Kinder-unfall*', 'Kinderunfall auf dem Schulweg*',\n",
       "       'Senioren-unfall*', 'Anzahl Kinder', 'Anzahl Kinder auf dem Schulweg',\n",
       "       'Anzahl Senioren', 'Anzahl Fussgänger oder FäG', 'Anzahl Fahrräder',\n",
       "       'Anzahl Fahrräder mit elektr. Tretunterstützung bis 25km/h',\n",
       "       'Anzahl Fahrräder mit elektr. Tretunterstützung bis 45km/h** ',\n",
       "       'Bemerkung'],\n",
       "      dtype='object')"
      ]
     },
     "execution_count": 17,
     "metadata": {},
     "output_type": "execute_result"
    }
   ],
   "source": [
    "dfb1.columns"
   ]
  },
  {
   "cell_type": "code",
   "execution_count": 41,
   "id": "ea7c6e98-f788-4c5d-8025-0d954b8fa0fa",
   "metadata": {
    "execution": {
     "iopub.execute_input": "2024-03-14T17:42:02.719666Z",
     "iopub.status.busy": "2024-03-14T17:42:02.719382Z",
     "iopub.status.idle": "2024-03-14T17:42:02.726149Z",
     "shell.execute_reply": "2024-03-14T17:42:02.725465Z",
     "shell.execute_reply.started": "2024-03-14T17:42:02.719647Z"
    }
   },
   "outputs": [],
   "source": [
    "dfb1 = dfb1.rename(columns = {'Nr.':'No', \n",
    "                              'Unfall-Nr.':'Nr',\n",
    "                              'Kinder-unfall*':'childa', # children accident  \n",
    "                              'Kinderunfall auf dem Schulweg*':'childa_sch', # children accident way to school\n",
    "                              'Senioren-unfall*': 'seniora', # senor accident\n",
    "                              'Anzahl Kinder':'childn', # number of children \n",
    "                              'Anzahl Kinder auf dem Schulweg':'childn_sch', # number of children way to school \n",
    "                              'Anzahl Senioren':'seniorn', # number of senior \n",
    "                              'Anzahl Fussgänger oder FäG':'pen', # number of pedestrians \n",
    "                              'Anzahl Fahrräder':'bin', # number of bicycles \n",
    "                              'Anzahl Fahrräder mit elektr. Tretunterstützung bis 25km/h':'nb25', # number of e-bicycles with speed up to 25\n",
    "                              'Anzahl Fahrräder mit elektr. Tretunterstützung bis 45km/h** ':'nb45' # number of e-bicycles with speed up to 45\n",
    "                             })\n",
    "dfb1 = dfb1.drop(['Bemerkung'], axis = 1)"
   ]
  },
  {
   "cell_type": "code",
   "execution_count": 18,
   "id": "b571b1f2-86cd-4ce9-b775-e46bb4f2ee5a",
   "metadata": {
    "execution": {
     "iopub.execute_input": "2024-03-14T16:11:23.822773Z",
     "iopub.status.busy": "2024-03-14T16:11:23.822498Z",
     "iopub.status.idle": "2024-03-14T16:11:23.826784Z",
     "shell.execute_reply": "2024-03-14T16:11:23.826169Z",
     "shell.execute_reply.started": "2024-03-14T16:11:23.822754Z"
    }
   },
   "outputs": [
    {
     "data": {
      "text/plain": [
       "Index(['Nr.', 'Unfall-Nr.', 'Motor-fahrräder',\n",
       "       'Kleinmotorräder bis 50 cm3 und max. 4kW', 'Motorräder\\n', 'Lastwagen',\n",
       "       'Lieferwagen', 'Personen-wagen', 'Transport-mittel des ÖV',\n",
       "       'Andere Fahrzeuge', 'Bemerkung'],\n",
       "      dtype='object')"
      ]
     },
     "execution_count": 18,
     "metadata": {},
     "output_type": "execute_result"
    }
   ],
   "source": [
    "dfb2.columns"
   ]
  },
  {
   "cell_type": "code",
   "execution_count": 46,
   "id": "602bc88c-9236-4e0e-86fc-a0af3c25e3f6",
   "metadata": {
    "execution": {
     "iopub.execute_input": "2024-03-14T17:48:31.356452Z",
     "iopub.status.busy": "2024-03-14T17:48:31.356161Z",
     "iopub.status.idle": "2024-03-14T17:48:31.361378Z",
     "shell.execute_reply": "2024-03-14T17:48:31.360653Z",
     "shell.execute_reply.started": "2024-03-14T17:48:31.356432Z"
    }
   },
   "outputs": [],
   "source": [
    "dfb2 = dfb2.rename(columns = {'Nr.':'No', \n",
    "                              'Unfall-Nr.':'Nr',\n",
    "                              'Motor-fahrräder':'motorcycle', \n",
    "                              'Kleinmotorräder bis 50 cm3 und max. 4kW':'small_motorbike', \n",
    "                              'Motorräder\\n':'motorbike', \n",
    "                              'Lastwagen':'truck', \n",
    "                              'Lieferwagen':'van', \n",
    "                              'Personen-wagen':'passengercar', # passenger cars\n",
    "                              'Transport-mittel des ÖV':'ptvehicle', # public transport vehicle\n",
    "                              'Andere Fahrzeuge':'ovehicle' # other vehicle\n",
    "                             })\n",
    "dfb2 = dfb2.drop(['Bemerkung'], axis = 1)"
   ]
  },
  {
   "cell_type": "code",
   "execution_count": 49,
   "id": "38b07a80-6743-489a-9d50-fcaa4cf3b254",
   "metadata": {
    "execution": {
     "iopub.execute_input": "2024-03-14T17:51:53.084646Z",
     "iopub.status.busy": "2024-03-14T17:51:53.084182Z",
     "iopub.status.idle": "2024-03-14T17:51:53.107401Z",
     "shell.execute_reply": "2024-03-14T17:51:53.106930Z",
     "shell.execute_reply.started": "2024-03-14T17:51:53.084624Z"
    }
   },
   "outputs": [],
   "source": [
    "dfaa.to_csv('/home/yelhe/script/mt/dataraw/dfaa.csv', index = False)\n",
    "dfin.to_csv('/home/yelhe/script/mt/dataraw/dfin.csv', index = False)\n",
    "dfbe.to_csv('/home/yelhe/script/mt/dataraw/dfbe.csv', index = False)\n",
    "dfop.to_csv('/home/yelhe/script/mt/dataraw/dfop.csv', index = False)\n",
    "dfb1.to_csv('/home/yelhe/script/mt/dataraw/dfb1.csv', index = False)\n",
    "dfb2.to_csv('/home/yelhe/script/mt/dataraw/dfb2.csv', index = False)\n"
   ]
  },
  {
   "cell_type": "code",
   "execution_count": 59,
   "id": "415643c5-aabc-438b-b352-1f35d337a622",
   "metadata": {
    "execution": {
     "iopub.execute_input": "2024-03-14T17:53:35.897143Z",
     "iopub.status.busy": "2024-03-14T17:53:35.896866Z",
     "iopub.status.idle": "2024-03-14T17:53:35.900679Z",
     "shell.execute_reply": "2024-03-14T17:53:35.899988Z",
     "shell.execute_reply.started": "2024-03-14T17:53:35.897125Z"
    }
   },
   "outputs": [
    {
     "name": "stdout",
     "output_type": "stream",
     "text": [
      "(350, 16) (350, 8) (350, 6) (581, 10) (351, 12) (351, 10)\n"
     ]
    }
   ],
   "source": [
    "print(dfaa.shape, dfin.shape, dfbe.shape, dfop.shape, dfb1.shape, dfb2.shape)"
   ]
  },
  {
   "cell_type": "code",
   "execution_count": null,
   "id": "79a02daa-e816-4807-a568-a9ba22ea3853",
   "metadata": {},
   "outputs": [],
   "source": []
  },
  {
   "cell_type": "code",
   "execution_count": null,
   "id": "6e972d31-cc07-4774-ae46-36b6509e402d",
   "metadata": {},
   "outputs": [],
   "source": []
  },
  {
   "cell_type": "code",
   "execution_count": null,
   "id": "0d312065-3346-4993-b9b3-172e8b364716",
   "metadata": {},
   "outputs": [],
   "source": []
  },
  {
   "cell_type": "code",
   "execution_count": null,
   "id": "58b46431-4d8a-44d0-80f1-c16bdd4a6e3b",
   "metadata": {},
   "outputs": [],
   "source": []
  },
  {
   "cell_type": "code",
   "execution_count": null,
   "id": "491a7905-ded7-40a3-b674-f742141e017a",
   "metadata": {},
   "outputs": [],
   "source": []
  },
  {
   "cell_type": "markdown",
   "id": "a117cab0-978a-48c1-9747-eade6f4b7dc7",
   "metadata": {},
   "source": [
    "#### Preparation for regression model"
   ]
  },
  {
   "cell_type": "markdown",
   "id": "7751c2dc-786a-4a2c-9bd5-7c981df4e813",
   "metadata": {},
   "source": [
    "##### Distribution check"
   ]
  },
  {
   "cell_type": "code",
   "execution_count": 58,
   "id": "b46d5518-dab4-4896-a3f7-7aa74a012e35",
   "metadata": {
    "execution": {
     "iopub.execute_input": "2024-03-10T14:45:25.464510Z",
     "iopub.status.busy": "2024-03-10T14:45:25.464252Z",
     "iopub.status.idle": "2024-03-10T14:45:26.830301Z",
     "shell.execute_reply": "2024-03-10T14:45:26.829427Z",
     "shell.execute_reply.started": "2024-03-10T14:45:25.464490Z"
    }
   },
   "outputs": [],
   "source": []
  },
  {
   "cell_type": "code",
   "execution_count": 68,
   "id": "0c58499d-15d8-44ce-9c72-0a05bed24a44",
   "metadata": {
    "execution": {
     "iopub.execute_input": "2024-03-10T14:47:27.097108Z",
     "iopub.status.busy": "2024-03-10T14:47:27.096874Z",
     "iopub.status.idle": "2024-03-10T14:47:27.101114Z",
     "shell.execute_reply": "2024-03-10T14:47:27.100246Z",
     "shell.execute_reply.started": "2024-03-10T14:47:27.097092Z"
    }
   },
   "outputs": [
    {
     "name": "stdout",
     "output_type": "stream",
     "text": [
      "---  ----------------------  ----------------------  ----------------------  ----------------------\n",
      "     mew                     meg                     ie                      cn\n",
      "var  4.40727951207253e-09    9.085136206442949e-20   1.2845308127903771e-07  2.243297732859301e-42\n",
      "min  2.0773249104189035e-06  1.7123063677699816e-06  0.0015720596740620998   1.336316185102982e-101\n",
      "max  2.1456165459478802e-11  7.321700186197608e-29   1.049612113000862e-14   2.1158469778304915e-20\n",
      "---  ----------------------  ----------------------  ----------------------  ----------------------\n"
     ]
    }
   ],
   "source": [
    "print(tabulate(nt))"
   ]
  },
  {
   "cell_type": "markdown",
   "id": "ef916aa4-6965-4a8f-b807-fc65987425f1",
   "metadata": {},
   "source": [
    "#### Regression analysis"
   ]
  },
  {
   "cell_type": "markdown",
   "id": "53ca5533-798f-4cf9-904b-5362590e9f7d",
   "metadata": {},
   "source": [
    "##### Variables transformation"
   ]
  }
 ],
 "metadata": {
  "kernelspec": {
   "display_name": "Python 3 (ipykernel)",
   "language": "python",
   "name": "python3"
  },
  "language_info": {
   "codemirror_mode": {
    "name": "ipython",
    "version": 3
   },
   "file_extension": ".py",
   "mimetype": "text/x-python",
   "name": "python",
   "nbconvert_exporter": "python",
   "pygments_lexer": "ipython3",
   "version": "3.11.5"
  }
 },
 "nbformat": 4,
 "nbformat_minor": 5
}
