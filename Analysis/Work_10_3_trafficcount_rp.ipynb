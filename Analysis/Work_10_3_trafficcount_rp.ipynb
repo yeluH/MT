{
 "cells": [
  {
   "cell_type": "code",
   "execution_count": 1,
   "id": "7e9f75d8-3be9-45ef-b9ae-ad72fefb7ce1",
   "metadata": {
    "execution": {
     "iopub.execute_input": "2024-04-25T18:39:16.247082Z",
     "iopub.status.busy": "2024-04-25T18:39:16.246429Z",
     "iopub.status.idle": "2024-04-25T18:39:20.446255Z",
     "shell.execute_reply": "2024-04-25T18:39:20.445503Z",
     "shell.execute_reply.started": "2024-04-25T18:39:16.247057Z"
    }
   },
   "outputs": [],
   "source": [
    "import torch\n",
    "torch.cuda.empty_cache() "
   ]
  },
  {
   "cell_type": "code",
   "execution_count": 2,
   "id": "f3e5fa71-37bd-4efe-b8ee-ae3c362b2a1b",
   "metadata": {
    "execution": {
     "iopub.execute_input": "2024-04-25T18:39:20.448355Z",
     "iopub.status.busy": "2024-04-25T18:39:20.447941Z",
     "iopub.status.idle": "2024-04-25T18:39:20.858629Z",
     "shell.execute_reply": "2024-04-25T18:39:20.857890Z",
     "shell.execute_reply.started": "2024-04-25T18:39:20.448319Z"
    }
   },
   "outputs": [],
   "source": [
    "import os \n",
    "os.environ['MPLCONFIGDIR'] = os.getcwd() + \"/configs/\"\n",
    "import matplotlib\n",
    "from matplotlib import pyplot as plt\n",
    "import numpy as np\n",
    "import cv2\n",
    "import urllib.request\n",
    "from PIL import Image"
   ]
  },
  {
   "cell_type": "code",
   "execution_count": 3,
   "id": "132db61a-9aa6-4936-8ab4-054288d07d2e",
   "metadata": {
    "execution": {
     "iopub.execute_input": "2024-04-25T18:39:20.860190Z",
     "iopub.status.busy": "2024-04-25T18:39:20.859877Z",
     "iopub.status.idle": "2024-04-25T18:39:21.396597Z",
     "shell.execute_reply": "2024-04-25T18:39:21.395947Z",
     "shell.execute_reply.started": "2024-04-25T18:39:20.860162Z"
    }
   },
   "outputs": [],
   "source": [
    "import pandas as pd\n",
    "import pyproj"
   ]
  },
  {
   "cell_type": "code",
   "execution_count": 4,
   "id": "80d61825-dc8d-4005-9362-cf497e771695",
   "metadata": {
    "execution": {
     "iopub.execute_input": "2024-04-25T18:39:21.398798Z",
     "iopub.status.busy": "2024-04-25T18:39:21.398392Z",
     "iopub.status.idle": "2024-04-25T18:39:21.402281Z",
     "shell.execute_reply": "2024-04-25T18:39:21.401536Z",
     "shell.execute_reply.started": "2024-04-25T18:39:21.398766Z"
    }
   },
   "outputs": [],
   "source": [
    "import os \n",
    "os.environ['MPLCONFIGDIR'] = os.getcwd() + \"/configs/\"\n",
    "import matplotlib\n",
    "from matplotlib import pyplot as plt\n",
    "import numpy as np\n",
    "import cv2"
   ]
  },
  {
   "cell_type": "code",
   "execution_count": 5,
   "id": "e6000c92-6b7e-4ee5-9c30-ac0dfed91840",
   "metadata": {
    "execution": {
     "iopub.execute_input": "2024-04-25T18:39:21.403921Z",
     "iopub.status.busy": "2024-04-25T18:39:21.403416Z",
     "iopub.status.idle": "2024-04-25T18:39:21.413347Z",
     "shell.execute_reply": "2024-04-25T18:39:21.412547Z",
     "shell.execute_reply.started": "2024-04-25T18:39:21.403890Z"
    }
   },
   "outputs": [],
   "source": [
    "from pathlib import Path"
   ]
  },
  {
   "cell_type": "code",
   "execution_count": 6,
   "id": "59dfb1fc-7192-4ae1-9df9-596320cc4875",
   "metadata": {
    "execution": {
     "iopub.execute_input": "2024-04-25T18:39:21.414701Z",
     "iopub.status.busy": "2024-04-25T18:39:21.414433Z",
     "iopub.status.idle": "2024-04-25T18:39:21.441746Z",
     "shell.execute_reply": "2024-04-25T18:39:21.441052Z",
     "shell.execute_reply.started": "2024-04-25T18:39:21.414675Z"
    }
   },
   "outputs": [],
   "source": [
    "import joblib"
   ]
  },
  {
   "cell_type": "code",
   "execution_count": 7,
   "id": "923fac26-61e2-49dd-9099-e31ff4079430",
   "metadata": {
    "execution": {
     "iopub.execute_input": "2024-04-25T18:39:21.443179Z",
     "iopub.status.busy": "2024-04-25T18:39:21.442891Z",
     "iopub.status.idle": "2024-04-25T18:39:21.867862Z",
     "shell.execute_reply": "2024-04-25T18:39:21.867126Z",
     "shell.execute_reply.started": "2024-04-25T18:39:21.443154Z"
    }
   },
   "outputs": [],
   "source": [
    "from mt_function_yl import *"
   ]
  },
  {
   "cell_type": "code",
   "execution_count": 8,
   "id": "8376ffe7-7aec-4e11-9f86-32619931952f",
   "metadata": {
    "execution": {
     "iopub.execute_input": "2024-04-25T18:39:21.869202Z",
     "iopub.status.busy": "2024-04-25T18:39:21.868838Z",
     "iopub.status.idle": "2024-04-25T18:39:21.974028Z",
     "shell.execute_reply": "2024-04-25T18:39:21.973316Z",
     "shell.execute_reply.started": "2024-04-25T18:39:21.869178Z"
    }
   },
   "outputs": [],
   "source": [
    "import seaborn as sn"
   ]
  },
  {
   "cell_type": "code",
   "execution_count": 9,
   "id": "78c65919-07d0-4aba-a8dc-87298c4b96d6",
   "metadata": {
    "execution": {
     "iopub.execute_input": "2024-04-25T18:39:21.975425Z",
     "iopub.status.busy": "2024-04-25T18:39:21.974991Z",
     "iopub.status.idle": "2024-04-25T18:39:21.979509Z",
     "shell.execute_reply": "2024-04-25T18:39:21.978395Z",
     "shell.execute_reply.started": "2024-04-25T18:39:21.975397Z"
    }
   },
   "outputs": [],
   "source": [
    "from scipy import stats"
   ]
  },
  {
   "cell_type": "code",
   "execution_count": 10,
   "id": "37ca928e-82c3-4ae7-a6c6-3f18c1c233ba",
   "metadata": {
    "execution": {
     "iopub.execute_input": "2024-04-25T18:39:21.982270Z",
     "iopub.status.busy": "2024-04-25T18:39:21.981945Z",
     "iopub.status.idle": "2024-04-25T18:39:21.999095Z",
     "shell.execute_reply": "2024-04-25T18:39:21.998391Z",
     "shell.execute_reply.started": "2024-04-25T18:39:21.982236Z"
    }
   },
   "outputs": [],
   "source": [
    "from tabulate import tabulate"
   ]
  },
  {
   "cell_type": "code",
   "execution_count": 11,
   "id": "b46d5518-dab4-4896-a3f7-7aa74a012e35",
   "metadata": {
    "execution": {
     "iopub.execute_input": "2024-04-25T18:39:22.000496Z",
     "iopub.status.busy": "2024-04-25T18:39:22.000222Z",
     "iopub.status.idle": "2024-04-25T18:39:22.355917Z",
     "shell.execute_reply": "2024-04-25T18:39:22.353662Z",
     "shell.execute_reply.started": "2024-04-25T18:39:22.000472Z"
    }
   },
   "outputs": [],
   "source": [
    "import statsmodels.api as sm"
   ]
  },
  {
   "cell_type": "markdown",
   "id": "11486eff-60e0-460e-a14b-9a0ab0628a50",
   "metadata": {},
   "source": [
    "### Data loading"
   ]
  },
  {
   "cell_type": "code",
   "execution_count": 12,
   "id": "50d7158c-6c53-46da-91fb-0dd912c3d470",
   "metadata": {
    "execution": {
     "iopub.execute_input": "2024-04-25T18:40:24.585530Z",
     "iopub.status.busy": "2024-04-25T18:40:24.584570Z",
     "iopub.status.idle": "2024-04-25T18:40:24.706782Z",
     "shell.execute_reply": "2024-04-25T18:40:24.706115Z",
     "shell.execute_reply.started": "2024-04-25T18:40:24.585500Z"
    }
   },
   "outputs": [],
   "source": [
    "# Traffic Count bicycle\n",
    "btc19 = pd.read_csv('/home/yelhe/data/Traffic_network_variables/traffic_count/bicycle_traffic_count_2019.csv')\n",
    "btc20 = pd.read_csv('/home/yelhe/data/Traffic_network_variables/traffic_count/bicycle_traffic_count_2020.csv')\n",
    "btc21 = pd.read_csv('/home/yelhe/data/Traffic_network_variables/traffic_count/bicycle_traffic_count_2021.csv')\n",
    "# btc22\n",
    "btc22 = pd.read_csv('/home/yelhe/script/mt/output/bic_tc_2022_new.csv')\n",
    "\n",
    "# Traffic count car\n",
    "vtc19 = pd.read_csv('/home/yelhe/data/Traffic_network_variables/traffic_count/car_traffic_count_2019.csv')\n",
    "vtc20 = pd.read_csv('/home/yelhe/data/Traffic_network_variables/traffic_count/car_traffic_count_2020.csv')\n",
    "vtc21 = pd.read_csv('/home/yelhe/data/Traffic_network_variables/traffic_count/car_traffic_count_2021.csv')\n",
    "# vtc22\n",
    "vtc22 = pd.read_csv('/home/yelhe/script/mt/output/car_tc_2022.csv')"
   ]
  },
  {
   "cell_type": "code",
   "execution_count": 13,
   "id": "19c0ace8-48a0-42b2-a849-92ef09ece20e",
   "metadata": {
    "execution": {
     "iopub.execute_input": "2024-04-25T18:40:24.708393Z",
     "iopub.status.busy": "2024-04-25T18:40:24.708058Z",
     "iopub.status.idle": "2024-04-25T18:40:24.714421Z",
     "shell.execute_reply": "2024-04-25T18:40:24.713352Z",
     "shell.execute_reply.started": "2024-04-25T18:40:24.708365Z"
    }
   },
   "outputs": [],
   "source": [
    "btc22_0 = btc22.drop(['FK_STANDORT'], axis = 1)\n",
    "btc22_0 = btc22_0.rename(columns = {'velo':'bicycle_traffic_count',\n",
    "                                    'fk_zaehler':'FK_ZAEHLER'})"
   ]
  },
  {
   "cell_type": "code",
   "execution_count": 14,
   "id": "8eb0137f-8adf-489d-b263-5e2b735f793b",
   "metadata": {
    "execution": {
     "iopub.execute_input": "2024-04-25T18:40:25.022020Z",
     "iopub.status.busy": "2024-04-25T18:40:25.021540Z",
     "iopub.status.idle": "2024-04-25T18:40:25.029987Z",
     "shell.execute_reply": "2024-04-25T18:40:25.029089Z",
     "shell.execute_reply.started": "2024-04-25T18:40:25.021994Z"
    }
   },
   "outputs": [],
   "source": [
    "btc = pd.concat([btc19, btc20, btc21, btc22_0])\n",
    "# btc1921 = pd.concat([btc19, btc20, btc21])\n",
    "# vtc1921 = pd.concat([vtc19, vtc20, vtc21])"
   ]
  },
  {
   "cell_type": "code",
   "execution_count": 15,
   "id": "a0f4fdec-5d76-42d1-bcfa-016ce1e0d82b",
   "metadata": {
    "execution": {
     "iopub.execute_input": "2024-04-25T18:40:25.424835Z",
     "iopub.status.busy": "2024-04-25T18:40:25.424452Z",
     "iopub.status.idle": "2024-04-25T18:40:25.439533Z",
     "shell.execute_reply": "2024-04-25T18:40:25.438712Z",
     "shell.execute_reply.started": "2024-04-25T18:40:25.424812Z"
    }
   },
   "outputs": [
    {
     "name": "stdout",
     "output_type": "stream",
     "text": [
      "<class 'pandas.core.frame.DataFrame'>\n",
      "Index: 7946 entries, 0 to 2169\n",
      "Data columns (total 9 columns):\n",
      " #   Column                 Non-Null Count  Dtype  \n",
      "---  ------                 --------------  -----  \n",
      " 0   FK_ZAEHLER             7946 non-null   object \n",
      " 1   week                   7946 non-null   int64  \n",
      " 2   bicycle_traffic_count  7946 non-null   float64\n",
      " 3   month                  7946 non-null   int64  \n",
      " 4   date                   5776 non-null   object \n",
      " 5   year                   7946 non-null   int64  \n",
      " 6   OST                    5776 non-null   float64\n",
      " 7   NORD                   5776 non-null   float64\n",
      " 8   bicycle_traffic_norm   5776 non-null   float64\n",
      "dtypes: float64(4), int64(3), object(2)\n",
      "memory usage: 620.8+ KB\n"
     ]
    }
   ],
   "source": [
    "btc.info()"
   ]
  },
  {
   "cell_type": "code",
   "execution_count": 16,
   "id": "b8b5182d-bf0b-4458-895c-a529757e5aae",
   "metadata": {
    "execution": {
     "iopub.execute_input": "2024-04-25T18:40:31.034809Z",
     "iopub.status.busy": "2024-04-25T18:40:31.034156Z",
     "iopub.status.idle": "2024-04-25T18:40:31.039391Z",
     "shell.execute_reply": "2024-04-25T18:40:31.038550Z",
     "shell.execute_reply.started": "2024-04-25T18:40:31.034783Z"
    }
   },
   "outputs": [],
   "source": [
    "vtc22_0 = vtc22.rename(columns = {'AnzFahrzeuge':'car_traffic_count'})"
   ]
  },
  {
   "cell_type": "code",
   "execution_count": 17,
   "id": "f311cacc-3a35-4229-87fb-024bcf66fc3f",
   "metadata": {
    "execution": {
     "iopub.execute_input": "2024-04-25T18:40:31.259357Z",
     "iopub.status.busy": "2024-04-25T18:40:31.258864Z",
     "iopub.status.idle": "2024-04-25T18:40:31.269240Z",
     "shell.execute_reply": "2024-04-25T18:40:31.268214Z",
     "shell.execute_reply.started": "2024-04-25T18:40:31.259333Z"
    }
   },
   "outputs": [],
   "source": [
    "vtc = pd.concat([vtc19, vtc20, vtc21, vtc22_0])"
   ]
  },
  {
   "cell_type": "code",
   "execution_count": 18,
   "id": "a4160191-7bf3-47ae-a498-bbf495f33483",
   "metadata": {
    "execution": {
     "iopub.execute_input": "2024-04-25T18:40:31.691650Z",
     "iopub.status.busy": "2024-04-25T18:40:31.691014Z",
     "iopub.status.idle": "2024-04-25T18:40:31.707700Z",
     "shell.execute_reply": "2024-04-25T18:40:31.706815Z",
     "shell.execute_reply.started": "2024-04-25T18:40:31.691613Z"
    }
   },
   "outputs": [
    {
     "name": "stdout",
     "output_type": "stream",
     "text": [
      "<class 'pandas.core.frame.DataFrame'>\n",
      "Index: 40239 entries, 0 to 11465\n",
      "Data columns (total 9 columns):\n",
      " #   Column             Non-Null Count  Dtype  \n",
      "---  ------             --------------  -----  \n",
      " 0   MSID               40239 non-null  object \n",
      " 1   week               40239 non-null  int64  \n",
      " 2   car_traffic_count  40239 non-null  float64\n",
      " 3   month              40239 non-null  int64  \n",
      " 4   date               28773 non-null  object \n",
      " 5   year               40239 non-null  int64  \n",
      " 6   OST                28773 non-null  float64\n",
      " 7   NORD               28773 non-null  float64\n",
      " 8   car_traffic_norm   28773 non-null  float64\n",
      "dtypes: float64(4), int64(3), object(2)\n",
      "memory usage: 3.1+ MB\n"
     ]
    }
   ],
   "source": [
    "vtc.info()"
   ]
  },
  {
   "cell_type": "code",
   "execution_count": 72,
   "id": "0fb6f3b3-a98c-4bc3-a4a8-72f74e8ba37f",
   "metadata": {
    "execution": {
     "iopub.execute_input": "2024-04-25T01:40:49.888661Z",
     "iopub.status.busy": "2024-04-25T01:40:49.888373Z",
     "iopub.status.idle": "2024-04-25T01:40:49.930571Z",
     "shell.execute_reply": "2024-04-25T01:40:49.929852Z",
     "shell.execute_reply.started": "2024-04-25T01:40:49.888642Z"
    }
   },
   "outputs": [],
   "source": [
    "# ac_btc = atime.merge(btc, how = 'left', on = ['year', 'month', 'week'])\n",
    "# ac_vtc = atime.merge(vtc, how = 'left', on = ['year', 'month', 'week'])"
   ]
  },
  {
   "cell_type": "code",
   "execution_count": 19,
   "id": "4d6eab60-ae05-4c21-a586-6007e318e1c4",
   "metadata": {
    "execution": {
     "iopub.execute_input": "2024-04-25T18:40:50.951603Z",
     "iopub.status.busy": "2024-04-25T18:40:50.951226Z",
     "iopub.status.idle": "2024-04-25T18:40:50.987824Z",
     "shell.execute_reply": "2024-04-25T18:40:50.987050Z",
     "shell.execute_reply.started": "2024-04-25T18:40:50.951574Z"
    }
   },
   "outputs": [],
   "source": [
    "# Shortest distance file\n",
    "disb = pd.read_csv('/home/yelhe/data/Traffic_network_variables/rp_bicyclecount.csv') \n",
    "disv = pd.read_csv('/home/yelhe/data/Traffic_network_variables/rp_carcount.csv') "
   ]
  },
  {
   "cell_type": "code",
   "execution_count": 81,
   "id": "c5ec8120-72cd-423a-b4a0-12ab8a909fb4",
   "metadata": {
    "execution": {
     "iopub.execute_input": "2024-04-25T19:15:50.240113Z",
     "iopub.status.busy": "2024-04-25T19:15:50.239742Z",
     "iopub.status.idle": "2024-04-25T19:15:50.250470Z",
     "shell.execute_reply": "2024-04-25T19:15:50.249811Z",
     "shell.execute_reply.started": "2024-04-25T19:15:50.240091Z"
    }
   },
   "outputs": [],
   "source": [
    "raw = pd.read_csv('/home/yelhe/data/Traffic_network_variables/random_pseudo_new.csv')"
   ]
  },
  {
   "cell_type": "code",
   "execution_count": 82,
   "id": "a134db53-a96d-465b-90df-614b836874ad",
   "metadata": {
    "execution": {
     "iopub.execute_input": "2024-04-25T19:15:50.705449Z",
     "iopub.status.busy": "2024-04-25T19:15:50.705099Z",
     "iopub.status.idle": "2024-04-25T19:15:50.709850Z",
     "shell.execute_reply": "2024-04-25T19:15:50.709131Z",
     "shell.execute_reply.started": "2024-04-25T19:15:50.705429Z"
    }
   },
   "outputs": [],
   "source": [
    "raw = raw.reset_index()"
   ]
  },
  {
   "cell_type": "code",
   "execution_count": 85,
   "id": "655d9166-9e81-4980-9258-732bb1ba77c3",
   "metadata": {
    "execution": {
     "iopub.execute_input": "2024-04-25T19:16:03.813423Z",
     "iopub.status.busy": "2024-04-25T19:16:03.813071Z",
     "iopub.status.idle": "2024-04-25T19:16:03.817785Z",
     "shell.execute_reply": "2024-04-25T19:16:03.816944Z",
     "shell.execute_reply.started": "2024-04-25T19:16:03.813404Z"
    }
   },
   "outputs": [],
   "source": [
    "raw = raw[['rand_point', 'index']]"
   ]
  },
  {
   "cell_type": "code",
   "execution_count": 87,
   "id": "46c15ae4-8cf2-46a6-ab0a-f24ecc5e6c00",
   "metadata": {
    "execution": {
     "iopub.execute_input": "2024-04-25T19:16:48.819242Z",
     "iopub.status.busy": "2024-04-25T19:16:48.818893Z",
     "iopub.status.idle": "2024-04-25T19:16:48.823520Z",
     "shell.execute_reply": "2024-04-25T19:16:48.822717Z",
     "shell.execute_reply.started": "2024-04-25T19:16:48.819221Z"
    }
   },
   "outputs": [],
   "source": [
    "raw = raw.rename(columns = {'index':'id'})"
   ]
  },
  {
   "cell_type": "code",
   "execution_count": 181,
   "id": "37e5e127-cbdd-4f59-9b14-841ef754b7ef",
   "metadata": {
    "execution": {
     "iopub.execute_input": "2024-04-25T20:40:18.193779Z",
     "iopub.status.busy": "2024-04-25T20:40:18.193420Z",
     "iopub.status.idle": "2024-04-25T20:40:18.202311Z",
     "shell.execute_reply": "2024-04-25T20:40:18.201547Z",
     "shell.execute_reply.started": "2024-04-25T20:40:18.193750Z"
    }
   },
   "outputs": [],
   "source": [
    "raw.to_csv('/home/yelhe/data/Traffic_network_variables/idconversion.csv', index = False)"
   ]
  },
  {
   "cell_type": "code",
   "execution_count": 88,
   "id": "97ac703a-f7a2-4590-a288-25d74b921d66",
   "metadata": {
    "execution": {
     "iopub.execute_input": "2024-04-25T19:16:52.345144Z",
     "iopub.status.busy": "2024-04-25T19:16:52.344797Z",
     "iopub.status.idle": "2024-04-25T19:16:52.363886Z",
     "shell.execute_reply": "2024-04-25T19:16:52.363194Z",
     "shell.execute_reply.started": "2024-04-25T19:16:52.345123Z"
    }
   },
   "outputs": [],
   "source": [
    "rp_koord = pd.read_csv('/home/yelhe/script/mt/output/rp_koord.csv')"
   ]
  },
  {
   "cell_type": "code",
   "execution_count": 94,
   "id": "263305b1-f9a8-4f5b-b642-dbfa31e6d782",
   "metadata": {
    "execution": {
     "iopub.execute_input": "2024-04-25T19:18:40.948610Z",
     "iopub.status.busy": "2024-04-25T19:18:40.948263Z",
     "iopub.status.idle": "2024-04-25T19:18:40.959826Z",
     "shell.execute_reply": "2024-04-25T19:18:40.958989Z",
     "shell.execute_reply.started": "2024-04-25T19:18:40.948589Z"
    }
   },
   "outputs": [],
   "source": [
    "ranp = pd.read_csv('/home/yelhe/data/Traffic_network_variables/ran_pseudo_new_withgeo.csv')"
   ]
  },
  {
   "cell_type": "code",
   "execution_count": 95,
   "id": "6d8ad0e7-d01c-4f98-b456-51a66936bf61",
   "metadata": {
    "execution": {
     "iopub.execute_input": "2024-04-25T19:18:41.311220Z",
     "iopub.status.busy": "2024-04-25T19:18:41.310846Z",
     "iopub.status.idle": "2024-04-25T19:18:41.315957Z",
     "shell.execute_reply": "2024-04-25T19:18:41.315039Z",
     "shell.execute_reply.started": "2024-04-25T19:18:41.311199Z"
    }
   },
   "outputs": [],
   "source": [
    "ranp = ranp[['rand_point', 'x', 'y']]"
   ]
  },
  {
   "cell_type": "code",
   "execution_count": 96,
   "id": "f0171668-e034-4dc3-8257-3ce9e8b34df0",
   "metadata": {
    "execution": {
     "iopub.execute_input": "2024-04-25T19:18:58.322541Z",
     "iopub.status.busy": "2024-04-25T19:18:58.322181Z",
     "iopub.status.idle": "2024-04-25T19:18:58.349087Z",
     "shell.execute_reply": "2024-04-25T19:18:58.348426Z",
     "shell.execute_reply.started": "2024-04-25T19:18:58.322519Z"
    }
   },
   "outputs": [
    {
     "data": {
      "text/html": [
       "<div>\n",
       "<style scoped>\n",
       "    .dataframe tbody tr th:only-of-type {\n",
       "        vertical-align: middle;\n",
       "    }\n",
       "\n",
       "    .dataframe tbody tr th {\n",
       "        vertical-align: top;\n",
       "    }\n",
       "\n",
       "    .dataframe thead th {\n",
       "        text-align: right;\n",
       "    }\n",
       "</style>\n",
       "<table border=\"1\" class=\"dataframe\">\n",
       "  <thead>\n",
       "    <tr style=\"text-align: right;\">\n",
       "      <th></th>\n",
       "      <th>rand_point</th>\n",
       "      <th>xcoord</th>\n",
       "      <th>ycoord</th>\n",
       "      <th>lat</th>\n",
       "      <th>lon</th>\n",
       "    </tr>\n",
       "  </thead>\n",
       "  <tbody>\n",
       "    <tr>\n",
       "      <th>0</th>\n",
       "      <td>59</td>\n",
       "      <td>2.684201e+06</td>\n",
       "      <td>1.248218e+06</td>\n",
       "      <td>47.379413</td>\n",
       "      <td>8.553632</td>\n",
       "    </tr>\n",
       "    <tr>\n",
       "      <th>1</th>\n",
       "      <td>90</td>\n",
       "      <td>2.684170e+06</td>\n",
       "      <td>1.245414e+06</td>\n",
       "      <td>47.354203</td>\n",
       "      <td>8.552691</td>\n",
       "    </tr>\n",
       "    <tr>\n",
       "      <th>2</th>\n",
       "      <td>117</td>\n",
       "      <td>2.684125e+06</td>\n",
       "      <td>1.245559e+06</td>\n",
       "      <td>47.355511</td>\n",
       "      <td>8.552124</td>\n",
       "    </tr>\n",
       "    <tr>\n",
       "      <th>3</th>\n",
       "      <td>133</td>\n",
       "      <td>2.684705e+06</td>\n",
       "      <td>1.245080e+06</td>\n",
       "      <td>47.351133</td>\n",
       "      <td>8.559713</td>\n",
       "    </tr>\n",
       "    <tr>\n",
       "      <th>4</th>\n",
       "      <td>162</td>\n",
       "      <td>2.684119e+06</td>\n",
       "      <td>1.249244e+06</td>\n",
       "      <td>47.388656</td>\n",
       "      <td>8.552737</td>\n",
       "    </tr>\n",
       "  </tbody>\n",
       "</table>\n",
       "</div>"
      ],
      "text/plain": [
       "   rand_point        xcoord        ycoord        lat       lon\n",
       "0          59  2.684201e+06  1.248218e+06  47.379413  8.553632\n",
       "1          90  2.684170e+06  1.245414e+06  47.354203  8.552691\n",
       "2         117  2.684125e+06  1.245559e+06  47.355511  8.552124\n",
       "3         133  2.684705e+06  1.245080e+06  47.351133  8.559713\n",
       "4         162  2.684119e+06  1.249244e+06  47.388656  8.552737"
      ]
     },
     "execution_count": 96,
     "metadata": {},
     "output_type": "execute_result"
    }
   ],
   "source": [
    "ranp = ranp.rename(columns = {'x':'xcoord','y':'ycoord'})\n",
    "ranp = ranp.assign(lat = None, lon = None)\n",
    "transformer = pyproj.Transformer.from_crs(\"EPSG:2056\", \"EPSG:4326\")\n",
    "# a latitude; b longitude\n",
    "a, b = transformer.transform(ranp[['xcoord']], ranp[['ycoord']])\n",
    "# longitude 经度, latitude 纬度\n",
    "ranp = ranp.assign(lon = b, lat = a)\n",
    "ranp.head()"
   ]
  },
  {
   "cell_type": "code",
   "execution_count": 97,
   "id": "7a19a9bf-c243-4d42-9413-221f68a58d4f",
   "metadata": {
    "execution": {
     "iopub.execute_input": "2024-04-25T19:19:03.452450Z",
     "iopub.status.busy": "2024-04-25T19:19:03.452075Z",
     "iopub.status.idle": "2024-04-25T19:19:03.463292Z",
     "shell.execute_reply": "2024-04-25T19:19:03.462518Z",
     "shell.execute_reply.started": "2024-04-25T19:19:03.452429Z"
    }
   },
   "outputs": [],
   "source": [
    "df1 = pd.merge(raw, ranp, on = ['rand_point'])\n",
    "df2 = pd.merge(df1, rp_koord, on = ['id'])"
   ]
  },
  {
   "cell_type": "code",
   "execution_count": 100,
   "id": "38e784e2-9241-452a-b80b-ebfd585afcb3",
   "metadata": {
    "execution": {
     "iopub.execute_input": "2024-04-25T19:21:20.544261Z",
     "iopub.status.busy": "2024-04-25T19:21:20.543823Z",
     "iopub.status.idle": "2024-04-25T19:21:20.552854Z",
     "shell.execute_reply": "2024-04-25T19:21:20.552164Z",
     "shell.execute_reply.started": "2024-04-25T19:21:20.544236Z"
    }
   },
   "outputs": [
    {
     "data": {
      "text/html": [
       "<div>\n",
       "<style scoped>\n",
       "    .dataframe tbody tr th:only-of-type {\n",
       "        vertical-align: middle;\n",
       "    }\n",
       "\n",
       "    .dataframe tbody tr th {\n",
       "        vertical-align: top;\n",
       "    }\n",
       "\n",
       "    .dataframe thead th {\n",
       "        text-align: right;\n",
       "    }\n",
       "</style>\n",
       "<table border=\"1\" class=\"dataframe\">\n",
       "  <thead>\n",
       "    <tr style=\"text-align: right;\">\n",
       "      <th></th>\n",
       "      <th>rand_point</th>\n",
       "      <th>id</th>\n",
       "    </tr>\n",
       "  </thead>\n",
       "  <tbody>\n",
       "    <tr>\n",
       "      <th>0</th>\n",
       "      <td>59</td>\n",
       "      <td>0</td>\n",
       "    </tr>\n",
       "    <tr>\n",
       "      <th>1</th>\n",
       "      <td>90</td>\n",
       "      <td>1</td>\n",
       "    </tr>\n",
       "    <tr>\n",
       "      <th>2</th>\n",
       "      <td>117</td>\n",
       "      <td>2</td>\n",
       "    </tr>\n",
       "    <tr>\n",
       "      <th>3</th>\n",
       "      <td>133</td>\n",
       "      <td>3</td>\n",
       "    </tr>\n",
       "    <tr>\n",
       "      <th>4</th>\n",
       "      <td>162</td>\n",
       "      <td>4</td>\n",
       "    </tr>\n",
       "    <tr>\n",
       "      <th>...</th>\n",
       "      <td>...</td>\n",
       "      <td>...</td>\n",
       "    </tr>\n",
       "    <tr>\n",
       "      <th>990</th>\n",
       "      <td>16869</td>\n",
       "      <td>990</td>\n",
       "    </tr>\n",
       "    <tr>\n",
       "      <th>991</th>\n",
       "      <td>16871</td>\n",
       "      <td>991</td>\n",
       "    </tr>\n",
       "    <tr>\n",
       "      <th>992</th>\n",
       "      <td>16878</td>\n",
       "      <td>992</td>\n",
       "    </tr>\n",
       "    <tr>\n",
       "      <th>993</th>\n",
       "      <td>16906</td>\n",
       "      <td>993</td>\n",
       "    </tr>\n",
       "    <tr>\n",
       "      <th>994</th>\n",
       "      <td>16913</td>\n",
       "      <td>994</td>\n",
       "    </tr>\n",
       "  </tbody>\n",
       "</table>\n",
       "<p>995 rows × 2 columns</p>\n",
       "</div>"
      ],
      "text/plain": [
       "     rand_point   id\n",
       "0            59    0\n",
       "1            90    1\n",
       "2           117    2\n",
       "3           133    3\n",
       "4           162    4\n",
       "..          ...  ...\n",
       "990       16869  990\n",
       "991       16871  991\n",
       "992       16878  992\n",
       "993       16906  993\n",
       "994       16913  994\n",
       "\n",
       "[995 rows x 2 columns]"
      ]
     },
     "execution_count": 100,
     "metadata": {},
     "output_type": "execute_result"
    }
   ],
   "source": [
    "raw"
   ]
  },
  {
   "cell_type": "code",
   "execution_count": 104,
   "id": "9dd8f9e1-6224-467a-a3b4-d360f6b03ceb",
   "metadata": {
    "execution": {
     "iopub.execute_input": "2024-04-25T19:27:47.049615Z",
     "iopub.status.busy": "2024-04-25T19:27:47.049295Z",
     "iopub.status.idle": "2024-04-25T19:27:47.074803Z",
     "shell.execute_reply": "2024-04-25T19:27:47.074167Z",
     "shell.execute_reply.started": "2024-04-25T19:27:47.049593Z"
    }
   },
   "outputs": [],
   "source": [
    "# Shortest distance file\n",
    "disb = pd.read_csv('/home/yelhe/data/Traffic_network_variables/rp_bicyclecount.csv') \n",
    "disv = pd.read_csv('/home/yelhe/data/Traffic_network_variables/rp_carcount.csv') "
   ]
  },
  {
   "cell_type": "code",
   "execution_count": 106,
   "id": "9d0ff475-452c-422a-b9e6-97b173313a0f",
   "metadata": {
    "execution": {
     "iopub.execute_input": "2024-04-25T19:29:34.247972Z",
     "iopub.status.busy": "2024-04-25T19:29:34.247524Z",
     "iopub.status.idle": "2024-04-25T19:29:34.258270Z",
     "shell.execute_reply": "2024-04-25T19:29:34.257441Z",
     "shell.execute_reply.started": "2024-04-25T19:29:34.247947Z"
    }
   },
   "outputs": [],
   "source": [
    "disb = pd.merge(raw, disb, how = 'left', on = ['rand_point'])\n",
    "disv = pd.merge(raw, disv, how = 'left', on = ['rand_point'])"
   ]
  },
  {
   "cell_type": "code",
   "execution_count": 108,
   "id": "24fd08b9-7b70-4ec1-9c9d-5592edb581c3",
   "metadata": {
    "execution": {
     "iopub.execute_input": "2024-04-25T19:29:46.351362Z",
     "iopub.status.busy": "2024-04-25T19:29:46.350713Z",
     "iopub.status.idle": "2024-04-25T19:29:46.358139Z",
     "shell.execute_reply": "2024-04-25T19:29:46.357369Z",
     "shell.execute_reply.started": "2024-04-25T19:29:46.351328Z"
    }
   },
   "outputs": [],
   "source": [
    "disbu = disb[['id', 'fk_zaehler', 'distance']]\n",
    "disbu = disbu.drop_duplicates()"
   ]
  },
  {
   "cell_type": "code",
   "execution_count": 109,
   "id": "0a061dca-af6b-46fe-934b-0b0049bd9355",
   "metadata": {
    "execution": {
     "iopub.execute_input": "2024-04-25T19:29:46.654631Z",
     "iopub.status.busy": "2024-04-25T19:29:46.654293Z",
     "iopub.status.idle": "2024-04-25T19:29:46.664459Z",
     "shell.execute_reply": "2024-04-25T19:29:46.663711Z",
     "shell.execute_reply.started": "2024-04-25T19:29:46.654609Z"
    }
   },
   "outputs": [],
   "source": [
    "disvu = disv[['id', 'MSID', 'distance']]\n",
    "disvu = disvu.drop_duplicates()"
   ]
  },
  {
   "cell_type": "code",
   "execution_count": 132,
   "id": "29402114-6a62-4bd1-87b6-5845e607b392",
   "metadata": {
    "execution": {
     "iopub.execute_input": "2024-04-25T19:40:03.995537Z",
     "iopub.status.busy": "2024-04-25T19:40:03.994968Z",
     "iopub.status.idle": "2024-04-25T19:40:04.010445Z",
     "shell.execute_reply": "2024-04-25T19:40:04.009583Z",
     "shell.execute_reply.started": "2024-04-25T19:40:03.995510Z"
    }
   },
   "outputs": [
    {
     "data": {
      "text/html": [
       "<div>\n",
       "<style scoped>\n",
       "    .dataframe tbody tr th:only-of-type {\n",
       "        vertical-align: middle;\n",
       "    }\n",
       "\n",
       "    .dataframe tbody tr th {\n",
       "        vertical-align: top;\n",
       "    }\n",
       "\n",
       "    .dataframe thead th {\n",
       "        text-align: right;\n",
       "    }\n",
       "</style>\n",
       "<table border=\"1\" class=\"dataframe\">\n",
       "  <thead>\n",
       "    <tr style=\"text-align: right;\">\n",
       "      <th></th>\n",
       "      <th>MSID</th>\n",
       "      <th>week</th>\n",
       "      <th>car_traffic_count</th>\n",
       "      <th>month</th>\n",
       "      <th>date</th>\n",
       "      <th>year</th>\n",
       "      <th>OST</th>\n",
       "      <th>NORD</th>\n",
       "      <th>car_traffic_norm</th>\n",
       "    </tr>\n",
       "  </thead>\n",
       "  <tbody>\n",
       "    <tr>\n",
       "      <th>0</th>\n",
       "      <td>Z001M001</td>\n",
       "      <td>1</td>\n",
       "      <td>30246.0</td>\n",
       "      <td>1</td>\n",
       "      <td>2019-01-01</td>\n",
       "      <td>2019</td>\n",
       "      <td>2683009.89</td>\n",
       "      <td>1243936.2</td>\n",
       "      <td>-0.577408</td>\n",
       "    </tr>\n",
       "    <tr>\n",
       "      <th>1</th>\n",
       "      <td>Z001M001</td>\n",
       "      <td>2</td>\n",
       "      <td>42921.0</td>\n",
       "      <td>1</td>\n",
       "      <td>2019-01-08</td>\n",
       "      <td>2019</td>\n",
       "      <td>2683009.89</td>\n",
       "      <td>1243936.2</td>\n",
       "      <td>-0.255275</td>\n",
       "    </tr>\n",
       "    <tr>\n",
       "      <th>2</th>\n",
       "      <td>Z001M001</td>\n",
       "      <td>3</td>\n",
       "      <td>44804.0</td>\n",
       "      <td>1</td>\n",
       "      <td>2019-01-15</td>\n",
       "      <td>2019</td>\n",
       "      <td>2683009.89</td>\n",
       "      <td>1243936.2</td>\n",
       "      <td>-0.207419</td>\n",
       "    </tr>\n",
       "    <tr>\n",
       "      <th>3</th>\n",
       "      <td>Z001M001</td>\n",
       "      <td>4</td>\n",
       "      <td>44542.0</td>\n",
       "      <td>1</td>\n",
       "      <td>2019-01-22</td>\n",
       "      <td>2019</td>\n",
       "      <td>2683009.89</td>\n",
       "      <td>1243936.2</td>\n",
       "      <td>-0.214078</td>\n",
       "    </tr>\n",
       "    <tr>\n",
       "      <th>4</th>\n",
       "      <td>Z001M001</td>\n",
       "      <td>5</td>\n",
       "      <td>45872.0</td>\n",
       "      <td>1</td>\n",
       "      <td>2019-01-29</td>\n",
       "      <td>2019</td>\n",
       "      <td>2683009.89</td>\n",
       "      <td>1243936.2</td>\n",
       "      <td>-0.180276</td>\n",
       "    </tr>\n",
       "    <tr>\n",
       "      <th>...</th>\n",
       "      <td>...</td>\n",
       "      <td>...</td>\n",
       "      <td>...</td>\n",
       "      <td>...</td>\n",
       "      <td>...</td>\n",
       "      <td>...</td>\n",
       "      <td>...</td>\n",
       "      <td>...</td>\n",
       "      <td>...</td>\n",
       "    </tr>\n",
       "    <tr>\n",
       "      <th>11461</th>\n",
       "      <td>Z097M002</td>\n",
       "      <td>48</td>\n",
       "      <td>37068.0</td>\n",
       "      <td>12</td>\n",
       "      <td>NaN</td>\n",
       "      <td>2022</td>\n",
       "      <td>NaN</td>\n",
       "      <td>NaN</td>\n",
       "      <td>NaN</td>\n",
       "    </tr>\n",
       "    <tr>\n",
       "      <th>11462</th>\n",
       "      <td>Z097M002</td>\n",
       "      <td>49</td>\n",
       "      <td>65870.0</td>\n",
       "      <td>12</td>\n",
       "      <td>NaN</td>\n",
       "      <td>2022</td>\n",
       "      <td>NaN</td>\n",
       "      <td>NaN</td>\n",
       "      <td>NaN</td>\n",
       "    </tr>\n",
       "    <tr>\n",
       "      <th>11463</th>\n",
       "      <td>Z097M002</td>\n",
       "      <td>50</td>\n",
       "      <td>64623.0</td>\n",
       "      <td>12</td>\n",
       "      <td>NaN</td>\n",
       "      <td>2022</td>\n",
       "      <td>NaN</td>\n",
       "      <td>NaN</td>\n",
       "      <td>NaN</td>\n",
       "    </tr>\n",
       "    <tr>\n",
       "      <th>11464</th>\n",
       "      <td>Z097M002</td>\n",
       "      <td>51</td>\n",
       "      <td>60259.0</td>\n",
       "      <td>12</td>\n",
       "      <td>NaN</td>\n",
       "      <td>2022</td>\n",
       "      <td>NaN</td>\n",
       "      <td>NaN</td>\n",
       "      <td>NaN</td>\n",
       "    </tr>\n",
       "    <tr>\n",
       "      <th>11465</th>\n",
       "      <td>Z097M002</td>\n",
       "      <td>52</td>\n",
       "      <td>39254.0</td>\n",
       "      <td>12</td>\n",
       "      <td>NaN</td>\n",
       "      <td>2022</td>\n",
       "      <td>NaN</td>\n",
       "      <td>NaN</td>\n",
       "      <td>NaN</td>\n",
       "    </tr>\n",
       "  </tbody>\n",
       "</table>\n",
       "<p>40239 rows × 9 columns</p>\n",
       "</div>"
      ],
      "text/plain": [
       "           MSID  week  car_traffic_count  month        date  year         OST  \\\n",
       "0      Z001M001     1            30246.0      1  2019-01-01  2019  2683009.89   \n",
       "1      Z001M001     2            42921.0      1  2019-01-08  2019  2683009.89   \n",
       "2      Z001M001     3            44804.0      1  2019-01-15  2019  2683009.89   \n",
       "3      Z001M001     4            44542.0      1  2019-01-22  2019  2683009.89   \n",
       "4      Z001M001     5            45872.0      1  2019-01-29  2019  2683009.89   \n",
       "...         ...   ...                ...    ...         ...   ...         ...   \n",
       "11461  Z097M002    48            37068.0     12         NaN  2022         NaN   \n",
       "11462  Z097M002    49            65870.0     12         NaN  2022         NaN   \n",
       "11463  Z097M002    50            64623.0     12         NaN  2022         NaN   \n",
       "11464  Z097M002    51            60259.0     12         NaN  2022         NaN   \n",
       "11465  Z097M002    52            39254.0     12         NaN  2022         NaN   \n",
       "\n",
       "            NORD  car_traffic_norm  \n",
       "0      1243936.2         -0.577408  \n",
       "1      1243936.2         -0.255275  \n",
       "2      1243936.2         -0.207419  \n",
       "3      1243936.2         -0.214078  \n",
       "4      1243936.2         -0.180276  \n",
       "...          ...               ...  \n",
       "11461        NaN               NaN  \n",
       "11462        NaN               NaN  \n",
       "11463        NaN               NaN  \n",
       "11464        NaN               NaN  \n",
       "11465        NaN               NaN  \n",
       "\n",
       "[40239 rows x 9 columns]"
      ]
     },
     "execution_count": 132,
     "metadata": {},
     "output_type": "execute_result"
    }
   ],
   "source": [
    "vtc"
   ]
  },
  {
   "cell_type": "code",
   "execution_count": 111,
   "id": "e60fa865-d86f-452e-b576-6ea123954fc1",
   "metadata": {
    "execution": {
     "iopub.execute_input": "2024-04-25T19:30:24.653869Z",
     "iopub.status.busy": "2024-04-25T19:30:24.653521Z",
     "iopub.status.idle": "2024-04-25T19:30:24.657894Z",
     "shell.execute_reply": "2024-04-25T19:30:24.657208Z",
     "shell.execute_reply.started": "2024-04-25T19:30:24.653848Z"
    }
   },
   "outputs": [],
   "source": [
    "disbu = disbu.rename(columns = {'fk_zaehler': 'FK_ZAEHLER'})"
   ]
  },
  {
   "cell_type": "code",
   "execution_count": 151,
   "id": "0559252f-ee95-4774-a059-97af50c2e590",
   "metadata": {
    "execution": {
     "iopub.execute_input": "2024-04-25T19:46:52.193407Z",
     "iopub.status.busy": "2024-04-25T19:46:52.192786Z",
     "iopub.status.idle": "2024-04-25T19:46:52.198391Z",
     "shell.execute_reply": "2024-04-25T19:46:52.197206Z",
     "shell.execute_reply.started": "2024-04-25T19:46:52.193378Z"
    }
   },
   "outputs": [],
   "source": [
    "btcn = btc[['FK_ZAEHLER','bicycle_traffic_count']]"
   ]
  },
  {
   "cell_type": "code",
   "execution_count": 152,
   "id": "42210c1b-8252-4270-8624-25f96c482e77",
   "metadata": {
    "execution": {
     "iopub.execute_input": "2024-04-25T19:46:53.708319Z",
     "iopub.status.busy": "2024-04-25T19:46:53.707854Z",
     "iopub.status.idle": "2024-04-25T19:46:53.715268Z",
     "shell.execute_reply": "2024-04-25T19:46:53.714560Z",
     "shell.execute_reply.started": "2024-04-25T19:46:53.708294Z"
    }
   },
   "outputs": [],
   "source": [
    "btcn = btcn.dropna()\n",
    "btcn = btcn.loc[btcn['bicycle_traffic_count'] != 0]"
   ]
  },
  {
   "cell_type": "code",
   "execution_count": 154,
   "id": "e1cece0d-ab1c-46fc-8116-fbd6f594c7e7",
   "metadata": {
    "execution": {
     "iopub.execute_input": "2024-04-25T19:47:05.978898Z",
     "iopub.status.busy": "2024-04-25T19:47:05.978199Z",
     "iopub.status.idle": "2024-04-25T19:47:05.986293Z",
     "shell.execute_reply": "2024-04-25T19:47:05.985649Z",
     "shell.execute_reply.started": "2024-04-25T19:47:05.978869Z"
    }
   },
   "outputs": [],
   "source": [
    "btcm = btcn.groupby(['FK_ZAEHLER'])['bicycle_traffic_count'].mean().reset_index()"
   ]
  },
  {
   "cell_type": "code",
   "execution_count": 133,
   "id": "b49b9cb5-12f4-4bff-91b8-7cb019421bba",
   "metadata": {
    "execution": {
     "iopub.execute_input": "2024-04-25T19:41:21.339738Z",
     "iopub.status.busy": "2024-04-25T19:41:21.339242Z",
     "iopub.status.idle": "2024-04-25T19:41:21.350376Z",
     "shell.execute_reply": "2024-04-25T19:41:21.349563Z",
     "shell.execute_reply.started": "2024-04-25T19:41:21.339709Z"
    }
   },
   "outputs": [],
   "source": [
    "vtcn = vtc[['MSID','car_traffic_count']]\n",
    "vtcn = vtcn.dropna()\n",
    "vtcn = vtcn.loc[vtcn['car_traffic_count'] != 0]"
   ]
  },
  {
   "cell_type": "code",
   "execution_count": 135,
   "id": "166a6766-22be-44df-ae5b-960ca0fcce87",
   "metadata": {
    "execution": {
     "iopub.execute_input": "2024-04-25T19:41:33.425302Z",
     "iopub.status.busy": "2024-04-25T19:41:33.424836Z",
     "iopub.status.idle": "2024-04-25T19:41:33.434409Z",
     "shell.execute_reply": "2024-04-25T19:41:33.433610Z",
     "shell.execute_reply.started": "2024-04-25T19:41:33.425278Z"
    }
   },
   "outputs": [],
   "source": [
    "vtcm = vtcn.groupby(['MSID'])['car_traffic_count'].mean().reset_index()"
   ]
  },
  {
   "cell_type": "code",
   "execution_count": 157,
   "id": "53964ce2-7f9c-4577-a2f3-4f2c2bb3a30f",
   "metadata": {
    "execution": {
     "iopub.execute_input": "2024-04-25T19:48:45.610969Z",
     "iopub.status.busy": "2024-04-25T19:48:45.610366Z",
     "iopub.status.idle": "2024-04-25T19:48:45.621641Z",
     "shell.execute_reply": "2024-04-25T19:48:45.620818Z",
     "shell.execute_reply.started": "2024-04-25T19:48:45.610945Z"
    }
   },
   "outputs": [],
   "source": [
    "rp_bc = btcm.merge(disbu, how = 'left', on = ['FK_ZAEHLER'])\n",
    "rp_vc = vtcm.merge(disvu, how = 'left', on = ['MSID'])"
   ]
  },
  {
   "cell_type": "code",
   "execution_count": 160,
   "id": "ad85ecb0-fb4d-4996-be5a-95510ff82275",
   "metadata": {
    "execution": {
     "iopub.execute_input": "2024-04-25T19:50:14.082250Z",
     "iopub.status.busy": "2024-04-25T19:50:14.081984Z",
     "iopub.status.idle": "2024-04-25T19:50:14.088454Z",
     "shell.execute_reply": "2024-04-25T19:50:14.087611Z",
     "shell.execute_reply.started": "2024-04-25T19:50:14.082230Z"
    }
   },
   "outputs": [],
   "source": [
    "rp_bcr = rp_bc.dropna(subset = ['id'])"
   ]
  },
  {
   "cell_type": "code",
   "execution_count": 162,
   "id": "cf79a746-46fb-44bb-9563-c0ed583f16c0",
   "metadata": {
    "execution": {
     "iopub.execute_input": "2024-04-25T19:51:05.552888Z",
     "iopub.status.busy": "2024-04-25T19:51:05.552093Z",
     "iopub.status.idle": "2024-04-25T19:51:05.558499Z",
     "shell.execute_reply": "2024-04-25T19:51:05.557667Z",
     "shell.execute_reply.started": "2024-04-25T19:51:05.552854Z"
    }
   },
   "outputs": [],
   "source": [
    "rp_vcr = rp_vc.dropna(subset = ['id'])"
   ]
  },
  {
   "cell_type": "code",
   "execution_count": 174,
   "id": "dce70677-94e2-47c0-b7ef-582f1be37872",
   "metadata": {
    "execution": {
     "iopub.execute_input": "2024-04-25T20:09:41.214380Z",
     "iopub.status.busy": "2024-04-25T20:09:41.213926Z",
     "iopub.status.idle": "2024-04-25T20:09:41.219511Z",
     "shell.execute_reply": "2024-04-25T20:09:41.218844Z",
     "shell.execute_reply.started": "2024-04-25T20:09:41.214357Z"
    }
   },
   "outputs": [
    {
     "data": {
      "text/plain": [
       "932"
      ]
     },
     "execution_count": 174,
     "metadata": {},
     "output_type": "execute_result"
    }
   ],
   "source": [
    "len(rp_bcr['id'].unique())"
   ]
  },
  {
   "cell_type": "code",
   "execution_count": 163,
   "id": "89b1dabc-7099-4856-879e-85230a708545",
   "metadata": {
    "execution": {
     "iopub.execute_input": "2024-04-25T19:51:10.581411Z",
     "iopub.status.busy": "2024-04-25T19:51:10.581026Z",
     "iopub.status.idle": "2024-04-25T19:51:10.597185Z",
     "shell.execute_reply": "2024-04-25T19:51:10.596438Z",
     "shell.execute_reply.started": "2024-04-25T19:51:10.581389Z"
    }
   },
   "outputs": [
    {
     "data": {
      "text/html": [
       "<div>\n",
       "<style scoped>\n",
       "    .dataframe tbody tr th:only-of-type {\n",
       "        vertical-align: middle;\n",
       "    }\n",
       "\n",
       "    .dataframe tbody tr th {\n",
       "        vertical-align: top;\n",
       "    }\n",
       "\n",
       "    .dataframe thead th {\n",
       "        text-align: right;\n",
       "    }\n",
       "</style>\n",
       "<table border=\"1\" class=\"dataframe\">\n",
       "  <thead>\n",
       "    <tr style=\"text-align: right;\">\n",
       "      <th></th>\n",
       "      <th>MSID</th>\n",
       "      <th>car_traffic_count</th>\n",
       "      <th>id</th>\n",
       "      <th>distance</th>\n",
       "    </tr>\n",
       "  </thead>\n",
       "  <tbody>\n",
       "    <tr>\n",
       "      <th>0</th>\n",
       "      <td>Z001M001</td>\n",
       "      <td>44779.000000</td>\n",
       "      <td>538.0</td>\n",
       "      <td>407.922606</td>\n",
       "    </tr>\n",
       "    <tr>\n",
       "      <th>1</th>\n",
       "      <td>Z001M001</td>\n",
       "      <td>44779.000000</td>\n",
       "      <td>539.0</td>\n",
       "      <td>355.466381</td>\n",
       "    </tr>\n",
       "    <tr>\n",
       "      <th>2</th>\n",
       "      <td>Z001M001</td>\n",
       "      <td>44779.000000</td>\n",
       "      <td>571.0</td>\n",
       "      <td>704.535162</td>\n",
       "    </tr>\n",
       "    <tr>\n",
       "      <th>3</th>\n",
       "      <td>Z001M001</td>\n",
       "      <td>44779.000000</td>\n",
       "      <td>589.0</td>\n",
       "      <td>579.578427</td>\n",
       "    </tr>\n",
       "    <tr>\n",
       "      <th>4</th>\n",
       "      <td>Z001M001</td>\n",
       "      <td>44779.000000</td>\n",
       "      <td>590.0</td>\n",
       "      <td>184.857237</td>\n",
       "    </tr>\n",
       "    <tr>\n",
       "      <th>...</th>\n",
       "      <td>...</td>\n",
       "      <td>...</td>\n",
       "      <td>...</td>\n",
       "      <td>...</td>\n",
       "    </tr>\n",
       "    <tr>\n",
       "      <th>1022</th>\n",
       "      <td>Z096M004</td>\n",
       "      <td>17852.702857</td>\n",
       "      <td>72.0</td>\n",
       "      <td>779.892750</td>\n",
       "    </tr>\n",
       "    <tr>\n",
       "      <th>1023</th>\n",
       "      <td>Z096M004</td>\n",
       "      <td>17852.702857</td>\n",
       "      <td>74.0</td>\n",
       "      <td>715.152602</td>\n",
       "    </tr>\n",
       "    <tr>\n",
       "      <th>1024</th>\n",
       "      <td>Z096M004</td>\n",
       "      <td>17852.702857</td>\n",
       "      <td>124.0</td>\n",
       "      <td>594.261833</td>\n",
       "    </tr>\n",
       "    <tr>\n",
       "      <th>1026</th>\n",
       "      <td>Z097M002</td>\n",
       "      <td>60389.633484</td>\n",
       "      <td>293.0</td>\n",
       "      <td>222.848907</td>\n",
       "    </tr>\n",
       "    <tr>\n",
       "      <th>1027</th>\n",
       "      <td>Z097M002</td>\n",
       "      <td>60389.633484</td>\n",
       "      <td>296.0</td>\n",
       "      <td>108.296641</td>\n",
       "    </tr>\n",
       "  </tbody>\n",
       "</table>\n",
       "<p>1000 rows × 4 columns</p>\n",
       "</div>"
      ],
      "text/plain": [
       "          MSID  car_traffic_count     id    distance\n",
       "0     Z001M001       44779.000000  538.0  407.922606\n",
       "1     Z001M001       44779.000000  539.0  355.466381\n",
       "2     Z001M001       44779.000000  571.0  704.535162\n",
       "3     Z001M001       44779.000000  589.0  579.578427\n",
       "4     Z001M001       44779.000000  590.0  184.857237\n",
       "...        ...                ...    ...         ...\n",
       "1022  Z096M004       17852.702857   72.0  779.892750\n",
       "1023  Z096M004       17852.702857   74.0  715.152602\n",
       "1024  Z096M004       17852.702857  124.0  594.261833\n",
       "1026  Z097M002       60389.633484  293.0  222.848907\n",
       "1027  Z097M002       60389.633484  296.0  108.296641\n",
       "\n",
       "[1000 rows x 4 columns]"
      ]
     },
     "execution_count": 163,
     "metadata": {},
     "output_type": "execute_result"
    }
   ],
   "source": [
    "rp_vcr"
   ]
  },
  {
   "cell_type": "code",
   "execution_count": 140,
   "id": "e0decb97-8136-4c9d-93c5-ed29a2856676",
   "metadata": {
    "execution": {
     "iopub.execute_input": "2024-04-25T19:43:06.885082Z",
     "iopub.status.busy": "2024-04-25T19:43:06.884424Z",
     "iopub.status.idle": "2024-04-25T19:43:06.891018Z",
     "shell.execute_reply": "2024-04-25T19:43:06.890267Z",
     "shell.execute_reply.started": "2024-04-25T19:43:06.885039Z"
    }
   },
   "outputs": [
    {
     "name": "stdout",
     "output_type": "stream",
     "text": [
      "995 995 995 995\n"
     ]
    }
   ],
   "source": [
    "# print(len(rp_bc['id'].unique()), len(rp_vc['id'].unique()),\n",
    "#       len(disvu['id'].unique()),len(disbu['id'].unique()))"
   ]
  },
  {
   "cell_type": "code",
   "execution_count": 164,
   "id": "3c1750bf-1de3-4b28-8a27-6d8302e8f230",
   "metadata": {
    "execution": {
     "iopub.execute_input": "2024-04-25T19:51:22.447090Z",
     "iopub.status.busy": "2024-04-25T19:51:22.446530Z",
     "iopub.status.idle": "2024-04-25T19:51:22.473002Z",
     "shell.execute_reply": "2024-04-25T19:51:22.472291Z",
     "shell.execute_reply.started": "2024-04-25T19:51:22.447067Z"
    }
   },
   "outputs": [],
   "source": [
    "rp_bcr.to_csv('/home/yelhe/data/Traffic_network_variables/traffic_count/bicyclecount_rp.csv')\n",
    "rp_vcr.to_csv('/home/yelhe/data/Traffic_network_variables/traffic_count/carcount_rp.csv')"
   ]
  },
  {
   "cell_type": "code",
   "execution_count": 165,
   "id": "354db467-64e0-4234-b6ce-52e03f78bf7b",
   "metadata": {
    "execution": {
     "iopub.execute_input": "2024-04-25T20:07:21.276040Z",
     "iopub.status.busy": "2024-04-25T20:07:21.275402Z",
     "iopub.status.idle": "2024-04-25T20:07:21.283274Z",
     "shell.execute_reply": "2024-04-25T20:07:21.282504Z",
     "shell.execute_reply.started": "2024-04-25T20:07:21.276016Z"
    }
   },
   "outputs": [],
   "source": [
    "rp_bcrm = rp_bcr.groupby(['id', 'distance'])['bicycle_traffic_count'].mean().reset_index()"
   ]
  },
  {
   "cell_type": "code",
   "execution_count": 175,
   "id": "45749e58-6824-4323-83eb-e09cc8e2994c",
   "metadata": {
    "execution": {
     "iopub.execute_input": "2024-04-25T20:10:09.906422Z",
     "iopub.status.busy": "2024-04-25T20:10:09.905557Z",
     "iopub.status.idle": "2024-04-25T20:10:09.913086Z",
     "shell.execute_reply": "2024-04-25T20:10:09.912247Z",
     "shell.execute_reply.started": "2024-04-25T20:10:09.906389Z"
    }
   },
   "outputs": [],
   "source": [
    "rp_vcrm = rp_vcr.groupby(['id', 'distance'])['car_traffic_count'].mean().reset_index()"
   ]
  },
  {
   "cell_type": "code",
   "execution_count": 178,
   "id": "2d54673c-37bc-4267-ab24-92f2ee45be3f",
   "metadata": {
    "execution": {
     "iopub.execute_input": "2024-04-25T20:11:09.377912Z",
     "iopub.status.busy": "2024-04-25T20:11:09.377315Z",
     "iopub.status.idle": "2024-04-25T20:11:09.406991Z",
     "shell.execute_reply": "2024-04-25T20:11:09.406119Z",
     "shell.execute_reply.started": "2024-04-25T20:11:09.377883Z"
    }
   },
   "outputs": [],
   "source": [
    "rp_bcrm.to_csv('/home/yelhe/data/Traffic_network_variables/traffic_count/bicyclecountm_rp.csv')\n",
    "rp_vcrm.to_csv('/home/yelhe/data/Traffic_network_variables/traffic_count/carcountm_rp.csv')"
   ]
  }
 ],
 "metadata": {
  "kernelspec": {
   "display_name": "Python 3 (ipykernel)",
   "language": "python",
   "name": "python3"
  },
  "language_info": {
   "codemirror_mode": {
    "name": "ipython",
    "version": 3
   },
   "file_extension": ".py",
   "mimetype": "text/x-python",
   "name": "python",
   "nbconvert_exporter": "python",
   "pygments_lexer": "ipython3",
   "version": "3.11.5"
  }
 },
 "nbformat": 4,
 "nbformat_minor": 5
}
