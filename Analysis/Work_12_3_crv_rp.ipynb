{
 "cells": [
  {
   "cell_type": "code",
   "execution_count": 30,
   "id": "7e9f75d8-3be9-45ef-b9ae-ad72fefb7ce1",
   "metadata": {
    "execution": {
     "iopub.execute_input": "2024-04-24T17:43:25.816558Z",
     "iopub.status.busy": "2024-04-24T17:43:25.816117Z",
     "iopub.status.idle": "2024-04-24T17:43:27.528855Z",
     "shell.execute_reply": "2024-04-24T17:43:27.528169Z",
     "shell.execute_reply.started": "2024-04-24T17:43:25.816535Z"
    }
   },
   "outputs": [],
   "source": [
    "import torch\n",
    "torch.cuda.empty_cache() "
   ]
  },
  {
   "cell_type": "code",
   "execution_count": 31,
   "id": "f3e5fa71-37bd-4efe-b8ee-ae3c362b2a1b",
   "metadata": {
    "execution": {
     "iopub.execute_input": "2024-04-24T17:43:27.530784Z",
     "iopub.status.busy": "2024-04-24T17:43:27.530302Z",
     "iopub.status.idle": "2024-04-24T17:43:27.534952Z",
     "shell.execute_reply": "2024-04-24T17:43:27.534248Z",
     "shell.execute_reply.started": "2024-04-24T17:43:27.530751Z"
    }
   },
   "outputs": [],
   "source": [
    "import os \n",
    "os.environ['MPLCONFIGDIR'] = os.getcwd() + \"/configs/\"\n",
    "import matplotlib\n",
    "from matplotlib import pyplot as plt\n",
    "import numpy as np\n",
    "import cv2\n",
    "import urllib.request\n",
    "from PIL import Image"
   ]
  },
  {
   "cell_type": "code",
   "execution_count": 32,
   "id": "132db61a-9aa6-4936-8ab4-054288d07d2e",
   "metadata": {
    "execution": {
     "iopub.execute_input": "2024-04-24T17:43:27.536366Z",
     "iopub.status.busy": "2024-04-24T17:43:27.536104Z",
     "iopub.status.idle": "2024-04-24T17:43:27.546300Z",
     "shell.execute_reply": "2024-04-24T17:43:27.545678Z",
     "shell.execute_reply.started": "2024-04-24T17:43:27.536340Z"
    }
   },
   "outputs": [],
   "source": [
    "import pandas as pd\n",
    "import pyproj"
   ]
  },
  {
   "cell_type": "code",
   "execution_count": 33,
   "id": "80d61825-dc8d-4005-9362-cf497e771695",
   "metadata": {
    "execution": {
     "iopub.execute_input": "2024-04-24T17:43:27.548362Z",
     "iopub.status.busy": "2024-04-24T17:43:27.548081Z",
     "iopub.status.idle": "2024-04-24T17:43:27.555823Z",
     "shell.execute_reply": "2024-04-24T17:43:27.555160Z",
     "shell.execute_reply.started": "2024-04-24T17:43:27.548336Z"
    }
   },
   "outputs": [],
   "source": [
    "import os \n",
    "os.environ['MPLCONFIGDIR'] = os.getcwd() + \"/configs/\"\n",
    "import matplotlib\n",
    "from matplotlib import pyplot as plt\n",
    "import numpy as np\n",
    "import cv2"
   ]
  },
  {
   "cell_type": "code",
   "execution_count": 34,
   "id": "e6000c92-6b7e-4ee5-9c30-ac0dfed91840",
   "metadata": {
    "execution": {
     "iopub.execute_input": "2024-04-24T17:43:27.557476Z",
     "iopub.status.busy": "2024-04-24T17:43:27.556961Z",
     "iopub.status.idle": "2024-04-24T17:43:27.564333Z",
     "shell.execute_reply": "2024-04-24T17:43:27.563658Z",
     "shell.execute_reply.started": "2024-04-24T17:43:27.557447Z"
    }
   },
   "outputs": [],
   "source": [
    "from pathlib import Path"
   ]
  },
  {
   "cell_type": "code",
   "execution_count": 35,
   "id": "59dfb1fc-7192-4ae1-9df9-596320cc4875",
   "metadata": {
    "execution": {
     "iopub.execute_input": "2024-04-24T17:43:27.565728Z",
     "iopub.status.busy": "2024-04-24T17:43:27.565435Z",
     "iopub.status.idle": "2024-04-24T17:43:27.572911Z",
     "shell.execute_reply": "2024-04-24T17:43:27.572245Z",
     "shell.execute_reply.started": "2024-04-24T17:43:27.565701Z"
    }
   },
   "outputs": [],
   "source": [
    "import joblib"
   ]
  },
  {
   "cell_type": "code",
   "execution_count": 36,
   "id": "923fac26-61e2-49dd-9099-e31ff4079430",
   "metadata": {
    "execution": {
     "iopub.execute_input": "2024-04-24T17:43:27.574281Z",
     "iopub.status.busy": "2024-04-24T17:43:27.574002Z",
     "iopub.status.idle": "2024-04-24T17:43:27.580813Z",
     "shell.execute_reply": "2024-04-24T17:43:27.580207Z",
     "shell.execute_reply.started": "2024-04-24T17:43:27.574254Z"
    }
   },
   "outputs": [],
   "source": [
    "from mt_function_yl import *"
   ]
  },
  {
   "cell_type": "code",
   "execution_count": 37,
   "id": "8376ffe7-7aec-4e11-9f86-32619931952f",
   "metadata": {
    "execution": {
     "iopub.execute_input": "2024-04-24T17:43:27.582168Z",
     "iopub.status.busy": "2024-04-24T17:43:27.581890Z",
     "iopub.status.idle": "2024-04-24T17:43:27.589669Z",
     "shell.execute_reply": "2024-04-24T17:43:27.589039Z",
     "shell.execute_reply.started": "2024-04-24T17:43:27.582141Z"
    }
   },
   "outputs": [],
   "source": [
    "import seaborn as sn"
   ]
  },
  {
   "cell_type": "markdown",
   "id": "11486eff-60e0-460e-a14b-9a0ab0628a50",
   "metadata": {},
   "source": [
    "### Data loading"
   ]
  },
  {
   "cell_type": "code",
   "execution_count": 38,
   "id": "f89f329b-62a5-48b2-9ea4-451014aad9e3",
   "metadata": {
    "execution": {
     "iopub.execute_input": "2024-04-24T17:43:30.216380Z",
     "iopub.status.busy": "2024-04-24T17:43:30.215963Z",
     "iopub.status.idle": "2024-04-24T17:43:30.225279Z",
     "shell.execute_reply": "2024-04-24T17:43:30.224540Z",
     "shell.execute_reply.started": "2024-04-24T17:43:30.216359Z"
    }
   },
   "outputs": [],
   "source": [
    "# Curb extraction data\n",
    "predc_r = pd.read_csv('/home/yelhe/script/mt/output/pseudo_predictedcurball.csv')"
   ]
  },
  {
   "cell_type": "code",
   "execution_count": 39,
   "id": "77d2e165-4083-4e83-8b50-ae24632930c2",
   "metadata": {
    "execution": {
     "iopub.execute_input": "2024-04-24T17:43:30.593983Z",
     "iopub.status.busy": "2024-04-24T17:43:30.593581Z",
     "iopub.status.idle": "2024-04-24T17:43:30.607564Z",
     "shell.execute_reply": "2024-04-24T17:43:30.606931Z",
     "shell.execute_reply.started": "2024-04-24T17:43:30.593957Z"
    }
   },
   "outputs": [],
   "source": [
    "dfen_r = pd.read_csv('/home/yelhe/script/mt/output/pseudo_entropy_sum_new.csv')"
   ]
  },
  {
   "cell_type": "code",
   "execution_count": 40,
   "id": "efaf41fe-b254-4bbc-b035-d0580dd48841",
   "metadata": {
    "execution": {
     "iopub.execute_input": "2024-04-24T17:43:31.354645Z",
     "iopub.status.busy": "2024-04-24T17:43:31.354051Z",
     "iopub.status.idle": "2024-04-24T17:43:31.360797Z",
     "shell.execute_reply": "2024-04-24T17:43:31.360084Z",
     "shell.execute_reply.started": "2024-04-24T17:43:31.354617Z"
    }
   },
   "outputs": [],
   "source": [
    "dfenm = dfen_r.groupby('id', as_index = True)[['mew','meg','ie']].mean()\n"
   ]
  },
  {
   "cell_type": "code",
   "execution_count": 41,
   "id": "795baffe-bb5e-47a1-af83-e24f59c2121e",
   "metadata": {
    "execution": {
     "iopub.execute_input": "2024-04-24T17:43:31.791389Z",
     "iopub.status.busy": "2024-04-24T17:43:31.791028Z",
     "iopub.status.idle": "2024-04-24T17:43:31.795404Z",
     "shell.execute_reply": "2024-04-24T17:43:31.794788Z",
     "shell.execute_reply.started": "2024-04-24T17:43:31.791368Z"
    }
   },
   "outputs": [],
   "source": [
    "dfenm = dfenm.reset_index()"
   ]
  },
  {
   "cell_type": "code",
   "execution_count": 42,
   "id": "0b6eb7aa-4ccb-419a-97cb-ebbc03138575",
   "metadata": {
    "execution": {
     "iopub.execute_input": "2024-04-24T17:43:33.259739Z",
     "iopub.status.busy": "2024-04-24T17:43:33.259403Z",
     "iopub.status.idle": "2024-04-24T17:43:33.266433Z",
     "shell.execute_reply": "2024-04-24T17:43:33.265781Z",
     "shell.execute_reply.started": "2024-04-24T17:43:33.259718Z"
    }
   },
   "outputs": [],
   "source": [
    "dfc = pd.merge(dfenm, predc_r, on = ['id'])"
   ]
  },
  {
   "cell_type": "code",
   "execution_count": 43,
   "id": "1416a2a6-b13a-4534-82e8-4ecb2f91c29d",
   "metadata": {
    "execution": {
     "iopub.execute_input": "2024-04-24T17:43:33.548960Z",
     "iopub.status.busy": "2024-04-24T17:43:33.548591Z",
     "iopub.status.idle": "2024-04-24T17:43:33.552860Z",
     "shell.execute_reply": "2024-04-24T17:43:33.552162Z",
     "shell.execute_reply.started": "2024-04-24T17:43:33.548937Z"
    }
   },
   "outputs": [],
   "source": [
    "dfc.rename(columns = {'sum':'cn'}, inplace = True)"
   ]
  },
  {
   "cell_type": "code",
   "execution_count": 44,
   "id": "f978e375-54cc-4bc9-b05c-f11671127fcc",
   "metadata": {
    "execution": {
     "iopub.execute_input": "2024-04-24T17:43:34.253388Z",
     "iopub.status.busy": "2024-04-24T17:43:34.253011Z",
     "iopub.status.idle": "2024-04-24T17:43:34.269949Z",
     "shell.execute_reply": "2024-04-24T17:43:34.269124Z",
     "shell.execute_reply.started": "2024-04-24T17:43:34.253364Z"
    }
   },
   "outputs": [
    {
     "data": {
      "text/html": [
       "<div>\n",
       "<style scoped>\n",
       "    .dataframe tbody tr th:only-of-type {\n",
       "        vertical-align: middle;\n",
       "    }\n",
       "\n",
       "    .dataframe tbody tr th {\n",
       "        vertical-align: top;\n",
       "    }\n",
       "\n",
       "    .dataframe thead th {\n",
       "        text-align: right;\n",
       "    }\n",
       "</style>\n",
       "<table border=\"1\" class=\"dataframe\">\n",
       "  <thead>\n",
       "    <tr style=\"text-align: right;\">\n",
       "      <th></th>\n",
       "      <th>id</th>\n",
       "      <th>mew</th>\n",
       "      <th>meg</th>\n",
       "      <th>ie</th>\n",
       "      <th>cmean</th>\n",
       "      <th>cmin</th>\n",
       "      <th>csum</th>\n",
       "      <th>cmax</th>\n",
       "    </tr>\n",
       "  </thead>\n",
       "  <tbody>\n",
       "    <tr>\n",
       "      <th>0</th>\n",
       "      <td>2</td>\n",
       "      <td>1.326962</td>\n",
       "      <td>1.386361</td>\n",
       "      <td>4.714906</td>\n",
       "      <td>0.25</td>\n",
       "      <td>0.0</td>\n",
       "      <td>1.0</td>\n",
       "      <td>1.0</td>\n",
       "    </tr>\n",
       "    <tr>\n",
       "      <th>1</th>\n",
       "      <td>3</td>\n",
       "      <td>1.519553</td>\n",
       "      <td>1.369183</td>\n",
       "      <td>4.365756</td>\n",
       "      <td>1.25</td>\n",
       "      <td>0.0</td>\n",
       "      <td>5.0</td>\n",
       "      <td>3.0</td>\n",
       "    </tr>\n",
       "    <tr>\n",
       "      <th>2</th>\n",
       "      <td>4</td>\n",
       "      <td>1.229940</td>\n",
       "      <td>1.003761</td>\n",
       "      <td>4.745339</td>\n",
       "      <td>0.00</td>\n",
       "      <td>0.0</td>\n",
       "      <td>0.0</td>\n",
       "      <td>0.0</td>\n",
       "    </tr>\n",
       "    <tr>\n",
       "      <th>3</th>\n",
       "      <td>5</td>\n",
       "      <td>1.213585</td>\n",
       "      <td>1.029362</td>\n",
       "      <td>4.446029</td>\n",
       "      <td>0.00</td>\n",
       "      <td>0.0</td>\n",
       "      <td>0.0</td>\n",
       "      <td>0.0</td>\n",
       "    </tr>\n",
       "    <tr>\n",
       "      <th>4</th>\n",
       "      <td>6</td>\n",
       "      <td>1.234302</td>\n",
       "      <td>1.358389</td>\n",
       "      <td>4.474862</td>\n",
       "      <td>0.50</td>\n",
       "      <td>0.0</td>\n",
       "      <td>2.0</td>\n",
       "      <td>1.0</td>\n",
       "    </tr>\n",
       "    <tr>\n",
       "      <th>...</th>\n",
       "      <td>...</td>\n",
       "      <td>...</td>\n",
       "      <td>...</td>\n",
       "      <td>...</td>\n",
       "      <td>...</td>\n",
       "      <td>...</td>\n",
       "      <td>...</td>\n",
       "      <td>...</td>\n",
       "    </tr>\n",
       "    <tr>\n",
       "      <th>787</th>\n",
       "      <td>990</td>\n",
       "      <td>1.227967</td>\n",
       "      <td>1.215612</td>\n",
       "      <td>4.689567</td>\n",
       "      <td>0.50</td>\n",
       "      <td>0.0</td>\n",
       "      <td>2.0</td>\n",
       "      <td>1.0</td>\n",
       "    </tr>\n",
       "    <tr>\n",
       "      <th>788</th>\n",
       "      <td>991</td>\n",
       "      <td>1.000848</td>\n",
       "      <td>1.276357</td>\n",
       "      <td>4.753523</td>\n",
       "      <td>0.00</td>\n",
       "      <td>0.0</td>\n",
       "      <td>0.0</td>\n",
       "      <td>0.0</td>\n",
       "    </tr>\n",
       "    <tr>\n",
       "      <th>789</th>\n",
       "      <td>992</td>\n",
       "      <td>1.178556</td>\n",
       "      <td>1.212701</td>\n",
       "      <td>4.285007</td>\n",
       "      <td>0.25</td>\n",
       "      <td>0.0</td>\n",
       "      <td>1.0</td>\n",
       "      <td>1.0</td>\n",
       "    </tr>\n",
       "    <tr>\n",
       "      <th>790</th>\n",
       "      <td>993</td>\n",
       "      <td>0.971273</td>\n",
       "      <td>0.743270</td>\n",
       "      <td>4.568628</td>\n",
       "      <td>0.00</td>\n",
       "      <td>0.0</td>\n",
       "      <td>0.0</td>\n",
       "      <td>0.0</td>\n",
       "    </tr>\n",
       "    <tr>\n",
       "      <th>791</th>\n",
       "      <td>994</td>\n",
       "      <td>0.929629</td>\n",
       "      <td>0.332415</td>\n",
       "      <td>4.481292</td>\n",
       "      <td>0.00</td>\n",
       "      <td>0.0</td>\n",
       "      <td>0.0</td>\n",
       "      <td>0.0</td>\n",
       "    </tr>\n",
       "  </tbody>\n",
       "</table>\n",
       "<p>792 rows × 8 columns</p>\n",
       "</div>"
      ],
      "text/plain": [
       "      id       mew       meg        ie  cmean  cmin  csum  cmax\n",
       "0      2  1.326962  1.386361  4.714906   0.25   0.0   1.0   1.0\n",
       "1      3  1.519553  1.369183  4.365756   1.25   0.0   5.0   3.0\n",
       "2      4  1.229940  1.003761  4.745339   0.00   0.0   0.0   0.0\n",
       "3      5  1.213585  1.029362  4.446029   0.00   0.0   0.0   0.0\n",
       "4      6  1.234302  1.358389  4.474862   0.50   0.0   2.0   1.0\n",
       "..   ...       ...       ...       ...    ...   ...   ...   ...\n",
       "787  990  1.227967  1.215612  4.689567   0.50   0.0   2.0   1.0\n",
       "788  991  1.000848  1.276357  4.753523   0.00   0.0   0.0   0.0\n",
       "789  992  1.178556  1.212701  4.285007   0.25   0.0   1.0   1.0\n",
       "790  993  0.971273  0.743270  4.568628   0.00   0.0   0.0   0.0\n",
       "791  994  0.929629  0.332415  4.481292   0.00   0.0   0.0   0.0\n",
       "\n",
       "[792 rows x 8 columns]"
      ]
     },
     "execution_count": 44,
     "metadata": {},
     "output_type": "execute_result"
    }
   ],
   "source": [
    "dfc"
   ]
  },
  {
   "cell_type": "code",
   "execution_count": 45,
   "id": "71ecdf71-0486-4e7f-9e90-5d2bbf1034bf",
   "metadata": {
    "execution": {
     "iopub.execute_input": "2024-04-24T17:43:36.399964Z",
     "iopub.status.busy": "2024-04-24T17:43:36.399554Z",
     "iopub.status.idle": "2024-04-24T17:43:36.406629Z",
     "shell.execute_reply": "2024-04-24T17:43:36.405846Z",
     "shell.execute_reply.started": "2024-04-24T17:43:36.399940Z"
    }
   },
   "outputs": [],
   "source": [
    "dfenmin = dfen_r.groupby('id', as_index = True)[['mew','meg','ie']].min()\n",
    "dfenmin.rename(columns = {'mew':'mewmin', 'meg':'megmin', 'ie':'iemin'}, inplace = True)"
   ]
  },
  {
   "cell_type": "code",
   "execution_count": 46,
   "id": "133d70ba-b547-4e96-a382-bf11ce107cb5",
   "metadata": {
    "execution": {
     "iopub.execute_input": "2024-04-24T17:43:36.713109Z",
     "iopub.status.busy": "2024-04-24T17:43:36.712748Z",
     "iopub.status.idle": "2024-04-24T17:43:36.717288Z",
     "shell.execute_reply": "2024-04-24T17:43:36.716354Z",
     "shell.execute_reply.started": "2024-04-24T17:43:36.713086Z"
    }
   },
   "outputs": [],
   "source": [
    "dfenmin = dfenmin.reset_index()"
   ]
  },
  {
   "cell_type": "code",
   "execution_count": 47,
   "id": "25ffd91d-13e4-4323-9aba-7573a8c40b8d",
   "metadata": {
    "execution": {
     "iopub.execute_input": "2024-04-24T17:43:37.030876Z",
     "iopub.status.busy": "2024-04-24T17:43:37.030525Z",
     "iopub.status.idle": "2024-04-24T17:43:37.038250Z",
     "shell.execute_reply": "2024-04-24T17:43:37.037594Z",
     "shell.execute_reply.started": "2024-04-24T17:43:37.030855Z"
    }
   },
   "outputs": [],
   "source": [
    "dfenmax = dfen_r.groupby('id', as_index = True)[['mew','meg','ie']].max()\n",
    "dfenmax.rename(columns = {'mew':'mewmax', 'meg':'megmax', 'ie':'iemax'}, inplace = True)\n",
    "dfenmax = dfenmax.reset_index()"
   ]
  },
  {
   "cell_type": "code",
   "execution_count": 48,
   "id": "7fc9e9f4-254a-4fd5-9c00-3fa6b9f2fadc",
   "metadata": {
    "execution": {
     "iopub.execute_input": "2024-04-24T17:43:37.308920Z",
     "iopub.status.busy": "2024-04-24T17:43:37.308534Z",
     "iopub.status.idle": "2024-04-24T17:43:37.315132Z",
     "shell.execute_reply": "2024-04-24T17:43:37.314508Z",
     "shell.execute_reply.started": "2024-04-24T17:43:37.308896Z"
    }
   },
   "outputs": [],
   "source": [
    "dfen_all = pd.merge(dfenmin, dfenmax, on = ['id'])"
   ]
  },
  {
   "cell_type": "code",
   "execution_count": 49,
   "id": "6b21f4c5-2cc3-4e1a-9ae2-c0bb9b44978c",
   "metadata": {
    "execution": {
     "iopub.execute_input": "2024-04-24T17:43:37.619688Z",
     "iopub.status.busy": "2024-04-24T17:43:37.619308Z",
     "iopub.status.idle": "2024-04-24T17:43:37.626766Z",
     "shell.execute_reply": "2024-04-24T17:43:37.625983Z",
     "shell.execute_reply.started": "2024-04-24T17:43:37.619662Z"
    }
   },
   "outputs": [],
   "source": [
    "dfenc_all = pd.merge(dfen_all, dfc, on = ['id'])"
   ]
  },
  {
   "cell_type": "code",
   "execution_count": 50,
   "id": "2cbc9095-f72e-4650-8583-e849ea728e03",
   "metadata": {
    "execution": {
     "iopub.execute_input": "2024-04-24T17:43:38.104211Z",
     "iopub.status.busy": "2024-04-24T17:43:38.103826Z",
     "iopub.status.idle": "2024-04-24T17:43:38.116015Z",
     "shell.execute_reply": "2024-04-24T17:43:38.115055Z",
     "shell.execute_reply.started": "2024-04-24T17:43:38.104188Z"
    }
   },
   "outputs": [
    {
     "name": "stdout",
     "output_type": "stream",
     "text": [
      "<class 'pandas.core.frame.DataFrame'>\n",
      "RangeIndex: 792 entries, 0 to 791\n",
      "Data columns (total 14 columns):\n",
      " #   Column  Non-Null Count  Dtype  \n",
      "---  ------  --------------  -----  \n",
      " 0   id      792 non-null    int64  \n",
      " 1   mewmin  792 non-null    float64\n",
      " 2   megmin  792 non-null    float64\n",
      " 3   iemin   792 non-null    float64\n",
      " 4   mewmax  792 non-null    float64\n",
      " 5   megmax  792 non-null    float64\n",
      " 6   iemax   792 non-null    float64\n",
      " 7   mew     792 non-null    float64\n",
      " 8   meg     792 non-null    float64\n",
      " 9   ie      792 non-null    float64\n",
      " 10  cmean   792 non-null    float64\n",
      " 11  cmin    792 non-null    float64\n",
      " 12  csum    792 non-null    float64\n",
      " 13  cmax    792 non-null    float64\n",
      "dtypes: float64(13), int64(1)\n",
      "memory usage: 86.8 KB\n"
     ]
    }
   ],
   "source": [
    "dfenc_all.info()"
   ]
  },
  {
   "cell_type": "code",
   "execution_count": 51,
   "id": "86cb3f58-bbc0-4fad-8051-3ef8dabf3924",
   "metadata": {
    "execution": {
     "iopub.execute_input": "2024-04-24T17:43:40.748125Z",
     "iopub.status.busy": "2024-04-24T17:43:40.747413Z",
     "iopub.status.idle": "2024-04-24T17:43:40.754624Z",
     "shell.execute_reply": "2024-04-24T17:43:40.753760Z",
     "shell.execute_reply.started": "2024-04-24T17:43:40.748094Z"
    }
   },
   "outputs": [],
   "source": [
    "dfenc_all = dfenc_all.assign(cp = 1)\n",
    "dfenc_all.loc[dfenc_all['cmean'] == 0, 'cp'] = 0"
   ]
  },
  {
   "cell_type": "code",
   "execution_count": 52,
   "id": "52720256-b4db-465f-babb-5773095cd76c",
   "metadata": {
    "execution": {
     "iopub.execute_input": "2024-04-24T17:43:47.719290Z",
     "iopub.status.busy": "2024-04-24T17:43:47.718569Z",
     "iopub.status.idle": "2024-04-24T17:43:47.741053Z",
     "shell.execute_reply": "2024-04-24T17:43:47.740280Z",
     "shell.execute_reply.started": "2024-04-24T17:43:47.719259Z"
    }
   },
   "outputs": [],
   "source": [
    "dfenc_all.to_csv('/home/yelhe/script/mt/output/pseudo_crevall_new.csv', index = False)"
   ]
  }
 ],
 "metadata": {
  "kernelspec": {
   "display_name": "Python 3 (ipykernel)",
   "language": "python",
   "name": "python3"
  },
  "language_info": {
   "codemirror_mode": {
    "name": "ipython",
    "version": 3
   },
   "file_extension": ".py",
   "mimetype": "text/x-python",
   "name": "python",
   "nbconvert_exporter": "python",
   "pygments_lexer": "ipython3",
   "version": "3.11.5"
  }
 },
 "nbformat": 4,
 "nbformat_minor": 5
}
