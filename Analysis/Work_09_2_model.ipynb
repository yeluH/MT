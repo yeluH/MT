{
 "cells": [
  {
   "cell_type": "code",
   "execution_count": 3,
   "id": "7e9f75d8-3be9-45ef-b9ae-ad72fefb7ce1",
   "metadata": {
    "execution": {
     "iopub.execute_input": "2024-02-26T07:51:32.200807Z",
     "iopub.status.busy": "2024-02-26T07:51:32.200453Z",
     "iopub.status.idle": "2024-02-26T07:51:37.237210Z",
     "shell.execute_reply": "2024-02-26T07:51:37.236657Z",
     "shell.execute_reply.started": "2024-02-26T07:51:32.200784Z"
    }
   },
   "outputs": [],
   "source": [
    "import torch\n",
    "torch.cuda.empty_cache() "
   ]
  },
  {
   "cell_type": "code",
   "execution_count": 4,
   "id": "21a17079-f2b6-44e2-910e-4f9aa081bc43",
   "metadata": {
    "execution": {
     "iopub.execute_input": "2024-02-26T07:51:37.238511Z",
     "iopub.status.busy": "2024-02-26T07:51:37.238220Z",
     "iopub.status.idle": "2024-02-26T07:51:37.290811Z",
     "shell.execute_reply": "2024-02-26T07:51:37.290192Z",
     "shell.execute_reply.started": "2024-02-26T07:51:37.238492Z"
    }
   },
   "outputs": [],
   "source": [
    "import google_streetview\n",
    "import google_streetview.api\n",
    "import google_streetview.helpers"
   ]
  },
  {
   "cell_type": "code",
   "execution_count": 5,
   "id": "f3e5fa71-37bd-4efe-b8ee-ae3c362b2a1b",
   "metadata": {
    "execution": {
     "iopub.execute_input": "2024-02-26T07:51:37.291829Z",
     "iopub.status.busy": "2024-02-26T07:51:37.291594Z",
     "iopub.status.idle": "2024-02-26T07:51:38.314730Z",
     "shell.execute_reply": "2024-02-26T07:51:38.314094Z",
     "shell.execute_reply.started": "2024-02-26T07:51:37.291812Z"
    }
   },
   "outputs": [],
   "source": [
    "import os \n",
    "os.environ['MPLCONFIGDIR'] = os.getcwd() + \"/configs/\"\n",
    "import matplotlib\n",
    "from matplotlib import pyplot as plt\n",
    "import numpy as np\n",
    "import cv2\n",
    "import urllib.request\n",
    "from PIL import Image"
   ]
  },
  {
   "cell_type": "code",
   "execution_count": 6,
   "id": "132db61a-9aa6-4936-8ab4-054288d07d2e",
   "metadata": {
    "execution": {
     "iopub.execute_input": "2024-02-26T07:51:38.316927Z",
     "iopub.status.busy": "2024-02-26T07:51:38.316391Z",
     "iopub.status.idle": "2024-02-26T07:51:39.690737Z",
     "shell.execute_reply": "2024-02-26T07:51:39.690247Z",
     "shell.execute_reply.started": "2024-02-26T07:51:38.316897Z"
    }
   },
   "outputs": [],
   "source": [
    "import pandas as pd\n",
    "import pyproj"
   ]
  },
  {
   "cell_type": "code",
   "execution_count": 7,
   "id": "80d61825-dc8d-4005-9362-cf497e771695",
   "metadata": {
    "execution": {
     "iopub.execute_input": "2024-02-26T07:51:39.691779Z",
     "iopub.status.busy": "2024-02-26T07:51:39.691440Z",
     "iopub.status.idle": "2024-02-26T07:51:39.694900Z",
     "shell.execute_reply": "2024-02-26T07:51:39.694400Z",
     "shell.execute_reply.started": "2024-02-26T07:51:39.691753Z"
    }
   },
   "outputs": [],
   "source": [
    "import os \n",
    "os.environ['MPLCONFIGDIR'] = os.getcwd() + \"/configs/\"\n",
    "import matplotlib\n",
    "from matplotlib import pyplot as plt\n",
    "import numpy as np\n",
    "import cv2"
   ]
  },
  {
   "cell_type": "code",
   "execution_count": 8,
   "id": "e6000c92-6b7e-4ee5-9c30-ac0dfed91840",
   "metadata": {
    "execution": {
     "iopub.execute_input": "2024-02-26T07:51:39.695760Z",
     "iopub.status.busy": "2024-02-26T07:51:39.695573Z",
     "iopub.status.idle": "2024-02-26T07:51:39.704844Z",
     "shell.execute_reply": "2024-02-26T07:51:39.704386Z",
     "shell.execute_reply.started": "2024-02-26T07:51:39.695739Z"
    }
   },
   "outputs": [],
   "source": [
    "from pathlib import Path"
   ]
  },
  {
   "cell_type": "code",
   "execution_count": 27,
   "id": "59dfb1fc-7192-4ae1-9df9-596320cc4875",
   "metadata": {
    "execution": {
     "iopub.execute_input": "2024-02-26T08:41:28.915599Z",
     "iopub.status.busy": "2024-02-26T08:41:28.915305Z",
     "iopub.status.idle": "2024-02-26T08:41:28.937200Z",
     "shell.execute_reply": "2024-02-26T08:41:28.936571Z",
     "shell.execute_reply.started": "2024-02-26T08:41:28.915582Z"
    }
   },
   "outputs": [],
   "source": [
    "import joblib"
   ]
  },
  {
   "cell_type": "code",
   "execution_count": 9,
   "id": "923fac26-61e2-49dd-9099-e31ff4079430",
   "metadata": {
    "execution": {
     "iopub.execute_input": "2024-02-26T07:51:39.706622Z",
     "iopub.status.busy": "2024-02-26T07:51:39.706265Z",
     "iopub.status.idle": "2024-02-26T07:51:39.836452Z",
     "shell.execute_reply": "2024-02-26T07:51:39.835974Z",
     "shell.execute_reply.started": "2024-02-26T07:51:39.706605Z"
    }
   },
   "outputs": [],
   "source": [
    "from mt_function_yl import *"
   ]
  },
  {
   "cell_type": "markdown",
   "id": "1241ac7b-24cd-4849-b492-966fac8a9b01",
   "metadata": {},
   "source": [
    "#### Generation of ID list\n"
   ]
  },
  {
   "cell_type": "code",
   "execution_count": 14,
   "id": "4b6847be-2042-43a9-b0e6-1a13205a2941",
   "metadata": {
    "execution": {
     "iopub.execute_input": "2024-02-26T08:11:47.450029Z",
     "iopub.status.busy": "2024-02-26T08:11:47.449726Z",
     "iopub.status.idle": "2024-02-26T08:11:47.463489Z",
     "shell.execute_reply": "2024-02-26T08:11:47.463039Z",
     "shell.execute_reply.started": "2024-02-26T08:11:47.450009Z"
    }
   },
   "outputs": [],
   "source": [
    "rp_koord = pd.read_csv('/home/yelhe/script/mt/output/rp_koord_new.csv')"
   ]
  },
  {
   "cell_type": "code",
   "execution_count": 15,
   "id": "0a20c874-293c-4010-90e2-7b7922a0f3ef",
   "metadata": {
    "execution": {
     "iopub.execute_input": "2024-02-26T08:11:47.497139Z",
     "iopub.status.busy": "2024-02-26T08:11:47.496932Z",
     "iopub.status.idle": "2024-02-26T08:11:47.501637Z",
     "shell.execute_reply": "2024-02-26T08:11:47.501019Z",
     "shell.execute_reply.started": "2024-02-26T08:11:47.497122Z"
    }
   },
   "outputs": [],
   "source": [
    "rp_koord['id'] = rp_koord.id.astype(str)\n",
    "rp_koord['id'] = rp_koord['id'].str.zfill(4)"
   ]
  },
  {
   "cell_type": "code",
   "execution_count": 16,
   "id": "b67adee0-427b-4985-bf56-d462f6810956",
   "metadata": {
    "execution": {
     "iopub.execute_input": "2024-02-26T08:11:47.504791Z",
     "iopub.status.busy": "2024-02-26T08:11:47.504527Z",
     "iopub.status.idle": "2024-02-26T08:11:50.381886Z",
     "shell.execute_reply": "2024-02-26T08:11:50.381275Z",
     "shell.execute_reply.started": "2024-02-26T08:11:47.504770Z"
    }
   },
   "outputs": [],
   "source": [
    "# Random pseudo \n",
    "name1p = rp_koord.id.astype(str) + '1'\n",
    "name2p = rp_koord.id.astype(str) + '2'\n",
    "name3p = rp_koord.id.astype(str) + '3'\n",
    "name4p = rp_koord.id.astype(str) + '4'\n",
    "gsv_imager1 = []\n",
    "gsv_imager2 = []\n",
    "gsv_imager3 = []\n",
    "gsv_imager4 = []\n",
    "\n",
    "nrf1 = []\n",
    "nrf2 = []\n",
    "nrf3 = []\n",
    "nrf4 = []\n",
    "\n",
    "for i in range(0,995):\n",
    "    path1 = Path('/home/yelhe/data/gsv_rp_f/gsv_rp_nf/' + name1p[i] + '.jpg')\n",
    "    c1 = path1.is_file()\n",
    "    path2 = Path('/home/yelhe/data/gsv_rp_f/gsv_rp_nf/' + name2p[i] + '.jpg')\n",
    "    c2 = path2.is_file()\n",
    "    path3 = Path('/home/yelhe/data/gsv_rp_f/gsv_rp_nf/' + name3p[i] + '.jpg')\n",
    "    c3 = path3.is_file()\n",
    "    path4 = Path('/home/yelhe/data/gsv_rp_f/gsv_rp_nf/' + name4p[i] + '.jpg')\n",
    "    c4 = path4.is_file()\n",
    "    if c1 is True:\n",
    "        # im1 = cv2.imread(\"/home/yelhe/data/gsv_rp_f/gsv_rp_nf/\" + name1p[i] + \".jpg\")\n",
    "        # gsv_imager1.append(im1)\n",
    "        nrf1.append(name1p[i])\n",
    "    if c2 is True:\n",
    "        # im2 = cv2.imread(\"/home/yelhe/data/gsv_rp_f/gsv_rp_nf/\" + name2p[i] + \".jpg\")\n",
    "        # gsv_imager2.append(im2)\n",
    "        nrf2.append(name2p[i])\n",
    "    if c3 is True:\n",
    "        # im3 = cv2.imread(\"/home/yelhe/data/gsv_rp_f/gsv_rp_nf/\" + name3p[i] + \".jpg\")\n",
    "        # gsv_imager3.append(im3)\n",
    "        nrf3.append(name3p[i])\n",
    "    if c4 is True:\n",
    "        # im4 = cv2.imread(\"/home/yelhe/data/gsv_rp_f/gsv_rp_nf/\" + name4p[i] + \".jpg\")\n",
    "        # gsv_imager4.append(im4)\n",
    "        nrf4.append(name4p[i])"
   ]
  },
  {
   "cell_type": "code",
   "execution_count": 17,
   "id": "4c55f109-f5ff-48d0-bfc2-f6eb9a63827f",
   "metadata": {
    "execution": {
     "iopub.execute_input": "2024-02-26T08:11:50.383658Z",
     "iopub.status.busy": "2024-02-26T08:11:50.383220Z",
     "iopub.status.idle": "2024-02-26T08:11:50.387824Z",
     "shell.execute_reply": "2024-02-26T08:11:50.387300Z",
     "shell.execute_reply.started": "2024-02-26T08:11:50.383632Z"
    }
   },
   "outputs": [
    {
     "name": "stdout",
     "output_type": "stream",
     "text": [
      "Done\n"
     ]
    }
   ],
   "source": [
    "# with open('/home/yelhe/script/mt/output/n_pseudo.txt', 'w') as fp:\n",
    "#     for item in nrf1:\n",
    "#         # write each item on a new line\n",
    "#         fp.write(\"%s\\n\" % item)\n",
    "#     print('Done')"
   ]
  },
  {
   "cell_type": "code",
   "execution_count": 19,
   "id": "4b9174a5-7567-4175-9ece-19a23637b108",
   "metadata": {
    "execution": {
     "iopub.execute_input": "2024-02-26T08:12:02.845176Z",
     "iopub.status.busy": "2024-02-26T08:12:02.844625Z",
     "iopub.status.idle": "2024-02-26T08:12:02.859631Z",
     "shell.execute_reply": "2024-02-26T08:12:02.859196Z",
     "shell.execute_reply.started": "2024-02-26T08:12:02.845152Z"
    }
   },
   "outputs": [],
   "source": [
    "koord  = pd.read_csv('/home/yelhe/script/mt/output/koord.csv')\n",
    "name1 = koord.Nr.astype(str) + '1.jpg'\n",
    "name2 = koord.Nr.astype(str) + '2.jpg'\n",
    "name3 = koord.Nr.astype(str) + '3.jpg'\n",
    "name4 = koord.Nr.astype(str) + '4.jpg'"
   ]
  },
  {
   "cell_type": "code",
   "execution_count": 20,
   "id": "34b0ad56-5e5a-49b1-85c9-c7371f249cff",
   "metadata": {
    "execution": {
     "iopub.execute_input": "2024-02-26T08:12:02.860650Z",
     "iopub.status.busy": "2024-02-26T08:12:02.860475Z",
     "iopub.status.idle": "2024-02-26T08:12:03.254108Z",
     "shell.execute_reply": "2024-02-26T08:12:03.253632Z",
     "shell.execute_reply.started": "2024-02-26T08:12:02.860635Z"
    }
   },
   "outputs": [],
   "source": [
    "gsv_image1 = []\n",
    "gsv_image2 = []\n",
    "gsv_image3 = []\n",
    "gsv_image4 = []\n",
    "\n",
    "nf1 = []\n",
    "nf2 = []\n",
    "nf3 = []\n",
    "nf4 = []\n",
    "for i in range(0,349):\n",
    "    path1 = Path('/home/yelhe/data/gsv/GSV_filtered/' + name1[i])\n",
    "    c1 = path1.is_file()\n",
    "    path2 = Path('/home/yelhe/data/gsv/GSV_filtered/' + name2[i])\n",
    "    c2 = path2.is_file()\n",
    "    path3 = Path('/home/yelhe/data/gsv/GSV_filtered/' + name3[i])\n",
    "    c3 = path3.is_file()\n",
    "    path4 = Path('/home/yelhe/data/gsv/GSV_filtered/' + name4[i])\n",
    "    c4 = path4.is_file()\n",
    "    if c1 is True:\n",
    "        # im1 = cv2.imread(\"/home/yelhe/data/gsv/GSV_filtered/\" + name1[i])\n",
    "        # im1 = cv2.cvtColor(im1, cv2.COLOR_BGR2RGB)\n",
    "        # gsv_image1.append(im1)\n",
    "        nf1.append(name1[i])\n",
    "    if c2 is True:\n",
    "        # im2 = cv2.imread(\"/home/yelhe/data/gsv/GSV_filtered/\" + name2[i])\n",
    "        # im2 = cv2.cvtColor(im2, cv2.COLOR_BGR2RGB)\n",
    "        # gsv_image2.append(im2)\n",
    "        nf2.append(name2[i])\n",
    "    if c3 is True:\n",
    "        # im3 = cv2.imread(\"/home/yelhe/data/gsv/GSV_filtered/\" + name3[i])\n",
    "        # im3 = cv2.cvtColor(im3, cv2.COLOR_BGR2RGB)\n",
    "        # gsv_image3.append(im3)\n",
    "        nf3.append(name3[i])\n",
    "    if c4 is True:\n",
    "        # im4 = cv2.imread(\"/home/yelhe/data/gsv/GSV_filtered/\" + name4[i])\n",
    "        # im4 = cv2.cvtColor(im4, cv2.COLOR_BGR2RGB)\n",
    "        # gsv_image4.append(im4)\n",
    "        nf4.append(name4[i])"
   ]
  },
  {
   "cell_type": "code",
   "execution_count": 21,
   "id": "f0811439-1a80-4602-9668-65ea95414f6c",
   "metadata": {
    "execution": {
     "iopub.execute_input": "2024-02-26T08:12:03.254993Z",
     "iopub.status.busy": "2024-02-26T08:12:03.254818Z",
     "iopub.status.idle": "2024-02-26T08:12:03.258533Z",
     "shell.execute_reply": "2024-02-26T08:12:03.257992Z",
     "shell.execute_reply.started": "2024-02-26T08:12:03.254978Z"
    }
   },
   "outputs": [],
   "source": [
    "n1 = [s.replace('.jpg', '') for s in nf1]\n",
    "n2 = [s.replace('.jpg', '') for s in nf2]\n",
    "n3 = [s.replace('.jpg', '') for s in nf3]\n",
    "n4 = [s.replace('.jpg', '') for s in nf4]"
   ]
  },
  {
   "cell_type": "code",
   "execution_count": 22,
   "id": "9e908d01-20a7-4278-b015-23fb849874e6",
   "metadata": {
    "execution": {
     "iopub.execute_input": "2024-02-26T08:12:03.260249Z",
     "iopub.status.busy": "2024-02-26T08:12:03.259850Z",
     "iopub.status.idle": "2024-02-26T08:12:03.267328Z",
     "shell.execute_reply": "2024-02-26T08:12:03.266786Z",
     "shell.execute_reply.started": "2024-02-26T08:12:03.260231Z"
    }
   },
   "outputs": [
    {
     "name": "stdout",
     "output_type": "stream",
     "text": [
      "Done\n"
     ]
    }
   ],
   "source": [
    "# with open('/home/yelhe/script/mt/output/n_accident.txt', 'w') as fp:\n",
    "#     for item in n1:\n",
    "#         # write each item on a new line\n",
    "#         fp.write(\"%s\\n\" % item)\n",
    "#     print('Done')"
   ]
  },
  {
   "cell_type": "markdown",
   "id": "d7346fc9-4815-4194-b455-fca304758ef0",
   "metadata": {},
   "source": [
    "#### Load in Dataframes"
   ]
  },
  {
   "cell_type": "code",
   "execution_count": 23,
   "id": "e7b2299c-323d-419b-b474-0bd2af65965e",
   "metadata": {
    "execution": {
     "iopub.execute_input": "2024-02-26T08:21:01.078346Z",
     "iopub.status.busy": "2024-02-26T08:21:01.078051Z",
     "iopub.status.idle": "2024-02-26T08:21:02.293870Z",
     "shell.execute_reply": "2024-02-26T08:21:02.292938Z",
     "shell.execute_reply.started": "2024-02-26T08:21:01.078329Z"
    }
   },
   "outputs": [],
   "source": [
    "df_a = pd.read_csv('/home/yelhe/scratch/df/df_accident_0_295.csv')\n",
    "df_p = pd.read_csv('/home/yelhe/scratch/df/df_pseudo_0_792_new.csv')"
   ]
  },
  {
   "cell_type": "code",
   "execution_count": 24,
   "id": "49f2ed1a-0a6f-4ab5-8e8d-f1e8efe730bd",
   "metadata": {
    "execution": {
     "iopub.execute_input": "2024-02-26T08:21:09.107133Z",
     "iopub.status.busy": "2024-02-26T08:21:09.106799Z",
     "iopub.status.idle": "2024-02-26T08:21:09.121573Z",
     "shell.execute_reply": "2024-02-26T08:21:09.121061Z",
     "shell.execute_reply.started": "2024-02-26T08:21:09.107113Z"
    }
   },
   "outputs": [
    {
     "name": "stdout",
     "output_type": "stream",
     "text": [
      "<class 'pandas.core.frame.DataFrame'>\n",
      "RangeIndex: 55960 entries, 0 to 55959\n",
      "Data columns (total 37 columns):\n",
      " #   Column             Non-Null Count  Dtype  \n",
      "---  ------             --------------  -----  \n",
      " 0   mask               55960 non-null  int64  \n",
      " 1   gmedian            55960 non-null  float64\n",
      " 2   rmedian            55960 non-null  float64\n",
      " 3   bmedian            55960 non-null  float64\n",
      " 4   gmean              55960 non-null  float64\n",
      " 5   rmean              55960 non-null  float64\n",
      " 6   bmean              55960 non-null  float64\n",
      " 7   gstd               55960 non-null  float64\n",
      " 8   rstd               55960 non-null  float64\n",
      " 9   bstd               55960 non-null  float64\n",
      " 10  gq25               55960 non-null  float64\n",
      " 11  gq75               55960 non-null  float64\n",
      " 12  rq25               55960 non-null  float64\n",
      " 13  rq75               55960 non-null  float64\n",
      " 14  bq25               55960 non-null  float64\n",
      " 15  bq75               55960 non-null  float64\n",
      " 16  cdmean             55960 non-null  float64\n",
      " 17  cdstd              55960 non-null  float64\n",
      " 18  isconvex           55960 non-null  int64  \n",
      " 19  area               55960 non-null  float64\n",
      " 20  aspect_ratio_wh_s  55960 non-null  float64\n",
      " 21  extent_s           55960 non-null  float64\n",
      " 22  solidity           55960 non-null  float64\n",
      " 23  aspect_ratio_wh    55960 non-null  float64\n",
      " 24  extent             55960 non-null  float64\n",
      " 25  orien_rre          55960 non-null  float64\n",
      " 26  orien_ell          55960 non-null  float64\n",
      " 27  ed                 55960 non-null  float64\n",
      " 28  ratio_ell          55960 non-null  float64\n",
      " 29  perimeter          55960 non-null  float64\n",
      " 30  is_cen_inside      55960 non-null  float64\n",
      " 31  is_mce_inside      55960 non-null  float64\n",
      " 32  leftm              55960 non-null  int64  \n",
      " 33  rightm             55960 non-null  int64  \n",
      " 34  topm               55960 non-null  int64  \n",
      " 35  bottomm            55960 non-null  int64  \n",
      " 36  Nr                 55960 non-null  int64  \n",
      "dtypes: float64(30), int64(7)\n",
      "memory usage: 15.8 MB\n"
     ]
    }
   ],
   "source": [
    "df_a.info()"
   ]
  },
  {
   "cell_type": "code",
   "execution_count": 25,
   "id": "d741e415-84bd-4eb4-bd97-2de52cfe4dc0",
   "metadata": {
    "execution": {
     "iopub.execute_input": "2024-02-26T08:21:20.953951Z",
     "iopub.status.busy": "2024-02-26T08:21:20.953503Z",
     "iopub.status.idle": "2024-02-26T08:21:20.970651Z",
     "shell.execute_reply": "2024-02-26T08:21:20.970118Z",
     "shell.execute_reply.started": "2024-02-26T08:21:20.953932Z"
    }
   },
   "outputs": [
    {
     "name": "stdout",
     "output_type": "stream",
     "text": [
      "<class 'pandas.core.frame.DataFrame'>\n",
      "RangeIndex: 138032 entries, 0 to 138031\n",
      "Data columns (total 37 columns):\n",
      " #   Column             Non-Null Count   Dtype  \n",
      "---  ------             --------------   -----  \n",
      " 0   mask               138032 non-null  int64  \n",
      " 1   gmedian            138032 non-null  float64\n",
      " 2   rmedian            138032 non-null  float64\n",
      " 3   bmedian            138032 non-null  float64\n",
      " 4   gmean              138032 non-null  float64\n",
      " 5   rmean              138032 non-null  float64\n",
      " 6   bmean              138032 non-null  float64\n",
      " 7   gstd               138032 non-null  float64\n",
      " 8   rstd               138032 non-null  float64\n",
      " 9   bstd               138032 non-null  float64\n",
      " 10  gq25               138032 non-null  float64\n",
      " 11  gq75               138032 non-null  float64\n",
      " 12  rq25               138032 non-null  float64\n",
      " 13  rq75               138032 non-null  float64\n",
      " 14  bq25               138032 non-null  float64\n",
      " 15  bq75               138032 non-null  float64\n",
      " 16  cdmean             138032 non-null  float64\n",
      " 17  cdstd              138032 non-null  float64\n",
      " 18  isconvex           138032 non-null  int64  \n",
      " 19  area               138032 non-null  float64\n",
      " 20  aspect_ratio_wh_s  138032 non-null  float64\n",
      " 21  extent_s           138032 non-null  float64\n",
      " 22  solidity           138032 non-null  float64\n",
      " 23  aspect_ratio_wh    138032 non-null  float64\n",
      " 24  extent             138032 non-null  float64\n",
      " 25  orien_rre          138032 non-null  float64\n",
      " 26  orien_ell          138032 non-null  float64\n",
      " 27  ed                 138032 non-null  float64\n",
      " 28  ratio_ell          138032 non-null  float64\n",
      " 29  perimeter          138032 non-null  float64\n",
      " 30  is_cen_inside      138032 non-null  float64\n",
      " 31  is_mce_inside      138032 non-null  float64\n",
      " 32  leftm              138032 non-null  int64  \n",
      " 33  rightm             138032 non-null  int64  \n",
      " 34  topm               138032 non-null  int64  \n",
      " 35  bottomm            138032 non-null  int64  \n",
      " 36  Nr                 138032 non-null  int64  \n",
      "dtypes: float64(30), int64(7)\n",
      "memory usage: 39.0 MB\n"
     ]
    }
   ],
   "source": [
    "df_p.info()"
   ]
  },
  {
   "cell_type": "code",
   "execution_count": 31,
   "id": "ec0ba96f-1110-4ca3-8839-159c7d744cff",
   "metadata": {
    "execution": {
     "iopub.execute_input": "2024-02-26T08:46:53.091977Z",
     "iopub.status.busy": "2024-02-26T08:46:53.091455Z",
     "iopub.status.idle": "2024-02-26T08:46:53.118307Z",
     "shell.execute_reply": "2024-02-26T08:46:53.117689Z",
     "shell.execute_reply.started": "2024-02-26T08:46:53.091952Z"
    }
   },
   "outputs": [],
   "source": [
    "dfa = df_a\n",
    "dfp = df_p\n",
    "# Drop info columns\n",
    "dfa = dfa.drop(['mask', 'Nr','isconvex','is_cen_inside','is_mce_inside', 'leftm', 'rightm'], axis = 1)\n",
    "dfp = dfp.drop(['mask', 'Nr','isconvex','is_cen_inside','is_mce_inside', 'leftm', 'rightm'], axis = 1)\n",
    "# Choose only the masks located in the lower part\n",
    "dfa = dfa.loc[dfa['topm'] >= 300]\n",
    "dfp = dfp.loc[dfp['topm'] >= 300]\n",
    "dfa = dfa.drop(['topm'], axis = 1)\n",
    "dfp = dfp.drop(['topm'], axis = 1)"
   ]
  },
  {
   "cell_type": "code",
   "execution_count": null,
   "id": "90c2f4b0-4055-4569-8c46-a7092fbb52bf",
   "metadata": {},
   "outputs": [],
   "source": [
    "#### Load in Random Forest model"
   ]
  },
  {
   "cell_type": "code",
   "execution_count": 28,
   "id": "a3cca595-3e44-414f-af30-ece9de8beb28",
   "metadata": {
    "execution": {
     "iopub.execute_input": "2024-02-26T08:41:33.838378Z",
     "iopub.status.busy": "2024-02-26T08:41:33.837853Z",
     "iopub.status.idle": "2024-02-26T08:41:34.342934Z",
     "shell.execute_reply": "2024-02-26T08:41:34.342454Z",
     "shell.execute_reply.started": "2024-02-26T08:41:33.838355Z"
    }
   },
   "outputs": [],
   "source": [
    "rf = joblib.load(\"my_random_forest_1.joblib\")"
   ]
  },
  {
   "cell_type": "code",
   "execution_count": 35,
   "id": "bd71177e-1f06-48d0-aff1-73800de78288",
   "metadata": {
    "execution": {
     "iopub.execute_input": "2024-02-26T09:00:26.133343Z",
     "iopub.status.busy": "2024-02-26T09:00:26.133053Z",
     "iopub.status.idle": "2024-02-26T09:00:26.173349Z",
     "shell.execute_reply": "2024-02-26T09:00:26.172822Z",
     "shell.execute_reply.started": "2024-02-26T09:00:26.133324Z"
    }
   },
   "outputs": [],
   "source": [
    "# rf.fit(X_train3, y_train3)\n",
    "y_pred_a = rf.predict(dfa)"
   ]
  },
  {
   "cell_type": "code",
   "execution_count": 40,
   "id": "e1db96ed-6c81-450c-b354-43ea007e83a2",
   "metadata": {
    "execution": {
     "iopub.execute_input": "2024-02-26T09:01:23.578908Z",
     "iopub.status.busy": "2024-02-26T09:01:23.578632Z",
     "iopub.status.idle": "2024-02-26T09:01:23.791241Z",
     "shell.execute_reply": "2024-02-26T09:01:23.790647Z",
     "shell.execute_reply.started": "2024-02-26T09:01:23.578889Z"
    }
   },
   "outputs": [
    {
     "data": {
      "text/plain": [
       "(array([  270.,     0.,     0.,  6796.,     0.,     0., 20607.,     0.,\n",
       "            0.,  1608.]),\n",
       " array([0. , 0.3, 0.6, 0.9, 1.2, 1.5, 1.8, 2.1, 2.4, 2.7, 3. ]),\n",
       " <BarContainer object of 10 artists>)"
      ]
     },
     "execution_count": 40,
     "metadata": {},
     "output_type": "execute_result"
    },
    {
     "data": {
      "image/png": "[encoded data removed]",
      "text/plain": [
       "<Figure size 640x480 with 1 Axes>"
      ]
     },
     "metadata": {},
     "output_type": "display_data"
    }
   ],
   "source": [
    "plt.hist(y_pred_a)"
   ]
  },
  {
   "cell_type": "code",
   "execution_count": 54,
   "id": "28e746da-1de2-45a4-9ea2-71c1245343cf",
   "metadata": {
    "execution": {
     "iopub.execute_input": "2024-02-26T09:06:24.093679Z",
     "iopub.status.busy": "2024-02-26T09:06:24.093383Z",
     "iopub.status.idle": "2024-02-26T09:06:24.098791Z",
     "shell.execute_reply": "2024-02-26T09:06:24.098226Z",
     "shell.execute_reply.started": "2024-02-26T09:06:24.093661Z"
    }
   },
   "outputs": [
    {
     "data": {
      "text/plain": [
       "(array([0, 1, 2, 3]), array([  270,  6796, 20607,  1608]))"
      ]
     },
     "execution_count": 54,
     "metadata": {},
     "output_type": "execute_result"
    }
   ],
   "source": [
    "np.unique(y_pred_a, return_counts=True)"
   ]
  },
  {
   "cell_type": "code",
   "execution_count": 55,
   "id": "f091b16d-c01c-489c-89cd-6eb241d6414e",
   "metadata": {
    "execution": {
     "iopub.execute_input": "2024-02-26T09:07:10.993538Z",
     "iopub.status.busy": "2024-02-26T09:07:10.993258Z",
     "iopub.status.idle": "2024-02-26T09:07:11.288232Z",
     "shell.execute_reply": "2024-02-26T09:07:11.287582Z",
     "shell.execute_reply.started": "2024-02-26T09:07:10.993521Z"
    }
   },
   "outputs": [
    {
     "data": {
      "text/plain": [
       "(array([0, 1, 2, 3]), array([  972, 16024, 55022,  1094]))"
      ]
     },
     "execution_count": 55,
     "metadata": {},
     "output_type": "execute_result"
    },
    {
     "data": {
      "image/png": "[encoded data removed]",
      "text/plain": [
       "<Figure size 640x480 with 1 Axes>"
      ]
     },
     "metadata": {},
     "output_type": "display_data"
    }
   ],
   "source": [
    "y_pred_p = rf.predict(dfp)\n",
    "plt.hist(y_pred_p)\n",
    "np.unique(y_pred_p, return_counts=True)"
   ]
  },
  {
   "cell_type": "code",
   "execution_count": 56,
   "id": "dec1f122-4058-490c-868b-faa65bf30956",
   "metadata": {
    "execution": {
     "iopub.execute_input": "2024-02-26T09:23:11.841907Z",
     "iopub.status.busy": "2024-02-26T09:23:11.841615Z",
     "iopub.status.idle": "2024-02-26T09:23:11.846521Z",
     "shell.execute_reply": "2024-02-26T09:23:11.845960Z",
     "shell.execute_reply.started": "2024-02-26T09:23:11.841889Z"
    }
   },
   "outputs": [],
   "source": [
    "dfal = dfa\n",
    "dfal['p'] = y_pred_a\n",
    "dfpl = dfp\n",
    "dfpl['p'] = y_pred_p"
   ]
  },
  {
   "cell_type": "code",
   "execution_count": 58,
   "id": "ba3b5246-3829-41d0-aff9-3536d417910e",
   "metadata": {
    "execution": {
     "iopub.execute_input": "2024-02-26T09:23:35.332429Z",
     "iopub.status.busy": "2024-02-26T09:23:35.332142Z",
     "iopub.status.idle": "2024-02-26T09:23:35.336772Z",
     "shell.execute_reply": "2024-02-26T09:23:35.336077Z",
     "shell.execute_reply.started": "2024-02-26T09:23:35.332411Z"
    }
   },
   "outputs": [
    {
     "data": {
      "text/plain": [
       "array([1, 2, 3, 0])"
      ]
     },
     "execution_count": 58,
     "metadata": {},
     "output_type": "execute_result"
    }
   ],
   "source": [
    "dfal['p'].unique()"
   ]
  },
  {
   "cell_type": "code",
   "execution_count": 59,
   "id": "d5fe0ebf-93d2-479c-9521-bb442ef01b4c",
   "metadata": {
    "execution": {
     "iopub.execute_input": "2024-02-26T09:29:23.535511Z",
     "iopub.status.busy": "2024-02-26T09:29:23.534989Z",
     "iopub.status.idle": "2024-02-26T09:29:26.320250Z",
     "shell.execute_reply": "2024-02-26T09:29:26.319268Z",
     "shell.execute_reply.started": "2024-02-26T09:29:23.535491Z"
    }
   },
   "outputs": [],
   "source": [
    "dfal.to_csv('/home/yelhe/script/mt/output/pred_accident.csv', index = False)\n",
    "dfpl.to_csv('/home/yelhe/script/mt/output/pred_pseudo.csv', index = False)"
   ]
  },
  {
   "cell_type": "code",
   "execution_count": 60,
   "id": "0f3c379b-3199-474a-8500-bcb9cc06327d",
   "metadata": {
    "execution": {
     "iopub.execute_input": "2024-02-26T09:32:52.016084Z",
     "iopub.status.busy": "2024-02-26T09:32:52.015708Z",
     "iopub.status.idle": "2024-02-26T09:32:52.026736Z",
     "shell.execute_reply": "2024-02-26T09:32:52.026188Z",
     "shell.execute_reply.started": "2024-02-26T09:32:52.016063Z"
    }
   },
   "outputs": [
    {
     "name": "stdout",
     "output_type": "stream",
     "text": [
      "<class 'pandas.core.frame.DataFrame'>\n",
      "Index: 29281 entries, 1 to 55959\n",
      "Data columns (total 30 columns):\n",
      " #   Column             Non-Null Count  Dtype  \n",
      "---  ------             --------------  -----  \n",
      " 0   gmedian            29281 non-null  float64\n",
      " 1   rmedian            29281 non-null  float64\n",
      " 2   bmedian            29281 non-null  float64\n",
      " 3   gmean              29281 non-null  float64\n",
      " 4   rmean              29281 non-null  float64\n",
      " 5   bmean              29281 non-null  float64\n",
      " 6   gstd               29281 non-null  float64\n",
      " 7   rstd               29281 non-null  float64\n",
      " 8   bstd               29281 non-null  float64\n",
      " 9   gq25               29281 non-null  float64\n",
      " 10  gq75               29281 non-null  float64\n",
      " 11  rq25               29281 non-null  float64\n",
      " 12  rq75               29281 non-null  float64\n",
      " 13  bq25               29281 non-null  float64\n",
      " 14  bq75               29281 non-null  float64\n",
      " 15  cdmean             29281 non-null  float64\n",
      " 16  cdstd              29281 non-null  float64\n",
      " 17  area               29281 non-null  float64\n",
      " 18  aspect_ratio_wh_s  29281 non-null  float64\n",
      " 19  extent_s           29281 non-null  float64\n",
      " 20  solidity           29281 non-null  float64\n",
      " 21  aspect_ratio_wh    29281 non-null  float64\n",
      " 22  extent             29281 non-null  float64\n",
      " 23  orien_rre          29281 non-null  float64\n",
      " 24  orien_ell          29281 non-null  float64\n",
      " 25  ed                 29281 non-null  float64\n",
      " 26  ratio_ell          29281 non-null  float64\n",
      " 27  perimeter          29281 non-null  float64\n",
      " 28  bottomm            29281 non-null  int64  \n",
      " 29  p                  29281 non-null  int64  \n",
      "dtypes: float64(28), int64(2)\n",
      "memory usage: 6.9 MB\n"
     ]
    }
   ],
   "source": [
    "dfal.info()"
   ]
  },
  {
   "cell_type": "code",
   "execution_count": 62,
   "id": "d5b31f06-1496-43bb-bb98-1a51a44b2de9",
   "metadata": {
    "execution": {
     "iopub.execute_input": "2024-02-26T09:34:53.003118Z",
     "iopub.status.busy": "2024-02-26T09:34:53.002826Z",
     "iopub.status.idle": "2024-02-26T09:34:53.024040Z",
     "shell.execute_reply": "2024-02-26T09:34:53.023530Z",
     "shell.execute_reply.started": "2024-02-26T09:34:53.003100Z"
    }
   },
   "outputs": [],
   "source": [
    "dfa1 = df_a\n",
    "dfp1 = df_p\n",
    "dfa1 = dfa1.loc[dfa1['topm'] >= 300]\n",
    "dfp1 = dfp1.loc[dfp1['topm'] >= 300]\n",
    "\n",
    "# # Drop info columns\n",
    "# dfa = dfa.drop(['mask', 'Nr','isconvex','is_cen_inside','is_mce_inside', 'leftm', 'rightm'], axis = 1)\n",
    "# dfp = dfp.drop(['mask', 'Nr','isconvex','is_cen_inside','is_mce_inside', 'leftm', 'rightm'], axis = 1)\n",
    "# # Choose only the masks located in the lower part\n",
    "# dfa = dfa.drop(['topm'], axis = 1)\n",
    "# dfp = dfp.drop(['topm'], axis = 1)"
   ]
  },
  {
   "cell_type": "code",
   "execution_count": 64,
   "id": "67ba5944-8e65-4068-9088-7930140831f8",
   "metadata": {
    "execution": {
     "iopub.execute_input": "2024-02-26T09:40:26.374170Z",
     "iopub.status.busy": "2024-02-26T09:40:26.373872Z",
     "iopub.status.idle": "2024-02-26T09:40:26.377465Z",
     "shell.execute_reply": "2024-02-26T09:40:26.376840Z",
     "shell.execute_reply.started": "2024-02-26T09:40:26.374152Z"
    }
   },
   "outputs": [
    {
     "name": "stdout",
     "output_type": "stream",
     "text": [
      "['gmedian', 'rmedian', 'bmedian', 'gmean', 'rmean', 'bmean', 'gstd', 'rstd', 'bstd', 'gq25', 'gq75', 'rq25', 'rq75', 'bq25', 'bq75', 'cdmean', 'cdstd', 'area', 'aspect_ratio_wh_s', 'extent_s', 'solidity', 'aspect_ratio_wh', 'extent', 'orien_rre', 'orien_ell', 'ed', 'ratio_ell', 'perimeter', 'bottomm', 'p']\n"
     ]
    }
   ],
   "source": [
    "cndfal = list(dfal.columns)\n",
    "print(cndfal)\n"
   ]
  },
  {
   "cell_type": "code",
   "execution_count": 66,
   "id": "c3f22ec3-9905-4fb2-9150-3e2e651357fe",
   "metadata": {
    "execution": {
     "iopub.execute_input": "2024-02-26T09:43:07.809952Z",
     "iopub.status.busy": "2024-02-26T09:43:07.809439Z",
     "iopub.status.idle": "2024-02-26T09:43:08.068878Z",
     "shell.execute_reply": "2024-02-26T09:43:08.068242Z",
     "shell.execute_reply.started": "2024-02-26T09:43:07.809932Z"
    }
   },
   "outputs": [],
   "source": [
    "# Predicted label\n",
    "dfa_pl = pd.merge(dfa1, dfal, on = ['gmedian', 'rmedian', 'bmedian', 'gmean', \n",
    "                                   'rmean', 'bmean', 'gstd', 'rstd', 'bstd', \n",
    "                                   'gq25', 'gq75', 'rq25', 'rq75', 'bq25', \n",
    "                                   'bq75', 'cdmean', 'cdstd', 'area', 'aspect_ratio_wh_s', \n",
    "                                   'extent_s', 'solidity', 'aspect_ratio_wh', 'extent', \n",
    "                                   'orien_rre', 'orien_ell', 'ed', 'ratio_ell', 'perimeter', 'bottomm'])\n",
    "dfp_pl = pd.merge(dfp1, dfpl, on = ['gmedian', 'rmedian', 'bmedian', 'gmean', \n",
    "                                   'rmean', 'bmean', 'gstd', 'rstd', 'bstd', \n",
    "                                   'gq25', 'gq75', 'rq25', 'rq75', 'bq25', \n",
    "                                   'bq75', 'cdmean', 'cdstd', 'area', 'aspect_ratio_wh_s', \n",
    "                                   'extent_s', 'solidity', 'aspect_ratio_wh', 'extent', \n",
    "                                   'orien_rre', 'orien_ell', 'ed', 'ratio_ell', 'perimeter', 'bottomm'])"
   ]
  },
  {
   "cell_type": "code",
   "execution_count": 68,
   "id": "9ea8bdc9-5301-4cca-ab76-1c6d72b1191f",
   "metadata": {
    "execution": {
     "iopub.execute_input": "2024-02-26T09:43:46.023800Z",
     "iopub.status.busy": "2024-02-26T09:43:46.023508Z",
     "iopub.status.idle": "2024-02-26T09:43:49.113584Z",
     "shell.execute_reply": "2024-02-26T09:43:49.112871Z",
     "shell.execute_reply.started": "2024-02-26T09:43:46.023784Z"
    }
   },
   "outputs": [],
   "source": [
    "dfa_pl.to_csv('/home/yelhe/script/mt/output/pred_accident_label.csv', index = False)\n",
    "dfp_pl.to_csv('/home/yelhe/script/mt/output/pred_pseudo_label.csv', index = False)"
   ]
  }
 ],
 "metadata": {
  "kernelspec": {
   "display_name": "Python 3 (ipykernel)",
   "language": "python",
   "name": "python3"
  },
  "language_info": {
   "codemirror_mode": {
    "name": "ipython",
    "version": 3
   },
   "file_extension": ".py",
   "mimetype": "text/x-python",
   "name": "python",
   "nbconvert_exporter": "python",
   "pygments_lexer": "ipython3",
   "version": "3.11.5"
  }
 },
 "nbformat": 4,
 "nbformat_minor": 5
}
