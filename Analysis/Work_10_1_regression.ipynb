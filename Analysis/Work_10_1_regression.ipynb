{
 "cells": [
  {
   "cell_type": "code",
   "execution_count": 2,
   "id": "7e9f75d8-3be9-45ef-b9ae-ad72fefb7ce1",
   "metadata": {
    "execution": {
     "iopub.execute_input": "2024-03-07T11:37:14.064762Z",
     "iopub.status.busy": "2024-03-07T11:37:14.064291Z",
     "iopub.status.idle": "2024-03-07T11:37:17.440857Z",
     "shell.execute_reply": "2024-03-07T11:37:17.440231Z",
     "shell.execute_reply.started": "2024-03-07T11:37:14.064742Z"
    }
   },
   "outputs": [],
   "source": [
    "import torch\n",
    "torch.cuda.empty_cache() "
   ]
  },
  {
   "cell_type": "code",
   "execution_count": 3,
   "id": "f3e5fa71-37bd-4efe-b8ee-ae3c362b2a1b",
   "metadata": {
    "execution": {
     "iopub.execute_input": "2024-03-07T11:37:17.442195Z",
     "iopub.status.busy": "2024-03-07T11:37:17.441876Z",
     "iopub.status.idle": "2024-03-07T11:37:17.814774Z",
     "shell.execute_reply": "2024-03-07T11:37:17.814253Z",
     "shell.execute_reply.started": "2024-03-07T11:37:17.442177Z"
    }
   },
   "outputs": [],
   "source": [
    "import os \n",
    "os.environ['MPLCONFIGDIR'] = os.getcwd() + \"/configs/\"\n",
    "import matplotlib\n",
    "from matplotlib import pyplot as plt\n",
    "import numpy as np\n",
    "import cv2\n",
    "import urllib.request\n",
    "from PIL import Image"
   ]
  },
  {
   "cell_type": "code",
   "execution_count": 4,
   "id": "132db61a-9aa6-4936-8ab4-054288d07d2e",
   "metadata": {
    "execution": {
     "iopub.execute_input": "2024-03-07T11:37:17.816058Z",
     "iopub.status.busy": "2024-03-07T11:37:17.815594Z",
     "iopub.status.idle": "2024-03-07T11:37:18.307279Z",
     "shell.execute_reply": "2024-03-07T11:37:18.306691Z",
     "shell.execute_reply.started": "2024-03-07T11:37:17.816029Z"
    }
   },
   "outputs": [],
   "source": [
    "import pandas as pd\n",
    "import pyproj"
   ]
  },
  {
   "cell_type": "code",
   "execution_count": 5,
   "id": "80d61825-dc8d-4005-9362-cf497e771695",
   "metadata": {
    "execution": {
     "iopub.execute_input": "2024-03-07T11:37:18.309624Z",
     "iopub.status.busy": "2024-03-07T11:37:18.309135Z",
     "iopub.status.idle": "2024-03-07T11:37:18.312977Z",
     "shell.execute_reply": "2024-03-07T11:37:18.312397Z",
     "shell.execute_reply.started": "2024-03-07T11:37:18.309600Z"
    }
   },
   "outputs": [],
   "source": [
    "import os \n",
    "os.environ['MPLCONFIGDIR'] = os.getcwd() + \"/configs/\"\n",
    "import matplotlib\n",
    "from matplotlib import pyplot as plt\n",
    "import numpy as np\n",
    "import cv2"
   ]
  },
  {
   "cell_type": "code",
   "execution_count": 6,
   "id": "e6000c92-6b7e-4ee5-9c30-ac0dfed91840",
   "metadata": {
    "execution": {
     "iopub.execute_input": "2024-03-07T11:37:18.314251Z",
     "iopub.status.busy": "2024-03-07T11:37:18.313755Z",
     "iopub.status.idle": "2024-03-07T11:37:18.321338Z",
     "shell.execute_reply": "2024-03-07T11:37:18.320696Z",
     "shell.execute_reply.started": "2024-03-07T11:37:18.314227Z"
    }
   },
   "outputs": [],
   "source": [
    "from pathlib import Path"
   ]
  },
  {
   "cell_type": "code",
   "execution_count": 7,
   "id": "59dfb1fc-7192-4ae1-9df9-596320cc4875",
   "metadata": {
    "execution": {
     "iopub.execute_input": "2024-03-07T11:37:18.322459Z",
     "iopub.status.busy": "2024-03-07T11:37:18.322029Z",
     "iopub.status.idle": "2024-03-07T11:37:18.347552Z",
     "shell.execute_reply": "2024-03-07T11:37:18.347064Z",
     "shell.execute_reply.started": "2024-03-07T11:37:18.322440Z"
    }
   },
   "outputs": [],
   "source": [
    "import joblib"
   ]
  },
  {
   "cell_type": "code",
   "execution_count": 8,
   "id": "923fac26-61e2-49dd-9099-e31ff4079430",
   "metadata": {
    "execution": {
     "iopub.execute_input": "2024-03-07T11:37:18.348433Z",
     "iopub.status.busy": "2024-03-07T11:37:18.348251Z",
     "iopub.status.idle": "2024-03-07T11:37:18.725186Z",
     "shell.execute_reply": "2024-03-07T11:37:18.724575Z",
     "shell.execute_reply.started": "2024-03-07T11:37:18.348417Z"
    }
   },
   "outputs": [],
   "source": [
    "from mt_function_yl import *"
   ]
  },
  {
   "cell_type": "code",
   "execution_count": 9,
   "id": "8376ffe7-7aec-4e11-9f86-32619931952f",
   "metadata": {
    "execution": {
     "iopub.execute_input": "2024-03-07T11:37:18.726370Z",
     "iopub.status.busy": "2024-03-07T11:37:18.725981Z",
     "iopub.status.idle": "2024-03-07T11:37:18.945269Z",
     "shell.execute_reply": "2024-03-07T11:37:18.944758Z",
     "shell.execute_reply.started": "2024-03-07T11:37:18.726349Z"
    }
   },
   "outputs": [],
   "source": [
    "import seaborn as sn"
   ]
  },
  {
   "cell_type": "markdown",
   "id": "11486eff-60e0-460e-a14b-9a0ab0628a50",
   "metadata": {},
   "source": [
    "### Data loading"
   ]
  },
  {
   "cell_type": "code",
   "execution_count": 11,
   "id": "f89f329b-62a5-48b2-9ea4-451014aad9e3",
   "metadata": {
    "execution": {
     "iopub.execute_input": "2024-03-07T11:37:24.500266Z",
     "iopub.status.busy": "2024-03-07T11:37:24.499953Z",
     "iopub.status.idle": "2024-03-07T11:37:24.509689Z",
     "shell.execute_reply": "2024-03-07T11:37:24.509076Z",
     "shell.execute_reply.started": "2024-03-07T11:37:24.500246Z"
    }
   },
   "outputs": [],
   "source": [
    "# Curb extraction data\n",
    "predc_a = pd.read_csv('/home/yelhe/script/mt/output/predcurb_accident_count_sum.csv')"
   ]
  },
  {
   "cell_type": "code",
   "execution_count": 25,
   "id": "4957ef4e-6f1e-4370-b68f-b82168f3739c",
   "metadata": {
    "execution": {
     "iopub.execute_input": "2024-03-07T11:51:25.398231Z",
     "iopub.status.busy": "2024-03-07T11:51:25.397741Z",
     "iopub.status.idle": "2024-03-07T11:51:25.406059Z",
     "shell.execute_reply": "2024-03-07T11:51:25.405391Z",
     "shell.execute_reply.started": "2024-03-07T11:51:25.398203Z"
    }
   },
   "outputs": [
    {
     "name": "stdout",
     "output_type": "stream",
     "text": [
      "<class 'pandas.core.frame.DataFrame'>\n",
      "RangeIndex: 295 entries, 0 to 294\n",
      "Data columns (total 2 columns):\n",
      " #   Column  Non-Null Count  Dtype  \n",
      "---  ------  --------------  -----  \n",
      " 0   id      295 non-null    int64  \n",
      " 1   sum     295 non-null    float64\n",
      "dtypes: float64(1), int64(1)\n",
      "memory usage: 4.7 KB\n"
     ]
    }
   ],
   "source": [
    "predc_a.info()"
   ]
  },
  {
   "cell_type": "code",
   "execution_count": 32,
   "id": "ee9b6724-637b-44d4-9284-9e51243aefa2",
   "metadata": {
    "execution": {
     "iopub.execute_input": "2024-03-07T11:55:40.740097Z",
     "iopub.status.busy": "2024-03-07T11:55:40.739579Z",
     "iopub.status.idle": "2024-03-07T11:55:40.745606Z",
     "shell.execute_reply": "2024-03-07T11:55:40.745132Z",
     "shell.execute_reply.started": "2024-03-07T11:55:40.740077Z"
    }
   },
   "outputs": [],
   "source": [
    "# Entropy\n",
    "# iema = pd.read_csv('/home/yelhe/script/mt/output/accident_image_entropy_mean.csv')\n",
    "# mewa = pd.read_csv('/home/yelhe/script/mt/output/accident_mask_entropy_wholescene_mean.csv')\n",
    "# mega = pd.read_csv('/home/yelhe/script/mt/output/accident_mask_entropy_groundscene_mean.csv')\n",
    "\n",
    "dfen_a = pd.read_csv('/home/yelhe/script/mt/output/accident_entropy_sum.csv')"
   ]
  },
  {
   "cell_type": "code",
   "execution_count": 49,
   "id": "b6c2671f-cd5c-4643-b193-a564105d530b",
   "metadata": {
    "execution": {
     "iopub.execute_input": "2024-03-07T12:05:03.719555Z",
     "iopub.status.busy": "2024-03-07T12:05:03.719279Z",
     "iopub.status.idle": "2024-03-07T12:05:03.726240Z",
     "shell.execute_reply": "2024-03-07T12:05:03.725680Z",
     "shell.execute_reply.started": "2024-03-07T12:05:03.719538Z"
    }
   },
   "outputs": [
    {
     "data": {
      "text/plain": [
       "count    295.000000\n",
       "mean       1.249353\n",
       "std        0.174065\n",
       "min        0.611939\n",
       "25%        1.145727\n",
       "50%        1.287659\n",
       "75%        1.373730\n",
       "max        1.620571\n",
       "Name: entropy, dtype: float64"
      ]
     },
     "execution_count": 49,
     "metadata": {},
     "output_type": "execute_result"
    }
   ],
   "source": [
    "mewa['entropy'].describe()"
   ]
  },
  {
   "cell_type": "code",
   "execution_count": 50,
   "id": "8d60b1a5-6bd3-4ba9-b8aa-b8ca723717ec",
   "metadata": {
    "execution": {
     "iopub.execute_input": "2024-03-07T12:05:22.320534Z",
     "iopub.status.busy": "2024-03-07T12:05:22.320042Z",
     "iopub.status.idle": "2024-03-07T12:05:22.327682Z",
     "shell.execute_reply": "2024-03-07T12:05:22.327021Z",
     "shell.execute_reply.started": "2024-03-07T12:05:22.320508Z"
    }
   },
   "outputs": [
    {
     "data": {
      "text/plain": [
       "count    295.000000\n",
       "mean       1.242440\n",
       "std        0.173847\n",
       "min        0.611939\n",
       "25%        1.137512\n",
       "50%        1.281423\n",
       "75%        1.365562\n",
       "max        1.616553\n",
       "Name: mew, dtype: float64"
      ]
     },
     "execution_count": 50,
     "metadata": {},
     "output_type": "execute_result"
    }
   ],
   "source": [
    "dfenm['mew'].describe()"
   ]
  },
  {
   "cell_type": "code",
   "execution_count": 33,
   "id": "fe162d2c-b2b0-428d-bf27-a548f0a86aba",
   "metadata": {
    "execution": {
     "iopub.execute_input": "2024-03-07T11:55:46.238292Z",
     "iopub.status.busy": "2024-03-07T11:55:46.237963Z",
     "iopub.status.idle": "2024-03-07T11:55:46.246685Z",
     "shell.execute_reply": "2024-03-07T11:55:46.245981Z",
     "shell.execute_reply.started": "2024-03-07T11:55:46.238271Z"
    }
   },
   "outputs": [
    {
     "name": "stdout",
     "output_type": "stream",
     "text": [
      "<class 'pandas.core.frame.DataFrame'>\n",
      "RangeIndex: 1170 entries, 0 to 1169\n",
      "Data columns (total 6 columns):\n",
      " #   Column  Non-Null Count  Dtype  \n",
      "---  ------  --------------  -----  \n",
      " 0   id      1170 non-null   int64  \n",
      " 1   dir     1170 non-null   int64  \n",
      " 2   Nr      1170 non-null   int64  \n",
      " 3   mew     1170 non-null   float64\n",
      " 4   meg     1170 non-null   float64\n",
      " 5   ie      1170 non-null   float64\n",
      "dtypes: float64(3), int64(3)\n",
      "memory usage: 55.0 KB\n"
     ]
    }
   ],
   "source": [
    "dfen_a.info()"
   ]
  },
  {
   "cell_type": "code",
   "execution_count": 39,
   "id": "efaf41fe-b254-4bbc-b035-d0580dd48841",
   "metadata": {
    "execution": {
     "iopub.execute_input": "2024-03-07T12:01:19.517345Z",
     "iopub.status.busy": "2024-03-07T12:01:19.517060Z",
     "iopub.status.idle": "2024-03-07T12:01:19.521845Z",
     "shell.execute_reply": "2024-03-07T12:01:19.521143Z",
     "shell.execute_reply.started": "2024-03-07T12:01:19.517326Z"
    }
   },
   "outputs": [],
   "source": [
    "dfenm = dfen_a.groupby('id', as_index = True)[['mew','meg','ie']].mean()\n"
   ]
  },
  {
   "cell_type": "code",
   "execution_count": 41,
   "id": "795baffe-bb5e-47a1-af83-e24f59c2121e",
   "metadata": {
    "execution": {
     "iopub.execute_input": "2024-03-07T12:01:35.828240Z",
     "iopub.status.busy": "2024-03-07T12:01:35.827730Z",
     "iopub.status.idle": "2024-03-07T12:01:35.831388Z",
     "shell.execute_reply": "2024-03-07T12:01:35.830809Z",
     "shell.execute_reply.started": "2024-03-07T12:01:35.828219Z"
    }
   },
   "outputs": [],
   "source": [
    "dfenm = dfenm.reset_index()"
   ]
  },
  {
   "cell_type": "code",
   "execution_count": 51,
   "id": "0b6eb7aa-4ccb-419a-97cb-ebbc03138575",
   "metadata": {
    "execution": {
     "iopub.execute_input": "2024-03-07T12:09:43.998407Z",
     "iopub.status.busy": "2024-03-07T12:09:43.998111Z",
     "iopub.status.idle": "2024-03-07T12:09:44.003953Z",
     "shell.execute_reply": "2024-03-07T12:09:44.003237Z",
     "shell.execute_reply.started": "2024-03-07T12:09:43.998387Z"
    }
   },
   "outputs": [],
   "source": [
    "dfc = pd.merge(dfenm, predc_a, on = ['id'])"
   ]
  },
  {
   "cell_type": "code",
   "execution_count": 57,
   "id": "1416a2a6-b13a-4534-82e8-4ecb2f91c29d",
   "metadata": {
    "execution": {
     "iopub.execute_input": "2024-03-07T12:10:57.887782Z",
     "iopub.status.busy": "2024-03-07T12:10:57.887476Z",
     "iopub.status.idle": "2024-03-07T12:10:57.891253Z",
     "shell.execute_reply": "2024-03-07T12:10:57.890603Z",
     "shell.execute_reply.started": "2024-03-07T12:10:57.887755Z"
    }
   },
   "outputs": [],
   "source": [
    "dfc.rename(columns = {'sum':'cn'}, inplace = True)"
   ]
  },
  {
   "cell_type": "code",
   "execution_count": 61,
   "id": "f978e375-54cc-4bc9-b05c-f11671127fcc",
   "metadata": {
    "execution": {
     "iopub.execute_input": "2024-03-07T12:12:17.123441Z",
     "iopub.status.busy": "2024-03-07T12:12:17.123141Z",
     "iopub.status.idle": "2024-03-07T12:12:17.130874Z",
     "shell.execute_reply": "2024-03-07T12:12:17.130201Z",
     "shell.execute_reply.started": "2024-03-07T12:12:17.123422Z"
    }
   },
   "outputs": [
    {
     "name": "stdout",
     "output_type": "stream",
     "text": [
      "<class 'pandas.core.frame.DataFrame'>\n",
      "RangeIndex: 295 entries, 0 to 294\n",
      "Data columns (total 5 columns):\n",
      " #   Column      Non-Null Count  Dtype  \n",
      "---  ------      --------------  -----  \n",
      " 0   id          295 non-null    int64  \n",
      " 1   mew         295 non-null    float64\n",
      " 2   meg         295 non-null    float64\n",
      " 3   ie          295 non-null    float64\n",
      " 4   curbnumber  295 non-null    float64\n",
      "dtypes: float64(4), int64(1)\n",
      "memory usage: 11.7 KB\n"
     ]
    }
   ],
   "source": [
    "dfc.info()"
   ]
  },
  {
   "cell_type": "code",
   "execution_count": 13,
   "id": "e66dfdbf-610d-40b1-ae40-5b9fa8702845",
   "metadata": {
    "execution": {
     "iopub.execute_input": "2024-03-07T11:38:25.586441Z",
     "iopub.status.busy": "2024-03-07T11:38:25.585910Z",
     "iopub.status.idle": "2024-03-07T11:38:25.954782Z",
     "shell.execute_reply": "2024-03-07T11:38:25.954214Z",
     "shell.execute_reply.started": "2024-03-07T11:38:25.586418Z"
    }
   },
   "outputs": [],
   "source": [
    "df_raw = pd.read_excel('/home/yelhe/data/Acc/E_Trottis_Unfallbericht_2019-2022.xlsx',sheet_name=None)"
   ]
  },
  {
   "cell_type": "code",
   "execution_count": 16,
   "id": "3f388e5f-e6d0-4d9b-8b89-1b2840f32fa1",
   "metadata": {
    "execution": {
     "iopub.execute_input": "2024-03-07T11:47:31.362260Z",
     "iopub.status.busy": "2024-03-07T11:47:31.361975Z",
     "iopub.status.idle": "2024-03-07T11:47:31.365252Z",
     "shell.execute_reply": "2024-03-07T11:47:31.364643Z",
     "shell.execute_reply.started": "2024-03-07T11:47:31.362242Z"
    }
   },
   "outputs": [],
   "source": [
    "dfse = df_raw['Allgemeine Angaben']"
   ]
  },
  {
   "cell_type": "code",
   "execution_count": 20,
   "id": "bc92d4fb-7546-4467-843a-7b6e21f5679d",
   "metadata": {
    "execution": {
     "iopub.execute_input": "2024-03-07T11:49:07.289660Z",
     "iopub.status.busy": "2024-03-07T11:49:07.289350Z",
     "iopub.status.idle": "2024-03-07T11:49:07.293772Z",
     "shell.execute_reply": "2024-03-07T11:49:07.293002Z",
     "shell.execute_reply.started": "2024-03-07T11:49:07.289639Z"
    }
   },
   "outputs": [],
   "source": [
    "se = dfse[['Unfall-Nr.', 'G*', 'SV*', 'LV*', 'Sach-\\nschaden**']]"
   ]
  },
  {
   "cell_type": "code",
   "execution_count": 22,
   "id": "1dfb801b-7bc5-4a44-9996-fc8d430e0e9a",
   "metadata": {
    "execution": {
     "iopub.execute_input": "2024-03-07T11:50:53.398424Z",
     "iopub.status.busy": "2024-03-07T11:50:53.398133Z",
     "iopub.status.idle": "2024-03-07T11:50:53.402401Z",
     "shell.execute_reply": "2024-03-07T11:50:53.401807Z",
     "shell.execute_reply.started": "2024-03-07T11:50:53.398405Z"
    }
   },
   "outputs": [
    {
     "name": "stderr",
     "output_type": "stream",
     "text": [
      "/sctmp/yelhe/ipykernel_3376043/902077865.py:1: SettingWithCopyWarning: \n",
      "A value is trying to be set on a copy of a slice from a DataFrame\n",
      "\n",
      "See the caveats in the documentation: https://pandas.pydata.org/pandas-docs/stable/user_guide/indexing.html#returning-a-view-versus-a-copy\n",
      "  se.rename(columns = {'Unfall-Nr.': 'Nr', 'G*':'G', 'SV*':'SV','LV*':'LV','Sach-\\nschaden**':'PD',}, inplace = True)\n"
     ]
    }
   ],
   "source": [
    "se.rename(columns = {'Unfall-Nr.': 'Nr', 'G*':'G', 'SV*':'SV','LV*':'LV','Sach-\\nschaden**':'PD',}, inplace = True)"
   ]
  },
  {
   "cell_type": "code",
   "execution_count": 59,
   "id": "255d428c-a01d-4452-94f5-27c6f70362b8",
   "metadata": {
    "execution": {
     "iopub.execute_input": "2024-03-07T12:12:02.517704Z",
     "iopub.status.busy": "2024-03-07T12:12:02.517412Z",
     "iopub.status.idle": "2024-03-07T12:12:02.521360Z",
     "shell.execute_reply": "2024-03-07T12:12:02.520851Z",
     "shell.execute_reply.started": "2024-03-07T12:12:02.517685Z"
    }
   },
   "outputs": [
    {
     "name": "stderr",
     "output_type": "stream",
     "text": [
      "/sctmp/yelhe/ipykernel_3376043/3024162487.py:1: SettingWithCopyWarning: \n",
      "A value is trying to be set on a copy of a slice from a DataFrame\n",
      "\n",
      "See the caveats in the documentation: https://pandas.pydata.org/pandas-docs/stable/user_guide/indexing.html#returning-a-view-versus-a-copy\n",
      "  se.rename(columns = {'Nr':'id'}, inplace = True)\n"
     ]
    }
   ],
   "source": [
    "se.rename(columns = {'Nr':'id'}, inplace = True)"
   ]
  },
  {
   "cell_type": "code",
   "execution_count": 60,
   "id": "cc0d4960-04d3-4d04-bf8a-0a79914515db",
   "metadata": {
    "execution": {
     "iopub.execute_input": "2024-03-07T12:12:07.550055Z",
     "iopub.status.busy": "2024-03-07T12:12:07.549759Z",
     "iopub.status.idle": "2024-03-07T12:12:07.557332Z",
     "shell.execute_reply": "2024-03-07T12:12:07.556657Z",
     "shell.execute_reply.started": "2024-03-07T12:12:07.550034Z"
    }
   },
   "outputs": [
    {
     "name": "stdout",
     "output_type": "stream",
     "text": [
      "<class 'pandas.core.frame.DataFrame'>\n",
      "RangeIndex: 350 entries, 0 to 349\n",
      "Data columns (total 5 columns):\n",
      " #   Column  Non-Null Count  Dtype\n",
      "---  ------  --------------  -----\n",
      " 0   id      350 non-null    int64\n",
      " 1   G       350 non-null    int64\n",
      " 2   SV      350 non-null    int64\n",
      " 3   LV      350 non-null    int64\n",
      " 4   PD      350 non-null    int64\n",
      "dtypes: int64(5)\n",
      "memory usage: 13.8 KB\n"
     ]
    }
   ],
   "source": [
    "se.info()"
   ]
  },
  {
   "cell_type": "code",
   "execution_count": 62,
   "id": "ac0800d3-621d-492e-a1eb-7c27c91e4db6",
   "metadata": {
    "execution": {
     "iopub.execute_input": "2024-03-07T12:12:55.883507Z",
     "iopub.status.busy": "2024-03-07T12:12:55.882796Z",
     "iopub.status.idle": "2024-03-07T12:12:55.888892Z",
     "shell.execute_reply": "2024-03-07T12:12:55.888363Z",
     "shell.execute_reply.started": "2024-03-07T12:12:55.883477Z"
    }
   },
   "outputs": [],
   "source": [
    "# Regression curb\n",
    "dfrc = pd.merge(se, dfc, on = ['id'])"
   ]
  },
  {
   "cell_type": "code",
   "execution_count": 69,
   "id": "5ed5a34e-c286-4df8-aefe-3f6f39b4e248",
   "metadata": {
    "execution": {
     "iopub.execute_input": "2024-03-07T12:21:15.428607Z",
     "iopub.status.busy": "2024-03-07T12:21:15.428320Z",
     "iopub.status.idle": "2024-03-07T12:21:15.431991Z",
     "shell.execute_reply": "2024-03-07T12:21:15.431353Z",
     "shell.execute_reply.started": "2024-03-07T12:21:15.428588Z"
    }
   },
   "outputs": [],
   "source": [
    "dfrc.rename(columns = {'curbnumber':'cn'}, inplace = True)"
   ]
  },
  {
   "cell_type": "code",
   "execution_count": 72,
   "id": "3616ef99-8eed-47e2-8a67-f0ccc254aa39",
   "metadata": {
    "execution": {
     "iopub.execute_input": "2024-03-07T12:22:12.275070Z",
     "iopub.status.busy": "2024-03-07T12:22:12.274578Z",
     "iopub.status.idle": "2024-03-07T12:22:12.278858Z",
     "shell.execute_reply": "2024-03-07T12:22:12.278257Z",
     "shell.execute_reply.started": "2024-03-07T12:22:12.275052Z"
    }
   },
   "outputs": [],
   "source": [
    "# severity-person \n",
    "# G:10, SV:5, LV:1\n",
    "dfrc['sp'] = dfrc['G']*10 + dfrc['SV'] *5 + dfrc['LV']*1"
   ]
  },
  {
   "cell_type": "code",
   "execution_count": 66,
   "id": "37ba96bd-bc69-4935-88af-0bd7f845bbf0",
   "metadata": {
    "execution": {
     "iopub.execute_input": "2024-03-07T12:16:36.779052Z",
     "iopub.status.busy": "2024-03-07T12:16:36.778775Z",
     "iopub.status.idle": "2024-03-07T12:16:36.782522Z",
     "shell.execute_reply": "2024-03-07T12:16:36.781913Z",
     "shell.execute_reply.started": "2024-03-07T12:16:36.779033Z"
    }
   },
   "outputs": [],
   "source": [
    "# severity-property, property damage\n",
    "dfrc.rename(columns = {'PD':'pd'}, inplace = True)"
   ]
  },
  {
   "cell_type": "code",
   "execution_count": 74,
   "id": "c61eafd3-f3c4-4f61-bfa1-780c6207bd50",
   "metadata": {
    "execution": {
     "iopub.execute_input": "2024-03-07T12:22:40.852955Z",
     "iopub.status.busy": "2024-03-07T12:22:40.852662Z",
     "iopub.status.idle": "2024-03-07T12:22:40.859262Z",
     "shell.execute_reply": "2024-03-07T12:22:40.858693Z",
     "shell.execute_reply.started": "2024-03-07T12:22:40.852935Z"
    }
   },
   "outputs": [
    {
     "data": {
      "text/plain": [
       "count    295.000000\n",
       "mean       1.606780\n",
       "std        1.635477\n",
       "min        0.000000\n",
       "25%        1.000000\n",
       "50%        1.000000\n",
       "75%        1.000000\n",
       "max        6.000000\n",
       "Name: sp, dtype: float64"
      ]
     },
     "execution_count": 74,
     "metadata": {},
     "output_type": "execute_result"
    }
   ],
   "source": [
    "dfrc['sp'].describe()"
   ]
  },
  {
   "cell_type": "code",
   "execution_count": 73,
   "id": "670b0f19-0fee-4d16-afa8-8460762914b0",
   "metadata": {
    "execution": {
     "iopub.execute_input": "2024-03-07T12:22:14.101132Z",
     "iopub.status.busy": "2024-03-07T12:22:14.100860Z",
     "iopub.status.idle": "2024-03-07T12:22:14.111971Z",
     "shell.execute_reply": "2024-03-07T12:22:14.111379Z",
     "shell.execute_reply.started": "2024-03-07T12:22:14.101115Z"
    }
   },
   "outputs": [
    {
     "data": {
      "text/html": [
       "<div>\n",
       "<style scoped>\n",
       "    .dataframe tbody tr th:only-of-type {\n",
       "        vertical-align: middle;\n",
       "    }\n",
       "\n",
       "    .dataframe tbody tr th {\n",
       "        vertical-align: top;\n",
       "    }\n",
       "\n",
       "    .dataframe thead th {\n",
       "        text-align: right;\n",
       "    }\n",
       "</style>\n",
       "<table border=\"1\" class=\"dataframe\">\n",
       "  <thead>\n",
       "    <tr style=\"text-align: right;\">\n",
       "      <th></th>\n",
       "      <th>id</th>\n",
       "      <th>G</th>\n",
       "      <th>SV</th>\n",
       "      <th>LV</th>\n",
       "      <th>pd</th>\n",
       "      <th>mew</th>\n",
       "      <th>meg</th>\n",
       "      <th>ie</th>\n",
       "      <th>cn</th>\n",
       "      <th>sp</th>\n",
       "    </tr>\n",
       "  </thead>\n",
       "  <tbody>\n",
       "    <tr>\n",
       "      <th>0</th>\n",
       "      <td>99900060852597</td>\n",
       "      <td>0</td>\n",
       "      <td>0</td>\n",
       "      <td>1</td>\n",
       "      <td>15</td>\n",
       "      <td>1.555710</td>\n",
       "      <td>1.134028</td>\n",
       "      <td>4.423497</td>\n",
       "      <td>3.0</td>\n",
       "      <td>1</td>\n",
       "    </tr>\n",
       "    <tr>\n",
       "      <th>1</th>\n",
       "      <td>99900063018611</td>\n",
       "      <td>0</td>\n",
       "      <td>1</td>\n",
       "      <td>0</td>\n",
       "      <td>0</td>\n",
       "      <td>1.218010</td>\n",
       "      <td>1.391244</td>\n",
       "      <td>4.394696</td>\n",
       "      <td>2.0</td>\n",
       "      <td>5</td>\n",
       "    </tr>\n",
       "    <tr>\n",
       "      <th>2</th>\n",
       "      <td>99900052723510</td>\n",
       "      <td>0</td>\n",
       "      <td>0</td>\n",
       "      <td>1</td>\n",
       "      <td>500</td>\n",
       "      <td>1.546895</td>\n",
       "      <td>1.165230</td>\n",
       "      <td>4.745557</td>\n",
       "      <td>3.0</td>\n",
       "      <td>1</td>\n",
       "    </tr>\n",
       "    <tr>\n",
       "      <th>3</th>\n",
       "      <td>99900061514043</td>\n",
       "      <td>0</td>\n",
       "      <td>0</td>\n",
       "      <td>1</td>\n",
       "      <td>3000</td>\n",
       "      <td>1.383025</td>\n",
       "      <td>1.072425</td>\n",
       "      <td>4.505332</td>\n",
       "      <td>3.0</td>\n",
       "      <td>1</td>\n",
       "    </tr>\n",
       "    <tr>\n",
       "      <th>4</th>\n",
       "      <td>99900063037843</td>\n",
       "      <td>0</td>\n",
       "      <td>1</td>\n",
       "      <td>0</td>\n",
       "      <td>200</td>\n",
       "      <td>1.407611</td>\n",
       "      <td>1.212947</td>\n",
       "      <td>4.718839</td>\n",
       "      <td>1.0</td>\n",
       "      <td>5</td>\n",
       "    </tr>\n",
       "    <tr>\n",
       "      <th>...</th>\n",
       "      <td>...</td>\n",
       "      <td>...</td>\n",
       "      <td>...</td>\n",
       "      <td>...</td>\n",
       "      <td>...</td>\n",
       "      <td>...</td>\n",
       "      <td>...</td>\n",
       "      <td>...</td>\n",
       "      <td>...</td>\n",
       "      <td>...</td>\n",
       "    </tr>\n",
       "    <tr>\n",
       "      <th>290</th>\n",
       "      <td>99900056387598</td>\n",
       "      <td>0</td>\n",
       "      <td>0</td>\n",
       "      <td>1</td>\n",
       "      <td>500</td>\n",
       "      <td>1.356314</td>\n",
       "      <td>1.230079</td>\n",
       "      <td>4.378835</td>\n",
       "      <td>3.0</td>\n",
       "      <td>1</td>\n",
       "    </tr>\n",
       "    <tr>\n",
       "      <th>291</th>\n",
       "      <td>99900055999694</td>\n",
       "      <td>0</td>\n",
       "      <td>0</td>\n",
       "      <td>2</td>\n",
       "      <td>800</td>\n",
       "      <td>1.223370</td>\n",
       "      <td>1.054068</td>\n",
       "      <td>4.720262</td>\n",
       "      <td>1.0</td>\n",
       "      <td>2</td>\n",
       "    </tr>\n",
       "    <tr>\n",
       "      <th>292</th>\n",
       "      <td>99900055905276</td>\n",
       "      <td>0</td>\n",
       "      <td>0</td>\n",
       "      <td>1</td>\n",
       "      <td>0</td>\n",
       "      <td>1.388393</td>\n",
       "      <td>1.234136</td>\n",
       "      <td>4.660859</td>\n",
       "      <td>1.0</td>\n",
       "      <td>1</td>\n",
       "    </tr>\n",
       "    <tr>\n",
       "      <th>293</th>\n",
       "      <td>99900060670975</td>\n",
       "      <td>0</td>\n",
       "      <td>0</td>\n",
       "      <td>1</td>\n",
       "      <td>200</td>\n",
       "      <td>1.281702</td>\n",
       "      <td>1.176235</td>\n",
       "      <td>4.686211</td>\n",
       "      <td>0.0</td>\n",
       "      <td>1</td>\n",
       "    </tr>\n",
       "    <tr>\n",
       "      <th>294</th>\n",
       "      <td>99900050714619</td>\n",
       "      <td>0</td>\n",
       "      <td>1</td>\n",
       "      <td>0</td>\n",
       "      <td>0</td>\n",
       "      <td>1.451102</td>\n",
       "      <td>1.212751</td>\n",
       "      <td>4.681359</td>\n",
       "      <td>0.0</td>\n",
       "      <td>5</td>\n",
       "    </tr>\n",
       "  </tbody>\n",
       "</table>\n",
       "<p>295 rows × 10 columns</p>\n",
       "</div>"
      ],
      "text/plain": [
       "                 id  G  SV  LV    pd       mew       meg        ie   cn  sp\n",
       "0    99900060852597  0   0   1    15  1.555710  1.134028  4.423497  3.0   1\n",
       "1    99900063018611  0   1   0     0  1.218010  1.391244  4.394696  2.0   5\n",
       "2    99900052723510  0   0   1   500  1.546895  1.165230  4.745557  3.0   1\n",
       "3    99900061514043  0   0   1  3000  1.383025  1.072425  4.505332  3.0   1\n",
       "4    99900063037843  0   1   0   200  1.407611  1.212947  4.718839  1.0   5\n",
       "..              ... ..  ..  ..   ...       ...       ...       ...  ...  ..\n",
       "290  99900056387598  0   0   1   500  1.356314  1.230079  4.378835  3.0   1\n",
       "291  99900055999694  0   0   2   800  1.223370  1.054068  4.720262  1.0   2\n",
       "292  99900055905276  0   0   1     0  1.388393  1.234136  4.660859  1.0   1\n",
       "293  99900060670975  0   0   1   200  1.281702  1.176235  4.686211  0.0   1\n",
       "294  99900050714619  0   1   0     0  1.451102  1.212751  4.681359  0.0   5\n",
       "\n",
       "[295 rows x 10 columns]"
      ]
     },
     "execution_count": 73,
     "metadata": {},
     "output_type": "execute_result"
    }
   ],
   "source": [
    "dfrc"
   ]
  },
  {
   "cell_type": "code",
   "execution_count": 67,
   "id": "b46d5518-dab4-4896-a3f7-7aa74a012e35",
   "metadata": {
    "execution": {
     "iopub.execute_input": "2024-03-07T12:19:10.381630Z",
     "iopub.status.busy": "2024-03-07T12:19:10.381118Z",
     "iopub.status.idle": "2024-03-07T12:19:11.718980Z",
     "shell.execute_reply": "2024-03-07T12:19:11.718472Z",
     "shell.execute_reply.started": "2024-03-07T12:19:10.381607Z"
    }
   },
   "outputs": [],
   "source": [
    "import statsmodels.api as sm"
   ]
  },
  {
   "cell_type": "code",
   "execution_count": 78,
   "id": "a4488798-55cd-4681-a14b-b153648c9326",
   "metadata": {
    "execution": {
     "iopub.execute_input": "2024-03-07T12:26:32.622420Z",
     "iopub.status.busy": "2024-03-07T12:26:32.622137Z",
     "iopub.status.idle": "2024-03-07T12:26:32.649915Z",
     "shell.execute_reply": "2024-03-07T12:26:32.649453Z",
     "shell.execute_reply.started": "2024-03-07T12:26:32.622402Z"
    }
   },
   "outputs": [
    {
     "data": {
      "text/plain": [
       "const    3.006348\n",
       "mew     -1.378461\n",
       "meg      0.464645\n",
       "ie      -0.039340\n",
       "cn      -0.017868\n",
       "dtype: float64"
      ]
     },
     "execution_count": 78,
     "metadata": {},
     "output_type": "execute_result"
    }
   ],
   "source": [
    "# result_sp = sm.OLS(formula='sp ~ mew + meg + ie + cn', data=dfrc).fit()\n",
    "Y = dfrc['sp']\n",
    "X = dfrc[['mew','meg','ie','cn']]\n",
    "X = sm.add_constant(X)\n",
    "model1 = sm.OLS(Y, X)\n",
    "result1 = model1.fit()\n",
    "result1.params"
   ]
  },
  {
   "cell_type": "code",
   "execution_count": 79,
   "id": "05ac1940-7656-447a-a730-7a3a73651d45",
   "metadata": {
    "execution": {
     "iopub.execute_input": "2024-03-07T12:26:55.205147Z",
     "iopub.status.busy": "2024-03-07T12:26:55.204856Z",
     "iopub.status.idle": "2024-03-07T12:26:55.210341Z",
     "shell.execute_reply": "2024-03-07T12:26:55.209709Z",
     "shell.execute_reply.started": "2024-03-07T12:26:55.205130Z"
    }
   },
   "outputs": [
    {
     "data": {
      "text/plain": [
       "const    1.278016\n",
       "mew     -2.155572\n",
       "meg      1.093304\n",
       "ie      -0.078663\n",
       "cn      -0.242419\n",
       "dtype: float64"
      ]
     },
     "execution_count": 79,
     "metadata": {},
     "output_type": "execute_result"
    }
   ],
   "source": [
    "result1.tvalues"
   ]
  },
  {
   "cell_type": "code",
   "execution_count": 84,
   "id": "4aa02be6-2138-4dc0-8280-0bfa794c47fc",
   "metadata": {
    "execution": {
     "iopub.execute_input": "2024-03-07T12:28:21.507400Z",
     "iopub.status.busy": "2024-03-07T12:28:21.506939Z",
     "iopub.status.idle": "2024-03-07T12:28:21.528779Z",
     "shell.execute_reply": "2024-03-07T12:28:21.528315Z",
     "shell.execute_reply.started": "2024-03-07T12:28:21.507383Z"
    }
   },
   "outputs": [
    {
     "data": {
      "text/html": [
       "<table class=\"simpletable\">\n",
       "<caption>OLS Regression Results</caption>\n",
       "<tr>\n",
       "  <th>Dep. Variable:</th>           <td>sp</td>        <th>  R-squared:         </th> <td>   0.018</td>\n",
       "</tr>\n",
       "<tr>\n",
       "  <th>Model:</th>                   <td>OLS</td>       <th>  Adj. R-squared:    </th> <td>   0.004</td>\n",
       "</tr>\n",
       "<tr>\n",
       "  <th>Method:</th>             <td>Least Squares</td>  <th>  F-statistic:       </th> <td>   1.297</td>\n",
       "</tr>\n",
       "<tr>\n",
       "  <th>Date:</th>             <td>Thu, 07 Mar 2024</td> <th>  Prob (F-statistic):</th>  <td> 0.271</td> \n",
       "</tr>\n",
       "<tr>\n",
       "  <th>Time:</th>                 <td>13:28:21</td>     <th>  Log-Likelihood:    </th> <td> -560.59</td>\n",
       "</tr>\n",
       "<tr>\n",
       "  <th>No. Observations:</th>      <td>   295</td>      <th>  AIC:               </th> <td>   1131.</td>\n",
       "</tr>\n",
       "<tr>\n",
       "  <th>Df Residuals:</th>          <td>   290</td>      <th>  BIC:               </th> <td>   1150.</td>\n",
       "</tr>\n",
       "<tr>\n",
       "  <th>Df Model:</th>              <td>     4</td>      <th>                     </th>     <td> </td>   \n",
       "</tr>\n",
       "<tr>\n",
       "  <th>Covariance Type:</th>      <td>nonrobust</td>    <th>                     </th>     <td> </td>   \n",
       "</tr>\n",
       "</table>\n",
       "<table class=\"simpletable\">\n",
       "<tr>\n",
       "    <td></td>       <th>coef</th>     <th>std err</th>      <th>t</th>      <th>P>|t|</th>  <th>[0.025</th>    <th>0.975]</th>  \n",
       "</tr>\n",
       "<tr>\n",
       "  <th>const</th> <td>    3.0063</td> <td>    2.352</td> <td>    1.278</td> <td> 0.202</td> <td>   -1.624</td> <td>    7.636</td>\n",
       "</tr>\n",
       "<tr>\n",
       "  <th>mew</th>   <td>   -1.3785</td> <td>    0.639</td> <td>   -2.156</td> <td> 0.032</td> <td>   -2.637</td> <td>   -0.120</td>\n",
       "</tr>\n",
       "<tr>\n",
       "  <th>meg</th>   <td>    0.4646</td> <td>    0.425</td> <td>    1.093</td> <td> 0.275</td> <td>   -0.372</td> <td>    1.301</td>\n",
       "</tr>\n",
       "<tr>\n",
       "  <th>ie</th>    <td>   -0.0393</td> <td>    0.500</td> <td>   -0.079</td> <td> 0.937</td> <td>   -1.024</td> <td>    0.945</td>\n",
       "</tr>\n",
       "<tr>\n",
       "  <th>cn</th>    <td>   -0.0179</td> <td>    0.074</td> <td>   -0.242</td> <td> 0.809</td> <td>   -0.163</td> <td>    0.127</td>\n",
       "</tr>\n",
       "</table>\n",
       "<table class=\"simpletable\">\n",
       "<tr>\n",
       "  <th>Omnibus:</th>       <td>73.775</td> <th>  Durbin-Watson:     </th> <td>   1.790</td>\n",
       "</tr>\n",
       "<tr>\n",
       "  <th>Prob(Omnibus):</th> <td> 0.000</td> <th>  Jarque-Bera (JB):  </th> <td> 123.847</td>\n",
       "</tr>\n",
       "<tr>\n",
       "  <th>Skew:</th>          <td> 1.520</td> <th>  Prob(JB):          </th> <td>1.28e-27</td>\n",
       "</tr>\n",
       "<tr>\n",
       "  <th>Kurtosis:</th>      <td> 3.914</td> <th>  Cond. No.          </th> <td>    127.</td>\n",
       "</tr>\n",
       "</table><br/><br/>Notes:<br/>[1] Standard Errors assume that the covariance matrix of the errors is correctly specified."
      ],
      "text/latex": [
       "\\begin{center}\n",
       "\\begin{tabular}{lclc}\n",
       "\\toprule\n",
       "\\textbf{Dep. Variable:}    &        sp        & \\textbf{  R-squared:         } &     0.018   \\\\\n",
       "\\textbf{Model:}            &       OLS        & \\textbf{  Adj. R-squared:    } &     0.004   \\\\\n",
       "\\textbf{Method:}           &  Least Squares   & \\textbf{  F-statistic:       } &     1.297   \\\\\n",
       "\\textbf{Date:}             & Thu, 07 Mar 2024 & \\textbf{  Prob (F-statistic):} &    0.271    \\\\\n",
       "\\textbf{Time:}             &     13:28:21     & \\textbf{  Log-Likelihood:    } &   -560.59   \\\\\n",
       "\\textbf{No. Observations:} &         295      & \\textbf{  AIC:               } &     1131.   \\\\\n",
       "\\textbf{Df Residuals:}     &         290      & \\textbf{  BIC:               } &     1150.   \\\\\n",
       "\\textbf{Df Model:}         &           4      & \\textbf{                     } &             \\\\\n",
       "\\textbf{Covariance Type:}  &    nonrobust     & \\textbf{                     } &             \\\\\n",
       "\\bottomrule\n",
       "\\end{tabular}\n",
       "\\begin{tabular}{lcccccc}\n",
       "               & \\textbf{coef} & \\textbf{std err} & \\textbf{t} & \\textbf{P$> |$t$|$} & \\textbf{[0.025} & \\textbf{0.975]}  \\\\\n",
       "\\midrule\n",
       "\\textbf{const} &       3.0063  &        2.352     &     1.278  &         0.202        &       -1.624    &        7.636     \\\\\n",
       "\\textbf{mew}   &      -1.3785  &        0.639     &    -2.156  &         0.032        &       -2.637    &       -0.120     \\\\\n",
       "\\textbf{meg}   &       0.4646  &        0.425     &     1.093  &         0.275        &       -0.372    &        1.301     \\\\\n",
       "\\textbf{ie}    &      -0.0393  &        0.500     &    -0.079  &         0.937        &       -1.024    &        0.945     \\\\\n",
       "\\textbf{cn}    &      -0.0179  &        0.074     &    -0.242  &         0.809        &       -0.163    &        0.127     \\\\\n",
       "\\bottomrule\n",
       "\\end{tabular}\n",
       "\\begin{tabular}{lclc}\n",
       "\\textbf{Omnibus:}       & 73.775 & \\textbf{  Durbin-Watson:     } &    1.790  \\\\\n",
       "\\textbf{Prob(Omnibus):} &  0.000 & \\textbf{  Jarque-Bera (JB):  } &  123.847  \\\\\n",
       "\\textbf{Skew:}          &  1.520 & \\textbf{  Prob(JB):          } & 1.28e-27  \\\\\n",
       "\\textbf{Kurtosis:}      &  3.914 & \\textbf{  Cond. No.          } &     127.  \\\\\n",
       "\\bottomrule\n",
       "\\end{tabular}\n",
       "%\\caption{OLS Regression Results}\n",
       "\\end{center}\n",
       "\n",
       "Notes: \\newline\n",
       " [1] Standard Errors assume that the covariance matrix of the errors is correctly specified."
      ],
      "text/plain": [
       "<class 'statsmodels.iolib.summary.Summary'>\n",
       "\"\"\"\n",
       "                            OLS Regression Results                            \n",
       "==============================================================================\n",
       "Dep. Variable:                     sp   R-squared:                       0.018\n",
       "Model:                            OLS   Adj. R-squared:                  0.004\n",
       "Method:                 Least Squares   F-statistic:                     1.297\n",
       "Date:                Thu, 07 Mar 2024   Prob (F-statistic):              0.271\n",
       "Time:                        13:28:21   Log-Likelihood:                -560.59\n",
       "No. Observations:                 295   AIC:                             1131.\n",
       "Df Residuals:                     290   BIC:                             1150.\n",
       "Df Model:                           4                                         \n",
       "Covariance Type:            nonrobust                                         \n",
       "==============================================================================\n",
       "                 coef    std err          t      P>|t|      [0.025      0.975]\n",
       "------------------------------------------------------------------------------\n",
       "const          3.0063      2.352      1.278      0.202      -1.624       7.636\n",
       "mew           -1.3785      0.639     -2.156      0.032      -2.637      -0.120\n",
       "meg            0.4646      0.425      1.093      0.275      -0.372       1.301\n",
       "ie            -0.0393      0.500     -0.079      0.937      -1.024       0.945\n",
       "cn            -0.0179      0.074     -0.242      0.809      -0.163       0.127\n",
       "==============================================================================\n",
       "Omnibus:                       73.775   Durbin-Watson:                   1.790\n",
       "Prob(Omnibus):                  0.000   Jarque-Bera (JB):              123.847\n",
       "Skew:                           1.520   Prob(JB):                     1.28e-27\n",
       "Kurtosis:                       3.914   Cond. No.                         127.\n",
       "==============================================================================\n",
       "\n",
       "Notes:\n",
       "[1] Standard Errors assume that the covariance matrix of the errors is correctly specified.\n",
       "\"\"\""
      ]
     },
     "execution_count": 84,
     "metadata": {},
     "output_type": "execute_result"
    }
   ],
   "source": [
    "result1.summary()"
   ]
  },
  {
   "cell_type": "code",
   "execution_count": 85,
   "id": "c9625342-8c69-40e9-be48-eb874347f350",
   "metadata": {
    "execution": {
     "iopub.execute_input": "2024-03-07T12:31:48.912968Z",
     "iopub.status.busy": "2024-03-07T12:31:48.912689Z",
     "iopub.status.idle": "2024-03-07T12:31:48.922220Z",
     "shell.execute_reply": "2024-03-07T12:31:48.921625Z",
     "shell.execute_reply.started": "2024-03-07T12:31:48.912948Z"
    }
   },
   "outputs": [
    {
     "data": {
      "text/plain": [
       "const    8775.819709\n",
       "mew       292.416884\n",
       "meg       579.330298\n",
       "ie      -1905.199714\n",
       "cn       -124.232695\n",
       "dtype: float64"
      ]
     },
     "execution_count": 85,
     "metadata": {},
     "output_type": "execute_result"
    }
   ],
   "source": [
    "# result_sp = sm.OLS(formula='sp ~ mew + meg + ie + cn', data=dfrc).fit()\n",
    "Y2 = dfrc['pd']\n",
    "X2 = dfrc[['mew','meg','ie','cn']]\n",
    "X2 = sm.add_constant(X2)\n",
    "model2 = sm.OLS(Y2, X2)\n",
    "result2 = model2.fit()\n",
    "result2.params"
   ]
  },
  {
   "cell_type": "code",
   "execution_count": 86,
   "id": "4aee90ae-605d-4ecc-b683-7f5c35cb1034",
   "metadata": {
    "execution": {
     "iopub.execute_input": "2024-03-07T12:31:49.520711Z",
     "iopub.status.busy": "2024-03-07T12:31:49.520435Z",
     "iopub.status.idle": "2024-03-07T12:31:49.525412Z",
     "shell.execute_reply": "2024-03-07T12:31:49.524862Z",
     "shell.execute_reply.started": "2024-03-07T12:31:49.520693Z"
    }
   },
   "outputs": [
    {
     "data": {
      "text/plain": [
       "const    1.775085\n",
       "mew      0.217573\n",
       "meg      0.648606\n",
       "ie      -1.812638\n",
       "cn      -0.801993\n",
       "dtype: float64"
      ]
     },
     "execution_count": 86,
     "metadata": {},
     "output_type": "execute_result"
    }
   ],
   "source": [
    "result2.tvalues"
   ]
  },
  {
   "cell_type": "code",
   "execution_count": 87,
   "id": "9be17613-571b-48c8-8543-45a47710acdb",
   "metadata": {
    "execution": {
     "iopub.execute_input": "2024-03-07T12:31:50.038483Z",
     "iopub.status.busy": "2024-03-07T12:31:50.038196Z",
     "iopub.status.idle": "2024-03-07T12:31:50.060764Z",
     "shell.execute_reply": "2024-03-07T12:31:50.060211Z",
     "shell.execute_reply.started": "2024-03-07T12:31:50.038464Z"
    }
   },
   "outputs": [
    {
     "data": {
      "text/html": [
       "<table class=\"simpletable\">\n",
       "<caption>OLS Regression Results</caption>\n",
       "<tr>\n",
       "  <th>Dep. Variable:</th>           <td>pd</td>        <th>  R-squared:         </th> <td>   0.015</td>\n",
       "</tr>\n",
       "<tr>\n",
       "  <th>Model:</th>                   <td>OLS</td>       <th>  Adj. R-squared:    </th> <td>   0.002</td>\n",
       "</tr>\n",
       "<tr>\n",
       "  <th>Method:</th>             <td>Least Squares</td>  <th>  F-statistic:       </th> <td>   1.120</td>\n",
       "</tr>\n",
       "<tr>\n",
       "  <th>Date:</th>             <td>Thu, 07 Mar 2024</td> <th>  Prob (F-statistic):</th>  <td> 0.347</td> \n",
       "</tr>\n",
       "<tr>\n",
       "  <th>Time:</th>                 <td>13:31:50</td>     <th>  Log-Likelihood:    </th> <td> -2817.5</td>\n",
       "</tr>\n",
       "<tr>\n",
       "  <th>No. Observations:</th>      <td>   295</td>      <th>  AIC:               </th> <td>   5645.</td>\n",
       "</tr>\n",
       "<tr>\n",
       "  <th>Df Residuals:</th>          <td>   290</td>      <th>  BIC:               </th> <td>   5663.</td>\n",
       "</tr>\n",
       "<tr>\n",
       "  <th>Df Model:</th>              <td>     4</td>      <th>                     </th>     <td> </td>   \n",
       "</tr>\n",
       "<tr>\n",
       "  <th>Covariance Type:</th>      <td>nonrobust</td>    <th>                     </th>     <td> </td>   \n",
       "</tr>\n",
       "</table>\n",
       "<table class=\"simpletable\">\n",
       "<tr>\n",
       "    <td></td>       <th>coef</th>     <th>std err</th>      <th>t</th>      <th>P>|t|</th>  <th>[0.025</th>    <th>0.975]</th>  \n",
       "</tr>\n",
       "<tr>\n",
       "  <th>const</th> <td> 8775.8197</td> <td> 4943.887</td> <td>    1.775</td> <td> 0.077</td> <td> -954.630</td> <td> 1.85e+04</td>\n",
       "</tr>\n",
       "<tr>\n",
       "  <th>mew</th>   <td>  292.4169</td> <td> 1343.995</td> <td>    0.218</td> <td> 0.828</td> <td>-2352.805</td> <td> 2937.638</td>\n",
       "</tr>\n",
       "<tr>\n",
       "  <th>meg</th>   <td>  579.3303</td> <td>  893.193</td> <td>    0.649</td> <td> 0.517</td> <td>-1178.633</td> <td> 2337.293</td>\n",
       "</tr>\n",
       "<tr>\n",
       "  <th>ie</th>    <td>-1905.1997</td> <td> 1051.064</td> <td>   -1.813</td> <td> 0.071</td> <td>-3973.882</td> <td>  163.482</td>\n",
       "</tr>\n",
       "<tr>\n",
       "  <th>cn</th>    <td> -124.2327</td> <td>  154.905</td> <td>   -0.802</td> <td> 0.423</td> <td> -429.113</td> <td>  180.648</td>\n",
       "</tr>\n",
       "</table>\n",
       "<table class=\"simpletable\">\n",
       "<tr>\n",
       "  <th>Omnibus:</th>       <td>556.733</td> <th>  Durbin-Watson:     </th>  <td>   2.086</td> \n",
       "</tr>\n",
       "<tr>\n",
       "  <th>Prob(Omnibus):</th> <td> 0.000</td>  <th>  Jarque-Bera (JB):  </th> <td>320937.334</td>\n",
       "</tr>\n",
       "<tr>\n",
       "  <th>Skew:</th>          <td>11.247</td>  <th>  Prob(JB):          </th>  <td>    0.00</td> \n",
       "</tr>\n",
       "<tr>\n",
       "  <th>Kurtosis:</th>      <td>163.013</td> <th>  Cond. No.          </th>  <td>    127.</td> \n",
       "</tr>\n",
       "</table><br/><br/>Notes:<br/>[1] Standard Errors assume that the covariance matrix of the errors is correctly specified."
      ],
      "text/latex": [
       "\\begin{center}\n",
       "\\begin{tabular}{lclc}\n",
       "\\toprule\n",
       "\\textbf{Dep. Variable:}    &        pd        & \\textbf{  R-squared:         } &     0.015   \\\\\n",
       "\\textbf{Model:}            &       OLS        & \\textbf{  Adj. R-squared:    } &     0.002   \\\\\n",
       "\\textbf{Method:}           &  Least Squares   & \\textbf{  F-statistic:       } &     1.120   \\\\\n",
       "\\textbf{Date:}             & Thu, 07 Mar 2024 & \\textbf{  Prob (F-statistic):} &    0.347    \\\\\n",
       "\\textbf{Time:}             &     13:31:50     & \\textbf{  Log-Likelihood:    } &   -2817.5   \\\\\n",
       "\\textbf{No. Observations:} &         295      & \\textbf{  AIC:               } &     5645.   \\\\\n",
       "\\textbf{Df Residuals:}     &         290      & \\textbf{  BIC:               } &     5663.   \\\\\n",
       "\\textbf{Df Model:}         &           4      & \\textbf{                     } &             \\\\\n",
       "\\textbf{Covariance Type:}  &    nonrobust     & \\textbf{                     } &             \\\\\n",
       "\\bottomrule\n",
       "\\end{tabular}\n",
       "\\begin{tabular}{lcccccc}\n",
       "               & \\textbf{coef} & \\textbf{std err} & \\textbf{t} & \\textbf{P$> |$t$|$} & \\textbf{[0.025} & \\textbf{0.975]}  \\\\\n",
       "\\midrule\n",
       "\\textbf{const} &    8775.8197  &     4943.887     &     1.775  &         0.077        &     -954.630    &     1.85e+04     \\\\\n",
       "\\textbf{mew}   &     292.4169  &     1343.995     &     0.218  &         0.828        &    -2352.805    &     2937.638     \\\\\n",
       "\\textbf{meg}   &     579.3303  &      893.193     &     0.649  &         0.517        &    -1178.633    &     2337.293     \\\\\n",
       "\\textbf{ie}    &   -1905.1997  &     1051.064     &    -1.813  &         0.071        &    -3973.882    &      163.482     \\\\\n",
       "\\textbf{cn}    &    -124.2327  &      154.905     &    -0.802  &         0.423        &     -429.113    &      180.648     \\\\\n",
       "\\bottomrule\n",
       "\\end{tabular}\n",
       "\\begin{tabular}{lclc}\n",
       "\\textbf{Omnibus:}       & 556.733 & \\textbf{  Durbin-Watson:     } &     2.086   \\\\\n",
       "\\textbf{Prob(Omnibus):} &   0.000 & \\textbf{  Jarque-Bera (JB):  } & 320937.334  \\\\\n",
       "\\textbf{Skew:}          &  11.247 & \\textbf{  Prob(JB):          } &      0.00   \\\\\n",
       "\\textbf{Kurtosis:}      & 163.013 & \\textbf{  Cond. No.          } &      127.   \\\\\n",
       "\\bottomrule\n",
       "\\end{tabular}\n",
       "%\\caption{OLS Regression Results}\n",
       "\\end{center}\n",
       "\n",
       "Notes: \\newline\n",
       " [1] Standard Errors assume that the covariance matrix of the errors is correctly specified."
      ],
      "text/plain": [
       "<class 'statsmodels.iolib.summary.Summary'>\n",
       "\"\"\"\n",
       "                            OLS Regression Results                            \n",
       "==============================================================================\n",
       "Dep. Variable:                     pd   R-squared:                       0.015\n",
       "Model:                            OLS   Adj. R-squared:                  0.002\n",
       "Method:                 Least Squares   F-statistic:                     1.120\n",
       "Date:                Thu, 07 Mar 2024   Prob (F-statistic):              0.347\n",
       "Time:                        13:31:50   Log-Likelihood:                -2817.5\n",
       "No. Observations:                 295   AIC:                             5645.\n",
       "Df Residuals:                     290   BIC:                             5663.\n",
       "Df Model:                           4                                         \n",
       "Covariance Type:            nonrobust                                         \n",
       "==============================================================================\n",
       "                 coef    std err          t      P>|t|      [0.025      0.975]\n",
       "------------------------------------------------------------------------------\n",
       "const       8775.8197   4943.887      1.775      0.077    -954.630    1.85e+04\n",
       "mew          292.4169   1343.995      0.218      0.828   -2352.805    2937.638\n",
       "meg          579.3303    893.193      0.649      0.517   -1178.633    2337.293\n",
       "ie         -1905.1997   1051.064     -1.813      0.071   -3973.882     163.482\n",
       "cn          -124.2327    154.905     -0.802      0.423    -429.113     180.648\n",
       "==============================================================================\n",
       "Omnibus:                      556.733   Durbin-Watson:                   2.086\n",
       "Prob(Omnibus):                  0.000   Jarque-Bera (JB):           320937.334\n",
       "Skew:                          11.247   Prob(JB):                         0.00\n",
       "Kurtosis:                     163.013   Cond. No.                         127.\n",
       "==============================================================================\n",
       "\n",
       "Notes:\n",
       "[1] Standard Errors assume that the covariance matrix of the errors is correctly specified.\n",
       "\"\"\""
      ]
     },
     "execution_count": 87,
     "metadata": {},
     "output_type": "execute_result"
    }
   ],
   "source": [
    "result2.summary()"
   ]
  },
  {
   "cell_type": "code",
   "execution_count": 88,
   "id": "e6f4f6d0-d71a-409e-883a-9e1a8ca61544",
   "metadata": {
    "execution": {
     "iopub.execute_input": "2024-03-07T12:33:25.240095Z",
     "iopub.status.busy": "2024-03-07T12:33:25.239812Z",
     "iopub.status.idle": "2024-03-07T12:33:25.505107Z",
     "shell.execute_reply": "2024-03-07T12:33:25.504476Z",
     "shell.execute_reply.started": "2024-03-07T12:33:25.240079Z"
    }
   },
   "outputs": [
    {
     "data": {
      "image/png": "[encoded data removed]",
      "text/plain": [
       "<Figure size 640x480 with 2 Axes>"
      ]
     },
     "metadata": {},
     "output_type": "display_data"
    }
   ],
   "source": [
    "# vc\n",
    "vc = dfrc[['mew', 'meg', 'ie', 'cn', 'sp', 'pd']]\n",
    "corr_matrix = vc.corr()\n",
    "sn.heatmap(corr_matrix, annot = True)\n",
    "plt.show()"
   ]
  },
  {
   "cell_type": "code",
   "execution_count": 90,
   "id": "87d250dd-d6b8-4702-ae1e-958285767933",
   "metadata": {
    "execution": {
     "iopub.execute_input": "2024-03-07T12:44:11.995831Z",
     "iopub.status.busy": "2024-03-07T12:44:11.995526Z",
     "iopub.status.idle": "2024-03-07T12:44:12.016228Z",
     "shell.execute_reply": "2024-03-07T12:44:12.015554Z",
     "shell.execute_reply.started": "2024-03-07T12:44:11.995811Z"
    }
   },
   "outputs": [
    {
     "data": {
      "text/html": [
       "<table class=\"simpletable\">\n",
       "<caption>OLS Regression Results</caption>\n",
       "<tr>\n",
       "  <th>Dep. Variable:</th>           <td>sp</td>        <th>  R-squared:         </th> <td>   0.013</td>\n",
       "</tr>\n",
       "<tr>\n",
       "  <th>Model:</th>                   <td>OLS</td>       <th>  Adj. R-squared:    </th> <td>   0.010</td>\n",
       "</tr>\n",
       "<tr>\n",
       "  <th>Method:</th>             <td>Least Squares</td>  <th>  F-statistic:       </th> <td>   3.981</td>\n",
       "</tr>\n",
       "<tr>\n",
       "  <th>Date:</th>             <td>Thu, 07 Mar 2024</td> <th>  Prob (F-statistic):</th>  <td>0.0469</td> \n",
       "</tr>\n",
       "<tr>\n",
       "  <th>Time:</th>                 <td>13:44:11</td>     <th>  Log-Likelihood:    </th> <td> -561.22</td>\n",
       "</tr>\n",
       "<tr>\n",
       "  <th>No. Observations:</th>      <td>   295</td>      <th>  AIC:               </th> <td>   1126.</td>\n",
       "</tr>\n",
       "<tr>\n",
       "  <th>Df Residuals:</th>          <td>   293</td>      <th>  BIC:               </th> <td>   1134.</td>\n",
       "</tr>\n",
       "<tr>\n",
       "  <th>Df Model:</th>              <td>     1</td>      <th>                     </th>     <td> </td>   \n",
       "</tr>\n",
       "<tr>\n",
       "  <th>Covariance Type:</th>      <td>nonrobust</td>    <th>                     </th>     <td> </td>   \n",
       "</tr>\n",
       "</table>\n",
       "<table class=\"simpletable\">\n",
       "<tr>\n",
       "    <td></td>       <th>coef</th>     <th>std err</th>      <th>t</th>      <th>P>|t|</th>  <th>[0.025</th>    <th>0.975]</th>  \n",
       "</tr>\n",
       "<tr>\n",
       "  <th>const</th> <td>    2.9600</td> <td>    0.685</td> <td>    4.322</td> <td> 0.000</td> <td>    1.612</td> <td>    4.308</td>\n",
       "</tr>\n",
       "<tr>\n",
       "  <th>mew</th>   <td>   -1.0892</td> <td>    0.546</td> <td>   -1.995</td> <td> 0.047</td> <td>   -2.164</td> <td>   -0.015</td>\n",
       "</tr>\n",
       "</table>\n",
       "<table class=\"simpletable\">\n",
       "<tr>\n",
       "  <th>Omnibus:</th>       <td>73.700</td> <th>  Durbin-Watson:     </th> <td>   1.795</td>\n",
       "</tr>\n",
       "<tr>\n",
       "  <th>Prob(Omnibus):</th> <td> 0.000</td> <th>  Jarque-Bera (JB):  </th> <td> 123.717</td>\n",
       "</tr>\n",
       "<tr>\n",
       "  <th>Skew:</th>          <td> 1.522</td> <th>  Prob(JB):          </th> <td>1.37e-27</td>\n",
       "</tr>\n",
       "<tr>\n",
       "  <th>Kurtosis:</th>      <td> 3.891</td> <th>  Cond. No.          </th> <td>    14.8</td>\n",
       "</tr>\n",
       "</table><br/><br/>Notes:<br/>[1] Standard Errors assume that the covariance matrix of the errors is correctly specified."
      ],
      "text/latex": [
       "\\begin{center}\n",
       "\\begin{tabular}{lclc}\n",
       "\\toprule\n",
       "\\textbf{Dep. Variable:}    &        sp        & \\textbf{  R-squared:         } &     0.013   \\\\\n",
       "\\textbf{Model:}            &       OLS        & \\textbf{  Adj. R-squared:    } &     0.010   \\\\\n",
       "\\textbf{Method:}           &  Least Squares   & \\textbf{  F-statistic:       } &     3.981   \\\\\n",
       "\\textbf{Date:}             & Thu, 07 Mar 2024 & \\textbf{  Prob (F-statistic):} &   0.0469    \\\\\n",
       "\\textbf{Time:}             &     13:44:11     & \\textbf{  Log-Likelihood:    } &   -561.22   \\\\\n",
       "\\textbf{No. Observations:} &         295      & \\textbf{  AIC:               } &     1126.   \\\\\n",
       "\\textbf{Df Residuals:}     &         293      & \\textbf{  BIC:               } &     1134.   \\\\\n",
       "\\textbf{Df Model:}         &           1      & \\textbf{                     } &             \\\\\n",
       "\\textbf{Covariance Type:}  &    nonrobust     & \\textbf{                     } &             \\\\\n",
       "\\bottomrule\n",
       "\\end{tabular}\n",
       "\\begin{tabular}{lcccccc}\n",
       "               & \\textbf{coef} & \\textbf{std err} & \\textbf{t} & \\textbf{P$> |$t$|$} & \\textbf{[0.025} & \\textbf{0.975]}  \\\\\n",
       "\\midrule\n",
       "\\textbf{const} &       2.9600  &        0.685     &     4.322  &         0.000        &        1.612    &        4.308     \\\\\n",
       "\\textbf{mew}   &      -1.0892  &        0.546     &    -1.995  &         0.047        &       -2.164    &       -0.015     \\\\\n",
       "\\bottomrule\n",
       "\\end{tabular}\n",
       "\\begin{tabular}{lclc}\n",
       "\\textbf{Omnibus:}       & 73.700 & \\textbf{  Durbin-Watson:     } &    1.795  \\\\\n",
       "\\textbf{Prob(Omnibus):} &  0.000 & \\textbf{  Jarque-Bera (JB):  } &  123.717  \\\\\n",
       "\\textbf{Skew:}          &  1.522 & \\textbf{  Prob(JB):          } & 1.37e-27  \\\\\n",
       "\\textbf{Kurtosis:}      &  3.891 & \\textbf{  Cond. No.          } &     14.8  \\\\\n",
       "\\bottomrule\n",
       "\\end{tabular}\n",
       "%\\caption{OLS Regression Results}\n",
       "\\end{center}\n",
       "\n",
       "Notes: \\newline\n",
       " [1] Standard Errors assume that the covariance matrix of the errors is correctly specified."
      ],
      "text/plain": [
       "<class 'statsmodels.iolib.summary.Summary'>\n",
       "\"\"\"\n",
       "                            OLS Regression Results                            \n",
       "==============================================================================\n",
       "Dep. Variable:                     sp   R-squared:                       0.013\n",
       "Model:                            OLS   Adj. R-squared:                  0.010\n",
       "Method:                 Least Squares   F-statistic:                     3.981\n",
       "Date:                Thu, 07 Mar 2024   Prob (F-statistic):             0.0469\n",
       "Time:                        13:44:11   Log-Likelihood:                -561.22\n",
       "No. Observations:                 295   AIC:                             1126.\n",
       "Df Residuals:                     293   BIC:                             1134.\n",
       "Df Model:                           1                                         \n",
       "Covariance Type:            nonrobust                                         \n",
       "==============================================================================\n",
       "                 coef    std err          t      P>|t|      [0.025      0.975]\n",
       "------------------------------------------------------------------------------\n",
       "const          2.9600      0.685      4.322      0.000       1.612       4.308\n",
       "mew           -1.0892      0.546     -1.995      0.047      -2.164      -0.015\n",
       "==============================================================================\n",
       "Omnibus:                       73.700   Durbin-Watson:                   1.795\n",
       "Prob(Omnibus):                  0.000   Jarque-Bera (JB):              123.717\n",
       "Skew:                           1.522   Prob(JB):                     1.37e-27\n",
       "Kurtosis:                       3.891   Cond. No.                         14.8\n",
       "==============================================================================\n",
       "\n",
       "Notes:\n",
       "[1] Standard Errors assume that the covariance matrix of the errors is correctly specified.\n",
       "\"\"\""
      ]
     },
     "execution_count": 90,
     "metadata": {},
     "output_type": "execute_result"
    }
   ],
   "source": [
    "Y3 = dfrc['sp']\n",
    "X3 = dfrc['mew']\n",
    "X3 = sm.add_constant(X3)\n",
    "model3 = sm.OLS(Y3, X3)\n",
    "result3 = model3.fit()\n",
    "result3.summary()"
   ]
  }
 ],
 "metadata": {
  "kernelspec": {
   "display_name": "Python 3 (ipykernel)",
   "language": "python",
   "name": "python3"
  },
  "language_info": {
   "codemirror_mode": {
    "name": "ipython",
    "version": 3
   },
   "file_extension": ".py",
   "mimetype": "text/x-python",
   "name": "python",
   "nbconvert_exporter": "python",
   "pygments_lexer": "ipython3",
   "version": "3.11.5"
  }
 },
 "nbformat": 4,
 "nbformat_minor": 5
}
