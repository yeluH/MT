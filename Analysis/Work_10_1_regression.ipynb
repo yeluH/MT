{
 "cells": [
  {
   "cell_type": "code",
   "execution_count": 1,
   "id": "7e9f75d8-3be9-45ef-b9ae-ad72fefb7ce1",
   "metadata": {
    "execution": {
     "iopub.execute_input": "2024-03-07T16:38:55.380243Z",
     "iopub.status.busy": "2024-03-07T16:38:55.379966Z",
     "iopub.status.idle": "2024-03-07T16:38:56.861820Z",
     "shell.execute_reply": "2024-03-07T16:38:56.861333Z",
     "shell.execute_reply.started": "2024-03-07T16:38:55.380224Z"
    }
   },
   "outputs": [],
   "source": [
    "import torch\n",
    "torch.cuda.empty_cache() "
   ]
  },
  {
   "cell_type": "code",
   "execution_count": 2,
   "id": "f3e5fa71-37bd-4efe-b8ee-ae3c362b2a1b",
   "metadata": {
    "execution": {
     "iopub.execute_input": "2024-03-07T16:38:56.862947Z",
     "iopub.status.busy": "2024-03-07T16:38:56.862700Z",
     "iopub.status.idle": "2024-03-07T16:38:57.149693Z",
     "shell.execute_reply": "2024-03-07T16:38:57.149224Z",
     "shell.execute_reply.started": "2024-03-07T16:38:56.862929Z"
    }
   },
   "outputs": [],
   "source": [
    "import os \n",
    "os.environ['MPLCONFIGDIR'] = os.getcwd() + \"/configs/\"\n",
    "import matplotlib\n",
    "from matplotlib import pyplot as plt\n",
    "import numpy as np\n",
    "import cv2\n",
    "import urllib.request\n",
    "from PIL import Image"
   ]
  },
  {
   "cell_type": "code",
   "execution_count": 3,
   "id": "132db61a-9aa6-4936-8ab4-054288d07d2e",
   "metadata": {
    "execution": {
     "iopub.execute_input": "2024-03-07T16:38:57.150524Z",
     "iopub.status.busy": "2024-03-07T16:38:57.150343Z",
     "iopub.status.idle": "2024-03-07T16:38:57.554150Z",
     "shell.execute_reply": "2024-03-07T16:38:57.553681Z",
     "shell.execute_reply.started": "2024-03-07T16:38:57.150507Z"
    }
   },
   "outputs": [],
   "source": [
    "import pandas as pd\n",
    "import pyproj"
   ]
  },
  {
   "cell_type": "code",
   "execution_count": 4,
   "id": "80d61825-dc8d-4005-9362-cf497e771695",
   "metadata": {
    "execution": {
     "iopub.execute_input": "2024-03-07T16:38:57.555589Z",
     "iopub.status.busy": "2024-03-07T16:38:57.555242Z",
     "iopub.status.idle": "2024-03-07T16:38:57.558496Z",
     "shell.execute_reply": "2024-03-07T16:38:57.558023Z",
     "shell.execute_reply.started": "2024-03-07T16:38:57.555568Z"
    }
   },
   "outputs": [],
   "source": [
    "import os \n",
    "os.environ['MPLCONFIGDIR'] = os.getcwd() + \"/configs/\"\n",
    "import matplotlib\n",
    "from matplotlib import pyplot as plt\n",
    "import numpy as np\n",
    "import cv2"
   ]
  },
  {
   "cell_type": "code",
   "execution_count": 5,
   "id": "e6000c92-6b7e-4ee5-9c30-ac0dfed91840",
   "metadata": {
    "execution": {
     "iopub.execute_input": "2024-03-07T16:38:57.559428Z",
     "iopub.status.busy": "2024-03-07T16:38:57.559222Z",
     "iopub.status.idle": "2024-03-07T16:38:57.568346Z",
     "shell.execute_reply": "2024-03-07T16:38:57.567821Z",
     "shell.execute_reply.started": "2024-03-07T16:38:57.559407Z"
    }
   },
   "outputs": [],
   "source": [
    "from pathlib import Path"
   ]
  },
  {
   "cell_type": "code",
   "execution_count": 6,
   "id": "59dfb1fc-7192-4ae1-9df9-596320cc4875",
   "metadata": {
    "execution": {
     "iopub.execute_input": "2024-03-07T16:38:57.569253Z",
     "iopub.status.busy": "2024-03-07T16:38:57.569074Z",
     "iopub.status.idle": "2024-03-07T16:38:57.593861Z",
     "shell.execute_reply": "2024-03-07T16:38:57.593382Z",
     "shell.execute_reply.started": "2024-03-07T16:38:57.569237Z"
    }
   },
   "outputs": [],
   "source": [
    "import joblib"
   ]
  },
  {
   "cell_type": "code",
   "execution_count": 7,
   "id": "923fac26-61e2-49dd-9099-e31ff4079430",
   "metadata": {
    "execution": {
     "iopub.execute_input": "2024-03-07T16:38:58.611667Z",
     "iopub.status.busy": "2024-03-07T16:38:58.611367Z",
     "iopub.status.idle": "2024-03-07T16:38:58.875337Z",
     "shell.execute_reply": "2024-03-07T16:38:58.874862Z",
     "shell.execute_reply.started": "2024-03-07T16:38:58.611642Z"
    }
   },
   "outputs": [],
   "source": [
    "from mt_function_yl import *"
   ]
  },
  {
   "cell_type": "code",
   "execution_count": 8,
   "id": "8376ffe7-7aec-4e11-9f86-32619931952f",
   "metadata": {
    "execution": {
     "iopub.execute_input": "2024-03-07T16:38:58.936808Z",
     "iopub.status.busy": "2024-03-07T16:38:58.936431Z",
     "iopub.status.idle": "2024-03-07T16:38:59.026406Z",
     "shell.execute_reply": "2024-03-07T16:38:59.025942Z",
     "shell.execute_reply.started": "2024-03-07T16:38:58.936787Z"
    }
   },
   "outputs": [],
   "source": [
    "import seaborn as sn"
   ]
  },
  {
   "cell_type": "markdown",
   "id": "11486eff-60e0-460e-a14b-9a0ab0628a50",
   "metadata": {},
   "source": [
    "### Data loading"
   ]
  },
  {
   "cell_type": "code",
   "execution_count": 9,
   "id": "f89f329b-62a5-48b2-9ea4-451014aad9e3",
   "metadata": {
    "execution": {
     "iopub.execute_input": "2024-03-07T16:38:59.745490Z",
     "iopub.status.busy": "2024-03-07T16:38:59.744874Z",
     "iopub.status.idle": "2024-03-07T16:38:59.751639Z",
     "shell.execute_reply": "2024-03-07T16:38:59.751203Z",
     "shell.execute_reply.started": "2024-03-07T16:38:59.745466Z"
    }
   },
   "outputs": [],
   "source": [
    "# Curb extraction data\n",
    "predc_a = pd.read_csv('/home/yelhe/script/mt/output/predcurb_accident_count_sum.csv')"
   ]
  },
  {
   "cell_type": "code",
   "execution_count": 10,
   "id": "4957ef4e-6f1e-4370-b68f-b82168f3739c",
   "metadata": {
    "execution": {
     "iopub.execute_input": "2024-03-07T16:39:00.072936Z",
     "iopub.status.busy": "2024-03-07T16:39:00.072432Z",
     "iopub.status.idle": "2024-03-07T16:39:00.081003Z",
     "shell.execute_reply": "2024-03-07T16:39:00.080543Z",
     "shell.execute_reply.started": "2024-03-07T16:39:00.072913Z"
    }
   },
   "outputs": [
    {
     "name": "stdout",
     "output_type": "stream",
     "text": [
      "<class 'pandas.core.frame.DataFrame'>\n",
      "RangeIndex: 295 entries, 0 to 294\n",
      "Data columns (total 2 columns):\n",
      " #   Column  Non-Null Count  Dtype  \n",
      "---  ------  --------------  -----  \n",
      " 0   id      295 non-null    int64  \n",
      " 1   sum     295 non-null    float64\n",
      "dtypes: float64(1), int64(1)\n",
      "memory usage: 4.7 KB\n"
     ]
    }
   ],
   "source": [
    "predc_a.info()"
   ]
  },
  {
   "cell_type": "code",
   "execution_count": 11,
   "id": "ee9b6724-637b-44d4-9284-9e51243aefa2",
   "metadata": {
    "execution": {
     "iopub.execute_input": "2024-03-07T16:39:00.455024Z",
     "iopub.status.busy": "2024-03-07T16:39:00.454750Z",
     "iopub.status.idle": "2024-03-07T16:39:00.461834Z",
     "shell.execute_reply": "2024-03-07T16:39:00.461319Z",
     "shell.execute_reply.started": "2024-03-07T16:39:00.455006Z"
    }
   },
   "outputs": [],
   "source": [
    "# Entropy\n",
    "# iema = pd.read_csv('/home/yelhe/script/mt/output/accident_image_entropy_mean.csv')\n",
    "# mewa = pd.read_csv('/home/yelhe/script/mt/output/accident_mask_entropy_wholescene_mean.csv')\n",
    "# mega = pd.read_csv('/home/yelhe/script/mt/output/accident_mask_entropy_groundscene_mean.csv')\n",
    "\n",
    "dfen_a = pd.read_csv('/home/yelhe/script/mt/output/accident_entropy_sum.csv')"
   ]
  },
  {
   "cell_type": "code",
   "execution_count": 12,
   "id": "fe162d2c-b2b0-428d-bf27-a548f0a86aba",
   "metadata": {
    "execution": {
     "iopub.execute_input": "2024-03-07T16:39:01.054089Z",
     "iopub.status.busy": "2024-03-07T16:39:01.053588Z",
     "iopub.status.idle": "2024-03-07T16:39:01.060739Z",
     "shell.execute_reply": "2024-03-07T16:39:01.060207Z",
     "shell.execute_reply.started": "2024-03-07T16:39:01.054065Z"
    }
   },
   "outputs": [
    {
     "name": "stdout",
     "output_type": "stream",
     "text": [
      "<class 'pandas.core.frame.DataFrame'>\n",
      "RangeIndex: 1170 entries, 0 to 1169\n",
      "Data columns (total 6 columns):\n",
      " #   Column  Non-Null Count  Dtype  \n",
      "---  ------  --------------  -----  \n",
      " 0   id      1170 non-null   int64  \n",
      " 1   dir     1170 non-null   int64  \n",
      " 2   Nr      1170 non-null   int64  \n",
      " 3   mew     1170 non-null   float64\n",
      " 4   meg     1170 non-null   float64\n",
      " 5   ie      1170 non-null   float64\n",
      "dtypes: float64(3), int64(3)\n",
      "memory usage: 55.0 KB\n"
     ]
    }
   ],
   "source": [
    "dfen_a.info()"
   ]
  },
  {
   "cell_type": "code",
   "execution_count": 13,
   "id": "efaf41fe-b254-4bbc-b035-d0580dd48841",
   "metadata": {
    "execution": {
     "iopub.execute_input": "2024-03-07T16:39:06.949685Z",
     "iopub.status.busy": "2024-03-07T16:39:06.949406Z",
     "iopub.status.idle": "2024-03-07T16:39:06.959733Z",
     "shell.execute_reply": "2024-03-07T16:39:06.958949Z",
     "shell.execute_reply.started": "2024-03-07T16:39:06.949664Z"
    }
   },
   "outputs": [],
   "source": [
    "dfenm = dfen_a.groupby('id', as_index = True)[['mew','meg','ie']].mean()\n"
   ]
  },
  {
   "cell_type": "code",
   "execution_count": 14,
   "id": "795baffe-bb5e-47a1-af83-e24f59c2121e",
   "metadata": {
    "execution": {
     "iopub.execute_input": "2024-03-07T16:39:07.252064Z",
     "iopub.status.busy": "2024-03-07T16:39:07.251735Z",
     "iopub.status.idle": "2024-03-07T16:39:07.255864Z",
     "shell.execute_reply": "2024-03-07T16:39:07.255443Z",
     "shell.execute_reply.started": "2024-03-07T16:39:07.252041Z"
    }
   },
   "outputs": [],
   "source": [
    "dfenm = dfenm.reset_index()"
   ]
  },
  {
   "cell_type": "code",
   "execution_count": 15,
   "id": "0b6eb7aa-4ccb-419a-97cb-ebbc03138575",
   "metadata": {
    "execution": {
     "iopub.execute_input": "2024-03-07T16:39:07.814706Z",
     "iopub.status.busy": "2024-03-07T16:39:07.814420Z",
     "iopub.status.idle": "2024-03-07T16:39:07.819863Z",
     "shell.execute_reply": "2024-03-07T16:39:07.819415Z",
     "shell.execute_reply.started": "2024-03-07T16:39:07.814685Z"
    }
   },
   "outputs": [],
   "source": [
    "dfc = pd.merge(dfenm, predc_a, on = ['id'])"
   ]
  },
  {
   "cell_type": "code",
   "execution_count": 18,
   "id": "1416a2a6-b13a-4534-82e8-4ecb2f91c29d",
   "metadata": {
    "execution": {
     "iopub.execute_input": "2024-03-07T16:39:29.772469Z",
     "iopub.status.busy": "2024-03-07T16:39:29.772197Z",
     "iopub.status.idle": "2024-03-07T16:39:29.775481Z",
     "shell.execute_reply": "2024-03-07T16:39:29.775079Z",
     "shell.execute_reply.started": "2024-03-07T16:39:29.772450Z"
    }
   },
   "outputs": [],
   "source": [
    "dfc.rename(columns = {'sum':'cn'}, inplace = True)"
   ]
  },
  {
   "cell_type": "code",
   "execution_count": 19,
   "id": "f978e375-54cc-4bc9-b05c-f11671127fcc",
   "metadata": {
    "execution": {
     "iopub.execute_input": "2024-03-07T16:39:30.028031Z",
     "iopub.status.busy": "2024-03-07T16:39:30.027531Z",
     "iopub.status.idle": "2024-03-07T16:39:30.036314Z",
     "shell.execute_reply": "2024-03-07T16:39:30.035858Z",
     "shell.execute_reply.started": "2024-03-07T16:39:30.028009Z"
    }
   },
   "outputs": [
    {
     "data": {
      "text/html": [
       "<div>\n",
       "<style scoped>\n",
       "    .dataframe tbody tr th:only-of-type {\n",
       "        vertical-align: middle;\n",
       "    }\n",
       "\n",
       "    .dataframe tbody tr th {\n",
       "        vertical-align: top;\n",
       "    }\n",
       "\n",
       "    .dataframe thead th {\n",
       "        text-align: right;\n",
       "    }\n",
       "</style>\n",
       "<table border=\"1\" class=\"dataframe\">\n",
       "  <thead>\n",
       "    <tr style=\"text-align: right;\">\n",
       "      <th></th>\n",
       "      <th>id</th>\n",
       "      <th>mew</th>\n",
       "      <th>meg</th>\n",
       "      <th>ie</th>\n",
       "      <th>cn</th>\n",
       "    </tr>\n",
       "  </thead>\n",
       "  <tbody>\n",
       "    <tr>\n",
       "      <th>0</th>\n",
       "      <td>99900044963840</td>\n",
       "      <td>0.974222</td>\n",
       "      <td>0.707870</td>\n",
       "      <td>4.610898</td>\n",
       "      <td>0.0</td>\n",
       "    </tr>\n",
       "    <tr>\n",
       "      <th>1</th>\n",
       "      <td>99900045510756</td>\n",
       "      <td>1.202524</td>\n",
       "      <td>1.230196</td>\n",
       "      <td>4.675890</td>\n",
       "      <td>0.0</td>\n",
       "    </tr>\n",
       "    <tr>\n",
       "      <th>2</th>\n",
       "      <td>99900045511204</td>\n",
       "      <td>1.302862</td>\n",
       "      <td>1.501371</td>\n",
       "      <td>4.245212</td>\n",
       "      <td>2.0</td>\n",
       "    </tr>\n",
       "    <tr>\n",
       "      <th>3</th>\n",
       "      <td>99900045729553</td>\n",
       "      <td>1.060837</td>\n",
       "      <td>0.552166</td>\n",
       "      <td>4.631253</td>\n",
       "      <td>0.0</td>\n",
       "    </tr>\n",
       "    <tr>\n",
       "      <th>4</th>\n",
       "      <td>99900045992823</td>\n",
       "      <td>1.288913</td>\n",
       "      <td>1.251356</td>\n",
       "      <td>4.673955</td>\n",
       "      <td>1.0</td>\n",
       "    </tr>\n",
       "    <tr>\n",
       "      <th>...</th>\n",
       "      <td>...</td>\n",
       "      <td>...</td>\n",
       "      <td>...</td>\n",
       "      <td>...</td>\n",
       "      <td>...</td>\n",
       "    </tr>\n",
       "    <tr>\n",
       "      <th>290</th>\n",
       "      <td>99900063695545</td>\n",
       "      <td>1.228531</td>\n",
       "      <td>1.118886</td>\n",
       "      <td>4.546712</td>\n",
       "      <td>0.0</td>\n",
       "    </tr>\n",
       "    <tr>\n",
       "      <th>291</th>\n",
       "      <td>99900063698497</td>\n",
       "      <td>1.401721</td>\n",
       "      <td>1.118604</td>\n",
       "      <td>4.730341</td>\n",
       "      <td>1.0</td>\n",
       "    </tr>\n",
       "    <tr>\n",
       "      <th>292</th>\n",
       "      <td>99900063992212</td>\n",
       "      <td>1.161785</td>\n",
       "      <td>0.963180</td>\n",
       "      <td>4.519516</td>\n",
       "      <td>2.0</td>\n",
       "    </tr>\n",
       "    <tr>\n",
       "      <th>293</th>\n",
       "      <td>99900064009149</td>\n",
       "      <td>1.447296</td>\n",
       "      <td>1.260958</td>\n",
       "      <td>4.329542</td>\n",
       "      <td>0.0</td>\n",
       "    </tr>\n",
       "    <tr>\n",
       "      <th>294</th>\n",
       "      <td>99900064009230</td>\n",
       "      <td>1.058827</td>\n",
       "      <td>1.058243</td>\n",
       "      <td>4.176118</td>\n",
       "      <td>1.0</td>\n",
       "    </tr>\n",
       "  </tbody>\n",
       "</table>\n",
       "<p>295 rows × 5 columns</p>\n",
       "</div>"
      ],
      "text/plain": [
       "                 id       mew       meg        ie   cn\n",
       "0    99900044963840  0.974222  0.707870  4.610898  0.0\n",
       "1    99900045510756  1.202524  1.230196  4.675890  0.0\n",
       "2    99900045511204  1.302862  1.501371  4.245212  2.0\n",
       "3    99900045729553  1.060837  0.552166  4.631253  0.0\n",
       "4    99900045992823  1.288913  1.251356  4.673955  1.0\n",
       "..              ...       ...       ...       ...  ...\n",
       "290  99900063695545  1.228531  1.118886  4.546712  0.0\n",
       "291  99900063698497  1.401721  1.118604  4.730341  1.0\n",
       "292  99900063992212  1.161785  0.963180  4.519516  2.0\n",
       "293  99900064009149  1.447296  1.260958  4.329542  0.0\n",
       "294  99900064009230  1.058827  1.058243  4.176118  1.0\n",
       "\n",
       "[295 rows x 5 columns]"
      ]
     },
     "execution_count": 19,
     "metadata": {},
     "output_type": "execute_result"
    }
   ],
   "source": [
    "dfc"
   ]
  },
  {
   "cell_type": "code",
   "execution_count": 20,
   "id": "71ecdf71-0486-4e7f-9e90-5d2bbf1034bf",
   "metadata": {
    "execution": {
     "iopub.execute_input": "2024-03-07T16:39:33.224833Z",
     "iopub.status.busy": "2024-03-07T16:39:33.224543Z",
     "iopub.status.idle": "2024-03-07T16:39:33.229785Z",
     "shell.execute_reply": "2024-03-07T16:39:33.229334Z",
     "shell.execute_reply.started": "2024-03-07T16:39:33.224811Z"
    }
   },
   "outputs": [],
   "source": [
    "dfenmin = dfen_a.groupby('id', as_index = True)[['mew','meg','ie']].min()\n",
    "dfenmin.rename(columns = {'mew':'mewmin', 'meg':'megmin', 'ie':'iemin'}, inplace = True)"
   ]
  },
  {
   "cell_type": "code",
   "execution_count": 21,
   "id": "133d70ba-b547-4e96-a382-bf11ce107cb5",
   "metadata": {
    "execution": {
     "iopub.execute_input": "2024-03-07T16:39:33.965777Z",
     "iopub.status.busy": "2024-03-07T16:39:33.965479Z",
     "iopub.status.idle": "2024-03-07T16:39:33.969237Z",
     "shell.execute_reply": "2024-03-07T16:39:33.968594Z",
     "shell.execute_reply.started": "2024-03-07T16:39:33.965757Z"
    }
   },
   "outputs": [],
   "source": [
    "dfenmin = dfenmin.reset_index()"
   ]
  },
  {
   "cell_type": "code",
   "execution_count": 22,
   "id": "25ffd91d-13e4-4323-9aba-7573a8c40b8d",
   "metadata": {
    "execution": {
     "iopub.execute_input": "2024-03-07T16:39:34.388858Z",
     "iopub.status.busy": "2024-03-07T16:39:34.388560Z",
     "iopub.status.idle": "2024-03-07T16:39:34.394821Z",
     "shell.execute_reply": "2024-03-07T16:39:34.394364Z",
     "shell.execute_reply.started": "2024-03-07T16:39:34.388836Z"
    }
   },
   "outputs": [],
   "source": [
    "dfenmax = dfen_a.groupby('id', as_index = True)[['mew','meg','ie']].max()\n",
    "dfenmax.rename(columns = {'mew':'mewmax', 'meg':'megmax', 'ie':'iemax'}, inplace = True)\n",
    "dfenmax = dfenmax.reset_index()"
   ]
  },
  {
   "cell_type": "code",
   "execution_count": 23,
   "id": "7fc9e9f4-254a-4fd5-9c00-3fa6b9f2fadc",
   "metadata": {
    "execution": {
     "iopub.execute_input": "2024-03-07T16:39:34.776197Z",
     "iopub.status.busy": "2024-03-07T16:39:34.775921Z",
     "iopub.status.idle": "2024-03-07T16:39:34.781088Z",
     "shell.execute_reply": "2024-03-07T16:39:34.780569Z",
     "shell.execute_reply.started": "2024-03-07T16:39:34.776179Z"
    }
   },
   "outputs": [],
   "source": [
    "dfen_all = pd.merge(dfenmin, dfenmax, on = ['id'])"
   ]
  },
  {
   "cell_type": "code",
   "execution_count": 24,
   "id": "6b21f4c5-2cc3-4e1a-9ae2-c0bb9b44978c",
   "metadata": {
    "execution": {
     "iopub.execute_input": "2024-03-07T16:39:35.297663Z",
     "iopub.status.busy": "2024-03-07T16:39:35.297378Z",
     "iopub.status.idle": "2024-03-07T16:39:35.302714Z",
     "shell.execute_reply": "2024-03-07T16:39:35.302124Z",
     "shell.execute_reply.started": "2024-03-07T16:39:35.297645Z"
    }
   },
   "outputs": [],
   "source": [
    "dfenc_all = pd.merge(dfen_all, dfc, on = ['id'])"
   ]
  },
  {
   "cell_type": "code",
   "execution_count": 25,
   "id": "6c18d7b8-97a8-422c-8e26-b70ad254e6d7",
   "metadata": {
    "execution": {
     "iopub.execute_input": "2024-03-07T16:39:36.259796Z",
     "iopub.status.busy": "2024-03-07T16:39:36.259492Z",
     "iopub.status.idle": "2024-03-07T16:39:36.263492Z",
     "shell.execute_reply": "2024-03-07T16:39:36.262928Z",
     "shell.execute_reply.started": "2024-03-07T16:39:36.259763Z"
    }
   },
   "outputs": [],
   "source": [
    "# CP: curb presence (0 no, 1 exist)\n",
    "dfenc_all = dfenc_all.assign(cp = 1)"
   ]
  },
  {
   "cell_type": "code",
   "execution_count": 26,
   "id": "a78fd262-87d0-4af8-be8a-c81f912b8bf9",
   "metadata": {
    "execution": {
     "iopub.execute_input": "2024-03-07T16:39:36.932620Z",
     "iopub.status.busy": "2024-03-07T16:39:36.932326Z",
     "iopub.status.idle": "2024-03-07T16:39:36.936691Z",
     "shell.execute_reply": "2024-03-07T16:39:36.936063Z",
     "shell.execute_reply.started": "2024-03-07T16:39:36.932597Z"
    }
   },
   "outputs": [],
   "source": [
    "dfenc_all.loc[dfenc_all['cn'] == 0, 'cp'] = 0"
   ]
  },
  {
   "cell_type": "code",
   "execution_count": 27,
   "id": "53b791fd-a5f9-4944-88b0-657b42078b33",
   "metadata": {
    "execution": {
     "iopub.execute_input": "2024-03-07T16:39:38.335524Z",
     "iopub.status.busy": "2024-03-07T16:39:38.335227Z",
     "iopub.status.idle": "2024-03-07T16:39:38.347957Z",
     "shell.execute_reply": "2024-03-07T16:39:38.347349Z",
     "shell.execute_reply.started": "2024-03-07T16:39:38.335500Z"
    }
   },
   "outputs": [
    {
     "data": {
      "text/html": [
       "<div>\n",
       "<style scoped>\n",
       "    .dataframe tbody tr th:only-of-type {\n",
       "        vertical-align: middle;\n",
       "    }\n",
       "\n",
       "    .dataframe tbody tr th {\n",
       "        vertical-align: top;\n",
       "    }\n",
       "\n",
       "    .dataframe thead th {\n",
       "        text-align: right;\n",
       "    }\n",
       "</style>\n",
       "<table border=\"1\" class=\"dataframe\">\n",
       "  <thead>\n",
       "    <tr style=\"text-align: right;\">\n",
       "      <th></th>\n",
       "      <th>id</th>\n",
       "      <th>mewmin</th>\n",
       "      <th>megmin</th>\n",
       "      <th>iemin</th>\n",
       "      <th>mewmax</th>\n",
       "      <th>megmax</th>\n",
       "      <th>iemax</th>\n",
       "      <th>mew</th>\n",
       "      <th>meg</th>\n",
       "      <th>ie</th>\n",
       "      <th>cn</th>\n",
       "      <th>cp</th>\n",
       "    </tr>\n",
       "  </thead>\n",
       "  <tbody>\n",
       "    <tr>\n",
       "      <th>0</th>\n",
       "      <td>99900044963840</td>\n",
       "      <td>0.919914</td>\n",
       "      <td>0.000000</td>\n",
       "      <td>4.518572</td>\n",
       "      <td>1.090977</td>\n",
       "      <td>1.098612</td>\n",
       "      <td>4.779405</td>\n",
       "      <td>0.974222</td>\n",
       "      <td>0.707870</td>\n",
       "      <td>4.610898</td>\n",
       "      <td>0.0</td>\n",
       "      <td>0</td>\n",
       "    </tr>\n",
       "    <tr>\n",
       "      <th>1</th>\n",
       "      <td>99900045510756</td>\n",
       "      <td>0.999722</td>\n",
       "      <td>1.098612</td>\n",
       "      <td>4.622283</td>\n",
       "      <td>1.315707</td>\n",
       "      <td>1.366711</td>\n",
       "      <td>4.722890</td>\n",
       "      <td>1.202524</td>\n",
       "      <td>1.230196</td>\n",
       "      <td>4.675890</td>\n",
       "      <td>0.0</td>\n",
       "      <td>0</td>\n",
       "    </tr>\n",
       "    <tr>\n",
       "      <th>2</th>\n",
       "      <td>99900045511204</td>\n",
       "      <td>1.181150</td>\n",
       "      <td>1.039721</td>\n",
       "      <td>4.176222</td>\n",
       "      <td>1.454264</td>\n",
       "      <td>1.720193</td>\n",
       "      <td>4.389287</td>\n",
       "      <td>1.302862</td>\n",
       "      <td>1.501371</td>\n",
       "      <td>4.245212</td>\n",
       "      <td>2.0</td>\n",
       "      <td>1</td>\n",
       "    </tr>\n",
       "    <tr>\n",
       "      <th>3</th>\n",
       "      <td>99900045729553</td>\n",
       "      <td>0.855960</td>\n",
       "      <td>0.000000</td>\n",
       "      <td>4.528002</td>\n",
       "      <td>1.267993</td>\n",
       "      <td>1.153742</td>\n",
       "      <td>4.741170</td>\n",
       "      <td>1.060837</td>\n",
       "      <td>0.552166</td>\n",
       "      <td>4.631253</td>\n",
       "      <td>0.0</td>\n",
       "      <td>0</td>\n",
       "    </tr>\n",
       "    <tr>\n",
       "      <th>4</th>\n",
       "      <td>99900045992823</td>\n",
       "      <td>1.005629</td>\n",
       "      <td>1.011404</td>\n",
       "      <td>4.545034</td>\n",
       "      <td>1.522175</td>\n",
       "      <td>1.332179</td>\n",
       "      <td>4.761103</td>\n",
       "      <td>1.288913</td>\n",
       "      <td>1.251356</td>\n",
       "      <td>4.673955</td>\n",
       "      <td>1.0</td>\n",
       "      <td>1</td>\n",
       "    </tr>\n",
       "    <tr>\n",
       "      <th>...</th>\n",
       "      <td>...</td>\n",
       "      <td>...</td>\n",
       "      <td>...</td>\n",
       "      <td>...</td>\n",
       "      <td>...</td>\n",
       "      <td>...</td>\n",
       "      <td>...</td>\n",
       "      <td>...</td>\n",
       "      <td>...</td>\n",
       "      <td>...</td>\n",
       "      <td>...</td>\n",
       "      <td>...</td>\n",
       "    </tr>\n",
       "    <tr>\n",
       "      <th>290</th>\n",
       "      <td>99900063695545</td>\n",
       "      <td>1.054588</td>\n",
       "      <td>0.950271</td>\n",
       "      <td>4.469531</td>\n",
       "      <td>1.575088</td>\n",
       "      <td>1.279854</td>\n",
       "      <td>4.662620</td>\n",
       "      <td>1.228531</td>\n",
       "      <td>1.118886</td>\n",
       "      <td>4.546712</td>\n",
       "      <td>0.0</td>\n",
       "      <td>0</td>\n",
       "    </tr>\n",
       "    <tr>\n",
       "      <th>291</th>\n",
       "      <td>99900063698497</td>\n",
       "      <td>1.257593</td>\n",
       "      <td>0.636514</td>\n",
       "      <td>4.687883</td>\n",
       "      <td>1.540987</td>\n",
       "      <td>1.470808</td>\n",
       "      <td>4.761851</td>\n",
       "      <td>1.401721</td>\n",
       "      <td>1.118604</td>\n",
       "      <td>4.730341</td>\n",
       "      <td>1.0</td>\n",
       "      <td>1</td>\n",
       "    </tr>\n",
       "    <tr>\n",
       "      <th>292</th>\n",
       "      <td>99900063992212</td>\n",
       "      <td>0.780158</td>\n",
       "      <td>0.000000</td>\n",
       "      <td>4.416337</td>\n",
       "      <td>1.395134</td>\n",
       "      <td>1.468140</td>\n",
       "      <td>4.633394</td>\n",
       "      <td>1.161785</td>\n",
       "      <td>0.963180</td>\n",
       "      <td>4.519516</td>\n",
       "      <td>2.0</td>\n",
       "      <td>1</td>\n",
       "    </tr>\n",
       "    <tr>\n",
       "      <th>293</th>\n",
       "      <td>99900064009149</td>\n",
       "      <td>1.392122</td>\n",
       "      <td>0.955700</td>\n",
       "      <td>4.242503</td>\n",
       "      <td>1.474737</td>\n",
       "      <td>1.735126</td>\n",
       "      <td>4.368505</td>\n",
       "      <td>1.447296</td>\n",
       "      <td>1.260958</td>\n",
       "      <td>4.329542</td>\n",
       "      <td>0.0</td>\n",
       "      <td>0</td>\n",
       "    </tr>\n",
       "    <tr>\n",
       "      <th>294</th>\n",
       "      <td>99900064009230</td>\n",
       "      <td>0.858218</td>\n",
       "      <td>1.039721</td>\n",
       "      <td>3.918263</td>\n",
       "      <td>1.239994</td>\n",
       "      <td>1.098612</td>\n",
       "      <td>4.436178</td>\n",
       "      <td>1.058827</td>\n",
       "      <td>1.058243</td>\n",
       "      <td>4.176118</td>\n",
       "      <td>1.0</td>\n",
       "      <td>1</td>\n",
       "    </tr>\n",
       "  </tbody>\n",
       "</table>\n",
       "<p>295 rows × 12 columns</p>\n",
       "</div>"
      ],
      "text/plain": [
       "                 id    mewmin    megmin     iemin    mewmax    megmax  \\\n",
       "0    99900044963840  0.919914  0.000000  4.518572  1.090977  1.098612   \n",
       "1    99900045510756  0.999722  1.098612  4.622283  1.315707  1.366711   \n",
       "2    99900045511204  1.181150  1.039721  4.176222  1.454264  1.720193   \n",
       "3    99900045729553  0.855960  0.000000  4.528002  1.267993  1.153742   \n",
       "4    99900045992823  1.005629  1.011404  4.545034  1.522175  1.332179   \n",
       "..              ...       ...       ...       ...       ...       ...   \n",
       "290  99900063695545  1.054588  0.950271  4.469531  1.575088  1.279854   \n",
       "291  99900063698497  1.257593  0.636514  4.687883  1.540987  1.470808   \n",
       "292  99900063992212  0.780158  0.000000  4.416337  1.395134  1.468140   \n",
       "293  99900064009149  1.392122  0.955700  4.242503  1.474737  1.735126   \n",
       "294  99900064009230  0.858218  1.039721  3.918263  1.239994  1.098612   \n",
       "\n",
       "        iemax       mew       meg        ie   cn  cp  \n",
       "0    4.779405  0.974222  0.707870  4.610898  0.0   0  \n",
       "1    4.722890  1.202524  1.230196  4.675890  0.0   0  \n",
       "2    4.389287  1.302862  1.501371  4.245212  2.0   1  \n",
       "3    4.741170  1.060837  0.552166  4.631253  0.0   0  \n",
       "4    4.761103  1.288913  1.251356  4.673955  1.0   1  \n",
       "..        ...       ...       ...       ...  ...  ..  \n",
       "290  4.662620  1.228531  1.118886  4.546712  0.0   0  \n",
       "291  4.761851  1.401721  1.118604  4.730341  1.0   1  \n",
       "292  4.633394  1.161785  0.963180  4.519516  2.0   1  \n",
       "293  4.368505  1.447296  1.260958  4.329542  0.0   0  \n",
       "294  4.436178  1.058827  1.058243  4.176118  1.0   1  \n",
       "\n",
       "[295 rows x 12 columns]"
      ]
     },
     "execution_count": 27,
     "metadata": {},
     "output_type": "execute_result"
    }
   ],
   "source": [
    "dfenc_all"
   ]
  },
  {
   "cell_type": "code",
   "execution_count": 114,
   "id": "1be32a15-8f66-4a47-80cd-9620f494d88e",
   "metadata": {
    "execution": {
     "iopub.execute_input": "2024-03-07T15:50:34.462049Z",
     "iopub.status.busy": "2024-03-07T15:50:34.461794Z",
     "iopub.status.idle": "2024-03-07T15:50:34.470462Z",
     "shell.execute_reply": "2024-03-07T15:50:34.469902Z",
     "shell.execute_reply.started": "2024-03-07T15:50:34.462032Z"
    }
   },
   "outputs": [],
   "source": [
    "# Curb related variables including entropy\n",
    "# dfenc_all.to_csv('/home/yelhe/script/mt/output/accident_crev.csv', index = False)"
   ]
  },
  {
   "cell_type": "code",
   "execution_count": 28,
   "id": "e66dfdbf-610d-40b1-ae40-5b9fa8702845",
   "metadata": {
    "execution": {
     "iopub.execute_input": "2024-03-07T16:39:43.657969Z",
     "iopub.status.busy": "2024-03-07T16:39:43.657695Z",
     "iopub.status.idle": "2024-03-07T16:39:44.151500Z",
     "shell.execute_reply": "2024-03-07T16:39:44.150869Z",
     "shell.execute_reply.started": "2024-03-07T16:39:43.657951Z"
    }
   },
   "outputs": [],
   "source": [
    "df_raw = pd.read_excel('/home/yelhe/data/Acc/E_Trottis_Unfallbericht_2019-2022.xlsx',sheet_name=None)"
   ]
  },
  {
   "cell_type": "code",
   "execution_count": 29,
   "id": "3f388e5f-e6d0-4d9b-8b89-1b2840f32fa1",
   "metadata": {
    "execution": {
     "iopub.execute_input": "2024-03-07T16:39:44.167169Z",
     "iopub.status.busy": "2024-03-07T16:39:44.166895Z",
     "iopub.status.idle": "2024-03-07T16:39:44.169894Z",
     "shell.execute_reply": "2024-03-07T16:39:44.169375Z",
     "shell.execute_reply.started": "2024-03-07T16:39:44.167147Z"
    }
   },
   "outputs": [],
   "source": [
    "dfse = df_raw['Allgemeine Angaben']"
   ]
  },
  {
   "cell_type": "code",
   "execution_count": 30,
   "id": "bc92d4fb-7546-4467-843a-7b6e21f5679d",
   "metadata": {
    "execution": {
     "iopub.execute_input": "2024-03-07T16:39:44.547893Z",
     "iopub.status.busy": "2024-03-07T16:39:44.547582Z",
     "iopub.status.idle": "2024-03-07T16:39:44.551525Z",
     "shell.execute_reply": "2024-03-07T16:39:44.550956Z",
     "shell.execute_reply.started": "2024-03-07T16:39:44.547875Z"
    }
   },
   "outputs": [],
   "source": [
    "se = dfse[['Unfall-Nr.', 'G*', 'SV*', 'LV*', 'Sach-\\nschaden**']]"
   ]
  },
  {
   "cell_type": "code",
   "execution_count": 31,
   "id": "1dfb801b-7bc5-4a44-9996-fc8d430e0e9a",
   "metadata": {
    "execution": {
     "iopub.execute_input": "2024-03-07T16:39:45.086905Z",
     "iopub.status.busy": "2024-03-07T16:39:45.086633Z",
     "iopub.status.idle": "2024-03-07T16:39:45.090666Z",
     "shell.execute_reply": "2024-03-07T16:39:45.090088Z",
     "shell.execute_reply.started": "2024-03-07T16:39:45.086885Z"
    }
   },
   "outputs": [
    {
     "name": "stderr",
     "output_type": "stream",
     "text": [
      "/sctmp/yelhe/ipykernel_3910714/902077865.py:1: SettingWithCopyWarning: \n",
      "A value is trying to be set on a copy of a slice from a DataFrame\n",
      "\n",
      "See the caveats in the documentation: https://pandas.pydata.org/pandas-docs/stable/user_guide/indexing.html#returning-a-view-versus-a-copy\n",
      "  se.rename(columns = {'Unfall-Nr.': 'Nr', 'G*':'G', 'SV*':'SV','LV*':'LV','Sach-\\nschaden**':'PD',}, inplace = True)\n"
     ]
    }
   ],
   "source": [
    "se.rename(columns = {'Unfall-Nr.': 'Nr', 'G*':'G', 'SV*':'SV','LV*':'LV','Sach-\\nschaden**':'PD',}, inplace = True)"
   ]
  },
  {
   "cell_type": "code",
   "execution_count": 32,
   "id": "255d428c-a01d-4452-94f5-27c6f70362b8",
   "metadata": {
    "execution": {
     "iopub.execute_input": "2024-03-07T16:39:45.629525Z",
     "iopub.status.busy": "2024-03-07T16:39:45.629218Z",
     "iopub.status.idle": "2024-03-07T16:39:45.633260Z",
     "shell.execute_reply": "2024-03-07T16:39:45.632792Z",
     "shell.execute_reply.started": "2024-03-07T16:39:45.629501Z"
    }
   },
   "outputs": [
    {
     "name": "stderr",
     "output_type": "stream",
     "text": [
      "/sctmp/yelhe/ipykernel_3910714/3024162487.py:1: SettingWithCopyWarning: \n",
      "A value is trying to be set on a copy of a slice from a DataFrame\n",
      "\n",
      "See the caveats in the documentation: https://pandas.pydata.org/pandas-docs/stable/user_guide/indexing.html#returning-a-view-versus-a-copy\n",
      "  se.rename(columns = {'Nr':'id'}, inplace = True)\n"
     ]
    }
   ],
   "source": [
    "se.rename(columns = {'Nr':'id'}, inplace = True)"
   ]
  },
  {
   "cell_type": "code",
   "execution_count": 33,
   "id": "ac0800d3-621d-492e-a1eb-7c27c91e4db6",
   "metadata": {
    "execution": {
     "iopub.execute_input": "2024-03-07T16:39:46.347300Z",
     "iopub.status.busy": "2024-03-07T16:39:46.347029Z",
     "iopub.status.idle": "2024-03-07T16:39:46.352265Z",
     "shell.execute_reply": "2024-03-07T16:39:46.351756Z",
     "shell.execute_reply.started": "2024-03-07T16:39:46.347282Z"
    }
   },
   "outputs": [],
   "source": [
    "# Regression curb\n",
    "dfrc = pd.merge(se, dfenc_all, on = ['id'])"
   ]
  },
  {
   "cell_type": "code",
   "execution_count": 34,
   "id": "37ba96bd-bc69-4935-88af-0bd7f845bbf0",
   "metadata": {
    "execution": {
     "iopub.execute_input": "2024-03-07T16:39:47.800048Z",
     "iopub.status.busy": "2024-03-07T16:39:47.799746Z",
     "iopub.status.idle": "2024-03-07T16:39:47.803187Z",
     "shell.execute_reply": "2024-03-07T16:39:47.802630Z",
     "shell.execute_reply.started": "2024-03-07T16:39:47.800030Z"
    }
   },
   "outputs": [],
   "source": [
    "# severity-property, property damage\n",
    "dfrc.rename(columns = {'PD':'pd'}, inplace = True)"
   ]
  },
  {
   "cell_type": "code",
   "execution_count": 35,
   "id": "3616ef99-8eed-47e2-8a67-f0ccc254aa39",
   "metadata": {
    "execution": {
     "iopub.execute_input": "2024-03-07T16:39:49.325990Z",
     "iopub.status.busy": "2024-03-07T16:39:49.325710Z",
     "iopub.status.idle": "2024-03-07T16:39:49.328564Z",
     "shell.execute_reply": "2024-03-07T16:39:49.327999Z",
     "shell.execute_reply.started": "2024-03-07T16:39:49.325970Z"
    }
   },
   "outputs": [],
   "source": [
    "# severity-person \n",
    "# G:10, SV:5, LV:1\n",
    "# dfrc['sp'] = dfrc['G']*10 + dfrc['SV'] *5 + dfrc['LV']*1\n",
    "\n",
    "# Might be sensitive to the weight settin so drop"
   ]
  },
  {
   "cell_type": "code",
   "execution_count": 37,
   "id": "e6b9e93a-de8a-48fa-84d6-c5cd728fca04",
   "metadata": {
    "execution": {
     "iopub.execute_input": "2024-03-07T16:39:56.254535Z",
     "iopub.status.busy": "2024-03-07T16:39:56.254262Z",
     "iopub.status.idle": "2024-03-07T16:39:56.261961Z",
     "shell.execute_reply": "2024-03-07T16:39:56.261481Z",
     "shell.execute_reply.started": "2024-03-07T16:39:56.254517Z"
    }
   },
   "outputs": [
    {
     "name": "stdout",
     "output_type": "stream",
     "text": [
      "<class 'pandas.core.frame.DataFrame'>\n",
      "RangeIndex: 295 entries, 0 to 294\n",
      "Data columns (total 16 columns):\n",
      " #   Column  Non-Null Count  Dtype  \n",
      "---  ------  --------------  -----  \n",
      " 0   id      295 non-null    int64  \n",
      " 1   G       295 non-null    int64  \n",
      " 2   SV      295 non-null    int64  \n",
      " 3   LV      295 non-null    int64  \n",
      " 4   pd      295 non-null    int64  \n",
      " 5   mewmin  295 non-null    float64\n",
      " 6   megmin  295 non-null    float64\n",
      " 7   iemin   295 non-null    float64\n",
      " 8   mewmax  295 non-null    float64\n",
      " 9   megmax  295 non-null    float64\n",
      " 10  iemax   295 non-null    float64\n",
      " 11  mew     295 non-null    float64\n",
      " 12  meg     295 non-null    float64\n",
      " 13  ie      295 non-null    float64\n",
      " 14  cn      295 non-null    float64\n",
      " 15  cp      295 non-null    int64  \n",
      "dtypes: float64(10), int64(6)\n",
      "memory usage: 37.0 KB\n"
     ]
    }
   ],
   "source": [
    "dfrc.info()"
   ]
  },
  {
   "cell_type": "markdown",
   "id": "a117cab0-978a-48c1-9747-eade6f4b7dc7",
   "metadata": {},
   "source": [
    "#### Preparation for regression model"
   ]
  },
  {
   "cell_type": "markdown",
   "id": "7751c2dc-786a-4a2c-9bd5-7c981df4e813",
   "metadata": {},
   "source": [
    "##### Distribution check"
   ]
  },
  {
   "cell_type": "code",
   "execution_count": 39,
   "id": "b46d5518-dab4-4896-a3f7-7aa74a012e35",
   "metadata": {
    "execution": {
     "iopub.execute_input": "2024-03-07T16:40:37.723566Z",
     "iopub.status.busy": "2024-03-07T16:40:37.723240Z",
     "iopub.status.idle": "2024-03-07T16:40:37.905645Z",
     "shell.execute_reply": "2024-03-07T16:40:37.905171Z",
     "shell.execute_reply.started": "2024-03-07T16:40:37.723548Z"
    }
   },
   "outputs": [],
   "source": [
    "import statsmodels.api as sm"
   ]
  },
  {
   "cell_type": "code",
   "execution_count": 40,
   "id": "607dc147-75d2-4421-b0e8-b3d1c5995aea",
   "metadata": {
    "execution": {
     "iopub.execute_input": "2024-03-07T16:40:38.494607Z",
     "iopub.status.busy": "2024-03-07T16:40:38.494177Z",
     "iopub.status.idle": "2024-03-07T16:40:38.855108Z",
     "shell.execute_reply": "2024-03-07T16:40:38.854606Z",
     "shell.execute_reply.started": "2024-03-07T16:40:38.494587Z"
    }
   },
   "outputs": [
    {
     "data": {
      "text/plain": [
       "(array([ 2.,  0., 10.,  9., 25., 43., 84., 80., 38.,  4.]),\n",
       " array([0.69789472, 0.805918  , 0.91394129, 1.02196457, 1.12998786,\n",
       "        1.23801115, 1.34603443, 1.45405772, 1.562081  , 1.67010429,\n",
       "        1.77812757]),\n",
       " <BarContainer object of 10 artists>)"
      ]
     },
     "execution_count": 40,
     "metadata": {},
     "output_type": "execute_result"
    },
    {
     "data": {
      "image/png": "[encoded data removed]",
      "text/plain": [
       "<Figure size 640x480 with 3 Axes>"
      ]
     },
     "metadata": {},
     "output_type": "display_data"
    }
   ],
   "source": [
    "fig, axs = plt.subplots(3, sharex = True)\n",
    "fig.suptitle('mask entropy of whole scene')\n",
    "axs[0].hist(dfrc['mew'])\n",
    "axs[1].hist(dfrc['mewmin'])\n",
    "axs[2].hist(dfrc['mewmax'])"
   ]
  },
  {
   "cell_type": "code",
   "execution_count": 41,
   "id": "181b898b-a5f7-49e0-ab43-19033c2040d9",
   "metadata": {
    "execution": {
     "iopub.execute_input": "2024-03-07T16:40:38.885707Z",
     "iopub.status.busy": "2024-03-07T16:40:38.885433Z",
     "iopub.status.idle": "2024-03-07T16:40:39.226715Z",
     "shell.execute_reply": "2024-03-07T16:40:39.226227Z",
     "shell.execute_reply.started": "2024-03-07T16:40:38.885688Z"
    }
   },
   "outputs": [
    {
     "data": {
      "text/plain": [
       "(array([  2.,   0.,   0.,   7.,   1.,  14.,  35.,  91., 108.,  37.]),\n",
       " array([0.        , 0.17650573, 0.35301145, 0.52951718, 0.7060229 ,\n",
       "        0.88252863, 1.05903435, 1.23554008, 1.4120458 , 1.58855153,\n",
       "        1.76505725]),\n",
       " <BarContainer object of 10 artists>)"
      ]
     },
     "execution_count": 41,
     "metadata": {},
     "output_type": "execute_result"
    },
    {
     "data": {
      "image/png": "[encoded data removed]",
      "text/plain": [
       "<Figure size 640x480 with 3 Axes>"
      ]
     },
     "metadata": {},
     "output_type": "display_data"
    }
   ],
   "source": [
    "fig, axs = plt.subplots(3, sharex = True)\n",
    "fig.suptitle('mask entropy of ground scene')\n",
    "axs[0].hist(dfrc['meg'])\n",
    "axs[1].hist(dfrc['megmin'])\n",
    "axs[2].hist(dfrc['megmax'])"
   ]
  },
  {
   "cell_type": "code",
   "execution_count": 42,
   "id": "24024702-0358-44d5-8d3b-48042bff1bfe",
   "metadata": {
    "execution": {
     "iopub.execute_input": "2024-03-07T16:40:39.316488Z",
     "iopub.status.busy": "2024-03-07T16:40:39.316207Z",
     "iopub.status.idle": "2024-03-07T16:40:39.650687Z",
     "shell.execute_reply": "2024-03-07T16:40:39.650155Z",
     "shell.execute_reply.started": "2024-03-07T16:40:39.316469Z"
    }
   },
   "outputs": [
    {
     "data": {
      "text/plain": [
       "(array([ 2.,  0.,  6.,  4., 14., 29., 37., 33., 91., 79.]),\n",
       " array([3.90719082, 4.00019696, 4.0932031 , 4.18620924, 4.27921537,\n",
       "        4.37222151, 4.46522765, 4.55823379, 4.65123993, 4.74424606,\n",
       "        4.8372522 ]),\n",
       " <BarContainer object of 10 artists>)"
      ]
     },
     "execution_count": 42,
     "metadata": {},
     "output_type": "execute_result"
    },
    {
     "data": {
      "image/png": "[encoded data removed]",
      "text/plain": [
       "<Figure size 640x480 with 3 Axes>"
      ]
     },
     "metadata": {},
     "output_type": "display_data"
    }
   ],
   "source": [
    "fig, axs = plt.subplots(3, sharex = True)\n",
    "fig.suptitle('image entropy')\n",
    "axs[0].hist(dfrc['ie'])\n",
    "axs[1].hist(dfrc['iemin'])\n",
    "axs[2].hist(dfrc['iemax'])"
   ]
  },
  {
   "cell_type": "code",
   "execution_count": 43,
   "id": "606a94ae-b6cb-40e0-b8c9-635e4089ea4d",
   "metadata": {
    "execution": {
     "iopub.execute_input": "2024-03-07T16:40:39.794574Z",
     "iopub.status.busy": "2024-03-07T16:40:39.794295Z",
     "iopub.status.idle": "2024-03-07T16:40:40.030110Z",
     "shell.execute_reply": "2024-03-07T16:40:40.029546Z",
     "shell.execute_reply.started": "2024-03-07T16:40:39.794555Z"
    }
   },
   "outputs": [
    {
     "data": {
      "text/plain": [
       "(array([145.,   0.,   0.,   0.,   0.,   0.,   0.,   0.,   0., 150.]),\n",
       " array([0. , 0.1, 0.2, 0.3, 0.4, 0.5, 0.6, 0.7, 0.8, 0.9, 1. ]),\n",
       " <BarContainer object of 10 artists>)"
      ]
     },
     "execution_count": 43,
     "metadata": {},
     "output_type": "execute_result"
    },
    {
     "data": {
      "image/png": "[encoded data removed]",
      "text/plain": [
       "<Figure size 640x480 with 2 Axes>"
      ]
     },
     "metadata": {},
     "output_type": "display_data"
    }
   ],
   "source": [
    "fig, axs = plt.subplots(2, sharex = True)\n",
    "fig.suptitle('curb counting & presence')\n",
    "axs[0].hist(dfrc['cn'])\n",
    "axs[1].hist(dfrc['cp'])"
   ]
  },
  {
   "cell_type": "markdown",
   "id": "dc11f10a-f0a1-435f-8968-c6b8875b0642",
   "metadata": {},
   "source": [
    "##### Normal distribution test"
   ]
  },
  {
   "cell_type": "code",
   "execution_count": 44,
   "id": "78c65919-07d0-4aba-a8dc-87298c4b96d6",
   "metadata": {
    "execution": {
     "iopub.execute_input": "2024-03-07T16:40:43.495528Z",
     "iopub.status.busy": "2024-03-07T16:40:43.495236Z",
     "iopub.status.idle": "2024-03-07T16:40:43.498372Z",
     "shell.execute_reply": "2024-03-07T16:40:43.497746Z",
     "shell.execute_reply.started": "2024-03-07T16:40:43.495510Z"
    }
   },
   "outputs": [],
   "source": [
    "from scipy import stats"
   ]
  },
  {
   "cell_type": "code",
   "execution_count": 45,
   "id": "bba16c43-7579-4aaa-be71-de1e15413159",
   "metadata": {
    "execution": {
     "iopub.execute_input": "2024-03-07T16:40:47.034776Z",
     "iopub.status.busy": "2024-03-07T16:40:47.034318Z",
     "iopub.status.idle": "2024-03-07T16:40:47.037343Z",
     "shell.execute_reply": "2024-03-07T16:40:47.036697Z",
     "shell.execute_reply.started": "2024-03-07T16:40:47.034758Z"
    }
   },
   "outputs": [],
   "source": [
    "# pip install tabulate"
   ]
  },
  {
   "cell_type": "code",
   "execution_count": 46,
   "id": "37ca928e-82c3-4ae7-a6c6-3f18c1c233ba",
   "metadata": {
    "execution": {
     "iopub.execute_input": "2024-03-07T16:40:47.398802Z",
     "iopub.status.busy": "2024-03-07T16:40:47.398325Z",
     "iopub.status.idle": "2024-03-07T16:40:47.405098Z",
     "shell.execute_reply": "2024-03-07T16:40:47.404468Z",
     "shell.execute_reply.started": "2024-03-07T16:40:47.398783Z"
    }
   },
   "outputs": [],
   "source": [
    "from tabulate import tabulate"
   ]
  },
  {
   "cell_type": "code",
   "execution_count": 47,
   "id": "7617e5a5-64f5-4b96-b723-dd57b2fe68ac",
   "metadata": {
    "execution": {
     "iopub.execute_input": "2024-03-07T16:40:48.310924Z",
     "iopub.status.busy": "2024-03-07T16:40:48.310640Z",
     "iopub.status.idle": "2024-03-07T16:40:48.334128Z",
     "shell.execute_reply": "2024-03-07T16:40:48.333623Z",
     "shell.execute_reply.started": "2024-03-07T16:40:48.310905Z"
    }
   },
   "outputs": [],
   "source": [
    "res_mew = stats.normaltest(dfrc['mew'])\n",
    "res_mewmin = stats.normaltest(dfrc['mewmin'])\n",
    "res_mewmax = stats.normaltest(dfrc['mewmax'])\n",
    "res_meg = stats.normaltest(dfrc['meg'])\n",
    "res_megmin = stats.normaltest(dfrc['megmin'])\n",
    "res_megmax = stats.normaltest(dfrc['megmax'])\n",
    "res_ie = stats.normaltest(dfrc['ie'])\n",
    "res_iemin = stats.normaltest(dfrc['iemin'])\n",
    "res_iemax = stats.normaltest(dfrc['iemax'])\n",
    "res_cn = stats.normaltest(dfrc['cn'])"
   ]
  },
  {
   "cell_type": "code",
   "execution_count": 50,
   "id": "79bc801a-d7de-4bca-b3b5-b7e7fe55a2f9",
   "metadata": {
    "execution": {
     "iopub.execute_input": "2024-03-07T16:41:32.142292Z",
     "iopub.status.busy": "2024-03-07T16:41:32.142015Z",
     "iopub.status.idle": "2024-03-07T16:41:32.145740Z",
     "shell.execute_reply": "2024-03-07T16:41:32.145130Z",
     "shell.execute_reply.started": "2024-03-07T16:41:32.142274Z"
    }
   },
   "outputs": [],
   "source": [
    "nt = [['','mew', 'meg', 'ie', 'cn'],\n",
    "      ['var', res_mew.pvalue, res_meg.pvalue, res_ie.pvalue, res_cn.pvalue],\n",
    "      ['min', res_mewmin.pvalue, res_megmin.pvalue, res_iemin.pvalue, ''],\n",
    "      ['max', res_mewmax.pvalue, res_megmax.pvalue, res_iemax.pvalue, '']]"
   ]
  },
  {
   "cell_type": "code",
   "execution_count": 51,
   "id": "0c58499d-15d8-44ce-9c72-0a05bed24a44",
   "metadata": {
    "execution": {
     "iopub.execute_input": "2024-03-07T16:41:34.152744Z",
     "iopub.status.busy": "2024-03-07T16:41:34.152469Z",
     "iopub.status.idle": "2024-03-07T16:41:34.156246Z",
     "shell.execute_reply": "2024-03-07T16:41:34.155630Z",
     "shell.execute_reply.started": "2024-03-07T16:41:34.152725Z"
    }
   },
   "outputs": [
    {
     "name": "stdout",
     "output_type": "stream",
     "text": [
      "---  ----------------------  ----------------------  ----------------------  ---------------------\n",
      "     mew                     meg                     ie                      cn\n",
      "var  4.40727951207253e-09    9.085136206442949e-20   1.2845308127903771e-07  2.243297732859301e-42\n",
      "min  2.0773249104189035e-06  1.7123063677699816e-06  0.0015720596740620998\n",
      "max  2.1456165459478802e-11  7.321700186197608e-29   1.049612113000862e-14\n",
      "---  ----------------------  ----------------------  ----------------------  ---------------------\n"
     ]
    }
   ],
   "source": [
    "print(tabulate(nt))"
   ]
  },
  {
   "cell_type": "code",
   "execution_count": 136,
   "id": "42db19c4-7ac9-4379-8631-93682487ba8a",
   "metadata": {
    "execution": {
     "iopub.execute_input": "2024-03-07T16:24:18.438464Z",
     "iopub.status.busy": "2024-03-07T16:24:18.438180Z",
     "iopub.status.idle": "2024-03-07T16:24:18.443399Z",
     "shell.execute_reply": "2024-03-07T16:24:18.442877Z",
     "shell.execute_reply.started": "2024-03-07T16:24:18.438447Z"
    }
   },
   "outputs": [],
   "source": [
    "nd = np.random.normal(0, 0.1, 100000)"
   ]
  },
  {
   "cell_type": "code",
   "execution_count": 137,
   "id": "8d12e5b3-304a-4fdd-b2fc-d834f3315731",
   "metadata": {
    "execution": {
     "iopub.execute_input": "2024-03-07T16:24:20.369558Z",
     "iopub.status.busy": "2024-03-07T16:24:20.369288Z",
     "iopub.status.idle": "2024-03-07T16:24:20.376806Z",
     "shell.execute_reply": "2024-03-07T16:24:20.376363Z",
     "shell.execute_reply.started": "2024-03-07T16:24:20.369541Z"
    }
   },
   "outputs": [],
   "source": [
    "res_nd = stats.normaltest(nd)"
   ]
  },
  {
   "cell_type": "code",
   "execution_count": 138,
   "id": "d3174e25-348c-44b0-b861-123dacaf9fb2",
   "metadata": {
    "execution": {
     "iopub.execute_input": "2024-03-07T16:24:20.605652Z",
     "iopub.status.busy": "2024-03-07T16:24:20.605372Z",
     "iopub.status.idle": "2024-03-07T16:24:20.609198Z",
     "shell.execute_reply": "2024-03-07T16:24:20.608676Z",
     "shell.execute_reply.started": "2024-03-07T16:24:20.605634Z"
    }
   },
   "outputs": [
    {
     "data": {
      "text/plain": [
       "0.14333955302240686"
      ]
     },
     "execution_count": 138,
     "metadata": {},
     "output_type": "execute_result"
    }
   ],
   "source": [
    "res_nd.statistic"
   ]
  },
  {
   "cell_type": "code",
   "execution_count": 139,
   "id": "65024680-39df-44b1-afac-e96436379da5",
   "metadata": {
    "execution": {
     "iopub.execute_input": "2024-03-07T16:24:20.923164Z",
     "iopub.status.busy": "2024-03-07T16:24:20.922885Z",
     "iopub.status.idle": "2024-03-07T16:24:20.926954Z",
     "shell.execute_reply": "2024-03-07T16:24:20.926408Z",
     "shell.execute_reply.started": "2024-03-07T16:24:20.923146Z"
    }
   },
   "outputs": [
    {
     "data": {
      "text/plain": [
       "0.930838229711697"
      ]
     },
     "execution_count": 139,
     "metadata": {},
     "output_type": "execute_result"
    }
   ],
   "source": [
    "res_nd.pvalue"
   ]
  },
  {
   "cell_type": "markdown",
   "id": "ef916aa4-6965-4a8f-b807-fc65987425f1",
   "metadata": {},
   "source": [
    "#### Regression analysis"
   ]
  },
  {
   "cell_type": "code",
   "execution_count": 78,
   "id": "a4488798-55cd-4681-a14b-b153648c9326",
   "metadata": {
    "execution": {
     "iopub.execute_input": "2024-03-07T12:26:32.622420Z",
     "iopub.status.busy": "2024-03-07T12:26:32.622137Z",
     "iopub.status.idle": "2024-03-07T12:26:32.649915Z",
     "shell.execute_reply": "2024-03-07T12:26:32.649453Z",
     "shell.execute_reply.started": "2024-03-07T12:26:32.622402Z"
    }
   },
   "outputs": [
    {
     "data": {
      "text/plain": [
       "const    3.006348\n",
       "mew     -1.378461\n",
       "meg      0.464645\n",
       "ie      -0.039340\n",
       "cn      -0.017868\n",
       "dtype: float64"
      ]
     },
     "execution_count": 78,
     "metadata": {},
     "output_type": "execute_result"
    }
   ],
   "source": [
    "# result_sp = sm.OLS(formula='sp ~ mew + meg + ie + cn', data=dfrc).fit()\n",
    "Y = dfrc['sp']\n",
    "X = dfrc[['mew','meg','ie','cn']]\n",
    "X = sm.add_constant(X)\n",
    "model1 = sm.OLS(Y, X)\n",
    "result1 = model1.fit()\n",
    "result1.params"
   ]
  },
  {
   "cell_type": "code",
   "execution_count": 79,
   "id": "05ac1940-7656-447a-a730-7a3a73651d45",
   "metadata": {
    "execution": {
     "iopub.execute_input": "2024-03-07T12:26:55.205147Z",
     "iopub.status.busy": "2024-03-07T12:26:55.204856Z",
     "iopub.status.idle": "2024-03-07T12:26:55.210341Z",
     "shell.execute_reply": "2024-03-07T12:26:55.209709Z",
     "shell.execute_reply.started": "2024-03-07T12:26:55.205130Z"
    }
   },
   "outputs": [
    {
     "data": {
      "text/plain": [
       "const    1.278016\n",
       "mew     -2.155572\n",
       "meg      1.093304\n",
       "ie      -0.078663\n",
       "cn      -0.242419\n",
       "dtype: float64"
      ]
     },
     "execution_count": 79,
     "metadata": {},
     "output_type": "execute_result"
    }
   ],
   "source": [
    "result1.tvalues"
   ]
  },
  {
   "cell_type": "code",
   "execution_count": 84,
   "id": "4aa02be6-2138-4dc0-8280-0bfa794c47fc",
   "metadata": {
    "execution": {
     "iopub.execute_input": "2024-03-07T12:28:21.507400Z",
     "iopub.status.busy": "2024-03-07T12:28:21.506939Z",
     "iopub.status.idle": "2024-03-07T12:28:21.528779Z",
     "shell.execute_reply": "2024-03-07T12:28:21.528315Z",
     "shell.execute_reply.started": "2024-03-07T12:28:21.507383Z"
    }
   },
   "outputs": [
    {
     "data": {
      "text/html": [
       "<table class=\"simpletable\">\n",
       "<caption>OLS Regression Results</caption>\n",
       "<tr>\n",
       "  <th>Dep. Variable:</th>           <td>sp</td>        <th>  R-squared:         </th> <td>   0.018</td>\n",
       "</tr>\n",
       "<tr>\n",
       "  <th>Model:</th>                   <td>OLS</td>       <th>  Adj. R-squared:    </th> <td>   0.004</td>\n",
       "</tr>\n",
       "<tr>\n",
       "  <th>Method:</th>             <td>Least Squares</td>  <th>  F-statistic:       </th> <td>   1.297</td>\n",
       "</tr>\n",
       "<tr>\n",
       "  <th>Date:</th>             <td>Thu, 07 Mar 2024</td> <th>  Prob (F-statistic):</th>  <td> 0.271</td> \n",
       "</tr>\n",
       "<tr>\n",
       "  <th>Time:</th>                 <td>13:28:21</td>     <th>  Log-Likelihood:    </th> <td> -560.59</td>\n",
       "</tr>\n",
       "<tr>\n",
       "  <th>No. Observations:</th>      <td>   295</td>      <th>  AIC:               </th> <td>   1131.</td>\n",
       "</tr>\n",
       "<tr>\n",
       "  <th>Df Residuals:</th>          <td>   290</td>      <th>  BIC:               </th> <td>   1150.</td>\n",
       "</tr>\n",
       "<tr>\n",
       "  <th>Df Model:</th>              <td>     4</td>      <th>                     </th>     <td> </td>   \n",
       "</tr>\n",
       "<tr>\n",
       "  <th>Covariance Type:</th>      <td>nonrobust</td>    <th>                     </th>     <td> </td>   \n",
       "</tr>\n",
       "</table>\n",
       "<table class=\"simpletable\">\n",
       "<tr>\n",
       "    <td></td>       <th>coef</th>     <th>std err</th>      <th>t</th>      <th>P>|t|</th>  <th>[0.025</th>    <th>0.975]</th>  \n",
       "</tr>\n",
       "<tr>\n",
       "  <th>const</th> <td>    3.0063</td> <td>    2.352</td> <td>    1.278</td> <td> 0.202</td> <td>   -1.624</td> <td>    7.636</td>\n",
       "</tr>\n",
       "<tr>\n",
       "  <th>mew</th>   <td>   -1.3785</td> <td>    0.639</td> <td>   -2.156</td> <td> 0.032</td> <td>   -2.637</td> <td>   -0.120</td>\n",
       "</tr>\n",
       "<tr>\n",
       "  <th>meg</th>   <td>    0.4646</td> <td>    0.425</td> <td>    1.093</td> <td> 0.275</td> <td>   -0.372</td> <td>    1.301</td>\n",
       "</tr>\n",
       "<tr>\n",
       "  <th>ie</th>    <td>   -0.0393</td> <td>    0.500</td> <td>   -0.079</td> <td> 0.937</td> <td>   -1.024</td> <td>    0.945</td>\n",
       "</tr>\n",
       "<tr>\n",
       "  <th>cn</th>    <td>   -0.0179</td> <td>    0.074</td> <td>   -0.242</td> <td> 0.809</td> <td>   -0.163</td> <td>    0.127</td>\n",
       "</tr>\n",
       "</table>\n",
       "<table class=\"simpletable\">\n",
       "<tr>\n",
       "  <th>Omnibus:</th>       <td>73.775</td> <th>  Durbin-Watson:     </th> <td>   1.790</td>\n",
       "</tr>\n",
       "<tr>\n",
       "  <th>Prob(Omnibus):</th> <td> 0.000</td> <th>  Jarque-Bera (JB):  </th> <td> 123.847</td>\n",
       "</tr>\n",
       "<tr>\n",
       "  <th>Skew:</th>          <td> 1.520</td> <th>  Prob(JB):          </th> <td>1.28e-27</td>\n",
       "</tr>\n",
       "<tr>\n",
       "  <th>Kurtosis:</th>      <td> 3.914</td> <th>  Cond. No.          </th> <td>    127.</td>\n",
       "</tr>\n",
       "</table><br/><br/>Notes:<br/>[1] Standard Errors assume that the covariance matrix of the errors is correctly specified."
      ],
      "text/latex": [
       "\\begin{center}\n",
       "\\begin{tabular}{lclc}\n",
       "\\toprule\n",
       "\\textbf{Dep. Variable:}    &        sp        & \\textbf{  R-squared:         } &     0.018   \\\\\n",
       "\\textbf{Model:}            &       OLS        & \\textbf{  Adj. R-squared:    } &     0.004   \\\\\n",
       "\\textbf{Method:}           &  Least Squares   & \\textbf{  F-statistic:       } &     1.297   \\\\\n",
       "\\textbf{Date:}             & Thu, 07 Mar 2024 & \\textbf{  Prob (F-statistic):} &    0.271    \\\\\n",
       "\\textbf{Time:}             &     13:28:21     & \\textbf{  Log-Likelihood:    } &   -560.59   \\\\\n",
       "\\textbf{No. Observations:} &         295      & \\textbf{  AIC:               } &     1131.   \\\\\n",
       "\\textbf{Df Residuals:}     &         290      & \\textbf{  BIC:               } &     1150.   \\\\\n",
       "\\textbf{Df Model:}         &           4      & \\textbf{                     } &             \\\\\n",
       "\\textbf{Covariance Type:}  &    nonrobust     & \\textbf{                     } &             \\\\\n",
       "\\bottomrule\n",
       "\\end{tabular}\n",
       "\\begin{tabular}{lcccccc}\n",
       "               & \\textbf{coef} & \\textbf{std err} & \\textbf{t} & \\textbf{P$> |$t$|$} & \\textbf{[0.025} & \\textbf{0.975]}  \\\\\n",
       "\\midrule\n",
       "\\textbf{const} &       3.0063  &        2.352     &     1.278  &         0.202        &       -1.624    &        7.636     \\\\\n",
       "\\textbf{mew}   &      -1.3785  &        0.639     &    -2.156  &         0.032        &       -2.637    &       -0.120     \\\\\n",
       "\\textbf{meg}   &       0.4646  &        0.425     &     1.093  &         0.275        &       -0.372    &        1.301     \\\\\n",
       "\\textbf{ie}    &      -0.0393  &        0.500     &    -0.079  &         0.937        &       -1.024    &        0.945     \\\\\n",
       "\\textbf{cn}    &      -0.0179  &        0.074     &    -0.242  &         0.809        &       -0.163    &        0.127     \\\\\n",
       "\\bottomrule\n",
       "\\end{tabular}\n",
       "\\begin{tabular}{lclc}\n",
       "\\textbf{Omnibus:}       & 73.775 & \\textbf{  Durbin-Watson:     } &    1.790  \\\\\n",
       "\\textbf{Prob(Omnibus):} &  0.000 & \\textbf{  Jarque-Bera (JB):  } &  123.847  \\\\\n",
       "\\textbf{Skew:}          &  1.520 & \\textbf{  Prob(JB):          } & 1.28e-27  \\\\\n",
       "\\textbf{Kurtosis:}      &  3.914 & \\textbf{  Cond. No.          } &     127.  \\\\\n",
       "\\bottomrule\n",
       "\\end{tabular}\n",
       "%\\caption{OLS Regression Results}\n",
       "\\end{center}\n",
       "\n",
       "Notes: \\newline\n",
       " [1] Standard Errors assume that the covariance matrix of the errors is correctly specified."
      ],
      "text/plain": [
       "<class 'statsmodels.iolib.summary.Summary'>\n",
       "\"\"\"\n",
       "                            OLS Regression Results                            \n",
       "==============================================================================\n",
       "Dep. Variable:                     sp   R-squared:                       0.018\n",
       "Model:                            OLS   Adj. R-squared:                  0.004\n",
       "Method:                 Least Squares   F-statistic:                     1.297\n",
       "Date:                Thu, 07 Mar 2024   Prob (F-statistic):              0.271\n",
       "Time:                        13:28:21   Log-Likelihood:                -560.59\n",
       "No. Observations:                 295   AIC:                             1131.\n",
       "Df Residuals:                     290   BIC:                             1150.\n",
       "Df Model:                           4                                         \n",
       "Covariance Type:            nonrobust                                         \n",
       "==============================================================================\n",
       "                 coef    std err          t      P>|t|      [0.025      0.975]\n",
       "------------------------------------------------------------------------------\n",
       "const          3.0063      2.352      1.278      0.202      -1.624       7.636\n",
       "mew           -1.3785      0.639     -2.156      0.032      -2.637      -0.120\n",
       "meg            0.4646      0.425      1.093      0.275      -0.372       1.301\n",
       "ie            -0.0393      0.500     -0.079      0.937      -1.024       0.945\n",
       "cn            -0.0179      0.074     -0.242      0.809      -0.163       0.127\n",
       "==============================================================================\n",
       "Omnibus:                       73.775   Durbin-Watson:                   1.790\n",
       "Prob(Omnibus):                  0.000   Jarque-Bera (JB):              123.847\n",
       "Skew:                           1.520   Prob(JB):                     1.28e-27\n",
       "Kurtosis:                       3.914   Cond. No.                         127.\n",
       "==============================================================================\n",
       "\n",
       "Notes:\n",
       "[1] Standard Errors assume that the covariance matrix of the errors is correctly specified.\n",
       "\"\"\""
      ]
     },
     "execution_count": 84,
     "metadata": {},
     "output_type": "execute_result"
    }
   ],
   "source": [
    "result1.summary()"
   ]
  },
  {
   "cell_type": "code",
   "execution_count": 85,
   "id": "c9625342-8c69-40e9-be48-eb874347f350",
   "metadata": {
    "execution": {
     "iopub.execute_input": "2024-03-07T12:31:48.912968Z",
     "iopub.status.busy": "2024-03-07T12:31:48.912689Z",
     "iopub.status.idle": "2024-03-07T12:31:48.922220Z",
     "shell.execute_reply": "2024-03-07T12:31:48.921625Z",
     "shell.execute_reply.started": "2024-03-07T12:31:48.912948Z"
    }
   },
   "outputs": [
    {
     "data": {
      "text/plain": [
       "const    8775.819709\n",
       "mew       292.416884\n",
       "meg       579.330298\n",
       "ie      -1905.199714\n",
       "cn       -124.232695\n",
       "dtype: float64"
      ]
     },
     "execution_count": 85,
     "metadata": {},
     "output_type": "execute_result"
    }
   ],
   "source": [
    "# result_sp = sm.OLS(formula='sp ~ mew + meg + ie + cn', data=dfrc).fit()\n",
    "Y2 = dfrc['pd']\n",
    "X2 = dfrc[['mew','meg','ie','cn']]\n",
    "X2 = sm.add_constant(X2)\n",
    "model2 = sm.OLS(Y2, X2)\n",
    "result2 = model2.fit()\n",
    "result2.params"
   ]
  },
  {
   "cell_type": "code",
   "execution_count": 86,
   "id": "4aee90ae-605d-4ecc-b683-7f5c35cb1034",
   "metadata": {
    "execution": {
     "iopub.execute_input": "2024-03-07T12:31:49.520711Z",
     "iopub.status.busy": "2024-03-07T12:31:49.520435Z",
     "iopub.status.idle": "2024-03-07T12:31:49.525412Z",
     "shell.execute_reply": "2024-03-07T12:31:49.524862Z",
     "shell.execute_reply.started": "2024-03-07T12:31:49.520693Z"
    }
   },
   "outputs": [
    {
     "data": {
      "text/plain": [
       "const    1.775085\n",
       "mew      0.217573\n",
       "meg      0.648606\n",
       "ie      -1.812638\n",
       "cn      -0.801993\n",
       "dtype: float64"
      ]
     },
     "execution_count": 86,
     "metadata": {},
     "output_type": "execute_result"
    }
   ],
   "source": [
    "result2.tvalues"
   ]
  },
  {
   "cell_type": "code",
   "execution_count": 87,
   "id": "9be17613-571b-48c8-8543-45a47710acdb",
   "metadata": {
    "execution": {
     "iopub.execute_input": "2024-03-07T12:31:50.038483Z",
     "iopub.status.busy": "2024-03-07T12:31:50.038196Z",
     "iopub.status.idle": "2024-03-07T12:31:50.060764Z",
     "shell.execute_reply": "2024-03-07T12:31:50.060211Z",
     "shell.execute_reply.started": "2024-03-07T12:31:50.038464Z"
    }
   },
   "outputs": [
    {
     "data": {
      "text/html": [
       "<table class=\"simpletable\">\n",
       "<caption>OLS Regression Results</caption>\n",
       "<tr>\n",
       "  <th>Dep. Variable:</th>           <td>pd</td>        <th>  R-squared:         </th> <td>   0.015</td>\n",
       "</tr>\n",
       "<tr>\n",
       "  <th>Model:</th>                   <td>OLS</td>       <th>  Adj. R-squared:    </th> <td>   0.002</td>\n",
       "</tr>\n",
       "<tr>\n",
       "  <th>Method:</th>             <td>Least Squares</td>  <th>  F-statistic:       </th> <td>   1.120</td>\n",
       "</tr>\n",
       "<tr>\n",
       "  <th>Date:</th>             <td>Thu, 07 Mar 2024</td> <th>  Prob (F-statistic):</th>  <td> 0.347</td> \n",
       "</tr>\n",
       "<tr>\n",
       "  <th>Time:</th>                 <td>13:31:50</td>     <th>  Log-Likelihood:    </th> <td> -2817.5</td>\n",
       "</tr>\n",
       "<tr>\n",
       "  <th>No. Observations:</th>      <td>   295</td>      <th>  AIC:               </th> <td>   5645.</td>\n",
       "</tr>\n",
       "<tr>\n",
       "  <th>Df Residuals:</th>          <td>   290</td>      <th>  BIC:               </th> <td>   5663.</td>\n",
       "</tr>\n",
       "<tr>\n",
       "  <th>Df Model:</th>              <td>     4</td>      <th>                     </th>     <td> </td>   \n",
       "</tr>\n",
       "<tr>\n",
       "  <th>Covariance Type:</th>      <td>nonrobust</td>    <th>                     </th>     <td> </td>   \n",
       "</tr>\n",
       "</table>\n",
       "<table class=\"simpletable\">\n",
       "<tr>\n",
       "    <td></td>       <th>coef</th>     <th>std err</th>      <th>t</th>      <th>P>|t|</th>  <th>[0.025</th>    <th>0.975]</th>  \n",
       "</tr>\n",
       "<tr>\n",
       "  <th>const</th> <td> 8775.8197</td> <td> 4943.887</td> <td>    1.775</td> <td> 0.077</td> <td> -954.630</td> <td> 1.85e+04</td>\n",
       "</tr>\n",
       "<tr>\n",
       "  <th>mew</th>   <td>  292.4169</td> <td> 1343.995</td> <td>    0.218</td> <td> 0.828</td> <td>-2352.805</td> <td> 2937.638</td>\n",
       "</tr>\n",
       "<tr>\n",
       "  <th>meg</th>   <td>  579.3303</td> <td>  893.193</td> <td>    0.649</td> <td> 0.517</td> <td>-1178.633</td> <td> 2337.293</td>\n",
       "</tr>\n",
       "<tr>\n",
       "  <th>ie</th>    <td>-1905.1997</td> <td> 1051.064</td> <td>   -1.813</td> <td> 0.071</td> <td>-3973.882</td> <td>  163.482</td>\n",
       "</tr>\n",
       "<tr>\n",
       "  <th>cn</th>    <td> -124.2327</td> <td>  154.905</td> <td>   -0.802</td> <td> 0.423</td> <td> -429.113</td> <td>  180.648</td>\n",
       "</tr>\n",
       "</table>\n",
       "<table class=\"simpletable\">\n",
       "<tr>\n",
       "  <th>Omnibus:</th>       <td>556.733</td> <th>  Durbin-Watson:     </th>  <td>   2.086</td> \n",
       "</tr>\n",
       "<tr>\n",
       "  <th>Prob(Omnibus):</th> <td> 0.000</td>  <th>  Jarque-Bera (JB):  </th> <td>320937.334</td>\n",
       "</tr>\n",
       "<tr>\n",
       "  <th>Skew:</th>          <td>11.247</td>  <th>  Prob(JB):          </th>  <td>    0.00</td> \n",
       "</tr>\n",
       "<tr>\n",
       "  <th>Kurtosis:</th>      <td>163.013</td> <th>  Cond. No.          </th>  <td>    127.</td> \n",
       "</tr>\n",
       "</table><br/><br/>Notes:<br/>[1] Standard Errors assume that the covariance matrix of the errors is correctly specified."
      ],
      "text/latex": [
       "\\begin{center}\n",
       "\\begin{tabular}{lclc}\n",
       "\\toprule\n",
       "\\textbf{Dep. Variable:}    &        pd        & \\textbf{  R-squared:         } &     0.015   \\\\\n",
       "\\textbf{Model:}            &       OLS        & \\textbf{  Adj. R-squared:    } &     0.002   \\\\\n",
       "\\textbf{Method:}           &  Least Squares   & \\textbf{  F-statistic:       } &     1.120   \\\\\n",
       "\\textbf{Date:}             & Thu, 07 Mar 2024 & \\textbf{  Prob (F-statistic):} &    0.347    \\\\\n",
       "\\textbf{Time:}             &     13:31:50     & \\textbf{  Log-Likelihood:    } &   -2817.5   \\\\\n",
       "\\textbf{No. Observations:} &         295      & \\textbf{  AIC:               } &     5645.   \\\\\n",
       "\\textbf{Df Residuals:}     &         290      & \\textbf{  BIC:               } &     5663.   \\\\\n",
       "\\textbf{Df Model:}         &           4      & \\textbf{                     } &             \\\\\n",
       "\\textbf{Covariance Type:}  &    nonrobust     & \\textbf{                     } &             \\\\\n",
       "\\bottomrule\n",
       "\\end{tabular}\n",
       "\\begin{tabular}{lcccccc}\n",
       "               & \\textbf{coef} & \\textbf{std err} & \\textbf{t} & \\textbf{P$> |$t$|$} & \\textbf{[0.025} & \\textbf{0.975]}  \\\\\n",
       "\\midrule\n",
       "\\textbf{const} &    8775.8197  &     4943.887     &     1.775  &         0.077        &     -954.630    &     1.85e+04     \\\\\n",
       "\\textbf{mew}   &     292.4169  &     1343.995     &     0.218  &         0.828        &    -2352.805    &     2937.638     \\\\\n",
       "\\textbf{meg}   &     579.3303  &      893.193     &     0.649  &         0.517        &    -1178.633    &     2337.293     \\\\\n",
       "\\textbf{ie}    &   -1905.1997  &     1051.064     &    -1.813  &         0.071        &    -3973.882    &      163.482     \\\\\n",
       "\\textbf{cn}    &    -124.2327  &      154.905     &    -0.802  &         0.423        &     -429.113    &      180.648     \\\\\n",
       "\\bottomrule\n",
       "\\end{tabular}\n",
       "\\begin{tabular}{lclc}\n",
       "\\textbf{Omnibus:}       & 556.733 & \\textbf{  Durbin-Watson:     } &     2.086   \\\\\n",
       "\\textbf{Prob(Omnibus):} &   0.000 & \\textbf{  Jarque-Bera (JB):  } & 320937.334  \\\\\n",
       "\\textbf{Skew:}          &  11.247 & \\textbf{  Prob(JB):          } &      0.00   \\\\\n",
       "\\textbf{Kurtosis:}      & 163.013 & \\textbf{  Cond. No.          } &      127.   \\\\\n",
       "\\bottomrule\n",
       "\\end{tabular}\n",
       "%\\caption{OLS Regression Results}\n",
       "\\end{center}\n",
       "\n",
       "Notes: \\newline\n",
       " [1] Standard Errors assume that the covariance matrix of the errors is correctly specified."
      ],
      "text/plain": [
       "<class 'statsmodels.iolib.summary.Summary'>\n",
       "\"\"\"\n",
       "                            OLS Regression Results                            \n",
       "==============================================================================\n",
       "Dep. Variable:                     pd   R-squared:                       0.015\n",
       "Model:                            OLS   Adj. R-squared:                  0.002\n",
       "Method:                 Least Squares   F-statistic:                     1.120\n",
       "Date:                Thu, 07 Mar 2024   Prob (F-statistic):              0.347\n",
       "Time:                        13:31:50   Log-Likelihood:                -2817.5\n",
       "No. Observations:                 295   AIC:                             5645.\n",
       "Df Residuals:                     290   BIC:                             5663.\n",
       "Df Model:                           4                                         \n",
       "Covariance Type:            nonrobust                                         \n",
       "==============================================================================\n",
       "                 coef    std err          t      P>|t|      [0.025      0.975]\n",
       "------------------------------------------------------------------------------\n",
       "const       8775.8197   4943.887      1.775      0.077    -954.630    1.85e+04\n",
       "mew          292.4169   1343.995      0.218      0.828   -2352.805    2937.638\n",
       "meg          579.3303    893.193      0.649      0.517   -1178.633    2337.293\n",
       "ie         -1905.1997   1051.064     -1.813      0.071   -3973.882     163.482\n",
       "cn          -124.2327    154.905     -0.802      0.423    -429.113     180.648\n",
       "==============================================================================\n",
       "Omnibus:                      556.733   Durbin-Watson:                   2.086\n",
       "Prob(Omnibus):                  0.000   Jarque-Bera (JB):           320937.334\n",
       "Skew:                          11.247   Prob(JB):                         0.00\n",
       "Kurtosis:                     163.013   Cond. No.                         127.\n",
       "==============================================================================\n",
       "\n",
       "Notes:\n",
       "[1] Standard Errors assume that the covariance matrix of the errors is correctly specified.\n",
       "\"\"\""
      ]
     },
     "execution_count": 87,
     "metadata": {},
     "output_type": "execute_result"
    }
   ],
   "source": [
    "result2.summary()"
   ]
  },
  {
   "cell_type": "code",
   "execution_count": 88,
   "id": "e6f4f6d0-d71a-409e-883a-9e1a8ca61544",
   "metadata": {
    "execution": {
     "iopub.execute_input": "2024-03-07T12:33:25.240095Z",
     "iopub.status.busy": "2024-03-07T12:33:25.239812Z",
     "iopub.status.idle": "2024-03-07T12:33:25.505107Z",
     "shell.execute_reply": "2024-03-07T12:33:25.504476Z",
     "shell.execute_reply.started": "2024-03-07T12:33:25.240079Z"
    }
   },
   "outputs": [
    {
     "data": {
      "image/png": "[encoded data removed]",
      "text/plain": [
       "<Figure size 640x480 with 2 Axes>"
      ]
     },
     "metadata": {},
     "output_type": "display_data"
    }
   ],
   "source": [
    "# vc\n",
    "vc = dfrc[['mew', 'meg', 'ie', 'cn', 'sp', 'pd']]\n",
    "corr_matrix = vc.corr()\n",
    "sn.heatmap(corr_matrix, annot = True)\n",
    "plt.show()"
   ]
  },
  {
   "cell_type": "code",
   "execution_count": 90,
   "id": "87d250dd-d6b8-4702-ae1e-958285767933",
   "metadata": {
    "execution": {
     "iopub.execute_input": "2024-03-07T12:44:11.995831Z",
     "iopub.status.busy": "2024-03-07T12:44:11.995526Z",
     "iopub.status.idle": "2024-03-07T12:44:12.016228Z",
     "shell.execute_reply": "2024-03-07T12:44:12.015554Z",
     "shell.execute_reply.started": "2024-03-07T12:44:11.995811Z"
    }
   },
   "outputs": [
    {
     "data": {
      "text/html": [
       "<table class=\"simpletable\">\n",
       "<caption>OLS Regression Results</caption>\n",
       "<tr>\n",
       "  <th>Dep. Variable:</th>           <td>sp</td>        <th>  R-squared:         </th> <td>   0.013</td>\n",
       "</tr>\n",
       "<tr>\n",
       "  <th>Model:</th>                   <td>OLS</td>       <th>  Adj. R-squared:    </th> <td>   0.010</td>\n",
       "</tr>\n",
       "<tr>\n",
       "  <th>Method:</th>             <td>Least Squares</td>  <th>  F-statistic:       </th> <td>   3.981</td>\n",
       "</tr>\n",
       "<tr>\n",
       "  <th>Date:</th>             <td>Thu, 07 Mar 2024</td> <th>  Prob (F-statistic):</th>  <td>0.0469</td> \n",
       "</tr>\n",
       "<tr>\n",
       "  <th>Time:</th>                 <td>13:44:11</td>     <th>  Log-Likelihood:    </th> <td> -561.22</td>\n",
       "</tr>\n",
       "<tr>\n",
       "  <th>No. Observations:</th>      <td>   295</td>      <th>  AIC:               </th> <td>   1126.</td>\n",
       "</tr>\n",
       "<tr>\n",
       "  <th>Df Residuals:</th>          <td>   293</td>      <th>  BIC:               </th> <td>   1134.</td>\n",
       "</tr>\n",
       "<tr>\n",
       "  <th>Df Model:</th>              <td>     1</td>      <th>                     </th>     <td> </td>   \n",
       "</tr>\n",
       "<tr>\n",
       "  <th>Covariance Type:</th>      <td>nonrobust</td>    <th>                     </th>     <td> </td>   \n",
       "</tr>\n",
       "</table>\n",
       "<table class=\"simpletable\">\n",
       "<tr>\n",
       "    <td></td>       <th>coef</th>     <th>std err</th>      <th>t</th>      <th>P>|t|</th>  <th>[0.025</th>    <th>0.975]</th>  \n",
       "</tr>\n",
       "<tr>\n",
       "  <th>const</th> <td>    2.9600</td> <td>    0.685</td> <td>    4.322</td> <td> 0.000</td> <td>    1.612</td> <td>    4.308</td>\n",
       "</tr>\n",
       "<tr>\n",
       "  <th>mew</th>   <td>   -1.0892</td> <td>    0.546</td> <td>   -1.995</td> <td> 0.047</td> <td>   -2.164</td> <td>   -0.015</td>\n",
       "</tr>\n",
       "</table>\n",
       "<table class=\"simpletable\">\n",
       "<tr>\n",
       "  <th>Omnibus:</th>       <td>73.700</td> <th>  Durbin-Watson:     </th> <td>   1.795</td>\n",
       "</tr>\n",
       "<tr>\n",
       "  <th>Prob(Omnibus):</th> <td> 0.000</td> <th>  Jarque-Bera (JB):  </th> <td> 123.717</td>\n",
       "</tr>\n",
       "<tr>\n",
       "  <th>Skew:</th>          <td> 1.522</td> <th>  Prob(JB):          </th> <td>1.37e-27</td>\n",
       "</tr>\n",
       "<tr>\n",
       "  <th>Kurtosis:</th>      <td> 3.891</td> <th>  Cond. No.          </th> <td>    14.8</td>\n",
       "</tr>\n",
       "</table><br/><br/>Notes:<br/>[1] Standard Errors assume that the covariance matrix of the errors is correctly specified."
      ],
      "text/latex": [
       "\\begin{center}\n",
       "\\begin{tabular}{lclc}\n",
       "\\toprule\n",
       "\\textbf{Dep. Variable:}    &        sp        & \\textbf{  R-squared:         } &     0.013   \\\\\n",
       "\\textbf{Model:}            &       OLS        & \\textbf{  Adj. R-squared:    } &     0.010   \\\\\n",
       "\\textbf{Method:}           &  Least Squares   & \\textbf{  F-statistic:       } &     3.981   \\\\\n",
       "\\textbf{Date:}             & Thu, 07 Mar 2024 & \\textbf{  Prob (F-statistic):} &   0.0469    \\\\\n",
       "\\textbf{Time:}             &     13:44:11     & \\textbf{  Log-Likelihood:    } &   -561.22   \\\\\n",
       "\\textbf{No. Observations:} &         295      & \\textbf{  AIC:               } &     1126.   \\\\\n",
       "\\textbf{Df Residuals:}     &         293      & \\textbf{  BIC:               } &     1134.   \\\\\n",
       "\\textbf{Df Model:}         &           1      & \\textbf{                     } &             \\\\\n",
       "\\textbf{Covariance Type:}  &    nonrobust     & \\textbf{                     } &             \\\\\n",
       "\\bottomrule\n",
       "\\end{tabular}\n",
       "\\begin{tabular}{lcccccc}\n",
       "               & \\textbf{coef} & \\textbf{std err} & \\textbf{t} & \\textbf{P$> |$t$|$} & \\textbf{[0.025} & \\textbf{0.975]}  \\\\\n",
       "\\midrule\n",
       "\\textbf{const} &       2.9600  &        0.685     &     4.322  &         0.000        &        1.612    &        4.308     \\\\\n",
       "\\textbf{mew}   &      -1.0892  &        0.546     &    -1.995  &         0.047        &       -2.164    &       -0.015     \\\\\n",
       "\\bottomrule\n",
       "\\end{tabular}\n",
       "\\begin{tabular}{lclc}\n",
       "\\textbf{Omnibus:}       & 73.700 & \\textbf{  Durbin-Watson:     } &    1.795  \\\\\n",
       "\\textbf{Prob(Omnibus):} &  0.000 & \\textbf{  Jarque-Bera (JB):  } &  123.717  \\\\\n",
       "\\textbf{Skew:}          &  1.522 & \\textbf{  Prob(JB):          } & 1.37e-27  \\\\\n",
       "\\textbf{Kurtosis:}      &  3.891 & \\textbf{  Cond. No.          } &     14.8  \\\\\n",
       "\\bottomrule\n",
       "\\end{tabular}\n",
       "%\\caption{OLS Regression Results}\n",
       "\\end{center}\n",
       "\n",
       "Notes: \\newline\n",
       " [1] Standard Errors assume that the covariance matrix of the errors is correctly specified."
      ],
      "text/plain": [
       "<class 'statsmodels.iolib.summary.Summary'>\n",
       "\"\"\"\n",
       "                            OLS Regression Results                            \n",
       "==============================================================================\n",
       "Dep. Variable:                     sp   R-squared:                       0.013\n",
       "Model:                            OLS   Adj. R-squared:                  0.010\n",
       "Method:                 Least Squares   F-statistic:                     3.981\n",
       "Date:                Thu, 07 Mar 2024   Prob (F-statistic):             0.0469\n",
       "Time:                        13:44:11   Log-Likelihood:                -561.22\n",
       "No. Observations:                 295   AIC:                             1126.\n",
       "Df Residuals:                     293   BIC:                             1134.\n",
       "Df Model:                           1                                         \n",
       "Covariance Type:            nonrobust                                         \n",
       "==============================================================================\n",
       "                 coef    std err          t      P>|t|      [0.025      0.975]\n",
       "------------------------------------------------------------------------------\n",
       "const          2.9600      0.685      4.322      0.000       1.612       4.308\n",
       "mew           -1.0892      0.546     -1.995      0.047      -2.164      -0.015\n",
       "==============================================================================\n",
       "Omnibus:                       73.700   Durbin-Watson:                   1.795\n",
       "Prob(Omnibus):                  0.000   Jarque-Bera (JB):              123.717\n",
       "Skew:                           1.522   Prob(JB):                     1.37e-27\n",
       "Kurtosis:                       3.891   Cond. No.                         14.8\n",
       "==============================================================================\n",
       "\n",
       "Notes:\n",
       "[1] Standard Errors assume that the covariance matrix of the errors is correctly specified.\n",
       "\"\"\""
      ]
     },
     "execution_count": 90,
     "metadata": {},
     "output_type": "execute_result"
    }
   ],
   "source": [
    "Y3 = dfrc['sp']\n",
    "X3 = dfrc['mew']\n",
    "X3 = sm.add_constant(X3)\n",
    "model3 = sm.OLS(Y3, X3)\n",
    "result3 = model3.fit()\n",
    "result3.summary()"
   ]
  }
 ],
 "metadata": {
  "kernelspec": {
   "display_name": "Python 3 (ipykernel)",
   "language": "python",
   "name": "python3"
  },
  "language_info": {
   "codemirror_mode": {
    "name": "ipython",
    "version": 3
   },
   "file_extension": ".py",
   "mimetype": "text/x-python",
   "name": "python",
   "nbconvert_exporter": "python",
   "pygments_lexer": "ipython3",
   "version": "3.11.5"
  }
 },
 "nbformat": 4,
 "nbformat_minor": 5
}
