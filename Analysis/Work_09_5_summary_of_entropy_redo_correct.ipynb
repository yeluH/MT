{
 "cells": [
  {
   "cell_type": "code",
   "execution_count": 1,
   "id": "7e9f75d8-3be9-45ef-b9ae-ad72fefb7ce1",
   "metadata": {
    "execution": {
     "iopub.execute_input": "2024-04-24T17:38:33.916441Z",
     "iopub.status.busy": "2024-04-24T17:38:33.916099Z",
     "iopub.status.idle": "2024-04-24T17:38:37.576772Z",
     "shell.execute_reply": "2024-04-24T17:38:37.575990Z",
     "shell.execute_reply.started": "2024-04-24T17:38:33.916416Z"
    }
   },
   "outputs": [],
   "source": [
    "import torch\n",
    "torch.cuda.empty_cache() "
   ]
  },
  {
   "cell_type": "code",
   "execution_count": 2,
   "id": "f3e5fa71-37bd-4efe-b8ee-ae3c362b2a1b",
   "metadata": {
    "execution": {
     "iopub.execute_input": "2024-04-24T17:38:37.578342Z",
     "iopub.status.busy": "2024-04-24T17:38:37.578000Z",
     "iopub.status.idle": "2024-04-24T17:38:38.057787Z",
     "shell.execute_reply": "2024-04-24T17:38:38.057103Z",
     "shell.execute_reply.started": "2024-04-24T17:38:37.578319Z"
    }
   },
   "outputs": [],
   "source": [
    "import os \n",
    "os.environ['MPLCONFIGDIR'] = os.getcwd() + \"/configs/\"\n",
    "import matplotlib\n",
    "from matplotlib import pyplot as plt\n",
    "import numpy as np\n",
    "import cv2\n",
    "import urllib.request\n",
    "from PIL import Image"
   ]
  },
  {
   "cell_type": "code",
   "execution_count": 3,
   "id": "132db61a-9aa6-4936-8ab4-054288d07d2e",
   "metadata": {
    "execution": {
     "iopub.execute_input": "2024-04-24T17:38:38.059298Z",
     "iopub.status.busy": "2024-04-24T17:38:38.058929Z",
     "iopub.status.idle": "2024-04-24T17:38:38.983945Z",
     "shell.execute_reply": "2024-04-24T17:38:38.983229Z",
     "shell.execute_reply.started": "2024-04-24T17:38:38.059269Z"
    }
   },
   "outputs": [],
   "source": [
    "import pandas as pd\n",
    "import pyproj"
   ]
  },
  {
   "cell_type": "code",
   "execution_count": 4,
   "id": "80d61825-dc8d-4005-9362-cf497e771695",
   "metadata": {
    "execution": {
     "iopub.execute_input": "2024-04-24T17:38:38.985769Z",
     "iopub.status.busy": "2024-04-24T17:38:38.985393Z",
     "iopub.status.idle": "2024-04-24T17:38:38.989444Z",
     "shell.execute_reply": "2024-04-24T17:38:38.988688Z",
     "shell.execute_reply.started": "2024-04-24T17:38:38.985746Z"
    }
   },
   "outputs": [],
   "source": [
    "import os \n",
    "os.environ['MPLCONFIGDIR'] = os.getcwd() + \"/configs/\"\n",
    "import matplotlib\n",
    "from matplotlib import pyplot as plt\n",
    "import numpy as np\n",
    "import cv2"
   ]
  },
  {
   "cell_type": "code",
   "execution_count": 5,
   "id": "e6000c92-6b7e-4ee5-9c30-ac0dfed91840",
   "metadata": {
    "execution": {
     "iopub.execute_input": "2024-04-24T17:38:38.990487Z",
     "iopub.status.busy": "2024-04-24T17:38:38.990254Z",
     "iopub.status.idle": "2024-04-24T17:38:38.997980Z",
     "shell.execute_reply": "2024-04-24T17:38:38.997128Z",
     "shell.execute_reply.started": "2024-04-24T17:38:38.990464Z"
    }
   },
   "outputs": [],
   "source": [
    "from pathlib import Path"
   ]
  },
  {
   "cell_type": "code",
   "execution_count": 6,
   "id": "59dfb1fc-7192-4ae1-9df9-596320cc4875",
   "metadata": {
    "execution": {
     "iopub.execute_input": "2024-04-24T17:38:38.999181Z",
     "iopub.status.busy": "2024-04-24T17:38:38.998883Z",
     "iopub.status.idle": "2024-04-24T17:38:39.024436Z",
     "shell.execute_reply": "2024-04-24T17:38:39.023801Z",
     "shell.execute_reply.started": "2024-04-24T17:38:38.999156Z"
    }
   },
   "outputs": [],
   "source": [
    "import joblib"
   ]
  },
  {
   "cell_type": "code",
   "execution_count": 7,
   "id": "923fac26-61e2-49dd-9099-e31ff4079430",
   "metadata": {
    "execution": {
     "iopub.execute_input": "2024-04-24T17:38:39.025454Z",
     "iopub.status.busy": "2024-04-24T17:38:39.025215Z",
     "iopub.status.idle": "2024-04-24T17:38:39.435196Z",
     "shell.execute_reply": "2024-04-24T17:38:39.434517Z",
     "shell.execute_reply.started": "2024-04-24T17:38:39.025435Z"
    }
   },
   "outputs": [],
   "source": [
    "from mt_function_yl import *"
   ]
  },
  {
   "cell_type": "code",
   "execution_count": 8,
   "id": "8376ffe7-7aec-4e11-9f86-32619931952f",
   "metadata": {
    "execution": {
     "iopub.execute_input": "2024-04-24T17:38:39.436737Z",
     "iopub.status.busy": "2024-04-24T17:38:39.436277Z",
     "iopub.status.idle": "2024-04-24T17:38:39.532385Z",
     "shell.execute_reply": "2024-04-24T17:38:39.531716Z",
     "shell.execute_reply.started": "2024-04-24T17:38:39.436708Z"
    }
   },
   "outputs": [],
   "source": [
    "import seaborn as sn"
   ]
  },
  {
   "cell_type": "markdown",
   "id": "d7346fc9-4815-4194-b455-fca304758ef0",
   "metadata": {},
   "source": [
    "#### Load in Dataframes"
   ]
  },
  {
   "cell_type": "code",
   "execution_count": 9,
   "id": "ae1f529a-f9cf-4a2b-bfb1-bf4fa8153dfb",
   "metadata": {
    "execution": {
     "iopub.execute_input": "2024-04-24T17:38:39.533469Z",
     "iopub.status.busy": "2024-04-24T17:38:39.533171Z",
     "iopub.status.idle": "2024-04-24T17:38:39.622873Z",
     "shell.execute_reply": "2024-04-24T17:38:39.622164Z",
     "shell.execute_reply.started": "2024-04-24T17:38:39.533449Z"
    }
   },
   "outputs": [],
   "source": [
    "# Image entropy\n",
    "iea = pd.read_csv('/home/yelhe/script/mt/output/accident_image_entropy.csv')\n",
    "iep = pd.read_csv('/home/yelhe/script/mt/output/pseudo_image_entropy.csv')\n",
    "\n",
    "# Mask entropy of whole scene\n",
    "dfmwa = pd.read_csv('/home/yelhe/script/mt/output/accident_predmaskgroup_entropy.csv')\n",
    "dfmwp = pd.read_csv('/home/yelhe/script/mt/output/pseudo_predmaskgroup_entropy.csv')\n",
    "# Mask entropy of ground scene\n",
    "dfmga = pd.read_csv('/home/yelhe/script/mt/output/accident_predmaskgroup_gi_entropy_new.csv')\n",
    "dfmgp = pd.read_csv('/home/yelhe/script/mt/output/pseudo_predmaskgroup_gi_entropy_new.csv')"
   ]
  },
  {
   "cell_type": "code",
   "execution_count": 10,
   "id": "f58a55ec-47c6-485e-b085-82f079520a38",
   "metadata": {
    "execution": {
     "iopub.execute_input": "2024-04-24T17:38:42.648093Z",
     "iopub.status.busy": "2024-04-24T17:38:42.647663Z",
     "iopub.status.idle": "2024-04-24T17:38:42.665408Z",
     "shell.execute_reply": "2024-04-24T17:38:42.664199Z",
     "shell.execute_reply.started": "2024-04-24T17:38:42.648065Z"
    }
   },
   "outputs": [],
   "source": [
    "# Image entropy\n",
    "iea['Nr'] = iea['Nr'].values.astype(str)\n",
    "iea['id'] = iea['id'].values.astype(str)\n",
    "iea.rename(columns = {'entropy':'ie'}, inplace = True)"
   ]
  },
  {
   "cell_type": "code",
   "execution_count": 11,
   "id": "fb9a8111-f3de-4f03-a8be-fbf24a97007b",
   "metadata": {
    "execution": {
     "iopub.execute_input": "2024-04-24T17:38:42.966050Z",
     "iopub.status.busy": "2024-04-24T17:38:42.965643Z",
     "iopub.status.idle": "2024-04-24T17:38:42.981018Z",
     "shell.execute_reply": "2024-04-24T17:38:42.980334Z",
     "shell.execute_reply.started": "2024-04-24T17:38:42.966027Z"
    }
   },
   "outputs": [],
   "source": [
    "iep['Nr'] = iep['Nr'].values.astype(str)\n",
    "iep['Nr'] = iep['Nr'].str.zfill(5)\n",
    "iep['id'] = iep['id'].values.astype(str)\n",
    "iep['id'] = iep['id'].str.zfill(4)\n",
    "iep.rename(columns = {'entropy':'ie'}, inplace = True)"
   ]
  },
  {
   "cell_type": "code",
   "execution_count": 12,
   "id": "14898dc2-2424-4db8-b316-103e1f3e6df6",
   "metadata": {
    "execution": {
     "iopub.execute_input": "2024-04-24T17:38:44.226706Z",
     "iopub.status.busy": "2024-04-24T17:38:44.226375Z",
     "iopub.status.idle": "2024-04-24T17:38:44.235712Z",
     "shell.execute_reply": "2024-04-24T17:38:44.235080Z",
     "shell.execute_reply.started": "2024-04-24T17:38:44.226685Z"
    }
   },
   "outputs": [],
   "source": [
    "# Mask entropy of whole scene\n",
    "mwa = dfmwa.drop(['p', 'count', 'sum', 'percentage'], axis = 1)\n",
    "mwa = mwa.drop_duplicates()\n",
    "mwa['id'] = mwa['id'].values.astype(str)\n",
    "mwa.rename(columns = {'entropy':'mew', 'id_dir':'Nr'}, inplace = True)"
   ]
  },
  {
   "cell_type": "code",
   "execution_count": 13,
   "id": "991b1868-6541-4f45-ad7a-449982226fe1",
   "metadata": {
    "execution": {
     "iopub.execute_input": "2024-04-24T17:38:47.092387Z",
     "iopub.status.busy": "2024-04-24T17:38:47.092064Z",
     "iopub.status.idle": "2024-04-24T17:38:47.100532Z",
     "shell.execute_reply": "2024-04-24T17:38:47.099764Z",
     "shell.execute_reply.started": "2024-04-24T17:38:47.092366Z"
    }
   },
   "outputs": [],
   "source": [
    "# Mask entropy of ground scene\n",
    "mga = dfmga.drop(['p', 'count', 'sum', 'percentage'], axis = 1)\n",
    "mga = mga.drop_duplicates()\n",
    "mga['id'] = mga['id'].values.astype(str)\n",
    "mga.rename(columns = {'entropy':'meg', 'id_dir':'Nr'}, inplace = True)"
   ]
  },
  {
   "cell_type": "code",
   "execution_count": 14,
   "id": "743f6720-5dbb-4edc-a06e-ccb0d6b740b5",
   "metadata": {
    "execution": {
     "iopub.execute_input": "2024-04-24T17:38:48.151759Z",
     "iopub.status.busy": "2024-04-24T17:38:48.151083Z",
     "iopub.status.idle": "2024-04-24T17:38:48.168836Z",
     "shell.execute_reply": "2024-04-24T17:38:48.168199Z",
     "shell.execute_reply.started": "2024-04-24T17:38:48.151731Z"
    }
   },
   "outputs": [],
   "source": [
    "# Pseudo\n",
    "mwp = dfmwp.drop(['p', 'count', 'sum', 'percentage'], axis = 1)\n",
    "mwp = mwp.drop_duplicates()\n",
    "mwp.rename(columns = {'entropy':'mew', 'id_dir':'Nr'}, inplace = True)\n",
    "mwp['Nr'] = mwp['Nr'].values.astype(str)\n",
    "mwp['Nr'] = mwp['Nr'].str.zfill(5)\n",
    "mwp['id'] = mwp['id'].values.astype(str)\n",
    "mwp['id'] = mwp['id'].str.zfill(4)"
   ]
  },
  {
   "cell_type": "code",
   "execution_count": 15,
   "id": "5d71c9e3-812f-4d6f-ab37-e8658d8f9ae2",
   "metadata": {
    "execution": {
     "iopub.execute_input": "2024-04-24T17:38:49.557553Z",
     "iopub.status.busy": "2024-04-24T17:38:49.557143Z",
     "iopub.status.idle": "2024-04-24T17:38:49.576405Z",
     "shell.execute_reply": "2024-04-24T17:38:49.575669Z",
     "shell.execute_reply.started": "2024-04-24T17:38:49.557527Z"
    }
   },
   "outputs": [],
   "source": [
    "mgp = dfmgp.drop(['p', 'count', 'sum', 'percentage'], axis = 1)\n",
    "mgp = mgp.drop_duplicates()\n",
    "mgp.rename(columns = {'entropy':'meg', 'id_dir':'Nr'}, inplace = True)\n",
    "mgp['Nr'] = mgp['Nr'].values.astype(str)\n",
    "mgp['Nr'] = mgp['Nr'].str.zfill(5)\n",
    "mgp['id'] = mgp['id'].values.astype(str)\n",
    "mgp['id'] = mgp['id'].str.zfill(4)"
   ]
  },
  {
   "cell_type": "code",
   "execution_count": 16,
   "id": "857f0902-7ba9-48eb-b1d4-c41938860312",
   "metadata": {
    "execution": {
     "iopub.execute_input": "2024-04-24T17:38:49.933606Z",
     "iopub.status.busy": "2024-04-24T17:38:49.933230Z",
     "iopub.status.idle": "2024-04-24T17:38:49.941711Z",
     "shell.execute_reply": "2024-04-24T17:38:49.941055Z",
     "shell.execute_reply.started": "2024-04-24T17:38:49.933581Z"
    }
   },
   "outputs": [],
   "source": [
    "df_me = pd.merge(mwa, mga, on = ['id', 'dir', 'Nr'])"
   ]
  },
  {
   "cell_type": "code",
   "execution_count": 17,
   "id": "430ef107-6396-4590-8edc-7c472a16c26a",
   "metadata": {
    "execution": {
     "iopub.execute_input": "2024-04-24T17:38:51.689307Z",
     "iopub.status.busy": "2024-04-24T17:38:51.688946Z",
     "iopub.status.idle": "2024-04-24T17:38:51.704103Z",
     "shell.execute_reply": "2024-04-24T17:38:51.703383Z",
     "shell.execute_reply.started": "2024-04-24T17:38:51.689284Z"
    }
   },
   "outputs": [],
   "source": [
    "df_me_p = pd.merge(mwp, mgp, on = ['id', 'dir', 'Nr'])\n",
    "df_en_p = pd.merge(df_me_p, iep, on = ['id', 'dir', 'Nr'])"
   ]
  },
  {
   "cell_type": "code",
   "execution_count": 18,
   "id": "75b9ed20-bf09-474b-8735-2a6607b55fa8",
   "metadata": {
    "execution": {
     "iopub.execute_input": "2024-04-24T17:38:53.390188Z",
     "iopub.status.busy": "2024-04-24T17:38:53.389821Z",
     "iopub.status.idle": "2024-04-24T17:38:53.400941Z",
     "shell.execute_reply": "2024-04-24T17:38:53.400222Z",
     "shell.execute_reply.started": "2024-04-24T17:38:53.390166Z"
    }
   },
   "outputs": [],
   "source": [
    "df_me['Nr'] = df_me['Nr'].values.astype(str)\n",
    "df_me['id'] = df_me['id'].values.astype(str)\n",
    "df_me['dir'] = df_me['dir'].values.astype(str)\n",
    "iea['Nr'] = iea['Nr'].values.astype(str)\n",
    "iea['id'] = iea['id'].values.astype(str)\n",
    "iea['dir'] = iea['dir'].values.astype(str)"
   ]
  },
  {
   "cell_type": "code",
   "execution_count": 19,
   "id": "eeb31233-8df9-4507-af7e-bf3aa00b32a7",
   "metadata": {
    "execution": {
     "iopub.execute_input": "2024-04-24T17:38:53.908357Z",
     "iopub.status.busy": "2024-04-24T17:38:53.908009Z",
     "iopub.status.idle": "2024-04-24T17:38:53.915527Z",
     "shell.execute_reply": "2024-04-24T17:38:53.914836Z",
     "shell.execute_reply.started": "2024-04-24T17:38:53.908335Z"
    }
   },
   "outputs": [],
   "source": [
    "df_en_a = pd.merge(df_me, iea, on = ['id', 'dir', 'Nr'])"
   ]
  },
  {
   "cell_type": "code",
   "execution_count": 20,
   "id": "45167d7d-9017-4c6f-9d0d-da22d9e8a9c8",
   "metadata": {
    "execution": {
     "iopub.execute_input": "2024-04-24T17:38:54.443854Z",
     "iopub.status.busy": "2024-04-24T17:38:54.443196Z",
     "iopub.status.idle": "2024-04-24T17:38:54.454719Z",
     "shell.execute_reply": "2024-04-24T17:38:54.454043Z",
     "shell.execute_reply.started": "2024-04-24T17:38:54.443828Z"
    }
   },
   "outputs": [
    {
     "name": "stdout",
     "output_type": "stream",
     "text": [
      "<class 'pandas.core.frame.DataFrame'>\n",
      "RangeIndex: 3160 entries, 0 to 3159\n",
      "Data columns (total 6 columns):\n",
      " #   Column  Non-Null Count  Dtype  \n",
      "---  ------  --------------  -----  \n",
      " 0   id      3160 non-null   object \n",
      " 1   dir     3160 non-null   int64  \n",
      " 2   Nr      3160 non-null   object \n",
      " 3   mew     3160 non-null   float64\n",
      " 4   meg     3160 non-null   float64\n",
      " 5   ie      3160 non-null   float64\n",
      "dtypes: float64(3), int64(1), object(2)\n",
      "memory usage: 148.3+ KB\n"
     ]
    }
   ],
   "source": [
    "df_en_p.info()"
   ]
  },
  {
   "cell_type": "code",
   "execution_count": 21,
   "id": "41e6e5a1-1ac3-4ce7-805d-d3d74a8f91ac",
   "metadata": {
    "execution": {
     "iopub.execute_input": "2024-04-24T17:38:59.175276Z",
     "iopub.status.busy": "2024-04-24T17:38:59.174900Z",
     "iopub.status.idle": "2024-04-24T17:38:59.179589Z",
     "shell.execute_reply": "2024-04-24T17:38:59.178819Z",
     "shell.execute_reply.started": "2024-04-24T17:38:59.175254Z"
    }
   },
   "outputs": [],
   "source": [
    "# Entropy variables accident\n",
    "eva = df_en_a[['mew', 'meg', 'ie']]"
   ]
  },
  {
   "cell_type": "code",
   "execution_count": 22,
   "id": "228c5aed-af9c-4725-8d02-235302244600",
   "metadata": {
    "execution": {
     "iopub.execute_input": "2024-04-24T17:39:00.333437Z",
     "iopub.status.busy": "2024-04-24T17:39:00.333092Z",
     "iopub.status.idle": "2024-04-24T17:39:00.555086Z",
     "shell.execute_reply": "2024-04-24T17:39:00.554418Z",
     "shell.execute_reply.started": "2024-04-24T17:39:00.333414Z"
    }
   },
   "outputs": [
    {
     "data": {
      "image/png": "[encoded data removed]",
      "text/plain": [
       "<Figure size 640x480 with 2 Axes>"
      ]
     },
     "metadata": {},
     "output_type": "display_data"
    }
   ],
   "source": [
    "corr_matrix_a = eva.corr()\n",
    "# sn.set(font_scale = 0.8)\n",
    "sn.heatmap(corr_matrix_a, annot = True)\n",
    "# plt.savefig('fig_corrmat_low_u1.png')\n",
    "plt.show()"
   ]
  },
  {
   "cell_type": "code",
   "execution_count": 25,
   "id": "94edeb86-cbfe-4377-a3c4-4a746425ebb4",
   "metadata": {
    "execution": {
     "iopub.execute_input": "2024-04-24T17:39:24.083243Z",
     "iopub.status.busy": "2024-04-24T17:39:24.082904Z",
     "iopub.status.idle": "2024-04-24T17:39:24.111941Z",
     "shell.execute_reply": "2024-04-24T17:39:24.111261Z",
     "shell.execute_reply.started": "2024-04-24T17:39:24.083221Z"
    }
   },
   "outputs": [],
   "source": [
    "df_en_a.to_csv('/home/yelhe/script/mt/output/accident_entropy_sum_new.csv', index = False)\n",
    "df_en_p.to_csv('/home/yelhe/script/mt/output/pseudo_entropy_sum_new.csv', index = False)"
   ]
  },
  {
   "cell_type": "code",
   "execution_count": 23,
   "id": "8037753b-b67d-4557-92e2-a48330bb7fbf",
   "metadata": {
    "execution": {
     "iopub.execute_input": "2024-04-24T17:39:08.141736Z",
     "iopub.status.busy": "2024-04-24T17:39:08.141397Z",
     "iopub.status.idle": "2024-04-24T17:39:08.146025Z",
     "shell.execute_reply": "2024-04-24T17:39:08.145227Z",
     "shell.execute_reply.started": "2024-04-24T17:39:08.141715Z"
    }
   },
   "outputs": [],
   "source": [
    "# Entropy variables accident\n",
    "evp = df_en_p[['mew', 'meg', 'ie']]"
   ]
  },
  {
   "cell_type": "code",
   "execution_count": 24,
   "id": "36ac8e60-3c2f-43f0-ab82-8b5d64798fc1",
   "metadata": {
    "execution": {
     "iopub.execute_input": "2024-04-24T17:39:09.582384Z",
     "iopub.status.busy": "2024-04-24T17:39:09.582051Z",
     "iopub.status.idle": "2024-04-24T17:39:09.978255Z",
     "shell.execute_reply": "2024-04-24T17:39:09.977627Z",
     "shell.execute_reply.started": "2024-04-24T17:39:09.582364Z"
    }
   },
   "outputs": [
    {
     "data": {
      "image/png": "[encoded data removed]",
      "text/plain": [
       "<Figure size 640x480 with 2 Axes>"
      ]
     },
     "metadata": {},
     "output_type": "display_data"
    }
   ],
   "source": [
    "corr_matrix_p = evp.corr()\n",
    "# sn.set(font_scale = 0.8)\n",
    "sn.heatmap(corr_matrix_p, annot = True)\n",
    "# plt.savefig('fig_corrmat_low_u1.png')\n",
    "plt.show()"
   ]
  },
  {
   "cell_type": "code",
   "execution_count": null,
   "id": "236440f6-c935-4699-ae48-fb6aa97ab82e",
   "metadata": {},
   "outputs": [],
   "source": []
  }
 ],
 "metadata": {
  "kernelspec": {
   "display_name": "Python 3 (ipykernel)",
   "language": "python",
   "name": "python3"
  },
  "language_info": {
   "codemirror_mode": {
    "name": "ipython",
    "version": 3
   },
   "file_extension": ".py",
   "mimetype": "text/x-python",
   "name": "python",
   "nbconvert_exporter": "python",
   "pygments_lexer": "ipython3",
   "version": "3.11.5"
  }
 },
 "nbformat": 4,
 "nbformat_minor": 5
}
