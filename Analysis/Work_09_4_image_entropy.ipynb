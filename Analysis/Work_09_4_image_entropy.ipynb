{
 "cells": [
  {
   "cell_type": "code",
   "execution_count": 1,
   "id": "7e9f75d8-3be9-45ef-b9ae-ad72fefb7ce1",
   "metadata": {
    "execution": {
     "iopub.execute_input": "2024-03-04T16:53:05.177217Z",
     "iopub.status.busy": "2024-03-04T16:53:05.176944Z",
     "iopub.status.idle": "2024-03-04T16:53:06.897777Z",
     "shell.execute_reply": "2024-03-04T16:53:06.897264Z",
     "shell.execute_reply.started": "2024-03-04T16:53:05.177197Z"
    }
   },
   "outputs": [],
   "source": [
    "import torch\n",
    "torch.cuda.empty_cache() "
   ]
  },
  {
   "cell_type": "code",
   "execution_count": 2,
   "id": "21a17079-f2b6-44e2-910e-4f9aa081bc43",
   "metadata": {
    "execution": {
     "iopub.execute_input": "2024-03-04T16:53:06.899004Z",
     "iopub.status.busy": "2024-03-04T16:53:06.898693Z",
     "iopub.status.idle": "2024-03-04T16:53:06.972930Z",
     "shell.execute_reply": "2024-03-04T16:53:06.972441Z",
     "shell.execute_reply.started": "2024-03-04T16:53:06.898985Z"
    }
   },
   "outputs": [],
   "source": [
    "import google_streetview\n",
    "import google_streetview.api\n",
    "import google_streetview.helpers"
   ]
  },
  {
   "cell_type": "code",
   "execution_count": 3,
   "id": "f3e5fa71-37bd-4efe-b8ee-ae3c362b2a1b",
   "metadata": {
    "execution": {
     "iopub.execute_input": "2024-03-04T16:53:06.973881Z",
     "iopub.status.busy": "2024-03-04T16:53:06.973638Z",
     "iopub.status.idle": "2024-03-04T16:53:07.307365Z",
     "shell.execute_reply": "2024-03-04T16:53:07.306742Z",
     "shell.execute_reply.started": "2024-03-04T16:53:06.973862Z"
    }
   },
   "outputs": [],
   "source": [
    "import os \n",
    "os.environ['MPLCONFIGDIR'] = os.getcwd() + \"/configs/\"\n",
    "import matplotlib\n",
    "from matplotlib import pyplot as plt\n",
    "import numpy as np\n",
    "import cv2\n",
    "import urllib.request\n",
    "from PIL import Image"
   ]
  },
  {
   "cell_type": "code",
   "execution_count": 4,
   "id": "132db61a-9aa6-4936-8ab4-054288d07d2e",
   "metadata": {
    "execution": {
     "iopub.execute_input": "2024-03-04T16:53:07.308866Z",
     "iopub.status.busy": "2024-03-04T16:53:07.308613Z",
     "iopub.status.idle": "2024-03-04T16:53:07.829696Z",
     "shell.execute_reply": "2024-03-04T16:53:07.828814Z",
     "shell.execute_reply.started": "2024-03-04T16:53:07.308848Z"
    }
   },
   "outputs": [],
   "source": [
    "import pandas as pd\n",
    "import pyproj"
   ]
  },
  {
   "cell_type": "code",
   "execution_count": 5,
   "id": "80d61825-dc8d-4005-9362-cf497e771695",
   "metadata": {
    "execution": {
     "iopub.execute_input": "2024-03-04T16:53:07.831258Z",
     "iopub.status.busy": "2024-03-04T16:53:07.830792Z",
     "iopub.status.idle": "2024-03-04T16:53:07.834952Z",
     "shell.execute_reply": "2024-03-04T16:53:07.834376Z",
     "shell.execute_reply.started": "2024-03-04T16:53:07.831236Z"
    }
   },
   "outputs": [],
   "source": [
    "import os \n",
    "os.environ['MPLCONFIGDIR'] = os.getcwd() + \"/configs/\"\n",
    "import matplotlib\n",
    "from matplotlib import pyplot as plt\n",
    "import numpy as np\n",
    "import cv2"
   ]
  },
  {
   "cell_type": "code",
   "execution_count": 6,
   "id": "e6000c92-6b7e-4ee5-9c30-ac0dfed91840",
   "metadata": {
    "execution": {
     "iopub.execute_input": "2024-03-04T16:53:07.835892Z",
     "iopub.status.busy": "2024-03-04T16:53:07.835682Z",
     "iopub.status.idle": "2024-03-04T16:53:07.844433Z",
     "shell.execute_reply": "2024-03-04T16:53:07.843749Z",
     "shell.execute_reply.started": "2024-03-04T16:53:07.835873Z"
    }
   },
   "outputs": [],
   "source": [
    "from pathlib import Path"
   ]
  },
  {
   "cell_type": "code",
   "execution_count": 7,
   "id": "923fac26-61e2-49dd-9099-e31ff4079430",
   "metadata": {
    "execution": {
     "iopub.execute_input": "2024-03-04T16:53:07.845531Z",
     "iopub.status.busy": "2024-03-04T16:53:07.845233Z",
     "iopub.status.idle": "2024-03-04T16:53:07.875381Z",
     "shell.execute_reply": "2024-03-04T16:53:07.874820Z",
     "shell.execute_reply.started": "2024-03-04T16:53:07.845513Z"
    }
   },
   "outputs": [],
   "source": [
    "from mt_function_yl import *"
   ]
  },
  {
   "cell_type": "code",
   "execution_count": 22,
   "id": "5e0a7434-8eeb-4f5b-9c44-095b4a93989d",
   "metadata": {
    "execution": {
     "iopub.execute_input": "2024-03-04T16:58:49.600293Z",
     "iopub.status.busy": "2024-03-04T16:58:49.599977Z",
     "iopub.status.idle": "2024-03-04T16:58:50.120492Z",
     "shell.execute_reply": "2024-03-04T16:58:50.119848Z",
     "shell.execute_reply.started": "2024-03-04T16:58:49.600273Z"
    }
   },
   "outputs": [],
   "source": [
    "from scipy.stats import entropy"
   ]
  },
  {
   "cell_type": "code",
   "execution_count": 8,
   "id": "4b6847be-2042-43a9-b0e6-1a13205a2941",
   "metadata": {
    "execution": {
     "iopub.execute_input": "2024-03-04T16:53:11.831837Z",
     "iopub.status.busy": "2024-03-04T16:53:11.831125Z",
     "iopub.status.idle": "2024-03-04T16:53:11.848487Z",
     "shell.execute_reply": "2024-03-04T16:53:11.847853Z",
     "shell.execute_reply.started": "2024-03-04T16:53:11.831805Z"
    }
   },
   "outputs": [],
   "source": [
    "koord  = pd.read_csv('/home/yelhe/script/mt/output/koord.csv')\n",
    "# koord.head()\n",
    "name1 = koord.Nr.astype(str) + '1.jpg'\n",
    "name2 = koord.Nr.astype(str) + '2.jpg'\n",
    "name3 = koord.Nr.astype(str) + '3.jpg'\n",
    "name4 = koord.Nr.astype(str) + '4.jpg'"
   ]
  },
  {
   "cell_type": "code",
   "execution_count": 9,
   "id": "c606b7b3-adac-48b5-88f8-ff3967678ed1",
   "metadata": {
    "execution": {
     "iopub.execute_input": "2024-03-04T16:53:12.922602Z",
     "iopub.status.busy": "2024-03-04T16:53:12.922114Z",
     "iopub.status.idle": "2024-03-04T16:53:24.747174Z",
     "shell.execute_reply": "2024-03-04T16:53:24.746118Z",
     "shell.execute_reply.started": "2024-03-04T16:53:12.922581Z"
    }
   },
   "outputs": [],
   "source": [
    "gsv_image1 = []\n",
    "gsv_image2 = []\n",
    "gsv_image3 = []\n",
    "gsv_image4 = []\n",
    "\n",
    "nf1 = []\n",
    "nf2 = []\n",
    "nf3 = []\n",
    "nf4 = []\n",
    "for i in range(0,349):\n",
    "    path1 = Path('/home/yelhe/data/gsv/GSV_filtered/' + name1[i])\n",
    "    c1 = path1.is_file()\n",
    "    path2 = Path('/home/yelhe/data/gsv/GSV_filtered/' + name2[i])\n",
    "    c2 = path2.is_file()\n",
    "    path3 = Path('/home/yelhe/data/gsv/GSV_filtered/' + name3[i])\n",
    "    c3 = path3.is_file()\n",
    "    path4 = Path('/home/yelhe/data/gsv/GSV_filtered/' + name4[i])\n",
    "    c4 = path4.is_file()\n",
    "    if c1 is True:\n",
    "        im1 = cv2.imread(\"/home/yelhe/data/gsv/GSV_filtered/\" + name1[i])\n",
    "        im1 = cv2.cvtColor(im1, cv2.COLOR_BGR2RGB)\n",
    "        gsv_image1.append(im1)\n",
    "        nf1.append(name1[i])\n",
    "    if c2 is True:\n",
    "        im2 = cv2.imread(\"/home/yelhe/data/gsv/GSV_filtered/\" + name2[i])\n",
    "        im2 = cv2.cvtColor(im2, cv2.COLOR_BGR2RGB)\n",
    "        gsv_image2.append(im2)\n",
    "        nf2.append(name2[i])\n",
    "    if c3 is True:\n",
    "        im3 = cv2.imread(\"/home/yelhe/data/gsv/GSV_filtered/\" + name3[i])\n",
    "        im3 = cv2.cvtColor(im3, cv2.COLOR_BGR2RGB)\n",
    "        gsv_image3.append(im3)\n",
    "        nf3.append(name3[i])\n",
    "    if c4 is True:\n",
    "        im4 = cv2.imread(\"/home/yelhe/data/gsv/GSV_filtered/\" + name4[i])\n",
    "        im4 = cv2.cvtColor(im4, cv2.COLOR_BGR2RGB)\n",
    "        gsv_image4.append(im4)\n",
    "        nf4.append(name4[i])"
   ]
  },
  {
   "cell_type": "code",
   "execution_count": 10,
   "id": "63c7dba3-e417-49ba-b707-9bc1631cbd26",
   "metadata": {
    "execution": {
     "iopub.execute_input": "2024-03-04T16:53:24.748998Z",
     "iopub.status.busy": "2024-03-04T16:53:24.748712Z",
     "iopub.status.idle": "2024-03-04T16:53:24.753116Z",
     "shell.execute_reply": "2024-03-04T16:53:24.752527Z",
     "shell.execute_reply.started": "2024-03-04T16:53:24.748979Z"
    }
   },
   "outputs": [
    {
     "name": "stdout",
     "output_type": "stream",
     "text": [
      "295 295 295 295\n"
     ]
    }
   ],
   "source": [
    "print(len(gsv_image1), len(gsv_image2), len(gsv_image3), len(gsv_image4))"
   ]
  },
  {
   "cell_type": "code",
   "execution_count": 11,
   "id": "baf49f4c-cfaf-4e48-b337-ab4e47cf8f5e",
   "metadata": {
    "execution": {
     "iopub.execute_input": "2024-03-04T16:53:24.754474Z",
     "iopub.status.busy": "2024-03-04T16:53:24.754029Z",
     "iopub.status.idle": "2024-03-04T16:53:24.763075Z",
     "shell.execute_reply": "2024-03-04T16:53:24.762577Z",
     "shell.execute_reply.started": "2024-03-04T16:53:24.754447Z"
    }
   },
   "outputs": [],
   "source": [
    "n1 = [s.replace('.jpg', '') for s in nf1]\n",
    "n2 = [s.replace('.jpg', '') for s in nf2]\n",
    "n3 = [s.replace('.jpg', '') for s in nf3]\n",
    "n4 = [s.replace('.jpg', '') for s in nf4]"
   ]
  },
  {
   "cell_type": "code",
   "execution_count": 12,
   "id": "87f8301b-be6a-4ae6-888f-560fda652f2b",
   "metadata": {
    "execution": {
     "iopub.execute_input": "2024-03-04T16:53:24.765017Z",
     "iopub.status.busy": "2024-03-04T16:53:24.764589Z",
     "iopub.status.idle": "2024-03-04T16:53:24.796831Z",
     "shell.execute_reply": "2024-03-04T16:53:24.796275Z",
     "shell.execute_reply.started": "2024-03-04T16:53:24.764994Z"
    }
   },
   "outputs": [],
   "source": [
    "rp_koord = pd.read_csv('/home/yelhe/script/mt/output/rp_koord_new.csv')\n",
    "rp_koord['id'] = rp_koord.id.astype(str)\n",
    "rp_koord['id'] = rp_koord['id'].str.zfill(4)\n",
    "name1r = rp_koord.id.astype(str) + '1'\n",
    "name2r = rp_koord.id.astype(str) + '2'\n",
    "name3r = rp_koord.id.astype(str) + '3'\n",
    "name4r = rp_koord.id.astype(str) + '4'"
   ]
  },
  {
   "cell_type": "code",
   "execution_count": 13,
   "id": "6e5fcea2-725c-4e8c-b61f-2e465a2fdb64",
   "metadata": {
    "execution": {
     "iopub.execute_input": "2024-03-04T16:53:24.798181Z",
     "iopub.status.busy": "2024-03-04T16:53:24.797778Z",
     "iopub.status.idle": "2024-03-04T16:53:56.710145Z",
     "shell.execute_reply": "2024-03-04T16:53:56.709605Z",
     "shell.execute_reply.started": "2024-03-04T16:53:24.798155Z"
    }
   },
   "outputs": [],
   "source": [
    "gsv_imager1 = []\n",
    "gsv_imager2 = []\n",
    "gsv_imager3 = []\n",
    "gsv_imager4 = []\n",
    "\n",
    "nrf1 = []\n",
    "nrf2 = []\n",
    "nrf3 = []\n",
    "nrf4 = []\n",
    "\n",
    "for i in range(0,995):\n",
    "    path1 = Path('/home/yelhe/data/gsv_rp_f/gsv_rp_nf/' + name1r[i] + '.jpg')\n",
    "    c1 = path1.is_file()\n",
    "    path2 = Path('/home/yelhe/data/gsv_rp_f/gsv_rp_nf/' + name2r[i] + '.jpg')\n",
    "    c2 = path2.is_file()\n",
    "    path3 = Path('/home/yelhe/data/gsv_rp_f/gsv_rp_nf/' + name3r[i] + '.jpg')\n",
    "    c3 = path3.is_file()\n",
    "    path4 = Path('/home/yelhe/data/gsv_rp_f/gsv_rp_nf/' + name4r[i] + '.jpg')\n",
    "    c4 = path4.is_file()\n",
    "    if c1 is True:\n",
    "        im1 = cv2.imread(\"/home/yelhe/data/gsv_rp_f/gsv_rp_nf/\" + name1r[i] + \".jpg\")\n",
    "        im1 = cv2.cvtColor(im1, cv2.COLOR_BGR2RGB)\n",
    "        gsv_imager1.append(im1)\n",
    "        nrf1.append(name1r[i])\n",
    "    if c2 is True:\n",
    "        im2 = cv2.imread(\"/home/yelhe/data/gsv_rp_f/gsv_rp_nf/\" + name2r[i] + \".jpg\")\n",
    "        im2 = cv2.cvtColor(im2, cv2.COLOR_BGR2RGB)\n",
    "        gsv_imager2.append(im2)\n",
    "        nrf2.append(name2r[i])\n",
    "    if c3 is True:\n",
    "        im3 = cv2.imread(\"/home/yelhe/data/gsv_rp_f/gsv_rp_nf/\" + name3r[i] + \".jpg\")\n",
    "        im3 = cv2.cvtColor(im3, cv2.COLOR_BGR2RGB)\n",
    "        gsv_imager3.append(im3)\n",
    "        nrf3.append(name3r[i])\n",
    "    if c4 is True:\n",
    "        im4 = cv2.imread(\"/home/yelhe/data/gsv_rp_f/gsv_rp_nf/\" + name4r[i] + \".jpg\")\n",
    "        im4 = cv2.cvtColor(im4, cv2.COLOR_BGR2RGB)\n",
    "        gsv_imager4.append(im4)\n",
    "        nrf4.append(name4r[i])"
   ]
  },
  {
   "cell_type": "code",
   "execution_count": 14,
   "id": "75c17e2d-a046-4ad0-a62e-93ba2b24fe50",
   "metadata": {
    "execution": {
     "iopub.execute_input": "2024-03-04T16:53:56.711114Z",
     "iopub.status.busy": "2024-03-04T16:53:56.710869Z",
     "iopub.status.idle": "2024-03-04T16:53:56.714443Z",
     "shell.execute_reply": "2024-03-04T16:53:56.713842Z",
     "shell.execute_reply.started": "2024-03-04T16:53:56.711097Z"
    }
   },
   "outputs": [
    {
     "name": "stdout",
     "output_type": "stream",
     "text": [
      "792 792 792 792\n"
     ]
    }
   ],
   "source": [
    "print(len(gsv_imager1), len(gsv_imager2), len(gsv_imager3), len(gsv_imager4))"
   ]
  },
  {
   "cell_type": "code",
   "execution_count": 39,
   "id": "3795c659-124d-47e5-be97-9df0d35b7102",
   "metadata": {
    "execution": {
     "iopub.execute_input": "2024-03-04T17:12:51.282561Z",
     "iopub.status.busy": "2024-03-04T17:12:51.282263Z",
     "iopub.status.idle": "2024-03-04T17:12:51.286243Z",
     "shell.execute_reply": "2024-03-04T17:12:51.285582Z",
     "shell.execute_reply.started": "2024-03-04T17:12:51.282541Z"
    }
   },
   "outputs": [],
   "source": [
    "def entropy_img(img):\n",
    "    img_gray = cv2.cvtColor(img, cv2.COLOR_RGB2GRAY)\n",
    "    _bins = 128\n",
    "    hist, _ = np.histogram(img_gray.ravel(), bins = _bins, range = (0, _bins))\n",
    "    prob_dist = hist / hist.sum()\n",
    "    image_entropy = entropy(prob_dist) # Default base e\n",
    "    return image_entropy"
   ]
  },
  {
   "cell_type": "code",
   "execution_count": 45,
   "id": "6371d7a7-38c7-4fb6-b384-604cadf05d79",
   "metadata": {
    "execution": {
     "iopub.execute_input": "2024-03-04T17:18:20.377701Z",
     "iopub.status.busy": "2024-03-04T17:18:20.377207Z",
     "iopub.status.idle": "2024-03-04T17:18:20.381273Z",
     "shell.execute_reply": "2024-03-04T17:18:20.380825Z",
     "shell.execute_reply.started": "2024-03-04T17:18:20.377682Z"
    }
   },
   "outputs": [],
   "source": [
    "en1 = []\n",
    "en2 = []\n",
    "en3 = []\n",
    "en4 = []"
   ]
  },
  {
   "cell_type": "code",
   "execution_count": 46,
   "id": "235637f4-bb1a-468d-9895-2212899bb8af",
   "metadata": {
    "execution": {
     "iopub.execute_input": "2024-03-04T17:18:22.178821Z",
     "iopub.status.busy": "2024-03-04T17:18:22.178322Z",
     "iopub.status.idle": "2024-03-04T17:18:28.269882Z",
     "shell.execute_reply": "2024-03-04T17:18:28.269321Z",
     "shell.execute_reply.started": "2024-03-04T17:18:22.178801Z"
    }
   },
   "outputs": [],
   "source": [
    "for i in range(0,295):\n",
    "    e1 = entropy_img(gsv_image1[i])\n",
    "    en1.append(e1)\n",
    "\n",
    "    e2 = entropy_img(gsv_image2[i])\n",
    "    en2.append(e2)\n",
    "    \n",
    "    e3 = entropy_img(gsv_image3[i])\n",
    "    en3.append(e3)\n",
    "    \n",
    "    e4 = entropy_img(gsv_image4[i])\n",
    "    en4.append(e4)"
   ]
  },
  {
   "cell_type": "code",
   "execution_count": 50,
   "id": "b3e512f7-b5d4-4664-912c-f8a89a4cb752",
   "metadata": {
    "execution": {
     "iopub.execute_input": "2024-03-04T17:21:32.227701Z",
     "iopub.status.busy": "2024-03-04T17:21:32.227194Z",
     "iopub.status.idle": "2024-03-04T17:21:32.231587Z",
     "shell.execute_reply": "2024-03-04T17:21:32.231082Z",
     "shell.execute_reply.started": "2024-03-04T17:21:32.227681Z"
    }
   },
   "outputs": [],
   "source": [
    "dfe1 = pd.DataFrame()\n",
    "dfe2 = pd.DataFrame()\n",
    "dfe3 = pd.DataFrame()\n",
    "dfe4 = pd.DataFrame()\n"
   ]
  },
  {
   "cell_type": "code",
   "execution_count": 51,
   "id": "1f84ceeb-9a10-4dec-b6d8-ff1f253529d4",
   "metadata": {
    "execution": {
     "iopub.execute_input": "2024-03-04T17:21:32.712424Z",
     "iopub.status.busy": "2024-03-04T17:21:32.712116Z",
     "iopub.status.idle": "2024-03-04T17:21:32.721389Z",
     "shell.execute_reply": "2024-03-04T17:21:32.720635Z",
     "shell.execute_reply.started": "2024-03-04T17:21:32.712399Z"
    }
   },
   "outputs": [],
   "source": [
    "dfe1 = dfe1.assign(Nr = n1)\n",
    "dfe1 = dfe1.assign(entropy = en1)\n",
    "dfe2 = dfe2.assign(Nr = n2)\n",
    "dfe2 = dfe2.assign(entropy = en2)\n",
    "dfe3 = dfe3.assign(Nr = n3)\n",
    "dfe3 = dfe3.assign(entropy = en3)\n",
    "dfe4 = dfe4.assign(Nr = n4)\n",
    "dfe4 = dfe4.assign(entropy = en4)\n"
   ]
  },
  {
   "cell_type": "code",
   "execution_count": 44,
   "id": "92e33612-297c-476c-be45-7614b90fac3b",
   "metadata": {
    "execution": {
     "iopub.execute_input": "2024-03-04T17:13:38.492107Z",
     "iopub.status.busy": "2024-03-04T17:13:38.491799Z",
     "iopub.status.idle": "2024-03-04T17:13:38.500842Z",
     "shell.execute_reply": "2024-03-04T17:13:38.500382Z",
     "shell.execute_reply.started": "2024-03-04T17:13:38.492088Z"
    }
   },
   "outputs": [
    {
     "data": {
      "text/plain": [
       "4.127103992896939"
      ]
     },
     "execution_count": 44,
     "metadata": {},
     "output_type": "execute_result"
    }
   ],
   "source": [
    "entropy_img(gsv_image1[3])"
   ]
  },
  {
   "cell_type": "code",
   "execution_count": 52,
   "id": "2bac94cd-f7d3-43b8-9890-213a1bc80a4a",
   "metadata": {
    "execution": {
     "iopub.execute_input": "2024-03-04T17:21:56.420932Z",
     "iopub.status.busy": "2024-03-04T17:21:56.420471Z",
     "iopub.status.idle": "2024-03-04T17:21:56.424387Z",
     "shell.execute_reply": "2024-03-04T17:21:56.423790Z",
     "shell.execute_reply.started": "2024-03-04T17:21:56.420912Z"
    }
   },
   "outputs": [],
   "source": [
    "dfe = pd.concat([dfe1, dfe2, dfe3, dfe4])"
   ]
  },
  {
   "cell_type": "code",
   "execution_count": 54,
   "id": "c61bc4d1-95db-412d-ad41-35a3e1bf108c",
   "metadata": {
    "execution": {
     "iopub.execute_input": "2024-03-04T17:22:48.459845Z",
     "iopub.status.busy": "2024-03-04T17:22:48.459269Z",
     "iopub.status.idle": "2024-03-04T17:22:48.608499Z",
     "shell.execute_reply": "2024-03-04T17:22:48.607977Z",
     "shell.execute_reply.started": "2024-03-04T17:22:48.459819Z"
    }
   },
   "outputs": [
    {
     "data": {
      "text/plain": [
       "(array([  4.,  10.,  19.,  52.,  62., 125., 180., 224., 292., 212.]),\n",
       " array([3.66986921, 3.78660751, 3.90334581, 4.02008411, 4.13682241,\n",
       "        4.25356071, 4.37029901, 4.4870373 , 4.6037756 , 4.7205139 ,\n",
       "        4.8372522 ]),\n",
       " <BarContainer object of 10 artists>)"
      ]
     },
     "execution_count": 54,
     "metadata": {},
     "output_type": "execute_result"
    },
    {
     "data": {
      "image/png": "[encoded data removed]",
      "text/plain": [
       "<Figure size 640x480 with 1 Axes>"
      ]
     },
     "metadata": {},
     "output_type": "display_data"
    }
   ],
   "source": [
    "plt.hist(dfe['entropy'])"
   ]
  },
  {
   "cell_type": "code",
   "execution_count": 56,
   "id": "bdcfdccf-fe7b-4f95-afff-bf8541737efb",
   "metadata": {
    "execution": {
     "iopub.execute_input": "2024-03-04T17:23:44.016591Z",
     "iopub.status.busy": "2024-03-04T17:23:44.016057Z",
     "iopub.status.idle": "2024-03-04T17:23:44.022698Z",
     "shell.execute_reply": "2024-03-04T17:23:44.022058Z",
     "shell.execute_reply.started": "2024-03-04T17:23:44.016572Z"
    }
   },
   "outputs": [],
   "source": [
    "dfe.loc[:,'Nr'] = dfe.loc[:,'Nr'].values.astype(str)\n",
    "dfe.loc[:,'id'] = dfe.Nr.str[-15:-1]\n",
    "dfe.loc[:,'dir'] = dfe.Nr.str[-1]"
   ]
  },
  {
   "cell_type": "code",
   "execution_count": 59,
   "id": "0fb5115f-1af9-4ede-878a-b8fc3cdaf44d",
   "metadata": {
    "execution": {
     "iopub.execute_input": "2024-03-04T17:24:35.753937Z",
     "iopub.status.busy": "2024-03-04T17:24:35.753643Z",
     "iopub.status.idle": "2024-03-04T17:24:35.763535Z",
     "shell.execute_reply": "2024-03-04T17:24:35.762826Z",
     "shell.execute_reply.started": "2024-03-04T17:24:35.753916Z"
    }
   },
   "outputs": [],
   "source": [
    "dfe.to_csv('/home/yelhe/script/mt/output/accident_image_entropy.csv', index = False)"
   ]
  },
  {
   "cell_type": "code",
   "execution_count": 60,
   "id": "064137fb-81b7-488a-9665-2a02bd714d7d",
   "metadata": {
    "execution": {
     "iopub.execute_input": "2024-03-04T17:27:01.299010Z",
     "iopub.status.busy": "2024-03-04T17:27:01.298715Z",
     "iopub.status.idle": "2024-03-04T17:27:01.301979Z",
     "shell.execute_reply": "2024-03-04T17:27:01.301328Z",
     "shell.execute_reply.started": "2024-03-04T17:27:01.298990Z"
    }
   },
   "outputs": [],
   "source": [
    "enr1 = []\n",
    "enr2 = []\n",
    "enr3 = []\n",
    "enr4 = []"
   ]
  },
  {
   "cell_type": "code",
   "execution_count": 61,
   "id": "dbd97980-510f-4973-a085-7ea0fbc1af61",
   "metadata": {
    "execution": {
     "iopub.execute_input": "2024-03-04T17:27:01.703203Z",
     "iopub.status.busy": "2024-03-04T17:27:01.702919Z",
     "iopub.status.idle": "2024-03-04T17:27:18.291026Z",
     "shell.execute_reply": "2024-03-04T17:27:18.290470Z",
     "shell.execute_reply.started": "2024-03-04T17:27:01.703184Z"
    }
   },
   "outputs": [],
   "source": [
    "for i in range(0,792):\n",
    "    e1 = entropy_img(gsv_imager1[i])\n",
    "    enr1.append(e1)\n",
    "\n",
    "    e2 = entropy_img(gsv_imager2[i])\n",
    "    enr2.append(e2)\n",
    "    \n",
    "    e3 = entropy_img(gsv_imager3[i])\n",
    "    enr3.append(e3)\n",
    "    \n",
    "    e4 = entropy_img(gsv_imager4[i])\n",
    "    enr4.append(e4)"
   ]
  },
  {
   "cell_type": "code",
   "execution_count": 62,
   "id": "46d7ffbe-4cf7-4d1d-8951-1d96edc393f1",
   "metadata": {
    "execution": {
     "iopub.execute_input": "2024-03-04T17:27:18.292710Z",
     "iopub.status.busy": "2024-03-04T17:27:18.292216Z",
     "iopub.status.idle": "2024-03-04T17:27:18.304569Z",
     "shell.execute_reply": "2024-03-04T17:27:18.304006Z",
     "shell.execute_reply.started": "2024-03-04T17:27:18.292683Z"
    }
   },
   "outputs": [],
   "source": [
    "dfer1 = pd.DataFrame()\n",
    "dfer2 = pd.DataFrame()\n",
    "dfer3 = pd.DataFrame()\n",
    "dfer4 = pd.DataFrame()\n",
    "dfer1 = dfer1.assign(Nr = nrf1)\n",
    "dfer1 = dfer1.assign(entropy = enr1)\n",
    "dfer2 = dfer2.assign(Nr = nrf2)\n",
    "dfer2 = dfer2.assign(entropy = enr2)\n",
    "dfer3 = dfer3.assign(Nr = nrf3)\n",
    "dfer3 = dfer3.assign(entropy = enr3)\n",
    "dfer4 = dfer4.assign(Nr = nrf4)\n",
    "dfer4 = dfer4.assign(entropy = enr4)"
   ]
  },
  {
   "cell_type": "code",
   "execution_count": 63,
   "id": "52f6db14-c718-48cc-b427-e876560d8ada",
   "metadata": {
    "execution": {
     "iopub.execute_input": "2024-03-04T17:27:18.305595Z",
     "iopub.status.busy": "2024-03-04T17:27:18.305345Z",
     "iopub.status.idle": "2024-03-04T17:27:18.309913Z",
     "shell.execute_reply": "2024-03-04T17:27:18.309291Z",
     "shell.execute_reply.started": "2024-03-04T17:27:18.305576Z"
    }
   },
   "outputs": [],
   "source": [
    "dfer = pd.concat([dfer1, dfer2, dfer3, dfer4])"
   ]
  },
  {
   "cell_type": "code",
   "execution_count": 65,
   "id": "4a8cd9a8-1df0-4f54-bee4-beed396c61e7",
   "metadata": {
    "execution": {
     "iopub.execute_input": "2024-03-04T17:27:37.581118Z",
     "iopub.status.busy": "2024-03-04T17:27:37.580821Z",
     "iopub.status.idle": "2024-03-04T17:27:37.731633Z",
     "shell.execute_reply": "2024-03-04T17:27:37.731036Z",
     "shell.execute_reply.started": "2024-03-04T17:27:37.581099Z"
    }
   },
   "outputs": [
    {
     "data": {
      "text/plain": [
       "(array([   4.,   11.,   16.,   26.,   58.,  143.,  303.,  570.,  908.,\n",
       "        1129.]),\n",
       " array([3.21318495, 3.37576183, 3.5383387 , 3.70091558, 3.86349245,\n",
       "        4.02606933, 4.1886462 , 4.35122308, 4.51379995, 4.67637683,\n",
       "        4.8389537 ]),\n",
       " <BarContainer object of 10 artists>)"
      ]
     },
     "execution_count": 65,
     "metadata": {},
     "output_type": "execute_result"
    },
    {
     "data": {
      "image/png": "[encoded data removed]",
      "text/plain": [
       "<Figure size 640x480 with 1 Axes>"
      ]
     },
     "metadata": {},
     "output_type": "display_data"
    }
   ],
   "source": [
    "plt.hist(dfer['entropy'])"
   ]
  },
  {
   "cell_type": "code",
   "execution_count": 66,
   "id": "a8c34d8a-6920-46a2-8f5a-369339bc6763",
   "metadata": {
    "execution": {
     "iopub.execute_input": "2024-03-04T17:28:12.810833Z",
     "iopub.status.busy": "2024-03-04T17:28:12.810538Z",
     "iopub.status.idle": "2024-03-04T17:28:12.818457Z",
     "shell.execute_reply": "2024-03-04T17:28:12.817937Z",
     "shell.execute_reply.started": "2024-03-04T17:28:12.810814Z"
    }
   },
   "outputs": [],
   "source": [
    "dfer.loc[:,'Nr'] = dfer.loc[:,'Nr'].values.astype(str)\n",
    "dfer.loc[:,'id'] = dfer.Nr.str[-5:-1]\n",
    "dfer.loc[:,'dir'] = dfer.Nr.str[-1]"
   ]
  },
  {
   "cell_type": "code",
   "execution_count": 69,
   "id": "f055caeb-abae-43ce-8e39-8598ab574ba6",
   "metadata": {
    "execution": {
     "iopub.execute_input": "2024-03-04T17:28:45.007283Z",
     "iopub.status.busy": "2024-03-04T17:28:45.006989Z",
     "iopub.status.idle": "2024-03-04T17:28:45.011589Z",
     "shell.execute_reply": "2024-03-04T17:28:45.010990Z",
     "shell.execute_reply.started": "2024-03-04T17:28:45.007264Z"
    }
   },
   "outputs": [
    {
     "data": {
      "text/plain": [
       "792"
      ]
     },
     "execution_count": 69,
     "metadata": {},
     "output_type": "execute_result"
    }
   ],
   "source": [
    "len(dfer['id'].unique())"
   ]
  },
  {
   "cell_type": "code",
   "execution_count": 68,
   "id": "8d00de50-b023-4288-8302-fa1764dda0a7",
   "metadata": {
    "execution": {
     "iopub.execute_input": "2024-03-04T17:28:33.346635Z",
     "iopub.status.busy": "2024-03-04T17:28:33.346341Z",
     "iopub.status.idle": "2024-03-04T17:28:33.358766Z",
     "shell.execute_reply": "2024-03-04T17:28:33.358158Z",
     "shell.execute_reply.started": "2024-03-04T17:28:33.346617Z"
    }
   },
   "outputs": [],
   "source": [
    "# dfer.to_csv('/home/yelhe/script/mt/output/pseudo_image_entropy.csv', index = False)"
   ]
  },
  {
   "cell_type": "markdown",
   "id": "78a13221-d4e4-44d9-a069-9c61c4276cf7",
   "metadata": {
    "execution": {
     "iopub.execute_input": "2024-03-05T12:50:12.116149Z",
     "iopub.status.busy": "2024-03-05T12:50:12.115876Z",
     "iopub.status.idle": "2024-03-05T12:50:12.123879Z",
     "shell.execute_reply": "2024-03-05T12:50:12.123385Z",
     "shell.execute_reply.started": "2024-03-05T12:50:12.116131Z"
    }
   },
   "source": [
    "#### Summarize directions for each location"
   ]
  },
  {
   "cell_type": "code",
   "execution_count": 88,
   "id": "b17fd87b-8955-4992-9274-af39d561ab00",
   "metadata": {
    "execution": {
     "iopub.execute_input": "2024-03-05T13:07:55.812842Z",
     "iopub.status.busy": "2024-03-05T13:07:55.812394Z",
     "iopub.status.idle": "2024-03-05T13:07:55.816217Z",
     "shell.execute_reply": "2024-03-05T13:07:55.815792Z",
     "shell.execute_reply.started": "2024-03-05T13:07:55.812823Z"
    }
   },
   "outputs": [],
   "source": [
    "dfem = dfe.groupby('id')['entropy'].mean()"
   ]
  },
  {
   "cell_type": "code",
   "execution_count": 96,
   "id": "940bb05f-4c84-418c-903f-9570e0d350f6",
   "metadata": {
    "execution": {
     "iopub.execute_input": "2024-03-05T13:09:56.419273Z",
     "iopub.status.busy": "2024-03-05T13:09:56.419009Z",
     "iopub.status.idle": "2024-03-05T13:09:56.421709Z",
     "shell.execute_reply": "2024-03-05T13:09:56.421210Z",
     "shell.execute_reply.started": "2024-03-05T13:09:56.419254Z"
    }
   },
   "outputs": [],
   "source": [
    "# dfem.index"
   ]
  },
  {
   "cell_type": "code",
   "execution_count": 90,
   "id": "20c007c1-c1e0-4191-a5dd-1bf9f3816059",
   "metadata": {
    "execution": {
     "iopub.execute_input": "2024-03-05T13:08:00.468695Z",
     "iopub.status.busy": "2024-03-05T13:08:00.468400Z",
     "iopub.status.idle": "2024-03-05T13:08:00.471073Z",
     "shell.execute_reply": "2024-03-05T13:08:00.470695Z",
     "shell.execute_reply.started": "2024-03-05T13:08:00.468678Z"
    }
   },
   "outputs": [],
   "source": [
    "dfem = dfem.to_frame()"
   ]
  },
  {
   "cell_type": "code",
   "execution_count": 91,
   "id": "2c0a69d2-e837-41a1-b30c-1acf925c072a",
   "metadata": {
    "execution": {
     "iopub.execute_input": "2024-03-05T13:08:01.569414Z",
     "iopub.status.busy": "2024-03-05T13:08:01.569241Z",
     "iopub.status.idle": "2024-03-05T13:08:01.575695Z",
     "shell.execute_reply": "2024-03-05T13:08:01.575302Z",
     "shell.execute_reply.started": "2024-03-05T13:08:01.569400Z"
    }
   },
   "outputs": [
    {
     "name": "stdout",
     "output_type": "stream",
     "text": [
      "<class 'pandas.core.frame.DataFrame'>\n",
      "Index: 295 entries, 99900044963840 to 99900064009230\n",
      "Data columns (total 1 columns):\n",
      " #   Column   Non-Null Count  Dtype  \n",
      "---  ------   --------------  -----  \n",
      " 0   entropy  295 non-null    float64\n",
      "dtypes: float64(1)\n",
      "memory usage: 4.6+ KB\n"
     ]
    }
   ],
   "source": [
    "dfem.info()"
   ]
  },
  {
   "cell_type": "code",
   "execution_count": 99,
   "id": "8c5d3143-9d4c-41a1-bf39-5bccd1473b2e",
   "metadata": {
    "execution": {
     "iopub.execute_input": "2024-03-05T13:10:52.438968Z",
     "iopub.status.busy": "2024-03-05T13:10:52.438517Z",
     "iopub.status.idle": "2024-03-05T13:10:52.441974Z",
     "shell.execute_reply": "2024-03-05T13:10:52.441481Z",
     "shell.execute_reply.started": "2024-03-05T13:10:52.438944Z"
    }
   },
   "outputs": [],
   "source": [
    "dfem = dfem.reset_index()"
   ]
  },
  {
   "cell_type": "code",
   "execution_count": 100,
   "id": "2615e62e-9b34-432d-b861-50151c45dbdc",
   "metadata": {
    "execution": {
     "iopub.execute_input": "2024-03-05T13:10:54.130841Z",
     "iopub.status.busy": "2024-03-05T13:10:54.130589Z",
     "iopub.status.idle": "2024-03-05T13:10:54.137245Z",
     "shell.execute_reply": "2024-03-05T13:10:54.136871Z",
     "shell.execute_reply.started": "2024-03-05T13:10:54.130825Z"
    }
   },
   "outputs": [],
   "source": [
    "dfem.to_csv('/home/yelhe/script/mt/output/accident_image_entropy_mean.csv', index = False)"
   ]
  },
  {
   "cell_type": "code",
   "execution_count": 101,
   "id": "ee577073-1c63-46ab-a969-a2baae64108c",
   "metadata": {
    "execution": {
     "iopub.execute_input": "2024-03-05T13:10:56.302263Z",
     "iopub.status.busy": "2024-03-05T13:10:56.301817Z",
     "iopub.status.idle": "2024-03-05T13:10:56.410882Z",
     "shell.execute_reply": "2024-03-05T13:10:56.410337Z",
     "shell.execute_reply.started": "2024-03-05T13:10:56.302241Z"
    }
   },
   "outputs": [
    {
     "data": {
      "text/plain": [
       "(array([ 3.,  1.,  7., 11., 24., 41., 39., 63., 65., 41.]),\n",
       " array([3.82508881, 3.92444461, 4.02380042, 4.12315622, 4.22251203,\n",
       "        4.32186783, 4.42122364, 4.52057944, 4.61993524, 4.71929105,\n",
       "        4.81864685]),\n",
       " <BarContainer object of 10 artists>)"
      ]
     },
     "execution_count": 101,
     "metadata": {},
     "output_type": "execute_result"
    },
    {
     "data": {
      "image/png": "[encoded data removed]",
      "text/plain": [
       "<Figure size 640x480 with 1 Axes>"
      ]
     },
     "metadata": {},
     "output_type": "display_data"
    }
   ],
   "source": [
    "plt.hist(dfem['entropy'])"
   ]
  },
  {
   "cell_type": "code",
   "execution_count": 102,
   "id": "447c86e6-df89-4b16-9757-e3417668d01c",
   "metadata": {
    "execution": {
     "iopub.execute_input": "2024-03-05T13:10:58.440003Z",
     "iopub.status.busy": "2024-03-05T13:10:58.439605Z",
     "iopub.status.idle": "2024-03-05T13:10:58.444153Z",
     "shell.execute_reply": "2024-03-05T13:10:58.443763Z",
     "shell.execute_reply.started": "2024-03-05T13:10:58.439984Z"
    }
   },
   "outputs": [],
   "source": [
    "dferm = dfer.groupby('id')['entropy'].mean()\n",
    "dferm = dferm.to_frame()\n",
    "dferm = dferm.reset_index()"
   ]
  },
  {
   "cell_type": "code",
   "execution_count": 104,
   "id": "80193759-422f-48ca-835a-81aa084f59eb",
   "metadata": {
    "execution": {
     "iopub.execute_input": "2024-03-05T13:11:14.417531Z",
     "iopub.status.busy": "2024-03-05T13:11:14.417045Z",
     "iopub.status.idle": "2024-03-05T13:11:14.422987Z",
     "shell.execute_reply": "2024-03-05T13:11:14.422594Z",
     "shell.execute_reply.started": "2024-03-05T13:11:14.417507Z"
    }
   },
   "outputs": [],
   "source": [
    "# dferm.to_csv('/home/yelhe/script/mt/output/pseudo_image_entropy_mean.csv', index = False)"
   ]
  }
 ],
 "metadata": {
  "kernelspec": {
   "display_name": "Python 3 (ipykernel)",
   "language": "python",
   "name": "python3"
  },
  "language_info": {
   "codemirror_mode": {
    "name": "ipython",
    "version": 3
   },
   "file_extension": ".py",
   "mimetype": "text/x-python",
   "name": "python",
   "nbconvert_exporter": "python",
   "pygments_lexer": "ipython3",
   "version": "3.11.5"
  }
 },
 "nbformat": 4,
 "nbformat_minor": 5
}
