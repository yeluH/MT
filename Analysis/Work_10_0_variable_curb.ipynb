{
 "cells": [
  {
   "cell_type": "code",
   "execution_count": 2,
   "id": "7e9f75d8-3be9-45ef-b9ae-ad72fefb7ce1",
   "metadata": {
    "execution": {
     "iopub.execute_input": "2024-03-05T16:04:51.614078Z",
     "iopub.status.busy": "2024-03-05T16:04:51.613819Z",
     "iopub.status.idle": "2024-03-05T16:04:52.910106Z",
     "shell.execute_reply": "2024-03-05T16:04:52.909676Z",
     "shell.execute_reply.started": "2024-03-05T16:04:51.614060Z"
    }
   },
   "outputs": [],
   "source": [
    "import torch\n",
    "torch.cuda.empty_cache() "
   ]
  },
  {
   "cell_type": "code",
   "execution_count": 3,
   "id": "f3e5fa71-37bd-4efe-b8ee-ae3c362b2a1b",
   "metadata": {
    "execution": {
     "iopub.execute_input": "2024-03-05T16:04:52.911683Z",
     "iopub.status.busy": "2024-03-05T16:04:52.911121Z",
     "iopub.status.idle": "2024-03-05T16:04:53.164797Z",
     "shell.execute_reply": "2024-03-05T16:04:53.163578Z",
     "shell.execute_reply.started": "2024-03-05T16:04:52.911651Z"
    }
   },
   "outputs": [],
   "source": [
    "import os \n",
    "os.environ['MPLCONFIGDIR'] = os.getcwd() + \"/configs/\"\n",
    "import matplotlib\n",
    "from matplotlib import pyplot as plt\n",
    "import numpy as np\n",
    "import cv2\n",
    "import urllib.request\n",
    "from PIL import Image"
   ]
  },
  {
   "cell_type": "code",
   "execution_count": 4,
   "id": "132db61a-9aa6-4936-8ab4-054288d07d2e",
   "metadata": {
    "execution": {
     "iopub.execute_input": "2024-03-05T16:04:53.166033Z",
     "iopub.status.busy": "2024-03-05T16:04:53.165588Z",
     "iopub.status.idle": "2024-03-05T16:04:53.535241Z",
     "shell.execute_reply": "2024-03-05T16:04:53.534830Z",
     "shell.execute_reply.started": "2024-03-05T16:04:53.166004Z"
    }
   },
   "outputs": [],
   "source": [
    "import pandas as pd\n",
    "import pyproj"
   ]
  },
  {
   "cell_type": "code",
   "execution_count": 5,
   "id": "80d61825-dc8d-4005-9362-cf497e771695",
   "metadata": {
    "execution": {
     "iopub.execute_input": "2024-03-05T16:04:53.537154Z",
     "iopub.status.busy": "2024-03-05T16:04:53.536556Z",
     "iopub.status.idle": "2024-03-05T16:04:53.539929Z",
     "shell.execute_reply": "2024-03-05T16:04:53.539534Z",
     "shell.execute_reply.started": "2024-03-05T16:04:53.537122Z"
    }
   },
   "outputs": [],
   "source": [
    "import os \n",
    "os.environ['MPLCONFIGDIR'] = os.getcwd() + \"/configs/\"\n",
    "import matplotlib\n",
    "from matplotlib import pyplot as plt\n",
    "import numpy as np\n",
    "import cv2"
   ]
  },
  {
   "cell_type": "code",
   "execution_count": 6,
   "id": "e6000c92-6b7e-4ee5-9c30-ac0dfed91840",
   "metadata": {
    "execution": {
     "iopub.execute_input": "2024-03-05T16:04:53.540928Z",
     "iopub.status.busy": "2024-03-05T16:04:53.540564Z",
     "iopub.status.idle": "2024-03-05T16:04:53.548090Z",
     "shell.execute_reply": "2024-03-05T16:04:53.547697Z",
     "shell.execute_reply.started": "2024-03-05T16:04:53.540899Z"
    }
   },
   "outputs": [],
   "source": [
    "from pathlib import Path"
   ]
  },
  {
   "cell_type": "code",
   "execution_count": 7,
   "id": "59dfb1fc-7192-4ae1-9df9-596320cc4875",
   "metadata": {
    "execution": {
     "iopub.execute_input": "2024-03-05T16:04:53.549056Z",
     "iopub.status.busy": "2024-03-05T16:04:53.548658Z",
     "iopub.status.idle": "2024-03-05T16:04:53.571041Z",
     "shell.execute_reply": "2024-03-05T16:04:53.570699Z",
     "shell.execute_reply.started": "2024-03-05T16:04:53.549031Z"
    }
   },
   "outputs": [],
   "source": [
    "import joblib"
   ]
  },
  {
   "cell_type": "code",
   "execution_count": 8,
   "id": "923fac26-61e2-49dd-9099-e31ff4079430",
   "metadata": {
    "execution": {
     "iopub.execute_input": "2024-03-05T16:04:53.572090Z",
     "iopub.status.busy": "2024-03-05T16:04:53.571655Z",
     "iopub.status.idle": "2024-03-05T16:04:53.812327Z",
     "shell.execute_reply": "2024-03-05T16:04:53.811901Z",
     "shell.execute_reply.started": "2024-03-05T16:04:53.572065Z"
    }
   },
   "outputs": [],
   "source": [
    "from mt_function_yl import *"
   ]
  },
  {
   "cell_type": "code",
   "execution_count": 9,
   "id": "8376ffe7-7aec-4e11-9f86-32619931952f",
   "metadata": {
    "execution": {
     "iopub.execute_input": "2024-03-05T16:04:54.436935Z",
     "iopub.status.busy": "2024-03-05T16:04:54.436611Z",
     "iopub.status.idle": "2024-03-05T16:04:54.614588Z",
     "shell.execute_reply": "2024-03-05T16:04:54.614053Z",
     "shell.execute_reply.started": "2024-03-05T16:04:54.436915Z"
    }
   },
   "outputs": [],
   "source": [
    "import seaborn as sn"
   ]
  },
  {
   "cell_type": "markdown",
   "id": "11486eff-60e0-460e-a14b-9a0ab0628a50",
   "metadata": {},
   "source": [
    "### Data loading"
   ]
  },
  {
   "cell_type": "code",
   "execution_count": 93,
   "id": "f89f329b-62a5-48b2-9ea4-451014aad9e3",
   "metadata": {
    "execution": {
     "iopub.execute_input": "2024-03-05T16:48:48.215659Z",
     "iopub.status.busy": "2024-03-05T16:48:48.215395Z",
     "iopub.status.idle": "2024-03-05T16:48:48.683423Z",
     "shell.execute_reply": "2024-03-05T16:48:48.682970Z",
     "shell.execute_reply.started": "2024-03-05T16:48:48.215641Z"
    }
   },
   "outputs": [],
   "source": [
    "# Curb extraction data\n",
    "preda = pd.read_csv('/home/yelhe/script/mt/output/pred_accident_label.csv')\n",
    "predp = pd.read_csv('/home/yelhe/script/mt/output/pred_pseudo_label.csv')"
   ]
  },
  {
   "cell_type": "code",
   "execution_count": 43,
   "id": "684f0678-f73a-4836-baba-5e0d0205ed6a",
   "metadata": {
    "execution": {
     "iopub.execute_input": "2024-03-05T16:23:00.097877Z",
     "iopub.status.busy": "2024-03-05T16:23:00.097626Z",
     "iopub.status.idle": "2024-03-05T16:23:00.101583Z",
     "shell.execute_reply": "2024-03-05T16:23:00.101183Z",
     "shell.execute_reply.started": "2024-03-05T16:23:00.097858Z"
    }
   },
   "outputs": [],
   "source": [
    "nla = pd.read_csv('/home/yelhe/script/mt/output/n_accident.txt', header=None)"
   ]
  },
  {
   "cell_type": "code",
   "execution_count": 48,
   "id": "478619aa-684b-45ce-b943-3cd1abda4fea",
   "metadata": {
    "execution": {
     "iopub.execute_input": "2024-03-05T16:24:15.260216Z",
     "iopub.status.busy": "2024-03-05T16:24:15.259969Z",
     "iopub.status.idle": "2024-03-05T16:24:15.265365Z",
     "shell.execute_reply": "2024-03-05T16:24:15.264835Z",
     "shell.execute_reply.started": "2024-03-05T16:24:15.260195Z"
    }
   },
   "outputs": [],
   "source": [
    "nla.rename(columns = {0:'Nr'}, inplace = True)\n",
    "nla['Nr'] = nla['Nr'].values.astype(str)\n",
    "nla['id'] = nla['Nr'].str[-15:-1]\n",
    "nla['dir'] = nla['Nr'].str[-1]"
   ]
  },
  {
   "cell_type": "code",
   "execution_count": 50,
   "id": "b969a475-d345-45f9-9c46-9d2952262e0b",
   "metadata": {
    "execution": {
     "iopub.execute_input": "2024-03-05T16:24:39.162541Z",
     "iopub.status.busy": "2024-03-05T16:24:39.162276Z",
     "iopub.status.idle": "2024-03-05T16:24:39.166053Z",
     "shell.execute_reply": "2024-03-05T16:24:39.165480Z",
     "shell.execute_reply.started": "2024-03-05T16:24:39.162521Z"
    }
   },
   "outputs": [],
   "source": [
    "nla1 = nla[['id', 'dir']]"
   ]
  },
  {
   "cell_type": "code",
   "execution_count": 52,
   "id": "771ab0ef-63df-4c88-9a36-7773b1c0a08a",
   "metadata": {
    "execution": {
     "iopub.execute_input": "2024-03-05T16:26:07.646183Z",
     "iopub.status.busy": "2024-03-05T16:26:07.645734Z",
     "iopub.status.idle": "2024-03-05T16:26:07.650195Z",
     "shell.execute_reply": "2024-03-05T16:26:07.649577Z",
     "shell.execute_reply.started": "2024-03-05T16:26:07.646163Z"
    }
   },
   "outputs": [],
   "source": [
    "nla2 = nla1\n",
    "nla3 = nla1\n",
    "nla4 = nla1\n",
    "nla2 = nla2.assign(dir = '2')\n",
    "nla3 = nla3.assign(dir = '3')\n",
    "nla4 = nla4.assign(dir = '4')"
   ]
  },
  {
   "cell_type": "code",
   "execution_count": 88,
   "id": "dd36efb9-80a3-43d2-a023-8f178650e7cd",
   "metadata": {
    "execution": {
     "iopub.execute_input": "2024-03-05T16:46:27.915965Z",
     "iopub.status.busy": "2024-03-05T16:46:27.915678Z",
     "iopub.status.idle": "2024-03-05T16:46:27.919083Z",
     "shell.execute_reply": "2024-03-05T16:46:27.918571Z",
     "shell.execute_reply.started": "2024-03-05T16:46:27.915944Z"
    }
   },
   "outputs": [],
   "source": [
    "nlas = pd.concat([nla1, nla2, nla3, nla4])"
   ]
  },
  {
   "cell_type": "code",
   "execution_count": 90,
   "id": "145bec14-aed9-48f2-ae08-ca94313f7899",
   "metadata": {
    "execution": {
     "iopub.execute_input": "2024-03-05T16:48:08.610680Z",
     "iopub.status.busy": "2024-03-05T16:48:08.610424Z",
     "iopub.status.idle": "2024-03-05T16:48:08.614095Z",
     "shell.execute_reply": "2024-03-05T16:48:08.613571Z",
     "shell.execute_reply.started": "2024-03-05T16:48:08.610663Z"
    }
   },
   "outputs": [],
   "source": [
    "nlas['Nr'] = nlas['id'] + nlas['dir']"
   ]
  },
  {
   "cell_type": "code",
   "execution_count": 104,
   "id": "ac05d66b-5a2f-4cd7-bbf7-6e7018f6cb5a",
   "metadata": {
    "execution": {
     "iopub.execute_input": "2024-03-05T17:21:38.339617Z",
     "iopub.status.busy": "2024-03-05T17:21:38.339367Z",
     "iopub.status.idle": "2024-03-05T17:21:38.344706Z",
     "shell.execute_reply": "2024-03-05T17:21:38.344173Z",
     "shell.execute_reply.started": "2024-03-05T17:21:38.339599Z"
    }
   },
   "outputs": [],
   "source": [
    "nlas0 = nlas\n",
    "nlas1 = nlas\n",
    "nlas2 = nlas\n",
    "nlas3 = nlas\n",
    "nlas0 = nlas0.assign(p = '0')\n",
    "nlas1 = nlas1.assign(p = '1')\n",
    "nlas2 = nlas2.assign(p = '2')\n",
    "nlas3 = nlas3.assign(p = '3')"
   ]
  },
  {
   "cell_type": "code",
   "execution_count": 105,
   "id": "13740f76-40d9-44c1-8192-de3c7744604c",
   "metadata": {
    "execution": {
     "iopub.execute_input": "2024-03-05T17:21:38.649330Z",
     "iopub.status.busy": "2024-03-05T17:21:38.649101Z",
     "iopub.status.idle": "2024-03-05T17:21:38.652320Z",
     "shell.execute_reply": "2024-03-05T17:21:38.651789Z",
     "shell.execute_reply.started": "2024-03-05T17:21:38.649312Z"
    }
   },
   "outputs": [],
   "source": [
    "nlass = pd.concat([nlas0, nlas1, nlas2, nlas3])"
   ]
  },
  {
   "cell_type": "code",
   "execution_count": 106,
   "id": "064bc139-b35a-4842-9d29-54e878ca9aa1",
   "metadata": {
    "execution": {
     "iopub.execute_input": "2024-03-05T17:21:43.055698Z",
     "iopub.status.busy": "2024-03-05T17:21:43.055432Z",
     "iopub.status.idle": "2024-03-05T17:21:43.062731Z",
     "shell.execute_reply": "2024-03-05T17:21:43.062274Z",
     "shell.execute_reply.started": "2024-03-05T17:21:43.055679Z"
    }
   },
   "outputs": [
    {
     "data": {
      "text/html": [
       "<div>\n",
       "<style scoped>\n",
       "    .dataframe tbody tr th:only-of-type {\n",
       "        vertical-align: middle;\n",
       "    }\n",
       "\n",
       "    .dataframe tbody tr th {\n",
       "        vertical-align: top;\n",
       "    }\n",
       "\n",
       "    .dataframe thead th {\n",
       "        text-align: right;\n",
       "    }\n",
       "</style>\n",
       "<table border=\"1\" class=\"dataframe\">\n",
       "  <thead>\n",
       "    <tr style=\"text-align: right;\">\n",
       "      <th></th>\n",
       "      <th>id</th>\n",
       "      <th>dir</th>\n",
       "      <th>Nr</th>\n",
       "      <th>p</th>\n",
       "    </tr>\n",
       "  </thead>\n",
       "  <tbody>\n",
       "    <tr>\n",
       "      <th>0</th>\n",
       "      <td>99900060852597</td>\n",
       "      <td>1</td>\n",
       "      <td>999000608525971</td>\n",
       "      <td>0</td>\n",
       "    </tr>\n",
       "    <tr>\n",
       "      <th>1</th>\n",
       "      <td>99900063018611</td>\n",
       "      <td>1</td>\n",
       "      <td>999000630186111</td>\n",
       "      <td>0</td>\n",
       "    </tr>\n",
       "    <tr>\n",
       "      <th>2</th>\n",
       "      <td>99900052723510</td>\n",
       "      <td>1</td>\n",
       "      <td>999000527235101</td>\n",
       "      <td>0</td>\n",
       "    </tr>\n",
       "    <tr>\n",
       "      <th>3</th>\n",
       "      <td>99900061514043</td>\n",
       "      <td>1</td>\n",
       "      <td>999000615140431</td>\n",
       "      <td>0</td>\n",
       "    </tr>\n",
       "    <tr>\n",
       "      <th>4</th>\n",
       "      <td>99900063037843</td>\n",
       "      <td>1</td>\n",
       "      <td>999000630378431</td>\n",
       "      <td>0</td>\n",
       "    </tr>\n",
       "    <tr>\n",
       "      <th>...</th>\n",
       "      <td>...</td>\n",
       "      <td>...</td>\n",
       "      <td>...</td>\n",
       "      <td>...</td>\n",
       "    </tr>\n",
       "    <tr>\n",
       "      <th>290</th>\n",
       "      <td>99900056387598</td>\n",
       "      <td>4</td>\n",
       "      <td>999000563875984</td>\n",
       "      <td>3</td>\n",
       "    </tr>\n",
       "    <tr>\n",
       "      <th>291</th>\n",
       "      <td>99900055999694</td>\n",
       "      <td>4</td>\n",
       "      <td>999000559996944</td>\n",
       "      <td>3</td>\n",
       "    </tr>\n",
       "    <tr>\n",
       "      <th>292</th>\n",
       "      <td>99900055905276</td>\n",
       "      <td>4</td>\n",
       "      <td>999000559052764</td>\n",
       "      <td>3</td>\n",
       "    </tr>\n",
       "    <tr>\n",
       "      <th>293</th>\n",
       "      <td>99900060670975</td>\n",
       "      <td>4</td>\n",
       "      <td>999000606709754</td>\n",
       "      <td>3</td>\n",
       "    </tr>\n",
       "    <tr>\n",
       "      <th>294</th>\n",
       "      <td>99900050714619</td>\n",
       "      <td>4</td>\n",
       "      <td>999000507146194</td>\n",
       "      <td>3</td>\n",
       "    </tr>\n",
       "  </tbody>\n",
       "</table>\n",
       "<p>4720 rows × 4 columns</p>\n",
       "</div>"
      ],
      "text/plain": [
       "                 id dir               Nr  p\n",
       "0    99900060852597   1  999000608525971  0\n",
       "1    99900063018611   1  999000630186111  0\n",
       "2    99900052723510   1  999000527235101  0\n",
       "3    99900061514043   1  999000615140431  0\n",
       "4    99900063037843   1  999000630378431  0\n",
       "..              ...  ..              ... ..\n",
       "290  99900056387598   4  999000563875984  3\n",
       "291  99900055999694   4  999000559996944  3\n",
       "292  99900055905276   4  999000559052764  3\n",
       "293  99900060670975   4  999000606709754  3\n",
       "294  99900050714619   4  999000507146194  3\n",
       "\n",
       "[4720 rows x 4 columns]"
      ]
     },
     "execution_count": 106,
     "metadata": {},
     "output_type": "execute_result"
    }
   ],
   "source": [
    "nlass"
   ]
  },
  {
   "cell_type": "code",
   "execution_count": 108,
   "id": "05a3c027-2643-4e1c-a759-ccd0e7a09e2f",
   "metadata": {
    "execution": {
     "iopub.execute_input": "2024-03-05T17:23:42.374441Z",
     "iopub.status.busy": "2024-03-05T17:23:42.374177Z",
     "iopub.status.idle": "2024-03-05T17:23:42.381317Z",
     "shell.execute_reply": "2024-03-05T17:23:42.380805Z",
     "shell.execute_reply.started": "2024-03-05T17:23:42.374420Z"
    }
   },
   "outputs": [
    {
     "name": "stdout",
     "output_type": "stream",
     "text": [
      "<class 'pandas.core.frame.DataFrame'>\n",
      "Index: 4720 entries, 0 to 294\n",
      "Data columns (total 4 columns):\n",
      " #   Column  Non-Null Count  Dtype \n",
      "---  ------  --------------  ----- \n",
      " 0   id      4720 non-null   object\n",
      " 1   dir     4720 non-null   object\n",
      " 2   Nr      4720 non-null   object\n",
      " 3   p       4720 non-null   object\n",
      "dtypes: object(4)\n",
      "memory usage: 184.4+ KB\n"
     ]
    }
   ],
   "source": [
    "nlass.info()"
   ]
  },
  {
   "cell_type": "code",
   "execution_count": 111,
   "id": "0eabecd6-cec4-4fed-ae15-ccd4392591b7",
   "metadata": {
    "execution": {
     "iopub.execute_input": "2024-03-05T17:24:13.222989Z",
     "iopub.status.busy": "2024-03-05T17:24:13.222697Z",
     "iopub.status.idle": "2024-03-05T17:24:13.229737Z",
     "shell.execute_reply": "2024-03-05T17:24:13.229242Z",
     "shell.execute_reply.started": "2024-03-05T17:24:13.222969Z"
    }
   },
   "outputs": [
    {
     "name": "stdout",
     "output_type": "stream",
     "text": [
      "<class 'pandas.core.frame.DataFrame'>\n",
      "RangeIndex: 3146 entries, 0 to 3145\n",
      "Data columns (total 5 columns):\n",
      " #   Column  Non-Null Count  Dtype \n",
      "---  ------  --------------  ----- \n",
      " 0   Nr      3146 non-null   object\n",
      " 1   p       3146 non-null   object\n",
      " 2   count   3146 non-null   int64 \n",
      " 3   id      3146 non-null   object\n",
      " 4   dir     3146 non-null   object\n",
      "dtypes: int64(1), object(4)\n",
      "memory usage: 123.0+ KB\n"
     ]
    }
   ],
   "source": [
    "preda.info()"
   ]
  },
  {
   "cell_type": "code",
   "execution_count": 94,
   "id": "2f11c5e7-0b40-4e45-a22e-504edf5bc727",
   "metadata": {
    "execution": {
     "iopub.execute_input": "2024-03-05T16:48:51.101284Z",
     "iopub.status.busy": "2024-03-05T16:48:51.101026Z",
     "iopub.status.idle": "2024-03-05T16:48:51.104700Z",
     "shell.execute_reply": "2024-03-05T16:48:51.104109Z",
     "shell.execute_reply.started": "2024-03-05T16:48:51.101267Z"
    }
   },
   "outputs": [],
   "source": [
    "preda = preda[['Nr', 'p']]"
   ]
  },
  {
   "cell_type": "code",
   "execution_count": 95,
   "id": "87dbd9f2-76b3-4513-9d5d-a4d7cf8abe61",
   "metadata": {
    "execution": {
     "iopub.execute_input": "2024-03-05T16:48:51.379050Z",
     "iopub.status.busy": "2024-03-05T16:48:51.378839Z",
     "iopub.status.idle": "2024-03-05T16:48:51.385683Z",
     "shell.execute_reply": "2024-03-05T16:48:51.384733Z",
     "shell.execute_reply.started": "2024-03-05T16:48:51.379033Z"
    }
   },
   "outputs": [],
   "source": [
    "preda = preda.groupby(['Nr', 'p']).size().reset_index().rename(columns={0:'count'})\n"
   ]
  },
  {
   "cell_type": "code",
   "execution_count": 110,
   "id": "36a02ba2-626a-4c4e-b5c6-ab0bc0d9be36",
   "metadata": {
    "execution": {
     "iopub.execute_input": "2024-03-05T17:24:11.468450Z",
     "iopub.status.busy": "2024-03-05T17:24:11.468147Z",
     "iopub.status.idle": "2024-03-05T17:24:11.472694Z",
     "shell.execute_reply": "2024-03-05T17:24:11.472255Z",
     "shell.execute_reply.started": "2024-03-05T17:24:11.468428Z"
    }
   },
   "outputs": [],
   "source": [
    "preda['p'] = preda['p'].values.astype(str)"
   ]
  },
  {
   "cell_type": "code",
   "execution_count": 96,
   "id": "423c93bc-3b52-4e89-8a28-3b0c7a24db45",
   "metadata": {
    "execution": {
     "iopub.execute_input": "2024-03-05T16:48:51.838967Z",
     "iopub.status.busy": "2024-03-05T16:48:51.838807Z",
     "iopub.status.idle": "2024-03-05T16:48:51.847134Z",
     "shell.execute_reply": "2024-03-05T16:48:51.846647Z",
     "shell.execute_reply.started": "2024-03-05T16:48:51.838951Z"
    }
   },
   "outputs": [],
   "source": [
    "preda['Nr'] = preda['Nr'].values.astype(str)\n",
    "preda['id'] = preda['Nr'].str[-15:-1]\n",
    "preda['dir'] = preda['Nr'].str[-1]"
   ]
  },
  {
   "cell_type": "code",
   "execution_count": 119,
   "id": "4480e816-cd9f-483d-a0d1-e536d69e9410",
   "metadata": {
    "execution": {
     "iopub.execute_input": "2024-03-05T17:26:49.896036Z",
     "iopub.status.busy": "2024-03-05T17:26:49.895738Z",
     "iopub.status.idle": "2024-03-05T17:26:49.903573Z",
     "shell.execute_reply": "2024-03-05T17:26:49.903165Z",
     "shell.execute_reply.started": "2024-03-05T17:26:49.896016Z"
    }
   },
   "outputs": [],
   "source": [
    "pa = nlass.merge(preda, how = 'left', on = ['id', 'Nr', 'dir', 'p'])"
   ]
  },
  {
   "cell_type": "code",
   "execution_count": 126,
   "id": "a54168a7-96bb-471b-a591-d891a884d8a8",
   "metadata": {
    "execution": {
     "iopub.execute_input": "2024-03-05T17:28:15.440302Z",
     "iopub.status.busy": "2024-03-05T17:28:15.440037Z",
     "iopub.status.idle": "2024-03-05T17:28:15.446228Z",
     "shell.execute_reply": "2024-03-05T17:28:15.445788Z",
     "shell.execute_reply.started": "2024-03-05T17:28:15.440284Z"
    }
   },
   "outputs": [],
   "source": [
    "pa = pa.sort_values(by = ['id', 'dir', 'p'], ignore_index = True)"
   ]
  },
  {
   "cell_type": "code",
   "execution_count": 121,
   "id": "4210302b-6608-4b01-8562-3051ed38a935",
   "metadata": {
    "execution": {
     "iopub.execute_input": "2024-03-05T17:27:14.700677Z",
     "iopub.status.busy": "2024-03-05T17:27:14.700292Z",
     "iopub.status.idle": "2024-03-05T17:27:14.704555Z",
     "shell.execute_reply": "2024-03-05T17:27:14.704083Z",
     "shell.execute_reply.started": "2024-03-05T17:27:14.700657Z"
    }
   },
   "outputs": [],
   "source": [
    "pa = pa.fillna(0)"
   ]
  },
  {
   "cell_type": "code",
   "execution_count": 128,
   "id": "4c412905-9634-43dd-93c5-47672e9addc9",
   "metadata": {
    "execution": {
     "iopub.execute_input": "2024-03-05T17:41:02.653548Z",
     "iopub.status.busy": "2024-03-05T17:41:02.653272Z",
     "iopub.status.idle": "2024-03-05T17:41:02.667383Z",
     "shell.execute_reply": "2024-03-05T17:41:02.666986Z",
     "shell.execute_reply.started": "2024-03-05T17:41:02.653527Z"
    }
   },
   "outputs": [],
   "source": [
    "pa.to_csv('/home/yelhe/script/mt/output/predlabel_accident_count.csv', index = False)"
   ]
  },
  {
   "cell_type": "code",
   "execution_count": 129,
   "id": "9b8a6e16-719c-4f21-9d2c-5f57ae5d5ed5",
   "metadata": {
    "execution": {
     "iopub.execute_input": "2024-03-05T17:44:31.941536Z",
     "iopub.status.busy": "2024-03-05T17:44:31.941269Z",
     "iopub.status.idle": "2024-03-05T17:44:31.949082Z",
     "shell.execute_reply": "2024-03-05T17:44:31.948519Z",
     "shell.execute_reply.started": "2024-03-05T17:44:31.941517Z"
    }
   },
   "outputs": [
    {
     "name": "stdout",
     "output_type": "stream",
     "text": [
      "<class 'pandas.core.frame.DataFrame'>\n",
      "RangeIndex: 4720 entries, 0 to 4719\n",
      "Data columns (total 5 columns):\n",
      " #   Column  Non-Null Count  Dtype  \n",
      "---  ------  --------------  -----  \n",
      " 0   id      4720 non-null   object \n",
      " 1   dir     4720 non-null   object \n",
      " 2   Nr      4720 non-null   object \n",
      " 3   p       4720 non-null   object \n",
      " 4   count   4720 non-null   float64\n",
      "dtypes: float64(1), object(4)\n",
      "memory usage: 184.5+ KB\n"
     ]
    }
   ],
   "source": [
    "pa.info()"
   ]
  },
  {
   "cell_type": "code",
   "execution_count": 130,
   "id": "bf911986-a816-4a2c-b043-85e729fd5f5e",
   "metadata": {
    "execution": {
     "iopub.execute_input": "2024-03-05T17:46:18.766071Z",
     "iopub.status.busy": "2024-03-05T17:46:18.765796Z",
     "iopub.status.idle": "2024-03-05T17:46:18.769919Z",
     "shell.execute_reply": "2024-03-05T17:46:18.769381Z",
     "shell.execute_reply.started": "2024-03-05T17:46:18.766052Z"
    }
   },
   "outputs": [],
   "source": [
    "pac = pa.loc[pa['p'] == '0']"
   ]
  },
  {
   "cell_type": "code",
   "execution_count": 138,
   "id": "fc40ae90-15fd-4e3f-94fc-33144eb9e021",
   "metadata": {
    "execution": {
     "iopub.execute_input": "2024-03-05T17:52:38.017457Z",
     "iopub.status.busy": "2024-03-05T17:52:38.017190Z",
     "iopub.status.idle": "2024-03-05T17:52:38.022100Z",
     "shell.execute_reply": "2024-03-05T17:52:38.021620Z",
     "shell.execute_reply.started": "2024-03-05T17:52:38.017438Z"
    }
   },
   "outputs": [],
   "source": [
    "pacc = pac.groupby(['id'])['count'].sum().reset_index().rename(columns = {'count':'sum'})"
   ]
  },
  {
   "cell_type": "code",
   "execution_count": 141,
   "id": "9344cbf6-2b38-4fd3-a864-67e35e1be100",
   "metadata": {
    "execution": {
     "iopub.execute_input": "2024-03-05T17:56:28.873907Z",
     "iopub.status.busy": "2024-03-05T17:56:28.873446Z",
     "iopub.status.idle": "2024-03-05T17:56:28.877886Z",
     "shell.execute_reply": "2024-03-05T17:56:28.877478Z",
     "shell.execute_reply.started": "2024-03-05T17:56:28.873881Z"
    }
   },
   "outputs": [],
   "source": [
    "pacc.to_csv('/home/yelhe/script/mt/output/predcurb_accident_count_sum.csv', index = False)"
   ]
  },
  {
   "cell_type": "code",
   "execution_count": 135,
   "id": "1f58c834-8813-4fb8-b18a-0663fa3e747e",
   "metadata": {
    "execution": {
     "iopub.execute_input": "2024-03-05T17:51:21.909277Z",
     "iopub.status.busy": "2024-03-05T17:51:21.909013Z",
     "iopub.status.idle": "2024-03-05T17:51:22.033269Z",
     "shell.execute_reply": "2024-03-05T17:51:22.032273Z",
     "shell.execute_reply.started": "2024-03-05T17:51:21.909255Z"
    }
   },
   "outputs": [
    {
     "data": {
      "text/plain": [
       "(array([963.,   0., 168.,   0.,  40.,   0.,   7.,   0.,   1.,   1.]),\n",
       " array([0. , 0.5, 1. , 1.5, 2. , 2.5, 3. , 3.5, 4. , 4.5, 5. ]),\n",
       " <BarContainer object of 10 artists>)"
      ]
     },
     "execution_count": 135,
     "metadata": {},
     "output_type": "execute_result"
    },
    {
     "data": {
      "image/png": "[encoded data removed]",
      "text/plain": [
       "<Figure size 640x480 with 1 Axes>"
      ]
     },
     "metadata": {},
     "output_type": "display_data"
    }
   ],
   "source": [
    "plt.hist(pacc['sum'])"
   ]
  },
  {
   "cell_type": "code",
   "execution_count": 132,
   "id": "fdb63e97-5bbe-4b1f-980c-db1d6cb30527",
   "metadata": {
    "execution": {
     "iopub.execute_input": "2024-03-05T17:46:42.754094Z",
     "iopub.status.busy": "2024-03-05T17:46:42.753814Z",
     "iopub.status.idle": "2024-03-05T17:46:42.888672Z",
     "shell.execute_reply": "2024-03-05T17:46:42.887958Z",
     "shell.execute_reply.started": "2024-03-05T17:46:42.754073Z"
    }
   },
   "outputs": [
    {
     "data": {
      "text/plain": [
       "(array([963.,   0., 168.,   0.,  40.,   0.,   7.,   0.,   1.,   1.]),\n",
       " array([0. , 0.5, 1. , 1.5, 2. , 2.5, 3. , 3.5, 4. , 4.5, 5. ]),\n",
       " <BarContainer object of 10 artists>)"
      ]
     },
     "execution_count": 132,
     "metadata": {},
     "output_type": "execute_result"
    },
    {
     "data": {
      "image/png": "[encoded data removed]",
      "text/plain": [
       "<Figure size 640x480 with 1 Axes>"
      ]
     },
     "metadata": {},
     "output_type": "display_data"
    }
   ],
   "source": [
    "plt.hist(pac['count'])"
   ]
  },
  {
   "cell_type": "code",
   "execution_count": null,
   "id": "5bdd113d-aa98-4fb5-b0a8-e21f3a81220e",
   "metadata": {},
   "outputs": [],
   "source": []
  }
 ],
 "metadata": {
  "kernelspec": {
   "display_name": "Python 3 (ipykernel)",
   "language": "python",
   "name": "python3"
  },
  "language_info": {
   "codemirror_mode": {
    "name": "ipython",
    "version": 3
   },
   "file_extension": ".py",
   "mimetype": "text/x-python",
   "name": "python",
   "nbconvert_exporter": "python",
   "pygments_lexer": "ipython3",
   "version": "3.11.5"
  }
 },
 "nbformat": 4,
 "nbformat_minor": 5
}
