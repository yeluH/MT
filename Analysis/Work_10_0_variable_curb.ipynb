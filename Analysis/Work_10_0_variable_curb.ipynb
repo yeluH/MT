{
 "cells": [
  {
   "cell_type": "code",
   "execution_count": 2,
   "id": "7e9f75d8-3be9-45ef-b9ae-ad72fefb7ce1",
   "metadata": {
    "execution": {
     "iopub.execute_input": "2024-03-10T14:10:23.356521Z",
     "iopub.status.busy": "2024-03-10T14:10:23.356270Z",
     "iopub.status.idle": "2024-03-10T14:10:29.739653Z",
     "shell.execute_reply": "2024-03-10T14:10:29.738940Z",
     "shell.execute_reply.started": "2024-03-10T14:10:23.356503Z"
    }
   },
   "outputs": [],
   "source": [
    "import torch\n",
    "torch.cuda.empty_cache() "
   ]
  },
  {
   "cell_type": "code",
   "execution_count": 3,
   "id": "f3e5fa71-37bd-4efe-b8ee-ae3c362b2a1b",
   "metadata": {
    "execution": {
     "iopub.execute_input": "2024-03-10T14:10:29.741544Z",
     "iopub.status.busy": "2024-03-10T14:10:29.741221Z",
     "iopub.status.idle": "2024-03-10T14:10:30.940422Z",
     "shell.execute_reply": "2024-03-10T14:10:30.939644Z",
     "shell.execute_reply.started": "2024-03-10T14:10:29.741518Z"
    }
   },
   "outputs": [],
   "source": [
    "import os \n",
    "os.environ['MPLCONFIGDIR'] = os.getcwd() + \"/configs/\"\n",
    "import matplotlib\n",
    "from matplotlib import pyplot as plt\n",
    "import numpy as np\n",
    "import cv2\n",
    "import urllib.request\n",
    "from PIL import Image"
   ]
  },
  {
   "cell_type": "code",
   "execution_count": 4,
   "id": "132db61a-9aa6-4936-8ab4-054288d07d2e",
   "metadata": {
    "execution": {
     "iopub.execute_input": "2024-03-10T14:10:30.941621Z",
     "iopub.status.busy": "2024-03-10T14:10:30.941325Z",
     "iopub.status.idle": "2024-03-10T14:10:33.040954Z",
     "shell.execute_reply": "2024-03-10T14:10:33.040336Z",
     "shell.execute_reply.started": "2024-03-10T14:10:30.941594Z"
    }
   },
   "outputs": [],
   "source": [
    "import pandas as pd\n",
    "import pyproj"
   ]
  },
  {
   "cell_type": "code",
   "execution_count": 5,
   "id": "80d61825-dc8d-4005-9362-cf497e771695",
   "metadata": {
    "execution": {
     "iopub.execute_input": "2024-03-10T14:10:33.042941Z",
     "iopub.status.busy": "2024-03-10T14:10:33.042529Z",
     "iopub.status.idle": "2024-03-10T14:10:33.046678Z",
     "shell.execute_reply": "2024-03-10T14:10:33.045887Z",
     "shell.execute_reply.started": "2024-03-10T14:10:33.042916Z"
    }
   },
   "outputs": [],
   "source": [
    "import os \n",
    "os.environ['MPLCONFIGDIR'] = os.getcwd() + \"/configs/\"\n",
    "import matplotlib\n",
    "from matplotlib import pyplot as plt\n",
    "import numpy as np\n",
    "import cv2"
   ]
  },
  {
   "cell_type": "code",
   "execution_count": 6,
   "id": "e6000c92-6b7e-4ee5-9c30-ac0dfed91840",
   "metadata": {
    "execution": {
     "iopub.execute_input": "2024-03-10T14:10:33.048083Z",
     "iopub.status.busy": "2024-03-10T14:10:33.047758Z",
     "iopub.status.idle": "2024-03-10T14:10:33.057871Z",
     "shell.execute_reply": "2024-03-10T14:10:33.057254Z",
     "shell.execute_reply.started": "2024-03-10T14:10:33.048059Z"
    }
   },
   "outputs": [],
   "source": [
    "from pathlib import Path"
   ]
  },
  {
   "cell_type": "code",
   "execution_count": 7,
   "id": "59dfb1fc-7192-4ae1-9df9-596320cc4875",
   "metadata": {
    "execution": {
     "iopub.execute_input": "2024-03-10T14:10:33.058935Z",
     "iopub.status.busy": "2024-03-10T14:10:33.058632Z",
     "iopub.status.idle": "2024-03-10T14:10:33.222779Z",
     "shell.execute_reply": "2024-03-10T14:10:33.221737Z",
     "shell.execute_reply.started": "2024-03-10T14:10:33.058912Z"
    }
   },
   "outputs": [],
   "source": [
    "import joblib"
   ]
  },
  {
   "cell_type": "code",
   "execution_count": 8,
   "id": "923fac26-61e2-49dd-9099-e31ff4079430",
   "metadata": {
    "execution": {
     "iopub.execute_input": "2024-03-10T14:10:33.223847Z",
     "iopub.status.busy": "2024-03-10T14:10:33.223564Z",
     "iopub.status.idle": "2024-03-10T14:10:34.972249Z",
     "shell.execute_reply": "2024-03-10T14:10:34.971376Z",
     "shell.execute_reply.started": "2024-03-10T14:10:33.223822Z"
    }
   },
   "outputs": [],
   "source": [
    "from mt_function_yl import *"
   ]
  },
  {
   "cell_type": "code",
   "execution_count": 9,
   "id": "8376ffe7-7aec-4e11-9f86-32619931952f",
   "metadata": {
    "execution": {
     "iopub.execute_input": "2024-03-10T14:10:34.974303Z",
     "iopub.status.busy": "2024-03-10T14:10:34.973736Z",
     "iopub.status.idle": "2024-03-10T14:10:35.539378Z",
     "shell.execute_reply": "2024-03-10T14:10:35.538246Z",
     "shell.execute_reply.started": "2024-03-10T14:10:34.974274Z"
    }
   },
   "outputs": [],
   "source": [
    "import seaborn as sn"
   ]
  },
  {
   "cell_type": "markdown",
   "id": "11486eff-60e0-460e-a14b-9a0ab0628a50",
   "metadata": {},
   "source": [
    "### Data loading"
   ]
  },
  {
   "cell_type": "code",
   "execution_count": 10,
   "id": "f89f329b-62a5-48b2-9ea4-451014aad9e3",
   "metadata": {
    "execution": {
     "iopub.execute_input": "2024-03-10T14:10:35.540883Z",
     "iopub.status.busy": "2024-03-10T14:10:35.540393Z",
     "iopub.status.idle": "2024-03-10T14:10:36.079485Z",
     "shell.execute_reply": "2024-03-10T14:10:36.078908Z",
     "shell.execute_reply.started": "2024-03-10T14:10:35.540857Z"
    }
   },
   "outputs": [],
   "source": [
    "# Curb extraction data\n",
    "preda = pd.read_csv('/home/yelhe/script/mt/output/pred_accident_label.csv')\n",
    "predp = pd.read_csv('/home/yelhe/script/mt/output/pred_pseudo_label.csv')"
   ]
  },
  {
   "cell_type": "code",
   "execution_count": 11,
   "id": "684f0678-f73a-4836-baba-5e0d0205ed6a",
   "metadata": {
    "execution": {
     "iopub.execute_input": "2024-03-10T14:10:36.082142Z",
     "iopub.status.busy": "2024-03-10T14:10:36.081919Z",
     "iopub.status.idle": "2024-03-10T14:10:36.090619Z",
     "shell.execute_reply": "2024-03-10T14:10:36.089313Z",
     "shell.execute_reply.started": "2024-03-10T14:10:36.082122Z"
    }
   },
   "outputs": [],
   "source": [
    "nla = pd.read_csv('/home/yelhe/script/mt/output/n_accident.txt', header=None)"
   ]
  },
  {
   "cell_type": "code",
   "execution_count": 12,
   "id": "478619aa-684b-45ce-b943-3cd1abda4fea",
   "metadata": {
    "execution": {
     "iopub.execute_input": "2024-03-10T14:10:36.091819Z",
     "iopub.status.busy": "2024-03-10T14:10:36.091579Z",
     "iopub.status.idle": "2024-03-10T14:10:36.099110Z",
     "shell.execute_reply": "2024-03-10T14:10:36.097613Z",
     "shell.execute_reply.started": "2024-03-10T14:10:36.091797Z"
    }
   },
   "outputs": [],
   "source": [
    "nla.rename(columns = {0:'Nr'}, inplace = True)\n",
    "nla['Nr'] = nla['Nr'].values.astype(str)\n",
    "nla['id'] = nla['Nr'].str[-15:-1]\n",
    "nla['dir'] = nla['Nr'].str[-1]"
   ]
  },
  {
   "cell_type": "code",
   "execution_count": 13,
   "id": "b969a475-d345-45f9-9c46-9d2952262e0b",
   "metadata": {
    "execution": {
     "iopub.execute_input": "2024-03-10T14:10:36.100222Z",
     "iopub.status.busy": "2024-03-10T14:10:36.099988Z",
     "iopub.status.idle": "2024-03-10T14:10:36.107011Z",
     "shell.execute_reply": "2024-03-10T14:10:36.106361Z",
     "shell.execute_reply.started": "2024-03-10T14:10:36.100201Z"
    }
   },
   "outputs": [],
   "source": [
    "nla1 = nla[['id', 'dir']]"
   ]
  },
  {
   "cell_type": "code",
   "execution_count": 14,
   "id": "771ab0ef-63df-4c88-9a36-7773b1c0a08a",
   "metadata": {
    "execution": {
     "iopub.execute_input": "2024-03-10T14:10:36.107992Z",
     "iopub.status.busy": "2024-03-10T14:10:36.107755Z",
     "iopub.status.idle": "2024-03-10T14:10:36.115470Z",
     "shell.execute_reply": "2024-03-10T14:10:36.114868Z",
     "shell.execute_reply.started": "2024-03-10T14:10:36.107971Z"
    }
   },
   "outputs": [],
   "source": [
    "nla2 = nla1\n",
    "nla3 = nla1\n",
    "nla4 = nla1\n",
    "nla2 = nla2.assign(dir = '2')\n",
    "nla3 = nla3.assign(dir = '3')\n",
    "nla4 = nla4.assign(dir = '4')"
   ]
  },
  {
   "cell_type": "code",
   "execution_count": 15,
   "id": "dd36efb9-80a3-43d2-a023-8f178650e7cd",
   "metadata": {
    "execution": {
     "iopub.execute_input": "2024-03-10T14:10:36.116506Z",
     "iopub.status.busy": "2024-03-10T14:10:36.116229Z",
     "iopub.status.idle": "2024-03-10T14:10:36.125000Z",
     "shell.execute_reply": "2024-03-10T14:10:36.124052Z",
     "shell.execute_reply.started": "2024-03-10T14:10:36.116486Z"
    }
   },
   "outputs": [],
   "source": [
    "nlas = pd.concat([nla1, nla2, nla3, nla4])"
   ]
  },
  {
   "cell_type": "code",
   "execution_count": 16,
   "id": "145bec14-aed9-48f2-ae08-ca94313f7899",
   "metadata": {
    "execution": {
     "iopub.execute_input": "2024-03-10T14:10:36.126031Z",
     "iopub.status.busy": "2024-03-10T14:10:36.125837Z",
     "iopub.status.idle": "2024-03-10T14:10:36.132702Z",
     "shell.execute_reply": "2024-03-10T14:10:36.132122Z",
     "shell.execute_reply.started": "2024-03-10T14:10:36.126013Z"
    }
   },
   "outputs": [],
   "source": [
    "nlas['Nr'] = nlas['id'] + nlas['dir']"
   ]
  },
  {
   "cell_type": "code",
   "execution_count": 17,
   "id": "ac05d66b-5a2f-4cd7-bbf7-6e7018f6cb5a",
   "metadata": {
    "execution": {
     "iopub.execute_input": "2024-03-10T14:10:36.133698Z",
     "iopub.status.busy": "2024-03-10T14:10:36.133500Z",
     "iopub.status.idle": "2024-03-10T14:10:36.141903Z",
     "shell.execute_reply": "2024-03-10T14:10:36.141044Z",
     "shell.execute_reply.started": "2024-03-10T14:10:36.133680Z"
    }
   },
   "outputs": [],
   "source": [
    "nlas0 = nlas\n",
    "nlas1 = nlas\n",
    "nlas2 = nlas\n",
    "nlas3 = nlas\n",
    "nlas0 = nlas0.assign(p = '0')\n",
    "nlas1 = nlas1.assign(p = '1')\n",
    "nlas2 = nlas2.assign(p = '2')\n",
    "nlas3 = nlas3.assign(p = '3')"
   ]
  },
  {
   "cell_type": "code",
   "execution_count": 18,
   "id": "13740f76-40d9-44c1-8192-de3c7744604c",
   "metadata": {
    "execution": {
     "iopub.execute_input": "2024-03-10T14:10:36.142829Z",
     "iopub.status.busy": "2024-03-10T14:10:36.142560Z",
     "iopub.status.idle": "2024-03-10T14:10:36.148949Z",
     "shell.execute_reply": "2024-03-10T14:10:36.148356Z",
     "shell.execute_reply.started": "2024-03-10T14:10:36.142810Z"
    }
   },
   "outputs": [],
   "source": [
    "nlass = pd.concat([nlas0, nlas1, nlas2, nlas3])"
   ]
  },
  {
   "cell_type": "code",
   "execution_count": 19,
   "id": "064bc139-b35a-4842-9d29-54e878ca9aa1",
   "metadata": {
    "execution": {
     "iopub.execute_input": "2024-03-10T14:10:36.150126Z",
     "iopub.status.busy": "2024-03-10T14:10:36.149789Z",
     "iopub.status.idle": "2024-03-10T14:10:36.173293Z",
     "shell.execute_reply": "2024-03-10T14:10:36.172784Z",
     "shell.execute_reply.started": "2024-03-10T14:10:36.150106Z"
    }
   },
   "outputs": [
    {
     "data": {
      "text/html": [
       "<div>\n",
       "<style scoped>\n",
       "    .dataframe tbody tr th:only-of-type {\n",
       "        vertical-align: middle;\n",
       "    }\n",
       "\n",
       "    .dataframe tbody tr th {\n",
       "        vertical-align: top;\n",
       "    }\n",
       "\n",
       "    .dataframe thead th {\n",
       "        text-align: right;\n",
       "    }\n",
       "</style>\n",
       "<table border=\"1\" class=\"dataframe\">\n",
       "  <thead>\n",
       "    <tr style=\"text-align: right;\">\n",
       "      <th></th>\n",
       "      <th>id</th>\n",
       "      <th>dir</th>\n",
       "      <th>Nr</th>\n",
       "      <th>p</th>\n",
       "    </tr>\n",
       "  </thead>\n",
       "  <tbody>\n",
       "    <tr>\n",
       "      <th>0</th>\n",
       "      <td>99900060852597</td>\n",
       "      <td>1</td>\n",
       "      <td>999000608525971</td>\n",
       "      <td>0</td>\n",
       "    </tr>\n",
       "    <tr>\n",
       "      <th>1</th>\n",
       "      <td>99900063018611</td>\n",
       "      <td>1</td>\n",
       "      <td>999000630186111</td>\n",
       "      <td>0</td>\n",
       "    </tr>\n",
       "    <tr>\n",
       "      <th>2</th>\n",
       "      <td>99900052723510</td>\n",
       "      <td>1</td>\n",
       "      <td>999000527235101</td>\n",
       "      <td>0</td>\n",
       "    </tr>\n",
       "    <tr>\n",
       "      <th>3</th>\n",
       "      <td>99900061514043</td>\n",
       "      <td>1</td>\n",
       "      <td>999000615140431</td>\n",
       "      <td>0</td>\n",
       "    </tr>\n",
       "    <tr>\n",
       "      <th>4</th>\n",
       "      <td>99900063037843</td>\n",
       "      <td>1</td>\n",
       "      <td>999000630378431</td>\n",
       "      <td>0</td>\n",
       "    </tr>\n",
       "    <tr>\n",
       "      <th>...</th>\n",
       "      <td>...</td>\n",
       "      <td>...</td>\n",
       "      <td>...</td>\n",
       "      <td>...</td>\n",
       "    </tr>\n",
       "    <tr>\n",
       "      <th>290</th>\n",
       "      <td>99900056387598</td>\n",
       "      <td>4</td>\n",
       "      <td>999000563875984</td>\n",
       "      <td>3</td>\n",
       "    </tr>\n",
       "    <tr>\n",
       "      <th>291</th>\n",
       "      <td>99900055999694</td>\n",
       "      <td>4</td>\n",
       "      <td>999000559996944</td>\n",
       "      <td>3</td>\n",
       "    </tr>\n",
       "    <tr>\n",
       "      <th>292</th>\n",
       "      <td>99900055905276</td>\n",
       "      <td>4</td>\n",
       "      <td>999000559052764</td>\n",
       "      <td>3</td>\n",
       "    </tr>\n",
       "    <tr>\n",
       "      <th>293</th>\n",
       "      <td>99900060670975</td>\n",
       "      <td>4</td>\n",
       "      <td>999000606709754</td>\n",
       "      <td>3</td>\n",
       "    </tr>\n",
       "    <tr>\n",
       "      <th>294</th>\n",
       "      <td>99900050714619</td>\n",
       "      <td>4</td>\n",
       "      <td>999000507146194</td>\n",
       "      <td>3</td>\n",
       "    </tr>\n",
       "  </tbody>\n",
       "</table>\n",
       "<p>4720 rows × 4 columns</p>\n",
       "</div>"
      ],
      "text/plain": [
       "                 id dir               Nr  p\n",
       "0    99900060852597   1  999000608525971  0\n",
       "1    99900063018611   1  999000630186111  0\n",
       "2    99900052723510   1  999000527235101  0\n",
       "3    99900061514043   1  999000615140431  0\n",
       "4    99900063037843   1  999000630378431  0\n",
       "..              ...  ..              ... ..\n",
       "290  99900056387598   4  999000563875984  3\n",
       "291  99900055999694   4  999000559996944  3\n",
       "292  99900055905276   4  999000559052764  3\n",
       "293  99900060670975   4  999000606709754  3\n",
       "294  99900050714619   4  999000507146194  3\n",
       "\n",
       "[4720 rows x 4 columns]"
      ]
     },
     "execution_count": 19,
     "metadata": {},
     "output_type": "execute_result"
    }
   ],
   "source": [
    "nlass"
   ]
  },
  {
   "cell_type": "code",
   "execution_count": 21,
   "id": "2f11c5e7-0b40-4e45-a22e-504edf5bc727",
   "metadata": {
    "execution": {
     "iopub.execute_input": "2024-03-10T14:10:48.391152Z",
     "iopub.status.busy": "2024-03-10T14:10:48.390780Z",
     "iopub.status.idle": "2024-03-10T14:10:48.395304Z",
     "shell.execute_reply": "2024-03-10T14:10:48.394653Z",
     "shell.execute_reply.started": "2024-03-10T14:10:48.391131Z"
    }
   },
   "outputs": [],
   "source": [
    "preda = preda[['Nr', 'p']]"
   ]
  },
  {
   "cell_type": "code",
   "execution_count": 22,
   "id": "87dbd9f2-76b3-4513-9d5d-a4d7cf8abe61",
   "metadata": {
    "execution": {
     "iopub.execute_input": "2024-03-10T14:10:48.842224Z",
     "iopub.status.busy": "2024-03-10T14:10:48.841986Z",
     "iopub.status.idle": "2024-03-10T14:10:48.867687Z",
     "shell.execute_reply": "2024-03-10T14:10:48.865388Z",
     "shell.execute_reply.started": "2024-03-10T14:10:48.842208Z"
    }
   },
   "outputs": [],
   "source": [
    "preda = preda.groupby(['Nr', 'p']).size().reset_index().rename(columns={0:'count'})\n"
   ]
  },
  {
   "cell_type": "code",
   "execution_count": 23,
   "id": "36a02ba2-626a-4c4e-b5c6-ab0bc0d9be36",
   "metadata": {
    "execution": {
     "iopub.execute_input": "2024-03-10T14:10:50.716675Z",
     "iopub.status.busy": "2024-03-10T14:10:50.716372Z",
     "iopub.status.idle": "2024-03-10T14:10:50.723071Z",
     "shell.execute_reply": "2024-03-10T14:10:50.722161Z",
     "shell.execute_reply.started": "2024-03-10T14:10:50.716652Z"
    }
   },
   "outputs": [],
   "source": [
    "preda['p'] = preda['p'].values.astype(str)"
   ]
  },
  {
   "cell_type": "code",
   "execution_count": 24,
   "id": "423c93bc-3b52-4e89-8a28-3b0c7a24db45",
   "metadata": {
    "execution": {
     "iopub.execute_input": "2024-03-10T14:10:50.901060Z",
     "iopub.status.busy": "2024-03-10T14:10:50.900833Z",
     "iopub.status.idle": "2024-03-10T14:10:50.911421Z",
     "shell.execute_reply": "2024-03-10T14:10:50.910764Z",
     "shell.execute_reply.started": "2024-03-10T14:10:50.901045Z"
    }
   },
   "outputs": [],
   "source": [
    "preda['Nr'] = preda['Nr'].values.astype(str)\n",
    "preda['id'] = preda['Nr'].str[-15:-1]\n",
    "preda['dir'] = preda['Nr'].str[-1]"
   ]
  },
  {
   "cell_type": "code",
   "execution_count": 25,
   "id": "4480e816-cd9f-483d-a0d1-e536d69e9410",
   "metadata": {
    "execution": {
     "iopub.execute_input": "2024-03-10T14:10:51.276876Z",
     "iopub.status.busy": "2024-03-10T14:10:51.276623Z",
     "iopub.status.idle": "2024-03-10T14:10:51.286171Z",
     "shell.execute_reply": "2024-03-10T14:10:51.285597Z",
     "shell.execute_reply.started": "2024-03-10T14:10:51.276860Z"
    }
   },
   "outputs": [],
   "source": [
    "pa = nlass.merge(preda, how = 'left', on = ['id', 'Nr', 'dir', 'p'])"
   ]
  },
  {
   "cell_type": "code",
   "execution_count": 26,
   "id": "a54168a7-96bb-471b-a591-d891a884d8a8",
   "metadata": {
    "execution": {
     "iopub.execute_input": "2024-03-10T14:10:51.490457Z",
     "iopub.status.busy": "2024-03-10T14:10:51.490116Z",
     "iopub.status.idle": "2024-03-10T14:10:51.498215Z",
     "shell.execute_reply": "2024-03-10T14:10:51.497627Z",
     "shell.execute_reply.started": "2024-03-10T14:10:51.490437Z"
    }
   },
   "outputs": [],
   "source": [
    "pa = pa.sort_values(by = ['id', 'dir', 'p'], ignore_index = True)"
   ]
  },
  {
   "cell_type": "code",
   "execution_count": 27,
   "id": "4210302b-6608-4b01-8562-3051ed38a935",
   "metadata": {
    "execution": {
     "iopub.execute_input": "2024-03-10T14:10:51.992877Z",
     "iopub.status.busy": "2024-03-10T14:10:51.992384Z",
     "iopub.status.idle": "2024-03-10T14:10:51.997860Z",
     "shell.execute_reply": "2024-03-10T14:10:51.997234Z",
     "shell.execute_reply.started": "2024-03-10T14:10:51.992855Z"
    }
   },
   "outputs": [],
   "source": [
    "pa = pa.fillna(0)"
   ]
  },
  {
   "cell_type": "code",
   "execution_count": 28,
   "id": "4c412905-9634-43dd-93c5-47672e9addc9",
   "metadata": {
    "execution": {
     "iopub.execute_input": "2024-03-10T14:10:53.602539Z",
     "iopub.status.busy": "2024-03-10T14:10:53.602255Z",
     "iopub.status.idle": "2024-03-10T14:10:53.606755Z",
     "shell.execute_reply": "2024-03-10T14:10:53.606172Z",
     "shell.execute_reply.started": "2024-03-10T14:10:53.602519Z"
    }
   },
   "outputs": [],
   "source": [
    "# pa.to_csv('/home/yelhe/script/mt/output/predlabel_accident_count.csv', index = False)"
   ]
  },
  {
   "cell_type": "code",
   "execution_count": 29,
   "id": "9b8a6e16-719c-4f21-9d2c-5f57ae5d5ed5",
   "metadata": {
    "execution": {
     "iopub.execute_input": "2024-03-10T14:10:56.581391Z",
     "iopub.status.busy": "2024-03-10T14:10:56.581140Z",
     "iopub.status.idle": "2024-03-10T14:10:56.590471Z",
     "shell.execute_reply": "2024-03-10T14:10:56.589756Z",
     "shell.execute_reply.started": "2024-03-10T14:10:56.581374Z"
    }
   },
   "outputs": [
    {
     "name": "stdout",
     "output_type": "stream",
     "text": [
      "<class 'pandas.core.frame.DataFrame'>\n",
      "RangeIndex: 4720 entries, 0 to 4719\n",
      "Data columns (total 5 columns):\n",
      " #   Column  Non-Null Count  Dtype  \n",
      "---  ------  --------------  -----  \n",
      " 0   id      4720 non-null   object \n",
      " 1   dir     4720 non-null   object \n",
      " 2   Nr      4720 non-null   object \n",
      " 3   p       4720 non-null   object \n",
      " 4   count   4720 non-null   float64\n",
      "dtypes: float64(1), object(4)\n",
      "memory usage: 184.5+ KB\n"
     ]
    }
   ],
   "source": [
    "pa.info()"
   ]
  },
  {
   "cell_type": "code",
   "execution_count": 30,
   "id": "bf911986-a816-4a2c-b043-85e729fd5f5e",
   "metadata": {
    "execution": {
     "iopub.execute_input": "2024-03-10T14:10:59.158636Z",
     "iopub.status.busy": "2024-03-10T14:10:59.158268Z",
     "iopub.status.idle": "2024-03-10T14:10:59.163235Z",
     "shell.execute_reply": "2024-03-10T14:10:59.162437Z",
     "shell.execute_reply.started": "2024-03-10T14:10:59.158614Z"
    }
   },
   "outputs": [],
   "source": [
    "pac = pa.loc[pa['p'] == '0']"
   ]
  },
  {
   "cell_type": "code",
   "execution_count": 31,
   "id": "fc40ae90-15fd-4e3f-94fc-33144eb9e021",
   "metadata": {
    "execution": {
     "iopub.execute_input": "2024-03-10T14:10:59.437087Z",
     "iopub.status.busy": "2024-03-10T14:10:59.436590Z",
     "iopub.status.idle": "2024-03-10T14:10:59.442682Z",
     "shell.execute_reply": "2024-03-10T14:10:59.442130Z",
     "shell.execute_reply.started": "2024-03-10T14:10:59.437065Z"
    }
   },
   "outputs": [],
   "source": [
    "pacc = pac.groupby(['id'])['count'].sum().reset_index().rename(columns = {'count':'sum'})"
   ]
  },
  {
   "cell_type": "code",
   "execution_count": 32,
   "id": "9344cbf6-2b38-4fd3-a864-67e35e1be100",
   "metadata": {
    "execution": {
     "iopub.execute_input": "2024-03-10T14:11:00.304982Z",
     "iopub.status.busy": "2024-03-10T14:11:00.304684Z",
     "iopub.status.idle": "2024-03-10T14:11:00.307718Z",
     "shell.execute_reply": "2024-03-10T14:11:00.306902Z",
     "shell.execute_reply.started": "2024-03-10T14:11:00.304966Z"
    }
   },
   "outputs": [],
   "source": [
    "# pacc.to_csv('/home/yelhe/script/mt/output/predcurb_accident_count_sum.csv', index = False)"
   ]
  },
  {
   "cell_type": "code",
   "execution_count": 33,
   "id": "1f58c834-8813-4fb8-b18a-0663fa3e747e",
   "metadata": {
    "execution": {
     "iopub.execute_input": "2024-03-10T14:11:00.945247Z",
     "iopub.status.busy": "2024-03-10T14:11:00.944261Z",
     "iopub.status.idle": "2024-03-10T14:11:01.167175Z",
     "shell.execute_reply": "2024-03-10T14:11:01.166607Z",
     "shell.execute_reply.started": "2024-03-10T14:11:00.945229Z"
    },
    "scrolled": true
   },
   "outputs": [
    {
     "data": {
      "text/plain": [
       "(array([145.,  86.,  34.,  16.,   7.,   2.,   1.,   2.,   1.,   1.]),\n",
       " array([ 0.,  1.,  2.,  3.,  4.,  5.,  6.,  7.,  8.,  9., 10.]),\n",
       " <BarContainer object of 10 artists>)"
      ]
     },
     "execution_count": 33,
     "metadata": {},
     "output_type": "execute_result"
    },
    {
     "data": {
      "image/png": "[encoded data removed]",
      "text/plain": [
       "<Figure size 640x480 with 1 Axes>"
      ]
     },
     "metadata": {},
     "output_type": "display_data"
    }
   ],
   "source": [
    "plt.hist(pacc['sum'])"
   ]
  },
  {
   "cell_type": "code",
   "execution_count": 34,
   "id": "fdb63e97-5bbe-4b1f-980c-db1d6cb30527",
   "metadata": {
    "execution": {
     "iopub.execute_input": "2024-03-10T14:11:03.396910Z",
     "iopub.status.busy": "2024-03-10T14:11:03.396499Z",
     "iopub.status.idle": "2024-03-10T14:11:03.565118Z",
     "shell.execute_reply": "2024-03-10T14:11:03.564547Z",
     "shell.execute_reply.started": "2024-03-10T14:11:03.396886Z"
    },
    "scrolled": true
   },
   "outputs": [
    {
     "data": {
      "text/plain": [
       "(array([963.,   0., 168.,   0.,  40.,   0.,   7.,   0.,   1.,   1.]),\n",
       " array([0. , 0.5, 1. , 1.5, 2. , 2.5, 3. , 3.5, 4. , 4.5, 5. ]),\n",
       " <BarContainer object of 10 artists>)"
      ]
     },
     "execution_count": 34,
     "metadata": {},
     "output_type": "execute_result"
    },
    {
     "data": {
      "image/png": "[encoded data removed]",
      "text/plain": [
       "<Figure size 640x480 with 1 Axes>"
      ]
     },
     "metadata": {},
     "output_type": "display_data"
    }
   ],
   "source": [
    "plt.hist(pac['count'])"
   ]
  },
  {
   "cell_type": "code",
   "execution_count": 35,
   "id": "4583becc-0f18-486a-9ab9-7d17d1e1e308",
   "metadata": {
    "execution": {
     "iopub.execute_input": "2024-03-10T14:11:19.070758Z",
     "iopub.status.busy": "2024-03-10T14:11:19.070322Z",
     "iopub.status.idle": "2024-03-10T14:11:19.077780Z",
     "shell.execute_reply": "2024-03-10T14:11:19.077081Z",
     "shell.execute_reply.started": "2024-03-10T14:11:19.070732Z"
    }
   },
   "outputs": [],
   "source": [
    "# Consider four directions in each location\n",
    "paccd = pac.groupby(['id', 'dir'])['count'].sum().reset_index()"
   ]
  },
  {
   "cell_type": "code",
   "execution_count": 37,
   "id": "a98deb97-a63c-4bb3-9595-09bd838a544d",
   "metadata": {
    "execution": {
     "iopub.execute_input": "2024-03-10T14:11:26.909783Z",
     "iopub.status.busy": "2024-03-10T14:11:26.909510Z",
     "iopub.status.idle": "2024-03-10T14:11:26.916097Z",
     "shell.execute_reply": "2024-03-10T14:11:26.915024Z",
     "shell.execute_reply.started": "2024-03-10T14:11:26.909763Z"
    }
   },
   "outputs": [],
   "source": [
    "pacm = paccd.groupby('id', as_index = True)[['count']].mean()\n",
    "pacm.rename(columns ={'count':'cmean'}, inplace = True)\n",
    "pacm = pacm.reset_index()"
   ]
  },
  {
   "cell_type": "code",
   "execution_count": 38,
   "id": "578d5ef5-c70b-4712-be04-d085f766e33a",
   "metadata": {
    "execution": {
     "iopub.execute_input": "2024-03-10T14:11:27.238292Z",
     "iopub.status.busy": "2024-03-10T14:11:27.238044Z",
     "iopub.status.idle": "2024-03-10T14:11:27.244677Z",
     "shell.execute_reply": "2024-03-10T14:11:27.244006Z",
     "shell.execute_reply.started": "2024-03-10T14:11:27.238275Z"
    }
   },
   "outputs": [],
   "source": [
    "pacmin = paccd.groupby('id', as_index = True)[['count']].min()\n",
    "pacmin.rename(columns = {'count':'cmin'}, inplace = True)\n",
    "pacmin = pacmin.reset_index()"
   ]
  },
  {
   "cell_type": "code",
   "execution_count": 39,
   "id": "da28eb4e-9d25-4cb5-a0f3-335cb0de71b1",
   "metadata": {
    "execution": {
     "iopub.execute_input": "2024-03-10T14:11:27.620661Z",
     "iopub.status.busy": "2024-03-10T14:11:27.620434Z",
     "iopub.status.idle": "2024-03-10T14:11:27.626911Z",
     "shell.execute_reply": "2024-03-10T14:11:27.625785Z",
     "shell.execute_reply.started": "2024-03-10T14:11:27.620646Z"
    }
   },
   "outputs": [],
   "source": [
    "pacmax = paccd.groupby('id', as_index = True)[['count']].max()\n",
    "pacmax.rename(columns = {'count':'cmax'}, inplace = True)\n",
    "pacmax = pacmax.reset_index()"
   ]
  },
  {
   "cell_type": "code",
   "execution_count": 40,
   "id": "5f61788f-155a-48d7-9abf-7371b808f3d5",
   "metadata": {
    "execution": {
     "iopub.execute_input": "2024-03-10T14:11:27.961071Z",
     "iopub.status.busy": "2024-03-10T14:11:27.960684Z",
     "iopub.status.idle": "2024-03-10T14:11:27.970083Z",
     "shell.execute_reply": "2024-03-10T14:11:27.969491Z",
     "shell.execute_reply.started": "2024-03-10T14:11:27.961050Z"
    }
   },
   "outputs": [],
   "source": [
    "pac1 = pd.merge(pacm, pacmin, on = ['id'])\n",
    "pac2 = pd.merge(pacc, pacmax, on = ['id'])\n",
    "pac_all = pd.merge(pac1, pac2, on = ['id'])"
   ]
  },
  {
   "cell_type": "code",
   "execution_count": 42,
   "id": "643b17e3-439e-4b17-b632-9fdf6922c434",
   "metadata": {
    "execution": {
     "iopub.execute_input": "2024-03-10T14:11:33.716453Z",
     "iopub.status.busy": "2024-03-10T14:11:33.716119Z",
     "iopub.status.idle": "2024-03-10T14:11:33.720333Z",
     "shell.execute_reply": "2024-03-10T14:11:33.719252Z",
     "shell.execute_reply.started": "2024-03-10T14:11:33.716431Z"
    }
   },
   "outputs": [],
   "source": [
    "pac_all.rename(columns = {'sum': 'csum'}, inplace = True)\n",
    "# pac_all.to_csv('/home/yelhe/script/mt/output/accident_predictedcurball.csv', index = False)"
   ]
  },
  {
   "cell_type": "markdown",
   "id": "908e7b10-65c2-41a7-9c32-ab9b5dc5f45b",
   "metadata": {},
   "source": [
    "#### For pseudo"
   ]
  },
  {
   "cell_type": "code",
   "execution_count": 43,
   "id": "db70cf5d-49ee-4ded-a94d-1f56e70ac53e",
   "metadata": {
    "execution": {
     "iopub.execute_input": "2024-03-10T14:11:34.650679Z",
     "iopub.status.busy": "2024-03-10T14:11:34.650430Z",
     "iopub.status.idle": "2024-03-10T14:11:34.654994Z",
     "shell.execute_reply": "2024-03-10T14:11:34.654180Z",
     "shell.execute_reply.started": "2024-03-10T14:11:34.650663Z"
    }
   },
   "outputs": [],
   "source": [
    "predp = predp[['Nr', 'p']]"
   ]
  },
  {
   "cell_type": "code",
   "execution_count": 44,
   "id": "128f403e-b631-406d-8dfa-b490ec261e52",
   "metadata": {
    "execution": {
     "iopub.execute_input": "2024-03-10T14:11:35.054668Z",
     "iopub.status.busy": "2024-03-10T14:11:35.054236Z",
     "iopub.status.idle": "2024-03-10T14:11:35.061541Z",
     "shell.execute_reply": "2024-03-10T14:11:35.060976Z",
     "shell.execute_reply.started": "2024-03-10T14:11:35.054645Z"
    }
   },
   "outputs": [],
   "source": [
    "nlp = pd.read_csv('/home/yelhe/script/mt/output/n_pseudo.txt', header = None)"
   ]
  },
  {
   "cell_type": "code",
   "execution_count": 45,
   "id": "b0738de0-d268-4b7e-bf15-4c03e84ad4c0",
   "metadata": {
    "execution": {
     "iopub.execute_input": "2024-03-10T14:11:35.522630Z",
     "iopub.status.busy": "2024-03-10T14:11:35.522406Z",
     "iopub.status.idle": "2024-03-10T14:11:35.530061Z",
     "shell.execute_reply": "2024-03-10T14:11:35.529440Z",
     "shell.execute_reply.started": "2024-03-10T14:11:35.522616Z"
    }
   },
   "outputs": [],
   "source": [
    "nlp.rename(columns = {0:'Nr'}, inplace = True)\n",
    "nlp['Nr'] = nlp['Nr'].values.astype(str)\n",
    "nlp['Nr'] = nlp['Nr'].str.zfill(5)\n",
    "nlp['id'] = nlp['Nr'].str[-5:-1]\n",
    "nlp['dir'] = nlp['Nr'].str[-1]"
   ]
  },
  {
   "cell_type": "code",
   "execution_count": 46,
   "id": "02390ec1-232d-4b1f-8f00-907cfa3781d5",
   "metadata": {
    "execution": {
     "iopub.execute_input": "2024-03-10T14:11:36.039121Z",
     "iopub.status.busy": "2024-03-10T14:11:36.038634Z",
     "iopub.status.idle": "2024-03-10T14:11:36.044430Z",
     "shell.execute_reply": "2024-03-10T14:11:36.043579Z",
     "shell.execute_reply.started": "2024-03-10T14:11:36.039099Z"
    }
   },
   "outputs": [],
   "source": [
    "nlp1 = nlp[['id','dir']]\n",
    "nlp2= nlp1\n",
    "nlp3= nlp1\n",
    "nlp4= nlp1\n",
    "nlp2 = nlp2.assign(dir = '2')\n",
    "nlp3 = nlp3.assign(dir = '3')\n",
    "nlp4 = nlp4.assign(dir = '4')"
   ]
  },
  {
   "cell_type": "code",
   "execution_count": 47,
   "id": "d17a63e5-13a1-4d1e-a74a-7b163c62adc3",
   "metadata": {
    "execution": {
     "iopub.execute_input": "2024-03-10T14:11:36.499170Z",
     "iopub.status.busy": "2024-03-10T14:11:36.498930Z",
     "iopub.status.idle": "2024-03-10T14:11:36.502708Z",
     "shell.execute_reply": "2024-03-10T14:11:36.501914Z",
     "shell.execute_reply.started": "2024-03-10T14:11:36.499155Z"
    }
   },
   "outputs": [],
   "source": [
    "nlps = pd.concat([nlp1, nlp2, nlp3, nlp4])"
   ]
  },
  {
   "cell_type": "code",
   "execution_count": 48,
   "id": "6cf3cf9f-82d5-4764-b28e-191385e7d92a",
   "metadata": {
    "execution": {
     "iopub.execute_input": "2024-03-10T14:11:36.983480Z",
     "iopub.status.busy": "2024-03-10T14:11:36.983047Z",
     "iopub.status.idle": "2024-03-10T14:11:36.987463Z",
     "shell.execute_reply": "2024-03-10T14:11:36.986862Z",
     "shell.execute_reply.started": "2024-03-10T14:11:36.983460Z"
    }
   },
   "outputs": [],
   "source": [
    "nlps['Nr'] = nlps['id'] + nlps['dir']"
   ]
  },
  {
   "cell_type": "code",
   "execution_count": 49,
   "id": "fca13e7f-e2d1-42c0-be8e-24462b742e46",
   "metadata": {
    "execution": {
     "iopub.execute_input": "2024-03-10T14:11:37.613469Z",
     "iopub.status.busy": "2024-03-10T14:11:37.613247Z",
     "iopub.status.idle": "2024-03-10T14:11:37.620388Z",
     "shell.execute_reply": "2024-03-10T14:11:37.619749Z",
     "shell.execute_reply.started": "2024-03-10T14:11:37.613455Z"
    }
   },
   "outputs": [],
   "source": [
    "nlps0 = nlps\n",
    "nlps1 = nlps\n",
    "nlps2 = nlps\n",
    "nlps3 = nlps\n",
    "nlps0 = nlps0.assign(p = '0')\n",
    "nlps1 = nlps1.assign(p = '1')\n",
    "nlps2 = nlps2.assign(p = '2')\n",
    "nlps3 = nlps3.assign(p = '3')\n",
    "nlpss = pd.concat([nlps0, nlps1, nlps2, nlps3])"
   ]
  },
  {
   "cell_type": "code",
   "execution_count": 50,
   "id": "d00d9ca9-4400-4aaa-9e7a-6b0bcbffa9d0",
   "metadata": {
    "execution": {
     "iopub.execute_input": "2024-03-10T14:11:38.539340Z",
     "iopub.status.busy": "2024-03-10T14:11:38.539061Z",
     "iopub.status.idle": "2024-03-10T14:11:38.564007Z",
     "shell.execute_reply": "2024-03-10T14:11:38.563482Z",
     "shell.execute_reply.started": "2024-03-10T14:11:38.539320Z"
    }
   },
   "outputs": [],
   "source": [
    "predp = predp.groupby(['Nr','p']).size().reset_index().rename(columns={0:'count'})\n",
    "predp['p'] = predp['p'].values.astype(str)\n",
    "predp['Nr'] = predp['Nr'].values.astype(str)\n",
    "predp['Nr'] = predp['Nr'].str.zfill(5)\n",
    "predp['id'] = predp['Nr'].str[-5:-1]\n",
    "predp['dir'] = predp['Nr'].str[-1]"
   ]
  },
  {
   "cell_type": "code",
   "execution_count": 51,
   "id": "aace6a0a-7af9-4860-8a79-986dcd7454bb",
   "metadata": {
    "execution": {
     "iopub.execute_input": "2024-03-10T14:11:39.391075Z",
     "iopub.status.busy": "2024-03-10T14:11:39.390594Z",
     "iopub.status.idle": "2024-03-10T14:11:39.406445Z",
     "shell.execute_reply": "2024-03-10T14:11:39.405034Z",
     "shell.execute_reply.started": "2024-03-10T14:11:39.391046Z"
    }
   },
   "outputs": [],
   "source": [
    "pp = nlpss.merge(predp, how = 'left', on = ['id', 'Nr', 'dir', 'p'])"
   ]
  },
  {
   "cell_type": "code",
   "execution_count": 52,
   "id": "6f69831d-3b66-4e12-8d9d-f4c370b23914",
   "metadata": {
    "execution": {
     "iopub.execute_input": "2024-03-10T14:11:40.176820Z",
     "iopub.status.busy": "2024-03-10T14:11:40.176570Z",
     "iopub.status.idle": "2024-03-10T14:11:40.188585Z",
     "shell.execute_reply": "2024-03-10T14:11:40.187513Z",
     "shell.execute_reply.started": "2024-03-10T14:11:40.176804Z"
    }
   },
   "outputs": [],
   "source": [
    "pp = pp.sort_values(by = ['id', 'dir', 'p'], ignore_index = True)\n",
    "pp = pp.fillna(0)"
   ]
  },
  {
   "cell_type": "code",
   "execution_count": 215,
   "id": "daf4816d-c61e-4b0f-85d3-83c36555888a",
   "metadata": {
    "execution": {
     "iopub.execute_input": "2024-03-08T16:38:42.666918Z",
     "iopub.status.busy": "2024-03-08T16:38:42.666625Z",
     "iopub.status.idle": "2024-03-08T16:38:42.690414Z",
     "shell.execute_reply": "2024-03-08T16:38:42.689819Z",
     "shell.execute_reply.started": "2024-03-08T16:38:42.666898Z"
    }
   },
   "outputs": [],
   "source": [
    "# pp.to_csv('/home/yelhe/script/mt/output/predlabel_pseudo_count.csv', index = False)"
   ]
  },
  {
   "cell_type": "code",
   "execution_count": 53,
   "id": "d4eba4e6-b433-47dc-9d37-e1e3cdd88880",
   "metadata": {
    "execution": {
     "iopub.execute_input": "2024-03-10T14:11:44.836352Z",
     "iopub.status.busy": "2024-03-10T14:11:44.836110Z",
     "iopub.status.idle": "2024-03-10T14:11:44.847189Z",
     "shell.execute_reply": "2024-03-10T14:11:44.846552Z",
     "shell.execute_reply.started": "2024-03-10T14:11:44.836333Z"
    }
   },
   "outputs": [
    {
     "name": "stdout",
     "output_type": "stream",
     "text": [
      "<class 'pandas.core.frame.DataFrame'>\n",
      "RangeIndex: 12672 entries, 0 to 12671\n",
      "Data columns (total 5 columns):\n",
      " #   Column  Non-Null Count  Dtype  \n",
      "---  ------  --------------  -----  \n",
      " 0   id      12672 non-null  object \n",
      " 1   dir     12672 non-null  object \n",
      " 2   Nr      12672 non-null  object \n",
      " 3   p       12672 non-null  object \n",
      " 4   count   12672 non-null  float64\n",
      "dtypes: float64(1), object(4)\n",
      "memory usage: 495.1+ KB\n"
     ]
    }
   ],
   "source": [
    "pp.info()"
   ]
  },
  {
   "cell_type": "code",
   "execution_count": 54,
   "id": "ffdccaeb-8367-4493-bbb9-efceb62ee844",
   "metadata": {
    "execution": {
     "iopub.execute_input": "2024-03-10T14:11:48.355667Z",
     "iopub.status.busy": "2024-03-10T14:11:48.355421Z",
     "iopub.status.idle": "2024-03-10T14:11:48.360733Z",
     "shell.execute_reply": "2024-03-10T14:11:48.360198Z",
     "shell.execute_reply.started": "2024-03-10T14:11:48.355644Z"
    }
   },
   "outputs": [],
   "source": [
    "ppc = pp.loc[pp['p'] == '0']"
   ]
  },
  {
   "cell_type": "code",
   "execution_count": 58,
   "id": "ed584aaa-a56c-4227-861d-57da2b530209",
   "metadata": {
    "execution": {
     "iopub.execute_input": "2024-03-10T14:19:21.862868Z",
     "iopub.status.busy": "2024-03-10T14:19:21.862645Z",
     "iopub.status.idle": "2024-03-10T14:19:21.869232Z",
     "shell.execute_reply": "2024-03-10T14:19:21.868752Z",
     "shell.execute_reply.started": "2024-03-10T14:19:21.862850Z"
    }
   },
   "outputs": [],
   "source": [
    "ppcc = ppc.groupby(['id'])['count'].sum().reset_index().rename(columns = {'count':'sum'})"
   ]
  },
  {
   "cell_type": "code",
   "execution_count": 60,
   "id": "5923f521-d8fc-4039-a3df-6a1a23e5c336",
   "metadata": {
    "execution": {
     "iopub.execute_input": "2024-03-10T14:19:52.621061Z",
     "iopub.status.busy": "2024-03-10T14:19:52.620832Z",
     "iopub.status.idle": "2024-03-10T14:19:52.787462Z",
     "shell.execute_reply": "2024-03-10T14:19:52.786286Z",
     "shell.execute_reply.started": "2024-03-10T14:19:52.621043Z"
    },
    "scrolled": true
   },
   "outputs": [
    {
     "data": {
      "text/plain": [
       "(array([322., 195., 140.,  64.,  42.,  15.,   7.,   1.,   3.,   3.]),\n",
       " array([0. , 0.9, 1.8, 2.7, 3.6, 4.5, 5.4, 6.3, 7.2, 8.1, 9. ]),\n",
       " <BarContainer object of 10 artists>)"
      ]
     },
     "execution_count": 60,
     "metadata": {},
     "output_type": "execute_result"
    },
    {
     "data": {
      "image/png": "[encoded data removed]",
      "text/plain": [
       "<Figure size 640x480 with 1 Axes>"
      ]
     },
     "metadata": {},
     "output_type": "display_data"
    }
   ],
   "source": [
    "plt.hist(ppcc['sum'])"
   ]
  },
  {
   "cell_type": "code",
   "execution_count": 63,
   "id": "44a9ee22-3344-4433-b0fa-1d859b4ea1b6",
   "metadata": {
    "execution": {
     "iopub.execute_input": "2024-03-10T14:22:46.869309Z",
     "iopub.status.busy": "2024-03-10T14:22:46.869060Z",
     "iopub.status.idle": "2024-03-10T14:22:46.877036Z",
     "shell.execute_reply": "2024-03-10T14:22:46.876231Z",
     "shell.execute_reply.started": "2024-03-10T14:22:46.869292Z"
    }
   },
   "outputs": [],
   "source": [
    "# Consider four directions in each location\n",
    "ppccd = ppc.groupby(['id', 'dir'])['count'].sum().reset_index()\n"
   ]
  },
  {
   "cell_type": "code",
   "execution_count": 65,
   "id": "734939ce-86e4-4050-a654-c3c0244bff58",
   "metadata": {
    "execution": {
     "iopub.execute_input": "2024-03-10T14:23:29.751670Z",
     "iopub.status.busy": "2024-03-10T14:23:29.751277Z",
     "iopub.status.idle": "2024-03-10T14:23:29.765164Z",
     "shell.execute_reply": "2024-03-10T14:23:29.764285Z",
     "shell.execute_reply.started": "2024-03-10T14:23:29.751646Z"
    }
   },
   "outputs": [],
   "source": [
    "ppcm = ppccd.groupby('id', as_index = True)[['count']].mean()\n",
    "ppcm.rename(columns ={'count':'cmean'}, inplace = True)\n",
    "ppcm = ppcm.reset_index()\n",
    "\n",
    "ppcmin = ppccd.groupby('id', as_index = True)[['count']].min()\n",
    "ppcmin.rename(columns = {'count':'cmin'}, inplace = True)\n",
    "ppcmin = ppcmin.reset_index()\n",
    "\n",
    "ppcmax = ppccd.groupby('id', as_index = True)[['count']].max()\n",
    "ppcmax.rename(columns = {'count':'cmax'}, inplace = True)\n",
    "ppcmax = ppcmax.reset_index()"
   ]
  },
  {
   "cell_type": "code",
   "execution_count": 69,
   "id": "8431b2ae-ee73-4067-abec-5ebe79137365",
   "metadata": {
    "execution": {
     "iopub.execute_input": "2024-03-10T14:23:46.258120Z",
     "iopub.status.busy": "2024-03-10T14:23:46.257829Z",
     "iopub.status.idle": "2024-03-10T14:23:46.268985Z",
     "shell.execute_reply": "2024-03-10T14:23:46.267764Z",
     "shell.execute_reply.started": "2024-03-10T14:23:46.258100Z"
    }
   },
   "outputs": [],
   "source": [
    "ppc1 = pd.merge(ppcm, ppcmin, on = ['id'])\n",
    "ppc2 = pd.merge(ppcc, ppcmax, on = ['id'])\n",
    "ppc_all = pd.merge(ppc1, ppc2, on = ['id'])"
   ]
  },
  {
   "cell_type": "code",
   "execution_count": 70,
   "id": "36d4d2da-5e4c-48ea-90b6-fbdc0d05dba1",
   "metadata": {
    "execution": {
     "iopub.execute_input": "2024-03-10T14:23:48.278986Z",
     "iopub.status.busy": "2024-03-10T14:23:48.278749Z",
     "iopub.status.idle": "2024-03-10T14:23:48.282491Z",
     "shell.execute_reply": "2024-03-10T14:23:48.281677Z",
     "shell.execute_reply.started": "2024-03-10T14:23:48.278969Z"
    }
   },
   "outputs": [],
   "source": [
    "ppc_all.rename(columns = {'sum': 'csum'}, inplace = True)\n"
   ]
  },
  {
   "cell_type": "code",
   "execution_count": 72,
   "id": "37997306-1368-4655-8833-cf75af059e27",
   "metadata": {
    "execution": {
     "iopub.execute_input": "2024-03-10T14:24:09.391087Z",
     "iopub.status.busy": "2024-03-10T14:24:09.390715Z",
     "iopub.status.idle": "2024-03-10T14:24:09.402920Z",
     "shell.execute_reply": "2024-03-10T14:24:09.402374Z",
     "shell.execute_reply.started": "2024-03-10T14:24:09.391067Z"
    }
   },
   "outputs": [],
   "source": [
    "# ppc_all.to_csv('/home/yelhe/script/mt/output/pseudo_predictedcurball.csv', index = False)"
   ]
  },
  {
   "cell_type": "code",
   "execution_count": null,
   "id": "adf8d453-797d-41f0-b5b2-0eddf56af791",
   "metadata": {},
   "outputs": [],
   "source": []
  }
 ],
 "metadata": {
  "kernelspec": {
   "display_name": "Python 3 (ipykernel)",
   "language": "python",
   "name": "python3"
  },
  "language_info": {
   "codemirror_mode": {
    "name": "ipython",
    "version": 3
   },
   "file_extension": ".py",
   "mimetype": "text/x-python",
   "name": "python",
   "nbconvert_exporter": "python",
   "pygments_lexer": "ipython3",
   "version": "3.11.5"
  }
 },
 "nbformat": 4,
 "nbformat_minor": 5
}
