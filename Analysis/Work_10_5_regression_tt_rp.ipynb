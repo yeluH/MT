{
 "cells": [
  {
   "cell_type": "code",
   "execution_count": 219,
   "id": "7e9f75d8-3be9-45ef-b9ae-ad72fefb7ce1",
   "metadata": {
    "execution": {
     "iopub.execute_input": "2024-04-25T04:25:49.239789Z",
     "iopub.status.busy": "2024-04-25T04:25:49.239382Z",
     "iopub.status.idle": "2024-04-25T04:25:49.243820Z",
     "shell.execute_reply": "2024-04-25T04:25:49.243014Z",
     "shell.execute_reply.started": "2024-04-25T04:25:49.239750Z"
    }
   },
   "outputs": [],
   "source": [
    "import torch\n",
    "torch.cuda.empty_cache() "
   ]
  },
  {
   "cell_type": "code",
   "execution_count": 220,
   "id": "f3e5fa71-37bd-4efe-b8ee-ae3c362b2a1b",
   "metadata": {
    "execution": {
     "iopub.execute_input": "2024-04-25T04:25:49.245358Z",
     "iopub.status.busy": "2024-04-25T04:25:49.245112Z",
     "iopub.status.idle": "2024-04-25T04:25:49.295706Z",
     "shell.execute_reply": "2024-04-25T04:25:49.294963Z",
     "shell.execute_reply.started": "2024-04-25T04:25:49.245336Z"
    }
   },
   "outputs": [],
   "source": [
    "import os \n",
    "os.environ['MPLCONFIGDIR'] = os.getcwd() + \"/configs/\"\n",
    "import matplotlib\n",
    "from matplotlib import pyplot as plt\n",
    "import numpy as np\n",
    "import cv2\n",
    "import urllib.request\n",
    "from PIL import Image"
   ]
  },
  {
   "cell_type": "code",
   "execution_count": 221,
   "id": "132db61a-9aa6-4936-8ab4-054288d07d2e",
   "metadata": {
    "execution": {
     "iopub.execute_input": "2024-04-25T04:25:49.404151Z",
     "iopub.status.busy": "2024-04-25T04:25:49.403731Z",
     "iopub.status.idle": "2024-04-25T04:25:49.407723Z",
     "shell.execute_reply": "2024-04-25T04:25:49.406906Z",
     "shell.execute_reply.started": "2024-04-25T04:25:49.404128Z"
    }
   },
   "outputs": [],
   "source": [
    "import pandas as pd\n",
    "import pyproj"
   ]
  },
  {
   "cell_type": "code",
   "execution_count": 222,
   "id": "80d61825-dc8d-4005-9362-cf497e771695",
   "metadata": {
    "execution": {
     "iopub.execute_input": "2024-04-25T04:25:49.648621Z",
     "iopub.status.busy": "2024-04-25T04:25:49.648315Z",
     "iopub.status.idle": "2024-04-25T04:25:49.652136Z",
     "shell.execute_reply": "2024-04-25T04:25:49.651467Z",
     "shell.execute_reply.started": "2024-04-25T04:25:49.648600Z"
    }
   },
   "outputs": [],
   "source": [
    "import os \n",
    "os.environ['MPLCONFIGDIR'] = os.getcwd() + \"/configs/\"\n",
    "import matplotlib\n",
    "from matplotlib import pyplot as plt\n",
    "import numpy as np\n",
    "import cv2"
   ]
  },
  {
   "cell_type": "code",
   "execution_count": 223,
   "id": "e6000c92-6b7e-4ee5-9c30-ac0dfed91840",
   "metadata": {
    "execution": {
     "iopub.execute_input": "2024-04-25T04:25:49.785204Z",
     "iopub.status.busy": "2024-04-25T04:25:49.784706Z",
     "iopub.status.idle": "2024-04-25T04:25:49.788980Z",
     "shell.execute_reply": "2024-04-25T04:25:49.788192Z",
     "shell.execute_reply.started": "2024-04-25T04:25:49.785177Z"
    }
   },
   "outputs": [],
   "source": [
    "from pathlib import Path"
   ]
  },
  {
   "cell_type": "code",
   "execution_count": 224,
   "id": "59dfb1fc-7192-4ae1-9df9-596320cc4875",
   "metadata": {
    "execution": {
     "iopub.execute_input": "2024-04-25T04:25:49.960903Z",
     "iopub.status.busy": "2024-04-25T04:25:49.960521Z",
     "iopub.status.idle": "2024-04-25T04:25:49.964154Z",
     "shell.execute_reply": "2024-04-25T04:25:49.963380Z",
     "shell.execute_reply.started": "2024-04-25T04:25:49.960881Z"
    }
   },
   "outputs": [],
   "source": [
    "import joblib"
   ]
  },
  {
   "cell_type": "code",
   "execution_count": 225,
   "id": "923fac26-61e2-49dd-9099-e31ff4079430",
   "metadata": {
    "execution": {
     "iopub.execute_input": "2024-04-25T04:25:50.368847Z",
     "iopub.status.busy": "2024-04-25T04:25:50.368397Z",
     "iopub.status.idle": "2024-04-25T04:25:50.372019Z",
     "shell.execute_reply": "2024-04-25T04:25:50.371316Z",
     "shell.execute_reply.started": "2024-04-25T04:25:50.368826Z"
    }
   },
   "outputs": [],
   "source": [
    "from mt_function_yl import *"
   ]
  },
  {
   "cell_type": "code",
   "execution_count": 226,
   "id": "8376ffe7-7aec-4e11-9f86-32619931952f",
   "metadata": {
    "execution": {
     "iopub.execute_input": "2024-04-25T04:25:50.570540Z",
     "iopub.status.busy": "2024-04-25T04:25:50.570055Z",
     "iopub.status.idle": "2024-04-25T04:25:50.574257Z",
     "shell.execute_reply": "2024-04-25T04:25:50.573494Z",
     "shell.execute_reply.started": "2024-04-25T04:25:50.570517Z"
    }
   },
   "outputs": [],
   "source": [
    "import seaborn as sn"
   ]
  },
  {
   "cell_type": "code",
   "execution_count": 227,
   "id": "78c65919-07d0-4aba-a8dc-87298c4b96d6",
   "metadata": {
    "execution": {
     "iopub.execute_input": "2024-04-25T04:25:50.821330Z",
     "iopub.status.busy": "2024-04-25T04:25:50.820968Z",
     "iopub.status.idle": "2024-04-25T04:25:50.824719Z",
     "shell.execute_reply": "2024-04-25T04:25:50.823967Z",
     "shell.execute_reply.started": "2024-04-25T04:25:50.821309Z"
    }
   },
   "outputs": [],
   "source": [
    "from scipy import stats"
   ]
  },
  {
   "cell_type": "code",
   "execution_count": 228,
   "id": "37ca928e-82c3-4ae7-a6c6-3f18c1c233ba",
   "metadata": {
    "execution": {
     "iopub.execute_input": "2024-04-25T04:25:51.042608Z",
     "iopub.status.busy": "2024-04-25T04:25:51.042249Z",
     "iopub.status.idle": "2024-04-25T04:25:51.045769Z",
     "shell.execute_reply": "2024-04-25T04:25:51.045085Z",
     "shell.execute_reply.started": "2024-04-25T04:25:51.042586Z"
    }
   },
   "outputs": [],
   "source": [
    "from tabulate import tabulate"
   ]
  },
  {
   "cell_type": "code",
   "execution_count": 229,
   "id": "b46d5518-dab4-4896-a3f7-7aa74a012e35",
   "metadata": {
    "execution": {
     "iopub.execute_input": "2024-04-25T04:25:51.417847Z",
     "iopub.status.busy": "2024-04-25T04:25:51.417476Z",
     "iopub.status.idle": "2024-04-25T04:25:51.421484Z",
     "shell.execute_reply": "2024-04-25T04:25:51.420675Z",
     "shell.execute_reply.started": "2024-04-25T04:25:51.417826Z"
    }
   },
   "outputs": [],
   "source": [
    "import statsmodels.api as sm"
   ]
  },
  {
   "cell_type": "code",
   "execution_count": 230,
   "id": "e1804d06-b69a-4709-ac5c-1970d29c38a2",
   "metadata": {
    "execution": {
     "iopub.execute_input": "2024-04-25T04:25:51.729801Z",
     "iopub.status.busy": "2024-04-25T04:25:51.729433Z",
     "iopub.status.idle": "2024-04-25T04:25:51.735168Z",
     "shell.execute_reply": "2024-04-25T04:25:51.734323Z",
     "shell.execute_reply.started": "2024-04-25T04:25:51.729779Z"
    }
   },
   "outputs": [],
   "source": [
    "from sklearn import tree\n",
    "from sklearn.tree import DecisionTreeClassifier\n",
    "\n",
    "from sklearn.cluster import AgglomerativeClustering\n",
    "from sklearn.cluster import DBSCAN\n",
    "from sklearn.cluster import HDBSCAN\n",
    "from sklearn.cluster import KMeans\n",
    "from sklearn.model_selection import train_test_split\n",
    "\n",
    "from sklearn import metrics\n",
    "from sklearn.metrics import accuracy_score\n",
    "from sklearn.metrics import accuracy_score, confusion_matrix, roc_auc_score, roc_curve\n",
    "\n",
    "from sklearn import linear_model\n",
    "\n",
    "from sklearn.neighbors import KNeighborsClassifier\n",
    "\n",
    "from sklearn.ensemble import RandomForestClassifier\n",
    "\n",
    "from sklearn.preprocessing import LabelEncoder\n",
    "\n",
    "from sklearn import svm\n",
    "\n",
    "import seaborn as sn\n",
    "\n",
    "\n",
    "# For regression\n",
    "from sklearn.ensemble import RandomForestRegressor\n",
    "from sklearn.metrics import PredictionErrorDisplay"
   ]
  },
  {
   "cell_type": "markdown",
   "id": "11486eff-60e0-460e-a14b-9a0ab0628a50",
   "metadata": {},
   "source": [
    "### Data loading"
   ]
  },
  {
   "cell_type": "code",
   "execution_count": 338,
   "id": "05497187-b2d2-4470-9393-15c357071825",
   "metadata": {
    "execution": {
     "iopub.execute_input": "2024-04-25T21:19:28.430229Z",
     "iopub.status.busy": "2024-04-25T21:19:28.429742Z",
     "iopub.status.idle": "2024-04-25T21:19:28.447177Z",
     "shell.execute_reply": "2024-04-25T21:19:28.446521Z",
     "shell.execute_reply.started": "2024-04-25T21:19:28.430204Z"
    }
   },
   "outputs": [],
   "source": [
    "ttv = pd.read_csv('/home/yelhe/data/Traffic_network_variables/ttvariables_rp_final.csv')"
   ]
  },
  {
   "cell_type": "code",
   "execution_count": 339,
   "id": "e781a942-e5ec-494c-bbc1-31fdf34c52a7",
   "metadata": {
    "execution": {
     "iopub.execute_input": "2024-04-25T21:19:28.858608Z",
     "iopub.status.busy": "2024-04-25T21:19:28.858020Z",
     "iopub.status.idle": "2024-04-25T21:19:28.869291Z",
     "shell.execute_reply": "2024-04-25T21:19:28.868657Z",
     "shell.execute_reply.started": "2024-04-25T21:19:28.858574Z"
    }
   },
   "outputs": [
    {
     "name": "stdout",
     "output_type": "stream",
     "text": [
      "<class 'pandas.core.frame.DataFrame'>\n",
      "RangeIndex: 995 entries, 0 to 994\n",
      "Data columns (total 31 columns):\n",
      " #   Column          Non-Null Count  Dtype  \n",
      "---  ------          --------------  -----  \n",
      " 0   id              995 non-null    int64  \n",
      " 1   dbusl           995 non-null    float64\n",
      " 2   dtraml          995 non-null    float64\n",
      " 3   dtrainl         995 non-null    float64\n",
      " 4   dplight         995 non-null    float64\n",
      " 5   dstation        995 non-null    float64\n",
      " 6   dparkcar        995 non-null    float64\n",
      " 7   dparktw         995 non-null    float64\n",
      " 8   dpedcro         995 non-null    float64\n",
      " 9   dstopsign       995 non-null    float64\n",
      " 10  dcurb           995 non-null    float64\n",
      " 11  curbtype        995 non-null    int64  \n",
      " 12  dgvm            995 non-null    float64\n",
      " 13  gvm_dwv         995 non-null    int64  \n",
      " 14  gvm_msp         995 non-null    int64  \n",
      " 15  gvm_asp         995 non-null    int64  \n",
      " 16  z_stznr         995 non-null    int64  \n",
      " 17  z_qnr           995 non-null    int64  \n",
      " 18  z_knr           995 non-null    int64  \n",
      " 19  trafficarea     995 non-null    object \n",
      " 20  dtrafficarea    995 non-null    float64\n",
      " 21  r_width         995 non-null    int64  \n",
      " 22  r_surface       995 non-null    object \n",
      " 23  droad           995 non-null    float64\n",
      " 24  speedlimit      995 non-null    int64  \n",
      " 25  droad_sl        995 non-null    float64\n",
      " 26  d_bicyclecount  995 non-null    float64\n",
      " 27  bicyclecount    995 non-null    float64\n",
      " 28  d_carcount      995 non-null    float64\n",
      " 29  carcount        995 non-null    float64\n",
      " 30  dvfpath         995 non-null    float64\n",
      "dtypes: float64(19), int64(10), object(2)\n",
      "memory usage: 241.1+ KB\n"
     ]
    }
   ],
   "source": [
    "ttv.info()"
   ]
  },
  {
   "cell_type": "code",
   "execution_count": 340,
   "id": "02a58f14-986e-41e4-a8d4-f5db735c5cb7",
   "metadata": {
    "execution": {
     "iopub.execute_input": "2024-04-25T21:19:33.355785Z",
     "iopub.status.busy": "2024-04-25T21:19:33.355364Z",
     "iopub.status.idle": "2024-04-25T21:19:33.361711Z",
     "shell.execute_reply": "2024-04-25T21:19:33.360895Z",
     "shell.execute_reply.started": "2024-04-25T21:19:33.355744Z"
    }
   },
   "outputs": [],
   "source": [
    "tt_dist = ttv[['id', \n",
    "               'dbusl', 'dtraml', 'dtrainl', 'dplight', 'dstation', 'dparkcar',\n",
    "               'dparktw', 'dpedcro', 'dstopsign', 'dcurb', 'dtrafficarea', 'droad', \n",
    "               'droad_sl', 'dvfpath', 'd_bicyclecount', 'd_carcount']]\n",
    "tt_attr = ttv[['id',\n",
    "               'gvm_dwv', 'gvm_msp', 'gvm_asp', 'curbtype', 'z_stznr', 'z_qnr',\n",
    "               'z_knr', 'trafficarea', 'r_width', 'r_surface', 'speedlimit', \n",
    "               'bicyclecount', 'carcount']]"
   ]
  },
  {
   "cell_type": "code",
   "execution_count": 341,
   "id": "19d84f03-b3d0-4d8f-a864-caf6bccdd88f",
   "metadata": {
    "execution": {
     "iopub.execute_input": "2024-04-25T21:19:33.475451Z",
     "iopub.status.busy": "2024-04-25T21:19:33.475011Z",
     "iopub.status.idle": "2024-04-25T21:19:33.479514Z",
     "shell.execute_reply": "2024-04-25T21:19:33.478653Z",
     "shell.execute_reply.started": "2024-04-25T21:19:33.475426Z"
    }
   },
   "outputs": [],
   "source": [
    "c1 = ['dbusl', 'dtraml', 'dtrainl', 'dplight', \n",
    "      'dstation', 'dparkcar', 'dparktw', 'dpedcro',\n",
    "      'dstopsign', 'dcurb', 'dtrafficarea', 'droad', \n",
    "      'droad_sl', 'dvfpath', 'd_bicyclecount', 'd_carcount']\n",
    "c2 = ['gvm_dwv', 'gvm_msp', 'gvm_asp', 'curbtype',\n",
    "      'z_stznr', 'z_qnr', 'z_knr', 'trafficarea',\n",
    "      'r_width', 'r_surface', 'speedlimit', 'bicyclecount',\n",
    "      'carcount']"
   ]
  },
  {
   "cell_type": "markdown",
   "id": "6e09e005-b85c-4afc-b9d6-ad74bceb957f",
   "metadata": {},
   "source": [
    "### Distribution Check"
   ]
  },
  {
   "cell_type": "code",
   "execution_count": 342,
   "id": "fcf172cb-f692-4fcf-a115-08db7869c524",
   "metadata": {
    "execution": {
     "iopub.execute_input": "2024-04-25T21:19:34.253860Z",
     "iopub.status.busy": "2024-04-25T21:19:34.253104Z",
     "iopub.status.idle": "2024-04-25T21:19:34.257064Z",
     "shell.execute_reply": "2024-04-25T21:19:34.256280Z",
     "shell.execute_reply.started": "2024-04-25T21:19:34.253833Z"
    }
   },
   "outputs": [],
   "source": [
    "# fig, axes = plt.subplots(ncols=4, nrows=4,\n",
    "#                          figsize=(3*3, 2*3))\n",
    "# axes[0,0].hist(tt_dist[c1[0]])\n",
    "# axes[0,0].set_title(c1[0])\n",
    "# axes[1,0].hist(tt_dist[c1[1]])\n",
    "# axes[1,0].set_title(c1[1])\n",
    "# axes[2,0].hist(tt_dist[c1[2]])\n",
    "# axes[2,0].set_title(c1[2])\n",
    "# axes[3,0].hist(tt_dist[c1[3]])\n",
    "# axes[3,0].set_title(c1[3])\n",
    "# axes[0,1].hist(tt_dist[c1[4]])\n",
    "# axes[0,1].set_title(c1[4])\n",
    "# axes[1,1].hist(tt_dist[c1[5]])\n",
    "# axes[1,1].set_title(c1[5])\n",
    "# axes[2,1].hist(tt_dist[c1[6]])\n",
    "# axes[2,1].set_title(c1[6])\n",
    "# axes[3,1].hist(tt_dist[c1[7]])\n",
    "# axes[3,1].set_title(c1[7])\n",
    "# axes[0,2].hist(tt_dist[c1[8]])\n",
    "# axes[0,2].set_title(c1[8])\n",
    "# axes[1,2].hist(tt_dist[c1[9]])\n",
    "# axes[1,2].set_title(c1[9])\n",
    "# axes[2,2].hist(tt_dist[c1[10]])\n",
    "# axes[2,2].set_title(c1[10])\n",
    "# axes[3,2].hist(tt_dist[c1[11]])\n",
    "# axes[3,2].set_title(c1[11])\n",
    "# axes[0,3].hist(tt_dist[c1[12]])\n",
    "# axes[0,3].set_title(c1[12])\n",
    "# axes[1,3].hist(tt_dist[c1[13]])\n",
    "# axes[1,3].set_title(c1[13])\n"
   ]
  },
  {
   "cell_type": "code",
   "execution_count": 343,
   "id": "f445eab3-6a07-4d57-8406-8b615142e426",
   "metadata": {
    "execution": {
     "iopub.execute_input": "2024-04-25T21:19:34.434030Z",
     "iopub.status.busy": "2024-04-25T21:19:34.433645Z",
     "iopub.status.idle": "2024-04-25T21:19:34.437450Z",
     "shell.execute_reply": "2024-04-25T21:19:34.436779Z",
     "shell.execute_reply.started": "2024-04-25T21:19:34.434005Z"
    }
   },
   "outputs": [],
   "source": [
    "# fig, axes = plt.subplots(ncols=4, nrows=4,\n",
    "#                          figsize=(3*3, 3*3))\n",
    "# sm.qqplot(tt_dist[c1[0]], line = '45', ax = axes[0,0])\n",
    "# axes[0,0].set_title(c1[0])\n",
    "# sm.qqplot(tt_dist[c1[1]], line = '45', ax = axes[1,0])\n",
    "# axes[1,0].set_title(c1[1])\n",
    "# sm.qqplot(tt_dist[c1[2]], line = '45', ax = axes[2,0])\n",
    "# axes[2,0].set_title(c1[2])\n",
    "# sm.qqplot(tt_dist[c1[3]], line = '45', ax = axes[3,0])\n",
    "# axes[3,0].set_title(c1[3])\n",
    "# sm.qqplot(tt_dist[c1[4]], line = '45', ax = axes[0,1])\n",
    "# axes[0,1].set_title(c1[4])\n",
    "# sm.qqplot(tt_dist[c1[5]], line = '45', ax = axes[1,1])\n",
    "# axes[1,1].set_title(c1[5])\n",
    "# sm.qqplot(tt_dist[c1[6]], line = '45', ax = axes[2,1])\n",
    "# axes[2,1].set_title(c1[6])\n",
    "# sm.qqplot(tt_dist[c1[7]], line = '45', ax = axes[3,1])\n",
    "# axes[3,1].set_title(c1[7])\n",
    "# sm.qqplot(tt_dist[c1[8]], line = '45', ax = axes[0,2])\n",
    "# axes[0,2].set_title(c1[8])\n",
    "# sm.qqplot(tt_dist[c1[9]], line = '45', ax = axes[1,2])\n",
    "# axes[1,2].set_title(c1[9])\n",
    "# sm.qqplot(tt_dist[c1[10]], line = '45', ax = axes[2,2])\n",
    "# axes[2,2].set_title(c1[10])\n",
    "# sm.qqplot(tt_dist[c1[11]], line = '45', ax = axes[3,2])\n",
    "# axes[3,2].set_title(c1[11])\n",
    "# sm.qqplot(tt_dist[c1[12]], line = '45', ax = axes[0,3])\n",
    "# axes[0,3].set_title(c1[12])\n",
    "# sm.qqplot(tt_dist[c1[13]], line = '45', ax = axes[1,3])\n",
    "# axes[1,3].set_title(c1[13])\n",
    "\n",
    "# plt.tight_layout()"
   ]
  },
  {
   "cell_type": "code",
   "execution_count": 344,
   "id": "eca5bd6d-aacd-4034-8e8b-7abadc87d041",
   "metadata": {
    "execution": {
     "iopub.execute_input": "2024-04-25T21:19:34.816988Z",
     "iopub.status.busy": "2024-04-25T21:19:34.816600Z",
     "iopub.status.idle": "2024-04-25T21:19:34.820405Z",
     "shell.execute_reply": "2024-04-25T21:19:34.819505Z",
     "shell.execute_reply.started": "2024-04-25T21:19:34.816962Z"
    }
   },
   "outputs": [],
   "source": [
    "# res_0 = stats.normaltest(tt_dist[c1[0]])\n",
    "# res_1 = stats.normaltest(tt_dist[c1[1]])\n",
    "# res_2 = stats.normaltest(tt_dist[c1[2]])\n",
    "# res_3 = stats.normaltest(tt_dist[c1[3]])\n",
    "# res_4 = stats.normaltest(tt_dist[c1[4]])\n",
    "# res_5 = stats.normaltest(tt_dist[c1[5]])\n",
    "# res_6 = stats.normaltest(tt_dist[c1[6]])\n",
    "# res_7 = stats.normaltest(tt_dist[c1[7]])\n",
    "# res_8 = stats.normaltest(tt_dist[c1[8]])\n",
    "# res_9 = stats.normaltest(tt_dist[c1[9]])\n",
    "# res_10 = stats.normaltest(tt_dist[c1[10]])\n",
    "# res_11 = stats.normaltest(tt_dist[c1[11]])\n",
    "# res_12 = stats.normaltest(tt_dist[c1[12]])\n",
    "# res_13 = stats.normaltest(tt_dist[c1[13]])"
   ]
  },
  {
   "cell_type": "code",
   "execution_count": 345,
   "id": "d4946717-1cb5-4cb5-981a-9e59449f98de",
   "metadata": {
    "execution": {
     "iopub.execute_input": "2024-04-25T21:19:35.066800Z",
     "iopub.status.busy": "2024-04-25T21:19:35.066433Z",
     "iopub.status.idle": "2024-04-25T21:19:35.069928Z",
     "shell.execute_reply": "2024-04-25T21:19:35.069197Z",
     "shell.execute_reply.started": "2024-04-25T21:19:35.066778Z"
    }
   },
   "outputs": [],
   "source": [
    "# print(c1[0], res_0.pvalue, '\\n',\n",
    "#       c1[1], res_1.pvalue, '\\n',\n",
    "#       c1[2], res_2.pvalue, '\\n',\n",
    "#       c1[3], res_3.pvalue, '\\n',\n",
    "#       c1[4], res_4.pvalue, '\\n',\n",
    "#       c1[5], res_5.pvalue, '\\n',\n",
    "#       c1[6], res_6.pvalue, '\\n',\n",
    "#       c1[7], res_7.pvalue, '\\n',\n",
    "#       c1[8], res_8.pvalue, '\\n',\n",
    "#       c1[9], res_9.pvalue, '\\n',\n",
    "#       c1[10], res_10.pvalue, '\\n',\n",
    "#       c1[11], res_11.pvalue, '\\n',\n",
    "#       c1[12], res_12.pvalue, '\\n',\n",
    "#       c1[13], res_13.pvalue, '\\n')"
   ]
  },
  {
   "cell_type": "markdown",
   "id": "6e6e85fa-1fdf-4781-a836-0f1166f71b1b",
   "metadata": {},
   "source": [
    "### Variables Transformation"
   ]
  },
  {
   "cell_type": "code",
   "execution_count": 346,
   "id": "46f0f19c-8ead-4189-bfec-690b36aafee9",
   "metadata": {
    "execution": {
     "iopub.execute_input": "2024-04-25T21:19:36.028786Z",
     "iopub.status.busy": "2024-04-25T21:19:36.028392Z",
     "iopub.status.idle": "2024-04-25T21:19:36.032306Z",
     "shell.execute_reply": "2024-04-25T21:19:36.031435Z",
     "shell.execute_reply.started": "2024-04-25T21:19:36.028763Z"
    }
   },
   "outputs": [],
   "source": [
    "# tt_dist_log = tt_dist.copy(deep = True)\n",
    "# tt_dist_log[c1[0]] = np.log(tt_dist_log[c1[0]]).replace(-np.inf, 0)\n",
    "# tt_dist_log[c1[1]] = np.log(tt_dist_log[c1[1]]).replace(-np.inf, 0)\n",
    "# tt_dist_log[c1[2]] = np.log(tt_dist_log[c1[2]]).replace(-np.inf, 0)\n",
    "# tt_dist_log[c1[3]] = np.log(tt_dist_log[c1[3]]).replace(-np.inf, 0)\n",
    "# tt_dist_log[c1[4]] = np.log(tt_dist_log[c1[4]]).replace(-np.inf, 0)\n",
    "# tt_dist_log[c1[5]] = np.log(tt_dist_log[c1[5]]).replace(-np.inf, 0)\n",
    "# tt_dist_log[c1[6]] = np.log(tt_dist_log[c1[6]]).replace(-np.inf, 0)\n",
    "# tt_dist_log[c1[7]] = np.log(tt_dist_log[c1[7]]).replace(-np.inf, 0)\n",
    "# tt_dist_log[c1[8]] = np.log(tt_dist_log[c1[8]]).replace(-np.inf, 0)\n",
    "# tt_dist_log[c1[9]] = np.log(tt_dist_log[c1[9]]).replace(-np.inf, 0)\n",
    "# tt_dist_log[c1[10]] = np.log(tt_dist_log[c1[10]]).replace(-np.inf, 0)\n",
    "# tt_dist_log[c1[11]] = np.log(tt_dist_log[c1[11]]).replace(-np.inf, 0)\n",
    "# tt_dist_log[c1[12]] = np.log(tt_dist_log[c1[12]]).replace(-np.inf, 0)\n",
    "# tt_dist_log[c1[13]] = np.log(tt_dist_log[c1[13]]).replace(-np.inf, 0)"
   ]
  },
  {
   "cell_type": "code",
   "execution_count": 347,
   "id": "2d9d6b79-485b-42f8-a02e-62f5e37180f9",
   "metadata": {
    "execution": {
     "iopub.execute_input": "2024-04-25T21:19:36.389019Z",
     "iopub.status.busy": "2024-04-25T21:19:36.388646Z",
     "iopub.status.idle": "2024-04-25T21:19:36.392523Z",
     "shell.execute_reply": "2024-04-25T21:19:36.391745Z",
     "shell.execute_reply.started": "2024-04-25T21:19:36.388997Z"
    }
   },
   "outputs": [],
   "source": [
    "# fig, axes = plt.subplots(ncols=4, nrows=4,\n",
    "#                          figsize=(3*3, 2*3))\n",
    "# axes[0,0].hist(tt_dist_log[c1[0]])\n",
    "# axes[0,0].set_title(c1[0])\n",
    "# axes[1,0].hist(tt_dist_log[c1[1]])\n",
    "# axes[1,0].set_title(c1[1])\n",
    "# axes[2,0].hist(tt_dist_log[c1[2]])\n",
    "# axes[2,0].set_title(c1[2])\n",
    "# axes[3,0].hist(tt_dist_log[c1[3]])\n",
    "# axes[3,0].set_title(c1[3])\n",
    "# axes[0,1].hist(tt_dist_log[c1[4]])\n",
    "# axes[0,1].set_title(c1[4])\n",
    "# axes[1,1].hist(tt_dist_log[c1[5]])\n",
    "# axes[1,1].set_title(c1[5])\n",
    "# axes[2,1].hist(tt_dist_log[c1[6]])\n",
    "# axes[2,1].set_title(c1[6])\n",
    "# axes[3,1].hist(tt_dist_log[c1[7]])\n",
    "# axes[3,1].set_title(c1[7])\n",
    "# axes[0,2].hist(tt_dist_log[c1[8]])\n",
    "# axes[0,2].set_title(c1[8])\n",
    "# axes[1,2].hist(tt_dist_log[c1[9]])\n",
    "# axes[1,2].set_title(c1[9])\n",
    "# axes[2,2].hist(tt_dist_log[c1[10]])\n",
    "# axes[2,2].set_title(c1[10])\n",
    "# axes[3,2].hist(tt_dist_log[c1[11]])\n",
    "# axes[3,2].set_title(c1[11])\n",
    "# axes[0,3].hist(tt_dist_log[c1[12]])\n",
    "# axes[0,3].set_title(c1[12])\n",
    "# axes[1,3].hist(tt_dist_log[c1[13]])\n",
    "# axes[1,3].set_title(c1[13])\n"
   ]
  },
  {
   "cell_type": "code",
   "execution_count": 348,
   "id": "2d05b570-0569-499d-aba4-733e477e3f1b",
   "metadata": {
    "execution": {
     "iopub.execute_input": "2024-04-25T21:19:36.740438Z",
     "iopub.status.busy": "2024-04-25T21:19:36.739652Z",
     "iopub.status.idle": "2024-04-25T21:19:36.744181Z",
     "shell.execute_reply": "2024-04-25T21:19:36.743362Z",
     "shell.execute_reply.started": "2024-04-25T21:19:36.740410Z"
    }
   },
   "outputs": [],
   "source": [
    "# fig, axes = plt.subplots(ncols=4, nrows=4,\n",
    "#                          figsize=(3*3, 3*3))\n",
    "# sm.qqplot(tt_dist_log[c1[0]], line = '45', ax = axes[0,0])\n",
    "# axes[0,0].set_title(c1[0])\n",
    "# sm.qqplot(tt_dist_log[c1[1]], line = '45', ax = axes[1,0])\n",
    "# axes[1,0].set_title(c1[1])\n",
    "# sm.qqplot(tt_dist_log[c1[2]], line = '45', ax = axes[2,0])\n",
    "# axes[2,0].set_title(c1[2])\n",
    "# sm.qqplot(tt_dist_log[c1[3]], line = '45', ax = axes[3,0])\n",
    "# axes[3,0].set_title(c1[3])\n",
    "# sm.qqplot(tt_dist_log[c1[4]], line = '45', ax = axes[0,1])\n",
    "# axes[0,1].set_title(c1[4])\n",
    "# sm.qqplot(tt_dist_log[c1[5]], line = '45', ax = axes[1,1])\n",
    "# axes[1,1].set_title(c1[5])\n",
    "# sm.qqplot(tt_dist_log[c1[6]], line = '45', ax = axes[2,1])\n",
    "# axes[2,1].set_title(c1[6])\n",
    "# sm.qqplot(tt_dist_log[c1[7]], line = '45', ax = axes[3,1])\n",
    "# axes[3,1].set_title(c1[7])\n",
    "# sm.qqplot(tt_dist_log[c1[8]], line = '45', ax = axes[0,2])\n",
    "# axes[0,2].set_title(c1[8])\n",
    "# sm.qqplot(tt_dist_log[c1[9]], line = '45', ax = axes[1,2])\n",
    "# axes[1,2].set_title(c1[9])\n",
    "# sm.qqplot(tt_dist_log[c1[10]], line = '45', ax = axes[2,2])\n",
    "# axes[2,2].set_title(c1[10])\n",
    "# sm.qqplot(tt_dist_log[c1[11]], line = '45', ax = axes[3,2])\n",
    "# axes[3,2].set_title(c1[11])\n",
    "# sm.qqplot(tt_dist_log[c1[12]], line = '45', ax = axes[0,3])\n",
    "# axes[0,3].set_title(c1[12])\n",
    "# sm.qqplot(tt_dist_log[c1[13]], line = '45', ax = axes[1,3])\n",
    "# axes[1,3].set_title(c1[13])\n",
    "# plt.tight_layout()"
   ]
  },
  {
   "cell_type": "code",
   "execution_count": 349,
   "id": "852b6aec-0a1b-4e77-8530-6cf83dd04cbe",
   "metadata": {
    "execution": {
     "iopub.execute_input": "2024-04-25T21:19:37.207267Z",
     "iopub.status.busy": "2024-04-25T21:19:37.206870Z",
     "iopub.status.idle": "2024-04-25T21:19:37.210826Z",
     "shell.execute_reply": "2024-04-25T21:19:37.210108Z",
     "shell.execute_reply.started": "2024-04-25T21:19:37.207244Z"
    }
   },
   "outputs": [],
   "source": [
    "# lres_0 = stats.normaltest(tt_dist_log[c1[0]])\n",
    "# lres_1 = stats.normaltest(tt_dist_log[c1[1]])\n",
    "# lres_2 = stats.normaltest(tt_dist_log[c1[2]])\n",
    "# lres_3 = stats.normaltest(tt_dist_log[c1[3]])\n",
    "# lres_4 = stats.normaltest(tt_dist_log[c1[4]])\n",
    "# lres_5 = stats.normaltest(tt_dist_log[c1[5]])\n",
    "# lres_6 = stats.normaltest(tt_dist_log[c1[6]])\n",
    "# lres_7 = stats.normaltest(tt_dist_log[c1[7]])\n",
    "# lres_8 = stats.normaltest(tt_dist_log[c1[8]])\n",
    "# lres_9 = stats.normaltest(tt_dist_log[c1[9]])\n",
    "# lres_10 = stats.normaltest(tt_dist_log[c1[10]])\n",
    "# lres_11 = stats.normaltest(tt_dist_log[c1[11]])\n",
    "# lres_12 = stats.normaltest(tt_dist_log[c1[12]])\n",
    "# lres_13 = stats.normaltest(tt_dist_log[c1[13]])"
   ]
  },
  {
   "cell_type": "code",
   "execution_count": 350,
   "id": "a002801d-90a0-4bfa-9d5e-f73035ca3f0a",
   "metadata": {
    "execution": {
     "iopub.execute_input": "2024-04-25T21:19:37.584496Z",
     "iopub.status.busy": "2024-04-25T21:19:37.583714Z",
     "iopub.status.idle": "2024-04-25T21:19:37.587446Z",
     "shell.execute_reply": "2024-04-25T21:19:37.586737Z",
     "shell.execute_reply.started": "2024-04-25T21:19:37.584467Z"
    }
   },
   "outputs": [],
   "source": [
    "# print(c1[0], lres_0.pvalue, '\\n',\n",
    "#       c1[1], lres_1.pvalue, '\\n',\n",
    "#       c1[2], lres_2.pvalue, '\\n',\n",
    "#       c1[3], lres_3.pvalue, '\\n',\n",
    "#       c1[4], lres_4.pvalue, '\\n',\n",
    "#       c1[5], lres_5.pvalue, '\\n',\n",
    "#       c1[6], lres_6.pvalue, '\\n',\n",
    "#       c1[7], lres_7.pvalue, '\\n',\n",
    "#       c1[8], lres_8.pvalue, '\\n',\n",
    "#       c1[9], lres_9.pvalue, '\\n',\n",
    "#       c1[10], lres_10.pvalue, '\\n',\n",
    "#       c1[11], lres_11.pvalue, '\\n',\n",
    "#       c1[12], lres_12.pvalue, '\\n',\n",
    "#       c1[13], lres_13.pvalue, '\\n')"
   ]
  },
  {
   "cell_type": "code",
   "execution_count": 351,
   "id": "b5928aea-4edc-4568-8078-5933ee562e62",
   "metadata": {
    "execution": {
     "iopub.execute_input": "2024-04-25T21:19:38.183837Z",
     "iopub.status.busy": "2024-04-25T21:19:38.183333Z",
     "iopub.status.idle": "2024-04-25T21:19:38.186785Z",
     "shell.execute_reply": "2024-04-25T21:19:38.186091Z",
     "shell.execute_reply.started": "2024-04-25T21:19:38.183804Z"
    }
   },
   "outputs": [],
   "source": [
    "# Yeojohnson Transformation"
   ]
  },
  {
   "cell_type": "code",
   "execution_count": 352,
   "id": "3de67dc3-3b37-4101-bf55-7da6e4273776",
   "metadata": {
    "execution": {
     "iopub.execute_input": "2024-04-25T21:19:39.838812Z",
     "iopub.status.busy": "2024-04-25T21:19:39.838170Z",
     "iopub.status.idle": "2024-04-25T21:19:39.843851Z",
     "shell.execute_reply": "2024-04-25T21:19:39.843158Z",
     "shell.execute_reply.started": "2024-04-25T21:19:39.838784Z"
    }
   },
   "outputs": [
    {
     "data": {
      "text/plain": [
       "Index(['id', 'dbusl', 'dtraml', 'dtrainl', 'dplight', 'dstation', 'dparkcar',\n",
       "       'dparktw', 'dpedcro', 'dstopsign', 'dcurb', 'dtrafficarea', 'droad',\n",
       "       'droad_sl', 'dvfpath', 'd_bicyclecount', 'd_carcount'],\n",
       "      dtype='object')"
      ]
     },
     "execution_count": 352,
     "metadata": {},
     "output_type": "execute_result"
    }
   ],
   "source": [
    "tt_dist.columns"
   ]
  },
  {
   "cell_type": "code",
   "execution_count": 354,
   "id": "907f7cf3-d88c-49f4-ae39-20946aa3e385",
   "metadata": {
    "execution": {
     "iopub.execute_input": "2024-04-25T21:20:00.211421Z",
     "iopub.status.busy": "2024-04-25T21:20:00.210915Z",
     "iopub.status.idle": "2024-04-25T21:20:00.280327Z",
     "shell.execute_reply": "2024-04-25T21:20:00.279649Z",
     "shell.execute_reply.started": "2024-04-25T21:20:00.211395Z"
    }
   },
   "outputs": [],
   "source": [
    "tt_dist_yj0 = tt_dist.copy(deep = True)\n",
    "tt_dist_yj[c1[0]], l0  = stats.yeojohnson(tt_dist_yj0[c1[0]])\n",
    "tt_dist_yj[c1[1]], l1  = stats.yeojohnson(tt_dist_yj0[c1[1]])\n",
    "tt_dist_yj[c1[2]], l2  = stats.yeojohnson(tt_dist_yj0[c1[2]])\n",
    "tt_dist_yj[c1[3]], l3  = stats.yeojohnson(tt_dist_yj0[c1[3]])\n",
    "tt_dist_yj[c1[4]], l4  = stats.yeojohnson(tt_dist_yj0[c1[4]])\n",
    "tt_dist_yj[c1[5]], l5  = stats.yeojohnson(tt_dist_yj0[c1[5]])\n",
    "tt_dist_yj[c1[6]], l6  = stats.yeojohnson(tt_dist_yj0[c1[6]])\n",
    "tt_dist_yj[c1[7]], l7  = stats.yeojohnson(tt_dist_yj0[c1[7]])\n",
    "tt_dist_yj[c1[8]], l8  = stats.yeojohnson(tt_dist_yj0[c1[8]])\n",
    "tt_dist_yj[c1[9]], l9  = stats.yeojohnson(tt_dist_yj0[c1[9]])\n",
    "tt_dist_yj[c1[10]], l10  = stats.yeojohnson(tt_dist_yj0[c1[10]])\n",
    "tt_dist_yj[c1[11]], l11  = stats.yeojohnson(tt_dist_yj0[c1[11]])\n",
    "tt_dist_yj[c1[12]], l12  = stats.yeojohnson(tt_dist_yj0[c1[12]])\n",
    "tt_dist_yj[c1[13]], l13  = stats.yeojohnson(tt_dist_yj0[c1[13]])\n",
    "tt_dist_yj[c1[14]], l14  = stats.yeojohnson(tt_dist_yj0[c1[14]])\n",
    "tt_dist_yj[c1[15]], l15  = stats.yeojohnson(tt_dist_yj0[c1[15]])"
   ]
  },
  {
   "cell_type": "code",
   "execution_count": 355,
   "id": "91b2270d-a790-4ced-829d-6082d9424442",
   "metadata": {
    "execution": {
     "iopub.execute_input": "2024-04-25T21:20:09.246727Z",
     "iopub.status.busy": "2024-04-25T21:20:09.245938Z",
     "iopub.status.idle": "2024-04-25T21:20:11.059328Z",
     "shell.execute_reply": "2024-04-25T21:20:11.058441Z",
     "shell.execute_reply.started": "2024-04-25T21:20:09.246699Z"
    }
   },
   "outputs": [
    {
     "data": {
      "text/plain": [
       "Text(0.5, 1.0, 'd_carcount')"
      ]
     },
     "execution_count": 355,
     "metadata": {},
     "output_type": "execute_result"
    },
    {
     "data": {
      "image/png": "[encoded data removed]",
      "text/plain": [
       "<Figure size 900x600 with 16 Axes>"
      ]
     },
     "metadata": {},
     "output_type": "display_data"
    }
   ],
   "source": [
    "fig, axes = plt.subplots(ncols=4, nrows=4,\n",
    "                         figsize=(3*3, 2*3))\n",
    "axes[0,0].hist(tt_dist_yj[c1[0]])\n",
    "axes[0,0].set_title(c1[0])\n",
    "axes[1,0].hist(tt_dist_yj[c1[1]])\n",
    "axes[1,0].set_title(c1[1])\n",
    "axes[2,0].hist(tt_dist_yj[c1[2]])\n",
    "axes[2,0].set_title(c1[2])\n",
    "axes[3,0].hist(tt_dist_yj[c1[3]])\n",
    "axes[3,0].set_title(c1[3])\n",
    "axes[0,1].hist(tt_dist_yj[c1[4]])\n",
    "axes[0,1].set_title(c1[4])\n",
    "axes[1,1].hist(tt_dist_yj[c1[5]])\n",
    "axes[1,1].set_title(c1[5])\n",
    "axes[2,1].hist(tt_dist_yj[c1[6]])\n",
    "axes[2,1].set_title(c1[6])\n",
    "axes[3,1].hist(tt_dist_yj[c1[7]])\n",
    "axes[3,1].set_title(c1[7])\n",
    "axes[0,2].hist(tt_dist_yj[c1[8]])\n",
    "axes[0,2].set_title(c1[8])\n",
    "axes[1,2].hist(tt_dist_yj[c1[9]])\n",
    "axes[1,2].set_title(c1[9])\n",
    "axes[2,2].hist(tt_dist_yj[c1[10]])\n",
    "axes[2,2].set_title(c1[10])\n",
    "axes[3,2].hist(tt_dist_yj[c1[11]])\n",
    "axes[3,2].set_title(c1[11])\n",
    "axes[0,3].hist(tt_dist_yj[c1[12]])\n",
    "axes[0,3].set_title(c1[12])\n",
    "axes[1,3].hist(tt_dist_yj[c1[13]])\n",
    "axes[1,3].set_title(c1[13])\n",
    "axes[2,3].hist(tt_dist_yj[c1[14]])\n",
    "axes[2,3].set_title(c1[14])\n",
    "axes[3,3].hist(tt_dist_yj[c1[15]])\n",
    "axes[3,3].set_title(c1[15])"
   ]
  },
  {
   "cell_type": "code",
   "execution_count": 308,
   "id": "56bbe4a8-1d60-4019-b71e-4b0fd95e7e0a",
   "metadata": {
    "execution": {
     "iopub.execute_input": "2024-04-25T21:05:43.313774Z",
     "iopub.status.busy": "2024-04-25T21:05:43.313241Z",
     "iopub.status.idle": "2024-04-25T21:05:43.317514Z",
     "shell.execute_reply": "2024-04-25T21:05:43.316551Z",
     "shell.execute_reply.started": "2024-04-25T21:05:43.313750Z"
    }
   },
   "outputs": [],
   "source": [
    "# fig, axes = plt.subplots(ncols=4, nrows=4,\n",
    "#                          figsize=(3*3, 3*3))\n",
    "# sm.qqplot(tt_dist_yj[c1[0]], line = '45', ax = axes[0,0])\n",
    "# axes[0,0].set_title(c1[0])\n",
    "# sm.qqplot(tt_dist_yj[c1[1]], line = '45', ax = axes[1,0])\n",
    "# axes[1,0].set_title(c1[1])\n",
    "# sm.qqplot(tt_dist_yj[c1[2]], line = '45', ax = axes[2,0])\n",
    "# axes[2,0].set_title(c1[2])\n",
    "# sm.qqplot(tt_dist_yj[c1[3]], line = '45', ax = axes[3,0])\n",
    "# axes[3,0].set_title(c1[3])\n",
    "# sm.qqplot(tt_dist_yj[c1[4]], line = '45', ax = axes[0,1])\n",
    "# axes[0,1].set_title(c1[4])\n",
    "# sm.qqplot(tt_dist_yj[c1[5]], line = '45', ax = axes[1,1])\n",
    "# axes[1,1].set_title(c1[5])\n",
    "# sm.qqplot(tt_dist_yj[c1[6]], line = '45', ax = axes[2,1])\n",
    "# axes[2,1].set_title(c1[6])\n",
    "# sm.qqplot(tt_dist_yj[c1[7]], line = '45', ax = axes[3,1])\n",
    "# axes[3,1].set_title(c1[7])\n",
    "# sm.qqplot(tt_dist_yj[c1[8]], line = '45', ax = axes[0,2])\n",
    "# axes[0,2].set_title(c1[8])\n",
    "# sm.qqplot(tt_dist_yj[c1[9]], line = '45', ax = axes[1,2])\n",
    "# axes[1,2].set_title(c1[9])\n",
    "# sm.qqplot(tt_dist_yj[c1[10]], line = '45', ax = axes[2,2])\n",
    "# axes[2,2].set_title(c1[10])\n",
    "# sm.qqplot(tt_dist_yj[c1[11]], line = '45', ax = axes[3,2])\n",
    "# axes[3,2].set_title(c1[11])\n",
    "# sm.qqplot(tt_dist_yj[c1[12]], line = '45', ax = axes[0,3])\n",
    "# axes[0,3].set_title(c1[12])\n",
    "# sm.qqplot(tt_dist_yj[c1[13]], line = '45', ax = axes[1,3])\n",
    "# axes[1,3].set_title(c1[13])\n",
    "# plt.tight_layout()"
   ]
  },
  {
   "cell_type": "code",
   "execution_count": 309,
   "id": "63214e05-aa3b-4bdb-8b04-470b9416d634",
   "metadata": {
    "execution": {
     "iopub.execute_input": "2024-04-25T21:05:43.612315Z",
     "iopub.status.busy": "2024-04-25T21:05:43.611395Z",
     "iopub.status.idle": "2024-04-25T21:05:43.616413Z",
     "shell.execute_reply": "2024-04-25T21:05:43.615348Z",
     "shell.execute_reply.started": "2024-04-25T21:05:43.612276Z"
    }
   },
   "outputs": [],
   "source": [
    "# yjres_0 = stats.normaltest(tt_dist_yj[c1[0]])\n",
    "# yjres_1 = stats.normaltest(tt_dist_yj[c1[1]])\n",
    "# yjres_2 = stats.normaltest(tt_dist_yj[c1[2]])\n",
    "# yjres_3 = stats.normaltest(tt_dist_yj[c1[3]])\n",
    "# yjres_4 = stats.normaltest(tt_dist_yj[c1[4]])\n",
    "# yjres_5 = stats.normaltest(tt_dist_yj[c1[5]])\n",
    "# yjres_6 = stats.normaltest(tt_dist_yj[c1[6]])\n",
    "# yjres_7 = stats.normaltest(tt_dist_yj[c1[7]])\n",
    "# yjres_8 = stats.normaltest(tt_dist_yj[c1[8]])\n",
    "# yjres_9 = stats.normaltest(tt_dist_yj[c1[9]])\n",
    "# yjres_10 = stats.normaltest(tt_dist_yj[c1[10]])\n",
    "# yjres_11 = stats.normaltest(tt_dist_yj[c1[11]])\n",
    "# yjres_12 = stats.normaltest(tt_dist_yj[c1[12]])\n",
    "# yjres_13 = stats.normaltest(tt_dist_yj[c1[13]])"
   ]
  },
  {
   "cell_type": "code",
   "execution_count": 310,
   "id": "1fc1675f-542b-4306-a50a-ab244c93a186",
   "metadata": {
    "execution": {
     "iopub.execute_input": "2024-04-25T21:05:44.293988Z",
     "iopub.status.busy": "2024-04-25T21:05:44.293170Z",
     "iopub.status.idle": "2024-04-25T21:05:44.297943Z",
     "shell.execute_reply": "2024-04-25T21:05:44.296851Z",
     "shell.execute_reply.started": "2024-04-25T21:05:44.293953Z"
    }
   },
   "outputs": [],
   "source": [
    "# print(c1[0], yjres_0.pvalue, '\\n',\n",
    "#       c1[1], yjres_1.pvalue, '\\n',\n",
    "#       c1[2], yjres_2.pvalue, '\\n',\n",
    "#       c1[3], yjres_3.pvalue, '\\n',\n",
    "#       c1[4], yjres_4.pvalue, '\\n',\n",
    "#       c1[5], yjres_5.pvalue, '\\n',\n",
    "#       c1[6], yjres_6.pvalue, '\\n',\n",
    "#       c1[7], yjres_7.pvalue, '\\n',\n",
    "#       c1[8], yjres_8.pvalue, '\\n',\n",
    "#       c1[9], yjres_9.pvalue, '\\n',\n",
    "#       c1[10], yjres_10.pvalue, '\\n',\n",
    "#       c1[11], yjres_11.pvalue, '\\n',\n",
    "#       c1[12], yjres_12.pvalue, '\\n',\n",
    "#       c1[13], yjres_13.pvalue, '\\n')"
   ]
  },
  {
   "cell_type": "markdown",
   "id": "6925f4ba-6fdf-4129-bd21-2b489e6ccad2",
   "metadata": {},
   "source": [
    "### Variables Standardization"
   ]
  },
  {
   "cell_type": "code",
   "execution_count": 356,
   "id": "e3147a44-9a36-4771-88eb-abd5c8a14f8a",
   "metadata": {
    "execution": {
     "iopub.execute_input": "2024-04-25T21:20:16.379648Z",
     "iopub.status.busy": "2024-04-25T21:20:16.379069Z",
     "iopub.status.idle": "2024-04-25T21:20:16.383954Z",
     "shell.execute_reply": "2024-04-25T21:20:16.383172Z",
     "shell.execute_reply.started": "2024-04-25T21:20:16.379614Z"
    }
   },
   "outputs": [],
   "source": [
    "from sklearn.preprocessing import StandardScaler"
   ]
  },
  {
   "cell_type": "code",
   "execution_count": 358,
   "id": "a9680a11-f042-4611-835d-677a7ff59abe",
   "metadata": {
    "execution": {
     "iopub.execute_input": "2024-04-25T21:21:59.812564Z",
     "iopub.status.busy": "2024-04-25T21:21:59.812083Z",
     "iopub.status.idle": "2024-04-25T21:21:59.818338Z",
     "shell.execute_reply": "2024-04-25T21:21:59.817585Z",
     "shell.execute_reply.started": "2024-04-25T21:21:59.812538Z"
    }
   },
   "outputs": [],
   "source": [
    "tt_dist_st = tt_dist_yj.copy(deep = True)"
   ]
  },
  {
   "cell_type": "code",
   "execution_count": 359,
   "id": "0dc374ae-e264-428c-aea2-99d97237ce01",
   "metadata": {
    "execution": {
     "iopub.execute_input": "2024-04-25T21:22:10.736666Z",
     "iopub.status.busy": "2024-04-25T21:22:10.736344Z",
     "iopub.status.idle": "2024-04-25T21:22:10.742138Z",
     "shell.execute_reply": "2024-04-25T21:22:10.741271Z",
     "shell.execute_reply.started": "2024-04-25T21:22:10.736646Z"
    }
   },
   "outputs": [
    {
     "data": {
      "text/plain": [
       "Index(['id', 'dbusl', 'dtraml', 'dtrainl', 'dplight', 'dstation', 'dparkcar',\n",
       "       'dparktw', 'dpedcro', 'dstopsign', 'dcurb', 'dtrafficarea', 'droad',\n",
       "       'droad_sl', 'dvfpath', 'd_bicyclecount', 'd_carcount'],\n",
       "      dtype='object')"
      ]
     },
     "execution_count": 359,
     "metadata": {},
     "output_type": "execute_result"
    }
   ],
   "source": [
    "tt_dist_st.columns"
   ]
  },
  {
   "cell_type": "code",
   "execution_count": 360,
   "id": "68fe9ace-d4f3-4070-872a-b42ac5041517",
   "metadata": {
    "execution": {
     "iopub.execute_input": "2024-04-25T21:22:29.825856Z",
     "iopub.status.busy": "2024-04-25T21:22:29.825187Z",
     "iopub.status.idle": "2024-04-25T21:22:29.855568Z",
     "shell.execute_reply": "2024-04-25T21:22:29.854437Z",
     "shell.execute_reply.started": "2024-04-25T21:22:29.825824Z"
    }
   },
   "outputs": [],
   "source": [
    "tt_dist_st[c1[0]]  = stats.zscore(tt_dist_st[c1[0]])\n",
    "tt_dist_st[c1[1]]  = stats.zscore(tt_dist_st[c1[1]])\n",
    "tt_dist_st[c1[2]]  = stats.zscore(tt_dist_st[c1[2]])\n",
    "tt_dist_st[c1[3]]  = stats.zscore(tt_dist_st[c1[3]])\n",
    "tt_dist_st[c1[4]]  = stats.zscore(tt_dist_st[c1[4]])\n",
    "tt_dist_st[c1[5]]  = stats.zscore(tt_dist_st[c1[5]])\n",
    "tt_dist_st[c1[6]]  = stats.zscore(tt_dist_st[c1[6]])\n",
    "tt_dist_st[c1[7]]  = stats.zscore(tt_dist_st[c1[7]])\n",
    "tt_dist_st[c1[8]]  = stats.zscore(tt_dist_st[c1[8]])\n",
    "tt_dist_st[c1[9]]  = stats.zscore(tt_dist_st[c1[9]])\n",
    "tt_dist_st[c1[10]]  = stats.zscore(tt_dist_st[c1[10]])\n",
    "tt_dist_st[c1[11]]  = stats.zscore(tt_dist_st[c1[11]])\n",
    "tt_dist_st[c1[12]]  = stats.zscore(tt_dist_st[c1[12]])\n",
    "tt_dist_st[c1[13]]  = stats.zscore(tt_dist_st[c1[13]])\n",
    "tt_dist_st[c1[14]]  = stats.zscore(tt_dist_st[c1[14]])\n",
    "tt_dist_st[c1[15]]  = stats.zscore(tt_dist_st[c1[15]])"
   ]
  },
  {
   "cell_type": "code",
   "execution_count": 361,
   "id": "ce1bc02e-9558-4a04-bd45-db68417756ca",
   "metadata": {
    "execution": {
     "iopub.execute_input": "2024-04-25T21:22:31.636295Z",
     "iopub.status.busy": "2024-04-25T21:22:31.635493Z",
     "iopub.status.idle": "2024-04-25T21:22:33.515628Z",
     "shell.execute_reply": "2024-04-25T21:22:33.514775Z",
     "shell.execute_reply.started": "2024-04-25T21:22:31.636259Z"
    }
   },
   "outputs": [
    {
     "data": {
      "text/plain": [
       "Text(0.5, 1.0, 'd_carcount')"
      ]
     },
     "execution_count": 361,
     "metadata": {},
     "output_type": "execute_result"
    },
    {
     "data": {
      "image/png": "[encoded data removed]",
      "text/plain": [
       "<Figure size 900x600 with 16 Axes>"
      ]
     },
     "metadata": {},
     "output_type": "display_data"
    }
   ],
   "source": [
    "fig, axes = plt.subplots(ncols=4, nrows=4,\n",
    "                         figsize=(3*3, 2*3))\n",
    "axes[0,0].hist(tt_dist_st[c1[0]])\n",
    "axes[0,0].set_title(c1[0])\n",
    "axes[1,0].hist(tt_dist_st[c1[1]])\n",
    "axes[1,0].set_title(c1[1])\n",
    "axes[2,0].hist(tt_dist_st[c1[2]])\n",
    "axes[2,0].set_title(c1[2])\n",
    "axes[3,0].hist(tt_dist_st[c1[3]])\n",
    "axes[3,0].set_title(c1[3])\n",
    "axes[0,1].hist(tt_dist_st[c1[4]])\n",
    "axes[0,1].set_title(c1[4])\n",
    "axes[1,1].hist(tt_dist_st[c1[5]])\n",
    "axes[1,1].set_title(c1[5])\n",
    "axes[2,1].hist(tt_dist_st[c1[6]])\n",
    "axes[2,1].set_title(c1[6])\n",
    "axes[3,1].hist(tt_dist_st[c1[7]])\n",
    "axes[3,1].set_title(c1[7])\n",
    "axes[0,2].hist(tt_dist_st[c1[8]])\n",
    "axes[0,2].set_title(c1[8])\n",
    "axes[1,2].hist(tt_dist_st[c1[9]])\n",
    "axes[1,2].set_title(c1[9])\n",
    "axes[2,2].hist(tt_dist_st[c1[10]])\n",
    "axes[2,2].set_title(c1[10])\n",
    "axes[3,2].hist(tt_dist_st[c1[11]])\n",
    "axes[3,2].set_title(c1[11])\n",
    "axes[0,3].hist(tt_dist_st[c1[12]])\n",
    "axes[0,3].set_title(c1[12])\n",
    "axes[1,3].hist(tt_dist_st[c1[13]])\n",
    "axes[1,3].set_title(c1[13])\n",
    "axes[2,3].hist(tt_dist_st[c1[14]])\n",
    "axes[2,3].set_title(c1[14])\n",
    "axes[3,3].hist(tt_dist_st[c1[15]])\n",
    "axes[3,3].set_title(c1[15])"
   ]
  },
  {
   "cell_type": "code",
   "execution_count": 363,
   "id": "a34169a3-955a-4f5f-a077-99ea6a496cf0",
   "metadata": {
    "execution": {
     "iopub.execute_input": "2024-04-25T21:22:53.209671Z",
     "iopub.status.busy": "2024-04-25T21:22:53.208692Z",
     "iopub.status.idle": "2024-04-25T21:22:53.214020Z",
     "shell.execute_reply": "2024-04-25T21:22:53.213066Z",
     "shell.execute_reply.started": "2024-04-25T21:22:53.209633Z"
    }
   },
   "outputs": [],
   "source": [
    "# fig, axes = plt.subplots(ncols=4, nrows=4,\n",
    "#                          figsize=(3*3, 3*3))\n",
    "# sm.qqplot(tt_dist_st[c1[0]], line = '45', ax = axes[0,0])\n",
    "# axes[0,0].set_title(c1[0])\n",
    "# sm.qqplot(tt_dist_st[c1[1]], line = '45', ax = axes[1,0])\n",
    "# axes[1,0].set_title(c1[1])\n",
    "# sm.qqplot(tt_dist_st[c1[2]], line = '45', ax = axes[2,0])\n",
    "# axes[2,0].set_title(c1[2])\n",
    "# sm.qqplot(tt_dist_st[c1[3]], line = '45', ax = axes[3,0])\n",
    "# axes[3,0].set_title(c1[3])\n",
    "# sm.qqplot(tt_dist_st[c1[4]], line = '45', ax = axes[0,1])\n",
    "# axes[0,1].set_title(c1[4])\n",
    "# sm.qqplot(tt_dist_st[c1[5]], line = '45', ax = axes[1,1])\n",
    "# axes[1,1].set_title(c1[5])\n",
    "# sm.qqplot(tt_dist_st[c1[6]], line = '45', ax = axes[2,1])\n",
    "# axes[2,1].set_title(c1[6])\n",
    "# sm.qqplot(tt_dist_st[c1[7]], line = '45', ax = axes[3,1])\n",
    "# axes[3,1].set_title(c1[7])\n",
    "# sm.qqplot(tt_dist_st[c1[8]], line = '45', ax = axes[0,2])\n",
    "# axes[0,2].set_title(c1[8])\n",
    "# sm.qqplot(tt_dist_st[c1[9]], line = '45', ax = axes[1,2])\n",
    "# axes[1,2].set_title(c1[9])\n",
    "# sm.qqplot(tt_dist_st[c1[10]], line = '45', ax = axes[2,2])\n",
    "# axes[2,2].set_title(c1[10])\n",
    "# sm.qqplot(tt_dist_st[c1[11]], line = '45', ax = axes[3,2])\n",
    "# axes[3,2].set_title(c1[11])\n",
    "# sm.qqplot(tt_dist_st[c1[12]], line = '45', ax = axes[0,3])\n",
    "# axes[0,3].set_title(c1[12])\n",
    "# sm.qqplot(tt_dist_st[c1[13]], line = '45', ax = axes[1,3])\n",
    "# axes[1,3].set_title(c1[13])\n",
    "# plt.tight_layout()"
   ]
  },
  {
   "cell_type": "code",
   "execution_count": 364,
   "id": "c8bc93de-37a9-49b6-96b6-c03c32dd1509",
   "metadata": {
    "execution": {
     "iopub.execute_input": "2024-04-25T21:23:02.791054Z",
     "iopub.status.busy": "2024-04-25T21:23:02.790565Z",
     "iopub.status.idle": "2024-04-25T21:23:02.794716Z",
     "shell.execute_reply": "2024-04-25T21:23:02.793682Z",
     "shell.execute_reply.started": "2024-04-25T21:23:02.791029Z"
    }
   },
   "outputs": [],
   "source": [
    "# stres_0 = stats.normaltest(tt_dist_st[c1[0]])\n",
    "# stres_1 = stats.normaltest(tt_dist_st[c1[1]])\n",
    "# stres_2 = stats.normaltest(tt_dist_st[c1[2]])\n",
    "# stres_3 = stats.normaltest(tt_dist_st[c1[3]])\n",
    "# stres_4 = stats.normaltest(tt_dist_st[c1[4]])\n",
    "# stres_5 = stats.normaltest(tt_dist_st[c1[5]])\n",
    "# stres_6 = stats.normaltest(tt_dist_st[c1[6]])\n",
    "# stres_7 = stats.normaltest(tt_dist_st[c1[7]])\n",
    "# stres_8 = stats.normaltest(tt_dist_st[c1[8]])\n",
    "# stres_9 = stats.normaltest(tt_dist_st[c1[9]])\n",
    "# stres_10 = stats.normaltest(tt_dist_st[c1[10]])\n",
    "# stres_11 = stats.normaltest(tt_dist_st[c1[11]])\n",
    "# stres_12 = stats.normaltest(tt_dist_st[c1[12]])\n",
    "# stres_13 = stats.normaltest(tt_dist_st[c1[13]])"
   ]
  },
  {
   "cell_type": "code",
   "execution_count": 365,
   "id": "a1d25a1e-6572-4330-a33a-8a41ecf74e8a",
   "metadata": {
    "execution": {
     "iopub.execute_input": "2024-04-25T21:23:02.973019Z",
     "iopub.status.busy": "2024-04-25T21:23:02.972608Z",
     "iopub.status.idle": "2024-04-25T21:23:02.977044Z",
     "shell.execute_reply": "2024-04-25T21:23:02.975666Z",
     "shell.execute_reply.started": "2024-04-25T21:23:02.972993Z"
    }
   },
   "outputs": [],
   "source": [
    "# print(c1[0], stres_0.pvalue, '\\n',\n",
    "#       c1[1], stres_1.pvalue, '\\n',\n",
    "#       c1[2], stres_2.pvalue, '\\n',\n",
    "#       c1[3], stres_3.pvalue, '\\n',\n",
    "#       c1[4], stres_4.pvalue, '\\n',\n",
    "#       c1[5], stres_5.pvalue, '\\n',\n",
    "#       c1[6], stres_6.pvalue, '\\n',\n",
    "#       c1[7], stres_7.pvalue, '\\n',\n",
    "#       c1[8], stres_8.pvalue, '\\n',\n",
    "#       c1[9], stres_9.pvalue, '\\n',\n",
    "#       c1[10], stres_10.pvalue, '\\n',\n",
    "#       c1[11], stres_11.pvalue, '\\n',\n",
    "#       c1[12], stres_12.pvalue, '\\n',\n",
    "#       c1[13], stres_13.pvalue, '\\n')"
   ]
  },
  {
   "cell_type": "code",
   "execution_count": 366,
   "id": "90e05a60-3188-4eeb-b02e-24210823bd26",
   "metadata": {
    "execution": {
     "iopub.execute_input": "2024-04-25T21:23:08.251235Z",
     "iopub.status.busy": "2024-04-25T21:23:08.250425Z",
     "iopub.status.idle": "2024-04-25T21:23:08.264880Z",
     "shell.execute_reply": "2024-04-25T21:23:08.264061Z",
     "shell.execute_reply.started": "2024-04-25T21:23:08.251199Z"
    }
   },
   "outputs": [
    {
     "name": "stdout",
     "output_type": "stream",
     "text": [
      "<class 'pandas.core.frame.DataFrame'>\n",
      "RangeIndex: 995 entries, 0 to 994\n",
      "Data columns (total 17 columns):\n",
      " #   Column          Non-Null Count  Dtype  \n",
      "---  ------          --------------  -----  \n",
      " 0   id              995 non-null    int64  \n",
      " 1   dbusl           995 non-null    float64\n",
      " 2   dtraml          995 non-null    float64\n",
      " 3   dtrainl         995 non-null    float64\n",
      " 4   dplight         995 non-null    float64\n",
      " 5   dstation        995 non-null    float64\n",
      " 6   dparkcar        995 non-null    float64\n",
      " 7   dparktw         995 non-null    float64\n",
      " 8   dpedcro         995 non-null    float64\n",
      " 9   dstopsign       995 non-null    float64\n",
      " 10  dcurb           995 non-null    float64\n",
      " 11  dtrafficarea    995 non-null    float64\n",
      " 12  droad           995 non-null    float64\n",
      " 13  droad_sl        995 non-null    float64\n",
      " 14  dvfpath         995 non-null    float64\n",
      " 15  d_bicyclecount  995 non-null    float64\n",
      " 16  d_carcount      995 non-null    float64\n",
      "dtypes: float64(16), int64(1)\n",
      "memory usage: 132.3 KB\n"
     ]
    }
   ],
   "source": [
    "tt_dist_st.info()"
   ]
  },
  {
   "cell_type": "code",
   "execution_count": 367,
   "id": "32b533a1-76df-490d-bf49-566c1a0fccaf",
   "metadata": {
    "execution": {
     "iopub.execute_input": "2024-04-25T21:23:55.894534Z",
     "iopub.status.busy": "2024-04-25T21:23:55.894007Z",
     "iopub.status.idle": "2024-04-25T21:23:55.929786Z",
     "shell.execute_reply": "2024-04-25T21:23:55.928968Z",
     "shell.execute_reply.started": "2024-04-25T21:23:55.894509Z"
    }
   },
   "outputs": [],
   "source": [
    "# # Distance variables after normalization and standardization\n",
    "# tt_dist_st.to_csv('/home/yelhe/data/Traffic_network_variables/ttvariables_rp_distance_norm_stand_final.csv', index = False)"
   ]
  },
  {
   "cell_type": "code",
   "execution_count": null,
   "id": "64ff0ce8-a8ba-4e74-acc3-bedd1f7533b8",
   "metadata": {},
   "outputs": [],
   "source": []
  },
  {
   "cell_type": "code",
   "execution_count": 379,
   "id": "c6fb49ef-435b-4563-995f-7abc84d52fb6",
   "metadata": {
    "execution": {
     "iopub.execute_input": "2024-04-25T21:30:24.713185Z",
     "iopub.status.busy": "2024-04-25T21:30:24.712372Z",
     "iopub.status.idle": "2024-04-25T21:30:24.723709Z",
     "shell.execute_reply": "2024-04-25T21:30:24.722851Z",
     "shell.execute_reply.started": "2024-04-25T21:30:24.713149Z"
    }
   },
   "outputs": [
    {
     "name": "stdout",
     "output_type": "stream",
     "text": [
      "<class 'pandas.core.frame.DataFrame'>\n",
      "RangeIndex: 995 entries, 0 to 994\n",
      "Data columns (total 14 columns):\n",
      " #   Column        Non-Null Count  Dtype  \n",
      "---  ------        --------------  -----  \n",
      " 0   id            995 non-null    int64  \n",
      " 1   gvm_dwv       995 non-null    int64  \n",
      " 2   gvm_msp       995 non-null    int64  \n",
      " 3   gvm_asp       995 non-null    int64  \n",
      " 4   curbtype      995 non-null    int64  \n",
      " 5   z_stznr       995 non-null    int64  \n",
      " 6   z_qnr         995 non-null    int64  \n",
      " 7   z_knr         995 non-null    int64  \n",
      " 8   trafficarea   995 non-null    object \n",
      " 9   r_width       995 non-null    int64  \n",
      " 10  r_surface     995 non-null    object \n",
      " 11  speedlimit    995 non-null    int64  \n",
      " 12  bicyclecount  995 non-null    float64\n",
      " 13  carcount      995 non-null    float64\n",
      "dtypes: float64(2), int64(10), object(2)\n",
      "memory usage: 109.0+ KB\n"
     ]
    }
   ],
   "source": [
    "# Value & categories\n",
    "tt_attr.info()"
   ]
  },
  {
   "cell_type": "code",
   "execution_count": 380,
   "id": "113c8f04-c8c0-4e44-82be-b35edae131de",
   "metadata": {
    "execution": {
     "iopub.execute_input": "2024-04-25T21:30:26.402882Z",
     "iopub.status.busy": "2024-04-25T21:30:26.402381Z",
     "iopub.status.idle": "2024-04-25T21:30:26.408578Z",
     "shell.execute_reply": "2024-04-25T21:30:26.407798Z",
     "shell.execute_reply.started": "2024-04-25T21:30:26.402859Z"
    }
   },
   "outputs": [
    {
     "name": "stdout",
     "output_type": "stream",
     "text": [
      "210 167 210 43 155\n"
     ]
    }
   ],
   "source": [
    "# Values \n",
    "print(len(tt_attr['gvm_dwv'].unique()), len(tt_attr['gvm_msp'].unique()), len(tt_attr['gvm_dwv'].unique()),\n",
    "      len(tt_attr['bicyclecount'].unique()), len(tt_attr['carcount'].unique()))"
   ]
  },
  {
   "cell_type": "code",
   "execution_count": 381,
   "id": "5a9448ee-095b-4997-8eda-4f7df8518d53",
   "metadata": {
    "execution": {
     "iopub.execute_input": "2024-04-25T21:30:34.111742Z",
     "iopub.status.busy": "2024-04-25T21:30:34.111205Z",
     "iopub.status.idle": "2024-04-25T21:30:34.115730Z",
     "shell.execute_reply": "2024-04-25T21:30:34.114725Z",
     "shell.execute_reply.started": "2024-04-25T21:30:34.111712Z"
    }
   },
   "outputs": [],
   "source": [
    "tt_attrv = tt_attr.copy(deep = True)"
   ]
  },
  {
   "cell_type": "code",
   "execution_count": 382,
   "id": "c75cd1c7-15fa-47f1-90e3-ff6d7779af89",
   "metadata": {
    "execution": {
     "iopub.execute_input": "2024-04-25T21:30:34.960846Z",
     "iopub.status.busy": "2024-04-25T21:30:34.960249Z",
     "iopub.status.idle": "2024-04-25T21:30:34.965596Z",
     "shell.execute_reply": "2024-04-25T21:30:34.964375Z",
     "shell.execute_reply.started": "2024-04-25T21:30:34.960821Z"
    }
   },
   "outputs": [],
   "source": [
    "tt_attrv = tt_attrv[['id', 'gvm_dwv', 'gvm_msp', 'gvm_asp', \n",
    "                     'bicyclecount', 'carcount', 'r_width', 'speedlimit']]"
   ]
  },
  {
   "cell_type": "code",
   "execution_count": 383,
   "id": "b19b5fc5-956b-45ef-9624-22384ee096f8",
   "metadata": {
    "execution": {
     "iopub.execute_input": "2024-04-25T21:30:36.460275Z",
     "iopub.status.busy": "2024-04-25T21:30:36.459999Z",
     "iopub.status.idle": "2024-04-25T21:30:36.464988Z",
     "shell.execute_reply": "2024-04-25T21:30:36.464219Z",
     "shell.execute_reply.started": "2024-04-25T21:30:36.460255Z"
    }
   },
   "outputs": [
    {
     "data": {
      "text/plain": [
       "Index(['id', 'gvm_dwv', 'gvm_msp', 'gvm_asp', 'bicyclecount', 'carcount',\n",
       "       'r_width', 'speedlimit'],\n",
       "      dtype='object')"
      ]
     },
     "execution_count": 383,
     "metadata": {},
     "output_type": "execute_result"
    }
   ],
   "source": [
    "tt_attrv.columns"
   ]
  },
  {
   "cell_type": "code",
   "execution_count": 384,
   "id": "5fcee3ad-5f99-476a-bfe0-5d08d634705c",
   "metadata": {
    "execution": {
     "iopub.execute_input": "2024-04-25T21:30:36.860257Z",
     "iopub.status.busy": "2024-04-25T21:30:36.859616Z",
     "iopub.status.idle": "2024-04-25T21:30:36.865158Z",
     "shell.execute_reply": "2024-04-25T21:30:36.864219Z",
     "shell.execute_reply.started": "2024-04-25T21:30:36.860228Z"
    }
   },
   "outputs": [],
   "source": [
    "tt_attrv1 = tt_attrv[~tt_attrv.isnull().any(axis = 1)]"
   ]
  },
  {
   "cell_type": "code",
   "execution_count": 385,
   "id": "0802a7ca-db5d-4e54-bf5d-e8e567265842",
   "metadata": {
    "execution": {
     "iopub.execute_input": "2024-04-25T21:30:40.157807Z",
     "iopub.status.busy": "2024-04-25T21:30:40.157084Z",
     "iopub.status.idle": "2024-04-25T21:30:40.161513Z",
     "shell.execute_reply": "2024-04-25T21:30:40.160602Z",
     "shell.execute_reply.started": "2024-04-25T21:30:40.157771Z"
    }
   },
   "outputs": [],
   "source": [
    "c3 = ['gvm_dwv', 'gvm_msp', 'gvm_asp', 'bicyclecount', \n",
    "      'carcount', 'r_width', 'speedlimit']"
   ]
  },
  {
   "cell_type": "code",
   "execution_count": 386,
   "id": "507a4705-2f59-4c4f-9800-83dea6cce861",
   "metadata": {
    "execution": {
     "iopub.execute_input": "2024-04-25T21:30:40.541804Z",
     "iopub.status.busy": "2024-04-25T21:30:40.541238Z",
     "iopub.status.idle": "2024-04-25T21:30:40.546346Z",
     "shell.execute_reply": "2024-04-25T21:30:40.545665Z",
     "shell.execute_reply.started": "2024-04-25T21:30:40.541780Z"
    }
   },
   "outputs": [],
   "source": [
    "# fig, axes = plt.subplots(ncols=4, nrows=2,\n",
    "#                          figsize=(3*3, 2*3))\n",
    "# axes[0,0].hist(tt_attrv1[c3[0]])\n",
    "# axes[0,0].set_title(c3[0])\n",
    "# axes[1,0].hist(tt_attrv1[c3[1]])\n",
    "# axes[1,0].set_title(c3[1])\n",
    "# axes[0,1].hist(tt_attrv1[c3[2]])\n",
    "# axes[0,1].set_title(c3[2])\n",
    "# axes[1,1].hist(tt_attrv1[c3[3]])\n",
    "# axes[1,1].set_title(c3[3])\n",
    "# axes[0,2].hist(tt_attrv1[c3[4]])\n",
    "# axes[0,2].set_title(c3[4])\n",
    "# axes[1,2].hist(tt_attrv1[c3[5]])\n",
    "# axes[1,2].set_title(c3[5])\n",
    "# axes[0,3].hist(tt_attrv1[c3[6]])\n",
    "# axes[0,3].set_title(c3[6])"
   ]
  },
  {
   "cell_type": "code",
   "execution_count": 387,
   "id": "ed5b711d-2ff4-481c-b452-87db744ea65d",
   "metadata": {
    "execution": {
     "iopub.execute_input": "2024-04-25T21:30:41.063777Z",
     "iopub.status.busy": "2024-04-25T21:30:41.063117Z",
     "iopub.status.idle": "2024-04-25T21:30:41.067477Z",
     "shell.execute_reply": "2024-04-25T21:30:41.066433Z",
     "shell.execute_reply.started": "2024-04-25T21:30:41.063736Z"
    }
   },
   "outputs": [],
   "source": [
    "# fig, axes = plt.subplots(ncols=4, nrows=2,\n",
    "#                          figsize=(3*3, 3*3))\n",
    "# sm.qqplot(tt_attrv1[c3[0]], line = '45', ax = axes[0,0])\n",
    "# axes[0,0].set_title(c3[0])\n",
    "# sm.qqplot(tt_attrv1[c3[1]], line = '45', ax = axes[1,0])\n",
    "# axes[1,0].set_title(c3[1])\n",
    "# sm.qqplot(tt_attrv1[c3[2]], line = '45', ax = axes[0,1])\n",
    "# axes[0,1].set_title(c3[2])\n",
    "# sm.qqplot(tt_attrv1[c3[3]], line = '45', ax = axes[1,1])\n",
    "# axes[1,1].set_title(c3[3])\n",
    "# sm.qqplot(tt_attrv1[c3[4]], line = '45', ax = axes[0,2])\n",
    "# axes[0,2].set_title(c3[4])\n",
    "# sm.qqplot(tt_attrv1[c3[5]], line = '45', ax = axes[1,2])\n",
    "# axes[1,2].set_title(c3[5])\n",
    "# sm.qqplot(tt_attrv1[c3[6]], line = '45', ax = axes[1,3])\n",
    "# axes[0,3].set_title(c3[6])"
   ]
  },
  {
   "cell_type": "code",
   "execution_count": 388,
   "id": "9446f034-fd17-4fdd-bec0-d88710e3881c",
   "metadata": {
    "execution": {
     "iopub.execute_input": "2024-04-25T21:30:41.400703Z",
     "iopub.status.busy": "2024-04-25T21:30:41.400061Z",
     "iopub.status.idle": "2024-04-25T21:30:41.434307Z",
     "shell.execute_reply": "2024-04-25T21:30:41.433654Z",
     "shell.execute_reply.started": "2024-04-25T21:30:41.400676Z"
    }
   },
   "outputs": [],
   "source": [
    "# Transformation\n",
    "attrv1 = tt_attrv1.copy(deep = True)\n",
    "attrv1[c3[0]], a1 = stats.yeojohnson(attrv1[c3[0]])\n",
    "attrv1[c3[1]], a2 = stats.yeojohnson(attrv1[c3[1]])\n",
    "attrv1[c3[2]], a3 = stats.yeojohnson(attrv1[c3[2]])\n",
    "attrv1[c3[3]], a4 = stats.yeojohnson(attrv1[c3[3]])\n",
    "attrv1[c3[4]], a5 = stats.yeojohnson(attrv1[c3[4]])\n",
    "attrv1[c3[5]], a6 = stats.yeojohnson(attrv1[c3[5]])\n",
    "attrv1[c3[6]], a7 = stats.yeojohnson(attrv1[c3[6]])"
   ]
  },
  {
   "cell_type": "code",
   "execution_count": 391,
   "id": "c4889db7-666c-47a9-bb2f-8f7ac481c627",
   "metadata": {
    "execution": {
     "iopub.execute_input": "2024-04-25T21:31:05.401781Z",
     "iopub.status.busy": "2024-04-25T21:31:05.401098Z",
     "iopub.status.idle": "2024-04-25T21:31:06.929494Z",
     "shell.execute_reply": "2024-04-25T21:31:06.928401Z",
     "shell.execute_reply.started": "2024-04-25T21:31:05.401745Z"
    }
   },
   "outputs": [
    {
     "data": {
      "text/plain": [
       "Text(0.5, 1.0, 'speedlimit')"
      ]
     },
     "execution_count": 391,
     "metadata": {},
     "output_type": "execute_result"
    },
    {
     "data": {
      "image/png": "[encoded data removed]",
      "text/plain": [
       "<Figure size 900x600 with 8 Axes>"
      ]
     },
     "metadata": {},
     "output_type": "display_data"
    }
   ],
   "source": [
    "fig, axes = plt.subplots(ncols=4, nrows=2,\n",
    "                         figsize=(3*3, 2*3))\n",
    "axes[0,0].hist(attrv1[c3[0]])\n",
    "axes[0,0].set_title(c3[0])\n",
    "axes[1,0].hist(attrv1[c3[1]])\n",
    "axes[1,0].set_title(c3[1])\n",
    "axes[0,1].hist(attrv1[c3[2]])\n",
    "axes[0,1].set_title(c3[2])\n",
    "axes[1,1].hist(attrv1[c3[3]])\n",
    "axes[1,1].set_title(c3[3])\n",
    "axes[0,2].hist(attrv1[c3[4]])\n",
    "axes[0,2].set_title(c3[4])\n",
    "axes[1,2].hist(attrv1[c3[5]])\n",
    "axes[1,2].set_title(c3[5])\n",
    "axes[0,3].hist(attrv1[c3[6]])\n",
    "axes[0,3].set_title(c3[6])"
   ]
  },
  {
   "cell_type": "code",
   "execution_count": 392,
   "id": "af5de4fc-2f5b-4451-a948-7b3d257652eb",
   "metadata": {
    "execution": {
     "iopub.execute_input": "2024-04-25T21:31:06.961651Z",
     "iopub.status.busy": "2024-04-25T21:31:06.960783Z",
     "iopub.status.idle": "2024-04-25T21:31:06.978754Z",
     "shell.execute_reply": "2024-04-25T21:31:06.977823Z",
     "shell.execute_reply.started": "2024-04-25T21:31:06.961607Z"
    }
   },
   "outputs": [],
   "source": [
    "# Standardization\n",
    "attrv1[c3[0]] = stats.zscore(attrv1[c3[0]])\n",
    "attrv1[c3[1]] = stats.zscore(attrv1[c3[1]])\n",
    "attrv1[c3[2]] = stats.zscore(attrv1[c3[2]])\n",
    "attrv1[c3[3]] = stats.zscore(attrv1[c3[3]])\n",
    "attrv1[c3[4]] = stats.zscore(attrv1[c3[4]])\n",
    "attrv1[c3[5]] = stats.zscore(attrv1[c3[5]])\n",
    "attrv1[c3[6]] = stats.zscore(attrv1[c3[6]])"
   ]
  },
  {
   "cell_type": "code",
   "execution_count": 393,
   "id": "bf955048-b86c-4a6e-9783-8a1b7b51efd0",
   "metadata": {
    "execution": {
     "iopub.execute_input": "2024-04-25T21:31:08.200109Z",
     "iopub.status.busy": "2024-04-25T21:31:08.199451Z",
     "iopub.status.idle": "2024-04-25T21:31:09.245156Z",
     "shell.execute_reply": "2024-04-25T21:31:09.244334Z",
     "shell.execute_reply.started": "2024-04-25T21:31:08.200082Z"
    }
   },
   "outputs": [
    {
     "data": {
      "text/plain": [
       "Text(0.5, 1.0, 'speedlimit')"
      ]
     },
     "execution_count": 393,
     "metadata": {},
     "output_type": "execute_result"
    },
    {
     "data": {
      "image/png": "[encoded data removed]",
      "text/plain": [
       "<Figure size 900x600 with 8 Axes>"
      ]
     },
     "metadata": {},
     "output_type": "display_data"
    }
   ],
   "source": [
    "fig, axes = plt.subplots(ncols=4, nrows=2,\n",
    "                         figsize=(3*3, 2*3))\n",
    "axes[0,0].hist(attrv1[c3[0]])\n",
    "axes[0,0].set_title(c3[0])\n",
    "axes[1,0].hist(attrv1[c3[1]])\n",
    "axes[1,0].set_title(c3[1])\n",
    "axes[0,1].hist(attrv1[c3[2]])\n",
    "axes[0,1].set_title(c3[2])\n",
    "axes[1,1].hist(attrv1[c3[3]])\n",
    "axes[1,1].set_title(c3[3])\n",
    "axes[0,2].hist(attrv1[c3[4]])\n",
    "axes[0,2].set_title(c3[4])\n",
    "axes[1,2].hist(attrv1[c3[5]])\n",
    "axes[1,2].set_title(c3[5])\n",
    "axes[0,3].hist(attrv1[c3[6]])\n",
    "axes[0,3].set_title(c3[6])"
   ]
  },
  {
   "cell_type": "code",
   "execution_count": 394,
   "id": "b18df44c-c490-4cb8-be4d-54869bcf3c5d",
   "metadata": {
    "execution": {
     "iopub.execute_input": "2024-04-25T21:31:09.312263Z",
     "iopub.status.busy": "2024-04-25T21:31:09.311848Z",
     "iopub.status.idle": "2024-04-25T21:31:10.930922Z",
     "shell.execute_reply": "2024-04-25T21:31:10.930013Z",
     "shell.execute_reply.started": "2024-04-25T21:31:09.312240Z"
    }
   },
   "outputs": [
    {
     "data": {
      "text/plain": [
       "Text(0.5, 1.0, 'speedlimit')"
      ]
     },
     "execution_count": 394,
     "metadata": {},
     "output_type": "execute_result"
    },
    {
     "data": {
      "image/png": "[encoded data removed]",
      "text/plain": [
       "<Figure size 900x900 with 8 Axes>"
      ]
     },
     "metadata": {},
     "output_type": "display_data"
    }
   ],
   "source": [
    "fig, axes = plt.subplots(ncols=4, nrows=2,\n",
    "                         figsize=(3*3, 3*3))\n",
    "sm.qqplot(attrv1[c3[0]], line = '45', ax = axes[0,0])\n",
    "axes[0,0].set_title(c3[0])\n",
    "sm.qqplot(attrv1[c3[1]], line = '45', ax = axes[1,0])\n",
    "axes[1,0].set_title(c3[1])\n",
    "sm.qqplot(attrv1[c3[2]], line = '45', ax = axes[0,1])\n",
    "axes[0,1].set_title(c3[2])\n",
    "sm.qqplot(attrv1[c3[3]], line = '45', ax = axes[1,1])\n",
    "axes[1,1].set_title(c3[3])\n",
    "sm.qqplot(attrv1[c3[4]], line = '45', ax = axes[0,2])\n",
    "axes[0,2].set_title(c3[4])\n",
    "sm.qqplot(attrv1[c3[5]], line = '45', ax = axes[1,2])\n",
    "axes[1,2].set_title(c3[5])\n",
    "sm.qqplot(attrv1[c3[6]], line = '45', ax = axes[0,3])\n",
    "axes[0,3].set_title(c3[6])"
   ]
  },
  {
   "cell_type": "code",
   "execution_count": 198,
   "id": "e75036da-ca71-4659-9c97-2c88c88eeb03",
   "metadata": {
    "execution": {
     "iopub.execute_input": "2024-04-25T04:15:03.920840Z",
     "iopub.status.busy": "2024-04-25T04:15:03.920199Z",
     "iopub.status.idle": "2024-04-25T04:15:03.931393Z",
     "shell.execute_reply": "2024-04-25T04:15:03.930701Z",
     "shell.execute_reply.started": "2024-04-25T04:15:03.920816Z"
    }
   },
   "outputs": [],
   "source": [
    "# #with bicyclecount & carcount\n",
    "# acc_attrv1.to_csv('/home/yelhe/data/Traffic_network_variables/ttvariables_value_norm_stand_final.csv', index = False)"
   ]
  },
  {
   "cell_type": "code",
   "execution_count": 397,
   "id": "efde08e5-525f-482f-a572-b370192cd5a8",
   "metadata": {
    "execution": {
     "iopub.execute_input": "2024-04-25T21:33:18.866225Z",
     "iopub.status.busy": "2024-04-25T21:33:18.865594Z",
     "iopub.status.idle": "2024-04-25T21:33:18.869973Z",
     "shell.execute_reply": "2024-04-25T21:33:18.868913Z",
     "shell.execute_reply.started": "2024-04-25T21:33:18.866199Z"
    }
   },
   "outputs": [],
   "source": [
    "# not considering partial count of bicycle / car\n",
    "tt_attrv2 = tt_attrv.copy(deep = True)"
   ]
  },
  {
   "cell_type": "code",
   "execution_count": 398,
   "id": "e08d8860-263e-4c5c-ada2-dbc824d63813",
   "metadata": {
    "execution": {
     "iopub.execute_input": "2024-04-25T21:33:19.283887Z",
     "iopub.status.busy": "2024-04-25T21:33:19.283160Z",
     "iopub.status.idle": "2024-04-25T21:33:19.288428Z",
     "shell.execute_reply": "2024-04-25T21:33:19.287618Z",
     "shell.execute_reply.started": "2024-04-25T21:33:19.283853Z"
    }
   },
   "outputs": [],
   "source": [
    "tt_attrv2 = tt_attrv2.drop(['bicyclecount', 'carcount'], axis = 1)"
   ]
  },
  {
   "cell_type": "code",
   "execution_count": 399,
   "id": "1d140748-cc88-4074-8398-9d50845135eb",
   "metadata": {
    "execution": {
     "iopub.execute_input": "2024-04-25T21:33:19.694335Z",
     "iopub.status.busy": "2024-04-25T21:33:19.693932Z",
     "iopub.status.idle": "2024-04-25T21:33:19.700891Z",
     "shell.execute_reply": "2024-04-25T21:33:19.700213Z",
     "shell.execute_reply.started": "2024-04-25T21:33:19.694311Z"
    }
   },
   "outputs": [
    {
     "data": {
      "text/plain": [
       "Index(['id', 'gvm_dwv', 'gvm_msp', 'gvm_asp', 'r_width', 'speedlimit'], dtype='object')"
      ]
     },
     "execution_count": 399,
     "metadata": {},
     "output_type": "execute_result"
    }
   ],
   "source": [
    "tt_attrv2.columns"
   ]
  },
  {
   "cell_type": "code",
   "execution_count": 400,
   "id": "e1c91173-d9c7-4f00-8e3a-ce9596f976fa",
   "metadata": {
    "execution": {
     "iopub.execute_input": "2024-04-25T21:33:20.002353Z",
     "iopub.status.busy": "2024-04-25T21:33:20.001615Z",
     "iopub.status.idle": "2024-04-25T21:33:20.005867Z",
     "shell.execute_reply": "2024-04-25T21:33:20.005141Z",
     "shell.execute_reply.started": "2024-04-25T21:33:20.002318Z"
    }
   },
   "outputs": [],
   "source": [
    "c4 = ['gvm_dwv', 'gvm_msp', 'gvm_asp', 'r_width', 'speedlimit']"
   ]
  },
  {
   "cell_type": "code",
   "execution_count": 401,
   "id": "eb3b5859-c8c1-4a53-a047-3de477b708d9",
   "metadata": {
    "execution": {
     "iopub.execute_input": "2024-04-25T21:33:20.987916Z",
     "iopub.status.busy": "2024-04-25T21:33:20.987374Z",
     "iopub.status.idle": "2024-04-25T21:33:21.013944Z",
     "shell.execute_reply": "2024-04-25T21:33:21.013269Z",
     "shell.execute_reply.started": "2024-04-25T21:33:20.987891Z"
    }
   },
   "outputs": [],
   "source": [
    "# Transformation\n",
    "attrv2 = tt_attrv2.copy(deep = True)\n",
    "attrv2[c4[0]], a1 = stats.yeojohnson(attrv2[c4[0]])\n",
    "attrv2[c4[1]], a2 = stats.yeojohnson(attrv2[c4[1]])\n",
    "attrv2[c4[2]], a3 = stats.yeojohnson(attrv2[c4[2]])\n",
    "attrv2[c4[3]], a4 = stats.yeojohnson(attrv2[c4[3]])\n",
    "attrv2[c4[4]], a5 = stats.yeojohnson(attrv2[c4[4]])"
   ]
  },
  {
   "cell_type": "code",
   "execution_count": 402,
   "id": "0db60085-5286-43ee-bfb6-39dc53b33bb1",
   "metadata": {
    "execution": {
     "iopub.execute_input": "2024-04-25T21:33:21.805160Z",
     "iopub.status.busy": "2024-04-25T21:33:21.804567Z",
     "iopub.status.idle": "2024-04-25T21:33:21.817605Z",
     "shell.execute_reply": "2024-04-25T21:33:21.816334Z",
     "shell.execute_reply.started": "2024-04-25T21:33:21.805135Z"
    }
   },
   "outputs": [],
   "source": [
    "# Standardization\n",
    "attrv2[c4[0]] = stats.zscore(attrv2[c4[0]])\n",
    "attrv2[c4[1]] = stats.zscore(attrv2[c4[1]])\n",
    "attrv2[c4[2]] = stats.zscore(attrv2[c4[2]])\n",
    "attrv2[c4[3]] = stats.zscore(attrv2[c4[3]])\n",
    "attrv2[c4[4]] = stats.zscore(attrv2[c4[4]])"
   ]
  },
  {
   "cell_type": "code",
   "execution_count": 403,
   "id": "988241d5-fdce-425e-be77-97e8ad1f0d39",
   "metadata": {
    "execution": {
     "iopub.execute_input": "2024-04-25T21:33:26.783129Z",
     "iopub.status.busy": "2024-04-25T21:33:26.782369Z",
     "iopub.status.idle": "2024-04-25T21:33:26.786776Z",
     "shell.execute_reply": "2024-04-25T21:33:26.785983Z",
     "shell.execute_reply.started": "2024-04-25T21:33:26.783092Z"
    }
   },
   "outputs": [],
   "source": [
    "# fig, axes = plt.subplots(ncols=3, nrows=2,\n",
    "#                          figsize=(3*3, 2*3))\n",
    "# axes[0,0].hist(attrv1[c4[0]])\n",
    "# axes[0,0].set_title(c4[0])\n",
    "# axes[1,0].hist(attrv1[c4[1]])\n",
    "# axes[1,0].set_title(c4[1])\n",
    "# axes[0,1].hist(attrv1[c4[2]])\n",
    "# axes[0,1].set_title(c4[2])\n",
    "# axes[1,1].hist(attrv1[c4[3]])\n",
    "# axes[1,1].set_title(c4[3])\n",
    "# axes[0,2].hist(attrv1[c4[4]])\n",
    "# axes[0,2].set_title(c4[4])"
   ]
  },
  {
   "cell_type": "code",
   "execution_count": 404,
   "id": "e9c3e19b-ae67-44d2-b476-ae23b5d266ce",
   "metadata": {
    "execution": {
     "iopub.execute_input": "2024-04-25T21:33:29.144744Z",
     "iopub.status.busy": "2024-04-25T21:33:29.144086Z",
     "iopub.status.idle": "2024-04-25T21:33:29.148615Z",
     "shell.execute_reply": "2024-04-25T21:33:29.147288Z",
     "shell.execute_reply.started": "2024-04-25T21:33:29.144699Z"
    }
   },
   "outputs": [],
   "source": [
    "# fig, axes = plt.subplots(ncols=3, nrows=2,\n",
    "#                          figsize=(3*3, 3*3))\n",
    "# sm.qqplot(attrv2[c4[0]], line = '45', ax = axes[0,0])\n",
    "# axes[0,0].set_title(c4[0])\n",
    "# sm.qqplot(attrv2[c4[1]], line = '45', ax = axes[1,0])\n",
    "# axes[1,0].set_title(c4[1])\n",
    "# sm.qqplot(attrv2[c4[2]], line = '45', ax = axes[0,1])\n",
    "# axes[0,1].set_title(c4[2])\n",
    "# sm.qqplot(attrv2[c4[3]], line = '45', ax = axes[1,1])\n",
    "# axes[1,1].set_title(c4[3])\n",
    "# sm.qqplot(attrv2[c4[4]], line = '45', ax = axes[0,2])\n",
    "# axes[0,2].set_title(c4[4])\n"
   ]
  },
  {
   "cell_type": "code",
   "execution_count": 405,
   "id": "56b478d6-9528-40f0-bbe0-dc4e9289edfe",
   "metadata": {
    "execution": {
     "iopub.execute_input": "2024-04-25T21:33:31.257016Z",
     "iopub.status.busy": "2024-04-25T21:33:31.256253Z",
     "iopub.status.idle": "2024-04-25T21:33:31.260432Z",
     "shell.execute_reply": "2024-04-25T21:33:31.259629Z",
     "shell.execute_reply.started": "2024-04-25T21:33:31.256983Z"
    }
   },
   "outputs": [],
   "source": [
    "# attrv2.to_csv('/home/yelhe/data/Traffic_network_variables/ttvariables_value_norm_stand.csv', index = False)"
   ]
  },
  {
   "cell_type": "markdown",
   "id": "10d8aa4f-3896-48f0-979c-b749234514fd",
   "metadata": {},
   "source": [
    "#### Categorical variables"
   ]
  },
  {
   "cell_type": "code",
   "execution_count": 406,
   "id": "78229745-b26e-4e32-8ded-f2e1d2c97e57",
   "metadata": {
    "execution": {
     "iopub.execute_input": "2024-04-25T21:33:35.801778Z",
     "iopub.status.busy": "2024-04-25T21:33:35.801036Z",
     "iopub.status.idle": "2024-04-25T21:33:35.804958Z",
     "shell.execute_reply": "2024-04-25T21:33:35.804284Z",
     "shell.execute_reply.started": "2024-04-25T21:33:35.801741Z"
    }
   },
   "outputs": [],
   "source": [
    "import category_encoders as ce"
   ]
  },
  {
   "cell_type": "code",
   "execution_count": 407,
   "id": "841a7c38-f927-4734-a6cf-bc71b34cfdca",
   "metadata": {
    "execution": {
     "iopub.execute_input": "2024-04-25T21:33:35.970188Z",
     "iopub.status.busy": "2024-04-25T21:33:35.969683Z",
     "iopub.status.idle": "2024-04-25T21:33:35.977271Z",
     "shell.execute_reply": "2024-04-25T21:33:35.976653Z",
     "shell.execute_reply.started": "2024-04-25T21:33:35.970161Z"
    }
   },
   "outputs": [
    {
     "name": "stdout",
     "output_type": "stream",
     "text": [
      "209 34 12 3 7 2 7 2\n"
     ]
    }
   ],
   "source": [
    "# Categorical\n",
    "print(len(tt_attr['z_stznr'].unique()), len(tt_attr['z_qnr'].unique()), len(tt_attr['z_knr'].unique()),\n",
    "      len(tt_attr['trafficarea'].unique()), len(tt_attr['r_width'].unique()), len(tt_attr['r_surface'].unique()), \n",
    "      len(tt_attr['speedlimit'].unique()), len(tt_attr['curbtype'].unique()))"
   ]
  },
  {
   "cell_type": "code",
   "execution_count": 410,
   "id": "afa6dd58-9c71-45af-b55c-758a5b027c22",
   "metadata": {
    "execution": {
     "iopub.execute_input": "2024-04-25T21:33:53.136809Z",
     "iopub.status.busy": "2024-04-25T21:33:53.135997Z",
     "iopub.status.idle": "2024-04-25T21:33:53.142831Z",
     "shell.execute_reply": "2024-04-25T21:33:53.141846Z",
     "shell.execute_reply.started": "2024-04-25T21:33:53.136770Z"
    }
   },
   "outputs": [
    {
     "data": {
      "text/plain": [
       "array([25, 15])"
      ]
     },
     "execution_count": 410,
     "metadata": {},
     "output_type": "execute_result"
    }
   ],
   "source": [
    "tt_attr['curbtype'].unique()"
   ]
  },
  {
   "cell_type": "code",
   "execution_count": 411,
   "id": "edb92539-bd50-4def-aa10-52dca1afbe9a",
   "metadata": {
    "execution": {
     "iopub.execute_input": "2024-04-25T21:33:55.519758Z",
     "iopub.status.busy": "2024-04-25T21:33:55.519333Z",
     "iopub.status.idle": "2024-04-25T21:33:55.526088Z",
     "shell.execute_reply": "2024-04-25T21:33:55.525347Z",
     "shell.execute_reply.started": "2024-04-25T21:33:55.519728Z"
    }
   },
   "outputs": [
    {
     "data": {
      "text/plain": [
       "Index(['id', 'gvm_dwv', 'gvm_msp', 'gvm_asp', 'curbtype', 'z_stznr', 'z_qnr',\n",
       "       'z_knr', 'trafficarea', 'r_width', 'r_surface', 'speedlimit',\n",
       "       'bicyclecount', 'carcount'],\n",
       "      dtype='object')"
      ]
     },
     "execution_count": 411,
     "metadata": {},
     "output_type": "execute_result"
    }
   ],
   "source": [
    "tt_attr.columns"
   ]
  },
  {
   "cell_type": "code",
   "execution_count": 412,
   "id": "cf47b0b6-dd21-4ee5-94da-fd684f21ce50",
   "metadata": {
    "execution": {
     "iopub.execute_input": "2024-04-25T21:33:57.653339Z",
     "iopub.status.busy": "2024-04-25T21:33:57.652524Z",
     "iopub.status.idle": "2024-04-25T21:33:57.658896Z",
     "shell.execute_reply": "2024-04-25T21:33:57.658213Z",
     "shell.execute_reply.started": "2024-04-25T21:33:57.653307Z"
    }
   },
   "outputs": [],
   "source": [
    "tt_attrc = tt_attr.copy(deep = True)\n",
    "tt_attrc = tt_attrc[['id','curbtype','z_stznr','z_qnr','z_knr','trafficarea',\n",
    "                     'r_width','r_surface','speedlimit']]"
   ]
  },
  {
   "cell_type": "code",
   "execution_count": 413,
   "id": "90a7bb03-bd75-434d-978b-a084de512971",
   "metadata": {
    "execution": {
     "iopub.execute_input": "2024-04-25T21:33:58.040755Z",
     "iopub.status.busy": "2024-04-25T21:33:58.040270Z",
     "iopub.status.idle": "2024-04-25T21:33:58.046294Z",
     "shell.execute_reply": "2024-04-25T21:33:58.045510Z",
     "shell.execute_reply.started": "2024-04-25T21:33:58.040730Z"
    }
   },
   "outputs": [
    {
     "data": {
      "text/plain": [
       "Index(['id', 'curbtype', 'z_stznr', 'z_qnr', 'z_knr', 'trafficarea', 'r_width',\n",
       "       'r_surface', 'speedlimit'],\n",
       "      dtype='object')"
      ]
     },
     "execution_count": 413,
     "metadata": {},
     "output_type": "execute_result"
    }
   ],
   "source": [
    "tt_attrc.columns"
   ]
  },
  {
   "cell_type": "code",
   "execution_count": 414,
   "id": "03efb1d6-2134-4ef5-9473-5442a9bdcd90",
   "metadata": {
    "execution": {
     "iopub.execute_input": "2024-04-25T21:34:02.745260Z",
     "iopub.status.busy": "2024-04-25T21:34:02.744764Z",
     "iopub.status.idle": "2024-04-25T21:34:02.750470Z",
     "shell.execute_reply": "2024-04-25T21:34:02.749701Z",
     "shell.execute_reply.started": "2024-04-25T21:34:02.745235Z"
    }
   },
   "outputs": [
    {
     "data": {
      "text/plain": [
       "array(['T30', 'T20', 'T0'], dtype=object)"
      ]
     },
     "execution_count": 414,
     "metadata": {},
     "output_type": "execute_result"
    }
   ],
   "source": [
    "tt_attrc['trafficarea'].unique()"
   ]
  },
  {
   "cell_type": "code",
   "execution_count": 415,
   "id": "f892ce76-2185-43fd-85a1-0c7880b998c2",
   "metadata": {
    "execution": {
     "iopub.execute_input": "2024-04-25T21:34:03.401861Z",
     "iopub.status.busy": "2024-04-25T21:34:03.401355Z",
     "iopub.status.idle": "2024-04-25T21:34:03.407292Z",
     "shell.execute_reply": "2024-04-25T21:34:03.405927Z",
     "shell.execute_reply.started": "2024-04-25T21:34:03.401833Z"
    }
   },
   "outputs": [],
   "source": [
    "tt_attrc = tt_attrc.drop(['z_stznr'], axis = 1)"
   ]
  },
  {
   "cell_type": "code",
   "execution_count": 416,
   "id": "6f54067c-3899-435e-bc81-d5928aac5aa1",
   "metadata": {
    "execution": {
     "iopub.execute_input": "2024-04-25T21:34:04.777689Z",
     "iopub.status.busy": "2024-04-25T21:34:04.776944Z",
     "iopub.status.idle": "2024-04-25T21:34:04.842199Z",
     "shell.execute_reply": "2024-04-25T21:34:04.841413Z",
     "shell.execute_reply.started": "2024-04-25T21:34:04.777656Z"
    }
   },
   "outputs": [],
   "source": [
    "oh = ce.OneHotEncoder(cols = ['curbtype','z_qnr','z_knr','trafficarea',\n",
    "                                    'r_width','r_surface','speedlimit'])\n",
    "attrc_oh = oh.fit_transform(tt_attrc)"
   ]
  },
  {
   "cell_type": "code",
   "execution_count": 417,
   "id": "729b5120-7cd4-4f51-90fe-dc46135718db",
   "metadata": {
    "execution": {
     "iopub.execute_input": "2024-04-25T21:34:15.045533Z",
     "iopub.status.busy": "2024-04-25T21:34:15.045191Z",
     "iopub.status.idle": "2024-04-25T21:34:15.051534Z",
     "shell.execute_reply": "2024-04-25T21:34:15.050734Z",
     "shell.execute_reply.started": "2024-04-25T21:34:15.045511Z"
    }
   },
   "outputs": [
    {
     "data": {
      "text/plain": [
       "Index(['id', 'curbtype_1', 'curbtype_2', 'z_qnr_1', 'z_qnr_2', 'z_qnr_3',\n",
       "       'z_qnr_4', 'z_qnr_5', 'z_qnr_6', 'z_qnr_7', 'z_qnr_8', 'z_qnr_9',\n",
       "       'z_qnr_10', 'z_qnr_11', 'z_qnr_12', 'z_qnr_13', 'z_qnr_14', 'z_qnr_15',\n",
       "       'z_qnr_16', 'z_qnr_17', 'z_qnr_18', 'z_qnr_19', 'z_qnr_20', 'z_qnr_21',\n",
       "       'z_qnr_22', 'z_qnr_23', 'z_qnr_24', 'z_qnr_25', 'z_qnr_26', 'z_qnr_27',\n",
       "       'z_qnr_28', 'z_qnr_29', 'z_qnr_30', 'z_qnr_31', 'z_qnr_32', 'z_qnr_33',\n",
       "       'z_qnr_34', 'z_knr_1', 'z_knr_2', 'z_knr_3', 'z_knr_4', 'z_knr_5',\n",
       "       'z_knr_6', 'z_knr_7', 'z_knr_8', 'z_knr_9', 'z_knr_10', 'z_knr_11',\n",
       "       'z_knr_12', 'trafficarea_1', 'trafficarea_2', 'trafficarea_3',\n",
       "       'r_width_1', 'r_width_2', 'r_width_3', 'r_width_4', 'r_width_5',\n",
       "       'r_width_6', 'r_width_7', 'r_surface_1', 'r_surface_2', 'speedlimit_1',\n",
       "       'speedlimit_2', 'speedlimit_3', 'speedlimit_4', 'speedlimit_5',\n",
       "       'speedlimit_6', 'speedlimit_7'],\n",
       "      dtype='object')"
      ]
     },
     "execution_count": 417,
     "metadata": {},
     "output_type": "execute_result"
    }
   ],
   "source": [
    "attrc_oh.columns"
   ]
  },
  {
   "cell_type": "code",
   "execution_count": 418,
   "id": "166cab3e-30bc-41d4-a571-32064101447f",
   "metadata": {
    "execution": {
     "iopub.execute_input": "2024-04-25T21:34:22.634374Z",
     "iopub.status.busy": "2024-04-25T21:34:22.633716Z",
     "iopub.status.idle": "2024-04-25T21:34:22.641904Z",
     "shell.execute_reply": "2024-04-25T21:34:22.641007Z",
     "shell.execute_reply.started": "2024-04-25T21:34:22.634348Z"
    }
   },
   "outputs": [],
   "source": [
    "tt_attrc_oh = tt_attrc.merge(attrc_oh, on = ['id'])"
   ]
  },
  {
   "cell_type": "code",
   "execution_count": 419,
   "id": "dcd20a27-f357-4b3b-840e-4dbfe339056f",
   "metadata": {
    "execution": {
     "iopub.execute_input": "2024-04-25T21:34:23.629109Z",
     "iopub.status.busy": "2024-04-25T21:34:23.628567Z",
     "iopub.status.idle": "2024-04-25T21:34:23.632534Z",
     "shell.execute_reply": "2024-04-25T21:34:23.631331Z",
     "shell.execute_reply.started": "2024-04-25T21:34:23.629083Z"
    }
   },
   "outputs": [],
   "source": [
    "# All points with categorical data\n",
    "# tt_attrc_oh.to_csv('/home/yelhe/data/Traffic_network_variables/ttvariables_categorical.csv', index = False)"
   ]
  },
  {
   "cell_type": "code",
   "execution_count": 420,
   "id": "1ed81b6a-aa86-4bdc-9845-01fada7d8a38",
   "metadata": {
    "execution": {
     "iopub.execute_input": "2024-04-25T21:34:24.145552Z",
     "iopub.status.busy": "2024-04-25T21:34:24.145223Z",
     "iopub.status.idle": "2024-04-25T21:34:24.161880Z",
     "shell.execute_reply": "2024-04-25T21:34:24.161002Z",
     "shell.execute_reply.started": "2024-04-25T21:34:24.145529Z"
    }
   },
   "outputs": [
    {
     "name": "stdout",
     "output_type": "stream",
     "text": [
      "<class 'pandas.core.frame.DataFrame'>\n",
      "RangeIndex: 995 entries, 0 to 994\n",
      "Data columns (total 75 columns):\n",
      " #   Column         Non-Null Count  Dtype \n",
      "---  ------         --------------  ----- \n",
      " 0   id             995 non-null    int64 \n",
      " 1   curbtype       995 non-null    int64 \n",
      " 2   z_qnr          995 non-null    int64 \n",
      " 3   z_knr          995 non-null    int64 \n",
      " 4   trafficarea    995 non-null    object\n",
      " 5   r_width        995 non-null    int64 \n",
      " 6   r_surface      995 non-null    object\n",
      " 7   speedlimit     995 non-null    int64 \n",
      " 8   curbtype_1     995 non-null    int64 \n",
      " 9   curbtype_2     995 non-null    int64 \n",
      " 10  z_qnr_1        995 non-null    int64 \n",
      " 11  z_qnr_2        995 non-null    int64 \n",
      " 12  z_qnr_3        995 non-null    int64 \n",
      " 13  z_qnr_4        995 non-null    int64 \n",
      " 14  z_qnr_5        995 non-null    int64 \n",
      " 15  z_qnr_6        995 non-null    int64 \n",
      " 16  z_qnr_7        995 non-null    int64 \n",
      " 17  z_qnr_8        995 non-null    int64 \n",
      " 18  z_qnr_9        995 non-null    int64 \n",
      " 19  z_qnr_10       995 non-null    int64 \n",
      " 20  z_qnr_11       995 non-null    int64 \n",
      " 21  z_qnr_12       995 non-null    int64 \n",
      " 22  z_qnr_13       995 non-null    int64 \n",
      " 23  z_qnr_14       995 non-null    int64 \n",
      " 24  z_qnr_15       995 non-null    int64 \n",
      " 25  z_qnr_16       995 non-null    int64 \n",
      " 26  z_qnr_17       995 non-null    int64 \n",
      " 27  z_qnr_18       995 non-null    int64 \n",
      " 28  z_qnr_19       995 non-null    int64 \n",
      " 29  z_qnr_20       995 non-null    int64 \n",
      " 30  z_qnr_21       995 non-null    int64 \n",
      " 31  z_qnr_22       995 non-null    int64 \n",
      " 32  z_qnr_23       995 non-null    int64 \n",
      " 33  z_qnr_24       995 non-null    int64 \n",
      " 34  z_qnr_25       995 non-null    int64 \n",
      " 35  z_qnr_26       995 non-null    int64 \n",
      " 36  z_qnr_27       995 non-null    int64 \n",
      " 37  z_qnr_28       995 non-null    int64 \n",
      " 38  z_qnr_29       995 non-null    int64 \n",
      " 39  z_qnr_30       995 non-null    int64 \n",
      " 40  z_qnr_31       995 non-null    int64 \n",
      " 41  z_qnr_32       995 non-null    int64 \n",
      " 42  z_qnr_33       995 non-null    int64 \n",
      " 43  z_qnr_34       995 non-null    int64 \n",
      " 44  z_knr_1        995 non-null    int64 \n",
      " 45  z_knr_2        995 non-null    int64 \n",
      " 46  z_knr_3        995 non-null    int64 \n",
      " 47  z_knr_4        995 non-null    int64 \n",
      " 48  z_knr_5        995 non-null    int64 \n",
      " 49  z_knr_6        995 non-null    int64 \n",
      " 50  z_knr_7        995 non-null    int64 \n",
      " 51  z_knr_8        995 non-null    int64 \n",
      " 52  z_knr_9        995 non-null    int64 \n",
      " 53  z_knr_10       995 non-null    int64 \n",
      " 54  z_knr_11       995 non-null    int64 \n",
      " 55  z_knr_12       995 non-null    int64 \n",
      " 56  trafficarea_1  995 non-null    int64 \n",
      " 57  trafficarea_2  995 non-null    int64 \n",
      " 58  trafficarea_3  995 non-null    int64 \n",
      " 59  r_width_1      995 non-null    int64 \n",
      " 60  r_width_2      995 non-null    int64 \n",
      " 61  r_width_3      995 non-null    int64 \n",
      " 62  r_width_4      995 non-null    int64 \n",
      " 63  r_width_5      995 non-null    int64 \n",
      " 64  r_width_6      995 non-null    int64 \n",
      " 65  r_width_7      995 non-null    int64 \n",
      " 66  r_surface_1    995 non-null    int64 \n",
      " 67  r_surface_2    995 non-null    int64 \n",
      " 68  speedlimit_1   995 non-null    int64 \n",
      " 69  speedlimit_2   995 non-null    int64 \n",
      " 70  speedlimit_3   995 non-null    int64 \n",
      " 71  speedlimit_4   995 non-null    int64 \n",
      " 72  speedlimit_5   995 non-null    int64 \n",
      " 73  speedlimit_6   995 non-null    int64 \n",
      " 74  speedlimit_7   995 non-null    int64 \n",
      "dtypes: int64(73), object(2)\n",
      "memory usage: 583.1+ KB\n"
     ]
    }
   ],
   "source": [
    "tt_attrc_oh.info()"
   ]
  },
  {
   "cell_type": "code",
   "execution_count": 421,
   "id": "1ab7781f-2562-45ad-a8f5-a2d6568960fd",
   "metadata": {
    "execution": {
     "iopub.execute_input": "2024-04-25T21:35:14.382770Z",
     "iopub.status.busy": "2024-04-25T21:35:14.382244Z",
     "iopub.status.idle": "2024-04-25T21:35:14.410737Z",
     "shell.execute_reply": "2024-04-25T21:35:14.409749Z",
     "shell.execute_reply.started": "2024-04-25T21:35:14.382745Z"
    }
   },
   "outputs": [
    {
     "data": {
      "text/html": [
       "<div>\n",
       "<style scoped>\n",
       "    .dataframe tbody tr th:only-of-type {\n",
       "        vertical-align: middle;\n",
       "    }\n",
       "\n",
       "    .dataframe tbody tr th {\n",
       "        vertical-align: top;\n",
       "    }\n",
       "\n",
       "    .dataframe thead th {\n",
       "        text-align: right;\n",
       "    }\n",
       "</style>\n",
       "<table border=\"1\" class=\"dataframe\">\n",
       "  <thead>\n",
       "    <tr style=\"text-align: right;\">\n",
       "      <th></th>\n",
       "      <th>id</th>\n",
       "      <th>dbusl</th>\n",
       "      <th>dtraml</th>\n",
       "      <th>dtrainl</th>\n",
       "      <th>dplight</th>\n",
       "      <th>dstation</th>\n",
       "      <th>dparkcar</th>\n",
       "      <th>dparktw</th>\n",
       "      <th>dpedcro</th>\n",
       "      <th>dstopsign</th>\n",
       "      <th>dcurb</th>\n",
       "      <th>dtrafficarea</th>\n",
       "      <th>droad</th>\n",
       "      <th>droad_sl</th>\n",
       "      <th>dvfpath</th>\n",
       "      <th>d_bicyclecount</th>\n",
       "      <th>d_carcount</th>\n",
       "    </tr>\n",
       "  </thead>\n",
       "  <tbody>\n",
       "    <tr>\n",
       "      <th>0</th>\n",
       "      <td>0</td>\n",
       "      <td>0.533307</td>\n",
       "      <td>0.234998</td>\n",
       "      <td>-0.942784</td>\n",
       "      <td>0.368033</td>\n",
       "      <td>-0.338682</td>\n",
       "      <td>-0.753528</td>\n",
       "      <td>-0.235239</td>\n",
       "      <td>0.399750</td>\n",
       "      <td>0.124495</td>\n",
       "      <td>-0.761710</td>\n",
       "      <td>-0.977304</td>\n",
       "      <td>-0.638466</td>\n",
       "      <td>-0.622514</td>\n",
       "      <td>-0.280192</td>\n",
       "      <td>-0.087370</td>\n",
       "      <td>0.846085</td>\n",
       "    </tr>\n",
       "    <tr>\n",
       "      <th>1</th>\n",
       "      <td>1</td>\n",
       "      <td>-0.119043</td>\n",
       "      <td>0.403879</td>\n",
       "      <td>0.407263</td>\n",
       "      <td>-0.066734</td>\n",
       "      <td>-1.392289</td>\n",
       "      <td>0.250676</td>\n",
       "      <td>0.003987</td>\n",
       "      <td>-0.213828</td>\n",
       "      <td>-1.193288</td>\n",
       "      <td>1.570392</td>\n",
       "      <td>1.155005</td>\n",
       "      <td>1.998772</td>\n",
       "      <td>2.069438</td>\n",
       "      <td>-0.280192</td>\n",
       "      <td>0.602345</td>\n",
       "      <td>0.809218</td>\n",
       "    </tr>\n",
       "    <tr>\n",
       "      <th>2</th>\n",
       "      <td>2</td>\n",
       "      <td>-1.359782</td>\n",
       "      <td>0.308782</td>\n",
       "      <td>0.426493</td>\n",
       "      <td>0.373822</td>\n",
       "      <td>-0.080771</td>\n",
       "      <td>0.550927</td>\n",
       "      <td>0.741068</td>\n",
       "      <td>0.767492</td>\n",
       "      <td>-1.181795</td>\n",
       "      <td>-0.761402</td>\n",
       "      <td>0.523856</td>\n",
       "      <td>-0.637635</td>\n",
       "      <td>-0.621397</td>\n",
       "      <td>-0.280192</td>\n",
       "      <td>0.410674</td>\n",
       "      <td>0.572785</td>\n",
       "    </tr>\n",
       "    <tr>\n",
       "      <th>3</th>\n",
       "      <td>3</td>\n",
       "      <td>-1.063223</td>\n",
       "      <td>-0.879155</td>\n",
       "      <td>-1.311050</td>\n",
       "      <td>-0.263934</td>\n",
       "      <td>-0.100307</td>\n",
       "      <td>0.812164</td>\n",
       "      <td>0.035551</td>\n",
       "      <td>-1.581991</td>\n",
       "      <td>0.075559</td>\n",
       "      <td>-0.757788</td>\n",
       "      <td>0.495516</td>\n",
       "      <td>-0.638946</td>\n",
       "      <td>-0.623035</td>\n",
       "      <td>-0.280192</td>\n",
       "      <td>1.115502</td>\n",
       "      <td>-0.533344</td>\n",
       "    </tr>\n",
       "    <tr>\n",
       "      <th>4</th>\n",
       "      <td>4</td>\n",
       "      <td>-1.128829</td>\n",
       "      <td>0.610985</td>\n",
       "      <td>-0.509752</td>\n",
       "      <td>0.125982</td>\n",
       "      <td>0.196984</td>\n",
       "      <td>0.059786</td>\n",
       "      <td>1.905565</td>\n",
       "      <td>0.747465</td>\n",
       "      <td>0.919871</td>\n",
       "      <td>0.116717</td>\n",
       "      <td>-0.977304</td>\n",
       "      <td>-0.500954</td>\n",
       "      <td>-0.453974</td>\n",
       "      <td>-0.280192</td>\n",
       "      <td>0.231021</td>\n",
       "      <td>2.046426</td>\n",
       "    </tr>\n",
       "    <tr>\n",
       "      <th>...</th>\n",
       "      <td>...</td>\n",
       "      <td>...</td>\n",
       "      <td>...</td>\n",
       "      <td>...</td>\n",
       "      <td>...</td>\n",
       "      <td>...</td>\n",
       "      <td>...</td>\n",
       "      <td>...</td>\n",
       "      <td>...</td>\n",
       "      <td>...</td>\n",
       "      <td>...</td>\n",
       "      <td>...</td>\n",
       "      <td>...</td>\n",
       "      <td>...</td>\n",
       "      <td>...</td>\n",
       "      <td>...</td>\n",
       "      <td>...</td>\n",
       "    </tr>\n",
       "    <tr>\n",
       "      <th>990</th>\n",
       "      <td>990</td>\n",
       "      <td>-0.925660</td>\n",
       "      <td>-1.628441</td>\n",
       "      <td>-1.632431</td>\n",
       "      <td>-0.021946</td>\n",
       "      <td>-2.198568</td>\n",
       "      <td>0.609004</td>\n",
       "      <td>-0.863880</td>\n",
       "      <td>-1.343455</td>\n",
       "      <td>-1.047874</td>\n",
       "      <td>-0.625660</td>\n",
       "      <td>0.762107</td>\n",
       "      <td>-0.565424</td>\n",
       "      <td>-0.532575</td>\n",
       "      <td>-0.280192</td>\n",
       "      <td>-1.177238</td>\n",
       "      <td>-1.651058</td>\n",
       "    </tr>\n",
       "    <tr>\n",
       "      <th>991</th>\n",
       "      <td>991</td>\n",
       "      <td>-1.271416</td>\n",
       "      <td>-1.936622</td>\n",
       "      <td>-1.194329</td>\n",
       "      <td>-0.110180</td>\n",
       "      <td>0.380956</td>\n",
       "      <td>-0.375359</td>\n",
       "      <td>-0.639604</td>\n",
       "      <td>-0.758515</td>\n",
       "      <td>-0.207444</td>\n",
       "      <td>-0.762091</td>\n",
       "      <td>0.562125</td>\n",
       "      <td>-0.639142</td>\n",
       "      <td>-0.623284</td>\n",
       "      <td>-0.280192</td>\n",
       "      <td>-0.509256</td>\n",
       "      <td>-1.921410</td>\n",
       "    </tr>\n",
       "    <tr>\n",
       "      <th>992</th>\n",
       "      <td>992</td>\n",
       "      <td>-1.360452</td>\n",
       "      <td>-1.849233</td>\n",
       "      <td>-0.088335</td>\n",
       "      <td>0.731553</td>\n",
       "      <td>-1.535603</td>\n",
       "      <td>-1.124832</td>\n",
       "      <td>-1.800711</td>\n",
       "      <td>0.548884</td>\n",
       "      <td>-0.091750</td>\n",
       "      <td>-0.760316</td>\n",
       "      <td>0.576492</td>\n",
       "      <td>-0.590773</td>\n",
       "      <td>-0.563837</td>\n",
       "      <td>-0.280192</td>\n",
       "      <td>-0.916710</td>\n",
       "      <td>-1.402257</td>\n",
       "    </tr>\n",
       "    <tr>\n",
       "      <th>993</th>\n",
       "      <td>993</td>\n",
       "      <td>-0.771386</td>\n",
       "      <td>-1.360861</td>\n",
       "      <td>0.031903</td>\n",
       "      <td>-4.136232</td>\n",
       "      <td>-2.232247</td>\n",
       "      <td>-0.865692</td>\n",
       "      <td>-0.398089</td>\n",
       "      <td>1.156709</td>\n",
       "      <td>-0.357271</td>\n",
       "      <td>1.299746</td>\n",
       "      <td>0.682796</td>\n",
       "      <td>-0.638717</td>\n",
       "      <td>-0.622902</td>\n",
       "      <td>-0.280192</td>\n",
       "      <td>-1.541722</td>\n",
       "      <td>-0.513627</td>\n",
       "    </tr>\n",
       "    <tr>\n",
       "      <th>994</th>\n",
       "      <td>994</td>\n",
       "      <td>0.535102</td>\n",
       "      <td>-0.317141</td>\n",
       "      <td>0.209245</td>\n",
       "      <td>-1.027048</td>\n",
       "      <td>-1.518051</td>\n",
       "      <td>0.948477</td>\n",
       "      <td>0.177159</td>\n",
       "      <td>1.098560</td>\n",
       "      <td>-0.659969</td>\n",
       "      <td>1.690178</td>\n",
       "      <td>-0.977304</td>\n",
       "      <td>-0.642311</td>\n",
       "      <td>-0.627254</td>\n",
       "      <td>-0.280192</td>\n",
       "      <td>-2.088202</td>\n",
       "      <td>-0.294346</td>\n",
       "    </tr>\n",
       "  </tbody>\n",
       "</table>\n",
       "<p>995 rows × 17 columns</p>\n",
       "</div>"
      ],
      "text/plain": [
       "      id     dbusl    dtraml   dtrainl   dplight  dstation  dparkcar  \\\n",
       "0      0  0.533307  0.234998 -0.942784  0.368033 -0.338682 -0.753528   \n",
       "1      1 -0.119043  0.403879  0.407263 -0.066734 -1.392289  0.250676   \n",
       "2      2 -1.359782  0.308782  0.426493  0.373822 -0.080771  0.550927   \n",
       "3      3 -1.063223 -0.879155 -1.311050 -0.263934 -0.100307  0.812164   \n",
       "4      4 -1.128829  0.610985 -0.509752  0.125982  0.196984  0.059786   \n",
       "..   ...       ...       ...       ...       ...       ...       ...   \n",
       "990  990 -0.925660 -1.628441 -1.632431 -0.021946 -2.198568  0.609004   \n",
       "991  991 -1.271416 -1.936622 -1.194329 -0.110180  0.380956 -0.375359   \n",
       "992  992 -1.360452 -1.849233 -0.088335  0.731553 -1.535603 -1.124832   \n",
       "993  993 -0.771386 -1.360861  0.031903 -4.136232 -2.232247 -0.865692   \n",
       "994  994  0.535102 -0.317141  0.209245 -1.027048 -1.518051  0.948477   \n",
       "\n",
       "      dparktw   dpedcro  dstopsign     dcurb  dtrafficarea     droad  \\\n",
       "0   -0.235239  0.399750   0.124495 -0.761710     -0.977304 -0.638466   \n",
       "1    0.003987 -0.213828  -1.193288  1.570392      1.155005  1.998772   \n",
       "2    0.741068  0.767492  -1.181795 -0.761402      0.523856 -0.637635   \n",
       "3    0.035551 -1.581991   0.075559 -0.757788      0.495516 -0.638946   \n",
       "4    1.905565  0.747465   0.919871  0.116717     -0.977304 -0.500954   \n",
       "..        ...       ...        ...       ...           ...       ...   \n",
       "990 -0.863880 -1.343455  -1.047874 -0.625660      0.762107 -0.565424   \n",
       "991 -0.639604 -0.758515  -0.207444 -0.762091      0.562125 -0.639142   \n",
       "992 -1.800711  0.548884  -0.091750 -0.760316      0.576492 -0.590773   \n",
       "993 -0.398089  1.156709  -0.357271  1.299746      0.682796 -0.638717   \n",
       "994  0.177159  1.098560  -0.659969  1.690178     -0.977304 -0.642311   \n",
       "\n",
       "     droad_sl   dvfpath  d_bicyclecount  d_carcount  \n",
       "0   -0.622514 -0.280192       -0.087370    0.846085  \n",
       "1    2.069438 -0.280192        0.602345    0.809218  \n",
       "2   -0.621397 -0.280192        0.410674    0.572785  \n",
       "3   -0.623035 -0.280192        1.115502   -0.533344  \n",
       "4   -0.453974 -0.280192        0.231021    2.046426  \n",
       "..        ...       ...             ...         ...  \n",
       "990 -0.532575 -0.280192       -1.177238   -1.651058  \n",
       "991 -0.623284 -0.280192       -0.509256   -1.921410  \n",
       "992 -0.563837 -0.280192       -0.916710   -1.402257  \n",
       "993 -0.622902 -0.280192       -1.541722   -0.513627  \n",
       "994 -0.627254 -0.280192       -2.088202   -0.294346  \n",
       "\n",
       "[995 rows x 17 columns]"
      ]
     },
     "execution_count": 421,
     "metadata": {},
     "output_type": "execute_result"
    }
   ],
   "source": [
    "tt_dist_st"
   ]
  },
  {
   "cell_type": "code",
   "execution_count": 422,
   "id": "57b6093d-c7d0-490f-be9d-8e38138124f2",
   "metadata": {
    "execution": {
     "iopub.execute_input": "2024-04-25T21:35:22.876754Z",
     "iopub.status.busy": "2024-04-25T21:35:22.875907Z",
     "iopub.status.idle": "2024-04-25T21:35:22.886555Z",
     "shell.execute_reply": "2024-04-25T21:35:22.885791Z",
     "shell.execute_reply.started": "2024-04-25T21:35:22.876718Z"
    }
   },
   "outputs": [
    {
     "name": "stdout",
     "output_type": "stream",
     "text": [
      "<class 'pandas.core.frame.DataFrame'>\n",
      "RangeIndex: 995 entries, 0 to 994\n",
      "Data columns (total 8 columns):\n",
      " #   Column        Non-Null Count  Dtype  \n",
      "---  ------        --------------  -----  \n",
      " 0   id            995 non-null    int64  \n",
      " 1   gvm_dwv       995 non-null    float64\n",
      " 2   gvm_msp       995 non-null    float64\n",
      " 3   gvm_asp       995 non-null    float64\n",
      " 4   bicyclecount  995 non-null    float64\n",
      " 5   carcount      995 non-null    float64\n",
      " 6   r_width       995 non-null    float64\n",
      " 7   speedlimit    995 non-null    float64\n",
      "dtypes: float64(7), int64(1)\n",
      "memory usage: 62.3 KB\n"
     ]
    }
   ],
   "source": [
    "attrv1.info()"
   ]
  },
  {
   "cell_type": "code",
   "execution_count": 423,
   "id": "a9fc38c2-c95f-42bb-9bd5-7076a2f930a1",
   "metadata": {
    "execution": {
     "iopub.execute_input": "2024-04-25T21:35:26.232893Z",
     "iopub.status.busy": "2024-04-25T21:35:26.232401Z",
     "iopub.status.idle": "2024-04-25T21:35:26.237782Z",
     "shell.execute_reply": "2024-04-25T21:35:26.237063Z",
     "shell.execute_reply.started": "2024-04-25T21:35:26.232850Z"
    }
   },
   "outputs": [],
   "source": [
    "attrv1 = attrv1.rename(columns = {'r_width': 'r_width_value',\n",
    "                                  'speedlimit': 'speedlimit_value'})"
   ]
  },
  {
   "cell_type": "code",
   "execution_count": 424,
   "id": "2cb0036a-1e0d-4f35-9668-ffe46338da7a",
   "metadata": {
    "execution": {
     "iopub.execute_input": "2024-04-25T21:35:28.644240Z",
     "iopub.status.busy": "2024-04-25T21:35:28.643575Z",
     "iopub.status.idle": "2024-04-25T21:35:28.653221Z",
     "shell.execute_reply": "2024-04-25T21:35:28.652405Z",
     "shell.execute_reply.started": "2024-04-25T21:35:28.644206Z"
    }
   },
   "outputs": [],
   "source": [
    "ttall = tt_dist_st.merge(attrv1, on = ['id'])"
   ]
  },
  {
   "cell_type": "code",
   "execution_count": 425,
   "id": "2fd84b59-425b-4fe9-a08b-7ac510b078c8",
   "metadata": {
    "execution": {
     "iopub.execute_input": "2024-04-25T21:35:28.707450Z",
     "iopub.status.busy": "2024-04-25T21:35:28.706582Z",
     "iopub.status.idle": "2024-04-25T21:35:28.720636Z",
     "shell.execute_reply": "2024-04-25T21:35:28.719803Z",
     "shell.execute_reply.started": "2024-04-25T21:35:28.707414Z"
    }
   },
   "outputs": [
    {
     "name": "stdout",
     "output_type": "stream",
     "text": [
      "<class 'pandas.core.frame.DataFrame'>\n",
      "RangeIndex: 995 entries, 0 to 994\n",
      "Data columns (total 24 columns):\n",
      " #   Column            Non-Null Count  Dtype  \n",
      "---  ------            --------------  -----  \n",
      " 0   id                995 non-null    int64  \n",
      " 1   dbusl             995 non-null    float64\n",
      " 2   dtraml            995 non-null    float64\n",
      " 3   dtrainl           995 non-null    float64\n",
      " 4   dplight           995 non-null    float64\n",
      " 5   dstation          995 non-null    float64\n",
      " 6   dparkcar          995 non-null    float64\n",
      " 7   dparktw           995 non-null    float64\n",
      " 8   dpedcro           995 non-null    float64\n",
      " 9   dstopsign         995 non-null    float64\n",
      " 10  dcurb             995 non-null    float64\n",
      " 11  dtrafficarea      995 non-null    float64\n",
      " 12  droad             995 non-null    float64\n",
      " 13  droad_sl          995 non-null    float64\n",
      " 14  dvfpath           995 non-null    float64\n",
      " 15  d_bicyclecount    995 non-null    float64\n",
      " 16  d_carcount        995 non-null    float64\n",
      " 17  gvm_dwv           995 non-null    float64\n",
      " 18  gvm_msp           995 non-null    float64\n",
      " 19  gvm_asp           995 non-null    float64\n",
      " 20  bicyclecount      995 non-null    float64\n",
      " 21  carcount          995 non-null    float64\n",
      " 22  r_width_value     995 non-null    float64\n",
      " 23  speedlimit_value  995 non-null    float64\n",
      "dtypes: float64(23), int64(1)\n",
      "memory usage: 186.7 KB\n"
     ]
    }
   ],
   "source": [
    "ttall.info()"
   ]
  },
  {
   "cell_type": "code",
   "execution_count": 426,
   "id": "be8b2ade-fc0d-4eed-816e-9aac8142e2ee",
   "metadata": {
    "execution": {
     "iopub.execute_input": "2024-04-25T21:35:37.646714Z",
     "iopub.status.busy": "2024-04-25T21:35:37.645968Z",
     "iopub.status.idle": "2024-04-25T21:35:37.658559Z",
     "shell.execute_reply": "2024-04-25T21:35:37.657770Z",
     "shell.execute_reply.started": "2024-04-25T21:35:37.646679Z"
    }
   },
   "outputs": [],
   "source": [
    "ttall = ttall.merge(tt_attrc_oh, on = ['id'])"
   ]
  },
  {
   "cell_type": "code",
   "execution_count": 427,
   "id": "5f1dcd9a-a160-47b6-9a42-5525b9ecc832",
   "metadata": {
    "execution": {
     "iopub.execute_input": "2024-04-25T21:35:38.432854Z",
     "iopub.status.busy": "2024-04-25T21:35:38.432420Z",
     "iopub.status.idle": "2024-04-25T21:35:38.455425Z",
     "shell.execute_reply": "2024-04-25T21:35:38.454582Z",
     "shell.execute_reply.started": "2024-04-25T21:35:38.432829Z"
    }
   },
   "outputs": [
    {
     "name": "stdout",
     "output_type": "stream",
     "text": [
      "<class 'pandas.core.frame.DataFrame'>\n",
      "RangeIndex: 995 entries, 0 to 994\n",
      "Data columns (total 98 columns):\n",
      " #   Column            Non-Null Count  Dtype  \n",
      "---  ------            --------------  -----  \n",
      " 0   id                995 non-null    int64  \n",
      " 1   dbusl             995 non-null    float64\n",
      " 2   dtraml            995 non-null    float64\n",
      " 3   dtrainl           995 non-null    float64\n",
      " 4   dplight           995 non-null    float64\n",
      " 5   dstation          995 non-null    float64\n",
      " 6   dparkcar          995 non-null    float64\n",
      " 7   dparktw           995 non-null    float64\n",
      " 8   dpedcro           995 non-null    float64\n",
      " 9   dstopsign         995 non-null    float64\n",
      " 10  dcurb             995 non-null    float64\n",
      " 11  dtrafficarea      995 non-null    float64\n",
      " 12  droad             995 non-null    float64\n",
      " 13  droad_sl          995 non-null    float64\n",
      " 14  dvfpath           995 non-null    float64\n",
      " 15  d_bicyclecount    995 non-null    float64\n",
      " 16  d_carcount        995 non-null    float64\n",
      " 17  gvm_dwv           995 non-null    float64\n",
      " 18  gvm_msp           995 non-null    float64\n",
      " 19  gvm_asp           995 non-null    float64\n",
      " 20  bicyclecount      995 non-null    float64\n",
      " 21  carcount          995 non-null    float64\n",
      " 22  r_width_value     995 non-null    float64\n",
      " 23  speedlimit_value  995 non-null    float64\n",
      " 24  curbtype          995 non-null    int64  \n",
      " 25  z_qnr             995 non-null    int64  \n",
      " 26  z_knr             995 non-null    int64  \n",
      " 27  trafficarea       995 non-null    object \n",
      " 28  r_width           995 non-null    int64  \n",
      " 29  r_surface         995 non-null    object \n",
      " 30  speedlimit        995 non-null    int64  \n",
      " 31  curbtype_1        995 non-null    int64  \n",
      " 32  curbtype_2        995 non-null    int64  \n",
      " 33  z_qnr_1           995 non-null    int64  \n",
      " 34  z_qnr_2           995 non-null    int64  \n",
      " 35  z_qnr_3           995 non-null    int64  \n",
      " 36  z_qnr_4           995 non-null    int64  \n",
      " 37  z_qnr_5           995 non-null    int64  \n",
      " 38  z_qnr_6           995 non-null    int64  \n",
      " 39  z_qnr_7           995 non-null    int64  \n",
      " 40  z_qnr_8           995 non-null    int64  \n",
      " 41  z_qnr_9           995 non-null    int64  \n",
      " 42  z_qnr_10          995 non-null    int64  \n",
      " 43  z_qnr_11          995 non-null    int64  \n",
      " 44  z_qnr_12          995 non-null    int64  \n",
      " 45  z_qnr_13          995 non-null    int64  \n",
      " 46  z_qnr_14          995 non-null    int64  \n",
      " 47  z_qnr_15          995 non-null    int64  \n",
      " 48  z_qnr_16          995 non-null    int64  \n",
      " 49  z_qnr_17          995 non-null    int64  \n",
      " 50  z_qnr_18          995 non-null    int64  \n",
      " 51  z_qnr_19          995 non-null    int64  \n",
      " 52  z_qnr_20          995 non-null    int64  \n",
      " 53  z_qnr_21          995 non-null    int64  \n",
      " 54  z_qnr_22          995 non-null    int64  \n",
      " 55  z_qnr_23          995 non-null    int64  \n",
      " 56  z_qnr_24          995 non-null    int64  \n",
      " 57  z_qnr_25          995 non-null    int64  \n",
      " 58  z_qnr_26          995 non-null    int64  \n",
      " 59  z_qnr_27          995 non-null    int64  \n",
      " 60  z_qnr_28          995 non-null    int64  \n",
      " 61  z_qnr_29          995 non-null    int64  \n",
      " 62  z_qnr_30          995 non-null    int64  \n",
      " 63  z_qnr_31          995 non-null    int64  \n",
      " 64  z_qnr_32          995 non-null    int64  \n",
      " 65  z_qnr_33          995 non-null    int64  \n",
      " 66  z_qnr_34          995 non-null    int64  \n",
      " 67  z_knr_1           995 non-null    int64  \n",
      " 68  z_knr_2           995 non-null    int64  \n",
      " 69  z_knr_3           995 non-null    int64  \n",
      " 70  z_knr_4           995 non-null    int64  \n",
      " 71  z_knr_5           995 non-null    int64  \n",
      " 72  z_knr_6           995 non-null    int64  \n",
      " 73  z_knr_7           995 non-null    int64  \n",
      " 74  z_knr_8           995 non-null    int64  \n",
      " 75  z_knr_9           995 non-null    int64  \n",
      " 76  z_knr_10          995 non-null    int64  \n",
      " 77  z_knr_11          995 non-null    int64  \n",
      " 78  z_knr_12          995 non-null    int64  \n",
      " 79  trafficarea_1     995 non-null    int64  \n",
      " 80  trafficarea_2     995 non-null    int64  \n",
      " 81  trafficarea_3     995 non-null    int64  \n",
      " 82  r_width_1         995 non-null    int64  \n",
      " 83  r_width_2         995 non-null    int64  \n",
      " 84  r_width_3         995 non-null    int64  \n",
      " 85  r_width_4         995 non-null    int64  \n",
      " 86  r_width_5         995 non-null    int64  \n",
      " 87  r_width_6         995 non-null    int64  \n",
      " 88  r_width_7         995 non-null    int64  \n",
      " 89  r_surface_1       995 non-null    int64  \n",
      " 90  r_surface_2       995 non-null    int64  \n",
      " 91  speedlimit_1      995 non-null    int64  \n",
      " 92  speedlimit_2      995 non-null    int64  \n",
      " 93  speedlimit_3      995 non-null    int64  \n",
      " 94  speedlimit_4      995 non-null    int64  \n",
      " 95  speedlimit_5      995 non-null    int64  \n",
      " 96  speedlimit_6      995 non-null    int64  \n",
      " 97  speedlimit_7      995 non-null    int64  \n",
      "dtypes: float64(23), int64(73), object(2)\n",
      "memory usage: 761.9+ KB\n"
     ]
    }
   ],
   "source": [
    "ttall.info()"
   ]
  },
  {
   "cell_type": "code",
   "execution_count": 428,
   "id": "202c106d-bc6e-42c6-862b-681ae7f4eceb",
   "metadata": {
    "execution": {
     "iopub.execute_input": "2024-04-25T21:36:04.339722Z",
     "iopub.status.busy": "2024-04-25T21:36:04.339208Z",
     "iopub.status.idle": "2024-04-25T21:36:04.393394Z",
     "shell.execute_reply": "2024-04-25T21:36:04.392644Z",
     "shell.execute_reply.started": "2024-04-25T21:36:04.339693Z"
    }
   },
   "outputs": [],
   "source": [
    "# # ALL including distance variables after normalization and standardization, \n",
    "# # value variables after normalization and standardization, and categorical variables\n",
    "ttall.to_csv('/home/yelhe/data/Traffic_network_variables/ttvariables_rp_all_final.csv', index = False)"
   ]
  },
  {
   "cell_type": "code",
   "execution_count": 429,
   "id": "f66884c4-6c21-4e37-8507-b80d995f8bbb",
   "metadata": {
    "execution": {
     "iopub.execute_input": "2024-04-25T21:36:06.242958Z",
     "iopub.status.busy": "2024-04-25T21:36:06.242207Z",
     "iopub.status.idle": "2024-04-25T21:36:06.248592Z",
     "shell.execute_reply": "2024-04-25T21:36:06.247894Z",
     "shell.execute_reply.started": "2024-04-25T21:36:06.242925Z"
    }
   },
   "outputs": [
    {
     "data": {
      "text/plain": [
       "Index(['id', 'dbusl', 'dtraml', 'dtrainl', 'dplight', 'dstation', 'dparkcar',\n",
       "       'dparktw', 'dpedcro', 'dstopsign', 'dcurb', 'dtrafficarea', 'droad',\n",
       "       'droad_sl', 'dvfpath', 'd_bicyclecount', 'd_carcount', 'gvm_dwv',\n",
       "       'gvm_msp', 'gvm_asp', 'bicyclecount', 'carcount', 'r_width_value',\n",
       "       'speedlimit_value', 'curbtype', 'z_qnr', 'z_knr', 'trafficarea',\n",
       "       'r_width', 'r_surface', 'speedlimit', 'curbtype_1', 'curbtype_2',\n",
       "       'z_qnr_1', 'z_qnr_2', 'z_qnr_3', 'z_qnr_4', 'z_qnr_5', 'z_qnr_6',\n",
       "       'z_qnr_7', 'z_qnr_8', 'z_qnr_9', 'z_qnr_10', 'z_qnr_11', 'z_qnr_12',\n",
       "       'z_qnr_13', 'z_qnr_14', 'z_qnr_15', 'z_qnr_16', 'z_qnr_17', 'z_qnr_18',\n",
       "       'z_qnr_19', 'z_qnr_20', 'z_qnr_21', 'z_qnr_22', 'z_qnr_23', 'z_qnr_24',\n",
       "       'z_qnr_25', 'z_qnr_26', 'z_qnr_27', 'z_qnr_28', 'z_qnr_29', 'z_qnr_30',\n",
       "       'z_qnr_31', 'z_qnr_32', 'z_qnr_33', 'z_qnr_34', 'z_knr_1', 'z_knr_2',\n",
       "       'z_knr_3', 'z_knr_4', 'z_knr_5', 'z_knr_6', 'z_knr_7', 'z_knr_8',\n",
       "       'z_knr_9', 'z_knr_10', 'z_knr_11', 'z_knr_12', 'trafficarea_1',\n",
       "       'trafficarea_2', 'trafficarea_3', 'r_width_1', 'r_width_2', 'r_width_3',\n",
       "       'r_width_4', 'r_width_5', 'r_width_6', 'r_width_7', 'r_surface_1',\n",
       "       'r_surface_2', 'speedlimit_1', 'speedlimit_2', 'speedlimit_3',\n",
       "       'speedlimit_4', 'speedlimit_5', 'speedlimit_6', 'speedlimit_7'],\n",
       "      dtype='object')"
      ]
     },
     "execution_count": 429,
     "metadata": {},
     "output_type": "execute_result"
    }
   ],
   "source": [
    "ttall.columns"
   ]
  },
  {
   "cell_type": "code",
   "execution_count": 283,
   "id": "e1b481ac-d28a-4332-972c-57f2bda4d506",
   "metadata": {
    "execution": {
     "iopub.execute_input": "2024-04-25T04:36:05.888405Z",
     "iopub.status.busy": "2024-04-25T04:36:05.888102Z",
     "iopub.status.idle": "2024-04-25T04:36:05.893434Z",
     "shell.execute_reply": "2024-04-25T04:36:05.892807Z",
     "shell.execute_reply.started": "2024-04-25T04:36:05.888385Z"
    }
   },
   "outputs": [],
   "source": [
    "cn = ['dbusl', 'dtraml', 'dtrainl', 'dplight', 'dstation', 'dparkcar',\n",
    "       'dparktw', 'dpedcro', 'dstopsign', 'dcurb', 'dtrafficarea', 'droad',\n",
    "       'droad_sl', 'dvfpath', 'gvm_dwv', 'gvm_msp', 'gvm_asp', 'r_width_value',\n",
    "       'speedlimit_value', 'curbtype_1', 'curbtype_2',\n",
    "       'z_qnr_1', 'z_qnr_2', 'z_qnr_3', 'z_qnr_4', 'z_qnr_5', 'z_qnr_6',\n",
    "       'z_qnr_7', 'z_qnr_8', 'z_qnr_9', 'z_qnr_10', 'z_qnr_11', 'z_qnr_12',\n",
    "       'z_qnr_13', 'z_qnr_14', 'z_qnr_15', 'z_qnr_16', 'z_qnr_17', 'z_qnr_18',\n",
    "       'z_qnr_19', 'z_qnr_20', 'z_qnr_21', 'z_qnr_22', 'z_qnr_23', 'z_qnr_24',\n",
    "       'z_qnr_25', 'z_qnr_26', 'z_qnr_27', 'z_qnr_28', 'z_qnr_29', 'z_qnr_30',\n",
    "       'z_qnr_31', 'z_qnr_32', 'z_qnr_33', 'z_knr_1', 'z_knr_2', 'z_knr_3',\n",
    "       'z_knr_4', 'z_knr_5', 'z_knr_6', 'z_knr_7', 'z_knr_8', 'z_knr_9',\n",
    "       'z_knr_10', 'z_knr_11', 'z_knr_12', 'trafficarea_1', 'trafficarea_2',\n",
    "       'trafficarea_3', 'r_width_1', 'r_width_2', 'r_width_3', 'r_width_4',\n",
    "       'r_width_5', 'r_width_6', 'r_width_7', 'r_surface_1', 'r_surface_2',\n",
    "       'speedlimit_1', 'speedlimit_2', 'speedlimit_3', 'speedlimit_4',\n",
    "       'speedlimit_5', 'speedlimit_6']"
   ]
  },
  {
   "cell_type": "code",
   "execution_count": null,
   "id": "514a975f-3438-4a52-af98-473fce22f82f",
   "metadata": {},
   "outputs": [],
   "source": []
  },
  {
   "cell_type": "code",
   "execution_count": null,
   "id": "4390e946-d154-41ec-9c33-ba3e19f12057",
   "metadata": {},
   "outputs": [],
   "source": []
  }
 ],
 "metadata": {
  "kernelspec": {
   "display_name": "Python 3 (ipykernel)",
   "language": "python",
   "name": "python3"
  },
  "language_info": {
   "codemirror_mode": {
    "name": "ipython",
    "version": 3
   },
   "file_extension": ".py",
   "mimetype": "text/x-python",
   "name": "python",
   "nbconvert_exporter": "python",
   "pygments_lexer": "ipython3",
   "version": "3.11.5"
  }
 },
 "nbformat": 4,
 "nbformat_minor": 5
}
