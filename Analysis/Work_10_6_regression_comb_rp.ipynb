{
 "cells": [
  {
   "cell_type": "code",
   "execution_count": 2,
   "id": "7e9f75d8-3be9-45ef-b9ae-ad72fefb7ce1",
   "metadata": {
    "execution": {
     "iopub.execute_input": "2024-04-25T21:51:58.403080Z",
     "iopub.status.busy": "2024-04-25T21:51:58.402621Z",
     "iopub.status.idle": "2024-04-25T21:51:59.865554Z",
     "shell.execute_reply": "2024-04-25T21:51:59.864908Z",
     "shell.execute_reply.started": "2024-04-25T21:51:58.403057Z"
    }
   },
   "outputs": [],
   "source": [
    "import torch\n",
    "torch.cuda.empty_cache() "
   ]
  },
  {
   "cell_type": "code",
   "execution_count": 3,
   "id": "f3e5fa71-37bd-4efe-b8ee-ae3c362b2a1b",
   "metadata": {
    "execution": {
     "iopub.execute_input": "2024-04-25T21:51:59.867190Z",
     "iopub.status.busy": "2024-04-25T21:51:59.866813Z",
     "iopub.status.idle": "2024-04-25T21:52:00.150896Z",
     "shell.execute_reply": "2024-04-25T21:52:00.150240Z",
     "shell.execute_reply.started": "2024-04-25T21:51:59.867163Z"
    }
   },
   "outputs": [],
   "source": [
    "import os \n",
    "os.environ['MPLCONFIGDIR'] = os.getcwd() + \"/configs/\"\n",
    "import matplotlib\n",
    "from matplotlib import pyplot as plt\n",
    "import numpy as np\n",
    "import cv2\n",
    "import urllib.request\n",
    "from PIL import Image"
   ]
  },
  {
   "cell_type": "code",
   "execution_count": 4,
   "id": "132db61a-9aa6-4936-8ab4-054288d07d2e",
   "metadata": {
    "execution": {
     "iopub.execute_input": "2024-04-25T21:52:00.152354Z",
     "iopub.status.busy": "2024-04-25T21:52:00.152092Z",
     "iopub.status.idle": "2024-04-25T21:52:00.769760Z",
     "shell.execute_reply": "2024-04-25T21:52:00.768106Z",
     "shell.execute_reply.started": "2024-04-25T21:52:00.152327Z"
    }
   },
   "outputs": [],
   "source": [
    "import pandas as pd\n",
    "import pyproj"
   ]
  },
  {
   "cell_type": "code",
   "execution_count": 5,
   "id": "80d61825-dc8d-4005-9362-cf497e771695",
   "metadata": {
    "execution": {
     "iopub.execute_input": "2024-04-25T21:52:00.774068Z",
     "iopub.status.busy": "2024-04-25T21:52:00.772937Z",
     "iopub.status.idle": "2024-04-25T21:52:00.779384Z",
     "shell.execute_reply": "2024-04-25T21:52:00.778521Z",
     "shell.execute_reply.started": "2024-04-25T21:52:00.774033Z"
    }
   },
   "outputs": [],
   "source": [
    "import os \n",
    "os.environ['MPLCONFIGDIR'] = os.getcwd() + \"/configs/\"\n",
    "import matplotlib\n",
    "from matplotlib import pyplot as plt\n",
    "import numpy as np\n",
    "import cv2"
   ]
  },
  {
   "cell_type": "code",
   "execution_count": 6,
   "id": "e6000c92-6b7e-4ee5-9c30-ac0dfed91840",
   "metadata": {
    "execution": {
     "iopub.execute_input": "2024-04-25T21:52:00.780796Z",
     "iopub.status.busy": "2024-04-25T21:52:00.780556Z",
     "iopub.status.idle": "2024-04-25T21:52:00.787428Z",
     "shell.execute_reply": "2024-04-25T21:52:00.786759Z",
     "shell.execute_reply.started": "2024-04-25T21:52:00.780773Z"
    }
   },
   "outputs": [],
   "source": [
    "from pathlib import Path"
   ]
  },
  {
   "cell_type": "code",
   "execution_count": 7,
   "id": "59dfb1fc-7192-4ae1-9df9-596320cc4875",
   "metadata": {
    "execution": {
     "iopub.execute_input": "2024-04-25T21:52:00.788835Z",
     "iopub.status.busy": "2024-04-25T21:52:00.788602Z",
     "iopub.status.idle": "2024-04-25T21:52:00.817843Z",
     "shell.execute_reply": "2024-04-25T21:52:00.817171Z",
     "shell.execute_reply.started": "2024-04-25T21:52:00.788814Z"
    }
   },
   "outputs": [],
   "source": [
    "import joblib"
   ]
  },
  {
   "cell_type": "code",
   "execution_count": 8,
   "id": "923fac26-61e2-49dd-9099-e31ff4079430",
   "metadata": {
    "execution": {
     "iopub.execute_input": "2024-04-25T21:52:00.841255Z",
     "iopub.status.busy": "2024-04-25T21:52:00.840976Z",
     "iopub.status.idle": "2024-04-25T21:52:01.275009Z",
     "shell.execute_reply": "2024-04-25T21:52:01.274260Z",
     "shell.execute_reply.started": "2024-04-25T21:52:00.841229Z"
    }
   },
   "outputs": [],
   "source": [
    "from mt_function_yl import *"
   ]
  },
  {
   "cell_type": "code",
   "execution_count": 9,
   "id": "8376ffe7-7aec-4e11-9f86-32619931952f",
   "metadata": {
    "execution": {
     "iopub.execute_input": "2024-04-25T21:52:01.276915Z",
     "iopub.status.busy": "2024-04-25T21:52:01.276530Z",
     "iopub.status.idle": "2024-04-25T21:52:01.660048Z",
     "shell.execute_reply": "2024-04-25T21:52:01.659244Z",
     "shell.execute_reply.started": "2024-04-25T21:52:01.276888Z"
    }
   },
   "outputs": [],
   "source": [
    "import seaborn as sn"
   ]
  },
  {
   "cell_type": "code",
   "execution_count": 10,
   "id": "78c65919-07d0-4aba-a8dc-87298c4b96d6",
   "metadata": {
    "execution": {
     "iopub.execute_input": "2024-04-25T21:52:01.662072Z",
     "iopub.status.busy": "2024-04-25T21:52:01.661696Z",
     "iopub.status.idle": "2024-04-25T21:52:01.665502Z",
     "shell.execute_reply": "2024-04-25T21:52:01.664801Z",
     "shell.execute_reply.started": "2024-04-25T21:52:01.662047Z"
    }
   },
   "outputs": [],
   "source": [
    "from scipy import stats"
   ]
  },
  {
   "cell_type": "code",
   "execution_count": 11,
   "id": "37ca928e-82c3-4ae7-a6c6-3f18c1c233ba",
   "metadata": {
    "execution": {
     "iopub.execute_input": "2024-04-25T21:52:02.227400Z",
     "iopub.status.busy": "2024-04-25T21:52:02.226807Z",
     "iopub.status.idle": "2024-04-25T21:52:02.234899Z",
     "shell.execute_reply": "2024-04-25T21:52:02.234198Z",
     "shell.execute_reply.started": "2024-04-25T21:52:02.227376Z"
    }
   },
   "outputs": [],
   "source": [
    "from tabulate import tabulate"
   ]
  },
  {
   "cell_type": "code",
   "execution_count": 12,
   "id": "b46d5518-dab4-4896-a3f7-7aa74a012e35",
   "metadata": {
    "execution": {
     "iopub.execute_input": "2024-04-25T21:52:02.423424Z",
     "iopub.status.busy": "2024-04-25T21:52:02.422803Z",
     "iopub.status.idle": "2024-04-25T21:52:02.575179Z",
     "shell.execute_reply": "2024-04-25T21:52:02.574556Z",
     "shell.execute_reply.started": "2024-04-25T21:52:02.423395Z"
    }
   },
   "outputs": [],
   "source": [
    "import statsmodels.api as sm"
   ]
  },
  {
   "cell_type": "code",
   "execution_count": 13,
   "id": "e1804d06-b69a-4709-ac5c-1970d29c38a2",
   "metadata": {
    "execution": {
     "iopub.execute_input": "2024-04-25T21:52:02.839673Z",
     "iopub.status.busy": "2024-04-25T21:52:02.838913Z",
     "iopub.status.idle": "2024-04-25T21:52:02.969818Z",
     "shell.execute_reply": "2024-04-25T21:52:02.969208Z",
     "shell.execute_reply.started": "2024-04-25T21:52:02.839645Z"
    }
   },
   "outputs": [],
   "source": [
    "from sklearn import tree\n",
    "from sklearn.tree import DecisionTreeClassifier\n",
    "\n",
    "from sklearn.cluster import AgglomerativeClustering\n",
    "from sklearn.cluster import DBSCAN\n",
    "from sklearn.cluster import HDBSCAN\n",
    "from sklearn.cluster import KMeans\n",
    "from sklearn.model_selection import train_test_split\n",
    "\n",
    "from sklearn import metrics\n",
    "from sklearn.metrics import accuracy_score\n",
    "from sklearn.metrics import accuracy_score, confusion_matrix, roc_auc_score, roc_curve\n",
    "\n",
    "from sklearn import linear_model\n",
    "\n",
    "from sklearn.neighbors import KNeighborsClassifier\n",
    "\n",
    "from sklearn.ensemble import RandomForestClassifier\n",
    "\n",
    "from sklearn.preprocessing import LabelEncoder\n",
    "\n",
    "from sklearn import svm\n",
    "\n",
    "import seaborn as sn\n",
    "\n",
    "\n",
    "# For regression\n",
    "from sklearn.ensemble import RandomForestRegressor\n",
    "from sklearn.metrics import PredictionErrorDisplay"
   ]
  },
  {
   "cell_type": "markdown",
   "id": "11486eff-60e0-460e-a14b-9a0ab0628a50",
   "metadata": {},
   "source": [
    "### Data loading"
   ]
  },
  {
   "cell_type": "code",
   "execution_count": 14,
   "id": "fa5a60a0-c0e7-4312-ad38-fad90973e910",
   "metadata": {
    "execution": {
     "iopub.execute_input": "2024-04-25T21:52:04.491497Z",
     "iopub.status.busy": "2024-04-25T21:52:04.490991Z",
     "iopub.status.idle": "2024-04-25T21:52:04.517152Z",
     "shell.execute_reply": "2024-04-25T21:52:04.516583Z",
     "shell.execute_reply.started": "2024-04-25T21:52:04.491466Z"
    }
   },
   "outputs": [],
   "source": [
    "# Curb related variables\n",
    "crv = pd.read_csv('/home/yelhe/script/mt/output/pseudo_rm_norm_stan_rp.csv')\n",
    "# Traffic-transport related variables\n",
    "ttv = pd.read_csv('/home/yelhe/data/Traffic_network_variables/ttvariables_rp_all_final.csv')"
   ]
  },
  {
   "cell_type": "code",
   "execution_count": 15,
   "id": "54c866db-7dd3-4db8-8bcc-31c41a0422bb",
   "metadata": {
    "execution": {
     "iopub.execute_input": "2024-04-25T21:52:07.842863Z",
     "iopub.status.busy": "2024-04-25T21:52:07.842527Z",
     "iopub.status.idle": "2024-04-25T21:52:07.848839Z",
     "shell.execute_reply": "2024-04-25T21:52:07.848192Z",
     "shell.execute_reply.started": "2024-04-25T21:52:07.842844Z"
    }
   },
   "outputs": [
    {
     "data": {
      "text/plain": [
       "Index(['id', 'cp', 'ie', 'iemin', 'iemax', 'mew', 'mewmin', 'mewmax', 'meg',\n",
       "       'megmin', 'megmax', 'cmean', 'cmin', 'cmax'],\n",
       "      dtype='object')"
      ]
     },
     "execution_count": 15,
     "metadata": {},
     "output_type": "execute_result"
    }
   ],
   "source": [
    "crv.columns"
   ]
  },
  {
   "cell_type": "code",
   "execution_count": 16,
   "id": "c39c4f61-e10b-42aa-a36c-43ed98df94fd",
   "metadata": {
    "execution": {
     "iopub.execute_input": "2024-04-25T21:52:41.702247Z",
     "iopub.status.busy": "2024-04-25T21:52:41.701920Z",
     "iopub.status.idle": "2024-04-25T21:52:41.707444Z",
     "shell.execute_reply": "2024-04-25T21:52:41.706473Z",
     "shell.execute_reply.started": "2024-04-25T21:52:41.702228Z"
    }
   },
   "outputs": [
    {
     "data": {
      "text/plain": [
       "Index(['id', 'dbusl', 'dtraml', 'dtrainl', 'dplight', 'dstation', 'dparkcar',\n",
       "       'dparktw', 'dpedcro', 'dstopsign', 'dcurb', 'dtrafficarea', 'droad',\n",
       "       'droad_sl', 'dvfpath', 'd_bicyclecount', 'd_carcount', 'gvm_dwv',\n",
       "       'gvm_msp', 'gvm_asp', 'bicyclecount', 'carcount', 'r_width_value',\n",
       "       'speedlimit_value', 'curbtype', 'z_qnr', 'z_knr', 'trafficarea',\n",
       "       'r_width', 'r_surface', 'speedlimit', 'curbtype_1', 'curbtype_2',\n",
       "       'z_qnr_1', 'z_qnr_2', 'z_qnr_3', 'z_qnr_4', 'z_qnr_5', 'z_qnr_6',\n",
       "       'z_qnr_7', 'z_qnr_8', 'z_qnr_9', 'z_qnr_10', 'z_qnr_11', 'z_qnr_12',\n",
       "       'z_qnr_13', 'z_qnr_14', 'z_qnr_15', 'z_qnr_16', 'z_qnr_17', 'z_qnr_18',\n",
       "       'z_qnr_19', 'z_qnr_20', 'z_qnr_21', 'z_qnr_22', 'z_qnr_23', 'z_qnr_24',\n",
       "       'z_qnr_25', 'z_qnr_26', 'z_qnr_27', 'z_qnr_28', 'z_qnr_29', 'z_qnr_30',\n",
       "       'z_qnr_31', 'z_qnr_32', 'z_qnr_33', 'z_qnr_34', 'z_knr_1', 'z_knr_2',\n",
       "       'z_knr_3', 'z_knr_4', 'z_knr_5', 'z_knr_6', 'z_knr_7', 'z_knr_8',\n",
       "       'z_knr_9', 'z_knr_10', 'z_knr_11', 'z_knr_12', 'trafficarea_1',\n",
       "       'trafficarea_2', 'trafficarea_3', 'r_width_1', 'r_width_2', 'r_width_3',\n",
       "       'r_width_4', 'r_width_5', 'r_width_6', 'r_width_7', 'r_surface_1',\n",
       "       'r_surface_2', 'speedlimit_1', 'speedlimit_2', 'speedlimit_3',\n",
       "       'speedlimit_4', 'speedlimit_5', 'speedlimit_6', 'speedlimit_7'],\n",
       "      dtype='object')"
      ]
     },
     "execution_count": 16,
     "metadata": {},
     "output_type": "execute_result"
    }
   ],
   "source": [
    "ttv.columns"
   ]
  },
  {
   "cell_type": "code",
   "execution_count": 17,
   "id": "dc164de8-50a8-4d7e-bf77-a47798e13f20",
   "metadata": {
    "execution": {
     "iopub.execute_input": "2024-04-25T21:53:13.326059Z",
     "iopub.status.busy": "2024-04-25T21:53:13.325717Z",
     "iopub.status.idle": "2024-04-25T21:53:13.333745Z",
     "shell.execute_reply": "2024-04-25T21:53:13.333126Z",
     "shell.execute_reply.started": "2024-04-25T21:53:13.326040Z"
    }
   },
   "outputs": [],
   "source": [
    "dfall = crv.merge(ttv, on = ['id'])"
   ]
  },
  {
   "cell_type": "code",
   "execution_count": 22,
   "id": "151d7d8f-ab85-47a4-a7df-32c354779925",
   "metadata": {
    "execution": {
     "iopub.execute_input": "2024-04-25T21:56:04.844485Z",
     "iopub.status.busy": "2024-04-25T21:56:04.844051Z",
     "iopub.status.idle": "2024-04-25T21:56:04.850518Z",
     "shell.execute_reply": "2024-04-25T21:56:04.849799Z",
     "shell.execute_reply.started": "2024-04-25T21:56:04.844449Z"
    }
   },
   "outputs": [
    {
     "data": {
      "text/plain": [
       "Index(['id', 'cp', 'ie', 'iemin', 'iemax', 'mew', 'mewmin', 'mewmax', 'meg',\n",
       "       'megmin',\n",
       "       ...\n",
       "       'r_width_7', 'r_surface_1', 'r_surface_2', 'speedlimit_1',\n",
       "       'speedlimit_2', 'speedlimit_3', 'speedlimit_4', 'speedlimit_5',\n",
       "       'speedlimit_6', 'speedlimit_7'],\n",
       "      dtype='object', length=111)"
      ]
     },
     "execution_count": 22,
     "metadata": {},
     "output_type": "execute_result"
    }
   ],
   "source": [
    "dfall.columns"
   ]
  },
  {
   "cell_type": "code",
   "execution_count": 21,
   "id": "63d3ebd2-f2aa-47f2-ab98-88a473510631",
   "metadata": {
    "execution": {
     "iopub.execute_input": "2024-04-25T21:55:26.146715Z",
     "iopub.status.busy": "2024-04-25T21:55:26.146372Z",
     "iopub.status.idle": "2024-04-25T21:55:26.196382Z",
     "shell.execute_reply": "2024-04-25T21:55:26.195755Z",
     "shell.execute_reply.started": "2024-04-25T21:55:26.146695Z"
    }
   },
   "outputs": [],
   "source": [
    "dfall.to_csv('/home/yelhe/script/mt/model/allvariable_rp.csv', index = False)"
   ]
  }
 ],
 "metadata": {
  "kernelspec": {
   "display_name": "Python 3 (ipykernel)",
   "language": "python",
   "name": "python3"
  },
  "language_info": {
   "codemirror_mode": {
    "name": "ipython",
    "version": 3
   },
   "file_extension": ".py",
   "mimetype": "text/x-python",
   "name": "python",
   "nbconvert_exporter": "python",
   "pygments_lexer": "ipython3",
   "version": "3.11.5"
  }
 },
 "nbformat": 4,
 "nbformat_minor": 5
}
