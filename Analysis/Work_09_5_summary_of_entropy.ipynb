{
 "cells": [
  {
   "cell_type": "code",
   "execution_count": 2,
   "id": "7e9f75d8-3be9-45ef-b9ae-ad72fefb7ce1",
   "metadata": {
    "execution": {
     "iopub.execute_input": "2024-03-05T14:41:45.702270Z",
     "iopub.status.busy": "2024-03-05T14:41:45.701998Z",
     "iopub.status.idle": "2024-03-05T14:41:47.016550Z",
     "shell.execute_reply": "2024-03-05T14:41:47.016104Z",
     "shell.execute_reply.started": "2024-03-05T14:41:45.702251Z"
    }
   },
   "outputs": [],
   "source": [
    "import torch\n",
    "torch.cuda.empty_cache() "
   ]
  },
  {
   "cell_type": "code",
   "execution_count": 3,
   "id": "f3e5fa71-37bd-4efe-b8ee-ae3c362b2a1b",
   "metadata": {
    "execution": {
     "iopub.execute_input": "2024-03-05T14:41:47.017564Z",
     "iopub.status.busy": "2024-03-05T14:41:47.017354Z",
     "iopub.status.idle": "2024-03-05T14:41:47.273629Z",
     "shell.execute_reply": "2024-03-05T14:41:47.273036Z",
     "shell.execute_reply.started": "2024-03-05T14:41:47.017548Z"
    }
   },
   "outputs": [],
   "source": [
    "import os \n",
    "os.environ['MPLCONFIGDIR'] = os.getcwd() + \"/configs/\"\n",
    "import matplotlib\n",
    "from matplotlib import pyplot as plt\n",
    "import numpy as np\n",
    "import cv2\n",
    "import urllib.request\n",
    "from PIL import Image"
   ]
  },
  {
   "cell_type": "code",
   "execution_count": 4,
   "id": "132db61a-9aa6-4936-8ab4-054288d07d2e",
   "metadata": {
    "execution": {
     "iopub.execute_input": "2024-03-05T14:41:47.274624Z",
     "iopub.status.busy": "2024-03-05T14:41:47.274404Z",
     "iopub.status.idle": "2024-03-05T14:41:47.638253Z",
     "shell.execute_reply": "2024-03-05T14:41:47.637808Z",
     "shell.execute_reply.started": "2024-03-05T14:41:47.274602Z"
    }
   },
   "outputs": [],
   "source": [
    "import pandas as pd\n",
    "import pyproj"
   ]
  },
  {
   "cell_type": "code",
   "execution_count": 5,
   "id": "80d61825-dc8d-4005-9362-cf497e771695",
   "metadata": {
    "execution": {
     "iopub.execute_input": "2024-03-05T14:41:47.639671Z",
     "iopub.status.busy": "2024-03-05T14:41:47.639195Z",
     "iopub.status.idle": "2024-03-05T14:41:47.642476Z",
     "shell.execute_reply": "2024-03-05T14:41:47.641955Z",
     "shell.execute_reply.started": "2024-03-05T14:41:47.639650Z"
    }
   },
   "outputs": [],
   "source": [
    "import os \n",
    "os.environ['MPLCONFIGDIR'] = os.getcwd() + \"/configs/\"\n",
    "import matplotlib\n",
    "from matplotlib import pyplot as plt\n",
    "import numpy as np\n",
    "import cv2"
   ]
  },
  {
   "cell_type": "code",
   "execution_count": 6,
   "id": "e6000c92-6b7e-4ee5-9c30-ac0dfed91840",
   "metadata": {
    "execution": {
     "iopub.execute_input": "2024-03-05T14:41:47.643641Z",
     "iopub.status.busy": "2024-03-05T14:41:47.643246Z",
     "iopub.status.idle": "2024-03-05T14:41:47.652753Z",
     "shell.execute_reply": "2024-03-05T14:41:47.651729Z",
     "shell.execute_reply.started": "2024-03-05T14:41:47.643619Z"
    }
   },
   "outputs": [],
   "source": [
    "from pathlib import Path"
   ]
  },
  {
   "cell_type": "code",
   "execution_count": 7,
   "id": "59dfb1fc-7192-4ae1-9df9-596320cc4875",
   "metadata": {
    "execution": {
     "iopub.execute_input": "2024-03-05T14:41:47.653970Z",
     "iopub.status.busy": "2024-03-05T14:41:47.653736Z",
     "iopub.status.idle": "2024-03-05T14:41:47.677039Z",
     "shell.execute_reply": "2024-03-05T14:41:47.676536Z",
     "shell.execute_reply.started": "2024-03-05T14:41:47.653950Z"
    }
   },
   "outputs": [],
   "source": [
    "import joblib"
   ]
  },
  {
   "cell_type": "code",
   "execution_count": 8,
   "id": "923fac26-61e2-49dd-9099-e31ff4079430",
   "metadata": {
    "execution": {
     "iopub.execute_input": "2024-03-05T14:41:48.020429Z",
     "iopub.status.busy": "2024-03-05T14:41:48.020225Z",
     "iopub.status.idle": "2024-03-05T14:41:48.275942Z",
     "shell.execute_reply": "2024-03-05T14:41:48.275490Z",
     "shell.execute_reply.started": "2024-03-05T14:41:48.020411Z"
    }
   },
   "outputs": [],
   "source": [
    "from mt_function_yl import *"
   ]
  },
  {
   "cell_type": "code",
   "execution_count": 77,
   "id": "8376ffe7-7aec-4e11-9f86-32619931952f",
   "metadata": {
    "execution": {
     "iopub.execute_input": "2024-03-05T15:34:45.150969Z",
     "iopub.status.busy": "2024-03-05T15:34:45.150704Z",
     "iopub.status.idle": "2024-03-05T15:34:45.233984Z",
     "shell.execute_reply": "2024-03-05T15:34:45.233583Z",
     "shell.execute_reply.started": "2024-03-05T15:34:45.150950Z"
    }
   },
   "outputs": [],
   "source": [
    "import seaborn as sn"
   ]
  },
  {
   "cell_type": "markdown",
   "id": "d7346fc9-4815-4194-b455-fca304758ef0",
   "metadata": {},
   "source": [
    "#### Load in Dataframes"
   ]
  },
  {
   "cell_type": "code",
   "execution_count": 53,
   "id": "ae1f529a-f9cf-4a2b-bfb1-bf4fa8153dfb",
   "metadata": {
    "execution": {
     "iopub.execute_input": "2024-03-05T15:15:09.346655Z",
     "iopub.status.busy": "2024-03-05T15:15:09.346394Z",
     "iopub.status.idle": "2024-03-05T15:15:09.396409Z",
     "shell.execute_reply": "2024-03-05T15:15:09.395730Z",
     "shell.execute_reply.started": "2024-03-05T15:15:09.346637Z"
    }
   },
   "outputs": [],
   "source": [
    "# Image entropy\n",
    "iea = pd.read_csv('/home/yelhe/script/mt/output/accident_image_entropy.csv')\n",
    "iep = pd.read_csv('/home/yelhe/script/mt/output/pseudo_image_entropy.csv')\n",
    "\n",
    "# Mask entropy of whole scene\n",
    "dfmwa = pd.read_csv('/home/yelhe/script/mt/output/accident_predmaskgroup_entropy.csv')\n",
    "dfmwp = pd.read_csv('/home/yelhe/script/mt/output/pseudo_predmaskgroup_entropy.csv')\n",
    "# Mask entropy of ground scene\n",
    "dfmga = pd.read_csv('/home/yelhe/script/mt/output/accident_predmaskgroup_gi_entropy.csv')\n",
    "dfmgp = pd.read_csv('/home/yelhe/script/mt/output/pseudo_predmaskgroup_gi_entropy.csv')"
   ]
  },
  {
   "cell_type": "code",
   "execution_count": 54,
   "id": "f58a55ec-47c6-485e-b085-82f079520a38",
   "metadata": {
    "execution": {
     "iopub.execute_input": "2024-03-05T15:15:09.758546Z",
     "iopub.status.busy": "2024-03-05T15:15:09.758323Z",
     "iopub.status.idle": "2024-03-05T15:15:09.763612Z",
     "shell.execute_reply": "2024-03-05T15:15:09.763076Z",
     "shell.execute_reply.started": "2024-03-05T15:15:09.758529Z"
    }
   },
   "outputs": [],
   "source": [
    "# Image entropy\n",
    "iea['Nr'] = iea['Nr'].values.astype(str)\n",
    "iea['id'] = iea['id'].values.astype(str)\n",
    "iea.rename(columns = {'entropy':'ie'}, inplace = True)"
   ]
  },
  {
   "cell_type": "code",
   "execution_count": 83,
   "id": "fb9a8111-f3de-4f03-a8be-fbf24a97007b",
   "metadata": {
    "execution": {
     "iopub.execute_input": "2024-03-05T15:39:34.443938Z",
     "iopub.status.busy": "2024-03-05T15:39:34.443611Z",
     "iopub.status.idle": "2024-03-05T15:39:34.454411Z",
     "shell.execute_reply": "2024-03-05T15:39:34.453876Z",
     "shell.execute_reply.started": "2024-03-05T15:39:34.443919Z"
    }
   },
   "outputs": [],
   "source": [
    "iep['Nr'] = iep['Nr'].values.astype(str)\n",
    "iep['Nr'] = iep['Nr'].str.zfill(5)\n",
    "iep['id'] = iep['id'].values.astype(str)\n",
    "iep['id'] = iep['id'].str.zfill(4)\n",
    "iep.rename(columns = {'entropy':'ie'}, inplace = True)"
   ]
  },
  {
   "cell_type": "code",
   "execution_count": 55,
   "id": "14898dc2-2424-4db8-b316-103e1f3e6df6",
   "metadata": {
    "execution": {
     "iopub.execute_input": "2024-03-05T15:15:10.250756Z",
     "iopub.status.busy": "2024-03-05T15:15:10.250474Z",
     "iopub.status.idle": "2024-03-05T15:15:10.257307Z",
     "shell.execute_reply": "2024-03-05T15:15:10.256902Z",
     "shell.execute_reply.started": "2024-03-05T15:15:10.250734Z"
    }
   },
   "outputs": [],
   "source": [
    "# Mask entropy of whole scene\n",
    "mwa = dfmwa.drop(['p', 'count', 'sum', 'percentage'], axis = 1)\n",
    "mwa = mwa.drop_duplicates()\n",
    "mwa['id'] = mwa['id'].values.astype(str)\n",
    "mwa.rename(columns = {'entropy':'mew', 'id_dir':'Nr'}, inplace = True)"
   ]
  },
  {
   "cell_type": "code",
   "execution_count": 56,
   "id": "991b1868-6541-4f45-ad7a-449982226fe1",
   "metadata": {
    "execution": {
     "iopub.execute_input": "2024-03-05T15:15:10.643995Z",
     "iopub.status.busy": "2024-03-05T15:15:10.643714Z",
     "iopub.status.idle": "2024-03-05T15:15:10.650096Z",
     "shell.execute_reply": "2024-03-05T15:15:10.649560Z",
     "shell.execute_reply.started": "2024-03-05T15:15:10.643977Z"
    }
   },
   "outputs": [],
   "source": [
    "# Mask entropy of ground scene\n",
    "mga = dfmga.drop(['p', 'count', 'sum', 'percentage'], axis = 1)\n",
    "mga = mga.drop_duplicates()\n",
    "mga['id'] = mga['id'].values.astype(str)\n",
    "mga.rename(columns = {'entropy':'meg', 'id_dir':'Nr'}, inplace = True)"
   ]
  },
  {
   "cell_type": "code",
   "execution_count": 91,
   "id": "743f6720-5dbb-4edc-a06e-ccb0d6b740b5",
   "metadata": {
    "execution": {
     "iopub.execute_input": "2024-03-05T15:42:34.252202Z",
     "iopub.status.busy": "2024-03-05T15:42:34.251899Z",
     "iopub.status.idle": "2024-03-05T15:42:34.263903Z",
     "shell.execute_reply": "2024-03-05T15:42:34.263358Z",
     "shell.execute_reply.started": "2024-03-05T15:42:34.252182Z"
    }
   },
   "outputs": [],
   "source": [
    "# Pseudo\n",
    "mwp = dfmwp.drop(['p', 'count', 'sum', 'percentage'], axis = 1)\n",
    "mwp = mwp.drop_duplicates()\n",
    "mwp.rename(columns = {'entropy':'mew', 'id_dir':'Nr'}, inplace = True)\n",
    "mwp['Nr'] = mwp['Nr'].values.astype(str)\n",
    "mwp['Nr'] = mwp['Nr'].str.zfill(5)\n",
    "mwp['id'] = mwp['id'].values.astype(str)\n",
    "mwp['id'] = mwp['id'].str.zfill(4)"
   ]
  },
  {
   "cell_type": "code",
   "execution_count": 94,
   "id": "5d71c9e3-812f-4d6f-ab37-e8658d8f9ae2",
   "metadata": {
    "execution": {
     "iopub.execute_input": "2024-03-05T15:43:38.243028Z",
     "iopub.status.busy": "2024-03-05T15:43:38.242546Z",
     "iopub.status.idle": "2024-03-05T15:43:38.257437Z",
     "shell.execute_reply": "2024-03-05T15:43:38.257029Z",
     "shell.execute_reply.started": "2024-03-05T15:43:38.243009Z"
    }
   },
   "outputs": [],
   "source": [
    "mgp = dfmgp.drop(['p', 'count', 'sum', 'percentage'], axis = 1)\n",
    "mgp = mgp.drop_duplicates()\n",
    "mgp.rename(columns = {'entropy':'meg', 'id_dir':'Nr'}, inplace = True)\n",
    "mgp['Nr'] = mgp['Nr'].values.astype(str)\n",
    "mgp['Nr'] = mgp['Nr'].str.zfill(5)\n",
    "mgp['id'] = mgp['id'].values.astype(str)\n",
    "mgp['id'] = mgp['id'].str.zfill(4)"
   ]
  },
  {
   "cell_type": "code",
   "execution_count": 68,
   "id": "857f0902-7ba9-48eb-b1d4-c41938860312",
   "metadata": {
    "execution": {
     "iopub.execute_input": "2024-03-05T15:30:43.809684Z",
     "iopub.status.busy": "2024-03-05T15:30:43.809411Z",
     "iopub.status.idle": "2024-03-05T15:30:43.814909Z",
     "shell.execute_reply": "2024-03-05T15:30:43.814496Z",
     "shell.execute_reply.started": "2024-03-05T15:30:43.809665Z"
    }
   },
   "outputs": [],
   "source": [
    "df_me = pd.merge(mwa, mga, on = ['id', 'dir', 'Nr'])"
   ]
  },
  {
   "cell_type": "code",
   "execution_count": 98,
   "id": "430ef107-6396-4590-8edc-7c472a16c26a",
   "metadata": {
    "execution": {
     "iopub.execute_input": "2024-03-05T15:45:17.005586Z",
     "iopub.status.busy": "2024-03-05T15:45:17.005283Z",
     "iopub.status.idle": "2024-03-05T15:45:17.014999Z",
     "shell.execute_reply": "2024-03-05T15:45:17.014531Z",
     "shell.execute_reply.started": "2024-03-05T15:45:17.005566Z"
    }
   },
   "outputs": [],
   "source": [
    "df_me_p = pd.merge(mwp, mgp, on = ['id', 'dir', 'Nr'])\n",
    "df_en_p = pd.merge(df_me_p, iep, on = ['id', 'dir', 'Nr'])"
   ]
  },
  {
   "cell_type": "code",
   "execution_count": 69,
   "id": "75b9ed20-bf09-474b-8735-2a6607b55fa8",
   "metadata": {
    "execution": {
     "iopub.execute_input": "2024-03-05T15:30:44.201550Z",
     "iopub.status.busy": "2024-03-05T15:30:44.201280Z",
     "iopub.status.idle": "2024-03-05T15:30:44.208070Z",
     "shell.execute_reply": "2024-03-05T15:30:44.207652Z",
     "shell.execute_reply.started": "2024-03-05T15:30:44.201533Z"
    }
   },
   "outputs": [],
   "source": [
    "df_me['Nr'] = df_me['Nr'].values.astype(str)\n",
    "df_me['id'] = df_me['id'].values.astype(str)\n",
    "df_me['dir'] = df_me['dir'].values.astype(str)\n",
    "iea['Nr'] = iea['Nr'].values.astype(str)\n",
    "iea['id'] = iea['id'].values.astype(str)\n",
    "iea['dir'] = iea['dir'].values.astype(str)"
   ]
  },
  {
   "cell_type": "code",
   "execution_count": 71,
   "id": "eeb31233-8df9-4507-af7e-bf3aa00b32a7",
   "metadata": {
    "execution": {
     "iopub.execute_input": "2024-03-05T15:30:54.110145Z",
     "iopub.status.busy": "2024-03-05T15:30:54.109876Z",
     "iopub.status.idle": "2024-03-05T15:30:54.115701Z",
     "shell.execute_reply": "2024-03-05T15:30:54.115222Z",
     "shell.execute_reply.started": "2024-03-05T15:30:54.110128Z"
    }
   },
   "outputs": [],
   "source": [
    "df_en_a = pd.merge(df_me, iea, on = ['id', 'dir', 'Nr'])"
   ]
  },
  {
   "cell_type": "code",
   "execution_count": 99,
   "id": "45167d7d-9017-4c6f-9d0d-da22d9e8a9c8",
   "metadata": {
    "execution": {
     "iopub.execute_input": "2024-03-05T15:45:25.741600Z",
     "iopub.status.busy": "2024-03-05T15:45:25.741224Z",
     "iopub.status.idle": "2024-03-05T15:45:25.748284Z",
     "shell.execute_reply": "2024-03-05T15:45:25.747750Z",
     "shell.execute_reply.started": "2024-03-05T15:45:25.741579Z"
    }
   },
   "outputs": [
    {
     "name": "stdout",
     "output_type": "stream",
     "text": [
      "<class 'pandas.core.frame.DataFrame'>\n",
      "RangeIndex: 3160 entries, 0 to 3159\n",
      "Data columns (total 6 columns):\n",
      " #   Column  Non-Null Count  Dtype  \n",
      "---  ------  --------------  -----  \n",
      " 0   id      3160 non-null   object \n",
      " 1   dir     3160 non-null   int64  \n",
      " 2   Nr      3160 non-null   object \n",
      " 3   mew     3160 non-null   float64\n",
      " 4   meg     3160 non-null   float64\n",
      " 5   ie      3160 non-null   float64\n",
      "dtypes: float64(3), int64(1), object(2)\n",
      "memory usage: 148.3+ KB\n"
     ]
    }
   ],
   "source": [
    "df_en_p.info()"
   ]
  },
  {
   "cell_type": "code",
   "execution_count": 75,
   "id": "41e6e5a1-1ac3-4ce7-805d-d3d74a8f91ac",
   "metadata": {
    "execution": {
     "iopub.execute_input": "2024-03-05T15:34:22.856333Z",
     "iopub.status.busy": "2024-03-05T15:34:22.855889Z",
     "iopub.status.idle": "2024-03-05T15:34:22.859483Z",
     "shell.execute_reply": "2024-03-05T15:34:22.858924Z",
     "shell.execute_reply.started": "2024-03-05T15:34:22.856315Z"
    }
   },
   "outputs": [],
   "source": [
    "# Entropy variables accident\n",
    "eva = df_en_a[['mew', 'meg', 'ie']]"
   ]
  },
  {
   "cell_type": "code",
   "execution_count": 79,
   "id": "228c5aed-af9c-4725-8d02-235302244600",
   "metadata": {
    "execution": {
     "iopub.execute_input": "2024-03-05T15:35:14.320800Z",
     "iopub.status.busy": "2024-03-05T15:35:14.320533Z",
     "iopub.status.idle": "2024-03-05T15:35:14.439289Z",
     "shell.execute_reply": "2024-03-05T15:35:14.438777Z",
     "shell.execute_reply.started": "2024-03-05T15:35:14.320778Z"
    }
   },
   "outputs": [
    {
     "data": {
      "image/png": "[encoded data removed]",
      "text/plain": [
       "<Figure size 640x480 with 2 Axes>"
      ]
     },
     "metadata": {},
     "output_type": "display_data"
    }
   ],
   "source": [
    "corr_matrix_a = eva.corr()\n",
    "# sn.set(font_scale = 0.8)\n",
    "sn.heatmap(corr_matrix_a, annot = True)\n",
    "# plt.savefig('fig_corrmat_low_u1.png')\n",
    "plt.show()"
   ]
  },
  {
   "cell_type": "code",
   "execution_count": 104,
   "id": "94edeb86-cbfe-4377-a3c4-4a746425ebb4",
   "metadata": {
    "execution": {
     "iopub.execute_input": "2024-03-05T15:46:52.704848Z",
     "iopub.status.busy": "2024-03-05T15:46:52.704589Z",
     "iopub.status.idle": "2024-03-05T15:46:52.721967Z",
     "shell.execute_reply": "2024-03-05T15:46:52.721288Z",
     "shell.execute_reply.started": "2024-03-05T15:46:52.704831Z"
    }
   },
   "outputs": [],
   "source": [
    "# df_en_a.to_csv('/home/yelhe/script/mt/output/accident_entropy_sum.csv', index = False)\n",
    "# df_en_p.to_csv('/home/yelhe/script/mt/output/pseudo_entropy_sum.csv', index = False)"
   ]
  },
  {
   "cell_type": "code",
   "execution_count": 106,
   "id": "8037753b-b67d-4557-92e2-a48330bb7fbf",
   "metadata": {
    "execution": {
     "iopub.execute_input": "2024-03-05T15:49:00.979929Z",
     "iopub.status.busy": "2024-03-05T15:49:00.979591Z",
     "iopub.status.idle": "2024-03-05T15:49:00.983421Z",
     "shell.execute_reply": "2024-03-05T15:49:00.982770Z",
     "shell.execute_reply.started": "2024-03-05T15:49:00.979910Z"
    }
   },
   "outputs": [],
   "source": [
    "# Entropy variables accident\n",
    "evp = df_en_p[['mew', 'meg', 'ie']]"
   ]
  },
  {
   "cell_type": "code",
   "execution_count": 107,
   "id": "36ac8e60-3c2f-43f0-ab82-8b5d64798fc1",
   "metadata": {
    "execution": {
     "iopub.execute_input": "2024-03-05T15:49:01.344474Z",
     "iopub.status.busy": "2024-03-05T15:49:01.344224Z",
     "iopub.status.idle": "2024-03-05T15:49:01.528009Z",
     "shell.execute_reply": "2024-03-05T15:49:01.527493Z",
     "shell.execute_reply.started": "2024-03-05T15:49:01.344456Z"
    }
   },
   "outputs": [
    {
     "data": {
      "image/png": "[encoded data removed]",
      "text/plain": [
       "<Figure size 640x480 with 2 Axes>"
      ]
     },
     "metadata": {},
     "output_type": "display_data"
    }
   ],
   "source": [
    "corr_matrix_p = evp.corr()\n",
    "# sn.set(font_scale = 0.8)\n",
    "sn.heatmap(corr_matrix_p, annot = True)\n",
    "# plt.savefig('fig_corrmat_low_u1.png')\n",
    "plt.show()"
   ]
  }
 ],
 "metadata": {
  "kernelspec": {
   "display_name": "Python 3 (ipykernel)",
   "language": "python",
   "name": "python3"
  },
  "language_info": {
   "codemirror_mode": {
    "name": "ipython",
    "version": 3
   },
   "file_extension": ".py",
   "mimetype": "text/x-python",
   "name": "python",
   "nbconvert_exporter": "python",
   "pygments_lexer": "ipython3",
   "version": "3.11.5"
  }
 },
 "nbformat": 4,
 "nbformat_minor": 5
}
