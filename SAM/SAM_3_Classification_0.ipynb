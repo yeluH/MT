{
 "cells": [
  {
   "cell_type": "code",
   "execution_count": 13,
   "id": "4105a8b7-a308-4005-a670-7aa8f710e5eb",
   "metadata": {
    "execution": {
     "iopub.execute_input": "2023-12-12T15:12:19.552241Z",
     "iopub.status.busy": "2023-12-12T15:12:19.551905Z",
     "iopub.status.idle": "2023-12-12T15:12:19.555372Z",
     "shell.execute_reply": "2023-12-12T15:12:19.554696Z",
     "shell.execute_reply.started": "2023-12-12T15:12:19.552219Z"
    }
   },
   "outputs": [],
   "source": [
    "import torch\n",
    "torch.cuda.empty_cache() "
   ]
  },
  {
   "cell_type": "code",
   "execution_count": 14,
   "id": "e058a28b-d4ab-4d65-97f2-8c9cfc88919a",
   "metadata": {
    "execution": {
     "iopub.execute_input": "2023-12-12T15:12:19.556623Z",
     "iopub.status.busy": "2023-12-12T15:12:19.556364Z",
     "iopub.status.idle": "2023-12-12T15:12:19.565301Z",
     "shell.execute_reply": "2023-12-12T15:12:19.564766Z",
     "shell.execute_reply.started": "2023-12-12T15:12:19.556604Z"
    }
   },
   "outputs": [
    {
     "name": "stdout",
     "output_type": "stream",
     "text": [
      "PyTorch version: 2.0.1+cu117\n",
      "Torchvision version: 0.15.2+cu117\n",
      "CUDA is available: True\n"
     ]
    }
   ],
   "source": [
    "import torchvision\n",
    "print(\"PyTorch version:\", torch.__version__)\n",
    "print(\"Torchvision version:\", torchvision.__version__)\n",
    "print(\"CUDA is available:\", torch.cuda.is_available())"
   ]
  },
  {
   "cell_type": "code",
   "execution_count": 15,
   "id": "8c4df17e-5ac3-4e80-b26d-cdd15fc4a271",
   "metadata": {
    "execution": {
     "iopub.execute_input": "2023-12-12T15:12:19.566488Z",
     "iopub.status.busy": "2023-12-12T15:12:19.566086Z",
     "iopub.status.idle": "2023-12-12T15:12:19.574338Z",
     "shell.execute_reply": "2023-12-12T15:12:19.573903Z",
     "shell.execute_reply.started": "2023-12-12T15:12:19.566464Z"
    }
   },
   "outputs": [
    {
     "data": {
      "text/plain": [
       "'/home/yelhe/script/mt'"
      ]
     },
     "execution_count": 15,
     "metadata": {},
     "output_type": "execute_result"
    }
   ],
   "source": [
    "import os \n",
    "os.environ['MPLCONFIGDIR'] = os.getcwd() + \"/configs/\"\n",
    "os.environ[\"PYTORCH_CUDA_ALLOC_CONF\"] = \"max_split_size_mb:100000\"\n",
    "import matplotlib\n",
    "from matplotlib import pyplot as plt\n",
    "import numpy as np\n",
    "import cv2\n",
    "os.getcwd()"
   ]
  },
  {
   "cell_type": "code",
   "execution_count": 16,
   "id": "20d9f9fb-5ae4-4a87-8e2d-e4c1465d680c",
   "metadata": {
    "execution": {
     "iopub.execute_input": "2023-12-12T15:12:19.576206Z",
     "iopub.status.busy": "2023-12-12T15:12:19.575821Z",
     "iopub.status.idle": "2023-12-12T15:12:19.599227Z",
     "shell.execute_reply": "2023-12-12T15:12:19.598458Z",
     "shell.execute_reply.started": "2023-12-12T15:12:19.576184Z"
    }
   },
   "outputs": [],
   "source": [
    "import glob\n",
    "import shapely\n",
    "from shapely.geometry import Polygon\n",
    "import shapely.plotting"
   ]
  },
  {
   "cell_type": "code",
   "execution_count": 17,
   "id": "eac7c021-b2a8-4e4b-8e63-62e55fa3f1c0",
   "metadata": {
    "execution": {
     "iopub.execute_input": "2023-12-12T15:12:19.600240Z",
     "iopub.status.busy": "2023-12-12T15:12:19.600030Z",
     "iopub.status.idle": "2023-12-12T15:12:19.622499Z",
     "shell.execute_reply": "2023-12-12T15:12:19.621795Z",
     "shell.execute_reply.started": "2023-12-12T15:12:19.600221Z"
    }
   },
   "outputs": [],
   "source": [
    "import pandas as pd\n",
    "from PIL import Image as ima"
   ]
  },
  {
   "cell_type": "code",
   "execution_count": 18,
   "id": "cb4d5a01-a2fb-463c-b68b-3756c83a2124",
   "metadata": {
    "execution": {
     "iopub.execute_input": "2023-12-12T15:12:19.624024Z",
     "iopub.status.busy": "2023-12-12T15:12:19.623437Z",
     "iopub.status.idle": "2023-12-12T15:12:19.663463Z",
     "shell.execute_reply": "2023-12-12T15:12:19.662927Z",
     "shell.execute_reply.started": "2023-12-12T15:12:19.623998Z"
    }
   },
   "outputs": [],
   "source": [
    "def show_anns(anns):\n",
    "    if len(anns) == 0:\n",
    "        return\n",
    "    sorted_anns = sorted(anns, key=(lambda x: x['area']), reverse=True)\n",
    "    ax = plt.gca()\n",
    "    ax.set_autoscale_on(False)\n",
    "\n",
    "    img = np.ones((sorted_anns[0]['segmentation'].shape[0], sorted_anns[0]['segmentation'].shape[1], 4))\n",
    "    img[:,:,3] = 0\n",
    "    for ann in sorted_anns:\n",
    "        m = ann['segmentation']\n",
    "        color_mask = np.concatenate([np.random.random(3), [0.35]])\n",
    "        img[m] = color_mask\n",
    "    ax.imshow(img)\n",
    "\n",
    "def show_mask(mask, ax, random_color=False):\n",
    "    if random_color:\n",
    "        color = np.concatenate([np.random.random(3), np.array([0.6])], axis=0)\n",
    "    else:\n",
    "        color = np.array([30/255, 144/255, 255/255, 0.6])\n",
    "    h, w = mask.shape[-2:]\n",
    "    mask_image = mask.reshape(h, w, 1) * color.reshape(1, 1, -1)\n",
    "    ax.imshow(mask_image)\n",
    "    \n",
    "def show_points(coords, labels, ax, marker_size=375):\n",
    "    pos_points = coords[labels==1]\n",
    "    neg_points = coords[labels==0]\n",
    "    ax.scatter(pos_points[:, 0], pos_points[:, 1], color='green', marker='*', s=marker_size, edgecolor='white', linewidth=1.25)\n",
    "    ax.scatter(neg_points[:, 0], neg_points[:, 1], color='red', marker='*', s=marker_size, edgecolor='white', linewidth=1.25)   \n",
    "    \n",
    "def show_box(box, ax):\n",
    "    x0, y0 = box[0], box[1]\n",
    "    w, h = box[2] - box[0], box[3] - box[1]\n",
    "    ax.add_patch(plt.Rectangle((x0, y0), w, h, edgecolor='green', facecolor=(0,0,0,0), lw=2))\n",
    "\n",
    "# Add function def show_anns (borrowed from one of the Jupyter notebooks).\n",
    "def show_anns(anns):\n",
    "    if len(anns) == 0:\n",
    "        return\n",
    "    sorted_anns = sorted(anns, key=(lambda x: x['area']), reverse=True)\n",
    "    ax = plt.gca()\n",
    "    ax.set_autoscale_on(False)\n",
    "    # polygons = []\n",
    "    # color = []\n",
    "    img = np.ones((sorted_anns[0]['segmentation'].shape[0], sorted_anns[0]['segmentation'].shape[1], 4))\n",
    "    img[:,:,3] = 0\n",
    "    for ann in sorted_anns:\n",
    "        m = ann['segmentation']\n",
    "        color_mask = np.concatenate([np.random.random(3), [0.35]])\n",
    "        img[m] = color_mask\n",
    "    ax.imshow(img)\n",
    "    # for ann in sorted_anns:\n",
    "    #     m = ann['segmentation']\n",
    "    #     img = np.ones((m.shape[0], m.shape[1], 3))\n",
    "    #     color_mask = np.random.random((1, 3)).tolist()[0]\n",
    "    #     for i in range(3):\n",
    "    #         img[:,:,i] = color_mask[i]\n",
    "    #     ax.imshow(np.dstack((img, m*0.35)))"
   ]
  },
  {
   "cell_type": "code",
   "execution_count": 19,
   "id": "c6544cc2-9b39-4877-a44d-12a99a9bad17",
   "metadata": {
    "execution": {
     "iopub.execute_input": "2023-12-12T15:12:19.664372Z",
     "iopub.status.busy": "2023-12-12T15:12:19.664177Z",
     "iopub.status.idle": "2023-12-12T15:12:19.712998Z",
     "shell.execute_reply": "2023-12-12T15:12:19.712384Z",
     "shell.execute_reply.started": "2023-12-12T15:12:19.664356Z"
    }
   },
   "outputs": [],
   "source": [
    "imageo = cv2.imread(\"/home/yelhe/data/fig/06.jpg\")\n",
    "imageo = cv2.cvtColor(imageo, cv2.COLOR_BGR2RGB)"
   ]
  },
  {
   "cell_type": "code",
   "execution_count": 20,
   "id": "3a1b78c4-b718-4412-974f-5648f8785fe0",
   "metadata": {
    "execution": {
     "iopub.execute_input": "2023-12-12T15:12:19.714043Z",
     "iopub.status.busy": "2023-12-12T15:12:19.713795Z",
     "iopub.status.idle": "2023-12-12T15:12:20.150358Z",
     "shell.execute_reply": "2023-12-12T15:12:20.149824Z",
     "shell.execute_reply.started": "2023-12-12T15:12:19.714024Z"
    }
   },
   "outputs": [],
   "source": [
    "b = np.load('/home/yelhe/script/mt/output/mask0.npy', allow_pickle=True)\n"
   ]
  },
  {
   "cell_type": "code",
   "execution_count": 21,
   "id": "93e5add6-8303-4227-a143-5eaa52cc0c9b",
   "metadata": {
    "execution": {
     "iopub.execute_input": "2023-12-12T15:12:20.151317Z",
     "iopub.status.busy": "2023-12-12T15:12:20.151108Z",
     "iopub.status.idle": "2023-12-12T15:12:20.319557Z",
     "shell.execute_reply": "2023-12-12T15:12:20.319003Z",
     "shell.execute_reply.started": "2023-12-12T15:12:20.151300Z"
    }
   },
   "outputs": [],
   "source": [
    "mb = []\n",
    "for i in range(0, len(b)):\n",
    "    mb.append(b[i].astype('uint8'))"
   ]
  },
  {
   "cell_type": "code",
   "execution_count": 36,
   "id": "2aff30bb-b614-4ff8-bc34-a2d42204baf9",
   "metadata": {
    "execution": {
     "iopub.execute_input": "2023-12-12T15:12:25.244286Z",
     "iopub.status.busy": "2023-12-12T15:12:25.243987Z",
     "iopub.status.idle": "2023-12-12T15:12:25.251064Z",
     "shell.execute_reply": "2023-12-12T15:12:25.250532Z",
     "shell.execute_reply.started": "2023-12-12T15:12:25.244266Z"
    }
   },
   "outputs": [],
   "source": [
    "# Function to find and plot filtered contours (find-filter-plot-contour)\n",
    "def ffpcontour(image, mask, i):\n",
    "    image_masked = cv2.bitwise_and(image,image,mask = mask[i])\n",
    "    assert image is not None, \"image file could not be read, check with os.path.exists()\"\n",
    "    assert mask is not None, \"mask file could not be read, check with os.path.exists()\"\n",
    "    # imgray = cv2.cvtColor(image_masked, cv2.COLOR_BGR2GRAY)\n",
    "    # ret, thresh = cv2.threshold(imgray, 127, 255, 0)\n",
    "    ret, thresh = cv2.threshold((mask[i]*255), 127, 255, 0)\n",
    "    \n",
    "    contours, hierarchy = cv2.findContours(thresh, cv2.RETR_TREE, cv2.CHAIN_APPROX_SIMPLE)\n",
    "    if len(contours) == 1:\n",
    "        contour_f = contours\n",
    "    else:\n",
    "        contour_f = []\n",
    "        for i in range(0, len(contours)):\n",
    "            # print(i, \"len\", len(contours[i]))\n",
    "            if len(contours[i]) > 80:\n",
    "                contour_f.append(contours[i])\n",
    "    # print(\"filtered\", \"len\", len(contour_f), contour_f)\n",
    "    # Plotting the filtered contour\n",
    "    # -1 is the contourIdx, (0,255,0) is color, 3 is the thickness\n",
    "    # print(\"raw\",len(contours))\n",
    "    # print(\"filtered\", len(contour_f))\n",
    "    img_con = cv2.drawContours(image_masked, contour_f, -1, (0,255,0), 3) \n",
    "    plt.figure(figsize = (15,15))\n",
    "    plt.imshow(img_con)\n",
    "    plt.axis('on')\n",
    "    plt.show\n",
    "    return contour_f\n",
    "\n",
    "# Function to find and plot filtered contours (find-filter-plot-contour)\n",
    "def ffpcontour_noplot(image, mask, i):\n",
    "    assert image is not None, \"image file could not be read, check with os.path.exists()\"\n",
    "    assert mask is not None, \"mask file could not be read, check with os.path.exists()\"\n",
    "    # imgray = cv2.cvtColor(image_masked, cv2.COLOR_BGR2GRAY)\n",
    "    # ret, thresh = cv2.threshold(imgray, 127, 255, 0)\n",
    "    ret, thresh = cv2.threshold((mask[i]*255), 127, 255, 0)\n",
    "    \n",
    "    contours, hierarchy = cv2.findContours(thresh, cv2.RETR_TREE, cv2.CHAIN_APPROX_SIMPLE)\n",
    "    if len(contours) == 1:\n",
    "        contour_f = contours\n",
    "    else:\n",
    "        contour_f = []\n",
    "        for i in range(0, len(contours)):\n",
    "            # print(i, \"len\", len(contours[i]))\n",
    "            if len(contours[i]) > 80:\n",
    "                contour_f.append(contours[i])\n",
    "        # print(\"filtered\", \"len\", len(contour_f), contour_f) \n",
    "    # print(\"raw\",len(contours))\n",
    "    # print(\"filtered\", len(contour_f))\n",
    "    return contour_f"
   ]
  },
  {
   "cell_type": "code",
   "execution_count": 59,
   "id": "f72b3ba6-68a3-4edb-b8cb-4b154fc29ff3",
   "metadata": {
    "execution": {
     "iopub.execute_input": "2023-12-12T15:12:26.520712Z",
     "iopub.status.busy": "2023-12-12T15:12:26.520541Z",
     "iopub.status.idle": "2023-12-12T15:12:26.532481Z",
     "shell.execute_reply": "2023-12-12T15:12:26.531921Z",
     "shell.execute_reply.started": "2023-12-12T15:12:26.520697Z"
    }
   },
   "outputs": [],
   "source": [
    "# Contour geometric attributes result\n",
    "# For each contour\n",
    "def cgr(contour):\n",
    "    assert contour is not None, \"image file could not be read, check with os.path.exists()\"\n",
    "    c = contour\n",
    "    isconvex = cv2.isContourConvex(c) # Checking convexity\n",
    "    M = cv2.moments(c) # Monments\n",
    "    area = cv2.contourArea(c) # Area \n",
    "    cx = int(M['m10']/M['m00']) # Centroid\n",
    "    cy = int(M['m01']/M['m00'])\n",
    "    xs,ys,ws,hs = cv2.boundingRect(c) # Straight bounding rectangle\n",
    "    aspect_ratio_wh_s = float(ws)/hs # Aspect ratio\n",
    "    extent_s = float(area)/(ws*hs) # Extent\n",
    "    hull = cv2.convexHull(c) # Solidity\n",
    "    hull_area = cv2.contourArea(hull)\n",
    "    solidity = float(area)/hull_area\n",
    "    (x,y), (w,h), ar = cv2.minAreaRect(c) # Rotated rectangle with minimum area\n",
    "    aspect_ratio_wh = float(w)/h  # Aspect ratio\n",
    "    extent = float(area)/(w*h) # Extent\n",
    "    (xe,ye),(MA,ma),ae = cv2.fitEllipse(c35[0])\n",
    "    ed = np.sqrt(4*area/np.pi) # Equivalent Diameter\n",
    "    ratio_ell = float(ma)/MA\n",
    "    perimeter = cv2.arcLength(c, True) # Arclength\n",
    "    p_centroid = np.array([float(cx), float(cy)])\n",
    "    p_masscenter = np.array([float(x), float(y)])\n",
    "    is_cen_inside = cv2.pointPolygonTest(c, p_centroid, False) # Checking if centroid is inside\n",
    "    is_mce_inside = cv2.pointPolygonTest(c, p_masscenter, False) # Checking if mass center is inside    \n",
    "    return {\n",
    "        'isconvex': isconvex,\n",
    "        'area': area,\n",
    "        'aspect_ratio_wh_s': aspect_ratio_wh_s,\n",
    "        'extent_s': extent_s,\n",
    "        'solidity': solidity,\n",
    "        'aspect_ratio_wh': aspect_ratio_wh,\n",
    "        'extent': extent,\n",
    "        'ed': ed,\n",
    "        'ratio_ell': ratio_ell,\n",
    "        'perimeter': perimeter,\n",
    "        'is_cen_inside': is_cen_inside,\n",
    "        'is_mce_inside': is_mce_inside\n",
    "    }\n",
    "          "
   ]
  },
  {
   "cell_type": "code",
   "execution_count": 60,
   "id": "92a49e63-3970-469f-8bf0-3429a22bcc30",
   "metadata": {
    "execution": {
     "iopub.execute_input": "2023-12-12T15:12:26.533526Z",
     "iopub.status.busy": "2023-12-12T15:12:26.533313Z",
     "iopub.status.idle": "2023-12-12T15:12:26.541879Z",
     "shell.execute_reply": "2023-12-12T15:12:26.541366Z",
     "shell.execute_reply.started": "2023-12-12T15:12:26.533509Z"
    }
   },
   "outputs": [],
   "source": [
    "def csga(contours):\n",
    "    assert contours is not None, \"image file could not be read, check with os.path.exists()\"\n",
    "    if len(contours) == 1:\n",
    "        ga = cgr(contours[0])\n",
    "    else:\n",
    "        gal = []\n",
    "        for i in range(0, (len(contours)-1)):\n",
    "            gal.append(cgr(contours[i]))\n",
    "        isc = []\n",
    "        al = []\n",
    "        asps = []\n",
    "        exts = []\n",
    "        sol = []\n",
    "        asp = []\n",
    "        ext = []\n",
    "        ed = []\n",
    "        rate = []\n",
    "        per = []\n",
    "        isc = []\n",
    "        ism = []\n",
    "        for i in range(0, len(gal)):\n",
    "            isc.append(gal[0]['isconvex'])\n",
    "            al.append(gal[0]['area'])\n",
    "            asps.append(gal[0]['aspect_ratio_wh_s'])\n",
    "            exts.append(gal[0]['extent_s'])\n",
    "            sol.append(gal[0]['solidity'])\n",
    "            asp.append(gal[0]['aspect_ratio_wh'])\n",
    "            ext.append(gal[0]['extent'])\n",
    "            ed.append(gal[0]['ed'])\n",
    "            rate.append(gal[0]['ratio_ell'])\n",
    "            per.append(gal[0]['perimeter'])\n",
    "            isc.append(gal[0]['is_cen_inside'])\n",
    "            ism.append(gal[0]['is_mce_inside'])\n",
    "        isconvex = np.all(isc)\n",
    "        area = np.mean(al)\n",
    "        aspect_ratio_wh_s = np.mean(asps)\n",
    "        extent_s = np.mean(exts)\n",
    "        solidity = np.mean(sol)\n",
    "        aspect_ratio_wh = np.mean(asp)\n",
    "        extent = np.mean(ext)\n",
    "        ed = np.mean(ed)\n",
    "        ratio_ell = np.mean(rate)\n",
    "        perimeter = np.mean(per)\n",
    "        is_cen_inside = np.mean(isc)\n",
    "        is_mce_inside = np.mean(ism)\n",
    "        ga = {\n",
    "            'isconvex': isconvex,\n",
    "            'area': area,\n",
    "            'aspect_ratio_wh_s': aspect_ratio_wh_s,\n",
    "            'extent_s': extent_s,\n",
    "            'solidity': solidity,\n",
    "            'aspect_ratio_wh': aspect_ratio_wh,\n",
    "            'extent': extent,\n",
    "            'ed': ed,\n",
    "            'ratio_ell': ratio_ell,\n",
    "            'perimeter': perimeter,\n",
    "            'is_cen_inside': is_cen_inside,\n",
    "            'is_mce_inside': is_mce_inside\n",
    "        }\n",
    "    return ga\n"
   ]
  },
  {
   "cell_type": "code",
   "execution_count": 139,
   "id": "ae556cd1-9d8c-4c8d-bb05-04a7e813e083",
   "metadata": {
    "execution": {
     "iopub.execute_input": "2023-12-12T17:19:50.359002Z",
     "iopub.status.busy": "2023-12-12T17:19:50.358705Z",
     "iopub.status.idle": "2023-12-12T17:19:50.369958Z",
     "shell.execute_reply": "2023-12-12T17:19:50.369257Z",
     "shell.execute_reply.started": "2023-12-12T17:19:50.358979Z"
    }
   },
   "outputs": [
    {
     "name": "stdout",
     "output_type": "stream",
     "text": [
      "<class 'pandas.core.frame.DataFrame'>\n",
      "RangeIndex: 48 entries, 0 to 47\n",
      "Data columns (total 25 columns):\n",
      " #   Column             Non-Null Count  Dtype  \n",
      "---  ------             --------------  -----  \n",
      " 0   mask               48 non-null     int64  \n",
      " 1   gmedian            48 non-null     float64\n",
      " 2   rmedian            48 non-null     float64\n",
      " 3   bmedian            48 non-null     float64\n",
      " 4   bmean              48 non-null     float64\n",
      " 5   gmean              48 non-null     float64\n",
      " 6   rmean              48 non-null     float64\n",
      " 7   bstd               48 non-null     float64\n",
      " 8   gstd               48 non-null     float64\n",
      " 9   rstd               48 non-null     float64\n",
      " 10  isconvex           48 non-null     bool   \n",
      " 11  area               48 non-null     float64\n",
      " 12  aspect_ratio_wh_s  48 non-null     float64\n",
      " 13  extent_s           48 non-null     float64\n",
      " 14  solidity           48 non-null     float64\n",
      " 15  aspect_ratio_wh    48 non-null     float64\n",
      " 16  extent             48 non-null     float64\n",
      " 17  ed                 48 non-null     float64\n",
      " 18  ratio_ell          48 non-null     float64\n",
      " 19  perimeter          48 non-null     float64\n",
      " 20  is_cen_inside      48 non-null     float64\n",
      " 21  is_mce_inside      48 non-null     float64\n",
      " 22  label              48 non-null     object \n",
      " 23  labelgroup         48 non-null     object \n",
      " 24  labelgroup_index   48 non-null     int64  \n",
      "dtypes: bool(1), float64(20), int64(2), object(2)\n",
      "memory usage: 9.2+ KB\n"
     ]
    }
   ],
   "source": [
    "df1 = pd.read_csv('/home/yelhe/script/mt/output/result1_labeled.csv')\n",
    "df1.info()"
   ]
  },
  {
   "cell_type": "code",
   "execution_count": 140,
   "id": "05776783-94ba-4a42-9490-93043839c826",
   "metadata": {
    "execution": {
     "iopub.execute_input": "2023-12-12T17:19:50.811898Z",
     "iopub.status.busy": "2023-12-12T17:19:50.811543Z",
     "iopub.status.idle": "2023-12-12T17:19:50.815028Z",
     "shell.execute_reply": "2023-12-12T17:19:50.814365Z",
     "shell.execute_reply.started": "2023-12-12T17:19:50.811874Z"
    }
   },
   "outputs": [],
   "source": [
    "df = df1"
   ]
  },
  {
   "cell_type": "code",
   "execution_count": 141,
   "id": "3af71070-a5d4-4b7b-bd06-8b2a811c6d45",
   "metadata": {
    "execution": {
     "iopub.execute_input": "2023-12-12T17:19:51.598843Z",
     "iopub.status.busy": "2023-12-12T17:19:51.598501Z",
     "iopub.status.idle": "2023-12-12T17:19:51.601969Z",
     "shell.execute_reply": "2023-12-12T17:19:51.601430Z",
     "shell.execute_reply.started": "2023-12-12T17:19:51.598819Z"
    }
   },
   "outputs": [],
   "source": [
    "# Importing Modules\n",
    "from sklearn import datasets\n",
    "from sklearn.cluster import KMeans\n",
    "from sklearn import tree\n",
    "from sklearn.tree import DecisionTreeClassifier"
   ]
  },
  {
   "cell_type": "code",
   "execution_count": 142,
   "id": "ec131e6b-9cd9-4cc3-a970-04f68b5897f6",
   "metadata": {
    "execution": {
     "iopub.execute_input": "2023-12-12T17:19:52.485235Z",
     "iopub.status.busy": "2023-12-12T17:19:52.484737Z",
     "iopub.status.idle": "2023-12-12T17:19:52.489319Z",
     "shell.execute_reply": "2023-12-12T17:19:52.488806Z",
     "shell.execute_reply.started": "2023-12-12T17:19:52.485215Z"
    }
   },
   "outputs": [
    {
     "data": {
      "text/plain": [
       "array(['billboard', 'building', 'infrastructure', 'road', 'sky',\n",
       "       'vegetation'], dtype=object)"
      ]
     },
     "execution_count": 142,
     "metadata": {},
     "output_type": "execute_result"
    }
   ],
   "source": [
    "np.unique(df['labelgroup'])"
   ]
  },
  {
   "cell_type": "code",
   "execution_count": 143,
   "id": "57b87789-6aff-4553-885e-8184347e3495",
   "metadata": {
    "execution": {
     "iopub.execute_input": "2023-12-12T17:19:53.357913Z",
     "iopub.status.busy": "2023-12-12T17:19:53.357329Z",
     "iopub.status.idle": "2023-12-12T17:19:53.361769Z",
     "shell.execute_reply": "2023-12-12T17:19:53.360940Z",
     "shell.execute_reply.started": "2023-12-12T17:19:53.357890Z"
    }
   },
   "outputs": [
    {
     "name": "stdout",
     "output_type": "stream",
     "text": [
      "25\n",
      "48\n"
     ]
    }
   ],
   "source": [
    "print(df.shape[1])\n",
    "print(df.shape[0])"
   ]
  },
  {
   "cell_type": "code",
   "execution_count": 144,
   "id": "10d45174-c0ea-42a1-9437-791a289f3ab0",
   "metadata": {
    "execution": {
     "iopub.execute_input": "2023-12-12T17:19:54.818861Z",
     "iopub.status.busy": "2023-12-12T17:19:54.818208Z",
     "iopub.status.idle": "2023-12-12T17:19:54.823886Z",
     "shell.execute_reply": "2023-12-12T17:19:54.823088Z",
     "shell.execute_reply.started": "2023-12-12T17:19:54.818832Z"
    }
   },
   "outputs": [],
   "source": [
    "from sklearn.preprocessing import LabelEncoder\n",
    "le = LabelEncoder()\n",
    "df['labelgroup_index'] = le.fit_transform(df['labelgroup'])\n",
    "y = df['labelgroup']\n",
    "y = le.transform(y)"
   ]
  },
  {
   "cell_type": "code",
   "execution_count": 145,
   "id": "06f84e79-a775-4cc3-8bde-753d60c13236",
   "metadata": {
    "execution": {
     "iopub.execute_input": "2023-12-12T17:19:55.579699Z",
     "iopub.status.busy": "2023-12-12T17:19:55.579360Z",
     "iopub.status.idle": "2023-12-12T17:19:55.584105Z",
     "shell.execute_reply": "2023-12-12T17:19:55.583348Z",
     "shell.execute_reply.started": "2023-12-12T17:19:55.579678Z"
    }
   },
   "outputs": [],
   "source": [
    "df_new = df.iloc[:, 1:22]"
   ]
  },
  {
   "cell_type": "code",
   "execution_count": 146,
   "id": "93b472f9-f3c3-45d4-8609-397be272dd09",
   "metadata": {
    "execution": {
     "iopub.execute_input": "2023-12-12T17:19:56.347235Z",
     "iopub.status.busy": "2023-12-12T17:19:56.346686Z",
     "iopub.status.idle": "2023-12-12T17:19:56.351223Z",
     "shell.execute_reply": "2023-12-12T17:19:56.350487Z",
     "shell.execute_reply.started": "2023-12-12T17:19:56.347211Z"
    }
   },
   "outputs": [],
   "source": [
    "df_new['isconvex'] = df_new['isconvex'].astype(int)"
   ]
  },
  {
   "cell_type": "code",
   "execution_count": 147,
   "id": "d5e2959e-1287-4f48-a337-7777ed5cb484",
   "metadata": {
    "execution": {
     "iopub.execute_input": "2023-12-12T17:19:56.962276Z",
     "iopub.status.busy": "2023-12-12T17:19:56.961966Z",
     "iopub.status.idle": "2023-12-12T17:19:56.965431Z",
     "shell.execute_reply": "2023-12-12T17:19:56.964833Z",
     "shell.execute_reply.started": "2023-12-12T17:19:56.962255Z"
    }
   },
   "outputs": [],
   "source": [
    "df_new = df_new.astype(float)"
   ]
  },
  {
   "cell_type": "code",
   "execution_count": 148,
   "id": "8b111bdd-cea8-4690-89e9-1cced923243f",
   "metadata": {
    "execution": {
     "iopub.execute_input": "2023-12-12T17:19:57.721969Z",
     "iopub.status.busy": "2023-12-12T17:19:57.721337Z",
     "iopub.status.idle": "2023-12-12T17:19:57.740447Z",
     "shell.execute_reply": "2023-12-12T17:19:57.739781Z",
     "shell.execute_reply.started": "2023-12-12T17:19:57.721942Z"
    }
   },
   "outputs": [
    {
     "data": {
      "text/html": [
       "<div>\n",
       "<style scoped>\n",
       "    .dataframe tbody tr th:only-of-type {\n",
       "        vertical-align: middle;\n",
       "    }\n",
       "\n",
       "    .dataframe tbody tr th {\n",
       "        vertical-align: top;\n",
       "    }\n",
       "\n",
       "    .dataframe thead th {\n",
       "        text-align: right;\n",
       "    }\n",
       "</style>\n",
       "<table border=\"1\" class=\"dataframe\">\n",
       "  <thead>\n",
       "    <tr style=\"text-align: right;\">\n",
       "      <th></th>\n",
       "      <th>gmedian</th>\n",
       "      <th>rmedian</th>\n",
       "      <th>bmedian</th>\n",
       "      <th>bmean</th>\n",
       "      <th>gmean</th>\n",
       "      <th>rmean</th>\n",
       "      <th>bstd</th>\n",
       "      <th>gstd</th>\n",
       "      <th>rstd</th>\n",
       "      <th>isconvex</th>\n",
       "      <th>...</th>\n",
       "      <th>aspect_ratio_wh_s</th>\n",
       "      <th>extent_s</th>\n",
       "      <th>solidity</th>\n",
       "      <th>aspect_ratio_wh</th>\n",
       "      <th>extent</th>\n",
       "      <th>ed</th>\n",
       "      <th>ratio_ell</th>\n",
       "      <th>perimeter</th>\n",
       "      <th>is_cen_inside</th>\n",
       "      <th>is_mce_inside</th>\n",
       "    </tr>\n",
       "  </thead>\n",
       "  <tbody>\n",
       "    <tr>\n",
       "      <th>0</th>\n",
       "      <td>159.0</td>\n",
       "      <td>220.0</td>\n",
       "      <td>113.0</td>\n",
       "      <td>115.037443</td>\n",
       "      <td>161.245059</td>\n",
       "      <td>219.314712</td>\n",
       "      <td>29.171680</td>\n",
       "      <td>27.310695</td>\n",
       "      <td>19.057815</td>\n",
       "      <td>0.0</td>\n",
       "      <td>...</td>\n",
       "      <td>2.303650</td>\n",
       "      <td>0.784646</td>\n",
       "      <td>0.820970</td>\n",
       "      <td>2.320830</td>\n",
       "      <td>0.789984</td>\n",
       "      <td>1039.179935</td>\n",
       "      <td>3.237304</td>\n",
       "      <td>6627.573049</td>\n",
       "      <td>0.5</td>\n",
       "      <td>1.0</td>\n",
       "    </tr>\n",
       "    <tr>\n",
       "      <th>1</th>\n",
       "      <td>150.0</td>\n",
       "      <td>149.0</td>\n",
       "      <td>155.0</td>\n",
       "      <td>154.293353</td>\n",
       "      <td>147.912176</td>\n",
       "      <td>146.682473</td>\n",
       "      <td>18.354942</td>\n",
       "      <td>19.075097</td>\n",
       "      <td>20.102601</td>\n",
       "      <td>0.0</td>\n",
       "      <td>...</td>\n",
       "      <td>4.841004</td>\n",
       "      <td>0.448832</td>\n",
       "      <td>0.769425</td>\n",
       "      <td>0.205655</td>\n",
       "      <td>0.451825</td>\n",
       "      <td>397.523513</td>\n",
       "      <td>3.237304</td>\n",
       "      <td>2627.952443</td>\n",
       "      <td>1.0</td>\n",
       "      <td>-1.0</td>\n",
       "    </tr>\n",
       "    <tr>\n",
       "      <th>2</th>\n",
       "      <td>149.0</td>\n",
       "      <td>141.0</td>\n",
       "      <td>158.0</td>\n",
       "      <td>157.416081</td>\n",
       "      <td>147.710813</td>\n",
       "      <td>140.176188</td>\n",
       "      <td>11.144862</td>\n",
       "      <td>11.465430</td>\n",
       "      <td>11.599858</td>\n",
       "      <td>0.0</td>\n",
       "      <td>...</td>\n",
       "      <td>2.264574</td>\n",
       "      <td>0.549203</td>\n",
       "      <td>0.772575</td>\n",
       "      <td>0.438555</td>\n",
       "      <td>0.555195</td>\n",
       "      <td>280.620662</td>\n",
       "      <td>3.237304</td>\n",
       "      <td>1488.957492</td>\n",
       "      <td>1.0</td>\n",
       "      <td>1.0</td>\n",
       "    </tr>\n",
       "    <tr>\n",
       "      <th>3</th>\n",
       "      <td>196.0</td>\n",
       "      <td>178.0</td>\n",
       "      <td>206.0</td>\n",
       "      <td>189.341364</td>\n",
       "      <td>179.771029</td>\n",
       "      <td>163.463858</td>\n",
       "      <td>41.914930</td>\n",
       "      <td>41.903284</td>\n",
       "      <td>39.716842</td>\n",
       "      <td>0.0</td>\n",
       "      <td>...</td>\n",
       "      <td>3.262548</td>\n",
       "      <td>0.337358</td>\n",
       "      <td>0.741346</td>\n",
       "      <td>0.194310</td>\n",
       "      <td>0.492126</td>\n",
       "      <td>306.604727</td>\n",
       "      <td>3.237304</td>\n",
       "      <td>1975.810306</td>\n",
       "      <td>1.0</td>\n",
       "      <td>1.0</td>\n",
       "    </tr>\n",
       "    <tr>\n",
       "      <th>4</th>\n",
       "      <td>63.0</td>\n",
       "      <td>79.0</td>\n",
       "      <td>55.0</td>\n",
       "      <td>58.687735</td>\n",
       "      <td>66.942850</td>\n",
       "      <td>80.942669</td>\n",
       "      <td>20.713621</td>\n",
       "      <td>19.271871</td>\n",
       "      <td>17.466285</td>\n",
       "      <td>0.0</td>\n",
       "      <td>...</td>\n",
       "      <td>2.270833</td>\n",
       "      <td>0.775803</td>\n",
       "      <td>0.983404</td>\n",
       "      <td>0.437788</td>\n",
       "      <td>0.787582</td>\n",
       "      <td>143.778709</td>\n",
       "      <td>3.237304</td>\n",
       "      <td>590.166520</td>\n",
       "      <td>1.0</td>\n",
       "      <td>1.0</td>\n",
       "    </tr>\n",
       "  </tbody>\n",
       "</table>\n",
       "<p>5 rows × 21 columns</p>\n",
       "</div>"
      ],
      "text/plain": [
       "   gmedian  rmedian  bmedian       bmean       gmean       rmean       bstd  \\\n",
       "0    159.0    220.0    113.0  115.037443  161.245059  219.314712  29.171680   \n",
       "1    150.0    149.0    155.0  154.293353  147.912176  146.682473  18.354942   \n",
       "2    149.0    141.0    158.0  157.416081  147.710813  140.176188  11.144862   \n",
       "3    196.0    178.0    206.0  189.341364  179.771029  163.463858  41.914930   \n",
       "4     63.0     79.0     55.0   58.687735   66.942850   80.942669  20.713621   \n",
       "\n",
       "        gstd       rstd  isconvex  ...  aspect_ratio_wh_s  extent_s  solidity  \\\n",
       "0  27.310695  19.057815       0.0  ...           2.303650  0.784646  0.820970   \n",
       "1  19.075097  20.102601       0.0  ...           4.841004  0.448832  0.769425   \n",
       "2  11.465430  11.599858       0.0  ...           2.264574  0.549203  0.772575   \n",
       "3  41.903284  39.716842       0.0  ...           3.262548  0.337358  0.741346   \n",
       "4  19.271871  17.466285       0.0  ...           2.270833  0.775803  0.983404   \n",
       "\n",
       "   aspect_ratio_wh    extent           ed  ratio_ell    perimeter  \\\n",
       "0         2.320830  0.789984  1039.179935   3.237304  6627.573049   \n",
       "1         0.205655  0.451825   397.523513   3.237304  2627.952443   \n",
       "2         0.438555  0.555195   280.620662   3.237304  1488.957492   \n",
       "3         0.194310  0.492126   306.604727   3.237304  1975.810306   \n",
       "4         0.437788  0.787582   143.778709   3.237304   590.166520   \n",
       "\n",
       "   is_cen_inside  is_mce_inside  \n",
       "0            0.5            1.0  \n",
       "1            1.0           -1.0  \n",
       "2            1.0            1.0  \n",
       "3            1.0            1.0  \n",
       "4            1.0            1.0  \n",
       "\n",
       "[5 rows x 21 columns]"
      ]
     },
     "execution_count": 148,
     "metadata": {},
     "output_type": "execute_result"
    }
   ],
   "source": [
    "df_new.head()"
   ]
  },
  {
   "cell_type": "code",
   "execution_count": 149,
   "id": "ea66e07e-3945-4ed4-b8e1-6681a9afde37",
   "metadata": {
    "execution": {
     "iopub.execute_input": "2023-12-12T17:19:59.714752Z",
     "iopub.status.busy": "2023-12-12T17:19:59.714429Z",
     "iopub.status.idle": "2023-12-12T17:19:59.723806Z",
     "shell.execute_reply": "2023-12-12T17:19:59.723104Z",
     "shell.execute_reply.started": "2023-12-12T17:19:59.714730Z"
    }
   },
   "outputs": [
    {
     "name": "stdout",
     "output_type": "stream",
     "text": [
      "<class 'pandas.core.frame.DataFrame'>\n",
      "RangeIndex: 48 entries, 0 to 47\n",
      "Data columns (total 21 columns):\n",
      " #   Column             Non-Null Count  Dtype  \n",
      "---  ------             --------------  -----  \n",
      " 0   gmedian            48 non-null     float64\n",
      " 1   rmedian            48 non-null     float64\n",
      " 2   bmedian            48 non-null     float64\n",
      " 3   bmean              48 non-null     float64\n",
      " 4   gmean              48 non-null     float64\n",
      " 5   rmean              48 non-null     float64\n",
      " 6   bstd               48 non-null     float64\n",
      " 7   gstd               48 non-null     float64\n",
      " 8   rstd               48 non-null     float64\n",
      " 9   isconvex           48 non-null     float64\n",
      " 10  area               48 non-null     float64\n",
      " 11  aspect_ratio_wh_s  48 non-null     float64\n",
      " 12  extent_s           48 non-null     float64\n",
      " 13  solidity           48 non-null     float64\n",
      " 14  aspect_ratio_wh    48 non-null     float64\n",
      " 15  extent             48 non-null     float64\n",
      " 16  ed                 48 non-null     float64\n",
      " 17  ratio_ell          48 non-null     float64\n",
      " 18  perimeter          48 non-null     float64\n",
      " 19  is_cen_inside      48 non-null     float64\n",
      " 20  is_mce_inside      48 non-null     float64\n",
      "dtypes: float64(21)\n",
      "memory usage: 8.0 KB\n"
     ]
    }
   ],
   "source": [
    "df_new.info()"
   ]
  },
  {
   "cell_type": "code",
   "execution_count": 150,
   "id": "883cf184-1417-4fe9-8f56-2f2a07c952ba",
   "metadata": {
    "execution": {
     "iopub.execute_input": "2023-12-12T17:20:03.204076Z",
     "iopub.status.busy": "2023-12-12T17:20:03.203697Z",
     "iopub.status.idle": "2023-12-12T17:20:03.251743Z",
     "shell.execute_reply": "2023-12-12T17:20:03.251082Z",
     "shell.execute_reply.started": "2023-12-12T17:20:03.204048Z"
    }
   },
   "outputs": [
    {
     "data": {
      "text/html": [
       "<div>\n",
       "<style scoped>\n",
       "    .dataframe tbody tr th:only-of-type {\n",
       "        vertical-align: middle;\n",
       "    }\n",
       "\n",
       "    .dataframe tbody tr th {\n",
       "        vertical-align: top;\n",
       "    }\n",
       "\n",
       "    .dataframe thead th {\n",
       "        text-align: right;\n",
       "    }\n",
       "</style>\n",
       "<table border=\"1\" class=\"dataframe\">\n",
       "  <thead>\n",
       "    <tr style=\"text-align: right;\">\n",
       "      <th></th>\n",
       "      <th>gmedian</th>\n",
       "      <th>rmedian</th>\n",
       "      <th>bmedian</th>\n",
       "      <th>bmean</th>\n",
       "      <th>gmean</th>\n",
       "      <th>rmean</th>\n",
       "      <th>bstd</th>\n",
       "      <th>gstd</th>\n",
       "      <th>rstd</th>\n",
       "      <th>isconvex</th>\n",
       "      <th>...</th>\n",
       "      <th>aspect_ratio_wh_s</th>\n",
       "      <th>extent_s</th>\n",
       "      <th>solidity</th>\n",
       "      <th>aspect_ratio_wh</th>\n",
       "      <th>extent</th>\n",
       "      <th>ed</th>\n",
       "      <th>ratio_ell</th>\n",
       "      <th>perimeter</th>\n",
       "      <th>is_cen_inside</th>\n",
       "      <th>is_mce_inside</th>\n",
       "    </tr>\n",
       "  </thead>\n",
       "  <tbody>\n",
       "    <tr>\n",
       "      <th>count</th>\n",
       "      <td>48.000000</td>\n",
       "      <td>48.000000</td>\n",
       "      <td>48.000000</td>\n",
       "      <td>48.000000</td>\n",
       "      <td>48.000000</td>\n",
       "      <td>48.000000</td>\n",
       "      <td>48.000000</td>\n",
       "      <td>48.000000</td>\n",
       "      <td>48.000000</td>\n",
       "      <td>48.0</td>\n",
       "      <td>...</td>\n",
       "      <td>48.000000</td>\n",
       "      <td>48.000000</td>\n",
       "      <td>48.000000</td>\n",
       "      <td>48.000000</td>\n",
       "      <td>48.000000</td>\n",
       "      <td>48.000000</td>\n",
       "      <td>4.800000e+01</td>\n",
       "      <td>48.000000</td>\n",
       "      <td>48.000000</td>\n",
       "      <td>48.000000</td>\n",
       "    </tr>\n",
       "    <tr>\n",
       "      <th>mean</th>\n",
       "      <td>85.375000</td>\n",
       "      <td>88.729167</td>\n",
       "      <td>78.093750</td>\n",
       "      <td>84.610492</td>\n",
       "      <td>92.386422</td>\n",
       "      <td>96.407439</td>\n",
       "      <td>34.173247</td>\n",
       "      <td>34.563555</td>\n",
       "      <td>34.558759</td>\n",
       "      <td>0.0</td>\n",
       "      <td>...</td>\n",
       "      <td>2.064357</td>\n",
       "      <td>0.582933</td>\n",
       "      <td>0.838429</td>\n",
       "      <td>2.999413</td>\n",
       "      <td>0.675285</td>\n",
       "      <td>136.686054</td>\n",
       "      <td>3.237304e+00</td>\n",
       "      <td>806.415644</td>\n",
       "      <td>0.937500</td>\n",
       "      <td>0.916667</td>\n",
       "    </tr>\n",
       "    <tr>\n",
       "      <th>std</th>\n",
       "      <td>45.449352</td>\n",
       "      <td>47.122177</td>\n",
       "      <td>49.757033</td>\n",
       "      <td>43.452050</td>\n",
       "      <td>39.462906</td>\n",
       "      <td>42.616796</td>\n",
       "      <td>12.790927</td>\n",
       "      <td>13.122619</td>\n",
       "      <td>15.680906</td>\n",
       "      <td>0.0</td>\n",
       "      <td>...</td>\n",
       "      <td>1.979540</td>\n",
       "      <td>0.189352</td>\n",
       "      <td>0.143401</td>\n",
       "      <td>8.201565</td>\n",
       "      <td>0.140437</td>\n",
       "      <td>155.946587</td>\n",
       "      <td>8.975774e-16</td>\n",
       "      <td>1036.940276</td>\n",
       "      <td>0.302911</td>\n",
       "      <td>0.403882</td>\n",
       "    </tr>\n",
       "    <tr>\n",
       "      <th>min</th>\n",
       "      <td>30.000000</td>\n",
       "      <td>26.000000</td>\n",
       "      <td>22.000000</td>\n",
       "      <td>32.128978</td>\n",
       "      <td>42.338912</td>\n",
       "      <td>29.849747</td>\n",
       "      <td>11.144862</td>\n",
       "      <td>11.126874</td>\n",
       "      <td>10.130948</td>\n",
       "      <td>0.0</td>\n",
       "      <td>...</td>\n",
       "      <td>0.027939</td>\n",
       "      <td>0.077883</td>\n",
       "      <td>0.230295</td>\n",
       "      <td>0.022281</td>\n",
       "      <td>0.157516</td>\n",
       "      <td>30.077179</td>\n",
       "      <td>3.237304e+00</td>\n",
       "      <td>139.698484</td>\n",
       "      <td>-1.000000</td>\n",
       "      <td>-1.000000</td>\n",
       "    </tr>\n",
       "    <tr>\n",
       "      <th>25%</th>\n",
       "      <td>48.750000</td>\n",
       "      <td>51.250000</td>\n",
       "      <td>38.750000</td>\n",
       "      <td>53.761906</td>\n",
       "      <td>64.042341</td>\n",
       "      <td>64.446918</td>\n",
       "      <td>24.857223</td>\n",
       "      <td>24.552967</td>\n",
       "      <td>21.189782</td>\n",
       "      <td>0.0</td>\n",
       "      <td>...</td>\n",
       "      <td>0.691120</td>\n",
       "      <td>0.504114</td>\n",
       "      <td>0.771788</td>\n",
       "      <td>0.438363</td>\n",
       "      <td>0.625086</td>\n",
       "      <td>59.296263</td>\n",
       "      <td>3.237304e+00</td>\n",
       "      <td>256.208151</td>\n",
       "      <td>1.000000</td>\n",
       "      <td>1.000000</td>\n",
       "    </tr>\n",
       "    <tr>\n",
       "      <th>50%</th>\n",
       "      <td>73.500000</td>\n",
       "      <td>77.000000</td>\n",
       "      <td>64.500000</td>\n",
       "      <td>76.187442</td>\n",
       "      <td>86.452664</td>\n",
       "      <td>89.790878</td>\n",
       "      <td>33.532140</td>\n",
       "      <td>35.383562</td>\n",
       "      <td>35.727033</td>\n",
       "      <td>0.0</td>\n",
       "      <td>...</td>\n",
       "      <td>1.070759</td>\n",
       "      <td>0.658127</td>\n",
       "      <td>0.891250</td>\n",
       "      <td>0.887769</td>\n",
       "      <td>0.716582</td>\n",
       "      <td>86.853237</td>\n",
       "      <td>3.237304e+00</td>\n",
       "      <td>493.776692</td>\n",
       "      <td>1.000000</td>\n",
       "      <td>1.000000</td>\n",
       "    </tr>\n",
       "    <tr>\n",
       "      <th>75%</th>\n",
       "      <td>113.750000</td>\n",
       "      <td>124.250000</td>\n",
       "      <td>95.500000</td>\n",
       "      <td>98.518846</td>\n",
       "      <td>112.126748</td>\n",
       "      <td>122.464639</td>\n",
       "      <td>41.825392</td>\n",
       "      <td>41.848278</td>\n",
       "      <td>44.832394</td>\n",
       "      <td>0.0</td>\n",
       "      <td>...</td>\n",
       "      <td>2.855637</td>\n",
       "      <td>0.724051</td>\n",
       "      <td>0.940278</td>\n",
       "      <td>1.885846</td>\n",
       "      <td>0.761164</td>\n",
       "      <td>172.367632</td>\n",
       "      <td>3.237304e+00</td>\n",
       "      <td>972.122666</td>\n",
       "      <td>1.000000</td>\n",
       "      <td>1.000000</td>\n",
       "    </tr>\n",
       "    <tr>\n",
       "      <th>max</th>\n",
       "      <td>196.000000</td>\n",
       "      <td>220.000000</td>\n",
       "      <td>206.000000</td>\n",
       "      <td>199.251051</td>\n",
       "      <td>194.583306</td>\n",
       "      <td>219.314712</td>\n",
       "      <td>70.840078</td>\n",
       "      <td>65.373869</td>\n",
       "      <td>68.549603</td>\n",
       "      <td>0.0</td>\n",
       "      <td>...</td>\n",
       "      <td>8.062500</td>\n",
       "      <td>0.791793</td>\n",
       "      <td>0.983404</td>\n",
       "      <td>52.965217</td>\n",
       "      <td>0.861891</td>\n",
       "      <td>1039.179935</td>\n",
       "      <td>3.237304e+00</td>\n",
       "      <td>6627.573049</td>\n",
       "      <td>1.000000</td>\n",
       "      <td>1.000000</td>\n",
       "    </tr>\n",
       "  </tbody>\n",
       "</table>\n",
       "<p>8 rows × 21 columns</p>\n",
       "</div>"
      ],
      "text/plain": [
       "          gmedian     rmedian     bmedian       bmean       gmean       rmean  \\\n",
       "count   48.000000   48.000000   48.000000   48.000000   48.000000   48.000000   \n",
       "mean    85.375000   88.729167   78.093750   84.610492   92.386422   96.407439   \n",
       "std     45.449352   47.122177   49.757033   43.452050   39.462906   42.616796   \n",
       "min     30.000000   26.000000   22.000000   32.128978   42.338912   29.849747   \n",
       "25%     48.750000   51.250000   38.750000   53.761906   64.042341   64.446918   \n",
       "50%     73.500000   77.000000   64.500000   76.187442   86.452664   89.790878   \n",
       "75%    113.750000  124.250000   95.500000   98.518846  112.126748  122.464639   \n",
       "max    196.000000  220.000000  206.000000  199.251051  194.583306  219.314712   \n",
       "\n",
       "            bstd       gstd       rstd  isconvex  ...  aspect_ratio_wh_s  \\\n",
       "count  48.000000  48.000000  48.000000      48.0  ...          48.000000   \n",
       "mean   34.173247  34.563555  34.558759       0.0  ...           2.064357   \n",
       "std    12.790927  13.122619  15.680906       0.0  ...           1.979540   \n",
       "min    11.144862  11.126874  10.130948       0.0  ...           0.027939   \n",
       "25%    24.857223  24.552967  21.189782       0.0  ...           0.691120   \n",
       "50%    33.532140  35.383562  35.727033       0.0  ...           1.070759   \n",
       "75%    41.825392  41.848278  44.832394       0.0  ...           2.855637   \n",
       "max    70.840078  65.373869  68.549603       0.0  ...           8.062500   \n",
       "\n",
       "        extent_s   solidity  aspect_ratio_wh     extent           ed  \\\n",
       "count  48.000000  48.000000        48.000000  48.000000    48.000000   \n",
       "mean    0.582933   0.838429         2.999413   0.675285   136.686054   \n",
       "std     0.189352   0.143401         8.201565   0.140437   155.946587   \n",
       "min     0.077883   0.230295         0.022281   0.157516    30.077179   \n",
       "25%     0.504114   0.771788         0.438363   0.625086    59.296263   \n",
       "50%     0.658127   0.891250         0.887769   0.716582    86.853237   \n",
       "75%     0.724051   0.940278         1.885846   0.761164   172.367632   \n",
       "max     0.791793   0.983404        52.965217   0.861891  1039.179935   \n",
       "\n",
       "          ratio_ell    perimeter  is_cen_inside  is_mce_inside  \n",
       "count  4.800000e+01    48.000000      48.000000      48.000000  \n",
       "mean   3.237304e+00   806.415644       0.937500       0.916667  \n",
       "std    8.975774e-16  1036.940276       0.302911       0.403882  \n",
       "min    3.237304e+00   139.698484      -1.000000      -1.000000  \n",
       "25%    3.237304e+00   256.208151       1.000000       1.000000  \n",
       "50%    3.237304e+00   493.776692       1.000000       1.000000  \n",
       "75%    3.237304e+00   972.122666       1.000000       1.000000  \n",
       "max    3.237304e+00  6627.573049       1.000000       1.000000  \n",
       "\n",
       "[8 rows x 21 columns]"
      ]
     },
     "execution_count": 150,
     "metadata": {},
     "output_type": "execute_result"
    }
   ],
   "source": [
    "df_new.describe()"
   ]
  },
  {
   "cell_type": "code",
   "execution_count": 151,
   "id": "46c08940-93d3-41e7-b55a-6f7ad646de29",
   "metadata": {
    "execution": {
     "iopub.execute_input": "2023-12-12T17:20:07.062641Z",
     "iopub.status.busy": "2023-12-12T17:20:07.062298Z",
     "iopub.status.idle": "2023-12-12T17:20:07.066852Z",
     "shell.execute_reply": "2023-12-12T17:20:07.066111Z",
     "shell.execute_reply.started": "2023-12-12T17:20:07.062620Z"
    }
   },
   "outputs": [],
   "source": [
    "df_new_try = df_new.drop(['area', 'ed', 'perimeter'], axis=1)"
   ]
  },
  {
   "cell_type": "code",
   "execution_count": 152,
   "id": "0fe72656-4d41-44c4-8626-0c1c071956c9",
   "metadata": {
    "execution": {
     "iopub.execute_input": "2023-12-12T17:20:07.754657Z",
     "iopub.status.busy": "2023-12-12T17:20:07.754360Z",
     "iopub.status.idle": "2023-12-12T17:20:07.771234Z",
     "shell.execute_reply": "2023-12-12T17:20:07.770592Z",
     "shell.execute_reply.started": "2023-12-12T17:20:07.754636Z"
    }
   },
   "outputs": [
    {
     "data": {
      "text/html": [
       "<div>\n",
       "<style scoped>\n",
       "    .dataframe tbody tr th:only-of-type {\n",
       "        vertical-align: middle;\n",
       "    }\n",
       "\n",
       "    .dataframe tbody tr th {\n",
       "        vertical-align: top;\n",
       "    }\n",
       "\n",
       "    .dataframe thead th {\n",
       "        text-align: right;\n",
       "    }\n",
       "</style>\n",
       "<table border=\"1\" class=\"dataframe\">\n",
       "  <thead>\n",
       "    <tr style=\"text-align: right;\">\n",
       "      <th></th>\n",
       "      <th>gmedian</th>\n",
       "      <th>rmedian</th>\n",
       "      <th>bmedian</th>\n",
       "      <th>bmean</th>\n",
       "      <th>gmean</th>\n",
       "      <th>rmean</th>\n",
       "      <th>bstd</th>\n",
       "      <th>gstd</th>\n",
       "      <th>rstd</th>\n",
       "      <th>isconvex</th>\n",
       "      <th>aspect_ratio_wh_s</th>\n",
       "      <th>extent_s</th>\n",
       "      <th>solidity</th>\n",
       "      <th>aspect_ratio_wh</th>\n",
       "      <th>extent</th>\n",
       "      <th>ratio_ell</th>\n",
       "      <th>is_cen_inside</th>\n",
       "      <th>is_mce_inside</th>\n",
       "    </tr>\n",
       "  </thead>\n",
       "  <tbody>\n",
       "    <tr>\n",
       "      <th>0</th>\n",
       "      <td>159.0</td>\n",
       "      <td>220.0</td>\n",
       "      <td>113.0</td>\n",
       "      <td>115.037443</td>\n",
       "      <td>161.245059</td>\n",
       "      <td>219.314712</td>\n",
       "      <td>29.171680</td>\n",
       "      <td>27.310695</td>\n",
       "      <td>19.057815</td>\n",
       "      <td>0.0</td>\n",
       "      <td>2.303650</td>\n",
       "      <td>0.784646</td>\n",
       "      <td>0.820970</td>\n",
       "      <td>2.320830</td>\n",
       "      <td>0.789984</td>\n",
       "      <td>3.237304</td>\n",
       "      <td>0.5</td>\n",
       "      <td>1.0</td>\n",
       "    </tr>\n",
       "    <tr>\n",
       "      <th>1</th>\n",
       "      <td>150.0</td>\n",
       "      <td>149.0</td>\n",
       "      <td>155.0</td>\n",
       "      <td>154.293353</td>\n",
       "      <td>147.912176</td>\n",
       "      <td>146.682473</td>\n",
       "      <td>18.354942</td>\n",
       "      <td>19.075097</td>\n",
       "      <td>20.102601</td>\n",
       "      <td>0.0</td>\n",
       "      <td>4.841004</td>\n",
       "      <td>0.448832</td>\n",
       "      <td>0.769425</td>\n",
       "      <td>0.205655</td>\n",
       "      <td>0.451825</td>\n",
       "      <td>3.237304</td>\n",
       "      <td>1.0</td>\n",
       "      <td>-1.0</td>\n",
       "    </tr>\n",
       "    <tr>\n",
       "      <th>2</th>\n",
       "      <td>149.0</td>\n",
       "      <td>141.0</td>\n",
       "      <td>158.0</td>\n",
       "      <td>157.416081</td>\n",
       "      <td>147.710813</td>\n",
       "      <td>140.176188</td>\n",
       "      <td>11.144862</td>\n",
       "      <td>11.465430</td>\n",
       "      <td>11.599858</td>\n",
       "      <td>0.0</td>\n",
       "      <td>2.264574</td>\n",
       "      <td>0.549203</td>\n",
       "      <td>0.772575</td>\n",
       "      <td>0.438555</td>\n",
       "      <td>0.555195</td>\n",
       "      <td>3.237304</td>\n",
       "      <td>1.0</td>\n",
       "      <td>1.0</td>\n",
       "    </tr>\n",
       "    <tr>\n",
       "      <th>3</th>\n",
       "      <td>196.0</td>\n",
       "      <td>178.0</td>\n",
       "      <td>206.0</td>\n",
       "      <td>189.341364</td>\n",
       "      <td>179.771029</td>\n",
       "      <td>163.463858</td>\n",
       "      <td>41.914930</td>\n",
       "      <td>41.903284</td>\n",
       "      <td>39.716842</td>\n",
       "      <td>0.0</td>\n",
       "      <td>3.262548</td>\n",
       "      <td>0.337358</td>\n",
       "      <td>0.741346</td>\n",
       "      <td>0.194310</td>\n",
       "      <td>0.492126</td>\n",
       "      <td>3.237304</td>\n",
       "      <td>1.0</td>\n",
       "      <td>1.0</td>\n",
       "    </tr>\n",
       "    <tr>\n",
       "      <th>4</th>\n",
       "      <td>63.0</td>\n",
       "      <td>79.0</td>\n",
       "      <td>55.0</td>\n",
       "      <td>58.687735</td>\n",
       "      <td>66.942850</td>\n",
       "      <td>80.942669</td>\n",
       "      <td>20.713621</td>\n",
       "      <td>19.271871</td>\n",
       "      <td>17.466285</td>\n",
       "      <td>0.0</td>\n",
       "      <td>2.270833</td>\n",
       "      <td>0.775803</td>\n",
       "      <td>0.983404</td>\n",
       "      <td>0.437788</td>\n",
       "      <td>0.787582</td>\n",
       "      <td>3.237304</td>\n",
       "      <td>1.0</td>\n",
       "      <td>1.0</td>\n",
       "    </tr>\n",
       "  </tbody>\n",
       "</table>\n",
       "</div>"
      ],
      "text/plain": [
       "   gmedian  rmedian  bmedian       bmean       gmean       rmean       bstd  \\\n",
       "0    159.0    220.0    113.0  115.037443  161.245059  219.314712  29.171680   \n",
       "1    150.0    149.0    155.0  154.293353  147.912176  146.682473  18.354942   \n",
       "2    149.0    141.0    158.0  157.416081  147.710813  140.176188  11.144862   \n",
       "3    196.0    178.0    206.0  189.341364  179.771029  163.463858  41.914930   \n",
       "4     63.0     79.0     55.0   58.687735   66.942850   80.942669  20.713621   \n",
       "\n",
       "        gstd       rstd  isconvex  aspect_ratio_wh_s  extent_s  solidity  \\\n",
       "0  27.310695  19.057815       0.0           2.303650  0.784646  0.820970   \n",
       "1  19.075097  20.102601       0.0           4.841004  0.448832  0.769425   \n",
       "2  11.465430  11.599858       0.0           2.264574  0.549203  0.772575   \n",
       "3  41.903284  39.716842       0.0           3.262548  0.337358  0.741346   \n",
       "4  19.271871  17.466285       0.0           2.270833  0.775803  0.983404   \n",
       "\n",
       "   aspect_ratio_wh    extent  ratio_ell  is_cen_inside  is_mce_inside  \n",
       "0         2.320830  0.789984   3.237304            0.5            1.0  \n",
       "1         0.205655  0.451825   3.237304            1.0           -1.0  \n",
       "2         0.438555  0.555195   3.237304            1.0            1.0  \n",
       "3         0.194310  0.492126   3.237304            1.0            1.0  \n",
       "4         0.437788  0.787582   3.237304            1.0            1.0  "
      ]
     },
     "execution_count": 152,
     "metadata": {},
     "output_type": "execute_result"
    }
   ],
   "source": [
    "df_new_try.head()"
   ]
  },
  {
   "cell_type": "code",
   "execution_count": 153,
   "id": "9369c468-8277-4d56-b92c-9ac14ce06714",
   "metadata": {
    "execution": {
     "iopub.execute_input": "2023-12-12T17:20:09.091516Z",
     "iopub.status.busy": "2023-12-12T17:20:09.091215Z",
     "iopub.status.idle": "2023-12-12T17:20:09.099612Z",
     "shell.execute_reply": "2023-12-12T17:20:09.098854Z",
     "shell.execute_reply.started": "2023-12-12T17:20:09.091497Z"
    }
   },
   "outputs": [
    {
     "name": "stdout",
     "output_type": "stream",
     "text": [
      "<class 'pandas.core.frame.DataFrame'>\n",
      "RangeIndex: 48 entries, 0 to 47\n",
      "Data columns (total 18 columns):\n",
      " #   Column             Non-Null Count  Dtype  \n",
      "---  ------             --------------  -----  \n",
      " 0   gmedian            48 non-null     float64\n",
      " 1   rmedian            48 non-null     float64\n",
      " 2   bmedian            48 non-null     float64\n",
      " 3   bmean              48 non-null     float64\n",
      " 4   gmean              48 non-null     float64\n",
      " 5   rmean              48 non-null     float64\n",
      " 6   bstd               48 non-null     float64\n",
      " 7   gstd               48 non-null     float64\n",
      " 8   rstd               48 non-null     float64\n",
      " 9   isconvex           48 non-null     float64\n",
      " 10  aspect_ratio_wh_s  48 non-null     float64\n",
      " 11  extent_s           48 non-null     float64\n",
      " 12  solidity           48 non-null     float64\n",
      " 13  aspect_ratio_wh    48 non-null     float64\n",
      " 14  extent             48 non-null     float64\n",
      " 15  ratio_ell          48 non-null     float64\n",
      " 16  is_cen_inside      48 non-null     float64\n",
      " 17  is_mce_inside      48 non-null     float64\n",
      "dtypes: float64(18)\n",
      "memory usage: 6.9 KB\n"
     ]
    }
   ],
   "source": [
    "df_new_try.info()"
   ]
  },
  {
   "cell_type": "code",
   "execution_count": 154,
   "id": "62c56b63-3032-4573-b2da-f0beb0cbc956",
   "metadata": {
    "execution": {
     "iopub.execute_input": "2023-12-12T17:20:10.214418Z",
     "iopub.status.busy": "2023-12-12T17:20:10.214027Z",
     "iopub.status.idle": "2023-12-12T17:20:10.584500Z",
     "shell.execute_reply": "2023-12-12T17:20:10.583853Z",
     "shell.execute_reply.started": "2023-12-12T17:20:10.214395Z"
    }
   },
   "outputs": [
    {
     "data": {
      "image/png": "[encoded data removed]",
      "text/plain": [
       "<Figure size 640x480 with 1 Axes>"
      ]
     },
     "metadata": {},
     "output_type": "display_data"
    }
   ],
   "source": [
    "from sklearn.cluster import KMeans\n",
    "cs = []\n",
    "for i in range(1, 11):\n",
    "    kmeans = KMeans(n_clusters = i, init = 'k-means++', max_iter = 300, n_init = 10, random_state = 0)\n",
    "    kmeans.fit(df_new_try)\n",
    "    cs.append(kmeans.inertia_)\n",
    "plt.plot(range(1, 11), cs)\n",
    "plt.title('The Elbow Method')\n",
    "plt.xlabel('Number of clusters')\n",
    "plt.ylabel('CS')\n",
    "plt.show()"
   ]
  },
  {
   "cell_type": "code",
   "execution_count": 155,
   "id": "50ea520c-8b7d-4139-ae2e-035be3bb9bdb",
   "metadata": {
    "execution": {
     "iopub.execute_input": "2023-12-12T17:20:11.273478Z",
     "iopub.status.busy": "2023-12-12T17:20:11.272917Z",
     "iopub.status.idle": "2023-12-12T17:20:11.291268Z",
     "shell.execute_reply": "2023-12-12T17:20:11.290492Z",
     "shell.execute_reply.started": "2023-12-12T17:20:11.273449Z"
    }
   },
   "outputs": [
    {
     "name": "stdout",
     "output_type": "stream",
     "text": [
      "Result: 5 out of 48 samples were correctly labeled.\n",
      "Accuracy score: 0.10\n"
     ]
    }
   ],
   "source": [
    "kmeans = KMeans(n_clusters = 6,random_state=0, n_init=\"auto\")\n",
    "kmeans.fit(df_new_try)\n",
    "labels = kmeans.labels_\n",
    "correct_labels = sum(y == labels)\n",
    "\n",
    "print(\"Result: %d out of %d samples were correctly labeled.\" % (correct_labels, y.size))\n",
    "\n",
    "print('Accuracy score: {0:0.2f}'. format(correct_labels/float(y.size)))"
   ]
  },
  {
   "cell_type": "code",
   "execution_count": 156,
   "id": "31ff2087-88d6-427b-9207-f5bd002db882",
   "metadata": {
    "execution": {
     "iopub.execute_input": "2023-12-12T17:20:11.845077Z",
     "iopub.status.busy": "2023-12-12T17:20:11.844494Z",
     "iopub.status.idle": "2023-12-12T17:20:11.848326Z",
     "shell.execute_reply": "2023-12-12T17:20:11.847797Z",
     "shell.execute_reply.started": "2023-12-12T17:20:11.845046Z"
    }
   },
   "outputs": [
    {
     "name": "stdout",
     "output_type": "stream",
     "text": [
      "['gmedian', 'rmedian', 'bmedian', 'bmean', 'gmean', 'rmean', 'bstd', 'gstd', 'rstd', 'isconvex', 'aspect_ratio_wh_s', 'extent_s', 'solidity', 'aspect_ratio_wh', 'extent', 'ratio_ell', 'is_cen_inside', 'is_mce_inside']\n"
     ]
    }
   ],
   "source": [
    "# y\n",
    "column_names = list(df_new_try.columns)\n",
    "print(column_names)"
   ]
  },
  {
   "cell_type": "code",
   "execution_count": 157,
   "id": "dbccdd9b-3fdb-45e3-903d-05c2df5ecc30",
   "metadata": {
    "execution": {
     "iopub.execute_input": "2023-12-12T17:20:12.636629Z",
     "iopub.status.busy": "2023-12-12T17:20:12.636283Z",
     "iopub.status.idle": "2023-12-12T17:20:13.220322Z",
     "shell.execute_reply": "2023-12-12T17:20:13.219641Z",
     "shell.execute_reply.started": "2023-12-12T17:20:12.636607Z"
    }
   },
   "outputs": [
    {
     "data": {
      "image/png": "[encoded data removed]",
      "text/plain": [
       "<Figure size 1500x1500 with 1 Axes>"
      ]
     },
     "metadata": {},
     "output_type": "display_data"
    }
   ],
   "source": [
    "\n",
    "X = df_new_try\n",
    "y = y\n",
    "\n",
    "dtree = DecisionTreeClassifier()\n",
    "dtree = dtree.fit(X, y)\n",
    "\n",
    "plt.figure(figsize=(15,15))\n",
    "tree.plot_tree(dtree, feature_names = column_names, fontsize=10)\n",
    "plt.show()"
   ]
  }
 ],
 "metadata": {
  "kernelspec": {
   "display_name": "Python 3 (ipykernel)",
   "language": "python",
   "name": "python3"
  },
  "language_info": {
   "codemirror_mode": {
    "name": "ipython",
    "version": 3
   },
   "file_extension": ".py",
   "mimetype": "text/x-python",
   "name": "python",
   "nbconvert_exporter": "python",
   "pygments_lexer": "ipython3",
   "version": "3.11.5"
  }
 },
 "nbformat": 4,
 "nbformat_minor": 5
}
